{
 "cells": [
  {
   "cell_type": "markdown",
   "metadata": {},
   "source": [
    "# Libraries"
   ]
  },
  {
   "cell_type": "code",
   "execution_count": 33,
   "metadata": {},
   "outputs": [],
   "source": [
    "import numpy as np\n",
    "import sympy as sp\n",
    "import sympy.physics.quantum as sq\n",
    "import sympy.physics.quantum.qubit as sqq\n",
    "import sympy.physics.quantum.gate as sqg\n",
    "\n",
    "import cvxpy as cp\n",
    "\n",
    "import matplotlib.pyplot as plt\n",
    "import networkx as nx\n",
    "\n",
    "sp.init_printing(use_latex='mathjax')\n",
    "from IPython.display import display"
   ]
  },
  {
   "cell_type": "markdown",
   "metadata": {
    "heading_collapsed": true
   },
   "source": [
    "## Extending the braket library to include orthogonality"
   ]
  },
  {
   "cell_type": "code",
   "execution_count": 34,
   "metadata": {
    "hidden": true
   },
   "outputs": [],
   "source": [
    "class onStruct:\n",
    "    G = nx.Graph()\n",
    "\n",
    "class onKet(sq.Ket,onStruct):\n",
    "    def _eval_innerproduct(self,bra,**hints):\n",
    "        #Check if the innerproduct is with yourself, then set 1\n",
    "        if sq.Dagger(bra) == self:\n",
    "            return sp.Integer(1)\n",
    "        #Else, if the innerproduct is with a neighbor from the graph, set 0\n",
    "        elif sq.Dagger(bra) in G[self]:\n",
    "            return sp.Integer(0)\n",
    "        #Else, do nothing; not enough information\n",
    "    \n",
    "    @classmethod\n",
    "    def set_on_rel(cls,givenG):\n",
    "        cls.G=givenG\n",
    "    \n",
    "    @classmethod\n",
    "    def dual_class(self):\n",
    "        return onBra\n",
    "\n",
    "    \n",
    "class onBra(sq.Bra,onStruct):\n",
    "    @classmethod\n",
    "    def dual_class(self):\n",
    "        return onKet"
   ]
  },
  {
   "cell_type": "code",
   "execution_count": 35,
   "metadata": {
    "hidden": true
   },
   "outputs": [],
   "source": [
    "class bKet(sq.Ket):\n",
    "    \n",
    "    #total number of kets (automatically increases as new instances are initialised)\n",
    "    totalKets=0\n",
    "    \n",
    "    #this method automates the increase\n",
    "    @classmethod\n",
    "    def _eval_args(cls,args):\n",
    "        #validate input type\n",
    "        if not isinstance(args[0],int):\n",
    "            raise ValueError(\"Integer expected in the argument, got: %r\"%args[0])\n",
    "\n",
    "        #if a ket |5> is initialised, the dimension is assumed to be 6 since we have |0>,|1>,...|5>\n",
    "        if int(args[0])+1 > cls.totalKets:\n",
    "            cls.totalKets=args[0]+1\n",
    "        \n",
    "        #pass control back to the base class\n",
    "        return sq.Ket._eval_args(args) \n",
    "    \n",
    "    #Could not find a way of using just one function; need to go through the two\n",
    "    #based on a combination of the qubit implementation and the \n",
    "    def _represent_default_basis(s,**options):\n",
    "        return s._represent_bKet(None,**options) #syntax taken from the Qubit library\n",
    "    \n",
    "    def _represent_bKet(s,basis,**options): #_represent_default_basis\n",
    "        a=np.zeros(s.__class__.totalKets,dtype=int)\n",
    "        a[s.label[0]]=1\n",
    "        return sp.Matrix(a)\n",
    "    \n",
    "    @classmethod\n",
    "    def set_dimension(cls,arg):\n",
    "        cls.totalKets=arg\n",
    "    \n",
    "    def _eval_innerproduct(self,bra,**hints):\n",
    "        #Check if the innerproduct is with yourself, then set 1\n",
    "        if sq.Dagger(bra) == self:\n",
    "            return sp.Integer(1)\n",
    "        #Else, if the innerproduct is with a neighbor from the graph, set 0\n",
    "        else:\n",
    "            return sp.Integer(0)\n",
    "        #Else, do nothing; not enough information\n",
    "    \n",
    "\n",
    "    @classmethod\n",
    "    def dual_class(self):\n",
    "        return bBra\n",
    "\n",
    "    \n",
    "class bBra(sq.Bra):\n",
    "    # @classmethod\n",
    "    # def _eval_args(cls,args):\n",
    "    #     return args\n",
    "    \n",
    "    @classmethod\n",
    "    def dual_class(cls):\n",
    "        return bKet"
   ]
  },
  {
   "cell_type": "markdown",
   "metadata": {
    "heading_collapsed": true,
    "hidden": true
   },
   "source": [
    "### Debugging | representation example"
   ]
  },
  {
   "cell_type": "code",
   "execution_count": null,
   "metadata": {
    "hidden": true
   },
   "outputs": [],
   "source": [
    "class SzUpKet(sq.Ket):\n",
    "    def _represent_SzUpKet(s,basis,**options):\n",
    "        return sp.Matrix([1,0])\n",
    "    \n",
    "#     def _represent_SzOp(s,basis,**options):\n",
    "#         return sp.Matrix([1,0])\n",
    "\n",
    "class SzOp(sq.Operator):\n",
    "    pass\n",
    "\n",
    "sz = SzOp('Sz')\n",
    "up = SzUpKet('up')\n",
    "sq.represent(up,basis=SzUpKet) #,basis=sz)"
   ]
  },
  {
   "cell_type": "markdown",
   "metadata": {
    "heading_collapsed": true,
    "hidden": true
   },
   "source": [
    "### Testing | Dimension increasing?"
   ]
  },
  {
   "cell_type": "code",
   "execution_count": null,
   "metadata": {
    "hidden": true
   },
   "outputs": [],
   "source": [
    "# class bKet(sq.Ket):\n",
    "    \n",
    "#     #total number of kets (automatically increases as new instances are initialised)\n",
    "#     totalKets=0\n",
    "    \n",
    "#     #this method automates the increase\n",
    "#     @classmethod\n",
    "#     def _eval_args(cls,args):\n",
    "#         #validate input type\n",
    "#         if not isinstance(args[0],int):\n",
    "#             raise ValueError(\"Integer expected in the argument, got: %r\"%args[0])\n",
    "\n",
    "#         #if a ket |5> is initialised, the dimension is assumed to be 6 since we have |0>,|1>,...|5>\n",
    "#         if int(args[0])+1 > cls.totalKets:\n",
    "#             cls.totalKets=args[0]+1\n",
    "        \n",
    "#         #pass control back to the base class\n",
    "#         return sq.Ket._eval_args(args) \n",
    "    \n",
    "#     #Could not find a way of using just one function; need to go through the two\n",
    "#     #based on a combination of the qubit implementation and the \n",
    "#     def _represent_default_basis(s,**options):\n",
    "#         return s._represent_bKet(None,**options) #syntax taken from the Qubit library\n",
    "    \n",
    "#     def _represent_bKet(s,basis,**options): #_represent_default_basis\n",
    "#         a=np.zeros(s.__class__.totalKets,dtype=int)\n",
    "#         a[s.label[0]]=1\n",
    "#         return sp.Matrix(a)\n",
    "    \n",
    "#     @classmethod\n",
    "#     def set_dimension(cls,arg):\n",
    "#         cls.totalKets=arg\n",
    "    \n",
    "#     def _eval_innerproduct(self,bra,**hints):\n",
    "#         #Check if the innerproduct is with yourself, then set 1\n",
    "#         if sq.Dagger(bra) == self:\n",
    "#             return sp.Integer(1)\n",
    "#         #Else, if the innerproduct is with a neighbor from the graph, set 0\n",
    "#         else:\n",
    "#             return sp.Integer(0)\n",
    "#         #Else, do nothing; not enough information\n",
    "    \n",
    "\n",
    "#     @classmethod\n",
    "#     def dual_class(self):\n",
    "#         return bBra\n",
    "\n",
    "    \n",
    "# class bBra(sq.Bra):\n",
    "#     # @classmethod\n",
    "#     # def _eval_args(cls,args):\n",
    "#     #     return args\n",
    "    \n",
    "#     @classmethod\n",
    "#     def dual_class(cls):\n",
    "#         return bKet"
   ]
  },
  {
   "cell_type": "code",
   "execution_count": null,
   "metadata": {
    "hidden": true
   },
   "outputs": [],
   "source": [
    "a=bKet(0)\n",
    "\n",
    "b=a*sq.Dagger(a)\n",
    "\n",
    "print(bKet.totalKets)\n",
    "sq.represent(a)\n",
    "\n",
    "c=bKet(3);\n",
    "sq.represent(a)\n",
    "sq.represent(b)\n",
    "sq.represent(c)"
   ]
  },
  {
   "cell_type": "code",
   "execution_count": null,
   "metadata": {
    "hidden": true
   },
   "outputs": [],
   "source": [
    "a=bKet(0); a"
   ]
  },
  {
   "cell_type": "code",
   "execution_count": null,
   "metadata": {
    "hidden": true
   },
   "outputs": [],
   "source": [
    "sq.represent(a)"
   ]
  },
  {
   "cell_type": "code",
   "execution_count": null,
   "metadata": {
    "hidden": true
   },
   "outputs": [],
   "source": [
    "b=bKet(1); b"
   ]
  },
  {
   "cell_type": "code",
   "execution_count": null,
   "metadata": {
    "hidden": true
   },
   "outputs": [],
   "source": [
    "sq.represent(b)"
   ]
  },
  {
   "cell_type": "code",
   "execution_count": null,
   "metadata": {
    "hidden": true
   },
   "outputs": [],
   "source": [
    "sq.represent(a)"
   ]
  },
  {
   "cell_type": "code",
   "execution_count": null,
   "metadata": {
    "hidden": true
   },
   "outputs": [],
   "source": [
    "c=bKet(3); c"
   ]
  },
  {
   "cell_type": "code",
   "execution_count": null,
   "metadata": {
    "hidden": true
   },
   "outputs": [],
   "source": [
    "sq.represent(a)"
   ]
  },
  {
   "cell_type": "markdown",
   "metadata": {
    "heading_collapsed": true
   },
   "source": [
    "## Extending the tensor product functionality—tsimp and tdsimp"
   ]
  },
  {
   "cell_type": "code",
   "execution_count": 36,
   "metadata": {
    "hidden": true
   },
   "outputs": [],
   "source": [
    "\n",
    "def powerDrop(expr):\n",
    "    if isinstance(expr,sp.Pow): #TODO: make sure the base is not too complex\n",
    "        # print(\"PowerEncountered\")\n",
    "        if expr.exp>=2:\n",
    "            # print(\"glaba\")\n",
    "            # display(expr.base)\n",
    "            _=sq.qapply(sp.Mul(expr.base,expr.base))\n",
    "            if expr.exp>2:\n",
    "                return powerDrop(_*sp.Pow(expr.base,expr.exp-2))\n",
    "            else:\n",
    "                return _\n",
    "        else:\n",
    "            return expr #autoDropDim(sp.Mul(expr.base,expr.base))\n",
    "    else:\n",
    "        if expr.has(sp.Pow):\n",
    "            #if it is a sum or a product, run this function for each part and then combine the parts; return the result\n",
    "            if isinstance(expr,sp.Mul) or isinstance(expr,sp.Add) or isinstance(expr,sq.TensorProduct):\n",
    "                new_args=[] #list(expr.args)\n",
    "                for _ in expr.args:\n",
    "                    new_args.append(powerDrop(_))\n",
    "                if isinstance(expr,sp.Mul):        \n",
    "                    return sp.Mul(*new_args)\n",
    "                elif isinstance(expr,sp.Add):\n",
    "                    return sp.Add(*new_args)  \n",
    "                elif isinstance(expr,sq.TensorProduct):\n",
    "                    return sq.TensorProduct(*new_args)  \n",
    "\n",
    "            else:\n",
    "                return expr\n",
    "            #There would be no else here because tensor product simp would have removed that part\n",
    "        else:\n",
    "            return expr        \n",
    "    \n",
    "def autoDropDim(expr):\n",
    "    #print(\"Expression\")\n",
    "    #if isinstance(expr,sp.Mul):\n",
    "        #print(\"type:multiplier\")\n",
    "    #display(expr)\n",
    "    \n",
    "    \n",
    "    if isinstance(expr,sq.TensorProduct):\n",
    "        new_args=[]\n",
    "        for _ in expr.args:\n",
    "            #display(_)\n",
    "            #print(type(_))\n",
    "            if _ != sp.Integer(1):\n",
    "            #if not isinstance(_,core.numbers.One):\n",
    "                new_args.append(_)\n",
    "        #print(\"TensorProduct with %d non-ones in the tensor product\"%len(new_args))\n",
    "        if(len(new_args)==0):\n",
    "            return sp.Integer(1)\n",
    "        else:\n",
    "            return sq.TensorProduct(*new_args)\n",
    "    else:\n",
    "        if expr.has(sq.TensorProduct):\n",
    "            #if it is a sum or a product, run this function for each part and then combine the parts; return the result\n",
    "            if isinstance(expr,sp.Mul) or isinstance(expr,sp.Add):\n",
    "                new_args=[] #list(expr.args)\n",
    "                for _ in expr.args:\n",
    "                    new_args.append(autoDropDim(_))\n",
    "                if isinstance(expr,sp.Mul):        \n",
    "                    return sp.Mul(*new_args)\n",
    "                elif isinstance(expr,sp.Add):\n",
    "                    return sp.Add(*new_args)  \n",
    "                \n",
    "            #There would be no else here because tensor product simp would have removed that part\n",
    "        else:\n",
    "            return expr #when the expression is just an integer or some such\n",
    "\n",
    "\n",
    "        \n",
    "def tsimp(e):\n",
    "    return sq.qapply(powerDrop(sq.tensorproduct.tensor_product_simp(sq.qapply(e)).doit()))\n",
    "\n",
    "def tdsimp(e):\n",
    "    return autoDropDim(sq.qapply(powerDrop(autoDropDim(sq.tensorproduct.tensor_product_simp(sq.qapply(e)).doit()))))\n",
    "    #return autoDropDim(sq.tensorproduct.tensor_product_simp_Mul(e).doit())\n",
    "    #return autoDropDim(sq.tensorproduct.tensor_product_simp_Mul(sq.qapply(e)).doit())\n",
    "    #return autoDropDim(sq.tensorproduct.tensor_product_simp(e).doit())"
   ]
  },
  {
   "cell_type": "markdown",
   "metadata": {
    "heading_collapsed": true
   },
   "source": [
    "## Find Coeff was not reliable"
   ]
  },
  {
   "cell_type": "code",
   "execution_count": 37,
   "metadata": {
    "hidden": true
   },
   "outputs": [],
   "source": [
    "# depth=0\n",
    "# depthThresh=20\n",
    "\n",
    "def findCoeff(obj,lett):\n",
    "#     global depth\n",
    "    \n",
    "#     print(\"Parent object:\")\n",
    "#     display(obj)\n",
    "    \n",
    "    if(obj==None):\n",
    "#         print(\"coefficent is zero\")\n",
    "        return 0\n",
    "    elif not (isinstance(obj,sp.Mul) or isinstance(obj,sp.Add)):        \n",
    "        #the coefficient may be one but we couldn't see it earlier\n",
    "        return obj.coeff(lett)\n",
    "    else:\n",
    "        #try to find the coefficient directly        \n",
    "        result=obj.coeff(lett)\n",
    "        #Did not work? \n",
    "        if(result==0):\n",
    "            #try for each segment\n",
    "            for _ in obj.args:\n",
    "#                 print(\"child:\")\n",
    "#                 display(_)\n",
    "                result=_.coeff(lett)\n",
    "#                 print(\"coefficient of child:\",result)\n",
    "                \n",
    "                #still did not work?\n",
    "                if(result==0):\n",
    "                    #try recursing\n",
    "                    result = findCoeff(_,lett)    \n",
    "                \n",
    "                #found? Stop searching\n",
    "                if(result!=0):\n",
    "                    break\n",
    "                    #return result\n",
    "\n",
    "        #return whatever was found | worked\n",
    "        return result\n",
    "\n"
   ]
  },
  {
   "cell_type": "markdown",
   "metadata": {
    "heading_collapsed": true
   },
   "source": [
    "# Swap KCBS | Playfield "
   ]
  },
  {
   "cell_type": "markdown",
   "metadata": {
    "heading_collapsed": true,
    "hidden": true
   },
   "source": [
    "## Inputs"
   ]
  },
  {
   "cell_type": "code",
   "execution_count": null,
   "metadata": {
    "hidden": true
   },
   "outputs": [],
   "source": [
    "class inputs:\n",
    "    graphSize = 5\n",
    "    p = 1/np.sqrt(5)*np.array([1,1,1,1,1])"
   ]
  },
  {
   "cell_type": "markdown",
   "metadata": {
    "heading_collapsed": true,
    "hidden": true
   },
   "source": [
    "## The Sympy Part | playground"
   ]
  },
  {
   "cell_type": "code",
   "execution_count": null,
   "metadata": {
    "hidden": true
   },
   "outputs": [],
   "source": [
    "k0 = sq.Ket('φ')\n",
    "k1 = sq.Ket('ψ')\n",
    "superposition = k0+k1; superposition"
   ]
  },
  {
   "cell_type": "code",
   "execution_count": null,
   "metadata": {
    "hidden": true
   },
   "outputs": [],
   "source": [
    "inner_prod = sq.Dagger(superposition)*superposition; inner_prod"
   ]
  },
  {
   "cell_type": "code",
   "execution_count": null,
   "metadata": {
    "hidden": true
   },
   "outputs": [],
   "source": [
    "sq.qapply(inner_prod)"
   ]
  },
  {
   "cell_type": "code",
   "execution_count": null,
   "metadata": {
    "hidden": true
   },
   "outputs": [],
   "source": [
    "density = sq.qapply(superposition*sq.Dagger(superposition)); density"
   ]
  },
  {
   "cell_type": "code",
   "execution_count": null,
   "metadata": {
    "hidden": true
   },
   "outputs": [],
   "source": [
    "qubit_state = sqq.Qubit('00'); qubit_state"
   ]
  },
  {
   "cell_type": "code",
   "execution_count": null,
   "metadata": {
    "hidden": true
   },
   "outputs": [],
   "source": [
    "isinstance(qubit_state,sq.State)"
   ]
  },
  {
   "cell_type": "code",
   "execution_count": null,
   "metadata": {
    "hidden": true
   },
   "outputs": [],
   "source": [
    "gate_operator = sqg.HadamardGate(0); gate_operator"
   ]
  },
  {
   "cell_type": "code",
   "execution_count": null,
   "metadata": {
    "hidden": true
   },
   "outputs": [],
   "source": [
    "isinstance(gate_operator,sq.Operator)"
   ]
  },
  {
   "cell_type": "code",
   "execution_count": null,
   "metadata": {
    "hidden": true
   },
   "outputs": [],
   "source": [
    "\n",
    "a=sqq.Qubit(0)\n",
    "b=sqq.Qubit(1)\n",
    "\n",
    "d = sq.qapply(sq.Dagger(a)*b).doit(); d"
   ]
  },
  {
   "cell_type": "markdown",
   "metadata": {
    "heading_collapsed": true,
    "hidden": true
   },
   "source": [
    "### Playing with classes"
   ]
  },
  {
   "cell_type": "code",
   "execution_count": null,
   "metadata": {
    "hidden": true
   },
   "outputs": [],
   "source": [
    "class A:\n",
    "    gla=1\n",
    "\n",
    "class B:\n",
    "    glaba=3\n",
    "    \n",
    "class C(B,A):\n",
    "    glow=4\n",
    "\n",
    "c=C()\n",
    "\n",
    "print(isinstance(c,A),isinstance(c,B),isinstance(c,C))\n"
   ]
  },
  {
   "cell_type": "markdown",
   "metadata": {
    "heading_collapsed": true,
    "hidden": true
   },
   "source": [
    "### Kishor meets the class"
   ]
  },
  {
   "cell_type": "code",
   "execution_count": null,
   "metadata": {
    "hidden": true
   },
   "outputs": [],
   "source": [
    "class Person:\n",
    "    name=\"blank\"\n",
    "    \n",
    "    def set_name(self,arg):\n",
    "        self.name = arg\n",
    "    \n",
    "    @property\n",
    "    def myName(self):\n",
    "        return self.name\n",
    "\n",
    "    def get_name(self):\n",
    "        return self.name\n",
    "    \n",
    "Kishor = Person() \n",
    "Kishor.set_name(\"Bharti\")\n",
    "\n",
    "M = Person()\n",
    "M.set_name(\"M\")\n",
    "\n",
    "\n",
    "\n",
    "print(M.myName, Kishor.myName, M.get_name() )\n",
    "\n",
    "print(M.myName,Kishor.myName)"
   ]
  },
  {
   "cell_type": "code",
   "execution_count": null,
   "metadata": {
    "hidden": true
   },
   "outputs": [],
   "source": [
    "class Person:\n",
    "    name=\"blank\"\n",
    "    compatibility=\"\"\n",
    "    \n",
    "    def set_name(self,arg):\n",
    "        self.name = arg\n",
    "    \n",
    "    @property\n",
    "    def myName(self):\n",
    "        return self.name\n",
    "    \n",
    "    @classmethod\n",
    "    def set_comp(cls,arg):\n",
    "        cls.compatibility=arg\n",
    "        \n",
    "    @classmethod\n",
    "    def get_comp(cls):\n",
    "        return cls.compatibility\n",
    "        \n",
    "    @property\n",
    "    def comp(self):\n",
    "        return self.compatibility\n",
    "    \n",
    "Kishor = Person() \n",
    "Kishor.set_name(\"Bharti\")\n",
    "\n",
    "M = Person()\n",
    "M.set_name(\"M\")\n",
    "\n",
    "Person.set_comp(\"M hates K\")\n",
    "print(Person.get_comp())\n",
    "\n",
    "print(M.myName,Kishor.myName)\n",
    "\n",
    "print(M.comp,Kishor.comp)"
   ]
  },
  {
   "cell_type": "code",
   "execution_count": null,
   "metadata": {
    "hidden": true
   },
   "outputs": [],
   "source": [
    "class A:\n",
    "    aVal=\"blank\"\n",
    "    \n",
    "    @property\n",
    "    def myVal(self):\n",
    "        return self.aVal\n",
    "\n",
    "class C:\n",
    "    cVal=\"blank3\"\n",
    "    \n",
    "    @property\n",
    "    def myVal3(self):\n",
    "        return self.cVal\n",
    "    \n",
    "class B(A,C):\n",
    "    bVal=\"blank2\"\n",
    "    \n",
    "    @property\n",
    "    def myVal2(self):\n",
    "        return self.bVal\n",
    "    \n",
    "a = B()\n",
    "\n",
    "print(a.myVal2,a.myVal,a.myVal3)"
   ]
  },
  {
   "cell_type": "markdown",
   "metadata": {
    "heading_collapsed": true,
    "hidden": true
   },
   "source": [
    "### Preliminary implementation of orthogonormal kets (uses labels)"
   ]
  },
  {
   "cell_type": "code",
   "execution_count": null,
   "metadata": {
    "hidden": true
   },
   "outputs": [],
   "source": [
    "class onKet(sq.Ket):\n",
    "#     a=1\n",
    "    \n",
    "    #@classmethod\n",
    "    #this @classmethod descriptor was killing it\n",
    "    #it was sending the class in \"self\" instead of the instance in \"self\"\n",
    "    #makes sense now\n",
    "    #I can perhaps use this to set orthogonality relations a little more generally\n",
    "    def _eval_innerproduct(self,bra,**hints):\n",
    "        #print(self.label,bra.label)\n",
    "        if self.label == bra.label:\n",
    "            return sp.Integer(1)\n",
    "        else:\n",
    "            return sp.Integer(0)\n",
    "    \n",
    "    @classmethod\n",
    "    def dual_class(self):\n",
    "        return onBra\n",
    "    @property\n",
    "    def iAm(self):\n",
    "        return self.label\n",
    "    \n",
    "class onBra(sq.Bra):\n",
    "#     a=2\n",
    "\n",
    "#     @classmethod\n",
    "#     def _eval_innerproduct(self,ket,**hints):\n",
    "#         if self.label == ket.label:\n",
    "#             return sp.Integer(1)\n",
    "#         else:\n",
    "#             return sp.Integer(0)\n",
    "    \n",
    "    @classmethod\n",
    "    def dual_class(self):\n",
    "        return onKet"
   ]
  },
  {
   "cell_type": "code",
   "execution_count": null,
   "metadata": {
    "hidden": true
   },
   "outputs": [],
   "source": [
    "a=onKet(0)\n",
    "b=onKet(1)"
   ]
  },
  {
   "cell_type": "code",
   "execution_count": null,
   "metadata": {
    "hidden": true
   },
   "outputs": [],
   "source": [
    "c=a+b; c"
   ]
  },
  {
   "cell_type": "code",
   "execution_count": null,
   "metadata": {
    "hidden": true
   },
   "outputs": [],
   "source": [
    "sq.qapply(sq.Dagger(b)*a).doit()"
   ]
  },
  {
   "cell_type": "code",
   "execution_count": null,
   "metadata": {
    "hidden": true
   },
   "outputs": [],
   "source": [
    "d=sq.Dagger(c)*b\n",
    "sq.qapply(d).doit()"
   ]
  },
  {
   "cell_type": "markdown",
   "metadata": {
    "heading_collapsed": true,
    "hidden": true
   },
   "source": [
    "### Orthogonal Ket, general orthogonality relation"
   ]
  },
  {
   "cell_type": "code",
   "execution_count": null,
   "metadata": {
    "hidden": true
   },
   "outputs": [],
   "source": [
    "class onStruct:\n",
    "    G = nx.Graph()\n",
    "\n",
    "class onKet(sq.Ket,onStruct):\n",
    "#     a=1\n",
    "    #@classmethod\n",
    "    #this @classmethod descriptor was killing it\n",
    "    #it was sending the class in \"self\" instead of the instance in \"self\"\n",
    "    #makes sense now\n",
    "    #I can perhaps use this to set orthogonality relations a little more generally\n",
    "    def _eval_innerproduct(self,bra,**hints):\n",
    "        #print(self.label,bra.label)        \n",
    "        if sq.Dagger(bra) == self:\n",
    "        #if self.label == bra.label:\n",
    "            return sp.Integer(1)\n",
    "        elif sq.Dagger(bra) in G[self]:\n",
    "            return sp.Integer(0)\n",
    "    \n",
    "    @classmethod\n",
    "    def set_on_rel(cls,givenG):\n",
    "        cls.G=givenG\n",
    "    \n",
    "    @classmethod\n",
    "    def dual_class(self):\n",
    "        return onBra\n",
    "\n",
    "    \n",
    "class onBra(sq.Bra,onStruct):\n",
    "#     a=2\n",
    "\n",
    "#     @classmethod\n",
    "#     def _eval_innerproduct(self,ket,**hints):\n",
    "#         if self.label == ket.label:\n",
    "#             return sp.Integer(1)\n",
    "#         else:\n",
    "#             return sp.Integer(0)    \n",
    "    @classmethod\n",
    "    def dual_class(self):\n",
    "        return onKet"
   ]
  },
  {
   "cell_type": "code",
   "execution_count": null,
   "metadata": {
    "hidden": true
   },
   "outputs": [],
   "source": [
    "#define the kets\n",
    "a=onKet(1)\n",
    "b=onKet(2)\n",
    "c=onKet(3)\n",
    "d=onKet(4)\n",
    "\n",
    "#define the orthogonality relation using a graph (edges mean orthogonal)\n",
    "G = nx.Graph()\n",
    "G.add_nodes_from([a,b,c,d])\n",
    "G.add_edges_from([[a,b],[b,c],[c,d],[d,a]])\n",
    "\n",
    "#Add this graph to the class\n",
    "onKet.set_on_rel(G)\n",
    "\n",
    "#test\n",
    "s1 = (a+b+c)/sp.sqrt(3)\n",
    "s2 = (b+c+d)/sp.sqrt(3)\n",
    "\n",
    "d = sq.Dagger(s1)*s2\n",
    "\n",
    "#simplify\n",
    "sq.qapply(d).doit()"
   ]
  },
  {
   "cell_type": "code",
   "execution_count": null,
   "metadata": {
    "hidden": true
   },
   "outputs": [],
   "source": [
    "#plot the graph for fun\n",
    "nx.draw(G, with_labels=True)"
   ]
  },
  {
   "cell_type": "code",
   "execution_count": null,
   "metadata": {
    "hidden": true
   },
   "outputs": [],
   "source": [
    "f=sq.Ket(\"f\")\n",
    "g=sq.Ket(\"g\")\n",
    "h=sq.TensorProduct(a,b)\n",
    "l=sq.TensorProduct(b,a)\n",
    "sq.qapply(sq.Dagger(h)*l).doit()"
   ]
  },
  {
   "cell_type": "markdown",
   "metadata": {
    "hidden": true
   },
   "source": [
    "### Playing with networks"
   ]
  },
  {
   "cell_type": "code",
   "execution_count": null,
   "metadata": {
    "hidden": true
   },
   "outputs": [],
   "source": [
    "G = nx.Graph()\n",
    "G.add_node(1)"
   ]
  },
  {
   "cell_type": "code",
   "execution_count": null,
   "metadata": {
    "hidden": true
   },
   "outputs": [],
   "source": [
    "G = nx.Graph()\n",
    "G.add_nodes_from([1,2,3,4,5])\n",
    "G.add_edges_from([[1,2],[2,3],[3,4],[4,5],[5,1]])"
   ]
  },
  {
   "cell_type": "code",
   "execution_count": null,
   "metadata": {
    "hidden": true
   },
   "outputs": [],
   "source": [
    "%matplotlib inline \n",
    "nx.draw(G, with_labels=True)"
   ]
  },
  {
   "cell_type": "code",
   "execution_count": null,
   "metadata": {
    "hidden": true
   },
   "outputs": [],
   "source": [
    "3 in G[1]"
   ]
  },
  {
   "cell_type": "markdown",
   "metadata": {},
   "source": [
    "# Ideal KCBS calculations"
   ]
  },
  {
   "cell_type": "markdown",
   "metadata": {},
   "source": [
    "## Working Version"
   ]
  },
  {
   "cell_type": "code",
   "execution_count": 88,
   "metadata": {
    "code_folding": [
     175,
     242,
     258,
     264,
     340
    ]
   },
   "outputs": [],
   "source": [
    "class cls_iKCBS:    \n",
    "    \n",
    "    def __init__(s,n,verbose=False,thr=10):\n",
    "        s.thr=thr\n",
    "        if verbose==True:\n",
    "            print(\"Creating projectors etc\")\n",
    "\n",
    "        cls_iKCBS.n=n\n",
    "        #j in 0,1,2,3,4\n",
    "        s.ke = [bKet(j) for j in range(3)]    \n",
    "        s.br = [sq.Dagger(s.ke[j]) for j in range(3)]\n",
    "        s.Πs = []\n",
    "        \n",
    "        #evaluate the projectors for the ideal case\n",
    "        for j in range(n):\n",
    "            s.Πs.append(s.eval(j,n))\n",
    "        \n",
    "        #calculate the matrix representation\n",
    "        s.matΠs = [sq.represent(_) for _ in s.Πs]\n",
    "        \n",
    "        #the first two vectors are taken to be k'\n",
    "        s.kp = [s.eval(0,n,True),s.eval(1,n,True)]\n",
    "        \n",
    "        #the third is constructed as k0 x k1 (cross product) and then added to the list\n",
    "        s.kp.append(s.cross(s.kp))\n",
    "        \n",
    "        #evaluates the conjugate for each element in the list\n",
    "        s.bp=[sq.Dagger(ikp) for ikp in s.kp]                \n",
    "        \n",
    "        #the Translation operator\n",
    "        s.T = s.kp[0]*s.bp[2] + s.kp[1]*s.bp[0] + s.kp[2]*s.bp[1] \n",
    "        s.Ti = s.kp[2]*s.bp[0] + s.kp[0]*s.bp[1] + s.kp[1]*s.bp[2] #TODO: Automate this\n",
    "        \n",
    "        s.matT=sq.represent(s.T)\n",
    "        \n",
    "        #Now the abstract ones\n",
    "        \n",
    "        #creates n abstract projectors (basically just a bunch of non-commuting symbols)\n",
    "        #s._Πs = sp.symbols('Π_0:%d'%n,commutative=False)\n",
    "        s._Πs = []\n",
    "        for i in range(n):\n",
    "            s._Πs.append(sq.HermitianOperator('Π_'+str(i)))\n",
    "        \n",
    "        #An abstract psi (likely we won't use this)\n",
    "        #s._Ψ = sp.symbol('Psi')\n",
    "        \n",
    "#         #the following will find _Τ as a function of _Πs \n",
    "        # s._T=s.eval_c() #NB: it computes the coefficients into s.c\n",
    "        if verbose==True:\n",
    "            print(\"Solving a linear system to find the coefficients for expressing the translation operator as a sum of projectors\")\n",
    "\n",
    "        s._T=s.eval_lin_c() #NB: it computes the coefficients into s.c    \n",
    "        \n",
    "#         #Just trying (original)\n",
    "        # s.TP = sq.TensorProduct #just to make naming easy\n",
    "        # s._U_=s.TP(sq.IdentityOperator(),s.kp[0]*s.bp[0]) + s.TP(s._T,s.kp[1]*s.bp[1]) + s.TP(s._T,s.kp[2]*s.bp[2])        \n",
    "        # s._T_=s.TP(sq.IdentityOperator(),s.kp[0]*s.bp[0] + s.kp[2]*s.bp[1] + s.kp[1]*s.bp[2])\n",
    "        # s._V_=s.TP(s._Πs[0],sq.IdentityOperator()) + s.TP(s._Πs[1],s.Ti) + s.TP(s._Πs[2],s.Ti*s.Ti)\n",
    "\n",
    "\n",
    "#         s.S = s._T_ * s._U_ * s._V_ #* s._U_\n",
    "#         s._ρin_ = s.TP(sq.IdentityOperator(),s.ke[0]*s.br[0])\n",
    "#         s._kout_ = s.TP(sq.IdentityOperator(),s.kp[0])\n",
    "#         s._bout_ = s.TP(sq.IdentityOperator(),s.bp[0])\n",
    "\n",
    "#         s.F = (s._bout_ * s.S * s._ρin_ * sq.Dagger(s.S) * s._kout_)\n",
    "        \n",
    "\n",
    "        #State Term\n",
    "        \n",
    "        #Just trying (debugging | seems to work)\n",
    "#         s.TP = sq.TensorProduct #just to make naming easy\n",
    "#         s._U_=s.TP(sp.Integer(1),sp.N(s.kp[0]*s.bp[0])) + s.TP(s._T,sp.N(s.kp[1]*s.bp[1])) + s.TP(s._T,sp.N(s.kp[2]*s.bp[2]))\n",
    "#         s._T_=s.TP(sp.Integer(1),sp.N(s.kp[0]*s.bp[0]) + sp.N(s.kp[2]*s.bp[1]) + sp.N(s.kp[1]*s.bp[2]))\n",
    "#         s._V_=s.TP(s._Πs[0],sp.Integer(1)) + s.TP(s._Πs[1],sp.N(s.Ti)) + s.TP(s._Πs[2],sp.N(s.Ti)*sp.N(s.Ti))\n",
    "        \n",
    "#         #s.S = s._T_ * s._U_ * s._V_ #* s._U_\n",
    "#         s._ρin_ = s.TP(sp.Integer(1),s.ke[0]*s.br[0])\n",
    "#         s._kout_ = s.TP(sp.Integer(1),sp.N(s.kp[0]))\n",
    "#         s._bout_ = s.TP(sp.Integer(1),sp.N(s.bp[0]))\n",
    "\n",
    "#         #s.F2=tsimp(s._bout_ * tsimp(tsimp(s._T_*s._U_)*s._V_)*s._kout_)\n",
    "#         s.F0=tsimp(s._bout_ * s._T_)\n",
    "#         s.F1=tsimp(s.F0 * s._U_) #*s._V_\n",
    "#         #s.F2=tsimp(s.F1 * s._V_)\n",
    "#         s.G0=tsimp(s._V_*s._kout_)\n",
    "        \n",
    "#         s.H0 = tsimp(s.F1*s.G0)\n",
    "#         #s.F1 = s._bout_ * s._T_ * s._U_ * s._V_ * s._kout_\n",
    "#         #s.F2 = s.F1 * \n",
    "        if verbose==True:\n",
    "            print(\"Evaluating the first term of F\")\n",
    "        s.F = s.eval_state_F() #s.eval_state_F(s.Πs[0],s._Πs[0]) #tdsimp(s.H0)\n",
    "        if verbose==True:\n",
    "            print(\"Dinner out is a go.\")\n",
    "\n",
    "\n",
    "    def eval_state_F(s,proj=sp.Integer(1),proj_=sp.Integer(1),thr=10):\n",
    "        s.TP = sq.TensorProduct #just to make naming easy\n",
    "        _U_=s.TP(sp.Integer(1),sp.N(s.kp[0]*s.bp[0])) \\\n",
    "           + s.TP(s._T,sp.N(s.kp[1]*s.bp[1])) \\\n",
    "           + s.TP(s._T,sp.N(s.kp[2]*s.bp[2]))\n",
    "        \n",
    "        _T_=s.TP(sp.Integer(1),sp.N(s.kp[0]*s.bp[0])) \\\n",
    "            + sp.N(s.kp[2]*s.bp[1]) \\\n",
    "            + sp.N(s.kp[1]*s.bp[2])\n",
    "        \n",
    "        _V_=s.TP(s._Πs[0],sp.Integer(1)) \\\n",
    "            +  s.TP(s._Πs[1],sp.N(s.Ti)) \\\n",
    "            + s.TP(s._Πs[2],sp.N(s.Ti)*sp.N(s.Ti))\n",
    "        \n",
    "        display(_U_)\n",
    "        display(_V_)\n",
    "        #s.S = _T_ * _U_ * _V_ #* _U_\n",
    "        s._ρin_ = s.TP(sp.Integer(1),s.ke[0]*s.br[0])\n",
    "        #_kout_ = s.TP(sp.Integer(1),sp.N(s.kp[0])) #s.TP(sp.Integer(1),sp.N(s.kp[0]))\n",
    "        _kout_ = s.TP(sp.Integer(1),sp.N(s.ke[0])) #s.TP(sp.Integer(1),sp.N(s.kp[0]))\n",
    "        _bout_ = s.TP(sp.Integer(1),sp.N(s.bp[0])) #s.TP(sp.Integer(1),sp.N(s.bp[0]))\n",
    "        \n",
    "        display(_kout_)\n",
    "        display(_bout_)\n",
    "\n",
    "        #s.F2=tsimp(_bout_ * tsimp(tsimp(_T_*_U_)*_V_)*_kout_)\n",
    "        F0=tsimp(_bout_ * _T_)\n",
    "        F1=tsimp(F0 * _U_) #*_V_\n",
    "        #s.F2=tsimp(F1 * _V_)\n",
    "        G0=tsimp(_V_*_kout_)\n",
    "        \n",
    "        H0 = tsimp(F1*G0)\n",
    "        #s.F1 = s._bout_ * _T_ * _U_ * _V_ * s._kout_\n",
    "        #s.F2 = s.F1 * \n",
    "        s.F = tdsimp(H0)\n",
    "        \n",
    "        return s.F #sq.qapply(s.F * sq.Dagger(s.F))\n",
    "\n",
    "        \n",
    "    def cross(s,vecs):\n",
    "        ca=[sq.qapply(sq.Dagger(s.ke[i])*vecs[0]).doit() for i in range(3)]\n",
    "        cb=[sq.qapply(sq.Dagger(s.ke[i])*vecs[1]).doit() for i in range(3)]\n",
    "        \n",
    "        res = (ca[2-1]*cb[3-1] - ca[3-1]*cb[2-1])*s.ke[0] + \\\n",
    "             (ca[3-1]*cb[1-1]-ca[1-1]*cb[3-1])*s.ke[1] + \\\n",
    "             (ca[1-1]*cb[2-1] - ca[2-1]*cb[1-1])*s.ke[2]\n",
    "        \n",
    "        return res\n",
    "\n",
    "    #evaluates the matrices and vectors\n",
    "    def eval(s,j,n,ve=False):\n",
    "        N=sp.Integer(n)\n",
    "        J=sp.Integer(j)\n",
    "        #print(N,j)\n",
    "        one=sp.Integer(1)\n",
    "        #print(one)\n",
    "        α1=sp.cos((sp.pi)/N)/(one+sp.cos(sp.pi/N)) #verified\n",
    "        #a1=sp.cos(sp.pi/N)\n",
    "        #\n",
    "        #print(α1)\n",
    "        \n",
    "        α2=one-α1 #verified\n",
    "        α3=J * sp.pi * (N-one)/N #verified\n",
    "        \n",
    "        vec = sp.sqrt(α1)*s.ke[0] + sp.sqrt(α2)*sp.sin(α3)*s.ke[1] + sp.sqrt(α2)*sp.cos(α3)*s.ke[2]\n",
    "        \n",
    "        projector = vec*sq.Dagger(vec)\n",
    "           \n",
    "        #matrixprojector = sp.Matrix([0,0])\n",
    "        #return projector\n",
    "        \n",
    "        if ve==False:\n",
    "            return projector\n",
    "        else:\n",
    "            return vec\n",
    "\n",
    "    #tried using a linear solver but it didn't help\n",
    "    #we are still using this method although it has nothing to do with linearity anymore\n",
    "    def eval_lin_c(s,varCount=None):\n",
    "        cls=s.__class__\n",
    "        if varCount==None:\n",
    "            varCount=cls_iKCBS.n*2\n",
    "        if varCount <= cls.n:\n",
    "            raise ValueError(\"number of variables should be at least n\")\n",
    "    \n",
    "        a=sp.symbols('a0:%d'%varCount)\n",
    "        #s.b=sp.symbols('b0:%d'%varCount)\n",
    "        b=[] #family of solutions\n",
    "        s.c=[] #particular solution with the free variables set to one\n",
    "        \n",
    "        #Setting up of constraints\n",
    "        #If the system is not able to find a solution, consider increasing\n",
    "        #the number of variables by taking different sets of products or products of three operators\n",
    "        TfΠ=a[0]*s.Πs[0]\n",
    "        _TfΠ=a[0]*s._Πs[0]\n",
    "        \n",
    "        for i in range(1,cls.n):\n",
    "            TfΠ=TfΠ + a[i]*s.Πs[i]\n",
    "            _TfΠ=_TfΠ + a[i]*s._Πs[i]\n",
    "        if cls.n != 5:            \n",
    "            for i in range(cls.n,varCount):\n",
    "                TfΠ=TfΠ + a[i]*s.Πs[i%cls.n]*s.Πs[(i+2)%cls.n]\n",
    "                _TfΠ=_TfΠ + a[i]*s._Πs[i%cls.n]*s._Πs[(i+2)%cls.n]\n",
    "        else:\n",
    "            TfΠ=TfΠ + a[5]*s.Πs[4]*s.Πs[2] \\\n",
    "                    + a[6]*s.Πs[4]*s.Πs[1] \\\n",
    "                    + a[7]*s.Πs[1]*s.Πs[3] \\\n",
    "                    + a[8]*s.Πs[2]*s.Πs[0]\n",
    "            \n",
    "            \n",
    "        LHS=sq.represent(TfΠ)\n",
    "        \n",
    "        # LHS=a[0]*s.matΠs[0]\n",
    "        # for i in range(1,cls.n):\n",
    "        #     LHS=LHS+a[i]*s.matΠs[i]\n",
    "        # for i in range(cls.n,varCount):\n",
    "        #     LHS=LHS+a[i]*s.matΠs[i%cls.n]*s.matΠs[(i+2)%cls.n]\n",
    "            \n",
    "        RHS=s.matT\n",
    "        if cls.n!=5:\n",
    "            soln=sp.solve(sp.N(LHS-RHS),a,dict=True,prec=s.thr)\n",
    "        else:\n",
    "            soln=sp.solve(sp.N(LHS-RHS),a[:9],dict=True,prec=s.thr)\n",
    "        \n",
    "        print(\"type:\",type(soln[0]))#, \" and shape:\", soln.shape())\n",
    "        for key,value in soln[0].items():\n",
    "            if value<10**(-s.thr):\n",
    "                soln[0][key]=sp.Integer(0)\n",
    "        \n",
    "        print(soln)\n",
    "        '''\n",
    "            #soln=sp.solve([a[0]-1,a[1]-2,a[2]-3,a[3]-4,a[4]-5,a[5]-1,a[6]-1,a[7]-1,a[8]-1,a[9]-1],a,dict=True)\n",
    "\n",
    "            # sols = solve([t1 + t2 + t3, eq1, eq2], [t1, t2, t3], dict=True)\n",
    "            # sols[0][t1] # This is t1 in the first solution        \n",
    "        '''\n",
    "\n",
    "        #Dictionary to assign one/zero to free variables\n",
    "        dRem={}\n",
    "        \n",
    "        #IMPORTANT: \n",
    "        #In sympy, symbols/expressions are unmutable (you can't change them ever);\n",
    "        #You can save a substituted expression into a new expression (and use a symbol to denote it)\n",
    "        #To wit: when you substitute, a new expression is produced\n",
    "\n",
    "        for i in range(varCount):\n",
    "            #the variables which were evaluated to an expression, assign them to b[i]\n",
    "            try:\n",
    "                b.append(soln[0][a[i]])      \n",
    "            #if the variable was free, assign b[i] to be one\n",
    "            #and create a dictionary to substitute these free variables\n",
    "            except:\n",
    "                b.append(sp.Integer(1))\n",
    "                dRem[a[i]]=1\n",
    "        \n",
    "        #in the solution saved into b[i], substitute for the free variables using the dictionary\n",
    "        #save the result into the variable c\n",
    "        s.c = [_.subs(dRem) for _ in b]\n",
    "\n",
    "        #substitute the solution into the coefficients in Tfπ_p, the operator T as a sum of projectors (and its products)\n",
    "        dFin={}\n",
    "        for i in range(varCount):\n",
    "            dFin[a[i]]=s.c[i]                \n",
    "        \n",
    "        return _TfΠ.subs(dFin)\n",
    "        \n",
    "    \n",
    "    def eval_c(s,varCount=None):\n",
    "        cls=s.__class__\n",
    "        if varCount==None:\n",
    "            varCount=cls_iKCBS.n*2\n",
    "        if varCount <= cls.n:\n",
    "            raise ValueError(\"number of variables should be at least n\")\n",
    "    \n",
    "        a=sp.symbols('a0:%d'%varCount)\n",
    "        #s.b=sp.symbols('b0:%d'%varCount)\n",
    "        b=[] #family of solutions\n",
    "        s.c=[] #particular solution with the free variables set to one\n",
    "        \n",
    "        #Setting up of constraints\n",
    "        #If the system is not able to find a solution, consider increasing\n",
    "        #the number of variables by taking different sets of products or products of three operators\n",
    "        TfΠ=a[0]*s.Πs[0]\n",
    "        _TfΠ=a[0]*s._Πs[0]\n",
    "        for i in range(1,cls.n):\n",
    "            TfΠ=TfΠ + a[i]*s.Πs[i]\n",
    "            _TfΠ=_TfΠ + a[i]*s._Πs[i]\n",
    "        for i in range(cls.n,varCount):\n",
    "            TfΠ=TfΠ + a[i]*s.Πs[i%cls.n]*s.Πs[(i+2)%cls.n]\n",
    "            _TfΠ=_TfΠ + a[i]*s._Πs[i%cls.n]*s._Πs[(i+2)%cls.n]\n",
    "            \n",
    "            \n",
    "        LHS=sq.represent(TfΠ)\n",
    "        \n",
    "        # LHS=a[0]*s.matΠs[0]\n",
    "        # for i in range(1,cls.n):\n",
    "        #     LHS=LHS+a[i]*s.matΠs[i]\n",
    "        # for i in range(cls.n,varCount):\n",
    "        #     LHS=LHS+a[i]*s.matΠs[i%cls.n]*s.matΠs[(i+2)%cls.n]\n",
    "            \n",
    "        RHS=s.matT\n",
    "        \n",
    "        soln=sp.solve(sp.N(LHS-RHS),a,dict=True,prec=s.Thr)\n",
    "        print(soln)\n",
    "\n",
    "        '''\n",
    "            #soln=sp.solve([a[0]-1,a[1]-2,a[2]-3,a[3]-4,a[4]-5,a[5]-1,a[6]-1,a[7]-1,a[8]-1,a[9]-1],a,dict=True)\n",
    "\n",
    "            # sols = solve([t1 + t2 + t3, eq1, eq2], [t1, t2, t3], dict=True)\n",
    "            # sols[0][t1] # This is t1 in the first solution        \n",
    "        '''\n",
    "\n",
    "        #Dictionary to assign one/zero to free variables\n",
    "        dRem={}\n",
    "        \n",
    "        #IMPORTANT: \n",
    "        #In sympy, symbols/expressions are unmutable (you can't change them ever);\n",
    "        #You can save a substituted expression into a new expression (and use a symbol to denote it)\n",
    "        #To wit: when you substitute, a new expression is produced\n",
    "\n",
    "        for i in range(varCount):\n",
    "            #the variables which were evaluated to an expression, assign them to b[i]\n",
    "            try:\n",
    "                b.append(soln[0][a[i]])      \n",
    "            #if the variable was free, assign b[i] to be one\n",
    "            #and create a dictionary to substitute these free variables\n",
    "            except:\n",
    "                b.append(sp.Integer(1))\n",
    "                dRem[a[i]]=1\n",
    "        \n",
    "        #in the solution saved into b[i], substitute for the free variables using the dictionary\n",
    "        #save the result into the variable c\n",
    "        s.c = [_.subs(dRem) for _ in b]\n",
    "\n",
    "        #substitute the solution into the coefficients in Tfπ_p, the operator T as a sum of projectors (and its products)\n",
    "        dFin={}\n",
    "        for i in range(varCount):\n",
    "            dFin[a[i]]=s.c[i]                \n",
    "        \n",
    "        return _TfΠ.subs(dFin)\n",
    "    \n",
    "    \n",
    "    #This doesn't work as expected\n",
    "    def partial_trace(s,M):\n",
    "        \n",
    "        s.br_ = [ sq.TensorProduct(sq.IdentityOperator(),_) for _ in s.br]\n",
    "        s.ke_ = [ sq.TensorProduct(sq.IdentityOperator(),_) for _ in s.ke]\n",
    "        \n",
    "        res=0*s.br_[0]*M*s.ke_[0]        #to get the type right!\n",
    "        for i in range(3):\n",
    "            for j in range(3):\n",
    "                res=res+s.br_[i]*M*s.ke_[j]\n",
    "        #return sq.qapply(res).doit()\n",
    "        return tsimp(res)\n",
    "        "
   ]
  },
  {
   "cell_type": "code",
   "execution_count": 89,
   "metadata": {},
   "outputs": [
    {
     "name": "stdout",
     "output_type": "stream",
     "text": [
      "Creating projectors etc\n",
      "Solving a linear system to find the coefficients for expressing the translation operator as a sum of projectors\n",
      "type: <class 'dict'>\n",
      "[{a0: 0, a1: 0, a2: 0, a3: 0, a4: 2.77032771530716, a5: 0, a6: 0, a7: 3.33019067678556, a8: 2.77032771530716}]\n",
      "Evaluating the first term of F\n"
     ]
    },
    {
     "data": {
      "text/latex": [
       "$\\displaystyle {1}\\otimes \\left({0.447213595499958 {\\left|0\\right\\rangle } {\\left\\langle 0\\right|} + 0.497205787878578 {\\left|0\\right\\rangle } {\\left\\langle 2\\right|} + 0.497205787878578 {\\left|2\\right\\rangle } {\\left\\langle 0\\right|} + 0.552786404500042 {\\left|2\\right\\rangle } {\\left\\langle 2\\right|}}\\right) + 2.77032771530716 {Π_{4}}\\otimes \\left({0.105572809000084 {\\left|0\\right\\rangle } {\\left\\langle 0\\right|} - 0.292250229469488 {\\left|0\\right\\rangle } {\\left\\langle 1\\right|} - 0.0949578557832233 {\\left|0\\right\\rangle } {\\left\\langle 2\\right|} - 0.292250229469488 {\\left|1\\right\\rangle } {\\left\\langle 0\\right|} + 0.809016994374947 {\\left|1\\right\\rangle } {\\left\\langle 1\\right|} + 0.262865556059567 {\\left|1\\right\\rangle } {\\left\\langle 2\\right|} - 0.0949578557832233 {\\left|2\\right\\rangle } {\\left\\langle 0\\right|} + 0.262865556059567 {\\left|2\\right\\rangle } {\\left\\langle 1\\right|} + 0.0854101966249685 {\\left|2\\right\\rangle } {\\left\\langle 2\\right|}}\\right) + 2.77032771530716 {Π_{4}}\\otimes \\left({0.447213595499958 {\\left|0\\right\\rangle } {\\left\\langle 0\\right|} + 0.292250229469488 {\\left|0\\right\\rangle } {\\left\\langle 1\\right|} - 0.402247932095355 {\\left|0\\right\\rangle } {\\left\\langle 2\\right|} + 0.292250229469488 {\\left|1\\right\\rangle } {\\left\\langle 0\\right|} + 0.190983005625053 {\\left|1\\right\\rangle } {\\left\\langle 1\\right|} - 0.262865556059567 {\\left|1\\right\\rangle } {\\left\\langle 2\\right|} - 0.402247932095355 {\\left|2\\right\\rangle } {\\left\\langle 0\\right|} - 0.262865556059567 {\\left|2\\right\\rangle } {\\left\\langle 1\\right|} + 0.36180339887499 {\\left|2\\right\\rangle } {\\left\\langle 2\\right|}}\\right)$"
      ],
      "text/plain": [
       "1⨂ (0.447213595499958⋅❘0⟩⋅⟨0❘ + 0.497205787878578⋅❘0⟩⋅⟨2❘ + 0.497205787878578⋅\n",
       "❘2⟩⋅⟨0❘ + 0.552786404500042⋅❘2⟩⋅⟨2❘) + 2.77032771530716⋅Π₄⨂ (0.105572809000084\n",
       "⋅❘0⟩⋅⟨0❘ - 0.292250229469488⋅❘0⟩⋅⟨1❘ - 0.0949578557832233⋅❘0⟩⋅⟨2❘ - 0.29225022\n",
       "9469488⋅❘1⟩⋅⟨0❘ + 0.809016994374947⋅❘1⟩⋅⟨1❘ + 0.262865556059567⋅❘1⟩⋅⟨2❘ - 0.09\n",
       "49578557832233⋅❘2⟩⋅⟨0❘ + 0.262865556059567⋅❘2⟩⋅⟨1❘ + 0.0854101966249685⋅❘2⟩⋅⟨2\n",
       "❘) + 2.77032771530716⋅Π₄⨂ (0.447213595499958⋅❘0⟩⋅⟨0❘ + 0.292250229469488⋅❘0⟩⋅⟨\n",
       "1❘ - 0.402247932095355⋅❘0⟩⋅⟨2❘ + 0.292250229469488⋅❘1⟩⋅⟨0❘ + 0.190983005625053\n",
       "⋅❘1⟩⋅⟨1❘ - 0.262865556059567⋅❘1⟩⋅⟨2❘ - 0.402247932095355⋅❘2⟩⋅⟨0❘ - 0.262865556\n",
       "059567⋅❘2⟩⋅⟨1❘ + 0.36180339887499⋅❘2⟩⋅⟨2❘)"
      ]
     },
     "metadata": {},
     "output_type": "display_data"
    },
    {
     "data": {
      "text/latex": [
       "$\\displaystyle {Π_{0}}\\otimes {1} + {Π_{1}}\\otimes \\left({0.0126398019966775 {\\left|0\\right\\rangle } {\\left\\langle 0\\right|} + 0.893751184477034 {\\left|0\\right\\rangle } {\\left\\langle 1\\right|} - 0.448384941374467 {\\left|0\\right\\rangle } {\\left\\langle 2\\right|} + 0.459505841094722 {\\left|1\\right\\rangle } {\\left\\langle 0\\right|} + 0.393075688878712 {\\left|1\\right\\rangle } {\\left\\langle 1\\right|} + 0.796458338403433 {\\left|1\\right\\rangle } {\\left\\langle 2\\right|} + 0.888084803048288 {\\left|2\\right\\rangle } {\\left\\langle 0\\right|} - 0.216102575316504 {\\left|2\\right\\rangle } {\\left\\langle 1\\right|} - 0.405715490875389 {\\left|2\\right\\rangle } {\\left\\langle 2\\right|}}\\right) + {Π_{2}}\\otimes {\\left(0.0126398019966775 {\\left|0\\right\\rangle } {\\left\\langle 0\\right|} + 0.893751184477034 {\\left|0\\right\\rangle } {\\left\\langle 1\\right|} - 0.448384941374467 {\\left|0\\right\\rangle } {\\left\\langle 2\\right|} + 0.459505841094722 {\\left|1\\right\\rangle } {\\left\\langle 0\\right|} + 0.393075688878712 {\\left|1\\right\\rangle } {\\left\\langle 1\\right|} + 0.796458338403433 {\\left|1\\right\\rangle } {\\left\\langle 2\\right|} + 0.888084803048288 {\\left|2\\right\\rangle } {\\left\\langle 0\\right|} - 0.216102575316504 {\\left|2\\right\\rangle } {\\left\\langle 1\\right|} - 0.405715490875389 {\\left|2\\right\\rangle } {\\left\\langle 2\\right|}\\right)^{2}}$"
      ],
      "text/plain": [
       "                                                                              \n",
       "Π₀⨂ 1 + Π₁⨂ (0.0126398019966775⋅❘0⟩⋅⟨0❘ + 0.893751184477034⋅❘0⟩⋅⟨1❘ - 0.448384\n",
       "\n",
       "                                                                              \n",
       "941374467⋅❘0⟩⋅⟨2❘ + 0.459505841094722⋅❘1⟩⋅⟨0❘ + 0.393075688878712⋅❘1⟩⋅⟨1❘ + 0.\n",
       "\n",
       "                                                                              \n",
       "796458338403433⋅❘1⟩⋅⟨2❘ + 0.888084803048288⋅❘2⟩⋅⟨0❘ - 0.216102575316504⋅❘2⟩⋅⟨1\n",
       "\n",
       "                                                                              \n",
       "❘ - 0.405715490875389⋅❘2⟩⋅⟨2❘) + Π₂⨂ (0.0126398019966775⋅❘0⟩⋅⟨0❘ + 0.893751184\n",
       "\n",
       "                                                                              \n",
       "477034⋅❘0⟩⋅⟨1❘ - 0.448384941374467⋅❘0⟩⋅⟨2❘ + 0.459505841094722⋅❘1⟩⋅⟨0❘ + 0.393\n",
       "\n",
       "                                                                              \n",
       "075688878712⋅❘1⟩⋅⟨1❘ + 0.796458338403433⋅❘1⟩⋅⟨2❘ + 0.888084803048288⋅❘2⟩⋅⟨0❘ -\n",
       "\n",
       "                                                       2\n",
       " 0.216102575316504⋅❘2⟩⋅⟨1❘ - 0.405715490875389⋅❘2⟩⋅⟨2❘) "
      ]
     },
     "metadata": {},
     "output_type": "display_data"
    },
    {
     "data": {
      "text/latex": [
       "$\\displaystyle {1}\\otimes {{\\left|0\\right\\rangle }}$"
      ],
      "text/plain": [
       "1⨂ ❘0⟩"
      ]
     },
     "metadata": {},
     "output_type": "display_data"
    },
    {
     "data": {
      "text/latex": [
       "$\\displaystyle {1}\\otimes \\left({0.668740304976422 {\\left\\langle 0\\right|} + 0.743496068920369 {\\left\\langle 2\\right|}}\\right)$"
      ],
      "text/plain": [
       "1⨂ (0.668740304976422⋅⟨0❘ + 0.743496068920369⋅⟨2❘)"
      ]
     },
     "metadata": {},
     "output_type": "display_data"
    },
    {
     "ename": "TypeError",
     "evalue": "TensorProduct expected, got: |0>",
     "output_type": "error",
     "traceback": [
      "\u001b[1;31m---------------------------------------------------------------------------\u001b[0m",
      "\u001b[1;31mTypeError\u001b[0m                                 Traceback (most recent call last)",
      "\u001b[1;32m<ipython-input-89-86964c864c32>\u001b[0m in \u001b[0;36m<module>\u001b[1;34m\u001b[0m\n\u001b[1;32m----> 1\u001b[1;33m \u001b[0miKCBS\u001b[0m \u001b[1;33m=\u001b[0m \u001b[0mcls_iKCBS\u001b[0m\u001b[1;33m(\u001b[0m\u001b[1;36m5\u001b[0m\u001b[1;33m,\u001b[0m\u001b[0mverbose\u001b[0m\u001b[1;33m=\u001b[0m\u001b[1;32mTrue\u001b[0m\u001b[1;33m)\u001b[0m\u001b[1;33m\u001b[0m\u001b[1;33m\u001b[0m\u001b[0m\n\u001b[0m",
      "\u001b[1;32m<ipython-input-88-b4b6483ddd4a>\u001b[0m in \u001b[0;36m__init__\u001b[1;34m(s, n, verbose, thr)\u001b[0m\n\u001b[0;32m     91\u001b[0m         \u001b[1;32mif\u001b[0m \u001b[0mverbose\u001b[0m\u001b[1;33m==\u001b[0m\u001b[1;32mTrue\u001b[0m\u001b[1;33m:\u001b[0m\u001b[1;33m\u001b[0m\u001b[1;33m\u001b[0m\u001b[0m\n\u001b[0;32m     92\u001b[0m             \u001b[0mprint\u001b[0m\u001b[1;33m(\u001b[0m\u001b[1;34m\"Evaluating the first term of F\"\u001b[0m\u001b[1;33m)\u001b[0m\u001b[1;33m\u001b[0m\u001b[1;33m\u001b[0m\u001b[0m\n\u001b[1;32m---> 93\u001b[1;33m         \u001b[0ms\u001b[0m\u001b[1;33m.\u001b[0m\u001b[0mF\u001b[0m \u001b[1;33m=\u001b[0m \u001b[0ms\u001b[0m\u001b[1;33m.\u001b[0m\u001b[0meval_state_F\u001b[0m\u001b[1;33m(\u001b[0m\u001b[1;33m)\u001b[0m \u001b[1;31m#s.eval_state_F(s.Πs[0],s._Πs[0]) #tdsimp(s.H0)\u001b[0m\u001b[1;33m\u001b[0m\u001b[1;33m\u001b[0m\u001b[0m\n\u001b[0m\u001b[0;32m     94\u001b[0m         \u001b[1;32mif\u001b[0m \u001b[0mverbose\u001b[0m\u001b[1;33m==\u001b[0m\u001b[1;32mTrue\u001b[0m\u001b[1;33m:\u001b[0m\u001b[1;33m\u001b[0m\u001b[1;33m\u001b[0m\u001b[0m\n\u001b[0;32m     95\u001b[0m             \u001b[0mprint\u001b[0m\u001b[1;33m(\u001b[0m\u001b[1;34m\"Dinner out is a go.\"\u001b[0m\u001b[1;33m)\u001b[0m\u001b[1;33m\u001b[0m\u001b[1;33m\u001b[0m\u001b[0m\n",
      "\u001b[1;32m<ipython-input-88-b4b6483ddd4a>\u001b[0m in \u001b[0;36meval_state_F\u001b[1;34m(s, proj, proj_, thr)\u001b[0m\n\u001b[0;32m    122\u001b[0m \u001b[1;33m\u001b[0m\u001b[0m\n\u001b[0;32m    123\u001b[0m         \u001b[1;31m#s.F2=tsimp(_bout_ * tsimp(tsimp(_T_*_U_)*_V_)*_kout_)\u001b[0m\u001b[1;33m\u001b[0m\u001b[1;33m\u001b[0m\u001b[1;33m\u001b[0m\u001b[0m\n\u001b[1;32m--> 124\u001b[1;33m         \u001b[0mF0\u001b[0m\u001b[1;33m=\u001b[0m\u001b[0mtsimp\u001b[0m\u001b[1;33m(\u001b[0m\u001b[0m_bout_\u001b[0m \u001b[1;33m*\u001b[0m \u001b[0m_T_\u001b[0m\u001b[1;33m)\u001b[0m\u001b[1;33m\u001b[0m\u001b[1;33m\u001b[0m\u001b[0m\n\u001b[0m\u001b[0;32m    125\u001b[0m         \u001b[0mF1\u001b[0m\u001b[1;33m=\u001b[0m\u001b[0mtsimp\u001b[0m\u001b[1;33m(\u001b[0m\u001b[0mF0\u001b[0m \u001b[1;33m*\u001b[0m \u001b[0m_U_\u001b[0m\u001b[1;33m)\u001b[0m \u001b[1;31m#*_V_\u001b[0m\u001b[1;33m\u001b[0m\u001b[1;33m\u001b[0m\u001b[0m\n\u001b[0;32m    126\u001b[0m         \u001b[1;31m#s.F2=tsimp(F1 * _V_)\u001b[0m\u001b[1;33m\u001b[0m\u001b[1;33m\u001b[0m\u001b[1;33m\u001b[0m\u001b[0m\n",
      "\u001b[1;32m<ipython-input-36-2e2887f1566b>\u001b[0m in \u001b[0;36mtsimp\u001b[1;34m(e)\u001b[0m\n\u001b[0;32m     71\u001b[0m \u001b[1;33m\u001b[0m\u001b[0m\n\u001b[0;32m     72\u001b[0m \u001b[1;32mdef\u001b[0m \u001b[0mtsimp\u001b[0m\u001b[1;33m(\u001b[0m\u001b[0me\u001b[0m\u001b[1;33m)\u001b[0m\u001b[1;33m:\u001b[0m\u001b[1;33m\u001b[0m\u001b[1;33m\u001b[0m\u001b[0m\n\u001b[1;32m---> 73\u001b[1;33m     \u001b[1;32mreturn\u001b[0m \u001b[0msq\u001b[0m\u001b[1;33m.\u001b[0m\u001b[0mqapply\u001b[0m\u001b[1;33m(\u001b[0m\u001b[0mpowerDrop\u001b[0m\u001b[1;33m(\u001b[0m\u001b[0msq\u001b[0m\u001b[1;33m.\u001b[0m\u001b[0mtensorproduct\u001b[0m\u001b[1;33m.\u001b[0m\u001b[0mtensor_product_simp\u001b[0m\u001b[1;33m(\u001b[0m\u001b[0msq\u001b[0m\u001b[1;33m.\u001b[0m\u001b[0mqapply\u001b[0m\u001b[1;33m(\u001b[0m\u001b[0me\u001b[0m\u001b[1;33m)\u001b[0m\u001b[1;33m)\u001b[0m\u001b[1;33m.\u001b[0m\u001b[0mdoit\u001b[0m\u001b[1;33m(\u001b[0m\u001b[1;33m)\u001b[0m\u001b[1;33m)\u001b[0m\u001b[1;33m)\u001b[0m\u001b[1;33m\u001b[0m\u001b[1;33m\u001b[0m\u001b[0m\n\u001b[0m\u001b[0;32m     74\u001b[0m \u001b[1;33m\u001b[0m\u001b[0m\n\u001b[0;32m     75\u001b[0m \u001b[1;32mdef\u001b[0m \u001b[0mtdsimp\u001b[0m\u001b[1;33m(\u001b[0m\u001b[0me\u001b[0m\u001b[1;33m)\u001b[0m\u001b[1;33m:\u001b[0m\u001b[1;33m\u001b[0m\u001b[1;33m\u001b[0m\u001b[0m\n",
      "\u001b[1;32mC:\\ProgramData\\Anaconda3\\lib\\site-packages\\sympy\\physics\\quantum\\tensorproduct.py\u001b[0m in \u001b[0;36mtensor_product_simp\u001b[1;34m(e, **hints)\u001b[0m\n\u001b[0;32m    407\u001b[0m     \"\"\"\n\u001b[0;32m    408\u001b[0m     \u001b[1;32mif\u001b[0m \u001b[0misinstance\u001b[0m\u001b[1;33m(\u001b[0m\u001b[0me\u001b[0m\u001b[1;33m,\u001b[0m \u001b[0mAdd\u001b[0m\u001b[1;33m)\u001b[0m\u001b[1;33m:\u001b[0m\u001b[1;33m\u001b[0m\u001b[1;33m\u001b[0m\u001b[0m\n\u001b[1;32m--> 409\u001b[1;33m         \u001b[1;32mreturn\u001b[0m \u001b[0mAdd\u001b[0m\u001b[1;33m(\u001b[0m\u001b[1;33m*\u001b[0m\u001b[1;33m[\u001b[0m\u001b[0mtensor_product_simp\u001b[0m\u001b[1;33m(\u001b[0m\u001b[0marg\u001b[0m\u001b[1;33m)\u001b[0m \u001b[1;32mfor\u001b[0m \u001b[0marg\u001b[0m \u001b[1;32min\u001b[0m \u001b[0me\u001b[0m\u001b[1;33m.\u001b[0m\u001b[0margs\u001b[0m\u001b[1;33m]\u001b[0m\u001b[1;33m)\u001b[0m\u001b[1;33m\u001b[0m\u001b[1;33m\u001b[0m\u001b[0m\n\u001b[0m\u001b[0;32m    410\u001b[0m     \u001b[1;32melif\u001b[0m \u001b[0misinstance\u001b[0m\u001b[1;33m(\u001b[0m\u001b[0me\u001b[0m\u001b[1;33m,\u001b[0m \u001b[0mPow\u001b[0m\u001b[1;33m)\u001b[0m\u001b[1;33m:\u001b[0m\u001b[1;33m\u001b[0m\u001b[1;33m\u001b[0m\u001b[0m\n\u001b[0;32m    411\u001b[0m         \u001b[1;32mif\u001b[0m \u001b[0misinstance\u001b[0m\u001b[1;33m(\u001b[0m\u001b[0me\u001b[0m\u001b[1;33m.\u001b[0m\u001b[0mbase\u001b[0m\u001b[1;33m,\u001b[0m \u001b[0mTensorProduct\u001b[0m\u001b[1;33m)\u001b[0m\u001b[1;33m:\u001b[0m\u001b[1;33m\u001b[0m\u001b[1;33m\u001b[0m\u001b[0m\n",
      "\u001b[1;32mC:\\ProgramData\\Anaconda3\\lib\\site-packages\\sympy\\physics\\quantum\\tensorproduct.py\u001b[0m in \u001b[0;36m<listcomp>\u001b[1;34m(.0)\u001b[0m\n\u001b[0;32m    407\u001b[0m     \"\"\"\n\u001b[0;32m    408\u001b[0m     \u001b[1;32mif\u001b[0m \u001b[0misinstance\u001b[0m\u001b[1;33m(\u001b[0m\u001b[0me\u001b[0m\u001b[1;33m,\u001b[0m \u001b[0mAdd\u001b[0m\u001b[1;33m)\u001b[0m\u001b[1;33m:\u001b[0m\u001b[1;33m\u001b[0m\u001b[1;33m\u001b[0m\u001b[0m\n\u001b[1;32m--> 409\u001b[1;33m         \u001b[1;32mreturn\u001b[0m \u001b[0mAdd\u001b[0m\u001b[1;33m(\u001b[0m\u001b[1;33m*\u001b[0m\u001b[1;33m[\u001b[0m\u001b[0mtensor_product_simp\u001b[0m\u001b[1;33m(\u001b[0m\u001b[0marg\u001b[0m\u001b[1;33m)\u001b[0m \u001b[1;32mfor\u001b[0m \u001b[0marg\u001b[0m \u001b[1;32min\u001b[0m \u001b[0me\u001b[0m\u001b[1;33m.\u001b[0m\u001b[0margs\u001b[0m\u001b[1;33m]\u001b[0m\u001b[1;33m)\u001b[0m\u001b[1;33m\u001b[0m\u001b[1;33m\u001b[0m\u001b[0m\n\u001b[0m\u001b[0;32m    410\u001b[0m     \u001b[1;32melif\u001b[0m \u001b[0misinstance\u001b[0m\u001b[1;33m(\u001b[0m\u001b[0me\u001b[0m\u001b[1;33m,\u001b[0m \u001b[0mPow\u001b[0m\u001b[1;33m)\u001b[0m\u001b[1;33m:\u001b[0m\u001b[1;33m\u001b[0m\u001b[1;33m\u001b[0m\u001b[0m\n\u001b[0;32m    411\u001b[0m         \u001b[1;32mif\u001b[0m \u001b[0misinstance\u001b[0m\u001b[1;33m(\u001b[0m\u001b[0me\u001b[0m\u001b[1;33m.\u001b[0m\u001b[0mbase\u001b[0m\u001b[1;33m,\u001b[0m \u001b[0mTensorProduct\u001b[0m\u001b[1;33m)\u001b[0m\u001b[1;33m:\u001b[0m\u001b[1;33m\u001b[0m\u001b[1;33m\u001b[0m\u001b[0m\n",
      "\u001b[1;32mC:\\ProgramData\\Anaconda3\\lib\\site-packages\\sympy\\physics\\quantum\\tensorproduct.py\u001b[0m in \u001b[0;36mtensor_product_simp\u001b[1;34m(e, **hints)\u001b[0m\n\u001b[0;32m    414\u001b[0m             \u001b[1;32mreturn\u001b[0m \u001b[0mtensor_product_simp\u001b[0m\u001b[1;33m(\u001b[0m\u001b[0me\u001b[0m\u001b[1;33m.\u001b[0m\u001b[0mbase\u001b[0m\u001b[1;33m)\u001b[0m \u001b[1;33m**\u001b[0m \u001b[0me\u001b[0m\u001b[1;33m.\u001b[0m\u001b[0mexp\u001b[0m\u001b[1;33m\u001b[0m\u001b[1;33m\u001b[0m\u001b[0m\n\u001b[0;32m    415\u001b[0m     \u001b[1;32melif\u001b[0m \u001b[0misinstance\u001b[0m\u001b[1;33m(\u001b[0m\u001b[0me\u001b[0m\u001b[1;33m,\u001b[0m \u001b[0mMul\u001b[0m\u001b[1;33m)\u001b[0m\u001b[1;33m:\u001b[0m\u001b[1;33m\u001b[0m\u001b[1;33m\u001b[0m\u001b[0m\n\u001b[1;32m--> 416\u001b[1;33m         \u001b[1;32mreturn\u001b[0m \u001b[0mtensor_product_simp_Mul\u001b[0m\u001b[1;33m(\u001b[0m\u001b[0me\u001b[0m\u001b[1;33m)\u001b[0m\u001b[1;33m\u001b[0m\u001b[1;33m\u001b[0m\u001b[0m\n\u001b[0m\u001b[0;32m    417\u001b[0m     \u001b[1;32melif\u001b[0m \u001b[0misinstance\u001b[0m\u001b[1;33m(\u001b[0m\u001b[0me\u001b[0m\u001b[1;33m,\u001b[0m \u001b[0mCommutator\u001b[0m\u001b[1;33m)\u001b[0m\u001b[1;33m:\u001b[0m\u001b[1;33m\u001b[0m\u001b[1;33m\u001b[0m\u001b[0m\n\u001b[0;32m    418\u001b[0m         \u001b[1;32mreturn\u001b[0m \u001b[0mCommutator\u001b[0m\u001b[1;33m(\u001b[0m\u001b[1;33m*\u001b[0m\u001b[1;33m[\u001b[0m\u001b[0mtensor_product_simp\u001b[0m\u001b[1;33m(\u001b[0m\u001b[0marg\u001b[0m\u001b[1;33m)\u001b[0m \u001b[1;32mfor\u001b[0m \u001b[0marg\u001b[0m \u001b[1;32min\u001b[0m \u001b[0me\u001b[0m\u001b[1;33m.\u001b[0m\u001b[0margs\u001b[0m\u001b[1;33m]\u001b[0m\u001b[1;33m)\u001b[0m\u001b[1;33m\u001b[0m\u001b[1;33m\u001b[0m\u001b[0m\n",
      "\u001b[1;32mC:\\ProgramData\\Anaconda3\\lib\\site-packages\\sympy\\physics\\quantum\\tensorproduct.py\u001b[0m in \u001b[0;36mtensor_product_simp_Mul\u001b[1;34m(e)\u001b[0m\n\u001b[0;32m    353\u001b[0m                         \u001b[1;32mraise\u001b[0m \u001b[0mTypeError\u001b[0m\u001b[1;33m(\u001b[0m\u001b[1;34m'TensorProduct expected, got: %r'\u001b[0m \u001b[1;33m%\u001b[0m \u001b[0mnext\u001b[0m\u001b[1;33m)\u001b[0m\u001b[1;33m\u001b[0m\u001b[1;33m\u001b[0m\u001b[0m\n\u001b[0;32m    354\u001b[0m                 \u001b[1;32melse\u001b[0m\u001b[1;33m:\u001b[0m\u001b[1;33m\u001b[0m\u001b[1;33m\u001b[0m\u001b[0m\n\u001b[1;32m--> 355\u001b[1;33m                     \u001b[1;32mraise\u001b[0m \u001b[0mTypeError\u001b[0m\u001b[1;33m(\u001b[0m\u001b[1;34m'TensorProduct expected, got: %r'\u001b[0m \u001b[1;33m%\u001b[0m \u001b[0mnext\u001b[0m\u001b[1;33m)\u001b[0m\u001b[1;33m\u001b[0m\u001b[1;33m\u001b[0m\u001b[0m\n\u001b[0m\u001b[0;32m    356\u001b[0m             \u001b[0mcurrent\u001b[0m \u001b[1;33m=\u001b[0m \u001b[0mnext\u001b[0m\u001b[1;33m\u001b[0m\u001b[1;33m\u001b[0m\u001b[0m\n\u001b[0;32m    357\u001b[0m         \u001b[1;32mreturn\u001b[0m \u001b[0mMul\u001b[0m\u001b[1;33m(\u001b[0m\u001b[1;33m*\u001b[0m\u001b[0mc_part\u001b[0m\u001b[1;33m)\u001b[0m \u001b[1;33m*\u001b[0m \u001b[0mTensorProduct\u001b[0m\u001b[1;33m(\u001b[0m\u001b[1;33m*\u001b[0m\u001b[0mnew_args\u001b[0m\u001b[1;33m)\u001b[0m\u001b[1;33m\u001b[0m\u001b[1;33m\u001b[0m\u001b[0m\n",
      "\u001b[1;31mTypeError\u001b[0m: TensorProduct expected, got: |0>"
     ]
    }
   ],
   "source": [
    "iKCBS = cls_iKCBS(5,verbose=True)"
   ]
  },
  {
   "cell_type": "code",
   "execution_count": 56,
   "metadata": {},
   "outputs": [
    {
     "data": {
      "text/latex": [
       "$\\displaystyle - 0.2720196495 Π_{0} - 0.4858682718 Π_{1} - 2.058171027 Π_{2} + 6.839232089 \\cdot 10^{-16} Π_{3} + 2.770327715 Π_{4}$"
      ],
      "text/plain": [
       "-0.2720196495⋅Π₀ - 0.4858682718⋅Π₁ - 2.058171027⋅Π₂ + 6.839232089e-16⋅Π₃ + 2.7\n",
       "70327715⋅Π₄"
      ]
     },
     "metadata": {},
     "output_type": "display_data"
    }
   ],
   "source": [
    "_U_=iKCBS.TP(sp.Integer(1),sp.N(iKCBS.kp[0]*iKCBS.bp[0],10)) \\\n",
    "   + iKCBS.TP(iKCBS._T,sp.N(iKCBS.kp[1]*iKCBS.bp[1],10)) \\\n",
    "   + iKCBS.TP(iKCBS._T,sp.N(iKCBS.kp[2]*iKCBS.bp[2],10))\n",
    "#display(_U_)\n",
    "display(sp.N(iKCBS._T,10))\n"
   ]
  },
  {
   "cell_type": "code",
   "execution_count": 39,
   "metadata": {},
   "outputs": [],
   "source": [
    "#print(iKCBS.c)"
   ]
  },
  {
   "cell_type": "code",
   "execution_count": 9,
   "metadata": {},
   "outputs": [
    {
     "data": {
      "text/latex": [
       "$\\displaystyle 0.447213595499958 Π_{0} Π_{1} + 3.50420102213229 \\cdot 10^{-17} Π_{0} Π_{1} Π_{0} + 9.08995574574966 \\cdot 10^{-34} Π_{0} Π_{1} Π_{0} Π_{1} + 5.09037521761981 \\cdot 10^{-33} Π_{0} Π_{1} Π_{0} Π_{2} - 2.09911065764504 \\cdot 10^{-48} Π_{0} Π_{1} Π_{0} Π_{3} - 2.18158937897992 \\cdot 10^{-33} Π_{0} Π_{1} Π_{0} Π_{4} + 5.45397344744979 \\cdot 10^{-34} Π_{0} Π_{1} Π_{0}^{2} + 4.83217483837864 \\cdot 10^{-17} Π_{0} Π_{1} Π_{2} + 2.11972377691909 \\cdot 10^{-33} Π_{0} Π_{1} Π_{2} Π_{0} + 3.66873293733696 \\cdot 10^{-33} Π_{0} Π_{1} Π_{2} Π_{1} - 5.09908087724747 \\cdot 10^{-48} Π_{0} Π_{1} Π_{2} Π_{3} - 2.06094407733384 \\cdot 10^{-32} Π_{0} Π_{1} Π_{2} Π_{4} + 1.53454428717381 \\cdot 10^{-32} Π_{0} Π_{1} Π_{2}^{2} - 4.41924143296979 \\cdot 10^{-32} Π_{0} Π_{1} Π_{3} - 2.08509272622499 \\cdot 10^{-16} Π_{0} Π_{1} Π_{4} + 3.98543537621709 \\cdot 10^{-17} Π_{0} Π_{1}^{2} + 6.864407146313 \\cdot 10^{-34} Π_{0} Π_{1}^{2} Π_{0} + 2.22667687900093 \\cdot 10^{-33} Π_{0} Π_{1}^{2} Π_{2} - 1.73137741140783 \\cdot 10^{-48} Π_{0} Π_{1}^{2} Π_{3} - 8.16900932350893 \\cdot 10^{-33} Π_{0} Π_{1}^{2} Π_{4} + 8.74979472446109 \\cdot 10^{-34} Π_{0} Π_{1}^{3} - 0.21728689675164 Π_{0} Π_{2} + 1.08209464668885 \\cdot 10^{-16} Π_{0} Π_{2} Π_{0} + 2.80697151475887 \\cdot 10^{-33} Π_{0} Π_{2} Π_{0} Π_{1} + 1.57190404826497 \\cdot 10^{-32} Π_{0} Π_{2} Π_{0} Π_{2} - 6.48203796271667 \\cdot 10^{-48} Π_{0} Π_{2} Π_{0} Π_{3} - 6.73673163542128 \\cdot 10^{-33} Π_{0} Π_{2} Π_{0} Π_{4} + 1.68418290885532 \\cdot 10^{-33} Π_{0} Π_{2} Π_{0}^{2} + 1.47747034101549 \\cdot 10^{-16} Π_{0} Π_{2} Π_{1} + 2.11972377691909 \\cdot 10^{-33} Π_{0} Π_{2} Π_{1} Π_{0} + 6.87596149722766 \\cdot 10^{-33} Π_{0} Π_{2} Π_{1} Π_{2} - 5.34648045716961 \\cdot 10^{-48} Π_{0} Π_{2} Π_{1} Π_{3} - 2.52258395048964 \\cdot 10^{-32} Π_{0} Π_{2} Π_{1} Π_{4} + 2.70193004658288 \\cdot 10^{-33} Π_{0} Π_{2} Π_{1}^{2} - 1.30151111677453 \\cdot 10^{-31} Π_{0} Π_{2} Π_{3} - 5.26044142517813 \\cdot 10^{-16} Π_{0} Π_{2} Π_{4} + 3.65395845690162 \\cdot 10^{-16} Π_{0} Π_{2}^{2} + 6.54569112038978 \\cdot 10^{-33} Π_{0} Π_{2}^{2} Π_{0} + 1.13290197866779 \\cdot 10^{-32} Π_{0} Π_{2}^{2} Π_{1} - 1.57459234942677 \\cdot 10^{-47} Π_{0} Π_{2}^{2} Π_{3} - 6.36417984905162 \\cdot 10^{-32} Π_{0} Π_{2}^{2} Π_{4} + 4.73866124622987 \\cdot 10^{-32} Π_{0} Π_{2}^{3} + 0.447213595499958 Π_{0}^{2} + 3.71225442039836 \\cdot 10^{-17} Π_{0}^{2} Π_{1} + 5.45397344744979 \\cdot 10^{-34} Π_{0}^{2} Π_{1} Π_{0} + 1.76916029531325 \\cdot 10^{-33} Π_{0}^{2} Π_{1} Π_{2} - 1.37563029524037 \\cdot 10^{-48} Π_{0}^{2} Π_{1} Π_{3} - 6.49051826220973 \\cdot 10^{-33} Π_{0}^{2} Π_{1} Π_{4} + 6.95196935156723 \\cdot 10^{-34} Π_{0}^{2} Π_{1}^{2} + 1.23165154815593 \\cdot 10^{-16} Π_{0}^{2} Π_{2} + 1.68418290885532 \\cdot 10^{-33} Π_{0}^{2} Π_{2} Π_{0} + 2.91491626290954 \\cdot 10^{-33} Π_{0}^{2} Π_{2} Π_{1} - 4.05136978593178 \\cdot 10^{-48} Π_{0}^{2} Π_{2} Π_{3} - 1.63748070807471 \\cdot 10^{-32} Π_{0}^{2} Π_{2} Π_{4} + 1.21924058666553 \\cdot 10^{-32} Π_{0}^{2} Π_{2}^{2} - 5.35785943003061 \\cdot 10^{-32} Π_{0}^{2} Π_{3} - 5.56838163059754 \\cdot 10^{-17} Π_{0}^{2} Π_{4} + 2.78419081529877 \\cdot 10^{-17} Π_{0}^{3} + 7.22223729145213 \\cdot 10^{-34} Π_{0}^{3} Π_{1} + 4.0444528832132 \\cdot 10^{-33} Π_{0}^{3} Π_{2} - 1.66780517909753 \\cdot 10^{-48} Π_{0}^{3} Π_{3} - 1.73333694994851 \\cdot 10^{-33} Π_{0}^{3} Π_{4} + 4.33334237487128 \\cdot 10^{-34} Π_{0}^{4} + 0.447213595499958 Π_{1} Π_{0} + 4.64031802549796 \\cdot 10^{-17} Π_{1} Π_{0} Π_{1} + 9.08995574574966 \\cdot 10^{-34} Π_{1} Π_{0} Π_{1} Π_{0} + 2.94860049218874 \\cdot 10^{-33} Π_{1} Π_{0} Π_{1} Π_{2} - 2.29271715873395 \\cdot 10^{-48} Π_{1} Π_{0} Π_{1} Π_{3} - 1.08175304370162 \\cdot 10^{-32} Π_{1} Π_{0} Π_{1} Π_{4} + 1.15866155859454 \\cdot 10^{-33} Π_{1} Π_{0} Π_{1}^{2} + 1.18655988216693 \\cdot 10^{-16} Π_{1} Π_{0} Π_{2} + 2.80697151475887 \\cdot 10^{-33} Π_{1} Π_{0} Π_{2} Π_{0} + 4.8581937715159 \\cdot 10^{-33} Π_{1} Π_{0} Π_{2} Π_{1} - 6.75228297655297 \\cdot 10^{-48} Π_{1} Π_{0} Π_{2} Π_{3} - 2.72913451345785 \\cdot 10^{-32} Π_{1} Π_{0} Π_{2} Π_{4} + 2.03206764444255 \\cdot 10^{-32} Π_{1} Π_{0} Π_{2}^{2} - 5.35785943003061 \\cdot 10^{-32} Π_{1} Π_{0} Π_{3} - 5.56838163059754 \\cdot 10^{-17} Π_{1} Π_{0} Π_{4} + 3.71225442039836 \\cdot 10^{-17} Π_{1} Π_{0}^{2} + 1.20370621524202 \\cdot 10^{-33} Π_{1} Π_{0}^{2} Π_{1} + 6.74075480535533 \\cdot 10^{-33} Π_{1} Π_{0}^{2} Π_{2} - 2.77967529849588 \\cdot 10^{-48} Π_{1} Π_{0}^{2} Π_{3} - 2.88889491658085 \\cdot 10^{-33} Π_{1} Π_{0}^{2} Π_{4} + 7.22223729145213 \\cdot 10^{-34} Π_{1} Π_{0}^{3} - 0.21728689675164 Π_{1} Π_{2} + 1.47747034101549 \\cdot 10^{-16} Π_{1} Π_{2} Π_{0} + 4.8581937715159 \\cdot 10^{-33} Π_{1} Π_{2} Π_{0} Π_{1} + 2.72058851204891 \\cdot 10^{-32} Π_{1} Π_{2} Π_{0} Π_{2} - 1.12188514531132 \\cdot 10^{-47} Π_{1} Π_{2} Π_{0} Π_{3} - 1.16596650516382 \\cdot 10^{-32} Π_{1} Π_{2} Π_{0} Π_{4} + 2.91491626290954 \\cdot 10^{-33} Π_{1} Π_{2} Π_{0}^{2} + 1.87284603534214 \\cdot 10^{-16} Π_{1} Π_{2} Π_{1} + 3.66873293733696 \\cdot 10^{-33} Π_{1} Π_{2} Π_{1} Π_{0} + 1.19006385149884 \\cdot 10^{-32} Π_{1} Π_{2} Π_{1} Π_{2} - 9.25347404488507 \\cdot 10^{-48} Π_{1} Π_{2} Π_{1} Π_{3} - 4.36598717584333 \\cdot 10^{-32} Π_{1} Π_{2} Π_{1} Π_{4} + 4.67639220931256 \\cdot 10^{-33} Π_{1} Π_{2} Π_{1}^{2} - 1.30151111677453 \\cdot 10^{-31} Π_{1} Π_{2} Π_{3} - 5.26044142517813 \\cdot 10^{-16} Π_{1} Π_{2} Π_{4} + 3.46185795160455 \\cdot 10^{-16} Π_{1} Π_{2}^{2} + 1.13290197866779 \\cdot 10^{-32} Π_{1} Π_{2}^{2} Π_{0} + 1.96078132876056 \\cdot 10^{-32} Π_{1} Π_{2}^{2} Π_{1} - 2.7252413159308 \\cdot 10^{-47} Π_{1} Π_{2}^{2} Π_{3} - 1.10148673546927 \\cdot 10^{-31} Π_{1} Π_{2}^{2} Π_{4} + 8.20148492092389 \\cdot 10^{-32} Π_{1} Π_{2}^{3} + 0.447213595499958 Π_{1}^{2} + 3.98543537621709 \\cdot 10^{-17} Π_{1}^{2} Π_{0} + 1.15866155859454 \\cdot 10^{-33} Π_{1}^{2} Π_{0} Π_{1} + 6.48850472812942 \\cdot 10^{-33} Π_{1}^{2} Π_{0} Π_{2} - 2.67565529940743 \\cdot 10^{-48} Π_{1}^{2} Π_{0} Π_{3} - 2.78078774062689 \\cdot 10^{-33} Π_{1}^{2} Π_{0} Π_{4} + 6.95196935156723 \\cdot 10^{-34} Π_{1}^{2} Π_{0}^{2} + 4.59835833444954 \\cdot 10^{-17} Π_{1}^{2} Π_{2} + 2.70193004658288 \\cdot 10^{-33} Π_{1}^{2} Π_{2} Π_{0} + 4.67639220931256 \\cdot 10^{-33} Π_{1}^{2} Π_{2} Π_{1} - 6.49960149629301 \\cdot 10^{-48} Π_{1}^{2} Π_{2} Π_{3} - 2.62700583326424 \\cdot 10^{-32} Π_{1}^{2} Π_{2} Π_{4} + 1.95602434735783 \\cdot 10^{-32} Π_{1}^{2} Π_{2}^{2} - 4.41924143296979 \\cdot 10^{-32} Π_{1}^{2} Π_{3} - 2.08509272622499 \\cdot 10^{-16} Π_{1}^{2} Π_{4} + 4.46666973030189 \\cdot 10^{-17} Π_{1}^{3} + 8.74979472446109 \\cdot 10^{-34} Π_{1}^{3} Π_{0} + 2.83825903587705 \\cdot 10^{-33} Π_{1}^{3} Π_{2} - 2.20691993022649 \\cdot 10^{-48} Π_{1}^{3} Π_{3} - 1.04127207433061 \\cdot 10^{-32} Π_{1}^{3} Π_{4} + 1.11530254672216 \\cdot 10^{-33} Π_{1}^{4} - 0.21728689675164 Π_{2} Π_{0} + 1.18655988216693 \\cdot 10^{-16} Π_{2} Π_{0} Π_{1} + 5.09037521761981 \\cdot 10^{-33} Π_{2} Π_{0} Π_{1} Π_{0} + 1.6512162756257 \\cdot 10^{-32} Π_{2} Π_{0} Π_{1} Π_{2} - 1.28392160889101 \\cdot 10^{-47} Π_{2} Π_{0} Π_{1} Π_{3} - 6.05781704472908 \\cdot 10^{-32} Π_{2} Π_{0} Π_{1} Π_{4} + 6.48850472812942 \\cdot 10^{-33} Π_{2} Π_{0} Π_{1}^{2} - 1.26256664769195 \\cdot 10^{-16} Π_{2} Π_{0} Π_{2} + 1.57190404826497 \\cdot 10^{-32} Π_{2} Π_{0} Π_{2} Π_{0} + 2.72058851204891 \\cdot 10^{-32} Π_{2} Π_{0} Π_{2} Π_{1} - 3.78127846686967 \\cdot 10^{-47} Π_{2} Π_{0} Π_{2} Π_{3} - 1.52831532753639 \\cdot 10^{-31} Π_{2} Π_{0} Π_{2} Π_{4} + 1.13795788088783 \\cdot 10^{-31} Π_{2} Π_{0} Π_{2}^{2} + 2.60321390158402 \\cdot 10^{-32} Π_{2} Π_{0} Π_{3} + 2.70549995933988 \\cdot 10^{-17} Π_{2} Π_{0} Π_{4} + 1.23165154815593 \\cdot 10^{-16} Π_{2} Π_{0}^{2} + 6.74075480535533 \\cdot 10^{-33} Π_{2} Π_{0}^{2} Π_{1} + 3.77482269099898 \\cdot 10^{-32} Π_{2} Π_{0}^{2} Π_{2} - 1.55661816715769 \\cdot 10^{-47} Π_{2} Π_{0}^{2} Π_{3} - 1.61778115328528 \\cdot 10^{-32} Π_{2} Π_{0}^{2} Π_{4} + 4.0444528832132 \\cdot 10^{-33} Π_{2} Π_{0}^{3} - 0.21728689675164 Π_{2} Π_{1} + 4.83217483837864 \\cdot 10^{-17} Π_{2} Π_{1} Π_{0} + 2.94860049218874 \\cdot 10^{-33} Π_{2} Π_{1} Π_{0} Π_{1} + 1.6512162756257 \\cdot 10^{-32} Π_{2} Π_{1} Π_{0} Π_{2} - 6.80909664624594 \\cdot 10^{-48} Π_{2} Π_{1} Π_{0} Π_{3} - 7.07664118125298 \\cdot 10^{-33} Π_{2} Π_{1} Π_{0} Π_{4} + 1.76916029531325 \\cdot 10^{-33} Π_{2} Π_{1} Π_{0}^{2} - 5.52283052314543 \\cdot 10^{-17} Π_{2} Π_{1} Π_{2} + 6.87596149722766 \\cdot 10^{-33} Π_{2} Π_{1} Π_{2} Π_{0} + 1.19006385149884 \\cdot 10^{-32} Π_{2} Π_{1} Π_{2} Π_{1} - 1.65404021811573 \\cdot 10^{-47} Π_{2} Π_{1} Π_{2} Π_{3} - 6.68529186585042 \\cdot 10^{-32} Π_{2} Π_{1} Π_{2} Π_{4} + 4.9777558516298 \\cdot 10^{-32} Π_{2} Π_{1} Π_{2}^{2} + 2.1471691975124 \\cdot 10^{-32} Π_{2} Π_{1} Π_{3} + 1.01308039934329 \\cdot 10^{-16} Π_{2} Π_{1} Π_{4} + 4.59835833444954 \\cdot 10^{-17} Π_{2} Π_{1}^{2} + 2.22667687900093 \\cdot 10^{-33} Π_{2} Π_{1}^{2} Π_{0} + 7.22289604593227 \\cdot 10^{-33} Π_{2} Π_{1}^{2} Π_{2} - 5.61624328020375 \\cdot 10^{-48} Π_{2} Π_{1}^{2} Π_{3} - 2.64986382615292 \\cdot 10^{-32} Π_{2} Π_{1}^{2} Π_{4} + 2.83825903587705 \\cdot 10^{-33} Π_{2} Π_{1}^{3} + 0.105572809000084 Π_{2}^{2} + 3.65395845690162 \\cdot 10^{-16} Π_{2}^{2} Π_{0} + 2.03206764444255 \\cdot 10^{-32} Π_{2}^{2} Π_{0} Π_{1} + 1.13795788088783 \\cdot 10^{-31} Π_{2}^{2} Π_{0} Π_{2} - 4.69258043582833 \\cdot 10^{-47} Π_{2}^{2} Π_{0} Π_{3} - 4.87696234666213 \\cdot 10^{-32} Π_{2}^{2} Π_{0} Π_{4} + 1.21924058666553 \\cdot 10^{-32} Π_{2}^{2} Π_{0}^{2} + 3.46185795160455 \\cdot 10^{-16} Π_{2}^{2} Π_{1} + 1.53454428717381 \\cdot 10^{-32} Π_{2}^{2} Π_{1} Π_{0} + 4.9777558516298 \\cdot 10^{-32} Π_{2}^{2} Π_{1} Π_{2} - 3.8705095123105 \\cdot 10^{-47} Π_{2}^{2} Π_{1} Π_{3} - 1.82618925743549 \\cdot 10^{-31} Π_{2}^{2} Π_{1} Π_{4} + 1.95602434735783 \\cdot 10^{-32} Π_{2}^{2} Π_{1}^{2} + 6.32362956979303 \\cdot 10^{-32} Π_{2}^{2} Π_{3} + 2.55588158392837 \\cdot 10^{-16} Π_{2}^{2} Π_{4} - 3.80613285575793 \\cdot 10^{-16} Π_{2}^{3} + 4.73866124622987 \\cdot 10^{-32} Π_{2}^{3} Π_{0} + 8.20148492092389 \\cdot 10^{-32} Π_{2}^{3} Π_{1} - 1.13990403879528 \\cdot 10^{-46} Π_{2}^{3} Π_{3} - 4.60725870806782 \\cdot 10^{-31} Π_{2}^{3} Π_{4} + 3.43048732265627 \\cdot 10^{-31} Π_{2}^{4} - 5.35785943003061 \\cdot 10^{-32} Π_{3} Π_{0} Π_{1} - 2.09911065764504 \\cdot 10^{-48} Π_{3} Π_{0} Π_{1} Π_{0} - 6.80909664624594 \\cdot 10^{-48} Π_{3} Π_{0} Π_{1} Π_{2} + 5.29448894744556 \\cdot 10^{-63} Π_{3} Π_{0} Π_{1} Π_{3} + 2.49805324303784 \\cdot 10^{-47} Π_{3} Π_{0} Π_{1} Π_{4} - 2.67565529940743 \\cdot 10^{-48} Π_{3} Π_{0} Π_{1}^{2} + 2.60321390158402 \\cdot 10^{-32} Π_{3} Π_{0} Π_{2} - 6.48203796271667 \\cdot 10^{-48} Π_{3} Π_{0} Π_{2} Π_{0} - 1.12188514531132 \\cdot 10^{-47} Π_{3} Π_{0} Π_{2} Π_{1} + 1.55928032610555 \\cdot 10^{-62} Π_{3} Π_{0} Π_{2} Π_{3} + 6.30229178621136 \\cdot 10^{-47} Π_{3} Π_{0} Π_{2} Π_{4} - 4.69258043582833 \\cdot 10^{-47} Π_{3} Π_{0} Π_{2}^{2} - 5.35785943003061 \\cdot 10^{-32} Π_{3} Π_{0}^{2} - 2.77967529849588 \\cdot 10^{-48} Π_{3} Π_{0}^{2} Π_{1} - 1.55661816715769 \\cdot 10^{-47} Π_{3} Π_{0}^{2} Π_{2} + 6.41900379613362 \\cdot 10^{-63} Π_{3} Π_{0}^{2} Π_{3} + 6.67122071639011 \\cdot 10^{-48} Π_{3} Π_{0}^{2} Π_{4} - 1.66780517909753 \\cdot 10^{-48} Π_{3} Π_{0}^{3} - 4.41924143296979 \\cdot 10^{-32} Π_{3} Π_{1} Π_{0} - 2.29271715873395 \\cdot 10^{-48} Π_{3} Π_{1} Π_{0} Π_{1} - 1.28392160889101 \\cdot 10^{-47} Π_{3} Π_{1} Π_{0} Π_{2} + 5.29448894744556 \\cdot 10^{-63} Π_{3} Π_{1} Π_{0} Π_{3} + 5.50252118096147 \\cdot 10^{-48} Π_{3} Π_{1} Π_{0} Π_{4} - 1.37563029524037 \\cdot 10^{-48} Π_{3} Π_{1} Π_{0}^{2} + 2.1471691975124 \\cdot 10^{-32} Π_{3} Π_{1} Π_{2} - 5.34648045716961 \\cdot 10^{-48} Π_{3} Π_{1} Π_{2} Π_{0} - 9.25347404488507 \\cdot 10^{-48} Π_{3} Π_{1} Π_{2} Π_{1} + 1.28611739683154 \\cdot 10^{-62} Π_{3} Π_{1} Π_{2} Π_{3} + 5.19822316132159 \\cdot 10^{-47} Π_{3} Π_{1} Π_{2} Π_{4} - 3.8705095123105 \\cdot 10^{-47} Π_{3} Π_{1} Π_{2}^{2} - 4.41924143296979 \\cdot 10^{-32} Π_{3} Π_{1}^{2} - 1.73137741140783 \\cdot 10^{-48} Π_{3} Π_{1}^{2} Π_{0} - 5.61624328020375 \\cdot 10^{-48} Π_{3} Π_{1}^{2} Π_{2} + 4.36697252484997 \\cdot 10^{-63} Π_{3} Π_{1}^{2} Π_{3} + 2.06043113627083 \\cdot 10^{-47} Π_{3} Π_{1}^{2} Π_{4} - 2.20691993022649 \\cdot 10^{-48} Π_{3} Π_{1}^{3} - 1.30151111677453 \\cdot 10^{-31} Π_{3} Π_{2} Π_{0} - 6.75228297655297 \\cdot 10^{-48} Π_{3} Π_{2} Π_{0} Π_{1} - 3.78127846686967 \\cdot 10^{-47} Π_{3} Π_{2} Π_{0} Π_{2} + 1.55928032610555 \\cdot 10^{-62} Π_{3} Π_{2} Π_{0} Π_{3} + 1.62054791437271 \\cdot 10^{-47} Π_{3} Π_{2} Π_{0} Π_{4} - 4.05136978593178 \\cdot 10^{-48} Π_{3} Π_{2} Π_{0}^{2} - 1.30151111677453 \\cdot 10^{-31} Π_{3} Π_{2} Π_{1} - 5.09908087724747 \\cdot 10^{-48} Π_{3} Π_{2} Π_{1} Π_{0} - 1.65404021811573 \\cdot 10^{-47} Π_{3} Π_{2} Π_{1} Π_{2} + 1.28611739683154 \\cdot 10^{-62} Π_{3} Π_{2} Π_{1} Π_{3} + 6.06817724236157 \\cdot 10^{-47} Π_{3} Π_{2} Π_{1} Π_{4} - 6.49960149629301 \\cdot 10^{-48} Π_{3} Π_{2} Π_{1}^{2} + 6.32362956979303 \\cdot 10^{-32} Π_{3} Π_{2}^{2} - 1.57459234942677 \\cdot 10^{-47} Π_{3} Π_{2}^{2} Π_{0} - 2.7252413159308 \\cdot 10^{-47} Π_{3} Π_{2}^{2} Π_{1} + 3.78774528353498 \\cdot 10^{-62} Π_{3} Π_{2}^{2} Π_{3} + 1.53092908241231 \\cdot 10^{-46} Π_{3} Π_{2}^{2} Π_{4} - 1.13990403879528 \\cdot 10^{-46} Π_{3} Π_{2}^{3} - 5.56838163059754 \\cdot 10^{-17} Π_{4} Π_{0} Π_{1} - 2.18158937897992 \\cdot 10^{-33} Π_{4} Π_{0} Π_{1} Π_{0} - 7.07664118125298 \\cdot 10^{-33} Π_{4} Π_{0} Π_{1} Π_{2} + 5.50252118096147 \\cdot 10^{-48} Π_{4} Π_{0} Π_{1} Π_{3} + 2.59620730488389 \\cdot 10^{-32} Π_{4} Π_{0} Π_{1} Π_{4} - 2.78078774062689 \\cdot 10^{-33} Π_{4} Π_{0} Π_{1}^{2} + 2.70549995933988 \\cdot 10^{-17} Π_{4} Π_{0} Π_{2} - 6.73673163542128 \\cdot 10^{-33} Π_{4} Π_{0} Π_{2} Π_{0} - 1.16596650516382 \\cdot 10^{-32} Π_{4} Π_{0} Π_{2} Π_{1} + 1.62054791437271 \\cdot 10^{-47} Π_{4} Π_{0} Π_{2} Π_{3} + 6.54992283229883 \\cdot 10^{-32} Π_{4} Π_{0} Π_{2} Π_{4} - 4.87696234666213 \\cdot 10^{-32} Π_{4} Π_{0} Π_{2}^{2} - 5.56838163059754 \\cdot 10^{-17} Π_{4} Π_{0}^{2} - 2.88889491658085 \\cdot 10^{-33} Π_{4} Π_{0}^{2} Π_{1} - 1.61778115328528 \\cdot 10^{-32} Π_{4} Π_{0}^{2} Π_{2} + 6.67122071639011 \\cdot 10^{-48} Π_{4} Π_{0}^{2} Π_{3} + 6.93334779979404 \\cdot 10^{-33} Π_{4} Π_{0}^{2} Π_{4} - 1.73333694994851 \\cdot 10^{-33} Π_{4} Π_{0}^{3} - 2.08509272622499 \\cdot 10^{-16} Π_{4} Π_{1} Π_{0} - 1.08175304370162 \\cdot 10^{-32} Π_{4} Π_{1} Π_{0} Π_{1} - 6.05781704472908 \\cdot 10^{-32} Π_{4} Π_{1} Π_{0} Π_{2} + 2.49805324303784 \\cdot 10^{-47} Π_{4} Π_{1} Π_{0} Π_{3} + 2.59620730488389 \\cdot 10^{-32} Π_{4} Π_{1} Π_{0} Π_{4} - 6.49051826220973 \\cdot 10^{-33} Π_{4} Π_{1} Π_{0}^{2} + 1.01308039934329 \\cdot 10^{-16} Π_{4} Π_{1} Π_{2} - 2.52258395048964 \\cdot 10^{-32} Π_{4} Π_{1} Π_{2} Π_{0} - 4.36598717584333 \\cdot 10^{-32} Π_{4} Π_{1} Π_{2} Π_{1} + 6.06817724236157 \\cdot 10^{-47} Π_{4} Π_{1} Π_{2} Π_{3} + 2.45263298404634 \\cdot 10^{-31} Π_{4} Π_{1} Π_{2} Π_{4} - 1.82618925743549 \\cdot 10^{-31} Π_{4} Π_{1} Π_{2}^{2} - 2.08509272622499 \\cdot 10^{-16} Π_{4} Π_{1}^{2} - 8.16900932350893 \\cdot 10^{-33} Π_{4} Π_{1}^{2} Π_{0} - 2.64986382615292 \\cdot 10^{-32} Π_{4} Π_{1}^{2} Π_{2} + 2.06043113627083 \\cdot 10^{-47} Π_{4} Π_{1}^{2} Π_{3} + 9.72155524944629 \\cdot 10^{-32} Π_{4} Π_{1}^{2} Π_{4} - 1.04127207433061 \\cdot 10^{-32} Π_{4} Π_{1}^{3} - 5.26044142517813 \\cdot 10^{-16} Π_{4} Π_{2} Π_{0} - 2.72913451345785 \\cdot 10^{-32} Π_{4} Π_{2} Π_{0} Π_{1} - 1.52831532753639 \\cdot 10^{-31} Π_{4} Π_{2} Π_{0} Π_{2} + 6.30229178621136 \\cdot 10^{-47} Π_{4} Π_{2} Π_{0} Π_{3} + 6.54992283229883 \\cdot 10^{-32} Π_{4} Π_{2} Π_{0} Π_{4} - 1.63748070807471 \\cdot 10^{-32} Π_{4} Π_{2} Π_{0}^{2} - 5.26044142517813 \\cdot 10^{-16} Π_{4} Π_{2} Π_{1} - 2.06094407733384 \\cdot 10^{-32} Π_{4} Π_{2} Π_{1} Π_{0} - 6.68529186585042 \\cdot 10^{-32} Π_{4} Π_{2} Π_{1} Π_{2} + 5.19822316132159 \\cdot 10^{-47} Π_{4} Π_{2} Π_{1} Π_{3} + 2.45263298404634 \\cdot 10^{-31} Π_{4} Π_{2} Π_{1} Π_{4} - 2.62700583326424 \\cdot 10^{-32} Π_{4} Π_{2} Π_{1}^{2} + 2.55588158392837 \\cdot 10^{-16} Π_{4} Π_{2}^{2} - 6.36417984905162 \\cdot 10^{-32} Π_{4} Π_{2}^{2} Π_{0} - 1.10148673546927 \\cdot 10^{-31} Π_{4} Π_{2}^{2} Π_{1} + 1.53092908241231 \\cdot 10^{-46} Π_{4} Π_{2}^{2} Π_{3} + 6.18770186465244 \\cdot 10^{-31} Π_{4} Π_{2}^{2} Π_{4} - 4.60725870806782 \\cdot 10^{-31} Π_{4} Π_{2}^{3}$"
      ],
      "text/plain": [
       "                                                                              \n",
       "0.447213595499958⋅Π₀⋅Π₁ + 3.50420102213229e-17⋅Π₀⋅Π₁⋅Π₀ + 9.08995574574966e-34\n",
       "\n",
       "                                                                              \n",
       "⋅Π₀⋅Π₁⋅Π₀⋅Π₁ + 5.09037521761981e-33⋅Π₀⋅Π₁⋅Π₀⋅Π₂ - 2.09911065764504e-48⋅Π₀⋅Π₁⋅Π\n",
       "\n",
       "                                                                       2      \n",
       "₀⋅Π₃ - 2.18158937897992e-33⋅Π₀⋅Π₁⋅Π₀⋅Π₄ + 5.45397344744979e-34⋅Π₀⋅Π₁⋅Π₀  + 4.8\n",
       "\n",
       "                                                                              \n",
       "3217483837864e-17⋅Π₀⋅Π₁⋅Π₂ + 2.11972377691909e-33⋅Π₀⋅Π₁⋅Π₂⋅Π₀ + 3.668732937336\n",
       "\n",
       "                                                                              \n",
       "96e-33⋅Π₀⋅Π₁⋅Π₂⋅Π₁ - 5.09908087724747e-48⋅Π₀⋅Π₁⋅Π₂⋅Π₃ - 2.06094407733384e-32⋅Π\n",
       "\n",
       "                                          2                                   \n",
       "₀⋅Π₁⋅Π₂⋅Π₄ + 1.53454428717381e-32⋅Π₀⋅Π₁⋅Π₂  - 4.41924143296979e-32⋅Π₀⋅Π₁⋅Π₃ - \n",
       "\n",
       "                                                          2                   \n",
       "2.08509272622499e-16⋅Π₀⋅Π₁⋅Π₄ + 3.98543537621709e-17⋅Π₀⋅Π₁  + 6.864407146313e-\n",
       "\n",
       "        2                                2                                2   \n",
       "34⋅Π₀⋅Π₁ ⋅Π₀ + 2.22667687900093e-33⋅Π₀⋅Π₁ ⋅Π₂ - 1.73137741140783e-48⋅Π₀⋅Π₁ ⋅Π₃\n",
       "\n",
       "                             2                                3               \n",
       " - 8.16900932350893e-33⋅Π₀⋅Π₁ ⋅Π₄ + 8.74979472446109e-34⋅Π₀⋅Π₁  - 0.2172868967\n",
       "\n",
       "                                                                              \n",
       "5164⋅Π₀⋅Π₂ + 1.08209464668885e-16⋅Π₀⋅Π₂⋅Π₀ + 2.80697151475887e-33⋅Π₀⋅Π₂⋅Π₀⋅Π₁ \n",
       "\n",
       "                                                                              \n",
       "+ 1.57190404826497e-32⋅Π₀⋅Π₂⋅Π₀⋅Π₂ - 6.48203796271667e-48⋅Π₀⋅Π₂⋅Π₀⋅Π₃ - 6.7367\n",
       "\n",
       "                                                          2                   \n",
       "3163542128e-33⋅Π₀⋅Π₂⋅Π₀⋅Π₄ + 1.68418290885532e-33⋅Π₀⋅Π₂⋅Π₀  + 1.47747034101549\n",
       "\n",
       "                                                                              \n",
       "e-16⋅Π₀⋅Π₂⋅Π₁ + 2.11972377691909e-33⋅Π₀⋅Π₂⋅Π₁⋅Π₀ + 6.87596149722766e-33⋅Π₀⋅Π₂⋅\n",
       "\n",
       "                                                                              \n",
       "Π₁⋅Π₂ - 5.34648045716961e-48⋅Π₀⋅Π₂⋅Π₁⋅Π₃ - 2.52258395048964e-32⋅Π₀⋅Π₂⋅Π₁⋅Π₄ + \n",
       "\n",
       "                             2                                                \n",
       "2.70193004658288e-33⋅Π₀⋅Π₂⋅Π₁  - 1.30151111677453e-31⋅Π₀⋅Π₂⋅Π₃ - 5.26044142517\n",
       "\n",
       "                                             2                             2  \n",
       "813e-16⋅Π₀⋅Π₂⋅Π₄ + 3.65395845690162e-16⋅Π₀⋅Π₂  + 6.54569112038978e-33⋅Π₀⋅Π₂ ⋅Π\n",
       "\n",
       "                              2                                2              \n",
       "₀ + 1.13290197866779e-32⋅Π₀⋅Π₂ ⋅Π₁ - 1.57459234942677e-47⋅Π₀⋅Π₂ ⋅Π₃ - 6.364179\n",
       "\n",
       "                  2                                3                       2  \n",
       "84905162e-32⋅Π₀⋅Π₂ ⋅Π₄ + 4.73866124622987e-32⋅Π₀⋅Π₂  + 0.447213595499958⋅Π₀  +\n",
       "\n",
       "                        2                             2                       \n",
       " 3.71225442039836e-17⋅Π₀ ⋅Π₁ + 5.45397344744979e-34⋅Π₀ ⋅Π₁⋅Π₀ + 1.769160295313\n",
       "\n",
       "         2                                2                                2  \n",
       "25e-33⋅Π₀ ⋅Π₁⋅Π₂ - 1.37563029524037e-48⋅Π₀ ⋅Π₁⋅Π₃ - 6.49051826220973e-33⋅Π₀ ⋅Π\n",
       "\n",
       "                              2   2                          2                \n",
       "₁⋅Π₄ + 6.95196935156723e-34⋅Π₀ ⋅Π₁  + 1.23165154815593e-16⋅Π₀ ⋅Π₂ + 1.68418290\n",
       "\n",
       "             2                                2                               \n",
       "885532e-33⋅Π₀ ⋅Π₂⋅Π₀ + 2.91491626290954e-33⋅Π₀ ⋅Π₂⋅Π₁ - 4.05136978593178e-48⋅Π\n",
       "\n",
       " 2                                2                                2   2      \n",
       "₀ ⋅Π₂⋅Π₃ - 1.63748070807471e-32⋅Π₀ ⋅Π₂⋅Π₄ + 1.21924058666553e-32⋅Π₀ ⋅Π₂  - 5.3\n",
       "\n",
       "                    2                             2                           \n",
       "5785943003061e-32⋅Π₀ ⋅Π₃ - 5.56838163059754e-17⋅Π₀ ⋅Π₄ + 2.78419081529877e-17⋅\n",
       "\n",
       "  3                          3                            3                   \n",
       "Π₀  + 7.22223729145213e-34⋅Π₀ ⋅Π₁ + 4.0444528832132e-33⋅Π₀ ⋅Π₂ - 1.66780517909\n",
       "\n",
       "          3                             3                             4       \n",
       "753e-48⋅Π₀ ⋅Π₃ - 1.73333694994851e-33⋅Π₀ ⋅Π₄ + 4.33334237487128e-34⋅Π₀  + 0.44\n",
       "\n",
       "                                                                              \n",
       "7213595499958⋅Π₁⋅Π₀ + 4.64031802549796e-17⋅Π₁⋅Π₀⋅Π₁ + 9.08995574574966e-34⋅Π₁⋅\n",
       "\n",
       "                                                                              \n",
       "Π₀⋅Π₁⋅Π₀ + 2.94860049218874e-33⋅Π₁⋅Π₀⋅Π₁⋅Π₂ - 2.29271715873395e-48⋅Π₁⋅Π₀⋅Π₁⋅Π₃\n",
       "\n",
       "                                                                   2          \n",
       " - 1.08175304370162e-32⋅Π₁⋅Π₀⋅Π₁⋅Π₄ + 1.15866155859454e-33⋅Π₁⋅Π₀⋅Π₁  + 1.18655\n",
       "\n",
       "                                                                              \n",
       "988216693e-16⋅Π₁⋅Π₀⋅Π₂ + 2.80697151475887e-33⋅Π₁⋅Π₀⋅Π₂⋅Π₀ + 4.8581937715159e-3\n",
       "\n",
       "                                                                              \n",
       "3⋅Π₁⋅Π₀⋅Π₂⋅Π₁ - 6.75228297655297e-48⋅Π₁⋅Π₀⋅Π₂⋅Π₃ - 2.72913451345785e-32⋅Π₁⋅Π₀⋅\n",
       "\n",
       "                                     2                                        \n",
       "Π₂⋅Π₄ + 2.03206764444255e-32⋅Π₁⋅Π₀⋅Π₂  - 5.35785943003061e-32⋅Π₁⋅Π₀⋅Π₃ - 5.568\n",
       "\n",
       "                                                     2                        \n",
       "38163059754e-17⋅Π₁⋅Π₀⋅Π₄ + 3.71225442039836e-17⋅Π₁⋅Π₀  + 1.20370621524202e-33⋅\n",
       "\n",
       "     2                                2                                2      \n",
       "Π₁⋅Π₀ ⋅Π₁ + 6.74075480535533e-33⋅Π₁⋅Π₀ ⋅Π₂ - 2.77967529849588e-48⋅Π₁⋅Π₀ ⋅Π₃ - \n",
       "\n",
       "                          2                                3                  \n",
       "2.88889491658085e-33⋅Π₁⋅Π₀ ⋅Π₄ + 7.22223729145213e-34⋅Π₁⋅Π₀  - 0.2172868967516\n",
       "\n",
       "                                                                              \n",
       "4⋅Π₁⋅Π₂ + 1.47747034101549e-16⋅Π₁⋅Π₂⋅Π₀ + 4.8581937715159e-33⋅Π₁⋅Π₂⋅Π₀⋅Π₁ + 2.\n",
       "\n",
       "                                                                              \n",
       "72058851204891e-32⋅Π₁⋅Π₂⋅Π₀⋅Π₂ - 1.12188514531132e-47⋅Π₁⋅Π₂⋅Π₀⋅Π₃ - 1.16596650\n",
       "\n",
       "                                                      2                       \n",
       "516382e-32⋅Π₁⋅Π₂⋅Π₀⋅Π₄ + 2.91491626290954e-33⋅Π₁⋅Π₂⋅Π₀  + 1.87284603534214e-16\n",
       "\n",
       "                                                                              \n",
       "⋅Π₁⋅Π₂⋅Π₁ + 3.66873293733696e-33⋅Π₁⋅Π₂⋅Π₁⋅Π₀ + 1.19006385149884e-32⋅Π₁⋅Π₂⋅Π₁⋅Π\n",
       "\n",
       "                                                                              \n",
       "₂ - 9.25347404488507e-48⋅Π₁⋅Π₂⋅Π₁⋅Π₃ - 4.36598717584333e-32⋅Π₁⋅Π₂⋅Π₁⋅Π₄ + 4.67\n",
       "\n",
       "                         2                                                    \n",
       "639220931256e-33⋅Π₁⋅Π₂⋅Π₁  - 1.30151111677453e-31⋅Π₁⋅Π₂⋅Π₃ - 5.26044142517813e\n",
       "\n",
       "                                         2                             2      \n",
       "-16⋅Π₁⋅Π₂⋅Π₄ + 3.46185795160455e-16⋅Π₁⋅Π₂  + 1.13290197866779e-32⋅Π₁⋅Π₂ ⋅Π₀ + \n",
       "\n",
       "                          2                               2                   \n",
       "1.96078132876056e-32⋅Π₁⋅Π₂ ⋅Π₁ - 2.7252413159308e-47⋅Π₁⋅Π₂ ⋅Π₃ - 1.10148673546\n",
       "\n",
       "             2                                3                       2       \n",
       "927e-31⋅Π₁⋅Π₂ ⋅Π₄ + 8.20148492092389e-32⋅Π₁⋅Π₂  + 0.447213595499958⋅Π₁  + 3.98\n",
       "\n",
       "                   2                             2                            \n",
       "543537621709e-17⋅Π₁ ⋅Π₀ + 1.15866155859454e-33⋅Π₁ ⋅Π₀⋅Π₁ + 6.48850472812942e-3\n",
       "\n",
       "    2                                2                                2       \n",
       "3⋅Π₁ ⋅Π₀⋅Π₂ - 2.67565529940743e-48⋅Π₁ ⋅Π₀⋅Π₃ - 2.78078774062689e-33⋅Π₁ ⋅Π₀⋅Π₄ \n",
       "\n",
       "                         2   2                          2                     \n",
       "+ 6.95196935156723e-34⋅Π₁ ⋅Π₀  + 4.59835833444954e-17⋅Π₁ ⋅Π₂ + 2.7019300465828\n",
       "\n",
       "        2                                2                                2   \n",
       "8e-33⋅Π₁ ⋅Π₂⋅Π₀ + 4.67639220931256e-33⋅Π₁ ⋅Π₂⋅Π₁ - 6.49960149629301e-48⋅Π₁ ⋅Π₂\n",
       "\n",
       "                             2                                2   2           \n",
       "⋅Π₃ - 2.62700583326424e-32⋅Π₁ ⋅Π₂⋅Π₄ + 1.95602434735783e-32⋅Π₁ ⋅Π₂  - 4.419241\n",
       "\n",
       "               2                             2                             3  \n",
       "43296979e-32⋅Π₁ ⋅Π₃ - 2.08509272622499e-16⋅Π₁ ⋅Π₄ + 4.46666973030189e-17⋅Π₁  +\n",
       "\n",
       "                        3                             3                       \n",
       " 8.74979472446109e-34⋅Π₁ ⋅Π₀ + 2.83825903587705e-33⋅Π₁ ⋅Π₂ - 2.20691993022649e\n",
       "\n",
       "      3                             3                             4           \n",
       "-48⋅Π₁ ⋅Π₃ - 1.04127207433061e-32⋅Π₁ ⋅Π₄ + 1.11530254672216e-33⋅Π₁  - 0.217286\n",
       "\n",
       "                                                                              \n",
       "89675164⋅Π₂⋅Π₀ + 1.18655988216693e-16⋅Π₂⋅Π₀⋅Π₁ + 5.09037521761981e-33⋅Π₂⋅Π₀⋅Π₁\n",
       "\n",
       "                                                                              \n",
       "⋅Π₀ + 1.6512162756257e-32⋅Π₂⋅Π₀⋅Π₁⋅Π₂ - 1.28392160889101e-47⋅Π₂⋅Π₀⋅Π₁⋅Π₃ - 6.0\n",
       "\n",
       "                                                             2                \n",
       "5781704472908e-32⋅Π₂⋅Π₀⋅Π₁⋅Π₄ + 6.48850472812942e-33⋅Π₂⋅Π₀⋅Π₁  - 1.26256664769\n",
       "\n",
       "                                                                              \n",
       "195e-16⋅Π₂⋅Π₀⋅Π₂ + 1.57190404826497e-32⋅Π₂⋅Π₀⋅Π₂⋅Π₀ + 2.72058851204891e-32⋅Π₂⋅\n",
       "\n",
       "                                                                              \n",
       "Π₀⋅Π₂⋅Π₁ - 3.78127846686967e-47⋅Π₂⋅Π₀⋅Π₂⋅Π₃ - 1.52831532753639e-31⋅Π₂⋅Π₀⋅Π₂⋅Π₄\n",
       "\n",
       "                                2                                             \n",
       " + 1.13795788088783e-31⋅Π₂⋅Π₀⋅Π₂  + 2.60321390158402e-32⋅Π₂⋅Π₀⋅Π₃ + 2.70549995\n",
       "\n",
       "                                                2                             \n",
       "933988e-17⋅Π₂⋅Π₀⋅Π₄ + 1.23165154815593e-16⋅Π₂⋅Π₀  + 6.74075480535533e-33⋅Π₂⋅Π₀\n",
       "\n",
       "2                                2                                2           \n",
       " ⋅Π₁ + 3.77482269099898e-32⋅Π₂⋅Π₀ ⋅Π₂ - 1.55661816715769e-47⋅Π₂⋅Π₀ ⋅Π₃ - 1.617\n",
       "\n",
       "                     2                               3                        \n",
       "78115328528e-32⋅Π₂⋅Π₀ ⋅Π₄ + 4.0444528832132e-33⋅Π₂⋅Π₀  - 0.21728689675164⋅Π₂⋅Π\n",
       "\n",
       "                                                                              \n",
       "₁ + 4.83217483837864e-17⋅Π₂⋅Π₁⋅Π₀ + 2.94860049218874e-33⋅Π₂⋅Π₁⋅Π₀⋅Π₁ + 1.65121\n",
       "\n",
       "                                                                              \n",
       "62756257e-32⋅Π₂⋅Π₁⋅Π₀⋅Π₂ - 6.80909664624594e-48⋅Π₂⋅Π₁⋅Π₀⋅Π₃ - 7.07664118125298\n",
       "\n",
       "                                                2                             \n",
       "e-33⋅Π₂⋅Π₁⋅Π₀⋅Π₄ + 1.76916029531325e-33⋅Π₂⋅Π₁⋅Π₀  - 5.52283052314543e-17⋅Π₂⋅Π₁\n",
       "\n",
       "                                                                              \n",
       "⋅Π₂ + 6.87596149722766e-33⋅Π₂⋅Π₁⋅Π₂⋅Π₀ + 1.19006385149884e-32⋅Π₂⋅Π₁⋅Π₂⋅Π₁ - 1.\n",
       "\n",
       "                                                                              \n",
       "65404021811573e-47⋅Π₂⋅Π₁⋅Π₂⋅Π₃ - 6.68529186585042e-32⋅Π₂⋅Π₁⋅Π₂⋅Π₄ + 4.97775585\n",
       "\n",
       "                  2                                                           \n",
       "16298e-32⋅Π₂⋅Π₁⋅Π₂  + 2.1471691975124e-32⋅Π₂⋅Π₁⋅Π₃ + 1.01308039934329e-16⋅Π₂⋅Π\n",
       "\n",
       "                                 2                             2              \n",
       "₁⋅Π₄ + 4.59835833444954e-17⋅Π₂⋅Π₁  + 2.22667687900093e-33⋅Π₂⋅Π₁ ⋅Π₀ + 7.222896\n",
       "\n",
       "                  2                                2                          \n",
       "04593227e-33⋅Π₂⋅Π₁ ⋅Π₂ - 5.61624328020375e-48⋅Π₂⋅Π₁ ⋅Π₃ - 2.64986382615292e-32\n",
       "\n",
       "      2                                3                       2              \n",
       "⋅Π₂⋅Π₁ ⋅Π₄ + 2.83825903587705e-33⋅Π₂⋅Π₁  + 0.105572809000084⋅Π₂  + 3.653958456\n",
       "\n",
       "            2                             2                                2  \n",
       "90162e-16⋅Π₂ ⋅Π₀ + 2.03206764444255e-32⋅Π₂ ⋅Π₀⋅Π₁ + 1.13795788088783e-31⋅Π₂ ⋅Π\n",
       "\n",
       "                              2                                2              \n",
       "₀⋅Π₂ - 4.69258043582833e-47⋅Π₂ ⋅Π₀⋅Π₃ - 4.87696234666213e-32⋅Π₂ ⋅Π₀⋅Π₄ + 1.219\n",
       "\n",
       "                  2   2                          2                            \n",
       "24058666553e-32⋅Π₂ ⋅Π₀  + 3.46185795160455e-16⋅Π₂ ⋅Π₁ + 1.53454428717381e-32⋅Π\n",
       "\n",
       " 2                               2                               2            \n",
       "₂ ⋅Π₁⋅Π₀ + 4.9777558516298e-32⋅Π₂ ⋅Π₁⋅Π₂ - 3.8705095123105e-47⋅Π₂ ⋅Π₁⋅Π₃ - 1.8\n",
       "\n",
       "                    2                                2   2                    \n",
       "2618925743549e-31⋅Π₂ ⋅Π₁⋅Π₄ + 1.95602434735783e-32⋅Π₂ ⋅Π₁  + 6.32362956979303e\n",
       "\n",
       "      2                             2                             3           \n",
       "-32⋅Π₂ ⋅Π₃ + 2.55588158392837e-16⋅Π₂ ⋅Π₄ - 3.80613285575793e-16⋅Π₂  + 4.738661\n",
       "\n",
       "               3                             3                             3  \n",
       "24622987e-32⋅Π₂ ⋅Π₀ + 8.20148492092389e-32⋅Π₂ ⋅Π₁ - 1.13990403879528e-46⋅Π₂ ⋅Π\n",
       "\n",
       "                           3                             4                    \n",
       "₃ - 4.60725870806782e-31⋅Π₂ ⋅Π₄ + 3.43048732265627e-31⋅Π₂  - 5.35785943003061e\n",
       "\n",
       "                                                                              \n",
       "-32⋅Π₃⋅Π₀⋅Π₁ - 2.09911065764504e-48⋅Π₃⋅Π₀⋅Π₁⋅Π₀ - 6.80909664624594e-48⋅Π₃⋅Π₀⋅Π\n",
       "\n",
       "                                                                              \n",
       "₁⋅Π₂ + 5.29448894744556e-63⋅Π₃⋅Π₀⋅Π₁⋅Π₃ + 2.49805324303784e-47⋅Π₃⋅Π₀⋅Π₁⋅Π₄ - 2\n",
       "\n",
       "                            2                                                 \n",
       ".67565529940743e-48⋅Π₃⋅Π₀⋅Π₁  + 2.60321390158402e-32⋅Π₃⋅Π₀⋅Π₂ - 6.482037962716\n",
       "\n",
       "                                                                              \n",
       "67e-48⋅Π₃⋅Π₀⋅Π₂⋅Π₀ - 1.12188514531132e-47⋅Π₃⋅Π₀⋅Π₂⋅Π₁ + 1.55928032610555e-62⋅Π\n",
       "\n",
       "                                                                             2\n",
       "₃⋅Π₀⋅Π₂⋅Π₃ + 6.30229178621136e-47⋅Π₃⋅Π₀⋅Π₂⋅Π₄ - 4.69258043582833e-47⋅Π₃⋅Π₀⋅Π₂ \n",
       "\n",
       "                             2                             2                  \n",
       " - 5.35785943003061e-32⋅Π₃⋅Π₀  - 2.77967529849588e-48⋅Π₃⋅Π₀ ⋅Π₁ - 1.5566181671\n",
       "\n",
       "              2                                2                              \n",
       "5769e-47⋅Π₃⋅Π₀ ⋅Π₂ + 6.41900379613362e-63⋅Π₃⋅Π₀ ⋅Π₃ + 6.67122071639011e-48⋅Π₃⋅\n",
       "\n",
       "  2                                3                                          \n",
       "Π₀ ⋅Π₄ - 1.66780517909753e-48⋅Π₃⋅Π₀  - 4.41924143296979e-32⋅Π₃⋅Π₁⋅Π₀ - 2.29271\n",
       "\n",
       "                                                                              \n",
       "715873395e-48⋅Π₃⋅Π₁⋅Π₀⋅Π₁ - 1.28392160889101e-47⋅Π₃⋅Π₁⋅Π₀⋅Π₂ + 5.2944889474455\n",
       "\n",
       "                                                                              \n",
       "6e-63⋅Π₃⋅Π₁⋅Π₀⋅Π₃ + 5.50252118096147e-48⋅Π₃⋅Π₁⋅Π₀⋅Π₄ - 1.37563029524037e-48⋅Π₃\n",
       "\n",
       "      2                                                                       \n",
       "⋅Π₁⋅Π₀  + 2.1471691975124e-32⋅Π₃⋅Π₁⋅Π₂ - 5.34648045716961e-48⋅Π₃⋅Π₁⋅Π₂⋅Π₀ - 9.\n",
       "\n",
       "                                                                              \n",
       "25347404488507e-48⋅Π₃⋅Π₁⋅Π₂⋅Π₁ + 1.28611739683154e-62⋅Π₃⋅Π₁⋅Π₂⋅Π₃ + 5.19822316\n",
       "\n",
       "                                                     2                        \n",
       "132159e-47⋅Π₃⋅Π₁⋅Π₂⋅Π₄ - 3.8705095123105e-47⋅Π₃⋅Π₁⋅Π₂  - 4.41924143296979e-32⋅\n",
       "\n",
       "     2                             2                                2         \n",
       "Π₃⋅Π₁  - 1.73137741140783e-48⋅Π₃⋅Π₁ ⋅Π₀ - 5.61624328020375e-48⋅Π₃⋅Π₁ ⋅Π₂ + 4.3\n",
       "\n",
       "                       2                                2                     \n",
       "6697252484997e-63⋅Π₃⋅Π₁ ⋅Π₃ + 2.06043113627083e-47⋅Π₃⋅Π₁ ⋅Π₄ - 2.2069199302264\n",
       "\n",
       "           3                                                                  \n",
       "9e-48⋅Π₃⋅Π₁  - 1.30151111677453e-31⋅Π₃⋅Π₂⋅Π₀ - 6.75228297655297e-48⋅Π₃⋅Π₂⋅Π₀⋅Π\n",
       "\n",
       "                                                                              \n",
       "₁ - 3.78127846686967e-47⋅Π₃⋅Π₂⋅Π₀⋅Π₂ + 1.55928032610555e-62⋅Π₃⋅Π₂⋅Π₀⋅Π₃ + 1.62\n",
       "\n",
       "                                                            2                 \n",
       "054791437271e-47⋅Π₃⋅Π₂⋅Π₀⋅Π₄ - 4.05136978593178e-48⋅Π₃⋅Π₂⋅Π₀  - 1.301511116774\n",
       "\n",
       "                                                                              \n",
       "53e-31⋅Π₃⋅Π₂⋅Π₁ - 5.09908087724747e-48⋅Π₃⋅Π₂⋅Π₁⋅Π₀ - 1.65404021811573e-47⋅Π₃⋅Π\n",
       "\n",
       "                                                                              \n",
       "₂⋅Π₁⋅Π₂ + 1.28611739683154e-62⋅Π₃⋅Π₂⋅Π₁⋅Π₃ + 6.06817724236157e-47⋅Π₃⋅Π₂⋅Π₁⋅Π₄ \n",
       "\n",
       "                               2                             2                \n",
       "- 6.49960149629301e-48⋅Π₃⋅Π₂⋅Π₁  + 6.32362956979303e-32⋅Π₃⋅Π₂  - 1.57459234942\n",
       "\n",
       "             2                               2                                \n",
       "677e-47⋅Π₃⋅Π₂ ⋅Π₀ - 2.7252413159308e-47⋅Π₃⋅Π₂ ⋅Π₁ + 3.78774528353498e-62⋅Π₃⋅Π₂\n",
       "\n",
       "2                                2                                3           \n",
       " ⋅Π₃ + 1.53092908241231e-46⋅Π₃⋅Π₂ ⋅Π₄ - 1.13990403879528e-46⋅Π₃⋅Π₂  - 5.568381\n",
       "\n",
       "                                                                              \n",
       "63059754e-17⋅Π₄⋅Π₀⋅Π₁ - 2.18158937897992e-33⋅Π₄⋅Π₀⋅Π₁⋅Π₀ - 7.07664118125298e-3\n",
       "\n",
       "                                                                              \n",
       "3⋅Π₄⋅Π₀⋅Π₁⋅Π₂ + 5.50252118096147e-48⋅Π₄⋅Π₀⋅Π₁⋅Π₃ + 2.59620730488389e-32⋅Π₄⋅Π₀⋅\n",
       "\n",
       "                                     2                                        \n",
       "Π₁⋅Π₄ - 2.78078774062689e-33⋅Π₄⋅Π₀⋅Π₁  + 2.70549995933988e-17⋅Π₄⋅Π₀⋅Π₂ - 6.736\n",
       "\n",
       "                                                                              \n",
       "73163542128e-33⋅Π₄⋅Π₀⋅Π₂⋅Π₀ - 1.16596650516382e-32⋅Π₄⋅Π₀⋅Π₂⋅Π₁ + 1.62054791437\n",
       "\n",
       "                                                                              \n",
       "271e-47⋅Π₄⋅Π₀⋅Π₂⋅Π₃ + 6.54992283229883e-32⋅Π₄⋅Π₀⋅Π₂⋅Π₄ - 4.87696234666213e-32⋅\n",
       "\n",
       "        2                             2                             2         \n",
       "Π₄⋅Π₀⋅Π₂  - 5.56838163059754e-17⋅Π₄⋅Π₀  - 2.88889491658085e-33⋅Π₄⋅Π₀ ⋅Π₁ - 1.6\n",
       "\n",
       "                       2                                2                     \n",
       "1778115328528e-32⋅Π₄⋅Π₀ ⋅Π₂ + 6.67122071639011e-48⋅Π₄⋅Π₀ ⋅Π₃ + 6.9333477997940\n",
       "\n",
       "           2                                3                                 \n",
       "4e-33⋅Π₄⋅Π₀ ⋅Π₄ - 1.73333694994851e-33⋅Π₄⋅Π₀  - 2.08509272622499e-16⋅Π₄⋅Π₁⋅Π₀ \n",
       "\n",
       "                                                                              \n",
       "- 1.08175304370162e-32⋅Π₄⋅Π₁⋅Π₀⋅Π₁ - 6.05781704472908e-32⋅Π₄⋅Π₁⋅Π₀⋅Π₂ + 2.4980\n",
       "\n",
       "                                                                              \n",
       "5324303784e-47⋅Π₄⋅Π₁⋅Π₀⋅Π₃ + 2.59620730488389e-32⋅Π₄⋅Π₁⋅Π₀⋅Π₄ - 6.490518262209\n",
       "\n",
       "               2                                                              \n",
       "73e-33⋅Π₄⋅Π₁⋅Π₀  + 1.01308039934329e-16⋅Π₄⋅Π₁⋅Π₂ - 2.52258395048964e-32⋅Π₄⋅Π₁⋅\n",
       "\n",
       "                                                                              \n",
       "Π₂⋅Π₀ - 4.36598717584333e-32⋅Π₄⋅Π₁⋅Π₂⋅Π₁ + 6.06817724236157e-47⋅Π₄⋅Π₁⋅Π₂⋅Π₃ + \n",
       "\n",
       "                                                                2             \n",
       "2.45263298404634e-31⋅Π₄⋅Π₁⋅Π₂⋅Π₄ - 1.82618925743549e-31⋅Π₄⋅Π₁⋅Π₂  - 2.08509272\n",
       "\n",
       "                2                             2                               \n",
       "622499e-16⋅Π₄⋅Π₁  - 8.16900932350893e-33⋅Π₄⋅Π₁ ⋅Π₀ - 2.64986382615292e-32⋅Π₄⋅Π\n",
       "\n",
       " 2                                2                                2          \n",
       "₁ ⋅Π₂ + 2.06043113627083e-47⋅Π₄⋅Π₁ ⋅Π₃ + 9.72155524944629e-32⋅Π₄⋅Π₁ ⋅Π₄ - 1.04\n",
       "\n",
       "                      3                                                       \n",
       "127207433061e-32⋅Π₄⋅Π₁  - 5.26044142517813e-16⋅Π₄⋅Π₂⋅Π₀ - 2.72913451345785e-32\n",
       "\n",
       "                                                                              \n",
       "⋅Π₄⋅Π₂⋅Π₀⋅Π₁ - 1.52831532753639e-31⋅Π₄⋅Π₂⋅Π₀⋅Π₂ + 6.30229178621136e-47⋅Π₄⋅Π₂⋅Π\n",
       "\n",
       "                                                                       2      \n",
       "₀⋅Π₃ + 6.54992283229883e-32⋅Π₄⋅Π₂⋅Π₀⋅Π₄ - 1.63748070807471e-32⋅Π₄⋅Π₂⋅Π₀  - 5.2\n",
       "\n",
       "                                                                              \n",
       "6044142517813e-16⋅Π₄⋅Π₂⋅Π₁ - 2.06094407733384e-32⋅Π₄⋅Π₂⋅Π₁⋅Π₀ - 6.685291865850\n",
       "\n",
       "                                                                              \n",
       "42e-32⋅Π₄⋅Π₂⋅Π₁⋅Π₂ + 5.19822316132159e-47⋅Π₄⋅Π₂⋅Π₁⋅Π₃ + 2.45263298404634e-31⋅Π\n",
       "\n",
       "                                          2                             2     \n",
       "₄⋅Π₂⋅Π₁⋅Π₄ - 2.62700583326424e-32⋅Π₄⋅Π₂⋅Π₁  + 2.55588158392837e-16⋅Π₄⋅Π₂  - 6.\n",
       "\n",
       "                        2                                2                    \n",
       "36417984905162e-32⋅Π₄⋅Π₂ ⋅Π₀ - 1.10148673546927e-31⋅Π₄⋅Π₂ ⋅Π₁ + 1.530929082412\n",
       "\n",
       "            2                                2                                \n",
       "31e-46⋅Π₄⋅Π₂ ⋅Π₃ + 6.18770186465244e-31⋅Π₄⋅Π₂ ⋅Π₄ - 4.60725870806782e-31⋅Π₄⋅Π₂\n",
       "\n",
       "3\n",
       " "
      ]
     },
     "metadata": {},
     "output_type": "display_data"
    }
   ],
   "source": [
    "display(iKCBS.F)"
   ]
  },
  {
   "cell_type": "markdown",
   "metadata": {
    "heading_collapsed": true
   },
   "source": [
    "### Debugging the evaluation of fidelity\n",
    "\n",
    "Eventually, had to convert all the exact coefficients into numbers; else it was taking too long; it is still rather slow actually."
   ]
  },
  {
   "cell_type": "code",
   "execution_count": 147,
   "metadata": {
    "hidden": true
   },
   "outputs": [
    {
     "data": {
      "text/latex": [
       "$\\displaystyle 1.0 Π_{0} + 0.0726833662213121 Π_{0} Π_{1} + 0.046931667608285 Π_{0} Π_{2} - 0.0147975567891668 Π_{0} Π_{2} Π_{0} - 0.0553750284221925 Π_{0} Π_{2} Π_{1} - 0.0646782681586076 Π_{0} Π_{2}^{2} - 0.0116171260768808 Π_{0}^{2} - 1.38777878078145 \\cdot 10^{-16} Π_{1} - 0.000584029405812086 Π_{1} Π_{0} + 0.0336186858067893 Π_{1} Π_{2} - 0.0122011554826929 Π_{1} Π_{3} Π_{0} + 0.0679087541802492 Π_{1} Π_{3} Π_{1} + 0.0568782768666882 Π_{1} Π_{3} Π_{2} + 0.0439465700661784 Π_{1}^{2} - 2.22044604925031 \\cdot 10^{-16} Π_{2} + 0.000584029405812086 Π_{2} Π_{0} - 0.0439465700661785 Π_{2} Π_{1} + 0.00608471223150619 Π_{2} Π_{4} Π_{0} + 0.0941591421728625 Π_{2} Π_{4} Π_{1} + 0.0922350830359193 Π_{2} Π_{4} Π_{2} - 0.0336186858067894 Π_{2}^{2} - 0.0104490672652566 Π_{3} Π_{0} - 2.31611890979353 \\cdot 10^{-16} Π_{3} Π_{0} Π_{1} - 1.58418857322291 \\cdot 10^{-16} Π_{3} Π_{0} Π_{2} - 3.71225442039836 \\cdot 10^{-17} Π_{3} Π_{0}^{2} - 0.0651459236158373 Π_{3} Π_{1} - 0.0445680947605423 Π_{3} Π_{2} + 4.14977851770065 \\cdot 10^{-18} Π_{4} Π_{0} - 2.06607623090549 \\cdot 10^{-16} Π_{4} Π_{1} + 0.014521407596101 Π_{4} Π_{1} Π_{0} - 0.0695620189859411 Π_{4} Π_{1} Π_{2} - 0.113282991685878 Π_{4} Π_{1}^{2} - 1.87542399618302 \\cdot 10^{-16} Π_{4} Π_{2}$"
      ],
      "text/plain": [
       "                                                                              \n",
       "1.0⋅Π₀ + 0.0726833662213121⋅Π₀⋅Π₁ + 0.046931667608285⋅Π₀⋅Π₂ - 0.01479755678916\n",
       "\n",
       "                                                                    2         \n",
       "68⋅Π₀⋅Π₂⋅Π₀ - 0.0553750284221925⋅Π₀⋅Π₂⋅Π₁ - 0.0646782681586076⋅Π₀⋅Π₂  - 0.0116\n",
       "\n",
       "               2                                                              \n",
       "171260768808⋅Π₀  - 1.38777878078145e-16⋅Π₁ - 0.000584029405812086⋅Π₁⋅Π₀ + 0.03\n",
       "\n",
       "                                                                              \n",
       "36186858067893⋅Π₁⋅Π₂ - 0.0122011554826929⋅Π₁⋅Π₃⋅Π₀ + 0.0679087541802492⋅Π₁⋅Π₃⋅\n",
       "\n",
       "                                                        2                     \n",
       "Π₁ + 0.0568782768666882⋅Π₁⋅Π₃⋅Π₂ + 0.0439465700661784⋅Π₁  - 2.22044604925031e-\n",
       "\n",
       "                                                                              \n",
       "16⋅Π₂ + 0.000584029405812086⋅Π₂⋅Π₀ - 0.0439465700661785⋅Π₂⋅Π₁ + 0.006084712231\n",
       "\n",
       "                                                                              \n",
       "50619⋅Π₂⋅Π₄⋅Π₀ + 0.0941591421728625⋅Π₂⋅Π₄⋅Π₁ + 0.0922350830359193⋅Π₂⋅Π₄⋅Π₂ - 0\n",
       "\n",
       "                    2                                                         \n",
       ".0336186858067894⋅Π₂  - 0.0104490672652566⋅Π₃⋅Π₀ - 2.31611890979353e-16⋅Π₃⋅Π₀⋅\n",
       "\n",
       "                                                               2              \n",
       "Π₁ - 1.58418857322291e-16⋅Π₃⋅Π₀⋅Π₂ - 3.71225442039836e-17⋅Π₃⋅Π₀  - 0.065145923\n",
       "\n",
       "                                                                              \n",
       "6158373⋅Π₃⋅Π₁ - 0.0445680947605423⋅Π₃⋅Π₂ + 4.14977851770065e-18⋅Π₄⋅Π₀ - 2.0660\n",
       "\n",
       "                                                                              \n",
       "7623090549e-16⋅Π₄⋅Π₁ + 0.014521407596101⋅Π₄⋅Π₁⋅Π₀ - 0.0695620189859411⋅Π₄⋅Π₁⋅Π\n",
       "\n",
       "                           2                             \n",
       "₂ - 0.113282991685878⋅Π₄⋅Π₁  - 1.87542399618302e-16⋅Π₄⋅Π₂"
      ]
     },
     "metadata": {},
     "output_type": "display_data"
    }
   ],
   "source": [
    "res=tdsimp(iKCBS.H0)\n",
    "#display(autoDropDim(sq.qapply(res).doit()))\n",
    "display(res)"
   ]
  },
  {
   "cell_type": "code",
   "execution_count": 26,
   "metadata": {
    "hidden": true
   },
   "outputs": [
    {
     "data": {
      "text/latex": [
       "$\\displaystyle \\left({\\left|2\\right\\rangle } {\\left\\langle 2\\right|}\\right)^{2}$"
      ],
      "text/plain": [
       "         2\n",
       "(❘2⟩⋅⟨2❘) "
      ]
     },
     "metadata": {},
     "output_type": "display_data"
    },
    {
     "name": "stdout",
     "output_type": "stream",
     "text": [
      "True\n",
      "2\n"
     ]
    },
    {
     "data": {
      "text/latex": [
       "$\\displaystyle {\\left|2\\right\\rangle }{\\left\\langle 2\\right|}$"
      ],
      "text/plain": [
       "❘2⟩⟨2❘"
      ]
     },
     "metadata": {},
     "output_type": "display_data"
    },
    {
     "data": {
      "text/latex": [
       "$\\displaystyle \\frac{{\\left|0\\right\\rangle }{\\left\\langle 0\\right|}}{4 \\left(\\frac{\\sqrt{5}}{4} + \\frac{5}{4}\\right)} + \\frac{\\sqrt{5} {\\left|0\\right\\rangle }{\\left\\langle 0\\right|}}{4 \\left(\\frac{\\sqrt{5}}{4} + \\frac{5}{4}\\right)} + \\frac{\\sqrt{\\frac{1}{4} + \\frac{\\sqrt{5}}{4}} \\sqrt{- \\frac{\\sqrt{5}}{4 \\left(\\frac{\\sqrt{5}}{4} + \\frac{5}{4}\\right)} - \\frac{1}{4 \\left(\\frac{\\sqrt{5}}{4} + \\frac{5}{4}\\right)} + 1} {\\left|0\\right\\rangle }{\\left\\langle 2\\right|}}{\\sqrt{\\frac{\\sqrt{5}}{4} + \\frac{5}{4}}} + \\frac{\\sqrt{\\frac{1}{4} + \\frac{\\sqrt{5}}{4}} \\sqrt{- \\frac{\\sqrt{5}}{4 \\left(\\frac{\\sqrt{5}}{4} + \\frac{5}{4}\\right)} - \\frac{1}{4 \\left(\\frac{\\sqrt{5}}{4} + \\frac{5}{4}\\right)} + 1} {\\left|2\\right\\rangle }{\\left\\langle 0\\right|}}{\\sqrt{\\frac{\\sqrt{5}}{4} + \\frac{5}{4}}} - \\frac{\\sqrt{5} {\\left|2\\right\\rangle }{\\left\\langle 2\\right|}}{4 \\left(\\frac{\\sqrt{5}}{4} + \\frac{5}{4}\\right)} - \\frac{{\\left|2\\right\\rangle }{\\left\\langle 2\\right|}}{4 \\left(\\frac{\\sqrt{5}}{4} + \\frac{5}{4}\\right)} + {\\left|2\\right\\rangle }{\\left\\langle 2\\right|}$"
      ],
      "text/plain": [
       "                              ________       _______________________________  \n",
       "                             ╱ 1   √5       ╱       √5           1            \n",
       "                            ╱  ─ + ── ⋅    ╱  - ────────── - ────────── + 1 ⋅❘\n",
       "                          ╲╱   4   4      ╱       ⎛√5   5⎞     ⎛√5   5⎞       \n",
       "                                         ╱      4⋅⎜── + ─⎟   4⋅⎜── + ─⎟       \n",
       "  ❘0⟩⟨0❘     √5⋅❘0⟩⟨0❘                 ╲╱         ⎝4    4⎠     ⎝4    4⎠       \n",
       "────────── + ────────── + ────────────────────────────────────────────────────\n",
       "  ⎛√5   5⎞     ⎛√5   5⎞                              ________                 \n",
       "4⋅⎜── + ─⎟   4⋅⎜── + ─⎟                             ╱ √5   5                  \n",
       "  ⎝4    4⎠     ⎝4    4⎠                            ╱  ── + ─                  \n",
       "                                                 ╲╱   4    4                  \n",
       "\n",
       "            ________       _______________________________                    \n",
       "           ╱ 1   √5       ╱       √5           1                              \n",
       "0⟩⟨2❘     ╱  ─ + ── ⋅    ╱  - ────────── - ────────── + 1 ⋅❘2⟩⟨0❘             \n",
       "        ╲╱   4   4      ╱       ⎛√5   5⎞     ⎛√5   5⎞                         \n",
       "                       ╱      4⋅⎜── + ─⎟   4⋅⎜── + ─⎟                         \n",
       "                     ╲╱         ⎝4    4⎠     ⎝4    4⎠               √5⋅❘2⟩⟨2❘ \n",
       "───── + ───────────────────────────────────────────────────────── - ──────────\n",
       "                                   ________                           ⎛√5   5⎞\n",
       "                                  ╱ √5   5                          4⋅⎜── + ─⎟\n",
       "                                 ╱  ── + ─                            ⎝4    4⎠\n",
       "                               ╲╱   4    4                                    \n",
       "\n",
       "                      \n",
       "                      \n",
       "                      \n",
       "                      \n",
       "                      \n",
       "     ❘2⟩⟨2❘           \n",
       " - ────────── + ❘2⟩⟨2❘\n",
       "     ⎛√5   5⎞         \n",
       "   4⋅⎜── + ─⎟         \n",
       "     ⎝4    4⎠         \n",
       "                      "
      ]
     },
     "metadata": {},
     "output_type": "display_data"
    }
   ],
   "source": [
    "res2=iKCBS.F2 #powerDrop(iKCBS.F2)\n",
    "powow=iKCBS.F2.args[0]\n",
    "display(powow)\n",
    "print(isinstance(powow,sp.Pow))\n",
    "print(powow.exp)\n",
    "display(sq.qapply(powow.base*powow.base))\n",
    "\n",
    "display(powerDrop(iKCBS.F2))\n",
    "\n",
    "\n",
    "#display(res2)"
   ]
  },
  {
   "cell_type": "code",
   "execution_count": null,
   "metadata": {
    "hidden": true
   },
   "outputs": [],
   "source": [
    "res=iKCBS._T_ * iKCBS._U_\n",
    "display(res)\n",
    "display(tsimp(res))"
   ]
  },
  {
   "cell_type": "code",
   "execution_count": null,
   "metadata": {
    "hidden": true
   },
   "outputs": [],
   "source": [
    "display(iKCBS._U_)"
   ]
  },
  {
   "cell_type": "code",
   "execution_count": null,
   "metadata": {
    "hidden": true
   },
   "outputs": [],
   "source": [
    "display(iKCBS._V_)"
   ]
  },
  {
   "cell_type": "code",
   "execution_count": null,
   "metadata": {
    "hidden": true
   },
   "outputs": [],
   "source": [
    "display(iKCBS._T_)"
   ]
  },
  {
   "cell_type": "code",
   "execution_count": null,
   "metadata": {
    "hidden": true,
    "scrolled": false
   },
   "outputs": [],
   "source": [
    "display(iKCBS.F1)\n",
    "\n",
    "display(tsimp(iKCBS.F1))\n",
    "#sq.qapply(iKCBS.F1).doit()"
   ]
  },
  {
   "cell_type": "code",
   "execution_count": null,
   "metadata": {
    "hidden": true,
    "scrolled": true
   },
   "outputs": [],
   "source": [
    "\n",
    "iKCBS=cls_iKCBS(5)\n",
    "\n",
    "#sp.init_printing()\n",
    "#sp.pprint(iKCBS.c[0])\n",
    "for i in range(10):\n",
    "    display(iKCBS.c[i])\n",
    "    \n",
    "\n",
    "display(sp.N(iKCBS.matΠs[1]*iKCBS.matΠs[3]))\n",
    "display(sp.N(sq.represent(iKCBS.T)))\n",
    "display(iKCBS._T)\n",
    "#display(sp.N(iKCBS._T_))\n",
    "#display(sp.N(iKCBS._U_))\n",
    "#display(sp.N(iKCBS._V_))\n",
    "display(sp.N(iKCBS.F))"
   ]
  },
  {
   "cell_type": "code",
   "execution_count": null,
   "metadata": {
    "hidden": true,
    "scrolled": false
   },
   "outputs": [],
   "source": [
    "#display(iKCBS._U_)\n",
    "\n",
    "#display(iKCBS.partial_trace(iKCBS._U_))\n",
    "\n"
   ]
  },
  {
   "cell_type": "code",
   "execution_count": null,
   "metadata": {
    "hidden": true
   },
   "outputs": [],
   "source": [
    "g = bKet(0)\n",
    "\n",
    "Id=sq.IdentityOperator()\n",
    "\n",
    "display(Id*g)\n",
    "\n",
    "del Id\n",
    "del g"
   ]
  },
  {
   "cell_type": "code",
   "execution_count": 249,
   "metadata": {
    "hidden": true
   },
   "outputs": [
    {
     "data": {
      "text/latex": [
       "$\\displaystyle {{\\left|1\\right\\rangle }}\\otimes {{\\left|0\\right\\rangle }}$"
      ],
      "text/plain": [
       "❘1⟩⨂ ❘0⟩"
      ]
     },
     "metadata": {},
     "output_type": "display_data"
    },
    {
     "data": {
      "text/latex": [
       "$\\displaystyle 0.5 {{\\left|1\\right\\rangle }}\\otimes {{\\left|0\\right\\rangle }} {{\\left\\langle 1\\right|}}\\otimes {{\\left\\langle 0\\right|}} + 0.1 {{\\left|1\\right\\rangle }}\\otimes {{\\left|0\\right\\rangle }} {{\\left\\langle 1\\right|}}\\otimes {{\\left\\langle 1\\right|}} + 0.4 {{\\left|1\\right\\rangle }}\\otimes {{\\left|1\\right\\rangle }} {{\\left\\langle 1\\right|}}\\otimes {{\\left\\langle 1\\right|}}$"
      ],
      "text/plain": [
       "0.5⋅❘1⟩⨂ ❘0⟩⋅⟨1❘⨂ ⟨0❘ + 0.1⋅❘1⟩⨂ ❘0⟩⋅⟨1❘⨂ ⟨1❘ + 0.4⋅❘1⟩⨂ ❘1⟩⋅⟨1❘⨂ ⟨1❘"
      ]
     },
     "metadata": {},
     "output_type": "display_data"
    },
    {
     "data": {
      "text/latex": [
       "$\\displaystyle 0.5$"
      ],
      "text/plain": [
       "0.500000000000000"
      ]
     },
     "metadata": {},
     "output_type": "display_data"
    },
    {
     "data": {
      "text/latex": [
       "$\\displaystyle 0.5 \\left\\langle 0 \\right. {\\left|0\\right\\rangle }^{2} \\left\\langle 1 \\right. {\\left|1\\right\\rangle }^{2} \\cdot {1}\\otimes {1}^{2} + 0.1 \\left\\langle 0 \\right. {\\left|0\\right\\rangle } \\left\\langle 1 \\right. {\\left|0\\right\\rangle } \\left\\langle 1 \\right. {\\left|1\\right\\rangle }^{2} \\cdot {1}\\otimes {1}^{2} + 0.4 \\left\\langle 0 \\right. {\\left|1\\right\\rangle } \\left\\langle 1 \\right. {\\left|0\\right\\rangle } \\left\\langle 1 \\right. {\\left|1\\right\\rangle }^{2} \\cdot {1}\\otimes {1}^{2}$"
      ],
      "text/plain": [
       "         2      2     2                        2     2                        \n",
       "0.5⋅⟨0❘0⟩ ⋅⟨1❘1⟩ ⋅1⨂ 1  + 0.1⋅⟨0❘0⟩⋅⟨1❘0⟩⋅⟨1❘1⟩ ⋅1⨂ 1  + 0.4⋅⟨0❘1⟩⋅⟨1❘0⟩⋅⟨1❘1⟩\n",
       "\n",
       "2     2\n",
       " ⋅1⨂ 1 "
      ]
     },
     "metadata": {},
     "output_type": "display_data"
    }
   ],
   "source": [
    "g = bKet(0)\n",
    "h = bKet(1)\n",
    "\n",
    "TP=sq.TensorProduct\n",
    "zz=TP(g,g)\n",
    "zo=TP(g,h)\n",
    "oo=TP(h,h)\n",
    "oz=TP(h,g)\n",
    "\n",
    "display(oz)\n",
    "\n",
    "ρ = 0.5 * oz*sq.Dagger(oz) + 0.4*oo*sq.Dagger(oo) + 0.1*oz*sq.Dagger(oo)\n",
    "\n",
    "display(ρ)\n",
    "\n",
    "display(tsimp(sq.Dagger(oz)*ρ*oz))\n",
    "\n",
    "display(sq.qapply(sq.Dagger(oz)*ρ*oz))\n",
    "\n",
    "del TP"
   ]
  },
  {
   "cell_type": "code",
   "execution_count": 263,
   "metadata": {
    "hidden": true
   },
   "outputs": [
    {
     "data": {
      "text/latex": [
       "$\\displaystyle 0.5 {\\left|0\\right\\rangle } + 0.1 {\\left|1\\right\\rangle }$"
      ],
      "text/plain": [
       "0.5⋅❘0⟩ + 0.1⋅❘1⟩"
      ]
     },
     "metadata": {},
     "output_type": "display_data"
    },
    {
     "data": {
      "text/latex": [
       "$\\displaystyle 0.5 {\\left|0\\right\\rangle }$"
      ],
      "text/plain": [
       "0.5⋅❘0⟩"
      ]
     },
     "metadata": {},
     "output_type": "display_data"
    },
    {
     "data": {
      "text/latex": [
       "$\\displaystyle 0.1 {\\left|1\\right\\rangle }$"
      ],
      "text/plain": [
       "0.1⋅❘1⟩"
      ]
     },
     "metadata": {},
     "output_type": "display_data"
    },
    {
     "name": "stdout",
     "output_type": "stream",
     "text": [
      "True\n",
      "False\n",
      "False\n",
      "True\n"
     ]
    }
   ],
   "source": [
    "res=0.5 * g + 0.1 * h\n",
    "display(res)\n",
    "\n",
    "display(res.args[0])\n",
    "display(res.args[1])\n",
    "\n",
    "res.has(sq.Ket)\n",
    "print(isinstance(res,sp.Add))\n",
    "print(isinstance(res,sp.Mul))\n",
    "\n",
    "res2=res.args[0]\n",
    "print(isinstance(res2,sp.Add))\n",
    "print(isinstance(res2,sp.Mul))"
   ]
  },
  {
   "cell_type": "code",
   "execution_count": null,
   "metadata": {
    "hidden": true
   },
   "outputs": [],
   "source": [
    "g = bKet(0)\n",
    "h = bKet(1)\n",
    "\n",
    "TP=sq.TensorProduct\n",
    "zz=TP(g,g)\n",
    "zo=TP(g,h)\n",
    "oo=TP(h,h)\n",
    "oz=TP(h,g)\n",
    "\n",
    "display(oz)\n",
    "\n",
    "ρ = 0.5 * oz*sq.Dagger(oz) + 0.4*oo*sq.Dagger(oo) + 0.1*oz*sq.Dagger(oo)\n",
    "\n",
    "display(ρ)\n",
    "\n",
    "k=TP(sq.IdentityOperator(),h)\n",
    "\n",
    "\n",
    "display(tsimp(sq.Dagger(k)*ρ*k))\n",
    "\n",
    "display(sq.qapply(sq.Dagger(k)*ρ*k))\n",
    "\n",
    "del TP"
   ]
  },
  {
   "cell_type": "code",
   "execution_count": null,
   "metadata": {
    "hidden": true
   },
   "outputs": [],
   "source": [
    "#tsimp=sq.tensorproduct.tensor_product_simp_Mul\n",
    "\n",
    "#If an inner product evaluates to one, it drops the dimension\n",
    "#Works only with products and sums for the moment\n",
    "#No sanity checks were done\n",
    "#Hopefully, sympy will get updated with this functionality soon anyway\n",
    "\n",
    "\n",
    "\n",
    "#def(e):\n",
    "    \n",
    "\n",
    "Identity=sq.IdentityOperator()\n",
    "g=bKet(0)\n",
    "h=bKet(1)\n",
    "\n",
    "ρ_g=g*sq.Dagger(g)\n",
    "ρ_h=h*sq.Dagger(h)\n",
    "\n",
    "# #sq.qapply(Identity*g); seems to work\n",
    "\n",
    "# #display(sq.TensorProduct(ρ_g,ρ_h))\n",
    "# print(\"g\")\n",
    "# g_=sq.TensorProduct(Identity,g*sq.Dagger(g)); display(g_)\n",
    "# print(\"h\")\n",
    "# h_=sq.TensorProduct(Identity,h*sq.Dagger(h)); display(h_)\n",
    "\n",
    "# print(\"gh\")\n",
    "# display(sq.Dagger(g_)*h_)\n",
    "\n",
    "f_=sq.TensorProduct(g,g)\n",
    "f__=sq.TensorProduct(h,g)\n",
    "\n",
    "#sq.qapply(sq.Dagger(f_)*g_*f_).doit()\n",
    "\n",
    "print(\"inner product of \")\n",
    "display(f_,f__)\n",
    "#sq.qapply(sq.Dagger(f_)*f_)\n",
    "#sq.tensorproduct.tensor_product_simp(sq.Dagger(f_)*f__ + sq.Dagger(f__)*f__)\n",
    "print(\"yields these two\")\n",
    "display(sq.Dagger(f_)*f__)\n",
    "display(sq.qapply(sq.Dagger(f_)*f__).doit())\n",
    "\n",
    "print(\"inner product of \")\n",
    "display(f_,f_)\n",
    "print(\"yields these two\")\n",
    "res1=sq.Dagger(f_)*f_\n",
    "display(sq.Dagger(f_)*f_)\n",
    "display(sq.qapply(sq.Dagger(f_)*f_).doit())\n",
    "\n",
    "\n",
    "print(\"Let us try the inner product of these two vectors with the following operator\")\n",
    "op=f_*sq.Dagger(f_)\n",
    "\n",
    "display(op)\n",
    "print(\"which yields these two\")\n",
    "display(sq.qapply(sq.Dagger(f__)*op*f__))\n",
    "display(sq.qapply(sq.Dagger(f__)*op*f__).doit())\n",
    "#sq.qapply(sq.Dagger(f_)*h_*sq.Dagger(f__)).doit()\n",
    "\n",
    "\n",
    "######So far it works well\n",
    "print(\"Consider now the tensor product of two operators\")\n",
    "ρ=sq.TensorProduct(ρ_g,ρ_g)\n",
    "display(ρ)\n",
    "print(\"Their inner product with the ket\") \n",
    "display(f_)\n",
    "print(\"yields the following two\")\n",
    "res=sq.qapply(sq.Dagger(f_)*ρ*f_)\n",
    "display(res)\n",
    "display(res.doit())\n",
    "\n",
    "display(tsimp(res))\n",
    "print(\"Testing if the constituents are still instances of orthogonal vectors\")\n",
    "print(isinstance(res.args[0].args[0],bBra))\n",
    "display(res.args[0].args[0],res.args[1])\n",
    "\n",
    "print(\"Testing if the constituents are ... same for the original\")\n",
    "print(isinstance(res1.args[0].args[0],bBra))\n",
    "display(res1.args[0].args[0],res1.args[1])\n",
    "\n",
    "#sq.qapply(sq.Dagger(g_)*h_).doit() #*ρ_g\n",
    "\n",
    "#sq.qapply(sq.Dagger(g)*h).doit()\n",
    "print(\"Now we try with this \")\n",
    "ρ2=sq.TensorProduct(ρ_g,ρ_h)\n",
    "σ=3*ρ\n",
    "display(σ)\n",
    "res2=tsimp(sq.qapply(sq.Dagger(f_)*σ*f_))\n",
    "display(res2)\n",
    "\n",
    "#res2.has(sq.TensorProduct)\n",
    "#isinstance(res2,sq.TensorProduct)\n",
    "#new_args=list(sq.TensorP)\n",
    "#sq.TensorProduct(*list(res2.args))\n",
    "\n",
    "\n",
    "# res3=autoDropDim(res2)\n",
    "# # for _ in res3.args:\n",
    "# #     display(_)\n",
    "\n",
    "# display(res3)"
   ]
  },
  {
   "cell_type": "code",
   "execution_count": null,
   "metadata": {
    "hidden": true
   },
   "outputs": [],
   "source": [
    "\n",
    "\n",
    "def tensor_product_simp(e, **hints):\n",
    "    \"\"\"Try to simplify and combine TensorProducts.\n",
    "\n",
    "    \"\"\"\n",
    "    if isinstance(e, sp.Add):\n",
    "        return sp.Add(*[tensor_product_simp(arg) for arg in e.args])\n",
    "    elif isinstance(e, sp.Mul):\n",
    "        return tensor_product_simp_Mul(e)\n",
    "    else:\n",
    "        return e\n",
    "    \n",
    "def tensor_product_simp_Mul(e):\n",
    "    \"\"\"Simplify a Mul with TensorProducts.\n",
    "\n",
    "        >>> e\n",
    "        AxB*CxD\n",
    "        >>> tensor_product_simp_Mul(e)\n",
    "        (A*C)x(B*D)\n",
    "\n",
    "    \"\"\"\n",
    "    \n",
    "    # TODO: This won't work with Muls that have other composites of\n",
    "    # TensorProducts, like an Add, Commutator, etc.\n",
    "    # TODO: This only works for the equivalent of single Qbit gates.\n",
    "    \n",
    "    if not isinstance(e, sp.Mul):\n",
    "        return e\n",
    "    c_part, nc_part = e.args_cnc()\n",
    "    n_nc = len(nc_part)\n",
    "    if n_nc == 0:\n",
    "        return e\n",
    "#     elif n_nc == 1:\n",
    "#         if isinstance(nc_part[0], Pow):\n",
    "#             return  Mul(*c_part) * tensor_product_simp_Pow(nc_part[0])\n",
    "#         return e\n",
    "    elif e.has(sq.TensorProduct):\n",
    "        current = nc_part[0] #I guess this is the \n",
    "#         if not isinstance(current, sq.TensorProduct):\n",
    "#             if isinstance(current, Pow):\n",
    "#                 if isinstance(current.base, sq.TensorProduct):\n",
    "#                     current = tensor_product_simp_Pow(current)\n",
    "#             else:\n",
    "#                 raise TypeError('TensorProduct expected, got: %r' % current)\n",
    "        n_terms = len(current.args)\n",
    "        new_args = list(current.args)\n",
    "        for next in nc_part[1:]:\n",
    "            # TODO: check the hilbert spaces of next and current here.\n",
    "            if isinstance(next, sq.TensorProduct):\n",
    "                if n_terms != len(next.args):\n",
    "                    raise QuantumError(\n",
    "                        'TensorProducts of different lengths: %r and %r' %\n",
    "                        (current, next)\n",
    "                    )\n",
    "                for i in range(len(new_args)):\n",
    "                    new_args[i] = new_args[i] * next.args[i]\n",
    "#             else:\n",
    "#                 if isinstance(next, Pow):\n",
    "#                     if isinstance(next.base, sq.TensorProduct):\n",
    "#                         new_tp = tensor_product_simp_Pow(next)\n",
    "#                         for i in range(len(new_args)):\n",
    "#                             if( new_args[i] )\n",
    "#                             new_args[i] = new_args[i] * new_tp.args[i]\n",
    "#                     else:\n",
    "#                         raise TypeError('TensorProduct expected, got: %r' % next)\n",
    "#                 else:\n",
    "#                     raise TypeError('TensorProduct expected, got: %r' % next)\n",
    "            current = next\n",
    "        return Mul(*c_part) * sq.TensorProduct(*new_args)\n",
    "    elif e.has(Pow):\n",
    "        new_args = [ tensor_product_simp_Pow(nc) for nc in nc_part ]\n",
    "        return tensor_product_simp_Mul(Mul(*c_part) * sq.TensorProduct(*new_args))\n",
    "    else:\n",
    "        return e"
   ]
  },
  {
   "cell_type": "code",
   "execution_count": null,
   "metadata": {
    "hidden": true
   },
   "outputs": [],
   "source": [
    "glaba=sp.Integer(1)\n",
    "#isinstance(glaba,sp.number)\n",
    "#type(glaba)\n",
    "go=bKet(2)\n"
   ]
  },
  {
   "cell_type": "markdown",
   "metadata": {
    "heading_collapsed": true
   },
   "source": [
    "### Debugging the issue with substitutions"
   ]
  },
  {
   "cell_type": "code",
   "execution_count": null,
   "metadata": {
    "hidden": true
   },
   "outputs": [],
   "source": [
    "\n",
    "iKCBS.b[1].subs({iKCBS.a[8]:0})\n",
    "\n",
    "iKCBS.c\n",
    "#b=sp.symbols('b0:%d'%10)\n",
    "#b[0].subs(b[0],10)\n",
    "# gla=sp.Symbol('x'); gla\n",
    "# gla.subs(gla,10)\n",
    "\n",
    "#iKCBS.a[8].subs(iKCBS.a[8],0)"
   ]
  },
  {
   "cell_type": "code",
   "execution_count": null,
   "metadata": {
    "hidden": true
   },
   "outputs": [],
   "source": [
    "ket1=bKet(0)\n",
    "ket2=bKet(1)\n",
    "kets=(ket1,ket2)\n",
    "bra=[sq.Dagger(iket) for iket in kets]; bra"
   ]
  },
  {
   "cell_type": "markdown",
   "metadata": {
    "heading_collapsed": true
   },
   "source": [
    "### Debugging the issue with _eval_args"
   ]
  },
  {
   "cell_type": "code",
   "execution_count": null,
   "metadata": {
    "hidden": true
   },
   "outputs": [],
   "source": [
    "class cls_iKCBS:    \n",
    "    \n",
    "    def __init__(s,n):\n",
    "        cls_iKCBS.n=n\n",
    "        #j in 0,1,2,3,4\n",
    "        s.ke = [bKet(j) for j in range(3)]    \n",
    "        s.br = [sq.Dagger(s.ke[j]) for j in range(3)]\n",
    "        s.πs = []\n",
    "        s.matπs = [] \n",
    "        #poor man's implementation\n",
    "        for j in range(5):\n",
    "            s.πs.append(s.proj(j,n))            \n",
    "            s.matπs.append(s.matRep(s.proj(j,n)))\n",
    "        s.opT = s.ke[0]*s.br[2] + s.ke[1]*s.br[0] + s.ke[2]*s.br[1]\n",
    "        s.matT=s.matRep(s.opT)\n",
    "\n",
    "    #this method is now obsolete    \n",
    "    def matRep(s,op):\n",
    "        n=3 #s.__class__.n\n",
    "        matop = sp.Matrix(np.zeros((n,n)))        \n",
    "        for i in range(n):\n",
    "            for j in range(n):\n",
    "                matop[i,j] = sq.qapply(sq.Dagger(s.ke[i])*op*s.ke[j]).doit() \n",
    "        return matop\n",
    "        \n",
    "    def proj(s,j,n):\n",
    "        N=sp.Integer(n)\n",
    "        J=sp.Integer(j)\n",
    "        #print(N,j)\n",
    "        one=sp.Integer(1)\n",
    "        #print(one)\n",
    "        α1=sp.cos((sp.pi)/N)/(one+sp.cos(sp.pi/N)) #verified\n",
    "        #a1=sp.cos(sp.pi/N)\n",
    "        #\n",
    "        #print(α1)\n",
    "        \n",
    "        α2=one-α1 #verified\n",
    "        α3=J * sp.pi * (N-one)/N #verified\n",
    "        \n",
    "        vec = sp.sqrt(α1)*s.ke[0] + sp.sqrt(α2)*sp.sin(α3)*s.ke[1] + sp.sqrt(α2)*sp.cos(α3)*s.ke[2]\n",
    "        \n",
    "        projector = vec*sq.Dagger(vec)\n",
    "           \n",
    "        #matrixprojector = sp.Matrix([0,0])\n",
    "        return projector\n",
    "    \n",
    "    \n",
    "    def find_coeff_matT(s):\n",
    "        cls=s.__class__\n",
    "        a=sp.symbols('a0:%d'%(cls.n*2))\n",
    "        LHS=a[0]*s.matπs[0]\n",
    "        for i in range(1,cls.n):\n",
    "            LHS=LHS+a[i]*s.matπs[i]\n",
    "        for i in range(cls.n,2*cls.n):\n",
    "            LHS=LHS+a[i]*s.matπs[i%cls.n]*s.matπs[(i+2)%cls.n]\n",
    "            \n",
    "        RHS=s.matT\n",
    "        return sp.solve(sp.N(LHS-RHS),a)\n",
    "        #return sp.solve(a[0]-a[2],a)\n",
    "        \n",
    "        #print(LHS)\n",
    "        #for i in range\n",
    "        \n",
    "\n",
    "    '''\n",
    "       def vec(self,j,n):    \n",
    "           N=sp.Integer(n)\n",
    "           J=sp.Integer(j)\n",
    "           #print(N,j)\n",
    "           one=sp.Integer(1)\n",
    "           #print(one)\n",
    "           α1=sp.cos((sp.pi)/N)/(one+sp.cos(sp.pi/N)) #verified\n",
    "           #a1=sp.cos(sp.pi/N)\n",
    "           #\n",
    "           #print(α1)\n",
    "        \n",
    "           α2=one-α1 #verified\n",
    "           α3=J * sp.pi * (N-one)/N #verified\n",
    "        \n",
    "           vec = sp.sqrt(α1)*self.k0 + sp.sqrt(α2)*sp.sin(α3)*self.k1 + sp.sqrt(α2)*sp.cos(α3)*self.k2\n",
    "        \n",
    "           #projector = vec*sq.Dagger(vec)\n",
    "           return vec\n",
    "    '''"
   ]
  },
  {
   "cell_type": "code",
   "execution_count": null,
   "metadata": {
    "hidden": true
   },
   "outputs": [],
   "source": [
    "\n",
    "iKCBS=cls_iKCBS(5)\n",
    "#to access the vectors \n",
    "\n",
    "# #uncomment to test\n",
    "# sq.qapply(sq.qapply(iKCBS.πs[0]*iKCBS.πs[1]))\n",
    "# #iKCBS.πs[1]\n",
    "\n",
    "# sp.N(iKCBS.matπs[2])\n",
    "\n",
    "# iKCBS.find_coeff_matT()"
   ]
  },
  {
   "cell_type": "code",
   "execution_count": null,
   "metadata": {
    "hidden": true
   },
   "outputs": [],
   "source": [
    "iKCBS.find_coeff_opT()"
   ]
  },
  {
   "cell_type": "markdown",
   "metadata": {
    "heading_collapsed": true
   },
   "source": [
    "### Debugging"
   ]
  },
  {
   "cell_type": "code",
   "execution_count": null,
   "metadata": {
    "hidden": true
   },
   "outputs": [],
   "source": [
    "sq.qapply(sq.Dagger(iKCBS.πs[0])*iKCBS.πs[1]);\n",
    "\n",
    "#sq.represent(sq.qapply(sq.Dagger(iKCBS.πs[0])*iKCBS.πs[1]),basis=iKCBS.ke)"
   ]
  },
  {
   "cell_type": "code",
   "execution_count": null,
   "metadata": {
    "code_folding": [
     29
    ],
    "hidden": true
   },
   "outputs": [],
   "source": [
    "#older version without lists\n",
    "class cls_iKCBS:\n",
    "    k0=bKet(0)    \n",
    "    k1=bKet(1)\n",
    "    k2=bKet(2)\n",
    "    \n",
    "    b0=sq.Dagger(k0)\n",
    "    b1=sq.Dagger(k1)\n",
    "    b2=sq.Dagger(k2)\n",
    "    \n",
    "    πs=[]\n",
    "    \n",
    "    def __init__(self,n):\n",
    "        #j in 0,1,2,3,4\n",
    "        for j in range(5):\n",
    "            self.πs.append(self.proj(j,n))\n",
    "    \n",
    "    def proj(self,j,n):\n",
    "        N=sp.Integer(n)\n",
    "        J=sp.Integer(j)\n",
    "        #print(N,j)\n",
    "        one=sp.Integer(1)\n",
    "        #print(one)\n",
    "        α1=sp.cos((sp.pi)/N)/(one+sp.cos(sp.pi/N)) #verified\n",
    "        #a1=sp.cos(sp.pi/N)\n",
    "        #\n",
    "        #print(α1)\n",
    "        \n",
    "        α2=one-α1 #verified\n",
    "        α3=J * sp.pi * (N-one)/N #verified\n",
    "        \n",
    "        vec = sp.sqrt(α1)*self.k0 + sp.sqrt(α2)*sp.sin(α3)*self.k1 + sp.sqrt(α2)*sp.cos(α3)*self.k2\n",
    "        \n",
    "        projector = vec*sq.Dagger(vec)\n",
    "        return projector\n",
    "    '''\n",
    "       def vec(self,j,n):    \n",
    "           N=sp.Integer(n)\n",
    "           J=sp.Integer(j)\n",
    "           #print(N,j)\n",
    "           one=sp.Integer(1)\n",
    "           #print(one)\n",
    "           α1=sp.cos((sp.pi)/N)/(one+sp.cos(sp.pi/N)) #verified\n",
    "           #a1=sp.cos(sp.pi/N)\n",
    "           #\n",
    "           #print(α1)\n",
    "        \n",
    "           α2=one-α1 #verified\n",
    "           α3=J * sp.pi * (N-one)/N #verified\n",
    "        \n",
    "           vec = sp.sqrt(α1)*self.k0 + sp.sqrt(α2)*sp.sin(α3)*self.k1 + sp.sqrt(α2)*sp.cos(α3)*self.k2\n",
    "        \n",
    "           #projector = vec*sq.Dagger(vec)\n",
    "           return vec\n",
    "    '''"
   ]
  },
  {
   "cell_type": "code",
   "execution_count": null,
   "metadata": {
    "hidden": true
   },
   "outputs": [],
   "source": [
    "iKCBS=cls_iKCBS()\n",
    "sq.qapply(iKCBS.proj(1,5)).doit();"
   ]
  },
  {
   "cell_type": "code",
   "execution_count": null,
   "metadata": {
    "hidden": true
   },
   "outputs": [],
   "source": [
    "sp.simplify(sq.qapply(sq.Dagger(iKCBS.k0)*iKCBS.proj(1,5)*iKCBS.proj(2,5)*iKCBS.k0).doit())\n",
    "#sp.N(sq.qapply(sq.Dagger(iKCBS.k0)*iKCBS.proj(1,5)*iKCBS.proj(2,5)*iKCBS.k0).doit())\n",
    "#sq.qapply(iKCBS.proj(1,5)*iKCBS.proj(2,5)).doit()"
   ]
  },
  {
   "cell_type": "code",
   "execution_count": null,
   "metadata": {
    "hidden": true
   },
   "outputs": [],
   "source": [
    "(sq.Dagger(iKCBS.k0)*iKCBS.k0).doit()"
   ]
  },
  {
   "cell_type": "code",
   "execution_count": null,
   "metadata": {
    "hidden": true
   },
   "outputs": [],
   "source": [
    "sp.N(sq.qapply(sq.Dagger(iKCBS.vec(1,5))*iKCBS.vec(1,5)).doit(),5000)"
   ]
  },
  {
   "cell_type": "code",
   "execution_count": null,
   "metadata": {
    "hidden": true
   },
   "outputs": [],
   "source": [
    "sp.N(sp.simplify(sq.qapply(sq.Dagger(iKCBS.vec(4,5))*iKCBS.vec(3,5)).doit()))"
   ]
  },
  {
   "cell_type": "code",
   "execution_count": null,
   "metadata": {
    "hidden": true
   },
   "outputs": [],
   "source": [
    "sp.N(sq.qapply(sq.Dagger(iKCBS.πs[0])*iKCBS.πs[1]))"
   ]
  },
  {
   "cell_type": "markdown",
   "metadata": {
    "heading_collapsed": true
   },
   "source": [
    "## Translation Operator using $\\Pi$s\n",
    "\n",
    "See for the original implementation Self-testing_KCBS_fidelity_bounds"
   ]
  },
  {
   "cell_type": "code",
   "execution_count": null,
   "metadata": {
    "hidden": true
   },
   "outputs": [],
   "source": [
    "\n",
    "a=sp.symbols('a0:%d'%(cls_iKCBS.n*2))\n",
    "a[0]\n",
    "c=0\n",
    "c=c+a[0]; c\n"
   ]
  },
  {
   "cell_type": "code",
   "execution_count": null,
   "metadata": {
    "hidden": true
   },
   "outputs": [],
   "source": [
    "a=sp.Matrix(np.zeros((2,2)))\n",
    "a[1,1]=0;a\n"
   ]
  },
  {
   "cell_type": "code",
   "execution_count": null,
   "metadata": {
    "hidden": true
   },
   "outputs": [],
   "source": [
    "a=sqq.IntQubit(2);a\n",
    "\n",
    "b=sqq.IntQubit(1);\n",
    "sq.represent(b);\n",
    "sq.represent(a)"
   ]
  },
  {
   "cell_type": "markdown",
   "metadata": {},
   "source": [
    "# SDP part (SymPy meets CvxPy)"
   ]
  },
  {
   "cell_type": "code",
   "execution_count": 276,
   "metadata": {},
   "outputs": [],
   "source": [
    "N=5\n",
    "\n",
    "#Ψ=[sp.symbols('Ψ')]\n",
    "I=[sp.Integer(1)]\n",
    "A=list(sp.symbols('Π_0:%d'%N,commutative=False))\n",
    "#A=list(sp.symbols('Π_0:%d'%N,commutative=False))\n",
    "\n",
    "# display(I)\n",
    "# display(A)"
   ]
  },
  {
   "cell_type": "code",
   "execution_count": 277,
   "metadata": {},
   "outputs": [
    {
     "data": {
      "text/latex": [
       "$\\displaystyle 1.0 Π_{0} + 5.99769723970215 \\cdot 10^{-17} Π_{0} Π_{1} + 6.24019826710903 \\cdot 10^{-17} Π_{0} Π_{2} + 8.24319142157075 \\cdot 10^{-18} Π_{0}^{2} - 1.38777878078145 \\cdot 10^{-16} Π_{1} - 2.07488925885033 \\cdot 10^{-18} Π_{1} Π_{0} + 9.45331326736038 \\cdot 10^{-17} Π_{1} Π_{2} + 1.04871999691617 \\cdot 10^{-16} Π_{1}^{2} - 2.22044604925031 \\cdot 10^{-16} Π_{2} - 1.65991140708026 \\cdot 10^{-17} Π_{2} Π_{0} + 3.73875712857184 \\cdot 10^{-16} Π_{2} Π_{1} + 5.30287589879899 \\cdot 10^{-16} Π_{2}^{2} - 2.92856989203853 \\cdot 10^{-32} Π_{3} Π_{0} - 1.34490241703518 \\cdot 10^{-31} Π_{3} Π_{1} - 1.8351161653115 \\cdot 10^{-31} Π_{3} Π_{2} + 8.25446454433686 \\cdot 10^{-17} Π_{4} Π_{0} - 7.20559206594884 \\cdot 10^{-16} Π_{4} Π_{1} - 4.32641501849965 \\cdot 10^{-16} Π_{4} Π_{2}$"
      ],
      "text/plain": [
       "                                                                              \n",
       "1.0⋅Π₀ + 5.99769723970215e-17⋅Π₀⋅Π₁ + 6.24019826710903e-17⋅Π₀⋅Π₂ + 8.243191421\n",
       "\n",
       "            2                                                                 \n",
       "57075e-18⋅Π₀  - 1.38777878078145e-16⋅Π₁ - 2.07488925885033e-18⋅Π₁⋅Π₀ + 9.45331\n",
       "\n",
       "                                             2                                \n",
       "326736038e-17⋅Π₁⋅Π₂ + 1.04871999691617e-16⋅Π₁  - 2.22044604925031e-16⋅Π₂ - 1.6\n",
       "\n",
       "                                                                              \n",
       "5991140708026e-17⋅Π₂⋅Π₀ + 3.73875712857184e-16⋅Π₂⋅Π₁ + 5.30287589879899e-16⋅Π₂\n",
       "\n",
       "2                                                                             \n",
       "  - 2.92856989203853e-32⋅Π₃⋅Π₀ - 1.34490241703518e-31⋅Π₃⋅Π₁ - 1.8351161653115e\n",
       "\n",
       "                                                                              \n",
       "-31⋅Π₃⋅Π₂ + 8.25446454433686e-17⋅Π₄⋅Π₀ - 7.20559206594884e-16⋅Π₄⋅Π₁ - 4.326415\n",
       "\n",
       "                  \n",
       "01849965e-16⋅Π₄⋅Π₂"
      ]
     },
     "metadata": {},
     "output_type": "display_data"
    }
   ],
   "source": [
    "objective = iKCBS.F\n",
    "\n",
    "# objective1=iKCBS.F\n",
    "\n",
    "# #objective = A[0] + A[1] + A[2] + A[3] + A[4]\n",
    "# objective2 = A[0]*A[0] + 1e-13*A[1] + 1e-13*A[2] + 1e-13*A[3] + 1e-13*A[4]\n",
    "\n",
    "# objective=objective\n",
    "display(objective);"
   ]
  },
  {
   "cell_type": "code",
   "execution_count": 278,
   "metadata": {},
   "outputs": [],
   "source": [
    "\n",
    "\n",
    "L1=A #appends the lists\n",
    "#print(L1)\n",
    "\n",
    "L2=[]\n",
    "for let1 in L1:\n",
    "    for let2 in L1:\n",
    "        L2.append(let1*let2)\n",
    "\n",
    "\n",
    "#These will help simplify A^3 to A when needed\n",
    "lDepth=2\n",
    "sqDicts={A[i]**2:A[i] for i in range(len(L1))}\n",
    "\n",
    "\n",
    "L = I + L1 + L2\n",
    "L_ = L1 + L2\n",
    "#print(L)"
   ]
  },
  {
   "cell_type": "code",
   "execution_count": 279,
   "metadata": {},
   "outputs": [],
   "source": [
    "#symbol to index dictionary\n",
    "sTi={}\n",
    "\n",
    "for i in range(len(L)):\n",
    "    sTi[L[i]]=i\n",
    "\n",
    "#print(sTi)"
   ]
  },
  {
   "cell_type": "code",
   "execution_count": 280,
   "metadata": {},
   "outputs": [
    {
     "data": {
      "image/png": "[encoded data removed]",
      "text/plain": [
       "<Figure size 432x288 with 1 Axes>"
      ]
     },
     "metadata": {},
     "output_type": "display_data"
    }
   ],
   "source": [
    "G = nx.Graph()\n",
    "\n",
    "#node2 in G[node1] #yes if they are connected by an edge\n",
    "\n",
    "G = nx.Graph()\n",
    "G.add_nodes_from(L1)\n",
    "G.add_edges_from([[L1[i],L1[(i+1)%(N)]] for i in range(N)])\n",
    "\n",
    "#create a dictionary to simplify expressions later which sets projector products to zero\n",
    "gDicts={}\n",
    "for l1 in L1:\n",
    "    for l2 in L1:\n",
    "        if l1 in G[l2]:\n",
    "            gDicts.update({l1*l2:sp.Integer(0)})\n",
    "\n",
    "\n",
    "%matplotlib inline \n",
    "nx.draw(G, with_labels=True)"
   ]
  },
  {
   "cell_type": "markdown",
   "metadata": {
    "heading_collapsed": true
   },
   "source": [
    "## Zero list (useless?)"
   ]
  },
  {
   "cell_type": "code",
   "execution_count": null,
   "metadata": {
    "hidden": true
   },
   "outputs": [],
   "source": [
    "zeroDict={}\n",
    "zeroList=[]\n",
    "for _ in L1:\n",
    "    for _2 in L1:\n",
    "        if _ in G[_2]: #share an edge\n",
    "            zeroDict[_*_2]=0\n",
    "            zeroList.append(_*_2)\n",
    "\n",
    "#print(zeroDict);"
   ]
  },
  {
   "cell_type": "markdown",
   "metadata": {
    "heading_collapsed": true
   },
   "source": [
    "## Creating the matrix of symbols (just for show; useless)"
   ]
  },
  {
   "cell_type": "code",
   "execution_count": null,
   "metadata": {
    "hidden": true
   },
   "outputs": [],
   "source": [
    "#creating the matrix\n",
    "\n",
    "matList=[]\n",
    "\n",
    "for _ in L:\n",
    "    matList.append([_*_2 for _2 in L])\n",
    "\n",
    "#print(matList)\n",
    "\n",
    "sp.Matrix(matList);"
   ]
  },
  {
   "cell_type": "markdown",
   "metadata": {},
   "source": [
    "## Sympy says hello to Cvxpy"
   ]
  },
  {
   "cell_type": "code",
   "execution_count": 281,
   "metadata": {
    "scrolled": true
   },
   "outputs": [],
   "source": [
    "#L is the alphabet, to wit: it is the list of letters\n",
    "#\n",
    "X = cp.Variable((len(L),len(L)),symmetric=True)\n",
    "\n",
    "lI = I[0]\n",
    "\n",
    "#>> is for matrix inequality\n",
    "constraints = [X >> 0,X[sTi[lI],sTi[lI]]==1]\n",
    "\n",
    "#objective\n",
    "#y = objective.subs({A[0]:X[sTi[A[0]]],A[1]:X[sTi[A[1]]]})\n",
    "#y = objective.subs({A[0]:sTi[A[0]],A[1]:sTi[A[1]]})\n",
    "\n",
    "\n",
    "# objective function evaluated (loop over product of all letters)\n",
    "y = 0\n",
    "\n",
    "termsUsed = []\n",
    "for l1 in L:\n",
    "    for l2 in L:\n",
    "        if l1 != lI or l2 != lI: #this is because if we ask for the coefficient of 1, things get messed up\n",
    "            term = l1*l2\n",
    "            \n",
    "            #the same term can be represented by many elements in the matrix\n",
    "            #we satisfy ourselves with picking just one of them\n",
    "            if not(term in termsUsed):\n",
    "                termsUsed.append(term)                \n",
    "                eX = X[sTi[l1]][sTi[l2]] #picks the corresponding element from the variable matrix of the SDP library\n",
    "                coeff = sp.N(findCoeff(objective,l1*l2)) #evaluates the coff of l1*l2 in the objective\n",
    "                #coeff = sp.N(objective.coeff(l1*l2)) #evaluates the coff of l1*l2 in the objective\n",
    "                y += coeff*eX\n",
    "                #print(coeff)\n",
    "                #print(l1,l2)\n",
    "\n",
    "\n",
    "#Constraints from the graph (these come from single letters)        \n",
    "for l1 in L1:\n",
    "    for l2 in L1:\n",
    "        eX = X[sTi[l1]][sTi[l2]] #picks the corresponding element from the variable matrix of the SDP library\n",
    "        if l1 in G[l2]:\n",
    "            constraints += [eX == 0]\n",
    "        \n",
    "        #print(coeff,sTi[l1])\n",
    "        #display(l1)\n",
    "\n",
    "#constraints from the fact that Π^2=Π\n",
    "# for l in L1:\n",
    "#     constraints += [ X[sTi[lI]][sTi[l]] == X[sTi[l]][sTi[l]] ]\n",
    "#     #constraints to match with experiment\n",
    "\n",
    "dictTerms = {}\n",
    "#lettersUsed = []\n",
    "for l1 in L:\n",
    "    for l2 in L:\n",
    "        term = l1*l2\n",
    "\n",
    "        \n",
    "        tS=[term]\n",
    "        #display(term)\n",
    "        for i in range(lDepth+1):\n",
    "            tS.append(tS[-1].subs(sqDicts))\n",
    "        simTerm=tS[-1]\n",
    "        #display(simTerm)\n",
    "\n",
    "        if not(simTerm in dictTerms):\n",
    "            dictTerms.update({simTerm:[l1,l2]})            \n",
    "        else:\n",
    "            l1_=dictTerms[simTerm][0]\n",
    "            l2_=dictTerms[simTerm][1]\n",
    "            #print(l1_,l2_)            \n",
    "            #print(sTi[l1_],sTi[l2_])\n",
    "            \n",
    "            #print(l1,l2)            \n",
    "            #print(sTi[l1],sTi[l2])\n",
    "            \n",
    "            #constraints += [ X[sTi[l1]][sTi[l2]] == X[sTi[l1_]][sTi[l2_]] ] \n",
    "            # print(X[sTi[l1]][sTi[l2]])\n",
    "            # print(X[sTi[l1_]][sTi[l2_]])\n",
    "            constraints += [ X[sTi[l1]][sTi[l2]] == X[sTi[l1_]][sTi[l2_]] ]\n",
    "\n",
    "        #Orthogonality from the graph\n",
    "        if simTerm.subs(gDicts)==sp.Integer(0):\n",
    "            constraints += [ X[sTi[l1]][sTi[l2]] == 0 ]\n",
    "        del tS\n",
    "# display(y)\n",
    "\n",
    "# display(objective.args[0])\n",
    "# display(objective.args[1])\n",
    "\n",
    "\n",
    "#expr=A[0]*A[0]*A[0]*A[1]*A[0]*A[1]\n",
    "\n",
    "    \n",
    "\n",
    "\n",
    "#         term = l1*l2\n",
    "\n",
    "        \n",
    "#         tS=[term]\n",
    "#         #display(term)\n",
    "#         for i in range(lDepth+1):\n",
    "#             tS.append(tS[-1].subs(sqDicts))\n",
    "#         simTerm=tS[-1]\n",
    "#         #display(simTerm)\n",
    "\n",
    "#         if not(simTerm in dictTerms):\n",
    "#             dictTerms.update({simTerm:[l1,l2]})            \n",
    "#         else:\n",
    "#             l1_=dictTerms[simTerm][0]\n",
    "#             l2_=dictTerms[simTerm][1]\n",
    "#             #print(l1_,l2_)            \n",
    "#             #print(sTi[l1_],sTi[l2_])\n",
    "            \n",
    "#             #print(l1,l2)            \n",
    "#             #print(sTi[l1],sTi[l2])\n",
    "            \n",
    "#             #constraints += [ X[sTi[l1]][sTi[l2]] == X[sTi[l1_]][sTi[l2_]] ] \n",
    "#             # print(X[sTi[l1]][sTi[l2]])\n",
    "#             # print(X[sTi[l1_]][sTi[l2_]])\n",
    "#             constraints += [ X[sTi[l1]][sTi[l2]] == X[sTi[l1_]][sTi[l2_]] ]\n",
    "\n",
    "#         #Orthogonality from the graph\n",
    "#         if simTerm.subs(gDicts)==sp.Integer(0):\n",
    "#             constraints += [ X[sTi[l1]][sTi[l2]] == 0 ]\n",
    "#         del tS\n",
    "\n",
    "\n",
    "\n",
    "#display(tS[-1])\n",
    "\n",
    "\n",
    "# powDicts={}\n",
    "# for i in range(len(L1)):\n",
    "#     powDicts.update({A[i]**k:A[i] for k in range(2,lDepth+4)[::-1]})\n",
    "\n",
    "\n",
    "#expr.subs(powDicts)\n",
    "\n",
    "# display(expr.subs(sqDicts))\n",
    "# display(expr.subs(powDicts).subs(powDicts))\n",
    "\n",
    "#expr\n",
    "    \n",
    "#dict={A[i]**k:A[i] for k in range(lDepth)}\n",
    "\n",
    "#print(powDicts)\n",
    "\n",
    "#result=expr.subs({A[0]*A[0]:A[1]}); result\n",
    "#result=sp.refine(expr,)"
   ]
  },
  {
   "cell_type": "code",
   "execution_count": 282,
   "metadata": {},
   "outputs": [],
   "source": [
    "#######################Constraints from the observations\n",
    "\n",
    "a=1/np.sqrt(5)\n",
    "data = [a,a,a,a,a]\n",
    "\n",
    "j=0\n",
    "for l1 in L1:    \n",
    "    constraints += [ X[sTi[l1],sTi[l1]] == data[j] ]\n",
    "    j+=1\n",
    "    \n",
    "del j"
   ]
  },
  {
   "cell_type": "code",
   "execution_count": 283,
   "metadata": {
    "code_folding": []
   },
   "outputs": [],
   "source": [
    "# # depth=0\n",
    "# # depthThresh=20\n",
    "\n",
    "# def findCoeff(obj,lett):\n",
    "# #     global depth\n",
    "    \n",
    "# #     print(\"Parent object:\")\n",
    "# #     display(obj)\n",
    "    \n",
    "#     if(obj==None):\n",
    "# #         print(\"coefficent is zero\")\n",
    "#         return 0\n",
    "#     elif not (isinstance(obj,sp.Mul) or isinstance(obj,sp.Add)):        \n",
    "#         #the coefficient may be one but we couldn't see it earlier\n",
    "#         return obj.coeff(lett)\n",
    "#     else:\n",
    "#         #try to find the coefficient directly        \n",
    "#         result=obj.coeff(lett)\n",
    "#         #Did not work? \n",
    "#         if(result==0):\n",
    "#             #try for each segment\n",
    "#             for _ in obj.args:\n",
    "# #                 print(\"child:\")\n",
    "# #                 display(_)\n",
    "#                 result=_.coeff(lett)\n",
    "# #                 print(\"coefficient of child:\",result)\n",
    "                \n",
    "#                 #still did not work?\n",
    "#                 if(result==0):\n",
    "#                     #try recursing\n",
    "#                     result = findCoeff(_,lett)    \n",
    "                \n",
    "#                 #found? Stop searching\n",
    "#                 if(result!=0):\n",
    "#                     break\n",
    "#                     #return result\n",
    "\n",
    "#         #return whatever was found | worked\n",
    "#         return result\n",
    "\n",
    "\n",
    "# # def findCoeff2(obj,lett):   \n",
    "# #     global depth\n",
    "# # #     result=obj.coeff(lett)\n",
    "# # #     if result!=0:\n",
    "# # #         print(\"nonzero\")\n",
    "# # #         print(result)\n",
    "# # #         return result\n",
    "# # #     else:\n",
    "# #     print(obj)\n",
    "# #     for _ in obj.args:\n",
    "# #         display(_)\n",
    "# #         if depth>depthThresh:\n",
    "# #             print(\"depth exceeded\")\n",
    "# #             return 0\n",
    "# #         elif _==None:\n",
    "# #             print(\"coeffecient is zero\")\n",
    "# #             return 0\n",
    "# #         else:\n",
    "# #             depth+=1\n",
    "# #             result=obj.coeff(lett)\n",
    "# #             #print(depth)\n",
    "# #             if result!=0:\n",
    "# #                 print(\"result was:\",result)\n",
    "# #             else:\n",
    "# #                 print(\"recursing\")\n",
    "# #                 print(\"_ is\",_)\n",
    "# #                 #if isinstance(_,sp.Mul):\n",
    "# #                 result=findCoeff(_,lett)\n",
    "            \n",
    "# #             return result\n",
    "# # #     if \n",
    "# # #                 else:\n",
    "# # #                     return 0\n",
    "# # #         else:\n",
    "# # #             print(\"depth exceeded\")\n",
    "# # #             return 0\n",
    "            \n"
   ]
  },
  {
   "cell_type": "code",
   "execution_count": 284,
   "metadata": {},
   "outputs": [
    {
     "name": "stdout",
     "output_type": "stream",
     "text": [
      "     pcost       dcost       gap    pres   dres   k/t\n",
      " 0: -4.4721e-01 -4.4721e-01  5e+01  8e+00  6e+00  1e+00\n",
      " 1: -4.4721e-01 -1.4041e-01  1e+01  2e+00  1e+00  6e-01\n",
      " 2: -4.4721e-01 -6.3821e-04  2e+01  2e+00  1e+00  7e-01\n",
      " 3: -4.4721e-01 -3.3861e-01  2e+00  2e-01  1e-01  1e-01\n",
      " 4: -4.4721e-01 -3.7875e-01  8e-01  6e-02  4e-02  8e-02\n",
      " 5: -4.4721e-01 -3.4685e-01  2e+00  5e-02  3e-02  1e-01\n",
      " 6: -4.4721e-01 -3.9629e-01  1e+00  3e-02  2e-02  5e-02\n",
      " 7: -4.4721e-01 -3.9609e-01  1e+00  2e-02  1e-02  5e-02\n",
      " 8: -4.4721e-01 -3.6380e-01  1e+00  7e-03  5e-03  8e-02\n",
      " 9: -4.4721e-01 -4.1412e-01  8e-01  3e-03  2e-03  3e-02\n",
      "10: -4.4721e-01 -3.9140e-01  2e+00  2e-03  2e-03  6e-02\n",
      "11: -4.4721e-01 -3.7545e-01  2e+00  1e-03  7e-04  7e-02\n",
      "12: -4.4721e-01 -3.7144e-01  9e-01  2e-04  2e-04  8e-02\n",
      "13: -4.4721e-01 -3.6617e-01  1e+00  2e-04  1e-04  8e-02\n",
      "Terminated (singular KKT matrix).\n",
      "max:gla\n",
      "     pcost       dcost       gap    pres   dres   k/t\n",
      " 0:  4.4721e-01  4.4721e-01  5e+01  8e+00  6e+00  1e+00\n",
      " 1:  4.4721e-01  7.5402e-01  1e+01  2e+00  1e+00  6e-01\n",
      " 2:  4.4721e-01  8.9379e-01  2e+01  2e+00  1e+00  7e-01\n",
      " 3:  4.4721e-01  5.5581e-01  2e+00  2e-01  1e-01  1e-01\n",
      " 4:  4.4721e-01  5.1568e-01  8e-01  6e-02  4e-02  8e-02\n",
      " 5:  4.4721e-01  5.4757e-01  2e+00  5e-02  3e-02  1e-01\n",
      " 6:  4.4721e-01  4.9813e-01  1e+00  3e-02  2e-02  5e-02\n",
      " 7:  4.4721e-01  4.9834e-01  1e+00  2e-02  1e-02  5e-02\n",
      " 8:  4.4721e-01  5.3063e-01  1e+00  7e-03  5e-03  8e-02\n",
      " 9:  4.4721e-01  4.8030e-01  8e-01  3e-03  2e-03  3e-02\n",
      "10:  4.4721e-01  5.0303e-01  2e+00  2e-03  2e-03  6e-02\n",
      "11:  4.4721e-01  5.1898e-01  2e+00  1e-03  7e-04  7e-02\n",
      "12:  4.4721e-01  5.2299e-01  9e-01  2e-04  2e-04  8e-02\n",
      "13:  4.4721e-01  5.2843e-01  1e+00  2e-04  1e-04  8e-02\n",
      "Terminated (singular KKT matrix).\n",
      "min:ba\n"
     ]
    }
   ],
   "source": [
    "probMin = cp.Problem(cp.Maximize(-y),constraints)\n",
    "probMax = cp.Problem(cp.Maximize(y),constraints)\n",
    "#prob.solve()\n",
    "#prob.solve(solver=cp.CVXOPT,verbose=True,**{'':ldl,'refinement':20,'show_progress':True,'feastol':10e-10,'reltol':10e-10,'abstol':10e-10})\n",
    "try: \n",
    "    print(\"max:\",probMax.solve(solver=cp.CVXOPT,verbose=True))\n",
    "except:\n",
    "    print(\"max:gla\")\n",
    "try:\n",
    "    print(\"min:\",probMin.solve(solver=cp.CVXOPT,verbose=True))\n",
    "except:\n",
    "    print(\"min:ba\")"
   ]
  },
  {
   "cell_type": "code",
   "execution_count": 164,
   "metadata": {},
   "outputs": [],
   "source": [
    "import cvxopt as co\n",
    "\n"
   ]
  },
  {
   "cell_type": "markdown",
   "metadata": {},
   "source": [
    "## Inputs"
   ]
  },
  {
   "cell_type": "code",
   "execution_count": null,
   "metadata": {},
   "outputs": [],
   "source": []
  }
 ],
 "metadata": {
  "kernelspec": {
   "display_name": "Python 3",
   "language": "python",
   "name": "python3"
  },
  "language_info": {
   "codemirror_mode": {
    "name": "ipython",
    "version": 3
   },
   "file_extension": ".py",
   "mimetype": "text/x-python",
   "name": "python",
   "nbconvert_exporter": "python",
   "pygments_lexer": "ipython3",
   "version": "3.7.3"
  },
  "toc": {
   "base_numbering": 1,
   "nav_menu": {},
   "number_sections": true,
   "sideBar": true,
   "skip_h1_title": false,
   "title_cell": "Table of Contents",
   "title_sidebar": "Contents",
   "toc_cell": false,
   "toc_position": {
    "height": "711.818px",
    "left": "588px",
    "top": "469.284px",
    "width": "336.903px"
   },
   "toc_section_display": true,
   "toc_window_display": false
  }
 },
 "nbformat": 4,
 "nbformat_minor": 2
}
