{
 "cells": [
  {
   "cell_type": "markdown",
   "metadata": {
    "heading_collapsed": true
   },
   "source": [
    "# Libraries"
   ]
  },
  {
   "cell_type": "code",
   "execution_count": 99,
   "metadata": {
    "hidden": true,
    "init_cell": true
   },
   "outputs": [],
   "source": [
    "import numpy as np\n",
    "import sympy as sp\n",
    "import sympy.physics.quantum as sq\n",
    "import sympy.physics.quantum.qubit as sqq\n",
    "import sympy.physics.quantum.gate as sqg\n",
    "\n",
    "import cvxpy as cp\n",
    "\n",
    "import matplotlib.pyplot as plt\n",
    "import networkx as nx\n",
    "\n",
    "sp.init_printing(use_latex='mathjax')\n",
    "from IPython.display import display"
   ]
  },
  {
   "cell_type": "markdown",
   "metadata": {
    "hidden": true
   },
   "source": [
    "## idealFid"
   ]
  },
  {
   "cell_type": "code",
   "execution_count": 100,
   "metadata": {
    "hidden": true,
    "init_cell": true
   },
   "outputs": [],
   "source": [
    "class idealFid:\n",
    "    \n",
    "    def __init__(s):\n",
    "        P1 = s.proj(1,5)\n",
    "        P2 = s.proj(2,5)\n",
    "        P3 = s.proj(3,5)\n",
    "        P4 = s.proj(4,5)\n",
    "        P5 = s.proj(5,5)\n",
    "        s.P = [P1,P2,P3,P4,P5]\n",
    "        s.terms = 5\n",
    "\n",
    "    def proj(s,j,n):\n",
    "        pi=np.pi\n",
    "        temp1 = np.cos(pi/n)/(1+np.cos(pi/n))\n",
    "        temp2 = 1-temp1\n",
    "        temp3 = j*pi*(n-1)/n\n",
    "        vec = np.asarray([np.sqrt(temp1),np.sqrt(temp2)*np.sin(temp3), np.sqrt(temp2)*np.cos(temp3)])\n",
    "        mat = np.outer(vec,vec)\n",
    "        return mat\n",
    "    \n",
    "    \n",
    "    def idealVal(s,projList):\n",
    "        op = s.P[projList[0]]\n",
    "        for iProj in projList[1:]:\n",
    "            op = op@s.P[iProj]\n",
    "        return op[0,0]\n",
    "    "
   ]
  },
  {
   "cell_type": "markdown",
   "metadata": {
    "heading_collapsed": true,
    "hidden": true
   },
   "source": [
    "## Extending the braket library to include orthogonality"
   ]
  },
  {
   "cell_type": "code",
   "execution_count": 101,
   "metadata": {
    "hidden": true,
    "init_cell": true
   },
   "outputs": [],
   "source": [
    "class onStruct:\n",
    "    G = nx.Graph()\n",
    "\n",
    "class onKet(sq.Ket,onStruct):\n",
    "    def _eval_innerproduct(self,bra,**hints):\n",
    "        #Check if the innerproduct is with yourself, then set 1\n",
    "        if sq.Dagger(bra) == self:\n",
    "            return sp.Integer(1)\n",
    "        #Else, if the innerproduct is with a neighbor from the graph, set 0\n",
    "        elif sq.Dagger(bra) in G[self]:\n",
    "            return sp.Integer(0)\n",
    "        #Else, do nothing; not enough information\n",
    "    \n",
    "    @classmethod\n",
    "    def set_on_rel(cls,givenG):\n",
    "        cls.G=givenG\n",
    "    \n",
    "    @classmethod\n",
    "    def dual_class(self):\n",
    "        return onBra\n",
    "\n",
    "    \n",
    "class onBra(sq.Bra,onStruct):\n",
    "    @classmethod\n",
    "    def dual_class(self):\n",
    "        return onKet"
   ]
  },
  {
   "cell_type": "code",
   "execution_count": 102,
   "metadata": {
    "hidden": true,
    "init_cell": true
   },
   "outputs": [],
   "source": [
    "class bKet(sq.Ket):\n",
    "    \n",
    "    #total number of kets (automatically increases as new instances are initialised)\n",
    "    totalKets=0\n",
    "    \n",
    "    #this method automates the increase\n",
    "    @classmethod\n",
    "    def _eval_args(cls,args):\n",
    "        #validate input type\n",
    "        if not isinstance(args[0],int):\n",
    "            raise ValueError(\"Integer expected in the argument, got: %r\"%args[0])\n",
    "\n",
    "        #if a ket |5> is initialised, the dimension is assumed to be 6 since we have |0>,|1>,...|5>\n",
    "        if int(args[0])+1 > cls.totalKets:\n",
    "            cls.totalKets=args[0]+1\n",
    "        \n",
    "        #pass control back to the base class\n",
    "        return sq.Ket._eval_args(args) \n",
    "    \n",
    "    #Could not find a way of using just one function; need to go through the two\n",
    "    #based on a combination of the qubit implementation and the \n",
    "    def _represent_default_basis(s,**options):\n",
    "        return s._represent_bKet(None,**options) #syntax taken from the Qubit library\n",
    "    \n",
    "    def _represent_bKet(s,basis,**options): #_represent_default_basis\n",
    "        a=np.zeros(s.__class__.totalKets,dtype=int)\n",
    "        a[s.label[0]]=1\n",
    "        return sp.Matrix(a)\n",
    "    \n",
    "    @classmethod\n",
    "    def set_dimension(cls,arg):\n",
    "        cls.totalKets=arg\n",
    "    \n",
    "    def _eval_innerproduct(self,bra,**hints):\n",
    "        #Check if the innerproduct is with yourself, then set 1\n",
    "        if sq.Dagger(bra) == self:\n",
    "            return sp.Integer(1)\n",
    "        #Else, if the innerproduct is with a neighbor from the graph, set 0\n",
    "        else:\n",
    "            return sp.Integer(0)\n",
    "        #Else, do nothing; not enough information\n",
    "    \n",
    "\n",
    "    @classmethod\n",
    "    def dual_class(self):\n",
    "        return bBra\n",
    "\n",
    "    \n",
    "class bBra(sq.Bra):\n",
    "    # @classmethod\n",
    "    # def _eval_args(cls,args):\n",
    "    #     return args\n",
    "    \n",
    "    @classmethod\n",
    "    def dual_class(cls):\n",
    "        return bKet"
   ]
  },
  {
   "cell_type": "markdown",
   "metadata": {
    "heading_collapsed": true,
    "hidden": true
   },
   "source": [
    "### Debugging | representation example"
   ]
  },
  {
   "cell_type": "code",
   "execution_count": null,
   "metadata": {
    "hidden": true
   },
   "outputs": [],
   "source": [
    "class SzUpKet(sq.Ket):\n",
    "    def _represent_SzUpKet(s,basis,**options):\n",
    "        return sp.Matrix([1,0])\n",
    "    \n",
    "#     def _represent_SzOp(s,basis,**options):\n",
    "#         return sp.Matrix([1,0])\n",
    "\n",
    "class SzOp(sq.Operator):\n",
    "    pass\n",
    "\n",
    "sz = SzOp('Sz')\n",
    "up = SzUpKet('up')\n",
    "sq.represent(up,basis=SzUpKet) #,basis=sz)"
   ]
  },
  {
   "cell_type": "markdown",
   "metadata": {
    "heading_collapsed": true,
    "hidden": true
   },
   "source": [
    "### Testing | Dimension increasing?"
   ]
  },
  {
   "cell_type": "code",
   "execution_count": null,
   "metadata": {
    "hidden": true
   },
   "outputs": [],
   "source": [
    "# class bKet(sq.Ket):\n",
    "    \n",
    "#     #total number of kets (automatically increases as new instances are initialised)\n",
    "#     totalKets=0\n",
    "    \n",
    "#     #this method automates the increase\n",
    "#     @classmethod\n",
    "#     def _eval_args(cls,args):\n",
    "#         #validate input type\n",
    "#         if not isinstance(args[0],int):\n",
    "#             raise ValueError(\"Integer expected in the argument, got: %r\"%args[0])\n",
    "\n",
    "#         #if a ket |5> is initialised, the dimension is assumed to be 6 since we have |0>,|1>,...|5>\n",
    "#         if int(args[0])+1 > cls.totalKets:\n",
    "#             cls.totalKets=args[0]+1\n",
    "        \n",
    "#         #pass control back to the base class\n",
    "#         return sq.Ket._eval_args(args) \n",
    "    \n",
    "#     #Could not find a way of using just one function; need to go through the two\n",
    "#     #based on a combination of the qubit implementation and the \n",
    "#     def _represent_default_basis(s,**options):\n",
    "#         return s._represent_bKet(None,**options) #syntax taken from the Qubit library\n",
    "    \n",
    "#     def _represent_bKet(s,basis,**options): #_represent_default_basis\n",
    "#         a=np.zeros(s.__class__.totalKets,dtype=int)\n",
    "#         a[s.label[0]]=1\n",
    "#         return sp.Matrix(a)\n",
    "    \n",
    "#     @classmethod\n",
    "#     def set_dimension(cls,arg):\n",
    "#         cls.totalKets=arg\n",
    "    \n",
    "#     def _eval_innerproduct(self,bra,**hints):\n",
    "#         #Check if the innerproduct is with yourself, then set 1\n",
    "#         if sq.Dagger(bra) == self:\n",
    "#             return sp.Integer(1)\n",
    "#         #Else, if the innerproduct is with a neighbor from the graph, set 0\n",
    "#         else:\n",
    "#             return sp.Integer(0)\n",
    "#         #Else, do nothing; not enough information\n",
    "    \n",
    "\n",
    "#     @classmethod\n",
    "#     def dual_class(self):\n",
    "#         return bBra\n",
    "\n",
    "    \n",
    "# class bBra(sq.Bra):\n",
    "#     # @classmethod\n",
    "#     # def _eval_args(cls,args):\n",
    "#     #     return args\n",
    "    \n",
    "#     @classmethod\n",
    "#     def dual_class(cls):\n",
    "#         return bKet"
   ]
  },
  {
   "cell_type": "code",
   "execution_count": null,
   "metadata": {
    "hidden": true
   },
   "outputs": [],
   "source": [
    "a=bKet(0)\n",
    "\n",
    "b=a*sq.Dagger(a)\n",
    "\n",
    "print(bKet.totalKets)\n",
    "sq.represent(a)\n",
    "\n",
    "c=bKet(3);\n",
    "sq.represent(a)\n",
    "sq.represent(b)\n",
    "sq.represent(c)"
   ]
  },
  {
   "cell_type": "code",
   "execution_count": null,
   "metadata": {
    "hidden": true
   },
   "outputs": [],
   "source": [
    "a=bKet(0); a"
   ]
  },
  {
   "cell_type": "code",
   "execution_count": null,
   "metadata": {
    "hidden": true
   },
   "outputs": [],
   "source": [
    "sq.represent(a)"
   ]
  },
  {
   "cell_type": "code",
   "execution_count": null,
   "metadata": {
    "hidden": true
   },
   "outputs": [],
   "source": [
    "b=bKet(1); b"
   ]
  },
  {
   "cell_type": "code",
   "execution_count": null,
   "metadata": {
    "hidden": true
   },
   "outputs": [],
   "source": [
    "sq.represent(b)"
   ]
  },
  {
   "cell_type": "code",
   "execution_count": null,
   "metadata": {
    "hidden": true
   },
   "outputs": [],
   "source": [
    "sq.represent(a)"
   ]
  },
  {
   "cell_type": "code",
   "execution_count": null,
   "metadata": {
    "hidden": true
   },
   "outputs": [],
   "source": [
    "c=bKet(3); c"
   ]
  },
  {
   "cell_type": "code",
   "execution_count": null,
   "metadata": {
    "hidden": true
   },
   "outputs": [],
   "source": [
    "sq.represent(a)"
   ]
  },
  {
   "cell_type": "markdown",
   "metadata": {
    "heading_collapsed": true,
    "hidden": true
   },
   "source": [
    "## Extending the tensor product functionality—tsimp and tdsimp"
   ]
  },
  {
   "cell_type": "code",
   "execution_count": 103,
   "metadata": {
    "hidden": true,
    "init_cell": true
   },
   "outputs": [],
   "source": [
    "\n",
    "def powerDrop(expr):\n",
    "    if isinstance(expr,sp.Pow): #TODO: make sure the base is not too complex\n",
    "        # print(\"PowerEncountered\")\n",
    "        if expr.exp>=2:\n",
    "            # print(\"glaba\")\n",
    "            # display(expr.base)\n",
    "            _=sq.qapply(sp.Mul(expr.base,expr.base))\n",
    "            if expr.exp>2:\n",
    "                return powerDrop(_*sp.Pow(expr.base,expr.exp-2))\n",
    "            else:\n",
    "                return _\n",
    "        else:\n",
    "            return expr #autoDropDim(sp.Mul(expr.base,expr.base))\n",
    "    else:\n",
    "        if expr.has(sp.Pow):\n",
    "            #if it is a sum or a product, run this function for each part and then combine the parts; return the result\n",
    "            if isinstance(expr,sp.Mul) or isinstance(expr,sp.Add) or isinstance(expr,sq.TensorProduct):\n",
    "                new_args=[] #list(expr.args)\n",
    "                for _ in expr.args:\n",
    "                    new_args.append(powerDrop(_))\n",
    "                if isinstance(expr,sp.Mul):        \n",
    "                    return sp.Mul(*new_args)\n",
    "                elif isinstance(expr,sp.Add):\n",
    "                    return sp.Add(*new_args)  \n",
    "                elif isinstance(expr,sq.TensorProduct):\n",
    "                    return sq.TensorProduct(*new_args)  \n",
    "\n",
    "            else:\n",
    "                return expr\n",
    "            #There would be no else here because tensor product simp would have removed that part\n",
    "        else:\n",
    "            return expr        \n",
    "    \n",
    "def autoDropDim(expr):\n",
    "    #print(\"Expression\")\n",
    "    #if isinstance(expr,sp.Mul):\n",
    "        #print(\"type:multiplier\")\n",
    "    #display(expr)\n",
    "    \n",
    "    \n",
    "    if isinstance(expr,sq.TensorProduct):\n",
    "        new_args=[]\n",
    "        for _ in expr.args:\n",
    "            #display(_)\n",
    "            #print(type(_))\n",
    "            if _ != sp.Integer(1):\n",
    "            #if not isinstance(_,core.numbers.One):\n",
    "                new_args.append(_)\n",
    "        #print(\"TensorProduct with %d non-ones in the tensor product\"%len(new_args))\n",
    "        if(len(new_args)==0):\n",
    "            return sp.Integer(1)\n",
    "        else:\n",
    "            return sq.TensorProduct(*new_args)\n",
    "    else:\n",
    "        if expr.has(sq.TensorProduct):\n",
    "            #if it is a sum or a product, run this function for each part and then combine the parts; return the result\n",
    "            if isinstance(expr,sp.Mul) or isinstance(expr,sp.Add):\n",
    "                new_args=[] #list(expr.args)\n",
    "                for _ in expr.args:\n",
    "                    new_args.append(autoDropDim(_))\n",
    "                if isinstance(expr,sp.Mul):        \n",
    "                    return sp.Mul(*new_args)\n",
    "                elif isinstance(expr,sp.Add):\n",
    "                    return sp.Add(*new_args)  \n",
    "                \n",
    "            #There would be no else here because tensor product simp would have removed that part\n",
    "        else:\n",
    "            return expr #when the expression is just an integer or some such\n",
    "\n",
    "\n",
    "        \n",
    "def tsimp(e,pruneMe=True):\n",
    "    res=sq.qapply(powerDrop(sq.tensorproduct.tensor_product_simp(sq.qapply(e)).doit()))\n",
    "    if pruneMe:\n",
    "        return prune(res)\n",
    "    else:\n",
    "        return res\n",
    "\n",
    "def tdsimp(e,pruneMe=True):\n",
    "    res=autoDropDim(sq.qapply(powerDrop(autoDropDim(sq.tensorproduct.tensor_product_simp(sq.qapply(e)).doit()))))\n",
    "    if pruneMe:\n",
    "        return prune(res)\n",
    "    else:\n",
    "        return res\n",
    "    #return autoDropDim(sq.tensorproduct.tensor_product_simp_Mul(e).doit())\n",
    "    #return autoDropDim(sq.tensorproduct.tensor_product_simp_Mul(sq.qapply(e)).doit())\n",
    "    #return autoDropDim(sq.tensorproduct.tensor_product_simp(e).doit())"
   ]
  },
  {
   "cell_type": "markdown",
   "metadata": {
    "heading_collapsed": true,
    "hidden": true
   },
   "source": [
    "## Find Coeff was not reliable"
   ]
  },
  {
   "cell_type": "code",
   "execution_count": 104,
   "metadata": {
    "hidden": true,
    "init_cell": true
   },
   "outputs": [],
   "source": [
    "# depth=0\n",
    "# depthThresh=20\n",
    "\n",
    "def findCoeff(obj,lett):\n",
    "#     global depth\n",
    "    \n",
    "#     print(\"Parent object:\")\n",
    "#     display(obj)\n",
    "    \n",
    "    if(obj==None):\n",
    "#         print(\"coefficent is zero\")\n",
    "        return 0\n",
    "    elif not (isinstance(obj,sp.Mul) or isinstance(obj,sp.Add)):        \n",
    "        #the coefficient may be one but we couldn't see it earlier\n",
    "        return obj.coeff(lett)\n",
    "    else:\n",
    "        #try to find the coefficient directly        \n",
    "        result=obj.coeff(lett)\n",
    "        #Did not work? \n",
    "        if(result==0):\n",
    "            #try for each segment\n",
    "            for _ in obj.args:\n",
    "#                 print(\"child:\")\n",
    "#                 display(_)\n",
    "                result=_.coeff(lett)\n",
    "#                 print(\"coefficient of child:\",result)\n",
    "                \n",
    "                #still did not work?\n",
    "                if(result==0):\n",
    "                    #try recursing\n",
    "                    result = findCoeff(_,lett)    \n",
    "                \n",
    "                #found? Stop searching\n",
    "                if(result!=0):\n",
    "                    break\n",
    "                    #return result\n",
    "\n",
    "        #return whatever was found | worked\n",
    "        return result\n",
    "\n"
   ]
  },
  {
   "cell_type": "markdown",
   "metadata": {
    "heading_collapsed": true,
    "hidden": true
   },
   "source": [
    "## Prune"
   ]
  },
  {
   "cell_type": "code",
   "execution_count": 105,
   "metadata": {
    "hidden": true,
    "init_cell": true
   },
   "outputs": [],
   "source": [
    "def prune(expr,thr=10):\n",
    "    if isinstance(expr,sp.Number): \n",
    "        if sp.Abs(expr)<10**(-thr):\n",
    "            return sp.Integer(0)\n",
    "        else:\n",
    "            return expr\n",
    "    else:\n",
    "        if expr.has(sp.Number):\n",
    "            #if it is a sum or a product, run this function for each part and then combine the parts; return the result\n",
    "            if isinstance(expr,sp.Mul) or isinstance(expr,sp.Add) or isinstance(expr,sq.TensorProduct):\n",
    "                new_args=[] #list(expr.args)\n",
    "                for _ in expr.args:\n",
    "                    new_args.append(prune(_,thr))\n",
    "                if isinstance(expr,sp.Mul):        \n",
    "                    return sp.Mul(*new_args)\n",
    "                elif isinstance(expr,sp.Add):\n",
    "                    return sp.Add(*new_args)  \n",
    "                elif isinstance(expr,sq.TensorProduct):\n",
    "                    return sq.TensorProduct(*new_args)  \n",
    "\n",
    "            else:\n",
    "                return expr\n",
    "            #There would be no else here because tensor product simp would have removed that part\n",
    "        else:\n",
    "            return expr        \n",
    "\n"
   ]
  },
  {
   "cell_type": "markdown",
   "metadata": {},
   "source": [
    "# Swap KCBS | Playfield "
   ]
  },
  {
   "cell_type": "markdown",
   "metadata": {
    "heading_collapsed": true
   },
   "source": [
    "## Inputs"
   ]
  },
  {
   "cell_type": "code",
   "execution_count": null,
   "metadata": {
    "hidden": true
   },
   "outputs": [],
   "source": [
    "class inputs:\n",
    "    graphSize = 5\n",
    "    p = 1/np.sqrt(5)*np.array([1,1,1,1,1])"
   ]
  },
  {
   "cell_type": "markdown",
   "metadata": {
    "heading_collapsed": true
   },
   "source": [
    "## The Sympy Part | playground"
   ]
  },
  {
   "cell_type": "code",
   "execution_count": null,
   "metadata": {
    "hidden": true
   },
   "outputs": [],
   "source": [
    "k0 = sq.Ket('φ')\n",
    "k1 = sq.Ket('ψ')\n",
    "superposition = k0+k1; superposition"
   ]
  },
  {
   "cell_type": "code",
   "execution_count": null,
   "metadata": {
    "hidden": true
   },
   "outputs": [],
   "source": [
    "inner_prod = sq.Dagger(superposition)*superposition; inner_prod"
   ]
  },
  {
   "cell_type": "code",
   "execution_count": null,
   "metadata": {
    "hidden": true
   },
   "outputs": [],
   "source": [
    "sq.qapply(inner_prod)"
   ]
  },
  {
   "cell_type": "code",
   "execution_count": null,
   "metadata": {
    "hidden": true
   },
   "outputs": [],
   "source": [
    "density = sq.qapply(superposition*sq.Dagger(superposition)); density"
   ]
  },
  {
   "cell_type": "code",
   "execution_count": null,
   "metadata": {
    "hidden": true
   },
   "outputs": [],
   "source": [
    "qubit_state = sqq.Qubit('00'); qubit_state"
   ]
  },
  {
   "cell_type": "code",
   "execution_count": null,
   "metadata": {
    "hidden": true
   },
   "outputs": [],
   "source": [
    "isinstance(qubit_state,sq.State)"
   ]
  },
  {
   "cell_type": "code",
   "execution_count": null,
   "metadata": {
    "hidden": true
   },
   "outputs": [],
   "source": [
    "gate_operator = sqg.HadamardGate(0); gate_operator"
   ]
  },
  {
   "cell_type": "code",
   "execution_count": null,
   "metadata": {
    "hidden": true
   },
   "outputs": [],
   "source": [
    "isinstance(gate_operator,sq.Operator)"
   ]
  },
  {
   "cell_type": "code",
   "execution_count": null,
   "metadata": {
    "hidden": true
   },
   "outputs": [],
   "source": [
    "\n",
    "a=sqq.Qubit(0)\n",
    "b=sqq.Qubit(1)\n",
    "\n",
    "d = sq.qapply(sq.Dagger(a)*b).doit(); d"
   ]
  },
  {
   "cell_type": "markdown",
   "metadata": {
    "heading_collapsed": true,
    "hidden": true
   },
   "source": [
    "### Playing with classes"
   ]
  },
  {
   "cell_type": "code",
   "execution_count": null,
   "metadata": {
    "hidden": true
   },
   "outputs": [],
   "source": [
    "class A:\n",
    "    gla=1\n",
    "\n",
    "class B:\n",
    "    glaba=3\n",
    "    \n",
    "class C(B,A):\n",
    "    glow=4\n",
    "\n",
    "c=C()\n",
    "\n",
    "print(isinstance(c,A),isinstance(c,B),isinstance(c,C))\n"
   ]
  },
  {
   "cell_type": "markdown",
   "metadata": {
    "heading_collapsed": true,
    "hidden": true
   },
   "source": [
    "### Kishor meets the class"
   ]
  },
  {
   "cell_type": "code",
   "execution_count": null,
   "metadata": {
    "hidden": true
   },
   "outputs": [],
   "source": [
    "class Person:\n",
    "    name=\"blank\"\n",
    "    \n",
    "    def set_name(self,arg):\n",
    "        self.name = arg\n",
    "    \n",
    "    @property\n",
    "    def myName(self):\n",
    "        return self.name\n",
    "\n",
    "    def get_name(self):\n",
    "        return self.name\n",
    "    \n",
    "Kishor = Person() \n",
    "Kishor.set_name(\"Bharti\")\n",
    "\n",
    "M = Person()\n",
    "M.set_name(\"M\")\n",
    "\n",
    "\n",
    "\n",
    "print(M.myName, Kishor.myName, M.get_name() )\n",
    "\n",
    "print(M.myName,Kishor.myName)"
   ]
  },
  {
   "cell_type": "code",
   "execution_count": null,
   "metadata": {
    "hidden": true
   },
   "outputs": [],
   "source": [
    "class Person:\n",
    "    name=\"blank\"\n",
    "    compatibility=\"\"\n",
    "    \n",
    "    def set_name(self,arg):\n",
    "        self.name = arg\n",
    "    \n",
    "    @property\n",
    "    def myName(self):\n",
    "        return self.name\n",
    "    \n",
    "    @classmethod\n",
    "    def set_comp(cls,arg):\n",
    "        cls.compatibility=arg\n",
    "        \n",
    "    @classmethod\n",
    "    def get_comp(cls):\n",
    "        return cls.compatibility\n",
    "        \n",
    "    @property\n",
    "    def comp(self):\n",
    "        return self.compatibility\n",
    "    \n",
    "Kishor = Person() \n",
    "Kishor.set_name(\"Bharti\")\n",
    "\n",
    "M = Person()\n",
    "M.set_name(\"M\")\n",
    "\n",
    "Person.set_comp(\"M hates K\")\n",
    "print(Person.get_comp())\n",
    "\n",
    "print(M.myName,Kishor.myName)\n",
    "\n",
    "print(M.comp,Kishor.comp)"
   ]
  },
  {
   "cell_type": "code",
   "execution_count": null,
   "metadata": {
    "hidden": true
   },
   "outputs": [],
   "source": [
    "class A:\n",
    "    aVal=\"blank\"\n",
    "    \n",
    "    @property\n",
    "    def myVal(self):\n",
    "        return self.aVal\n",
    "\n",
    "class C:\n",
    "    cVal=\"blank3\"\n",
    "    \n",
    "    @property\n",
    "    def myVal3(self):\n",
    "        return self.cVal\n",
    "    \n",
    "class B(A,C):\n",
    "    bVal=\"blank2\"\n",
    "    \n",
    "    @property\n",
    "    def myVal2(self):\n",
    "        return self.bVal\n",
    "    \n",
    "a = B()\n",
    "\n",
    "print(a.myVal2,a.myVal,a.myVal3)"
   ]
  },
  {
   "cell_type": "markdown",
   "metadata": {
    "heading_collapsed": true,
    "hidden": true
   },
   "source": [
    "### Preliminary implementation of orthogonormal kets (uses labels)"
   ]
  },
  {
   "cell_type": "code",
   "execution_count": null,
   "metadata": {
    "hidden": true
   },
   "outputs": [],
   "source": [
    "class onKet(sq.Ket):\n",
    "#     a=1\n",
    "    \n",
    "    #@classmethod\n",
    "    #this @classmethod descriptor was killing it\n",
    "    #it was sending the class in \"self\" instead of the instance in \"self\"\n",
    "    #makes sense now\n",
    "    #I can perhaps use this to set orthogonality relations a little more generally\n",
    "    def _eval_innerproduct(self,bra,**hints):\n",
    "        #print(self.label,bra.label)\n",
    "        if self.label == bra.label:\n",
    "            return sp.Integer(1)\n",
    "        else:\n",
    "            return sp.Integer(0)\n",
    "    \n",
    "    @classmethod\n",
    "    def dual_class(self):\n",
    "        return onBra\n",
    "    @property\n",
    "    def iAm(self):\n",
    "        return self.label\n",
    "    \n",
    "class onBra(sq.Bra):\n",
    "#     a=2\n",
    "\n",
    "#     @classmethod\n",
    "#     def _eval_innerproduct(self,ket,**hints):\n",
    "#         if self.label == ket.label:\n",
    "#             return sp.Integer(1)\n",
    "#         else:\n",
    "#             return sp.Integer(0)\n",
    "    \n",
    "    @classmethod\n",
    "    def dual_class(self):\n",
    "        return onKet"
   ]
  },
  {
   "cell_type": "code",
   "execution_count": null,
   "metadata": {
    "hidden": true
   },
   "outputs": [],
   "source": [
    "a=onKet(0)\n",
    "b=onKet(1)"
   ]
  },
  {
   "cell_type": "code",
   "execution_count": null,
   "metadata": {
    "hidden": true
   },
   "outputs": [],
   "source": [
    "c=a+b; c"
   ]
  },
  {
   "cell_type": "code",
   "execution_count": null,
   "metadata": {
    "hidden": true
   },
   "outputs": [],
   "source": [
    "sq.qapply(sq.Dagger(b)*a).doit()"
   ]
  },
  {
   "cell_type": "code",
   "execution_count": null,
   "metadata": {
    "hidden": true
   },
   "outputs": [],
   "source": [
    "d=sq.Dagger(c)*b\n",
    "sq.qapply(d).doit()"
   ]
  },
  {
   "cell_type": "markdown",
   "metadata": {
    "heading_collapsed": true,
    "hidden": true
   },
   "source": [
    "### Orthogonal Ket, general orthogonality relation"
   ]
  },
  {
   "cell_type": "code",
   "execution_count": null,
   "metadata": {
    "hidden": true
   },
   "outputs": [],
   "source": [
    "class onStruct:\n",
    "    G = nx.Graph()\n",
    "\n",
    "class onKet(sq.Ket,onStruct):\n",
    "#     a=1\n",
    "    #@classmethod\n",
    "    #this @classmethod descriptor was killing it\n",
    "    #it was sending the class in \"self\" instead of the instance in \"self\"\n",
    "    #makes sense now\n",
    "    #I can perhaps use this to set orthogonality relations a little more generally\n",
    "    def _eval_innerproduct(self,bra,**hints):\n",
    "        #print(self.label,bra.label)        \n",
    "        if sq.Dagger(bra) == self:\n",
    "        #if self.label == bra.label:\n",
    "            return sp.Integer(1)\n",
    "        elif sq.Dagger(bra) in G[self]:\n",
    "            return sp.Integer(0)\n",
    "    \n",
    "    @classmethod\n",
    "    def set_on_rel(cls,givenG):\n",
    "        cls.G=givenG\n",
    "    \n",
    "    @classmethod\n",
    "    def dual_class(self):\n",
    "        return onBra\n",
    "\n",
    "    \n",
    "class onBra(sq.Bra,onStruct):\n",
    "#     a=2\n",
    "\n",
    "#     @classmethod\n",
    "#     def _eval_innerproduct(self,ket,**hints):\n",
    "#         if self.label == ket.label:\n",
    "#             return sp.Integer(1)\n",
    "#         else:\n",
    "#             return sp.Integer(0)    \n",
    "    @classmethod\n",
    "    def dual_class(self):\n",
    "        return onKet"
   ]
  },
  {
   "cell_type": "code",
   "execution_count": null,
   "metadata": {
    "hidden": true
   },
   "outputs": [],
   "source": [
    "#define the kets\n",
    "a=onKet(1)\n",
    "b=onKet(2)\n",
    "c=onKet(3)\n",
    "d=onKet(4)\n",
    "\n",
    "#define the orthogonality relation using a graph (edges mean orthogonal)\n",
    "G = nx.Graph()\n",
    "G.add_nodes_from([a,b,c,d])\n",
    "G.add_edges_from([[a,b],[b,c],[c,d],[d,a]])\n",
    "\n",
    "#Add this graph to the class\n",
    "onKet.set_on_rel(G)\n",
    "\n",
    "#test\n",
    "s1 = (a+b+c)/sp.sqrt(3)\n",
    "s2 = (b+c+d)/sp.sqrt(3)\n",
    "\n",
    "d = sq.Dagger(s1)*s2\n",
    "\n",
    "#simplify\n",
    "sq.qapply(d).doit()"
   ]
  },
  {
   "cell_type": "code",
   "execution_count": null,
   "metadata": {
    "hidden": true
   },
   "outputs": [],
   "source": [
    "#plot the graph for fun\n",
    "nx.draw(G, with_labels=True)"
   ]
  },
  {
   "cell_type": "code",
   "execution_count": null,
   "metadata": {
    "hidden": true
   },
   "outputs": [],
   "source": [
    "f=sq.Ket(\"f\")\n",
    "g=sq.Ket(\"g\")\n",
    "h=sq.TensorProduct(a,b)\n",
    "l=sq.TensorProduct(b,a)\n",
    "sq.qapply(sq.Dagger(h)*l).doit()"
   ]
  },
  {
   "cell_type": "markdown",
   "metadata": {
    "hidden": true
   },
   "source": [
    "### Playing with networks"
   ]
  },
  {
   "cell_type": "code",
   "execution_count": null,
   "metadata": {
    "hidden": true
   },
   "outputs": [],
   "source": [
    "G = nx.Graph()\n",
    "G.add_node(1)"
   ]
  },
  {
   "cell_type": "code",
   "execution_count": null,
   "metadata": {
    "hidden": true
   },
   "outputs": [],
   "source": [
    "G = nx.Graph()\n",
    "G.add_nodes_from([1,2,3,4,5])\n",
    "G.add_edges_from([[1,2],[2,3],[3,4],[4,5],[5,1]])"
   ]
  },
  {
   "cell_type": "code",
   "execution_count": null,
   "metadata": {
    "hidden": true
   },
   "outputs": [],
   "source": [
    "%matplotlib inline \n",
    "nx.draw(G, with_labels=True)"
   ]
  },
  {
   "cell_type": "code",
   "execution_count": null,
   "metadata": {
    "hidden": true
   },
   "outputs": [],
   "source": [
    "3 in G[1]"
   ]
  },
  {
   "cell_type": "markdown",
   "metadata": {},
   "source": [
    "# Ideal KCBS calculations"
   ]
  },
  {
   "cell_type": "markdown",
   "metadata": {},
   "source": [
    "## Working Version"
   ]
  },
  {
   "cell_type": "code",
   "execution_count": 110,
   "metadata": {
    "code_folding": [
     192,
     203,
     230,
     319,
     394
    ],
    "init_cell": true
   },
   "outputs": [],
   "source": [
    "class cls_iKCBS:    \n",
    "    \n",
    "    def __init__(s,n,verbose=False,thr=10):\n",
    "        s.thr=thr\n",
    "        if verbose==True:\n",
    "            print(\"Creating projectors etc\")\n",
    "\n",
    "        cls_iKCBS.n=n\n",
    "        #j in 0,1,2,3,4\n",
    "        s.ke = [bKet(j) for j in range(3)]    \n",
    "        #s.mke = [sq.represent(_) for _ in s.ke]\n",
    "        s.br = [sq.Dagger(s.ke[j]) for j in range(3)]\n",
    "        #s.mbr = [sq.repreesent(_) for _ in s.br]\n",
    "        \n",
    "        s.Πs = []\n",
    "        \n",
    "        #evaluate the projectors for the ideal case\n",
    "        for j in range(n):\n",
    "            s.Πs.append(s.eval(j,n))\n",
    "        \n",
    "        #calculate the matrix representation\n",
    "        s.matΠs = [sq.represent(_) for _ in s.Πs] #I leave this as well to avoid breaking things; TODO: try to remove it\n",
    "        #s.mΠs = [sq.represent(_) for _ in s.Πs] \n",
    "        \n",
    "        #the first two vectors are taken to be k'\n",
    "        s.kp = [s.eval(0,n,True),s.eval(1,n,True)]\n",
    "        \n",
    "        #the third is constructed as k0 x k1 (cross product) and then added to the list\n",
    "        s.kp.append(s.cross(s.kp))\n",
    "        \n",
    "        #evaluates the conjugate for each element in the list\n",
    "        s.bp=[sq.Dagger(ikp) for ikp in s.kp]                \n",
    "        \n",
    "        #the Translation operator\n",
    "        s.T = s.kp[0]*s.bp[2] + s.kp[1]*s.bp[0] + s.kp[2]*s.bp[1] \n",
    "        s.Ti = s.kp[2]*s.bp[0] + s.kp[0]*s.bp[1] + s.kp[1]*s.bp[2] #TODO: Automate this\n",
    "        \n",
    "        #s.mT = s.mkp[0]*s.mbp[2] + s.mkp[1]*s.mbp[0] + s.mkp[2]*s.mbp[1] \n",
    "        #s.mTi = s.mkp[2]*s.mbp[0] + s.mkp[0]*s.mbp[1] + s.mkp[1]*s.mbp[2] #TODO: Automate this\n",
    "        \n",
    "        s.matT=sq.represent(s.T)\n",
    "        \n",
    "        #Now the abstract ones\n",
    "        \n",
    "        #creates n abstract projectors (basically just a bunch of non-commuting symbols)\n",
    "        s._Πs = sp.symbols('Π_0:%d'%n,commutative=False)\n",
    "        \n",
    "        s.daggerDict = {}\n",
    "        s.sqDict={}\n",
    "        for i in range(n):\n",
    "            s.daggerDict[sq.Dagger(s._Πs[i])]=s._Πs[i]\n",
    "            s.sqDict[(s._Πs[i])*(s._Πs[i])]=s._Πs[i]\n",
    "        \n",
    "#         s._Πs = []\n",
    "#         for i in range(n):\n",
    "#             s._Πs.append(sq.HermitianOperator('Π_'+str(i)))\n",
    "        \n",
    "        \n",
    "        #An abstract psi (likely we won't use this)\n",
    "        #s._Ψ = sp.symbol('Psi')\n",
    "        \n",
    "#         #the following will find _Τ as a function of _Πs \n",
    "        # s._T=s.eval_c() #NB: it computes the coefficients into s.c\n",
    "        if verbose==True:\n",
    "            print(\"Solving a linear system to find the coefficients for expressing the translation operator as a sum of projectors\")\n",
    "\n",
    "        s._T=s.eval_lin_c() #NB: it computes the coefficients into s.c    \n",
    "        #display(s._T)\n",
    "#         #Just trying (original)\n",
    "        # s.TP = sq.TensorProduct #just to make naming easy\n",
    "        # s._U_=s.TP(sq.IdentityOperator(),s.kp[0]*s.bp[0]) + s.TP(s._T,s.kp[1]*s.bp[1]) + s.TP(s._T,s.kp[2]*s.bp[2])        \n",
    "        # s._T_=s.TP(sq.IdentityOperator(),s.kp[0]*s.bp[0] + s.kp[2]*s.bp[1] + s.kp[1]*s.bp[2])\n",
    "        # s._V_=s.TP(s._Πs[0],sq.IdentityOperator()) + s.TP(s._Πs[1],s.Ti) + s.TP(s._Πs[2],s.Ti*s.Ti)\n",
    "\n",
    "\n",
    "#         s.S = s._T_ * s._U_ * s._V_ #* s._U_\n",
    "#         s._ρin_ = s.TP(sq.IdentityOperator(),s.ke[0]*s.br[0])\n",
    "#         s._kout_ = s.TP(sq.IdentityOperator(),s.kp[0])\n",
    "#         s._bout_ = s.TP(sq.IdentityOperator(),s.bp[0])\n",
    "\n",
    "#         s.F = (s._bout_ * s.S * s._ρin_ * sq.Dagger(s.S) * s._kout_)\n",
    "        \n",
    "\n",
    "        #State Term\n",
    "        \n",
    "        #Just trying (debugging | seems to work)\n",
    "#         s.TP = sq.TensorProduct #just to make naming easy\n",
    "#         s._U_=s.TP(sp.Integer(1),sp.N(s.kp[0]*s.bp[0])) + s.TP(s._T,sp.N(s.kp[1]*s.bp[1])) + s.TP(s._T,sp.N(s.kp[2]*s.bp[2]))\n",
    "#         s._T_=s.TP(sp.Integer(1),sp.N(s.kp[0]*s.bp[0]) + sp.N(s.kp[2]*s.bp[1]) + sp.N(s.kp[1]*s.bp[2]))\n",
    "#         s._V_=s.TP(s._Πs[0],sp.Integer(1)) + s.TP(s._Πs[1],sp.N(s.Ti)) + s.TP(s._Πs[2],sp.N(s.Ti)*sp.N(s.Ti))\n",
    "        \n",
    "#         #s.S = s._T_ * s._U_ * s._V_ #* s._U_\n",
    "#         s._ρin_ = s.TP(sp.Integer(1),s.ke[0]*s.br[0])\n",
    "#         s._kout_ = s.TP(sp.Integer(1),sp.N(s.kp[0]))\n",
    "#         s._bout_ = s.TP(sp.Integer(1),sp.N(s.bp[0]))\n",
    "\n",
    "#         #s.F2=tsimp(s._bout_ * tsimp(tsimp(s._T_*s._U_)*s._V_)*s._kout_)\n",
    "#         s.F0=tsimp(s._bout_ * s._T_)\n",
    "#         s.F1=tsimp(s.F0 * s._U_) #*s._V_\n",
    "#         #s.F2=tsimp(s.F1 * s._V_)\n",
    "#         s.G0=tsimp(s._V_*s._kout_)\n",
    "        \n",
    "#         s.H0 = tsimp(s.F1*s.G0)\n",
    "#         #s.F1 = s._bout_ * s._T_ * s._U_ * s._V_ * s._kout_\n",
    "#         #s.F2 = s.F1 * \n",
    "        if verbose==True:\n",
    "            print(\"Evaluating the first term of F\")\n",
    "        #s.Fs = []\n",
    "        s.Fs = [s.eval_state_F()]\n",
    "        for i in range(n):\n",
    "            print(\"iteration: \",i)\n",
    "            s.Fs.append(s.Fs[i-1]+np.sqrt(5)*s.eval_state_F(s.Πs[i],s._Πs[i]))\n",
    "        \n",
    "        s.F = s.Fs[-1] #last element, the most recent calculation\n",
    "        \n",
    "        print(\"done\")\n",
    "        #s.eval_state_F(s.Πs[0],s._Πs[0]) #tdsimp(s.H0)\n",
    "\n",
    "\n",
    "    def eval_state_F(s,proj=sp.Integer(1),proj_=sp.Integer(1)):\n",
    "        s.TP = sq.TensorProduct #just to make naming easy\n",
    "        dontDie=prune(sp.N(sq.qapply(s._T*s._T)))\n",
    "        #display(dontDie)\n",
    "\n",
    "#         _U_=s.TP(sp.Integer(1),(s.mkp[0]*s.mbp[0])) + s.TP(s._T,((s.mkp[1]*s.mbp[1])) + s.TP(dontDie,((s.mkp[2]*s.mbp[2]))        \n",
    "#         _T_=s.TP(sp.Integer(1),s.mkp[0]*s.mbp[0] + s.mkp[2]*s.mbp[1] + s.mkp[1]*s.mbp[2])\n",
    "#         _V_=s.TP(s._Πs[0],sp.Integer(1)) + s.TP(s._Πs[1],s.mTi) + s.TP(s._Πs[2],s.mTi*s.mTi)\n",
    "\n",
    "                                                                                             \n",
    "        _U_=s.TP(sp.Integer(1),prune(sp.N(s.kp[0]*s.bp[0]))) + s.TP(s._T,prune(sp.N(s.kp[1]*s.bp[1]))) + s.TP(dontDie,prune(sp.N(s.kp[2]*s.bp[2])))\n",
    "        _T_=s.TP(sp.Integer(1),prune(sp.N(s.kp[0]*s.bp[0])) + prune(sp.N(s.kp[2]*s.bp[1])) + prune(sp.N(s.kp[1]*s.bp[2])))\n",
    "        _V_=prune(s.TP(s._Πs[0],sp.Integer(1)) + s.TP(s._Πs[1],prune(sp.N(s.Ti))) + s.TP(s._Πs[2],prune(sp.N(s.Ti)*sp.N(s.Ti))))\n",
    "\n",
    "        print(\"Evaluated U,T,V; staying alive\")\n",
    "\n",
    "#         _kin_ = s.TP(sp.Integer(1),sq.represent(proj)*s.mke[0])\n",
    "#         _bin_ = s.TP(sp.Integer(1),s.mbr[0]*sq.represent(proj))\n",
    "\n",
    "        _kin_ = s.TP(sp.Integer(1),sp.N(proj*s.ke[0]))\n",
    "        _bin_ = s.TP(sp.Integer(1),sp.N(s.br[0]*proj))\n",
    "        \n",
    "        \n",
    "        _kout_ = s.TP(sp.Integer(1)*proj_,sp.N(s.kp[0])) #s.TP(sp.Integer(1),sp.N(s.kp[0]))\n",
    "        _bout_ = s.TP(sp.Integer(1)*proj_,sp.N(s.bp[0])) #s.TP(sp.Integer(1),sp.N(s.bp[0]))\n",
    "#         _kout_ = s.TP(sp.Integer(1)*proj_,s.mkp[0]) #s.TP(sp.Integer(1),sp.N(s.kp[0]))\n",
    "#         _bout_ = s.TP(sp.Integer(1)*proj_,s.mbp[0]) #s.TP(sp.Integer(1),sp.N(s.bp[0]))\n",
    "        \n",
    "\n",
    "                                                                                             \n",
    "        #s.F2=tsimp(_bout_ * tsimp(tsimp(_T_*_U_)*_V_)*_kout_)\n",
    "        print(\"evaluation stage:\")\n",
    "        F0=tsimp(_bin_ * _T_)\n",
    "        print(\"1\")\n",
    "        F1=tsimp(F0 * _U_) #*_V_\n",
    "        print(\"2\")\n",
    "        #s.F2=tsimp(F1 * _V_)\n",
    "        G0=tsimp(_V_*_kout_)\n",
    "        print(\"3\")\n",
    "        \n",
    "        #display(F1)\n",
    "        #display(G0)\n",
    "        t1=sq.qapply(F1*G0)\n",
    "        t2=t1.subs(s.daggerDict).subs(s.sqDict)\n",
    "        \n",
    "        H0 = tsimp(t2) #tsimp(F1*G0)\n",
    "        print(\"4\")\n",
    "        #s.F1 = s._bout_ * _T_ * _U_ * _V_ * s._kout_\n",
    "        #s.F2 = s.F1 * \n",
    "        s.F = tdsimp(H0)\n",
    "        print(\"5\")\n",
    "        \n",
    "        #return tdsimp(sp.expand(s.F * sq.Dagger(s.F)))\n",
    "        return sp.expand((sq.Dagger(s.F) * s.F).subs(s.daggerDict)).subs(s.sqDict).subs(s.sqDict)\n",
    "        if verbose==True:\n",
    "            print(\"Dinner out is a go.\")\n",
    "        \n",
    "#         #s.S = _T_ * _U_ * _V_ #* _U_\n",
    "#         s._ρin_ = s.TP(sp.Integer(1),s.ke[0]*s.br[0])\n",
    "        \n",
    "#         s._kin_ = s.TP(sp.Integer(1),s.ke[0])\n",
    "#         s._kout_ = s.TP(sp.Integer(1),s.br[0])\n",
    "        \n",
    "#         #_kout_ = s.TP(sp.Integer(1),sp.N(s.kp[0])) #s.TP(sp.Integer(1),sp.N(s.kp[0]))\n",
    "#         _kout_ = s.TP(sp.Integer(1),sp.N(proj*s.kp[0])) #s.TP(sp.Integer(1),sp.N(s.kp[0]))\n",
    "#         _bout_ = s.TP(sp.Integer(1)*proj_,sp.N(s.bp[0])) #s.TP(sp.Integer(1),sp.N(s.bp[0]))\n",
    "        \n",
    "\n",
    "#         #s.F2=tsimp(_bout_ * tsimp(tsimp(_T_*_U_)*_V_)*_kout_)\n",
    "#         F0=tsimp(_bout_ * _T_)\n",
    "#         F1=tsimp(F0 * _U_) #*_V_\n",
    "#         #s.F2=tsimp(F1 * _V_)\n",
    "#         G0=tsimp(_V_*_kout_)\n",
    "        \n",
    "#         H0 = tsimp(F1*G0)\n",
    "#         #s.F1 = s._bout_ * _T_ * _U_ * _V_ * s._kout_\n",
    "#         #s.F2 = s.F1 * \n",
    "#         s.F = tdsimp(H0)\n",
    "        \n",
    "#         #return tdsimp(sp.expand(s.F * sq.Dagger(s.F)))\n",
    "#         return sp.expand((s.F * sq.Dagger(s.F)).subs(s.daggerDict)).subs(s.sqDict).subs(s.sqDict)\n",
    "#         if verbose==True:\n",
    "#             print(\"Dinner out is a go.\")\n",
    "\n",
    "        \n",
    "    def cross(s,vecs):\n",
    "        ca=[sq.qapply(sq.Dagger(s.ke[i])*vecs[0]).doit() for i in range(3)]\n",
    "        cb=[sq.qapply(sq.Dagger(s.ke[i])*vecs[1]).doit() for i in range(3)]\n",
    "        \n",
    "        res = (ca[2-1]*cb[3-1] - ca[3-1]*cb[2-1])*s.ke[0] + \\\n",
    "             (ca[3-1]*cb[1-1]-ca[1-1]*cb[3-1])*s.ke[1] + \\\n",
    "             (ca[1-1]*cb[2-1] - ca[2-1]*cb[1-1])*s.ke[2]\n",
    "        \n",
    "        return res\n",
    "\n",
    "    #evaluates the matrices and vectors\n",
    "    def eval(s,j,n,ve=False):\n",
    "        N=sp.Integer(n)\n",
    "        J=sp.Integer(j)\n",
    "        #print(N,j)\n",
    "        one=sp.Integer(1)\n",
    "        #print(one)\n",
    "        α1=sp.cos((sp.pi)/N)/(one+sp.cos(sp.pi/N)) #verified\n",
    "        #a1=sp.cos(sp.pi/N)\n",
    "        #\n",
    "        #print(α1)\n",
    "        \n",
    "        α2=one-α1 #verified\n",
    "        α3=J * sp.pi * (N-one)/N #verified\n",
    "        \n",
    "        vec = sp.sqrt(α1)*s.ke[0] + sp.sqrt(α2)*sp.sin(α3)*s.ke[1] + sp.sqrt(α2)*sp.cos(α3)*s.ke[2]\n",
    "        \n",
    "        projector = vec*sq.Dagger(vec)\n",
    "           \n",
    "        #matrixprojector = sp.Matrix([0,0])\n",
    "        #return projector\n",
    "        \n",
    "        if ve==False:\n",
    "            return projector\n",
    "        else:\n",
    "            return vec\n",
    "\n",
    "        \n",
    "    def eval_lin_c(s,varCount=None):\n",
    "        cls=s.__class__\n",
    "        if varCount==None:\n",
    "            varCount=cls_iKCBS.n*2\n",
    "        if varCount <= cls.n:\n",
    "            raise ValueError(\"number of variables should be at least n\")\n",
    "    \n",
    "        a=sp.symbols('a0:%d'%varCount)\n",
    "        #s.b=sp.symbols('b0:%d'%varCount)\n",
    "        b=[] #family of solutions\n",
    "        s.c=[] #particular solution with the free variables set to one\n",
    "        \n",
    "        #Setting up of constraints\n",
    "        #If the system is not able to find a solution, consider increasing\n",
    "        #the number of variables by taking different sets of products or products of three operators\n",
    "        TfΠ=a[0]*s.Πs[0]\n",
    "        _TfΠ=a[0]*s._Πs[0]\n",
    "        \n",
    "        for i in range(1,cls.n):\n",
    "            TfΠ=TfΠ + a[i]*s.Πs[i]\n",
    "            _TfΠ=_TfΠ + a[i]*s._Πs[i]\n",
    "        if cls.n != 5:            \n",
    "            for i in range(cls.n,varCount):\n",
    "                TfΠ=TfΠ + a[i]*s.Πs[i%cls.n]*s.Πs[(i+2)%cls.n]\n",
    "                _TfΠ=_TfΠ + a[i]*s._Πs[i%cls.n]*s._Πs[(i+2)%cls.n]\n",
    "        else:\n",
    "            TfΠ=TfΠ + a[5]*s.Πs[4]*s.Πs[2] \\\n",
    "                    + a[6]*s.Πs[4]*s.Πs[1] \\\n",
    "                    + a[7]*s.Πs[1]*s.Πs[3] \\\n",
    "                    + a[8]*s.Πs[2]*s.Πs[0]\n",
    "            \n",
    "            \n",
    "        LHS=sq.represent(TfΠ)\n",
    "        \n",
    "        # LHS=a[0]*s.matΠs[0]\n",
    "        # for i in range(1,cls.n):\n",
    "        #     LHS=LHS+a[i]*s.matΠs[i]\n",
    "        # for i in range(cls.n,varCount):\n",
    "        #     LHS=LHS+a[i]*s.matΠs[i%cls.n]*s.matΠs[(i+2)%cls.n]\n",
    "            \n",
    "        RHS=s.matT\n",
    "        if cls.n!=5:\n",
    "            soln=sp.solve(sp.N(LHS-RHS),a,dict=True)\n",
    "        else:\n",
    "            soln=sp.solve(sp.N(LHS-RHS),a[:9],dict=True)\n",
    "        \n",
    "        #print(\"type:\",type(soln[0]))#, \" and shape:\", soln.shape())\n",
    "        for key,value in soln[0].items():\n",
    "            if np.abs(value)<10**(-s.thr):\n",
    "                soln[0][key]=sp.Integer(0)\n",
    "        \n",
    "        #print(soln)\n",
    "        '''\n",
    "            #soln=sp.solve([a[0]-1,a[1]-2,a[2]-3,a[3]-4,a[4]-5,a[5]-1,a[6]-1,a[7]-1,a[8]-1,a[9]-1],a,dict=True)\n",
    "\n",
    "            # sols = solve([t1 + t2 + t3, eq1, eq2], [t1, t2, t3], dict=True)\n",
    "            # sols[0][t1] # This is t1 in the first solution        \n",
    "        '''\n",
    "\n",
    "        #Dictionary to assign one/zero to free variables\n",
    "        dRem={}\n",
    "        \n",
    "        #IMPORTANT: \n",
    "        #In sympy, symbols/expressions are unmutable (you can't change them ever);\n",
    "        #You can save a substituted expression into a new expression (and use a symbol to denote it)\n",
    "        #To wit: when you substitute, a new expression is produced\n",
    "\n",
    "        for i in range(varCount):\n",
    "            #the variables which were evaluated to an expression, assign them to b[i]\n",
    "            try:\n",
    "                b.append(soln[0][a[i]])      \n",
    "            #if the variable was free, assign b[i] to be one\n",
    "            #and create a dictionary to substitute these free variables\n",
    "            except:\n",
    "                b.append(sp.Integer(1))\n",
    "                dRem[a[i]]=1\n",
    "        \n",
    "        #in the solution saved into b[i], substitute for the free variables using the dictionary\n",
    "        #save the result into the variable c\n",
    "        s.c = [_.subs(dRem) for _ in b]\n",
    "\n",
    "        #substitute the solution into the coefficients in Tfπ_p, the operator T as a sum of projectors (and its products)\n",
    "        dFin={}\n",
    "        for i in range(varCount):\n",
    "            dFin[a[i]]=s.c[i]                \n",
    "        \n",
    "        return _TfΠ.subs(dFin)\n",
    "        \n",
    "    \n",
    "    def eval_c(s,varCount=None):\n",
    "        cls=s.__class__\n",
    "        if varCount==None:\n",
    "            varCount=cls_iKCBS.n*2\n",
    "        if varCount <= cls.n:\n",
    "            raise ValueError(\"number of variables should be at least n\")\n",
    "    \n",
    "        a=sp.symbols('a0:%d'%varCount)\n",
    "        #s.b=sp.symbols('b0:%d'%varCount)\n",
    "        b=[] #family of solutions\n",
    "        s.c=[] #particular solution with the free variables set to one\n",
    "        \n",
    "        #Setting up of constraints\n",
    "        #If the system is not able to find a solution, consider increasing\n",
    "        #the number of variables by taking different sets of products or products of three operators\n",
    "        TfΠ=a[0]*s.Πs[0]\n",
    "        _TfΠ=a[0]*s._Πs[0]\n",
    "        for i in range(1,cls.n):\n",
    "            TfΠ=TfΠ + a[i]*s.Πs[i]\n",
    "            _TfΠ=_TfΠ + a[i]*s._Πs[i]\n",
    "        for i in range(cls.n,varCount):\n",
    "            TfΠ=TfΠ + a[i]*s.Πs[i%cls.n]*s.Πs[(i+2)%cls.n]\n",
    "            _TfΠ=_TfΠ + a[i]*s._Πs[i%cls.n]*s._Πs[(i+2)%cls.n]\n",
    "            \n",
    "            \n",
    "        LHS=sq.represent(TfΠ)\n",
    "        \n",
    "        # LHS=a[0]*s.matΠs[0]\n",
    "        # for i in range(1,cls.n):\n",
    "        #     LHS=LHS+a[i]*s.matΠs[i]\n",
    "        # for i in range(cls.n,varCount):\n",
    "        #     LHS=LHS+a[i]*s.matΠs[i%cls.n]*s.matΠs[(i+2)%cls.n]\n",
    "            \n",
    "        RHS=s.matT\n",
    "        \n",
    "        soln=sp.solve(sp.N(LHS-RHS),a,dict=True)\n",
    "\n",
    "        '''\n",
    "            #soln=sp.solve([a[0]-1,a[1]-2,a[2]-3,a[3]-4,a[4]-5,a[5]-1,a[6]-1,a[7]-1,a[8]-1,a[9]-1],a,dict=True)\n",
    "\n",
    "            # sols = solve([t1 + t2 + t3, eq1, eq2], [t1, t2, t3], dict=True)\n",
    "            # sols[0][t1] # This is t1 in the first solution        \n",
    "        '''\n",
    "\n",
    "        #Dictionary to assign one/zero to free variables\n",
    "        dRem={}\n",
    "        \n",
    "        #IMPORTANT: \n",
    "        #In sympy, symbols/expressions are unmutable (you can't change them ever);\n",
    "        #You can save a substituted expression into a new expression (and use a symbol to denote it)\n",
    "        #To wit: when you substitute, a new expression is produced\n",
    "\n",
    "        for i in range(varCount):\n",
    "            #the variables which were evaluated to an expression, assign them to b[i]\n",
    "            try:\n",
    "                b.append(soln[0][a[i]])      \n",
    "            #if the variable was free, assign b[i] to be one\n",
    "            #and create a dictionary to substitute these free variables\n",
    "            except:\n",
    "                b.append(sp.Integer(1))\n",
    "                dRem[a[i]]=1\n",
    "        \n",
    "        #in the solution saved into b[i], substitute for the free variables using the dictionary\n",
    "        #save the result into the variable c\n",
    "        s.c = [_.subs(dRem) for _ in b]\n",
    "\n",
    "        #substitute the solution into the coefficients in Tfπ_p, the operator T as a sum of projectors (and its products)\n",
    "        dFin={}\n",
    "        for i in range(varCount):\n",
    "            dFin[a[i]]=s.c[i]                \n",
    "        \n",
    "        return _TfΠ.subs(dFin)\n",
    "    \n",
    "    \n",
    "    #This doesn't work as expected\n",
    "    def partial_trace(s,M):\n",
    "        \n",
    "        s.br_ = [ sq.TensorProduct(sq.IdentityOperator(),_) for _ in s.br]\n",
    "        s.ke_ = [ sq.TensorProduct(sq.IdentityOperator(),_) for _ in s.ke]\n",
    "        \n",
    "        res=0*s.br_[0]*M*s.ke_[0]        #to get the type right!\n",
    "        for i in range(3):\n",
    "            for j in range(3):\n",
    "                res=res+s.br_[i]*M*s.ke_[j]\n",
    "        #return sq.qapply(res).doit()\n",
    "        return tsimp(res)\n",
    "        "
   ]
  },
  {
   "cell_type": "code",
   "execution_count": 111,
   "metadata": {
    "init_cell": true
   },
   "outputs": [
    {
     "name": "stdout",
     "output_type": "stream",
     "text": [
      "Creating projectors etc\n",
      "Solving a linear system to find the coefficients for expressing the translation operator as a sum of projectors\n",
      "Evaluating the first term of F\n",
      "Evaluated U,T,V; staying alive\n",
      "evaluation stage:\n",
      "1\n",
      "2\n",
      "3\n",
      "4\n",
      "5\n",
      "iteration:  0\n",
      "Evaluated U,T,V; staying alive\n",
      "evaluation stage:\n",
      "1\n",
      "2\n",
      "3\n",
      "4\n",
      "5\n",
      "iteration:  1\n",
      "Evaluated U,T,V; staying alive\n",
      "evaluation stage:\n",
      "1\n",
      "2\n",
      "3\n",
      "4\n",
      "5\n",
      "iteration:  2\n",
      "Evaluated U,T,V; staying alive\n",
      "evaluation stage:\n",
      "1\n",
      "2\n",
      "3\n",
      "4\n",
      "5\n",
      "iteration:  3\n",
      "Evaluated U,T,V; staying alive\n",
      "evaluation stage:\n",
      "1\n",
      "2\n",
      "3\n",
      "4\n",
      "5\n",
      "iteration:  4\n",
      "Evaluated U,T,V; staying alive\n",
      "evaluation stage:\n",
      "1\n",
      "2\n",
      "3\n",
      "4\n",
      "5\n",
      "done\n"
     ]
    }
   ],
   "source": [
    "iKCBS = cls_iKCBS(5,verbose=True)"
   ]
  },
  {
   "cell_type": "code",
   "execution_count": 96,
   "metadata": {},
   "outputs": [
    {
     "data": {
      "text/latex": [
       "$\\displaystyle 0.447213595499958 Π_{0} + 0.197770545736837 Π_{0} Π_{1} + 0.0591063054983814 Π_{0} Π_{1} Π_{0} Π_{1} + 0.105572809000084 Π_{0} Π_{1} Π_{2} + 0.447213595499959 Π_{0} Π_{1} Π_{2} Π_{1} - 0.601955912244154 Π_{0} Π_{1} Π_{4} Π_{1} + 0.50631990099834 Π_{0} Π_{2} + 0.250378327990013 Π_{0} Π_{2} Π_{0} Π_{1} + 2.59201911448989 Π_{0} Π_{2} Π_{1} - 2.54992616372413 Π_{0} Π_{2} Π_{4} Π_{1} - 0.337012819708448 Π_{0} Π_{4} Π_{0} Π_{1} + 2.49326844841268 Π_{0} Π_{4} Π_{1} - 0.601955912244154 Π_{0} Π_{4} Π_{2} - 2.54992616372413 Π_{0} Π_{4} Π_{2} Π_{1} + 0.0249223594996216 Π_{1} + 0.197770545736837 Π_{1} Π_{0} + 0.090443601379834 Π_{1} Π_{0} Π_{1} + 0.0591063054983814 Π_{1} Π_{0} Π_{1} Π_{0} + 0.0321825872069513 Π_{1} Π_{0} Π_{1} Π_{0} Π_{1} + 0.00781182724501566 Π_{1} Π_{0} Π_{1} Π_{0} Π_{2} + 0.0330914312383713 Π_{1} Π_{0} Π_{1} Π_{0} Π_{2} Π_{1} - 0.044541540952684 Π_{1} Π_{0} Π_{1} Π_{0} Π_{4} Π_{1} + 0.0948243447363723 Π_{1} Π_{0} Π_{1} Π_{2} + 0.0330914312383713 Π_{1} Π_{0} Π_{1} Π_{2} Π_{0} Π_{1} + 0.460788675723529 Π_{1} Π_{0} Π_{1} Π_{2} Π_{1} - 0.337012819708448 Π_{1} Π_{0} Π_{1} Π_{2} Π_{4} Π_{1} - 0.044541540952684 Π_{1} Π_{0} Π_{1} Π_{4} Π_{0} Π_{1} + 0.170408742660961 Π_{1} Π_{0} Π_{1} Π_{4} Π_{1} - 0.0795579347400747 Π_{1} Π_{0} Π_{1} Π_{4} Π_{2} - 0.337012819708448 Π_{1} Π_{0} Π_{1} Π_{4} Π_{2} Π_{1} + 0.368714550704221 Π_{1} Π_{0} Π_{2} + 0.250378327990013 Π_{1} Π_{0} Π_{2} Π_{0} + 0.24341374806059 Π_{1} Π_{0} Π_{2} Π_{0} Π_{1} + 0.0330914312383713 Π_{1} Π_{0} Π_{2} Π_{0} Π_{2} + 0.140177552198501 Π_{1} Π_{0} Π_{2} Π_{0} Π_{2} Π_{1} - 0.18868099529816 Π_{1} Π_{0} Π_{2} Π_{0} Π_{4} Π_{1} + 1.96358227130152 Π_{1} Π_{0} Π_{2} Π_{1} + 0.0330914312383713 Π_{1} Π_{0} Π_{2} Π_{1} Π_{0} Π_{1} + 0.0591063054983815 Π_{1} Π_{0} Π_{2} Π_{1} Π_{2} + 0.250378327990014 Π_{1} Π_{0} Π_{2} Π_{1} Π_{2} Π_{1} - 0.337012819708448 Π_{1} Π_{0} Π_{2} Π_{1} Π_{4} Π_{1} - 0.18868099529816 Π_{1} Π_{0} Π_{2} Π_{4} Π_{0} Π_{1} - 0.368733375993322 Π_{1} Π_{0} Π_{2} Π_{4} Π_{1} - 0.337012819708449 Π_{1} Π_{0} Π_{2} Π_{4} Π_{2} - 1.42760921357387 Π_{1} Π_{0} Π_{2} Π_{4} Π_{2} Π_{1} - 0.337012819708448 Π_{1} Π_{0} Π_{4} Π_{0} + 0.11500992525408 Π_{1} Π_{0} Π_{4} Π_{0} Π_{1} - 0.044541540952684 Π_{1} Π_{0} Π_{4} Π_{0} Π_{2} - 0.18868099529816 Π_{1} Π_{0} Π_{4} Π_{0} Π_{2} Π_{1} + 0.25396732521261 Π_{1} Π_{0} Π_{4} Π_{0} Π_{4} Π_{1} - 1.77795610600593 Π_{1} Π_{0} Π_{4} Π_{1} - 0.044541540952684 Π_{1} Π_{0} Π_{4} Π_{1} Π_{0} Π_{1} - 0.0795579347400746 Π_{1} Π_{0} Π_{4} Π_{1} Π_{2} - 0.337012819708448 Π_{1} Π_{0} Π_{4} Π_{1} Π_{2} Π_{1} + 0.453624087833869 Π_{1} Π_{0} Π_{4} Π_{1} Π_{4} Π_{1} - 0.00748820756733765 Π_{1} Π_{0} Π_{4} Π_{2} - 0.18868099529816 Π_{1} Π_{0} Π_{4} Π_{2} Π_{0} Π_{1} - 0.368733375993322 Π_{1} Π_{0} Π_{4} Π_{2} Π_{1} + 1.9215824722956 Π_{1} Π_{0} Π_{4} Π_{2} Π_{4} Π_{1} + 2.47213595499959 Π_{1} Π_{2} + 2.59201911448989 Π_{1} Π_{2} Π_{0} + 1.96358227130152 Π_{1} Π_{2} Π_{0} Π_{1} + 0.0330914312383713 Π_{1} Π_{2} Π_{0} Π_{1} Π_{0} Π_{1} + 0.0591063054983815 Π_{1} Π_{2} Π_{0} Π_{1} Π_{2} + 0.250378327990014 Π_{1} Π_{2} Π_{0} Π_{1} Π_{2} Π_{1} - 0.337012819708448 Π_{1} Π_{2} Π_{0} Π_{1} Π_{4} Π_{1} + 0.59295439271678 Π_{1} Π_{2} Π_{0} Π_{2} + 0.140177552198501 Π_{1} Π_{2} Π_{0} Π_{2} Π_{0} Π_{1} + 2.7621734430954 Π_{1} Π_{2} Π_{0} Π_{2} Π_{1} - 1.42760921357387 Π_{1} Π_{2} Π_{0} Π_{2} Π_{4} Π_{1} - 0.18868099529816 Π_{1} Π_{2} Π_{0} Π_{4} Π_{0} Π_{1} - 0.368733375993322 Π_{1} Π_{2} Π_{0} Π_{4} Π_{1} - 0.337012819708449 Π_{1} Π_{2} Π_{0} Π_{4} Π_{2} - 1.42760921357387 Π_{1} Π_{2} Π_{0} Π_{4} Π_{2} Π_{1} + 13.5777087639997 Π_{1} Π_{2} Π_{1} + 0.447213595499959 Π_{1} Π_{2} Π_{1} Π_{0} + 0.460788675723529 Π_{1} Π_{2} Π_{1} Π_{0} Π_{1} + 0.0591063054983815 Π_{1} Π_{2} Π_{1} Π_{0} Π_{2} + 0.250378327990014 Π_{1} Π_{2} Π_{1} Π_{0} Π_{2} Π_{1} - 0.337012819708448 Π_{1} Π_{2} Π_{1} Π_{0} Π_{4} Π_{1} + 1.10557280900009 Π_{1} Π_{2} Π_{1} Π_{2} + 0.250378327990014 Π_{1} Π_{2} Π_{1} Π_{2} Π_{0} Π_{1} + 5.13049516849973 Π_{1} Π_{2} Π_{1} Π_{2} Π_{1} - 2.54992616372414 Π_{1} Π_{2} Π_{1} Π_{2} Π_{4} Π_{1} - 0.337012819708448 Π_{1} Π_{2} Π_{1} Π_{4} Π_{0} Π_{1} - 0.92355672009132 Π_{1} Π_{2} Π_{1} Π_{4} Π_{1} - 0.601955912244156 Π_{1} Π_{2} Π_{1} Π_{4} Π_{2} - 2.54992616372414 Π_{1} Π_{2} Π_{1} Π_{4} Π_{2} Π_{1} - 2.54992616372413 Π_{1} Π_{2} Π_{4} Π_{0} - 0.368733375993322 Π_{1} Π_{2} Π_{4} Π_{0} Π_{1} - 0.337012819708448 Π_{1} Π_{2} Π_{4} Π_{0} Π_{2} - 1.42760921357387 Π_{1} Π_{2} Π_{4} Π_{0} Π_{2} Π_{1} + 1.9215824722956 Π_{1} Π_{2} Π_{4} Π_{0} Π_{4} Π_{1} - 15.8736744952468 Π_{1} Π_{2} Π_{4} Π_{1} - 0.337012819708448 Π_{1} Π_{2} Π_{4} Π_{1} Π_{0} Π_{1} - 0.601955912244155 Π_{1} Π_{2} Π_{4} Π_{1} Π_{2} - 2.54992616372414 Π_{1} Π_{2} Π_{4} Π_{1} Π_{2} Π_{1} + 3.43223718036528 Π_{1} Π_{2} Π_{4} Π_{1} Π_{4} Π_{1} - 2.26957105932715 Π_{1} Π_{2} Π_{4} Π_{2} - 1.42760921357387 Π_{1} Π_{2} Π_{4} Π_{2} Π_{0} Π_{1} - 12.1639834508001 Π_{1} Π_{2} Π_{4} Π_{2} Π_{1} + 14.5391900109296 Π_{1} Π_{2} Π_{4} Π_{2} Π_{4} Π_{1} + 2.49326844841268 Π_{1} Π_{4} Π_{0} - 1.77795610600593 Π_{1} Π_{4} Π_{0} Π_{1} - 0.044541540952684 Π_{1} Π_{4} Π_{0} Π_{1} Π_{0} Π_{1} - 0.0795579347400746 Π_{1} Π_{4} Π_{0} Π_{1} Π_{2} - 0.337012819708448 Π_{1} Π_{4} Π_{0} Π_{1} Π_{2} Π_{1} + 0.453624087833869 Π_{1} Π_{4} Π_{0} Π_{1} Π_{4} Π_{1} - 0.00748820756733803 Π_{1} Π_{4} Π_{0} Π_{2} - 0.18868099529816 Π_{1} Π_{4} Π_{0} Π_{2} Π_{0} Π_{1} - 0.368733375993322 Π_{1} Π_{4} Π_{0} Π_{2} Π_{1} + 1.9215824722956 Π_{1} Π_{4} Π_{0} Π_{2} Π_{4} Π_{1} + 0.25396732521261 Π_{1} Π_{4} Π_{0} Π_{4} Π_{0} Π_{1} - 4.01173962258786 Π_{1} Π_{4} Π_{0} Π_{4} Π_{1} + 0.453624087833869 Π_{1} Π_{4} Π_{0} Π_{4} Π_{2} + 1.9215824722956 Π_{1} Π_{4} Π_{0} Π_{4} Π_{2} Π_{1} + 18.9640772918993 Π_{1} Π_{4} Π_{1} - 0.601955912244154 Π_{1} Π_{4} Π_{1} Π_{0} + 0.170408742660961 Π_{1} Π_{4} Π_{1} Π_{0} Π_{1} - 0.0795579347400746 Π_{1} Π_{4} Π_{1} Π_{0} Π_{2} - 0.337012819708448 Π_{1} Π_{4} Π_{1} Π_{0} Π_{2} Π_{1} + 0.453624087833869 Π_{1} Π_{4} Π_{1} Π_{0} Π_{4} Π_{1} - 0.0759196522707785 Π_{1} Π_{4} Π_{1} Π_{2} - 0.337012819708448 Π_{1} Π_{4} Π_{1} Π_{2} Π_{0} Π_{1} - 0.92355672009132 Π_{1} Π_{4} Π_{1} Π_{2} Π_{1} + 3.43223718036528 Π_{1} Π_{4} Π_{1} Π_{2} Π_{4} Π_{1} + 0.453624087833869 Π_{1} Π_{4} Π_{1} Π_{4} Π_{0} Π_{1} - 6.80895705245476 Π_{1} Π_{4} Π_{1} Π_{4} Π_{1} + 0.810241289468414 Π_{1} Π_{4} Π_{1} Π_{4} Π_{2} + 3.43223718036528 Π_{1} Π_{4} Π_{1} Π_{4} Π_{2} Π_{1} - 3.67134658131212 Π_{1} Π_{4} Π_{2} - 2.54992616372413 Π_{1} Π_{4} Π_{2} Π_{0} - 0.368733375993322 Π_{1} Π_{4} Π_{2} Π_{0} Π_{1} - 0.337012819708448 Π_{1} Π_{4} Π_{2} Π_{0} Π_{2} - 1.42760921357387 Π_{1} Π_{4} Π_{2} Π_{0} Π_{2} Π_{1} + 1.9215824722956 Π_{1} Π_{4} Π_{2} Π_{0} Π_{4} Π_{1} - 15.8736744952468 Π_{1} Π_{4} Π_{2} Π_{1} - 0.337012819708448 Π_{1} Π_{4} Π_{2} Π_{1} Π_{0} Π_{1} - 0.601955912244155 Π_{1} Π_{4} Π_{2} Π_{1} Π_{2} - 2.54992616372414 Π_{1} Π_{4} Π_{2} Π_{1} Π_{2} Π_{1} + 3.43223718036528 Π_{1} Π_{4} Π_{2} Π_{1} Π_{4} Π_{1} + 1.9215824722956 Π_{1} Π_{4} Π_{2} Π_{4} Π_{0} Π_{1} - 17.7362520995107 Π_{1} Π_{4} Π_{2} Π_{4} Π_{1} + 3.43223718036529 Π_{1} Π_{4} Π_{2} Π_{4} Π_{2} + 14.5391900109296 Π_{1} Π_{4} Π_{2} Π_{4} Π_{2} Π_{1} + 0.447213595499959 Π_{2} + 0.50631990099834 Π_{2} Π_{0} + 0.368714550704221 Π_{2} Π_{0} Π_{1} + 0.00781182724501566 Π_{2} Π_{0} Π_{1} Π_{0} Π_{1} + 0.0139531059964876 Π_{2} Π_{0} Π_{1} Π_{2} + 0.0591063054983815 Π_{2} Π_{0} Π_{1} Π_{2} Π_{1} - 0.0795579347400746 Π_{2} Π_{0} Π_{1} Π_{4} Π_{1} + 0.126024438241778 Π_{2} Π_{0} Π_{2} + 0.0330914312383713 Π_{2} Π_{0} Π_{2} Π_{0} Π_{1} + 0.59295439271678 Π_{2} Π_{0} Π_{2} Π_{1} - 0.337012819708448 Π_{2} Π_{0} Π_{2} Π_{4} Π_{1} - 0.044541540952684 Π_{2} Π_{0} Π_{4} Π_{0} Π_{1} - 0.00748820756733803 Π_{2} Π_{0} Π_{4} Π_{1} - 0.0795579347400747 Π_{2} Π_{0} Π_{4} Π_{2} - 0.337012819708448 Π_{2} Π_{0} Π_{4} Π_{2} Π_{1} + 2.47213595499959 Π_{2} Π_{1} + 0.105572809000084 Π_{2} Π_{1} Π_{0} + 0.0948243447363723 Π_{2} Π_{1} Π_{0} Π_{1} + 0.0139531059964876 Π_{2} Π_{1} Π_{0} Π_{2} + 0.0591063054983815 Π_{2} Π_{1} Π_{0} Π_{2} Π_{1} - 0.0795579347400746 Π_{2} Π_{1} Π_{0} Π_{4} Π_{1} + 0.23606797749979 Π_{2} Π_{1} Π_{2} + 0.0591063054983815 Π_{2} Π_{1} Π_{2} Π_{0} Π_{1} + 1.10557280900009 Π_{2} Π_{1} Π_{2} Π_{1} - 0.601955912244155 Π_{2} Π_{1} Π_{2} Π_{4} Π_{1} - 0.0795579347400746 Π_{2} Π_{1} Π_{4} Π_{0} Π_{1} - 0.0759196522707785 Π_{2} Π_{1} Π_{4} Π_{1} - 0.142102514747519 Π_{2} Π_{1} Π_{4} Π_{2} - 0.601955912244155 Π_{2} Π_{1} Π_{4} Π_{2} Π_{1} - 0.601955912244154 Π_{2} Π_{4} Π_{0} - 0.00748820756733765 Π_{2} Π_{4} Π_{0} Π_{1} - 0.0795579347400747 Π_{2} Π_{4} Π_{0} Π_{2} - 0.337012819708449 Π_{2} Π_{4} Π_{0} Π_{2} Π_{1} + 0.453624087833869 Π_{2} Π_{4} Π_{0} Π_{4} Π_{1} - 3.67134658131212 Π_{2} Π_{4} Π_{1} - 0.0795579347400747 Π_{2} Π_{4} Π_{1} Π_{0} Π_{1} - 0.142102514747519 Π_{2} Π_{4} Π_{1} Π_{2} - 0.601955912244156 Π_{2} Π_{4} Π_{1} Π_{2} Π_{1} + 0.810241289468414 Π_{2} Π_{4} Π_{1} Π_{4} Π_{1} - 0.393670535019895 Π_{2} Π_{4} Π_{2} - 0.337012819708449 Π_{2} Π_{4} Π_{2} Π_{0} Π_{1} - 2.26957105932715 Π_{2} Π_{4} Π_{2} Π_{1} + 3.43223718036529 Π_{2} Π_{4} Π_{2} Π_{4} Π_{1}$"
      ],
      "text/plain": [
       "0.447213595499958⋅Π₀ + 0.197770545736837⋅Π₀⋅Π₁ + 0.0591063054983814⋅Π₀⋅Π₁⋅Π₀⋅Π\n",
       "₁ + 0.105572809000084⋅Π₀⋅Π₁⋅Π₂ + 0.447213595499959⋅Π₀⋅Π₁⋅Π₂⋅Π₁ - 0.60195591224\n",
       "4154⋅Π₀⋅Π₁⋅Π₄⋅Π₁ + 0.50631990099834⋅Π₀⋅Π₂ + 0.250378327990013⋅Π₀⋅Π₂⋅Π₀⋅Π₁ + 2.\n",
       "59201911448989⋅Π₀⋅Π₂⋅Π₁ - 2.54992616372413⋅Π₀⋅Π₂⋅Π₄⋅Π₁ - 0.337012819708448⋅Π₀⋅\n",
       "Π₄⋅Π₀⋅Π₁ + 2.49326844841268⋅Π₀⋅Π₄⋅Π₁ - 0.601955912244154⋅Π₀⋅Π₄⋅Π₂ - 2.54992616\n",
       "372413⋅Π₀⋅Π₄⋅Π₂⋅Π₁ + 0.0249223594996216⋅Π₁ + 0.197770545736837⋅Π₁⋅Π₀ + 0.09044\n",
       "3601379834⋅Π₁⋅Π₀⋅Π₁ + 0.0591063054983814⋅Π₁⋅Π₀⋅Π₁⋅Π₀ + 0.0321825872069513⋅Π₁⋅Π\n",
       "₀⋅Π₁⋅Π₀⋅Π₁ + 0.00781182724501566⋅Π₁⋅Π₀⋅Π₁⋅Π₀⋅Π₂ + 0.0330914312383713⋅Π₁⋅Π₀⋅Π₁⋅\n",
       "Π₀⋅Π₂⋅Π₁ - 0.044541540952684⋅Π₁⋅Π₀⋅Π₁⋅Π₀⋅Π₄⋅Π₁ + 0.0948243447363723⋅Π₁⋅Π₀⋅Π₁⋅Π\n",
       "₂ + 0.0330914312383713⋅Π₁⋅Π₀⋅Π₁⋅Π₂⋅Π₀⋅Π₁ + 0.460788675723529⋅Π₁⋅Π₀⋅Π₁⋅Π₂⋅Π₁ - \n",
       "0.337012819708448⋅Π₁⋅Π₀⋅Π₁⋅Π₂⋅Π₄⋅Π₁ - 0.044541540952684⋅Π₁⋅Π₀⋅Π₁⋅Π₄⋅Π₀⋅Π₁ + 0.\n",
       "170408742660961⋅Π₁⋅Π₀⋅Π₁⋅Π₄⋅Π₁ - 0.0795579347400747⋅Π₁⋅Π₀⋅Π₁⋅Π₄⋅Π₂ - 0.3370128\n",
       "19708448⋅Π₁⋅Π₀⋅Π₁⋅Π₄⋅Π₂⋅Π₁ + 0.368714550704221⋅Π₁⋅Π₀⋅Π₂ + 0.250378327990013⋅Π₁\n",
       "⋅Π₀⋅Π₂⋅Π₀ + 0.24341374806059⋅Π₁⋅Π₀⋅Π₂⋅Π₀⋅Π₁ + 0.0330914312383713⋅Π₁⋅Π₀⋅Π₂⋅Π₀⋅Π\n",
       "₂ + 0.140177552198501⋅Π₁⋅Π₀⋅Π₂⋅Π₀⋅Π₂⋅Π₁ - 0.18868099529816⋅Π₁⋅Π₀⋅Π₂⋅Π₀⋅Π₄⋅Π₁ +\n",
       " 1.96358227130152⋅Π₁⋅Π₀⋅Π₂⋅Π₁ + 0.0330914312383713⋅Π₁⋅Π₀⋅Π₂⋅Π₁⋅Π₀⋅Π₁ + 0.05910\n",
       "63054983815⋅Π₁⋅Π₀⋅Π₂⋅Π₁⋅Π₂ + 0.250378327990014⋅Π₁⋅Π₀⋅Π₂⋅Π₁⋅Π₂⋅Π₁ - 0.337012819\n",
       "708448⋅Π₁⋅Π₀⋅Π₂⋅Π₁⋅Π₄⋅Π₁ - 0.18868099529816⋅Π₁⋅Π₀⋅Π₂⋅Π₄⋅Π₀⋅Π₁ - 0.368733375993\n",
       "322⋅Π₁⋅Π₀⋅Π₂⋅Π₄⋅Π₁ - 0.337012819708449⋅Π₁⋅Π₀⋅Π₂⋅Π₄⋅Π₂ - 1.42760921357387⋅Π₁⋅Π₀\n",
       "⋅Π₂⋅Π₄⋅Π₂⋅Π₁ - 0.337012819708448⋅Π₁⋅Π₀⋅Π₄⋅Π₀ + 0.11500992525408⋅Π₁⋅Π₀⋅Π₄⋅Π₀⋅Π₁\n",
       " - 0.044541540952684⋅Π₁⋅Π₀⋅Π₄⋅Π₀⋅Π₂ - 0.18868099529816⋅Π₁⋅Π₀⋅Π₄⋅Π₀⋅Π₂⋅Π₁ + 0.2\n",
       "5396732521261⋅Π₁⋅Π₀⋅Π₄⋅Π₀⋅Π₄⋅Π₁ - 1.77795610600593⋅Π₁⋅Π₀⋅Π₄⋅Π₁ - 0.04454154095\n",
       "2684⋅Π₁⋅Π₀⋅Π₄⋅Π₁⋅Π₀⋅Π₁ - 0.0795579347400746⋅Π₁⋅Π₀⋅Π₄⋅Π₁⋅Π₂ - 0.337012819708448\n",
       "⋅Π₁⋅Π₀⋅Π₄⋅Π₁⋅Π₂⋅Π₁ + 0.453624087833869⋅Π₁⋅Π₀⋅Π₄⋅Π₁⋅Π₄⋅Π₁ - 0.00748820756733765\n",
       "⋅Π₁⋅Π₀⋅Π₄⋅Π₂ - 0.18868099529816⋅Π₁⋅Π₀⋅Π₄⋅Π₂⋅Π₀⋅Π₁ - 0.368733375993322⋅Π₁⋅Π₀⋅Π₄\n",
       "⋅Π₂⋅Π₁ + 1.9215824722956⋅Π₁⋅Π₀⋅Π₄⋅Π₂⋅Π₄⋅Π₁ + 2.47213595499959⋅Π₁⋅Π₂ + 2.592019\n",
       "11448989⋅Π₁⋅Π₂⋅Π₀ + 1.96358227130152⋅Π₁⋅Π₂⋅Π₀⋅Π₁ + 0.0330914312383713⋅Π₁⋅Π₂⋅Π₀\n",
       "⋅Π₁⋅Π₀⋅Π₁ + 0.0591063054983815⋅Π₁⋅Π₂⋅Π₀⋅Π₁⋅Π₂ + 0.250378327990014⋅Π₁⋅Π₂⋅Π₀⋅Π₁⋅\n",
       "Π₂⋅Π₁ - 0.337012819708448⋅Π₁⋅Π₂⋅Π₀⋅Π₁⋅Π₄⋅Π₁ + 0.59295439271678⋅Π₁⋅Π₂⋅Π₀⋅Π₂ + 0\n",
       ".140177552198501⋅Π₁⋅Π₂⋅Π₀⋅Π₂⋅Π₀⋅Π₁ + 2.7621734430954⋅Π₁⋅Π₂⋅Π₀⋅Π₂⋅Π₁ - 1.427609\n",
       "21357387⋅Π₁⋅Π₂⋅Π₀⋅Π₂⋅Π₄⋅Π₁ - 0.18868099529816⋅Π₁⋅Π₂⋅Π₀⋅Π₄⋅Π₀⋅Π₁ - 0.3687333759\n",
       "93322⋅Π₁⋅Π₂⋅Π₀⋅Π₄⋅Π₁ - 0.337012819708449⋅Π₁⋅Π₂⋅Π₀⋅Π₄⋅Π₂ - 1.42760921357387⋅Π₁⋅\n",
       "Π₂⋅Π₀⋅Π₄⋅Π₂⋅Π₁ + 13.5777087639997⋅Π₁⋅Π₂⋅Π₁ + 0.447213595499959⋅Π₁⋅Π₂⋅Π₁⋅Π₀ + 0\n",
       ".460788675723529⋅Π₁⋅Π₂⋅Π₁⋅Π₀⋅Π₁ + 0.0591063054983815⋅Π₁⋅Π₂⋅Π₁⋅Π₀⋅Π₂ + 0.250378\n",
       "327990014⋅Π₁⋅Π₂⋅Π₁⋅Π₀⋅Π₂⋅Π₁ - 0.337012819708448⋅Π₁⋅Π₂⋅Π₁⋅Π₀⋅Π₄⋅Π₁ + 1.10557280\n",
       "900009⋅Π₁⋅Π₂⋅Π₁⋅Π₂ + 0.250378327990014⋅Π₁⋅Π₂⋅Π₁⋅Π₂⋅Π₀⋅Π₁ + 5.13049516849973⋅Π₁\n",
       "⋅Π₂⋅Π₁⋅Π₂⋅Π₁ - 2.54992616372414⋅Π₁⋅Π₂⋅Π₁⋅Π₂⋅Π₄⋅Π₁ - 0.337012819708448⋅Π₁⋅Π₂⋅Π₁\n",
       "⋅Π₄⋅Π₀⋅Π₁ - 0.92355672009132⋅Π₁⋅Π₂⋅Π₁⋅Π₄⋅Π₁ - 0.601955912244156⋅Π₁⋅Π₂⋅Π₁⋅Π₄⋅Π₂\n",
       " - 2.54992616372414⋅Π₁⋅Π₂⋅Π₁⋅Π₄⋅Π₂⋅Π₁ - 2.54992616372413⋅Π₁⋅Π₂⋅Π₄⋅Π₀ - 0.36873\n",
       "3375993322⋅Π₁⋅Π₂⋅Π₄⋅Π₀⋅Π₁ - 0.337012819708448⋅Π₁⋅Π₂⋅Π₄⋅Π₀⋅Π₂ - 1.4276092135738\n",
       "7⋅Π₁⋅Π₂⋅Π₄⋅Π₀⋅Π₂⋅Π₁ + 1.9215824722956⋅Π₁⋅Π₂⋅Π₄⋅Π₀⋅Π₄⋅Π₁ - 15.8736744952468⋅Π₁⋅\n",
       "Π₂⋅Π₄⋅Π₁ - 0.337012819708448⋅Π₁⋅Π₂⋅Π₄⋅Π₁⋅Π₀⋅Π₁ - 0.601955912244155⋅Π₁⋅Π₂⋅Π₄⋅Π₁\n",
       "⋅Π₂ - 2.54992616372414⋅Π₁⋅Π₂⋅Π₄⋅Π₁⋅Π₂⋅Π₁ + 3.43223718036528⋅Π₁⋅Π₂⋅Π₄⋅Π₁⋅Π₄⋅Π₁ \n",
       "- 2.26957105932715⋅Π₁⋅Π₂⋅Π₄⋅Π₂ - 1.42760921357387⋅Π₁⋅Π₂⋅Π₄⋅Π₂⋅Π₀⋅Π₁ - 12.16398\n",
       "34508001⋅Π₁⋅Π₂⋅Π₄⋅Π₂⋅Π₁ + 14.5391900109296⋅Π₁⋅Π₂⋅Π₄⋅Π₂⋅Π₄⋅Π₁ + 2.4932684484126\n",
       "8⋅Π₁⋅Π₄⋅Π₀ - 1.77795610600593⋅Π₁⋅Π₄⋅Π₀⋅Π₁ - 0.044541540952684⋅Π₁⋅Π₄⋅Π₀⋅Π₁⋅Π₀⋅Π\n",
       "₁ - 0.0795579347400746⋅Π₁⋅Π₄⋅Π₀⋅Π₁⋅Π₂ - 0.337012819708448⋅Π₁⋅Π₄⋅Π₀⋅Π₁⋅Π₂⋅Π₁ + \n",
       "0.453624087833869⋅Π₁⋅Π₄⋅Π₀⋅Π₁⋅Π₄⋅Π₁ - 0.00748820756733803⋅Π₁⋅Π₄⋅Π₀⋅Π₂ - 0.1886\n",
       "8099529816⋅Π₁⋅Π₄⋅Π₀⋅Π₂⋅Π₀⋅Π₁ - 0.368733375993322⋅Π₁⋅Π₄⋅Π₀⋅Π₂⋅Π₁ + 1.9215824722\n",
       "956⋅Π₁⋅Π₄⋅Π₀⋅Π₂⋅Π₄⋅Π₁ + 0.25396732521261⋅Π₁⋅Π₄⋅Π₀⋅Π₄⋅Π₀⋅Π₁ - 4.01173962258786⋅\n",
       "Π₁⋅Π₄⋅Π₀⋅Π₄⋅Π₁ + 0.453624087833869⋅Π₁⋅Π₄⋅Π₀⋅Π₄⋅Π₂ + 1.9215824722956⋅Π₁⋅Π₄⋅Π₀⋅Π\n",
       "₄⋅Π₂⋅Π₁ + 18.9640772918993⋅Π₁⋅Π₄⋅Π₁ - 0.601955912244154⋅Π₁⋅Π₄⋅Π₁⋅Π₀ + 0.170408\n",
       "742660961⋅Π₁⋅Π₄⋅Π₁⋅Π₀⋅Π₁ - 0.0795579347400746⋅Π₁⋅Π₄⋅Π₁⋅Π₀⋅Π₂ - 0.3370128197084\n",
       "48⋅Π₁⋅Π₄⋅Π₁⋅Π₀⋅Π₂⋅Π₁ + 0.453624087833869⋅Π₁⋅Π₄⋅Π₁⋅Π₀⋅Π₄⋅Π₁ - 0.075919652270778\n",
       "5⋅Π₁⋅Π₄⋅Π₁⋅Π₂ - 0.337012819708448⋅Π₁⋅Π₄⋅Π₁⋅Π₂⋅Π₀⋅Π₁ - 0.92355672009132⋅Π₁⋅Π₄⋅Π\n",
       "₁⋅Π₂⋅Π₁ + 3.43223718036528⋅Π₁⋅Π₄⋅Π₁⋅Π₂⋅Π₄⋅Π₁ + 0.453624087833869⋅Π₁⋅Π₄⋅Π₁⋅Π₄⋅Π\n",
       "₀⋅Π₁ - 6.80895705245476⋅Π₁⋅Π₄⋅Π₁⋅Π₄⋅Π₁ + 0.810241289468414⋅Π₁⋅Π₄⋅Π₁⋅Π₄⋅Π₂ + 3.\n",
       "43223718036528⋅Π₁⋅Π₄⋅Π₁⋅Π₄⋅Π₂⋅Π₁ - 3.67134658131212⋅Π₁⋅Π₄⋅Π₂ - 2.5499261637241\n",
       "3⋅Π₁⋅Π₄⋅Π₂⋅Π₀ - 0.368733375993322⋅Π₁⋅Π₄⋅Π₂⋅Π₀⋅Π₁ - 0.337012819708448⋅Π₁⋅Π₄⋅Π₂⋅\n",
       "Π₀⋅Π₂ - 1.42760921357387⋅Π₁⋅Π₄⋅Π₂⋅Π₀⋅Π₂⋅Π₁ + 1.9215824722956⋅Π₁⋅Π₄⋅Π₂⋅Π₀⋅Π₄⋅Π₁\n",
       " - 15.8736744952468⋅Π₁⋅Π₄⋅Π₂⋅Π₁ - 0.337012819708448⋅Π₁⋅Π₄⋅Π₂⋅Π₁⋅Π₀⋅Π₁ - 0.6019\n",
       "55912244155⋅Π₁⋅Π₄⋅Π₂⋅Π₁⋅Π₂ - 2.54992616372414⋅Π₁⋅Π₄⋅Π₂⋅Π₁⋅Π₂⋅Π₁ + 3.4322371803\n",
       "6528⋅Π₁⋅Π₄⋅Π₂⋅Π₁⋅Π₄⋅Π₁ + 1.9215824722956⋅Π₁⋅Π₄⋅Π₂⋅Π₄⋅Π₀⋅Π₁ - 17.7362520995107⋅\n",
       "Π₁⋅Π₄⋅Π₂⋅Π₄⋅Π₁ + 3.43223718036529⋅Π₁⋅Π₄⋅Π₂⋅Π₄⋅Π₂ + 14.5391900109296⋅Π₁⋅Π₄⋅Π₂⋅Π\n",
       "₄⋅Π₂⋅Π₁ + 0.447213595499959⋅Π₂ + 0.50631990099834⋅Π₂⋅Π₀ + 0.368714550704221⋅Π₂\n",
       "⋅Π₀⋅Π₁ + 0.00781182724501566⋅Π₂⋅Π₀⋅Π₁⋅Π₀⋅Π₁ + 0.0139531059964876⋅Π₂⋅Π₀⋅Π₁⋅Π₂ +\n",
       " 0.0591063054983815⋅Π₂⋅Π₀⋅Π₁⋅Π₂⋅Π₁ - 0.0795579347400746⋅Π₂⋅Π₀⋅Π₁⋅Π₄⋅Π₁ + 0.126\n",
       "024438241778⋅Π₂⋅Π₀⋅Π₂ + 0.0330914312383713⋅Π₂⋅Π₀⋅Π₂⋅Π₀⋅Π₁ + 0.59295439271678⋅Π\n",
       "₂⋅Π₀⋅Π₂⋅Π₁ - 0.337012819708448⋅Π₂⋅Π₀⋅Π₂⋅Π₄⋅Π₁ - 0.044541540952684⋅Π₂⋅Π₀⋅Π₄⋅Π₀⋅\n",
       "Π₁ - 0.00748820756733803⋅Π₂⋅Π₀⋅Π₄⋅Π₁ - 0.0795579347400747⋅Π₂⋅Π₀⋅Π₄⋅Π₂ - 0.3370\n",
       "12819708448⋅Π₂⋅Π₀⋅Π₄⋅Π₂⋅Π₁ + 2.47213595499959⋅Π₂⋅Π₁ + 0.105572809000084⋅Π₂⋅Π₁⋅\n",
       "Π₀ + 0.0948243447363723⋅Π₂⋅Π₁⋅Π₀⋅Π₁ + 0.0139531059964876⋅Π₂⋅Π₁⋅Π₀⋅Π₂ + 0.05910\n",
       "63054983815⋅Π₂⋅Π₁⋅Π₀⋅Π₂⋅Π₁ - 0.0795579347400746⋅Π₂⋅Π₁⋅Π₀⋅Π₄⋅Π₁ + 0.23606797749\n",
       "979⋅Π₂⋅Π₁⋅Π₂ + 0.0591063054983815⋅Π₂⋅Π₁⋅Π₂⋅Π₀⋅Π₁ + 1.10557280900009⋅Π₂⋅Π₁⋅Π₂⋅Π\n",
       "₁ - 0.601955912244155⋅Π₂⋅Π₁⋅Π₂⋅Π₄⋅Π₁ - 0.0795579347400746⋅Π₂⋅Π₁⋅Π₄⋅Π₀⋅Π₁ - 0.0\n",
       "759196522707785⋅Π₂⋅Π₁⋅Π₄⋅Π₁ - 0.142102514747519⋅Π₂⋅Π₁⋅Π₄⋅Π₂ - 0.60195591224415\n",
       "5⋅Π₂⋅Π₁⋅Π₄⋅Π₂⋅Π₁ - 0.601955912244154⋅Π₂⋅Π₄⋅Π₀ - 0.00748820756733765⋅Π₂⋅Π₄⋅Π₀⋅Π\n",
       "₁ - 0.0795579347400747⋅Π₂⋅Π₄⋅Π₀⋅Π₂ - 0.337012819708449⋅Π₂⋅Π₄⋅Π₀⋅Π₂⋅Π₁ + 0.4536\n",
       "24087833869⋅Π₂⋅Π₄⋅Π₀⋅Π₄⋅Π₁ - 3.67134658131212⋅Π₂⋅Π₄⋅Π₁ - 0.0795579347400747⋅Π₂\n",
       "⋅Π₄⋅Π₁⋅Π₀⋅Π₁ - 0.142102514747519⋅Π₂⋅Π₄⋅Π₁⋅Π₂ - 0.601955912244156⋅Π₂⋅Π₄⋅Π₁⋅Π₂⋅Π\n",
       "₁ + 0.810241289468414⋅Π₂⋅Π₄⋅Π₁⋅Π₄⋅Π₁ - 0.393670535019895⋅Π₂⋅Π₄⋅Π₂ - 0.33701281\n",
       "9708449⋅Π₂⋅Π₄⋅Π₂⋅Π₀⋅Π₁ - 2.26957105932715⋅Π₂⋅Π₄⋅Π₂⋅Π₁ + 3.43223718036529⋅Π₂⋅Π₄\n",
       "⋅Π₂⋅Π₄⋅Π₁"
      ]
     },
     "metadata": {},
     "output_type": "display_data"
    },
    {
     "name": "stdout",
     "output_type": "stream",
     "text": [
      "{Π_0**2: Π_0, Π_1**2: Π_1, Π_2**2: Π_2, Π_3**2: Π_3, Π_4**2: Π_4}\n"
     ]
    }
   ],
   "source": [
    "#print(iKCBS.c)\n",
    "#prune(sp.N(sq.qapp\\ly(iKCBS.bp[2]*iKCBS.kp[1])))\n",
    "display(sq.qapply(iKCBS.F.subs(iKCBS.sqDict)))\n",
    "print(iKCBS.sqDict)"
   ]
  },
  {
   "cell_type": "code",
   "execution_count": 72,
   "metadata": {},
   "outputs": [],
   "source": [
    "# display(sp.simplify(iKCBS.F.subs(iKCBS.sqDict)))\n",
    "#The orthogonal relations are imposed later using the graph"
   ]
  },
  {
   "cell_type": "markdown",
   "metadata": {
    "heading_collapsed": true
   },
   "source": [
    "### Debugging the evaluation of fidelity\n",
    "\n",
    "Eventually, had to convert all the exact coefficients into numbers; else it was taking too long; it is still rather slow actually."
   ]
  },
  {
   "cell_type": "code",
   "execution_count": 57,
   "metadata": {
    "hidden": true
   },
   "outputs": [
    {
     "ename": "AttributeError",
     "evalue": "'cls_iKCBS' object has no attribute 'H0'",
     "output_type": "error",
     "traceback": [
      "\u001b[0;31m---------------------------------------------------------------------------\u001b[0m",
      "\u001b[0;31mAttributeError\u001b[0m                            Traceback (most recent call last)",
      "\u001b[0;32m<ipython-input-57-351531601937>\u001b[0m in \u001b[0;36m<module>\u001b[0;34m\u001b[0m\n\u001b[0;32m----> 1\u001b[0;31m \u001b[0mres\u001b[0m\u001b[0;34m=\u001b[0m\u001b[0mtdsimp\u001b[0m\u001b[0;34m(\u001b[0m\u001b[0miKCBS\u001b[0m\u001b[0;34m.\u001b[0m\u001b[0mH0\u001b[0m\u001b[0;34m)\u001b[0m\u001b[0;34m\u001b[0m\u001b[0;34m\u001b[0m\u001b[0m\n\u001b[0m\u001b[1;32m      2\u001b[0m \u001b[0;31m#display(autoDropDim(sq.qapply(res).doit()))\u001b[0m\u001b[0;34m\u001b[0m\u001b[0;34m\u001b[0m\u001b[0;34m\u001b[0m\u001b[0m\n\u001b[1;32m      3\u001b[0m \u001b[0mdisplay\u001b[0m\u001b[0;34m(\u001b[0m\u001b[0mres\u001b[0m\u001b[0;34m)\u001b[0m\u001b[0;34m\u001b[0m\u001b[0;34m\u001b[0m\u001b[0m\n",
      "\u001b[0;31mAttributeError\u001b[0m: 'cls_iKCBS' object has no attribute 'H0'"
     ]
    }
   ],
   "source": [
    "res=tdsimp(iKCBS.H0)\n",
    "#display(autoDropDim(sq.qapply(res).doit()))\n",
    "display(res)"
   ]
  },
  {
   "cell_type": "code",
   "execution_count": 26,
   "metadata": {
    "hidden": true
   },
   "outputs": [
    {
     "data": {
      "text/latex": [
       "$\\displaystyle \\left({\\left|2\\right\\rangle } {\\left\\langle 2\\right|}\\right)^{2}$"
      ],
      "text/plain": [
       "         2\n",
       "(❘2⟩⋅⟨2❘) "
      ]
     },
     "metadata": {},
     "output_type": "display_data"
    },
    {
     "name": "stdout",
     "output_type": "stream",
     "text": [
      "True\n",
      "2\n"
     ]
    },
    {
     "data": {
      "text/latex": [
       "$\\displaystyle {\\left|2\\right\\rangle }{\\left\\langle 2\\right|}$"
      ],
      "text/plain": [
       "❘2⟩⟨2❘"
      ]
     },
     "metadata": {},
     "output_type": "display_data"
    },
    {
     "data": {
      "text/latex": [
       "$\\displaystyle \\frac{{\\left|0\\right\\rangle }{\\left\\langle 0\\right|}}{4 \\left(\\frac{\\sqrt{5}}{4} + \\frac{5}{4}\\right)} + \\frac{\\sqrt{5} {\\left|0\\right\\rangle }{\\left\\langle 0\\right|}}{4 \\left(\\frac{\\sqrt{5}}{4} + \\frac{5}{4}\\right)} + \\frac{\\sqrt{\\frac{1}{4} + \\frac{\\sqrt{5}}{4}} \\sqrt{- \\frac{\\sqrt{5}}{4 \\left(\\frac{\\sqrt{5}}{4} + \\frac{5}{4}\\right)} - \\frac{1}{4 \\left(\\frac{\\sqrt{5}}{4} + \\frac{5}{4}\\right)} + 1} {\\left|0\\right\\rangle }{\\left\\langle 2\\right|}}{\\sqrt{\\frac{\\sqrt{5}}{4} + \\frac{5}{4}}} + \\frac{\\sqrt{\\frac{1}{4} + \\frac{\\sqrt{5}}{4}} \\sqrt{- \\frac{\\sqrt{5}}{4 \\left(\\frac{\\sqrt{5}}{4} + \\frac{5}{4}\\right)} - \\frac{1}{4 \\left(\\frac{\\sqrt{5}}{4} + \\frac{5}{4}\\right)} + 1} {\\left|2\\right\\rangle }{\\left\\langle 0\\right|}}{\\sqrt{\\frac{\\sqrt{5}}{4} + \\frac{5}{4}}} - \\frac{\\sqrt{5} {\\left|2\\right\\rangle }{\\left\\langle 2\\right|}}{4 \\left(\\frac{\\sqrt{5}}{4} + \\frac{5}{4}\\right)} - \\frac{{\\left|2\\right\\rangle }{\\left\\langle 2\\right|}}{4 \\left(\\frac{\\sqrt{5}}{4} + \\frac{5}{4}\\right)} + {\\left|2\\right\\rangle }{\\left\\langle 2\\right|}$"
      ],
      "text/plain": [
       "                              ________       _______________________________  \n",
       "                             ╱ 1   √5       ╱       √5           1            \n",
       "                            ╱  ─ + ── ⋅    ╱  - ────────── - ────────── + 1 ⋅❘\n",
       "                          ╲╱   4   4      ╱       ⎛√5   5⎞     ⎛√5   5⎞       \n",
       "                                         ╱      4⋅⎜── + ─⎟   4⋅⎜── + ─⎟       \n",
       "  ❘0⟩⟨0❘     √5⋅❘0⟩⟨0❘                 ╲╱         ⎝4    4⎠     ⎝4    4⎠       \n",
       "────────── + ────────── + ────────────────────────────────────────────────────\n",
       "  ⎛√5   5⎞     ⎛√5   5⎞                              ________                 \n",
       "4⋅⎜── + ─⎟   4⋅⎜── + ─⎟                             ╱ √5   5                  \n",
       "  ⎝4    4⎠     ⎝4    4⎠                            ╱  ── + ─                  \n",
       "                                                 ╲╱   4    4                  \n",
       "\n",
       "            ________       _______________________________                    \n",
       "           ╱ 1   √5       ╱       √5           1                              \n",
       "0⟩⟨2❘     ╱  ─ + ── ⋅    ╱  - ────────── - ────────── + 1 ⋅❘2⟩⟨0❘             \n",
       "        ╲╱   4   4      ╱       ⎛√5   5⎞     ⎛√5   5⎞                         \n",
       "                       ╱      4⋅⎜── + ─⎟   4⋅⎜── + ─⎟                         \n",
       "                     ╲╱         ⎝4    4⎠     ⎝4    4⎠               √5⋅❘2⟩⟨2❘ \n",
       "───── + ───────────────────────────────────────────────────────── - ──────────\n",
       "                                   ________                           ⎛√5   5⎞\n",
       "                                  ╱ √5   5                          4⋅⎜── + ─⎟\n",
       "                                 ╱  ── + ─                            ⎝4    4⎠\n",
       "                               ╲╱   4    4                                    \n",
       "\n",
       "                      \n",
       "                      \n",
       "                      \n",
       "                      \n",
       "                      \n",
       "     ❘2⟩⟨2❘           \n",
       " - ────────── + ❘2⟩⟨2❘\n",
       "     ⎛√5   5⎞         \n",
       "   4⋅⎜── + ─⎟         \n",
       "     ⎝4    4⎠         \n",
       "                      "
      ]
     },
     "metadata": {},
     "output_type": "display_data"
    }
   ],
   "source": [
    "res2=iKCBS.F2 #powerDrop(iKCBS.F2)\n",
    "powow=iKCBS.F2.args[0]\n",
    "display(powow)\n",
    "print(isinstance(powow,sp.Pow))\n",
    "print(powow.exp)\n",
    "display(sq.qapply(powow.base*powow.base))\n",
    "\n",
    "display(powerDrop(iKCBS.F2))\n",
    "\n",
    "\n",
    "#display(res2)"
   ]
  },
  {
   "cell_type": "code",
   "execution_count": null,
   "metadata": {
    "hidden": true
   },
   "outputs": [],
   "source": [
    "res=iKCBS._T_ * iKCBS._U_\n",
    "display(res)\n",
    "display(tsimp(res))"
   ]
  },
  {
   "cell_type": "code",
   "execution_count": null,
   "metadata": {
    "hidden": true
   },
   "outputs": [],
   "source": [
    "display(iKCBS._U_)"
   ]
  },
  {
   "cell_type": "code",
   "execution_count": null,
   "metadata": {
    "hidden": true
   },
   "outputs": [],
   "source": [
    "display(iKCBS._V_)"
   ]
  },
  {
   "cell_type": "code",
   "execution_count": null,
   "metadata": {
    "hidden": true
   },
   "outputs": [],
   "source": [
    "display(iKCBS._T_)"
   ]
  },
  {
   "cell_type": "code",
   "execution_count": null,
   "metadata": {
    "hidden": true,
    "scrolled": false
   },
   "outputs": [],
   "source": [
    "display(iKCBS.F1)\n",
    "\n",
    "display(tsimp(iKCBS.F1))\n",
    "#sq.qapply(iKCBS.F1).doit()"
   ]
  },
  {
   "cell_type": "code",
   "execution_count": null,
   "metadata": {
    "hidden": true,
    "scrolled": true
   },
   "outputs": [],
   "source": [
    "\n",
    "iKCBS=cls_iKCBS(5)\n",
    "\n",
    "#sp.init_printing()\n",
    "#sp.pprint(iKCBS.c[0])\n",
    "for i in range(10):\n",
    "    display(iKCBS.c[i])\n",
    "    \n",
    "\n",
    "display(sp.N(iKCBS.matΠs[1]*iKCBS.matΠs[3]))\n",
    "display(sp.N(sq.represent(iKCBS.T)))\n",
    "display(iKCBS._T)\n",
    "#display(sp.N(iKCBS._T_))\n",
    "#display(sp.N(iKCBS._U_))\n",
    "#display(sp.N(iKCBS._V_))\n",
    "display(sp.N(iKCBS.F))"
   ]
  },
  {
   "cell_type": "code",
   "execution_count": null,
   "metadata": {
    "hidden": true,
    "scrolled": false
   },
   "outputs": [],
   "source": [
    "#display(iKCBS._U_)\n",
    "\n",
    "#display(iKCBS.partial_trace(iKCBS._U_))\n",
    "\n"
   ]
  },
  {
   "cell_type": "code",
   "execution_count": null,
   "metadata": {
    "hidden": true
   },
   "outputs": [],
   "source": [
    "g = bKet(0)\n",
    "\n",
    "Id=sq.IdentityOperator()\n",
    "\n",
    "display(Id*g)\n",
    "\n",
    "del Id\n",
    "del g"
   ]
  },
  {
   "cell_type": "code",
   "execution_count": 249,
   "metadata": {
    "hidden": true
   },
   "outputs": [
    {
     "data": {
      "text/latex": [
       "$\\displaystyle {{\\left|1\\right\\rangle }}\\otimes {{\\left|0\\right\\rangle }}$"
      ],
      "text/plain": [
       "❘1⟩⨂ ❘0⟩"
      ]
     },
     "metadata": {},
     "output_type": "display_data"
    },
    {
     "data": {
      "text/latex": [
       "$\\displaystyle 0.5 {{\\left|1\\right\\rangle }}\\otimes {{\\left|0\\right\\rangle }} {{\\left\\langle 1\\right|}}\\otimes {{\\left\\langle 0\\right|}} + 0.1 {{\\left|1\\right\\rangle }}\\otimes {{\\left|0\\right\\rangle }} {{\\left\\langle 1\\right|}}\\otimes {{\\left\\langle 1\\right|}} + 0.4 {{\\left|1\\right\\rangle }}\\otimes {{\\left|1\\right\\rangle }} {{\\left\\langle 1\\right|}}\\otimes {{\\left\\langle 1\\right|}}$"
      ],
      "text/plain": [
       "0.5⋅❘1⟩⨂ ❘0⟩⋅⟨1❘⨂ ⟨0❘ + 0.1⋅❘1⟩⨂ ❘0⟩⋅⟨1❘⨂ ⟨1❘ + 0.4⋅❘1⟩⨂ ❘1⟩⋅⟨1❘⨂ ⟨1❘"
      ]
     },
     "metadata": {},
     "output_type": "display_data"
    },
    {
     "data": {
      "text/latex": [
       "$\\displaystyle 0.5$"
      ],
      "text/plain": [
       "0.500000000000000"
      ]
     },
     "metadata": {},
     "output_type": "display_data"
    },
    {
     "data": {
      "text/latex": [
       "$\\displaystyle 0.5 \\left\\langle 0 \\right. {\\left|0\\right\\rangle }^{2} \\left\\langle 1 \\right. {\\left|1\\right\\rangle }^{2} \\cdot {1}\\otimes {1}^{2} + 0.1 \\left\\langle 0 \\right. {\\left|0\\right\\rangle } \\left\\langle 1 \\right. {\\left|0\\right\\rangle } \\left\\langle 1 \\right. {\\left|1\\right\\rangle }^{2} \\cdot {1}\\otimes {1}^{2} + 0.4 \\left\\langle 0 \\right. {\\left|1\\right\\rangle } \\left\\langle 1 \\right. {\\left|0\\right\\rangle } \\left\\langle 1 \\right. {\\left|1\\right\\rangle }^{2} \\cdot {1}\\otimes {1}^{2}$"
      ],
      "text/plain": [
       "         2      2     2                        2     2                        \n",
       "0.5⋅⟨0❘0⟩ ⋅⟨1❘1⟩ ⋅1⨂ 1  + 0.1⋅⟨0❘0⟩⋅⟨1❘0⟩⋅⟨1❘1⟩ ⋅1⨂ 1  + 0.4⋅⟨0❘1⟩⋅⟨1❘0⟩⋅⟨1❘1⟩\n",
       "\n",
       "2     2\n",
       " ⋅1⨂ 1 "
      ]
     },
     "metadata": {},
     "output_type": "display_data"
    }
   ],
   "source": [
    "g = bKet(0)\n",
    "h = bKet(1)\n",
    "\n",
    "TP=sq.TensorProduct\n",
    "zz=TP(g,g)\n",
    "zo=TP(g,h)\n",
    "oo=TP(h,h)\n",
    "oz=TP(h,g)\n",
    "\n",
    "display(oz)\n",
    "\n",
    "ρ = 0.5 * oz*sq.Dagger(oz) + 0.4*oo*sq.Dagger(oo) + 0.1*oz*sq.Dagger(oo)\n",
    "\n",
    "display(ρ)\n",
    "\n",
    "display(tsimp(sq.Dagger(oz)*ρ*oz))\n",
    "\n",
    "display(sq.qapply(sq.Dagger(oz)*ρ*oz))\n",
    "\n",
    "del TP"
   ]
  },
  {
   "cell_type": "code",
   "execution_count": 263,
   "metadata": {
    "hidden": true
   },
   "outputs": [
    {
     "data": {
      "text/latex": [
       "$\\displaystyle 0.5 {\\left|0\\right\\rangle } + 0.1 {\\left|1\\right\\rangle }$"
      ],
      "text/plain": [
       "0.5⋅❘0⟩ + 0.1⋅❘1⟩"
      ]
     },
     "metadata": {},
     "output_type": "display_data"
    },
    {
     "data": {
      "text/latex": [
       "$\\displaystyle 0.5 {\\left|0\\right\\rangle }$"
      ],
      "text/plain": [
       "0.5⋅❘0⟩"
      ]
     },
     "metadata": {},
     "output_type": "display_data"
    },
    {
     "data": {
      "text/latex": [
       "$\\displaystyle 0.1 {\\left|1\\right\\rangle }$"
      ],
      "text/plain": [
       "0.1⋅❘1⟩"
      ]
     },
     "metadata": {},
     "output_type": "display_data"
    },
    {
     "name": "stdout",
     "output_type": "stream",
     "text": [
      "True\n",
      "False\n",
      "False\n",
      "True\n"
     ]
    }
   ],
   "source": [
    "res=0.5 * g + 0.1 * h\n",
    "display(res)\n",
    "\n",
    "display(res.args[0])\n",
    "display(res.args[1])\n",
    "\n",
    "res.has(sq.Ket)\n",
    "print(isinstance(res,sp.Add))\n",
    "print(isinstance(res,sp.Mul))\n",
    "\n",
    "res2=res.args[0]\n",
    "print(isinstance(res2,sp.Add))\n",
    "print(isinstance(res2,sp.Mul))"
   ]
  },
  {
   "cell_type": "code",
   "execution_count": null,
   "metadata": {
    "hidden": true
   },
   "outputs": [],
   "source": [
    "g = bKet(0)\n",
    "h = bKet(1)\n",
    "\n",
    "TP=sq.TensorProduct\n",
    "zz=TP(g,g)\n",
    "zo=TP(g,h)\n",
    "oo=TP(h,h)\n",
    "oz=TP(h,g)\n",
    "\n",
    "display(oz)\n",
    "\n",
    "ρ = 0.5 * oz*sq.Dagger(oz) + 0.4*oo*sq.Dagger(oo) + 0.1*oz*sq.Dagger(oo)\n",
    "\n",
    "display(ρ)\n",
    "\n",
    "k=TP(sq.IdentityOperator(),h)\n",
    "\n",
    "\n",
    "display(tsimp(sq.Dagger(k)*ρ*k))\n",
    "\n",
    "display(sq.qapply(sq.Dagger(k)*ρ*k))\n",
    "\n",
    "del TP"
   ]
  },
  {
   "cell_type": "code",
   "execution_count": null,
   "metadata": {
    "hidden": true
   },
   "outputs": [],
   "source": [
    "#tsimp=sq.tensorproduct.tensor_product_simp_Mul\n",
    "\n",
    "#If an inner product evaluates to one, it drops the dimension\n",
    "#Works only with products and sums for the moment\n",
    "#No sanity checks were done\n",
    "#Hopefully, sympy will get updated with this functionality soon anyway\n",
    "\n",
    "\n",
    "\n",
    "#def(e):\n",
    "    \n",
    "\n",
    "Identity=sq.IdentityOperator()\n",
    "g=bKet(0)\n",
    "h=bKet(1)\n",
    "\n",
    "ρ_g=g*sq.Dagger(g)\n",
    "ρ_h=h*sq.Dagger(h)\n",
    "\n",
    "# #sq.qapply(Identity*g); seems to work\n",
    "\n",
    "# #display(sq.TensorProduct(ρ_g,ρ_h))\n",
    "# print(\"g\")\n",
    "# g_=sq.TensorProduct(Identity,g*sq.Dagger(g)); display(g_)\n",
    "# print(\"h\")\n",
    "# h_=sq.TensorProduct(Identity,h*sq.Dagger(h)); display(h_)\n",
    "\n",
    "# print(\"gh\")\n",
    "# display(sq.Dagger(g_)*h_)\n",
    "\n",
    "f_=sq.TensorProduct(g,g)\n",
    "f__=sq.TensorProduct(h,g)\n",
    "\n",
    "#sq.qapply(sq.Dagger(f_)*g_*f_).doit()\n",
    "\n",
    "print(\"inner product of \")\n",
    "display(f_,f__)\n",
    "#sq.qapply(sq.Dagger(f_)*f_)\n",
    "#sq.tensorproduct.tensor_product_simp(sq.Dagger(f_)*f__ + sq.Dagger(f__)*f__)\n",
    "print(\"yields these two\")\n",
    "display(sq.Dagger(f_)*f__)\n",
    "display(sq.qapply(sq.Dagger(f_)*f__).doit())\n",
    "\n",
    "print(\"inner product of \")\n",
    "display(f_,f_)\n",
    "print(\"yields these two\")\n",
    "res1=sq.Dagger(f_)*f_\n",
    "display(sq.Dagger(f_)*f_)\n",
    "display(sq.qapply(sq.Dagger(f_)*f_).doit())\n",
    "\n",
    "\n",
    "print(\"Let us try the inner product of these two vectors with the following operator\")\n",
    "op=f_*sq.Dagger(f_)\n",
    "\n",
    "display(op)\n",
    "print(\"which yields these two\")\n",
    "display(sq.qapply(sq.Dagger(f__)*op*f__))\n",
    "display(sq.qapply(sq.Dagger(f__)*op*f__).doit())\n",
    "#sq.qapply(sq.Dagger(f_)*h_*sq.Dagger(f__)).doit()\n",
    "\n",
    "\n",
    "######So far it works well\n",
    "print(\"Consider now the tensor product of two operators\")\n",
    "ρ=sq.TensorProduct(ρ_g,ρ_g)\n",
    "display(ρ)\n",
    "print(\"Their inner product with the ket\") \n",
    "display(f_)\n",
    "print(\"yields the following two\")\n",
    "res=sq.qapply(sq.Dagger(f_)*ρ*f_)\n",
    "display(res)\n",
    "display(res.doit())\n",
    "\n",
    "display(tsimp(res))\n",
    "print(\"Testing if the constituents are still instances of orthogonal vectors\")\n",
    "print(isinstance(res.args[0].args[0],bBra))\n",
    "display(res.args[0].args[0],res.args[1])\n",
    "\n",
    "print(\"Testing if the constituents are ... same for the original\")\n",
    "print(isinstance(res1.args[0].args[0],bBra))\n",
    "display(res1.args[0].args[0],res1.args[1])\n",
    "\n",
    "#sq.qapply(sq.Dagger(g_)*h_).doit() #*ρ_g\n",
    "\n",
    "#sq.qapply(sq.Dagger(g)*h).doit()\n",
    "print(\"Now we try with this \")\n",
    "ρ2=sq.TensorProduct(ρ_g,ρ_h)\n",
    "σ=3*ρ\n",
    "display(σ)\n",
    "res2=tsimp(sq.qapply(sq.Dagger(f_)*σ*f_))\n",
    "display(res2)\n",
    "\n",
    "#res2.has(sq.TensorProduct)\n",
    "#isinstance(res2,sq.TensorProduct)\n",
    "#new_args=list(sq.TensorP)\n",
    "#sq.TensorProduct(*list(res2.args))\n",
    "\n",
    "\n",
    "# res3=autoDropDim(res2)\n",
    "# # for _ in res3.args:\n",
    "# #     display(_)\n",
    "\n",
    "# display(res3)"
   ]
  },
  {
   "cell_type": "code",
   "execution_count": null,
   "metadata": {
    "hidden": true
   },
   "outputs": [],
   "source": [
    "\n",
    "\n",
    "def tensor_product_simp(e, **hints):\n",
    "    \"\"\"Try to simplify and combine TensorProducts.\n",
    "\n",
    "    \"\"\"\n",
    "    if isinstance(e, sp.Add):\n",
    "        return sp.Add(*[tensor_product_simp(arg) for arg in e.args])\n",
    "    elif isinstance(e, sp.Mul):\n",
    "        return tensor_product_simp_Mul(e)\n",
    "    else:\n",
    "        return e\n",
    "    \n",
    "def tensor_product_simp_Mul(e):\n",
    "    \"\"\"Simplify a Mul with TensorProducts.\n",
    "\n",
    "        >>> e\n",
    "        AxB*CxD\n",
    "        >>> tensor_product_simp_Mul(e)\n",
    "        (A*C)x(B*D)\n",
    "\n",
    "    \"\"\"\n",
    "    \n",
    "    # TODO: This won't work with Muls that have other composites of\n",
    "    # TensorProducts, like an Add, Commutator, etc.\n",
    "    # TODO: This only works for the equivalent of single Qbit gates.\n",
    "    \n",
    "    if not isinstance(e, sp.Mul):\n",
    "        return e\n",
    "    c_part, nc_part = e.args_cnc()\n",
    "    n_nc = len(nc_part)\n",
    "    if n_nc == 0:\n",
    "        return e\n",
    "#     elif n_nc == 1:\n",
    "#         if isinstance(nc_part[0], Pow):\n",
    "#             return  Mul(*c_part) * tensor_product_simp_Pow(nc_part[0])\n",
    "#         return e\n",
    "    elif e.has(sq.TensorProduct):\n",
    "        current = nc_part[0] #I guess this is the \n",
    "#         if not isinstance(current, sq.TensorProduct):\n",
    "#             if isinstance(current, Pow):\n",
    "#                 if isinstance(current.base, sq.TensorProduct):\n",
    "#                     current = tensor_product_simp_Pow(current)\n",
    "#             else:\n",
    "#                 raise TypeError('TensorProduct expected, got: %r' % current)\n",
    "        n_terms = len(current.args)\n",
    "        new_args = list(current.args)\n",
    "        for next in nc_part[1:]:\n",
    "            # TODO: check the hilbert spaces of next and current here.\n",
    "            if isinstance(next, sq.TensorProduct):\n",
    "                if n_terms != len(next.args):\n",
    "                    raise QuantumError(\n",
    "                        'TensorProducts of different lengths: %r and %r' %\n",
    "                        (current, next)\n",
    "                    )\n",
    "                for i in range(len(new_args)):\n",
    "                    new_args[i] = new_args[i] * next.args[i]\n",
    "#             else:\n",
    "#                 if isinstance(next, Pow):\n",
    "#                     if isinstance(next.base, sq.TensorProduct):\n",
    "#                         new_tp = tensor_product_simp_Pow(next)\n",
    "#                         for i in range(len(new_args)):\n",
    "#                             if( new_args[i] )\n",
    "#                             new_args[i] = new_args[i] * new_tp.args[i]\n",
    "#                     else:\n",
    "#                         raise TypeError('TensorProduct expected, got: %r' % next)\n",
    "#                 else:\n",
    "#                     raise TypeError('TensorProduct expected, got: %r' % next)\n",
    "            current = next\n",
    "        return Mul(*c_part) * sq.TensorProduct(*new_args)\n",
    "    elif e.has(Pow):\n",
    "        new_args = [ tensor_product_simp_Pow(nc) for nc in nc_part ]\n",
    "        return tensor_product_simp_Mul(Mul(*c_part) * sq.TensorProduct(*new_args))\n",
    "    else:\n",
    "        return e"
   ]
  },
  {
   "cell_type": "code",
   "execution_count": null,
   "metadata": {
    "hidden": true
   },
   "outputs": [],
   "source": [
    "glaba=sp.Integer(1)\n",
    "#isinstance(glaba,sp.number)\n",
    "#type(glaba)\n",
    "go=bKet(2)\n"
   ]
  },
  {
   "cell_type": "markdown",
   "metadata": {
    "heading_collapsed": true
   },
   "source": [
    "### Debugging the issue with substitutions"
   ]
  },
  {
   "cell_type": "code",
   "execution_count": null,
   "metadata": {
    "hidden": true
   },
   "outputs": [],
   "source": [
    "\n",
    "iKCBS.b[1].subs({iKCBS.a[8]:0})\n",
    "\n",
    "iKCBS.c\n",
    "#b=sp.symbols('b0:%d'%10)\n",
    "#b[0].subs(b[0],10)\n",
    "# gla=sp.Symbol('x'); gla\n",
    "# gla.subs(gla,10)\n",
    "\n",
    "#iKCBS.a[8].subs(iKCBS.a[8],0)"
   ]
  },
  {
   "cell_type": "code",
   "execution_count": null,
   "metadata": {
    "hidden": true
   },
   "outputs": [],
   "source": [
    "ket1=bKet(0)\n",
    "ket2=bKet(1)\n",
    "kets=(ket1,ket2)\n",
    "bra=[sq.Dagger(iket) for iket in kets]; bra"
   ]
  },
  {
   "cell_type": "markdown",
   "metadata": {
    "heading_collapsed": true
   },
   "source": [
    "### Debugging the issue with _eval_args"
   ]
  },
  {
   "cell_type": "code",
   "execution_count": null,
   "metadata": {
    "hidden": true
   },
   "outputs": [],
   "source": [
    "class cls_iKCBS:    \n",
    "    \n",
    "    def __init__(s,n):\n",
    "        cls_iKCBS.n=n\n",
    "        #j in 0,1,2,3,4\n",
    "        s.ke = [bKet(j) for j in range(3)]    \n",
    "        s.br = [sq.Dagger(s.ke[j]) for j in range(3)]\n",
    "        s.πs = []\n",
    "        s.matπs = [] \n",
    "        #poor man's implementation\n",
    "        for j in range(5):\n",
    "            s.πs.append(s.proj(j,n))            \n",
    "            s.matπs.append(s.matRep(s.proj(j,n)))\n",
    "        s.opT = s.ke[0]*s.br[2] + s.ke[1]*s.br[0] + s.ke[2]*s.br[1]\n",
    "        s.matT=s.matRep(s.opT)\n",
    "\n",
    "    #this method is now obsolete    \n",
    "    def matRep(s,op):\n",
    "        n=3 #s.__class__.n\n",
    "        matop = sp.Matrix(np.zeros((n,n)))        \n",
    "        for i in range(n):\n",
    "            for j in range(n):\n",
    "                matop[i,j] = sq.qapply(sq.Dagger(s.ke[i])*op*s.ke[j]).doit() \n",
    "        return matop\n",
    "        \n",
    "    def proj(s,j,n):\n",
    "        N=sp.Integer(n)\n",
    "        J=sp.Integer(j)\n",
    "        #print(N,j)\n",
    "        one=sp.Integer(1)\n",
    "        #print(one)\n",
    "        α1=sp.cos((sp.pi)/N)/(one+sp.cos(sp.pi/N)) #verified\n",
    "        #a1=sp.cos(sp.pi/N)\n",
    "        #\n",
    "        #print(α1)\n",
    "        \n",
    "        α2=one-α1 #verified\n",
    "        α3=J * sp.pi * (N-one)/N #verified\n",
    "        \n",
    "        vec = sp.sqrt(α1)*s.ke[0] + sp.sqrt(α2)*sp.sin(α3)*s.ke[1] + sp.sqrt(α2)*sp.cos(α3)*s.ke[2]\n",
    "        \n",
    "        projector = vec*sq.Dagger(vec)\n",
    "           \n",
    "        #matrixprojector = sp.Matrix([0,0])\n",
    "        return projector\n",
    "    \n",
    "    \n",
    "    def find_coeff_matT(s):\n",
    "        cls=s.__class__\n",
    "        a=sp.symbols('a0:%d'%(cls.n*2))\n",
    "        LHS=a[0]*s.matπs[0]\n",
    "        for i in range(1,cls.n):\n",
    "            LHS=LHS+a[i]*s.matπs[i]\n",
    "        for i in range(cls.n,2*cls.n):\n",
    "            LHS=LHS+a[i]*s.matπs[i%cls.n]*s.matπs[(i+2)%cls.n]\n",
    "            \n",
    "        RHS=s.matT\n",
    "        return sp.solve(sp.N(LHS-RHS),a)\n",
    "        #return sp.solve(a[0]-a[2],a)\n",
    "        \n",
    "        #print(LHS)\n",
    "        #for i in range\n",
    "        \n",
    "\n",
    "    '''\n",
    "       def vec(self,j,n):    \n",
    "           N=sp.Integer(n)\n",
    "           J=sp.Integer(j)\n",
    "           #print(N,j)\n",
    "           one=sp.Integer(1)\n",
    "           #print(one)\n",
    "           α1=sp.cos((sp.pi)/N)/(one+sp.cos(sp.pi/N)) #verified\n",
    "           #a1=sp.cos(sp.pi/N)\n",
    "           #\n",
    "           #print(α1)\n",
    "        \n",
    "           α2=one-α1 #verified\n",
    "           α3=J * sp.pi * (N-one)/N #verified\n",
    "        \n",
    "           vec = sp.sqrt(α1)*self.k0 + sp.sqrt(α2)*sp.sin(α3)*self.k1 + sp.sqrt(α2)*sp.cos(α3)*self.k2\n",
    "        \n",
    "           #projector = vec*sq.Dagger(vec)\n",
    "           return vec\n",
    "    '''"
   ]
  },
  {
   "cell_type": "code",
   "execution_count": null,
   "metadata": {
    "hidden": true
   },
   "outputs": [],
   "source": [
    "\n",
    "iKCBS=cls_iKCBS(5)\n",
    "#to access the vectors \n",
    "\n",
    "# #uncomment to test\n",
    "# sq.qapply(sq.qapply(iKCBS.πs[0]*iKCBS.πs[1]))\n",
    "# #iKCBS.πs[1]\n",
    "\n",
    "# sp.N(iKCBS.matπs[2])\n",
    "\n",
    "# iKCBS.find_coeff_matT()"
   ]
  },
  {
   "cell_type": "code",
   "execution_count": null,
   "metadata": {
    "hidden": true
   },
   "outputs": [],
   "source": [
    "iKCBS.find_coeff_opT()"
   ]
  },
  {
   "cell_type": "markdown",
   "metadata": {
    "heading_collapsed": true
   },
   "source": [
    "### Debugging"
   ]
  },
  {
   "cell_type": "code",
   "execution_count": null,
   "metadata": {
    "hidden": true
   },
   "outputs": [],
   "source": [
    "sq.qapply(sq.Dagger(iKCBS.πs[0])*iKCBS.πs[1]);\n",
    "\n",
    "#sq.represent(sq.qapply(sq.Dagger(iKCBS.πs[0])*iKCBS.πs[1]),basis=iKCBS.ke)"
   ]
  },
  {
   "cell_type": "code",
   "execution_count": null,
   "metadata": {
    "code_folding": [
     29
    ],
    "hidden": true
   },
   "outputs": [],
   "source": [
    "#older version without lists\n",
    "class cls_iKCBS:\n",
    "    k0=bKet(0)    \n",
    "    k1=bKet(1)\n",
    "    k2=bKet(2)\n",
    "    \n",
    "    b0=sq.Dagger(k0)\n",
    "    b1=sq.Dagger(k1)\n",
    "    b2=sq.Dagger(k2)\n",
    "    \n",
    "    πs=[]\n",
    "    \n",
    "    def __init__(self,n):\n",
    "        #j in 0,1,2,3,4\n",
    "        for j in range(5):\n",
    "            self.πs.append(self.proj(j,n))\n",
    "    \n",
    "    def proj(self,j,n):\n",
    "        N=sp.Integer(n)\n",
    "        J=sp.Integer(j)\n",
    "        #print(N,j)\n",
    "        one=sp.Integer(1)\n",
    "        #print(one)\n",
    "        α1=sp.cos((sp.pi)/N)/(one+sp.cos(sp.pi/N)) #verified\n",
    "        #a1=sp.cos(sp.pi/N)\n",
    "        #\n",
    "        #print(α1)\n",
    "        \n",
    "        α2=one-α1 #verified\n",
    "        α3=J * sp.pi * (N-one)/N #verified\n",
    "        \n",
    "        vec = sp.sqrt(α1)*self.k0 + sp.sqrt(α2)*sp.sin(α3)*self.k1 + sp.sqrt(α2)*sp.cos(α3)*self.k2\n",
    "        \n",
    "        projector = vec*sq.Dagger(vec)\n",
    "        return projector\n",
    "    '''\n",
    "       def vec(self,j,n):    \n",
    "           N=sp.Integer(n)\n",
    "           J=sp.Integer(j)\n",
    "           #print(N,j)\n",
    "           one=sp.Integer(1)\n",
    "           #print(one)\n",
    "           α1=sp.cos((sp.pi)/N)/(one+sp.cos(sp.pi/N)) #verified\n",
    "           #a1=sp.cos(sp.pi/N)\n",
    "           #\n",
    "           #print(α1)\n",
    "        \n",
    "           α2=one-α1 #verified\n",
    "           α3=J * sp.pi * (N-one)/N #verified\n",
    "        \n",
    "           vec = sp.sqrt(α1)*self.k0 + sp.sqrt(α2)*sp.sin(α3)*self.k1 + sp.sqrt(α2)*sp.cos(α3)*self.k2\n",
    "        \n",
    "           #projector = vec*sq.Dagger(vec)\n",
    "           return vec\n",
    "    '''"
   ]
  },
  {
   "cell_type": "code",
   "execution_count": null,
   "metadata": {
    "hidden": true
   },
   "outputs": [],
   "source": [
    "iKCBS=cls_iKCBS()\n",
    "sq.qapply(iKCBS.proj(1,5)).doit();"
   ]
  },
  {
   "cell_type": "code",
   "execution_count": null,
   "metadata": {
    "hidden": true
   },
   "outputs": [],
   "source": [
    "sp.simplify(sq.qapply(sq.Dagger(iKCBS.k0)*iKCBS.proj(1,5)*iKCBS.proj(2,5)*iKCBS.k0).doit())\n",
    "#sp.N(sq.qapply(sq.Dagger(iKCBS.k0)*iKCBS.proj(1,5)*iKCBS.proj(2,5)*iKCBS.k0).doit())\n",
    "#sq.qapply(iKCBS.proj(1,5)*iKCBS.proj(2,5)).doit()"
   ]
  },
  {
   "cell_type": "code",
   "execution_count": null,
   "metadata": {
    "hidden": true
   },
   "outputs": [],
   "source": [
    "(sq.Dagger(iKCBS.k0)*iKCBS.k0).doit()"
   ]
  },
  {
   "cell_type": "code",
   "execution_count": null,
   "metadata": {
    "hidden": true
   },
   "outputs": [],
   "source": [
    "sp.N(sq.qapply(sq.Dagger(iKCBS.vec(1,5))*iKCBS.vec(1,5)).doit(),5000)"
   ]
  },
  {
   "cell_type": "code",
   "execution_count": null,
   "metadata": {
    "hidden": true
   },
   "outputs": [],
   "source": [
    "sp.N(sp.simplify(sq.qapply(sq.Dagger(iKCBS.vec(4,5))*iKCBS.vec(3,5)).doit()))"
   ]
  },
  {
   "cell_type": "code",
   "execution_count": null,
   "metadata": {
    "hidden": true
   },
   "outputs": [],
   "source": [
    "sp.N(sq.qapply(sq.Dagger(iKCBS.πs[0])*iKCBS.πs[1]))"
   ]
  },
  {
   "cell_type": "markdown",
   "metadata": {
    "heading_collapsed": true
   },
   "source": [
    "## Translation Operator using $\\Pi$s\n",
    "\n",
    "See for the original implementation Self-testing_KCBS_fidelity_bounds"
   ]
  },
  {
   "cell_type": "code",
   "execution_count": 18,
   "metadata": {
    "hidden": true
   },
   "outputs": [
    {
     "data": {
      "text/latex": [
       "$\\displaystyle a_{0}$"
      ],
      "text/plain": [
       "a₀"
      ]
     },
     "execution_count": 18,
     "metadata": {},
     "output_type": "execute_result"
    }
   ],
   "source": [
    "\n",
    "a=sp.symbols('a0:%d'%(cls_iKCBS.n*2))\n",
    "a[0]\n",
    "c=0\n",
    "c=c+a[0]; c\n"
   ]
  },
  {
   "cell_type": "code",
   "execution_count": 19,
   "metadata": {
    "hidden": true
   },
   "outputs": [
    {
     "data": {
      "text/latex": [
       "$\\displaystyle \\left[\\begin{matrix}0.0 & 0.0\\\\0.0 & 0\\end{matrix}\\right]$"
      ],
      "text/plain": [
       "⎡0.0  0.0⎤\n",
       "⎢        ⎥\n",
       "⎣0.0   0 ⎦"
      ]
     },
     "execution_count": 19,
     "metadata": {},
     "output_type": "execute_result"
    }
   ],
   "source": [
    "a=sp.Matrix(np.zeros((2,2)))\n",
    "a[1,1]=0;a\n"
   ]
  },
  {
   "cell_type": "code",
   "execution_count": 20,
   "metadata": {
    "hidden": true
   },
   "outputs": [
    {
     "data": {
      "text/latex": [
       "$\\displaystyle \\left[\\begin{matrix}0\\\\0\\\\1\\\\0\\end{matrix}\\right]$"
      ],
      "text/plain": [
       "⎡0⎤\n",
       "⎢ ⎥\n",
       "⎢0⎥\n",
       "⎢ ⎥\n",
       "⎢1⎥\n",
       "⎢ ⎥\n",
       "⎣0⎦"
      ]
     },
     "execution_count": 20,
     "metadata": {},
     "output_type": "execute_result"
    }
   ],
   "source": [
    "a=sqq.IntQubit(2);a\n",
    "\n",
    "b=sqq.IntQubit(1);\n",
    "sq.represent(b);\n",
    "sq.represent(a)"
   ]
  },
  {
   "cell_type": "markdown",
   "metadata": {},
   "source": [
    "# SDP part (SymPy meets CvxPy)"
   ]
  },
  {
   "cell_type": "code",
   "execution_count": 114,
   "metadata": {
    "init_cell": true
   },
   "outputs": [],
   "source": [
    "N=5\n",
    "\n",
    "#Ψ=[sp.symbols('Ψ')]\n",
    "I=[sp.Integer(1)]\n",
    "A=list(sp.symbols('Π_0:%d'%N,commutative=False))\n",
    "#A=list(sp.symbols('Π_0:%d'%N,commutative=False))\n",
    "\n",
    "# display(I)\n",
    "# display(A)"
   ]
  },
  {
   "cell_type": "code",
   "execution_count": 115,
   "metadata": {
    "init_cell": true
   },
   "outputs": [],
   "source": [
    "objective = iKCBS.F\n",
    "\n",
    "# objective1=iKCBS.F\n",
    "\n",
    "# #objective = A[0] + A[1] + A[2] + A[3] + A[4]\n",
    "# objective2 = A[0]*A[0] + 1e-13*A[1] + 1e-13*A[2] + 1e-13*A[3] + 1e-13*A[4]\n",
    "\n",
    "# objective=objective\n",
    "#display(objective);"
   ]
  },
  {
   "cell_type": "code",
   "execution_count": 116,
   "metadata": {
    "init_cell": true
   },
   "outputs": [],
   "source": [
    "\n",
    "\n",
    "L1=A #appends the lists\n",
    "#print(L1)\n",
    "\n",
    "L2=[]\n",
    "for let1 in L1:\n",
    "    for let2 in L1:\n",
    "        L2.append(let1*let2)\n",
    "\n",
    "\n",
    "#These will help simplify A^3 to A when needed\n",
    "lDepth=2\n",
    "sqDicts={A[i]**2:A[i] for i in range(len(L1))}\n",
    "\n",
    "\n",
    "L = I + L1 + L2\n",
    "L_ = L1 + L2\n",
    "#print(L)"
   ]
  },
  {
   "cell_type": "code",
   "execution_count": 117,
   "metadata": {
    "init_cell": true
   },
   "outputs": [],
   "source": [
    "#symbol to index dictionary\n",
    "sTi={}\n",
    "\n",
    "for i in range(len(L)):\n",
    "    sTi[L[i]]=i\n",
    "\n",
    "#print(sTi)"
   ]
  },
  {
   "cell_type": "code",
   "execution_count": 119,
   "metadata": {
    "init_cell": true
   },
   "outputs": [
    {
     "data": {
      "image/png": "[encoded data removed]",
      "text/plain": [
       "<Figure size 432x288 with 1 Axes>"
      ]
     },
     "metadata": {},
     "output_type": "display_data"
    }
   ],
   "source": [
    "G = nx.Graph()\n",
    "\n",
    "#node2 in G[node1] #yes if they are connected by an edge\n",
    "\n",
    "G = nx.Graph()\n",
    "G.add_nodes_from(L1)\n",
    "G.add_edges_from([[L1[i],L1[(i+1)%(N)]] for i in range(N)])\n",
    "\n",
    "#create a dictionary to simplify expressions later which sets projector products to zero\n",
    "gDicts={}\n",
    "for l1 in L1:\n",
    "    for l2 in L1:\n",
    "        if l1 in G[l2]:\n",
    "            gDicts.update({l1*l2:sp.Integer(0)})\n",
    "\n",
    "\n",
    "%matplotlib inline \n",
    "nx.draw(G, with_labels=True)"
   ]
  },
  {
   "cell_type": "code",
   "execution_count": 123,
   "metadata": {
    "scrolled": false
   },
   "outputs": [
    {
     "data": {
      "text/latex": [
       "$\\displaystyle 1.44721359549996 Π_{0} + 0.50631990099834 Π_{0} Π_{2} - 2.54992616372413 Π_{0} Π_{2} Π_{4} Π_{1} + 0.0249223594996216 Π_{1} + 18.9640772918993 Π_{1} Π_{4} Π_{1} - 6.80895705245476 Π_{1} Π_{4} Π_{1} Π_{4} Π_{1} + 0.810241289468414 Π_{1} Π_{4} Π_{1} Π_{4} Π_{2} - 3.67134658131212 Π_{1} Π_{4} Π_{2} - 2.54992616372413 Π_{1} Π_{4} Π_{2} Π_{0} - 0.337012819708448 Π_{1} Π_{4} Π_{2} Π_{0} Π_{2} - 17.7362520995107 Π_{1} Π_{4} Π_{2} Π_{4} Π_{1} + 3.43223718036529 Π_{1} Π_{4} Π_{2} Π_{4} Π_{2} + 0.447213595499959 Π_{2} + 0.50631990099834 Π_{2} Π_{0} + 0.126024438241778 Π_{2} Π_{0} Π_{2} - 0.337012819708448 Π_{2} Π_{0} Π_{2} Π_{4} Π_{1} - 3.67134658131212 Π_{2} Π_{4} Π_{1} + 0.810241289468414 Π_{2} Π_{4} Π_{1} Π_{4} Π_{1} - 0.393670535019895 Π_{2} Π_{4} Π_{2} + 3.43223718036529 Π_{2} Π_{4} Π_{2} Π_{4} Π_{1} + 2.23606797749979 \\left(1.17082039324994 Π_{2} + 1.51339645797671 Π_{2} Π_{0} Π_{2} - 1.03064284105144 Π_{2} Π_{4} Π_{2}\\right) + 2.23606797749979 \\left(0.00951949424901162 Π_{4} Π_{1} Π_{4} + 7.24363296022549 Π_{4} Π_{1} Π_{4} Π_{1} Π_{4} - 2.60079016609942 Π_{4} Π_{1} Π_{4} Π_{1} Π_{4} Π_{1} Π_{4} + 0.810241289468413 Π_{4} Π_{1} Π_{4} Π_{1} Π_{4} Π_{2} Π_{4} - 0.337012819708448 Π_{4} Π_{1} Π_{4} Π_{2} Π_{0} Π_{2} Π_{4} - 3.67134658131212 Π_{4} Π_{1} Π_{4} Π_{2} Π_{4} - 6.77464546897642 Π_{4} Π_{1} Π_{4} Π_{2} Π_{4} Π_{1} Π_{4} + 3.43223718036528 Π_{4} Π_{1} Π_{4} Π_{2} Π_{4} Π_{2} Π_{4} + 0.329936262730088 Π_{4} Π_{2} Π_{0} Π_{2} Π_{4} - 0.337012819708448 Π_{4} Π_{2} Π_{0} Π_{2} Π_{4} Π_{1} Π_{4} + 1.17082039324994 Π_{4} Π_{2} Π_{4} - 3.67134658131212 Π_{4} Π_{2} Π_{4} Π_{1} Π_{4} + 0.810241289468413 Π_{4} Π_{2} Π_{4} Π_{1} Π_{4} Π_{1} Π_{4} - 1.03064284105144 Π_{4} Π_{2} Π_{4} Π_{2} Π_{4} + 3.43223718036528 Π_{4} Π_{2} Π_{4} Π_{2} Π_{4} Π_{1} Π_{4}\\right)$"
      ],
      "text/plain": [
       "1.44721359549996⋅Π₀ + 0.50631990099834⋅Π₀⋅Π₂ - 2.54992616372413⋅Π₀⋅Π₂⋅Π₄⋅Π₁ + \n",
       "0.0249223594996216⋅Π₁ + 18.9640772918993⋅Π₁⋅Π₄⋅Π₁ - 6.80895705245476⋅Π₁⋅Π₄⋅Π₁⋅\n",
       "Π₄⋅Π₁ + 0.810241289468414⋅Π₁⋅Π₄⋅Π₁⋅Π₄⋅Π₂ - 3.67134658131212⋅Π₁⋅Π₄⋅Π₂ - 2.54992\n",
       "616372413⋅Π₁⋅Π₄⋅Π₂⋅Π₀ - 0.337012819708448⋅Π₁⋅Π₄⋅Π₂⋅Π₀⋅Π₂ - 17.7362520995107⋅Π₁\n",
       "⋅Π₄⋅Π₂⋅Π₄⋅Π₁ + 3.43223718036529⋅Π₁⋅Π₄⋅Π₂⋅Π₄⋅Π₂ + 0.447213595499959⋅Π₂ + 0.5063\n",
       "1990099834⋅Π₂⋅Π₀ + 0.126024438241778⋅Π₂⋅Π₀⋅Π₂ - 0.337012819708448⋅Π₂⋅Π₀⋅Π₂⋅Π₄⋅\n",
       "Π₁ - 3.67134658131212⋅Π₂⋅Π₄⋅Π₁ + 0.810241289468414⋅Π₂⋅Π₄⋅Π₁⋅Π₄⋅Π₁ - 0.39367053\n",
       "5019895⋅Π₂⋅Π₄⋅Π₂ + 3.43223718036529⋅Π₂⋅Π₄⋅Π₂⋅Π₄⋅Π₁ + 2.23606797749979⋅(1.17082\n",
       "039324994⋅Π₂ + 1.51339645797671⋅Π₂⋅Π₀⋅Π₂ - 1.03064284105144⋅Π₂⋅Π₄⋅Π₂) + 2.2360\n",
       "6797749979⋅(0.00951949424901162⋅Π₄⋅Π₁⋅Π₄ + 7.24363296022549⋅Π₄⋅Π₁⋅Π₄⋅Π₁⋅Π₄ - 2\n",
       ".60079016609942⋅Π₄⋅Π₁⋅Π₄⋅Π₁⋅Π₄⋅Π₁⋅Π₄ + 0.810241289468413⋅Π₄⋅Π₁⋅Π₄⋅Π₁⋅Π₄⋅Π₂⋅Π₄ \n",
       "- 0.337012819708448⋅Π₄⋅Π₁⋅Π₄⋅Π₂⋅Π₀⋅Π₂⋅Π₄ - 3.67134658131212⋅Π₄⋅Π₁⋅Π₄⋅Π₂⋅Π₄ - 6\n",
       ".77464546897642⋅Π₄⋅Π₁⋅Π₄⋅Π₂⋅Π₄⋅Π₁⋅Π₄ + 3.43223718036528⋅Π₄⋅Π₁⋅Π₄⋅Π₂⋅Π₄⋅Π₂⋅Π₄ +\n",
       " 0.329936262730088⋅Π₄⋅Π₂⋅Π₀⋅Π₂⋅Π₄ - 0.337012819708448⋅Π₄⋅Π₂⋅Π₀⋅Π₂⋅Π₄⋅Π₁⋅Π₄ + 1\n",
       ".17082039324994⋅Π₄⋅Π₂⋅Π₄ - 3.67134658131212⋅Π₄⋅Π₂⋅Π₄⋅Π₁⋅Π₄ + 0.810241289468413\n",
       "⋅Π₄⋅Π₂⋅Π₄⋅Π₁⋅Π₄⋅Π₁⋅Π₄ - 1.03064284105144⋅Π₄⋅Π₂⋅Π₄⋅Π₂⋅Π₄ + 3.43223718036528⋅Π₄⋅\n",
       "Π₂⋅Π₄⋅Π₂⋅Π₄⋅Π₁⋅Π₄)"
      ]
     },
     "metadata": {},
     "output_type": "display_data"
    }
   ],
   "source": [
    "#Simplify objective using the orthogonality relations of the graph\n",
    "display(objective.subs(gDicts))  \n",
    "objective_ = objective.subs(gDicts)\n"
   ]
  },
  {
   "cell_type": "code",
   "execution_count": 124,
   "metadata": {},
   "outputs": [
    {
     "name": "stdout",
     "output_type": "stream",
     "text": [
      "1.44721359549996*Π_0 + 0.50631990099834*Π_0*Π_2 - 2.54992616372413*Π_0*Π_2*Π_4*Π_1 + 0.0249223594996216*Π_1 + 18.9640772918993*Π_1*Π_4*Π_1 - 6.80895705245476*Π_1*Π_4*Π_1*Π_4*Π_1 + 0.810241289468414*Π_1*Π_4*Π_1*Π_4*Π_2 - 3.67134658131212*Π_1*Π_4*Π_2 - 2.54992616372413*Π_1*Π_4*Π_2*Π_0 - 0.337012819708448*Π_1*Π_4*Π_2*Π_0*Π_2 - 17.7362520995107*Π_1*Π_4*Π_2*Π_4*Π_1 + 3.43223718036529*Π_1*Π_4*Π_2*Π_4*Π_2 + 0.447213595499959*Π_2 + 0.50631990099834*Π_2*Π_0 + 0.126024438241778*Π_2*Π_0*Π_2 - 0.337012819708448*Π_2*Π_0*Π_2*Π_4*Π_1 - 3.67134658131212*Π_2*Π_4*Π_1 + 0.810241289468414*Π_2*Π_4*Π_1*Π_4*Π_1 - 0.393670535019895*Π_2*Π_4*Π_2 + 3.43223718036529*Π_2*Π_4*Π_2*Π_4*Π_1 + 2.23606797749979*(1.17082039324994*Π_2 + 1.51339645797671*Π_2*Π_0*Π_2 - 1.03064284105144*Π_2*Π_4*Π_2) + 2.23606797749979*(0.00951949424901162*Π_4*Π_1*Π_4 + 7.24363296022549*Π_4*Π_1*Π_4*Π_1*Π_4 - 2.60079016609942*Π_4*Π_1*Π_4*Π_1*Π_4*Π_1*Π_4 + 0.810241289468413*Π_4*Π_1*Π_4*Π_1*Π_4*Π_2*Π_4 - 0.337012819708448*Π_4*Π_1*Π_4*Π_2*Π_0*Π_2*Π_4 - 3.67134658131212*Π_4*Π_1*Π_4*Π_2*Π_4 - 6.77464546897642*Π_4*Π_1*Π_4*Π_2*Π_4*Π_1*Π_4 + 3.43223718036528*Π_4*Π_1*Π_4*Π_2*Π_4*Π_2*Π_4 + 0.329936262730088*Π_4*Π_2*Π_0*Π_2*Π_4 - 0.337012819708448*Π_4*Π_2*Π_0*Π_2*Π_4*Π_1*Π_4 + 1.17082039324994*Π_4*Π_2*Π_4 - 3.67134658131212*Π_4*Π_2*Π_4*Π_1*Π_4 + 0.810241289468413*Π_4*Π_2*Π_4*Π_1*Π_4*Π_1*Π_4 - 1.03064284105144*Π_4*Π_2*Π_4*Π_2*Π_4 + 3.43223718036528*Π_4*Π_2*Π_4*Π_2*Π_4*Π_1*Π_4)\n"
     ]
    }
   ],
   "source": [
    "print(objective_)"
   ]
  },
  {
   "cell_type": "markdown",
   "metadata": {},
   "source": [
    "## Debugging (checking swap isometry, version 2)"
   ]
  },
  {
   "cell_type": "markdown",
   "metadata": {
    "heading_collapsed": true
   },
   "source": [
    "### cEn"
   ]
  },
  {
   "cell_type": "code",
   "execution_count": 120,
   "metadata": {
    "hidden": true
   },
   "outputs": [],
   "source": [
    "#e.g. if cEn(\"202\") is called, {symName:symVal} is returned where\n",
    "# symName = A[2]*A[0]*A[2], symVal = the expectation value using iF\n",
    "\n",
    "def cEn(inVal,sym=A):\n",
    "    iF=idealFid()\n",
    "    iVal=[int(inVal[0])] #index of the first\n",
    "    symName_=[sym[iVal[0]]]  #symbol corresponding to the first\n",
    "     #blank\n",
    "    for i_ in inVal[1:]:\n",
    "        i=int(i_)\n",
    "        symName_.append(symName_[-1] * sym[i]) #because with symbols, it is a pain, they are immutable so need to use new ones\n",
    "        iVal.append(i)\n",
    "    \n",
    "    rsymName_ = [sym[iVal[-1]]] #symbol corresponding to the last\n",
    "    riVal = [iVal[-1]]\n",
    "    \n",
    "    for i in reversed(iVal[:-1]):\n",
    "        riVal.append(i)\n",
    "        rsymName_.append(rsymName_[-1]*sym[i])\n",
    "    \n",
    "        \n",
    "        \n",
    "    symVal=iF.idealVal(iVal)\n",
    "    symName = symName_[-1]\n",
    "    \n",
    "    rsymVal = iF.idealVal(riVal)\n",
    "    rsymName = rsymName_[-1]\n",
    "    \n",
    "#     print(sym[0])\n",
    "#     print(symName)\n",
    "#     print(symVal)\n",
    "    dictElement = {symName:symVal,rsymName:rsymVal}\n",
    "#     print(dictElement)\n",
    "    return dictElement"
   ]
  },
  {
   "cell_type": "markdown",
   "metadata": {},
   "source": [
    "### Terms"
   ]
  },
  {
   "cell_type": "code",
   "execution_count": 121,
   "metadata": {},
   "outputs": [
    {
     "name": "stdout",
     "output_type": "stream",
     "text": [
      "{Π_2*Π_4*Π_2*Π_4*Π_1: 0.06524758424985277, Π_1*Π_4*Π_2*Π_4*Π_2: 0.06524758424985277, Π_2*Π_4*Π_1*Π_4*Π_1: 0.06524758424985283, Π_1*Π_4*Π_1*Π_4*Π_2: 0.06524758424985282, Π_2*Π_0*Π_2*Π_4*Π_1: 0.06524758424985277, Π_1*Π_4*Π_2*Π_0*Π_2: 0.06524758424985279, Π_1*Π_4*Π_2*Π_4*Π_1: 0.06524758424985279, Π_1*Π_4*Π_1*Π_4*Π_1: 0.06524758424985284} {Π_0*Π_2*Π_4*Π_1: 0.10557280900008412, Π_1*Π_4*Π_2*Π_0: 0.10557280900008413} {Π_1*Π_4*Π_1: 0.17082039324993697, Π_2*Π_4*Π_1: 0.17082039324993692, Π_1*Π_4*Π_2: 0.17082039324993692, Π_2*Π_4*Π_2: 0.17082039324993686, Π_4*Π_2*Π_4: 0.17082039324993686, Π_4*Π_1*Π_4: 0.17082039324993697, Π_2*Π_0*Π_2: 0.17082039324993686} {Π_2*Π_0: 0.276393202250021, Π_0*Π_2: 0.276393202250021} {Π_4: 0.4472135954999579, Π_2: 0.4472135954999579, Π_1: 0.4472135954999579, Π_0: 0.4472135954999579}\n"
     ]
    }
   ],
   "source": [
    "T6 = {}\n",
    "\n",
    "\n",
    "\n",
    "\n",
    "T6.update(cEn(\"\"))\n",
    "\n",
    "\n",
    "T5 = {}\n",
    "\n",
    "T5.update(cEn(\"24241\"))\n",
    "T5.update(cEn(\"24141\"))\n",
    "T5.update(cEn(\"20241\"))\n",
    "T5.update(cEn(\"14241\"))\n",
    "T5.update(cEn(\"14202\"))\n",
    "T5.update(cEn(\"14142\"))\n",
    "T5.update(cEn(\"14141\"))\n",
    "T5.update(cEn(\"14242\"))\n",
    "\n",
    "T4 = {}\n",
    "\n",
    "T4.update(cEn(\"0241\"))\n",
    "\n",
    "T3 = {}\n",
    "\n",
    "T3.update(cEn(\"141\"))\n",
    "T3.update(cEn(\"241\"))\n",
    "T3.update(cEn(\"142\"))\n",
    "T3.update(cEn(\"242\"))\n",
    "T3.update(cEn(\"424\"))\n",
    "T3.update(cEn(\"414\"))\n",
    "T3.update(cEn(\"202\"))\n",
    "\n",
    "T2 = {}\n",
    "\n",
    "T2.update(cEn(\"20\"))\n",
    "\n",
    "T1 = {}\n",
    "\n",
    "T1.update(cEn(\"4\"))\n",
    "T1.update(cEn(\"2\"))\n",
    "T1.update(cEn(\"1\"))\n",
    "T1.update(cEn(\"0\"))\n",
    "\n",
    "print(T5,T4,T3,T2,T1)\n"
   ]
  },
  {
   "cell_type": "code",
   "execution_count": 122,
   "metadata": {},
   "outputs": [
    {
     "data": {
      "text/latex": [
       "$\\displaystyle 3.14673624577261$"
      ],
      "text/plain": [
       "3.14673624577261"
      ]
     },
     "execution_count": 122,
     "metadata": {},
     "output_type": "execute_result"
    }
   ],
   "source": [
    "out = objective.subs(gDicts)\n",
    "out.subs(T5).subs(T4).subs(T3).subs(T2).subs(T1)"
   ]
  },
  {
   "cell_type": "markdown",
   "metadata": {},
   "source": [
    "### Testing list comprehension"
   ]
  },
  {
   "cell_type": "code",
   "execution_count": 87,
   "metadata": {},
   "outputs": [
    {
     "name": "stdout",
     "output_type": "stream",
     "text": [
      "6\n"
     ]
    }
   ],
   "source": [
    "temp1=\"123\"\n",
    "summe=0\n",
    "for t in temp1:\n",
    "    k=int(t)\n",
    "    summe+=k\n",
    "print(summe)    "
   ]
  },
  {
   "cell_type": "code",
   "execution_count": 132,
   "metadata": {},
   "outputs": [
    {
     "name": "stdout",
     "output_type": "stream",
     "text": [
      "['0', '1', '2', '2', '02', '41', '20', '142', '202', '241', '242', '1420', '0241', '4241', '14141', '14142', '14202', '14242', '20241', '24141', '24241', '202', '242', '414', '41414', '4141414', '4141424', '4142024', '41424', '4142414', '4142424', '42024', '4202414', '424', '42414', '4241414', '42424', '4242414']\n",
      "None\n"
     ]
    }
   ],
   "source": [
    "temp=[\"0\",\"1\",\"2\",\"2\",\"02\",\"41\",\"20\",\"142\",\"202\",\"241\",\"242\",\"1420\",\"0241\",\"4241\",\"14141\",\"14142\",\"14202\",\"14242\",\"20241\",\"24141\",\"24241\",\"202\",\"242\",\"414\",\"41414\",\"4141414\",\"4141424\",\"4142024\",\"41424\",\"4142414\",\"4142424\",\"42024\",\"4202414\",\"424\",\"42414\",\"4241414\",\"42424\",\"4242414\"]\n",
    "print(temp)\n",
    "print(temp.sort(key=len))"
   ]
  },
  {
   "cell_type": "markdown",
   "metadata": {
    "heading_collapsed": true
   },
   "source": [
    "## Debugging (checking swap isometry)"
   ]
  },
  {
   "cell_type": "code",
   "execution_count": 28,
   "metadata": {
    "hidden": true
   },
   "outputs": [],
   "source": [
    "T_24241_ = sq.qapply(sp.N(iKCBS.Πs[2]*iKCBS.Πs[4]*iKCBS.Πs[2]*iKCBS.Πs[4]*iKCBS.Πs[1]))\n",
    "T_24241 = sq.qapply(iKCBS.br[0]*T_24241_*iKCBS.ke[0])\n",
    "T_24141_ = sq.qapply(sp.N(iKCBS.Πs[2]*iKCBS.Πs[4]*iKCBS.Πs[1]*iKCBS.Πs[4]*iKCBS.Πs[1]))\n",
    "T_24141 = sq.qapply(iKCBS.br[0]*T_24141_*iKCBS.ke[0])\n",
    "T_20241_ = sq.qapply(sp.N(iKCBS.Πs[2]*iKCBS.Πs[0]*iKCBS.Πs[2]*iKCBS.Πs[4]*iKCBS.Πs[1]))\n",
    "T_20241 = sq.qapply(iKCBS.br[0]*T_20241_*iKCBS.ke[0])\n",
    "T_14241_ = sq.qapply(sp.N(iKCBS.Πs[1]*iKCBS.Πs[4]*iKCBS.Πs[2]*iKCBS.Πs[4]*iKCBS.Πs[1]))\n",
    "T_14241 = sq.qapply(iKCBS.br[0]*T_14241_*iKCBS.ke[0])\n",
    "T_14202_ = sq.qapply(sp.N(iKCBS.Πs[1]*iKCBS.Πs[4]*iKCBS.Πs[2]*iKCBS.Πs[0]*iKCBS.Πs[2]))\n",
    "T_14202 = sq.qapply(iKCBS.br[0]*T_14202_*iKCBS.ke[0])\n",
    "T_14142_ = sq.qapply(sp.N(iKCBS.Πs[1]*iKCBS.Πs[4]*iKCBS.Πs[1]*iKCBS.Πs[4]*iKCBS.Πs[2]))\n",
    "T_14142 = sq.qapply(iKCBS.br[0]*T_14142_*iKCBS.ke[0])\n",
    "T_14141_ = sq.qapply(sp.N(iKCBS.Πs[1]*iKCBS.Πs[4]*iKCBS.Πs[1]*iKCBS.Πs[4]*iKCBS.Πs[1]))\n",
    "T_14141 = sq.qapply(iKCBS.br[0]*T_14141_*iKCBS.ke[0])\n",
    "T_14242_ = sq.qapply(sp.N(iKCBS.Πs[1]*iKCBS.Πs[4]*iKCBS.Πs[2]*iKCBS.Πs[4]*iKCBS.Πs[2]))\n",
    "T_14242 = sq.qapply(iKCBS.br[0]*T_14242_*iKCBS.ke[0])\n",
    "\n",
    "T_0241_ = sq.qapply(sp.N(iKCBS.Πs[0]*iKCBS.Πs[2]*iKCBS.Πs[4]*iKCBS.Πs[1]))\n",
    "T_0241 = sq.qapply(iKCBS.br[0]*T_0241_*iKCBS.ke[0])\n",
    "T_1420_ = sq.qapply(sp.N(iKCBS.Πs[1]*iKCBS.Πs[4]*iKCBS.Πs[2]*iKCBS.Πs[0]))\n",
    "T_1420 = sq.qapply(iKCBS.br[0]*T_1420_*iKCBS.ke[0])\n",
    "\n",
    "T_141_ = sq.qapply(sp.N(iKCBS.Πs[1]*iKCBS.Πs[4]*iKCBS.Πs[1]))\n",
    "T_141 = sq.qapply(iKCBS.br[0]*T_141_*iKCBS.ke[0])\n",
    "T_241_ = sq.qapply(sp.N(iKCBS.Πs[2]*iKCBS.Πs[4]*iKCBS.Πs[1]))\n",
    "T_241 = sq.qapply(iKCBS.br[0]*T_241_*iKCBS.ke[0])\n",
    "T_142_ = sq.qapply(sp.N(iKCBS.Πs[1]*iKCBS.Πs[4]*iKCBS.Πs[2]))\n",
    "T_142 = sq.qapply(iKCBS.br[0]*T_142_*iKCBS.ke[0])\n",
    "T_242_ = sq.qapply(sp.N(iKCBS.Πs[2]*iKCBS.Πs[4]*iKCBS.Πs[2]))\n",
    "T_242 = sq.qapply(iKCBS.br[0]*T_242_*iKCBS.ke[0])\n",
    "T_424_ = sq.qapply(sp.N(iKCBS.Πs[4]*iKCBS.Πs[2]*iKCBS.Πs[4]))\n",
    "T_424 = sq.qapply(iKCBS.br[0]*T_424_*iKCBS.ke[0])\n",
    "T_414_ = sq.qapply(sp.N(iKCBS.Πs[4]*iKCBS.Πs[1]*iKCBS.Πs[4]))\n",
    "T_414 = sq.qapply(iKCBS.br[0]*T_414_*iKCBS.ke[0])\n",
    "T_202_ = sq.qapply(sp.N(iKCBS.Πs[2]*iKCBS.Πs[0]*iKCBS.Πs[2]))\n",
    "T_202 = sq.qapply(iKCBS.br[0]*T_202_*iKCBS.ke[0])\n",
    "T_20_ = sq.qapply(sp.N(iKCBS.Πs[2]*iKCBS.Πs[0]))\n",
    "T_20 = sq.qapply(iKCBS.br[0]*T_20_*iKCBS.ke[0])\n",
    "T_02_ = sq.qapply(sp.N(iKCBS.Πs[0]*iKCBS.Πs[2]))\n",
    "T_02 = sq.qapply(iKCBS.br[0]*T_02_*iKCBS.ke[0])\n",
    "T_4_ = sq.qapply(sp.N(iKCBS.Πs[4]))\n",
    "T_4 = sq.qapply(iKCBS.br[0]*T_4_*iKCBS.ke[0])\n",
    "T_2_ = sq.qapply(sp.N(iKCBS.Πs[2]))\n",
    "T_2 = sq.qapply(iKCBS.br[0]*T_2_*iKCBS.ke[0])\n",
    "T_1_ = sq.qapply(sp.N(iKCBS.Πs[1]))\n",
    "T_1 = sq.qapply(iKCBS.br[0]*T_1_*iKCBS.ke[0])\n",
    "T_0_ = sq.qapply(sp.N(iKCBS.Πs[0]))\n",
    "T_0 = sq.qapply(iKCBS.br[0]*T_0_*iKCBS.ke[0])"
   ]
  },
  {
   "cell_type": "code",
   "execution_count": 32,
   "metadata": {
    "hidden": true
   },
   "outputs": [],
   "source": [
    "sanDict1 = {A[0]:T_0, A[1]: T_1, A[2]: T_2, A[4]: T_4}\n",
    "sanDict2 = {A[0]*A[2]: T_02,A[2]*A[0]: T_20}\n",
    "sanDict3 = {A[2]*A[0]*A[2]: T_202, A[4]*A[1]*A[4]: T_414, A[4]*A[2]*A[4]: T_424 , A[2]*A[4]*A[2]: T_242 , A[1]*A[4]*A[2]: T_142,A[2]*A[4]*A[1]: T_241 , A[1]*A[4]*A[1]: T_141  }\n",
    "sanDict4 = {A[0]*A[2]*A[4]*A[1]: T_0241,A[1]*A[4]*A[2]*A[0]: T_1420}\n",
    "sanDict5 = {A[1]*A[4]*A[2]*A[4]*A[2]: T_14242,A[1]*A[4]*A[1]*A[4]*A[1]: T_14141,A[1]*A[4]*A[1]*A[4]*A[2]: T_14142,A[1]*A[4]*A[2]*A[0]*A[2]: T_14202, A[1]*A[4]*A[2]*A[4]*A[1]: T_14241,A[2]*A[0]*A[2]*A[4]*A[1]: T_20241,A[2]*A[4]*A[1]*A[4]*A[1]: T_24141,A[2]*A[4]*A[2]*A[4]*A[1]: T_24241}"
   ]
  },
  {
   "cell_type": "code",
   "execution_count": 33,
   "metadata": {
    "hidden": true
   },
   "outputs": [
    {
     "data": {
      "text/latex": [
       "$\\displaystyle 1.00020543148321$"
      ],
      "text/plain": [
       "1.00020543148321"
      ]
     },
     "execution_count": 33,
     "metadata": {},
     "output_type": "execute_result"
    }
   ],
   "source": [
    "out = objective.subs(gDicts)\n",
    "out.subs(sanDict5).subs(sanDict4).subs(sanDict3).subs(sanDict2).subs(sanDict1)"
   ]
  },
  {
   "cell_type": "markdown",
   "metadata": {
    "heading_collapsed": true
   },
   "source": [
    "## Zero list (useless?)"
   ]
  },
  {
   "cell_type": "code",
   "execution_count": 52,
   "metadata": {
    "hidden": true
   },
   "outputs": [],
   "source": [
    "# display(objective.subs(gDicts))\n",
    "# print(gDicts)\n",
    "# print(gDicts)\n",
    "# glabaDict={A[0]*A[1]:sp.Integer(0)}\n",
    "# print(glabaDict)\n",
    "# # display(sp.expand(objective).subs(glabaDict))\n",
    "# # display(sp.expand(objective).args[3].args[1].args[0])\n",
    "# # print(isinstance(sp.expand(objective).args[3].args[1].args[0],sp.Symbol))\n",
    "# # print(isinstance(A[0],sp.Symbol))\n",
    "# obj=sp.expand(objective)\n",
    "# l=0\n",
    "# for _ in obj.args:\n",
    "#     l+=1\n",
    "#     print(\"num:\",l)\n",
    "#     display(_.subs(gDicts))\n",
    "#     for __ in _.args:\n",
    "#         print(\"subterm\")\n",
    "#         display(__)\n",
    "#         if __ == A[0]:\n",
    "#             print(\"matched!\")\n",
    "        \n",
    "#display(objective.args[0])\n",
    "# expr=12*A[0]*A[1]\n",
    "# expr2=12*iKCBS._Πs[0]*iKCBS._Πs[1]\n",
    "# display(expr)\n",
    "# display(expr.subs(glabaDict))\n",
    "\n",
    "# display(expr2)\n",
    "# display(expr2.subs(glabaDict))\n",
    "\n",
    "# for _ in expr.args:\n",
    "#     display(_)\n",
    "\n",
    "# daggerDict={}\n",
    "# for i in range(5):\n",
    "#     daggerDict[sq.Dagger(A[i])]=A[i]"
   ]
  },
  {
   "cell_type": "code",
   "execution_count": 53,
   "metadata": {
    "hidden": true
   },
   "outputs": [],
   "source": [
    "zeroDict={}\n",
    "zeroList=[]\n",
    "for _ in L1:\n",
    "    for _2 in L1:\n",
    "        if _ in G[_2]: #share an edge\n",
    "            zeroDict[_*_2]=0\n",
    "            zeroList.append(_*_2)\n",
    "\n",
    "#print(zeroDict);"
   ]
  },
  {
   "cell_type": "markdown",
   "metadata": {
    "heading_collapsed": true
   },
   "source": [
    "## Creating the matrix of symbols (just for show; useless)"
   ]
  },
  {
   "cell_type": "code",
   "execution_count": null,
   "metadata": {
    "hidden": true
   },
   "outputs": [],
   "source": [
    "#creating the matrix\n",
    "\n",
    "matList=[]\n",
    "\n",
    "for _ in L:\n",
    "    matList.append([_*_2 for _2 in L])\n",
    "\n",
    "#print(matList)\n",
    "\n",
    "sp.Matrix(matList);"
   ]
  },
  {
   "cell_type": "markdown",
   "metadata": {},
   "source": [
    "## Sympy says hello to Cvxpy"
   ]
  },
  {
   "cell_type": "code",
   "execution_count": 59,
   "metadata": {
    "code_folding": [
     44,
     64
    ],
    "scrolled": false
   },
   "outputs": [
    {
     "name": "stdout",
     "output_type": "stream",
     "text": [
      "Adding constraintst from the objective\n",
      "row of  1\n",
      "row of  Π_0\n",
      "row of  Π_1\n",
      "row of  Π_2\n",
      "row of  Π_3\n",
      "row of  Π_4\n",
      "row of  Π_0**2\n",
      "row of  Π_0*Π_1\n",
      "row of  Π_0*Π_2\n",
      "row of  Π_0*Π_3\n",
      "row of  Π_0*Π_4\n",
      "row of  Π_1*Π_0\n",
      "row of  Π_1**2\n",
      "row of  Π_1*Π_2\n",
      "row of  Π_1*Π_3\n",
      "row of  Π_1*Π_4\n",
      "row of  Π_2*Π_0\n",
      "row of  Π_2*Π_1\n",
      "row of  Π_2**2\n",
      "row of  Π_2*Π_3\n",
      "row of  Π_2*Π_4\n",
      "row of  Π_3*Π_0\n",
      "row of  Π_3*Π_1\n",
      "row of  Π_3*Π_2\n",
      "row of  Π_3**2\n",
      "row of  Π_3*Π_4\n",
      "row of  Π_4*Π_0\n",
      "row of  Π_4*Π_1\n",
      "row of  Π_4*Π_2\n",
      "row of  Π_4*Π_3\n",
      "row of  Π_4**2\n",
      "done\n",
      "Adding constraints from the graph\n",
      "done\n",
      "Adding constraints from Quantum Mechanics\n",
      "Row of  1\n",
      "Row of  Π_0\n",
      "Row of  Π_1\n",
      "Row of  Π_2\n",
      "Row of  Π_3\n",
      "Row of  Π_4\n",
      "Row of  Π_0**2\n",
      "Row of  Π_0*Π_1\n",
      "Row of  Π_0*Π_2\n",
      "Row of  Π_0*Π_3\n",
      "Row of  Π_0*Π_4\n",
      "Row of  Π_1*Π_0\n",
      "Row of  Π_1**2\n",
      "Row of  Π_1*Π_2\n",
      "Row of  Π_1*Π_3\n",
      "Row of  Π_1*Π_4\n",
      "Row of  Π_2*Π_0\n",
      "Row of  Π_2*Π_1\n",
      "Row of  Π_2**2\n",
      "Row of  Π_2*Π_3\n",
      "Row of  Π_2*Π_4\n",
      "Row of  Π_3*Π_0\n",
      "Row of  Π_3*Π_1\n",
      "Row of  Π_3*Π_2\n",
      "Row of  Π_3**2\n",
      "Row of  Π_3*Π_4\n",
      "Row of  Π_4*Π_0\n",
      "Row of  Π_4*Π_1\n",
      "Row of  Π_4*Π_2\n",
      "Row of  Π_4*Π_3\n",
      "Row of  Π_4**2\n",
      "done\n"
     ]
    }
   ],
   "source": [
    "#L is the alphabet, to wit: it is the list of letters\n",
    "#\n",
    "X = cp.Variable((len(L),len(L)),symmetric=True)\n",
    "\n",
    "lI = I[0]\n",
    "\n",
    "#>> is for matrix inequality\n",
    "constraints = [X >> 0,X[sTi[lI],sTi[lI]]==1]\n",
    "\n",
    "#objective\n",
    "#y = objective.subs({A[0]:X[sTi[A[0]]],A[1]:X[sTi[A[1]]]})\n",
    "#y = objective.subs({A[0]:sTi[A[0]],A[1]:sTi[A[1]]})\n",
    "\n",
    "\n",
    "# objective function evaluated (loop over product of all letters)\n",
    "y = 0\n",
    "\n",
    "print(\"Adding constraintst from the objective\")\n",
    "termsUsed = []\n",
    "for l1 in L:\n",
    "    print(\"row of \",l1)\n",
    "    for l2 in L:\n",
    "        if l1 != lI or l2 != lI: #this is because if we ask for the coefficient of 1, things get messed up\n",
    "            term = l1*l2\n",
    "            \n",
    "            #the same term can be represented by many elements in the matrix\n",
    "            #we satisfy ourselves with picking just one of them\n",
    "            if not(term in termsUsed):\n",
    "                termsUsed.append(term)                \n",
    "                eX = X[sTi[l1]][sTi[l2]] #picks the corresponding element from the variable matrix of the SDP library\n",
    "                #print(eX)\n",
    "                coeff = sp.N(findCoeff(objective_,l1*l2))\n",
    "                #display(l1*l2)\n",
    "                if isinstance(coeff,sp.Number): #evaluates the coff of l1*l2 in the objective\n",
    "                    #coeff = sp.N(objective.coeff(l1*l2)) #evaluates the coff of l1*l2 in the objective\n",
    "                    #display(coeff)                    \n",
    "                    y += coeff*eX\n",
    "                #else:\n",
    "                    #print(\"strange coeff\")\n",
    "                    #display(coeff)\n",
    "print(\"done\")\n",
    "\n",
    "print(\"Adding constraints from the graph\")\n",
    "#Constraints from the graph (these come from single letters)        \n",
    "for l1 in L1:\n",
    "    for l2 in L1:\n",
    "        eX = X[sTi[l1]][sTi[l2]] #picks the corresponding element from the variable matrix of the SDP library\n",
    "        if l1 in G[l2]:\n",
    "            constraints += [eX == 0]\n",
    "\n",
    "print(\"done\")\n",
    "        #print(coeff,sTi[l1])\n",
    "        #display(l1)\n",
    "\n",
    "#constraints from the fact that Π^2=Π\n",
    "# for l in L1:\n",
    "#     constraints += [ X[sTi[lI]][sTi[l]] == X[sTi[l]][sTi[l]] ]\n",
    "#     #constraints to match with experiment\n",
    "\n",
    "print(\"Adding constraints from Quantum Mechanics\")\n",
    "dictTerms = {}\n",
    "#lettersUsed = []\n",
    "for l1 in L:\n",
    "    print(\"Row of \",l1)\n",
    "    for l2 in L:\n",
    "        term = l1*l2\n",
    "\n",
    "        \n",
    "        tS=[term]\n",
    "        #display(term)\n",
    "        for i in range(lDepth+1):\n",
    "            tS.append(tS[-1].subs(sqDicts))\n",
    "        simTerm=tS[-1]\n",
    "        #display(simTerm)\n",
    "\n",
    "        if not(simTerm in dictTerms):\n",
    "            dictTerms.update({simTerm:[l1,l2]})            \n",
    "        else:\n",
    "            l1_=dictTerms[simTerm][0]\n",
    "            l2_=dictTerms[simTerm][1]\n",
    "            #print(l1_,l2_)            \n",
    "            #print(sTi[l1_],sTi[l2_])\n",
    "            \n",
    "            #print(l1,l2)            \n",
    "            #print(sTi[l1],sTi[l2])\n",
    "            \n",
    "            #constraints += [ X[sTi[l1]][sTi[l2]] == X[sTi[l1_]][sTi[l2_]] ] \n",
    "            # print(X[sTi[l1]][sTi[l2]])\n",
    "            # print(X[sTi[l1_]][sTi[l2_]])\n",
    "            constraints += [ X[sTi[l1]][sTi[l2]] == X[sTi[l1_]][sTi[l2_]] ]\n",
    "\n",
    "        #Orthogonality from the graph\n",
    "        if simTerm.subs(gDicts)==sp.Integer(0):\n",
    "            constraints += [ X[sTi[l1]][sTi[l2]] == 0 ]\n",
    "        del tS\n",
    "        \n",
    "print(\"done\")\n",
    "# display(y)\n",
    "\n",
    "# display(objective.args[0])\n",
    "# display(objective.args[1])\n",
    "\n",
    "\n",
    "#expr=A[0]*A[0]*A[0]*A[1]*A[0]*A[1]\n",
    "\n",
    "\n",
    "\n",
    "\n",
    "#         term = l1*l2\n",
    "\n",
    "\n",
    "#         tS=[term]\n",
    "#         #display(term)\n",
    "#         for i in range(lDepth+1):\n",
    "#             tS.append(tS[-1].subs(sqDicts))\n",
    "#         simTerm=tS[-1]\n",
    "#         #display(simTerm)\n",
    "\n",
    "#         if not(simTerm in dictTerms):\n",
    "#             dictTerms.update({simTerm:[l1,l2]})            \n",
    "#         else:\n",
    "#             l1_=dictTerms[simTerm][0]\n",
    "#             l2_=dictTerms[simTerm][1]\n",
    "#             #print(l1_,l2_)            \n",
    "#             #print(sTi[l1_],sTi[l2_])\n",
    "\n",
    "#             #print(l1,l2)            \n",
    "#             #print(sTi[l1],sTi[l2])\n",
    "\n",
    "#             #constraints += [ X[sTi[l1]][sTi[l2]] == X[sTi[l1_]][sTi[l2_]] ] \n",
    "#             # print(X[sTi[l1]][sTi[l2]])\n",
    "#             # print(X[sTi[l1_]][sTi[l2_]])\n",
    "#             constraints += [ X[sTi[l1]][sTi[l2]] == X[sTi[l1_]][sTi[l2_]] ]\n",
    "\n",
    "#         #Orthogonality from the graph\n",
    "#         if simTerm.subs(gDicts)==sp.Integer(0):\n",
    "#             constraints += [ X[sTi[l1]][sTi[l2]] == 0 ]\n",
    "#         del tS\n",
    "\n",
    "\n",
    "\n",
    "#display(tS[-1])\n",
    "\n",
    "\n",
    "# powDicts={}\n",
    "# for i in range(len(L1)):\n",
    "#     powDicts.update({A[i]**k:A[i] for k in range(2,lDepth+4)[::-1]})\n",
    "\n",
    "\n",
    "#expr.subs(powDicts)\n",
    "\n",
    "# display(expr.subs(sqDicts))\n",
    "# display(expr.subs(powDicts).subs(powDicts))\n",
    "\n",
    "#expr\n",
    "\n",
    "#dict={A[i]**k:A[i] for k in range(lDepth)}\n",
    "\n",
    "#print(powDicts)\n",
    "\n",
    "#result=expr.subs({A[0]*A[0]:A[1]}); result\n",
    "#result=sp.refine(expr,)\n"
   ]
  },
  {
   "cell_type": "code",
   "execution_count": 60,
   "metadata": {},
   "outputs": [],
   "source": [
    "#######################Constraints from the observations\n",
    "\n",
    "a=1/np.sqrt(5)-0.001\n",
    "data = [a,a,a,a,a]\n",
    "\n",
    "j=0\n",
    "for l1 in L1:    \n",
    "    constraints += [ X[sTi[l1],sTi[l1]] == data[j] ]\n",
    "    j+=1\n",
    "    \n",
    "del j"
   ]
  },
  {
   "cell_type": "code",
   "execution_count": 61,
   "metadata": {
    "code_folding": []
   },
   "outputs": [],
   "source": [
    "# # depth=0\n",
    "# # depthThresh=20\n",
    "\n",
    "# def findCoeff(obj,lett):\n",
    "# #     global depth\n",
    "    \n",
    "# #     print(\"Parent object:\")\n",
    "# #     display(obj)\n",
    "    \n",
    "#     if(obj==None):\n",
    "# #         print(\"coefficent is zero\")\n",
    "#         return 0\n",
    "#     elif not (isinstance(obj,sp.Mul) or isinstance(obj,sp.Add)):        \n",
    "#         #the coefficient may be one but we couldn't see it earlier\n",
    "#         return obj.coeff(lett)\n",
    "#     else:\n",
    "#         #try to find the coefficient directly        \n",
    "#         result=obj.coeff(lett)\n",
    "#         #Did not work? \n",
    "#         if(result==0):\n",
    "#             #try for each segment\n",
    "#             for _ in obj.args:\n",
    "# #                 print(\"child:\")\n",
    "# #                 display(_)\n",
    "#                 result=_.coeff(lett)\n",
    "# #                 print(\"coefficient of child:\",result)\n",
    "                \n",
    "#                 #still did not work?\n",
    "#                 if(result==0):\n",
    "#                     #try recursing\n",
    "#                     result = findCoeff(_,lett)    \n",
    "                \n",
    "#                 #found? Stop searching\n",
    "#                 if(result!=0):\n",
    "#                     break\n",
    "#                     #return result\n",
    "\n",
    "#         #return whatever was found | worked\n",
    "#         return result\n",
    "\n",
    "\n",
    "# # def findCoeff2(obj,lett):   \n",
    "# #     global depth\n",
    "# # #     result=obj.coeff(lett)\n",
    "# # #     if result!=0:\n",
    "# # #         print(\"nonzero\")\n",
    "# # #         print(result)\n",
    "# # #         return result\n",
    "# # #     else:\n",
    "# #     print(obj)\n",
    "# #     for _ in obj.args:\n",
    "# #         display(_)\n",
    "# #         if depth>depthThresh:\n",
    "# #             print(\"depth exceeded\")\n",
    "# #             return 0\n",
    "# #         elif _==None:\n",
    "# #             print(\"coeffecient is zero\")\n",
    "# #             return 0\n",
    "# #         else:\n",
    "# #             depth+=1\n",
    "# #             result=obj.coeff(lett)\n",
    "# #             #print(depth)\n",
    "# #             if result!=0:\n",
    "# #                 print(\"result was:\",result)\n",
    "# #             else:\n",
    "# #                 print(\"recursing\")\n",
    "# #                 print(\"_ is\",_)\n",
    "# #                 #if isinstance(_,sp.Mul):\n",
    "# #                 result=findCoeff(_,lett)\n",
    "            \n",
    "# #             return result\n",
    "# # #     if \n",
    "# # #                 else:\n",
    "# # #                     return 0\n",
    "# # #         else:\n",
    "# # #             print(\"depth exceeded\")\n",
    "# # #             return 0\n",
    "            \n"
   ]
  },
  {
   "cell_type": "code",
   "execution_count": 62,
   "metadata": {},
   "outputs": [
    {
     "name": "stdout",
     "output_type": "stream",
     "text": [
      "----------------------------------------------------------------------------\n",
      "\tSCS v2.1.1 - Splitting Conic Solver\n",
      "\t(c) Brendan O'Donoghue, Stanford University, 2012\n",
      "----------------------------------------------------------------------------\n",
      "Lin-sys: sparse-direct, nnz in A = 2237\n",
      "eps = 1.00e-04, alpha = 1.50, max_iters = 5000, normalize = 1, scale = 1.00\n",
      "acceleration_lookback = 10, rho_x = 1.00e-03\n",
      "Variables n = 496, constraints m = 1727\n",
      "Cones:\tprimal zero / dual free vars: 1231\n",
      "\tsd vars: 496, sd blks: 1\n",
      "Setup time: 5.48e-03s\n",
      "----------------------------------------------------------------------------\n",
      " Iter | pri res | dua res | rel gap | pri obj | dua obj | kap/tau | time (s)\n",
      "----------------------------------------------------------------------------\n",
      "     0| 7.05e+19  2.84e+20  1.00e+00 -3.00e+21  2.70e+22  9.49e+21  4.62e-03 \n",
      "    60| 1.21e+14  3.10e+14  9.06e-03 -2.76e+21 -2.71e+21  4.95e+19  4.62e-02 \n",
      "----------------------------------------------------------------------------\n",
      "Status: Unbounded\n",
      "Timing: Solve time: 4.63e-02s\n",
      "\tLin-sys: nnz in L factor: 4930, avg solve time: 1.22e-05s\n",
      "\tCones: avg projection time: 1.78e-04s\n",
      "\tAcceleration: avg step time: 4.61e-04s\n",
      "----------------------------------------------------------------------------\n",
      "Certificate of dual infeasibility:\n",
      "dist(s, K) = 1.2466e-09\n",
      "|Ax + s|_2 * |c|_2 = 8.9472e-06\n",
      "c'x = -1.0000\n",
      "============================================================================\n",
      "max: -inf\n",
      "----------------------------------------------------------------------------\n",
      "\tSCS v2.1.1 - Splitting Conic Solver\n",
      "\t(c) Brendan O'Donoghue, Stanford University, 2012\n",
      "----------------------------------------------------------------------------\n",
      "Lin-sys: sparse-direct, nnz in A = 2237\n",
      "eps = 1.00e-04, alpha = 1.50, max_iters = 5000, normalize = 1, scale = 1.00\n",
      "acceleration_lookback = 10, rho_x = 1.00e-03\n",
      "Variables n = 496, constraints m = 1727\n",
      "Cones:\tprimal zero / dual free vars: 1231\n",
      "\tsd vars: 496, sd blks: 1\n",
      "Setup time: 5.42e-03s\n",
      "----------------------------------------------------------------------------\n",
      " Iter | pri res | dua res | rel gap | pri obj | dua obj | kap/tau | time (s)\n",
      "----------------------------------------------------------------------------\n",
      "     0| 7.26e+19  2.88e+20  1.00e+00 -2.96e+21  2.71e+22  9.49e+21  4.38e-03 \n",
      "   100| 2.32e-01  6.56e-01  1.89e-02 -8.56e+01 -8.89e+01  5.38e-15  5.76e-02 \n",
      "   200| 8.59e+12  2.29e+13  4.52e-04 -7.45e+19 -7.44e+19  6.74e+16  1.07e-01 \n",
      "----------------------------------------------------------------------------\n",
      "Status: Unbounded\n",
      "Timing: Solve time: 1.08e-01s\n",
      "\tLin-sys: nnz in L factor: 4930, avg solve time: 1.28e-05s\n",
      "\tCones: avg projection time: 2.11e-04s\n",
      "\tAcceleration: avg step time: 2.59e-04s\n",
      "----------------------------------------------------------------------------\n",
      "Certificate of dual infeasibility:\n",
      "dist(s, K) = 1.7124e-09\n",
      "|Ax + s|_2 * |c|_2 = 2.3577e-05\n",
      "c'x = -1.0000\n",
      "============================================================================\n",
      "min: inf\n"
     ]
    }
   ],
   "source": [
    "probMin = cp.Problem(-3*cp.Maximize(-y),constraints)\n",
    "probMax = cp.Problem(-3*cp.Maximize(y),constraints)\n",
    "#prob.solve()\n",
    "#prob.solve(solver=cp.CVXOPT,verbose=True,**{'':ldl,'refinement':20,'show_progress':True,'feastol':10e-10,'reltol':10e-10,'abstol':10e-10})\n",
    "try: \n",
    "    print(\"max:\",probMax.solve(verbose=True))\n",
    "except:\n",
    "    print(\"max:gla\")\n",
    "try:\n",
    "    print(\"min:\",-probMin.solve(verbose=True))\n",
    "except:\n",
    "    print(\"min:ba\")"
   ]
  },
  {
   "cell_type": "code",
   "execution_count": 164,
   "metadata": {},
   "outputs": [],
   "source": [
    "import cvxopt as co\n",
    "\n"
   ]
  },
  {
   "cell_type": "markdown",
   "metadata": {},
   "source": [
    "## Inputs"
   ]
  },
  {
   "cell_type": "code",
   "execution_count": null,
   "metadata": {},
   "outputs": [],
   "source": []
  }
 ],
 "metadata": {
  "celltoolbar": "Initialization Cell",
  "kernelspec": {
   "display_name": "Python 3",
   "language": "python",
   "name": "python3"
  },
  "language_info": {
   "codemirror_mode": {
    "name": "ipython",
    "version": 3
   },
   "file_extension": ".py",
   "mimetype": "text/x-python",
   "name": "python",
   "nbconvert_exporter": "python",
   "pygments_lexer": "ipython3",
   "version": "3.7.5"
  },
  "toc": {
   "base_numbering": 1,
   "nav_menu": {},
   "number_sections": true,
   "sideBar": true,
   "skip_h1_title": false,
   "title_cell": "Table of Contents",
   "title_sidebar": "Contents",
   "toc_cell": false,
   "toc_position": {
    "height": "711.818px",
    "left": "588px",
    "top": "469.284px",
    "width": "165px"
   },
   "toc_section_display": true,
   "toc_window_display": true
  }
 },
 "nbformat": 4,
 "nbformat_minor": 2
}
