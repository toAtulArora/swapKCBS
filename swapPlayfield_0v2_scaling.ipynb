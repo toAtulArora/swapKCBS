{
 "cells": [
  {
   "cell_type": "markdown",
   "metadata": {
    "heading_collapsed": true
   },
   "source": [
    "# Libraries"
   ]
  },
  {
   "cell_type": "code",
   "execution_count": 17,
   "metadata": {
    "hidden": true,
    "init_cell": true
   },
   "outputs": [],
   "source": [
    "import numpy as np\n",
    "import sympy as sp\n",
    "import sympy.physics.quantum as sq\n",
    "import sympy.physics.quantum.qubit as sqq\n",
    "import sympy.physics.quantum.gate as sqg\n",
    "\n",
    "import cvxpy as cp\n",
    "\n",
    "import matplotlib.pyplot as plt\n",
    "import networkx as nx\n",
    "\n",
    "sp.init_printing(use_latex='mathjax')\n",
    "from IPython.display import display\n",
    "\n",
    "\n",
    "import pickle\n",
    "import dill\n",
    "dill.settings['recurse'] = True"
   ]
  },
  {
   "cell_type": "markdown",
   "metadata": {
    "heading_collapsed": true,
    "hidden": true
   },
   "source": [
    "## idealFid"
   ]
  },
  {
   "cell_type": "code",
   "execution_count": 18,
   "metadata": {
    "hidden": true,
    "init_cell": true
   },
   "outputs": [],
   "source": [
    "class idealFid:\n",
    "    \n",
    "    def __init__(s):\n",
    "        P1 = s.proj(1,5)\n",
    "        P2 = s.proj(2,5)\n",
    "        P3 = s.proj(3,5)\n",
    "        P4 = s.proj(4,5)\n",
    "        P5 = s.proj(5,5)\n",
    "        s.P = [P1,P2,P3,P4,P5]\n",
    "        s.terms = 5\n",
    "\n",
    "    def proj(s,j,n):\n",
    "        pi=np.pi\n",
    "        temp1 = np.cos(pi/n)/(1+np.cos(pi/n))\n",
    "        temp2 = 1-temp1\n",
    "        temp3 = j*pi*(n-1)/n\n",
    "        vec = np.asarray([np.sqrt(temp1),np.sqrt(temp2)*np.sin(temp3), np.sqrt(temp2)*np.cos(temp3)])\n",
    "        mat = np.outer(vec,vec)\n",
    "        return mat\n",
    "    \n",
    "    \n",
    "    def idealVal(s,projList):\n",
    "        op = s.P[projList[0]]\n",
    "        for iProj in projList[1:]:\n",
    "            op = op@s.P[iProj]\n",
    "        return op[0,0]\n",
    "    "
   ]
  },
  {
   "cell_type": "markdown",
   "metadata": {
    "heading_collapsed": true,
    "hidden": true
   },
   "source": [
    "## Extending the braket library to include orthogonality"
   ]
  },
  {
   "cell_type": "code",
   "execution_count": 19,
   "metadata": {
    "hidden": true,
    "init_cell": true
   },
   "outputs": [],
   "source": [
    "class onStruct:\n",
    "    G = nx.Graph()\n",
    "\n",
    "class onKet(sq.Ket,onStruct):\n",
    "    def _eval_innerproduct(self,bra,**hints):\n",
    "        #Check if the innerproduct is with yourself, then set 1\n",
    "        if sq.Dagger(bra) == self:\n",
    "            return sp.Integer(1)\n",
    "        #Else, if the innerproduct is with a neighbor from the graph, set 0\n",
    "        elif sq.Dagger(bra) in G[self]:\n",
    "            return sp.Integer(0)\n",
    "        #Else, do nothing; not enough information\n",
    "    \n",
    "    @classmethod\n",
    "    def set_on_rel(cls,givenG):\n",
    "        cls.G=givenG\n",
    "    \n",
    "    @classmethod\n",
    "    def dual_class(self):\n",
    "        return onBra\n",
    "\n",
    "    \n",
    "class onBra(sq.Bra,onStruct):\n",
    "    @classmethod\n",
    "    def dual_class(self):\n",
    "        return onKet"
   ]
  },
  {
   "cell_type": "code",
   "execution_count": 20,
   "metadata": {
    "hidden": true,
    "init_cell": true
   },
   "outputs": [],
   "source": [
    "class bKet(sq.Ket):\n",
    "    \n",
    "    #total number of kets (automatically increases as new instances are initialised)\n",
    "    totalKets=0\n",
    "    \n",
    "    #this method automates the increase\n",
    "    @classmethod\n",
    "    def _eval_args(cls,args):\n",
    "        #validate input type\n",
    "        if not isinstance(args[0],int):\n",
    "            raise ValueError(\"Integer expected in the argument, got: %r\"%args[0])\n",
    "\n",
    "        #if a ket |5> is initialised, the dimension is assumed to be 6 since we have |0>,|1>,...|5>\n",
    "        if int(args[0])+1 > cls.totalKets:\n",
    "            cls.totalKets=args[0]+1\n",
    "        \n",
    "        #pass control back to the base class\n",
    "        return sq.Ket._eval_args(args) \n",
    "    \n",
    "    #Could not find a way of using just one function; need to go through the two\n",
    "    #based on a combination of the qubit implementation and the \n",
    "    def _represent_default_basis(s,**options):\n",
    "        return s._represent_bKet(None,**options) #syntax taken from the Qubit library\n",
    "    \n",
    "    def _represent_bKet(s,basis,**options): #_represent_default_basis\n",
    "        a=np.zeros(s.__class__.totalKets,dtype=int)\n",
    "        a[s.label[0]]=1\n",
    "        return sp.Matrix(a)\n",
    "    \n",
    "    @classmethod\n",
    "    def set_dimension(cls,arg):\n",
    "        cls.totalKets=arg\n",
    "    \n",
    "    def _eval_innerproduct(self,bra,**hints):\n",
    "        #Check if the innerproduct is with yourself, then set 1\n",
    "        if sq.Dagger(bra) == self:\n",
    "            return sp.Integer(1)\n",
    "        #Else, if the innerproduct is with a neighbor from the graph, set 0\n",
    "        else:\n",
    "            return sp.Integer(0)\n",
    "        #Else, do nothing; not enough information\n",
    "    \n",
    "\n",
    "    @classmethod\n",
    "    def dual_class(self):\n",
    "        return bBra\n",
    "\n",
    "    \n",
    "class bBra(sq.Bra):\n",
    "    # @classmethod\n",
    "    # def _eval_args(cls,args):\n",
    "    #     return args\n",
    "    \n",
    "    @classmethod\n",
    "    def dual_class(cls):\n",
    "        return bKet"
   ]
  },
  {
   "cell_type": "markdown",
   "metadata": {
    "heading_collapsed": true,
    "hidden": true
   },
   "source": [
    "### Debugging | representation example"
   ]
  },
  {
   "cell_type": "code",
   "execution_count": null,
   "metadata": {
    "hidden": true
   },
   "outputs": [],
   "source": [
    "class SzUpKet(sq.Ket):\n",
    "    def _represent_SzUpKet(s,basis,**options):\n",
    "        return sp.Matrix([1,0])\n",
    "    \n",
    "#     def _represent_SzOp(s,basis,**options):\n",
    "#         return sp.Matrix([1,0])\n",
    "\n",
    "class SzOp(sq.Operator):\n",
    "    pass\n",
    "\n",
    "sz = SzOp('Sz')\n",
    "up = SzUpKet('up')\n",
    "sq.represent(up,basis=SzUpKet) #,basis=sz)"
   ]
  },
  {
   "cell_type": "markdown",
   "metadata": {
    "heading_collapsed": true,
    "hidden": true
   },
   "source": [
    "### Testing | Dimension increasing?"
   ]
  },
  {
   "cell_type": "code",
   "execution_count": null,
   "metadata": {
    "hidden": true
   },
   "outputs": [],
   "source": [
    "# class bKet(sq.Ket):\n",
    "    \n",
    "#     #total number of kets (automatically increases as new instances are initialised)\n",
    "#     totalKets=0\n",
    "    \n",
    "#     #this method automates the increase\n",
    "#     @classmethod\n",
    "#     def _eval_args(cls,args):\n",
    "#         #validate input type\n",
    "#         if not isinstance(args[0],int):\n",
    "#             raise ValueError(\"Integer expected in the argument, got: %r\"%args[0])\n",
    "\n",
    "#         #if a ket |5> is initialised, the dimension is assumed to be 6 since we have |0>,|1>,...|5>\n",
    "#         if int(args[0])+1 > cls.totalKets:\n",
    "#             cls.totalKets=args[0]+1\n",
    "        \n",
    "#         #pass control back to the base class\n",
    "#         return sq.Ket._eval_args(args) \n",
    "    \n",
    "#     #Could not find a way of using just one function; need to go through the two\n",
    "#     #based on a combination of the qubit implementation and the \n",
    "#     def _represent_default_basis(s,**options):\n",
    "#         return s._represent_bKet(None,**options) #syntax taken from the Qubit library\n",
    "    \n",
    "#     def _represent_bKet(s,basis,**options): #_represent_default_basis\n",
    "#         a=np.zeros(s.__class__.totalKets,dtype=int)\n",
    "#         a[s.label[0]]=1\n",
    "#         return sp.Matrix(a)\n",
    "    \n",
    "#     @classmethod\n",
    "#     def set_dimension(cls,arg):\n",
    "#         cls.totalKets=arg\n",
    "    \n",
    "#     def _eval_innerproduct(self,bra,**hints):\n",
    "#         #Check if the innerproduct is with yourself, then set 1\n",
    "#         if sq.Dagger(bra) == self:\n",
    "#             return sp.Integer(1)\n",
    "#         #Else, if the innerproduct is with a neighbor from the graph, set 0\n",
    "#         else:\n",
    "#             return sp.Integer(0)\n",
    "#         #Else, do nothing; not enough information\n",
    "    \n",
    "\n",
    "#     @classmethod\n",
    "#     def dual_class(self):\n",
    "#         return bBra\n",
    "\n",
    "    \n",
    "# class bBra(sq.Bra):\n",
    "#     # @classmethod\n",
    "#     # def _eval_args(cls,args):\n",
    "#     #     return args\n",
    "    \n",
    "#     @classmethod\n",
    "#     def dual_class(cls):\n",
    "#         return bKet"
   ]
  },
  {
   "cell_type": "code",
   "execution_count": null,
   "metadata": {
    "hidden": true
   },
   "outputs": [],
   "source": [
    "a=bKet(0)\n",
    "\n",
    "b=a*sq.Dagger(a)\n",
    "\n",
    "print(bKet.totalKets)\n",
    "sq.represent(a)\n",
    "\n",
    "c=bKet(3);\n",
    "sq.represent(a)\n",
    "sq.represent(b)\n",
    "sq.represent(c)"
   ]
  },
  {
   "cell_type": "code",
   "execution_count": null,
   "metadata": {
    "hidden": true
   },
   "outputs": [],
   "source": [
    "a=bKet(0); a"
   ]
  },
  {
   "cell_type": "code",
   "execution_count": null,
   "metadata": {
    "hidden": true
   },
   "outputs": [],
   "source": [
    "sq.represent(a)"
   ]
  },
  {
   "cell_type": "code",
   "execution_count": null,
   "metadata": {
    "hidden": true
   },
   "outputs": [],
   "source": [
    "b=bKet(1); b"
   ]
  },
  {
   "cell_type": "code",
   "execution_count": null,
   "metadata": {
    "hidden": true
   },
   "outputs": [],
   "source": [
    "sq.represent(b)"
   ]
  },
  {
   "cell_type": "code",
   "execution_count": null,
   "metadata": {
    "hidden": true
   },
   "outputs": [],
   "source": [
    "sq.represent(a)"
   ]
  },
  {
   "cell_type": "code",
   "execution_count": null,
   "metadata": {
    "hidden": true
   },
   "outputs": [],
   "source": [
    "c=bKet(3); c"
   ]
  },
  {
   "cell_type": "code",
   "execution_count": null,
   "metadata": {
    "hidden": true
   },
   "outputs": [],
   "source": [
    "sq.represent(a)"
   ]
  },
  {
   "cell_type": "markdown",
   "metadata": {
    "heading_collapsed": true,
    "hidden": true
   },
   "source": [
    "## Extending the tensor product functionality—tsimp and tdsimp"
   ]
  },
  {
   "cell_type": "code",
   "execution_count": 21,
   "metadata": {
    "hidden": true,
    "init_cell": true
   },
   "outputs": [],
   "source": [
    "\n",
    "def powerDrop(expr):\n",
    "    if isinstance(expr,sp.Pow): #TODO: make sure the base is not too complex\n",
    "        # print(\"PowerEncountered\")\n",
    "        if expr.exp>=2:\n",
    "            # print(\"glaba\")\n",
    "            # display(expr.base)\n",
    "            _=sq.qapply(sp.Mul(expr.base,expr.base))\n",
    "            if expr.exp>2:\n",
    "                return powerDrop(_*sp.Pow(expr.base,expr.exp-2))\n",
    "            else:\n",
    "                return _\n",
    "        else:\n",
    "            return expr #autoDropDim(sp.Mul(expr.base,expr.base))\n",
    "    else:\n",
    "        if expr.has(sp.Pow):\n",
    "            #if it is a sum or a product, run this function for each part and then combine the parts; return the result\n",
    "            if isinstance(expr,sp.Mul) or isinstance(expr,sp.Add) or isinstance(expr,sq.TensorProduct):\n",
    "                new_args=[] #list(expr.args)\n",
    "                for _ in expr.args:\n",
    "                    new_args.append(powerDrop(_))\n",
    "                if isinstance(expr,sp.Mul):        \n",
    "                    return sp.Mul(*new_args)\n",
    "                elif isinstance(expr,sp.Add):\n",
    "                    return sp.Add(*new_args)  \n",
    "                elif isinstance(expr,sq.TensorProduct):\n",
    "                    return sq.TensorProduct(*new_args)  \n",
    "\n",
    "            else:\n",
    "                return expr\n",
    "            #There would be no else here because tensor product simp would have removed that part\n",
    "        else:\n",
    "            return expr        \n",
    "    \n",
    "def autoDropDim(expr):\n",
    "    #print(\"Expression\")\n",
    "    #if isinstance(expr,sp.Mul):\n",
    "        #print(\"type:multiplier\")\n",
    "    #display(expr)\n",
    "    \n",
    "    \n",
    "    if isinstance(expr,sq.TensorProduct):\n",
    "        new_args=[]\n",
    "        for _ in expr.args:\n",
    "            #display(_)\n",
    "            #print(type(_))\n",
    "            if _ != sp.Integer(1):\n",
    "            #if not isinstance(_,core.numbers.One):\n",
    "                new_args.append(_)\n",
    "        #print(\"TensorProduct with %d non-ones in the tensor product\"%len(new_args))\n",
    "        if(len(new_args)==0):\n",
    "            return sp.Integer(1)\n",
    "        else:\n",
    "            return sq.TensorProduct(*new_args)\n",
    "    else:\n",
    "        if expr.has(sq.TensorProduct):\n",
    "            #if it is a sum or a product, run this function for each part and then combine the parts; return the result\n",
    "            if isinstance(expr,sp.Mul) or isinstance(expr,sp.Add):\n",
    "                new_args=[] #list(expr.args)\n",
    "                for _ in expr.args:\n",
    "                    new_args.append(autoDropDim(_))\n",
    "                if isinstance(expr,sp.Mul):        \n",
    "                    return sp.Mul(*new_args)\n",
    "                elif isinstance(expr,sp.Add):\n",
    "                    return sp.Add(*new_args)  \n",
    "                \n",
    "            #There would be no else here because tensor product simp would have removed that part\n",
    "        else:\n",
    "            return expr #when the expression is just an integer or some such\n",
    "\n",
    "\n",
    "        \n",
    "def tsimp(e,pruneMe=True):\n",
    "    res=sq.qapply(powerDrop(sq.tensorproduct.tensor_product_simp(sq.qapply(e)).doit()))\n",
    "    if pruneMe:\n",
    "        return prune(res)\n",
    "    else:\n",
    "        return res\n",
    "\n",
    "def tdsimp(e,pruneMe=True):\n",
    "    res=autoDropDim(sq.qapply(powerDrop(autoDropDim(sq.tensorproduct.tensor_product_simp(sq.qapply(e)).doit()))))\n",
    "    if pruneMe:\n",
    "        return prune(res)\n",
    "    else:\n",
    "        return res\n",
    "    #return autoDropDim(sq.tensorproduct.tensor_product_simp_Mul(e).doit())\n",
    "    #return autoDropDim(sq.tensorproduct.tensor_product_simp_Mul(sq.qapply(e)).doit())\n",
    "    #return autoDropDim(sq.tensorproduct.tensor_product_simp(e).doit())"
   ]
  },
  {
   "cell_type": "markdown",
   "metadata": {
    "heading_collapsed": true,
    "hidden": true
   },
   "source": [
    "## Find Coeff was not reliable"
   ]
  },
  {
   "cell_type": "code",
   "execution_count": 22,
   "metadata": {
    "hidden": true,
    "init_cell": true
   },
   "outputs": [],
   "source": [
    "# depth=0\n",
    "# depthThresh=20\n",
    "\n",
    "def findCoeff(obj,lett):\n",
    "#     global depth\n",
    "    \n",
    "#     print(\"Parent object:\")\n",
    "#     display(obj)\n",
    "    \n",
    "    if(obj==None):\n",
    "#         print(\"coefficent is zero\")\n",
    "        return 0\n",
    "    elif not (isinstance(obj,sp.Mul) or isinstance(obj,sp.Add)):        \n",
    "        #the coefficient may be one but we couldn't see it earlier\n",
    "        return obj.coeff(lett)\n",
    "    else:\n",
    "        #try to find the coefficient directly        \n",
    "        result=obj.coeff(lett)\n",
    "        #Did not work? \n",
    "        if(result==0):\n",
    "            #try for each segment\n",
    "            for _ in obj.args:\n",
    "#                 print(\"child:\")\n",
    "#                 display(_)\n",
    "                result=_.coeff(lett)\n",
    "#                 print(\"coefficient of child:\",result)\n",
    "                \n",
    "                #still did not work?\n",
    "                if(result==0):\n",
    "                    #try recursing\n",
    "                    result = findCoeff(_,lett)    \n",
    "                \n",
    "                #found? Stop searching\n",
    "                if(result!=0):\n",
    "                    break\n",
    "                    #return result\n",
    "\n",
    "        #return whatever was found | worked\n",
    "        return result\n",
    "\n"
   ]
  },
  {
   "cell_type": "markdown",
   "metadata": {
    "hidden": true
   },
   "source": [
    "## Prune"
   ]
  },
  {
   "cell_type": "code",
   "execution_count": 23,
   "metadata": {
    "hidden": true,
    "init_cell": true
   },
   "outputs": [],
   "source": [
    "def prune(expr,thr=10,remNum=False):\n",
    "    if isinstance(expr,sp.Number): \n",
    "        if remNum==False:\n",
    "            if sp.Abs(expr)<10**(-thr):\n",
    "                return sp.Integer(0)\n",
    "            else:\n",
    "                return expr\n",
    "        else:\n",
    "            return sp.Integer(1)\n",
    "    else:\n",
    "        if expr.has(sp.Number):\n",
    "            #if it is a sum or a product, run this function for each part and then combine the parts; return the result\n",
    "            if isinstance(expr,sp.Mul) or isinstance(expr,sp.Add) or isinstance(expr,sq.TensorProduct):\n",
    "                new_args=[] #list(expr.args)\n",
    "                for _ in expr.args:\n",
    "                    new_args.append(prune(_,thr,remNum))\n",
    "                if isinstance(expr,sp.Mul):        \n",
    "                    return sp.Mul(*new_args)\n",
    "                elif isinstance(expr,sp.Add):\n",
    "                    return sp.Add(*new_args)  \n",
    "                elif isinstance(expr,sq.TensorProduct):\n",
    "                    return sq.TensorProduct(*new_args)  \n",
    "\n",
    "            else:\n",
    "                return expr\n",
    "            #There would be no else here because tensor product simp would have removed that part\n",
    "        else:\n",
    "            return expr        \n",
    "\n",
    "# test=(A[0]*2)\n",
    "# test.has(sp.Number)\n",
    "# prune(test,remNum=True)"
   ]
  },
  {
   "cell_type": "markdown",
   "metadata": {
    "heading_collapsed": true
   },
   "source": [
    "# Swap KCBS | Playfield "
   ]
  },
  {
   "cell_type": "markdown",
   "metadata": {
    "heading_collapsed": true,
    "hidden": true
   },
   "source": [
    "## Inputs"
   ]
  },
  {
   "cell_type": "code",
   "execution_count": null,
   "metadata": {
    "hidden": true
   },
   "outputs": [],
   "source": [
    "class inputs:\n",
    "    graphSize = 5\n",
    "    p = 1/np.sqrt(5)*np.array([1,1,1,1,1])"
   ]
  },
  {
   "cell_type": "markdown",
   "metadata": {
    "heading_collapsed": true,
    "hidden": true
   },
   "source": [
    "## The Sympy Part | playground"
   ]
  },
  {
   "cell_type": "code",
   "execution_count": null,
   "metadata": {
    "hidden": true
   },
   "outputs": [],
   "source": [
    "k0 = sq.Ket('φ')\n",
    "k1 = sq.Ket('ψ')\n",
    "superposition = k0+k1; superposition"
   ]
  },
  {
   "cell_type": "code",
   "execution_count": null,
   "metadata": {
    "hidden": true
   },
   "outputs": [],
   "source": [
    "inner_prod = sq.Dagger(superposition)*superposition; inner_prod"
   ]
  },
  {
   "cell_type": "code",
   "execution_count": null,
   "metadata": {
    "hidden": true
   },
   "outputs": [],
   "source": [
    "sq.qapply(inner_prod)"
   ]
  },
  {
   "cell_type": "code",
   "execution_count": null,
   "metadata": {
    "hidden": true
   },
   "outputs": [],
   "source": [
    "density = sq.qapply(superposition*sq.Dagger(superposition)); density"
   ]
  },
  {
   "cell_type": "code",
   "execution_count": null,
   "metadata": {
    "hidden": true
   },
   "outputs": [],
   "source": [
    "qubit_state = sqq.Qubit('00'); qubit_state"
   ]
  },
  {
   "cell_type": "code",
   "execution_count": null,
   "metadata": {
    "hidden": true
   },
   "outputs": [],
   "source": [
    "isinstance(qubit_state,sq.State)"
   ]
  },
  {
   "cell_type": "code",
   "execution_count": null,
   "metadata": {
    "hidden": true
   },
   "outputs": [],
   "source": [
    "gate_operator = sqg.HadamardGate(0); gate_operator"
   ]
  },
  {
   "cell_type": "code",
   "execution_count": null,
   "metadata": {
    "hidden": true
   },
   "outputs": [],
   "source": [
    "isinstance(gate_operator,sq.Operator)"
   ]
  },
  {
   "cell_type": "code",
   "execution_count": null,
   "metadata": {
    "hidden": true
   },
   "outputs": [],
   "source": [
    "\n",
    "a=sqq.Qubit(0)\n",
    "b=sqq.Qubit(1)\n",
    "\n",
    "d = sq.qapply(sq.Dagger(a)*b).doit(); d"
   ]
  },
  {
   "cell_type": "markdown",
   "metadata": {
    "heading_collapsed": true,
    "hidden": true
   },
   "source": [
    "### Playing with classes"
   ]
  },
  {
   "cell_type": "code",
   "execution_count": null,
   "metadata": {
    "hidden": true
   },
   "outputs": [],
   "source": [
    "class A:\n",
    "    gla=1\n",
    "\n",
    "class B:\n",
    "    glaba=3\n",
    "    \n",
    "class C(B,A):\n",
    "    glow=4\n",
    "\n",
    "c=C()\n",
    "\n",
    "print(isinstance(c,A),isinstance(c,B),isinstance(c,C))\n"
   ]
  },
  {
   "cell_type": "markdown",
   "metadata": {
    "heading_collapsed": true,
    "hidden": true
   },
   "source": [
    "### Kishor meets the class"
   ]
  },
  {
   "cell_type": "code",
   "execution_count": null,
   "metadata": {
    "hidden": true
   },
   "outputs": [],
   "source": [
    "class Person:\n",
    "    name=\"blank\"\n",
    "    \n",
    "    def set_name(self,arg):\n",
    "        self.name = arg\n",
    "    \n",
    "    @property\n",
    "    def myName(self):\n",
    "        return self.name\n",
    "\n",
    "    def get_name(self):\n",
    "        return self.name\n",
    "    \n",
    "Kishor = Person() \n",
    "Kishor.set_name(\"Bharti\")\n",
    "\n",
    "M = Person()\n",
    "M.set_name(\"M\")\n",
    "\n",
    "\n",
    "\n",
    "print(M.myName, Kishor.myName, M.get_name() )\n",
    "\n",
    "print(M.myName,Kishor.myName)"
   ]
  },
  {
   "cell_type": "code",
   "execution_count": null,
   "metadata": {
    "hidden": true
   },
   "outputs": [],
   "source": [
    "class Person:\n",
    "    name=\"blank\"\n",
    "    compatibility=\"\"\n",
    "    \n",
    "    def set_name(self,arg):\n",
    "        self.name = arg\n",
    "    \n",
    "    @property\n",
    "    def myName(self):\n",
    "        return self.name\n",
    "    \n",
    "    @classmethod\n",
    "    def set_comp(cls,arg):\n",
    "        cls.compatibility=arg\n",
    "        \n",
    "    @classmethod\n",
    "    def get_comp(cls):\n",
    "        return cls.compatibility\n",
    "        \n",
    "    @property\n",
    "    def comp(self):\n",
    "        return self.compatibility\n",
    "    \n",
    "Kishor = Person() \n",
    "Kishor.set_name(\"Bharti\")\n",
    "\n",
    "M = Person()\n",
    "M.set_name(\"M\")\n",
    "\n",
    "Person.set_comp(\"M hates K\")\n",
    "print(Person.get_comp())\n",
    "\n",
    "print(M.myName,Kishor.myName)\n",
    "\n",
    "print(M.comp,Kishor.comp)"
   ]
  },
  {
   "cell_type": "code",
   "execution_count": null,
   "metadata": {
    "hidden": true
   },
   "outputs": [],
   "source": [
    "class A:\n",
    "    aVal=\"blank\"\n",
    "    \n",
    "    @property\n",
    "    def myVal(self):\n",
    "        return self.aVal\n",
    "\n",
    "class C:\n",
    "    cVal=\"blank3\"\n",
    "    \n",
    "    @property\n",
    "    def myVal3(self):\n",
    "        return self.cVal\n",
    "    \n",
    "class B(A,C):\n",
    "    bVal=\"blank2\"\n",
    "    \n",
    "    @property\n",
    "    def myVal2(self):\n",
    "        return self.bVal\n",
    "    \n",
    "a = B()\n",
    "\n",
    "print(a.myVal2,a.myVal,a.myVal3)"
   ]
  },
  {
   "cell_type": "markdown",
   "metadata": {
    "heading_collapsed": true,
    "hidden": true
   },
   "source": [
    "### Preliminary implementation of orthogonormal kets (uses labels)"
   ]
  },
  {
   "cell_type": "code",
   "execution_count": null,
   "metadata": {
    "hidden": true
   },
   "outputs": [],
   "source": [
    "class onKet(sq.Ket):\n",
    "#     a=1\n",
    "    \n",
    "    #@classmethod\n",
    "    #this @classmethod descriptor was killing it\n",
    "    #it was sending the class in \"self\" instead of the instance in \"self\"\n",
    "    #makes sense now\n",
    "    #I can perhaps use this to set orthogonality relations a little more generally\n",
    "    def _eval_innerproduct(self,bra,**hints):\n",
    "        #print(self.label,bra.label)\n",
    "        if self.label == bra.label:\n",
    "            return sp.Integer(1)\n",
    "        else:\n",
    "            return sp.Integer(0)\n",
    "    \n",
    "    @classmethod\n",
    "    def dual_class(self):\n",
    "        return onBra\n",
    "    @property\n",
    "    def iAm(self):\n",
    "        return self.label\n",
    "    \n",
    "class onBra(sq.Bra):\n",
    "#     a=2\n",
    "\n",
    "#     @classmethod\n",
    "#     def _eval_innerproduct(self,ket,**hints):\n",
    "#         if self.label == ket.label:\n",
    "#             return sp.Integer(1)\n",
    "#         else:\n",
    "#             return sp.Integer(0)\n",
    "    \n",
    "    @classmethod\n",
    "    def dual_class(self):\n",
    "        return onKet"
   ]
  },
  {
   "cell_type": "code",
   "execution_count": null,
   "metadata": {
    "hidden": true
   },
   "outputs": [],
   "source": [
    "a=onKet(0)\n",
    "b=onKet(1)"
   ]
  },
  {
   "cell_type": "code",
   "execution_count": null,
   "metadata": {
    "hidden": true
   },
   "outputs": [],
   "source": [
    "c=a+b; c"
   ]
  },
  {
   "cell_type": "code",
   "execution_count": null,
   "metadata": {
    "hidden": true
   },
   "outputs": [],
   "source": [
    "sq.qapply(sq.Dagger(b)*a).doit()"
   ]
  },
  {
   "cell_type": "code",
   "execution_count": null,
   "metadata": {
    "hidden": true
   },
   "outputs": [],
   "source": [
    "d=sq.Dagger(c)*b\n",
    "sq.qapply(d).doit()"
   ]
  },
  {
   "cell_type": "markdown",
   "metadata": {
    "heading_collapsed": true,
    "hidden": true
   },
   "source": [
    "### Orthogonal Ket, general orthogonality relation"
   ]
  },
  {
   "cell_type": "code",
   "execution_count": null,
   "metadata": {
    "hidden": true
   },
   "outputs": [],
   "source": [
    "class onStruct:\n",
    "    G = nx.Graph()\n",
    "\n",
    "class onKet(sq.Ket,onStruct):\n",
    "#     a=1\n",
    "    #@classmethod\n",
    "    #this @classmethod descriptor was killing it\n",
    "    #it was sending the class in \"self\" instead of the instance in \"self\"\n",
    "    #makes sense now\n",
    "    #I can perhaps use this to set orthogonality relations a little more generally\n",
    "    def _eval_innerproduct(self,bra,**hints):\n",
    "        #print(self.label,bra.label)        \n",
    "        if sq.Dagger(bra) == self:\n",
    "        #if self.label == bra.label:\n",
    "            return sp.Integer(1)\n",
    "        elif sq.Dagger(bra) in G[self]:\n",
    "            return sp.Integer(0)\n",
    "    \n",
    "    @classmethod\n",
    "    def set_on_rel(cls,givenG):\n",
    "        cls.G=givenG\n",
    "    \n",
    "    @classmethod\n",
    "    def dual_class(self):\n",
    "        return onBra\n",
    "\n",
    "    \n",
    "class onBra(sq.Bra,onStruct):\n",
    "#     a=2\n",
    "\n",
    "#     @classmethod\n",
    "#     def _eval_innerproduct(self,ket,**hints):\n",
    "#         if self.label == ket.label:\n",
    "#             return sp.Integer(1)\n",
    "#         else:\n",
    "#             return sp.Integer(0)    \n",
    "    @classmethod\n",
    "    def dual_class(self):\n",
    "        return onKet"
   ]
  },
  {
   "cell_type": "code",
   "execution_count": null,
   "metadata": {
    "hidden": true
   },
   "outputs": [],
   "source": [
    "#define the kets\n",
    "a=onKet(1)\n",
    "b=onKet(2)\n",
    "c=onKet(3)\n",
    "d=onKet(4)\n",
    "\n",
    "#define the orthogonality relation using a graph (edges mean orthogonal)\n",
    "G = nx.Graph()\n",
    "G.add_nodes_from([a,b,c,d])\n",
    "G.add_edges_from([[a,b],[b,c],[c,d],[d,a]])\n",
    "\n",
    "#Add this graph to the class\n",
    "onKet.set_on_rel(G)\n",
    "\n",
    "#test\n",
    "s1 = (a+b+c)/sp.sqrt(3)\n",
    "s2 = (b+c+d)/sp.sqrt(3)\n",
    "\n",
    "d = sq.Dagger(s1)*s2\n",
    "\n",
    "#simplify\n",
    "sq.qapply(d).doit()"
   ]
  },
  {
   "cell_type": "code",
   "execution_count": null,
   "metadata": {
    "hidden": true
   },
   "outputs": [],
   "source": [
    "#plot the graph for fun\n",
    "nx.draw(G, with_labels=True)"
   ]
  },
  {
   "cell_type": "code",
   "execution_count": null,
   "metadata": {
    "hidden": true
   },
   "outputs": [],
   "source": [
    "f=sq.Ket(\"f\")\n",
    "g=sq.Ket(\"g\")\n",
    "h=sq.TensorProduct(a,b)\n",
    "l=sq.TensorProduct(b,a)\n",
    "sq.qapply(sq.Dagger(h)*l).doit()"
   ]
  },
  {
   "cell_type": "markdown",
   "metadata": {
    "hidden": true
   },
   "source": [
    "### Playing with networks"
   ]
  },
  {
   "cell_type": "code",
   "execution_count": null,
   "metadata": {
    "hidden": true
   },
   "outputs": [],
   "source": [
    "G = nx.Graph()\n",
    "G.add_node(1)"
   ]
  },
  {
   "cell_type": "code",
   "execution_count": null,
   "metadata": {
    "hidden": true
   },
   "outputs": [],
   "source": [
    "G = nx.Graph()\n",
    "G.add_nodes_from([1,2,3,4,5])\n",
    "G.add_edges_from([[1,2],[2,3],[3,4],[4,5],[5,1]])"
   ]
  },
  {
   "cell_type": "code",
   "execution_count": null,
   "metadata": {
    "hidden": true
   },
   "outputs": [],
   "source": [
    "%matplotlib inline \n",
    "nx.draw(G, with_labels=True)"
   ]
  },
  {
   "cell_type": "code",
   "execution_count": null,
   "metadata": {
    "hidden": true
   },
   "outputs": [],
   "source": [
    "3 in G[1]"
   ]
  },
  {
   "cell_type": "markdown",
   "metadata": {},
   "source": [
    "# Ideal KCBS calculations"
   ]
  },
  {
   "cell_type": "markdown",
   "metadata": {},
   "source": [
    "## Working Version"
   ]
  },
  {
   "cell_type": "code",
   "execution_count": 24,
   "metadata": {
    "code_folding": [
     21,
     47,
     97,
     148
    ],
    "init_cell": true
   },
   "outputs": [],
   "source": [
    "\n",
    "class cls_iKCBS:    \n",
    "    \n",
    "    def __init__(s,n,verbose=False,thr=10,test=False,ForceCalc=False):\n",
    "        s.thr=thr\n",
    "        if verbose==True:\n",
    "            print(\"Creating projectors etc\")\n",
    "\n",
    "        cls_iKCBS.n=n\n",
    "        #j in 0,1,2,3,4\n",
    "        \n",
    "        s.ke = [bKet(j) for j in range(3)]    \n",
    "        s.br = [sq.Dagger(s.ke[j]) for j in range(3)]\n",
    "        \n",
    "        s.Πs = []\n",
    "                \n",
    "        ### N'd here\n",
    "        #evaluate the projectors for the ideal case\n",
    "        for j in range(n):\n",
    "            s.Πs.append(sp.N(s.eval(j,n)))\n",
    "\n",
    "        if(test and False):\n",
    "            print(\"Testing Πs\")\n",
    "            for i in range(n):\n",
    "                for k in range(n):\n",
    "                    print(\"Inner product of \",i,\" and \",k,\" projectors is\")\n",
    "                    temp=0\n",
    "                    for j in range(3):\n",
    "                        temp+=sq.qapply(s.br[j]*s.Πs[i]*s.Πs[k]*s.ke[j])\n",
    "                    print(temp)\n",
    "                    del temp\n",
    "                    \n",
    "   \n",
    "        #calculate the matrix representation\n",
    "        s.matΠs = [sq.represent(_) for _ in s.Πs] #I leave this as well to avoid breaking things; TODO: try to remove it\n",
    "        \n",
    "        ### N'd here\n",
    "        #the first two vectors are taken to be k'\n",
    "        s.kp = [sp.N(s.eval(0,n,True)),sp.N(s.eval(1,n,True))]\n",
    "        \n",
    "        #the third is constructed as k0 x k1 (cross product) and then added to the list\n",
    "        s.kp.append(sp.N(s.cross(s.kp)))\n",
    "        \n",
    "        \n",
    "        #evaluates the conjugate for each element in the list\n",
    "        s.bp=[sq.Dagger(ikp) for ikp in s.kp]                \n",
    "        \n",
    "        if(test):\n",
    "            #Testing orthogonality\n",
    "            print(\"Testing orthogonality of the braP and ketP objects\")\n",
    "            for braP in s.bp:\n",
    "                for ketP in s.kp:\n",
    "                    print(sq.qapply(braP*ketP))#sp.N(sq.qapply(braP*ketP)))\n",
    "        \n",
    "    \n",
    "        #the Translation operator\n",
    "        s.T = s.kp[0]*s.bp[2] + s.kp[1]*s.bp[0] + s.kp[2]*s.bp[1] \n",
    "        s.Ti = s.kp[2]*s.bp[0] + s.kp[0]*s.bp[1] + s.kp[1]*s.bp[2] #TODO: Automate this\n",
    "        \n",
    "        if(test):\n",
    "            print(\"Testing the basic Translation operator\")\n",
    "            for braP in s.bp:\n",
    "                for ketP in s.kp:\n",
    "                    #print(braP)\n",
    "                    print(sq.qapply(braP*s.T*ketP))#sp.N(sq.qapply(braP*ketP)))\n",
    "                    #print(sp.N(sq.qapply(sp.N(braP)*sp.N(s.T)*sp.N(ketP))))\n",
    "            display(sq.represent(s.T))\n",
    "\n",
    "        \n",
    "        #s.mT = s.mkp[0]*s.mbp[2] + s.mkp[1]*s.mbp[0] + s.mkp[2]*s.mbp[1] \n",
    "        #s.mTi = s.mkp[2]*s.mbp[0] + s.mkp[0]*s.mbp[1] + s.mkp[1]*s.mbp[2] #TODO: Automate this\n",
    "        \n",
    "        s.matT=sq.represent(s.T)\n",
    "        \n",
    "        #Now the abstract ones\n",
    "        \n",
    "        #creates n abstract projectors (basically just a bunch of non-commuting symbols)\n",
    "        s._Πs = sp.symbols('Π_0:%d'%n,commutative=False)\n",
    "        \n",
    "        s.daggerDict = {}\n",
    "        s.sqDict = {}\n",
    "        for i in range(n):\n",
    "            s.daggerDict[sq.Dagger(s._Πs[i])]=s._Πs[i]\n",
    "            s.sqDict[(s._Πs[i])*(s._Πs[i])]=s._Πs[i]\n",
    "        \n",
    "        #not very happy because it should come from the graph\n",
    "        s.gDict = {}\n",
    "        for i in range(n):\n",
    "            s.gDict[s._Πs[i]*s._Πs[(i+1)%n]]=sp.Integer(0)\n",
    "            s.gDict[s._Πs[(i+1)%n]*s._Πs[i]]=sp.Integer(0)\n",
    "        \n",
    "        if verbose==True:\n",
    "            print(\"Solving a linear system to find the coefficients for expressing the translation operator as a sum of projectors\")\n",
    "\n",
    "        s._T=s.eval_lin_c() #NB: it computes the coefficients into s.c    \n",
    "        \n",
    "        ##Debugging\n",
    "        if(test):\n",
    "            print(\"Converting the numerical solution into a usable form\")\n",
    "            numTDict={}\n",
    "            for i in range(n):\n",
    "                numTDict[s._Πs[i]]=s.Πs[i]\n",
    "            #display(s._T)\n",
    "            numT = s._T.subs(numTDict)\n",
    "            #display(numT)\n",
    "            print(\"Testing the numerically found Translation operator.\")\n",
    "            # for braP in s.bp:\n",
    "            #     for ketP in s.kp:\n",
    "            #         print(sq.qapply(braP*numT*ketP)) #sp.N(sq.qapply(braP*ketP)))\n",
    "            numMatT=sq.represent(numT)\n",
    "            display(sp.Transpose(numMatT) * numMatT)\n",
    "            \n",
    "            display(sq.represent(numT))\n",
    "            \n",
    "\n",
    "        if verbose==True:\n",
    "            print(\"Solving the cross Π\")\n",
    "        \n",
    "        s._Πcross = s.eval_lin_c(RHS=sq.represent(s.kp[2]*s.bp[2]))\n",
    "            \n",
    "        if verbose==True:\n",
    "            print(\"Evaluating the first term of F\")\n",
    "\n",
    "        if(test):\n",
    "            s.test_swapGate()\n",
    "            \n",
    "        if(not test):\n",
    "            \n",
    "            try:\n",
    "                y=dill.load(open(\"Fsaved\", \"rb\"))\n",
    "                s.F=y\n",
    "                print(\"Loaded from file\")\n",
    "            except:\n",
    "                y=None\n",
    "            \n",
    "            if y==None or ForceCalc==True:\n",
    "                print(\"Evaluating F\")\n",
    "                s.eval_state_hw()\n",
    "                s.Fs = [s.eval_state_F()]                        \n",
    "                for i in range(n):\n",
    "                    print(\"iteration: \",i)\n",
    "                    s.Fs.append(s.Fs[-1]+5.0*s.eval_state_F(s.Πs[i],s._Πs[i]))\n",
    "                s.F = s.Fs[-1] #last element, the most recent calculation\n",
    "                \n",
    "                dill.dump(s.F, open(\"Fsaved\", \"wb\"))\n",
    "                print(\"Saved to disk\")\n",
    "        \n",
    "        print(\"done\")\n",
    "        \n",
    "    def test_swapGate(s):\n",
    "        s.TP = sq.TensorProduct \n",
    "        s.T = s.kp[0]*s.bp[2] + s.kp[1]*s.bp[0] + s.kp[2]*s.bp[1] \n",
    "        s.Ti = s.kp[2]*s.bp[0] + s.kp[0]*s.bp[1] + s.kp[1]*s.bp[2] #TODO: Automate this\n",
    "        \n",
    "        Id_ = s.kp[0]*s.bp[0] + s.kp[1]*s.bp[1] + s.kp[2]*s.bp[2]\n",
    "        \n",
    "        dontDie=prune(sp.N(sq.qapply(s.T*s.T)))\n",
    "        \n",
    "        _U_=sq.represent(s.TP(Id_,s.kp[0]*s.bp[0])) + sq.represent(s.TP(s.T,s.kp[1]*s.bp[1])) \\\n",
    "        + sq.represent(s.TP(dontDie,s.kp[2]*s.bp[2]))\n",
    "        display(_U_)\n",
    "        \n",
    "        _T_=sq.represent(s.TP(Id_,s.kp[0]*s.bp[0] + s.kp[2]*s.bp[1] + s.kp[1]*s.bp[2]))\n",
    "        display(_T_)        \n",
    "        \n",
    "        #_V_= sq.represent(s.TP(s.kp[0]*s.bp[0],Id_) + s.TP(s.kp[1]*s.bp[1],s.Ti) + s.TP(s.kp[2]*s.bp[2],s.Ti*sp.N(s.Ti)))\n",
    "        _V_ = sq.represent(s.TP(s.Πs[0],Id_) + s.TP(s.Πs[1],s.Ti) + s.TP(s.Πs[2],s.Ti*sp.N(s.Ti)))\n",
    "        display(_V_)\n",
    "        \n",
    "        print(\"comparing the projectors with the ket based projectors\")\n",
    "        \n",
    "        display(sq.represent(s.kp[0]*s.bp[0]))\n",
    "        display(sq.represent(s.Πs[0]))\n",
    "\n",
    "        display(sq.represent(s.kp[1]*s.bp[1]))\n",
    "        display(sq.represent(s.Πs[1]))\n",
    "\n",
    "        display(sq.represent(s.kp[2]*s.bp[2]))\n",
    "        display(sq.represent(s.Πs[2]))\n",
    "        \n",
    "        print(\"did this work?\")\n",
    "        \n",
    "        \n",
    "        SWAP = _T_*_U_*_V_*_U_\n",
    "        display(SWAP)\n",
    "        \n",
    "        testVec=sq.represent(s.TP(s.ke[0],s.ke[1]))\n",
    "        print(\"Multiplying this\")\n",
    "        display(testVec)\n",
    "        display(SWAP*testVec)\n",
    "        \n",
    "    def eval_state_hw(s):\n",
    "        s.TP = sq.TensorProduct\n",
    "        dontDie=prune(sp.N(sq.qapply(s._T*s._T)))\n",
    "        s._U_=tsimp(s.TP(sp.Integer(1),prune(sp.N(s.kp[0]*s.bp[0]))) + s.TP(s._T,prune(sp.N(s.kp[1]*s.bp[1]))) + s.TP(dontDie,prune(sp.N(s.kp[2]*s.bp[2]))))\n",
    "        s._T_=s.TP(sp.Integer(1),prune(sp.N(s.kp[0]*s.bp[0])) + prune(sp.N(s.kp[2]*s.bp[1])) + prune(sp.N(s.kp[1]*s.bp[2])))\n",
    "        s._V_=prune(s.TP(s._Πs[0],sp.Integer(1)) + s.TP(s._Πs[1],prune(sp.N(s.Ti))) + s.TP(prune(s._Πcross),prune(sp.N(s.Ti)*sp.N(s.Ti))))\n",
    "        \n",
    "    \n",
    "    def eval_state_F(s,proj=sp.Integer(1),proj_=sp.Integer(1)):\n",
    "        s.TP = sq.TensorProduct #just to make naming easy\n",
    "            \n",
    "                                                                                            \n",
    "        print(\"Evaluated U,T,V; staying alive\")\n",
    "\n",
    "        _kin_ = s.TP(sp.Integer(1),sp.N(sq.qapply(proj*s.ke[0])))\n",
    "        _bin_ = s.TP(sp.Integer(1),sp.N(sq.qapply(s.br[0]*proj)))\n",
    "        \n",
    "        \n",
    "        _kout_ = s.TP(sp.Integer(1)*proj_,sp.N(s.kp[0])) #s.TP(sp.Integer(1),sp.N(s.kp[0]))\n",
    "        _bout_ = s.TP(sp.Integer(1)*proj_,sp.N(s.bp[0])) #s.TP(sp.Integer(1),sp.N(s.bp[0]))\n",
    "                                                                                             \n",
    "\n",
    "        print(\"evaluation stage:\")\n",
    "        F0=tsimp(_bin_ * s._T_).subs(s.gDict)\n",
    "        print(\"1\")\n",
    "        F1=tsimp(F0 * s._U_).subs(s.gDict) #*_V_\n",
    "        print(\"2\")\n",
    "        # #s.F2=tsimp(F1 * _V_)\n",
    "        # #G00 = tsimp(F1*_V_)\n",
    "        # #print(\"2.1\")\n",
    "        # #display(_U_)\n",
    "        # G00 = tsimp(_U_*_kout_).subs(s.gDict)\n",
    "        # print(\"2.1\")\n",
    "        # G01 = tsimp(_V_*G00).subs(s.gDict)\n",
    "        # print(\"2.2\")\n",
    "        # #G0 = tsimp(_V_*_U_)\n",
    "        # t1=sq.qapply(F1*G01).subs(s.gDict)\n",
    "        # print(\"2.3\")\n",
    "        \n",
    "        G0=tsimp(s._V_*_kout_).subs(s.gDict)\n",
    "        print(\"3\")\n",
    "        \n",
    "        #display(F1)\n",
    "        #display(G0)\n",
    "        t1=sq.qapply(F1*G0).subs(s.gDict)\n",
    "        \n",
    "        t2=t1.subs(s.daggerDict).subs(s.sqDict) #not sure why the s.daggerDict step is needed;\n",
    "        \n",
    "        H0 = tsimp(t2) #tsimp(F1*G0)\n",
    "        print(\"4\")\n",
    "        #s.F1 = s._bout_ * _T_ * _U_ * _V_ * s._kout_\n",
    "        #s.F2 = s.F1 * \n",
    "        s.F = tdsimp(H0)\n",
    "        print(\"5\")\n",
    "        \n",
    "        #return tdsimp(sp.expand(s.F * sq.Dagger(s.F)))\n",
    "        return sp.expand((sq.Dagger(s.F) * s.F).subs(s.daggerDict)).subs(s.sqDict).subs(s.sqDict).subs(s.gDict)\n",
    "        if verbose==True:\n",
    "            print(\"Dinner out is a go.\")\n",
    "        \n",
    "    def cross(s,vecs):\n",
    "        ca=[sq.qapply(sq.Dagger(s.ke[i])*vecs[0]).doit() for i in range(3)]\n",
    "        cb=[sq.qapply(sq.Dagger(s.ke[i])*vecs[1]).doit() for i in range(3)]\n",
    "        \n",
    "        res = (ca[2-1]*cb[3-1] - ca[3-1]*cb[2-1])*s.ke[0] + \\\n",
    "             (ca[3-1]*cb[1-1]-ca[1-1]*cb[3-1])*s.ke[1] + \\\n",
    "             (ca[1-1]*cb[2-1] - ca[2-1]*cb[1-1])*s.ke[2]\n",
    "        \n",
    "        return res\n",
    "\n",
    "    def eval_Π_cross(s,varCount=None):\n",
    "        cls=s.__class__\n",
    "        if varCount==None:\n",
    "            varCount=cls_iKCBS.n*2\n",
    "        if varCount <= cls.n:\n",
    "            raise ValueError(\"number of variables should be at least n\")\n",
    "    \n",
    "        a=sp.symbols('a0:%d'%varCount)\n",
    "        #s.b=sp.symbols('b0:%d'%varCount)\n",
    "        b=[] #family of solutions\n",
    "        s.c=[] #particular solution with the free variables set to one\n",
    "        \n",
    "        #Setting up of constraints\n",
    "        #If the system is not able to find a solution, consider increasing\n",
    "        #the number of variables by taking different sets of products or products of three operators\n",
    "        TfΠ=[a[0]*s.Πs[0]]\n",
    "        _TfΠ=[a[0]*s._Πs[0]]\n",
    "        for i in range(1,cls.n):\n",
    "            TfΠ.append(TfΠ[-1] + a[i]*s.Πs[i])\n",
    "            _TfΠ.append(_TfΠ[-1] + a[i]*s._Πs[i])\n",
    "\n",
    "        if cls.n == 5:\n",
    "            TfΠ.append(TfΠ[-1] + a[5]*s.Πs[4]*s.Πs[2] \\\n",
    "                    + a[6]*s.Πs[4]*s.Πs[1] \\\n",
    "                    + a[7]*s.Πs[1]*s.Πs[3] \\\n",
    "                    + a[8]*s.Πs[2]*s.Πs[0])\n",
    "            _TfΠ.append(_TfΠ[-1] + a[5]*s._Πs[4]*s._Πs[2] \\\n",
    "                    + a[6]*s._Πs[4]*s._Πs[1] \\\n",
    "                    + a[7]*s._Πs[1]*s._Πs[3] \\\n",
    "                    + a[8]*s._Πs[2]*s._Πs[0])\n",
    "\n",
    "        LHS=sq.represent(TfΠ[-1])\n",
    "        #display(_TfΠ)\n",
    "        # LHS=a[0]*s.matΠs[0]\n",
    "        # for i in range(1,cls.n):\n",
    "        #     LHS=LHS+a[i]*s.matΠs[i]\n",
    "        # for i in range(cls.n,varCount):\n",
    "        #     LHS=LHS+a[i]*s.matΠs[i%cls.n]*s.matΠs[(i+2)%cls.n]\n",
    "            \n",
    "        RHS=s.matT\n",
    "        if cls.n!=5:\n",
    "            soln=sp.solve(sp.N(LHS-RHS),a,dict=True)\n",
    "        else:\n",
    "            soln=sp.solve(sp.N(LHS-RHS),a[:9],dict=True)\n",
    "        \n",
    "        print(soln)\n",
    "        #print(\"type:\",type(soln[0]))#, \" and shape:\", soln.shape())\n",
    "        for key,value in soln[0].items():\n",
    "            if np.abs(value)<10**(-s.thr):\n",
    "                soln[0][key]=sp.Integer(0)\n",
    "        \n",
    "        #print(soln)\n",
    "        '''\n",
    "            #soln=sp.solve([a[0]-1,a[1]-2,a[2]-3,a[3]-4,a[4]-5,a[5]-1,a[6]-1,a[7]-1,a[8]-1,a[9]-1],a,dict=True)\n",
    "\n",
    "            # sols = solve([t1 + t2 + t3, eq1, eq2], [t1, t2, t3], dict=True)\n",
    "            # sols[0][t1] # This is t1 in the first solution        \n",
    "        '''\n",
    "\n",
    "        #Dictionary to assign one/zero to free variables\n",
    "        dRem={}\n",
    "        \n",
    "        #IMPORTANT: \n",
    "        #In sympy, symbols/expressions are unmutable (you can't change them ever);\n",
    "        #You can save a substituted expression into a new expression (and use a symbol to denote it)\n",
    "        #To wit: when you substitute, a new expression is produced\n",
    "\n",
    "        for i in range(varCount):\n",
    "            #the variables which were evaluated to an expression, assign them to b[i]\n",
    "            try:\n",
    "                b.append(soln[0][a[i]])      \n",
    "            #if the variable was free, assign b[i] to be one\n",
    "            #and create a dictionary to substitute these free variables\n",
    "            except:\n",
    "                b.append(sp.Integer(1))\n",
    "                dRem[a[i]]=1\n",
    "        \n",
    "        #in the solution saved into b[i], substitute for the free variables using the dictionary\n",
    "        #save the result into the variable c\n",
    "        s.c = [_.subs(dRem) for _ in b]\n",
    "\n",
    "        #substitute the solution into the coefficients in Tfπ_p, the operator T as a sum of projectors (and its products)\n",
    "        dFin={}\n",
    "        for i in range(varCount):\n",
    "            dFin[a[i]]=s.c[i]                \n",
    "        \n",
    "        return _TfΠ[-1].subs(dFin)            \n",
    "        \n",
    "    \n",
    "    #evaluates the matrices and vectors\n",
    "    def eval(s,j,n,ve=False):\n",
    "        N=sp.Integer(n)\n",
    "        J=sp.Integer(j)\n",
    "        #print(N,j)\n",
    "        one=sp.Integer(1)\n",
    "        #print(one)\n",
    "        α1=sp.cos((sp.pi)/N)/(one+sp.cos(sp.pi/N)) #verified\n",
    "        #a1=sp.cos(sp.pi/N)\n",
    "        #\n",
    "        #print(α1)\n",
    "        \n",
    "        α2=one-α1 #verified\n",
    "        α3=J * sp.pi * (N-one)/N #verified\n",
    "        \n",
    "        vec = sp.sqrt(α1)*s.ke[0] + sp.sqrt(α2)*sp.sin(α3)*s.ke[1] + sp.sqrt(α2)*sp.cos(α3)*s.ke[2]\n",
    "        \n",
    "        projector = vec*sq.Dagger(vec)\n",
    "           \n",
    "        #matrixprojector = sp.Matrix([0,0])\n",
    "        #return projector\n",
    "        #display(sq.represent(projector))\n",
    "        #display(sq.represent(vec))\n",
    "        \n",
    "        if ve==False:\n",
    "            return projector\n",
    "        else:\n",
    "            return vec\n",
    "        \n",
    "    def eval_lin_c(s,varCount=None,RHS=None):\n",
    "        cls=s.__class__\n",
    "        if varCount==None:\n",
    "            varCount=cls_iKCBS.n*2\n",
    "        if varCount <= cls.n:\n",
    "            raise ValueError(\"number of variables should be at least n\")\n",
    "    \n",
    "        a=sp.symbols('a0:%d'%varCount)\n",
    "        #s.b=sp.symbols('b0:%d'%varCount)\n",
    "        b=[] #family of solutions\n",
    "        s.c=[] #particular solution with the free variables set to one\n",
    "        \n",
    "        #Setting up of constraints\n",
    "        #If the system is not able to find a solution, consider increasing\n",
    "        #the number of variables by taking different sets of products or products of three operators\n",
    "        TfΠ=[a[0]*s.Πs[0]]\n",
    "        _TfΠ=[a[0]*s._Πs[0]]\n",
    "        \n",
    "        for i in range(1,cls.n):\n",
    "            TfΠ.append(TfΠ[-1] + a[i]*s.Πs[i])\n",
    "            _TfΠ.append(_TfΠ[-1] + a[i]*s._Πs[i])\n",
    "\n",
    "        if cls.n != 5:            \n",
    "            for i in range(cls.n,varCount):\n",
    "                TfΠ.append(TfΠ[-1] + a[i]*s.Πs[i%cls.n]*s.Πs[(i+2)%cls.n])\n",
    "                _TfΠ.append(_TfΠ[-1] + a[i]*s._Πs[i%cls.n]*s._Πs[(i+2)%cls.n])\n",
    "        else:\n",
    "            TfΠ.append(TfΠ[-1] + a[5]*s.Πs[4]*s.Πs[2] \\\n",
    "                    + a[6]*s.Πs[4]*s.Πs[1] \\\n",
    "                    + a[7]*s.Πs[1]*s.Πs[3] \\\n",
    "                    + a[8]*s.Πs[2]*s.Πs[0])\n",
    "            _TfΠ.append(_TfΠ[-1] + a[5]*s._Πs[4]*s._Πs[2] \\\n",
    "                    + a[6]*s._Πs[4]*s._Πs[1] \\\n",
    "                    + a[7]*s._Πs[1]*s._Πs[3] \\\n",
    "                    + a[8]*s._Πs[2]*s._Πs[0])\n",
    "            \n",
    "            \n",
    "        LHS=sq.represent(TfΠ[-1])\n",
    "        #display(_TfΠ)\n",
    "        # LHS=a[0]*s.matΠs[0]\n",
    "        # for i in range(1,cls.n):\n",
    "        #     LHS=LHS+a[i]*s.matΠs[i]\n",
    "        # for i in range(cls.n,varCount):\n",
    "        #     LHS=LHS+a[i]*s.matΠs[i%cls.n]*s.matΠs[(i+2)%cls.n]\n",
    "        if RHS == None:\n",
    "            RHS=s.matT\n",
    "        \n",
    "        if cls.n!=5:\n",
    "            soln=sp.solve(sp.N(LHS-RHS),a,dict=True)\n",
    "        else:\n",
    "            soln=sp.solve(sp.N(LHS-RHS),a[:9],dict=True)\n",
    "        \n",
    "        print(soln)\n",
    "        #print(\"type:\",type(soln[0]))#, \" and shape:\", soln.shape())\n",
    "        for key,value in soln[0].items():\n",
    "            if np.abs(value)<10**(-s.thr):\n",
    "                soln[0][key]=sp.Integer(0)\n",
    "        \n",
    "        print(soln)\n",
    "        '''\n",
    "            #soln=sp.solve([a[0]-1,a[1]-2,a[2]-3,a[3]-4,a[4]-5,a[5]-1,a[6]-1,a[7]-1,a[8]-1,a[9]-1],a,dict=True)\n",
    "\n",
    "            # sols = solve([t1 + t2 + t3, eq1, eq2], [t1, t2, t3], dict=True)\n",
    "            # sols[0][t1] # This is t1 in the first solution        \n",
    "        '''\n",
    "\n",
    "        #Dictionary to assign one/zero to free variables\n",
    "        dRem={}\n",
    "        \n",
    "        #IMPORTANT: \n",
    "        #In sympy, symbols/expressions are unmutable (you can't change them ever);\n",
    "        #You can save a substituted expression into a new expression (and use a symbol to denote it)\n",
    "        #To wit: when you substitute, a new expression is produced\n",
    "\n",
    "        for i in range(varCount):\n",
    "            #the variables which were evaluated to an expression, assign them to b[i]\n",
    "            try:\n",
    "                b.append(soln[0][a[i]])      \n",
    "            #if the variable was free, assign b[i] to be one\n",
    "            #and create a dictionary to substitute these free variables\n",
    "            except:\n",
    "                b.append(sp.Integer(1))\n",
    "                dRem[a[i]]=1\n",
    "        \n",
    "        #in the solution saved into b[i], substitute for the free variables using the dictionary\n",
    "        #save the result into the variable c\n",
    "        s.c = [_.subs(dRem) for _ in b]\n",
    "\n",
    "        #substitute the solution into the coefficients in Tfπ_p, the operator T as a sum of projectors (and its products)\n",
    "        dFin={}\n",
    "        for i in range(varCount):\n",
    "            dFin[a[i]]=s.c[i]                \n",
    "        \n",
    "        return _TfΠ[-1].subs(dFin)\n",
    "            \n",
    "    def eval_c(s,varCount=None):\n",
    "        cls=s.__class__\n",
    "        if varCount==None:\n",
    "            varCount=cls_iKCBS.n*2\n",
    "        if varCount <= cls.n:\n",
    "            raise ValueError(\"number of variables should be at least n\")\n",
    "    \n",
    "        a=sp.symbols('a0:%d'%varCount)\n",
    "        #s.b=sp.symbols('b0:%d'%varCount)\n",
    "        b=[] #family of solutions\n",
    "        s.c=[] #particular solution with the free variables set to one\n",
    "        \n",
    "        #Setting up of constraints\n",
    "        #If the system is not able to find a solution, consider increasing\n",
    "        #the number of variables by taking different sets of products or products of three operators\n",
    "        TfΠ=a[0]*s.Πs[0]\n",
    "        _TfΠ=a[0]*s._Πs[0]\n",
    "        for i in range(1,cls.n):\n",
    "            TfΠ=TfΠ + a[i]*s.Πs[i]\n",
    "            _TfΠ=_TfΠ + a[i]*s._Πs[i]\n",
    "        for i in range(cls.n,varCount):\n",
    "            TfΠ=TfΠ + a[i]*s.Πs[i%cls.n]*s.Πs[(i+2)%cls.n]\n",
    "            _TfΠ=_TfΠ + a[i]*s._Πs[i%cls.n]*s._Πs[(i+2)%cls.n]\n",
    "            \n",
    "            \n",
    "        LHS=sq.represent(TfΠ)\n",
    "        \n",
    "        # LHS=a[0]*s.matΠs[0]\n",
    "        # for i in range(1,cls.n):\n",
    "        #     LHS=LHS+a[i]*s.matΠs[i]\n",
    "        # for i in range(cls.n,varCount):\n",
    "        #     LHS=LHS+a[i]*s.matΠs[i%cls.n]*s.matΠs[(i+2)%cls.n]\n",
    "            \n",
    "        RHS=s.matT\n",
    "        \n",
    "        soln=sp.solve(sp.N(LHS-RHS),a,dict=True)\n",
    "\n",
    "        '''\n",
    "            #soln=sp.solve([a[0]-1,a[1]-2,a[2]-3,a[3]-4,a[4]-5,a[5]-1,a[6]-1,a[7]-1,a[8]-1,a[9]-1],a,dict=True)\n",
    "\n",
    "            # sols = solve([t1 + t2 + t3, eq1, eq2], [t1, t2, t3], dict=True)\n",
    "            # sols[0][t1] # This is t1 in the first solution        \n",
    "        '''\n",
    "\n",
    "        #Dictionary to assign one/zero to free variables\n",
    "        dRem={}\n",
    "        \n",
    "        #IMPORTANT: \n",
    "        #In sympy, symbols/expressions are unmutable (you can't change them ever);\n",
    "        #You can save a substituted expression into a new expression (and use a symbol to denote it)\n",
    "        #To wit: when you substitute, a new expression is produced\n",
    "\n",
    "        for i in range(varCount):\n",
    "            #the variables which were evaluated to an expression, assign them to b[i]\n",
    "            try:\n",
    "                b.append(soln[0][a[i]])      \n",
    "            #if the variable was free, assign b[i] to be one\n",
    "            #and create a dictionary to substitute these free variables\n",
    "            except:\n",
    "                b.append(sp.Integer(1))\n",
    "                dRem[a[i]]=1\n",
    "        \n",
    "        #in the solution saved into b[i], substitute for the free variables using the dictionary\n",
    "        #save the result into the variable c\n",
    "        s.c = [_.subs(dRem) for _ in b]\n",
    "\n",
    "        #substitute the solution into the coefficients in Tfπ_p, the operator T as a sum of projectors (and its products)\n",
    "        dFin={}\n",
    "        for i in range(varCount):\n",
    "            dFin[a[i]]=s.c[i]                \n",
    "        \n",
    "        return _TfΠ.subs(dFin)\n",
    "        \n",
    "    #This doesn't work as expected\n",
    "    def partial_trace(s,M):\n",
    "        \n",
    "        s.br_ = [ sq.TensorProduct(sq.IdentityOperator(),_) for _ in s.br]\n",
    "        s.ke_ = [ sq.TensorProduct(sq.IdentityOperator(),_) for _ in s.ke]\n",
    "        \n",
    "        res=0*s.br_[0]*M*s.ke_[0]        #to get the type right!\n",
    "        for i in range(3):\n",
    "            for j in range(3):\n",
    "                res=res+s.br_[i]*M*s.ke_[j]\n",
    "        #return sq.qapply(res).doit()\n",
    "        return tsimp(res)\n",
    "        "
   ]
  },
  {
   "cell_type": "code",
   "execution_count": 25,
   "metadata": {
    "init_cell": true,
    "scrolled": false
   },
   "outputs": [
    {
     "name": "stdout",
     "output_type": "stream",
     "text": [
      "Creating projectors etc\n",
      "Solving a linear system to find the coefficients for expressing the translation operator as a sum of projectors\n",
      "[{a0: -0.272019649514071, a1: -0.485868271756646, a2: -2.05817102727149, a3: 9.32265207248423e-16, a4: 2.77032771530715, a5: -1.15229372655726, a6: -4.82849874257864, a7: 3.33019067678556, a8: 2.77032771530716}]\n",
      "[{a0: -0.272019649514071, a1: -0.485868271756646, a2: -2.05817102727149, a3: 0, a4: 2.77032771530715, a5: -1.15229372655726, a6: -4.82849874257864, a7: 3.33019067678556, a8: 2.77032771530716}]\n",
      "Solving the cross Π\n",
      "[{a0: -1.00000000000000, a1: -1.00000000000000, a2: 1.43924480352684e-16, a3: 3.91811281370199e-15, a4: 4.23606797749978, a5: -4.23606797749978, a6: -4.23606797749978, a7: 2.61803398874988, a8: 2.61803398874990}]\n",
      "[{a0: -1.00000000000000, a1: -1.00000000000000, a2: 0, a3: 0, a4: 4.23606797749978, a5: -4.23606797749978, a6: -4.23606797749978, a7: 2.61803398874988, a8: 2.61803398874990}]\n",
      "Evaluating the first term of F\n",
      "Loaded from file\n",
      "done\n"
     ]
    }
   ],
   "source": [
    "iKCBS = cls_iKCBS(5,verbose=True,test=False)"
   ]
  },
  {
   "cell_type": "code",
   "execution_count": 99,
   "metadata": {},
   "outputs": [],
   "source": [
    "# gla=iKCBS.F #_Πs[0] #kp[0]*iKCBS.bp[0] #sq.dagger(iKCBS.ke[0])\n",
    "# # with open(\"F.txt\",\"w\") as outf:\n",
    "# #     pickle.dump(gla,outf)\n",
    "# dill.dump(gla, open(\"myfile\", \"wb\"))\n",
    "\n",
    "\n",
    "# gla2=dill.load(open(\"myfile\", \"rb\"))"
   ]
  },
  {
   "cell_type": "code",
   "execution_count": null,
   "metadata": {},
   "outputs": [],
   "source": [
    "# display(gla2)\n",
    "#print(iKCBS.c)\n",
    "#prune(sp.N(sq.qapply(iKCBS.bp[2]*iKCBS.kp[1])))\n",
    "\n",
    "# display(sq.qapply(iKCBS.F.subs(iKCBS.sqDict)))\n",
    "# print(iKCBS.sqDict)"
   ]
  },
  {
   "cell_type": "code",
   "execution_count": 72,
   "metadata": {},
   "outputs": [],
   "source": [
    "# display(sp.simplify(iKCBS.F.subs(iKCBS.sqDict)))\n",
    "#The orthogonal relations are imposed later using the graph"
   ]
  },
  {
   "cell_type": "markdown",
   "metadata": {
    "heading_collapsed": true
   },
   "source": [
    "### Debugging the evaluation of fidelity\n",
    "\n",
    "Eventually, had to convert all the exact coefficients into numbers; else it was taking too long; it is still rather slow actually."
   ]
  },
  {
   "cell_type": "code",
   "execution_count": 57,
   "metadata": {
    "hidden": true
   },
   "outputs": [
    {
     "ename": "AttributeError",
     "evalue": "'cls_iKCBS' object has no attribute 'H0'",
     "output_type": "error",
     "traceback": [
      "\u001b[0;31m---------------------------------------------------------------------------\u001b[0m",
      "\u001b[0;31mAttributeError\u001b[0m                            Traceback (most recent call last)",
      "\u001b[0;32m<ipython-input-57-351531601937>\u001b[0m in \u001b[0;36m<module>\u001b[0;34m\u001b[0m\n\u001b[0;32m----> 1\u001b[0;31m \u001b[0mres\u001b[0m\u001b[0;34m=\u001b[0m\u001b[0mtdsimp\u001b[0m\u001b[0;34m(\u001b[0m\u001b[0miKCBS\u001b[0m\u001b[0;34m.\u001b[0m\u001b[0mH0\u001b[0m\u001b[0;34m)\u001b[0m\u001b[0;34m\u001b[0m\u001b[0;34m\u001b[0m\u001b[0m\n\u001b[0m\u001b[1;32m      2\u001b[0m \u001b[0;31m#display(autoDropDim(sq.qapply(res).doit()))\u001b[0m\u001b[0;34m\u001b[0m\u001b[0;34m\u001b[0m\u001b[0;34m\u001b[0m\u001b[0m\n\u001b[1;32m      3\u001b[0m \u001b[0mdisplay\u001b[0m\u001b[0;34m(\u001b[0m\u001b[0mres\u001b[0m\u001b[0;34m)\u001b[0m\u001b[0;34m\u001b[0m\u001b[0;34m\u001b[0m\u001b[0m\n",
      "\u001b[0;31mAttributeError\u001b[0m: 'cls_iKCBS' object has no attribute 'H0'"
     ]
    }
   ],
   "source": [
    "res=tdsimp(iKCBS.H0)\n",
    "#display(autoDropDim(sq.qapply(res).doit()))\n",
    "display(res)"
   ]
  },
  {
   "cell_type": "code",
   "execution_count": 26,
   "metadata": {
    "hidden": true
   },
   "outputs": [
    {
     "data": {
      "text/latex": [
       "$\\displaystyle \\left({\\left|2\\right\\rangle } {\\left\\langle 2\\right|}\\right)^{2}$"
      ],
      "text/plain": [
       "         2\n",
       "(❘2⟩⋅⟨2❘) "
      ]
     },
     "metadata": {},
     "output_type": "display_data"
    },
    {
     "name": "stdout",
     "output_type": "stream",
     "text": [
      "True\n",
      "2\n"
     ]
    },
    {
     "data": {
      "text/latex": [
       "$\\displaystyle {\\left|2\\right\\rangle }{\\left\\langle 2\\right|}$"
      ],
      "text/plain": [
       "❘2⟩⟨2❘"
      ]
     },
     "metadata": {},
     "output_type": "display_data"
    },
    {
     "data": {
      "text/latex": [
       "$\\displaystyle \\frac{{\\left|0\\right\\rangle }{\\left\\langle 0\\right|}}{4 \\left(\\frac{\\sqrt{5}}{4} + \\frac{5}{4}\\right)} + \\frac{\\sqrt{5} {\\left|0\\right\\rangle }{\\left\\langle 0\\right|}}{4 \\left(\\frac{\\sqrt{5}}{4} + \\frac{5}{4}\\right)} + \\frac{\\sqrt{\\frac{1}{4} + \\frac{\\sqrt{5}}{4}} \\sqrt{- \\frac{\\sqrt{5}}{4 \\left(\\frac{\\sqrt{5}}{4} + \\frac{5}{4}\\right)} - \\frac{1}{4 \\left(\\frac{\\sqrt{5}}{4} + \\frac{5}{4}\\right)} + 1} {\\left|0\\right\\rangle }{\\left\\langle 2\\right|}}{\\sqrt{\\frac{\\sqrt{5}}{4} + \\frac{5}{4}}} + \\frac{\\sqrt{\\frac{1}{4} + \\frac{\\sqrt{5}}{4}} \\sqrt{- \\frac{\\sqrt{5}}{4 \\left(\\frac{\\sqrt{5}}{4} + \\frac{5}{4}\\right)} - \\frac{1}{4 \\left(\\frac{\\sqrt{5}}{4} + \\frac{5}{4}\\right)} + 1} {\\left|2\\right\\rangle }{\\left\\langle 0\\right|}}{\\sqrt{\\frac{\\sqrt{5}}{4} + \\frac{5}{4}}} - \\frac{\\sqrt{5} {\\left|2\\right\\rangle }{\\left\\langle 2\\right|}}{4 \\left(\\frac{\\sqrt{5}}{4} + \\frac{5}{4}\\right)} - \\frac{{\\left|2\\right\\rangle }{\\left\\langle 2\\right|}}{4 \\left(\\frac{\\sqrt{5}}{4} + \\frac{5}{4}\\right)} + {\\left|2\\right\\rangle }{\\left\\langle 2\\right|}$"
      ],
      "text/plain": [
       "                              ________       _______________________________  \n",
       "                             ╱ 1   √5       ╱       √5           1            \n",
       "                            ╱  ─ + ── ⋅    ╱  - ────────── - ────────── + 1 ⋅❘\n",
       "                          ╲╱   4   4      ╱       ⎛√5   5⎞     ⎛√5   5⎞       \n",
       "                                         ╱      4⋅⎜── + ─⎟   4⋅⎜── + ─⎟       \n",
       "  ❘0⟩⟨0❘     √5⋅❘0⟩⟨0❘                 ╲╱         ⎝4    4⎠     ⎝4    4⎠       \n",
       "────────── + ────────── + ────────────────────────────────────────────────────\n",
       "  ⎛√5   5⎞     ⎛√5   5⎞                              ________                 \n",
       "4⋅⎜── + ─⎟   4⋅⎜── + ─⎟                             ╱ √5   5                  \n",
       "  ⎝4    4⎠     ⎝4    4⎠                            ╱  ── + ─                  \n",
       "                                                 ╲╱   4    4                  \n",
       "\n",
       "            ________       _______________________________                    \n",
       "           ╱ 1   √5       ╱       √5           1                              \n",
       "0⟩⟨2❘     ╱  ─ + ── ⋅    ╱  - ────────── - ────────── + 1 ⋅❘2⟩⟨0❘             \n",
       "        ╲╱   4   4      ╱       ⎛√5   5⎞     ⎛√5   5⎞                         \n",
       "                       ╱      4⋅⎜── + ─⎟   4⋅⎜── + ─⎟                         \n",
       "                     ╲╱         ⎝4    4⎠     ⎝4    4⎠               √5⋅❘2⟩⟨2❘ \n",
       "───── + ───────────────────────────────────────────────────────── - ──────────\n",
       "                                   ________                           ⎛√5   5⎞\n",
       "                                  ╱ √5   5                          4⋅⎜── + ─⎟\n",
       "                                 ╱  ── + ─                            ⎝4    4⎠\n",
       "                               ╲╱   4    4                                    \n",
       "\n",
       "                      \n",
       "                      \n",
       "                      \n",
       "                      \n",
       "                      \n",
       "     ❘2⟩⟨2❘           \n",
       " - ────────── + ❘2⟩⟨2❘\n",
       "     ⎛√5   5⎞         \n",
       "   4⋅⎜── + ─⎟         \n",
       "     ⎝4    4⎠         \n",
       "                      "
      ]
     },
     "metadata": {},
     "output_type": "display_data"
    }
   ],
   "source": [
    "res2=iKCBS.F2 #powerDrop(iKCBS.F2)\n",
    "powow=iKCBS.F2.args[0]\n",
    "display(powow)\n",
    "print(isinstance(powow,sp.Pow))\n",
    "print(powow.exp)\n",
    "display(sq.qapply(powow.base*powow.base))\n",
    "\n",
    "display(powerDrop(iKCBS.F2))\n",
    "\n",
    "\n",
    "#display(res2)"
   ]
  },
  {
   "cell_type": "code",
   "execution_count": null,
   "metadata": {
    "hidden": true
   },
   "outputs": [],
   "source": [
    "res=iKCBS._T_ * iKCBS._U_\n",
    "display(res)\n",
    "display(tsimp(res))"
   ]
  },
  {
   "cell_type": "code",
   "execution_count": null,
   "metadata": {
    "hidden": true
   },
   "outputs": [],
   "source": [
    "display(iKCBS._U_)"
   ]
  },
  {
   "cell_type": "code",
   "execution_count": null,
   "metadata": {
    "hidden": true
   },
   "outputs": [],
   "source": [
    "display(iKCBS._V_)"
   ]
  },
  {
   "cell_type": "code",
   "execution_count": null,
   "metadata": {
    "hidden": true
   },
   "outputs": [],
   "source": [
    "display(iKCBS._T_)"
   ]
  },
  {
   "cell_type": "code",
   "execution_count": null,
   "metadata": {
    "hidden": true,
    "scrolled": false
   },
   "outputs": [],
   "source": [
    "display(iKCBS.F1)\n",
    "\n",
    "display(tsimp(iKCBS.F1))\n",
    "#sq.qapply(iKCBS.F1).doit()"
   ]
  },
  {
   "cell_type": "code",
   "execution_count": null,
   "metadata": {
    "hidden": true,
    "scrolled": true
   },
   "outputs": [],
   "source": [
    "\n",
    "iKCBS=cls_iKCBS(5)\n",
    "\n",
    "#sp.init_printing()\n",
    "#sp.pprint(iKCBS.c[0])\n",
    "for i in range(10):\n",
    "    display(iKCBS.c[i])\n",
    "    \n",
    "\n",
    "display(sp.N(iKCBS.matΠs[1]*iKCBS.matΠs[3]))\n",
    "display(sp.N(sq.represent(iKCBS.T)))\n",
    "display(iKCBS._T)\n",
    "#display(sp.N(iKCBS._T_))\n",
    "#display(sp.N(iKCBS._U_))\n",
    "#display(sp.N(iKCBS._V_))\n",
    "display(sp.N(iKCBS.F))"
   ]
  },
  {
   "cell_type": "code",
   "execution_count": null,
   "metadata": {
    "hidden": true,
    "scrolled": false
   },
   "outputs": [],
   "source": [
    "#display(iKCBS._U_)\n",
    "\n",
    "#display(iKCBS.partial_trace(iKCBS._U_))\n",
    "\n"
   ]
  },
  {
   "cell_type": "code",
   "execution_count": null,
   "metadata": {
    "hidden": true
   },
   "outputs": [],
   "source": [
    "g = bKet(0)\n",
    "\n",
    "Id=sq.IdentityOperator()\n",
    "\n",
    "display(Id*g)\n",
    "\n",
    "del Id\n",
    "del g"
   ]
  },
  {
   "cell_type": "code",
   "execution_count": 249,
   "metadata": {
    "hidden": true
   },
   "outputs": [
    {
     "data": {
      "text/latex": [
       "$\\displaystyle {{\\left|1\\right\\rangle }}\\otimes {{\\left|0\\right\\rangle }}$"
      ],
      "text/plain": [
       "❘1⟩⨂ ❘0⟩"
      ]
     },
     "metadata": {},
     "output_type": "display_data"
    },
    {
     "data": {
      "text/latex": [
       "$\\displaystyle 0.5 {{\\left|1\\right\\rangle }}\\otimes {{\\left|0\\right\\rangle }} {{\\left\\langle 1\\right|}}\\otimes {{\\left\\langle 0\\right|}} + 0.1 {{\\left|1\\right\\rangle }}\\otimes {{\\left|0\\right\\rangle }} {{\\left\\langle 1\\right|}}\\otimes {{\\left\\langle 1\\right|}} + 0.4 {{\\left|1\\right\\rangle }}\\otimes {{\\left|1\\right\\rangle }} {{\\left\\langle 1\\right|}}\\otimes {{\\left\\langle 1\\right|}}$"
      ],
      "text/plain": [
       "0.5⋅❘1⟩⨂ ❘0⟩⋅⟨1❘⨂ ⟨0❘ + 0.1⋅❘1⟩⨂ ❘0⟩⋅⟨1❘⨂ ⟨1❘ + 0.4⋅❘1⟩⨂ ❘1⟩⋅⟨1❘⨂ ⟨1❘"
      ]
     },
     "metadata": {},
     "output_type": "display_data"
    },
    {
     "data": {
      "text/latex": [
       "$\\displaystyle 0.5$"
      ],
      "text/plain": [
       "0.500000000000000"
      ]
     },
     "metadata": {},
     "output_type": "display_data"
    },
    {
     "data": {
      "text/latex": [
       "$\\displaystyle 0.5 \\left\\langle 0 \\right. {\\left|0\\right\\rangle }^{2} \\left\\langle 1 \\right. {\\left|1\\right\\rangle }^{2} \\cdot {1}\\otimes {1}^{2} + 0.1 \\left\\langle 0 \\right. {\\left|0\\right\\rangle } \\left\\langle 1 \\right. {\\left|0\\right\\rangle } \\left\\langle 1 \\right. {\\left|1\\right\\rangle }^{2} \\cdot {1}\\otimes {1}^{2} + 0.4 \\left\\langle 0 \\right. {\\left|1\\right\\rangle } \\left\\langle 1 \\right. {\\left|0\\right\\rangle } \\left\\langle 1 \\right. {\\left|1\\right\\rangle }^{2} \\cdot {1}\\otimes {1}^{2}$"
      ],
      "text/plain": [
       "         2      2     2                        2     2                        \n",
       "0.5⋅⟨0❘0⟩ ⋅⟨1❘1⟩ ⋅1⨂ 1  + 0.1⋅⟨0❘0⟩⋅⟨1❘0⟩⋅⟨1❘1⟩ ⋅1⨂ 1  + 0.4⋅⟨0❘1⟩⋅⟨1❘0⟩⋅⟨1❘1⟩\n",
       "\n",
       "2     2\n",
       " ⋅1⨂ 1 "
      ]
     },
     "metadata": {},
     "output_type": "display_data"
    }
   ],
   "source": [
    "g = bKet(0)\n",
    "h = bKet(1)\n",
    "\n",
    "TP=sq.TensorProduct\n",
    "zz=TP(g,g)\n",
    "zo=TP(g,h)\n",
    "oo=TP(h,h)\n",
    "oz=TP(h,g)\n",
    "\n",
    "display(oz)\n",
    "\n",
    "ρ = 0.5 * oz*sq.Dagger(oz) + 0.4*oo*sq.Dagger(oo) + 0.1*oz*sq.Dagger(oo)\n",
    "\n",
    "display(ρ)\n",
    "\n",
    "display(tsimp(sq.Dagger(oz)*ρ*oz))\n",
    "\n",
    "display(sq.qapply(sq.Dagger(oz)*ρ*oz))\n",
    "\n",
    "del TP"
   ]
  },
  {
   "cell_type": "code",
   "execution_count": 263,
   "metadata": {
    "hidden": true
   },
   "outputs": [
    {
     "data": {
      "text/latex": [
       "$\\displaystyle 0.5 {\\left|0\\right\\rangle } + 0.1 {\\left|1\\right\\rangle }$"
      ],
      "text/plain": [
       "0.5⋅❘0⟩ + 0.1⋅❘1⟩"
      ]
     },
     "metadata": {},
     "output_type": "display_data"
    },
    {
     "data": {
      "text/latex": [
       "$\\displaystyle 0.5 {\\left|0\\right\\rangle }$"
      ],
      "text/plain": [
       "0.5⋅❘0⟩"
      ]
     },
     "metadata": {},
     "output_type": "display_data"
    },
    {
     "data": {
      "text/latex": [
       "$\\displaystyle 0.1 {\\left|1\\right\\rangle }$"
      ],
      "text/plain": [
       "0.1⋅❘1⟩"
      ]
     },
     "metadata": {},
     "output_type": "display_data"
    },
    {
     "name": "stdout",
     "output_type": "stream",
     "text": [
      "True\n",
      "False\n",
      "False\n",
      "True\n"
     ]
    }
   ],
   "source": [
    "res=0.5 * g + 0.1 * h\n",
    "display(res)\n",
    "\n",
    "display(res.args[0])\n",
    "display(res.args[1])\n",
    "\n",
    "res.has(sq.Ket)\n",
    "print(isinstance(res,sp.Add))\n",
    "print(isinstance(res,sp.Mul))\n",
    "\n",
    "res2=res.args[0]\n",
    "print(isinstance(res2,sp.Add))\n",
    "print(isinstance(res2,sp.Mul))"
   ]
  },
  {
   "cell_type": "code",
   "execution_count": null,
   "metadata": {
    "hidden": true
   },
   "outputs": [],
   "source": [
    "g = bKet(0)\n",
    "h = bKet(1)\n",
    "\n",
    "TP=sq.TensorProduct\n",
    "zz=TP(g,g)\n",
    "zo=TP(g,h)\n",
    "oo=TP(h,h)\n",
    "oz=TP(h,g)\n",
    "\n",
    "display(oz)\n",
    "\n",
    "ρ = 0.5 * oz*sq.Dagger(oz) + 0.4*oo*sq.Dagger(oo) + 0.1*oz*sq.Dagger(oo)\n",
    "\n",
    "display(ρ)\n",
    "\n",
    "k=TP(sq.IdentityOperator(),h)\n",
    "\n",
    "\n",
    "display(tsimp(sq.Dagger(k)*ρ*k))\n",
    "\n",
    "display(sq.qapply(sq.Dagger(k)*ρ*k))\n",
    "\n",
    "del TP"
   ]
  },
  {
   "cell_type": "code",
   "execution_count": null,
   "metadata": {
    "hidden": true
   },
   "outputs": [],
   "source": [
    "#tsimp=sq.tensorproduct.tensor_product_simp_Mul\n",
    "\n",
    "#If an inner product evaluates to one, it drops the dimension\n",
    "#Works only with products and sums for the moment\n",
    "#No sanity checks were done\n",
    "#Hopefully, sympy will get updated with this functionality soon anyway\n",
    "\n",
    "\n",
    "\n",
    "#def(e):\n",
    "    \n",
    "\n",
    "Identity=sq.IdentityOperator()\n",
    "g=bKet(0)\n",
    "h=bKet(1)\n",
    "\n",
    "ρ_g=g*sq.Dagger(g)\n",
    "ρ_h=h*sq.Dagger(h)\n",
    "\n",
    "# #sq.qapply(Identity*g); seems to work\n",
    "\n",
    "# #display(sq.TensorProduct(ρ_g,ρ_h))\n",
    "# print(\"g\")\n",
    "# g_=sq.TensorProduct(Identity,g*sq.Dagger(g)); display(g_)\n",
    "# print(\"h\")\n",
    "# h_=sq.TensorProduct(Identity,h*sq.Dagger(h)); display(h_)\n",
    "\n",
    "# print(\"gh\")\n",
    "# display(sq.Dagger(g_)*h_)\n",
    "\n",
    "f_=sq.TensorProduct(g,g)\n",
    "f__=sq.TensorProduct(h,g)\n",
    "\n",
    "#sq.qapply(sq.Dagger(f_)*g_*f_).doit()\n",
    "\n",
    "print(\"inner product of \")\n",
    "display(f_,f__)\n",
    "#sq.qapply(sq.Dagger(f_)*f_)\n",
    "#sq.tensorproduct.tensor_product_simp(sq.Dagger(f_)*f__ + sq.Dagger(f__)*f__)\n",
    "print(\"yields these two\")\n",
    "display(sq.Dagger(f_)*f__)\n",
    "display(sq.qapply(sq.Dagger(f_)*f__).doit())\n",
    "\n",
    "print(\"inner product of \")\n",
    "display(f_,f_)\n",
    "print(\"yields these two\")\n",
    "res1=sq.Dagger(f_)*f_\n",
    "display(sq.Dagger(f_)*f_)\n",
    "display(sq.qapply(sq.Dagger(f_)*f_).doit())\n",
    "\n",
    "\n",
    "print(\"Let us try the inner product of these two vectors with the following operator\")\n",
    "op=f_*sq.Dagger(f_)\n",
    "\n",
    "display(op)\n",
    "print(\"which yields these two\")\n",
    "display(sq.qapply(sq.Dagger(f__)*op*f__))\n",
    "display(sq.qapply(sq.Dagger(f__)*op*f__).doit())\n",
    "#sq.qapply(sq.Dagger(f_)*h_*sq.Dagger(f__)).doit()\n",
    "\n",
    "\n",
    "######So far it works well\n",
    "print(\"Consider now the tensor product of two operators\")\n",
    "ρ=sq.TensorProduct(ρ_g,ρ_g)\n",
    "display(ρ)\n",
    "print(\"Their inner product with the ket\") \n",
    "display(f_)\n",
    "print(\"yields the following two\")\n",
    "res=sq.qapply(sq.Dagger(f_)*ρ*f_)\n",
    "display(res)\n",
    "display(res.doit())\n",
    "\n",
    "display(tsimp(res))\n",
    "print(\"Testing if the constituents are still instances of orthogonal vectors\")\n",
    "print(isinstance(res.args[0].args[0],bBra))\n",
    "display(res.args[0].args[0],res.args[1])\n",
    "\n",
    "print(\"Testing if the constituents are ... same for the original\")\n",
    "print(isinstance(res1.args[0].args[0],bBra))\n",
    "display(res1.args[0].args[0],res1.args[1])\n",
    "\n",
    "#sq.qapply(sq.Dagger(g_)*h_).doit() #*ρ_g\n",
    "\n",
    "#sq.qapply(sq.Dagger(g)*h).doit()\n",
    "print(\"Now we try with this \")\n",
    "ρ2=sq.TensorProduct(ρ_g,ρ_h)\n",
    "σ=3*ρ\n",
    "display(σ)\n",
    "res2=tsimp(sq.qapply(sq.Dagger(f_)*σ*f_))\n",
    "display(res2)\n",
    "\n",
    "#res2.has(sq.TensorProduct)\n",
    "#isinstance(res2,sq.TensorProduct)\n",
    "#new_args=list(sq.TensorP)\n",
    "#sq.TensorProduct(*list(res2.args))\n",
    "\n",
    "\n",
    "# res3=autoDropDim(res2)\n",
    "# # for _ in res3.args:\n",
    "# #     display(_)\n",
    "\n",
    "# display(res3)"
   ]
  },
  {
   "cell_type": "code",
   "execution_count": null,
   "metadata": {
    "hidden": true
   },
   "outputs": [],
   "source": [
    "\n",
    "\n",
    "def tensor_product_simp(e, **hints):\n",
    "    \"\"\"Try to simplify and combine TensorProducts.\n",
    "\n",
    "    \"\"\"\n",
    "    if isinstance(e, sp.Add):\n",
    "        return sp.Add(*[tensor_product_simp(arg) for arg in e.args])\n",
    "    elif isinstance(e, sp.Mul):\n",
    "        return tensor_product_simp_Mul(e)\n",
    "    else:\n",
    "        return e\n",
    "    \n",
    "def tensor_product_simp_Mul(e):\n",
    "    \"\"\"Simplify a Mul with TensorProducts.\n",
    "\n",
    "        >>> e\n",
    "        AxB*CxD\n",
    "        >>> tensor_product_simp_Mul(e)\n",
    "        (A*C)x(B*D)\n",
    "\n",
    "    \"\"\"\n",
    "    \n",
    "    # TODO: This won't work with Muls that have other composites of\n",
    "    # TensorProducts, like an Add, Commutator, etc.\n",
    "    # TODO: This only works for the equivalent of single Qbit gates.\n",
    "    \n",
    "    if not isinstance(e, sp.Mul):\n",
    "        return e\n",
    "    c_part, nc_part = e.args_cnc()\n",
    "    n_nc = len(nc_part)\n",
    "    if n_nc == 0:\n",
    "        return e\n",
    "#     elif n_nc == 1:\n",
    "#         if isinstance(nc_part[0], Pow):\n",
    "#             return  Mul(*c_part) * tensor_product_simp_Pow(nc_part[0])\n",
    "#         return e\n",
    "    elif e.has(sq.TensorProduct):\n",
    "        current = nc_part[0] #I guess this is the \n",
    "#         if not isinstance(current, sq.TensorProduct):\n",
    "#             if isinstance(current, Pow):\n",
    "#                 if isinstance(current.base, sq.TensorProduct):\n",
    "#                     current = tensor_product_simp_Pow(current)\n",
    "#             else:\n",
    "#                 raise TypeError('TensorProduct expected, got: %r' % current)\n",
    "        n_terms = len(current.args)\n",
    "        new_args = list(current.args)\n",
    "        for next in nc_part[1:]:\n",
    "            # TODO: check the hilbert spaces of next and current here.\n",
    "            if isinstance(next, sq.TensorProduct):\n",
    "                if n_terms != len(next.args):\n",
    "                    raise QuantumError(\n",
    "                        'TensorProducts of different lengths: %r and %r' %\n",
    "                        (current, next)\n",
    "                    )\n",
    "                for i in range(len(new_args)):\n",
    "                    new_args[i] = new_args[i] * next.args[i]\n",
    "#             else:\n",
    "#                 if isinstance(next, Pow):\n",
    "#                     if isinstance(next.base, sq.TensorProduct):\n",
    "#                         new_tp = tensor_product_simp_Pow(next)\n",
    "#                         for i in range(len(new_args)):\n",
    "#                             if( new_args[i] )\n",
    "#                             new_args[i] = new_args[i] * new_tp.args[i]\n",
    "#                     else:\n",
    "#                         raise TypeError('TensorProduct expected, got: %r' % next)\n",
    "#                 else:\n",
    "#                     raise TypeError('TensorProduct expected, got: %r' % next)\n",
    "            current = next\n",
    "        return Mul(*c_part) * sq.TensorProduct(*new_args)\n",
    "    elif e.has(Pow):\n",
    "        new_args = [ tensor_product_simp_Pow(nc) for nc in nc_part ]\n",
    "        return tensor_product_simp_Mul(Mul(*c_part) * sq.TensorProduct(*new_args))\n",
    "    else:\n",
    "        return e"
   ]
  },
  {
   "cell_type": "code",
   "execution_count": null,
   "metadata": {
    "hidden": true
   },
   "outputs": [],
   "source": [
    "glaba=sp.Integer(1)\n",
    "#isinstance(glaba,sp.number)\n",
    "#type(glaba)\n",
    "go=bKet(2)\n"
   ]
  },
  {
   "cell_type": "markdown",
   "metadata": {
    "heading_collapsed": true
   },
   "source": [
    "### Debugging the issue with substitutions"
   ]
  },
  {
   "cell_type": "code",
   "execution_count": null,
   "metadata": {
    "hidden": true
   },
   "outputs": [],
   "source": [
    "\n",
    "iKCBS.b[1].subs({iKCBS.a[8]:0})\n",
    "\n",
    "iKCBS.c\n",
    "#b=sp.symbols('b0:%d'%10)\n",
    "#b[0].subs(b[0],10)\n",
    "# gla=sp.Symbol('x'); gla\n",
    "# gla.subs(gla,10)\n",
    "\n",
    "#iKCBS.a[8].subs(iKCBS.a[8],0)"
   ]
  },
  {
   "cell_type": "code",
   "execution_count": null,
   "metadata": {
    "hidden": true
   },
   "outputs": [],
   "source": [
    "ket1=bKet(0)\n",
    "ket2=bKet(1)\n",
    "kets=(ket1,ket2)\n",
    "bra=[sq.Dagger(iket) for iket in kets]; bra"
   ]
  },
  {
   "cell_type": "markdown",
   "metadata": {
    "heading_collapsed": true
   },
   "source": [
    "### Debugging the issue with _eval_args"
   ]
  },
  {
   "cell_type": "code",
   "execution_count": null,
   "metadata": {
    "hidden": true
   },
   "outputs": [],
   "source": [
    "class cls_iKCBS:    \n",
    "    \n",
    "    def __init__(s,n):\n",
    "        cls_iKCBS.n=n\n",
    "        #j in 0,1,2,3,4\n",
    "        s.ke = [bKet(j) for j in range(3)]    \n",
    "        s.br = [sq.Dagger(s.ke[j]) for j in range(3)]\n",
    "        s.πs = []\n",
    "        s.matπs = [] \n",
    "        #poor man's implementation\n",
    "        for j in range(5):\n",
    "            s.πs.append(s.proj(j,n))            \n",
    "            s.matπs.append(s.matRep(s.proj(j,n)))\n",
    "        s.opT = s.ke[0]*s.br[2] + s.ke[1]*s.br[0] + s.ke[2]*s.br[1]\n",
    "        s.matT=s.matRep(s.opT)\n",
    "\n",
    "    #this method is now obsolete    \n",
    "    def matRep(s,op):\n",
    "        n=3 #s.__class__.n\n",
    "        matop = sp.Matrix(np.zeros((n,n)))        \n",
    "        for i in range(n):\n",
    "            for j in range(n):\n",
    "                matop[i,j] = sq.qapply(sq.Dagger(s.ke[i])*op*s.ke[j]).doit() \n",
    "        return matop\n",
    "        \n",
    "    def proj(s,j,n):\n",
    "        N=sp.Integer(n)\n",
    "        J=sp.Integer(j)\n",
    "        #print(N,j)\n",
    "        one=sp.Integer(1)\n",
    "        #print(one)\n",
    "        α1=sp.cos((sp.pi)/N)/(one+sp.cos(sp.pi/N)) #verified\n",
    "        #a1=sp.cos(sp.pi/N)\n",
    "        #\n",
    "        #print(α1)\n",
    "        \n",
    "        α2=one-α1 #verified\n",
    "        α3=J * sp.pi * (N-one)/N #verified\n",
    "        \n",
    "        vec = sp.sqrt(α1)*s.ke[0] + sp.sqrt(α2)*sp.sin(α3)*s.ke[1] + sp.sqrt(α2)*sp.cos(α3)*s.ke[2]\n",
    "        \n",
    "        projector = vec*sq.Dagger(vec)\n",
    "           \n",
    "        #matrixprojector = sp.Matrix([0,0])\n",
    "        return projector\n",
    "    \n",
    "    \n",
    "    def find_coeff_matT(s):\n",
    "        cls=s.__class__\n",
    "        a=sp.symbols('a0:%d'%(cls.n*2))\n",
    "        LHS=a[0]*s.matπs[0]\n",
    "        for i in range(1,cls.n):\n",
    "            LHS=LHS+a[i]*s.matπs[i]\n",
    "        for i in range(cls.n,2*cls.n):\n",
    "            LHS=LHS+a[i]*s.matπs[i%cls.n]*s.matπs[(i+2)%cls.n]\n",
    "            \n",
    "        RHS=s.matT\n",
    "        return sp.solve(sp.N(LHS-RHS),a)\n",
    "        #return sp.solve(a[0]-a[2],a)\n",
    "        \n",
    "        #print(LHS)\n",
    "        #for i in range\n",
    "        \n",
    "\n",
    "    '''\n",
    "       def vec(self,j,n):    \n",
    "           N=sp.Integer(n)\n",
    "           J=sp.Integer(j)\n",
    "           #print(N,j)\n",
    "           one=sp.Integer(1)\n",
    "           #print(one)\n",
    "           α1=sp.cos((sp.pi)/N)/(one+sp.cos(sp.pi/N)) #verified\n",
    "           #a1=sp.cos(sp.pi/N)\n",
    "           #\n",
    "           #print(α1)\n",
    "        \n",
    "           α2=one-α1 #verified\n",
    "           α3=J * sp.pi * (N-one)/N #verified\n",
    "        \n",
    "           vec = sp.sqrt(α1)*self.k0 + sp.sqrt(α2)*sp.sin(α3)*self.k1 + sp.sqrt(α2)*sp.cos(α3)*self.k2\n",
    "        \n",
    "           #projector = vec*sq.Dagger(vec)\n",
    "           return vec\n",
    "    '''"
   ]
  },
  {
   "cell_type": "code",
   "execution_count": null,
   "metadata": {
    "hidden": true
   },
   "outputs": [],
   "source": [
    "\n",
    "iKCBS=cls_iKCBS(5)\n",
    "#to access the vectors \n",
    "\n",
    "# #uncomment to test\n",
    "# sq.qapply(sq.qapply(iKCBS.πs[0]*iKCBS.πs[1]))\n",
    "# #iKCBS.πs[1]\n",
    "\n",
    "# sp.N(iKCBS.matπs[2])\n",
    "\n",
    "# iKCBS.find_coeff_matT()"
   ]
  },
  {
   "cell_type": "code",
   "execution_count": null,
   "metadata": {
    "hidden": true
   },
   "outputs": [],
   "source": [
    "iKCBS.find_coeff_opT()"
   ]
  },
  {
   "cell_type": "markdown",
   "metadata": {
    "heading_collapsed": true
   },
   "source": [
    "### Debugging"
   ]
  },
  {
   "cell_type": "code",
   "execution_count": null,
   "metadata": {
    "hidden": true
   },
   "outputs": [],
   "source": [
    "sq.qapply(sq.Dagger(iKCBS.πs[0])*iKCBS.πs[1]);\n",
    "\n",
    "#sq.represent(sq.qapply(sq.Dagger(iKCBS.πs[0])*iKCBS.πs[1]),basis=iKCBS.ke)"
   ]
  },
  {
   "cell_type": "code",
   "execution_count": null,
   "metadata": {
    "code_folding": [
     29
    ],
    "hidden": true
   },
   "outputs": [],
   "source": [
    "#older version without lists\n",
    "class cls_iKCBS:\n",
    "    k0=bKet(0)    \n",
    "    k1=bKet(1)\n",
    "    k2=bKet(2)\n",
    "    \n",
    "    b0=sq.Dagger(k0)\n",
    "    b1=sq.Dagger(k1)\n",
    "    b2=sq.Dagger(k2)\n",
    "    \n",
    "    πs=[]\n",
    "    \n",
    "    def __init__(self,n):\n",
    "        #j in 0,1,2,3,4\n",
    "        for j in range(5):\n",
    "            self.πs.append(self.proj(j,n))\n",
    "    \n",
    "    def proj(self,j,n):\n",
    "        N=sp.Integer(n)\n",
    "        J=sp.Integer(j)\n",
    "        #print(N,j)\n",
    "        one=sp.Integer(1)\n",
    "        #print(one)\n",
    "        α1=sp.cos((sp.pi)/N)/(one+sp.cos(sp.pi/N)) #verified\n",
    "        #a1=sp.cos(sp.pi/N)\n",
    "        #\n",
    "        #print(α1)\n",
    "        \n",
    "        α2=one-α1 #verified\n",
    "        α3=J * sp.pi * (N-one)/N #verified\n",
    "        \n",
    "        vec = sp.sqrt(α1)*self.k0 + sp.sqrt(α2)*sp.sin(α3)*self.k1 + sp.sqrt(α2)*sp.cos(α3)*self.k2\n",
    "        \n",
    "        projector = vec*sq.Dagger(vec)\n",
    "        return projector\n",
    "    '''\n",
    "       def vec(self,j,n):    \n",
    "           N=sp.Integer(n)\n",
    "           J=sp.Integer(j)\n",
    "           #print(N,j)\n",
    "           one=sp.Integer(1)\n",
    "           #print(one)\n",
    "           α1=sp.cos((sp.pi)/N)/(one+sp.cos(sp.pi/N)) #verified\n",
    "           #a1=sp.cos(sp.pi/N)\n",
    "           #\n",
    "           #print(α1)\n",
    "        \n",
    "           α2=one-α1 #verified\n",
    "           α3=J * sp.pi * (N-one)/N #verified\n",
    "        \n",
    "           vec = sp.sqrt(α1)*self.k0 + sp.sqrt(α2)*sp.sin(α3)*self.k1 + sp.sqrt(α2)*sp.cos(α3)*self.k2\n",
    "        \n",
    "           #projector = vec*sq.Dagger(vec)\n",
    "           return vec\n",
    "    '''"
   ]
  },
  {
   "cell_type": "code",
   "execution_count": null,
   "metadata": {
    "hidden": true
   },
   "outputs": [],
   "source": [
    "iKCBS=cls_iKCBS()\n",
    "sq.qapply(iKCBS.proj(1,5)).doit();"
   ]
  },
  {
   "cell_type": "code",
   "execution_count": null,
   "metadata": {
    "hidden": true
   },
   "outputs": [],
   "source": [
    "sp.simplify(sq.qapply(sq.Dagger(iKCBS.k0)*iKCBS.proj(1,5)*iKCBS.proj(2,5)*iKCBS.k0).doit())\n",
    "#sp.N(sq.qapply(sq.Dagger(iKCBS.k0)*iKCBS.proj(1,5)*iKCBS.proj(2,5)*iKCBS.k0).doit())\n",
    "#sq.qapply(iKCBS.proj(1,5)*iKCBS.proj(2,5)).doit()"
   ]
  },
  {
   "cell_type": "code",
   "execution_count": null,
   "metadata": {
    "hidden": true
   },
   "outputs": [],
   "source": [
    "(sq.Dagger(iKCBS.k0)*iKCBS.k0).doit()"
   ]
  },
  {
   "cell_type": "code",
   "execution_count": null,
   "metadata": {
    "hidden": true
   },
   "outputs": [],
   "source": [
    "sp.N(sq.qapply(sq.Dagger(iKCBS.vec(1,5))*iKCBS.vec(1,5)).doit(),5000)"
   ]
  },
  {
   "cell_type": "code",
   "execution_count": null,
   "metadata": {
    "hidden": true
   },
   "outputs": [],
   "source": [
    "sp.N(sp.simplify(sq.qapply(sq.Dagger(iKCBS.vec(4,5))*iKCBS.vec(3,5)).doit()))"
   ]
  },
  {
   "cell_type": "code",
   "execution_count": null,
   "metadata": {
    "hidden": true
   },
   "outputs": [],
   "source": [
    "sp.N(sq.qapply(sq.Dagger(iKCBS.πs[0])*iKCBS.πs[1]))"
   ]
  },
  {
   "cell_type": "markdown",
   "metadata": {
    "heading_collapsed": true
   },
   "source": [
    "## Translation Operator using $\\Pi$s\n",
    "\n",
    "See for the original implementation Self-testing_KCBS_fidelity_bounds"
   ]
  },
  {
   "cell_type": "code",
   "execution_count": 18,
   "metadata": {
    "hidden": true
   },
   "outputs": [
    {
     "data": {
      "text/latex": [
       "$\\displaystyle a_{0}$"
      ],
      "text/plain": [
       "a₀"
      ]
     },
     "execution_count": 18,
     "metadata": {},
     "output_type": "execute_result"
    }
   ],
   "source": [
    "\n",
    "a=sp.symbols('a0:%d'%(cls_iKCBS.n*2))\n",
    "a[0]\n",
    "c=0\n",
    "c=c+a[0]; c\n"
   ]
  },
  {
   "cell_type": "code",
   "execution_count": 19,
   "metadata": {
    "hidden": true
   },
   "outputs": [
    {
     "data": {
      "text/latex": [
       "$\\displaystyle \\left[\\begin{matrix}0.0 & 0.0\\\\0.0 & 0\\end{matrix}\\right]$"
      ],
      "text/plain": [
       "⎡0.0  0.0⎤\n",
       "⎢        ⎥\n",
       "⎣0.0   0 ⎦"
      ]
     },
     "execution_count": 19,
     "metadata": {},
     "output_type": "execute_result"
    }
   ],
   "source": [
    "a=sp.Matrix(np.zeros((2,2)))\n",
    "a[1,1]=0;a\n"
   ]
  },
  {
   "cell_type": "code",
   "execution_count": 20,
   "metadata": {
    "hidden": true
   },
   "outputs": [
    {
     "data": {
      "text/latex": [
       "$\\displaystyle \\left[\\begin{matrix}0\\\\0\\\\1\\\\0\\end{matrix}\\right]$"
      ],
      "text/plain": [
       "⎡0⎤\n",
       "⎢ ⎥\n",
       "⎢0⎥\n",
       "⎢ ⎥\n",
       "⎢1⎥\n",
       "⎢ ⎥\n",
       "⎣0⎦"
      ]
     },
     "execution_count": 20,
     "metadata": {},
     "output_type": "execute_result"
    }
   ],
   "source": [
    "a=sqq.IntQubit(2);a\n",
    "\n",
    "b=sqq.IntQubit(1);\n",
    "sq.represent(b);\n",
    "sq.represent(a)"
   ]
  },
  {
   "cell_type": "markdown",
   "metadata": {},
   "source": [
    "# SDP part (SymPy meets CvxPy)"
   ]
  },
  {
   "cell_type": "code",
   "execution_count": 26,
   "metadata": {
    "init_cell": true
   },
   "outputs": [],
   "source": [
    "N=5\n",
    "\n",
    "#Ψ=[sp.symbols('Ψ')]\n",
    "I=[sp.Integer(1)]\n",
    "A=list(sp.symbols('Π_0:%d'%N,commutative=False))\n",
    "#A=list(sp.symbols('Π_0:%d'%N,commutative=False))\n",
    "\n",
    "# display(I)\n",
    "# display(A)"
   ]
  },
  {
   "cell_type": "code",
   "execution_count": 27,
   "metadata": {
    "init_cell": true
   },
   "outputs": [],
   "source": [
    "objective = iKCBS.F\n",
    "\n",
    "# objective1=iKCBS.F\n",
    "\n",
    "# #objective = A[0] + A[1] + A[2] + A[3] + A[4]\n",
    "# objective2 = A[0]*A[0] + 1e-13*A[1] + 1e-13*A[2] + 1e-13*A[3] + 1e-13*A[4]\n",
    "\n",
    "# objective=objective\n",
    "#display(objective);"
   ]
  },
  {
   "cell_type": "code",
   "execution_count": 46,
   "metadata": {
    "init_cell": true
   },
   "outputs": [],
   "source": [
    "hDepth = 5 #depth of the heirarchy; depends on the number of Πs in the expression for Fidelity\n",
    "\n",
    "L1=A #appends the lists\n",
    "#print(L1)\n",
    "\n",
    "Lx=[]\n",
    "\n",
    "#This generates words of length n with each position holding any of the y letters\n",
    "def loop_rec(y, n=None, val=None):\n",
    "    if n >= 1:\n",
    "        for x in range(y):\n",
    "            let=L1[x]\n",
    "            if val == None:\n",
    "                newVal=let\n",
    "            else:\n",
    "                newVal=let*val\n",
    "            loop_rec(y, n - 1, newVal)\n",
    "    else:\n",
    "       Lx.append(val)\n",
    "\n",
    "for i in range(N,hDepth+1):    \n",
    "    loop_rec(N,i)\n",
    "\n",
    "#display(Lx)\n",
    "\n",
    "#These will help simplify A^3 to A when needed\n",
    "lDepth=2\n",
    "sqDicts={A[i]**2:A[i] for i in range(len(L1))}\n",
    "\n",
    "# L2=[]\n",
    "# for let1 in L1:\n",
    "#     for let2 in L1:\n",
    "#         L2.append(let1*let2)\n",
    "\n",
    "\n",
    "\n",
    "\n",
    "# L = I + L1 + L2\n",
    "# L_ = L1 + L2\n",
    "#print(L)\n",
    "\n",
    "L = I + L1 + Lx\n",
    "L_ = L1 + Lx"
   ]
  },
  {
   "cell_type": "code",
   "execution_count": 47,
   "metadata": {
    "init_cell": true
   },
   "outputs": [],
   "source": [
    "#symbol to index dictionary\n",
    "sTi={}\n",
    "\n",
    "for i in range(len(L)):\n",
    "    sTi[L[i]]=i\n",
    "\n",
    "#print(sTi)"
   ]
  },
  {
   "cell_type": "code",
   "execution_count": 48,
   "metadata": {
    "init_cell": true
   },
   "outputs": [
    {
     "data": {
      "image/png": "[encoded data removed]",
      "text/plain": [
       "<Figure size 432x288 with 1 Axes>"
      ]
     },
     "metadata": {},
     "output_type": "display_data"
    }
   ],
   "source": [
    "G = nx.Graph()\n",
    "\n",
    "#node2 in G[node1] #yes if they are connected by an edge\n",
    "\n",
    "G = nx.Graph()\n",
    "G.add_nodes_from(L1)\n",
    "G.add_edges_from([[L1[i],L1[(i+1)%(N)]] for i in range(N)])\n",
    "\n",
    "#create a dictionary to simplify expressions later which sets projector products to zero\n",
    "gDicts={}\n",
    "for l1 in L1:\n",
    "    for l2 in L1:\n",
    "        if l1 in G[l2]:\n",
    "            gDicts.update({l1*l2:sp.Integer(0)})\n",
    "\n",
    "\n",
    "%matplotlib inline \n",
    "nx.draw(G, with_labels=True)"
   ]
  },
  {
   "cell_type": "code",
   "execution_count": 49,
   "metadata": {
    "init_cell": true,
    "scrolled": false
   },
   "outputs": [
    {
     "data": {
      "text/latex": [
       "$\\displaystyle 2.57288078924801 Π_{0} + 6.49835083721987 Π_{0} Π_{2} Π_{0} - 11.1067716478932 Π_{0} Π_{2} Π_{0} Π_{2} Π_{0} + 4.46288002141674 Π_{0} Π_{2} Π_{0} Π_{2} Π_{0} Π_{2} Π_{0} + 2.96541920293922 Π_{0} Π_{2} Π_{0} Π_{2} Π_{4} - 4.12586720170827 Π_{0} Π_{2} Π_{0} Π_{2} Π_{4} Π_{1} Π_{3} + 10.8016605671407 Π_{0} Π_{2} Π_{0} Π_{2} Π_{4} Π_{1} Π_{3} Π_{1} - 15.6615069610798 Π_{0} Π_{2} Π_{0} Π_{2} Π_{4} Π_{1} Π_{4} + 15.6615069610798 Π_{0} Π_{2} Π_{0} Π_{2} Π_{4} Π_{1} Π_{4} Π_{2} - 2.96541920293922 Π_{0} Π_{2} Π_{0} Π_{2} Π_{4} Π_{2} + 4.12586720170829 Π_{0} Π_{2} Π_{0} Π_{2} Π_{4} Π_{2} Π_{0} - 3.73752944378885 Π_{0} Π_{2} Π_{0} Π_{2} Π_{4} Π_{2} Π_{4} + 3.73752944378886 Π_{0} Π_{2} Π_{0} Π_{2} Π_{4} Π_{2} Π_{4} Π_{2} + 6.37691159434273 Π_{0} Π_{2} Π_{4} - 0.318486153015755 Π_{0} Π_{2} Π_{4} Π_{1} Π_{3} - 1.89442719099992 Π_{0} Π_{2} Π_{4} Π_{1} Π_{3} Π_{0} + 0.833807573541449 Π_{0} Π_{2} Π_{4} Π_{1} Π_{3} Π_{1} + 4.95967477524974 Π_{0} Π_{2} Π_{4} Π_{1} Π_{3} Π_{1} Π_{3} - 12.9845971347493 Π_{0} Π_{2} Π_{4} Π_{1} Π_{3} Π_{1} Π_{3} Π_{1} + 0.366989596115493 Π_{0} Π_{2} Π_{4} Π_{1} Π_{4} - 0.366989596115491 Π_{0} Π_{2} Π_{4} Π_{1} Π_{4} Π_{2} - 6.37691159434273 Π_{0} Π_{2} Π_{4} Π_{2} - 3.8754888737183 Π_{0} Π_{2} Π_{4} Π_{2} Π_{0} + 4.12586720170829 Π_{0} Π_{2} Π_{4} Π_{2} Π_{0} Π_{2} Π_{0} - 4.59268517913432 Π_{0} Π_{2} Π_{4} Π_{2} Π_{4} + 4.59268517913432 Π_{0} Π_{2} Π_{4} Π_{2} Π_{4} Π_{2} + 0.447213595499958 Π_{0} Π_{3} Π_{1} Π_{3} + 1.17082039324994 Π_{0} Π_{3} Π_{1} Π_{3} Π_{0} - 1.17082039324994 Π_{0} Π_{3} Π_{1} Π_{3} Π_{1} - 3.06524758424984 Π_{0} Π_{3} Π_{1} Π_{3} Π_{1} Π_{3} + 8.02492235949961 Π_{0} Π_{3} Π_{1} Π_{3} Π_{1} Π_{3} Π_{1} - 3.4022604039583 Π_{0} Π_{3} Π_{1} Π_{4} + 1.89442719099991 Π_{0} Π_{3} Π_{1} Π_{4} Π_{1} Π_{3} - 4.95967477524977 Π_{0} Π_{3} Π_{1} Π_{4} Π_{1} Π_{3} Π_{1} + 7.19111478595813 Π_{0} Π_{3} Π_{1} Π_{4} Π_{1} Π_{4} - 7.19111478595813 Π_{0} Π_{3} Π_{1} Π_{4} Π_{1} Π_{4} Π_{2} + 3.4022604039583 Π_{0} Π_{3} Π_{1} Π_{4} Π_{2} - 1.89442719099992 Π_{0} Π_{3} Π_{1} Π_{4} Π_{2} Π_{0} + 1.71611859018264 Π_{0} Π_{3} Π_{1} Π_{4} Π_{2} Π_{4} - 1.71611859018264 Π_{0} Π_{3} Π_{1} Π_{4} Π_{2} Π_{4} Π_{2} - 0.447213595499956 Π_{1} Π_{3} Π_{1} Π_{3} - 1.17082039324994 Π_{1} Π_{3} Π_{1} Π_{3} Π_{0} + 1.17082039324994 Π_{1} Π_{3} Π_{1} Π_{3} Π_{1} + 6.13049516849967 Π_{1} Π_{3} Π_{1} Π_{3} Π_{1} Π_{3} + 8.02492235949961 Π_{1} Π_{3} Π_{1} Π_{3} Π_{1} Π_{3} Π_{0} - 16.0498447189992 Π_{1} Π_{3} Π_{1} Π_{3} Π_{1} Π_{3} Π_{1} - 21.0095194942488 Π_{1} Π_{3} Π_{1} Π_{3} Π_{1} Π_{3} Π_{1} Π_{3} + 55.0036361232471 Π_{1} Π_{3} Π_{1} Π_{3} Π_{1} Π_{3} Π_{1} Π_{3} Π_{1} - 23.3194397244639 Π_{1} Π_{3} Π_{1} Π_{3} Π_{1} Π_{4} + 12.9845971347493 Π_{1} Π_{3} Π_{1} Π_{3} Π_{1} Π_{4} Π_{1} Π_{3} - 33.9941166289982 Π_{1} Π_{3} Π_{1} Π_{3} Π_{1} Π_{4} Π_{1} Π_{3} Π_{1} + 49.2886339939625 Π_{1} Π_{3} Π_{1} Π_{3} Π_{1} Π_{4} Π_{1} Π_{4} - 49.2886339939625 Π_{1} Π_{3} Π_{1} Π_{3} Π_{1} Π_{4} Π_{1} Π_{4} Π_{2} + 23.3194397244639 Π_{1} Π_{3} Π_{1} Π_{3} Π_{1} Π_{4} Π_{2} - 12.9845971347493 Π_{1} Π_{3} Π_{1} Π_{3} Π_{1} Π_{4} Π_{2} Π_{0} + 11.7624518032884 Π_{1} Π_{3} Π_{1} Π_{3} Π_{1} Π_{4} Π_{2} Π_{4} - 11.7624518032884 Π_{1} Π_{3} Π_{1} Π_{3} Π_{1} Π_{4} Π_{2} Π_{4} Π_{2} + 20.8797143365313 Π_{1} Π_{3} Π_{1} Π_{4} - 11.8137767414994 Π_{1} Π_{3} Π_{1} Π_{4} Π_{1} Π_{3} - 4.95967477524977 Π_{1} Π_{3} Π_{1} Π_{4} Π_{1} Π_{3} Π_{0} + 30.9288690447484 Π_{1} Π_{3} Π_{1} Π_{4} Π_{1} Π_{3} Π_{1} + 12.9845971347493 Π_{1} Π_{3} Π_{1} Π_{4} Π_{1} Π_{3} Π_{1} Π_{3} - 33.9941166289982 Π_{1} Π_{3} Π_{1} Π_{4} Π_{1} Π_{3} Π_{1} Π_{3} Π_{1} - 40.7184134375303 Π_{1} Π_{3} Π_{1} Π_{4} Π_{1} Π_{4} + 40.7184134375303 Π_{1} Π_{3} Π_{1} Π_{4} Π_{1} Π_{4} Π_{2} - 20.8797143365313 Π_{1} Π_{3} Π_{1} Π_{4} Π_{2} + 0.833807573541449 Π_{1} Π_{3} Π_{1} Π_{4} Π_{2} Π_{0} + 10.8016605671407 Π_{1} Π_{3} Π_{1} Π_{4} Π_{2} Π_{0} Π_{2} Π_{0} - 21.9703107303967 Π_{1} Π_{3} Π_{1} Π_{4} Π_{2} Π_{4} + 21.9703107303967 Π_{1} Π_{3} Π_{1} Π_{4} Π_{2} Π_{4} Π_{2} - 14.5391900109295 Π_{2} Π_{4} + 7.97534120116649 Π_{2} Π_{4} Π_{1} Π_{3} + 3.4022604039583 Π_{2} Π_{4} Π_{1} Π_{3} Π_{0} - 20.8797143365313 Π_{2} Π_{4} Π_{1} Π_{3} Π_{1} - 8.9072333761407 Π_{2} Π_{4} Π_{1} Π_{3} Π_{1} Π_{3} + 23.3194397244639 Π_{2} Π_{4} Π_{1} Π_{3} Π_{1} Π_{3} Π_{1} + 55.3343398880886 Π_{2} Π_{4} Π_{1} Π_{4} - 15.5530499651661 Π_{2} Π_{4} Π_{1} Π_{4} Π_{1} Π_{3} - 7.19111478595813 Π_{2} Π_{4} Π_{1} Π_{4} Π_{1} Π_{3} Π_{0} + 40.7184134375303 Π_{2} Π_{4} Π_{1} Π_{4} Π_{1} Π_{3} Π_{1} + 18.8265829266402 Π_{2} Π_{4} Π_{1} Π_{4} Π_{1} Π_{3} Π_{1} Π_{3} - 49.2886339939625 Π_{2} Π_{4} Π_{1} Π_{4} Π_{1} Π_{3} Π_{1} Π_{3} Π_{1} - 53.0561402141585 Π_{2} Π_{4} Π_{1} Π_{4} Π_{1} Π_{4} + 53.0561402141585 Π_{2} Π_{4} Π_{1} Π_{4} Π_{1} Π_{4} Π_{2} - 55.3343398880886 Π_{2} Π_{4} Π_{1} Π_{4} Π_{2} - 0.366989596115491 Π_{2} Π_{4} Π_{1} Π_{4} Π_{2} Π_{0} + 15.6615069610798 Π_{2} Π_{4} Π_{1} Π_{4} Π_{2} Π_{0} Π_{2} Π_{0} - 30.4275090159262 Π_{2} Π_{4} Π_{1} Π_{4} Π_{2} Π_{4} + 30.4275090159262 Π_{2} Π_{4} Π_{1} Π_{4} Π_{2} Π_{4} Π_{2} + 14.5391900109295 Π_{2} Π_{4} Π_{2} - 6.37691159434273 Π_{2} Π_{4} Π_{2} Π_{0} - 2.96541920293922 Π_{2} Π_{4} Π_{2} Π_{0} Π_{2} Π_{0} + 25.6732981227894 Π_{2} Π_{4} Π_{2} Π_{4} - 8.39191195561501 Π_{2} Π_{4} Π_{2} Π_{4} Π_{1} Π_{3} - 1.71611859018264 Π_{2} Π_{4} Π_{2} Π_{4} Π_{1} Π_{3} Π_{0} + 21.9703107303967 Π_{2} Π_{4} Π_{2} Π_{4} Π_{1} Π_{3} Π_{1} + 4.49285679782367 Π_{2} Π_{4} Π_{2} Π_{4} Π_{1} Π_{3} Π_{1} Π_{3} - 11.7624518032884 Π_{2} Π_{4} Π_{2} Π_{4} Π_{1} Π_{3} Π_{1} Π_{3} Π_{1} - 30.4275090159262 Π_{2} Π_{4} Π_{2} Π_{4} Π_{1} Π_{4} + 30.4275090159262 Π_{2} Π_{4} Π_{2} Π_{4} Π_{1} Π_{4} Π_{2} - 25.6732981227894 Π_{2} Π_{4} Π_{2} Π_{4} Π_{2} + 4.59268517913432 Π_{2} Π_{4} Π_{2} Π_{4} Π_{2} Π_{0} + 3.73752944378886 Π_{2} Π_{4} Π_{2} Π_{4} Π_{2} Π_{0} Π_{2} Π_{0} - 11.5010977079753 Π_{2} Π_{4} Π_{2} Π_{4} Π_{2} Π_{4} + 11.5010977079753 Π_{2} Π_{4} Π_{2} Π_{4} Π_{2} Π_{4} Π_{2} + 0.170820393249936 Π_{3} Π_{1} Π_{3} + 0.447213595499958 Π_{3} Π_{1} Π_{3} Π_{0} - 0.447213595499956 Π_{3} Π_{1} Π_{3} Π_{1} - 2.34164078649985 Π_{3} Π_{1} Π_{3} Π_{1} Π_{3} - 3.06524758424984 Π_{3} Π_{1} Π_{3} Π_{1} Π_{3} Π_{0} + 6.13049516849967 Π_{3} Π_{1} Π_{3} Π_{1} Π_{3} Π_{1} + 8.02492235949953 Π_{3} Π_{1} Π_{3} Π_{1} Π_{3} Π_{1} Π_{3} - 21.0095194942488 Π_{3} Π_{1} Π_{3} Π_{1} Π_{3} Π_{1} Π_{3} Π_{1} + 8.9072333761407 Π_{3} Π_{1} Π_{3} Π_{1} Π_{4} - 4.95967477524972 Π_{3} Π_{1} Π_{3} Π_{1} Π_{4} Π_{1} Π_{3} + 12.9845971347493 Π_{3} Π_{1} Π_{3} Π_{1} Π_{4} Π_{1} Π_{3} Π_{1} - 18.8265829266402 Π_{3} Π_{1} Π_{3} Π_{1} Π_{4} Π_{1} Π_{4} + 18.8265829266402 Π_{3} Π_{1} Π_{3} Π_{1} Π_{4} Π_{1} Π_{4} Π_{2} - 8.9072333761407 Π_{3} Π_{1} Π_{3} Π_{1} Π_{4} Π_{2} + 4.95967477524974 Π_{3} Π_{1} Π_{3} Π_{1} Π_{4} Π_{2} Π_{0} - 4.49285679782366 Π_{3} Π_{1} Π_{3} Π_{1} Π_{4} Π_{2} Π_{4} + 4.49285679782367 Π_{3} Π_{1} Π_{3} Π_{1} Π_{4} Π_{2} Π_{4} Π_{2} - 7.97534120116648 Π_{3} Π_{1} Π_{4} + 4.51246117974978 Π_{3} Π_{1} Π_{4} Π_{1} Π_{3} + 1.89442719099991 Π_{3} Π_{1} Π_{4} Π_{1} Π_{3} Π_{0} - 11.8137767414994 Π_{3} Π_{1} Π_{4} Π_{1} Π_{3} Π_{1} - 4.95967477524972 Π_{3} Π_{1} Π_{4} Π_{1} Π_{3} Π_{1} Π_{3} + 12.9845971347493 Π_{3} Π_{1} Π_{4} Π_{1} Π_{3} Π_{1} Π_{3} Π_{1} + 15.5530499651661 Π_{3} Π_{1} Π_{4} Π_{1} Π_{4} - 15.5530499651661 Π_{3} Π_{1} Π_{4} Π_{1} Π_{4} Π_{2} + 7.97534120116649 Π_{3} Π_{1} Π_{4} Π_{2} - 0.318486153015755 Π_{3} Π_{1} Π_{4} Π_{2} Π_{0} - 4.12586720170827 Π_{3} Π_{1} Π_{4} Π_{2} Π_{0} Π_{2} Π_{0} + 8.391911955615 Π_{3} Π_{1} Π_{4} Π_{2} Π_{4} - 8.39191195561501 Π_{3} Π_{1} Π_{4} Π_{2} Π_{4} Π_{2} + 14.5391900109295 Π_{4} - 7.97534120116648 Π_{4} Π_{1} Π_{3} - 3.4022604039583 Π_{4} Π_{1} Π_{3} Π_{0} + 20.8797143365313 Π_{4} Π_{1} Π_{3} Π_{1} + 8.9072333761407 Π_{4} Π_{1} Π_{3} Π_{1} Π_{3} - 23.3194397244639 Π_{4} Π_{1} Π_{3} Π_{1} Π_{3} Π_{1} - 55.3343398880885 Π_{4} Π_{1} Π_{4} + 15.5530499651661 Π_{4} Π_{1} Π_{4} Π_{1} Π_{3} + 7.19111478595813 Π_{4} Π_{1} Π_{4} Π_{1} Π_{3} Π_{0} - 40.7184134375303 Π_{4} Π_{1} Π_{4} Π_{1} Π_{3} Π_{1} - 18.8265829266402 Π_{4} Π_{1} Π_{4} Π_{1} Π_{3} Π_{1} Π_{3} + 49.2886339939625 Π_{4} Π_{1} Π_{4} Π_{1} Π_{3} Π_{1} Π_{3} Π_{1} + 53.0561402141585 Π_{4} Π_{1} Π_{4} Π_{1} Π_{4} - 53.0561402141585 Π_{4} Π_{1} Π_{4} Π_{1} Π_{4} Π_{2} + 55.3343398880886 Π_{4} Π_{1} Π_{4} Π_{2} + 0.366989596115493 Π_{4} Π_{1} Π_{4} Π_{2} Π_{0} - 15.6615069610798 Π_{4} Π_{1} Π_{4} Π_{2} Π_{0} Π_{2} Π_{0} + 30.4275090159262 Π_{4} Π_{1} Π_{4} Π_{2} Π_{4} - 30.4275090159262 Π_{4} Π_{1} Π_{4} Π_{2} Π_{4} Π_{2} - 14.5391900109295 Π_{4} Π_{2} + 6.37691159434273 Π_{4} Π_{2} Π_{0} + 2.96541920293922 Π_{4} Π_{2} Π_{0} Π_{2} Π_{0} - 25.6732981227893 Π_{4} Π_{2} Π_{4} + 8.391911955615 Π_{4} Π_{2} Π_{4} Π_{1} Π_{3} + 1.71611859018264 Π_{4} Π_{2} Π_{4} Π_{1} Π_{3} Π_{0} - 21.9703107303967 Π_{4} Π_{2} Π_{4} Π_{1} Π_{3} Π_{1} - 4.49285679782366 Π_{4} Π_{2} Π_{4} Π_{1} Π_{3} Π_{1} Π_{3} + 11.7624518032884 Π_{4} Π_{2} Π_{4} Π_{1} Π_{3} Π_{1} Π_{3} Π_{1} + 30.4275090159262 Π_{4} Π_{2} Π_{4} Π_{1} Π_{4} - 30.4275090159262 Π_{4} Π_{2} Π_{4} Π_{1} Π_{4} Π_{2} + 25.6732981227894 Π_{4} Π_{2} Π_{4} Π_{2} - 4.59268517913432 Π_{4} Π_{2} Π_{4} Π_{2} Π_{0} - 3.73752944378885 Π_{4} Π_{2} Π_{4} Π_{2} Π_{0} Π_{2} Π_{0} + 11.5010977079753 Π_{4} Π_{2} Π_{4} Π_{2} Π_{4} - 11.5010977079753 Π_{4} Π_{2} Π_{4} Π_{2} Π_{4} Π_{2} + 5.0 \\left(0.0730594114948682 Π_{2} Π_{0} Π_{2} + 12.222535668703 Π_{2} Π_{0} Π_{2} Π_{0} Π_{2} - 23.9780533520198 Π_{2} Π_{0} Π_{2} Π_{0} Π_{2} Π_{0} Π_{2} + 11.6839715837819 Π_{2} Π_{0} Π_{2} Π_{0} Π_{2} Π_{0} Π_{2} Π_{0} Π_{2} + 10.8016605671408 Π_{2} Π_{0} Π_{2} Π_{0} Π_{2} Π_{4} Π_{2} Π_{0} Π_{2} - 4.95967477524979 Π_{2} Π_{0} Π_{2} Π_{4} Π_{1} Π_{3} Π_{0} Π_{2} - 10.1461615944165 Π_{2} Π_{0} Π_{2} Π_{4} Π_{2} Π_{0} Π_{2} + 10.8016605671408 Π_{2} Π_{0} Π_{2} Π_{4} Π_{2} Π_{0} Π_{2} Π_{0} Π_{2} + 3.06524758424986 Π_{2} Π_{0} Π_{3} Π_{1} Π_{3} Π_{0} Π_{2} - 4.95967477524979 Π_{2} Π_{0} Π_{3} Π_{1} Π_{4} Π_{2} Π_{0} Π_{2}\\right) + 5.0 \\left(0.0249223594996216 Π_{1} - 0.683281572999749 Π_{1} Π_{3} Π_{1} + 7.02492235949962 Π_{1} Π_{3} Π_{1} Π_{3} Π_{1} - 32.0996894379984 Π_{1} Π_{3} Π_{1} Π_{3} Π_{1} Π_{3} Π_{1} + 55.0036361232471 Π_{1} Π_{3} Π_{1} Π_{3} Π_{1} Π_{3} Π_{1} Π_{3} Π_{1} - 18.3597649492141 Π_{1} Π_{3} Π_{1} Π_{3} Π_{1} Π_{4} Π_{1} - 33.9941166289982 Π_{1} Π_{3} Π_{1} Π_{3} Π_{1} Π_{4} Π_{1} Π_{3} Π_{1} + 49.2886339939625 Π_{1} Π_{3} Π_{1} Π_{3} Π_{1} Π_{4} Π_{1} Π_{4} Π_{1} + 11.7624518032884 Π_{1} Π_{3} Π_{1} Π_{3} Π_{1} Π_{4} Π_{2} Π_{4} Π_{1} + 19.0459067629898 Π_{1} Π_{3} Π_{1} Π_{4} Π_{1} + 40.8482185952479 Π_{1} Π_{3} Π_{1} Π_{4} Π_{1} Π_{3} Π_{1} - 33.9941166289982 Π_{1} Π_{3} Π_{1} Π_{4} Π_{1} Π_{3} Π_{1} Π_{3} Π_{1} - 47.9095282234884 Π_{1} Π_{3} Π_{1} Π_{4} Π_{1} Π_{4} Π_{1} - 23.6864293205793 Π_{1} Π_{3} Π_{1} Π_{4} Π_{2} Π_{4} Π_{1} + 9.10493069049321 Π_{1} Π_{4} Π_{1} + 19.0459067629898 Π_{1} Π_{4} Π_{1} Π_{3} Π_{1} - 18.3597649492141 Π_{1} Π_{4} Π_{1} Π_{3} Π_{1} Π_{3} Π_{1} - 43.4528669721522 Π_{1} Π_{4} Π_{1} Π_{4} Π_{1} - 47.9095282234884 Π_{1} Π_{4} Π_{1} Π_{4} Π_{1} Π_{3} Π_{1} + 49.2886339939625 Π_{1} Π_{4} Π_{1} Π_{4} Π_{1} Π_{3} Π_{1} Π_{3} Π_{1} + 53.0561402141584 Π_{1} Π_{4} Π_{1} Π_{4} Π_{1} Π_{4} Π_{1} + 30.4275090159261 Π_{1} Π_{4} Π_{1} Π_{4} Π_{2} Π_{4} Π_{1} - 19.2624478498926 Π_{1} Π_{4} Π_{2} Π_{4} Π_{1} - 23.6864293205793 Π_{1} Π_{4} Π_{2} Π_{4} Π_{1} Π_{3} Π_{1} + 11.7624518032884 Π_{1} Π_{4} Π_{2} Π_{4} Π_{1} Π_{3} Π_{1} Π_{3} Π_{1} + 30.4275090159261 Π_{1} Π_{4} Π_{2} Π_{4} Π_{1} Π_{4} Π_{1} + 11.5010977079753 Π_{1} Π_{4} Π_{2} Π_{4} Π_{2} Π_{4} Π_{1}\\right) + 5.0 \\left(38.0640936175063 Π_{4} + 21.0095194942489 Π_{4} Π_{1} Π_{3} Π_{1} Π_{3} Π_{1} Π_{3} Π_{1} Π_{3} Π_{1} Π_{4} + 3.7888543819998 Π_{4} Π_{1} Π_{3} Π_{1} Π_{3} Π_{1} Π_{3} Π_{1} Π_{4} - 47.9152726511778 Π_{4} Π_{1} Π_{3} Π_{1} Π_{3} Π_{1} Π_{4} - 12.9845971347493 Π_{4} Π_{1} Π_{3} Π_{1} Π_{3} Π_{1} Π_{4} Π_{1} Π_{3} Π_{1} Π_{4} + 60.6355927580358 Π_{4} Π_{1} Π_{3} Π_{1} Π_{3} Π_{1} Π_{4} Π_{1} Π_{4} - 30.4620510673223 Π_{4} Π_{1} Π_{3} Π_{1} Π_{3} Π_{1} Π_{4} Π_{1} Π_{4} Π_{1} Π_{4} - 49.2886339939625 Π_{4} Π_{1} Π_{3} Π_{1} Π_{3} Π_{1} Π_{4} Π_{1} Π_{4} Π_{2} Π_{4} + 35.0818915277523 Π_{4} Π_{1} Π_{3} Π_{1} Π_{3} Π_{1} Π_{4} Π_{2} Π_{4} - 7.26959500546471 Π_{4} Π_{1} Π_{3} Π_{1} Π_{3} Π_{1} Π_{4} Π_{2} Π_{4} Π_{1} Π_{4} - 11.7624518032884 Π_{4} Π_{1} Π_{3} Π_{1} Π_{3} Π_{1} Π_{4} Π_{2} Π_{4} Π_{2} Π_{4} + 30.618987560198 Π_{4} Π_{1} Π_{3} Π_{1} Π_{4} - 12.9845971347493 Π_{4} Π_{1} Π_{3} Π_{1} Π_{4} Π_{1} Π_{3} Π_{1} Π_{3} Π_{1} Π_{4} + 5.68328157299972 Π_{4} Π_{1} Π_{3} Π_{1} Π_{4} Π_{1} Π_{3} Π_{1} Π_{4} - 36.5198104440048 Π_{4} Π_{1} Π_{3} Π_{1} Π_{4} Π_{1} Π_{4} + 17.974248686406 Π_{4} Π_{1} Π_{3} Π_{1} Π_{4} Π_{1} Π_{4} Π_{1} Π_{4} + 29.0829452968481 Π_{4} Π_{1} Π_{3} Π_{1} Π_{4} Π_{1} Π_{4} Π_{2} Π_{4} - 34.5683138871045 Π_{4} Π_{1} Π_{3} Π_{1} Π_{4} Π_{2} Π_{4} + 11.862280184599 Π_{4} Π_{1} Π_{3} Π_{1} Π_{4} Π_{2} Π_{4} Π_{1} Π_{4} + 19.1935725227556 Π_{4} Π_{1} Π_{3} Π_{1} Π_{4} Π_{2} Π_{4} Π_{2} Π_{4} - 182.034003557312 Π_{4} Π_{1} Π_{4} + 60.6355927580358 Π_{4} Π_{1} Π_{4} Π_{1} Π_{3} Π_{1} Π_{3} Π_{1} Π_{4} - 36.5198104440048 Π_{4} Π_{1} Π_{4} Π_{1} Π_{3} Π_{1} Π_{4} + 307.848767436576 Π_{4} Π_{1} Π_{4} Π_{1} Π_{4} - 30.4620510673223 Π_{4} Π_{1} Π_{4} Π_{1} Π_{4} Π_{1} Π_{3} Π_{1} Π_{3} Π_{1} Π_{4} + 17.974248686406 Π_{4} Π_{1} Π_{4} Π_{1} Π_{4} Π_{1} Π_{3} Π_{1} Π_{4} - 215.146143328929 Π_{4} Π_{1} Π_{4} Π_{1} Π_{4} Π_{1} Π_{4} + 53.0561402141582 Π_{4} Π_{1} Π_{4} Π_{1} Π_{4} Π_{1} Π_{4} Π_{1} Π_{4} + 85.8466381783882 Π_{4} Π_{1} Π_{4} Π_{1} Π_{4} Π_{1} Π_{4} Π_{2} Π_{4} - 268.056051350077 Π_{4} Π_{1} Π_{4} Π_{1} Π_{4} Π_{2} Π_{4} + 30.4275090159261 Π_{4} Π_{1} Π_{4} Π_{1} Π_{4} Π_{2} Π_{4} Π_{1} Π_{4} + 49.2327437807623 Π_{4} Π_{1} Π_{4} Π_{1} Π_{4} Π_{2} Π_{4} Π_{2} Π_{4} + 279.477089187937 Π_{4} Π_{1} Π_{4} Π_{2} Π_{4} - 7.26959500546471 Π_{4} Π_{1} Π_{4} Π_{2} Π_{4} Π_{1} Π_{3} Π_{1} Π_{3} Π_{1} Π_{4} + 11.862280184599 Π_{4} Π_{1} Π_{4} Π_{2} Π_{4} Π_{1} Π_{3} Π_{1} Π_{4} - 117.727935411417 Π_{4} Π_{1} Π_{4} Π_{2} Π_{4} Π_{1} Π_{4} + 30.4275090159261 Π_{4} Π_{1} Π_{4} Π_{2} Π_{4} Π_{1} Π_{4} Π_{1} Π_{4} + 49.2327437807623 Π_{4} Π_{1} Π_{4} Π_{2} Π_{4} Π_{1} Π_{4} Π_{2} Π_{4} - 134.623201942941 Π_{4} Π_{1} Π_{4} Π_{2} Π_{4} Π_{2} Π_{4} + 11.5010977079753 Π_{4} Π_{1} Π_{4} Π_{2} Π_{4} Π_{2} Π_{4} Π_{1} Π_{4} + 18.6091669994375 Π_{4} Π_{1} Π_{4} Π_{2} Π_{4} Π_{2} Π_{4} Π_{2} Π_{4} - 143.341754323784 Π_{4} Π_{2} Π_{4} + 35.0818915277523 Π_{4} Π_{2} Π_{4} Π_{1} Π_{3} Π_{1} Π_{3} Π_{1} Π_{4} - 34.5683138871045 Π_{4} Π_{2} Π_{4} Π_{1} Π_{3} Π_{1} Π_{4} + 279.477089187937 Π_{4} Π_{2} Π_{4} Π_{1} Π_{4} - 49.2886339939625 Π_{4} Π_{2} Π_{4} Π_{1} Π_{4} Π_{1} Π_{3} Π_{1} Π_{3} Π_{1} Π_{4} + 29.0829452968481 Π_{4} Π_{2} Π_{4} Π_{1} Π_{4} Π_{1} Π_{3} Π_{1} Π_{4} - 268.056051350077 Π_{4} Π_{2} Π_{4} Π_{1} Π_{4} Π_{1} Π_{4} + 85.8466381783882 Π_{4} Π_{2} Π_{4} Π_{1} Π_{4} Π_{1} Π_{4} Π_{1} Π_{4} + 138.902778392547 Π_{4} Π_{2} Π_{4} Π_{1} Π_{4} Π_{1} Π_{4} Π_{2} Π_{4} - 304.187688165432 Π_{4} Π_{2} Π_{4} Π_{1} Π_{4} Π_{2} Π_{4} + 49.2327437807623 Π_{4} Π_{2} Π_{4} Π_{1} Π_{4} Π_{2} Π_{4} Π_{1} Π_{4} + 79.6602527966885 Π_{4} Π_{2} Π_{4} Π_{1} Π_{4} Π_{2} Π_{4} Π_{2} Π_{4} + 202.601492502462 Π_{4} Π_{2} Π_{4} Π_{2} Π_{4} - 11.7624518032884 Π_{4} Π_{2} Π_{4} Π_{2} Π_{4} Π_{1} Π_{3} Π_{1} Π_{3} Π_{1} Π_{4} + 19.1935725227556 Π_{4} Π_{2} Π_{4} Π_{2} Π_{4} Π_{1} Π_{3} Π_{1} Π_{4} - 134.623201942941 Π_{4} Π_{2} Π_{4} Π_{2} Π_{4} Π_{1} Π_{4} + 49.2327437807623 Π_{4} Π_{2} Π_{4} Π_{2} Π_{4} Π_{1} Π_{4} Π_{1} Π_{4} + 79.6602527966885 Π_{4} Π_{2} Π_{4} Π_{2} Π_{4} Π_{1} Π_{4} Π_{2} Π_{4} - 127.434096503597 Π_{4} Π_{2} Π_{4} Π_{2} Π_{4} Π_{2} Π_{4} + 18.6091669994375 Π_{4} Π_{2} Π_{4} Π_{2} Π_{4} Π_{2} Π_{4} Π_{1} Π_{4} + 30.1102647074128 Π_{4} Π_{2} Π_{4} Π_{2} Π_{4} Π_{2} Π_{4} Π_{2} Π_{4}\\right) + 5.0 \\left(4.46288002141677 Π_{3} Π_{0} Π_{2} Π_{0} Π_{2} Π_{0} Π_{2} Π_{0} Π_{3} - 6.00691932044492 Π_{3} Π_{0} Π_{2} Π_{0} Π_{2} Π_{0} Π_{3} - 6.37409009923141 Π_{3} Π_{0} Π_{2} Π_{0} Π_{2} Π_{4} Π_{1} Π_{3} - 6.67579336543243 Π_{3} Π_{0} Π_{2} Π_{0} Π_{2} Π_{4} Π_{1} Π_{3} Π_{1} Π_{3} + 25.3408505780703 Π_{3} Π_{0} Π_{2} Π_{0} Π_{2} Π_{4} Π_{1} Π_{4} Π_{1} Π_{3} + 4.12586720170831 Π_{3} Π_{0} Π_{2} Π_{0} Π_{2} Π_{4} Π_{2} Π_{0} Π_{3} + 6.04744967400386 Π_{3} Π_{0} Π_{2} Π_{0} Π_{2} Π_{4} Π_{2} Π_{4} Π_{1} Π_{3} + 1.70798314325996 Π_{3} Π_{0} Π_{2} Π_{0} Π_{3} - 5.4800358131559 Π_{3} Π_{0} Π_{2} Π_{4} Π_{1} Π_{3} - 1.89442719099992 Π_{3} Π_{0} Π_{2} Π_{4} Π_{1} Π_{3} Π_{0} Π_{3} + 1.37910577047418 Π_{3} Π_{0} Π_{2} Π_{4} Π_{1} Π_{3} Π_{1} Π_{3} + 8.02492235949962 Π_{3} Π_{0} Π_{2} Π_{4} Π_{1} Π_{3} Π_{1} Π_{3} Π_{1} Π_{3} - 0.593801640032389 Π_{3} Π_{0} Π_{2} Π_{4} Π_{1} Π_{4} Π_{1} Π_{3} + 4.12586720170831 Π_{3} Π_{0} Π_{2} Π_{4} Π_{2} Π_{0} Π_{2} Π_{0} Π_{3} - 3.8754888737183 Π_{3} Π_{0} Π_{2} Π_{4} Π_{2} Π_{0} Π_{3} + 7.43112071946727 Π_{3} Π_{0} Π_{2} Π_{4} Π_{2} Π_{4} Π_{1} Π_{3} + 0.251691631989822 Π_{3} Π_{0} Π_{3} + 0.170820393249935 Π_{3} Π_{0} Π_{3} Π_{1} Π_{3} + 1.17082039324994 Π_{3} Π_{0} Π_{3} Π_{1} Π_{3} Π_{0} Π_{3} - 0.447213595499943 Π_{3} Π_{0} Π_{3} Π_{1} Π_{3} Π_{1} Π_{3} - 4.95967477524975 Π_{3} Π_{0} Π_{3} Π_{1} Π_{3} Π_{1} Π_{3} Π_{1} Π_{3} + 6.22857976993242 Π_{3} Π_{0} Π_{3} Π_{1} Π_{4} Π_{1} Π_{3} + 3.06524758424984 Π_{3} Π_{0} Π_{3} Π_{1} Π_{4} Π_{1} Π_{3} Π_{1} Π_{3} - 11.6354681406821 Π_{3} Π_{0} Π_{3} Π_{1} Π_{4} Π_{1} Π_{4} Π_{1} Π_{3} - 1.89442719099992 Π_{3} Π_{0} Π_{3} Π_{1} Π_{4} Π_{2} Π_{0} Π_{3} - 2.77673820764105 Π_{3} Π_{0} Π_{3} Π_{1} Π_{4} Π_{2} Π_{4} Π_{1} Π_{3} + 0.0249223594996209 Π_{3} Π_{1} Π_{3} + 0.170820393249935 Π_{3} Π_{1} Π_{3} Π_{0} Π_{3} - 0.1304951684997 Π_{3} Π_{1} Π_{3} Π_{1} Π_{3} - 0.447213595499943 Π_{3} Π_{1} Π_{3} Π_{1} Π_{3} Π_{0} Π_{3} - 1.27639320225001 Π_{3} Π_{1} Π_{3} Π_{1} Π_{3} Π_{1} Π_{3} - 4.95967477524975 Π_{3} Π_{1} Π_{3} Π_{1} Π_{3} Π_{1} Π_{3} Π_{0} Π_{3} + 3.78885438199969 Π_{3} Π_{1} Π_{3} Π_{1} Π_{3} Π_{1} Π_{3} Π_{1} Π_{3} + 21.0095194942489 Π_{3} Π_{1} Π_{3} Π_{1} Π_{3} Π_{1} Π_{3} Π_{1} Π_{3} Π_{1} Π_{3} - 26.3846873087136 Π_{3} Π_{1} Π_{3} Π_{1} Π_{3} Π_{1} Π_{4} Π_{1} Π_{3} - 12.9845971347493 Π_{3} Π_{1} Π_{3} Π_{1} Π_{3} Π_{1} Π_{4} Π_{1} Π_{3} Π_{1} Π_{3} + 49.2886339939624 Π_{3} Π_{1} Π_{3} Π_{1} Π_{3} Π_{1} Π_{4} Π_{1} Π_{4} Π_{1} Π_{3} + 8.02492235949962 Π_{3} Π_{1} Π_{3} Π_{1} Π_{3} Π_{1} Π_{4} Π_{2} Π_{0} Π_{3} + 11.7624518032884 Π_{3} Π_{1} Π_{3} Π_{1} Π_{3} Π_{1} Π_{4} Π_{2} Π_{4} Π_{1} Π_{3} + 17.4399889485987 Π_{3} Π_{1} Π_{3} Π_{1} Π_{4} Π_{1} Π_{3} + 3.06524758424984 Π_{3} Π_{1} Π_{3} Π_{1} Π_{4} Π_{1} Π_{3} Π_{0} Π_{3} + 5.68328157299978 Π_{3} Π_{1} Π_{3} Π_{1} Π_{4} Π_{1} Π_{3} Π_{1} Π_{3} - 12.9845971347493 Π_{3} Π_{1} Π_{3} Π_{1} Π_{4} Π_{1} Π_{3} Π_{1} Π_{3} Π_{1} Π_{3} - 29.0829452968482 Π_{3} Π_{1} Π_{3} Π_{1} Π_{4} Π_{1} Π_{4} Π_{1} Π_{3} - 6.67579336543243 Π_{3} Π_{1} Π_{3} Π_{1} Π_{4} Π_{2} Π_{0} Π_{2} Π_{0} Π_{3} + 1.37910577047418 Π_{3} Π_{1} Π_{3} Π_{1} Π_{4} Π_{2} Π_{0} Π_{3} - 19.1935725227557 Π_{3} Π_{1} Π_{3} Π_{1} Π_{4} Π_{2} Π_{4} Π_{1} Π_{3} + 48.5805166994028 Π_{3} Π_{1} Π_{4} Π_{1} Π_{3} + 6.22857976993242 Π_{3} Π_{1} Π_{4} Π_{1} Π_{3} Π_{0} Π_{3} + 17.4399889485987 Π_{3} Π_{1} Π_{4} Π_{1} Π_{3} Π_{1} Π_{3} - 26.3846873087136 Π_{3} Π_{1} Π_{4} Π_{1} Π_{3} Π_{1} Π_{3} Π_{1} Π_{3} - 164.09180958645 Π_{3} Π_{1} Π_{4} Π_{1} Π_{4} Π_{1} Π_{3} - 11.6354681406821 Π_{3} Π_{1} Π_{4} Π_{1} Π_{4} Π_{1} Π_{3} Π_{0} Π_{3} - 29.0829452968482 Π_{3} Π_{1} Π_{4} Π_{1} Π_{4} Π_{1} Π_{3} Π_{1} Π_{3} + 49.2886339939624 Π_{3} Π_{1} Π_{4} Π_{1} Π_{4} Π_{1} Π_{3} Π_{1} Π_{3} Π_{1} Π_{3} + 138.902778392546 Π_{3} Π_{1} Π_{4} Π_{1} Π_{4} Π_{1} Π_{4} Π_{1} Π_{3} + 25.3408505780703 Π_{3} Π_{1} Π_{4} Π_{1} Π_{4} Π_{2} Π_{0} Π_{2} Π_{0} Π_{3} - 0.593801640032389 Π_{3} Π_{1} Π_{4} Π_{1} Π_{4} Π_{2} Π_{0} Π_{3} + 79.6602527966884 Π_{3} Π_{1} Π_{4} Π_{1} Π_{4} Π_{2} Π_{4} Π_{1} Π_{3} - 6.37409009923141 Π_{3} Π_{1} Π_{4} Π_{2} Π_{0} Π_{2} Π_{0} Π_{3} - 5.4800358131559 Π_{3} Π_{1} Π_{4} Π_{2} Π_{0} Π_{3} - 77.5865407271044 Π_{3} Π_{1} Π_{4} Π_{2} Π_{4} Π_{1} Π_{3} - 2.77673820764105 Π_{3} Π_{1} Π_{4} Π_{2} Π_{4} Π_{1} Π_{3} Π_{0} Π_{3} - 19.1935725227557 Π_{3} Π_{1} Π_{4} Π_{2} Π_{4} Π_{1} Π_{3} Π_{1} Π_{3} + 11.7624518032884 Π_{3} Π_{1} Π_{4} Π_{2} Π_{4} Π_{1} Π_{3} Π_{1} Π_{3} Π_{1} Π_{3} + 79.6602527966884 Π_{3} Π_{1} Π_{4} Π_{2} Π_{4} Π_{1} Π_{4} Π_{1} Π_{3} + 6.04744967400386 Π_{3} Π_{1} Π_{4} Π_{2} Π_{4} Π_{2} Π_{0} Π_{2} Π_{0} Π_{3} + 7.43112071946727 Π_{3} Π_{1} Π_{4} Π_{2} Π_{4} Π_{2} Π_{0} Π_{3} + 30.1102647074128 Π_{3} Π_{1} Π_{4} Π_{2} Π_{4} Π_{2} Π_{4} Π_{1} Π_{3}\\right)$"
      ],
      "text/plain": [
       "2.57288078924801⋅Π₀ + 6.49835083721987⋅Π₀⋅Π₂⋅Π₀ - 11.1067716478932⋅Π₀⋅Π₂⋅Π₀⋅Π₂\n",
       "⋅Π₀ + 4.46288002141674⋅Π₀⋅Π₂⋅Π₀⋅Π₂⋅Π₀⋅Π₂⋅Π₀ + 2.96541920293922⋅Π₀⋅Π₂⋅Π₀⋅Π₂⋅Π₄ \n",
       "- 4.12586720170827⋅Π₀⋅Π₂⋅Π₀⋅Π₂⋅Π₄⋅Π₁⋅Π₃ + 10.8016605671407⋅Π₀⋅Π₂⋅Π₀⋅Π₂⋅Π₄⋅Π₁⋅Π\n",
       "₃⋅Π₁ - 15.6615069610798⋅Π₀⋅Π₂⋅Π₀⋅Π₂⋅Π₄⋅Π₁⋅Π₄ + 15.6615069610798⋅Π₀⋅Π₂⋅Π₀⋅Π₂⋅Π₄\n",
       "⋅Π₁⋅Π₄⋅Π₂ - 2.96541920293922⋅Π₀⋅Π₂⋅Π₀⋅Π₂⋅Π₄⋅Π₂ + 4.12586720170829⋅Π₀⋅Π₂⋅Π₀⋅Π₂⋅\n",
       "Π₄⋅Π₂⋅Π₀ - 3.73752944378885⋅Π₀⋅Π₂⋅Π₀⋅Π₂⋅Π₄⋅Π₂⋅Π₄ + 3.73752944378886⋅Π₀⋅Π₂⋅Π₀⋅Π\n",
       "₂⋅Π₄⋅Π₂⋅Π₄⋅Π₂ + 6.37691159434273⋅Π₀⋅Π₂⋅Π₄ - 0.318486153015755⋅Π₀⋅Π₂⋅Π₄⋅Π₁⋅Π₃ -\n",
       " 1.89442719099992⋅Π₀⋅Π₂⋅Π₄⋅Π₁⋅Π₃⋅Π₀ + 0.833807573541449⋅Π₀⋅Π₂⋅Π₄⋅Π₁⋅Π₃⋅Π₁ + 4.\n",
       "95967477524974⋅Π₀⋅Π₂⋅Π₄⋅Π₁⋅Π₃⋅Π₁⋅Π₃ - 12.9845971347493⋅Π₀⋅Π₂⋅Π₄⋅Π₁⋅Π₃⋅Π₁⋅Π₃⋅Π₁\n",
       " + 0.366989596115493⋅Π₀⋅Π₂⋅Π₄⋅Π₁⋅Π₄ - 0.366989596115491⋅Π₀⋅Π₂⋅Π₄⋅Π₁⋅Π₄⋅Π₂ - 6.\n",
       "37691159434273⋅Π₀⋅Π₂⋅Π₄⋅Π₂ - 3.8754888737183⋅Π₀⋅Π₂⋅Π₄⋅Π₂⋅Π₀ + 4.12586720170829\n",
       "⋅Π₀⋅Π₂⋅Π₄⋅Π₂⋅Π₀⋅Π₂⋅Π₀ - 4.59268517913432⋅Π₀⋅Π₂⋅Π₄⋅Π₂⋅Π₄ + 4.59268517913432⋅Π₀⋅\n",
       "Π₂⋅Π₄⋅Π₂⋅Π₄⋅Π₂ + 0.447213595499958⋅Π₀⋅Π₃⋅Π₁⋅Π₃ + 1.17082039324994⋅Π₀⋅Π₃⋅Π₁⋅Π₃⋅\n",
       "Π₀ - 1.17082039324994⋅Π₀⋅Π₃⋅Π₁⋅Π₃⋅Π₁ - 3.06524758424984⋅Π₀⋅Π₃⋅Π₁⋅Π₃⋅Π₁⋅Π₃ + 8.\n",
       "02492235949961⋅Π₀⋅Π₃⋅Π₁⋅Π₃⋅Π₁⋅Π₃⋅Π₁ - 3.4022604039583⋅Π₀⋅Π₃⋅Π₁⋅Π₄ + 1.89442719\n",
       "099991⋅Π₀⋅Π₃⋅Π₁⋅Π₄⋅Π₁⋅Π₃ - 4.95967477524977⋅Π₀⋅Π₃⋅Π₁⋅Π₄⋅Π₁⋅Π₃⋅Π₁ + 7.191114785\n",
       "95813⋅Π₀⋅Π₃⋅Π₁⋅Π₄⋅Π₁⋅Π₄ - 7.19111478595813⋅Π₀⋅Π₃⋅Π₁⋅Π₄⋅Π₁⋅Π₄⋅Π₂ + 3.4022604039\n",
       "583⋅Π₀⋅Π₃⋅Π₁⋅Π₄⋅Π₂ - 1.89442719099992⋅Π₀⋅Π₃⋅Π₁⋅Π₄⋅Π₂⋅Π₀ + 1.71611859018264⋅Π₀⋅\n",
       "Π₃⋅Π₁⋅Π₄⋅Π₂⋅Π₄ - 1.71611859018264⋅Π₀⋅Π₃⋅Π₁⋅Π₄⋅Π₂⋅Π₄⋅Π₂ - 0.447213595499956⋅Π₁⋅\n",
       "Π₃⋅Π₁⋅Π₃ - 1.17082039324994⋅Π₁⋅Π₃⋅Π₁⋅Π₃⋅Π₀ + 1.17082039324994⋅Π₁⋅Π₃⋅Π₁⋅Π₃⋅Π₁ +\n",
       " 6.13049516849967⋅Π₁⋅Π₃⋅Π₁⋅Π₃⋅Π₁⋅Π₃ + 8.02492235949961⋅Π₁⋅Π₃⋅Π₁⋅Π₃⋅Π₁⋅Π₃⋅Π₀ - \n",
       "16.0498447189992⋅Π₁⋅Π₃⋅Π₁⋅Π₃⋅Π₁⋅Π₃⋅Π₁ - 21.0095194942488⋅Π₁⋅Π₃⋅Π₁⋅Π₃⋅Π₁⋅Π₃⋅Π₁⋅\n",
       "Π₃ + 55.0036361232471⋅Π₁⋅Π₃⋅Π₁⋅Π₃⋅Π₁⋅Π₃⋅Π₁⋅Π₃⋅Π₁ - 23.3194397244639⋅Π₁⋅Π₃⋅Π₁⋅Π\n",
       "₃⋅Π₁⋅Π₄ + 12.9845971347493⋅Π₁⋅Π₃⋅Π₁⋅Π₃⋅Π₁⋅Π₄⋅Π₁⋅Π₃ - 33.9941166289982⋅Π₁⋅Π₃⋅Π₁\n",
       "⋅Π₃⋅Π₁⋅Π₄⋅Π₁⋅Π₃⋅Π₁ + 49.2886339939625⋅Π₁⋅Π₃⋅Π₁⋅Π₃⋅Π₁⋅Π₄⋅Π₁⋅Π₄ - 49.28863399396\n",
       "25⋅Π₁⋅Π₃⋅Π₁⋅Π₃⋅Π₁⋅Π₄⋅Π₁⋅Π₄⋅Π₂ + 23.3194397244639⋅Π₁⋅Π₃⋅Π₁⋅Π₃⋅Π₁⋅Π₄⋅Π₂ - 12.984\n",
       "5971347493⋅Π₁⋅Π₃⋅Π₁⋅Π₃⋅Π₁⋅Π₄⋅Π₂⋅Π₀ + 11.7624518032884⋅Π₁⋅Π₃⋅Π₁⋅Π₃⋅Π₁⋅Π₄⋅Π₂⋅Π₄ \n",
       "- 11.7624518032884⋅Π₁⋅Π₃⋅Π₁⋅Π₃⋅Π₁⋅Π₄⋅Π₂⋅Π₄⋅Π₂ + 20.8797143365313⋅Π₁⋅Π₃⋅Π₁⋅Π₄ -\n",
       " 11.8137767414994⋅Π₁⋅Π₃⋅Π₁⋅Π₄⋅Π₁⋅Π₃ - 4.95967477524977⋅Π₁⋅Π₃⋅Π₁⋅Π₄⋅Π₁⋅Π₃⋅Π₀ + \n",
       "30.9288690447484⋅Π₁⋅Π₃⋅Π₁⋅Π₄⋅Π₁⋅Π₃⋅Π₁ + 12.9845971347493⋅Π₁⋅Π₃⋅Π₁⋅Π₄⋅Π₁⋅Π₃⋅Π₁⋅\n",
       "Π₃ - 33.9941166289982⋅Π₁⋅Π₃⋅Π₁⋅Π₄⋅Π₁⋅Π₃⋅Π₁⋅Π₃⋅Π₁ - 40.7184134375303⋅Π₁⋅Π₃⋅Π₁⋅Π\n",
       "₄⋅Π₁⋅Π₄ + 40.7184134375303⋅Π₁⋅Π₃⋅Π₁⋅Π₄⋅Π₁⋅Π₄⋅Π₂ - 20.8797143365313⋅Π₁⋅Π₃⋅Π₁⋅Π₄\n",
       "⋅Π₂ + 0.833807573541449⋅Π₁⋅Π₃⋅Π₁⋅Π₄⋅Π₂⋅Π₀ + 10.8016605671407⋅Π₁⋅Π₃⋅Π₁⋅Π₄⋅Π₂⋅Π₀\n",
       "⋅Π₂⋅Π₀ - 21.9703107303967⋅Π₁⋅Π₃⋅Π₁⋅Π₄⋅Π₂⋅Π₄ + 21.9703107303967⋅Π₁⋅Π₃⋅Π₁⋅Π₄⋅Π₂⋅\n",
       "Π₄⋅Π₂ - 14.5391900109295⋅Π₂⋅Π₄ + 7.97534120116649⋅Π₂⋅Π₄⋅Π₁⋅Π₃ + 3.402260403958\n",
       "3⋅Π₂⋅Π₄⋅Π₁⋅Π₃⋅Π₀ - 20.8797143365313⋅Π₂⋅Π₄⋅Π₁⋅Π₃⋅Π₁ - 8.9072333761407⋅Π₂⋅Π₄⋅Π₁⋅\n",
       "Π₃⋅Π₁⋅Π₃ + 23.3194397244639⋅Π₂⋅Π₄⋅Π₁⋅Π₃⋅Π₁⋅Π₃⋅Π₁ + 55.3343398880886⋅Π₂⋅Π₄⋅Π₁⋅Π\n",
       "₄ - 15.5530499651661⋅Π₂⋅Π₄⋅Π₁⋅Π₄⋅Π₁⋅Π₃ - 7.19111478595813⋅Π₂⋅Π₄⋅Π₁⋅Π₄⋅Π₁⋅Π₃⋅Π₀\n",
       " + 40.7184134375303⋅Π₂⋅Π₄⋅Π₁⋅Π₄⋅Π₁⋅Π₃⋅Π₁ + 18.8265829266402⋅Π₂⋅Π₄⋅Π₁⋅Π₄⋅Π₁⋅Π₃⋅\n",
       "Π₁⋅Π₃ - 49.2886339939625⋅Π₂⋅Π₄⋅Π₁⋅Π₄⋅Π₁⋅Π₃⋅Π₁⋅Π₃⋅Π₁ - 53.0561402141585⋅Π₂⋅Π₄⋅Π\n",
       "₁⋅Π₄⋅Π₁⋅Π₄ + 53.0561402141585⋅Π₂⋅Π₄⋅Π₁⋅Π₄⋅Π₁⋅Π₄⋅Π₂ - 55.3343398880886⋅Π₂⋅Π₄⋅Π₁\n",
       "⋅Π₄⋅Π₂ - 0.366989596115491⋅Π₂⋅Π₄⋅Π₁⋅Π₄⋅Π₂⋅Π₀ + 15.6615069610798⋅Π₂⋅Π₄⋅Π₁⋅Π₄⋅Π₂\n",
       "⋅Π₀⋅Π₂⋅Π₀ - 30.4275090159262⋅Π₂⋅Π₄⋅Π₁⋅Π₄⋅Π₂⋅Π₄ + 30.4275090159262⋅Π₂⋅Π₄⋅Π₁⋅Π₄⋅\n",
       "Π₂⋅Π₄⋅Π₂ + 14.5391900109295⋅Π₂⋅Π₄⋅Π₂ - 6.37691159434273⋅Π₂⋅Π₄⋅Π₂⋅Π₀ - 2.965419\n",
       "20293922⋅Π₂⋅Π₄⋅Π₂⋅Π₀⋅Π₂⋅Π₀ + 25.6732981227894⋅Π₂⋅Π₄⋅Π₂⋅Π₄ - 8.39191195561501⋅Π\n",
       "₂⋅Π₄⋅Π₂⋅Π₄⋅Π₁⋅Π₃ - 1.71611859018264⋅Π₂⋅Π₄⋅Π₂⋅Π₄⋅Π₁⋅Π₃⋅Π₀ + 21.9703107303967⋅Π₂\n",
       "⋅Π₄⋅Π₂⋅Π₄⋅Π₁⋅Π₃⋅Π₁ + 4.49285679782367⋅Π₂⋅Π₄⋅Π₂⋅Π₄⋅Π₁⋅Π₃⋅Π₁⋅Π₃ - 11.76245180328\n",
       "84⋅Π₂⋅Π₄⋅Π₂⋅Π₄⋅Π₁⋅Π₃⋅Π₁⋅Π₃⋅Π₁ - 30.4275090159262⋅Π₂⋅Π₄⋅Π₂⋅Π₄⋅Π₁⋅Π₄ + 30.427509\n",
       "0159262⋅Π₂⋅Π₄⋅Π₂⋅Π₄⋅Π₁⋅Π₄⋅Π₂ - 25.6732981227894⋅Π₂⋅Π₄⋅Π₂⋅Π₄⋅Π₂ + 4.59268517913\n",
       "432⋅Π₂⋅Π₄⋅Π₂⋅Π₄⋅Π₂⋅Π₀ + 3.73752944378886⋅Π₂⋅Π₄⋅Π₂⋅Π₄⋅Π₂⋅Π₀⋅Π₂⋅Π₀ - 11.50109770\n",
       "79753⋅Π₂⋅Π₄⋅Π₂⋅Π₄⋅Π₂⋅Π₄ + 11.5010977079753⋅Π₂⋅Π₄⋅Π₂⋅Π₄⋅Π₂⋅Π₄⋅Π₂ + 0.1708203932\n",
       "49936⋅Π₃⋅Π₁⋅Π₃ + 0.447213595499958⋅Π₃⋅Π₁⋅Π₃⋅Π₀ - 0.447213595499956⋅Π₃⋅Π₁⋅Π₃⋅Π₁\n",
       " - 2.34164078649985⋅Π₃⋅Π₁⋅Π₃⋅Π₁⋅Π₃ - 3.06524758424984⋅Π₃⋅Π₁⋅Π₃⋅Π₁⋅Π₃⋅Π₀ + 6.13\n",
       "049516849967⋅Π₃⋅Π₁⋅Π₃⋅Π₁⋅Π₃⋅Π₁ + 8.02492235949953⋅Π₃⋅Π₁⋅Π₃⋅Π₁⋅Π₃⋅Π₁⋅Π₃ - 21.00\n",
       "95194942488⋅Π₃⋅Π₁⋅Π₃⋅Π₁⋅Π₃⋅Π₁⋅Π₃⋅Π₁ + 8.9072333761407⋅Π₃⋅Π₁⋅Π₃⋅Π₁⋅Π₄ - 4.95967\n",
       "477524972⋅Π₃⋅Π₁⋅Π₃⋅Π₁⋅Π₄⋅Π₁⋅Π₃ + 12.9845971347493⋅Π₃⋅Π₁⋅Π₃⋅Π₁⋅Π₄⋅Π₁⋅Π₃⋅Π₁ - 18\n",
       ".8265829266402⋅Π₃⋅Π₁⋅Π₃⋅Π₁⋅Π₄⋅Π₁⋅Π₄ + 18.8265829266402⋅Π₃⋅Π₁⋅Π₃⋅Π₁⋅Π₄⋅Π₁⋅Π₄⋅Π₂\n",
       " - 8.9072333761407⋅Π₃⋅Π₁⋅Π₃⋅Π₁⋅Π₄⋅Π₂ + 4.95967477524974⋅Π₃⋅Π₁⋅Π₃⋅Π₁⋅Π₄⋅Π₂⋅Π₀ -\n",
       " 4.49285679782366⋅Π₃⋅Π₁⋅Π₃⋅Π₁⋅Π₄⋅Π₂⋅Π₄ + 4.49285679782367⋅Π₃⋅Π₁⋅Π₃⋅Π₁⋅Π₄⋅Π₂⋅Π₄\n",
       "⋅Π₂ - 7.97534120116648⋅Π₃⋅Π₁⋅Π₄ + 4.51246117974978⋅Π₃⋅Π₁⋅Π₄⋅Π₁⋅Π₃ + 1.89442719\n",
       "099991⋅Π₃⋅Π₁⋅Π₄⋅Π₁⋅Π₃⋅Π₀ - 11.8137767414994⋅Π₃⋅Π₁⋅Π₄⋅Π₁⋅Π₃⋅Π₁ - 4.959674775249\n",
       "72⋅Π₃⋅Π₁⋅Π₄⋅Π₁⋅Π₃⋅Π₁⋅Π₃ + 12.9845971347493⋅Π₃⋅Π₁⋅Π₄⋅Π₁⋅Π₃⋅Π₁⋅Π₃⋅Π₁ + 15.553049\n",
       "9651661⋅Π₃⋅Π₁⋅Π₄⋅Π₁⋅Π₄ - 15.5530499651661⋅Π₃⋅Π₁⋅Π₄⋅Π₁⋅Π₄⋅Π₂ + 7.97534120116649\n",
       "⋅Π₃⋅Π₁⋅Π₄⋅Π₂ - 0.318486153015755⋅Π₃⋅Π₁⋅Π₄⋅Π₂⋅Π₀ - 4.12586720170827⋅Π₃⋅Π₁⋅Π₄⋅Π₂\n",
       "⋅Π₀⋅Π₂⋅Π₀ + 8.391911955615⋅Π₃⋅Π₁⋅Π₄⋅Π₂⋅Π₄ - 8.39191195561501⋅Π₃⋅Π₁⋅Π₄⋅Π₂⋅Π₄⋅Π₂\n",
       " + 14.5391900109295⋅Π₄ - 7.97534120116648⋅Π₄⋅Π₁⋅Π₃ - 3.4022604039583⋅Π₄⋅Π₁⋅Π₃⋅\n",
       "Π₀ + 20.8797143365313⋅Π₄⋅Π₁⋅Π₃⋅Π₁ + 8.9072333761407⋅Π₄⋅Π₁⋅Π₃⋅Π₁⋅Π₃ - 23.319439\n",
       "7244639⋅Π₄⋅Π₁⋅Π₃⋅Π₁⋅Π₃⋅Π₁ - 55.3343398880885⋅Π₄⋅Π₁⋅Π₄ + 15.5530499651661⋅Π₄⋅Π₁\n",
       "⋅Π₄⋅Π₁⋅Π₃ + 7.19111478595813⋅Π₄⋅Π₁⋅Π₄⋅Π₁⋅Π₃⋅Π₀ - 40.7184134375303⋅Π₄⋅Π₁⋅Π₄⋅Π₁⋅\n",
       "Π₃⋅Π₁ - 18.8265829266402⋅Π₄⋅Π₁⋅Π₄⋅Π₁⋅Π₃⋅Π₁⋅Π₃ + 49.2886339939625⋅Π₄⋅Π₁⋅Π₄⋅Π₁⋅Π\n",
       "₃⋅Π₁⋅Π₃⋅Π₁ + 53.0561402141585⋅Π₄⋅Π₁⋅Π₄⋅Π₁⋅Π₄ - 53.0561402141585⋅Π₄⋅Π₁⋅Π₄⋅Π₁⋅Π₄\n",
       "⋅Π₂ + 55.3343398880886⋅Π₄⋅Π₁⋅Π₄⋅Π₂ + 0.366989596115493⋅Π₄⋅Π₁⋅Π₄⋅Π₂⋅Π₀ - 15.661\n",
       "5069610798⋅Π₄⋅Π₁⋅Π₄⋅Π₂⋅Π₀⋅Π₂⋅Π₀ + 30.4275090159262⋅Π₄⋅Π₁⋅Π₄⋅Π₂⋅Π₄ - 30.4275090\n",
       "159262⋅Π₄⋅Π₁⋅Π₄⋅Π₂⋅Π₄⋅Π₂ - 14.5391900109295⋅Π₄⋅Π₂ + 6.37691159434273⋅Π₄⋅Π₂⋅Π₀ \n",
       "+ 2.96541920293922⋅Π₄⋅Π₂⋅Π₀⋅Π₂⋅Π₀ - 25.6732981227893⋅Π₄⋅Π₂⋅Π₄ + 8.391911955615\n",
       "⋅Π₄⋅Π₂⋅Π₄⋅Π₁⋅Π₃ + 1.71611859018264⋅Π₄⋅Π₂⋅Π₄⋅Π₁⋅Π₃⋅Π₀ - 21.9703107303967⋅Π₄⋅Π₂⋅\n",
       "Π₄⋅Π₁⋅Π₃⋅Π₁ - 4.49285679782366⋅Π₄⋅Π₂⋅Π₄⋅Π₁⋅Π₃⋅Π₁⋅Π₃ + 11.7624518032884⋅Π₄⋅Π₂⋅Π\n",
       "₄⋅Π₁⋅Π₃⋅Π₁⋅Π₃⋅Π₁ + 30.4275090159262⋅Π₄⋅Π₂⋅Π₄⋅Π₁⋅Π₄ - 30.4275090159262⋅Π₄⋅Π₂⋅Π₄\n",
       "⋅Π₁⋅Π₄⋅Π₂ + 25.6732981227894⋅Π₄⋅Π₂⋅Π₄⋅Π₂ - 4.59268517913432⋅Π₄⋅Π₂⋅Π₄⋅Π₂⋅Π₀ - 3\n",
       ".73752944378885⋅Π₄⋅Π₂⋅Π₄⋅Π₂⋅Π₀⋅Π₂⋅Π₀ + 11.5010977079753⋅Π₄⋅Π₂⋅Π₄⋅Π₂⋅Π₄ - 11.50\n",
       "10977079753⋅Π₄⋅Π₂⋅Π₄⋅Π₂⋅Π₄⋅Π₂ + 5.0⋅(0.0730594114948682⋅Π₂⋅Π₀⋅Π₂ + 12.22253566\n",
       "8703⋅Π₂⋅Π₀⋅Π₂⋅Π₀⋅Π₂ - 23.9780533520198⋅Π₂⋅Π₀⋅Π₂⋅Π₀⋅Π₂⋅Π₀⋅Π₂ + 11.6839715837819\n",
       "⋅Π₂⋅Π₀⋅Π₂⋅Π₀⋅Π₂⋅Π₀⋅Π₂⋅Π₀⋅Π₂ + 10.8016605671408⋅Π₂⋅Π₀⋅Π₂⋅Π₀⋅Π₂⋅Π₄⋅Π₂⋅Π₀⋅Π₂ - 4.\n",
       "95967477524979⋅Π₂⋅Π₀⋅Π₂⋅Π₄⋅Π₁⋅Π₃⋅Π₀⋅Π₂ - 10.1461615944165⋅Π₂⋅Π₀⋅Π₂⋅Π₄⋅Π₂⋅Π₀⋅Π₂\n",
       " + 10.8016605671408⋅Π₂⋅Π₀⋅Π₂⋅Π₄⋅Π₂⋅Π₀⋅Π₂⋅Π₀⋅Π₂ + 3.06524758424986⋅Π₂⋅Π₀⋅Π₃⋅Π₁⋅\n",
       "Π₃⋅Π₀⋅Π₂ - 4.95967477524979⋅Π₂⋅Π₀⋅Π₃⋅Π₁⋅Π₄⋅Π₂⋅Π₀⋅Π₂) + 5.0⋅(0.0249223594996216\n",
       "⋅Π₁ - 0.683281572999749⋅Π₁⋅Π₃⋅Π₁ + 7.02492235949962⋅Π₁⋅Π₃⋅Π₁⋅Π₃⋅Π₁ - 32.099689\n",
       "4379984⋅Π₁⋅Π₃⋅Π₁⋅Π₃⋅Π₁⋅Π₃⋅Π₁ + 55.0036361232471⋅Π₁⋅Π₃⋅Π₁⋅Π₃⋅Π₁⋅Π₃⋅Π₁⋅Π₃⋅Π₁ - 1\n",
       "8.3597649492141⋅Π₁⋅Π₃⋅Π₁⋅Π₃⋅Π₁⋅Π₄⋅Π₁ - 33.9941166289982⋅Π₁⋅Π₃⋅Π₁⋅Π₃⋅Π₁⋅Π₄⋅Π₁⋅Π\n",
       "₃⋅Π₁ + 49.2886339939625⋅Π₁⋅Π₃⋅Π₁⋅Π₃⋅Π₁⋅Π₄⋅Π₁⋅Π₄⋅Π₁ + 11.7624518032884⋅Π₁⋅Π₃⋅Π₁\n",
       "⋅Π₃⋅Π₁⋅Π₄⋅Π₂⋅Π₄⋅Π₁ + 19.0459067629898⋅Π₁⋅Π₃⋅Π₁⋅Π₄⋅Π₁ + 40.8482185952479⋅Π₁⋅Π₃⋅\n",
       "Π₁⋅Π₄⋅Π₁⋅Π₃⋅Π₁ - 33.9941166289982⋅Π₁⋅Π₃⋅Π₁⋅Π₄⋅Π₁⋅Π₃⋅Π₁⋅Π₃⋅Π₁ - 47.909528223488\n",
       "4⋅Π₁⋅Π₃⋅Π₁⋅Π₄⋅Π₁⋅Π₄⋅Π₁ - 23.6864293205793⋅Π₁⋅Π₃⋅Π₁⋅Π₄⋅Π₂⋅Π₄⋅Π₁ + 9.10493069049\n",
       "321⋅Π₁⋅Π₄⋅Π₁ + 19.0459067629898⋅Π₁⋅Π₄⋅Π₁⋅Π₃⋅Π₁ - 18.3597649492141⋅Π₁⋅Π₄⋅Π₁⋅Π₃⋅\n",
       "Π₁⋅Π₃⋅Π₁ - 43.4528669721522⋅Π₁⋅Π₄⋅Π₁⋅Π₄⋅Π₁ - 47.9095282234884⋅Π₁⋅Π₄⋅Π₁⋅Π₄⋅Π₁⋅Π\n",
       "₃⋅Π₁ + 49.2886339939625⋅Π₁⋅Π₄⋅Π₁⋅Π₄⋅Π₁⋅Π₃⋅Π₁⋅Π₃⋅Π₁ + 53.0561402141584⋅Π₁⋅Π₄⋅Π₁\n",
       "⋅Π₄⋅Π₁⋅Π₄⋅Π₁ + 30.4275090159261⋅Π₁⋅Π₄⋅Π₁⋅Π₄⋅Π₂⋅Π₄⋅Π₁ - 19.2624478498926⋅Π₁⋅Π₄⋅\n",
       "Π₂⋅Π₄⋅Π₁ - 23.6864293205793⋅Π₁⋅Π₄⋅Π₂⋅Π₄⋅Π₁⋅Π₃⋅Π₁ + 11.7624518032884⋅Π₁⋅Π₄⋅Π₂⋅Π\n",
       "₄⋅Π₁⋅Π₃⋅Π₁⋅Π₃⋅Π₁ + 30.4275090159261⋅Π₁⋅Π₄⋅Π₂⋅Π₄⋅Π₁⋅Π₄⋅Π₁ + 11.5010977079753⋅Π₁\n",
       "⋅Π₄⋅Π₂⋅Π₄⋅Π₂⋅Π₄⋅Π₁) + 5.0⋅(38.0640936175063⋅Π₄ + 21.0095194942489⋅Π₄⋅Π₁⋅Π₃⋅Π₁⋅\n",
       "Π₃⋅Π₁⋅Π₃⋅Π₁⋅Π₃⋅Π₁⋅Π₄ + 3.7888543819998⋅Π₄⋅Π₁⋅Π₃⋅Π₁⋅Π₃⋅Π₁⋅Π₃⋅Π₁⋅Π₄ - 47.9152726\n",
       "511778⋅Π₄⋅Π₁⋅Π₃⋅Π₁⋅Π₃⋅Π₁⋅Π₄ - 12.9845971347493⋅Π₄⋅Π₁⋅Π₃⋅Π₁⋅Π₃⋅Π₁⋅Π₄⋅Π₁⋅Π₃⋅Π₁⋅Π\n",
       "₄ + 60.6355927580358⋅Π₄⋅Π₁⋅Π₃⋅Π₁⋅Π₃⋅Π₁⋅Π₄⋅Π₁⋅Π₄ - 30.4620510673223⋅Π₄⋅Π₁⋅Π₃⋅Π₁\n",
       "⋅Π₃⋅Π₁⋅Π₄⋅Π₁⋅Π₄⋅Π₁⋅Π₄ - 49.2886339939625⋅Π₄⋅Π₁⋅Π₃⋅Π₁⋅Π₃⋅Π₁⋅Π₄⋅Π₁⋅Π₄⋅Π₂⋅Π₄ + 35\n",
       ".0818915277523⋅Π₄⋅Π₁⋅Π₃⋅Π₁⋅Π₃⋅Π₁⋅Π₄⋅Π₂⋅Π₄ - 7.26959500546471⋅Π₄⋅Π₁⋅Π₃⋅Π₁⋅Π₃⋅Π₁\n",
       "⋅Π₄⋅Π₂⋅Π₄⋅Π₁⋅Π₄ - 11.7624518032884⋅Π₄⋅Π₁⋅Π₃⋅Π₁⋅Π₃⋅Π₁⋅Π₄⋅Π₂⋅Π₄⋅Π₂⋅Π₄ + 30.61898\n",
       "7560198⋅Π₄⋅Π₁⋅Π₃⋅Π₁⋅Π₄ - 12.9845971347493⋅Π₄⋅Π₁⋅Π₃⋅Π₁⋅Π₄⋅Π₁⋅Π₃⋅Π₁⋅Π₃⋅Π₁⋅Π₄ + 5\n",
       ".68328157299972⋅Π₄⋅Π₁⋅Π₃⋅Π₁⋅Π₄⋅Π₁⋅Π₃⋅Π₁⋅Π₄ - 36.5198104440048⋅Π₄⋅Π₁⋅Π₃⋅Π₁⋅Π₄⋅Π\n",
       "₁⋅Π₄ + 17.974248686406⋅Π₄⋅Π₁⋅Π₃⋅Π₁⋅Π₄⋅Π₁⋅Π₄⋅Π₁⋅Π₄ + 29.0829452968481⋅Π₄⋅Π₁⋅Π₃⋅\n",
       "Π₁⋅Π₄⋅Π₁⋅Π₄⋅Π₂⋅Π₄ - 34.5683138871045⋅Π₄⋅Π₁⋅Π₃⋅Π₁⋅Π₄⋅Π₂⋅Π₄ + 11.862280184599⋅Π₄\n",
       "⋅Π₁⋅Π₃⋅Π₁⋅Π₄⋅Π₂⋅Π₄⋅Π₁⋅Π₄ + 19.1935725227556⋅Π₄⋅Π₁⋅Π₃⋅Π₁⋅Π₄⋅Π₂⋅Π₄⋅Π₂⋅Π₄ - 182.0\n",
       "34003557312⋅Π₄⋅Π₁⋅Π₄ + 60.6355927580358⋅Π₄⋅Π₁⋅Π₄⋅Π₁⋅Π₃⋅Π₁⋅Π₃⋅Π₁⋅Π₄ - 36.519810\n",
       "4440048⋅Π₄⋅Π₁⋅Π₄⋅Π₁⋅Π₃⋅Π₁⋅Π₄ + 307.848767436576⋅Π₄⋅Π₁⋅Π₄⋅Π₁⋅Π₄ - 30.4620510673\n",
       "223⋅Π₄⋅Π₁⋅Π₄⋅Π₁⋅Π₄⋅Π₁⋅Π₃⋅Π₁⋅Π₃⋅Π₁⋅Π₄ + 17.974248686406⋅Π₄⋅Π₁⋅Π₄⋅Π₁⋅Π₄⋅Π₁⋅Π₃⋅Π₁\n",
       "⋅Π₄ - 215.146143328929⋅Π₄⋅Π₁⋅Π₄⋅Π₁⋅Π₄⋅Π₁⋅Π₄ + 53.0561402141582⋅Π₄⋅Π₁⋅Π₄⋅Π₁⋅Π₄⋅\n",
       "Π₁⋅Π₄⋅Π₁⋅Π₄ + 85.8466381783882⋅Π₄⋅Π₁⋅Π₄⋅Π₁⋅Π₄⋅Π₁⋅Π₄⋅Π₂⋅Π₄ - 268.056051350077⋅Π\n",
       "₄⋅Π₁⋅Π₄⋅Π₁⋅Π₄⋅Π₂⋅Π₄ + 30.4275090159261⋅Π₄⋅Π₁⋅Π₄⋅Π₁⋅Π₄⋅Π₂⋅Π₄⋅Π₁⋅Π₄ + 49.2327437\n",
       "807623⋅Π₄⋅Π₁⋅Π₄⋅Π₁⋅Π₄⋅Π₂⋅Π₄⋅Π₂⋅Π₄ + 279.477089187937⋅Π₄⋅Π₁⋅Π₄⋅Π₂⋅Π₄ - 7.269595\n",
       "00546471⋅Π₄⋅Π₁⋅Π₄⋅Π₂⋅Π₄⋅Π₁⋅Π₃⋅Π₁⋅Π₃⋅Π₁⋅Π₄ + 11.862280184599⋅Π₄⋅Π₁⋅Π₄⋅Π₂⋅Π₄⋅Π₁⋅\n",
       "Π₃⋅Π₁⋅Π₄ - 117.727935411417⋅Π₄⋅Π₁⋅Π₄⋅Π₂⋅Π₄⋅Π₁⋅Π₄ + 30.4275090159261⋅Π₄⋅Π₁⋅Π₄⋅Π\n",
       "₂⋅Π₄⋅Π₁⋅Π₄⋅Π₁⋅Π₄ + 49.2327437807623⋅Π₄⋅Π₁⋅Π₄⋅Π₂⋅Π₄⋅Π₁⋅Π₄⋅Π₂⋅Π₄ - 134.623201942\n",
       "941⋅Π₄⋅Π₁⋅Π₄⋅Π₂⋅Π₄⋅Π₂⋅Π₄ + 11.5010977079753⋅Π₄⋅Π₁⋅Π₄⋅Π₂⋅Π₄⋅Π₂⋅Π₄⋅Π₁⋅Π₄ + 18.60\n",
       "91669994375⋅Π₄⋅Π₁⋅Π₄⋅Π₂⋅Π₄⋅Π₂⋅Π₄⋅Π₂⋅Π₄ - 143.341754323784⋅Π₄⋅Π₂⋅Π₄ + 35.081891\n",
       "5277523⋅Π₄⋅Π₂⋅Π₄⋅Π₁⋅Π₃⋅Π₁⋅Π₃⋅Π₁⋅Π₄ - 34.5683138871045⋅Π₄⋅Π₂⋅Π₄⋅Π₁⋅Π₃⋅Π₁⋅Π₄ + 2\n",
       "79.477089187937⋅Π₄⋅Π₂⋅Π₄⋅Π₁⋅Π₄ - 49.2886339939625⋅Π₄⋅Π₂⋅Π₄⋅Π₁⋅Π₄⋅Π₁⋅Π₃⋅Π₁⋅Π₃⋅Π\n",
       "₁⋅Π₄ + 29.0829452968481⋅Π₄⋅Π₂⋅Π₄⋅Π₁⋅Π₄⋅Π₁⋅Π₃⋅Π₁⋅Π₄ - 268.056051350077⋅Π₄⋅Π₂⋅Π₄\n",
       "⋅Π₁⋅Π₄⋅Π₁⋅Π₄ + 85.8466381783882⋅Π₄⋅Π₂⋅Π₄⋅Π₁⋅Π₄⋅Π₁⋅Π₄⋅Π₁⋅Π₄ + 138.902778392547⋅\n",
       "Π₄⋅Π₂⋅Π₄⋅Π₁⋅Π₄⋅Π₁⋅Π₄⋅Π₂⋅Π₄ - 304.187688165432⋅Π₄⋅Π₂⋅Π₄⋅Π₁⋅Π₄⋅Π₂⋅Π₄ + 49.232743\n",
       "7807623⋅Π₄⋅Π₂⋅Π₄⋅Π₁⋅Π₄⋅Π₂⋅Π₄⋅Π₁⋅Π₄ + 79.6602527966885⋅Π₄⋅Π₂⋅Π₄⋅Π₁⋅Π₄⋅Π₂⋅Π₄⋅Π₂⋅\n",
       "Π₄ + 202.601492502462⋅Π₄⋅Π₂⋅Π₄⋅Π₂⋅Π₄ - 11.7624518032884⋅Π₄⋅Π₂⋅Π₄⋅Π₂⋅Π₄⋅Π₁⋅Π₃⋅Π\n",
       "₁⋅Π₃⋅Π₁⋅Π₄ + 19.1935725227556⋅Π₄⋅Π₂⋅Π₄⋅Π₂⋅Π₄⋅Π₁⋅Π₃⋅Π₁⋅Π₄ - 134.623201942941⋅Π₄\n",
       "⋅Π₂⋅Π₄⋅Π₂⋅Π₄⋅Π₁⋅Π₄ + 49.2327437807623⋅Π₄⋅Π₂⋅Π₄⋅Π₂⋅Π₄⋅Π₁⋅Π₄⋅Π₁⋅Π₄ + 79.66025279\n",
       "66885⋅Π₄⋅Π₂⋅Π₄⋅Π₂⋅Π₄⋅Π₁⋅Π₄⋅Π₂⋅Π₄ - 127.434096503597⋅Π₄⋅Π₂⋅Π₄⋅Π₂⋅Π₄⋅Π₂⋅Π₄ + 18.\n",
       "6091669994375⋅Π₄⋅Π₂⋅Π₄⋅Π₂⋅Π₄⋅Π₂⋅Π₄⋅Π₁⋅Π₄ + 30.1102647074128⋅Π₄⋅Π₂⋅Π₄⋅Π₂⋅Π₄⋅Π₂⋅\n",
       "Π₄⋅Π₂⋅Π₄) + 5.0⋅(4.46288002141677⋅Π₃⋅Π₀⋅Π₂⋅Π₀⋅Π₂⋅Π₀⋅Π₂⋅Π₀⋅Π₃ - 6.0069193204449\n",
       "2⋅Π₃⋅Π₀⋅Π₂⋅Π₀⋅Π₂⋅Π₀⋅Π₃ - 6.37409009923141⋅Π₃⋅Π₀⋅Π₂⋅Π₀⋅Π₂⋅Π₄⋅Π₁⋅Π₃ - 6.67579336\n",
       "543243⋅Π₃⋅Π₀⋅Π₂⋅Π₀⋅Π₂⋅Π₄⋅Π₁⋅Π₃⋅Π₁⋅Π₃ + 25.3408505780703⋅Π₃⋅Π₀⋅Π₂⋅Π₀⋅Π₂⋅Π₄⋅Π₁⋅Π\n",
       "₄⋅Π₁⋅Π₃ + 4.12586720170831⋅Π₃⋅Π₀⋅Π₂⋅Π₀⋅Π₂⋅Π₄⋅Π₂⋅Π₀⋅Π₃ + 6.04744967400386⋅Π₃⋅Π₀\n",
       "⋅Π₂⋅Π₀⋅Π₂⋅Π₄⋅Π₂⋅Π₄⋅Π₁⋅Π₃ + 1.70798314325996⋅Π₃⋅Π₀⋅Π₂⋅Π₀⋅Π₃ - 5.4800358131559⋅Π\n",
       "₃⋅Π₀⋅Π₂⋅Π₄⋅Π₁⋅Π₃ - 1.89442719099992⋅Π₃⋅Π₀⋅Π₂⋅Π₄⋅Π₁⋅Π₃⋅Π₀⋅Π₃ + 1.37910577047418\n",
       "⋅Π₃⋅Π₀⋅Π₂⋅Π₄⋅Π₁⋅Π₃⋅Π₁⋅Π₃ + 8.02492235949962⋅Π₃⋅Π₀⋅Π₂⋅Π₄⋅Π₁⋅Π₃⋅Π₁⋅Π₃⋅Π₁⋅Π₃ - 0.\n",
       "593801640032389⋅Π₃⋅Π₀⋅Π₂⋅Π₄⋅Π₁⋅Π₄⋅Π₁⋅Π₃ + 4.12586720170831⋅Π₃⋅Π₀⋅Π₂⋅Π₄⋅Π₂⋅Π₀⋅Π\n",
       "₂⋅Π₀⋅Π₃ - 3.8754888737183⋅Π₃⋅Π₀⋅Π₂⋅Π₄⋅Π₂⋅Π₀⋅Π₃ + 7.43112071946727⋅Π₃⋅Π₀⋅Π₂⋅Π₄⋅\n",
       "Π₂⋅Π₄⋅Π₁⋅Π₃ + 0.251691631989822⋅Π₃⋅Π₀⋅Π₃ + 0.170820393249935⋅Π₃⋅Π₀⋅Π₃⋅Π₁⋅Π₃ + \n",
       "1.17082039324994⋅Π₃⋅Π₀⋅Π₃⋅Π₁⋅Π₃⋅Π₀⋅Π₃ - 0.447213595499943⋅Π₃⋅Π₀⋅Π₃⋅Π₁⋅Π₃⋅Π₁⋅Π₃\n",
       " - 4.95967477524975⋅Π₃⋅Π₀⋅Π₃⋅Π₁⋅Π₃⋅Π₁⋅Π₃⋅Π₁⋅Π₃ + 6.22857976993242⋅Π₃⋅Π₀⋅Π₃⋅Π₁⋅\n",
       "Π₄⋅Π₁⋅Π₃ + 3.06524758424984⋅Π₃⋅Π₀⋅Π₃⋅Π₁⋅Π₄⋅Π₁⋅Π₃⋅Π₁⋅Π₃ - 11.6354681406821⋅Π₃⋅Π\n",
       "₀⋅Π₃⋅Π₁⋅Π₄⋅Π₁⋅Π₄⋅Π₁⋅Π₃ - 1.89442719099992⋅Π₃⋅Π₀⋅Π₃⋅Π₁⋅Π₄⋅Π₂⋅Π₀⋅Π₃ - 2.77673820\n",
       "764105⋅Π₃⋅Π₀⋅Π₃⋅Π₁⋅Π₄⋅Π₂⋅Π₄⋅Π₁⋅Π₃ + 0.0249223594996209⋅Π₃⋅Π₁⋅Π₃ + 0.1708203932\n",
       "49935⋅Π₃⋅Π₁⋅Π₃⋅Π₀⋅Π₃ - 0.1304951684997⋅Π₃⋅Π₁⋅Π₃⋅Π₁⋅Π₃ - 0.447213595499943⋅Π₃⋅Π\n",
       "₁⋅Π₃⋅Π₁⋅Π₃⋅Π₀⋅Π₃ - 1.27639320225001⋅Π₃⋅Π₁⋅Π₃⋅Π₁⋅Π₃⋅Π₁⋅Π₃ - 4.95967477524975⋅Π₃\n",
       "⋅Π₁⋅Π₃⋅Π₁⋅Π₃⋅Π₁⋅Π₃⋅Π₀⋅Π₃ + 3.78885438199969⋅Π₃⋅Π₁⋅Π₃⋅Π₁⋅Π₃⋅Π₁⋅Π₃⋅Π₁⋅Π₃ + 21.00\n",
       "95194942489⋅Π₃⋅Π₁⋅Π₃⋅Π₁⋅Π₃⋅Π₁⋅Π₃⋅Π₁⋅Π₃⋅Π₁⋅Π₃ - 26.3846873087136⋅Π₃⋅Π₁⋅Π₃⋅Π₁⋅Π₃\n",
       "⋅Π₁⋅Π₄⋅Π₁⋅Π₃ - 12.9845971347493⋅Π₃⋅Π₁⋅Π₃⋅Π₁⋅Π₃⋅Π₁⋅Π₄⋅Π₁⋅Π₃⋅Π₁⋅Π₃ + 49.28863399\n",
       "39624⋅Π₃⋅Π₁⋅Π₃⋅Π₁⋅Π₃⋅Π₁⋅Π₄⋅Π₁⋅Π₄⋅Π₁⋅Π₃ + 8.02492235949962⋅Π₃⋅Π₁⋅Π₃⋅Π₁⋅Π₃⋅Π₁⋅Π₄\n",
       "⋅Π₂⋅Π₀⋅Π₃ + 11.7624518032884⋅Π₃⋅Π₁⋅Π₃⋅Π₁⋅Π₃⋅Π₁⋅Π₄⋅Π₂⋅Π₄⋅Π₁⋅Π₃ + 17.43998894859\n",
       "87⋅Π₃⋅Π₁⋅Π₃⋅Π₁⋅Π₄⋅Π₁⋅Π₃ + 3.06524758424984⋅Π₃⋅Π₁⋅Π₃⋅Π₁⋅Π₄⋅Π₁⋅Π₃⋅Π₀⋅Π₃ + 5.6832\n",
       "8157299978⋅Π₃⋅Π₁⋅Π₃⋅Π₁⋅Π₄⋅Π₁⋅Π₃⋅Π₁⋅Π₃ - 12.9845971347493⋅Π₃⋅Π₁⋅Π₃⋅Π₁⋅Π₄⋅Π₁⋅Π₃⋅\n",
       "Π₁⋅Π₃⋅Π₁⋅Π₃ - 29.0829452968482⋅Π₃⋅Π₁⋅Π₃⋅Π₁⋅Π₄⋅Π₁⋅Π₄⋅Π₁⋅Π₃ - 6.67579336543243⋅Π\n",
       "₃⋅Π₁⋅Π₃⋅Π₁⋅Π₄⋅Π₂⋅Π₀⋅Π₂⋅Π₀⋅Π₃ + 1.37910577047418⋅Π₃⋅Π₁⋅Π₃⋅Π₁⋅Π₄⋅Π₂⋅Π₀⋅Π₃ - 19.1\n",
       "935725227557⋅Π₃⋅Π₁⋅Π₃⋅Π₁⋅Π₄⋅Π₂⋅Π₄⋅Π₁⋅Π₃ + 48.5805166994028⋅Π₃⋅Π₁⋅Π₄⋅Π₁⋅Π₃ + 6.\n",
       "22857976993242⋅Π₃⋅Π₁⋅Π₄⋅Π₁⋅Π₃⋅Π₀⋅Π₃ + 17.4399889485987⋅Π₃⋅Π₁⋅Π₄⋅Π₁⋅Π₃⋅Π₁⋅Π₃ - \n",
       "26.3846873087136⋅Π₃⋅Π₁⋅Π₄⋅Π₁⋅Π₃⋅Π₁⋅Π₃⋅Π₁⋅Π₃ - 164.09180958645⋅Π₃⋅Π₁⋅Π₄⋅Π₁⋅Π₄⋅Π\n",
       "₁⋅Π₃ - 11.6354681406821⋅Π₃⋅Π₁⋅Π₄⋅Π₁⋅Π₄⋅Π₁⋅Π₃⋅Π₀⋅Π₃ - 29.0829452968482⋅Π₃⋅Π₁⋅Π₄\n",
       "⋅Π₁⋅Π₄⋅Π₁⋅Π₃⋅Π₁⋅Π₃ + 49.2886339939624⋅Π₃⋅Π₁⋅Π₄⋅Π₁⋅Π₄⋅Π₁⋅Π₃⋅Π₁⋅Π₃⋅Π₁⋅Π₃ + 138.9\n",
       "02778392546⋅Π₃⋅Π₁⋅Π₄⋅Π₁⋅Π₄⋅Π₁⋅Π₄⋅Π₁⋅Π₃ + 25.3408505780703⋅Π₃⋅Π₁⋅Π₄⋅Π₁⋅Π₄⋅Π₂⋅Π₀\n",
       "⋅Π₂⋅Π₀⋅Π₃ - 0.593801640032389⋅Π₃⋅Π₁⋅Π₄⋅Π₁⋅Π₄⋅Π₂⋅Π₀⋅Π₃ + 79.6602527966884⋅Π₃⋅Π₁\n",
       "⋅Π₄⋅Π₁⋅Π₄⋅Π₂⋅Π₄⋅Π₁⋅Π₃ - 6.37409009923141⋅Π₃⋅Π₁⋅Π₄⋅Π₂⋅Π₀⋅Π₂⋅Π₀⋅Π₃ - 5.480035813\n",
       "1559⋅Π₃⋅Π₁⋅Π₄⋅Π₂⋅Π₀⋅Π₃ - 77.5865407271044⋅Π₃⋅Π₁⋅Π₄⋅Π₂⋅Π₄⋅Π₁⋅Π₃ - 2.77673820764\n",
       "105⋅Π₃⋅Π₁⋅Π₄⋅Π₂⋅Π₄⋅Π₁⋅Π₃⋅Π₀⋅Π₃ - 19.1935725227557⋅Π₃⋅Π₁⋅Π₄⋅Π₂⋅Π₄⋅Π₁⋅Π₃⋅Π₁⋅Π₃ +\n",
       " 11.7624518032884⋅Π₃⋅Π₁⋅Π₄⋅Π₂⋅Π₄⋅Π₁⋅Π₃⋅Π₁⋅Π₃⋅Π₁⋅Π₃ + 79.6602527966884⋅Π₃⋅Π₁⋅Π₄\n",
       "⋅Π₂⋅Π₄⋅Π₁⋅Π₄⋅Π₁⋅Π₃ + 6.04744967400386⋅Π₃⋅Π₁⋅Π₄⋅Π₂⋅Π₄⋅Π₂⋅Π₀⋅Π₂⋅Π₀⋅Π₃ + 7.431120\n",
       "71946727⋅Π₃⋅Π₁⋅Π₄⋅Π₂⋅Π₄⋅Π₂⋅Π₀⋅Π₃ + 30.1102647074128⋅Π₃⋅Π₁⋅Π₄⋅Π₂⋅Π₄⋅Π₂⋅Π₄⋅Π₁⋅Π₃\n",
       ")"
      ]
     },
     "metadata": {},
     "output_type": "display_data"
    }
   ],
   "source": [
    "#Simplify objective using the orthogonality relations of the graph\n",
    "display(prune(objective).subs(gDicts))  \n",
    "objective_ = prune(objective).subs(gDicts)\n"
   ]
  },
  {
   "cell_type": "code",
   "execution_count": null,
   "metadata": {
    "code_folding": [
     0
    ]
   },
   "outputs": [],
   "source": [
    "#I was trying to directly substitute the matrices corresponding to these using represent but it doesn't seem to work well with non-commutative symbols and matrices\n",
    "\n",
    "# for i in range(len(A)):\n",
    "#     dictRep[A[i]]=sp.N(iKCBS.matΠs[i])\n",
    "\n",
    "#print(dictRep)\n",
    "test=A[0]*12+A[1]*13\n",
    "objective_.subs(dictRep)\n",
    "\n",
    "#X=[] #list(sp.MatrixSymbol('X_0:%d'%N,3,3))\n",
    "X=[sp.MatrixSymbol('X0',3,3)]\n",
    "X.append(sp.MatrixSymbol('X1',3,3))\n",
    "X.append(sp.MatrixSymbol('X2',3,3))\n",
    "X.append(sp.MatrixSymbol('X3',3,3))\n",
    "X.append(sp.MatrixSymbol('X4',3,3))\n",
    "\n",
    "# x1 = MatrixSymbol('x1', 3, 3)\n",
    "# x2 = MatrixSymbol('x2', 3, 3)\n",
    "dictMatSymbols={A[i]:X[i] for i in range(5)}\n",
    "\n",
    "objective_2= objective_.subs(dictMatSymbols)\n",
    "print(objective_2)\n",
    "\n",
    "testExp=A[0]*A[1]\n",
    "display(testExp)\n",
    "display(testExp.subs(dictMatSymbols))\n",
    "\n",
    "\n",
    "sp.N(iKCBS.matΠs[0])\n",
    "\n",
    "dictRep={X[0]:sp.N(iKCBS.matΠs[0])}\n",
    "\n",
    "objective_3 = objective_2.subs(dictRep)\n",
    "print(objective_3)"
   ]
  },
  {
   "cell_type": "code",
   "execution_count": null,
   "metadata": {},
   "outputs": [],
   "source": []
  },
  {
   "cell_type": "markdown",
   "metadata": {},
   "source": [
    "## Debugging (checking swap isometry, version 2)"
   ]
  },
  {
   "cell_type": "markdown",
   "metadata": {
    "heading_collapsed": true
   },
   "source": [
    "### cEn"
   ]
  },
  {
   "cell_type": "code",
   "execution_count": null,
   "metadata": {
    "hidden": true,
    "init_cell": true
   },
   "outputs": [],
   "source": [
    "#e.g. if cEn(\"202\") is called, {symName:symVal} is returned where\n",
    "# symName = A[2]*A[0]*A[2], symVal = the expectation value using iF\n",
    "\n",
    "def cEn(inVal,sym=A):\n",
    "    iF=idealFid()\n",
    "    iVal=[int(inVal[0])] #index of the first\n",
    "    symName_=[sym[iVal[0]]]  #symbol corresponding to the first\n",
    "     #blank\n",
    "    for i_ in inVal[1:]:\n",
    "        i=int(i_)\n",
    "        symName_.append(symName_[-1] * sym[i]) #because with symbols, it is a pain, they are immutable so need to use new ones\n",
    "        iVal.append(i)\n",
    "    \n",
    "    rsymName_ = [sym[iVal[-1]]] #symbol corresponding to the last\n",
    "    riVal = [iVal[-1]]\n",
    "    \n",
    "    for i in reversed(iVal[:-1]):\n",
    "        riVal.append(i)\n",
    "        rsymName_.append(rsymName_[-1]*sym[i])\n",
    "    \n",
    "        \n",
    "        \n",
    "    symVal=iF.idealVal(iVal)\n",
    "    symName = symName_[-1]\n",
    "    \n",
    "    rsymVal = iF.idealVal(riVal)\n",
    "    rsymName = rsymName_[-1]\n",
    "    \n",
    "#     print(sym[0])\n",
    "#     print(symName)\n",
    "#     print(symVal)\n",
    "    dictElement = {symName:symVal,rsymName:rsymVal}\n",
    "#     print(dictElement)\n",
    "    return dictElement"
   ]
  },
  {
   "cell_type": "markdown",
   "metadata": {},
   "source": [
    "### State and everything else"
   ]
  },
  {
   "cell_type": "code",
   "execution_count": null,
   "metadata": {},
   "outputs": [],
   "source": [
    "#print(prune(objective_,10,True))\n",
    "#temp=prune(sq.qapply(prune(objective_,10,True)))\n",
    "#print(temp)\n",
    "#objective.has(sp.Number)\n",
    "\n",
    "#print(prune(expr=sp.simplify(  )),remNum=True)\n",
    "#print(prune(expr=objective_,remNum=True))\n",
    "\n",
    "_=(prune(expr=objective_,remNum=True))\n",
    "print(prune(expr=_,remNum=True))\n",
    "del _"
   ]
  },
  {
   "cell_type": "code",
   "execution_count": 73,
   "metadata": {},
   "outputs": [
    {
     "name": "stdout",
     "output_type": "stream",
     "text": [
      "{Π_3*Π_1*Π_3*Π_1*Π_3*Π_1*Π_3*Π_1*Π_3*Π_1*Π_3: 0.00363612324741326, Π_3*Π_1*Π_3*Π_1*Π_3*Π_1*Π_4*Π_1*Π_3*Π_1*Π_3: 0.0036361232474132615, Π_3*Π_1*Π_3*Π_1*Π_4*Π_1*Π_3*Π_1*Π_3*Π_1*Π_3: 0.003636123247413262, Π_3*Π_1*Π_3*Π_1*Π_3*Π_1*Π_4*Π_1*Π_4*Π_1*Π_3: 0.0036361232474132646, Π_3*Π_1*Π_4*Π_1*Π_4*Π_1*Π_3*Π_1*Π_3*Π_1*Π_3: 0.003636123247413266, Π_3*Π_1*Π_3*Π_1*Π_3*Π_1*Π_4*Π_2*Π_4*Π_1*Π_3: 0.003636123247413263, Π_3*Π_1*Π_4*Π_2*Π_4*Π_1*Π_3*Π_1*Π_3*Π_1*Π_3: 0.003636123247413264, Π_4*Π_1*Π_3*Π_1*Π_3*Π_1*Π_3*Π_1*Π_3*Π_1*Π_4: 0.0036361232474132633, Π_4*Π_1*Π_3*Π_1*Π_3*Π_1*Π_4*Π_1*Π_3*Π_1*Π_4: 0.003636123247413266, Π_4*Π_1*Π_3*Π_1*Π_4*Π_1*Π_3*Π_1*Π_3*Π_1*Π_4: 0.003636123247413266, Π_4*Π_1*Π_3*Π_1*Π_3*Π_1*Π_4*Π_1*Π_4*Π_1*Π_4: 0.0036361232474132676, Π_4*Π_1*Π_4*Π_1*Π_4*Π_1*Π_3*Π_1*Π_3*Π_1*Π_4: 0.0036361232474132676, Π_4*Π_1*Π_3*Π_1*Π_3*Π_1*Π_4*Π_1*Π_4*Π_2*Π_4: 0.003636123247413266, Π_4*Π_2*Π_4*Π_1*Π_4*Π_1*Π_3*Π_1*Π_3*Π_1*Π_4: 0.003636123247413266, Π_4*Π_1*Π_3*Π_1*Π_3*Π_1*Π_4*Π_2*Π_4*Π_1*Π_4: 0.003636123247413265, Π_4*Π_1*Π_4*Π_2*Π_4*Π_1*Π_3*Π_1*Π_3*Π_1*Π_4: 0.003636123247413266, Π_4*Π_1*Π_3*Π_1*Π_3*Π_1*Π_4*Π_2*Π_4*Π_2*Π_4: 0.003636123247413263, Π_4*Π_2*Π_4*Π_2*Π_4*Π_1*Π_3*Π_1*Π_3*Π_1*Π_4: 0.0036361232474132646}\n"
     ]
    }
   ],
   "source": [
    "oList = [\"0\", \"020\", \"02020\", \"0202020\", \"02024\", \"0202413\", \"02024131\", \"0202414\", \"02024142\", \"020242\", \"0202420\", \"0202424\", \"02024242\", \"024\", \"02413\", \"024130\", \"024131\", \"0241313\", \"02413131\", \"02414\", \"024142\", \"0242\", \"02420\", \"0242020\", \"02424\", \"024242\", \"0313\", \"03130\", \"03131\", \"031313\", \"0313131\", \"0314\", \"031413\", \"0314131\", \"031414\", \"0314142\", \"03142\", \"031420\", \"031424\", \"0314242\", \"1\", \"131\", \"1313\", \"13130\", \"13131\", \"131313\", \"1313130\", \"1313131\", \"13131313\", \"131313131\", \"131314\", \"1313141\", \"13131413\", \"131314131\", \"13131414\", \"131314141\", \"131314142\", \"1313142\", \"13131420\", \"13131424\", \"131314241\", \"131314242\", \"1314\", \"13141\", \"131413\", \"1314130\", \"1314131\", \"13141313\", \"131413131\", \"131414\", \"1314141\", \"1314142\", \"13142\", \"131420\", \"13142020\", \"131424\", \"1314241\", \"1314242\", \"141\", \"14131\", \"1413131\", \"14141\", \"1414131\", \"141413131\", \"1414141\", \"1414241\", \"14241\", \"1424131\", \"142413131\", \"1424141\", \"1424241\", \"202\", \"20202\", \"2020202\", \"202020202\", \"202024202\", \"20241302\", \"2024202\", \"202420202\", \"2031302\", \"20314202\", \"24\", \"2413\", \"24130\", \"24131\", \"241313\", \"2413131\", \"2414\", \"241413\", \"2414130\", \"2414131\", \"24141313\", \"241413131\", \"241414\", \"2414142\", \"24142\", \"241420\", \"24142020\", \"241424\", \"2414242\", \"242\", \"2420\", \"242020\", \"2424\", \"242413\", \"2424130\", \"2424131\", \"24241313\", \"242413131\", \"242414\", \"2424142\", \"24242\", \"242420\", \"24242020\", \"242424\", \"2424242\", \"302020203\", \"3020203\", \"30202413\", \"3020241313\", \"3020241413\", \"302024203\", \"3020242413\", \"30203\", \"302413\", \"30241303\", \"30241313\", \"3024131313\", \"30241413\", \"302420203\", \"3024203\", \"30242413\", \"303\", \"30313\", \"3031303\", \"3031313\", \"303131313\", \"3031413\", \"303141313\", \"303141413\", \"30314203\", \"303142413\", \"313\", \"3130\", \"31303\", \"3131\", \"31313\", \"313130\", \"3131303\", \"313131\", \"3131313\", \"313131303\", \"31313131\", \"313131313\", \"31313131313\", \"313131413\", \"31313141313\", \"31313141413\", \"3131314203\", \"31313142413\", \"31314\", \"3131413\", \"313141303\", \"31314131\", \"313141313\", \"31314131313\", \"3131414\", \"313141413\", \"31314142\", \"313142\", \"3131420\", \"3131420203\", \"31314203\", \"3131424\", \"313142413\", \"31314242\", \"314\", \"31413\", \"314130\", \"3141303\", \"314131\", \"3141313\", \"31413131\", \"314131313\", \"31414\", \"3141413\", \"314141303\", \"314141313\", \"31414131313\", \"314141413\", \"314142\", \"3141420203\", \"31414203\", \"314142413\", \"3142\", \"31420\", \"3142020\", \"31420203\", \"314203\", \"31424\", \"3142413\", \"314241303\", \"314241313\", \"31424131313\", \"314241413\", \"314242\", \"3142420203\", \"31424203\", \"314242413\", \"4\", \"413\", \"4130\", \"4131\", \"41313\", \"413131\", \"41313131314\", \"413131314\", \"4131314\", \"41313141314\", \"413131414\", \"41313141414\", \"41313141424\", \"413131424\", \"41313142414\", \"41313142424\", \"41314\", \"41314131314\", \"413141314\", \"4131414\", \"413141414\", \"413141424\", \"4131424\", \"413142414\", \"413142424\", \"414\", \"41413\", \"414130\", \"414131\", \"4141313\", \"41413131\", \"414131314\", \"4141314\", \"41414\", \"41414131314\", \"414141314\", \"4141414\", \"414141414\", \"414141424\", \"414142\", \"4141424\", \"414142414\", \"414142424\", \"4142\", \"41420\", \"4142020\", \"41424\", \"41424131314\", \"414241314\", \"4142414\", \"414241414\", \"414241424\", \"414242\", \"4142424\", \"414242414\", \"414242424\", \"42\", \"420\", \"42020\", \"424\", \"42413\", \"424130\", \"424131\", \"4241313\", \"42413131\", \"424131314\", \"4241314\", \"42414\", \"42414131314\", \"424141314\", \"4241414\", \"424141414\", \"424141424\", \"424142\", \"4241424\", \"424142414\", \"424142424\", \"4242\", \"42420\", \"4242020\", \"42424\", \"42424131314\", \"424241314\", \"4242414\", \"424241414\", \"424241424\", \"424242\", \"4242424\", \"424242414\", \"424242424\"]\n",
    "\n",
    "#[\"0\", \"020\", \"02020\", \"0202020\", \"02024\", \"0202413\", \"02024131\", \"0202414\", \"02024142\", \"020242\", \"0202420\", \"0202424\", \"02024242\", \"024\", \"02413\", \"024130\", \"024131\", \"0241313\", \"02413131\", \"02414\", \"024142\", \"0242\", \"02420\", \"0242020\", \"02424\", \"024242\", \"0313\", \"03130\", \"03131\", \"031313\", \"0313131\", \"0314\", \"031413\", \"0314131\", \"031414\", \"0314142\", \"03142\", \"031420\", \"031424\", \"0314242\", \"1313\", \"13130\", \"13131\", \"131313\", \"1313130\", \"1313131\", \"13131313\", \"131313131\", \"131314\", \"13131413\", \"131314131\", \"13131414\", \"131314142\", \"1313142\", \"13131420\", \"13131424\", \"131314242\", \"1314\", \"131413\", \"1314130\", \"1314131\", \"13141313\", \"131413131\", \"131414\", \"1314142\", \"13142\", \"131420\", \"13142020\", \"131424\", \"1314242\", \"24\", \"2413\", \"24130\", \"24131\", \"241313\", \"2413131\", \"2414\", \"241413\", \"2414130\", \"2414131\", \"24141313\", \"241413131\", \"241414\", \"2414142\", \"24142\", \"241420\", \"24142020\", \"241424\", \"2414242\", \"242\", \"2420\", \"242020\", \"2424\", \"242413\", \"2424130\", \"2424131\", \"24241313\", \"242413131\", \"242414\", \"2424142\", \"24242\", \"242420\", \"24242020\", \"242424\", \"2424242\", \"313\", \"3130\", \"3131\", \"31313\", \"313130\", \"313131\", \"3131313\", \"31313131\", \"31314\", \"3131413\", \"31314131\", \"3131414\", \"31314142\", \"313142\", \"3131420\", \"3131424\", \"31314242\", \"314\", \"31413\", \"314130\", \"314131\", \"3141313\", \"31413131\", \"31414\", \"314142\", \"3142\", \"31420\", \"3142020\", \"31424\", \"314242\", \"4\", \"413\", \"4130\", \"4131\", \"41313\", \"413131\", \"414\", \"41413\", \"414130\", \"414131\", \"4141313\", \"41413131\", \"41414\", \"414142\", \"4142\", \"41420\", \"4142020\", \"41424\", \"414242\", \"42\", \"420\", \"42020\", \"424\", \"42413\", \"424130\", \"424131\", \"4241313\", \"42413131\", \"42414\", \"424142\", \"4242\", \"42420\", \"4242020\", \"42424\", \"424242\"]\n",
    "\n",
    "#[\"0\", \"02\", \"0202\", \"0241\", \"1\", \"131\", \"13131\", \"1313131\", \"131313131\", \"1313141\", \"131314131\", \"131314141\", \"1313142\", \"131314241\", \"13141\", \"1314131\", \"131413131\", \"1314141\", \"13142\", \"1314202\", \"1314241\", \"141\", \"14131\", \"1413131\", \"14141\", \"1414131\", \"141413131\", \"1414141\", \"14142\", \"1414202\", \"1414241\", \"142\", \"1420\", \"14202\", \"14241\", \"1424131\", \"142413131\", \"1424141\", \"14242\", \"1424202\", \"1424241\", \"2\", \"20\", \"202\", \"2020\", \"20202\", \"20241\", \"2024131\", \"2024141\", \"20242\", \"2024241\", \"241\", \"24131\", \"2413131\", \"24141\", \"242\", \"24202\", \"24241\"]\n",
    "\n",
    "#[\"0\", \"02\", \"0202\", \"0241\", \"1\", \"131\", \"13131\", \"1313131\", \"131313131\", \"1313141\", \"131314131\", \"131314141\", \"1313142\", \"131314241\", \"13141\", \"1314131\", \"131413131\", \"1314141\", \"13142\", \"1314202\", \"1314241\", \"141\", \"14131\", \"1413131\", \"14141\", \"1414131\", \"141413131\", \"1414141\", \"14142\", \"1414202\", \"1414241\", \"142\", \"1420\", \"14202\", \"14241\", \"1424131\", \"142413131\", \"1424141\", \"14242\", \"1424202\", \"1424241\", \"2\", \"20\", \"202\", \"2020\", \"20202\", \"20241\", \"2024131\", \"2024141\", \"20242\", \"2024241\", \"241\", \"24131\", \"2413131\", \"24141\", \"242\", \"24202\", \"24241\"]\n",
    "\n",
    "#[\"0\", \"02\", \"0241\", \"1\", \"141\", \"14141\", \"14142\", \"142\", \"1420\", \"14202\", \"14241\", \"14242\", \"2\", \"20\", \"202\", \"20241\", \"241\", \"24141\", \"242\", \"24241\", \"302413\", \"303\", \"313\", \"31413\", \"3141413\", \"314203\", \"3142413\", \"414\", \"41414\", \"4141414\", \"4141424\", \"4142024\", \"41424\", \"4142414\", \"4142424\", \"42024\", \"4202414\", \"424\", \"42414\", \"4241414\", \"42424\", \"4242414\"]\n",
    "# [\"0\",\"02\",\"0241\",\"1\",\"141\",\"14141\",\"14142\",\"142\",\"1420\",\"14202\",\"14241\",\"14242\",\"2\",\"20\",\"202\",\"20241\",\"241\",\"24141\",\"242\",\"24241\"]\n",
    "#[\"0\", \"02\", \"0241\", \"1\", \"141\", \"14141\", \"14142\", \"142\", \"1420\", \"14202\", \"14241\", \"14242\", \"2\", \"20\", \"202\", \"20241\", \"241\", \"24141\", \"242\", \"24241\", \"302413\", \"303\", \"313\", \"31413\", \"3141413\", \"314203\", \"3142413\", \"414\", \"41414\", \"4141414\", \"4141424\", \"4142024\", \"41424\", \"4142414\", \"4142424\", \"42024\", \"4202414\", \"424\", \"42414\", \"4241414\", \"42424\", \"4242414\"]\n",
    "\n",
    "#With only state\n",
    "#= [\"0\", \"02\", \"0241\", \"1\", \"141\", \"14141\", \"14142\", \"142\", \"1420\", \"14202\", \"14241\", \"14242\", \"2\", \"20\", \"202\", \"20241\", \"241\", \"24141\", \"242\", \"24241\"]\n",
    "\n",
    "#State and others\n",
    "# [\"0\", \"02\", \"0241\", \"1\", \"141\", \"14141\", \"14142\", \"142\", \"1420\", \"14202\", \"14241\", \"14242\", \"2\", \"20\", \"202\", \"20241\", \"241\", \"24141\", \"242\", \"24241\", \"302413\", \"303\", \"313\", \"31413\", \"3141413\", \"314203\", \"3142413\", \"414\", \"41414\", \"4141414\", \"4141424\", \"4142024\", \"41424\", \"4142414\", \"4142424\", \"42024\", \"4202414\", \"424\", \"42414\", \"4241414\", \"42424\", \"4242414\"]\n",
    "#[\"0\", \"02\", \"0241\", \"1\", \"141\", \"14141\", \"14142\", \"142\", \"1420\", \"14202\", \"14241\", \"14242\", \"2\", \"20\", \"202\", \"20241\", \"241\", \"24141\", \"242\", \"24241\", \"302413\", \"303\", \"313\", \"31413\", \"3141413\", \"314203\", \"3142413\", \"414\", \"41414\", \"4141414\", \"4141424\", \"4142024\", \"41424\", \"4142414\", \"4142424\", \"42024\", \"4202414\", \"424\", \"42414\", \"4241414\", \"42424\", \"4242414\"]\n",
    "\n",
    "oList.sort(key=len)\n",
    "\n",
    "\n",
    "T=[cEn(oList[0])]             #list of dictionaries; T[0] will have the shortest words, and so on\n",
    "lastLen=len(oList[0])\n",
    "i=0\n",
    "for word in oList[1:]:\n",
    "    if (lastLen<len(word)):\n",
    "        lastLen=len(word)\n",
    "        i+=1\n",
    "        T.append(cEn(word))\n",
    "    else:\n",
    "        T[i].update(cEn(word))\n",
    "T.reverse()\n",
    "#print(T)\n",
    "#print(T[0])"
   ]
  },
  {
   "cell_type": "code",
   "execution_count": 64,
   "metadata": {},
   "outputs": [
    {
     "name": "stdout",
     "output_type": "stream",
     "text": [
      "1.00000000000000\n"
     ]
    }
   ],
   "source": [
    "#print(T)\n",
    "\n",
    "objectives_=[objective_]\n",
    "\n",
    "for iT in T:\n",
    "    #print(iT)\n",
    "    objectives_.append(objectives_[-1].subs(iT))\n",
    "    #display(objectives_[-1])\n",
    "\n",
    "print(objectives_[-1])"
   ]
  },
  {
   "cell_type": "code",
   "execution_count": 91,
   "metadata": {},
   "outputs": [],
   "source": [
    "7.164662/6.0;"
   ]
  },
  {
   "cell_type": "code",
   "execution_count": 92,
   "metadata": {},
   "outputs": [],
   "source": [
    "1.0002054/1.0;"
   ]
  },
  {
   "cell_type": "code",
   "execution_count": 93,
   "metadata": {},
   "outputs": [],
   "source": [
    "7.1646296450/(5+np.sqrt(5));"
   ]
  },
  {
   "cell_type": "markdown",
   "metadata": {
    "heading_collapsed": true
   },
   "source": [
    "### State and everything else; multi-cursor heavy"
   ]
  },
  {
   "cell_type": "code",
   "execution_count": 166,
   "metadata": {
    "hidden": true
   },
   "outputs": [],
   "source": [
    "#Working on updating this\n",
    "#done using VS code and multi-cursor\n",
    "#if it changes, don't do it manually without it!\n",
    "\n",
    "T1 = {}\n",
    "\n",
    "T1.update(cEn(\"0\"))\n",
    "T1.update(cEn(\"1\"))\n",
    "T1.update(cEn(\"2\"))\n",
    "T1.update(cEn(\"2\"))\n",
    "\n",
    "T2= {}\n",
    "\n",
    "\n",
    "T2.update(cEn(\"02\"))\n",
    "T2.update(cEn(\"20\"))\n",
    "\n",
    "T3 = {}\n",
    "\n",
    "T3.update(cEn(\"242\"))\n",
    "T3.update(cEn(\"202\"))\n",
    "T3.update(cEn(\"242\"))\n",
    "T3.update(cEn(\"414\"))\n",
    "T3.update(cEn(\"241\"))\n",
    "T3.update(cEn(\"424\"))\n",
    "T3.update(cEn(\"202\"))\n",
    "T3.update(cEn(\"141\"))\n",
    "T3.update(cEn(\"142\"))\n",
    "\n",
    "\n",
    "T4 = {}\n",
    "\n",
    "T4.update(cEn(\"0241\"))\n",
    "T4.update(cEn(\"1420\"))\n",
    "\n",
    "T5 = {}\n",
    "\n",
    "\n",
    "T5.update(cEn(\"14141\"))\n",
    "T5.update(cEn(\"14142\"))\n",
    "T5.update(cEn(\"14202\"))\n",
    "T5.update(cEn(\"14241\"))\n",
    "T5.update(cEn(\"14242\"))\n",
    "T5.update(cEn(\"42024\"))\n",
    "T5.update(cEn(\"20241\"))\n",
    "T5.update(cEn(\"42414\"))\n",
    "T5.update(cEn(\"24141\"))\n",
    "T5.update(cEn(\"42424\"))\n",
    "T5.update(cEn(\"24241\"))\n",
    "T5.update(cEn(\"41414\"))\n",
    "T5.update(cEn(\"41424\"))\n",
    "\n",
    "T7 = {}\n",
    "\n",
    "T7.update(cEn(\"4141414\"))\n",
    "T7.update(cEn(\"4141424\"))\n",
    "T7.update(cEn(\"4142024\"))\n",
    "T7.update(cEn(\"4142414\"))\n",
    "T7.update(cEn(\"4142424\"))\n",
    "T7.update(cEn(\"4202414\"))\n",
    "T7.update(cEn(\"4241414\"))\n",
    "T7.update(cEn(\"4242414\"))"
   ]
  },
  {
   "cell_type": "code",
   "execution_count": 168,
   "metadata": {
    "hidden": true
   },
   "outputs": [
    {
     "data": {
      "text/latex": [
       "$\\displaystyle 1.44721359549996 Π_{0} + 0.50631990099834 Π_{0} Π_{2} - 2.54992616372413 Π_{0} Π_{2} Π_{4} Π_{1} + 0.0249223594996216 Π_{1} + 18.9640772918993 Π_{1} Π_{4} Π_{1} - 6.80895705245476 Π_{1} Π_{4} Π_{1} Π_{4} Π_{1} + 0.810241289468414 Π_{1} Π_{4} Π_{1} Π_{4} Π_{2} - 3.67134658131212 Π_{1} Π_{4} Π_{2} - 2.54992616372413 Π_{1} Π_{4} Π_{2} Π_{0} - 0.337012819708448 Π_{1} Π_{4} Π_{2} Π_{0} Π_{2} - 17.7362520995107 Π_{1} Π_{4} Π_{2} Π_{4} Π_{1} + 3.43223718036529 Π_{1} Π_{4} Π_{2} Π_{4} Π_{2} + 0.447213595499959 Π_{2} + 0.50631990099834 Π_{2} Π_{0} + 0.126024438241778 Π_{2} Π_{0} Π_{2} - 0.337012819708448 Π_{2} Π_{0} Π_{2} Π_{4} Π_{1} - 3.67134658131212 Π_{2} Π_{4} Π_{1} + 0.810241289468414 Π_{2} Π_{4} Π_{1} Π_{4} Π_{1} - 0.393670535019895 Π_{2} Π_{4} Π_{2} + 3.43223718036529 Π_{2} Π_{4} Π_{2} Π_{4} Π_{1} + 2.23606797749979 \\left(1.17082039324994 Π_{2} + 1.51339645797671 Π_{2} Π_{0} Π_{2} - 1.03064284105144 Π_{2} Π_{4} Π_{2}\\right) + 2.23606797749979 \\left(0.0249223594996216 Π_{1} + 18.9640772918993 Π_{1} Π_{4} Π_{1} - 6.80895705245477 Π_{1} Π_{4} Π_{1} Π_{4} Π_{1} - 17.7362520995107 Π_{1} Π_{4} Π_{2} Π_{4} Π_{1}\\right) + 2.23606797749979 \\left(- 0.97398512573999 Π_{3} Π_{0} Π_{2} Π_{4} Π_{1} Π_{3} + 0.170820393249937 Π_{3} Π_{0} Π_{3} + 0.00951949424901162 Π_{3} Π_{1} Π_{3} + 7.24363296022548 Π_{3} Π_{1} Π_{4} Π_{1} Π_{3} - 2.60079016609942 Π_{3} Π_{1} Π_{4} Π_{1} Π_{4} Π_{1} Π_{3} - 0.97398512573999 Π_{3} Π_{1} Π_{4} Π_{2} Π_{0} Π_{3} - 6.77464546897641 Π_{3} Π_{1} Π_{4} Π_{2} Π_{4} Π_{1} Π_{3}\\right) + 2.23606797749979 \\left(-0.0389911394712333 + 0.00951949424901162 Π_{4} Π_{1} Π_{4} + 7.24363296022548 Π_{4} Π_{1} Π_{4} Π_{1} Π_{4} - 3.67134658131212 Π_{4} Π_{1} Π_{4} Π_{2} Π_{4} + 0.329936262730088 Π_{4} Π_{2} Π_{0} Π_{2} Π_{4} + 1.17082039324994 Π_{4} Π_{2} Π_{4} - 3.67134658131212 Π_{4} Π_{2} Π_{4} Π_{1} Π_{4} - 1.03064284105144 Π_{4} Π_{2} Π_{4} Π_{2} Π_{4}\\right)$"
      ],
      "text/plain": [
       "1.44721359549996⋅Π₀ + 0.50631990099834⋅Π₀⋅Π₂ - 2.54992616372413⋅Π₀⋅Π₂⋅Π₄⋅Π₁ + \n",
       "0.0249223594996216⋅Π₁ + 18.9640772918993⋅Π₁⋅Π₄⋅Π₁ - 6.80895705245476⋅Π₁⋅Π₄⋅Π₁⋅\n",
       "Π₄⋅Π₁ + 0.810241289468414⋅Π₁⋅Π₄⋅Π₁⋅Π₄⋅Π₂ - 3.67134658131212⋅Π₁⋅Π₄⋅Π₂ - 2.54992\n",
       "616372413⋅Π₁⋅Π₄⋅Π₂⋅Π₀ - 0.337012819708448⋅Π₁⋅Π₄⋅Π₂⋅Π₀⋅Π₂ - 17.7362520995107⋅Π₁\n",
       "⋅Π₄⋅Π₂⋅Π₄⋅Π₁ + 3.43223718036529⋅Π₁⋅Π₄⋅Π₂⋅Π₄⋅Π₂ + 0.447213595499959⋅Π₂ + 0.5063\n",
       "1990099834⋅Π₂⋅Π₀ + 0.126024438241778⋅Π₂⋅Π₀⋅Π₂ - 0.337012819708448⋅Π₂⋅Π₀⋅Π₂⋅Π₄⋅\n",
       "Π₁ - 3.67134658131212⋅Π₂⋅Π₄⋅Π₁ + 0.810241289468414⋅Π₂⋅Π₄⋅Π₁⋅Π₄⋅Π₁ - 0.39367053\n",
       "5019895⋅Π₂⋅Π₄⋅Π₂ + 3.43223718036529⋅Π₂⋅Π₄⋅Π₂⋅Π₄⋅Π₁ + 2.23606797749979⋅(1.17082\n",
       "039324994⋅Π₂ + 1.51339645797671⋅Π₂⋅Π₀⋅Π₂ - 1.03064284105144⋅Π₂⋅Π₄⋅Π₂) + 2.2360\n",
       "6797749979⋅(0.0249223594996216⋅Π₁ + 18.9640772918993⋅Π₁⋅Π₄⋅Π₁ - 6.808957052454\n",
       "77⋅Π₁⋅Π₄⋅Π₁⋅Π₄⋅Π₁ - 17.7362520995107⋅Π₁⋅Π₄⋅Π₂⋅Π₄⋅Π₁) + 2.23606797749979⋅(-0.97\n",
       "398512573999⋅Π₃⋅Π₀⋅Π₂⋅Π₄⋅Π₁⋅Π₃ + 0.170820393249937⋅Π₃⋅Π₀⋅Π₃ + 0.00951949424901\n",
       "162⋅Π₃⋅Π₁⋅Π₃ + 7.24363296022548⋅Π₃⋅Π₁⋅Π₄⋅Π₁⋅Π₃ - 2.60079016609942⋅Π₃⋅Π₁⋅Π₄⋅Π₁⋅\n",
       "Π₄⋅Π₁⋅Π₃ - 0.97398512573999⋅Π₃⋅Π₁⋅Π₄⋅Π₂⋅Π₀⋅Π₃ - 6.77464546897641⋅Π₃⋅Π₁⋅Π₄⋅Π₂⋅Π\n",
       "₄⋅Π₁⋅Π₃) + 2.23606797749979⋅(-0.0389911394712333 + 0.00951949424901162⋅Π₄⋅Π₁⋅Π\n",
       "₄ + 7.24363296022548⋅Π₄⋅Π₁⋅Π₄⋅Π₁⋅Π₄ - 3.67134658131212⋅Π₄⋅Π₁⋅Π₄⋅Π₂⋅Π₄ + 0.3299\n",
       "36262730088⋅Π₄⋅Π₂⋅Π₀⋅Π₂⋅Π₄ + 1.17082039324994⋅Π₄⋅Π₂⋅Π₄ - 3.67134658131212⋅Π₄⋅Π\n",
       "₂⋅Π₄⋅Π₁⋅Π₄ - 1.03064284105144⋅Π₄⋅Π₂⋅Π₄⋅Π₂⋅Π₄)"
      ]
     },
     "execution_count": 168,
     "metadata": {},
     "output_type": "execute_result"
    }
   ],
   "source": [
    "out = objective.subs(gDicts)\n",
    "out.subs(T7) #.subs(T5).subs(T4).subs(T3).subs(T2).subs(T1)"
   ]
  },
  {
   "cell_type": "markdown",
   "metadata": {
    "heading_collapsed": true
   },
   "source": [
    "### Only the state"
   ]
  },
  {
   "cell_type": "code",
   "execution_count": 137,
   "metadata": {
    "hidden": true
   },
   "outputs": [
    {
     "name": "stdout",
     "output_type": "stream",
     "text": [
      "{Π_2*Π_4*Π_2*Π_4*Π_1: 0.06524758424985277, Π_1*Π_4*Π_2*Π_4*Π_2: 0.06524758424985277, Π_2*Π_4*Π_1*Π_4*Π_1: 0.06524758424985283, Π_1*Π_4*Π_1*Π_4*Π_2: 0.06524758424985282, Π_2*Π_0*Π_2*Π_4*Π_1: 0.06524758424985277, Π_1*Π_4*Π_2*Π_0*Π_2: 0.06524758424985279, Π_1*Π_4*Π_2*Π_4*Π_1: 0.06524758424985279, Π_1*Π_4*Π_1*Π_4*Π_1: 0.06524758424985284} {Π_0*Π_2*Π_4*Π_1: 0.10557280900008412, Π_1*Π_4*Π_2*Π_0: 0.10557280900008413} {Π_1*Π_4*Π_1: 0.17082039324993697, Π_2*Π_4*Π_1: 0.17082039324993692, Π_1*Π_4*Π_2: 0.17082039324993692, Π_2*Π_4*Π_2: 0.17082039324993686, Π_4*Π_2*Π_4: 0.17082039324993686, Π_4*Π_1*Π_4: 0.17082039324993697, Π_2*Π_0*Π_2: 0.17082039324993686} {Π_2*Π_0: 0.276393202250021, Π_0*Π_2: 0.276393202250021} {Π_4: 0.4472135954999579, Π_2: 0.4472135954999579, Π_1: 0.4472135954999579, Π_0: 0.4472135954999579}\n"
     ]
    }
   ],
   "source": [
    "#With only the state; these were the replacements\n",
    "\n",
    "T5 = {}\n",
    "\n",
    "T5.update(cEn(\"24241\"))\n",
    "T5.update(cEn(\"24141\"))\n",
    "T5.update(cEn(\"20241\"))\n",
    "T5.update(cEn(\"14241\"))\n",
    "T5.update(cEn(\"14202\"))\n",
    "T5.update(cEn(\"14142\"))\n",
    "T5.update(cEn(\"14141\"))\n",
    "T5.update(cEn(\"14242\"))\n",
    "\n",
    "T4 = {}\n",
    "\n",
    "T4.update(cEn(\"0241\"))\n",
    "\n",
    "T3 = {}\n",
    "\n",
    "T3.update(cEn(\"141\"))\n",
    "T3.update(cEn(\"241\"))\n",
    "T3.update(cEn(\"142\"))\n",
    "T3.update(cEn(\"242\"))\n",
    "T3.update(cEn(\"424\"))\n",
    "T3.update(cEn(\"414\"))\n",
    "T3.update(cEn(\"202\"))\n",
    "\n",
    "T2 = {}\n",
    "\n",
    "T2.update(cEn(\"20\"))\n",
    "\n",
    "T1 = {}\n",
    "\n",
    "T1.update(cEn(\"4\"))\n",
    "T1.update(cEn(\"2\"))\n",
    "T1.update(cEn(\"1\"))\n",
    "T1.update(cEn(\"0\"))\n",
    "\n",
    "print(T5,T4,T3,T2,T1)\n"
   ]
  },
  {
   "cell_type": "code",
   "execution_count": 138,
   "metadata": {
    "hidden": true
   },
   "outputs": [
    {
     "data": {
      "text/latex": [
       "$\\displaystyle 3.14673624577261$"
      ],
      "text/plain": [
       "3.14673624577261"
      ]
     },
     "execution_count": 138,
     "metadata": {},
     "output_type": "execute_result"
    }
   ],
   "source": [
    "#with only the state\n",
    "out = objective.subs(gDicts)\n",
    "out.subs(T5).subs(T4).subs(T3).subs(T2).subs(T1)"
   ]
  },
  {
   "cell_type": "markdown",
   "metadata": {
    "heading_collapsed": true
   },
   "source": [
    "### MetaDebug (Testing list comprehension)"
   ]
  },
  {
   "cell_type": "code",
   "execution_count": 87,
   "metadata": {
    "hidden": true
   },
   "outputs": [
    {
     "name": "stdout",
     "output_type": "stream",
     "text": [
      "6\n"
     ]
    }
   ],
   "source": [
    "temp1=\"123\"\n",
    "summe=0\n",
    "for t in temp1:\n",
    "    k=int(t)\n",
    "    summe+=k\n",
    "print(summe)    "
   ]
  },
  {
   "cell_type": "code",
   "execution_count": 238,
   "metadata": {
    "hidden": true
   },
   "outputs": [
    {
     "name": "stdout",
     "output_type": "stream",
     "text": [
      "['0', '1', '2', '2', '02', '41', '20', '142', '202', '241', '242', '1420', '0241', '4241', '14141', '14142', '14202', '14242', '20241', '24141', '24241', '202', '242', '414', '41414', '4141414', '4141424', '4142024', '41424', '4142414', '4142424', '42024', '4202414', '424', '42414', '4241414', '42424', '4242414']\n",
      "['0', '1', '2', '2', '02', '41', '20', '142', '202', '241', '242', '202', '242', '414', '424', '1420', '0241', '4241', '14141', '14142', '14202', '14242', '20241', '24141', '24241', '41414', '41424', '42024', '42414', '42424', '4141414', '4141424', '4142024', '4142414', '4142424', '4202414', '4241414', '4242414'] None\n",
      "['0', '1', '2', '2', '02', '41', '20', '142', '202', '241', '242', '202', '242', '414', '424', '1420', '0241', '4241', '14141', '14142', '14202', '14242', '20241', '24141', '24241', '41414', '41424', '42024', '42414', '42424', '4141414', '4141424', '4142024', '4142414', '4142424', '4202414', '4241414', '4242414']\n"
     ]
    }
   ],
   "source": [
    "temp=[\"0\",\"1\",\"2\",\"2\",\"02\",\"41\",\"20\",\"142\",\"202\",\"241\",\"242\",\"1420\",\"0241\",\"4241\",\"14141\",\"14142\",\"14202\",\"14242\",\"20241\",\"24141\",\"24241\",\"202\",\"242\",\"414\",\"41414\",\"4141414\",\"4141424\",\"4142024\",\"41424\",\"4142414\",\"4142424\",\"42024\",\"4202414\",\"424\",\"42414\",\"4241414\",\"42424\",\"4242414\"]\n",
    "print(temp)\n",
    "temp2=temp.sort(key=len)\n",
    "print(temp,temp2)\n",
    "print(temp)"
   ]
  },
  {
   "cell_type": "markdown",
   "metadata": {
    "heading_collapsed": true
   },
   "source": [
    "## Debugging (checking swap isometry)"
   ]
  },
  {
   "cell_type": "code",
   "execution_count": 28,
   "metadata": {
    "hidden": true
   },
   "outputs": [],
   "source": [
    "T_24241_ = sq.qapply(sp.N(iKCBS.Πs[2]*iKCBS.Πs[4]*iKCBS.Πs[2]*iKCBS.Πs[4]*iKCBS.Πs[1]))\n",
    "T_24241 = sq.qapply(iKCBS.br[0]*T_24241_*iKCBS.ke[0])\n",
    "T_24141_ = sq.qapply(sp.N(iKCBS.Πs[2]*iKCBS.Πs[4]*iKCBS.Πs[1]*iKCBS.Πs[4]*iKCBS.Πs[1]))\n",
    "T_24141 = sq.qapply(iKCBS.br[0]*T_24141_*iKCBS.ke[0])\n",
    "T_20241_ = sq.qapply(sp.N(iKCBS.Πs[2]*iKCBS.Πs[0]*iKCBS.Πs[2]*iKCBS.Πs[4]*iKCBS.Πs[1]))\n",
    "T_20241 = sq.qapply(iKCBS.br[0]*T_20241_*iKCBS.ke[0])\n",
    "T_14241_ = sq.qapply(sp.N(iKCBS.Πs[1]*iKCBS.Πs[4]*iKCBS.Πs[2]*iKCBS.Πs[4]*iKCBS.Πs[1]))\n",
    "T_14241 = sq.qapply(iKCBS.br[0]*T_14241_*iKCBS.ke[0])\n",
    "T_14202_ = sq.qapply(sp.N(iKCBS.Πs[1]*iKCBS.Πs[4]*iKCBS.Πs[2]*iKCBS.Πs[0]*iKCBS.Πs[2]))\n",
    "T_14202 = sq.qapply(iKCBS.br[0]*T_14202_*iKCBS.ke[0])\n",
    "T_14142_ = sq.qapply(sp.N(iKCBS.Πs[1]*iKCBS.Πs[4]*iKCBS.Πs[1]*iKCBS.Πs[4]*iKCBS.Πs[2]))\n",
    "T_14142 = sq.qapply(iKCBS.br[0]*T_14142_*iKCBS.ke[0])\n",
    "T_14141_ = sq.qapply(sp.N(iKCBS.Πs[1]*iKCBS.Πs[4]*iKCBS.Πs[1]*iKCBS.Πs[4]*iKCBS.Πs[1]))\n",
    "T_14141 = sq.qapply(iKCBS.br[0]*T_14141_*iKCBS.ke[0])\n",
    "T_14242_ = sq.qapply(sp.N(iKCBS.Πs[1]*iKCBS.Πs[4]*iKCBS.Πs[2]*iKCBS.Πs[4]*iKCBS.Πs[2]))\n",
    "T_14242 = sq.qapply(iKCBS.br[0]*T_14242_*iKCBS.ke[0])\n",
    "\n",
    "T_0241_ = sq.qapply(sp.N(iKCBS.Πs[0]*iKCBS.Πs[2]*iKCBS.Πs[4]*iKCBS.Πs[1]))\n",
    "T_0241 = sq.qapply(iKCBS.br[0]*T_0241_*iKCBS.ke[0])\n",
    "T_1420_ = sq.qapply(sp.N(iKCBS.Πs[1]*iKCBS.Πs[4]*iKCBS.Πs[2]*iKCBS.Πs[0]))\n",
    "T_1420 = sq.qapply(iKCBS.br[0]*T_1420_*iKCBS.ke[0])\n",
    "\n",
    "T_141_ = sq.qapply(sp.N(iKCBS.Πs[1]*iKCBS.Πs[4]*iKCBS.Πs[1]))\n",
    "T_141 = sq.qapply(iKCBS.br[0]*T_141_*iKCBS.ke[0])\n",
    "T_241_ = sq.qapply(sp.N(iKCBS.Πs[2]*iKCBS.Πs[4]*iKCBS.Πs[1]))\n",
    "T_241 = sq.qapply(iKCBS.br[0]*T_241_*iKCBS.ke[0])\n",
    "T_142_ = sq.qapply(sp.N(iKCBS.Πs[1]*iKCBS.Πs[4]*iKCBS.Πs[2]))\n",
    "T_142 = sq.qapply(iKCBS.br[0]*T_142_*iKCBS.ke[0])\n",
    "T_242_ = sq.qapply(sp.N(iKCBS.Πs[2]*iKCBS.Πs[4]*iKCBS.Πs[2]))\n",
    "T_242 = sq.qapply(iKCBS.br[0]*T_242_*iKCBS.ke[0])\n",
    "T_424_ = sq.qapply(sp.N(iKCBS.Πs[4]*iKCBS.Πs[2]*iKCBS.Πs[4]))\n",
    "T_424 = sq.qapply(iKCBS.br[0]*T_424_*iKCBS.ke[0])\n",
    "T_414_ = sq.qapply(sp.N(iKCBS.Πs[4]*iKCBS.Πs[1]*iKCBS.Πs[4]))\n",
    "T_414 = sq.qapply(iKCBS.br[0]*T_414_*iKCBS.ke[0])\n",
    "T_202_ = sq.qapply(sp.N(iKCBS.Πs[2]*iKCBS.Πs[0]*iKCBS.Πs[2]))\n",
    "T_202 = sq.qapply(iKCBS.br[0]*T_202_*iKCBS.ke[0])\n",
    "T_20_ = sq.qapply(sp.N(iKCBS.Πs[2]*iKCBS.Πs[0]))\n",
    "T_20 = sq.qapply(iKCBS.br[0]*T_20_*iKCBS.ke[0])\n",
    "T_02_ = sq.qapply(sp.N(iKCBS.Πs[0]*iKCBS.Πs[2]))\n",
    "T_02 = sq.qapply(iKCBS.br[0]*T_02_*iKCBS.ke[0])\n",
    "T_4_ = sq.qapply(sp.N(iKCBS.Πs[4]))\n",
    "T_4 = sq.qapply(iKCBS.br[0]*T_4_*iKCBS.ke[0])\n",
    "T_2_ = sq.qapply(sp.N(iKCBS.Πs[2]))\n",
    "T_2 = sq.qapply(iKCBS.br[0]*T_2_*iKCBS.ke[0])\n",
    "T_1_ = sq.qapply(sp.N(iKCBS.Πs[1]))\n",
    "T_1 = sq.qapply(iKCBS.br[0]*T_1_*iKCBS.ke[0])\n",
    "T_0_ = sq.qapply(sp.N(iKCBS.Πs[0]))\n",
    "T_0 = sq.qapply(iKCBS.br[0]*T_0_*iKCBS.ke[0])"
   ]
  },
  {
   "cell_type": "code",
   "execution_count": 32,
   "metadata": {
    "hidden": true
   },
   "outputs": [],
   "source": [
    "sanDict1 = {A[0]:T_0, A[1]: T_1, A[2]: T_2, A[4]: T_4}\n",
    "sanDict2 = {A[0]*A[2]: T_02,A[2]*A[0]: T_20}\n",
    "sanDict3 = {A[2]*A[0]*A[2]: T_202, A[4]*A[1]*A[4]: T_414, A[4]*A[2]*A[4]: T_424 , A[2]*A[4]*A[2]: T_242 , A[1]*A[4]*A[2]: T_142,A[2]*A[4]*A[1]: T_241 , A[1]*A[4]*A[1]: T_141  }\n",
    "sanDict4 = {A[0]*A[2]*A[4]*A[1]: T_0241,A[1]*A[4]*A[2]*A[0]: T_1420}\n",
    "sanDict5 = {A[1]*A[4]*A[2]*A[4]*A[2]: T_14242,A[1]*A[4]*A[1]*A[4]*A[1]: T_14141,A[1]*A[4]*A[1]*A[4]*A[2]: T_14142,A[1]*A[4]*A[2]*A[0]*A[2]: T_14202, A[1]*A[4]*A[2]*A[4]*A[1]: T_14241,A[2]*A[0]*A[2]*A[4]*A[1]: T_20241,A[2]*A[4]*A[1]*A[4]*A[1]: T_24141,A[2]*A[4]*A[2]*A[4]*A[1]: T_24241}"
   ]
  },
  {
   "cell_type": "code",
   "execution_count": 33,
   "metadata": {
    "hidden": true
   },
   "outputs": [
    {
     "data": {
      "text/latex": [
       "$\\displaystyle 1.00020543148321$"
      ],
      "text/plain": [
       "1.00020543148321"
      ]
     },
     "execution_count": 33,
     "metadata": {},
     "output_type": "execute_result"
    }
   ],
   "source": [
    "out = objective.subs(gDicts)\n",
    "out.subs(sanDict5).subs(sanDict4).subs(sanDict3).subs(sanDict2).subs(sanDict1)"
   ]
  },
  {
   "cell_type": "markdown",
   "metadata": {
    "heading_collapsed": true
   },
   "source": [
    "## Zero list (useless?)"
   ]
  },
  {
   "cell_type": "code",
   "execution_count": 52,
   "metadata": {
    "hidden": true
   },
   "outputs": [],
   "source": [
    "# display(objective.subs(gDicts))\n",
    "# print(gDicts)\n",
    "# print(gDicts)\n",
    "# glabaDict={A[0]*A[1]:sp.Integer(0)}\n",
    "# print(glabaDict)\n",
    "# # display(sp.expand(objective).subs(glabaDict))\n",
    "# # display(sp.expand(objective).args[3].args[1].args[0])\n",
    "# # print(isinstance(sp.expand(objective).args[3].args[1].args[0],sp.Symbol))\n",
    "# # print(isinstance(A[0],sp.Symbol))\n",
    "# obj=sp.expand(objective)\n",
    "# l=0\n",
    "# for _ in obj.args:\n",
    "#     l+=1\n",
    "#     print(\"num:\",l)\n",
    "#     display(_.subs(gDicts))\n",
    "#     for __ in _.args:\n",
    "#         print(\"subterm\")\n",
    "#         display(__)\n",
    "#         if __ == A[0]:\n",
    "#             print(\"matched!\")\n",
    "        \n",
    "#display(objective.args[0])\n",
    "# expr=12*A[0]*A[1]\n",
    "# expr2=12*iKCBS._Πs[0]*iKCBS._Πs[1]\n",
    "# display(expr)\n",
    "# display(expr.subs(glabaDict))\n",
    "\n",
    "# display(expr2)\n",
    "# display(expr2.subs(glabaDict))\n",
    "\n",
    "# for _ in expr.args:\n",
    "#     display(_)\n",
    "\n",
    "# daggerDict={}\n",
    "# for i in range(5):\n",
    "#     daggerDict[sq.Dagger(A[i])]=A[i]"
   ]
  },
  {
   "cell_type": "code",
   "execution_count": 53,
   "metadata": {
    "hidden": true
   },
   "outputs": [],
   "source": [
    "zeroDict={}\n",
    "zeroList=[]\n",
    "for _ in L1:\n",
    "    for _2 in L1:\n",
    "        if _ in G[_2]: #share an edge\n",
    "            zeroDict[_*_2]=0\n",
    "            zeroList.append(_*_2)\n",
    "\n",
    "#print(zeroDict);"
   ]
  },
  {
   "cell_type": "markdown",
   "metadata": {
    "heading_collapsed": true
   },
   "source": [
    "## Creating the matrix of symbols (just for show; useless)"
   ]
  },
  {
   "cell_type": "code",
   "execution_count": null,
   "metadata": {
    "hidden": true
   },
   "outputs": [],
   "source": [
    "#creating the matrix\n",
    "\n",
    "matList=[]\n",
    "\n",
    "for _ in L:\n",
    "    matList.append([_*_2 for _2 in L])\n",
    "\n",
    "#print(matList)\n",
    "\n",
    "sp.Matrix(matList);"
   ]
  },
  {
   "cell_type": "markdown",
   "metadata": {},
   "source": [
    "## Sympy says hello to Cvxpy"
   ]
  },
  {
   "cell_type": "code",
   "execution_count": 65,
   "metadata": {
    "code_folding": [
     44,
     64
    ],
    "scrolled": false
   },
   "outputs": [
    {
     "name": "stdout",
     "output_type": "stream",
     "text": [
      "Adding constraintst from the objective\n",
      "row of  1\n",
      "row of  Π_0\n",
      "row of  Π_1\n",
      "row of  Π_2\n",
      "row of  Π_3\n",
      "row of  Π_4\n",
      "row of  Π_0**2\n",
      "row of  Π_0*Π_1\n",
      "row of  Π_0*Π_2\n",
      "row of  Π_0*Π_3\n",
      "row of  Π_0*Π_4\n",
      "row of  Π_1*Π_0\n",
      "row of  Π_1**2\n",
      "row of  Π_1*Π_2\n",
      "row of  Π_1*Π_3\n",
      "row of  Π_1*Π_4\n",
      "row of  Π_2*Π_0\n",
      "row of  Π_2*Π_1\n",
      "row of  Π_2**2\n",
      "row of  Π_2*Π_3\n",
      "row of  Π_2*Π_4\n",
      "row of  Π_3*Π_0\n",
      "row of  Π_3*Π_1\n",
      "row of  Π_3*Π_2\n",
      "row of  Π_3**2\n",
      "row of  Π_3*Π_4\n",
      "row of  Π_4*Π_0\n",
      "row of  Π_4*Π_1\n",
      "row of  Π_4*Π_2\n",
      "row of  Π_4*Π_3\n",
      "row of  Π_4**2\n",
      "done\n",
      "Adding constraints from the graph\n",
      "done\n",
      "Adding constraints from Quantum Mechanics\n",
      "Row of  1\n",
      "Row of  Π_0\n",
      "Row of  Π_1\n",
      "Row of  Π_2\n",
      "Row of  Π_3\n",
      "Row of  Π_4\n",
      "Row of  Π_0**2\n",
      "Row of  Π_0*Π_1\n",
      "Row of  Π_0*Π_2\n",
      "Row of  Π_0*Π_3\n",
      "Row of  Π_0*Π_4\n",
      "Row of  Π_1*Π_0\n",
      "Row of  Π_1**2\n",
      "Row of  Π_1*Π_2\n",
      "Row of  Π_1*Π_3\n",
      "Row of  Π_1*Π_4\n",
      "Row of  Π_2*Π_0\n",
      "Row of  Π_2*Π_1\n",
      "Row of  Π_2**2\n",
      "Row of  Π_2*Π_3\n",
      "Row of  Π_2*Π_4\n",
      "Row of  Π_3*Π_0\n",
      "Row of  Π_3*Π_1\n",
      "Row of  Π_3*Π_2\n",
      "Row of  Π_3**2\n",
      "Row of  Π_3*Π_4\n",
      "Row of  Π_4*Π_0\n",
      "Row of  Π_4*Π_1\n",
      "Row of  Π_4*Π_2\n",
      "Row of  Π_4*Π_3\n",
      "Row of  Π_4**2\n",
      "done\n"
     ]
    }
   ],
   "source": [
    "#L is the alphabet, to wit: it is the list of letters\n",
    "#\n",
    "X = cp.Variable((len(L),len(L)),symmetric=True)\n",
    "\n",
    "lI = I[0]\n",
    "\n",
    "#>> is for matrix inequality\n",
    "constraints = [X >> 0,X[sTi[lI],sTi[lI]]==1]\n",
    "\n",
    "#objective\n",
    "#y = objective.subs({A[0]:X[sTi[A[0]]],A[1]:X[sTi[A[1]]]})\n",
    "#y = objective.subs({A[0]:sTi[A[0]],A[1]:sTi[A[1]]})\n",
    "\n",
    "\n",
    "# objective function evaluated (loop over product of all letters)\n",
    "y = 0\n",
    "\n",
    "print(\"Adding constraintst from the objective\")\n",
    "termsUsed = []\n",
    "for l1 in L:\n",
    "    print(\"row of \",l1)\n",
    "    for l2 in L:\n",
    "        if l1 != lI or l2 != lI: #this is because if we ask for the coefficient of 1, things get messed up\n",
    "            term = l1*l2\n",
    "            \n",
    "            #the same term can be represented by many elements in the matrix\n",
    "            #we satisfy ourselves with picking just one of them\n",
    "            if not(term in termsUsed):\n",
    "                termsUsed.append(term)                \n",
    "                eX = X[sTi[l1]][sTi[l2]] #picks the corresponding element from the variable matrix of the SDP library\n",
    "                #print(eX)\n",
    "                coeff = sp.N(findCoeff(objective_,l1*l2))\n",
    "                #display(l1*l2)\n",
    "                if isinstance(coeff,sp.Number): #evaluates the coff of l1*l2 in the objective\n",
    "                    #coeff = sp.N(objective.coeff(l1*l2)) #evaluates the coff of l1*l2 in the objective\n",
    "                    #display(coeff)                    \n",
    "                    y += coeff*eX\n",
    "                #else:\n",
    "                    #print(\"strange coeff\")\n",
    "                    #display(coeff)\n",
    "print(\"done\")\n",
    "\n",
    "print(\"Adding constraints from the graph\")\n",
    "#Constraints from the graph (these come from single letters)        \n",
    "for l1 in L1:\n",
    "    for l2 in L1:\n",
    "        eX = X[sTi[l1]][sTi[l2]] #picks the corresponding element from the variable matrix of the SDP library\n",
    "        if l1 in G[l2]:\n",
    "            constraints += [eX == 0]\n",
    "\n",
    "print(\"done\")\n",
    "        #print(coeff,sTi[l1])\n",
    "        #display(l1)\n",
    "\n",
    "#constraints from the fact that Π^2=Π\n",
    "# for l in L1:\n",
    "#     constraints += [ X[sTi[lI]][sTi[l]] == X[sTi[l]][sTi[l]] ]\n",
    "#     #constraints to match with experiment\n",
    "\n",
    "print(\"Adding constraints from Quantum Mechanics\")\n",
    "dictTerms = {}\n",
    "#lettersUsed = []\n",
    "for l1 in L:\n",
    "    print(\"Row of \",l1)\n",
    "    for l2 in L:\n",
    "        term = l1*l2\n",
    "\n",
    "        \n",
    "        tS=[term]\n",
    "        #display(term)\n",
    "        for i in range(lDepth+1):\n",
    "            tS.append(tS[-1].subs(sqDicts))\n",
    "        simTerm=tS[-1]\n",
    "        #display(simTerm)\n",
    "\n",
    "        if not(simTerm in dictTerms):\n",
    "            dictTerms.update({simTerm:[l1,l2]})            \n",
    "        else:\n",
    "            l1_=dictTerms[simTerm][0]\n",
    "            l2_=dictTerms[simTerm][1]\n",
    "            #print(l1_,l2_)            \n",
    "            #print(sTi[l1_],sTi[l2_])\n",
    "            \n",
    "            #print(l1,l2)            \n",
    "            #print(sTi[l1],sTi[l2])\n",
    "            \n",
    "            #constraints += [ X[sTi[l1]][sTi[l2]] == X[sTi[l1_]][sTi[l2_]] ] \n",
    "            # print(X[sTi[l1]][sTi[l2]])\n",
    "            # print(X[sTi[l1_]][sTi[l2_]])\n",
    "            constraints += [ X[sTi[l1]][sTi[l2]] == X[sTi[l1_]][sTi[l2_]] ]\n",
    "\n",
    "        #Orthogonality from the graph\n",
    "        if simTerm.subs(gDicts)==sp.Integer(0):\n",
    "            constraints += [ X[sTi[l1]][sTi[l2]] == 0 ]\n",
    "        del tS\n",
    "        \n",
    "print(\"done\")\n",
    "# display(y)\n",
    "\n",
    "# display(objective.args[0])\n",
    "# display(objective.args[1])\n",
    "\n",
    "\n",
    "#expr=A[0]*A[0]*A[0]*A[1]*A[0]*A[1]\n",
    "\n",
    "\n",
    "\n",
    "\n",
    "#         term = l1*l2\n",
    "\n",
    "\n",
    "#         tS=[term]\n",
    "#         #display(term)\n",
    "#         for i in range(lDepth+1):\n",
    "#             tS.append(tS[-1].subs(sqDicts))\n",
    "#         simTerm=tS[-1]\n",
    "#         #display(simTerm)\n",
    "\n",
    "#         if not(simTerm in dictTerms):\n",
    "#             dictTerms.update({simTerm:[l1,l2]})            \n",
    "#         else:\n",
    "#             l1_=dictTerms[simTerm][0]\n",
    "#             l2_=dictTerms[simTerm][1]\n",
    "#             #print(l1_,l2_)            \n",
    "#             #print(sTi[l1_],sTi[l2_])\n",
    "\n",
    "#             #print(l1,l2)            \n",
    "#             #print(sTi[l1],sTi[l2])\n",
    "\n",
    "#             #constraints += [ X[sTi[l1]][sTi[l2]] == X[sTi[l1_]][sTi[l2_]] ] \n",
    "#             # print(X[sTi[l1]][sTi[l2]])\n",
    "#             # print(X[sTi[l1_]][sTi[l2_]])\n",
    "#             constraints += [ X[sTi[l1]][sTi[l2]] == X[sTi[l1_]][sTi[l2_]] ]\n",
    "\n",
    "#         #Orthogonality from the graph\n",
    "#         if simTerm.subs(gDicts)==sp.Integer(0):\n",
    "#             constraints += [ X[sTi[l1]][sTi[l2]] == 0 ]\n",
    "#         del tS\n",
    "\n",
    "\n",
    "\n",
    "#display(tS[-1])\n",
    "\n",
    "\n",
    "# powDicts={}\n",
    "# for i in range(len(L1)):\n",
    "#     powDicts.update({A[i]**k:A[i] for k in range(2,lDepth+4)[::-1]})\n",
    "\n",
    "\n",
    "#expr.subs(powDicts)\n",
    "\n",
    "# display(expr.subs(sqDicts))\n",
    "# display(expr.subs(powDicts).subs(powDicts))\n",
    "\n",
    "#expr\n",
    "\n",
    "#dict={A[i]**k:A[i] for k in range(lDepth)}\n",
    "\n",
    "#print(powDicts)\n",
    "\n",
    "#result=expr.subs({A[0]*A[0]:A[1]}); result\n",
    "#result=sp.refine(expr,)\n"
   ]
  },
  {
   "cell_type": "code",
   "execution_count": 66,
   "metadata": {},
   "outputs": [],
   "source": [
    "#######################Constraints from the observations\n",
    "\n",
    "a=1/np.sqrt(5)-0.001\n",
    "data = [a,a,a,a,a]\n",
    "\n",
    "j=0\n",
    "for l1 in L1:    \n",
    "    constraints += [ X[sTi[l1],sTi[l1]] == data[j] ]\n",
    "    j+=1\n",
    "    \n",
    "del j"
   ]
  },
  {
   "cell_type": "code",
   "execution_count": 67,
   "metadata": {
    "code_folding": []
   },
   "outputs": [],
   "source": [
    "# # depth=0\n",
    "# # depthThresh=20\n",
    "\n",
    "# def findCoeff(obj,lett):\n",
    "# #     global depth\n",
    "    \n",
    "# #     print(\"Parent object:\")\n",
    "# #     display(obj)\n",
    "    \n",
    "#     if(obj==None):\n",
    "# #         print(\"coefficent is zero\")\n",
    "#         return 0\n",
    "#     elif not (isinstance(obj,sp.Mul) or isinstance(obj,sp.Add)):        \n",
    "#         #the coefficient may be one but we couldn't see it earlier\n",
    "#         return obj.coeff(lett)\n",
    "#     else:\n",
    "#         #try to find the coefficient directly        \n",
    "#         result=obj.coeff(lett)\n",
    "#         #Did not work? \n",
    "#         if(result==0):\n",
    "#             #try for each segment\n",
    "#             for _ in obj.args:\n",
    "# #                 print(\"child:\")\n",
    "# #                 display(_)\n",
    "#                 result=_.coeff(lett)\n",
    "# #                 print(\"coefficient of child:\",result)\n",
    "                \n",
    "#                 #still did not work?\n",
    "#                 if(result==0):\n",
    "#                     #try recursing\n",
    "#                     result = findCoeff(_,lett)    \n",
    "                \n",
    "#                 #found? Stop searching\n",
    "#                 if(result!=0):\n",
    "#                     break\n",
    "#                     #return result\n",
    "\n",
    "#         #return whatever was found | worked\n",
    "#         return result\n",
    "\n",
    "\n",
    "# # def findCoeff2(obj,lett):   \n",
    "# #     global depth\n",
    "# # #     result=obj.coeff(lett)\n",
    "# # #     if result!=0:\n",
    "# # #         print(\"nonzero\")\n",
    "# # #         print(result)\n",
    "# # #         return result\n",
    "# # #     else:\n",
    "# #     print(obj)\n",
    "# #     for _ in obj.args:\n",
    "# #         display(_)\n",
    "# #         if depth>depthThresh:\n",
    "# #             print(\"depth exceeded\")\n",
    "# #             return 0\n",
    "# #         elif _==None:\n",
    "# #             print(\"coeffecient is zero\")\n",
    "# #             return 0\n",
    "# #         else:\n",
    "# #             depth+=1\n",
    "# #             result=obj.coeff(lett)\n",
    "# #             #print(depth)\n",
    "# #             if result!=0:\n",
    "# #                 print(\"result was:\",result)\n",
    "# #             else:\n",
    "# #                 print(\"recursing\")\n",
    "# #                 print(\"_ is\",_)\n",
    "# #                 #if isinstance(_,sp.Mul):\n",
    "# #                 result=findCoeff(_,lett)\n",
    "            \n",
    "# #             return result\n",
    "# # #     if \n",
    "# # #                 else:\n",
    "# # #                     return 0\n",
    "# # #         else:\n",
    "# # #             print(\"depth exceeded\")\n",
    "# # #             return 0\n",
    "            \n"
   ]
  },
  {
   "cell_type": "code",
   "execution_count": 68,
   "metadata": {},
   "outputs": [
    {
     "name": "stdout",
     "output_type": "stream",
     "text": [
      "----------------------------------------------------------------------------\n",
      "\tSCS v2.1.1 - Splitting Conic Solver\n",
      "\t(c) Brendan O'Donoghue, Stanford University, 2012\n",
      "----------------------------------------------------------------------------\n",
      "Lin-sys: sparse-direct, nnz in A = 2237\n",
      "eps = 1.00e-04, alpha = 1.50, max_iters = 5000, normalize = 1, scale = 1.00\n",
      "acceleration_lookback = 0, rho_x = 1.00e-03\n",
      "Variables n = 496, constraints m = 1727\n",
      "Cones:\tprimal zero / dual free vars: 1231\n",
      "\tsd vars: 496, sd blks: 1\n",
      "FATAL: Cannot solve SDPs with > 2x2 matrices without linked blas+lapack libraries\n",
      "Install blas+lapack and re-compile SCS with blas+lapack libray locations\n",
      "ERROR: init_cone failure\n",
      "Setup time: 1.07e-02s\n",
      "Failure:could not initialize work\n",
      "max:gla\n",
      "----------------------------------------------------------------------------\n",
      "\tSCS v2.1.1 - Splitting Conic Solver\n",
      "\t(c) Brendan O'Donoghue, Stanford University, 2012\n",
      "----------------------------------------------------------------------------\n",
      "Lin-sys: sparse-direct, nnz in A = 2237\n",
      "eps = 1.00e-04, alpha = 1.50, max_iters = 5000, normalize = 1, scale = 1.00\n",
      "acceleration_lookback = 0, rho_x = 1.00e-03\n",
      "Variables n = 496, constraints m = 1727\n",
      "Cones:\tprimal zero / dual free vars: 1231\n",
      "\tsd vars: 496, sd blks: 1\n",
      "FATAL: Cannot solve SDPs with > 2x2 matrices without linked blas+lapack libraries\n",
      "Install blas+lapack and re-compile SCS with blas+lapack libray locations\n",
      "ERROR: init_cone failure\n",
      "Setup time: 7.29e-03s\n",
      "Failure:could not initialize work\n",
      "min:ba\n"
     ]
    }
   ],
   "source": [
    "probMin = cp.Problem(-3*cp.Maximize(-y),constraints)\n",
    "probMax = cp.Problem(-3*cp.Maximize(y),constraints)\n",
    "#prob.solve()\n",
    "#prob.solve(solver=cp.CVXOPT,verbose=True,**{'':ldl,'refinement':20,'show_progress':True,'feastol':10e-10,'reltol':10e-10,'abstol':10e-10})\n",
    "try: \n",
    "    print(\"max:\",probMax.solve(verbose=True))\n",
    "except:\n",
    "    print(\"max:gla\")\n",
    "try:\n",
    "    print(\"min:\",-probMin.solve(verbose=True))\n",
    "except:\n",
    "    print(\"min:ba\")"
   ]
  },
  {
   "cell_type": "code",
   "execution_count": 164,
   "metadata": {},
   "outputs": [],
   "source": [
    "import cvxopt as co\n",
    "\n"
   ]
  },
  {
   "cell_type": "markdown",
   "metadata": {},
   "source": [
    "## Inputs"
   ]
  },
  {
   "cell_type": "code",
   "execution_count": null,
   "metadata": {},
   "outputs": [],
   "source": []
  }
 ],
 "metadata": {
  "celltoolbar": "Initialization Cell",
  "kernelspec": {
   "display_name": "Python 3",
   "language": "python",
   "name": "python3"
  },
  "language_info": {
   "codemirror_mode": {
    "name": "ipython",
    "version": 3
   },
   "file_extension": ".py",
   "mimetype": "text/x-python",
   "name": "python",
   "nbconvert_exporter": "python",
   "pygments_lexer": "ipython3",
   "version": "3.7.5"
  },
  "toc": {
   "base_numbering": 1,
   "nav_menu": {},
   "number_sections": true,
   "sideBar": true,
   "skip_h1_title": false,
   "title_cell": "Table of Contents",
   "title_sidebar": "Contents",
   "toc_cell": false,
   "toc_position": {
    "height": "711.818px",
    "left": "588px",
    "top": "469.284px",
    "width": "286px"
   },
   "toc_section_display": true,
   "toc_window_display": false
  }
 },
 "nbformat": 4,
 "nbformat_minor": 2
}
