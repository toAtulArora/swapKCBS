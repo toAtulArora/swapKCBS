{
 "cells": [
  {
   "cell_type": "markdown",
   "metadata": {},
   "source": [
    "# Libraries"
   ]
  },
  {
   "cell_type": "code",
   "execution_count": 1,
   "metadata": {
    "init_cell": true
   },
   "outputs": [],
   "source": [
    "import numpy as np\n",
    "import sympy as sp\n",
    "import sympy.physics.quantum as sq\n",
    "import sympy.physics.quantum.qubit as sqq\n",
    "import sympy.physics.quantum.gate as sqg\n",
    "\n",
    "import cvxpy as cp\n",
    "\n",
    "import matplotlib.pyplot as plt\n",
    "import networkx as nx\n",
    "\n",
    "sp.init_printing(use_latex='mathjax')\n",
    "from IPython.display import display\n",
    "\n",
    "\n",
    "import pickle\n",
    "import dill\n",
    "dill.settings['recurse'] = True"
   ]
  },
  {
   "cell_type": "markdown",
   "metadata": {
    "heading_collapsed": true
   },
   "source": [
    "## idealFid"
   ]
  },
  {
   "cell_type": "code",
   "execution_count": 2,
   "metadata": {
    "hidden": true,
    "init_cell": true
   },
   "outputs": [],
   "source": [
    "class idealFid:\n",
    "    \n",
    "    def __init__(s):\n",
    "        P1 = s.proj(1,5)\n",
    "        P2 = s.proj(2,5)\n",
    "        P3 = s.proj(3,5)\n",
    "        P4 = s.proj(4,5)\n",
    "        P5 = s.proj(5,5)\n",
    "        s.P = [P1,P2,P3,P4,P5]\n",
    "        s.terms = 5\n",
    "\n",
    "    def proj(s,j,n):\n",
    "        pi=np.pi\n",
    "        temp1 = np.cos(pi/n)/(1+np.cos(pi/n))\n",
    "        temp2 = 1-temp1\n",
    "        temp3 = j*pi*(n-1)/n\n",
    "        vec = np.asarray([np.sqrt(temp1),np.sqrt(temp2)*np.sin(temp3), np.sqrt(temp2)*np.cos(temp3)])\n",
    "        mat = np.outer(vec,vec)\n",
    "        return mat\n",
    "    \n",
    "    \n",
    "    def idealVal(s,projList):\n",
    "        op = s.P[projList[0]]\n",
    "        for iProj in projList[1:]:\n",
    "            op = op@s.P[iProj]\n",
    "        return op[0,0]\n",
    "    "
   ]
  },
  {
   "cell_type": "markdown",
   "metadata": {
    "heading_collapsed": true
   },
   "source": [
    "## Extending the braket library to include orthogonality"
   ]
  },
  {
   "cell_type": "code",
   "execution_count": 3,
   "metadata": {
    "hidden": true,
    "init_cell": true
   },
   "outputs": [],
   "source": [
    "class onStruct:\n",
    "    G = nx.Graph()\n",
    "\n",
    "class onKet(sq.Ket,onStruct):\n",
    "    def _eval_innerproduct(self,bra,**hints):\n",
    "        #Check if the innerproduct is with yourself, then set 1\n",
    "        if sq.Dagger(bra) == self:\n",
    "            return sp.Integer(1)\n",
    "        #Else, if the innerproduct is with a neighbor from the graph, set 0\n",
    "        elif sq.Dagger(bra) in G[self]:\n",
    "            return sp.Integer(0)\n",
    "        #Else, do nothing; not enough information\n",
    "    \n",
    "    @classmethod\n",
    "    def set_on_rel(cls,givenG):\n",
    "        cls.G=givenG\n",
    "    \n",
    "    @classmethod\n",
    "    def dual_class(self):\n",
    "        return onBra\n",
    "\n",
    "    \n",
    "class onBra(sq.Bra,onStruct):\n",
    "    @classmethod\n",
    "    def dual_class(self):\n",
    "        return onKet"
   ]
  },
  {
   "cell_type": "code",
   "execution_count": 4,
   "metadata": {
    "hidden": true,
    "init_cell": true
   },
   "outputs": [],
   "source": [
    "class bKet(sq.Ket):\n",
    "    \n",
    "    #total number of kets (automatically increases as new instances are initialised)\n",
    "    totalKets=0\n",
    "    \n",
    "    #this method automates the increase\n",
    "    @classmethod\n",
    "    def _eval_args(cls,args):\n",
    "        #validate input type\n",
    "        if not isinstance(args[0],int):\n",
    "            raise ValueError(\"Integer expected in the argument, got: %r\"%args[0])\n",
    "\n",
    "        #if a ket |5> is initialised, the dimension is assumed to be 6 since we have |0>,|1>,...|5>\n",
    "        if int(args[0])+1 > cls.totalKets:\n",
    "            cls.totalKets=args[0]+1\n",
    "        \n",
    "        #pass control back to the base class\n",
    "        return sq.Ket._eval_args(args) \n",
    "    \n",
    "    #Could not find a way of using just one function; need to go through the two\n",
    "    #based on a combination of the qubit implementation and the \n",
    "    def _represent_default_basis(s,**options):\n",
    "        return s._represent_bKet(None,**options) #syntax taken from the Qubit library\n",
    "    \n",
    "    def _represent_bKet(s,basis,**options): #_represent_default_basis\n",
    "        a=np.zeros(s.__class__.totalKets,dtype=int)\n",
    "        a[s.label[0]]=1\n",
    "        return sp.Matrix(a)\n",
    "    \n",
    "    @classmethod\n",
    "    def set_dimension(cls,arg):\n",
    "        cls.totalKets=arg\n",
    "    \n",
    "    def _eval_innerproduct(self,bra,**hints):\n",
    "        #Check if the innerproduct is with yourself, then set 1\n",
    "        if sq.Dagger(bra) == self:\n",
    "            return sp.Integer(1)\n",
    "        #Else, if the innerproduct is with a neighbor from the graph, set 0\n",
    "        else:\n",
    "            return sp.Integer(0)\n",
    "        #Else, do nothing; not enough information\n",
    "    \n",
    "\n",
    "    @classmethod\n",
    "    def dual_class(self):\n",
    "        return bBra\n",
    "\n",
    "    \n",
    "class bBra(sq.Bra):\n",
    "    # @classmethod\n",
    "    # def _eval_args(cls,args):\n",
    "    #     return args\n",
    "    \n",
    "    @classmethod\n",
    "    def dual_class(cls):\n",
    "        return bKet"
   ]
  },
  {
   "cell_type": "markdown",
   "metadata": {
    "heading_collapsed": true,
    "hidden": true
   },
   "source": [
    "### Debugging | representation example"
   ]
  },
  {
   "cell_type": "code",
   "execution_count": null,
   "metadata": {
    "hidden": true
   },
   "outputs": [],
   "source": [
    "class SzUpKet(sq.Ket):\n",
    "    def _represent_SzUpKet(s,basis,**options):\n",
    "        return sp.Matrix([1,0])\n",
    "    \n",
    "#     def _represent_SzOp(s,basis,**options):\n",
    "#         return sp.Matrix([1,0])\n",
    "\n",
    "class SzOp(sq.Operator):\n",
    "    pass\n",
    "\n",
    "sz = SzOp('Sz')\n",
    "up = SzUpKet('up')\n",
    "sq.represent(up,basis=SzUpKet) #,basis=sz)"
   ]
  },
  {
   "cell_type": "markdown",
   "metadata": {
    "heading_collapsed": true,
    "hidden": true
   },
   "source": [
    "### Testing | Dimension increasing?"
   ]
  },
  {
   "cell_type": "code",
   "execution_count": null,
   "metadata": {
    "hidden": true
   },
   "outputs": [],
   "source": [
    "# class bKet(sq.Ket):\n",
    "    \n",
    "#     #total number of kets (automatically increases as new instances are initialised)\n",
    "#     totalKets=0\n",
    "    \n",
    "#     #this method automates the increase\n",
    "#     @classmethod\n",
    "#     def _eval_args(cls,args):\n",
    "#         #validate input type\n",
    "#         if not isinstance(args[0],int):\n",
    "#             raise ValueError(\"Integer expected in the argument, got: %r\"%args[0])\n",
    "\n",
    "#         #if a ket |5> is initialised, the dimension is assumed to be 6 since we have |0>,|1>,...|5>\n",
    "#         if int(args[0])+1 > cls.totalKets:\n",
    "#             cls.totalKets=args[0]+1\n",
    "        \n",
    "#         #pass control back to the base class\n",
    "#         return sq.Ket._eval_args(args) \n",
    "    \n",
    "#     #Could not find a way of using just one function; need to go through the two\n",
    "#     #based on a combination of the qubit implementation and the \n",
    "#     def _represent_default_basis(s,**options):\n",
    "#         return s._represent_bKet(None,**options) #syntax taken from the Qubit library\n",
    "    \n",
    "#     def _represent_bKet(s,basis,**options): #_represent_default_basis\n",
    "#         a=np.zeros(s.__class__.totalKets,dtype=int)\n",
    "#         a[s.label[0]]=1\n",
    "#         return sp.Matrix(a)\n",
    "    \n",
    "#     @classmethod\n",
    "#     def set_dimension(cls,arg):\n",
    "#         cls.totalKets=arg\n",
    "    \n",
    "#     def _eval_innerproduct(self,bra,**hints):\n",
    "#         #Check if the innerproduct is with yourself, then set 1\n",
    "#         if sq.Dagger(bra) == self:\n",
    "#             return sp.Integer(1)\n",
    "#         #Else, if the innerproduct is with a neighbor from the graph, set 0\n",
    "#         else:\n",
    "#             return sp.Integer(0)\n",
    "#         #Else, do nothing; not enough information\n",
    "    \n",
    "\n",
    "#     @classmethod\n",
    "#     def dual_class(self):\n",
    "#         return bBra\n",
    "\n",
    "    \n",
    "# class bBra(sq.Bra):\n",
    "#     # @classmethod\n",
    "#     # def _eval_args(cls,args):\n",
    "#     #     return args\n",
    "    \n",
    "#     @classmethod\n",
    "#     def dual_class(cls):\n",
    "#         return bKet"
   ]
  },
  {
   "cell_type": "code",
   "execution_count": null,
   "metadata": {
    "hidden": true
   },
   "outputs": [],
   "source": [
    "a=bKet(0)\n",
    "\n",
    "b=a*sq.Dagger(a)\n",
    "\n",
    "print(bKet.totalKets)\n",
    "sq.represent(a)\n",
    "\n",
    "c=bKet(3);\n",
    "sq.represent(a)\n",
    "sq.represent(b)\n",
    "sq.represent(c)"
   ]
  },
  {
   "cell_type": "code",
   "execution_count": null,
   "metadata": {
    "hidden": true
   },
   "outputs": [],
   "source": [
    "a=bKet(0); a"
   ]
  },
  {
   "cell_type": "code",
   "execution_count": null,
   "metadata": {
    "hidden": true
   },
   "outputs": [],
   "source": [
    "sq.represent(a)"
   ]
  },
  {
   "cell_type": "code",
   "execution_count": null,
   "metadata": {
    "hidden": true
   },
   "outputs": [],
   "source": [
    "b=bKet(1); b"
   ]
  },
  {
   "cell_type": "code",
   "execution_count": null,
   "metadata": {
    "hidden": true
   },
   "outputs": [],
   "source": [
    "sq.represent(b)"
   ]
  },
  {
   "cell_type": "code",
   "execution_count": null,
   "metadata": {
    "hidden": true
   },
   "outputs": [],
   "source": [
    "sq.represent(a)"
   ]
  },
  {
   "cell_type": "code",
   "execution_count": null,
   "metadata": {
    "hidden": true
   },
   "outputs": [],
   "source": [
    "c=bKet(3); c"
   ]
  },
  {
   "cell_type": "code",
   "execution_count": null,
   "metadata": {
    "hidden": true
   },
   "outputs": [],
   "source": [
    "sq.represent(a)"
   ]
  },
  {
   "cell_type": "markdown",
   "metadata": {
    "heading_collapsed": true
   },
   "source": [
    "## Extending the tensor product functionality—tsimp and tdsimp"
   ]
  },
  {
   "cell_type": "code",
   "execution_count": 5,
   "metadata": {
    "hidden": true,
    "init_cell": true
   },
   "outputs": [],
   "source": [
    "\n",
    "def powerDrop(expr):\n",
    "    if isinstance(expr,sp.Pow): #TODO: make sure the base is not too complex\n",
    "        # print(\"PowerEncountered\")\n",
    "        if expr.exp>=2:\n",
    "            # print(\"glaba\")\n",
    "            # display(expr.base)\n",
    "            _=sq.qapply(sp.Mul(expr.base,expr.base))\n",
    "            if expr.exp>2:\n",
    "                return powerDrop(_*sp.Pow(expr.base,expr.exp-2))\n",
    "            else:\n",
    "                return _\n",
    "        else:\n",
    "            return expr #autoDropDim(sp.Mul(expr.base,expr.base))\n",
    "    else:\n",
    "        if expr.has(sp.Pow):\n",
    "            #if it is a sum or a product, run this function for each part and then combine the parts; return the result\n",
    "            if isinstance(expr,sp.Mul) or isinstance(expr,sp.Add) or isinstance(expr,sq.TensorProduct):\n",
    "                new_args=[] #list(expr.args)\n",
    "                for _ in expr.args:\n",
    "                    new_args.append(powerDrop(_))\n",
    "                if isinstance(expr,sp.Mul):        \n",
    "                    return sp.Mul(*new_args)\n",
    "                elif isinstance(expr,sp.Add):\n",
    "                    return sp.Add(*new_args)  \n",
    "                elif isinstance(expr,sq.TensorProduct):\n",
    "                    return sq.TensorProduct(*new_args)  \n",
    "\n",
    "            else:\n",
    "                return expr\n",
    "            #There would be no else here because tensor product simp would have removed that part\n",
    "        else:\n",
    "            return expr        \n",
    "    \n",
    "def autoDropDim(expr):\n",
    "    #print(\"Expression\")\n",
    "    #if isinstance(expr,sp.Mul):\n",
    "        #print(\"type:multiplier\")\n",
    "    #display(expr)\n",
    "    \n",
    "    \n",
    "    if isinstance(expr,sq.TensorProduct):\n",
    "        new_args=[]\n",
    "        for _ in expr.args:\n",
    "            #display(_)\n",
    "            #print(type(_))\n",
    "            if _ != sp.Integer(1):\n",
    "            #if not isinstance(_,core.numbers.One):\n",
    "                new_args.append(_)\n",
    "        #print(\"TensorProduct with %d non-ones in the tensor product\"%len(new_args))\n",
    "        if(len(new_args)==0):\n",
    "            return sp.Integer(1)\n",
    "        else:\n",
    "            return sq.TensorProduct(*new_args)\n",
    "    else:\n",
    "        if expr.has(sq.TensorProduct):\n",
    "            #if it is a sum or a product, run this function for each part and then combine the parts; return the result\n",
    "            if isinstance(expr,sp.Mul) or isinstance(expr,sp.Add):\n",
    "                new_args=[] #list(expr.args)\n",
    "                for _ in expr.args:\n",
    "                    new_args.append(autoDropDim(_))\n",
    "                if isinstance(expr,sp.Mul):        \n",
    "                    return sp.Mul(*new_args)\n",
    "                elif isinstance(expr,sp.Add):\n",
    "                    return sp.Add(*new_args)  \n",
    "                \n",
    "            #There would be no else here because tensor product simp would have removed that part\n",
    "        else:\n",
    "            return expr #when the expression is just an integer or some such\n",
    "\n",
    "\n",
    "        \n",
    "def tsimp(e,pruneMe=True):\n",
    "    res=sq.qapply(powerDrop(sq.tensorproduct.tensor_product_simp(sq.qapply(e)).doit()))\n",
    "    if pruneMe:\n",
    "        return prune(res)\n",
    "    else:\n",
    "        return res\n",
    "\n",
    "def tdsimp(e,pruneMe=True):\n",
    "    res=autoDropDim(sq.qapply(powerDrop(autoDropDim(sq.tensorproduct.tensor_product_simp(sq.qapply(e)).doit()))))\n",
    "    if pruneMe:\n",
    "        return prune(res)\n",
    "    else:\n",
    "        return res\n",
    "    #return autoDropDim(sq.tensorproduct.tensor_product_simp_Mul(e).doit())\n",
    "    #return autoDropDim(sq.tensorproduct.tensor_product_simp_Mul(sq.qapply(e)).doit())\n",
    "    #return autoDropDim(sq.tensorproduct.tensor_product_simp(e).doit())"
   ]
  },
  {
   "cell_type": "markdown",
   "metadata": {
    "heading_collapsed": true
   },
   "source": [
    "## Find Coeff was not reliable"
   ]
  },
  {
   "cell_type": "code",
   "execution_count": 6,
   "metadata": {
    "hidden": true,
    "init_cell": true
   },
   "outputs": [],
   "source": [
    "# depth=0\n",
    "# depthThresh=20\n",
    "\n",
    "def findCoeff(obj,lett):\n",
    "#     global depth\n",
    "    \n",
    "#     print(\"Parent object:\")\n",
    "#     display(obj)\n",
    "    \n",
    "    if(obj==None):\n",
    "#         print(\"coefficent is zero\")\n",
    "        return 0\n",
    "    elif not (isinstance(obj,sp.Mul) or isinstance(obj,sp.Add)):        \n",
    "        #the coefficient may be one but we couldn't see it earlier\n",
    "        return obj.coeff(lett)\n",
    "    else:\n",
    "        #try to find the coefficient directly        \n",
    "        result=obj.coeff(lett)\n",
    "        #Did not work? \n",
    "        if(result==0):\n",
    "            #try for each segment\n",
    "            for _ in obj.args:\n",
    "#                 print(\"child:\")\n",
    "#                 display(_)\n",
    "                result=_.coeff(lett)\n",
    "#                 print(\"coefficient of child:\",result)\n",
    "                \n",
    "                #still did not work?\n",
    "                if(result==0):\n",
    "                    #try recursing\n",
    "                    result = findCoeff(_,lett)    \n",
    "                \n",
    "                #found? Stop searching\n",
    "                if(result!=0):\n",
    "                    break\n",
    "                    #return result\n",
    "\n",
    "        #return whatever was found | worked\n",
    "        return result\n",
    "\n"
   ]
  },
  {
   "cell_type": "markdown",
   "metadata": {
    "heading_collapsed": true
   },
   "source": [
    "## Prune"
   ]
  },
  {
   "cell_type": "code",
   "execution_count": 7,
   "metadata": {
    "hidden": true,
    "init_cell": true
   },
   "outputs": [],
   "source": [
    "def prune(expr,thr=10,remNum=False):\n",
    "    if isinstance(expr,sp.Number): \n",
    "        if remNum==False:\n",
    "            if sp.Abs(expr)<10**(-thr):\n",
    "                return sp.Integer(0)\n",
    "            else:\n",
    "                return expr\n",
    "        else:\n",
    "            return sp.Integer(1)\n",
    "    else:\n",
    "        if expr.has(sp.Number):\n",
    "            #if it is a sum or a product, run this function for each part and then combine the parts; return the result\n",
    "            if isinstance(expr,sp.Mul) or isinstance(expr,sp.Add) or isinstance(expr,sq.TensorProduct):\n",
    "                new_args=[] #list(expr.args)\n",
    "                for _ in expr.args:\n",
    "                    new_args.append(prune(_,thr,remNum))\n",
    "                if isinstance(expr,sp.Mul):        \n",
    "                    return sp.Mul(*new_args)\n",
    "                elif isinstance(expr,sp.Add):\n",
    "                    return sp.Add(*new_args)  \n",
    "                elif isinstance(expr,sq.TensorProduct):\n",
    "                    return sq.TensorProduct(*new_args)  \n",
    "\n",
    "            else:\n",
    "                return expr\n",
    "            #There would be no else here because tensor product simp would have removed that part\n",
    "        else:\n",
    "            return expr        \n",
    "\n",
    "# test=(A[0]*2)\n",
    "# test.has(sp.Number)\n",
    "# prune(test,remNum=True)"
   ]
  },
  {
   "cell_type": "markdown",
   "metadata": {
    "heading_collapsed": true
   },
   "source": [
    "## Power to Mul"
   ]
  },
  {
   "cell_type": "code",
   "execution_count": 8,
   "metadata": {
    "hidden": true,
    "init_cell": true
   },
   "outputs": [],
   "source": [
    "# From: https://stackoverflow.com/questions/28117770/sympy-multiplications-of-exponential-rather-than-exponential-of-sum\n",
    "# Thankfully I didn't have to sit and write this!\n",
    "\n",
    "def pow_to_mul_(expr):\n",
    "    \"\"\"\n",
    "    Convert integer powers in an expression to Muls, like a**2 => a*a.\n",
    "    \"\"\"\n",
    "    pows = list(expr.atoms(sp.Pow))\n",
    "    if any(not e.is_Integer for b, e in (i.as_base_exp() for i in pows)):\n",
    "\n",
    "        raise ValueError(\"A power contains a non-integer exponent\")\n",
    "    repl = zip(pows, (sp.Mul(*[b]*e,evaluate=False) for b,e in (i.as_base_exp() for i in pows)))\n",
    "    return expr.subs(repl)"
   ]
  },
  {
   "cell_type": "code",
   "execution_count": 9,
   "metadata": {
    "hidden": true,
    "init_cell": true
   },
   "outputs": [],
   "source": [
    "## Not very well written\n",
    "\n",
    "def pow_to_mul(expr):\n",
    "    if isinstance(expr,sp.Pow): \n",
    "        return pow_to_mul_(expr)\n",
    "    else:\n",
    "        if expr.has(sp.Pow):\n",
    "            #if it is a sum or a product, run this function for each part and then combine the parts; return the result\n",
    "            if isinstance(expr,sp.Mul) or isinstance(expr,sp.Add):\n",
    "                new_args=[] #list(expr.args)\n",
    "                for _ in expr.args:\n",
    "                    new_args.append(pow_to_mul(_))\n",
    "                    \n",
    "                if isinstance(expr,sp.Mul):        \n",
    "                    return sp.Mul(*new_args,evaluate=False)\n",
    "                elif isinstance(expr,sp.Add):\n",
    "                    return sp.Add(*new_args)\n",
    "            else:\n",
    "                return expr\n",
    "        else:\n",
    "            return expr      "
   ]
  },
  {
   "cell_type": "code",
   "execution_count": 10,
   "metadata": {
    "hidden": true,
    "init_cell": true
   },
   "outputs": [],
   "source": [
    "def mul_to_single_mul(expr):\n",
    "    if isinstance(expr,sp.Mul): \n",
    "        new_args=[]\n",
    "        for _ in expr.args:\n",
    "            if isinstance(_,sp.Mul):\n",
    "                for __ in _.args:\n",
    "                    new_args.append(__)\n",
    "            elif expr.has(sp.Mul):\n",
    "                new_args.append(mul_to_single_mul(_)) #If inside a mul, there is another mul, extract it\n",
    "            else:\n",
    "                new_args.append(_)  #if it is something entirely different, bring it along as it is\n",
    "        \n",
    "        return sp.Mul(*new_args,evaluate=False) #put the new arguments into a single multiply and return\n",
    "    \n",
    "    else:\n",
    "        if expr.has(sp.Mul):\n",
    "            #if it is a sum, run this function for each part and then combine the parts; return the result\n",
    "            if isinstance(expr,sp.Add):\n",
    "                new_args=[] #list(expr.args)\n",
    "                for _ in expr.args:\n",
    "                    new_args.append(mul_to_single_mul(_))\n",
    "                    \n",
    "                if isinstance(expr,sp.Add):\n",
    "                    return sp.Add(*new_args)\n",
    "            else:\n",
    "                return expr\n",
    "        else:\n",
    "            return expr          "
   ]
  },
  {
   "cell_type": "code",
   "execution_count": 11,
   "metadata": {
    "hidden": true,
    "init_cell": true
   },
   "outputs": [],
   "source": [
    "def pow_to_single_mul(expr):\n",
    "    return mul_to_single_mul(pow_to_mul(expr))"
   ]
  },
  {
   "cell_type": "markdown",
   "metadata": {
    "heading_collapsed": true
   },
   "source": [
    "# Ideal KCBS calculations"
   ]
  },
  {
   "cell_type": "code",
   "execution_count": 12,
   "metadata": {
    "code_folding": [
     21,
     47,
     59,
     101,
     155,
     257,
     270,
     382,
     410,
     508,
     582
    ],
    "hidden": true,
    "init_cell": true
   },
   "outputs": [],
   "source": [
    "\n",
    "class cls_iKCBS:    \n",
    "    \n",
    "    def __init__(s,n,verbose=False,thr=10,test=False,forceCalc=False):\n",
    "        s.thr=thr\n",
    "        if verbose==True:\n",
    "            print(\"Creating projectors etc\")\n",
    "\n",
    "        cls_iKCBS.n=n\n",
    "        #j in 0,1,2,3,4\n",
    "        \n",
    "        s.ke = [bKet(j) for j in range(3)]    \n",
    "        s.br = [sq.Dagger(s.ke[j]) for j in range(3)]\n",
    "        \n",
    "        s.Πs = []\n",
    "                \n",
    "        ### N'd here\n",
    "        #evaluate the projectors for the ideal case\n",
    "        for j in range(n):\n",
    "            s.Πs.append(sp.N(s.eval(j,n)))\n",
    "\n",
    "        if(test and False):\n",
    "            print(\"Testing Πs\")\n",
    "            for i in range(n):\n",
    "                for k in range(n):\n",
    "                    print(\"Inner product of \",i,\" and \",k,\" projectors is\")\n",
    "                    temp=0\n",
    "                    for j in range(3):\n",
    "                        temp+=sq.qapply(s.br[j]*s.Πs[i]*s.Πs[k]*s.ke[j])\n",
    "                    print(temp)\n",
    "                    del temp\n",
    "                    \n",
    "   \n",
    "        #calculate the matrix representation\n",
    "        s.matΠs = [sq.represent(_) for _ in s.Πs] #I leave this as well to avoid breaking things; TODO: try to remove it\n",
    "        \n",
    "        ### N'd here\n",
    "        #the first two vectors are taken to be k'\n",
    "        s.kp = [sp.N(s.eval(0,n,True)),sp.N(s.eval(1,n,True))]\n",
    "        \n",
    "        #the third is constructed as k0 x k1 (cross product) and then added to the list\n",
    "        s.kp.append(sp.N(s.cross(s.kp)))\n",
    "        \n",
    "        \n",
    "        #evaluates the conjugate for each element in the list\n",
    "        s.bp=[sq.Dagger(ikp) for ikp in s.kp]                \n",
    "        \n",
    "        if(test):\n",
    "            #Testing orthogonality\n",
    "            print(\"Testing orthogonality of the braP and ketP objects\")\n",
    "            for braP in s.bp:\n",
    "                for ketP in s.kp:\n",
    "                    print(sq.qapply(braP*ketP))#sp.N(sq.qapply(braP*ketP)))\n",
    "        \n",
    "    \n",
    "        #the Translation operator\n",
    "        s.T = s.kp[0]*s.bp[2] + s.kp[1]*s.bp[0] + s.kp[2]*s.bp[1] \n",
    "        s.Ti = s.kp[2]*s.bp[0] + s.kp[0]*s.bp[1] + s.kp[1]*s.bp[2] #TODO: Automate this\n",
    "        \n",
    "        if(test):\n",
    "            print(\"Testing the basic Translation operator\")\n",
    "            for braP in s.bp:\n",
    "                for ketP in s.kp:\n",
    "                    #print(braP)\n",
    "                    print(sq.qapply(braP*s.T*ketP))#sp.N(sq.qapply(braP*ketP)))\n",
    "                    #print(sp.N(sq.qapply(sp.N(braP)*sp.N(s.T)*sp.N(ketP))))\n",
    "            display(sq.represent(s.T))\n",
    "\n",
    "        \n",
    "        #s.mT = s.mkp[0]*s.mbp[2] + s.mkp[1]*s.mbp[0] + s.mkp[2]*s.mbp[1] \n",
    "        #s.mTi = s.mkp[2]*s.mbp[0] + s.mkp[0]*s.mbp[1] + s.mkp[1]*s.mbp[2] #TODO: Automate this\n",
    "        \n",
    "        s.matT=sq.represent(s.T)\n",
    "        \n",
    "        #Now the abstract ones\n",
    "        \n",
    "        #creates n abstract projectors (basically just a bunch of non-commuting symbols)\n",
    "        s._Πs = sp.symbols('Π_0:%d'%n,commutative=False)\n",
    "        \n",
    "        #We use this to create a localising matrix\n",
    "        #We must imposes conj(_P) * Translation >> 0\n",
    "        s._P = sp.symbols('P',commutative=False) \n",
    "        s._Pd = sp.symbols('Pd',commutative=False) #we define them separately because sq.dagger doesn't work too well with symbols which are not based on kets etc\n",
    "        #s._Pd = sq.dagger(sp)\n",
    "        \n",
    "        s.daggerDict = {}\n",
    "        s.sqDict = {}\n",
    "        for i in range(n):\n",
    "            s.daggerDict[sq.Dagger(s._Πs[i])]=s._Πs[i]\n",
    "            s.sqDict[(s._Πs[i])*(s._Πs[i])]=s._Πs[i]\n",
    "        \n",
    "        s.daggerDict[sq.Dagger(s._Pd)]=s._P\n",
    "        s.daggerDict[sq.Dagger(s._P)]=s._Pd\n",
    "        s.sqDict[s._P*s._Pd]=sp.Integer(1)\n",
    "        s.sqDict[s._Pd*s._P]=sp.Integer(1)\n",
    "        \n",
    "        #not very happy because it should come from the graph\n",
    "        s.gDict = {}\n",
    "        for i in range(n):\n",
    "            s.gDict[s._Πs[i]*s._Πs[(i+1)%n]]=sp.Integer(0)\n",
    "            s.gDict[s._Πs[(i+1)%n]*s._Πs[i]]=sp.Integer(0)\n",
    "        \n",
    "        if verbose==True:\n",
    "            print(\"Solving a linear system to find the coefficients for expressing the translation operator as a sum of projectors\")\n",
    "\n",
    "        s._T=s.eval_lin_c() #NB: it computes the coefficients into s.c    \n",
    "        \n",
    "        ##Debugging\n",
    "        if(test):\n",
    "            print(\"Converting the numerical solution into a usable form\")\n",
    "            numTDict={}\n",
    "            for i in range(n):\n",
    "                numTDict[s._Πs[i]]=s.Πs[i]\n",
    "            #display(s._T)\n",
    "            numT = s._T.subs(numTDict)\n",
    "            #display(numT)\n",
    "            print(\"Testing the numerically found Translation operator.\")\n",
    "            # for braP in s.bp:\n",
    "            #     for ketP in s.kp:\n",
    "            #         print(sq.qapply(braP*numT*ketP)) #sp.N(sq.qapply(braP*ketP)))\n",
    "            numMatT=sq.represent(numT)\n",
    "            display(sp.Transpose(numMatT) * numMatT)\n",
    "            \n",
    "            display(sq.represent(numT))\n",
    "            \n",
    "\n",
    "        if verbose==True:\n",
    "            print(\"Solving the cross Π\")\n",
    "        \n",
    "        #s._Πcross = s.eval_Π_cross(RHS=sq.represent(s.kp[2]*s.bp[2])) #s.eval_lin_c(RHS=sq.represent(s.kp[2]*s.bp[2]))\n",
    "        s._Πcross = s.eval_lin_c(RHS=sq.represent(s.kp[2]*s.bp[2]))\n",
    "            \n",
    "        if verbose==True:\n",
    "            print(\"Evaluating the first term of F\")\n",
    "\n",
    "        if(test):\n",
    "            s.Πcross = s.eval_lin_c(RHS=sq.represent(s.kp[2]*s.bp[2]),retIde=True)\n",
    "            s.test_swapGate()\n",
    "            \n",
    "        if(not test):\n",
    "            \n",
    "            try:\n",
    "                y=dill.load(open(\"Fsaved2\", \"rb\"))\n",
    "                s.F=y\n",
    "                print(\"Loaded from file\")\n",
    "            except:\n",
    "                y=None\n",
    "            \n",
    "            if y==None or forceCalc==True:\n",
    "                print(\"Evaluating F\")\n",
    "                s.eval_state_hw()\n",
    "                s.Fs = [s.eval_state_F()]                        \n",
    "                for i in range(n):\n",
    "                    print(\"iteration: \",i)\n",
    "                    s.Fs.append(s.Fs[-1]+5.0*s.eval_state_F(s.Πs[i],s._Πs[i]))\n",
    "                s.F = s.Fs[-1] #last element, the most recent calculation\n",
    "                \n",
    "                dill.dump(s.F, open(\"Fsaved2\", \"wb\"))\n",
    "                print(\"Saved to disk\")\n",
    "        \n",
    "        print(\"done\")\n",
    "        \n",
    "    def test_swapGate(s):\n",
    "        s.TP = sq.TensorProduct \n",
    "        s.T = s.kp[0]*s.bp[2] + s.kp[1]*s.bp[0] + s.kp[2]*s.bp[1] \n",
    "        s.Ti = s.kp[2]*s.bp[0] + s.kp[0]*s.bp[1] + s.kp[1]*s.bp[2] #TODO: Automate this\n",
    "        \n",
    "        Id_ = s.kp[0]*s.bp[0] + s.kp[1]*s.bp[1] + s.kp[2]*s.bp[2]\n",
    "        \n",
    "        dontDie=prune(sp.N(sq.qapply(s.T*s.T)))\n",
    "        \n",
    "        _U_=sq.represent(s.TP(Id_,s.kp[0]*s.bp[0])) + sq.represent(s.TP(s.T,s.kp[1]*s.bp[1])) \\\n",
    "        + sq.represent(s.TP(dontDie,s.kp[2]*s.bp[2]))\n",
    "        display(_U_)\n",
    "        \n",
    "        _T_=sq.represent(s.TP(Id_,s.kp[0]*s.bp[0] + s.kp[2]*s.bp[1] + s.kp[1]*s.bp[2]))\n",
    "        display(_T_)        \n",
    "        \n",
    "        #_V_= sq.represent(s.TP(s.kp[0]*s.bp[0],Id_) + s.TP(s.kp[1]*s.bp[1],s.Ti) + s.TP(s.kp[2]*s.bp[2],s.Ti*sp.N(s.Ti)))\n",
    "        _V_ = sq.represent(s.TP(s.Πs[0],Id_) + s.TP(s.Πs[1],s.Ti) + s.TP(s.Πcross,s.Ti*sp.N(s.Ti)))\n",
    "        display(_V_)\n",
    "        \n",
    "        print(\"comparing the projectors with the ket based projectors\")\n",
    "        \n",
    "        display(sq.represent(s.kp[0]*s.bp[0]))\n",
    "        display(sq.represent(s.Πs[0]))\n",
    "\n",
    "        display(sq.represent(s.kp[1]*s.bp[1]))\n",
    "        display(sq.represent(s.Πs[1]))\n",
    "\n",
    "        display(sq.represent(s.kp[2]*s.bp[2]))\n",
    "        display(sq.represent(s.Πcross))\n",
    "        \n",
    "        print(\"did this work?\")\n",
    "        \n",
    "        \n",
    "        SWAP = _T_*_U_*_V_*_U_\n",
    "        display(SWAP)\n",
    "        \n",
    "        testVec=sq.represent(s.TP(s.ke[0],s.ke[1]))\n",
    "        print(\"Multiplying this\")\n",
    "        display(testVec)\n",
    "        display(SWAP*testVec)\n",
    "        \n",
    "    def eval_state_hw(s):\n",
    "        s.TP = sq.TensorProduct\n",
    "        #dontDie=prune(sp.N(sq.qapply(s._T*s._T)))\n",
    "        \n",
    "        #s._U_=tsimp(s.TP(sp.Integer(1),prune(sp.N(s.kp[0]*s.bp[0]))) + s.TP(s._T,prune(sp.N(s.kp[1]*s.bp[1]))) + s.TP(dontDie,prune(sp.N(s.kp[2]*s.bp[2]))))\n",
    "        s._U_=tsimp(s.TP(sp.Integer(1),prune(sp.N(s.kp[0]*s.bp[0]))) + s.TP(s._Pd,prune(sp.N(s.kp[1]*s.bp[1]))) + s.TP(s._Pd * s._Pd,prune(sp.N(s.kp[2]*s.bp[2]))))\n",
    "        s._T_=s.TP(sp.Integer(1),prune(sp.N(s.kp[0]*s.bp[0])) + prune(sp.N(s.kp[2]*s.bp[1])) + prune(sp.N(s.kp[1]*s.bp[2])))\n",
    "        s._V_=prune(s.TP(s._Πs[0],sp.Integer(1)) + s.TP(s._Πs[1],prune(sp.N(s.Ti))) + s.TP(prune(s._Πcross),prune(sp.N(s.Ti)*sp.N(s.Ti))))\n",
    "        \n",
    "    \n",
    "    def eval_state_F(s,proj=sp.Integer(1),proj_=sp.Integer(1)):\n",
    "        s.TP = sq.TensorProduct #just to make naming easy\n",
    "            \n",
    "\n",
    "        print(\"Evaluated U,T,V; staying alive\")\n",
    "\n",
    "        _kin_ = s.TP(sp.Integer(1),sp.N(sq.qapply(proj*s.ke[0])))\n",
    "        _bin_ = s.TP(sp.Integer(1),sp.N(sq.qapply(s.br[0]*proj)))\n",
    "        \n",
    "        \n",
    "        _kout_ = s.TP(sp.Integer(1)*proj_,sp.N(s.kp[0])) #s.TP(sp.Integer(1),sp.N(s.kp[0]))\n",
    "        _bout_ = s.TP(sp.Integer(1)*proj_,sp.N(s.bp[0])) #s.TP(sp.Integer(1),sp.N(s.bp[0]))\n",
    "                                                                                             \n",
    "\n",
    "        print(\"evaluation stage:\")\n",
    "        F0=tsimp(_bin_ * s._T_).subs(s.gDict)\n",
    "        print(\"1\")\n",
    "        F1=tsimp(F0 * s._U_).subs(s.gDict) #*_V_\n",
    "        print(\"2\")\n",
    "        # #s.F2=tsimp(F1 * _V_)\n",
    "        # #G00 = tsimp(F1*_V_)\n",
    "        # #print(\"2.1\")\n",
    "        # #display(_U_)\n",
    "        # G00 = tsimp(_U_*_kout_).subs(s.gDict)\n",
    "        # print(\"2.1\")\n",
    "        # G01 = tsimp(_V_*G00).subs(s.gDict)\n",
    "        # print(\"2.2\")\n",
    "        # #G0 = tsimp(_V_*_U_)\n",
    "        # t1=sq.qapply(F1*G01).subs(s.gDict)\n",
    "        # print(\"2.3\")\n",
    "        \n",
    "        G0=tsimp(s._V_*_kout_).subs(s.gDict)\n",
    "        print(\"3\")\n",
    "        \n",
    "        #display(F1)\n",
    "        #display(G0)\n",
    "        t1=sq.qapply(F1*G0).subs(s.gDict)\n",
    "        \n",
    "        t2=t1.subs(s.daggerDict).subs(s.sqDict) #not sure why the s.daggerDict step is needed;\n",
    "        \n",
    "        H0 = tsimp(t2) #tsimp(F1*G0)\n",
    "        print(\"4\")\n",
    "        #s.F1 = s._bout_ * _T_ * _U_ * _V_ * s._kout_\n",
    "        #s.F2 = s.F1 * \n",
    "        s.F = tdsimp(H0)\n",
    "        print(\"5\")\n",
    "        \n",
    "        #return tdsimp(sp.expand(s.F * sq.Dagger(s.F)))\n",
    "        return sp.expand((sq.Dagger(s.F) * s.F).subs(s.daggerDict)).subs(s.sqDict).subs(s.sqDict).subs(s.gDict)\n",
    "        if verbose==True:\n",
    "            print(\"Dinner out is a go.\")\n",
    "        \n",
    "    def cross(s,vecs):\n",
    "        ca=[sq.qapply(sq.Dagger(s.ke[i])*vecs[0]).doit() for i in range(3)]\n",
    "        cb=[sq.qapply(sq.Dagger(s.ke[i])*vecs[1]).doit() for i in range(3)]\n",
    "        \n",
    "        res = (ca[2-1]*cb[3-1] - ca[3-1]*cb[2-1])*s.ke[0] + \\\n",
    "             (ca[3-1]*cb[1-1]-ca[1-1]*cb[3-1])*s.ke[1] + \\\n",
    "             (ca[1-1]*cb[2-1] - ca[2-1]*cb[1-1])*s.ke[2]\n",
    "        \n",
    "        return res\n",
    "\n",
    "    \n",
    "    #This I may not even be using\n",
    "    #I had made eval_lin_c more capable\n",
    "    def eval_Π_cross(s,RHS,varCount=None):\n",
    "        cls=s.__class__\n",
    "        if varCount==None:\n",
    "            varCount=cls_iKCBS.n*2\n",
    "        if varCount <= cls.n:\n",
    "            raise ValueError(\"number of variables should be at least n\")\n",
    "    \n",
    "        #a=sp.symbols('a0:%d'%varCount)\n",
    "        varCount=9\n",
    "        a=sp.symbols('a0:%d'%9)\n",
    "        ap=[]\n",
    "        #s.b=sp.symbols('b0:%d'%varCount)\n",
    "        b=[] #family of solutions\n",
    "        s.c=[] #particular solution with the free variables set to one\n",
    "        \n",
    "        #Setting up of constraints\n",
    "        #If the system is not able to find a solution, consider increasing\n",
    "        #the number of variables by taking different sets of products or products of three operators\n",
    "        \n",
    "        TfΠ = [a[0]*s.Πs[0] + a[1]*s.Πs[1] + a[2]*s.Πs[2] + a[3]*s.Πs[3] + a[4]*s.Πs[4] + \\\n",
    "                     a[5]*s.Πs[4]*s.Πs[2] + \\\n",
    "                     a[6]*s.Πs[4]*s.Πs[1] + \\\n",
    "                     a[7]*s.Πs[1]*s.Πs[3] + \\\n",
    "                     a[8]*s.Πs[2]*s.Πs[0] ]\n",
    "        \n",
    "        _TfΠ = [a[0]*s._Πs[0] + a[1]*s._Πs[1] + a[2]*s._Πs[2] + a[3]*s._Πs[3] + a[4]*s._Πs[4] + \\\n",
    "                     a[5]*s._Πs[4]*s._Πs[2] + \\\n",
    "                     a[6]*s._Πs[4]*s._Πs[1] + \\\n",
    "                     a[7]*s._Πs[1]*s._Πs[3] + \\\n",
    "                     a[8]*s._Πs[2]*s._Πs[0] ]        \n",
    "        \n",
    "#         TfΠ=[a[0]*s.Πs[0]]\n",
    "#         _TfΠ=[a[0]*s._Πs[0]]\n",
    "#         ap.append(a[0])\n",
    "#         for i in range(1 +cls.n):\n",
    "#             #if (not (i==2 or i==3)):\n",
    "#             TfΠ.append(TfΠ[-1] + a[i]*s.Πs[i])\n",
    "#             _TfΠ.append(_TfΠ[-1] + a[i]*s._Πs[i])\n",
    "#             ap.append(a[i])            \n",
    "\n",
    "#         if cls.n == 5:\n",
    "#             TfΠ.append(TfΠ[-1] + a[5]*s.Πs[4]*s.Πs[2] \\\n",
    "#                     + a[6]*s.Πs[4]*s.Πs[1] \\\n",
    "#                     + a[7]*s.Πs[1]*s.Πs[3] \\\n",
    "#                     + a[8]*s.Πs[2]*s.Πs[0])\n",
    "#             _TfΠ.append(_TfΠ[-1] + a[5]*s._Πs[4]*s._Πs[2] \\\n",
    "#                     + a[6]*s._Πs[4]*s._Πs[1] \\\n",
    "#                     + a[7]*s._Πs[1]*s._Πs[3] \\\n",
    "#                     + a[8]*s._Πs[2]*s._Πs[0])\n",
    "#             ap+=[a[5],a[6],a[7],a[8]]\n",
    "\n",
    "        LHS=sq.represent(TfΠ[-1])\n",
    "        #display(_TfΠ)\n",
    "        # LHS=a[0]*s.matΠs[0]\n",
    "        # for i in range(1,cls.n):\n",
    "        #     LHS=LHS+a[i]*s.matΠs[i]\n",
    "        # for i in range(cls.n,varCount):\n",
    "        #     LHS=LHS+a[i]*s.matΠs[i%cls.n]*s.matΠs[(i+2)%cls.n]\n",
    "            \n",
    "        #RHS=s.matT\n",
    "        \n",
    "        if cls.n!=5:\n",
    "            soln=sp.solve(sp.N(LHS-RHS),a,dict=True)\n",
    "        else:\n",
    "            soln=sp.solve(sp.N(LHS-RHS),a[:9],dict=True)\n",
    "            #soln=sp.solve(sp.N(LHS-RHS),ap,dict=True)\n",
    "        \n",
    "        print(soln)\n",
    "        #print(\"type:\",type(soln[0]))#, \" and shape:\", soln.shape())\n",
    "        for key,value in soln[0].items():\n",
    "            if np.abs(value)<10**(-s.thr):\n",
    "                soln[0][key]=sp.Integer(0)\n",
    "        \n",
    "        print(soln)\n",
    "        '''\n",
    "            #soln=sp.solve([a[0]-1,a[1]-2,a[2]-3,a[3]-4,a[4]-5,a[5]-1,a[6]-1,a[7]-1,a[8]-1,a[9]-1],a,dict=True)\n",
    "\n",
    "            # sols = solve([t1 + t2 + t3, eq1, eq2], [t1, t2, t3], dict=True)\n",
    "            # sols[0][t1] # This is t1 in the first solution        \n",
    "        '''\n",
    "\n",
    "        #Dictionary to assign one/zero to free variables\n",
    "        dRem={}\n",
    "        \n",
    "        #IMPORTANT: \n",
    "        #In sympy, symbols/expressions are unmutable (you can't change them ever);\n",
    "        #You can save a substituted expression into a new expression (and use a symbol to denote it)\n",
    "        #To wit: when you substitute, a new expression is produced\n",
    "\n",
    "        for i in range(varCount):\n",
    "            #the variables which were evaluated to an expression, assign them to b[i]\n",
    "            try:\n",
    "                b.append(soln[0][a[i]])      \n",
    "            #if the variable was free, assign b[i] to be one\n",
    "            #and create a dictionary to substitute these free variables\n",
    "            except:\n",
    "                b.append(sp.Integer(1))\n",
    "                dRem[a[i]]=1\n",
    "        \n",
    "        #in the solution saved into b[i], substitute for the free variables using the dictionary\n",
    "        #save the result into the variable c\n",
    "        s.c = [_.subs(dRem) for _ in b]\n",
    "\n",
    "        #substitute the solution into the coefficients in Tfπ_p, the operator T as a sum of projectors (and its products)\n",
    "        dFin={}\n",
    "        for i in range(varCount):\n",
    "            dFin[a[i]]=s.c[i]                \n",
    "        \n",
    "        return _TfΠ[-1].subs(dFin)            \n",
    "        \n",
    "    \n",
    "    #evaluates the matrices and vectors\n",
    "    def eval(s,j,n,ve=False):\n",
    "        N=sp.Integer(n)\n",
    "        J=sp.Integer(j)\n",
    "        #print(N,j)\n",
    "        one=sp.Integer(1)\n",
    "        #print(one)\n",
    "        α1=sp.cos((sp.pi)/N)/(one+sp.cos(sp.pi/N)) #verified\n",
    "        #a1=sp.cos(sp.pi/N)\n",
    "        #\n",
    "        #print(α1)\n",
    "        \n",
    "        α2=one-α1 #verified\n",
    "        α3=J * sp.pi * (N-one)/N #verified\n",
    "        \n",
    "        vec = sp.sqrt(α1)*s.ke[0] + sp.sqrt(α2)*sp.sin(α3)*s.ke[1] + sp.sqrt(α2)*sp.cos(α3)*s.ke[2]\n",
    "        \n",
    "        projector = vec*sq.Dagger(vec)\n",
    "           \n",
    "        #matrixprojector = sp.Matrix([0,0])\n",
    "        #return projector\n",
    "        #display(sq.represent(projector))\n",
    "        #display(sq.represent(vec))\n",
    "        \n",
    "        if ve==False:\n",
    "            return projector\n",
    "        else:\n",
    "            return vec\n",
    "        \n",
    "    def eval_lin_c(s,varCount=None,RHS=None,retIde=False):\n",
    "        cls=s.__class__\n",
    "        if varCount==None:\n",
    "            varCount=cls_iKCBS.n*2\n",
    "        if varCount <= cls.n:\n",
    "            raise ValueError(\"number of variables should be at least n\")\n",
    "    \n",
    "        a=sp.symbols('a0:%d'%varCount)\n",
    "        #s.b=sp.symbols('b0:%d'%varCount)\n",
    "        b=[] #family of solutions\n",
    "        s.c=[] #particular solution with the free variables set to one\n",
    "        \n",
    "        #Setting up of constraints\n",
    "        #If the system is not able to find a solution, consider increasing\n",
    "        #the number of variables by taking different sets of products or products of three operators\n",
    "        TfΠ=[a[0]*s.Πs[0]]\n",
    "        _TfΠ=[a[0]*s._Πs[0]]\n",
    "        \n",
    "        for i in range(1,cls.n):\n",
    "            TfΠ.append(TfΠ[-1] + a[i]*s.Πs[i])\n",
    "            _TfΠ.append(_TfΠ[-1] + a[i]*s._Πs[i])\n",
    "\n",
    "        if cls.n != 5:            \n",
    "            for i in range(cls.n,varCount):\n",
    "                TfΠ.append(TfΠ[-1] + a[i]*s.Πs[i%cls.n]*s.Πs[(i+2)%cls.n])\n",
    "                _TfΠ.append(_TfΠ[-1] + a[i]*s._Πs[i%cls.n]*s._Πs[(i+2)%cls.n])\n",
    "        else:\n",
    "            TfΠ.append(TfΠ[-1] + a[5]*s.Πs[4]*s.Πs[2] \\\n",
    "                    + a[6]*s.Πs[4]*s.Πs[1] \\\n",
    "                    + a[7]*s.Πs[1]*s.Πs[3] \\\n",
    "                    + a[8]*s.Πs[2]*s.Πs[0])\n",
    "            _TfΠ.append(_TfΠ[-1] + a[5]*s._Πs[4]*s._Πs[2] \\\n",
    "                    + a[6]*s._Πs[4]*s._Πs[1] \\\n",
    "                    + a[7]*s._Πs[1]*s._Πs[3] \\\n",
    "                    + a[8]*s._Πs[2]*s._Πs[0])\n",
    "            \n",
    "            \n",
    "        LHS=sq.represent(TfΠ[-1])\n",
    "        #display(_TfΠ)\n",
    "        # LHS=a[0]*s.matΠs[0]\n",
    "        # for i in range(1,cls.n):\n",
    "        #     LHS=LHS+a[i]*s.matΠs[i]\n",
    "        # for i in range(cls.n,varCount):\n",
    "        #     LHS=LHS+a[i]*s.matΠs[i%cls.n]*s.matΠs[(i+2)%cls.n]\n",
    "        if RHS == None:\n",
    "            RHS=s.matT\n",
    "        \n",
    "        if cls.n!=5:\n",
    "            soln=sp.solve(sp.N(LHS-RHS),a,dict=True)\n",
    "        else:\n",
    "            soln=sp.solve(sp.N(LHS-RHS),a[:9],dict=True)\n",
    "        \n",
    "        print(soln)\n",
    "        #print(\"type:\",type(soln[0]))#, \" and shape:\", soln.shape())\n",
    "        for key,value in soln[0].items():\n",
    "            if np.abs(value)<10**(-s.thr):\n",
    "                soln[0][key]=sp.Integer(0)\n",
    "        \n",
    "        print(soln)\n",
    "        '''\n",
    "            #soln=sp.solve([a[0]-1,a[1]-2,a[2]-3,a[3]-4,a[4]-5,a[5]-1,a[6]-1,a[7]-1,a[8]-1,a[9]-1],a,dict=True)\n",
    "\n",
    "            # sols = solve([t1 + t2 + t3, eq1, eq2], [t1, t2, t3], dict=True)\n",
    "            # sols[0][t1] # This is t1 in the first solution        \n",
    "        '''\n",
    "\n",
    "        #Dictionary to assign one/zero to free variables\n",
    "        dRem={}\n",
    "        \n",
    "        #IMPORTANT: \n",
    "        #In sympy, symbols/expressions are unmutable (you can't change them ever);\n",
    "        #You can save a substituted expression into a new expression (and use a symbol to denote it)\n",
    "        #To wit: when you substitute, a new expression is produced\n",
    "\n",
    "        for i in range(varCount):\n",
    "            #the variables which were evaluated to an expression, assign them to b[i]\n",
    "            try:\n",
    "                b.append(soln[0][a[i]])      \n",
    "            #if the variable was free, assign b[i] to be one\n",
    "            #and create a dictionary to substitute these free variables\n",
    "            except:\n",
    "                b.append(sp.Integer(1))\n",
    "                dRem[a[i]]=1\n",
    "        \n",
    "        #in the solution saved into b[i], substitute for the free variables using the dictionary\n",
    "        #save the result into the variable c\n",
    "        s.c = [_.subs(dRem) for _ in b]\n",
    "\n",
    "        #substitute the solution into the coefficients in Tfπ_p, the operator T as a sum of projectors (and its products)\n",
    "        dFin={}\n",
    "        for i in range(varCount):\n",
    "            dFin[a[i]]=s.c[i]                \n",
    "        \n",
    "        if retIde==False:\n",
    "            return _TfΠ[-1].subs(dFin)\n",
    "        else:\n",
    "            return TfΠ[-1].subs(dFin)\n",
    "            \n",
    "    def eval_c(s,varCount=None):\n",
    "        cls=s.__class__\n",
    "        if varCount==None:\n",
    "            varCount=cls_iKCBS.n*2\n",
    "        if varCount <= cls.n:\n",
    "            raise ValueError(\"number of variables should be at least n\")\n",
    "    \n",
    "        a=sp.symbols('a0:%d'%varCount)\n",
    "        #s.b=sp.symbols('b0:%d'%varCount)\n",
    "        b=[] #family of solutions\n",
    "        s.c=[] #particular solution with the free variables set to one\n",
    "        \n",
    "        #Setting up of constraints\n",
    "        #If the system is not able to find a solution, consider increasing\n",
    "        #the number of variables by taking different sets of products or products of three operators\n",
    "        TfΠ=a[0]*s.Πs[0]\n",
    "        _TfΠ=a[0]*s._Πs[0]\n",
    "        for i in range(1,cls.n):\n",
    "            TfΠ=TfΠ + a[i]*s.Πs[i]\n",
    "            _TfΠ=_TfΠ + a[i]*s._Πs[i]\n",
    "        for i in range(cls.n,varCount):\n",
    "            TfΠ=TfΠ + a[i]*s.Πs[i%cls.n]*s.Πs[(i+2)%cls.n]\n",
    "            _TfΠ=_TfΠ + a[i]*s._Πs[i%cls.n]*s._Πs[(i+2)%cls.n]\n",
    "            \n",
    "            \n",
    "        LHS=sq.represent(TfΠ)\n",
    "        \n",
    "        # LHS=a[0]*s.matΠs[0]\n",
    "        # for i in range(1,cls.n):\n",
    "        #     LHS=LHS+a[i]*s.matΠs[i]\n",
    "        # for i in range(cls.n,varCount):\n",
    "        #     LHS=LHS+a[i]*s.matΠs[i%cls.n]*s.matΠs[(i+2)%cls.n]\n",
    "            \n",
    "        RHS=s.matT\n",
    "        \n",
    "        soln=sp.solve(sp.N(LHS-RHS),a,dict=True)\n",
    "\n",
    "        '''\n",
    "            #soln=sp.solve([a[0]-1,a[1]-2,a[2]-3,a[3]-4,a[4]-5,a[5]-1,a[6]-1,a[7]-1,a[8]-1,a[9]-1],a,dict=True)\n",
    "\n",
    "            # sols = solve([t1 + t2 + t3, eq1, eq2], [t1, t2, t3], dict=True)\n",
    "            # sols[0][t1] # This is t1 in the first solution        \n",
    "        '''\n",
    "\n",
    "        #Dictionary to assign one/zero to free variables\n",
    "        dRem={}\n",
    "        \n",
    "        #IMPORTANT: \n",
    "        #In sympy, symbols/expressions are unmutable (you can't change them ever);\n",
    "        #You can save a substituted expression into a new expression (and use a symbol to denote it)\n",
    "        #To wit: when you substitute, a new expression is produced\n",
    "\n",
    "        for i in range(varCount):\n",
    "            #the variables which were evaluated to an expression, assign them to b[i]\n",
    "            try:\n",
    "                b.append(soln[0][a[i]])      \n",
    "            #if the variable was free, assign b[i] to be one\n",
    "            #and create a dictionary to substitute these free variables\n",
    "            except:\n",
    "                b.append(sp.Integer(1))\n",
    "                dRem[a[i]]=1\n",
    "        \n",
    "        #in the solution saved into b[i], substitute for the free variables using the dictionary\n",
    "        #save the result into the variable c\n",
    "        s.c = [_.subs(dRem) for _ in b]\n",
    "\n",
    "        #substitute the solution into the coefficients in Tfπ_p, the operator T as a sum of projectors (and its products)\n",
    "        dFin={}\n",
    "        for i in range(varCount):\n",
    "            dFin[a[i]]=s.c[i]                \n",
    "        \n",
    "        return _TfΠ.subs(dFin)\n",
    "        \n",
    "    #This doesn't work as expected\n",
    "    def partial_trace(s,M):\n",
    "        \n",
    "        s.br_ = [ sq.TensorProduct(sq.IdentityOperator(),_) for _ in s.br]\n",
    "        s.ke_ = [ sq.TensorProduct(sq.IdentityOperator(),_) for _ in s.ke]\n",
    "        \n",
    "        res=0*s.br_[0]*M*s.ke_[0]        #to get the type right!\n",
    "        for i in range(3):\n",
    "            for j in range(3):\n",
    "                res=res+s.br_[i]*M*s.ke_[j]\n",
    "        #return sq.qapply(res).doit()\n",
    "        return tsimp(res)\n",
    "        "
   ]
  },
  {
   "cell_type": "code",
   "execution_count": 13,
   "metadata": {
    "hidden": true,
    "init_cell": true,
    "scrolled": false
   },
   "outputs": [
    {
     "name": "stdout",
     "output_type": "stream",
     "text": [
      "Creating projectors etc\n",
      "Solving a linear system to find the coefficients for expressing the translation operator as a sum of projectors\n",
      "[{a0: -0.272019649514071, a1: -0.485868271756646, a2: -2.05817102727149, a3: 9.32265207248423e-16, a4: 2.77032771530715, a5: -1.15229372655726, a6: -4.82849874257864, a7: 3.33019067678556, a8: 2.77032771530716}]\n",
      "[{a0: -0.272019649514071, a1: -0.485868271756646, a2: -2.05817102727149, a3: 0, a4: 2.77032771530715, a5: -1.15229372655726, a6: -4.82849874257864, a7: 3.33019067678556, a8: 2.77032771530716}]\n",
      "Solving the cross Π\n",
      "[{a0: -1.00000000000000, a1: -1.00000000000000, a2: 1.43924480352684e-16, a3: 3.91811281370199e-15, a4: 4.23606797749978, a5: -4.23606797749978, a6: -4.23606797749978, a7: 2.61803398874988, a8: 2.61803398874990}]\n",
      "[{a0: -1.00000000000000, a1: -1.00000000000000, a2: 0, a3: 0, a4: 4.23606797749978, a5: -4.23606797749978, a6: -4.23606797749978, a7: 2.61803398874988, a8: 2.61803398874990}]\n",
      "Evaluating the first term of F\n",
      "Loaded from file\n",
      "done\n"
     ]
    }
   ],
   "source": [
    "iKCBS = cls_iKCBS(5,verbose=True) #,test=False,forceCalc=True)"
   ]
  },
  {
   "cell_type": "code",
   "execution_count": 14,
   "metadata": {
    "hidden": true,
    "init_cell": true
   },
   "outputs": [
    {
     "data": {
      "text/latex": [
       "$\\displaystyle 2.78885438199984 Π_{0} + 0.217286896751641 Π_{0} P Π_{0} + 0.217286896751641 Π_{0} Pd Π_{0} + 0.434573793503282 Π_{0} Pd Π_{1} - 0.568864481005782 Π_{0} Pd Π_{1} Π_{3} - 0.568864481005786 Π_{0} Pd Π_{2} Π_{0} - 0.920442065259927 Π_{0} Pd Π_{4} + 0.920442065259926 Π_{0} Pd Π_{4} Π_{1} + 0.920442065259927 Π_{0} Pd Π_{4} Π_{2} + 0.447213595499959 Π_{0} Pd^{2} Π_{1} - 0.568864481005786 Π_{0} Π_{2} P Π_{0} - 0.568864481005785 Π_{0} Π_{2} Pd Π_{1} + 0.170820393249937 Π_{0} Π_{2} Π_{0} + 1.17082039324994 Π_{0} Π_{2} Π_{4} - 1.17082039324994 Π_{0} Π_{2} Π_{4} Π_{1} - 1.17082039324994 Π_{0} Π_{2} Π_{4} Π_{2} + 2.78885438199983 Π_{1} + 0.434573793503282 Π_{1} P Π_{0} + 0.21728689675164 Π_{1} P Π_{1} - 0.568864481005781 Π_{1} P Π_{1} Π_{3} - 0.568864481005785 Π_{1} P Π_{2} Π_{0} - 0.920442065259925 Π_{1} P Π_{4} + 0.920442065259924 Π_{1} P Π_{4} Π_{1} + 0.920442065259925 Π_{1} P Π_{4} Π_{2} + 0.447213595499959 Π_{1} P^{2} Π_{0} + 0.21728689675164 Π_{1} Pd Π_{1} - 0.27639320225002 Π_{1} Π_{3} - 2.34164078649987 Π_{1} Π_{4} + 0.920442065259926 Π_{1} Π_{4} P Π_{0} + 0.920442065259924 Π_{1} Π_{4} Pd Π_{1} + 2.78885438199982 Π_{1} Π_{4} Π_{1} - 1.17082039324993 Π_{1} Π_{4} Π_{1} Π_{3} + 2.34164078649987 Π_{1} Π_{4} Π_{2} - 1.17082039324994 Π_{1} Π_{4} Π_{2} Π_{0} - 1.89442719099991 Π_{2} Π_{4} + 0.920442065259927 Π_{2} Π_{4} P Π_{0} + 0.920442065259925 Π_{2} Π_{4} Pd Π_{1} + 2.34164078649987 Π_{2} Π_{4} Π_{1} - 1.17082039324993 Π_{2} Π_{4} Π_{1} Π_{3} + 1.89442719099991 Π_{2} Π_{4} Π_{2} - 1.17082039324994 Π_{2} Π_{4} Π_{2} Π_{0} - 0.27639320225002 Π_{3} Π_{1} - 0.568864481005782 Π_{3} Π_{1} P Π_{0} - 0.568864481005781 Π_{3} Π_{1} Pd Π_{1} + 0.723606797749973 Π_{3} Π_{1} Π_{3} + 1.17082039324993 Π_{3} Π_{1} Π_{4} - 1.17082039324993 Π_{3} Π_{1} Π_{4} Π_{1} - 1.17082039324993 Π_{3} Π_{1} Π_{4} Π_{2} + 1.89442719099991 Π_{4} - 0.920442065259927 Π_{4} P Π_{0} - 0.920442065259925 Π_{4} Pd Π_{1} - 2.34164078649987 Π_{4} Π_{1} + 1.17082039324993 Π_{4} Π_{1} Π_{3} - 1.89442719099991 Π_{4} Π_{2} + 1.17082039324994 Π_{4} Π_{2} Π_{0} + 5.0 \\left(0.217286896751641 Π_{2} Π_{0} P Π_{0} Π_{2} + 0.217286896751641 Π_{2} Π_{0} Pd Π_{0} Π_{2} - 0.568864481005786 Π_{2} Π_{0} Pd Π_{2} Π_{0} Π_{2} + 0.44721359549996 Π_{2} Π_{0} Π_{2} - 0.568864481005786 Π_{2} Π_{0} Π_{2} P Π_{0} Π_{2} + 0.44721359549996 Π_{2} Π_{0} Π_{2} Π_{0} Π_{2}\\right) + 5.0 \\left(4.95967477524975 Π_{4} - 0.920442065259924 Π_{4} Pd Π_{1} Π_{4} + 0.21728689675164 Π_{4} Π_{1} P Π_{1} Π_{4} - 0.920442065259924 Π_{4} Π_{1} P Π_{4} + 0.920442065259924 Π_{4} Π_{1} P Π_{4} Π_{1} Π_{4} + 0.920442065259925 Π_{4} Π_{1} P Π_{4} Π_{2} Π_{4} + 0.21728689675164 Π_{4} Π_{1} Pd Π_{1} Π_{4} - 11.8137767414994 Π_{4} Π_{1} Π_{4} + 0.920442065259924 Π_{4} Π_{1} Π_{4} Pd Π_{1} Π_{4} + 7.30131556174961 Π_{4} Π_{1} Π_{4} Π_{1} Π_{4} + 6.13049516849968 Π_{4} Π_{1} Π_{4} Π_{2} Π_{4} - 9.9193495504995 Π_{4} Π_{2} Π_{4} + 0.920442065259925 Π_{4} Π_{2} Π_{4} Pd Π_{1} Π_{4} + 6.13049516849968 Π_{4} Π_{2} Π_{4} Π_{1} Π_{4} + 4.95967477524975 Π_{4} Π_{2} Π_{4} Π_{2} Π_{4}\\right) + 5.0 \\left(- 0.134290687502503 Π_{3} Π_{0} P Π_{0} Π_{3} - 0.134290687502503 Π_{3} Π_{0} Pd Π_{0} Π_{3} + 0.082996209249136 Π_{3} Π_{0} Pd Π_{1} Π_{3} + 0.351577584254145 Π_{3} Π_{0} Pd Π_{2} Π_{0} Π_{3} - 0.568864481005783 Π_{3} Π_{0} Pd Π_{4} Π_{1} Π_{3} + 0.170820393249937 Π_{3} Π_{0} Pd^{2} Π_{1} Π_{3} + 0.351577584254145 Π_{3} Π_{0} Π_{2} P Π_{0} Π_{3} + 0.351577584254144 Π_{3} Π_{0} Π_{2} Pd Π_{1} Π_{3} + 0.170820393249938 Π_{3} Π_{0} Π_{2} Π_{0} Π_{3} - 1.17082039324994 Π_{3} Π_{0} Π_{2} Π_{4} Π_{1} Π_{3} + 0.276393202250022 Π_{3} Π_{0} Π_{3} + 0.082996209249136 Π_{3} Π_{1} P Π_{0} Π_{3} + 0.217286896751639 Π_{3} Π_{1} P Π_{1} Π_{3} + 0.351577584254144 Π_{3} Π_{1} P Π_{2} Π_{0} Π_{3} - 0.568864481005782 Π_{3} Π_{1} P Π_{4} Π_{1} Π_{3} + 0.170820393249937 Π_{3} Π_{1} P^{2} Π_{0} Π_{3} + 0.217286896751639 Π_{3} Π_{1} Pd Π_{1} Π_{3} + 0.447213595499955 Π_{3} Π_{1} Π_{3} - 0.568864481005783 Π_{3} Π_{1} Π_{4} P Π_{0} Π_{3} - 0.568864481005782 Π_{3} Π_{1} Π_{4} Pd Π_{1} Π_{3} + 0.447213595499962 Π_{3} Π_{1} Π_{4} Π_{1} Π_{3} - 1.17082039324994 Π_{3} Π_{1} Π_{4} Π_{2} Π_{0} Π_{3}\\right)$"
      ],
      "text/plain": [
       "                                                                              \n",
       "2.78885438199984⋅Π₀ + 0.217286896751641⋅Π₀⋅P⋅Π₀ + 0.217286896751641⋅Π₀⋅Pd⋅Π₀ +\n",
       "\n",
       "                                                                              \n",
       " 0.434573793503282⋅Π₀⋅Pd⋅Π₁ - 0.568864481005782⋅Π₀⋅Pd⋅Π₁⋅Π₃ - 0.56886448100578\n",
       "\n",
       "                                                                              \n",
       "6⋅Π₀⋅Pd⋅Π₂⋅Π₀ - 0.920442065259927⋅Π₀⋅Pd⋅Π₄ + 0.920442065259926⋅Π₀⋅Pd⋅Π₄⋅Π₁ + 0\n",
       "\n",
       "                                                      2                       \n",
       ".920442065259927⋅Π₀⋅Pd⋅Π₄⋅Π₂ + 0.447213595499959⋅Π₀⋅Pd ⋅Π₁ - 0.568864481005786\n",
       "\n",
       "                                                                              \n",
       "⋅Π₀⋅Π₂⋅P⋅Π₀ - 0.568864481005785⋅Π₀⋅Π₂⋅Pd⋅Π₁ + 0.170820393249937⋅Π₀⋅Π₂⋅Π₀ + 1.1\n",
       "\n",
       "                                                                              \n",
       "7082039324994⋅Π₀⋅Π₂⋅Π₄ - 1.17082039324994⋅Π₀⋅Π₂⋅Π₄⋅Π₁ - 1.17082039324994⋅Π₀⋅Π₂\n",
       "\n",
       "                                                                              \n",
       "⋅Π₄⋅Π₂ + 2.78885438199983⋅Π₁ + 0.434573793503282⋅Π₁⋅P⋅Π₀ + 0.21728689675164⋅Π₁\n",
       "\n",
       "                                                                              \n",
       "⋅P⋅Π₁ - 0.568864481005781⋅Π₁⋅P⋅Π₁⋅Π₃ - 0.568864481005785⋅Π₁⋅P⋅Π₂⋅Π₀ - 0.920442\n",
       "\n",
       "                                                                              \n",
       "065259925⋅Π₁⋅P⋅Π₄ + 0.920442065259924⋅Π₁⋅P⋅Π₄⋅Π₁ + 0.920442065259925⋅Π₁⋅P⋅Π₄⋅Π\n",
       "\n",
       "                          2                                                   \n",
       "₂ + 0.447213595499959⋅Π₁⋅P ⋅Π₀ + 0.21728689675164⋅Π₁⋅Pd⋅Π₁ - 0.27639320225002⋅\n",
       "\n",
       "                                                                              \n",
       "Π₁⋅Π₃ - 2.34164078649987⋅Π₁⋅Π₄ + 0.920442065259926⋅Π₁⋅Π₄⋅P⋅Π₀ + 0.920442065259\n",
       "\n",
       "                                                                              \n",
       "924⋅Π₁⋅Π₄⋅Pd⋅Π₁ + 2.78885438199982⋅Π₁⋅Π₄⋅Π₁ - 1.17082039324993⋅Π₁⋅Π₄⋅Π₁⋅Π₃ + 2\n",
       "\n",
       "                                                                              \n",
       ".34164078649987⋅Π₁⋅Π₄⋅Π₂ - 1.17082039324994⋅Π₁⋅Π₄⋅Π₂⋅Π₀ - 1.89442719099991⋅Π₂⋅\n",
       "\n",
       "                                                                              \n",
       "Π₄ + 0.920442065259927⋅Π₂⋅Π₄⋅P⋅Π₀ + 0.920442065259925⋅Π₂⋅Π₄⋅Pd⋅Π₁ + 2.34164078\n",
       "\n",
       "                                                                              \n",
       "649987⋅Π₂⋅Π₄⋅Π₁ - 1.17082039324993⋅Π₂⋅Π₄⋅Π₁⋅Π₃ + 1.89442719099991⋅Π₂⋅Π₄⋅Π₂ - 1\n",
       "\n",
       "                                                                              \n",
       ".17082039324994⋅Π₂⋅Π₄⋅Π₂⋅Π₀ - 0.27639320225002⋅Π₃⋅Π₁ - 0.568864481005782⋅Π₃⋅Π₁\n",
       "\n",
       "                                                                              \n",
       "⋅P⋅Π₀ - 0.568864481005781⋅Π₃⋅Π₁⋅Pd⋅Π₁ + 0.723606797749973⋅Π₃⋅Π₁⋅Π₃ + 1.1708203\n",
       "\n",
       "                                                                              \n",
       "9324993⋅Π₃⋅Π₁⋅Π₄ - 1.17082039324993⋅Π₃⋅Π₁⋅Π₄⋅Π₁ - 1.17082039324993⋅Π₃⋅Π₁⋅Π₄⋅Π₂\n",
       "\n",
       "                                                                              \n",
       " + 1.89442719099991⋅Π₄ - 0.920442065259927⋅Π₄⋅P⋅Π₀ - 0.920442065259925⋅Π₄⋅Pd⋅Π\n",
       "\n",
       "                                                                              \n",
       "₁ - 2.34164078649987⋅Π₄⋅Π₁ + 1.17082039324993⋅Π₄⋅Π₁⋅Π₃ - 1.89442719099991⋅Π₄⋅Π\n",
       "\n",
       "                                                                              \n",
       "₂ + 1.17082039324994⋅Π₄⋅Π₂⋅Π₀ + 5.0⋅(0.217286896751641⋅Π₂⋅Π₀⋅P⋅Π₀⋅Π₂ + 0.21728\n",
       "\n",
       "                                                                              \n",
       "6896751641⋅Π₂⋅Π₀⋅Pd⋅Π₀⋅Π₂ - 0.568864481005786⋅Π₂⋅Π₀⋅Pd⋅Π₂⋅Π₀⋅Π₂ + 0.4472135954\n",
       "\n",
       "                                                                              \n",
       "9996⋅Π₂⋅Π₀⋅Π₂ - 0.568864481005786⋅Π₂⋅Π₀⋅Π₂⋅P⋅Π₀⋅Π₂ + 0.44721359549996⋅Π₂⋅Π₀⋅Π₂\n",
       "\n",
       "                                                                              \n",
       "⋅Π₀⋅Π₂) + 5.0⋅(4.95967477524975⋅Π₄ - 0.920442065259924⋅Π₄⋅Pd⋅Π₁⋅Π₄ + 0.2172868\n",
       "\n",
       "                                                                              \n",
       "9675164⋅Π₄⋅Π₁⋅P⋅Π₁⋅Π₄ - 0.920442065259924⋅Π₄⋅Π₁⋅P⋅Π₄ + 0.920442065259924⋅Π₄⋅Π₁\n",
       "\n",
       "                                                                              \n",
       "⋅P⋅Π₄⋅Π₁⋅Π₄ + 0.920442065259925⋅Π₄⋅Π₁⋅P⋅Π₄⋅Π₂⋅Π₄ + 0.21728689675164⋅Π₄⋅Π₁⋅Pd⋅Π\n",
       "\n",
       "                                                                              \n",
       "₁⋅Π₄ - 11.8137767414994⋅Π₄⋅Π₁⋅Π₄ + 0.920442065259924⋅Π₄⋅Π₁⋅Π₄⋅Pd⋅Π₁⋅Π₄ + 7.301\n",
       "\n",
       "                                                                              \n",
       "31556174961⋅Π₄⋅Π₁⋅Π₄⋅Π₁⋅Π₄ + 6.13049516849968⋅Π₄⋅Π₁⋅Π₄⋅Π₂⋅Π₄ - 9.9193495504995\n",
       "\n",
       "                                                                              \n",
       "⋅Π₄⋅Π₂⋅Π₄ + 0.920442065259925⋅Π₄⋅Π₂⋅Π₄⋅Pd⋅Π₁⋅Π₄ + 6.13049516849968⋅Π₄⋅Π₂⋅Π₄⋅Π₁\n",
       "\n",
       "                                             ⎛                                \n",
       "⋅Π₄ + 4.95967477524975⋅Π₄⋅Π₂⋅Π₄⋅Π₂⋅Π₄) + 5.0⋅⎝-0.134290687502503⋅Π₃⋅Π₀⋅P⋅Π₀⋅Π₃\n",
       "\n",
       "                                                                              \n",
       " - 0.134290687502503⋅Π₃⋅Π₀⋅Pd⋅Π₀⋅Π₃ + 0.082996209249136⋅Π₃⋅Π₀⋅Pd⋅Π₁⋅Π₃ + 0.351\n",
       "\n",
       "                                                                              \n",
       "577584254145⋅Π₃⋅Π₀⋅Pd⋅Π₂⋅Π₀⋅Π₃ - 0.568864481005783⋅Π₃⋅Π₀⋅Pd⋅Π₄⋅Π₁⋅Π₃ + 0.17082\n",
       "\n",
       "                   2                                                          \n",
       "0393249937⋅Π₃⋅Π₀⋅Pd ⋅Π₁⋅Π₃ + 0.351577584254145⋅Π₃⋅Π₀⋅Π₂⋅P⋅Π₀⋅Π₃ + 0.3515775842\n",
       "\n",
       "                                                                              \n",
       "54144⋅Π₃⋅Π₀⋅Π₂⋅Pd⋅Π₁⋅Π₃ + 0.170820393249938⋅Π₃⋅Π₀⋅Π₂⋅Π₀⋅Π₃ - 1.17082039324994⋅\n",
       "\n",
       "                                                                              \n",
       "Π₃⋅Π₀⋅Π₂⋅Π₄⋅Π₁⋅Π₃ + 0.276393202250022⋅Π₃⋅Π₀⋅Π₃ + 0.082996209249136⋅Π₃⋅Π₁⋅P⋅Π₀⋅\n",
       "\n",
       "                                                                              \n",
       "Π₃ + 0.217286896751639⋅Π₃⋅Π₁⋅P⋅Π₁⋅Π₃ + 0.351577584254144⋅Π₃⋅Π₁⋅P⋅Π₂⋅Π₀⋅Π₃ - 0.\n",
       "\n",
       "                                                            2                 \n",
       "568864481005782⋅Π₃⋅Π₁⋅P⋅Π₄⋅Π₁⋅Π₃ + 0.170820393249937⋅Π₃⋅Π₁⋅P ⋅Π₀⋅Π₃ + 0.217286\n",
       "\n",
       "                                                                              \n",
       "896751639⋅Π₃⋅Π₁⋅Pd⋅Π₁⋅Π₃ + 0.447213595499955⋅Π₃⋅Π₁⋅Π₃ - 0.568864481005783⋅Π₃⋅Π\n",
       "\n",
       "                                                                              \n",
       "₁⋅Π₄⋅P⋅Π₀⋅Π₃ - 0.568864481005782⋅Π₃⋅Π₁⋅Π₄⋅Pd⋅Π₁⋅Π₃ + 0.447213595499962⋅Π₃⋅Π₁⋅Π\n",
       "\n",
       "                                            ⎞\n",
       "₄⋅Π₁⋅Π₃ - 1.17082039324994⋅Π₃⋅Π₁⋅Π₄⋅Π₂⋅Π₀⋅Π₃⎠"
      ]
     },
     "metadata": {},
     "output_type": "display_data"
    }
   ],
   "source": [
    "#display(sp.simplify(iKCBS.F.subs(iKCBS.sqDict)))\n",
    "display(iKCBS.F.subs(iKCBS.sqDict))\n",
    "#The orthogonal relations are imposed later using the graph"
   ]
  },
  {
   "cell_type": "markdown",
   "metadata": {},
   "source": [
    "# SDP part (SymPy meets CvxPy)"
   ]
  },
  {
   "cell_type": "code",
   "execution_count": 15,
   "metadata": {
    "init_cell": true
   },
   "outputs": [
    {
     "name": "stdout",
     "output_type": "stream",
     "text": [
      "[P, Pd]\n"
     ]
    }
   ],
   "source": [
    "N=5\n",
    "\n",
    "#Ψ=[sp.symbols('Ψ')]\n",
    "I=[sp.Integer(1)]\n",
    "A=list(sp.symbols('Π_0:%d'%N,commutative=False))\n",
    "B=[sp.symbols('P',commutative=False),sp.symbols('Pd',commutative=False)]\n",
    "\n",
    "#A=list(sp.symbols('Π_0:%d'%N,commutative=False))\n",
    "\n",
    "# display(I)\n",
    "# display(A)\n",
    "print(B)"
   ]
  },
  {
   "cell_type": "code",
   "execution_count": 16,
   "metadata": {
    "init_cell": true
   },
   "outputs": [],
   "source": [
    "objective = iKCBS.F\n",
    "\n",
    "# objective1=iKCBS.F\n",
    "\n",
    "# #objective = A[0] + A[1] + A[2] + A[3] + A[4]\n",
    "# objective2 = A[0]*A[0] + 1e-13*A[1] + 1e-13*A[2] + 1e-13*A[3] + 1e-13*A[4]\n",
    "\n",
    "# objective=objective\n",
    "#display(objective);"
   ]
  },
  {
   "cell_type": "code",
   "execution_count": 17,
   "metadata": {
    "init_cell": true
   },
   "outputs": [],
   "source": [
    "hDepth = 3 #depth of the heirarchy; depends on the number of Πs in the expression for Fidelity\n",
    "\n",
    "L1=A + B #appends the lists\n",
    "#print(L1)\n",
    "\n",
    "\n",
    "#display(Lx)\n",
    "\n",
    "#These will help simplify A^3 to A when needed\n",
    "lDepth = 2\n",
    "sqDicts={} #{A[i]**2:A[i] for i in range(len(L1))}\n",
    "for iA in A:\n",
    "    sqDicts[iA**5]=iA\n",
    "    sqDicts[iA**4]=iA\n",
    "    sqDicts[iA**3]=iA\n",
    "    sqDicts[iA**2]=iA\n",
    "\n",
    "sqDicts[B[0]*B[1]]=sp.Integer(1)\n",
    "sqDicts[B[1]*B[0]]=sp.Integer(1)\n",
    "\n",
    "\n",
    "\n",
    "\n",
    "# L2=[]\n",
    "# for let1 in L1:\n",
    "#     for let2 in L1:\n",
    "#         L2.append(let1*let2)\n",
    "\n",
    "\n",
    "\n",
    "\n",
    "# L = I + L1 + L2\n",
    "# L_ = L1 + L2\n",
    "#print(L)\n"
   ]
  },
  {
   "cell_type": "code",
   "execution_count": 18,
   "metadata": {
    "init_cell": true
   },
   "outputs": [
    {
     "data": {
      "image/png": "[encoded data removed]",
      "text/plain": [
       "<Figure size 432x288 with 1 Axes>"
      ]
     },
     "metadata": {},
     "output_type": "display_data"
    }
   ],
   "source": [
    "G = nx.Graph()\n",
    "\n",
    "#node2 in G[node1] #yes if they are connected by an edge\n",
    "\n",
    "G = nx.Graph()\n",
    "G.add_nodes_from(L1)\n",
    "G.add_edges_from([[L1[i],L1[(i+1)%(N)]] for i in range(N)])\n",
    "\n",
    "#create a dictionary to simplify expressions later which sets projector products to zero\n",
    "gDicts={}\n",
    "for l1 in L1:\n",
    "    for l2 in L1:\n",
    "        if l1 in G[l2]:\n",
    "            gDicts.update({l1*l2:sp.Integer(0)})\n",
    "\n",
    "\n",
    "%matplotlib inline \n",
    "nx.draw(G, with_labels=True)"
   ]
  },
  {
   "cell_type": "code",
   "execution_count": 19,
   "metadata": {
    "init_cell": true
   },
   "outputs": [
    {
     "data": {
      "text/latex": [
       "$\\displaystyle 2.78885438199984 Π_{0} + 0.217286896751641 Π_{0} P Π_{0} + 0.217286896751641 Π_{0} Pd Π_{0} + 0.434573793503282 Π_{0} Pd Π_{1} - 0.568864481005782 Π_{0} Pd Π_{1} Π_{3} - 0.568864481005786 Π_{0} Pd Π_{2} Π_{0} - 0.920442065259927 Π_{0} Pd Π_{4} + 0.920442065259926 Π_{0} Pd Π_{4} Π_{1} + 0.920442065259927 Π_{0} Pd Π_{4} Π_{2} + 0.447213595499959 Π_{0} Pd^{2} Π_{1} - 0.568864481005786 Π_{0} Π_{2} P Π_{0} - 0.568864481005785 Π_{0} Π_{2} Pd Π_{1} + 0.170820393249937 Π_{0} Π_{2} Π_{0} + 1.17082039324994 Π_{0} Π_{2} Π_{4} - 1.17082039324994 Π_{0} Π_{2} Π_{4} Π_{1} - 1.17082039324994 Π_{0} Π_{2} Π_{4} Π_{2} + 2.78885438199983 Π_{1} + 0.434573793503282 Π_{1} P Π_{0} + 0.21728689675164 Π_{1} P Π_{1} - 0.568864481005781 Π_{1} P Π_{1} Π_{3} - 0.568864481005785 Π_{1} P Π_{2} Π_{0} - 0.920442065259925 Π_{1} P Π_{4} + 0.920442065259924 Π_{1} P Π_{4} Π_{1} + 0.920442065259925 Π_{1} P Π_{4} Π_{2} + 0.447213595499959 Π_{1} P^{2} Π_{0} + 0.21728689675164 Π_{1} Pd Π_{1} - 0.27639320225002 Π_{1} Π_{3} - 2.34164078649987 Π_{1} Π_{4} + 0.920442065259926 Π_{1} Π_{4} P Π_{0} + 0.920442065259924 Π_{1} Π_{4} Pd Π_{1} + 2.78885438199982 Π_{1} Π_{4} Π_{1} - 1.17082039324993 Π_{1} Π_{4} Π_{1} Π_{3} + 2.34164078649987 Π_{1} Π_{4} Π_{2} - 1.17082039324994 Π_{1} Π_{4} Π_{2} Π_{0} + 1.08643448375821 Π_{2} Π_{0} P Π_{0} Π_{2} + 1.08643448375821 Π_{2} Π_{0} Pd Π_{0} Π_{2} - 2.84432240502893 Π_{2} Π_{0} Pd Π_{2} Π_{0} Π_{2} + 2.2360679774998 Π_{2} Π_{0} Π_{2} - 2.84432240502893 Π_{2} Π_{0} Π_{2} P Π_{0} Π_{2} + 2.2360679774998 Π_{2} Π_{0} Π_{2} Π_{0} Π_{2} - 1.89442719099991 Π_{2} Π_{4} + 0.920442065259927 Π_{2} Π_{4} P Π_{0} + 0.920442065259925 Π_{2} Π_{4} Pd Π_{1} + 2.34164078649987 Π_{2} Π_{4} Π_{1} - 1.17082039324993 Π_{2} Π_{4} Π_{1} Π_{3} + 1.89442719099991 Π_{2} Π_{4} Π_{2} - 1.17082039324994 Π_{2} Π_{4} Π_{2} Π_{0} - 0.671453437512517 Π_{3} Π_{0} P Π_{0} Π_{3} - 0.671453437512517 Π_{3} Π_{0} Pd Π_{0} Π_{3} + 0.41498104624568 Π_{3} Π_{0} Pd Π_{1} Π_{3} + 1.75788792127072 Π_{3} Π_{0} Pd Π_{2} Π_{0} Π_{3} - 2.84432240502891 Π_{3} Π_{0} Pd Π_{4} Π_{1} Π_{3} + 0.854101966249686 Π_{3} Π_{0} Pd^{2} Π_{1} Π_{3} + 1.75788792127072 Π_{3} Π_{0} Π_{2} P Π_{0} Π_{3} + 1.75788792127072 Π_{3} Π_{0} Π_{2} Pd Π_{1} Π_{3} + 0.854101966249688 Π_{3} Π_{0} Π_{2} Π_{0} Π_{3} - 5.85410196624969 Π_{3} Π_{0} Π_{2} Π_{4} Π_{1} Π_{3} + 1.38196601125011 Π_{3} Π_{0} Π_{3} - 0.27639320225002 Π_{3} Π_{1} - 0.568864481005782 Π_{3} Π_{1} P Π_{0} + 0.41498104624568 Π_{3} Π_{1} P Π_{0} Π_{3} + 1.08643448375819 Π_{3} Π_{1} P Π_{1} Π_{3} + 1.75788792127072 Π_{3} Π_{1} P Π_{2} Π_{0} Π_{3} - 2.84432240502891 Π_{3} Π_{1} P Π_{4} Π_{1} Π_{3} + 0.854101966249686 Π_{3} Π_{1} P^{2} Π_{0} Π_{3} - 0.568864481005781 Π_{3} Π_{1} Pd Π_{1} + 1.08643448375819 Π_{3} Π_{1} Pd Π_{1} Π_{3} + 2.95967477524975 Π_{3} Π_{1} Π_{3} + 1.17082039324993 Π_{3} Π_{1} Π_{4} - 2.84432240502891 Π_{3} Π_{1} Π_{4} P Π_{0} Π_{3} - 2.84432240502891 Π_{3} Π_{1} Π_{4} Pd Π_{1} Π_{3} - 1.17082039324993 Π_{3} Π_{1} Π_{4} Π_{1} + 2.23606797749981 Π_{3} Π_{1} Π_{4} Π_{1} Π_{3} - 1.17082039324993 Π_{3} Π_{1} Π_{4} Π_{2} - 5.85410196624969 Π_{3} Π_{1} Π_{4} Π_{2} Π_{0} Π_{3} + 26.6928010672487 Π_{4} - 0.920442065259927 Π_{4} P Π_{0} - 0.920442065259925 Π_{4} Pd Π_{1} - 4.60221032629962 Π_{4} Pd Π_{1} Π_{4} - 2.34164078649987 Π_{4} Π_{1} + 1.0864344837582 Π_{4} Π_{1} P Π_{1} Π_{4} - 4.60221032629962 Π_{4} Π_{1} P Π_{4} + 4.60221032629962 Π_{4} Π_{1} P Π_{4} Π_{1} Π_{4} + 4.60221032629962 Π_{4} Π_{1} P Π_{4} Π_{2} Π_{4} + 1.0864344837582 Π_{4} Π_{1} Pd Π_{1} Π_{4} + 1.17082039324993 Π_{4} Π_{1} Π_{3} - 59.068883707497 Π_{4} Π_{1} Π_{4} + 4.60221032629962 Π_{4} Π_{1} Π_{4} Pd Π_{1} Π_{4} + 36.506577808748 Π_{4} Π_{1} Π_{4} Π_{1} Π_{4} + 30.6524758424984 Π_{4} Π_{1} Π_{4} Π_{2} Π_{4} - 1.89442719099991 Π_{4} Π_{2} + 1.17082039324994 Π_{4} Π_{2} Π_{0} - 49.5967477524975 Π_{4} Π_{2} Π_{4} + 4.60221032629962 Π_{4} Π_{2} Π_{4} Pd Π_{1} Π_{4} + 30.6524758424984 Π_{4} Π_{2} Π_{4} Π_{1} Π_{4} + 24.7983738762488 Π_{4} Π_{2} Π_{4} Π_{2} Π_{4}$"
      ],
      "text/plain": [
       "                                                                              \n",
       "2.78885438199984⋅Π₀ + 0.217286896751641⋅Π₀⋅P⋅Π₀ + 0.217286896751641⋅Π₀⋅Pd⋅Π₀ +\n",
       "\n",
       "                                                                              \n",
       " 0.434573793503282⋅Π₀⋅Pd⋅Π₁ - 0.568864481005782⋅Π₀⋅Pd⋅Π₁⋅Π₃ - 0.56886448100578\n",
       "\n",
       "                                                                              \n",
       "6⋅Π₀⋅Pd⋅Π₂⋅Π₀ - 0.920442065259927⋅Π₀⋅Pd⋅Π₄ + 0.920442065259926⋅Π₀⋅Pd⋅Π₄⋅Π₁ + 0\n",
       "\n",
       "                                                      2                       \n",
       ".920442065259927⋅Π₀⋅Pd⋅Π₄⋅Π₂ + 0.447213595499959⋅Π₀⋅Pd ⋅Π₁ - 0.568864481005786\n",
       "\n",
       "                                                                              \n",
       "⋅Π₀⋅Π₂⋅P⋅Π₀ - 0.568864481005785⋅Π₀⋅Π₂⋅Pd⋅Π₁ + 0.170820393249937⋅Π₀⋅Π₂⋅Π₀ + 1.1\n",
       "\n",
       "                                                                              \n",
       "7082039324994⋅Π₀⋅Π₂⋅Π₄ - 1.17082039324994⋅Π₀⋅Π₂⋅Π₄⋅Π₁ - 1.17082039324994⋅Π₀⋅Π₂\n",
       "\n",
       "                                                                              \n",
       "⋅Π₄⋅Π₂ + 2.78885438199983⋅Π₁ + 0.434573793503282⋅Π₁⋅P⋅Π₀ + 0.21728689675164⋅Π₁\n",
       "\n",
       "                                                                              \n",
       "⋅P⋅Π₁ - 0.568864481005781⋅Π₁⋅P⋅Π₁⋅Π₃ - 0.568864481005785⋅Π₁⋅P⋅Π₂⋅Π₀ - 0.920442\n",
       "\n",
       "                                                                              \n",
       "065259925⋅Π₁⋅P⋅Π₄ + 0.920442065259924⋅Π₁⋅P⋅Π₄⋅Π₁ + 0.920442065259925⋅Π₁⋅P⋅Π₄⋅Π\n",
       "\n",
       "                          2                                                   \n",
       "₂ + 0.447213595499959⋅Π₁⋅P ⋅Π₀ + 0.21728689675164⋅Π₁⋅Pd⋅Π₁ - 0.27639320225002⋅\n",
       "\n",
       "                                                                              \n",
       "Π₁⋅Π₃ - 2.34164078649987⋅Π₁⋅Π₄ + 0.920442065259926⋅Π₁⋅Π₄⋅P⋅Π₀ + 0.920442065259\n",
       "\n",
       "                                                                              \n",
       "924⋅Π₁⋅Π₄⋅Pd⋅Π₁ + 2.78885438199982⋅Π₁⋅Π₄⋅Π₁ - 1.17082039324993⋅Π₁⋅Π₄⋅Π₁⋅Π₃ + 2\n",
       "\n",
       "                                                                              \n",
       ".34164078649987⋅Π₁⋅Π₄⋅Π₂ - 1.17082039324994⋅Π₁⋅Π₄⋅Π₂⋅Π₀ + 1.08643448375821⋅Π₂⋅\n",
       "\n",
       "                                                                              \n",
       "Π₀⋅P⋅Π₀⋅Π₂ + 1.08643448375821⋅Π₂⋅Π₀⋅Pd⋅Π₀⋅Π₂ - 2.84432240502893⋅Π₂⋅Π₀⋅Pd⋅Π₂⋅Π₀\n",
       "\n",
       "                                                                              \n",
       "⋅Π₂ + 2.2360679774998⋅Π₂⋅Π₀⋅Π₂ - 2.84432240502893⋅Π₂⋅Π₀⋅Π₂⋅P⋅Π₀⋅Π₂ + 2.2360679\n",
       "\n",
       "                                                                              \n",
       "774998⋅Π₂⋅Π₀⋅Π₂⋅Π₀⋅Π₂ - 1.89442719099991⋅Π₂⋅Π₄ + 0.920442065259927⋅Π₂⋅Π₄⋅P⋅Π₀ \n",
       "\n",
       "                                                                              \n",
       "+ 0.920442065259925⋅Π₂⋅Π₄⋅Pd⋅Π₁ + 2.34164078649987⋅Π₂⋅Π₄⋅Π₁ - 1.17082039324993\n",
       "\n",
       "                                                                              \n",
       "⋅Π₂⋅Π₄⋅Π₁⋅Π₃ + 1.89442719099991⋅Π₂⋅Π₄⋅Π₂ - 1.17082039324994⋅Π₂⋅Π₄⋅Π₂⋅Π₀ - 0.67\n",
       "\n",
       "                                                                              \n",
       "1453437512517⋅Π₃⋅Π₀⋅P⋅Π₀⋅Π₃ - 0.671453437512517⋅Π₃⋅Π₀⋅Pd⋅Π₀⋅Π₃ + 0.41498104624\n",
       "\n",
       "                                                                              \n",
       "568⋅Π₃⋅Π₀⋅Pd⋅Π₁⋅Π₃ + 1.75788792127072⋅Π₃⋅Π₀⋅Pd⋅Π₂⋅Π₀⋅Π₃ - 2.84432240502891⋅Π₃⋅\n",
       "\n",
       "                                           2                                  \n",
       "Π₀⋅Pd⋅Π₄⋅Π₁⋅Π₃ + 0.854101966249686⋅Π₃⋅Π₀⋅Pd ⋅Π₁⋅Π₃ + 1.75788792127072⋅Π₃⋅Π₀⋅Π₂\n",
       "\n",
       "                                                                              \n",
       "⋅P⋅Π₀⋅Π₃ + 1.75788792127072⋅Π₃⋅Π₀⋅Π₂⋅Pd⋅Π₁⋅Π₃ + 0.854101966249688⋅Π₃⋅Π₀⋅Π₂⋅Π₀⋅\n",
       "\n",
       "                                                                              \n",
       "Π₃ - 5.85410196624969⋅Π₃⋅Π₀⋅Π₂⋅Π₄⋅Π₁⋅Π₃ + 1.38196601125011⋅Π₃⋅Π₀⋅Π₃ - 0.276393\n",
       "\n",
       "                                                                              \n",
       "20225002⋅Π₃⋅Π₁ - 0.568864481005782⋅Π₃⋅Π₁⋅P⋅Π₀ + 0.41498104624568⋅Π₃⋅Π₁⋅P⋅Π₀⋅Π₃\n",
       "\n",
       "                                                                              \n",
       " + 1.08643448375819⋅Π₃⋅Π₁⋅P⋅Π₁⋅Π₃ + 1.75788792127072⋅Π₃⋅Π₁⋅P⋅Π₂⋅Π₀⋅Π₃ - 2.8443\n",
       "\n",
       "                                                       2                      \n",
       "2240502891⋅Π₃⋅Π₁⋅P⋅Π₄⋅Π₁⋅Π₃ + 0.854101966249686⋅Π₃⋅Π₁⋅P ⋅Π₀⋅Π₃ - 0.56886448100\n",
       "\n",
       "                                                                              \n",
       "5781⋅Π₃⋅Π₁⋅Pd⋅Π₁ + 1.08643448375819⋅Π₃⋅Π₁⋅Pd⋅Π₁⋅Π₃ + 2.95967477524975⋅Π₃⋅Π₁⋅Π₃\n",
       "\n",
       "                                                                              \n",
       " + 1.17082039324993⋅Π₃⋅Π₁⋅Π₄ - 2.84432240502891⋅Π₃⋅Π₁⋅Π₄⋅P⋅Π₀⋅Π₃ - 2.844322405\n",
       "\n",
       "                                                                              \n",
       "02891⋅Π₃⋅Π₁⋅Π₄⋅Pd⋅Π₁⋅Π₃ - 1.17082039324993⋅Π₃⋅Π₁⋅Π₄⋅Π₁ + 2.23606797749981⋅Π₃⋅Π\n",
       "\n",
       "                                                                              \n",
       "₁⋅Π₄⋅Π₁⋅Π₃ - 1.17082039324993⋅Π₃⋅Π₁⋅Π₄⋅Π₂ - 5.85410196624969⋅Π₃⋅Π₁⋅Π₄⋅Π₂⋅Π₀⋅Π₃\n",
       "\n",
       "                                                                              \n",
       " + 26.6928010672487⋅Π₄ - 0.920442065259927⋅Π₄⋅P⋅Π₀ - 0.920442065259925⋅Π₄⋅Pd⋅Π\n",
       "\n",
       "                                                                              \n",
       "₁ - 4.60221032629962⋅Π₄⋅Pd⋅Π₁⋅Π₄ - 2.34164078649987⋅Π₄⋅Π₁ + 1.0864344837582⋅Π₄\n",
       "\n",
       "                                                                              \n",
       "⋅Π₁⋅P⋅Π₁⋅Π₄ - 4.60221032629962⋅Π₄⋅Π₁⋅P⋅Π₄ + 4.60221032629962⋅Π₄⋅Π₁⋅P⋅Π₄⋅Π₁⋅Π₄ \n",
       "\n",
       "                                                                              \n",
       "+ 4.60221032629962⋅Π₄⋅Π₁⋅P⋅Π₄⋅Π₂⋅Π₄ + 1.0864344837582⋅Π₄⋅Π₁⋅Pd⋅Π₁⋅Π₄ + 1.17082\n",
       "\n",
       "                                                                              \n",
       "039324993⋅Π₄⋅Π₁⋅Π₃ - 59.068883707497⋅Π₄⋅Π₁⋅Π₄ + 4.60221032629962⋅Π₄⋅Π₁⋅Π₄⋅Pd⋅Π\n",
       "\n",
       "                                                                              \n",
       "₁⋅Π₄ + 36.506577808748⋅Π₄⋅Π₁⋅Π₄⋅Π₁⋅Π₄ + 30.6524758424984⋅Π₄⋅Π₁⋅Π₄⋅Π₂⋅Π₄ - 1.89\n",
       "\n",
       "                                                                              \n",
       "442719099991⋅Π₄⋅Π₂ + 1.17082039324994⋅Π₄⋅Π₂⋅Π₀ - 49.5967477524975⋅Π₄⋅Π₂⋅Π₄ + 4\n",
       "\n",
       "                                                                              \n",
       ".60221032629962⋅Π₄⋅Π₂⋅Π₄⋅Pd⋅Π₁⋅Π₄ + 30.6524758424984⋅Π₄⋅Π₂⋅Π₄⋅Π₁⋅Π₄ + 24.79837\n",
       "\n",
       "                       \n",
       "38762488⋅Π₄⋅Π₂⋅Π₄⋅Π₂⋅Π₄"
      ]
     },
     "metadata": {},
     "output_type": "display_data"
    }
   ],
   "source": [
    "#Simplify objective using the orthogonality relations of the graph\n",
    "#display(prune(objective).subs(gDicts))  \n",
    "objective_ = sp.expand(prune(objective).subs(gDicts)).subs(gDicts).subs(sqDicts)\n",
    "display(objective_)"
   ]
  },
  {
   "cell_type": "code",
   "execution_count": 20,
   "metadata": {
    "init_cell": true
   },
   "outputs": [
    {
     "name": "stdout",
     "output_type": "stream",
     "text": [
      "[Π_0, Π_1, Π_2, Π_3, Π_4, P, Pd]\n"
     ]
    },
    {
     "data": {
      "text/latex": [
       "$\\displaystyle \\left[ Π_{0}, \\  Π_{2} Π_{0}, \\  Π_{3} Π_{0}, \\  P Π_{0}, \\  Pd Π_{0}, \\  Π_{1}, \\  Π_{3} Π_{1}, \\  Π_{4} Π_{1}, \\  P Π_{1}, \\  Pd Π_{1}, \\  Π_{0} Π_{2}, \\  Π_{2}, \\  Π_{4} Π_{2}, \\  P Π_{2}, \\  Pd Π_{2}, \\  Π_{0} Π_{3}, \\  Π_{1} Π_{3}, \\  Π_{3}, \\  P Π_{3}, \\  Pd Π_{3}, \\  Π_{1} Π_{4}, \\  Π_{2} Π_{4}, \\  Π_{4}, \\  P Π_{4}, \\  Pd Π_{4}, \\  Π_{0} P, \\  Π_{1} P, \\  Π_{2} P, \\  Π_{3} P, \\  Π_{4} P, \\  P^{2}, \\  1, \\  Π_{0} Pd, \\  Π_{1} Pd, \\  Π_{2} Pd, \\  Π_{3} Pd, \\  Π_{4} Pd, \\  Pd^{2}, \\  Π_{0} Π_{2} Π_{0}, \\  Π_{4} Π_{2} Π_{0}, \\  P Π_{2} Π_{0}, \\  Pd Π_{2} Π_{0}, \\  Π_{0} Π_{3} Π_{0}, \\  Π_{1} Π_{3} Π_{0}, \\  P Π_{3} Π_{0}, \\  Pd Π_{3} Π_{0}, \\  Π_{0} P Π_{0}, \\  Π_{1} P Π_{0}, \\  Π_{2} P Π_{0}, \\  Π_{3} P Π_{0}, \\  Π_{4} P Π_{0}, \\  P^{2} Π_{0}, \\  Π_{0} Pd Π_{0}, \\  Π_{1} Pd Π_{0}, \\  Π_{2} Pd Π_{0}, \\  Π_{3} Pd Π_{0}, \\  Π_{4} Pd Π_{0}, \\  Pd^{2} Π_{0}, \\  Π_{0} Π_{3} Π_{1}, \\  Π_{1} Π_{3} Π_{1}, \\  P Π_{3} Π_{1}, \\  Pd Π_{3} Π_{1}, \\  Π_{1} Π_{4} Π_{1}, \\  Π_{2} Π_{4} Π_{1}, \\  P Π_{4} Π_{1}, \\  Pd Π_{4} Π_{1}, \\  Π_{0} P Π_{1}, \\  Π_{1} P Π_{1}, \\  Π_{2} P Π_{1}, \\  Π_{3} P Π_{1}, \\  Π_{4} P Π_{1}, \\  P^{2} Π_{1}, \\  Π_{0} Pd Π_{1}, \\  Π_{1} Pd Π_{1}, \\  Π_{2} Pd Π_{1}, \\  Π_{3} Pd Π_{1}, \\  Π_{4} Pd Π_{1}, \\  Pd^{2} Π_{1}, \\  Π_{2} Π_{0} Π_{2}, \\  Π_{3} Π_{0} Π_{2}, \\  P Π_{0} Π_{2}, \\  Pd Π_{0} Π_{2}, \\  Π_{1} Π_{4} Π_{2}, \\  Π_{2} Π_{4} Π_{2}, \\  P Π_{4} Π_{2}, \\  Pd Π_{4} Π_{2}, \\  Π_{0} P Π_{2}, \\  Π_{1} P Π_{2}, \\  Π_{2} P Π_{2}, \\  Π_{3} P Π_{2}, \\  Π_{4} P Π_{2}, \\  P^{2} Π_{2}, \\  Π_{0} Pd Π_{2}, \\  Π_{1} Pd Π_{2}, \\  Π_{2} Pd Π_{2}, \\  Π_{3} Pd Π_{2}, \\  Π_{4} Pd Π_{2}, \\  Pd^{2} Π_{2}, \\  Π_{2} Π_{0} Π_{3}, \\  Π_{3} Π_{0} Π_{3}, \\  P Π_{0} Π_{3}, \\  Pd Π_{0} Π_{3}, \\  Π_{3} Π_{1} Π_{3}, \\  Π_{4} Π_{1} Π_{3}, \\  P Π_{1} Π_{3}, \\  Pd Π_{1} Π_{3}, \\  Π_{0} P Π_{3}, \\  Π_{1} P Π_{3}, \\  Π_{2} P Π_{3}, \\  Π_{3} P Π_{3}, \\  Π_{4} P Π_{3}, \\  P^{2} Π_{3}, \\  Π_{0} Pd Π_{3}, \\  Π_{1} Pd Π_{3}, \\  Π_{2} Pd Π_{3}, \\  Π_{3} Pd Π_{3}, \\  Π_{4} Pd Π_{3}, \\  Pd^{2} Π_{3}, \\  Π_{3} Π_{1} Π_{4}, \\  Π_{4} Π_{1} Π_{4}, \\  P Π_{1} Π_{4}, \\  Pd Π_{1} Π_{4}, \\  Π_{0} Π_{2} Π_{4}, \\  Π_{4} Π_{2} Π_{4}, \\  P Π_{2} Π_{4}, \\  Pd Π_{2} Π_{4}, \\  Π_{0} P Π_{4}, \\  Π_{1} P Π_{4}, \\  Π_{2} P Π_{4}, \\  Π_{3} P Π_{4}, \\  Π_{4} P Π_{4}, \\  P^{2} Π_{4}, \\  Π_{0} Pd Π_{4}, \\  Π_{1} Pd Π_{4}, \\  Π_{2} Pd Π_{4}, \\  Π_{3} Pd Π_{4}, \\  Π_{4} Pd Π_{4}, \\  Pd^{2} Π_{4}, \\  Π_{2} Π_{0} P, \\  Π_{3} Π_{0} P, \\  P Π_{0} P, \\  Pd Π_{0} P, \\  Π_{3} Π_{1} P, \\  Π_{4} Π_{1} P, \\  P Π_{1} P, \\  Pd Π_{1} P, \\  Π_{0} Π_{2} P, \\  Π_{4} Π_{2} P, \\  P Π_{2} P, \\  Pd Π_{2} P, \\  Π_{0} Π_{3} P, \\  Π_{1} Π_{3} P, \\  P Π_{3} P, \\  Pd Π_{3} P, \\  Π_{1} Π_{4} P, \\  Π_{2} Π_{4} P, \\  P Π_{4} P, \\  Pd Π_{4} P, \\  Π_{0} P^{2}, \\  Π_{1} P^{2}, \\  Π_{2} P^{2}, \\  Π_{3} P^{2}, \\  Π_{4} P^{2}, \\  P^{3}, \\  P, \\  Pd, \\  Π_{2} Π_{0} Pd, \\  Π_{3} Π_{0} Pd, \\  P Π_{0} Pd, \\  Pd Π_{0} Pd, \\  Π_{3} Π_{1} Pd, \\  Π_{4} Π_{1} Pd, \\  P Π_{1} Pd, \\  Pd Π_{1} Pd, \\  Π_{0} Π_{2} Pd, \\  Π_{4} Π_{2} Pd, \\  P Π_{2} Pd, \\  Pd Π_{2} Pd, \\  Π_{0} Π_{3} Pd, \\  Π_{1} Π_{3} Pd, \\  P Π_{3} Pd, \\  Pd Π_{3} Pd, \\  Π_{1} Π_{4} Pd, \\  Π_{2} Π_{4} Pd, \\  P Π_{4} Pd, \\  Pd Π_{4} Pd, \\  Π_{0} Pd^{2}, \\  Π_{1} Pd^{2}, \\  Π_{2} Pd^{2}, \\  Π_{3} Pd^{2}, \\  Π_{4} Pd^{2}, \\  Pd^{3}\\right]$"
      ],
      "text/plain": [
       "⎡                                                                             \n",
       "⎣Π₀, Π₂⋅Π₀, Π₃⋅Π₀, P⋅Π₀, Pd⋅Π₀, Π₁, Π₃⋅Π₁, Π₄⋅Π₁, P⋅Π₁, Pd⋅Π₁, Π₀⋅Π₂, Π₂, Π₄⋅Π\n",
       "\n",
       "                                                                              \n",
       "₂, P⋅Π₂, Pd⋅Π₂, Π₀⋅Π₃, Π₁⋅Π₃, Π₃, P⋅Π₃, Pd⋅Π₃, Π₁⋅Π₄, Π₂⋅Π₄, Π₄, P⋅Π₄, Pd⋅Π₄, \n",
       "\n",
       "                               2                                          2   \n",
       "Π₀⋅P, Π₁⋅P, Π₂⋅P, Π₃⋅P, Π₄⋅P, P , 1, Π₀⋅Pd, Π₁⋅Pd, Π₂⋅Pd, Π₃⋅Pd, Π₄⋅Pd, Pd , Π\n",
       "\n",
       "                                                                              \n",
       "₀⋅Π₂⋅Π₀, Π₄⋅Π₂⋅Π₀, P⋅Π₂⋅Π₀, Pd⋅Π₂⋅Π₀, Π₀⋅Π₃⋅Π₀, Π₁⋅Π₃⋅Π₀, P⋅Π₃⋅Π₀, Pd⋅Π₃⋅Π₀, Π\n",
       "\n",
       "                                             2                                \n",
       "₀⋅P⋅Π₀, Π₁⋅P⋅Π₀, Π₂⋅P⋅Π₀, Π₃⋅P⋅Π₀, Π₄⋅P⋅Π₀, P ⋅Π₀, Π₀⋅Pd⋅Π₀, Π₁⋅Pd⋅Π₀, Π₂⋅Pd⋅Π\n",
       "\n",
       "                         2                                                    \n",
       "₀, Π₃⋅Pd⋅Π₀, Π₄⋅Pd⋅Π₀, Pd ⋅Π₀, Π₀⋅Π₃⋅Π₁, Π₁⋅Π₃⋅Π₁, P⋅Π₃⋅Π₁, Pd⋅Π₃⋅Π₁, Π₁⋅Π₄⋅Π₁\n",
       "\n",
       "                                                                             2\n",
       ", Π₂⋅Π₄⋅Π₁, P⋅Π₄⋅Π₁, Pd⋅Π₄⋅Π₁, Π₀⋅P⋅Π₁, Π₁⋅P⋅Π₁, Π₂⋅P⋅Π₁, Π₃⋅P⋅Π₁, Π₄⋅P⋅Π₁, P \n",
       "\n",
       "                                                         2                    \n",
       "⋅Π₁, Π₀⋅Pd⋅Π₁, Π₁⋅Pd⋅Π₁, Π₂⋅Pd⋅Π₁, Π₃⋅Pd⋅Π₁, Π₄⋅Pd⋅Π₁, Pd ⋅Π₁, Π₂⋅Π₀⋅Π₂, Π₃⋅Π₀\n",
       "\n",
       "                                                                              \n",
       "⋅Π₂, P⋅Π₀⋅Π₂, Pd⋅Π₀⋅Π₂, Π₁⋅Π₄⋅Π₂, Π₂⋅Π₄⋅Π₂, P⋅Π₄⋅Π₂, Pd⋅Π₄⋅Π₂, Π₀⋅P⋅Π₂, Π₁⋅P⋅Π\n",
       "\n",
       "                               2                                              \n",
       "₂, Π₂⋅P⋅Π₂, Π₃⋅P⋅Π₂, Π₄⋅P⋅Π₂, P ⋅Π₂, Π₀⋅Pd⋅Π₂, Π₁⋅Pd⋅Π₂, Π₂⋅Pd⋅Π₂, Π₃⋅Pd⋅Π₂, Π\n",
       "\n",
       "           2                                                                  \n",
       "₄⋅Pd⋅Π₂, Pd ⋅Π₂, Π₂⋅Π₀⋅Π₃, Π₃⋅Π₀⋅Π₃, P⋅Π₀⋅Π₃, Pd⋅Π₀⋅Π₃, Π₃⋅Π₁⋅Π₃, Π₄⋅Π₁⋅Π₃, P⋅\n",
       "\n",
       "                                                               2              \n",
       "Π₁⋅Π₃, Pd⋅Π₁⋅Π₃, Π₀⋅P⋅Π₃, Π₁⋅P⋅Π₃, Π₂⋅P⋅Π₃, Π₃⋅P⋅Π₃, Π₄⋅P⋅Π₃, P ⋅Π₃, Π₀⋅Pd⋅Π₃,\n",
       "\n",
       "                                           2                                  \n",
       " Π₁⋅Pd⋅Π₃, Π₂⋅Pd⋅Π₃, Π₃⋅Pd⋅Π₃, Π₄⋅Pd⋅Π₃, Pd ⋅Π₃, Π₃⋅Π₁⋅Π₄, Π₄⋅Π₁⋅Π₄, P⋅Π₁⋅Π₄, \n",
       "\n",
       "                                                                              \n",
       "Pd⋅Π₁⋅Π₄, Π₀⋅Π₂⋅Π₄, Π₄⋅Π₂⋅Π₄, P⋅Π₂⋅Π₄, Pd⋅Π₂⋅Π₄, Π₀⋅P⋅Π₄, Π₁⋅P⋅Π₄, Π₂⋅P⋅Π₄, Π₃\n",
       "\n",
       "                 2                                                         2  \n",
       "⋅P⋅Π₄, Π₄⋅P⋅Π₄, P ⋅Π₄, Π₀⋅Pd⋅Π₄, Π₁⋅Pd⋅Π₄, Π₂⋅Pd⋅Π₄, Π₃⋅Pd⋅Π₄, Π₄⋅Pd⋅Π₄, Pd ⋅Π\n",
       "\n",
       "                                                                              \n",
       "₄, Π₂⋅Π₀⋅P, Π₃⋅Π₀⋅P, P⋅Π₀⋅P, Pd⋅Π₀⋅P, Π₃⋅Π₁⋅P, Π₄⋅Π₁⋅P, P⋅Π₁⋅P, Pd⋅Π₁⋅P, Π₀⋅Π₂\n",
       "\n",
       "                                                                              \n",
       "⋅P, Π₄⋅Π₂⋅P, P⋅Π₂⋅P, Pd⋅Π₂⋅P, Π₀⋅Π₃⋅P, Π₁⋅Π₃⋅P, P⋅Π₃⋅P, Pd⋅Π₃⋅P, Π₁⋅Π₄⋅P, Π₂⋅Π\n",
       "\n",
       "                          2      2      2      2      2   3                   \n",
       "₄⋅P, P⋅Π₄⋅P, Pd⋅Π₄⋅P, Π₀⋅P , Π₁⋅P , Π₂⋅P , Π₃⋅P , Π₄⋅P , P , P, Pd, Π₂⋅Π₀⋅Pd, \n",
       "\n",
       "                                                                              \n",
       "Π₃⋅Π₀⋅Pd, P⋅Π₀⋅Pd, Pd⋅Π₀⋅Pd, Π₃⋅Π₁⋅Pd, Π₄⋅Π₁⋅Pd, P⋅Π₁⋅Pd, Pd⋅Π₁⋅Pd, Π₀⋅Π₂⋅Pd, \n",
       "\n",
       "                                                                              \n",
       "Π₄⋅Π₂⋅Pd, P⋅Π₂⋅Pd, Pd⋅Π₂⋅Pd, Π₀⋅Π₃⋅Pd, Π₁⋅Π₃⋅Pd, P⋅Π₃⋅Pd, Pd⋅Π₃⋅Pd, Π₁⋅Π₄⋅Pd, \n",
       "\n",
       "                                  2       2       2       2       2    3⎤\n",
       "Π₂⋅Π₄⋅Pd, P⋅Π₄⋅Pd, Pd⋅Π₄⋅Pd, Π₀⋅Pd , Π₁⋅Pd , Π₂⋅Pd , Π₃⋅Pd , Π₄⋅Pd , Pd ⎦"
      ]
     },
     "metadata": {},
     "output_type": "display_data"
    }
   ],
   "source": [
    "Lx=[]\n",
    "\n",
    "#This generates words of length n with each position holding any of the y letters\n",
    "def loop_rec(y, n=None, val=None):\n",
    "    if n >= 1:\n",
    "        for x in range(y):\n",
    "            let=L1[x]\n",
    "            if val == None:\n",
    "                newVal=let\n",
    "            else:\n",
    "                newVal=let*val\n",
    "            loop_rec(y, n - 1, newVal)\n",
    "    else:\n",
    "        #TODO: Find a better way of removing powers\n",
    "        val_=val.subs(gDicts).subs(sqDicts).subs(sqDicts).subs(gDicts)\n",
    "        if not val_ in Lx and val_ != 0 :\n",
    "            Lx.append(val_)\n",
    "\n",
    "for i in range(2,hDepth+1):    \n",
    "    #loop_rec(N,i)\n",
    "    loop_rec(len(L1),i)\n",
    "\n",
    "    \n",
    "L = I + L1 + Lx\n",
    "L_ = L1 + Lx\n",
    "\n",
    "print(L1)\n",
    "display(Lx)"
   ]
  },
  {
   "cell_type": "code",
   "execution_count": 21,
   "metadata": {
    "init_cell": true
   },
   "outputs": [],
   "source": [
    "#symbol to index dictionary\n",
    "sTi={}\n",
    "\n",
    "for i in range(len(L)):\n",
    "    sTi[L[i]]=i\n",
    "\n",
    "#print(sTi)"
   ]
  },
  {
   "cell_type": "code",
   "execution_count": 22,
   "metadata": {
    "init_cell": true
   },
   "outputs": [
    {
     "name": "stdout",
     "output_type": "stream",
     "text": [
      "[Π_0, Π_2*Π_0, Π_3*Π_0, P*Π_0, Pd*Π_0, Π_1, Π_3*Π_1, Π_4*Π_1, P*Π_1, Pd*Π_1, Π_0*Π_2, Π_2, Π_4*Π_2, P*Π_2, Pd*Π_2, Π_0*Π_3, Π_1*Π_3, Π_3, P*Π_3, Pd*Π_3, Π_1*Π_4, Π_2*Π_4, Π_4, P*Π_4, Pd*Π_4, Π_0*P, Π_1*P, Π_2*P, Π_3*P, Π_4*P, P**2, 1, Π_0*Pd, Π_1*Pd, Π_2*Pd, Π_3*Pd, Π_4*Pd, Pd**2, Π_0*Π_2*Π_0, Π_4*Π_2*Π_0, P*Π_2*Π_0, Pd*Π_2*Π_0, Π_0*Π_3*Π_0, Π_1*Π_3*Π_0, P*Π_3*Π_0, Pd*Π_3*Π_0, Π_0*P*Π_0, Π_1*P*Π_0, Π_2*P*Π_0, Π_3*P*Π_0, Π_4*P*Π_0, P**2*Π_0, Π_0*Pd*Π_0, Π_1*Pd*Π_0, Π_2*Pd*Π_0, Π_3*Pd*Π_0, Π_4*Pd*Π_0, Pd**2*Π_0, Π_0*Π_3*Π_1, Π_1*Π_3*Π_1, P*Π_3*Π_1, Pd*Π_3*Π_1, Π_1*Π_4*Π_1, Π_2*Π_4*Π_1, P*Π_4*Π_1, Pd*Π_4*Π_1, Π_0*P*Π_1, Π_1*P*Π_1, Π_2*P*Π_1, Π_3*P*Π_1, Π_4*P*Π_1, P**2*Π_1, Π_0*Pd*Π_1, Π_1*Pd*Π_1, Π_2*Pd*Π_1, Π_3*Pd*Π_1, Π_4*Pd*Π_1, Pd**2*Π_1, Π_2*Π_0*Π_2, Π_3*Π_0*Π_2, P*Π_0*Π_2, Pd*Π_0*Π_2, Π_1*Π_4*Π_2, Π_2*Π_4*Π_2, P*Π_4*Π_2, Pd*Π_4*Π_2, Π_0*P*Π_2, Π_1*P*Π_2, Π_2*P*Π_2, Π_3*P*Π_2, Π_4*P*Π_2, P**2*Π_2, Π_0*Pd*Π_2, Π_1*Pd*Π_2, Π_2*Pd*Π_2, Π_3*Pd*Π_2, Π_4*Pd*Π_2, Pd**2*Π_2, Π_2*Π_0*Π_3, Π_3*Π_0*Π_3, P*Π_0*Π_3, Pd*Π_0*Π_3, Π_3*Π_1*Π_3, Π_4*Π_1*Π_3, P*Π_1*Π_3, Pd*Π_1*Π_3, Π_0*P*Π_3, Π_1*P*Π_3, Π_2*P*Π_3, Π_3*P*Π_3, Π_4*P*Π_3, P**2*Π_3, Π_0*Pd*Π_3, Π_1*Pd*Π_3, Π_2*Pd*Π_3, Π_3*Pd*Π_3, Π_4*Pd*Π_3, Pd**2*Π_3, Π_3*Π_1*Π_4, Π_4*Π_1*Π_4, P*Π_1*Π_4, Pd*Π_1*Π_4, Π_0*Π_2*Π_4, Π_4*Π_2*Π_4, P*Π_2*Π_4, Pd*Π_2*Π_4, Π_0*P*Π_4, Π_1*P*Π_4, Π_2*P*Π_4, Π_3*P*Π_4, Π_4*P*Π_4, P**2*Π_4, Π_0*Pd*Π_4, Π_1*Pd*Π_4, Π_2*Pd*Π_4, Π_3*Pd*Π_4, Π_4*Pd*Π_4, Pd**2*Π_4, Π_2*Π_0*P, Π_3*Π_0*P, P*Π_0*P, Pd*Π_0*P, Π_3*Π_1*P, Π_4*Π_1*P, P*Π_1*P, Pd*Π_1*P, Π_0*Π_2*P, Π_4*Π_2*P, P*Π_2*P, Pd*Π_2*P, Π_0*Π_3*P, Π_1*Π_3*P, P*Π_3*P, Pd*Π_3*P, Π_1*Π_4*P, Π_2*Π_4*P, P*Π_4*P, Pd*Π_4*P, Π_0*P**2, Π_1*P**2, Π_2*P**2, Π_3*P**2, Π_4*P**2, P**3, P, Pd, Π_2*Π_0*Pd, Π_3*Π_0*Pd, P*Π_0*Pd, Pd*Π_0*Pd, Π_3*Π_1*Pd, Π_4*Π_1*Pd, P*Π_1*Pd, Pd*Π_1*Pd, Π_0*Π_2*Pd, Π_4*Π_2*Pd, P*Π_2*Pd, Pd*Π_2*Pd, Π_0*Π_3*Pd, Π_1*Π_3*Pd, P*Π_3*Pd, Pd*Π_3*Pd, Π_1*Π_4*Pd, Π_2*Π_4*Pd, P*Π_4*Pd, Pd*Π_4*Pd, Π_0*Pd**2, Π_1*Pd**2, Π_2*Pd**2, Π_3*Pd**2, Π_4*Pd**2, Pd**3]\n"
     ]
    }
   ],
   "source": [
    "print(Lx)"
   ]
  },
  {
   "cell_type": "markdown",
   "metadata": {},
   "source": [
    "## Sympy says hello to Cvxpy"
   ]
  },
  {
   "cell_type": "code",
   "execution_count": 23,
   "metadata": {
    "init_cell": true
   },
   "outputs": [],
   "source": [
    "#A function for directly extracting terms to construct indices\n",
    "\n",
    "lI = I[0]\n",
    "\n",
    "\n",
    "def lettersForExpr(termInSum):\n",
    "    termInSum_ = pow_to_single_mul(termInSum) #sp.expand(pow_to_mul(termInSum))\n",
    "    print(termInSum_)\n",
    "    print(termInSum_.args)\n",
    "    if(len(termInSum_.args[1:])<= hDepth  ): #if we can handle this using just the letters we produced\n",
    "        lett = termInSum_.args[1]\n",
    "        for lettInTerm in termInSum_.args[2:]:\n",
    "            lett *= lettInTerm\n",
    "        coeff = sp.N(termInSum_.args[0]) #In case we got symbolic square roots\n",
    "\n",
    "        lett=lett.subs(sqDicts)            \n",
    "        return[lett,lI,coeff]\n",
    "        #eX = X[sTi[lett]][sTi[lI]]\n",
    "        #y += coeff*eX\n",
    "\n",
    "        #display(termInSum_)\n",
    "        #display(lett) #These can be directly handled\n",
    "\n",
    "    elif(len(termInSum_.args[1:])<= 2*hDepth ): #we can handle at most twice the letters            \n",
    "        half=int(hDepth) +1\n",
    "        #print(len(termInSum_.args[1:]),2*hDepth)\n",
    "        #print(half)\n",
    "        #print(termInSum_)\n",
    "        lett1 = termInSum_.args[1]\n",
    "        for lettInTerm in termInSum_.args[2:half]:\n",
    "            lett1 *= lettInTerm\n",
    "        lett2 = termInSum_.args[half]\n",
    "        for lettInTerm in termInSum_.args[half+1:]:\n",
    "            lett2 *= lettInTerm\n",
    "        # display(termInSum_)\n",
    "        # display(lett1) \n",
    "        # display(lett2)\n",
    "        coeff = sp.N(termInSum_.args[0]) #In case we got symbolic square roots\n",
    "        lett1=lett1.subs(sqDicts)\n",
    "        lett2=lett2.subs(sqDicts)\n",
    "        return [lett1,lett2,coeff]\n",
    "        #eX = X[sTi[lett1]][sTi[lett2]]\n",
    "        #y += coeff*eX\n",
    "    else:\n",
    "        print(\"objective not fully captured\")           \n",
    "        return [\"objective not fully captured\"]\n",
    "        #flag=\"Objective not fully captured\"\n",
    "        #raise Warning(\"Increase hDepth: It looks like your objective is not captured by the current depth of the SDP heirarchy\")\n"
   ]
  },
  {
   "cell_type": "code",
   "execution_count": 24,
   "metadata": {
    "code_folding": [
     183
    ],
    "init_cell": true,
    "scrolled": false
   },
   "outputs": [
    {
     "name": "stdout",
     "output_type": "stream",
     "text": [
      "Loading from file\n",
      "Evaluating constraints\n",
      "Constructing the SDP objective from the symbolic objective\n",
      "2.78885438199983*Π_1\n",
      "(2.78885438199983, Π_1)\n",
      "2.78885438199984*Π_0\n",
      "(2.78885438199984, Π_0)\n",
      "26.6928010672487*Π_4\n",
      "(26.6928010672487, Π_4)\n",
      "-0.27639320225002*Π_1*Π_3\n",
      "(-0.276393202250020, Π_1, Π_3)\n",
      "-0.27639320225002*Π_3*Π_1\n",
      "(-0.276393202250020, Π_3, Π_1)\n",
      "-2.34164078649987*Π_1*Π_4\n",
      "(-2.34164078649987, Π_1, Π_4)\n",
      "-2.34164078649987*Π_4*Π_1\n",
      "(-2.34164078649987, Π_4, Π_1)\n",
      "-1.89442719099991*Π_2*Π_4\n",
      "(-1.89442719099991, Π_2, Π_4)\n",
      "-1.89442719099991*Π_4*Π_2\n",
      "(-1.89442719099991, Π_4, Π_2)\n",
      "0.170820393249937*Π_0*Π_2*Π_0\n",
      "(0.170820393249937, Π_0, Π_2, Π_0)\n",
      "0.434573793503282*Π_0*Pd*Π_1\n",
      "(0.434573793503282, Π_0, Pd, Π_1)\n",
      "0.434573793503282*Π_1*P*Π_0\n",
      "(0.434573793503282, Π_1, P, Π_0)\n",
      "2.2360679774998*Π_2*Π_0*Π_2\n",
      "(2.23606797749980, Π_2, Π_0, Π_2)\n",
      "2.78885438199982*Π_1*Π_4*Π_1\n",
      "(2.78885438199982, Π_1, Π_4, Π_1)\n",
      "0.217286896751641*Π_0*P*Π_0\n",
      "(0.217286896751641, Π_0, P, Π_0)\n",
      "0.217286896751641*Π_0*Pd*Π_0\n",
      "(0.217286896751641, Π_0, Pd, Π_0)\n",
      "1.89442719099991*Π_2*Π_4*Π_2\n",
      "(1.89442719099991, Π_2, Π_4, Π_2)\n",
      "1.17082039324993*Π_3*Π_1*Π_4\n",
      "(1.17082039324993, Π_3, Π_1, Π_4)\n",
      "1.17082039324993*Π_4*Π_1*Π_3\n",
      "(1.17082039324993, Π_4, Π_1, Π_3)\n",
      "2.34164078649987*Π_1*Π_4*Π_2\n",
      "(2.34164078649987, Π_1, Π_4, Π_2)\n",
      "2.34164078649987*Π_2*Π_4*Π_1\n",
      "(2.34164078649987, Π_2, Π_4, Π_1)\n",
      "1.17082039324994*Π_0*Π_2*Π_4\n",
      "(1.17082039324994, Π_0, Π_2, Π_4)\n",
      "1.17082039324994*Π_4*Π_2*Π_0\n",
      "(1.17082039324994, Π_4, Π_2, Π_0)\n",
      "1.38196601125011*Π_3*Π_0*Π_3\n",
      "(1.38196601125011, Π_3, Π_0, Π_3)\n",
      "2.95967477524975*Π_3*Π_1*Π_3\n",
      "(2.95967477524975, Π_3, Π_1, Π_3)\n",
      "0.21728689675164*Π_1*P*Π_1\n",
      "(0.217286896751640, Π_1, P, Π_1)\n",
      "0.21728689675164*Π_1*Pd*Π_1\n",
      "(0.217286896751640, Π_1, Pd, Π_1)\n",
      "0.447213595499959*Π_0*Pd*Pd*Π_1\n",
      "(0.447213595499959, Π_0, Pd, Pd, Π_1)\n",
      "0.447213595499959*Π_1*P*P*Π_0\n",
      "(0.447213595499959, Π_1, P, P, Π_0)\n",
      "-49.5967477524975*Π_4*Π_2*Π_4\n",
      "(-49.5967477524975, Π_4, Π_2, Π_4)\n",
      "-59.068883707497*Π_4*Π_1*Π_4\n",
      "(-59.0688837074970, Π_4, Π_1, Π_4)\n",
      "-0.920442065259925*Π_1*P*Π_4\n",
      "(-0.920442065259925, Π_1, P, Π_4)\n",
      "-0.920442065259925*Π_4*Pd*Π_1\n",
      "(-0.920442065259925, Π_4, Pd, Π_1)\n",
      "-0.920442065259927*Π_0*Pd*Π_4\n",
      "(-0.920442065259927, Π_0, Pd, Π_4)\n",
      "-0.920442065259927*Π_4*P*Π_0\n",
      "(-0.920442065259927, Π_4, P, Π_0)\n",
      "0.920442065259924*Π_1*P*Π_4*Π_1\n",
      "(0.920442065259924, Π_1, P, Π_4, Π_1)\n",
      "0.920442065259924*Π_1*Π_4*Pd*Π_1\n",
      "(0.920442065259924, Π_1, Π_4, Pd, Π_1)\n",
      "0.920442065259925*Π_1*P*Π_4*Π_2\n",
      "(0.920442065259925, Π_1, P, Π_4, Π_2)\n",
      "0.920442065259925*Π_2*Π_4*Pd*Π_1\n",
      "(0.920442065259925, Π_2, Π_4, Pd, Π_1)\n",
      "0.920442065259926*Π_0*Pd*Π_4*Π_1\n",
      "(0.920442065259926, Π_0, Pd, Π_4, Π_1)\n",
      "0.920442065259926*Π_1*Π_4*P*Π_0\n",
      "(0.920442065259926, Π_1, Π_4, P, Π_0)\n",
      "0.920442065259927*Π_0*Pd*Π_4*Π_2\n",
      "(0.920442065259927, Π_0, Pd, Π_4, Π_2)\n",
      "0.920442065259927*Π_2*Π_4*P*Π_0\n",
      "(0.920442065259927, Π_2, Π_4, P, Π_0)\n",
      "-0.568864481005786*Π_0*Pd*Π_2*Π_0\n",
      "(-0.568864481005786, Π_0, Pd, Π_2, Π_0)\n",
      "-0.568864481005786*Π_0*Π_2*P*Π_0\n",
      "(-0.568864481005786, Π_0, Π_2, P, Π_0)\n",
      "-1.17082039324993*Π_1*Π_4*Π_1*Π_3\n",
      "(-1.17082039324993, Π_1, Π_4, Π_1, Π_3)\n",
      "-1.17082039324993*Π_3*Π_1*Π_4*Π_1\n",
      "(-1.17082039324993, Π_3, Π_1, Π_4, Π_1)\n",
      "-0.568864481005781*Π_1*P*Π_1*Π_3\n",
      "(-0.568864481005781, Π_1, P, Π_1, Π_3)\n",
      "-0.568864481005781*Π_3*Π_1*Pd*Π_1\n",
      "(-0.568864481005781, Π_3, Π_1, Pd, Π_1)\n",
      "-4.60221032629962*Π_4*Pd*Π_1*Π_4\n",
      "(-4.60221032629962, Π_4, Pd, Π_1, Π_4)\n",
      "-4.60221032629962*Π_4*Π_1*P*Π_4\n",
      "(-4.60221032629962, Π_4, Π_1, P, Π_4)\n",
      "-0.568864481005782*Π_0*Pd*Π_1*Π_3\n",
      "(-0.568864481005782, Π_0, Pd, Π_1, Π_3)\n",
      "-0.568864481005782*Π_3*Π_1*P*Π_0\n",
      "(-0.568864481005782, Π_3, Π_1, P, Π_0)\n",
      "-0.568864481005785*Π_0*Π_2*Pd*Π_1\n",
      "(-0.568864481005785, Π_0, Π_2, Pd, Π_1)\n",
      "-0.568864481005785*Π_1*P*Π_2*Π_0\n",
      "(-0.568864481005785, Π_1, P, Π_2, Π_0)\n",
      "-1.17082039324993*Π_2*Π_4*Π_1*Π_3\n",
      "(-1.17082039324993, Π_2, Π_4, Π_1, Π_3)\n",
      "-1.17082039324993*Π_3*Π_1*Π_4*Π_2\n",
      "(-1.17082039324993, Π_3, Π_1, Π_4, Π_2)\n",
      "-1.17082039324994*Π_0*Π_2*Π_4*Π_1\n",
      "(-1.17082039324994, Π_0, Π_2, Π_4, Π_1)\n",
      "-1.17082039324994*Π_1*Π_4*Π_2*Π_0\n",
      "(-1.17082039324994, Π_1, Π_4, Π_2, Π_0)\n",
      "-1.17082039324994*Π_0*Π_2*Π_4*Π_2\n",
      "(-1.17082039324994, Π_0, Π_2, Π_4, Π_2)\n",
      "-1.17082039324994*Π_2*Π_4*Π_2*Π_0\n",
      "(-1.17082039324994, Π_2, Π_4, Π_2, Π_0)\n",
      "1.0864344837582*Π_4*Π_1*P*Π_1*Π_4\n",
      "(1.08643448375820, Π_4, Π_1, P, Π_1, Π_4)\n",
      "1.0864344837582*Π_4*Π_1*Pd*Π_1*Π_4\n",
      "(1.08643448375820, Π_4, Π_1, Pd, Π_1, Π_4)\n",
      "30.6524758424984*Π_4*Π_1*Π_4*Π_2*Π_4\n",
      "(30.6524758424984, Π_4, Π_1, Π_4, Π_2, Π_4)\n",
      "30.6524758424984*Π_4*Π_2*Π_4*Π_1*Π_4\n",
      "(30.6524758424984, Π_4, Π_2, Π_4, Π_1, Π_4)\n",
      "2.2360679774998*Π_2*Π_0*Π_2*Π_0*Π_2\n",
      "(2.23606797749980, Π_2, Π_0, Π_2, Π_0, Π_2)\n",
      "2.23606797749981*Π_3*Π_1*Π_4*Π_1*Π_3\n",
      "(2.23606797749981, Π_3, Π_1, Π_4, Π_1, Π_3)\n",
      "36.506577808748*Π_4*Π_1*Π_4*Π_1*Π_4\n",
      "(36.5065778087480, Π_4, Π_1, Π_4, Π_1, Π_4)\n",
      "24.7983738762488*Π_4*Π_2*Π_4*Π_2*Π_4\n",
      "(24.7983738762488, Π_4, Π_2, Π_4, Π_2, Π_4)\n",
      "1.08643448375819*Π_3*Π_1*P*Π_1*Π_3\n",
      "(1.08643448375819, Π_3, Π_1, P, Π_1, Π_3)\n",
      "1.08643448375819*Π_3*Π_1*Pd*Π_1*Π_3\n",
      "(1.08643448375819, Π_3, Π_1, Pd, Π_1, Π_3)\n",
      "1.08643448375821*Π_2*Π_0*P*Π_0*Π_2\n",
      "(1.08643448375821, Π_2, Π_0, P, Π_0, Π_2)\n",
      "1.08643448375821*Π_2*Π_0*Pd*Π_0*Π_2\n",
      "(1.08643448375821, Π_2, Π_0, Pd, Π_0, Π_2)\n",
      "0.41498104624568*Π_3*Π_0*Pd*Π_1*Π_3\n",
      "(0.414981046245680, Π_3, Π_0, Pd, Π_1, Π_3)\n",
      "0.41498104624568*Π_3*Π_1*P*Π_0*Π_3\n",
      "(0.414981046245680, Π_3, Π_1, P, Π_0, Π_3)\n",
      "0.854101966249686*Π_3*Π_0*Pd*Pd*Π_1*Π_3\n",
      "(0.854101966249686, Π_3, Π_0, Pd, Pd, Π_1, Π_3)\n",
      "0.854101966249686*Π_3*Π_1*P*P*Π_0*Π_3\n",
      "(0.854101966249686, Π_3, Π_1, P, P, Π_0, Π_3)\n",
      "0.854101966249688*Π_3*Π_0*Π_2*Π_0*Π_3\n",
      "(0.854101966249688, Π_3, Π_0, Π_2, Π_0, Π_3)\n",
      "-0.671453437512517*Π_3*Π_0*P*Π_0*Π_3\n",
      "(-0.671453437512517, Π_3, Π_0, P, Π_0, Π_3)\n",
      "-0.671453437512517*Π_3*Π_0*Pd*Π_0*Π_3\n",
      "(-0.671453437512517, Π_3, Π_0, Pd, Π_0, Π_3)\n",
      "1.75788792127072*Π_3*Π_0*Pd*Π_2*Π_0*Π_3\n",
      "(1.75788792127072, Π_3, Π_0, Pd, Π_2, Π_0, Π_3)\n",
      "1.75788792127072*Π_3*Π_0*Π_2*P*Π_0*Π_3\n",
      "(1.75788792127072, Π_3, Π_0, Π_2, P, Π_0, Π_3)\n",
      "4.60221032629962*Π_4*Π_1*P*Π_4*Π_1*Π_4\n",
      "(4.60221032629962, Π_4, Π_1, P, Π_4, Π_1, Π_4)\n",
      "4.60221032629962*Π_4*Π_1*Π_4*Pd*Π_1*Π_4\n",
      "(4.60221032629962, Π_4, Π_1, Π_4, Pd, Π_1, Π_4)\n",
      "1.75788792127072*Π_3*Π_0*Π_2*Pd*Π_1*Π_3\n",
      "(1.75788792127072, Π_3, Π_0, Π_2, Pd, Π_1, Π_3)\n",
      "1.75788792127072*Π_3*Π_1*P*Π_2*Π_0*Π_3\n",
      "(1.75788792127072, Π_3, Π_1, P, Π_2, Π_0, Π_3)\n",
      "4.60221032629962*Π_4*Π_1*P*Π_4*Π_2*Π_4\n",
      "(4.60221032629962, Π_4, Π_1, P, Π_4, Π_2, Π_4)\n",
      "4.60221032629962*Π_4*Π_2*Π_4*Pd*Π_1*Π_4\n",
      "(4.60221032629962, Π_4, Π_2, Π_4, Pd, Π_1, Π_4)\n",
      "-5.85410196624969*Π_3*Π_0*Π_2*Π_4*Π_1*Π_3\n",
      "(-5.85410196624969, Π_3, Π_0, Π_2, Π_4, Π_1, Π_3)\n",
      "-5.85410196624969*Π_3*Π_1*Π_4*Π_2*Π_0*Π_3\n",
      "(-5.85410196624969, Π_3, Π_1, Π_4, Π_2, Π_0, Π_3)\n",
      "-2.84432240502891*Π_3*Π_0*Pd*Π_4*Π_1*Π_3\n",
      "(-2.84432240502891, Π_3, Π_0, Pd, Π_4, Π_1, Π_3)\n",
      "-2.84432240502891*Π_3*Π_1*Π_4*P*Π_0*Π_3\n",
      "(-2.84432240502891, Π_3, Π_1, Π_4, P, Π_0, Π_3)\n",
      "-2.84432240502891*Π_3*Π_1*P*Π_4*Π_1*Π_3\n",
      "(-2.84432240502891, Π_3, Π_1, P, Π_4, Π_1, Π_3)\n",
      "-2.84432240502891*Π_3*Π_1*Π_4*Pd*Π_1*Π_3\n",
      "(-2.84432240502891, Π_3, Π_1, Π_4, Pd, Π_1, Π_3)\n",
      "-2.84432240502893*Π_2*Π_0*Pd*Π_2*Π_0*Π_2\n",
      "(-2.84432240502893, Π_2, Π_0, Pd, Π_2, Π_0, Π_2)\n",
      "-2.84432240502893*Π_2*Π_0*Π_2*P*Π_0*Π_2\n",
      "(-2.84432240502893, Π_2, Π_0, Π_2, P, Π_0, Π_2)\n",
      "No obvious issues.\n",
      "Done\n",
      "Adding constraints from the graph\n",
      "done\n",
      "Adding constraints from Quantum Mechanics\n",
      "Row of  1\n",
      "Adding a new constraint\n",
      "l1\n"
     ]
    },
    {
     "data": {
      "text/latex": [
       "$\\displaystyle 1$"
      ],
      "text/plain": [
       "1"
      ]
     },
     "metadata": {},
     "output_type": "display_data"
    },
    {
     "name": "stdout",
     "output_type": "stream",
     "text": [
      "l2\n"
     ]
    },
    {
     "data": {
      "text/latex": [
       "$\\displaystyle Π_{0}$"
      ],
      "text/plain": [
       "Π₀"
      ]
     },
     "metadata": {},
     "output_type": "display_data"
    },
    {
     "name": "stdout",
     "output_type": "stream",
     "text": [
      "l1_\n"
     ]
    },
    {
     "data": {
      "text/latex": [
       "$\\displaystyle 1$"
      ],
      "text/plain": [
       "1"
      ]
     },
     "metadata": {},
     "output_type": "display_data"
    },
    {
     "name": "stdout",
     "output_type": "stream",
     "text": [
      "l2_\n"
     ]
    },
    {
     "data": {
      "text/latex": [
       "$\\displaystyle Π_{0}$"
      ],
      "text/plain": [
       "Π₀"
      ]
     },
     "metadata": {},
     "output_type": "display_data"
    },
    {
     "name": "stdout",
     "output_type": "stream",
     "text": [
      "Adding a new constraint\n",
      "l1\n"
     ]
    },
    {
     "data": {
      "text/latex": [
       "$\\displaystyle 1$"
      ],
      "text/plain": [
       "1"
      ]
     },
     "metadata": {},
     "output_type": "display_data"
    },
    {
     "name": "stdout",
     "output_type": "stream",
     "text": [
      "l2\n"
     ]
    },
    {
     "data": {
      "text/latex": [
       "$\\displaystyle Π_{1}$"
      ],
      "text/plain": [
       "Π₁"
      ]
     },
     "metadata": {},
     "output_type": "display_data"
    },
    {
     "name": "stdout",
     "output_type": "stream",
     "text": [
      "l1_\n"
     ]
    },
    {
     "data": {
      "text/latex": [
       "$\\displaystyle 1$"
      ],
      "text/plain": [
       "1"
      ]
     },
     "metadata": {},
     "output_type": "display_data"
    },
    {
     "name": "stdout",
     "output_type": "stream",
     "text": [
      "l2_\n"
     ]
    },
    {
     "data": {
      "text/latex": [
       "$\\displaystyle Π_{1}$"
      ],
      "text/plain": [
       "Π₁"
      ]
     },
     "metadata": {},
     "output_type": "display_data"
    },
    {
     "name": "stdout",
     "output_type": "stream",
     "text": [
      "Adding a new constraint\n",
      "l1\n"
     ]
    },
    {
     "data": {
      "text/latex": [
       "$\\displaystyle 1$"
      ],
      "text/plain": [
       "1"
      ]
     },
     "metadata": {},
     "output_type": "display_data"
    },
    {
     "name": "stdout",
     "output_type": "stream",
     "text": [
      "l2\n"
     ]
    },
    {
     "data": {
      "text/latex": [
       "$\\displaystyle Π_{2}$"
      ],
      "text/plain": [
       "Π₂"
      ]
     },
     "metadata": {},
     "output_type": "display_data"
    },
    {
     "name": "stdout",
     "output_type": "stream",
     "text": [
      "l1_\n"
     ]
    },
    {
     "data": {
      "text/latex": [
       "$\\displaystyle 1$"
      ],
      "text/plain": [
       "1"
      ]
     },
     "metadata": {},
     "output_type": "display_data"
    },
    {
     "name": "stdout",
     "output_type": "stream",
     "text": [
      "l2_\n"
     ]
    },
    {
     "data": {
      "text/latex": [
       "$\\displaystyle Π_{2}$"
      ],
      "text/plain": [
       "Π₂"
      ]
     },
     "metadata": {},
     "output_type": "display_data"
    },
    {
     "name": "stdout",
     "output_type": "stream",
     "text": [
      "Adding a new constraint\n",
      "l1\n"
     ]
    },
    {
     "data": {
      "text/latex": [
       "$\\displaystyle 1$"
      ],
      "text/plain": [
       "1"
      ]
     },
     "metadata": {},
     "output_type": "display_data"
    },
    {
     "name": "stdout",
     "output_type": "stream",
     "text": [
      "l2\n"
     ]
    },
    {
     "data": {
      "text/latex": [
       "$\\displaystyle Π_{3}$"
      ],
      "text/plain": [
       "Π₃"
      ]
     },
     "metadata": {},
     "output_type": "display_data"
    },
    {
     "name": "stdout",
     "output_type": "stream",
     "text": [
      "l1_\n"
     ]
    },
    {
     "data": {
      "text/latex": [
       "$\\displaystyle 1$"
      ],
      "text/plain": [
       "1"
      ]
     },
     "metadata": {},
     "output_type": "display_data"
    },
    {
     "name": "stdout",
     "output_type": "stream",
     "text": [
      "l2_\n"
     ]
    },
    {
     "data": {
      "text/latex": [
       "$\\displaystyle Π_{3}$"
      ],
      "text/plain": [
       "Π₃"
      ]
     },
     "metadata": {},
     "output_type": "display_data"
    },
    {
     "name": "stdout",
     "output_type": "stream",
     "text": [
      "Adding a new constraint\n",
      "l1\n"
     ]
    },
    {
     "data": {
      "text/latex": [
       "$\\displaystyle 1$"
      ],
      "text/plain": [
       "1"
      ]
     },
     "metadata": {},
     "output_type": "display_data"
    },
    {
     "name": "stdout",
     "output_type": "stream",
     "text": [
      "l2\n"
     ]
    },
    {
     "data": {
      "text/latex": [
       "$\\displaystyle Π_{4}$"
      ],
      "text/plain": [
       "Π₄"
      ]
     },
     "metadata": {},
     "output_type": "display_data"
    },
    {
     "name": "stdout",
     "output_type": "stream",
     "text": [
      "l1_\n"
     ]
    },
    {
     "data": {
      "text/latex": [
       "$\\displaystyle 1$"
      ],
      "text/plain": [
       "1"
      ]
     },
     "metadata": {},
     "output_type": "display_data"
    },
    {
     "name": "stdout",
     "output_type": "stream",
     "text": [
      "l2_\n"
     ]
    },
    {
     "data": {
      "text/latex": [
       "$\\displaystyle Π_{4}$"
      ],
      "text/plain": [
       "Π₄"
      ]
     },
     "metadata": {},
     "output_type": "display_data"
    },
    {
     "name": "stdout",
     "output_type": "stream",
     "text": [
      "Adding a new constraint\n",
      "l1\n"
     ]
    },
    {
     "data": {
      "text/latex": [
       "$\\displaystyle 1$"
      ],
      "text/plain": [
       "1"
      ]
     },
     "metadata": {},
     "output_type": "display_data"
    },
    {
     "name": "stdout",
     "output_type": "stream",
     "text": [
      "l2\n"
     ]
    },
    {
     "data": {
      "text/latex": [
       "$\\displaystyle P$"
      ],
      "text/plain": [
       "P"
      ]
     },
     "metadata": {},
     "output_type": "display_data"
    },
    {
     "name": "stdout",
     "output_type": "stream",
     "text": [
      "l1_\n"
     ]
    },
    {
     "data": {
      "text/latex": [
       "$\\displaystyle 1$"
      ],
      "text/plain": [
       "1"
      ]
     },
     "metadata": {},
     "output_type": "display_data"
    },
    {
     "name": "stdout",
     "output_type": "stream",
     "text": [
      "l2_\n"
     ]
    },
    {
     "data": {
      "text/latex": [
       "$\\displaystyle P$"
      ],
      "text/plain": [
       "P"
      ]
     },
     "metadata": {},
     "output_type": "display_data"
    },
    {
     "name": "stdout",
     "output_type": "stream",
     "text": [
      "Adding a new constraint\n",
      "l1\n"
     ]
    },
    {
     "data": {
      "text/latex": [
       "$\\displaystyle 1$"
      ],
      "text/plain": [
       "1"
      ]
     },
     "metadata": {},
     "output_type": "display_data"
    },
    {
     "name": "stdout",
     "output_type": "stream",
     "text": [
      "l2\n"
     ]
    },
    {
     "data": {
      "text/latex": [
       "$\\displaystyle Pd$"
      ],
      "text/plain": [
       "Pd"
      ]
     },
     "metadata": {},
     "output_type": "display_data"
    },
    {
     "name": "stdout",
     "output_type": "stream",
     "text": [
      "l1_\n"
     ]
    },
    {
     "data": {
      "text/latex": [
       "$\\displaystyle 1$"
      ],
      "text/plain": [
       "1"
      ]
     },
     "metadata": {},
     "output_type": "display_data"
    },
    {
     "name": "stdout",
     "output_type": "stream",
     "text": [
      "l2_\n"
     ]
    },
    {
     "data": {
      "text/latex": [
       "$\\displaystyle Pd$"
      ],
      "text/plain": [
       "Pd"
      ]
     },
     "metadata": {},
     "output_type": "display_data"
    },
    {
     "name": "stdout",
     "output_type": "stream",
     "text": [
      "Row of  Π_0\n",
      "Adding a new constraint\n",
      "l1\n"
     ]
    },
    {
     "data": {
      "text/latex": [
       "$\\displaystyle Π_{0}$"
      ],
      "text/plain": [
       "Π₀"
      ]
     },
     "metadata": {},
     "output_type": "display_data"
    },
    {
     "name": "stdout",
     "output_type": "stream",
     "text": [
      "l2\n"
     ]
    },
    {
     "data": {
      "text/latex": [
       "$\\displaystyle Π_{0}$"
      ],
      "text/plain": [
       "Π₀"
      ]
     },
     "metadata": {},
     "output_type": "display_data"
    },
    {
     "name": "stdout",
     "output_type": "stream",
     "text": [
      "l1_\n"
     ]
    },
    {
     "data": {
      "text/latex": [
       "$\\displaystyle 1$"
      ],
      "text/plain": [
       "1"
      ]
     },
     "metadata": {},
     "output_type": "display_data"
    },
    {
     "name": "stdout",
     "output_type": "stream",
     "text": [
      "l2_\n"
     ]
    },
    {
     "data": {
      "text/latex": [
       "$\\displaystyle Π_{0}$"
      ],
      "text/plain": [
       "Π₀"
      ]
     },
     "metadata": {},
     "output_type": "display_data"
    },
    {
     "name": "stdout",
     "output_type": "stream",
     "text": [
      "Adding a new constraint\n",
      "l1\n"
     ]
    },
    {
     "data": {
      "text/latex": [
       "$\\displaystyle Π_{0}$"
      ],
      "text/plain": [
       "Π₀"
      ]
     },
     "metadata": {},
     "output_type": "display_data"
    },
    {
     "name": "stdout",
     "output_type": "stream",
     "text": [
      "l2\n"
     ]
    },
    {
     "data": {
      "text/latex": [
       "$\\displaystyle Π_{2}$"
      ],
      "text/plain": [
       "Π₂"
      ]
     },
     "metadata": {},
     "output_type": "display_data"
    },
    {
     "name": "stdout",
     "output_type": "stream",
     "text": [
      "l1_\n"
     ]
    },
    {
     "data": {
      "text/latex": [
       "$\\displaystyle 1$"
      ],
      "text/plain": [
       "1"
      ]
     },
     "metadata": {},
     "output_type": "display_data"
    },
    {
     "name": "stdout",
     "output_type": "stream",
     "text": [
      "l2_\n"
     ]
    },
    {
     "data": {
      "text/latex": [
       "$\\displaystyle Π_{0} Π_{2}$"
      ],
      "text/plain": [
       "Π₀⋅Π₂"
      ]
     },
     "metadata": {},
     "output_type": "display_data"
    },
    {
     "name": "stdout",
     "output_type": "stream",
     "text": [
      "Row of  Π_1\n",
      "Adding a new constraint\n",
      "l1\n"
     ]
    },
    {
     "data": {
      "text/latex": [
       "$\\displaystyle Π_{1}$"
      ],
      "text/plain": [
       "Π₁"
      ]
     },
     "metadata": {},
     "output_type": "display_data"
    },
    {
     "name": "stdout",
     "output_type": "stream",
     "text": [
      "l2\n"
     ]
    },
    {
     "data": {
      "text/latex": [
       "$\\displaystyle Π_{1} Pd Π_{0}$"
      ],
      "text/plain": [
       "Π₁⋅Pd⋅Π₀"
      ]
     },
     "metadata": {},
     "output_type": "display_data"
    },
    {
     "name": "stdout",
     "output_type": "stream",
     "text": [
      "l1_\n"
     ]
    },
    {
     "data": {
      "text/latex": [
       "$\\displaystyle 1$"
      ],
      "text/plain": [
       "1"
      ]
     },
     "metadata": {},
     "output_type": "display_data"
    },
    {
     "name": "stdout",
     "output_type": "stream",
     "text": [
      "l2_\n"
     ]
    },
    {
     "data": {
      "text/latex": [
       "$\\displaystyle Π_{1} Pd Π_{0}$"
      ],
      "text/plain": [
       "Π₁⋅Pd⋅Π₀"
      ]
     },
     "metadata": {},
     "output_type": "display_data"
    },
    {
     "name": "stdout",
     "output_type": "stream",
     "text": [
      "Adding a new constraint\n",
      "l1\n"
     ]
    },
    {
     "data": {
      "text/latex": [
       "$\\displaystyle Π_{1}$"
      ],
      "text/plain": [
       "Π₁"
      ]
     },
     "metadata": {},
     "output_type": "display_data"
    },
    {
     "name": "stdout",
     "output_type": "stream",
     "text": [
      "l2\n"
     ]
    },
    {
     "data": {
      "text/latex": [
       "$\\displaystyle Π_{1} Π_{3} Π_{1}$"
      ],
      "text/plain": [
       "Π₁⋅Π₃⋅Π₁"
      ]
     },
     "metadata": {},
     "output_type": "display_data"
    },
    {
     "name": "stdout",
     "output_type": "stream",
     "text": [
      "l1_\n"
     ]
    },
    {
     "data": {
      "text/latex": [
       "$\\displaystyle 1$"
      ],
      "text/plain": [
       "1"
      ]
     },
     "metadata": {},
     "output_type": "display_data"
    },
    {
     "name": "stdout",
     "output_type": "stream",
     "text": [
      "l2_\n"
     ]
    },
    {
     "data": {
      "text/latex": [
       "$\\displaystyle Π_{1} Π_{3} Π_{1}$"
      ],
      "text/plain": [
       "Π₁⋅Π₃⋅Π₁"
      ]
     },
     "metadata": {},
     "output_type": "display_data"
    },
    {
     "name": "stdout",
     "output_type": "stream",
     "text": [
      "Adding a new constraint\n",
      "l1\n"
     ]
    },
    {
     "data": {
      "text/latex": [
       "$\\displaystyle Π_{1}$"
      ],
      "text/plain": [
       "Π₁"
      ]
     },
     "metadata": {},
     "output_type": "display_data"
    },
    {
     "name": "stdout",
     "output_type": "stream",
     "text": [
      "l2\n"
     ]
    },
    {
     "data": {
      "text/latex": [
       "$\\displaystyle Π_{1} Π_{4} Π_{1}$"
      ],
      "text/plain": [
       "Π₁⋅Π₄⋅Π₁"
      ]
     },
     "metadata": {},
     "output_type": "display_data"
    },
    {
     "name": "stdout",
     "output_type": "stream",
     "text": [
      "l1_\n"
     ]
    },
    {
     "data": {
      "text/latex": [
       "$\\displaystyle 1$"
      ],
      "text/plain": [
       "1"
      ]
     },
     "metadata": {},
     "output_type": "display_data"
    },
    {
     "name": "stdout",
     "output_type": "stream",
     "text": [
      "l2_\n"
     ]
    },
    {
     "data": {
      "text/latex": [
       "$\\displaystyle Π_{1} Π_{4} Π_{1}$"
      ],
      "text/plain": [
       "Π₁⋅Π₄⋅Π₁"
      ]
     },
     "metadata": {},
     "output_type": "display_data"
    },
    {
     "name": "stdout",
     "output_type": "stream",
     "text": [
      "Adding a new constraint\n",
      "l1\n"
     ]
    },
    {
     "data": {
      "text/latex": [
       "$\\displaystyle Π_{1}$"
      ],
      "text/plain": [
       "Π₁"
      ]
     },
     "metadata": {},
     "output_type": "display_data"
    },
    {
     "name": "stdout",
     "output_type": "stream",
     "text": [
      "l2\n"
     ]
    },
    {
     "data": {
      "text/latex": [
       "$\\displaystyle Π_{1} P Π_{1}$"
      ],
      "text/plain": [
       "Π₁⋅P⋅Π₁"
      ]
     },
     "metadata": {},
     "output_type": "display_data"
    },
    {
     "name": "stdout",
     "output_type": "stream",
     "text": [
      "l1_\n"
     ]
    },
    {
     "data": {
      "text/latex": [
       "$\\displaystyle 1$"
      ],
      "text/plain": [
       "1"
      ]
     },
     "metadata": {},
     "output_type": "display_data"
    },
    {
     "name": "stdout",
     "output_type": "stream",
     "text": [
      "l2_\n"
     ]
    },
    {
     "data": {
      "text/latex": [
       "$\\displaystyle Π_{1} P Π_{1}$"
      ],
      "text/plain": [
       "Π₁⋅P⋅Π₁"
      ]
     },
     "metadata": {},
     "output_type": "display_data"
    },
    {
     "name": "stdout",
     "output_type": "stream",
     "text": [
      "Adding a new constraint\n",
      "l1\n"
     ]
    },
    {
     "data": {
      "text/latex": [
       "$\\displaystyle Π_{1}$"
      ],
      "text/plain": [
       "Π₁"
      ]
     },
     "metadata": {},
     "output_type": "display_data"
    },
    {
     "name": "stdout",
     "output_type": "stream",
     "text": [
      "l2\n"
     ]
    },
    {
     "data": {
      "text/latex": [
       "$\\displaystyle Π_{1} Pd Π_{1}$"
      ],
      "text/plain": [
       "Π₁⋅Pd⋅Π₁"
      ]
     },
     "metadata": {},
     "output_type": "display_data"
    },
    {
     "name": "stdout",
     "output_type": "stream",
     "text": [
      "l1_\n"
     ]
    },
    {
     "data": {
      "text/latex": [
       "$\\displaystyle 1$"
      ],
      "text/plain": [
       "1"
      ]
     },
     "metadata": {},
     "output_type": "display_data"
    },
    {
     "name": "stdout",
     "output_type": "stream",
     "text": [
      "l2_\n"
     ]
    },
    {
     "data": {
      "text/latex": [
       "$\\displaystyle Π_{1} Pd Π_{1}$"
      ],
      "text/plain": [
       "Π₁⋅Pd⋅Π₁"
      ]
     },
     "metadata": {},
     "output_type": "display_data"
    },
    {
     "name": "stdout",
     "output_type": "stream",
     "text": [
      "Adding a new constraint\n",
      "l1\n"
     ]
    },
    {
     "data": {
      "text/latex": [
       "$\\displaystyle Π_{1}$"
      ],
      "text/plain": [
       "Π₁"
      ]
     },
     "metadata": {},
     "output_type": "display_data"
    },
    {
     "name": "stdout",
     "output_type": "stream",
     "text": [
      "l2\n"
     ]
    },
    {
     "data": {
      "text/latex": [
       "$\\displaystyle Π_{1} Π_{4} Π_{2}$"
      ],
      "text/plain": [
       "Π₁⋅Π₄⋅Π₂"
      ]
     },
     "metadata": {},
     "output_type": "display_data"
    },
    {
     "name": "stdout",
     "output_type": "stream",
     "text": [
      "l1_\n"
     ]
    },
    {
     "data": {
      "text/latex": [
       "$\\displaystyle 1$"
      ],
      "text/plain": [
       "1"
      ]
     },
     "metadata": {},
     "output_type": "display_data"
    },
    {
     "name": "stdout",
     "output_type": "stream",
     "text": [
      "l2_\n"
     ]
    },
    {
     "data": {
      "text/latex": [
       "$\\displaystyle Π_{1} Π_{4} Π_{2}$"
      ],
      "text/plain": [
       "Π₁⋅Π₄⋅Π₂"
      ]
     },
     "metadata": {},
     "output_type": "display_data"
    },
    {
     "name": "stdout",
     "output_type": "stream",
     "text": [
      "Adding a new constraint\n",
      "l1\n"
     ]
    },
    {
     "data": {
      "text/latex": [
       "$\\displaystyle Π_{1}$"
      ],
      "text/plain": [
       "Π₁"
      ]
     },
     "metadata": {},
     "output_type": "display_data"
    },
    {
     "name": "stdout",
     "output_type": "stream",
     "text": [
      "l2\n"
     ]
    },
    {
     "data": {
      "text/latex": [
       "$\\displaystyle Π_{1} P Π_{2}$"
      ],
      "text/plain": [
       "Π₁⋅P⋅Π₂"
      ]
     },
     "metadata": {},
     "output_type": "display_data"
    },
    {
     "name": "stdout",
     "output_type": "stream",
     "text": [
      "l1_\n"
     ]
    },
    {
     "data": {
      "text/latex": [
       "$\\displaystyle 1$"
      ],
      "text/plain": [
       "1"
      ]
     },
     "metadata": {},
     "output_type": "display_data"
    },
    {
     "name": "stdout",
     "output_type": "stream",
     "text": [
      "l2_\n"
     ]
    },
    {
     "data": {
      "text/latex": [
       "$\\displaystyle Π_{1} P Π_{2}$"
      ],
      "text/plain": [
       "Π₁⋅P⋅Π₂"
      ]
     },
     "metadata": {},
     "output_type": "display_data"
    },
    {
     "name": "stdout",
     "output_type": "stream",
     "text": [
      "Adding a new constraint\n",
      "l1\n"
     ]
    },
    {
     "data": {
      "text/latex": [
       "$\\displaystyle Π_{1}$"
      ],
      "text/plain": [
       "Π₁"
      ]
     },
     "metadata": {},
     "output_type": "display_data"
    },
    {
     "name": "stdout",
     "output_type": "stream",
     "text": [
      "l2\n"
     ]
    },
    {
     "data": {
      "text/latex": [
       "$\\displaystyle Π_{1} Pd Π_{2}$"
      ],
      "text/plain": [
       "Π₁⋅Pd⋅Π₂"
      ]
     },
     "metadata": {},
     "output_type": "display_data"
    },
    {
     "name": "stdout",
     "output_type": "stream",
     "text": [
      "l1_\n"
     ]
    },
    {
     "data": {
      "text/latex": [
       "$\\displaystyle 1$"
      ],
      "text/plain": [
       "1"
      ]
     },
     "metadata": {},
     "output_type": "display_data"
    },
    {
     "name": "stdout",
     "output_type": "stream",
     "text": [
      "l2_\n"
     ]
    },
    {
     "data": {
      "text/latex": [
       "$\\displaystyle Π_{1} Pd Π_{2}$"
      ],
      "text/plain": [
       "Π₁⋅Pd⋅Π₂"
      ]
     },
     "metadata": {},
     "output_type": "display_data"
    },
    {
     "name": "stdout",
     "output_type": "stream",
     "text": [
      "Adding a new constraint\n",
      "l1\n"
     ]
    },
    {
     "data": {
      "text/latex": [
       "$\\displaystyle Π_{1}$"
      ],
      "text/plain": [
       "Π₁"
      ]
     },
     "metadata": {},
     "output_type": "display_data"
    },
    {
     "name": "stdout",
     "output_type": "stream",
     "text": [
      "l2\n"
     ]
    },
    {
     "data": {
      "text/latex": [
       "$\\displaystyle Π_{1} P Π_{3}$"
      ],
      "text/plain": [
       "Π₁⋅P⋅Π₃"
      ]
     },
     "metadata": {},
     "output_type": "display_data"
    },
    {
     "name": "stdout",
     "output_type": "stream",
     "text": [
      "l1_\n"
     ]
    },
    {
     "data": {
      "text/latex": [
       "$\\displaystyle 1$"
      ],
      "text/plain": [
       "1"
      ]
     },
     "metadata": {},
     "output_type": "display_data"
    },
    {
     "name": "stdout",
     "output_type": "stream",
     "text": [
      "l2_\n"
     ]
    },
    {
     "data": {
      "text/latex": [
       "$\\displaystyle Π_{1} P Π_{3}$"
      ],
      "text/plain": [
       "Π₁⋅P⋅Π₃"
      ]
     },
     "metadata": {},
     "output_type": "display_data"
    },
    {
     "name": "stdout",
     "output_type": "stream",
     "text": [
      "Row of  Π_2\n",
      "Row of  Π_3\n",
      "Row of  Π_4\n",
      "Row of  P\n",
      "Row of  Pd\n",
      "Row of  Π_0\n",
      "Row of  Π_2*Π_0\n",
      "Row of  Π_3*Π_0\n",
      "Row of  P*Π_0\n",
      "Row of  Pd*Π_0\n",
      "Row of  Π_1\n",
      "Row of  Π_3*Π_1\n",
      "Adding a new constraint\n",
      "l1\n"
     ]
    },
    {
     "data": {
      "text/latex": [
       "$\\displaystyle Π_{3} Π_{1}$"
      ],
      "text/plain": [
       "Π₃⋅Π₁"
      ]
     },
     "metadata": {},
     "output_type": "display_data"
    },
    {
     "name": "stdout",
     "output_type": "stream",
     "text": [
      "l2\n"
     ]
    },
    {
     "data": {
      "text/latex": [
       "$\\displaystyle Pd Π_{4}$"
      ],
      "text/plain": [
       "Pd⋅Π₄"
      ]
     },
     "metadata": {},
     "output_type": "display_data"
    },
    {
     "name": "stdout",
     "output_type": "stream",
     "text": [
      "l1_\n"
     ]
    },
    {
     "data": {
      "text/latex": [
       "$\\displaystyle Π_{3}$"
      ],
      "text/plain": [
       "Π₃"
      ]
     },
     "metadata": {},
     "output_type": "display_data"
    },
    {
     "name": "stdout",
     "output_type": "stream",
     "text": [
      "l2_\n"
     ]
    },
    {
     "data": {
      "text/latex": [
       "$\\displaystyle Π_{1} Pd Π_{4}$"
      ],
      "text/plain": [
       "Π₁⋅Pd⋅Π₄"
      ]
     },
     "metadata": {},
     "output_type": "display_data"
    },
    {
     "name": "stdout",
     "output_type": "stream",
     "text": [
      "Adding a new constraint\n",
      "l1\n"
     ]
    },
    {
     "data": {
      "text/latex": [
       "$\\displaystyle Π_{3} Π_{1}$"
      ],
      "text/plain": [
       "Π₃⋅Π₁"
      ]
     },
     "metadata": {},
     "output_type": "display_data"
    },
    {
     "name": "stdout",
     "output_type": "stream",
     "text": [
      "l2\n"
     ]
    },
    {
     "data": {
      "text/latex": [
       "$\\displaystyle Π_{1} P$"
      ],
      "text/plain": [
       "Π₁⋅P"
      ]
     },
     "metadata": {},
     "output_type": "display_data"
    },
    {
     "name": "stdout",
     "output_type": "stream",
     "text": [
      "l1_\n"
     ]
    },
    {
     "data": {
      "text/latex": [
       "$\\displaystyle 1$"
      ],
      "text/plain": [
       "1"
      ]
     },
     "metadata": {},
     "output_type": "display_data"
    },
    {
     "name": "stdout",
     "output_type": "stream",
     "text": [
      "l2_\n"
     ]
    },
    {
     "data": {
      "text/latex": [
       "$\\displaystyle Π_{3} Π_{1} P$"
      ],
      "text/plain": [
       "Π₃⋅Π₁⋅P"
      ]
     },
     "metadata": {},
     "output_type": "display_data"
    },
    {
     "name": "stdout",
     "output_type": "stream",
     "text": [
      "Adding a new constraint\n",
      "l1\n"
     ]
    },
    {
     "data": {
      "text/latex": [
       "$\\displaystyle Π_{3} Π_{1}$"
      ],
      "text/plain": [
       "Π₃⋅Π₁"
      ]
     },
     "metadata": {},
     "output_type": "display_data"
    },
    {
     "name": "stdout",
     "output_type": "stream",
     "text": [
      "l2\n"
     ]
    },
    {
     "data": {
      "text/latex": [
       "$\\displaystyle Π_{3} P$"
      ],
      "text/plain": [
       "Π₃⋅P"
      ]
     },
     "metadata": {},
     "output_type": "display_data"
    },
    {
     "name": "stdout",
     "output_type": "stream",
     "text": [
      "l1_\n"
     ]
    },
    {
     "data": {
      "text/latex": [
       "$\\displaystyle Π_{3}$"
      ],
      "text/plain": [
       "Π₃"
      ]
     },
     "metadata": {},
     "output_type": "display_data"
    },
    {
     "name": "stdout",
     "output_type": "stream",
     "text": [
      "l2_\n"
     ]
    },
    {
     "data": {
      "text/latex": [
       "$\\displaystyle Π_{1} Π_{3} P$"
      ],
      "text/plain": [
       "Π₁⋅Π₃⋅P"
      ]
     },
     "metadata": {},
     "output_type": "display_data"
    },
    {
     "name": "stdout",
     "output_type": "stream",
     "text": [
      "Adding a new constraint\n",
      "l1\n"
     ]
    },
    {
     "data": {
      "text/latex": [
       "$\\displaystyle Π_{3} Π_{1}$"
      ],
      "text/plain": [
       "Π₃⋅Π₁"
      ]
     },
     "metadata": {},
     "output_type": "display_data"
    },
    {
     "name": "stdout",
     "output_type": "stream",
     "text": [
      "l2\n"
     ]
    },
    {
     "data": {
      "text/latex": [
       "$\\displaystyle Π_{4} P$"
      ],
      "text/plain": [
       "Π₄⋅P"
      ]
     },
     "metadata": {},
     "output_type": "display_data"
    },
    {
     "name": "stdout",
     "output_type": "stream",
     "text": [
      "l1_\n"
     ]
    },
    {
     "data": {
      "text/latex": [
       "$\\displaystyle Π_{3}$"
      ],
      "text/plain": [
       "Π₃"
      ]
     },
     "metadata": {},
     "output_type": "display_data"
    },
    {
     "name": "stdout",
     "output_type": "stream",
     "text": [
      "l2_\n"
     ]
    },
    {
     "data": {
      "text/latex": [
       "$\\displaystyle Π_{1} Π_{4} P$"
      ],
      "text/plain": [
       "Π₁⋅Π₄⋅P"
      ]
     },
     "metadata": {},
     "output_type": "display_data"
    },
    {
     "name": "stdout",
     "output_type": "stream",
     "text": [
      "Adding a new constraint\n",
      "l1\n"
     ]
    },
    {
     "data": {
      "text/latex": [
       "$\\displaystyle Π_{3} Π_{1}$"
      ],
      "text/plain": [
       "Π₃⋅Π₁"
      ]
     },
     "metadata": {},
     "output_type": "display_data"
    },
    {
     "name": "stdout",
     "output_type": "stream",
     "text": [
      "l2\n"
     ]
    },
    {
     "data": {
      "text/latex": [
       "$\\displaystyle P^{2}$"
      ],
      "text/plain": [
       " 2\n",
       "P "
      ]
     },
     "metadata": {},
     "output_type": "display_data"
    },
    {
     "name": "stdout",
     "output_type": "stream",
     "text": [
      "l1_\n"
     ]
    },
    {
     "data": {
      "text/latex": [
       "$\\displaystyle Π_{3}$"
      ],
      "text/plain": [
       "Π₃"
      ]
     },
     "metadata": {},
     "output_type": "display_data"
    },
    {
     "name": "stdout",
     "output_type": "stream",
     "text": [
      "l2_\n"
     ]
    },
    {
     "data": {
      "text/latex": [
       "$\\displaystyle Π_{1} P^{2}$"
      ],
      "text/plain": [
       "    2\n",
       "Π₁⋅P "
      ]
     },
     "metadata": {},
     "output_type": "display_data"
    },
    {
     "name": "stdout",
     "output_type": "stream",
     "text": [
      "Adding a new constraint\n",
      "l1\n"
     ]
    },
    {
     "data": {
      "text/latex": [
       "$\\displaystyle Π_{3} Π_{1}$"
      ],
      "text/plain": [
       "Π₃⋅Π₁"
      ]
     },
     "metadata": {},
     "output_type": "display_data"
    },
    {
     "name": "stdout",
     "output_type": "stream",
     "text": [
      "l2\n"
     ]
    },
    {
     "data": {
      "text/latex": [
       "$\\displaystyle 1$"
      ],
      "text/plain": [
       "1"
      ]
     },
     "metadata": {},
     "output_type": "display_data"
    },
    {
     "name": "stdout",
     "output_type": "stream",
     "text": [
      "l1_\n"
     ]
    },
    {
     "data": {
      "text/latex": [
       "$\\displaystyle 1$"
      ],
      "text/plain": [
       "1"
      ]
     },
     "metadata": {},
     "output_type": "display_data"
    },
    {
     "name": "stdout",
     "output_type": "stream",
     "text": [
      "l2_\n"
     ]
    },
    {
     "data": {
      "text/latex": [
       "$\\displaystyle Π_{3} Π_{1}$"
      ],
      "text/plain": [
       "Π₃⋅Π₁"
      ]
     },
     "metadata": {},
     "output_type": "display_data"
    },
    {
     "name": "stdout",
     "output_type": "stream",
     "text": [
      "Adding a new constraint\n",
      "l1\n"
     ]
    },
    {
     "data": {
      "text/latex": [
       "$\\displaystyle Π_{3} Π_{1}$"
      ],
      "text/plain": [
       "Π₃⋅Π₁"
      ]
     },
     "metadata": {},
     "output_type": "display_data"
    },
    {
     "name": "stdout",
     "output_type": "stream",
     "text": [
      "l2\n"
     ]
    },
    {
     "data": {
      "text/latex": [
       "$\\displaystyle Π_{1} Pd$"
      ],
      "text/plain": [
       "Π₁⋅Pd"
      ]
     },
     "metadata": {},
     "output_type": "display_data"
    },
    {
     "name": "stdout",
     "output_type": "stream",
     "text": [
      "l1_\n"
     ]
    },
    {
     "data": {
      "text/latex": [
       "$\\displaystyle 1$"
      ],
      "text/plain": [
       "1"
      ]
     },
     "metadata": {},
     "output_type": "display_data"
    },
    {
     "name": "stdout",
     "output_type": "stream",
     "text": [
      "l2_\n"
     ]
    },
    {
     "data": {
      "text/latex": [
       "$\\displaystyle Π_{3} Π_{1} Pd$"
      ],
      "text/plain": [
       "Π₃⋅Π₁⋅Pd"
      ]
     },
     "metadata": {},
     "output_type": "display_data"
    },
    {
     "name": "stdout",
     "output_type": "stream",
     "text": [
      "Adding a new constraint\n",
      "l1\n"
     ]
    },
    {
     "data": {
      "text/latex": [
       "$\\displaystyle Π_{3} Π_{1}$"
      ],
      "text/plain": [
       "Π₃⋅Π₁"
      ]
     },
     "metadata": {},
     "output_type": "display_data"
    },
    {
     "name": "stdout",
     "output_type": "stream",
     "text": [
      "l2\n"
     ]
    },
    {
     "data": {
      "text/latex": [
       "$\\displaystyle Π_{3} Pd$"
      ],
      "text/plain": [
       "Π₃⋅Pd"
      ]
     },
     "metadata": {},
     "output_type": "display_data"
    },
    {
     "name": "stdout",
     "output_type": "stream",
     "text": [
      "l1_\n"
     ]
    },
    {
     "data": {
      "text/latex": [
       "$\\displaystyle Π_{3}$"
      ],
      "text/plain": [
       "Π₃"
      ]
     },
     "metadata": {},
     "output_type": "display_data"
    },
    {
     "name": "stdout",
     "output_type": "stream",
     "text": [
      "l2_\n"
     ]
    },
    {
     "data": {
      "text/latex": [
       "$\\displaystyle Π_{1} Π_{3} Pd$"
      ],
      "text/plain": [
       "Π₁⋅Π₃⋅Pd"
      ]
     },
     "metadata": {},
     "output_type": "display_data"
    },
    {
     "name": "stdout",
     "output_type": "stream",
     "text": [
      "Adding a new constraint\n",
      "l1\n"
     ]
    },
    {
     "data": {
      "text/latex": [
       "$\\displaystyle Π_{3} Π_{1}$"
      ],
      "text/plain": [
       "Π₃⋅Π₁"
      ]
     },
     "metadata": {},
     "output_type": "display_data"
    },
    {
     "name": "stdout",
     "output_type": "stream",
     "text": [
      "l2\n"
     ]
    },
    {
     "data": {
      "text/latex": [
       "$\\displaystyle Π_{4} Pd$"
      ],
      "text/plain": [
       "Π₄⋅Pd"
      ]
     },
     "metadata": {},
     "output_type": "display_data"
    },
    {
     "name": "stdout",
     "output_type": "stream",
     "text": [
      "l1_\n"
     ]
    },
    {
     "data": {
      "text/latex": [
       "$\\displaystyle Π_{3}$"
      ],
      "text/plain": [
       "Π₃"
      ]
     },
     "metadata": {},
     "output_type": "display_data"
    },
    {
     "name": "stdout",
     "output_type": "stream",
     "text": [
      "l2_\n"
     ]
    },
    {
     "data": {
      "text/latex": [
       "$\\displaystyle Π_{1} Π_{4} Pd$"
      ],
      "text/plain": [
       "Π₁⋅Π₄⋅Pd"
      ]
     },
     "metadata": {},
     "output_type": "display_data"
    },
    {
     "name": "stdout",
     "output_type": "stream",
     "text": [
      "Row of  Π_4*Π_1\n",
      "Row of  P*Π_1\n",
      "Row of  Pd*Π_1\n",
      "Row of  Π_0*Π_2\n",
      "Row of  Π_2\n",
      "Row of  Π_4*Π_2\n",
      "Row of  P*Π_2\n",
      "Row of  Pd*Π_2\n",
      "Row of  Π_0*Π_3\n",
      "Row of  Π_1*Π_3\n",
      "Row of  Π_3\n",
      "Row of  P*Π_3\n",
      "Row of  Pd*Π_3\n",
      "Row of  Π_1*Π_4\n",
      "Row of  Π_2*Π_4\n",
      "Row of  Π_4\n",
      "Row of  P*Π_4\n",
      "Row of  Pd*Π_4\n",
      "Row of  Π_0*P\n",
      "Row of  Π_1*P\n",
      "Row of  Π_2*P\n",
      "Row of  Π_3*P\n",
      "Row of  Π_4*P\n",
      "Row of  P**2\n",
      "Row of  1\n",
      "Row of  Π_0*Pd\n",
      "Row of  Π_1*Pd\n",
      "Row of  Π_2*Pd\n",
      "Row of  Π_3*Pd\n",
      "Row of  Π_4*Pd\n",
      "Row of  Pd**2\n",
      "Row of  Π_0*Π_2*Π_0\n",
      "Row of  Π_4*Π_2*Π_0\n",
      "Row of  P*Π_2*Π_0\n",
      "Row of  Pd*Π_2*Π_0\n",
      "Row of  Π_0*Π_3*Π_0\n",
      "Row of  Π_1*Π_3*Π_0\n",
      "Row of  P*Π_3*Π_0\n",
      "Row of  Pd*Π_3*Π_0\n",
      "Row of  Π_0*P*Π_0\n",
      "Row of  Π_1*P*Π_0\n",
      "Row of  Π_2*P*Π_0\n",
      "Row of  Π_3*P*Π_0\n",
      "Row of  Π_4*P*Π_0\n",
      "Row of  P**2*Π_0\n",
      "Row of  Π_0*Pd*Π_0\n",
      "Row of  Π_1*Pd*Π_0\n",
      "Row of  Π_2*Pd*Π_0\n",
      "Row of  Π_3*Pd*Π_0\n",
      "Row of  Π_4*Pd*Π_0\n",
      "Row of  Pd**2*Π_0\n",
      "Row of  Π_0*Π_3*Π_1\n",
      "Row of  Π_1*Π_3*Π_1\n",
      "Row of  P*Π_3*Π_1\n",
      "Row of  Pd*Π_3*Π_1\n",
      "Row of  Π_1*Π_4*Π_1\n",
      "Row of  Π_2*Π_4*Π_1\n",
      "Row of  P*Π_4*Π_1\n",
      "Row of  Pd*Π_4*Π_1\n",
      "Row of  Π_0*P*Π_1\n",
      "Row of  Π_1*P*Π_1\n",
      "Row of  Π_2*P*Π_1\n",
      "Row of  Π_3*P*Π_1\n",
      "Row of  Π_4*P*Π_1\n",
      "Row of  P**2*Π_1\n",
      "Row of  Π_0*Pd*Π_1\n",
      "Row of  Π_1*Pd*Π_1\n",
      "Row of  Π_2*Pd*Π_1\n",
      "Row of  Π_3*Pd*Π_1\n",
      "Row of  Π_4*Pd*Π_1\n",
      "Row of  Pd**2*Π_1\n",
      "Row of  Π_2*Π_0*Π_2\n",
      "Row of  Π_3*Π_0*Π_2\n",
      "Row of  P*Π_0*Π_2\n",
      "Row of  Pd*Π_0*Π_2\n",
      "Row of  Π_1*Π_4*Π_2\n",
      "Row of  Π_2*Π_4*Π_2\n",
      "Row of  P*Π_4*Π_2\n",
      "Row of  Pd*Π_4*Π_2\n",
      "Row of  Π_0*P*Π_2\n",
      "Row of  Π_1*P*Π_2\n",
      "Row of  Π_2*P*Π_2\n",
      "Row of  Π_3*P*Π_2\n",
      "Row of  Π_4*P*Π_2\n",
      "Row of  P**2*Π_2\n",
      "Row of  Π_0*Pd*Π_2\n",
      "Row of  Π_1*Pd*Π_2\n",
      "Row of  Π_2*Pd*Π_2\n",
      "Row of  Π_3*Pd*Π_2\n",
      "Row of  Π_4*Pd*Π_2\n",
      "Row of  Pd**2*Π_2\n",
      "Row of  Π_2*Π_0*Π_3\n",
      "Row of  Π_3*Π_0*Π_3\n",
      "Row of  P*Π_0*Π_3\n",
      "Row of  Pd*Π_0*Π_3\n",
      "Row of  Π_3*Π_1*Π_3\n",
      "Row of  Π_4*Π_1*Π_3\n",
      "Row of  P*Π_1*Π_3\n",
      "Row of  Pd*Π_1*Π_3\n",
      "Row of  Π_0*P*Π_3\n",
      "Row of  Π_1*P*Π_3\n",
      "Row of  Π_2*P*Π_3\n",
      "Row of  Π_3*P*Π_3\n",
      "Row of  Π_4*P*Π_3\n",
      "Row of  P**2*Π_3\n",
      "Row of  Π_0*Pd*Π_3\n",
      "Row of  Π_1*Pd*Π_3\n",
      "Row of  Π_2*Pd*Π_3\n",
      "Row of  Π_3*Pd*Π_3\n",
      "Row of  Π_4*Pd*Π_3\n",
      "Row of  Pd**2*Π_3\n",
      "Row of  Π_3*Π_1*Π_4\n",
      "Row of  Π_4*Π_1*Π_4\n",
      "Row of  P*Π_1*Π_4\n",
      "Row of  Pd*Π_1*Π_4\n",
      "Row of  Π_0*Π_2*Π_4\n",
      "Row of  Π_4*Π_2*Π_4\n",
      "Row of  P*Π_2*Π_4\n",
      "Row of  Pd*Π_2*Π_4\n",
      "Row of  Π_0*P*Π_4\n",
      "Row of  Π_1*P*Π_4\n",
      "Row of  Π_2*P*Π_4\n",
      "Row of  Π_3*P*Π_4\n",
      "Row of  Π_4*P*Π_4\n",
      "Row of  P**2*Π_4\n",
      "Row of  Π_0*Pd*Π_4\n",
      "Row of  Π_1*Pd*Π_4\n",
      "Row of  Π_2*Pd*Π_4\n",
      "Row of  Π_3*Pd*Π_4\n",
      "Row of  Π_4*Pd*Π_4\n",
      "Row of  Pd**2*Π_4\n",
      "Row of  Π_2*Π_0*P\n",
      "Row of  Π_3*Π_0*P\n",
      "Row of  P*Π_0*P\n",
      "Row of  Pd*Π_0*P\n",
      "Row of  Π_3*Π_1*P\n",
      "Row of  Π_4*Π_1*P\n",
      "Row of  P*Π_1*P\n",
      "Row of  Pd*Π_1*P\n",
      "Row of  Π_0*Π_2*P\n",
      "Row of  Π_4*Π_2*P\n",
      "Row of  P*Π_2*P\n",
      "Row of  Pd*Π_2*P\n",
      "Row of  Π_0*Π_3*P\n",
      "Row of  Π_1*Π_3*P\n",
      "Row of  P*Π_3*P\n",
      "Row of  Pd*Π_3*P\n",
      "Row of  Π_1*Π_4*P\n",
      "Row of  Π_2*Π_4*P\n",
      "Row of  P*Π_4*P\n",
      "Row of  Pd*Π_4*P\n",
      "Row of  Π_0*P**2\n",
      "Row of  Π_1*P**2\n",
      "Row of  Π_2*P**2\n",
      "Row of  Π_3*P**2\n",
      "Row of  Π_4*P**2\n",
      "Row of  P**3\n",
      "Row of  P\n",
      "Row of  Pd\n",
      "Row of  Π_2*Π_0*Pd\n",
      "Row of  Π_3*Π_0*Pd\n",
      "Row of  P*Π_0*Pd\n",
      "Row of  Pd*Π_0*Pd\n",
      "Row of  Π_3*Π_1*Pd\n",
      "Row of  Π_4*Π_1*Pd\n",
      "Row of  P*Π_1*Pd\n",
      "Row of  Pd*Π_1*Pd\n",
      "Row of  Π_0*Π_2*Pd\n",
      "Row of  Π_4*Π_2*Pd\n",
      "Row of  P*Π_2*Pd\n",
      "Row of  Pd*Π_2*Pd\n",
      "Row of  Π_0*Π_3*Pd\n",
      "Row of  Π_1*Π_3*Pd\n",
      "Row of  P*Π_3*Pd\n",
      "Row of  Pd*Π_3*Pd\n",
      "Row of  Π_1*Π_4*Pd\n",
      "Row of  Π_2*Π_4*Pd\n",
      "Row of  P*Π_4*Pd\n",
      "Row of  Pd*Π_4*Pd\n",
      "Row of  Π_0*Pd**2\n",
      "Row of  Π_1*Pd**2\n",
      "Row of  Π_2*Pd**2\n",
      "Row of  Π_3*Pd**2\n",
      "Row of  Π_4*Pd**2\n",
      "Row of  Pd**3\n",
      "done\n",
      "Constraints 8787\n",
      "SDP var0[0, 0:200]\n",
      "Saved to disk\n"
     ]
    }
   ],
   "source": [
    "ForceCalc=False\n",
    "fileName=\"lSave_3\"\n",
    "\n",
    "flags=[\"issues\"]\n",
    "\n",
    "###\n",
    "#objective_ = sp.expand(5.0*(0.1234*A[0]*A[2]*A[0] + 0.1234*A[1]*A[3]*A[1]*A[3]*A[1]*A[3]*A[1]))\n",
    "\n",
    "#objective_\n",
    "\n",
    "#display(objective_)\n",
    "\n",
    "ConstraintsThreshold = 10000 #Maximum number of constraints\n",
    "useThreshold=False\n",
    "\n",
    "try:\n",
    "    print(\"Loading from file\")\n",
    "    loadedThis=dill.load(open(fileName, \"rb\"))\n",
    "    [X,y,constraints]=loadedThis\n",
    "    print(\"Done\")\n",
    "    print(\"SDP Size\",X[0])\n",
    "    print(\"Constrainst:\", len(constraints))\n",
    "except:\n",
    "    loadedThis=None\n",
    "\n",
    " \n",
    "    \n",
    "    \n",
    "if loadedThis==None or ForceCalc==True:\n",
    "    print(\"Evaluating constraints\")\n",
    "\n",
    "\n",
    "    #L is the alphabet, to wit: it is the list of letters\n",
    "    #\n",
    "    X = cp.Variable((len(L),len(L)),symmetric=True)    \n",
    "\n",
    "    #>> is for matrix inequality\n",
    "    constraints = [X >> 0,X[sTi[lI],sTi[lI]]==1]\n",
    "\n",
    "    #objective\n",
    "    #y = objective.subs({A[0]:X[sTi[A[0]]],A[1]:X[sTi[A[1]]]})\n",
    "    #y = objective.subs({A[0]:sTi[A[0]],A[1]:sTi[A[1]]})\n",
    "\n",
    "\n",
    "    # objective function evaluated (loop over product of all letters)\n",
    "    y = 0\n",
    "\n",
    "#     print(\"Constructing the SDP objective from the symbolic objective\")\n",
    "#     termsUsed = []\n",
    "#     for l1 in L:\n",
    "#         print(\"row of \",l1)\n",
    "#         for l2 in L:\n",
    "#             if l1 != lI or l2 != lI: #this is because if we ask for the coefficient of 1, things get messed up\n",
    "#                 term = l1*l2\n",
    "\n",
    "#                 #the same term can be represented by many elements in the matrix\n",
    "#                 #we satisfy ourselves with picking just one of them\n",
    "#                 if not(term in termsUsed):\n",
    "#                     termsUsed.append(term)                \n",
    "#                     eX = X[sTi[l1]][sTi[l2]] #picks the corresponding element from the variable matrix of the SDP library\n",
    "#                     #print(eX)\n",
    "#                     coeff = sp.N(findCoeff(objective_,l1*l2))\n",
    "#                     #display(l1*l2)\n",
    "#                     if isinstance(coeff,sp.Number): #evaluates the coff of l1*l2 in the objective\n",
    "#                         #coeff = sp.N(objective.coeff(l1*l2)) #evaluates the coff of l1*l2 in the objective                        \n",
    "#                         if(abs(coeff)>0):\n",
    "#                             display(coeff)\n",
    "#                             y += coeff*eX\n",
    "#                     #else:\n",
    "#                         #print(\"strange coeff\")\n",
    "#                         #display(coeff)\n",
    "#     print(\"done\")\n",
    "\n",
    "#     #A function for directly extracting terms to construct indices\n",
    "#     def lettersForExpr(termInSum):\n",
    "#         termInSum_ = pow_to_single_mul(termInSum) #sp.expand(pow_to_mul(termInSum))\n",
    "#         print(termInSum_)\n",
    "#         print(termInSum_.args)\n",
    "#         if(len(termInSum_.args[1:])<= hDepth  ): #if we can handle this using just the letters we produced\n",
    "#             lett = termInSum_.args[1]\n",
    "#             for lettInTerm in termInSum_.args[2:]:\n",
    "#                 lett *= lettInTerm\n",
    "#             coeff = sp.N(termInSum_.args[0]) #In case we got symbolic square roots\n",
    "            \n",
    "#             lett=lett.subs(sqDicts)            \n",
    "#             return[lett,lI,coeff]\n",
    "#             #eX = X[sTi[lett]][sTi[lI]]\n",
    "#             #y += coeff*eX\n",
    "            \n",
    "#             #display(termInSum_)\n",
    "#             #display(lett) #These can be directly handled\n",
    "\n",
    "#         elif(len(termInSum_.args[1:])<= 2*hDepth ): #we can handle at most twice the letters            \n",
    "#             half=int(hDepth) +1\n",
    "#             #print(len(termInSum_.args[1:]),2*hDepth)\n",
    "#             #print(half)\n",
    "#             #print(termInSum_)\n",
    "#             lett1 = termInSum_.args[1]\n",
    "#             for lettInTerm in termInSum_.args[2:half]:\n",
    "#                 lett1 *= lettInTerm\n",
    "#             lett2 = termInSum_.args[half]\n",
    "#             for lettInTerm in termInSum_.args[half+1:]:\n",
    "#                 lett2 *= lettInTerm\n",
    "#             # display(termInSum_)\n",
    "#             # display(lett1) \n",
    "#             # display(lett2)\n",
    "#             coeff = sp.N(termInSum_.args[0]) #In case we got symbolic square roots\n",
    "#             lett1=lett1.subs(sqDicts)\n",
    "#             lett2=lett2.subs(sqDicts)\n",
    "#             return [lett1,lett2,coeff]\n",
    "#             #eX = X[sTi[lett1]][sTi[lett2]]\n",
    "#             #y += coeff*eX\n",
    "#         else:\n",
    "#             print(\"objective not fully captured\")           \n",
    "#             return [\"objective not fully captured\"]\n",
    "#             #flag=\"Objective not fully captured\"\n",
    "#             #raise Warning(\"Increase hDepth: It looks like your objective is not captured by the current depth of the SDP heirarchy\")\n",
    "        \n",
    "        \n",
    "    \n",
    "    print(\"Constructing the SDP objective from the symbolic objective\") \n",
    "    for termInSum in objective_.args: #e.g. termInSum could look like a multiplication object with arguments (0.13,Π_4,Π_3) and so on\n",
    "        flag=\"No obvious issues.\"        \n",
    "        res = lettersForExpr(termInSum) #returns, e.g. [1.23,Π1,Π1]\n",
    "        y += res[2] * X[sTi[res[0]]][sTi[res[1]]]\n",
    "        \n",
    "        #print(sp.expand(termInSum))\n",
    "#         termInSum_ = pow_to_single_mul(termInSum) #sp.expand(pow_to_mul(termInSum))\n",
    "#         print(termInSum_)\n",
    "#         print(termInSum_.args)\n",
    "#         if(len(termInSum_.args[1:])<= hDepth  ): #if we can handle this using just the letters we produced\n",
    "#             lett = termInSum_.args[1]\n",
    "#             for lettInTerm in termInSum_.args[2:]:\n",
    "#                 lett *= lettInTerm\n",
    "#             coeff = sp.N(termInSum_.args[0]) #In case we got symbolic square roots\n",
    "#             eX = X[sTi[lett]][sTi[lI]]\n",
    "#             y += coeff*eX\n",
    "            \n",
    "#             #display(termInSum_)\n",
    "#             #display(lett) #These can be directly handled\n",
    "\n",
    "#         elif(len(termInSum_.args[1:])<= 2*hDepth ): #we can handle at most twice the letters            \n",
    "#             half=int(hDepth) +1\n",
    "#             #print(len(termInSum_.args[1:]),2*hDepth)\n",
    "#             #print(half)\n",
    "#             #print(termInSum_)\n",
    "#             lett1 = termInSum_.args[1]\n",
    "#             for lettInTerm in termInSum_.args[2:half]:\n",
    "#                 lett1 *= lettInTerm\n",
    "#             lett2 = termInSum_.args[half]\n",
    "#             for lettInTerm in termInSum_.args[half+1:]:\n",
    "#                 lett2 *= lettInTerm\n",
    "#             # display(termInSum_)\n",
    "#             # display(lett1) \n",
    "#             # display(lett2)\n",
    "#             coeff = sp.N(termInSum_.args[0]) #In case we got symbolic square roots\n",
    "#             eX = X[sTi[lett1]][sTi[lett2]]\n",
    "#             y += coeff*eX\n",
    "#         else:\n",
    "#             flag=\"Objective not fully captured\"\n",
    "            #raise Warning(\"Increase hDepth: It looks like your objective is not captured by the current depth of the SDP heirarchy\")\n",
    "    print(flag)\n",
    "    print(\"Done\")\n",
    "    #flags.append(flag)\n",
    "    #len(objective_.args[13].args[1:])\n",
    "\n",
    "\n",
    "    print(\"Adding constraints from the graph\")\n",
    "    #Constraints from the graph (these come from single letters)        \n",
    "    for l1 in L1:\n",
    "        for l2 in L1:\n",
    "            eX = X[sTi[l1]][sTi[l2]] #picks the corresponding element from the variable matrix of the SDP library\n",
    "            if l1 in G[l2]:\n",
    "                constraints += [eX == 0]\n",
    "\n",
    "    print(\"done\")\n",
    "            #print(coeff,sTi[l1])\n",
    "            #display(l1)\n",
    "\n",
    "    #constraints from the fact that Π^2=Π\n",
    "    # for l in L1:\n",
    "    #     constraints += [ X[sTi[lI]][sTi[l]] == X[sTi[l]][sTi[l]] ]\n",
    "    #     #constraints to match with experiment\n",
    "\n",
    "    print(\"Adding constraints from Quantum Mechanics\")\n",
    "    tempCount=0\n",
    "    dictTerms = {}\n",
    "    halfLoop = 0\n",
    "    #lettersUsed = []\n",
    "    for l1 in L:\n",
    "        print(\"Row of \",l1)\n",
    "        if(tempCount>ConstraintsThreshold):\n",
    "            break\n",
    "\n",
    "        for l2 in L[halfLoop:]:\n",
    "            term = l1*l2\n",
    "\n",
    "\n",
    "            tS=[term]\n",
    "            #display(term)\n",
    "            for i in range(lDepth+1):\n",
    "                tS.append(tS[-1].subs(sqDicts))\n",
    "            simTerm=tS[-1]\n",
    "            #display(simTerm)\n",
    "\n",
    "            if not(simTerm in dictTerms):\n",
    "                dictTerms.update({simTerm:[l1,l2]})            \n",
    "            else:\n",
    "                l1_=dictTerms[simTerm][0]\n",
    "                l2_=dictTerms[simTerm][1]\n",
    "                #print(l1_,l2_)            \n",
    "                #print(sTi[l1_],sTi[l2_])\n",
    "\n",
    "                #print(l1,l2)            \n",
    "                #print(sTi[l1],sTi[l2])\n",
    "\n",
    "                #constraints += [ X[sTi[l1]][sTi[l2]] == X[sTi[l1_]][sTi[l2_]] ] \n",
    "                # print(X[sTi[l1]][sTi[l2]])\n",
    "                # print(X[sTi[l1_]][sTi[l2_]])\n",
    "                \n",
    "                #I am not sure why the or part of this statement is reducing constraints\n",
    "                \n",
    "                if (not (l1==l1_ and l2==l2_) or not (l1==l2_ and l2==l1_)):                \n",
    "                    #if ((l1==l2_ and l2==l1_)):\n",
    "#                         print(\"GOT ONE!\")\n",
    "#                         print(\"The ls\")\n",
    "#                         display(l1)\n",
    "#                         display(l2)\n",
    "                        \n",
    "#                         print(\"The l_s\")\n",
    "#                         display(l1_)\n",
    "#                         display(l2_)\n",
    "                        \n",
    "                    constraints += [ X[sTi[l1]][sTi[l2]] == X[sTi[l1_]][sTi[l2_]] ]\n",
    "                    \n",
    "                    tempCount+=1\n",
    "                    \n",
    "                    if(tempCount>ConstraintsThreshold and useThreshold==True):\n",
    "                        break\n",
    "                    \n",
    "                    if(tempCount<10 or\\\n",
    "                       (100<tempCount and tempCount<110) or\\\n",
    "                       (1000<tempCount and tempCount<1010)):\n",
    "                       \n",
    "                        print(\"Adding a new constraint\")\n",
    "                        print(\"l1\")\n",
    "                        display(l1)\n",
    "                        print(\"l2\")\n",
    "                        display(l2)\n",
    "                        print(\"l1_\")\n",
    "                        display(l1_)\n",
    "                        print(\"l2_\")\n",
    "                        display(l2_)\n",
    "                        \n",
    "                \n",
    "\n",
    "            #Orthogonality from the graph\n",
    "            if simTerm.subs(gDicts)==sp.Integer(0):\n",
    "                constraints += [ X[sTi[l1]][sTi[l2]] == 0 ]\n",
    "            del tS\n",
    "        halfLoop+=1\n",
    "\n",
    "    print(\"done\")\n",
    "\n",
    "    \n",
    "\n",
    "    \n",
    "    \n",
    "    \n",
    "    \n",
    "    \n",
    "    # display(y)\n",
    "\n",
    "    # display(objective.args[0])\n",
    "    # display(objective.args[1])\n",
    "\n",
    "\n",
    "    #expr=A[0]*A[0]*A[0]*A[1]*A[0]*A[1]\n",
    "\n",
    "\n",
    "\n",
    "\n",
    "    #         term = l1*l2\n",
    "\n",
    "\n",
    "    #         tS=[term]\n",
    "    #         #display(term)\n",
    "    #         for i in range(lDepth+1):\n",
    "    #             tS.append(tS[-1].subs(sqDicts))\n",
    "    #         simTerm=tS[-1]\n",
    "    #         #display(simTerm)\n",
    "\n",
    "    #         if not(simTerm in dictTerms):\n",
    "    #             dictTerms.update({simTerm:[l1,l2]})            \n",
    "    #         else:\n",
    "    #             l1_=dictTerms[simTerm][0]\n",
    "    #             l2_=dictTerms[simTerm][1]\n",
    "    #             #print(l1_,l2_)            \n",
    "    #             #print(sTi[l1_],sTi[l2_])\n",
    "\n",
    "    #             #print(l1,l2)            \n",
    "    #             #print(sTi[l1],sTi[l2])\n",
    "\n",
    "    #             #constraints += [ X[sTi[l1]][sTi[l2]] == X[sTi[l1_]][sTi[l2_]] ] \n",
    "    #             # print(X[sTi[l1]][sTi[l2]])\n",
    "    #             # print(X[sTi[l1_]][sTi[l2_]])\n",
    "    #             constraints += [ X[sTi[l1]][sTi[l2]] == X[sTi[l1_]][sTi[l2_]] ]\n",
    "\n",
    "    #         #Orthogonality from the graph\n",
    "    #         if simTerm.subs(gDicts)==sp.Integer(0):\n",
    "    #             constraints += [ X[sTi[l1]][sTi[l2]] == 0 ]\n",
    "    #         del tS\n",
    "\n",
    "\n",
    "\n",
    "    #display(tS[-1])\n",
    "\n",
    "\n",
    "    # powDicts={}\n",
    "    # for i in range(len(L1)):\n",
    "    #     powDicts.update({A[i]**k:A[i] for k in range(2,lDepth+4)[::-1]})\n",
    "\n",
    "\n",
    "    #expr.subs(powDicts)\n",
    "\n",
    "    # display(expr.subs(sqDicts))\n",
    "    # display(expr.subs(powDicts).subs(powDicts))\n",
    "\n",
    "    #expr\n",
    "\n",
    "    #dict={A[i]**k:A[i] for k in range(lDepth)}\n",
    "\n",
    "    #print(powDicts)\n",
    "\n",
    "    #result=expr.subs({A[0]*A[0]:A[1]}); result\n",
    "    #result=sp.refine(expr,)\n",
    "    print(\"Constraints\", len(constraints))\n",
    "    print(\"SDP\", X[0])\n",
    "    dill.dump([X,y,constraints], open(fileName, \"wb\"))\n",
    "    print(\"Saved to disk\")\n",
    "\n",
    "\n",
    "try:\n",
    "    del fileName\n",
    "    del ForceCalc\n",
    "except:\n",
    "    print(\"Cleaned.\")"
   ]
  },
  {
   "cell_type": "code",
   "execution_count": 25,
   "metadata": {
    "init_cell": true,
    "scrolled": true
   },
   "outputs": [
    {
     "data": {
      "text/latex": [
       "$\\displaystyle - 0.272019649514071 Π_{0} - 0.485868271756646 Π_{1} + 3.33019067678556 Π_{1} Π_{3} - 2.05817102727149 Π_{2} + 2.77032771530716 Π_{2} Π_{0} + 2.77032771530715 Π_{4} - 4.82849874257864 Π_{4} Π_{1} - 1.15229372655726 Π_{4} Π_{2}$"
      ],
      "text/plain": [
       "-0.272019649514071⋅Π₀ - 0.485868271756646⋅Π₁ + 3.33019067678556⋅Π₁⋅Π₃ - 2.0581\n",
       "7102727149⋅Π₂ + 2.77032771530716⋅Π₂⋅Π₀ + 2.77032771530715⋅Π₄ - 4.8284987425786\n",
       "4⋅Π₄⋅Π₁ - 1.15229372655726⋅Π₄⋅Π₂"
      ]
     },
     "metadata": {},
     "output_type": "display_data"
    },
    {
     "name": "stdout",
     "output_type": "stream",
     "text": [
      "2.77032771530715*Π_4\n",
      "(2.77032771530715, Π_4)\n",
      "-0.272019649514071*Π_0\n",
      "(-0.272019649514071, Π_0)\n",
      "-2.05817102727149*Π_2\n",
      "(-2.05817102727149, Π_2)\n",
      "-0.485868271756646*Π_1\n",
      "(-0.485868271756646, Π_1)\n",
      "3.33019067678556*Π_1*Π_3\n",
      "(3.33019067678556, Π_1, Π_3)\n",
      "2.77032771530716*Π_2*Π_0\n",
      "(2.77032771530716, Π_2, Π_0)\n",
      "-1.15229372655726*Π_4*Π_2\n",
      "(-1.15229372655726, Π_4, Π_2)\n",
      "-4.82849874257864*Π_4*Π_1\n",
      "(-4.82849874257864, Π_4, Π_1)\n"
     ]
    },
    {
     "data": {
      "text/latex": [
       "$\\displaystyle - 0.272019649514071 Π_{0} + 3.33019067678556 Π_{1} Π_{3} Π_{0} + 0.71215668803567 Π_{2} Π_{0} - 1.15229372655726 Π_{4} Π_{2} Π_{0}$"
      ],
      "text/plain": [
       "-0.272019649514071⋅Π₀ + 3.33019067678556⋅Π₁⋅Π₃⋅Π₀ + 0.71215668803567⋅Π₂⋅Π₀ - 1\n",
       ".15229372655726⋅Π₄⋅Π₂⋅Π₀"
      ]
     },
     "metadata": {},
     "output_type": "display_data"
    },
    {
     "name": "stdout",
     "output_type": "stream",
     "text": [
      "-0.272019649514071*Π_0\n",
      "(-0.272019649514071, Π_0)\n",
      "0.71215668803567*Π_2*Π_0\n",
      "(0.712156688035670, Π_2, Π_0)\n",
      "3.33019067678556*Π_1*Π_3*Π_0\n",
      "(3.33019067678556, Π_1, Π_3, Π_0)\n",
      "-1.15229372655726*Π_4*Π_2*Π_0\n",
      "(-1.15229372655726, Π_4, Π_2, Π_0)\n"
     ]
    },
    {
     "data": {
      "text/latex": [
       "$\\displaystyle - 0.485868271756646 Π_{1} + 3.33019067678556 Π_{1} Π_{3} Π_{1} - 2.05817102727149 Π_{4} Π_{1}$"
      ],
      "text/plain": [
       "-0.485868271756646⋅Π₁ + 3.33019067678556⋅Π₁⋅Π₃⋅Π₁ - 2.05817102727149⋅Π₄⋅Π₁"
      ]
     },
     "metadata": {},
     "output_type": "display_data"
    },
    {
     "name": "stdout",
     "output_type": "stream",
     "text": [
      "-0.485868271756646*Π_1\n",
      "(-0.485868271756646, Π_1)\n",
      "-2.05817102727149*Π_4*Π_1\n",
      "(-2.05817102727149, Π_4, Π_1)\n",
      "3.33019067678556*Π_1*Π_3*Π_1\n",
      "(3.33019067678556, Π_1, Π_3, Π_1)\n"
     ]
    },
    {
     "data": {
      "text/latex": [
       "$\\displaystyle - 0.272019649514071 Π_{0} Π_{2} - 2.05817102727149 Π_{2} + 2.77032771530716 Π_{2} Π_{0} Π_{2} + 1.6180339887499 Π_{4} Π_{2}$"
      ],
      "text/plain": [
       "-0.272019649514071⋅Π₀⋅Π₂ - 2.05817102727149⋅Π₂ + 2.77032771530716⋅Π₂⋅Π₀⋅Π₂ + 1\n",
       ".6180339887499⋅Π₄⋅Π₂"
      ]
     },
     "metadata": {},
     "output_type": "display_data"
    },
    {
     "name": "stdout",
     "output_type": "stream",
     "text": [
      "-2.05817102727149*Π_2\n",
      "(-2.05817102727149, Π_2)\n",
      "1.6180339887499*Π_4*Π_2\n",
      "(1.61803398874990, Π_4, Π_2)\n",
      "-0.272019649514071*Π_0*Π_2\n",
      "(-0.272019649514071, Π_0, Π_2)\n",
      "2.77032771530716*Π_2*Π_0*Π_2\n",
      "(2.77032771530716, Π_2, Π_0, Π_2)\n"
     ]
    },
    {
     "data": {
      "text/latex": [
       "$\\displaystyle - 0.272019649514071 Π_{0} Π_{3} + 2.84432240502891 Π_{1} Π_{3} + 2.77032771530716 Π_{2} Π_{0} Π_{3} - 4.82849874257864 Π_{4} Π_{1} Π_{3}$"
      ],
      "text/plain": [
       "-0.272019649514071⋅Π₀⋅Π₃ + 2.84432240502891⋅Π₁⋅Π₃ + 2.77032771530716⋅Π₂⋅Π₀⋅Π₃ \n",
       "- 4.82849874257864⋅Π₄⋅Π₁⋅Π₃"
      ]
     },
     "metadata": {},
     "output_type": "display_data"
    },
    {
     "name": "stdout",
     "output_type": "stream",
     "text": [
      "2.84432240502891*Π_1*Π_3\n",
      "(2.84432240502891, Π_1, Π_3)\n",
      "-0.272019649514071*Π_0*Π_3\n",
      "(-0.272019649514071, Π_0, Π_3)\n",
      "2.77032771530716*Π_2*Π_0*Π_3\n",
      "(2.77032771530716, Π_2, Π_0, Π_3)\n",
      "-4.82849874257864*Π_4*Π_1*Π_3\n",
      "(-4.82849874257864, Π_4, Π_1, Π_3)\n"
     ]
    },
    {
     "data": {
      "text/latex": [
       "$\\displaystyle - 0.485868271756646 Π_{1} Π_{4} - 2.05817102727149 Π_{2} Π_{4} + 2.77032771530715 Π_{4} - 4.82849874257864 Π_{4} Π_{1} Π_{4} - 1.15229372655726 Π_{4} Π_{2} Π_{4}$"
      ],
      "text/plain": [
       "-0.485868271756646⋅Π₁⋅Π₄ - 2.05817102727149⋅Π₂⋅Π₄ + 2.77032771530715⋅Π₄ - 4.82\n",
       "849874257864⋅Π₄⋅Π₁⋅Π₄ - 1.15229372655726⋅Π₄⋅Π₂⋅Π₄"
      ]
     },
     "metadata": {},
     "output_type": "display_data"
    },
    {
     "name": "stdout",
     "output_type": "stream",
     "text": [
      "2.77032771530715*Π_4\n",
      "(2.77032771530715, Π_4)\n",
      "-2.05817102727149*Π_2*Π_4\n",
      "(-2.05817102727149, Π_2, Π_4)\n",
      "-0.485868271756646*Π_1*Π_4\n",
      "(-0.485868271756646, Π_1, Π_4)\n",
      "-1.15229372655726*Π_4*Π_2*Π_4\n",
      "(-1.15229372655726, Π_4, Π_2, Π_4)\n",
      "-4.82849874257864*Π_4*Π_1*Π_4\n",
      "(-4.82849874257864, Π_4, Π_1, Π_4)\n"
     ]
    },
    {
     "data": {
      "text/latex": [
       "$\\displaystyle - 0.272019649514071 Π_{0} P - 0.485868271756646 Π_{1} P + 3.33019067678556 Π_{1} Π_{3} P - 2.05817102727149 Π_{2} P + 2.77032771530716 Π_{2} Π_{0} P + 2.77032771530715 Π_{4} P - 4.82849874257864 Π_{4} Π_{1} P - 1.15229372655726 Π_{4} Π_{2} P$"
      ],
      "text/plain": [
       "-0.272019649514071⋅Π₀⋅P - 0.485868271756646⋅Π₁⋅P + 3.33019067678556⋅Π₁⋅Π₃⋅P - \n",
       "2.05817102727149⋅Π₂⋅P + 2.77032771530716⋅Π₂⋅Π₀⋅P + 2.77032771530715⋅Π₄⋅P - 4.8\n",
       "2849874257864⋅Π₄⋅Π₁⋅P - 1.15229372655726⋅Π₄⋅Π₂⋅P"
      ]
     },
     "metadata": {},
     "output_type": "display_data"
    },
    {
     "name": "stdout",
     "output_type": "stream",
     "text": [
      "2.77032771530715*Π_4*P\n",
      "(2.77032771530715, Π_4, P)\n",
      "-0.272019649514071*Π_0*P\n",
      "(-0.272019649514071, Π_0, P)\n",
      "-2.05817102727149*Π_2*P\n",
      "(-2.05817102727149, Π_2, P)\n",
      "-0.485868271756646*Π_1*P\n",
      "(-0.485868271756646, Π_1, P)\n",
      "3.33019067678556*Π_1*Π_3*P\n",
      "(3.33019067678556, Π_1, Π_3, P)\n",
      "2.77032771530716*Π_2*Π_0*P\n",
      "(2.77032771530716, Π_2, Π_0, P)\n",
      "-1.15229372655726*Π_4*Π_2*P\n",
      "(-1.15229372655726, Π_4, Π_2, P)\n",
      "-4.82849874257864*Π_4*Π_1*P\n",
      "(-4.82849874257864, Π_4, Π_1, P)\n"
     ]
    },
    {
     "data": {
      "text/latex": [
       "$\\displaystyle - 0.272019649514071 Π_{0} Pd - 0.485868271756646 Π_{1} Pd + 3.33019067678556 Π_{1} Π_{3} Pd - 2.05817102727149 Π_{2} Pd + 2.77032771530716 Π_{2} Π_{0} Pd + 2.77032771530715 Π_{4} Pd - 4.82849874257864 Π_{4} Π_{1} Pd - 1.15229372655726 Π_{4} Π_{2} Pd$"
      ],
      "text/plain": [
       "-0.272019649514071⋅Π₀⋅Pd - 0.485868271756646⋅Π₁⋅Pd + 3.33019067678556⋅Π₁⋅Π₃⋅Pd\n",
       " - 2.05817102727149⋅Π₂⋅Pd + 2.77032771530716⋅Π₂⋅Π₀⋅Pd + 2.77032771530715⋅Π₄⋅Pd\n",
       " - 4.82849874257864⋅Π₄⋅Π₁⋅Pd - 1.15229372655726⋅Π₄⋅Π₂⋅Pd"
      ]
     },
     "metadata": {},
     "output_type": "display_data"
    },
    {
     "name": "stdout",
     "output_type": "stream",
     "text": [
      "2.77032771530715*Π_4*Pd\n",
      "(2.77032771530715, Π_4, Pd)\n",
      "-0.272019649514071*Π_0*Pd\n",
      "(-0.272019649514071, Π_0, Pd)\n",
      "-2.05817102727149*Π_2*Pd\n",
      "(-2.05817102727149, Π_2, Pd)\n",
      "-0.485868271756646*Π_1*Pd\n",
      "(-0.485868271756646, Π_1, Pd)\n",
      "3.33019067678556*Π_1*Π_3*Pd\n",
      "(3.33019067678556, Π_1, Π_3, Pd)\n",
      "2.77032771530716*Π_2*Π_0*Pd\n",
      "(2.77032771530716, Π_2, Π_0, Pd)\n",
      "-1.15229372655726*Π_4*Π_2*Pd\n",
      "(-1.15229372655726, Π_4, Π_2, Pd)\n",
      "-4.82849874257864*Π_4*Π_1*Pd\n",
      "(-4.82849874257864, Π_4, Π_1, Pd)\n"
     ]
    },
    {
     "data": {
      "text/latex": [
       "$\\displaystyle - 0.272019649514071 Π_{0} - 2.05817102727149 Π_{0} Π_{2} + 2.77032771530716 Π_{0} Π_{2} Π_{0}$"
      ],
      "text/plain": [
       "-0.272019649514071⋅Π₀ - 2.05817102727149⋅Π₀⋅Π₂ + 2.77032771530716⋅Π₀⋅Π₂⋅Π₀"
      ]
     },
     "metadata": {},
     "output_type": "display_data"
    },
    {
     "name": "stdout",
     "output_type": "stream",
     "text": [
      "-0.272019649514071*Π_0\n",
      "(-0.272019649514071, Π_0)\n",
      "-2.05817102727149*Π_0*Π_2\n",
      "(-2.05817102727149, Π_0, Π_2)\n",
      "2.77032771530716*Π_0*Π_2*Π_0\n",
      "(2.77032771530716, Π_0, Π_2, Π_0)\n"
     ]
    },
    {
     "data": {
      "text/latex": [
       "$\\displaystyle - 0.272019649514071 Π_{0} + 0.71215668803567 Π_{0} Π_{2} Π_{0}$"
      ],
      "text/plain": [
       "-0.272019649514071⋅Π₀ + 0.71215668803567⋅Π₀⋅Π₂⋅Π₀"
      ]
     },
     "metadata": {},
     "output_type": "display_data"
    },
    {
     "name": "stdout",
     "output_type": "stream",
     "text": [
      "-0.272019649514071*Π_0\n",
      "(-0.272019649514071, Π_0)\n",
      "0.71215668803567*Π_0*Π_2*Π_0\n",
      "(0.712156688035670, Π_0, Π_2, Π_0)\n"
     ]
    },
    {
     "data": {
      "text/latex": [
       "$\\displaystyle 0$"
      ],
      "text/plain": [
       "0"
      ]
     },
     "metadata": {},
     "output_type": "display_data"
    },
    {
     "data": {
      "text/latex": [
       "$\\displaystyle - 2.33019067678556 Π_{0} Π_{2} + 2.77032771530716 Π_{0} Π_{2} Π_{0} Π_{2}$"
      ],
      "text/plain": [
       "-2.33019067678556⋅Π₀⋅Π₂ + 2.77032771530716⋅Π₀⋅Π₂⋅Π₀⋅Π₂"
      ]
     },
     "metadata": {},
     "output_type": "display_data"
    },
    {
     "name": "stdout",
     "output_type": "stream",
     "text": [
      "-2.33019067678556*Π_0*Π_2\n",
      "(-2.33019067678556, Π_0, Π_2)\n",
      "2.77032771530716*Π_0*Π_2*Π_0*Π_2\n",
      "(2.77032771530716, Π_0, Π_2, Π_0, Π_2)\n"
     ]
    },
    {
     "data": {
      "text/latex": [
       "$\\displaystyle 2.77032771530716 Π_{0} Π_{2} Π_{0} Π_{3} - 0.272019649514071 Π_{0} Π_{3}$"
      ],
      "text/plain": [
       "2.77032771530716⋅Π₀⋅Π₂⋅Π₀⋅Π₃ - 0.272019649514071⋅Π₀⋅Π₃"
      ]
     },
     "metadata": {},
     "output_type": "display_data"
    },
    {
     "name": "stdout",
     "output_type": "stream",
     "text": [
      "-0.272019649514071*Π_0*Π_3\n",
      "(-0.272019649514071, Π_0, Π_3)\n",
      "2.77032771530716*Π_0*Π_2*Π_0*Π_3\n",
      "(2.77032771530716, Π_0, Π_2, Π_0, Π_3)\n"
     ]
    },
    {
     "data": {
      "text/latex": [
       "$\\displaystyle - 2.05817102727149 Π_{0} Π_{2} Π_{4}$"
      ],
      "text/plain": [
       "-2.05817102727149⋅Π₀⋅Π₂⋅Π₄"
      ]
     },
     "metadata": {},
     "output_type": "display_data"
    },
    {
     "name": "stdout",
     "output_type": "stream",
     "text": [
      "-2.05817102727149*Π_0*Π_2*Π_4\n",
      "(-2.05817102727149, Π_0, Π_2, Π_4)\n"
     ]
    },
    {
     "data": {
      "text/latex": [
       "$\\displaystyle - 0.272019649514071 Π_{0} P - 2.05817102727149 Π_{0} Π_{2} P + 2.77032771530716 Π_{0} Π_{2} Π_{0} P$"
      ],
      "text/plain": [
       "-0.272019649514071⋅Π₀⋅P - 2.05817102727149⋅Π₀⋅Π₂⋅P + 2.77032771530716⋅Π₀⋅Π₂⋅Π₀\n",
       "⋅P"
      ]
     },
     "metadata": {},
     "output_type": "display_data"
    },
    {
     "name": "stdout",
     "output_type": "stream",
     "text": [
      "-0.272019649514071*Π_0*P\n",
      "(-0.272019649514071, Π_0, P)\n",
      "-2.05817102727149*Π_0*Π_2*P\n",
      "(-2.05817102727149, Π_0, Π_2, P)\n",
      "2.77032771530716*Π_0*Π_2*Π_0*P\n",
      "(2.77032771530716, Π_0, Π_2, Π_0, P)\n"
     ]
    },
    {
     "data": {
      "text/latex": [
       "$\\displaystyle - 0.272019649514071 Π_{0} Pd - 2.05817102727149 Π_{0} Π_{2} Pd + 2.77032771530716 Π_{0} Π_{2} Π_{0} Pd$"
      ],
      "text/plain": [
       "-0.272019649514071⋅Π₀⋅Pd - 2.05817102727149⋅Π₀⋅Π₂⋅Pd + 2.77032771530716⋅Π₀⋅Π₂⋅\n",
       "Π₀⋅Pd"
      ]
     },
     "metadata": {},
     "output_type": "display_data"
    },
    {
     "name": "stdout",
     "output_type": "stream",
     "text": [
      "-0.272019649514071*Π_0*Pd\n",
      "(-0.272019649514071, Π_0, Pd)\n",
      "-2.05817102727149*Π_0*Π_2*Pd\n",
      "(-2.05817102727149, Π_0, Π_2, Pd)\n",
      "2.77032771530716*Π_0*Π_2*Π_0*Pd\n",
      "(2.77032771530716, Π_0, Π_2, Π_0, Pd)\n"
     ]
    },
    {
     "data": {
      "text/latex": [
       "$\\displaystyle - 0.485868271756646 Π_{1} + 3.33019067678556 Π_{1} Π_{3} + 2.77032771530715 Π_{1} Π_{4} - 4.82849874257864 Π_{1} Π_{4} Π_{1} - 1.15229372655726 Π_{1} Π_{4} Π_{2}$"
      ],
      "text/plain": [
       "-0.485868271756646⋅Π₁ + 3.33019067678556⋅Π₁⋅Π₃ + 2.77032771530715⋅Π₁⋅Π₄ - 4.82\n",
       "849874257864⋅Π₁⋅Π₄⋅Π₁ - 1.15229372655726⋅Π₁⋅Π₄⋅Π₂"
      ]
     },
     "metadata": {},
     "output_type": "display_data"
    },
    {
     "name": "stdout",
     "output_type": "stream",
     "text": [
      "-0.485868271756646*Π_1\n",
      "(-0.485868271756646, Π_1)\n",
      "3.33019067678556*Π_1*Π_3\n",
      "(3.33019067678556, Π_1, Π_3)\n",
      "2.77032771530715*Π_1*Π_4\n",
      "(2.77032771530715, Π_1, Π_4)\n",
      "-1.15229372655726*Π_1*Π_4*Π_2\n",
      "(-1.15229372655726, Π_1, Π_4, Π_2)\n",
      "-4.82849874257864*Π_1*Π_4*Π_1\n",
      "(-4.82849874257864, Π_1, Π_4, Π_1)\n"
     ]
    },
    {
     "data": {
      "text/latex": [
       "$\\displaystyle 3.33019067678556 Π_{1} Π_{3} Π_{0} - 1.15229372655726 Π_{1} Π_{4} Π_{2} Π_{0}$"
      ],
      "text/plain": [
       "3.33019067678556⋅Π₁⋅Π₃⋅Π₀ - 1.15229372655726⋅Π₁⋅Π₄⋅Π₂⋅Π₀"
      ]
     },
     "metadata": {},
     "output_type": "display_data"
    },
    {
     "name": "stdout",
     "output_type": "stream",
     "text": [
      "3.33019067678556*Π_1*Π_3*Π_0\n",
      "(3.33019067678556, Π_1, Π_3, Π_0)\n",
      "-1.15229372655726*Π_1*Π_4*Π_2*Π_0\n",
      "(-1.15229372655726, Π_1, Π_4, Π_2, Π_0)\n"
     ]
    },
    {
     "data": {
      "text/latex": [
       "$\\displaystyle - 0.485868271756646 Π_{1} + 3.33019067678556 Π_{1} Π_{3} Π_{1} - 2.05817102727149 Π_{1} Π_{4} Π_{1}$"
      ],
      "text/plain": [
       "-0.485868271756646⋅Π₁ + 3.33019067678556⋅Π₁⋅Π₃⋅Π₁ - 2.05817102727149⋅Π₁⋅Π₄⋅Π₁"
      ]
     },
     "metadata": {},
     "output_type": "display_data"
    },
    {
     "name": "stdout",
     "output_type": "stream",
     "text": [
      "-0.485868271756646*Π_1\n",
      "(-0.485868271756646, Π_1)\n",
      "3.33019067678556*Π_1*Π_3*Π_1\n",
      "(3.33019067678556, Π_1, Π_3, Π_1)\n",
      "-2.05817102727149*Π_1*Π_4*Π_1\n",
      "(-2.05817102727149, Π_1, Π_4, Π_1)\n"
     ]
    },
    {
     "data": {
      "text/latex": [
       "$\\displaystyle 1.6180339887499 Π_{1} Π_{4} Π_{2}$"
      ],
      "text/plain": [
       "1.6180339887499⋅Π₁⋅Π₄⋅Π₂"
      ]
     },
     "metadata": {},
     "output_type": "display_data"
    },
    {
     "name": "stdout",
     "output_type": "stream",
     "text": [
      "1.6180339887499*Π_1*Π_4*Π_2\n",
      "(1.61803398874990, Π_1, Π_4, Π_2)\n"
     ]
    },
    {
     "data": {
      "text/latex": [
       "$\\displaystyle 2.84432240502891 Π_{1} Π_{3} - 4.82849874257864 Π_{1} Π_{4} Π_{1} Π_{3}$"
      ],
      "text/plain": [
       "2.84432240502891⋅Π₁⋅Π₃ - 4.82849874257864⋅Π₁⋅Π₄⋅Π₁⋅Π₃"
      ]
     },
     "metadata": {},
     "output_type": "display_data"
    },
    {
     "name": "stdout",
     "output_type": "stream",
     "text": [
      "2.84432240502891*Π_1*Π_3\n",
      "(2.84432240502891, Π_1, Π_3)\n",
      "-4.82849874257864*Π_1*Π_4*Π_1*Π_3\n",
      "(-4.82849874257864, Π_1, Π_4, Π_1, Π_3)\n"
     ]
    },
    {
     "data": {
      "text/latex": [
       "$\\displaystyle 2.28445944355051 Π_{1} Π_{4} - 4.82849874257864 Π_{1} Π_{4} Π_{1} Π_{4} - 1.15229372655726 Π_{1} Π_{4} Π_{2} Π_{4}$"
      ],
      "text/plain": [
       "2.28445944355051⋅Π₁⋅Π₄ - 4.82849874257864⋅Π₁⋅Π₄⋅Π₁⋅Π₄ - 1.15229372655726⋅Π₁⋅Π₄\n",
       "⋅Π₂⋅Π₄"
      ]
     },
     "metadata": {},
     "output_type": "display_data"
    },
    {
     "name": "stdout",
     "output_type": "stream",
     "text": [
      "2.28445944355051*Π_1*Π_4\n",
      "(2.28445944355051, Π_1, Π_4)\n",
      "-1.15229372655726*Π_1*Π_4*Π_2*Π_4\n",
      "(-1.15229372655726, Π_1, Π_4, Π_2, Π_4)\n",
      "-4.82849874257864*Π_1*Π_4*Π_1*Π_4\n",
      "(-4.82849874257864, Π_1, Π_4, Π_1, Π_4)\n"
     ]
    },
    {
     "data": {
      "text/latex": [
       "$\\displaystyle - 0.485868271756646 Π_{1} P + 3.33019067678556 Π_{1} Π_{3} P + 2.77032771530715 Π_{1} Π_{4} P - 4.82849874257864 Π_{1} Π_{4} Π_{1} P - 1.15229372655726 Π_{1} Π_{4} Π_{2} P$"
      ],
      "text/plain": [
       "-0.485868271756646⋅Π₁⋅P + 3.33019067678556⋅Π₁⋅Π₃⋅P + 2.77032771530715⋅Π₁⋅Π₄⋅P \n",
       "- 4.82849874257864⋅Π₁⋅Π₄⋅Π₁⋅P - 1.15229372655726⋅Π₁⋅Π₄⋅Π₂⋅P"
      ]
     },
     "metadata": {},
     "output_type": "display_data"
    },
    {
     "name": "stdout",
     "output_type": "stream",
     "text": [
      "-0.485868271756646*Π_1*P\n",
      "(-0.485868271756646, Π_1, P)\n",
      "3.33019067678556*Π_1*Π_3*P\n",
      "(3.33019067678556, Π_1, Π_3, P)\n",
      "2.77032771530715*Π_1*Π_4*P\n",
      "(2.77032771530715, Π_1, Π_4, P)\n",
      "-1.15229372655726*Π_1*Π_4*Π_2*P\n",
      "(-1.15229372655726, Π_1, Π_4, Π_2, P)\n",
      "-4.82849874257864*Π_1*Π_4*Π_1*P\n",
      "(-4.82849874257864, Π_1, Π_4, Π_1, P)\n"
     ]
    },
    {
     "data": {
      "text/latex": [
       "$\\displaystyle - 0.485868271756646 Π_{1} Pd + 3.33019067678556 Π_{1} Π_{3} Pd + 2.77032771530715 Π_{1} Π_{4} Pd - 4.82849874257864 Π_{1} Π_{4} Π_{1} Pd - 1.15229372655726 Π_{1} Π_{4} Π_{2} Pd$"
      ],
      "text/plain": [
       "-0.485868271756646⋅Π₁⋅Pd + 3.33019067678556⋅Π₁⋅Π₃⋅Pd + 2.77032771530715⋅Π₁⋅Π₄⋅\n",
       "Pd - 4.82849874257864⋅Π₁⋅Π₄⋅Π₁⋅Pd - 1.15229372655726⋅Π₁⋅Π₄⋅Π₂⋅Pd"
      ]
     },
     "metadata": {},
     "output_type": "display_data"
    },
    {
     "name": "stdout",
     "output_type": "stream",
     "text": [
      "-0.485868271756646*Π_1*Pd\n",
      "(-0.485868271756646, Π_1, Pd)\n",
      "3.33019067678556*Π_1*Π_3*Pd\n",
      "(3.33019067678556, Π_1, Π_3, Pd)\n",
      "2.77032771530715*Π_1*Π_4*Pd\n",
      "(2.77032771530715, Π_1, Π_4, Pd)\n",
      "-1.15229372655726*Π_1*Π_4*Π_2*Pd\n",
      "(-1.15229372655726, Π_1, Π_4, Π_2, Pd)\n",
      "-4.82849874257864*Π_1*Π_4*Π_1*Pd\n",
      "(-4.82849874257864, Π_1, Π_4, Π_1, Pd)\n"
     ]
    },
    {
     "data": {
      "text/latex": [
       "$\\displaystyle - 2.05817102727149 Π_{2} + 2.49830806579309 Π_{2} Π_{0} + 2.77032771530715 Π_{2} Π_{4} - 4.82849874257864 Π_{2} Π_{4} Π_{1} - 1.15229372655726 Π_{2} Π_{4} Π_{2}$"
      ],
      "text/plain": [
       "-2.05817102727149⋅Π₂ + 2.49830806579309⋅Π₂⋅Π₀ + 2.77032771530715⋅Π₂⋅Π₄ - 4.828\n",
       "49874257864⋅Π₂⋅Π₄⋅Π₁ - 1.15229372655726⋅Π₂⋅Π₄⋅Π₂"
      ]
     },
     "metadata": {},
     "output_type": "display_data"
    },
    {
     "name": "stdout",
     "output_type": "stream",
     "text": [
      "-2.05817102727149*Π_2\n",
      "(-2.05817102727149, Π_2)\n",
      "2.77032771530715*Π_2*Π_4\n",
      "(2.77032771530715, Π_2, Π_4)\n",
      "2.49830806579309*Π_2*Π_0\n",
      "(2.49830806579309, Π_2, Π_0)\n",
      "-1.15229372655726*Π_2*Π_4*Π_2\n",
      "(-1.15229372655726, Π_2, Π_4, Π_2)\n",
      "-4.82849874257864*Π_2*Π_4*Π_1\n",
      "(-4.82849874257864, Π_2, Π_4, Π_1)\n"
     ]
    },
    {
     "data": {
      "text/latex": [
       "$\\displaystyle 0.440137038521599 Π_{2} Π_{0} - 1.15229372655726 Π_{2} Π_{4} Π_{2} Π_{0}$"
      ],
      "text/plain": [
       "0.440137038521599⋅Π₂⋅Π₀ - 1.15229372655726⋅Π₂⋅Π₄⋅Π₂⋅Π₀"
      ]
     },
     "metadata": {},
     "output_type": "display_data"
    },
    {
     "name": "stdout",
     "output_type": "stream",
     "text": [
      "0.440137038521599*Π_2*Π_0\n",
      "(0.440137038521599, Π_2, Π_0)\n",
      "-1.15229372655726*Π_2*Π_4*Π_2*Π_0\n",
      "(-1.15229372655726, Π_2, Π_4, Π_2, Π_0)\n"
     ]
    },
    {
     "data": {
      "text/latex": [
       "$\\displaystyle - 2.05817102727149 Π_{2} Π_{4} Π_{1}$"
      ],
      "text/plain": [
       "-2.05817102727149⋅Π₂⋅Π₄⋅Π₁"
      ]
     },
     "metadata": {},
     "output_type": "display_data"
    },
    {
     "name": "stdout",
     "output_type": "stream",
     "text": [
      "-2.05817102727149*Π_2*Π_4*Π_1\n",
      "(-2.05817102727149, Π_2, Π_4, Π_1)\n"
     ]
    },
    {
     "data": {
      "text/latex": [
       "$\\displaystyle - 2.05817102727149 Π_{2} + 2.49830806579309 Π_{2} Π_{0} Π_{2} + 1.6180339887499 Π_{2} Π_{4} Π_{2}$"
      ],
      "text/plain": [
       "-2.05817102727149⋅Π₂ + 2.49830806579309⋅Π₂⋅Π₀⋅Π₂ + 1.6180339887499⋅Π₂⋅Π₄⋅Π₂"
      ]
     },
     "metadata": {},
     "output_type": "display_data"
    },
    {
     "name": "stdout",
     "output_type": "stream",
     "text": [
      "-2.05817102727149*Π_2\n",
      "(-2.05817102727149, Π_2)\n",
      "1.6180339887499*Π_2*Π_4*Π_2\n",
      "(1.61803398874990, Π_2, Π_4, Π_2)\n",
      "2.49830806579309*Π_2*Π_0*Π_2\n",
      "(2.49830806579309, Π_2, Π_0, Π_2)\n"
     ]
    },
    {
     "data": {
      "text/latex": [
       "$\\displaystyle 2.49830806579309 Π_{2} Π_{0} Π_{3} - 4.82849874257864 Π_{2} Π_{4} Π_{1} Π_{3}$"
      ],
      "text/plain": [
       "2.49830806579309⋅Π₂⋅Π₀⋅Π₃ - 4.82849874257864⋅Π₂⋅Π₄⋅Π₁⋅Π₃"
      ]
     },
     "metadata": {},
     "output_type": "display_data"
    },
    {
     "name": "stdout",
     "output_type": "stream",
     "text": [
      "2.49830806579309*Π_2*Π_0*Π_3\n",
      "(2.49830806579309, Π_2, Π_0, Π_3)\n",
      "-4.82849874257864*Π_2*Π_4*Π_1*Π_3\n",
      "(-4.82849874257864, Π_2, Π_4, Π_1, Π_3)\n"
     ]
    },
    {
     "data": {
      "text/latex": [
       "$\\displaystyle 0.712156688035661 Π_{2} Π_{4} - 4.82849874257864 Π_{2} Π_{4} Π_{1} Π_{4} - 1.15229372655726 Π_{2} Π_{4} Π_{2} Π_{4}$"
      ],
      "text/plain": [
       "0.712156688035661⋅Π₂⋅Π₄ - 4.82849874257864⋅Π₂⋅Π₄⋅Π₁⋅Π₄ - 1.15229372655726⋅Π₂⋅Π\n",
       "₄⋅Π₂⋅Π₄"
      ]
     },
     "metadata": {},
     "output_type": "display_data"
    },
    {
     "name": "stdout",
     "output_type": "stream",
     "text": [
      "0.712156688035661*Π_2*Π_4\n",
      "(0.712156688035661, Π_2, Π_4)\n",
      "-1.15229372655726*Π_2*Π_4*Π_2*Π_4\n",
      "(-1.15229372655726, Π_2, Π_4, Π_2, Π_4)\n",
      "-4.82849874257864*Π_2*Π_4*Π_1*Π_4\n",
      "(-4.82849874257864, Π_2, Π_4, Π_1, Π_4)\n"
     ]
    },
    {
     "data": {
      "text/latex": [
       "$\\displaystyle - 2.05817102727149 Π_{2} P + 2.49830806579309 Π_{2} Π_{0} P + 2.77032771530715 Π_{2} Π_{4} P - 4.82849874257864 Π_{2} Π_{4} Π_{1} P - 1.15229372655726 Π_{2} Π_{4} Π_{2} P$"
      ],
      "text/plain": [
       "-2.05817102727149⋅Π₂⋅P + 2.49830806579309⋅Π₂⋅Π₀⋅P + 2.77032771530715⋅Π₂⋅Π₄⋅P -\n",
       " 4.82849874257864⋅Π₂⋅Π₄⋅Π₁⋅P - 1.15229372655726⋅Π₂⋅Π₄⋅Π₂⋅P"
      ]
     },
     "metadata": {},
     "output_type": "display_data"
    },
    {
     "name": "stdout",
     "output_type": "stream",
     "text": [
      "-2.05817102727149*Π_2*P\n",
      "(-2.05817102727149, Π_2, P)\n",
      "2.77032771530715*Π_2*Π_4*P\n",
      "(2.77032771530715, Π_2, Π_4, P)\n",
      "2.49830806579309*Π_2*Π_0*P\n",
      "(2.49830806579309, Π_2, Π_0, P)\n",
      "-1.15229372655726*Π_2*Π_4*Π_2*P\n",
      "(-1.15229372655726, Π_2, Π_4, Π_2, P)\n",
      "-4.82849874257864*Π_2*Π_4*Π_1*P\n",
      "(-4.82849874257864, Π_2, Π_4, Π_1, P)\n"
     ]
    },
    {
     "data": {
      "text/latex": [
       "$\\displaystyle - 2.05817102727149 Π_{2} Pd + 2.49830806579309 Π_{2} Π_{0} Pd + 2.77032771530715 Π_{2} Π_{4} Pd - 4.82849874257864 Π_{2} Π_{4} Π_{1} Pd - 1.15229372655726 Π_{2} Π_{4} Π_{2} Pd$"
      ],
      "text/plain": [
       "-2.05817102727149⋅Π₂⋅Pd + 2.49830806579309⋅Π₂⋅Π₀⋅Pd + 2.77032771530715⋅Π₂⋅Π₄⋅P\n",
       "d - 4.82849874257864⋅Π₂⋅Π₄⋅Π₁⋅Pd - 1.15229372655726⋅Π₂⋅Π₄⋅Π₂⋅Pd"
      ]
     },
     "metadata": {},
     "output_type": "display_data"
    },
    {
     "name": "stdout",
     "output_type": "stream",
     "text": [
      "-2.05817102727149*Π_2*Pd\n",
      "(-2.05817102727149, Π_2, Pd)\n",
      "2.77032771530715*Π_2*Π_4*Pd\n",
      "(2.77032771530715, Π_2, Π_4, Pd)\n",
      "2.49830806579309*Π_2*Π_0*Pd\n",
      "(2.49830806579309, Π_2, Π_0, Pd)\n",
      "-1.15229372655726*Π_2*Π_4*Π_2*Pd\n",
      "(-1.15229372655726, Π_2, Π_4, Π_2, Pd)\n",
      "-4.82849874257864*Π_2*Π_4*Π_1*Pd\n",
      "(-4.82849874257864, Π_2, Π_4, Π_1, Pd)\n"
     ]
    },
    {
     "data": {
      "text/latex": [
       "$\\displaystyle - 0.272019649514071 Π_{3} Π_{0} - 0.485868271756646 Π_{3} Π_{1} + 3.33019067678556 Π_{3} Π_{1} Π_{3}$"
      ],
      "text/plain": [
       "-0.272019649514071⋅Π₃⋅Π₀ - 0.485868271756646⋅Π₃⋅Π₁ + 3.33019067678556⋅Π₃⋅Π₁⋅Π₃"
      ]
     },
     "metadata": {},
     "output_type": "display_data"
    },
    {
     "name": "stdout",
     "output_type": "stream",
     "text": [
      "-0.272019649514071*Π_3*Π_0\n",
      "(-0.272019649514071, Π_3, Π_0)\n",
      "-0.485868271756646*Π_3*Π_1\n",
      "(-0.485868271756646, Π_3, Π_1)\n",
      "3.33019067678556*Π_3*Π_1*Π_3\n",
      "(3.33019067678556, Π_3, Π_1, Π_3)\n"
     ]
    },
    {
     "data": {
      "text/latex": [
       "$\\displaystyle - 0.272019649514071 Π_{3} Π_{0} + 3.33019067678556 Π_{3} Π_{1} Π_{3} Π_{0}$"
      ],
      "text/plain": [
       "-0.272019649514071⋅Π₃⋅Π₀ + 3.33019067678556⋅Π₃⋅Π₁⋅Π₃⋅Π₀"
      ]
     },
     "metadata": {},
     "output_type": "display_data"
    },
    {
     "name": "stdout",
     "output_type": "stream",
     "text": [
      "-0.272019649514071*Π_3*Π_0\n",
      "(-0.272019649514071, Π_3, Π_0)\n",
      "3.33019067678556*Π_3*Π_1*Π_3*Π_0\n",
      "(3.33019067678556, Π_3, Π_1, Π_3, Π_0)\n"
     ]
    },
    {
     "data": {
      "text/latex": [
       "$\\displaystyle - 0.485868271756646 Π_{3} Π_{1} + 3.33019067678556 Π_{3} Π_{1} Π_{3} Π_{1}$"
      ],
      "text/plain": [
       "-0.485868271756646⋅Π₃⋅Π₁ + 3.33019067678556⋅Π₃⋅Π₁⋅Π₃⋅Π₁"
      ]
     },
     "metadata": {},
     "output_type": "display_data"
    },
    {
     "name": "stdout",
     "output_type": "stream",
     "text": [
      "-0.485868271756646*Π_3*Π_1\n",
      "(-0.485868271756646, Π_3, Π_1)\n",
      "3.33019067678556*Π_3*Π_1*Π_3*Π_1\n",
      "(3.33019067678556, Π_3, Π_1, Π_3, Π_1)\n"
     ]
    },
    {
     "data": {
      "text/latex": [
       "$\\displaystyle - 0.272019649514071 Π_{3} Π_{0} Π_{2}$"
      ],
      "text/plain": [
       "-0.272019649514071⋅Π₃⋅Π₀⋅Π₂"
      ]
     },
     "metadata": {},
     "output_type": "display_data"
    },
    {
     "name": "stdout",
     "output_type": "stream",
     "text": [
      "-0.272019649514071*Π_3*Π_0*Π_2\n",
      "(-0.272019649514071, Π_3, Π_0, Π_2)\n"
     ]
    },
    {
     "data": {
      "text/latex": [
       "$\\displaystyle - 0.272019649514071 Π_{3} Π_{0} Π_{3} + 2.84432240502891 Π_{3} Π_{1} Π_{3}$"
      ],
      "text/plain": [
       "-0.272019649514071⋅Π₃⋅Π₀⋅Π₃ + 2.84432240502891⋅Π₃⋅Π₁⋅Π₃"
      ]
     },
     "metadata": {},
     "output_type": "display_data"
    },
    {
     "name": "stdout",
     "output_type": "stream",
     "text": [
      "2.84432240502891*Π_3*Π_1*Π_3\n",
      "(2.84432240502891, Π_3, Π_1, Π_3)\n",
      "-0.272019649514071*Π_3*Π_0*Π_3\n",
      "(-0.272019649514071, Π_3, Π_0, Π_3)\n"
     ]
    },
    {
     "data": {
      "text/latex": [
       "$\\displaystyle - 0.485868271756646 Π_{3} Π_{1} Π_{4}$"
      ],
      "text/plain": [
       "-0.485868271756646⋅Π₃⋅Π₁⋅Π₄"
      ]
     },
     "metadata": {},
     "output_type": "display_data"
    },
    {
     "name": "stdout",
     "output_type": "stream",
     "text": [
      "-0.485868271756646*Π_3*Π_1*Π_4\n",
      "(-0.485868271756646, Π_3, Π_1, Π_4)\n"
     ]
    },
    {
     "data": {
      "text/latex": [
       "$\\displaystyle - 0.272019649514071 Π_{3} Π_{0} P - 0.485868271756646 Π_{3} Π_{1} P + 3.33019067678556 Π_{3} Π_{1} Π_{3} P$"
      ],
      "text/plain": [
       "-0.272019649514071⋅Π₃⋅Π₀⋅P - 0.485868271756646⋅Π₃⋅Π₁⋅P + 3.33019067678556⋅Π₃⋅Π\n",
       "₁⋅Π₃⋅P"
      ]
     },
     "metadata": {},
     "output_type": "display_data"
    },
    {
     "name": "stdout",
     "output_type": "stream",
     "text": [
      "-0.272019649514071*Π_3*Π_0*P\n",
      "(-0.272019649514071, Π_3, Π_0, P)\n",
      "-0.485868271756646*Π_3*Π_1*P\n",
      "(-0.485868271756646, Π_3, Π_1, P)\n",
      "3.33019067678556*Π_3*Π_1*Π_3*P\n",
      "(3.33019067678556, Π_3, Π_1, Π_3, P)\n"
     ]
    },
    {
     "data": {
      "text/latex": [
       "$\\displaystyle - 0.272019649514071 Π_{3} Π_{0} Pd - 0.485868271756646 Π_{3} Π_{1} Pd + 3.33019067678556 Π_{3} Π_{1} Π_{3} Pd$"
      ],
      "text/plain": [
       "-0.272019649514071⋅Π₃⋅Π₀⋅Pd - 0.485868271756646⋅Π₃⋅Π₁⋅Pd + 3.33019067678556⋅Π₃\n",
       "⋅Π₁⋅Π₃⋅Pd"
      ]
     },
     "metadata": {},
     "output_type": "display_data"
    },
    {
     "name": "stdout",
     "output_type": "stream",
     "text": [
      "-0.272019649514071*Π_3*Π_0*Pd\n",
      "(-0.272019649514071, Π_3, Π_0, Pd)\n",
      "-0.485868271756646*Π_3*Π_1*Pd\n",
      "(-0.485868271756646, Π_3, Π_1, Pd)\n",
      "3.33019067678556*Π_3*Π_1*Π_3*Pd\n",
      "(3.33019067678556, Π_3, Π_1, Π_3, Pd)\n"
     ]
    },
    {
     "data": {
      "text/latex": [
       "$\\displaystyle 2.77032771530715 Π_{4} - 5.31436701433529 Π_{4} Π_{1} + 3.33019067678556 Π_{4} Π_{1} Π_{3} - 3.21046475382875 Π_{4} Π_{2} + 2.77032771530716 Π_{4} Π_{2} Π_{0}$"
      ],
      "text/plain": [
       "2.77032771530715⋅Π₄ - 5.31436701433529⋅Π₄⋅Π₁ + 3.33019067678556⋅Π₄⋅Π₁⋅Π₃ - 3.2\n",
       "1046475382875⋅Π₄⋅Π₂ + 2.77032771530716⋅Π₄⋅Π₂⋅Π₀"
      ]
     },
     "metadata": {},
     "output_type": "display_data"
    },
    {
     "name": "stdout",
     "output_type": "stream",
     "text": [
      "2.77032771530715*Π_4\n",
      "(2.77032771530715, Π_4)\n",
      "-3.21046475382875*Π_4*Π_2\n",
      "(-3.21046475382875, Π_4, Π_2)\n",
      "-5.31436701433529*Π_4*Π_1\n",
      "(-5.31436701433529, Π_4, Π_1)\n",
      "3.33019067678556*Π_4*Π_1*Π_3\n",
      "(3.33019067678556, Π_4, Π_1, Π_3)\n",
      "2.77032771530716*Π_4*Π_2*Π_0\n",
      "(2.77032771530716, Π_4, Π_2, Π_0)\n"
     ]
    },
    {
     "data": {
      "text/latex": [
       "$\\displaystyle 3.33019067678556 Π_{4} Π_{1} Π_{3} Π_{0} - 0.440137038521589 Π_{4} Π_{2} Π_{0}$"
      ],
      "text/plain": [
       "3.33019067678556⋅Π₄⋅Π₁⋅Π₃⋅Π₀ - 0.440137038521589⋅Π₄⋅Π₂⋅Π₀"
      ]
     },
     "metadata": {},
     "output_type": "display_data"
    },
    {
     "name": "stdout",
     "output_type": "stream",
     "text": [
      "-0.440137038521589*Π_4*Π_2*Π_0\n",
      "(-0.440137038521589, Π_4, Π_2, Π_0)\n",
      "3.33019067678556*Π_4*Π_1*Π_3*Π_0\n",
      "(3.33019067678556, Π_4, Π_1, Π_3, Π_0)\n"
     ]
    },
    {
     "data": {
      "text/latex": [
       "$\\displaystyle - 2.54403929902813 Π_{4} Π_{1} + 3.33019067678556 Π_{4} Π_{1} Π_{3} Π_{1}$"
      ],
      "text/plain": [
       "-2.54403929902813⋅Π₄⋅Π₁ + 3.33019067678556⋅Π₄⋅Π₁⋅Π₃⋅Π₁"
      ]
     },
     "metadata": {},
     "output_type": "display_data"
    },
    {
     "name": "stdout",
     "output_type": "stream",
     "text": [
      "-2.54403929902813*Π_4*Π_1\n",
      "(-2.54403929902813, Π_4, Π_1)\n",
      "3.33019067678556*Π_4*Π_1*Π_3*Π_1\n",
      "(3.33019067678556, Π_4, Π_1, Π_3, Π_1)\n"
     ]
    },
    {
     "data": {
      "text/latex": [
       "$\\displaystyle - 0.440137038521598 Π_{4} Π_{2} + 2.77032771530716 Π_{4} Π_{2} Π_{0} Π_{2}$"
      ],
      "text/plain": [
       "-0.440137038521598⋅Π₄⋅Π₂ + 2.77032771530716⋅Π₄⋅Π₂⋅Π₀⋅Π₂"
      ]
     },
     "metadata": {},
     "output_type": "display_data"
    },
    {
     "name": "stdout",
     "output_type": "stream",
     "text": [
      "-0.440137038521598*Π_4*Π_2\n",
      "(-0.440137038521598, Π_4, Π_2)\n",
      "2.77032771530716*Π_4*Π_2*Π_0*Π_2\n",
      "(2.77032771530716, Π_4, Π_2, Π_0, Π_2)\n"
     ]
    },
    {
     "data": {
      "text/latex": [
       "$\\displaystyle - 1.98417633754973 Π_{4} Π_{1} Π_{3} + 2.77032771530716 Π_{4} Π_{2} Π_{0} Π_{3}$"
      ],
      "text/plain": [
       "-1.98417633754973⋅Π₄⋅Π₁⋅Π₃ + 2.77032771530716⋅Π₄⋅Π₂⋅Π₀⋅Π₃"
      ]
     },
     "metadata": {},
     "output_type": "display_data"
    },
    {
     "name": "stdout",
     "output_type": "stream",
     "text": [
      "-1.98417633754973*Π_4*Π_1*Π_3\n",
      "(-1.98417633754973, Π_4, Π_1, Π_3)\n",
      "2.77032771530716*Π_4*Π_2*Π_0*Π_3\n",
      "(2.77032771530716, Π_4, Π_2, Π_0, Π_3)\n"
     ]
    },
    {
     "data": {
      "text/latex": [
       "$\\displaystyle 2.77032771530715 Π_{4} - 5.31436701433529 Π_{4} Π_{1} Π_{4} - 3.21046475382875 Π_{4} Π_{2} Π_{4}$"
      ],
      "text/plain": [
       "2.77032771530715⋅Π₄ - 5.31436701433529⋅Π₄⋅Π₁⋅Π₄ - 3.21046475382875⋅Π₄⋅Π₂⋅Π₄"
      ]
     },
     "metadata": {},
     "output_type": "display_data"
    },
    {
     "name": "stdout",
     "output_type": "stream",
     "text": [
      "2.77032771530715*Π_4\n",
      "(2.77032771530715, Π_4)\n",
      "-3.21046475382875*Π_4*Π_2*Π_4\n",
      "(-3.21046475382875, Π_4, Π_2, Π_4)\n",
      "-5.31436701433529*Π_4*Π_1*Π_4\n",
      "(-5.31436701433529, Π_4, Π_1, Π_4)\n"
     ]
    },
    {
     "data": {
      "text/latex": [
       "$\\displaystyle 2.77032771530715 Π_{4} P - 5.31436701433529 Π_{4} Π_{1} P + 3.33019067678556 Π_{4} Π_{1} Π_{3} P - 3.21046475382875 Π_{4} Π_{2} P + 2.77032771530716 Π_{4} Π_{2} Π_{0} P$"
      ],
      "text/plain": [
       "2.77032771530715⋅Π₄⋅P - 5.31436701433529⋅Π₄⋅Π₁⋅P + 3.33019067678556⋅Π₄⋅Π₁⋅Π₃⋅P\n",
       " - 3.21046475382875⋅Π₄⋅Π₂⋅P + 2.77032771530716⋅Π₄⋅Π₂⋅Π₀⋅P"
      ]
     },
     "metadata": {},
     "output_type": "display_data"
    },
    {
     "name": "stdout",
     "output_type": "stream",
     "text": [
      "2.77032771530715*Π_4*P\n",
      "(2.77032771530715, Π_4, P)\n",
      "-3.21046475382875*Π_4*Π_2*P\n",
      "(-3.21046475382875, Π_4, Π_2, P)\n",
      "-5.31436701433529*Π_4*Π_1*P\n",
      "(-5.31436701433529, Π_4, Π_1, P)\n",
      "3.33019067678556*Π_4*Π_1*Π_3*P\n",
      "(3.33019067678556, Π_4, Π_1, Π_3, P)\n",
      "2.77032771530716*Π_4*Π_2*Π_0*P\n",
      "(2.77032771530716, Π_4, Π_2, Π_0, P)\n"
     ]
    },
    {
     "data": {
      "text/latex": [
       "$\\displaystyle 2.77032771530715 Π_{4} Pd - 5.31436701433529 Π_{4} Π_{1} Pd + 3.33019067678556 Π_{4} Π_{1} Π_{3} Pd - 3.21046475382875 Π_{4} Π_{2} Pd + 2.77032771530716 Π_{4} Π_{2} Π_{0} Pd$"
      ],
      "text/plain": [
       "2.77032771530715⋅Π₄⋅Pd - 5.31436701433529⋅Π₄⋅Π₁⋅Pd + 3.33019067678556⋅Π₄⋅Π₁⋅Π₃\n",
       "⋅Pd - 3.21046475382875⋅Π₄⋅Π₂⋅Pd + 2.77032771530716⋅Π₄⋅Π₂⋅Π₀⋅Pd"
      ]
     },
     "metadata": {},
     "output_type": "display_data"
    },
    {
     "name": "stdout",
     "output_type": "stream",
     "text": [
      "2.77032771530715*Π_4*Pd\n",
      "(2.77032771530715, Π_4, Pd)\n",
      "-3.21046475382875*Π_4*Π_2*Pd\n",
      "(-3.21046475382875, Π_4, Π_2, Pd)\n",
      "-5.31436701433529*Π_4*Π_1*Pd\n",
      "(-5.31436701433529, Π_4, Π_1, Pd)\n",
      "3.33019067678556*Π_4*Π_1*Π_3*Pd\n",
      "(3.33019067678556, Π_4, Π_1, Π_3, Pd)\n",
      "2.77032771530716*Π_4*Π_2*Π_0*Pd\n",
      "(2.77032771530716, Π_4, Π_2, Π_0, Pd)\n"
     ]
    },
    {
     "data": {
      "text/latex": [
       "$\\displaystyle - 0.272019649514071 P Π_{0} - 0.485868271756646 P Π_{1} + 3.33019067678556 P Π_{1} Π_{3} - 2.05817102727149 P Π_{2} + 2.77032771530716 P Π_{2} Π_{0} + 2.77032771530715 P Π_{4} - 4.82849874257864 P Π_{4} Π_{1} - 1.15229372655726 P Π_{4} Π_{2}$"
      ],
      "text/plain": [
       "-0.272019649514071⋅P⋅Π₀ - 0.485868271756646⋅P⋅Π₁ + 3.33019067678556⋅P⋅Π₁⋅Π₃ - \n",
       "2.05817102727149⋅P⋅Π₂ + 2.77032771530716⋅P⋅Π₂⋅Π₀ + 2.77032771530715⋅P⋅Π₄ - 4.8\n",
       "2849874257864⋅P⋅Π₄⋅Π₁ - 1.15229372655726⋅P⋅Π₄⋅Π₂"
      ]
     },
     "metadata": {},
     "output_type": "display_data"
    },
    {
     "name": "stdout",
     "output_type": "stream",
     "text": [
      "2.77032771530715*P*Π_4\n",
      "(2.77032771530715, P, Π_4)\n",
      "-0.272019649514071*P*Π_0\n",
      "(-0.272019649514071, P, Π_0)\n",
      "-2.05817102727149*P*Π_2\n",
      "(-2.05817102727149, P, Π_2)\n",
      "-0.485868271756646*P*Π_1\n",
      "(-0.485868271756646, P, Π_1)\n",
      "3.33019067678556*P*Π_1*Π_3\n",
      "(3.33019067678556, P, Π_1, Π_3)\n",
      "2.77032771530716*P*Π_2*Π_0\n",
      "(2.77032771530716, P, Π_2, Π_0)\n",
      "-1.15229372655726*P*Π_4*Π_2\n",
      "(-1.15229372655726, P, Π_4, Π_2)\n",
      "-4.82849874257864*P*Π_4*Π_1\n",
      "(-4.82849874257864, P, Π_4, Π_1)\n"
     ]
    },
    {
     "data": {
      "text/latex": [
       "$\\displaystyle - 0.272019649514071 P Π_{0} + 3.33019067678556 P Π_{1} Π_{3} Π_{0} + 0.71215668803567 P Π_{2} Π_{0} - 1.15229372655726 P Π_{4} Π_{2} Π_{0}$"
      ],
      "text/plain": [
       "-0.272019649514071⋅P⋅Π₀ + 3.33019067678556⋅P⋅Π₁⋅Π₃⋅Π₀ + 0.71215668803567⋅P⋅Π₂⋅\n",
       "Π₀ - 1.15229372655726⋅P⋅Π₄⋅Π₂⋅Π₀"
      ]
     },
     "metadata": {},
     "output_type": "display_data"
    },
    {
     "name": "stdout",
     "output_type": "stream",
     "text": [
      "-0.272019649514071*P*Π_0\n",
      "(-0.272019649514071, P, Π_0)\n",
      "0.71215668803567*P*Π_2*Π_0\n",
      "(0.712156688035670, P, Π_2, Π_0)\n",
      "3.33019067678556*P*Π_1*Π_3*Π_0\n",
      "(3.33019067678556, P, Π_1, Π_3, Π_0)\n",
      "-1.15229372655726*P*Π_4*Π_2*Π_0\n",
      "(-1.15229372655726, P, Π_4, Π_2, Π_0)\n"
     ]
    },
    {
     "data": {
      "text/latex": [
       "$\\displaystyle - 0.485868271756646 P Π_{1} + 3.33019067678556 P Π_{1} Π_{3} Π_{1} - 2.05817102727149 P Π_{4} Π_{1}$"
      ],
      "text/plain": [
       "-0.485868271756646⋅P⋅Π₁ + 3.33019067678556⋅P⋅Π₁⋅Π₃⋅Π₁ - 2.05817102727149⋅P⋅Π₄⋅\n",
       "Π₁"
      ]
     },
     "metadata": {},
     "output_type": "display_data"
    },
    {
     "name": "stdout",
     "output_type": "stream",
     "text": [
      "-0.485868271756646*P*Π_1\n",
      "(-0.485868271756646, P, Π_1)\n",
      "-2.05817102727149*P*Π_4*Π_1\n",
      "(-2.05817102727149, P, Π_4, Π_1)\n",
      "3.33019067678556*P*Π_1*Π_3*Π_1\n",
      "(3.33019067678556, P, Π_1, Π_3, Π_1)\n"
     ]
    },
    {
     "data": {
      "text/latex": [
       "$\\displaystyle - 0.272019649514071 P Π_{0} Π_{2} - 2.05817102727149 P Π_{2} + 2.77032771530716 P Π_{2} Π_{0} Π_{2} + 1.6180339887499 P Π_{4} Π_{2}$"
      ],
      "text/plain": [
       "-0.272019649514071⋅P⋅Π₀⋅Π₂ - 2.05817102727149⋅P⋅Π₂ + 2.77032771530716⋅P⋅Π₂⋅Π₀⋅\n",
       "Π₂ + 1.6180339887499⋅P⋅Π₄⋅Π₂"
      ]
     },
     "metadata": {},
     "output_type": "display_data"
    },
    {
     "name": "stdout",
     "output_type": "stream",
     "text": [
      "-2.05817102727149*P*Π_2\n",
      "(-2.05817102727149, P, Π_2)\n",
      "1.6180339887499*P*Π_4*Π_2\n",
      "(1.61803398874990, P, Π_4, Π_2)\n",
      "-0.272019649514071*P*Π_0*Π_2\n",
      "(-0.272019649514071, P, Π_0, Π_2)\n",
      "2.77032771530716*P*Π_2*Π_0*Π_2\n",
      "(2.77032771530716, P, Π_2, Π_0, Π_2)\n"
     ]
    },
    {
     "data": {
      "text/latex": [
       "$\\displaystyle - 0.272019649514071 P Π_{0} Π_{3} + 2.84432240502891 P Π_{1} Π_{3} + 2.77032771530716 P Π_{2} Π_{0} Π_{3} - 4.82849874257864 P Π_{4} Π_{1} Π_{3}$"
      ],
      "text/plain": [
       "-0.272019649514071⋅P⋅Π₀⋅Π₃ + 2.84432240502891⋅P⋅Π₁⋅Π₃ + 2.77032771530716⋅P⋅Π₂⋅\n",
       "Π₀⋅Π₃ - 4.82849874257864⋅P⋅Π₄⋅Π₁⋅Π₃"
      ]
     },
     "metadata": {},
     "output_type": "display_data"
    },
    {
     "name": "stdout",
     "output_type": "stream",
     "text": [
      "2.84432240502891*P*Π_1*Π_3\n",
      "(2.84432240502891, P, Π_1, Π_3)\n",
      "-0.272019649514071*P*Π_0*Π_3\n",
      "(-0.272019649514071, P, Π_0, Π_3)\n",
      "2.77032771530716*P*Π_2*Π_0*Π_3\n",
      "(2.77032771530716, P, Π_2, Π_0, Π_3)\n",
      "-4.82849874257864*P*Π_4*Π_1*Π_3\n",
      "(-4.82849874257864, P, Π_4, Π_1, Π_3)\n"
     ]
    },
    {
     "data": {
      "text/latex": [
       "$\\displaystyle - 0.485868271756646 P Π_{1} Π_{4} - 2.05817102727149 P Π_{2} Π_{4} + 2.77032771530715 P Π_{4} - 4.82849874257864 P Π_{4} Π_{1} Π_{4} - 1.15229372655726 P Π_{4} Π_{2} Π_{4}$"
      ],
      "text/plain": [
       "-0.485868271756646⋅P⋅Π₁⋅Π₄ - 2.05817102727149⋅P⋅Π₂⋅Π₄ + 2.77032771530715⋅P⋅Π₄ \n",
       "- 4.82849874257864⋅P⋅Π₄⋅Π₁⋅Π₄ - 1.15229372655726⋅P⋅Π₄⋅Π₂⋅Π₄"
      ]
     },
     "metadata": {},
     "output_type": "display_data"
    },
    {
     "name": "stdout",
     "output_type": "stream",
     "text": [
      "2.77032771530715*P*Π_4\n",
      "(2.77032771530715, P, Π_4)\n",
      "-2.05817102727149*P*Π_2*Π_4\n",
      "(-2.05817102727149, P, Π_2, Π_4)\n",
      "-0.485868271756646*P*Π_1*Π_4\n",
      "(-0.485868271756646, P, Π_1, Π_4)\n",
      "-1.15229372655726*P*Π_4*Π_2*Π_4\n",
      "(-1.15229372655726, P, Π_4, Π_2, Π_4)\n",
      "-4.82849874257864*P*Π_4*Π_1*Π_4\n",
      "(-4.82849874257864, P, Π_4, Π_1, Π_4)\n"
     ]
    },
    {
     "data": {
      "text/latex": [
       "$\\displaystyle - 0.272019649514071 P Π_{0} P - 0.485868271756646 P Π_{1} P + 3.33019067678556 P Π_{1} Π_{3} P - 2.05817102727149 P Π_{2} P + 2.77032771530716 P Π_{2} Π_{0} P + 2.77032771530715 P Π_{4} P - 4.82849874257864 P Π_{4} Π_{1} P - 1.15229372655726 P Π_{4} Π_{2} P$"
      ],
      "text/plain": [
       "-0.272019649514071⋅P⋅Π₀⋅P - 0.485868271756646⋅P⋅Π₁⋅P + 3.33019067678556⋅P⋅Π₁⋅Π\n",
       "₃⋅P - 2.05817102727149⋅P⋅Π₂⋅P + 2.77032771530716⋅P⋅Π₂⋅Π₀⋅P + 2.77032771530715⋅\n",
       "P⋅Π₄⋅P - 4.82849874257864⋅P⋅Π₄⋅Π₁⋅P - 1.15229372655726⋅P⋅Π₄⋅Π₂⋅P"
      ]
     },
     "metadata": {},
     "output_type": "display_data"
    },
    {
     "name": "stdout",
     "output_type": "stream",
     "text": [
      "2.77032771530715*P*Π_4*P\n",
      "(2.77032771530715, P, Π_4, P)\n",
      "-0.272019649514071*P*Π_0*P\n",
      "(-0.272019649514071, P, Π_0, P)\n",
      "-2.05817102727149*P*Π_2*P\n",
      "(-2.05817102727149, P, Π_2, P)\n",
      "-0.485868271756646*P*Π_1*P\n",
      "(-0.485868271756646, P, Π_1, P)\n",
      "3.33019067678556*P*Π_1*Π_3*P\n",
      "(3.33019067678556, P, Π_1, Π_3, P)\n",
      "2.77032771530716*P*Π_2*Π_0*P\n",
      "(2.77032771530716, P, Π_2, Π_0, P)\n",
      "-1.15229372655726*P*Π_4*Π_2*P\n",
      "(-1.15229372655726, P, Π_4, Π_2, P)\n",
      "-4.82849874257864*P*Π_4*Π_1*P\n",
      "(-4.82849874257864, P, Π_4, Π_1, P)\n"
     ]
    },
    {
     "data": {
      "text/latex": [
       "$\\displaystyle - 0.272019649514071 P Π_{0} Pd - 0.485868271756646 P Π_{1} Pd + 3.33019067678556 P Π_{1} Π_{3} Pd - 2.05817102727149 P Π_{2} Pd + 2.77032771530716 P Π_{2} Π_{0} Pd + 2.77032771530715 P Π_{4} Pd - 4.82849874257864 P Π_{4} Π_{1} Pd - 1.15229372655726 P Π_{4} Π_{2} Pd$"
      ],
      "text/plain": [
       "-0.272019649514071⋅P⋅Π₀⋅Pd - 0.485868271756646⋅P⋅Π₁⋅Pd + 3.33019067678556⋅P⋅Π₁\n",
       "⋅Π₃⋅Pd - 2.05817102727149⋅P⋅Π₂⋅Pd + 2.77032771530716⋅P⋅Π₂⋅Π₀⋅Pd + 2.7703277153\n",
       "0715⋅P⋅Π₄⋅Pd - 4.82849874257864⋅P⋅Π₄⋅Π₁⋅Pd - 1.15229372655726⋅P⋅Π₄⋅Π₂⋅Pd"
      ]
     },
     "metadata": {},
     "output_type": "display_data"
    },
    {
     "name": "stdout",
     "output_type": "stream",
     "text": [
      "2.77032771530715*P*Π_4*Pd\n",
      "(2.77032771530715, P, Π_4, Pd)\n",
      "-0.272019649514071*P*Π_0*Pd\n",
      "(-0.272019649514071, P, Π_0, Pd)\n",
      "-2.05817102727149*P*Π_2*Pd\n",
      "(-2.05817102727149, P, Π_2, Pd)\n",
      "-0.485868271756646*P*Π_1*Pd\n",
      "(-0.485868271756646, P, Π_1, Pd)\n",
      "3.33019067678556*P*Π_1*Π_3*Pd\n",
      "(3.33019067678556, P, Π_1, Π_3, Pd)\n",
      "2.77032771530716*P*Π_2*Π_0*Pd\n",
      "(2.77032771530716, P, Π_2, Π_0, Pd)\n",
      "-1.15229372655726*P*Π_4*Π_2*Pd\n",
      "(-1.15229372655726, P, Π_4, Π_2, Pd)\n",
      "-4.82849874257864*P*Π_4*Π_1*Pd\n",
      "(-4.82849874257864, P, Π_4, Π_1, Pd)\n"
     ]
    },
    {
     "data": {
      "text/latex": [
       "$\\displaystyle - 0.272019649514071 Pd Π_{0} - 0.485868271756646 Pd Π_{1} + 3.33019067678556 Pd Π_{1} Π_{3} - 2.05817102727149 Pd Π_{2} + 2.77032771530716 Pd Π_{2} Π_{0} + 2.77032771530715 Pd Π_{4} - 4.82849874257864 Pd Π_{4} Π_{1} - 1.15229372655726 Pd Π_{4} Π_{2}$"
      ],
      "text/plain": [
       "-0.272019649514071⋅Pd⋅Π₀ - 0.485868271756646⋅Pd⋅Π₁ + 3.33019067678556⋅Pd⋅Π₁⋅Π₃\n",
       " - 2.05817102727149⋅Pd⋅Π₂ + 2.77032771530716⋅Pd⋅Π₂⋅Π₀ + 2.77032771530715⋅Pd⋅Π₄\n",
       " - 4.82849874257864⋅Pd⋅Π₄⋅Π₁ - 1.15229372655726⋅Pd⋅Π₄⋅Π₂"
      ]
     },
     "metadata": {},
     "output_type": "display_data"
    },
    {
     "name": "stdout",
     "output_type": "stream",
     "text": [
      "2.77032771530715*Pd*Π_4\n",
      "(2.77032771530715, Pd, Π_4)\n",
      "-0.272019649514071*Pd*Π_0\n",
      "(-0.272019649514071, Pd, Π_0)\n",
      "-2.05817102727149*Pd*Π_2\n",
      "(-2.05817102727149, Pd, Π_2)\n",
      "-0.485868271756646*Pd*Π_1\n",
      "(-0.485868271756646, Pd, Π_1)\n",
      "3.33019067678556*Pd*Π_1*Π_3\n",
      "(3.33019067678556, Pd, Π_1, Π_3)\n",
      "2.77032771530716*Pd*Π_2*Π_0\n",
      "(2.77032771530716, Pd, Π_2, Π_0)\n",
      "-1.15229372655726*Pd*Π_4*Π_2\n",
      "(-1.15229372655726, Pd, Π_4, Π_2)\n",
      "-4.82849874257864*Pd*Π_4*Π_1\n",
      "(-4.82849874257864, Pd, Π_4, Π_1)\n"
     ]
    },
    {
     "data": {
      "text/latex": [
       "$\\displaystyle - 0.272019649514071 Pd Π_{0} + 3.33019067678556 Pd Π_{1} Π_{3} Π_{0} + 0.71215668803567 Pd Π_{2} Π_{0} - 1.15229372655726 Pd Π_{4} Π_{2} Π_{0}$"
      ],
      "text/plain": [
       "-0.272019649514071⋅Pd⋅Π₀ + 3.33019067678556⋅Pd⋅Π₁⋅Π₃⋅Π₀ + 0.71215668803567⋅Pd⋅\n",
       "Π₂⋅Π₀ - 1.15229372655726⋅Pd⋅Π₄⋅Π₂⋅Π₀"
      ]
     },
     "metadata": {},
     "output_type": "display_data"
    },
    {
     "name": "stdout",
     "output_type": "stream",
     "text": [
      "-0.272019649514071*Pd*Π_0\n",
      "(-0.272019649514071, Pd, Π_0)\n",
      "0.71215668803567*Pd*Π_2*Π_0\n",
      "(0.712156688035670, Pd, Π_2, Π_0)\n",
      "3.33019067678556*Pd*Π_1*Π_3*Π_0\n",
      "(3.33019067678556, Pd, Π_1, Π_3, Π_0)\n",
      "-1.15229372655726*Pd*Π_4*Π_2*Π_0\n",
      "(-1.15229372655726, Pd, Π_4, Π_2, Π_0)\n"
     ]
    },
    {
     "data": {
      "text/latex": [
       "$\\displaystyle - 0.485868271756646 Pd Π_{1} + 3.33019067678556 Pd Π_{1} Π_{3} Π_{1} - 2.05817102727149 Pd Π_{4} Π_{1}$"
      ],
      "text/plain": [
       "-0.485868271756646⋅Pd⋅Π₁ + 3.33019067678556⋅Pd⋅Π₁⋅Π₃⋅Π₁ - 2.05817102727149⋅Pd⋅\n",
       "Π₄⋅Π₁"
      ]
     },
     "metadata": {},
     "output_type": "display_data"
    },
    {
     "name": "stdout",
     "output_type": "stream",
     "text": [
      "-0.485868271756646*Pd*Π_1\n",
      "(-0.485868271756646, Pd, Π_1)\n",
      "-2.05817102727149*Pd*Π_4*Π_1\n",
      "(-2.05817102727149, Pd, Π_4, Π_1)\n",
      "3.33019067678556*Pd*Π_1*Π_3*Π_1\n",
      "(3.33019067678556, Pd, Π_1, Π_3, Π_1)\n"
     ]
    },
    {
     "data": {
      "text/latex": [
       "$\\displaystyle - 0.272019649514071 Pd Π_{0} Π_{2} - 2.05817102727149 Pd Π_{2} + 2.77032771530716 Pd Π_{2} Π_{0} Π_{2} + 1.6180339887499 Pd Π_{4} Π_{2}$"
      ],
      "text/plain": [
       "-0.272019649514071⋅Pd⋅Π₀⋅Π₂ - 2.05817102727149⋅Pd⋅Π₂ + 2.77032771530716⋅Pd⋅Π₂⋅\n",
       "Π₀⋅Π₂ + 1.6180339887499⋅Pd⋅Π₄⋅Π₂"
      ]
     },
     "metadata": {},
     "output_type": "display_data"
    },
    {
     "name": "stdout",
     "output_type": "stream",
     "text": [
      "-2.05817102727149*Pd*Π_2\n",
      "(-2.05817102727149, Pd, Π_2)\n",
      "1.6180339887499*Pd*Π_4*Π_2\n",
      "(1.61803398874990, Pd, Π_4, Π_2)\n",
      "-0.272019649514071*Pd*Π_0*Π_2\n",
      "(-0.272019649514071, Pd, Π_0, Π_2)\n",
      "2.77032771530716*Pd*Π_2*Π_0*Π_2\n",
      "(2.77032771530716, Pd, Π_2, Π_0, Π_2)\n"
     ]
    },
    {
     "data": {
      "text/latex": [
       "$\\displaystyle - 0.272019649514071 Pd Π_{0} Π_{3} + 2.84432240502891 Pd Π_{1} Π_{3} + 2.77032771530716 Pd Π_{2} Π_{0} Π_{3} - 4.82849874257864 Pd Π_{4} Π_{1} Π_{3}$"
      ],
      "text/plain": [
       "-0.272019649514071⋅Pd⋅Π₀⋅Π₃ + 2.84432240502891⋅Pd⋅Π₁⋅Π₃ + 2.77032771530716⋅Pd⋅\n",
       "Π₂⋅Π₀⋅Π₃ - 4.82849874257864⋅Pd⋅Π₄⋅Π₁⋅Π₃"
      ]
     },
     "metadata": {},
     "output_type": "display_data"
    },
    {
     "name": "stdout",
     "output_type": "stream",
     "text": [
      "2.84432240502891*Pd*Π_1*Π_3\n",
      "(2.84432240502891, Pd, Π_1, Π_3)\n",
      "-0.272019649514071*Pd*Π_0*Π_3\n",
      "(-0.272019649514071, Pd, Π_0, Π_3)\n",
      "2.77032771530716*Pd*Π_2*Π_0*Π_3\n",
      "(2.77032771530716, Pd, Π_2, Π_0, Π_3)\n",
      "-4.82849874257864*Pd*Π_4*Π_1*Π_3\n",
      "(-4.82849874257864, Pd, Π_4, Π_1, Π_3)\n"
     ]
    },
    {
     "data": {
      "text/latex": [
       "$\\displaystyle - 0.485868271756646 Pd Π_{1} Π_{4} - 2.05817102727149 Pd Π_{2} Π_{4} + 2.77032771530715 Pd Π_{4} - 4.82849874257864 Pd Π_{4} Π_{1} Π_{4} - 1.15229372655726 Pd Π_{4} Π_{2} Π_{4}$"
      ],
      "text/plain": [
       "-0.485868271756646⋅Pd⋅Π₁⋅Π₄ - 2.05817102727149⋅Pd⋅Π₂⋅Π₄ + 2.77032771530715⋅Pd⋅\n",
       "Π₄ - 4.82849874257864⋅Pd⋅Π₄⋅Π₁⋅Π₄ - 1.15229372655726⋅Pd⋅Π₄⋅Π₂⋅Π₄"
      ]
     },
     "metadata": {},
     "output_type": "display_data"
    },
    {
     "name": "stdout",
     "output_type": "stream",
     "text": [
      "2.77032771530715*Pd*Π_4\n",
      "(2.77032771530715, Pd, Π_4)\n",
      "-2.05817102727149*Pd*Π_2*Π_4\n",
      "(-2.05817102727149, Pd, Π_2, Π_4)\n",
      "-0.485868271756646*Pd*Π_1*Π_4\n",
      "(-0.485868271756646, Pd, Π_1, Π_4)\n",
      "-1.15229372655726*Pd*Π_4*Π_2*Π_4\n",
      "(-1.15229372655726, Pd, Π_4, Π_2, Π_4)\n",
      "-4.82849874257864*Pd*Π_4*Π_1*Π_4\n",
      "(-4.82849874257864, Pd, Π_4, Π_1, Π_4)\n"
     ]
    },
    {
     "data": {
      "text/latex": [
       "$\\displaystyle - 0.272019649514071 Pd Π_{0} P - 0.485868271756646 Pd Π_{1} P + 3.33019067678556 Pd Π_{1} Π_{3} P - 2.05817102727149 Pd Π_{2} P + 2.77032771530716 Pd Π_{2} Π_{0} P + 2.77032771530715 Pd Π_{4} P - 4.82849874257864 Pd Π_{4} Π_{1} P - 1.15229372655726 Pd Π_{4} Π_{2} P$"
      ],
      "text/plain": [
       "-0.272019649514071⋅Pd⋅Π₀⋅P - 0.485868271756646⋅Pd⋅Π₁⋅P + 3.33019067678556⋅Pd⋅Π\n",
       "₁⋅Π₃⋅P - 2.05817102727149⋅Pd⋅Π₂⋅P + 2.77032771530716⋅Pd⋅Π₂⋅Π₀⋅P + 2.7703277153\n",
       "0715⋅Pd⋅Π₄⋅P - 4.82849874257864⋅Pd⋅Π₄⋅Π₁⋅P - 1.15229372655726⋅Pd⋅Π₄⋅Π₂⋅P"
      ]
     },
     "metadata": {},
     "output_type": "display_data"
    },
    {
     "name": "stdout",
     "output_type": "stream",
     "text": [
      "2.77032771530715*Pd*Π_4*P\n",
      "(2.77032771530715, Pd, Π_4, P)\n",
      "-0.272019649514071*Pd*Π_0*P\n",
      "(-0.272019649514071, Pd, Π_0, P)\n",
      "-2.05817102727149*Pd*Π_2*P\n",
      "(-2.05817102727149, Pd, Π_2, P)\n",
      "-0.485868271756646*Pd*Π_1*P\n",
      "(-0.485868271756646, Pd, Π_1, P)\n",
      "3.33019067678556*Pd*Π_1*Π_3*P\n",
      "(3.33019067678556, Pd, Π_1, Π_3, P)\n",
      "2.77032771530716*Pd*Π_2*Π_0*P\n",
      "(2.77032771530716, Pd, Π_2, Π_0, P)\n",
      "-1.15229372655726*Pd*Π_4*Π_2*P\n",
      "(-1.15229372655726, Pd, Π_4, Π_2, P)\n",
      "-4.82849874257864*Pd*Π_4*Π_1*P\n",
      "(-4.82849874257864, Pd, Π_4, Π_1, P)\n"
     ]
    },
    {
     "data": {
      "text/latex": [
       "$\\displaystyle - 0.272019649514071 Pd Π_{0} Pd - 0.485868271756646 Pd Π_{1} Pd + 3.33019067678556 Pd Π_{1} Π_{3} Pd - 2.05817102727149 Pd Π_{2} Pd + 2.77032771530716 Pd Π_{2} Π_{0} Pd + 2.77032771530715 Pd Π_{4} Pd - 4.82849874257864 Pd Π_{4} Π_{1} Pd - 1.15229372655726 Pd Π_{4} Π_{2} Pd$"
      ],
      "text/plain": [
       "-0.272019649514071⋅Pd⋅Π₀⋅Pd - 0.485868271756646⋅Pd⋅Π₁⋅Pd + 3.33019067678556⋅Pd\n",
       "⋅Π₁⋅Π₃⋅Pd - 2.05817102727149⋅Pd⋅Π₂⋅Pd + 2.77032771530716⋅Pd⋅Π₂⋅Π₀⋅Pd + 2.77032\n",
       "771530715⋅Pd⋅Π₄⋅Pd - 4.82849874257864⋅Pd⋅Π₄⋅Π₁⋅Pd - 1.15229372655726⋅Pd⋅Π₄⋅Π₂⋅\n",
       "Pd"
      ]
     },
     "metadata": {},
     "output_type": "display_data"
    },
    {
     "name": "stdout",
     "output_type": "stream",
     "text": [
      "2.77032771530715*Pd*Π_4*Pd\n",
      "(2.77032771530715, Pd, Π_4, Pd)\n",
      "-0.272019649514071*Pd*Π_0*Pd\n",
      "(-0.272019649514071, Pd, Π_0, Pd)\n",
      "-2.05817102727149*Pd*Π_2*Pd\n",
      "(-2.05817102727149, Pd, Π_2, Pd)\n",
      "-0.485868271756646*Pd*Π_1*Pd\n",
      "(-0.485868271756646, Pd, Π_1, Pd)\n",
      "3.33019067678556*Pd*Π_1*Π_3*Pd\n",
      "(3.33019067678556, Pd, Π_1, Π_3, Pd)\n",
      "2.77032771530716*Pd*Π_2*Π_0*Pd\n",
      "(2.77032771530716, Pd, Π_2, Π_0, Pd)\n",
      "-1.15229372655726*Pd*Π_4*Π_2*Pd\n",
      "(-1.15229372655726, Pd, Π_4, Π_2, Pd)\n",
      "-4.82849874257864*Pd*Π_4*Π_1*Pd\n",
      "(-4.82849874257864, Pd, Π_4, Π_1, Pd)\n"
     ]
    }
   ],
   "source": [
    "#Localising Matrix Constraints\n",
    "\n",
    "M = []\n",
    "\n",
    "for lett1 in I + L1:\n",
    "    row = []\n",
    "    for lett2 in I + L1:\n",
    "        expr = sp.expand(lett1*iKCBS._T*lett2).subs(gDicts).subs(sqDicts).subs(gDicts).subs(sqDicts)\n",
    "#         print(\"the expression\")\n",
    "        display(expr)\n",
    "        res = 0\n",
    "        if expr != sp.Integer(0):\n",
    "            #if there are many terms in the sum, sum over them\n",
    "            if(isinstance(expr,sp.Add)):\n",
    "                for _ in expr.args:\n",
    "#                     print(\"Going in\")\n",
    "                    res_ = lettersForExpr(_)\n",
    "#                     print(\"printing res \")\n",
    "#                     print(res_)\n",
    "                    __ = res_[2]*X[sTi[res_[0]]][sTi[res_[1]]]            \n",
    "                    res += __ #this will contain something like 1.13*Π_1*Π_2 + 1.42*Π_1*Π_2\n",
    "            #If it is just one term, compute directly\n",
    "            else:\n",
    "                res_ = lettersForExpr(expr)\n",
    "#                 print(\"printing res \")\n",
    "#                 print(res_)\n",
    "                __ = res_[2]*X[sTi[res_[0]]][sTi[res_[1]]]            \n",
    "                res += __ #this will contain something like 1.13*Π_1*Π_2 + 1.42*Π_1*Π_2\n",
    "\n",
    "        row.append(res) #this appends that calculation into the row\n",
    "    M.append(row) #this appends the row into the list M\n",
    "        \n",
    "lM = cp.bmat(M) #this converts the list M into a matrix which can be used to impose constraints in cvxpy\n",
    "\n",
    "\n",
    "locConstraints = [lM >> 0]\n"
   ]
  },
  {
   "cell_type": "code",
   "execution_count": 26,
   "metadata": {
    "init_cell": true
   },
   "outputs": [],
   "source": [
    "#######################Constraints from the observations\n",
    "obsConstraints=[]\n",
    "a=1/np.sqrt(5)-0.001\n",
    "data = [a,a,a,a,a]\n",
    "\n",
    "j=0\n",
    "for l1 in L1[:4]:    \n",
    "    obsConstraints += [ X[sTi[l1],sTi[l1]] == data[j] ]\n",
    "    j+=1\n",
    "    \n",
    "del j"
   ]
  },
  {
   "cell_type": "code",
   "execution_count": 27,
   "metadata": {
    "collapsed": true
   },
   "outputs": [
    {
     "name": "stdout",
     "output_type": "stream",
     "text": [
      "----------------------------------------------------------------------------\n",
      "\tSCS v2.1.1 - Splitting Conic Solver\n",
      "\t(c) Brendan O'Donoghue, Stanford University, 2012\n",
      "----------------------------------------------------------------------------\n",
      "Lin-sys: sparse-direct, nnz in A = 22606\n",
      "eps = 1.00e-04, alpha = 1.50, max_iters = 5000, normalize = 1, scale = 1.00\n",
      "acceleration_lookback = 0, rho_x = 1.00e-03\n",
      "Variables n = 20100, constraints m = 21709\n",
      "Cones:\tprimal zero / dual free vars: 1573\n",
      "\tsd vars: 20136, sd blks: 2\n",
      "FATAL: Cannot solve SDPs with > 2x2 matrices without linked blas+lapack libraries\n",
      "Install blas+lapack and re-compile SCS with blas+lapack libray locations\n",
      "ERROR: init_cone failure\n",
      "Setup time: 1.23e-02s\n",
      "Failure:could not initialize work\n",
      "max:gla\n",
      "----------------------------------------------------------------------------\n",
      "\tSCS v2.1.1 - Splitting Conic Solver\n",
      "\t(c) Brendan O'Donoghue, Stanford University, 2012\n",
      "----------------------------------------------------------------------------\n",
      "Lin-sys: sparse-direct, nnz in A = 22606\n",
      "eps = 1.00e-04, alpha = 1.50, max_iters = 5000, normalize = 1, scale = 1.00\n",
      "acceleration_lookback = 0, rho_x = 1.00e-03\n",
      "Variables n = 20100, constraints m = 21709\n",
      "Cones:\tprimal zero / dual free vars: 1573\n",
      "\tsd vars: 20136, sd blks: 2\n",
      "FATAL: Cannot solve SDPs with > 2x2 matrices without linked blas+lapack libraries\n",
      "Install blas+lapack and re-compile SCS with blas+lapack libray locations\n",
      "ERROR: init_cone failure\n",
      "Setup time: 1.14e-02s\n",
      "Failure:could not initialize work\n",
      "min:ba\n"
     ]
    }
   ],
   "source": [
    "probMin = cp.Problem(cp.Maximize(-y),constraints[:2000]+obsConstraints + locConstraints)\n",
    "probMax = cp.Problem(cp.Maximize(y),constraints[:2000]+obsConstraints + locConstraints)\n",
    "#prob.solve()\n",
    "#prob.solve(solver=cp.CVXOPT,verbose=True,**{'':ldl,'refinement':20,'show_progress':True,'feastol':10e-10,'reltol':10e-10,'abstol':10e-10})\n",
    "try: \n",
    "    print(\"max:\",probMax.solve(verbose=True))\n",
    "except:\n",
    "    print(\"max:gla\")\n",
    "try:\n",
    "    print(\"min:\",-probMin.solve(verbose=True))\n",
    "except:\n",
    "    print(\"min:ba\")"
   ]
  },
  {
   "cell_type": "code",
   "execution_count": 238,
   "metadata": {},
   "outputs": [],
   "source": [
    "#import cvxopt as co\n",
    "\n"
   ]
  }
 ],
 "metadata": {
  "celltoolbar": "Initialization Cell",
  "kernelspec": {
   "display_name": "Python 3",
   "language": "python",
   "name": "python3"
  },
  "language_info": {
   "codemirror_mode": {
    "name": "ipython",
    "version": 3
   },
   "file_extension": ".py",
   "mimetype": "text/x-python",
   "name": "python",
   "nbconvert_exporter": "python",
   "pygments_lexer": "ipython3",
   "version": "3.7.5"
  },
  "toc": {
   "base_numbering": 1,
   "nav_menu": {},
   "number_sections": true,
   "sideBar": true,
   "skip_h1_title": false,
   "title_cell": "Table of Contents",
   "title_sidebar": "Contents",
   "toc_cell": false,
   "toc_position": {
    "height": "711.818px",
    "left": "588px",
    "top": "469.284px",
    "width": "165px"
   },
   "toc_section_display": true,
   "toc_window_display": true
  }
 },
 "nbformat": 4,
 "nbformat_minor": 2
}
