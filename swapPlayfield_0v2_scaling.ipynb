{
 "cells": [
  {
   "cell_type": "markdown",
   "metadata": {
    "heading_collapsed": true
   },
   "source": [
    "# Libraries"
   ]
  },
  {
   "cell_type": "code",
   "execution_count": 30,
   "metadata": {
    "hidden": true,
    "init_cell": true
   },
   "outputs": [],
   "source": [
    "import numpy as np\n",
    "import sympy as sp\n",
    "import sympy.physics.quantum as sq\n",
    "import sympy.physics.quantum.qubit as sqq\n",
    "import sympy.physics.quantum.gate as sqg\n",
    "\n",
    "import cvxpy as cp\n",
    "\n",
    "import matplotlib.pyplot as plt\n",
    "import networkx as nx\n",
    "\n",
    "sp.init_printing(use_latex='mathjax')\n",
    "from IPython.display import display\n",
    "\n",
    "\n",
    "import pickle\n",
    "import dill\n",
    "dill.settings['recurse'] = True\n",
    "\n",
    "\n",
    "#for pretty printing of matrices\n",
    "import pandas as pd"
   ]
  },
  {
   "cell_type": "markdown",
   "metadata": {
    "heading_collapsed": true,
    "hidden": true
   },
   "source": [
    "## idealFid"
   ]
  },
  {
   "cell_type": "code",
   "execution_count": 31,
   "metadata": {
    "hidden": true,
    "init_cell": true
   },
   "outputs": [],
   "source": [
    "class idealFid:\n",
    "    \n",
    "    def __init__(s):\n",
    "        P1 = s.proj(1,5)\n",
    "        P2 = s.proj(2,5)\n",
    "        P3 = s.proj(3,5)\n",
    "        P4 = s.proj(4,5)\n",
    "        P5 = s.proj(5,5)\n",
    "        s.P = [P1,P2,P3,P4,P5]\n",
    "        s.terms = 5\n",
    "\n",
    "    def proj(s,j,n):\n",
    "        pi=np.pi\n",
    "        temp1 = np.cos(pi/n)/(1+np.cos(pi/n))\n",
    "        temp2 = 1-temp1\n",
    "        temp3 = j*pi*(n-1)/n\n",
    "        vec = np.asarray([np.sqrt(temp1),np.sqrt(temp2)*np.sin(temp3), np.sqrt(temp2)*np.cos(temp3)])\n",
    "        mat = np.outer(vec,vec)\n",
    "        return mat\n",
    "    \n",
    "    \n",
    "    def idealVal(s,projList):\n",
    "        op = s.P[projList[0]]\n",
    "        for iProj in projList[1:]:\n",
    "            op = op@s.P[iProj]\n",
    "        return op[0,0]\n",
    "    "
   ]
  },
  {
   "cell_type": "markdown",
   "metadata": {
    "heading_collapsed": true,
    "hidden": true
   },
   "source": [
    "## Extending the braket library to include orthogonality"
   ]
  },
  {
   "cell_type": "code",
   "execution_count": 32,
   "metadata": {
    "hidden": true,
    "init_cell": true
   },
   "outputs": [],
   "source": [
    "class onStruct:\n",
    "    G = nx.Graph()\n",
    "\n",
    "class onKet(sq.Ket,onStruct):\n",
    "    def _eval_innerproduct(self,bra,**hints):\n",
    "        #Check if the innerproduct is with yourself, then set 1\n",
    "        if sq.Dagger(bra) == self:\n",
    "            return sp.Integer(1)\n",
    "        #Else, if the innerproduct is with a neighbor from the graph, set 0\n",
    "        elif sq.Dagger(bra) in G[self]:\n",
    "            return sp.Integer(0)\n",
    "        #Else, do nothing; not enough information\n",
    "    \n",
    "    @classmethod\n",
    "    def set_on_rel(cls,givenG):\n",
    "        cls.G=givenG\n",
    "    \n",
    "    @classmethod\n",
    "    def dual_class(self):\n",
    "        return onBra\n",
    "\n",
    "    \n",
    "class onBra(sq.Bra,onStruct):\n",
    "    @classmethod\n",
    "    def dual_class(self):\n",
    "        return onKet"
   ]
  },
  {
   "cell_type": "code",
   "execution_count": 33,
   "metadata": {
    "hidden": true,
    "init_cell": true
   },
   "outputs": [],
   "source": [
    "class bKet(sq.Ket):\n",
    "    \n",
    "    #total number of kets (automatically increases as new instances are initialised)\n",
    "    totalKets=0\n",
    "    \n",
    "    #this method automates the increase\n",
    "    @classmethod\n",
    "    def _eval_args(cls,args):\n",
    "        #validate input type\n",
    "        if not isinstance(args[0],int):\n",
    "            raise ValueError(\"Integer expected in the argument, got: %r\"%args[0])\n",
    "\n",
    "        #if a ket |5> is initialised, the dimension is assumed to be 6 since we have |0>,|1>,...|5>\n",
    "        if int(args[0])+1 > cls.totalKets:\n",
    "            cls.totalKets=args[0]+1\n",
    "        \n",
    "        #pass control back to the base class\n",
    "        return sq.Ket._eval_args(args) \n",
    "    \n",
    "    #Could not find a way of using just one function; need to go through the two\n",
    "    #based on a combination of the qubit implementation and the \n",
    "    def _represent_default_basis(s,**options):\n",
    "        return s._represent_bKet(None,**options) #syntax taken from the Qubit library\n",
    "    \n",
    "    def _represent_bKet(s,basis,**options): #_represent_default_basis\n",
    "        a=np.zeros(s.__class__.totalKets,dtype=int)\n",
    "        a[s.label[0]]=1\n",
    "        return sp.Matrix(a)\n",
    "    \n",
    "    @classmethod\n",
    "    def set_dimension(cls,arg):\n",
    "        cls.totalKets=arg\n",
    "    \n",
    "    def _eval_innerproduct(self,bra,**hints):\n",
    "        #Check if the innerproduct is with yourself, then set 1\n",
    "        if sq.Dagger(bra) == self:\n",
    "            return sp.Integer(1)\n",
    "        #Else, if the innerproduct is with a neighbor from the graph, set 0\n",
    "        else:\n",
    "            return sp.Integer(0)\n",
    "        #Else, do nothing; not enough information\n",
    "    \n",
    "\n",
    "    @classmethod\n",
    "    def dual_class(self):\n",
    "        return bBra\n",
    "\n",
    "    \n",
    "class bBra(sq.Bra):\n",
    "    # @classmethod\n",
    "    # def _eval_args(cls,args):\n",
    "    #     return args\n",
    "    \n",
    "    @classmethod\n",
    "    def dual_class(cls):\n",
    "        return bKet"
   ]
  },
  {
   "cell_type": "markdown",
   "metadata": {
    "heading_collapsed": true,
    "hidden": true
   },
   "source": [
    "### Debugging | representation example"
   ]
  },
  {
   "cell_type": "code",
   "execution_count": null,
   "metadata": {
    "hidden": true
   },
   "outputs": [],
   "source": [
    "class SzUpKet(sq.Ket):\n",
    "    def _represent_SzUpKet(s,basis,**options):\n",
    "        return sp.Matrix([1,0])\n",
    "    \n",
    "#     def _represent_SzOp(s,basis,**options):\n",
    "#         return sp.Matrix([1,0])\n",
    "\n",
    "class SzOp(sq.Operator):\n",
    "    pass\n",
    "\n",
    "sz = SzOp('Sz')\n",
    "up = SzUpKet('up')\n",
    "sq.represent(up,basis=SzUpKet) #,basis=sz)"
   ]
  },
  {
   "cell_type": "markdown",
   "metadata": {
    "heading_collapsed": true,
    "hidden": true
   },
   "source": [
    "### Testing | Dimension increasing?"
   ]
  },
  {
   "cell_type": "code",
   "execution_count": null,
   "metadata": {
    "hidden": true
   },
   "outputs": [],
   "source": [
    "# class bKet(sq.Ket):\n",
    "    \n",
    "#     #total number of kets (automatically increases as new instances are initialised)\n",
    "#     totalKets=0\n",
    "    \n",
    "#     #this method automates the increase\n",
    "#     @classmethod\n",
    "#     def _eval_args(cls,args):\n",
    "#         #validate input type\n",
    "#         if not isinstance(args[0],int):\n",
    "#             raise ValueError(\"Integer expected in the argument, got: %r\"%args[0])\n",
    "\n",
    "#         #if a ket |5> is initialised, the dimension is assumed to be 6 since we have |0>,|1>,...|5>\n",
    "#         if int(args[0])+1 > cls.totalKets:\n",
    "#             cls.totalKets=args[0]+1\n",
    "        \n",
    "#         #pass control back to the base class\n",
    "#         return sq.Ket._eval_args(args) \n",
    "    \n",
    "#     #Could not find a way of using just one function; need to go through the two\n",
    "#     #based on a combination of the qubit implementation and the \n",
    "#     def _represent_default_basis(s,**options):\n",
    "#         return s._represent_bKet(None,**options) #syntax taken from the Qubit library\n",
    "    \n",
    "#     def _represent_bKet(s,basis,**options): #_represent_default_basis\n",
    "#         a=np.zeros(s.__class__.totalKets,dtype=int)\n",
    "#         a[s.label[0]]=1\n",
    "#         return sp.Matrix(a)\n",
    "    \n",
    "#     @classmethod\n",
    "#     def set_dimension(cls,arg):\n",
    "#         cls.totalKets=arg\n",
    "    \n",
    "#     def _eval_innerproduct(self,bra,**hints):\n",
    "#         #Check if the innerproduct is with yourself, then set 1\n",
    "#         if sq.Dagger(bra) == self:\n",
    "#             return sp.Integer(1)\n",
    "#         #Else, if the innerproduct is with a neighbor from the graph, set 0\n",
    "#         else:\n",
    "#             return sp.Integer(0)\n",
    "#         #Else, do nothing; not enough information\n",
    "    \n",
    "\n",
    "#     @classmethod\n",
    "#     def dual_class(self):\n",
    "#         return bBra\n",
    "\n",
    "    \n",
    "# class bBra(sq.Bra):\n",
    "#     # @classmethod\n",
    "#     # def _eval_args(cls,args):\n",
    "#     #     return args\n",
    "    \n",
    "#     @classmethod\n",
    "#     def dual_class(cls):\n",
    "#         return bKet"
   ]
  },
  {
   "cell_type": "code",
   "execution_count": null,
   "metadata": {
    "hidden": true
   },
   "outputs": [],
   "source": [
    "a=bKet(0)\n",
    "\n",
    "b=a*sq.Dagger(a)\n",
    "\n",
    "print(bKet.totalKets)\n",
    "sq.represent(a)\n",
    "\n",
    "c=bKet(3);\n",
    "sq.represent(a)\n",
    "sq.represent(b)\n",
    "sq.represent(c)"
   ]
  },
  {
   "cell_type": "code",
   "execution_count": null,
   "metadata": {
    "hidden": true
   },
   "outputs": [],
   "source": [
    "a=bKet(0); a"
   ]
  },
  {
   "cell_type": "code",
   "execution_count": null,
   "metadata": {
    "hidden": true
   },
   "outputs": [],
   "source": [
    "sq.represent(a)"
   ]
  },
  {
   "cell_type": "code",
   "execution_count": null,
   "metadata": {
    "hidden": true
   },
   "outputs": [],
   "source": [
    "b=bKet(1); b"
   ]
  },
  {
   "cell_type": "code",
   "execution_count": null,
   "metadata": {
    "hidden": true
   },
   "outputs": [],
   "source": [
    "sq.represent(b)"
   ]
  },
  {
   "cell_type": "code",
   "execution_count": null,
   "metadata": {
    "hidden": true
   },
   "outputs": [],
   "source": [
    "sq.represent(a)"
   ]
  },
  {
   "cell_type": "code",
   "execution_count": null,
   "metadata": {
    "hidden": true
   },
   "outputs": [],
   "source": [
    "c=bKet(3); c"
   ]
  },
  {
   "cell_type": "code",
   "execution_count": null,
   "metadata": {
    "hidden": true
   },
   "outputs": [],
   "source": [
    "sq.represent(a)"
   ]
  },
  {
   "cell_type": "markdown",
   "metadata": {
    "heading_collapsed": true,
    "hidden": true
   },
   "source": [
    "## Extending the tensor product functionality—tsimp and tdsimp"
   ]
  },
  {
   "cell_type": "code",
   "execution_count": 34,
   "metadata": {
    "hidden": true,
    "init_cell": true
   },
   "outputs": [],
   "source": [
    "\n",
    "def powerDrop(expr):\n",
    "    if isinstance(expr,sp.Pow): #TODO: make sure the base is not too complex\n",
    "        # print(\"PowerEncountered\")\n",
    "        if expr.exp>=2:\n",
    "            # print(\"glaba\")\n",
    "            # display(expr.base)\n",
    "            _=sq.qapply(sp.Mul(expr.base,expr.base))\n",
    "            if expr.exp>2:\n",
    "                return powerDrop(_*sp.Pow(expr.base,expr.exp-2))\n",
    "            else:\n",
    "                return _\n",
    "        else:\n",
    "            return expr #autoDropDim(sp.Mul(expr.base,expr.base))\n",
    "    else:\n",
    "        if expr.has(sp.Pow):\n",
    "            #if it is a sum or a product, run this function for each part and then combine the parts; return the result\n",
    "            if isinstance(expr,sp.Mul) or isinstance(expr,sp.Add) or isinstance(expr,sq.TensorProduct):\n",
    "                new_args=[] #list(expr.args)\n",
    "                for _ in expr.args:\n",
    "                    new_args.append(powerDrop(_))\n",
    "                if isinstance(expr,sp.Mul):        \n",
    "                    return sp.Mul(*new_args)\n",
    "                elif isinstance(expr,sp.Add):\n",
    "                    return sp.Add(*new_args)  \n",
    "                elif isinstance(expr,sq.TensorProduct):\n",
    "                    return sq.TensorProduct(*new_args)  \n",
    "\n",
    "            else:\n",
    "                return expr\n",
    "            #There would be no else here because tensor product simp would have removed that part\n",
    "        else:\n",
    "            return expr        \n",
    "    \n",
    "def autoDropDim(expr):\n",
    "    #print(\"Expression\")\n",
    "    #if isinstance(expr,sp.Mul):\n",
    "        #print(\"type:multiplier\")\n",
    "    #display(expr)\n",
    "    \n",
    "    \n",
    "    if isinstance(expr,sq.TensorProduct):\n",
    "        new_args=[]\n",
    "        for _ in expr.args:\n",
    "            #display(_)\n",
    "            #print(type(_))\n",
    "            if _ != sp.Integer(1):\n",
    "            #if not isinstance(_,core.numbers.One):\n",
    "                new_args.append(_)\n",
    "        #print(\"TensorProduct with %d non-ones in the tensor product\"%len(new_args))\n",
    "        if(len(new_args)==0):\n",
    "            return sp.Integer(1)\n",
    "        else:\n",
    "            return sq.TensorProduct(*new_args)\n",
    "    else:\n",
    "        if expr.has(sq.TensorProduct):\n",
    "            #if it is a sum or a product, run this function for each part and then combine the parts; return the result\n",
    "            if isinstance(expr,sp.Mul) or isinstance(expr,sp.Add):\n",
    "                new_args=[] #list(expr.args)\n",
    "                for _ in expr.args:\n",
    "                    new_args.append(autoDropDim(_))\n",
    "                if isinstance(expr,sp.Mul):        \n",
    "                    return sp.Mul(*new_args)\n",
    "                elif isinstance(expr,sp.Add):\n",
    "                    return sp.Add(*new_args)  \n",
    "                \n",
    "            #There would be no else here because tensor product simp would have removed that part\n",
    "        else:\n",
    "            return expr #when the expression is just an integer or some such\n",
    "\n",
    "\n",
    "        \n",
    "def tsimp(e,pruneMe=True):\n",
    "    res=sq.qapply(powerDrop(sq.tensorproduct.tensor_product_simp(sq.qapply(e)).doit()))\n",
    "    if pruneMe:\n",
    "        return prune(res)\n",
    "    else:\n",
    "        return res\n",
    "\n",
    "def tdsimp(e,pruneMe=True):\n",
    "    res=autoDropDim(sq.qapply(powerDrop(autoDropDim(sq.tensorproduct.tensor_product_simp(sq.qapply(e)).doit()))))\n",
    "    if pruneMe:\n",
    "        return prune(res)\n",
    "    else:\n",
    "        return res\n",
    "    #return autoDropDim(sq.tensorproduct.tensor_product_simp_Mul(e).doit())\n",
    "    #return autoDropDim(sq.tensorproduct.tensor_product_simp_Mul(sq.qapply(e)).doit())\n",
    "    #return autoDropDim(sq.tensorproduct.tensor_product_simp(e).doit())"
   ]
  },
  {
   "cell_type": "markdown",
   "metadata": {
    "heading_collapsed": true,
    "hidden": true
   },
   "source": [
    "## Find Coeff was not reliable"
   ]
  },
  {
   "cell_type": "code",
   "execution_count": 35,
   "metadata": {
    "hidden": true,
    "init_cell": true
   },
   "outputs": [],
   "source": [
    "# depth=0\n",
    "# depthThresh=20\n",
    "\n",
    "def findCoeff(obj,lett):\n",
    "#     global depth\n",
    "    \n",
    "#     print(\"Parent object:\")\n",
    "#     display(obj)\n",
    "    \n",
    "    if(obj==None):\n",
    "#         print(\"coefficent is zero\")\n",
    "        return 0\n",
    "    elif not (isinstance(obj,sp.Mul) or isinstance(obj,sp.Add)):        \n",
    "        #the coefficient may be one but we couldn't see it earlier\n",
    "        return obj.coeff(lett)\n",
    "    else:\n",
    "        #try to find the coefficient directly        \n",
    "        result=obj.coeff(lett)\n",
    "        #Did not work? \n",
    "        if(result==0):\n",
    "            #try for each segment\n",
    "            for _ in obj.args:\n",
    "#                 print(\"child:\")\n",
    "#                 display(_)\n",
    "                result=_.coeff(lett)\n",
    "#                 print(\"coefficient of child:\",result)\n",
    "                \n",
    "                #still did not work?\n",
    "                if(result==0):\n",
    "                    #try recursing\n",
    "                    result = findCoeff(_,lett)    \n",
    "                \n",
    "                #found? Stop searching\n",
    "                if(result!=0):\n",
    "                    break\n",
    "                    #return result\n",
    "\n",
    "        #return whatever was found | worked\n",
    "        return result\n",
    "\n"
   ]
  },
  {
   "cell_type": "markdown",
   "metadata": {
    "heading_collapsed": true,
    "hidden": true
   },
   "source": [
    "## Prune"
   ]
  },
  {
   "cell_type": "code",
   "execution_count": 36,
   "metadata": {
    "hidden": true,
    "init_cell": true
   },
   "outputs": [],
   "source": [
    "def prune(expr,thr=10,remNum=False):\n",
    "    if isinstance(expr,sp.Number): \n",
    "        if remNum==False:\n",
    "            if sp.Abs(expr)<10**(-thr):\n",
    "                return sp.Integer(0)\n",
    "            else:\n",
    "                return expr\n",
    "        else:\n",
    "            return sp.Integer(1)\n",
    "    else:\n",
    "        if expr.has(sp.Number):\n",
    "            #if it is a sum or a product, run this function for each part and then combine the parts; return the result\n",
    "            if isinstance(expr,sp.Mul) or isinstance(expr,sp.Add) or isinstance(expr,sq.TensorProduct):\n",
    "                new_args=[] #list(expr.args)\n",
    "                for _ in expr.args:\n",
    "                    new_args.append(prune(_,thr,remNum))\n",
    "                if isinstance(expr,sp.Mul):        \n",
    "                    return sp.Mul(*new_args)\n",
    "                elif isinstance(expr,sp.Add):\n",
    "                    return sp.Add(*new_args)  \n",
    "                elif isinstance(expr,sq.TensorProduct):\n",
    "                    return sq.TensorProduct(*new_args)  \n",
    "\n",
    "            else:\n",
    "                return expr\n",
    "            #There would be no else here because tensor product simp would have removed that part\n",
    "        else:\n",
    "            return expr        \n",
    "\n",
    "# test=(A[0]*2)\n",
    "# test.has(sp.Number)\n",
    "# prune(test,remNum=True)"
   ]
  },
  {
   "cell_type": "markdown",
   "metadata": {
    "hidden": true
   },
   "source": [
    "## Power to Mul"
   ]
  },
  {
   "cell_type": "code",
   "execution_count": 37,
   "metadata": {
    "hidden": true,
    "init_cell": true
   },
   "outputs": [],
   "source": [
    "# From: https://stackoverflow.com/questions/28117770/sympy-multiplications-of-exponential-rather-than-exponential-of-sum\n",
    "# Thankfully I didn't have to sit and write this!\n",
    "\n",
    "def pow_to_mul_(expr):\n",
    "    \"\"\"\n",
    "    Convert integer powers in an expression to Muls, like a**2 => a*a.\n",
    "    \"\"\"\n",
    "    pows = list(expr.atoms(sp.Pow))\n",
    "    if any(not e.is_Integer for b, e in (i.as_base_exp() for i in pows)):\n",
    "\n",
    "        raise ValueError(\"A power contains a non-integer exponent\")\n",
    "    repl = zip(pows, (sp.Mul(*[b]*e,evaluate=False) for b,e in (i.as_base_exp() for i in pows)))\n",
    "    return expr.subs(repl)"
   ]
  },
  {
   "cell_type": "code",
   "execution_count": 38,
   "metadata": {
    "hidden": true,
    "init_cell": true
   },
   "outputs": [],
   "source": [
    "## Not very well written\n",
    "\n",
    "def pow_to_mul(expr):\n",
    "    if isinstance(expr,sp.Pow): \n",
    "        return pow_to_mul_(expr)\n",
    "    else:\n",
    "        if expr.has(sp.Pow):\n",
    "            #if it is a sum or a product, run this function for each part and then combine the parts; return the result\n",
    "            if isinstance(expr,sp.Mul) or isinstance(expr,sp.Add):\n",
    "                new_args=[] #list(expr.args)\n",
    "                for _ in expr.args:\n",
    "                    new_args.append(pow_to_mul(_))\n",
    "                    \n",
    "                if isinstance(expr,sp.Mul):        \n",
    "                    return sp.Mul(*new_args,evaluate=False)\n",
    "                elif isinstance(expr,sp.Add):\n",
    "                    return sp.Add(*new_args)\n",
    "            else:\n",
    "                return expr\n",
    "        else:\n",
    "            return expr      "
   ]
  },
  {
   "cell_type": "code",
   "execution_count": 39,
   "metadata": {
    "hidden": true,
    "init_cell": true
   },
   "outputs": [],
   "source": [
    "def mul_to_single_mul(expr):\n",
    "    if isinstance(expr,sp.Mul): \n",
    "        new_args=[]\n",
    "        for _ in expr.args:\n",
    "            if isinstance(_,sp.Mul):\n",
    "                for __ in _.args:\n",
    "                    new_args.append(__)\n",
    "            elif expr.has(sp.Mul):\n",
    "                new_args.append(mul_to_single_mul(_)) #If inside a mul, there is another mul, extract it\n",
    "            else:\n",
    "                new_args.append(_)  #if it is something entirely different, bring it along as it is\n",
    "        \n",
    "        return sp.Mul(*new_args,evaluate=False) #put the new arguments into a single multiply and return\n",
    "    \n",
    "    else:\n",
    "        if expr.has(sp.Mul):\n",
    "            #if it is a sum, run this function for each part and then combine the parts; return the result\n",
    "            if isinstance(expr,sp.Add):\n",
    "                new_args=[] #list(expr.args)\n",
    "                for _ in expr.args:\n",
    "                    new_args.append(mul_to_single_mul(_))\n",
    "                    \n",
    "                if isinstance(expr,sp.Add):\n",
    "                    return sp.Add(*new_args)\n",
    "            else:\n",
    "                return expr\n",
    "        else:\n",
    "            return expr          "
   ]
  },
  {
   "cell_type": "code",
   "execution_count": 40,
   "metadata": {
    "hidden": true,
    "init_cell": true
   },
   "outputs": [],
   "source": [
    "def pow_to_single_mul(expr):\n",
    "    return mul_to_single_mul(pow_to_mul(expr))"
   ]
  },
  {
   "cell_type": "markdown",
   "metadata": {},
   "source": [
    "# Global Settings (TODO: collect them here)"
   ]
  },
  {
   "cell_type": "code",
   "execution_count": 41,
   "metadata": {
    "init_cell": true
   },
   "outputs": [],
   "source": [
    "testType = 1\n",
    "# 0 means no test; the real thing\n",
    "# 1 is the max quantum value without observations and localising matrix\n",
    "# 2 means construct F for only the state\n",
    "# 3 means ...\n",
    "\n",
    "hDepth = 2 #depth of the heirarchy; depends on the number of Πs in the expression for Fidelity; 3 needed"
   ]
  },
  {
   "cell_type": "markdown",
   "metadata": {
    "heading_collapsed": true
   },
   "source": [
    "# Ideal KCBS calculations"
   ]
  },
  {
   "cell_type": "code",
   "execution_count": 42,
   "metadata": {
    "code_folding": [
     21,
     47,
     59,
     108,
     135,
     270
    ],
    "hidden": true,
    "init_cell": true
   },
   "outputs": [],
   "source": [
    "\n",
    "class cls_iKCBS:    \n",
    "    \n",
    "    def __init__(s,n,verbose=False,thr=10,test=False,forceCalc=False):\n",
    "        print(\"The testType is\", testType)\n",
    "        s.thr=thr\n",
    "        if verbose==True:\n",
    "            print(\"Creating projectors etc\")\n",
    "\n",
    "        cls_iKCBS.n=n\n",
    "        #j in 0,1,2,3,4\n",
    "        \n",
    "        s.ke = [bKet(j) for j in range(3)]    \n",
    "        s.br = [sq.Dagger(s.ke[j]) for j in range(3)]\n",
    "        \n",
    "        s.Πs = []\n",
    "                \n",
    "        ### N'd here\n",
    "        #evaluate the projectors for the ideal case\n",
    "        for j in range(n):\n",
    "            s.Πs.append(sp.N(s.eval(j,n)))\n",
    "\n",
    "        if(test and False):\n",
    "            print(\"Testing Πs\")\n",
    "            for i in range(n):\n",
    "                for k in range(n):\n",
    "                    print(\"Inner product of \",i,\" and \",k,\" projectors is\")\n",
    "                    temp=0\n",
    "                    for j in range(3):\n",
    "                        temp+=sq.qapply(s.br[j]*s.Πs[i]*s.Πs[k]*s.ke[j])\n",
    "                    print(temp)\n",
    "                    del temp\n",
    "                    \n",
    "   \n",
    "        #calculate the matrix representation\n",
    "        s.matΠs = [sq.represent(_) for _ in s.Πs] #I leave this as well to avoid breaking things; TODO: try to remove it\n",
    "        \n",
    "        ### N'd here\n",
    "        #the first two vectors are taken to be k'\n",
    "        s.kp = [sp.N(s.eval(0,n,True)),sp.N(s.eval(1,n,True))]\n",
    "        \n",
    "        #the third is constructed as k0 x k1 (cross product) and then added to the list\n",
    "        s.kp.append(sp.N(s.cross(s.kp)))\n",
    "        \n",
    "        \n",
    "        #evaluates the conjugate for each element in the list\n",
    "        s.bp=[sq.Dagger(ikp) for ikp in s.kp]                \n",
    "        \n",
    "        if(test):\n",
    "            #Testing orthogonality\n",
    "            print(\"Testing orthogonality of the braP and ketP objects\")\n",
    "            for braP in s.bp:\n",
    "                for ketP in s.kp:\n",
    "                    print(sq.qapply(braP*ketP))#sp.N(sq.qapply(braP*ketP)))\n",
    "        \n",
    "    \n",
    "        #the Translation operator\n",
    "        s.T = s.kp[0]*s.bp[2] + s.kp[1]*s.bp[0] + s.kp[2]*s.bp[1] \n",
    "        s.Ti = s.kp[2]*s.bp[0] + s.kp[0]*s.bp[1] + s.kp[1]*s.bp[2] #TODO: Automate this\n",
    "        \n",
    "        if(test):\n",
    "            print(\"Testing the basic Translation operator\")\n",
    "            for braP in s.bp:\n",
    "                for ketP in s.kp:\n",
    "                    #print(braP)\n",
    "                    print(sq.qapply(braP*s.T*ketP))#sp.N(sq.qapply(braP*ketP)))\n",
    "                    #print(sp.N(sq.qapply(sp.N(braP)*sp.N(s.T)*sp.N(ketP))))\n",
    "            display(sq.represent(s.T))\n",
    "\n",
    "        \n",
    "        #s.mT = s.mkp[0]*s.mbp[2] + s.mkp[1]*s.mbp[0] + s.mkp[2]*s.mbp[1] \n",
    "        #s.mTi = s.mkp[2]*s.mbp[0] + s.mkp[0]*s.mbp[1] + s.mkp[1]*s.mbp[2] #TODO: Automate this\n",
    "        \n",
    "        s.matT=sq.represent(s.T)\n",
    "        \n",
    "        #Now the abstract ones\n",
    "        \n",
    "        #creates n abstract projectors (basically just a bunch of non-commuting symbols)\n",
    "        s._Πs = sp.symbols('Π_0:%d'%n,commutative=False)\n",
    "        \n",
    "        #We use this to create a localising matrix\n",
    "        #We must imposes conj(_P) * Translation >> 0\n",
    "        s._P = sp.symbols('P',commutative=False) \n",
    "        s._Pd = sp.symbols('Pd',commutative=False) #we define them separately because sq.dagger doesn't work too well with symbols which are not based on kets etc\n",
    "        #s._Pd = sq.dagger(sp)\n",
    "        \n",
    "        s.daggerDict = {}\n",
    "        s.sqDict = {}\n",
    "        for i in range(n):\n",
    "            s.daggerDict[sq.Dagger(s._Πs[i])]=s._Πs[i]\n",
    "            s.sqDict[(s._Πs[i])*(s._Πs[i])]=s._Πs[i]\n",
    "        \n",
    "        s.daggerDict[sq.Dagger(s._Pd)]=s._P\n",
    "        s.daggerDict[sq.Dagger(s._P)]=s._Pd\n",
    "        s.sqDict[s._P*s._Pd]=sp.Integer(1)\n",
    "        s.sqDict[s._Pd*s._P]=sp.Integer(1)\n",
    "        \n",
    "        #not very happy because it should come from the graph\n",
    "        s.gDict = {}\n",
    "        for i in range(n):\n",
    "            s.gDict[s._Πs[i]*s._Πs[(i+1)%n]]=sp.Integer(0)\n",
    "            s.gDict[s._Πs[(i+1)%n]*s._Πs[i]]=sp.Integer(0)\n",
    "        \n",
    "        if verbose==True:\n",
    "            print(\"Solving a linear system to find the coefficients for expressing the translation operator as a sum of projectors\")\n",
    "\n",
    "        s._T=s.eval_lin_c() #NB: it computes the coefficients into s.c    \n",
    "        \n",
    "        ##Debugging\n",
    "        if(test):\n",
    "            print(\"Converting the numerical solution into a usable form\")\n",
    "            numTDict={}\n",
    "            for i in range(n):\n",
    "                numTDict[s._Πs[i]]=s.Πs[i]\n",
    "            #display(s._T)\n",
    "            numT = s._T.subs(numTDict)\n",
    "            #display(numT)\n",
    "            print(\"Testing the numerically found Translation operator.\")\n",
    "            # for braP in s.bp:\n",
    "            #     for ketP in s.kp:\n",
    "            #         print(sq.qapply(braP*numT*ketP)) #sp.N(sq.qapply(braP*ketP)))\n",
    "            numMatT=sq.represent(numT)\n",
    "            display(sp.Transpose(numMatT) * numMatT)\n",
    "            \n",
    "            display(sq.represent(numT))\n",
    "            \n",
    "\n",
    "        if verbose==True:\n",
    "            print(\"Solving the cross Π\")\n",
    "        \n",
    "        #s._Πcross = s.eval_Π_cross(RHS=sq.represent(s.kp[2]*s.bp[2])) #s.eval_lin_c(RHS=sq.represent(s.kp[2]*s.bp[2]))\n",
    "        s._Πcross = s.eval_lin_c(RHS=sq.represent(s.kp[2]*s.bp[2]))\n",
    "            \n",
    "        if verbose==True:\n",
    "            print(\"Evaluating the first term of F\")\n",
    "\n",
    "        if(test):\n",
    "            s.Πcross = s.eval_lin_c(RHS=sq.represent(s.kp[2]*s.bp[2]),retIde=True)\n",
    "            s.test_swapGate()\n",
    "            \n",
    "        if(not test):\n",
    "            \n",
    "            try:\n",
    "                if(testType==2):\n",
    "                    y=dill.load(open(\"Fsaved3_stateOnly\", \"rb\"))\n",
    "                else:\n",
    "                    y=dill.load(open(\"Fsaved3\", \"rb\"))\n",
    "                s.F=y\n",
    "                print(\"Loaded from file\")\n",
    "            except:\n",
    "                y=None\n",
    "            \n",
    "            if y==None or forceCalc==True:\n",
    "                print(\"Evaluating F\")\n",
    "                s.eval_state_hw()\n",
    "                s.Fs = [s.eval_state_F()]    \n",
    "                if(testType!=2):\n",
    "                    for i in range(n):\n",
    "                        print(\"iteration: \",i)\n",
    "                        s.Fs.append(s.Fs[-1]+5.0*s.eval_state_F(s.Πs[i],s._Πs[i]))\n",
    "                s.F = s.Fs[-1] #last element, the most recent calculation\n",
    "                \n",
    "                if(testType==2):\n",
    "                    dill.dump(s.F, open(\"Fsaved3_stateOnly\", \"wb\"))\n",
    "                else:\n",
    "                    dill.dump(s.F, open(\"Fsaved3\", \"wb\"))\n",
    "                print(\"Saved to disk\")\n",
    "        \n",
    "        print(\"done\")\n",
    "        \n",
    "    def test_swapGate(s):\n",
    "        s.TP = sq.TensorProduct \n",
    "        s.T = s.kp[0]*s.bp[2] + s.kp[1]*s.bp[0] + s.kp[2]*s.bp[1] \n",
    "        s.Ti = s.kp[2]*s.bp[0] + s.kp[0]*s.bp[1] + s.kp[1]*s.bp[2] #TODO: Automate this\n",
    "        \n",
    "        Id_ = s.kp[0]*s.bp[0] + s.kp[1]*s.bp[1] + s.kp[2]*s.bp[2]\n",
    "        \n",
    "        dontDie=prune(sp.N(sq.qapply(s.T*s.T)))\n",
    "        \n",
    "        _U_=sq.represent(s.TP(Id_,s.kp[0]*s.bp[0])) + sq.represent(s.TP(s.T,s.kp[1]*s.bp[1])) \\\n",
    "        + sq.represent(s.TP(dontDie,s.kp[2]*s.bp[2]))\n",
    "        display(_U_)\n",
    "        \n",
    "        _T_=sq.represent(s.TP(Id_,s.kp[0]*s.bp[0] + s.kp[2]*s.bp[1] + s.kp[1]*s.bp[2]))\n",
    "        display(_T_)        \n",
    "        \n",
    "        #_V_= sq.represent(s.TP(s.kp[0]*s.bp[0],Id_) + s.TP(s.kp[1]*s.bp[1],s.Ti) + s.TP(s.kp[2]*s.bp[2],s.Ti*sp.N(s.Ti)))\n",
    "        _V_ = sq.represent(s.TP(s.Πs[0],Id_) + s.TP(s.Πs[1],s.Ti) + s.TP(s.Πcross,s.Ti*sp.N(s.Ti)))\n",
    "        display(_V_)\n",
    "        \n",
    "        print(\"comparing the projectors with the ket based projectors\")\n",
    "        \n",
    "        display(sq.represent(s.kp[0]*s.bp[0]))\n",
    "        display(sq.represent(s.Πs[0]))\n",
    "\n",
    "        display(sq.represent(s.kp[1]*s.bp[1]))\n",
    "        display(sq.represent(s.Πs[1]))\n",
    "\n",
    "        display(sq.represent(s.kp[2]*s.bp[2]))\n",
    "        display(sq.represent(s.Πcross))\n",
    "        \n",
    "        print(\"did this work?\")\n",
    "        \n",
    "        \n",
    "        SWAP = _T_*_U_*_V_*_U_\n",
    "        display(SWAP)\n",
    "        \n",
    "        testVec=sq.represent(s.TP(s.ke[0],s.ke[1]))\n",
    "        print(\"Multiplying this\")\n",
    "        display(testVec)\n",
    "        display(SWAP*testVec)\n",
    "        \n",
    "    def eval_state_hw(s):\n",
    "        s.TP = sq.TensorProduct\n",
    "        #dontDie=prune(sp.N(sq.qapply(s._T*s._T)))\n",
    "        \n",
    "        #s._U_=tsimp(s.TP(sp.Integer(1),prune(sp.N(s.kp[0]*s.bp[0]))) + s.TP(s._T,prune(sp.N(s.kp[1]*s.bp[1]))) + s.TP(dontDie,prune(sp.N(s.kp[2]*s.bp[2]))))\n",
    "        s._U_=tsimp(s.TP(sp.Integer(1),prune(sp.N(s.kp[0]*s.bp[0]))) + s.TP(s._Pd,prune(sp.N(s.kp[1]*s.bp[1]))) + s.TP(s._Pd * s._Pd,prune(sp.N(s.kp[2]*s.bp[2]))))\n",
    "        s._T_=s.TP(sp.Integer(1),prune(sp.N(s.kp[0]*s.bp[0])) + prune(sp.N(s.kp[2]*s.bp[1])) + prune(sp.N(s.kp[1]*s.bp[2])))\n",
    "        s._V_=prune(s.TP(s._Πs[0],sp.Integer(1)) + s.TP(s._Πs[1],prune(sp.N(s.Ti))) + s.TP(prune(s._Πcross),prune(sp.N(s.Ti)*sp.N(s.Ti))))\n",
    "        \n",
    "    \n",
    "    def eval_state_F(s,proj=sp.Integer(1),proj_=sp.Integer(1)):\n",
    "        s.TP = sq.TensorProduct #just to make naming easy\n",
    "            \n",
    "\n",
    "        print(\"Evaluated U,T,V; staying alive\")\n",
    "\n",
    "        _kin_ = s.TP(sp.Integer(1),sp.N(sq.qapply(proj*s.ke[0])))\n",
    "        _bin_ = s.TP(sp.Integer(1),sp.N(sq.qapply(s.br[0]*proj)))\n",
    "        \n",
    "        \n",
    "        _kout_ = s.TP(sp.Integer(1)*proj_,sp.N(s.kp[0])) #s.TP(sp.Integer(1),sp.N(s.kp[0]))\n",
    "        _bout_ = s.TP(sp.Integer(1)*proj_,sp.N(s.bp[0])) #s.TP(sp.Integer(1),sp.N(s.bp[0]))\n",
    "                                                                                             \n",
    "\n",
    "        print(\"evaluation stage:\")\n",
    "        F0=tsimp(_bin_ * s._T_).subs(s.gDict)\n",
    "        print(\"1\")\n",
    "        F1=tsimp(F0 * s._U_).subs(s.gDict) #*_V_\n",
    "        print(\"2\")\n",
    "        # #s.F2=tsimp(F1 * _V_)\n",
    "        # #G00 = tsimp(F1*_V_)\n",
    "        # #print(\"2.1\")\n",
    "        # #display(_U_)\n",
    "        # G00 = tsimp(_U_*_kout_).subs(s.gDict)\n",
    "        # print(\"2.1\")\n",
    "        # G01 = tsimp(_V_*G00).subs(s.gDict)\n",
    "        # print(\"2.2\")\n",
    "        # #G0 = tsimp(_V_*_U_)\n",
    "        # t1=sq.qapply(F1*G01).subs(s.gDict)\n",
    "        # print(\"2.3\")\n",
    "        \n",
    "        G0=tsimp(s._V_*_kout_).subs(s.gDict)\n",
    "        print(\"3\")\n",
    "        \n",
    "        #display(F1)\n",
    "        #display(G0)\n",
    "        t1=sq.qapply(F1*G0).subs(s.gDict)\n",
    "        \n",
    "        t2=t1.subs(s.daggerDict).subs(s.sqDict) #not sure why the s.daggerDict step is needed;\n",
    "        \n",
    "        H0 = tsimp(t2) #tsimp(F1*G0)\n",
    "        print(\"4\")\n",
    "        #s.F1 = s._bout_ * _T_ * _U_ * _V_ * s._kout_\n",
    "        #s.F2 = s.F1 * \n",
    "        s.F = tdsimp(H0)\n",
    "        print(\"5\")\n",
    "        \n",
    "        #return tdsimp(sp.expand(s.F * sq.Dagger(s.F)))\n",
    "        return sp.expand((sq.Dagger(s.F) * s.F).subs(s.daggerDict)).subs(s.sqDict).subs(s.sqDict).subs(s.gDict)\n",
    "        if verbose==True:\n",
    "            print(\"Dinner out is a go.\")\n",
    "        \n",
    "    def cross(s,vecs):\n",
    "        ca=[sq.qapply(sq.Dagger(s.ke[i])*vecs[0]).doit() for i in range(3)]\n",
    "        cb=[sq.qapply(sq.Dagger(s.ke[i])*vecs[1]).doit() for i in range(3)]\n",
    "        \n",
    "        res = (ca[2-1]*cb[3-1] - ca[3-1]*cb[2-1])*s.ke[0] + \\\n",
    "             (ca[3-1]*cb[1-1]-ca[1-1]*cb[3-1])*s.ke[1] + \\\n",
    "             (ca[1-1]*cb[2-1] - ca[2-1]*cb[1-1])*s.ke[2]\n",
    "        \n",
    "        return res\n",
    "\n",
    "    \n",
    "    #This I may not even be using\n",
    "    #I had made eval_lin_c more capable\n",
    "    def eval_Π_cross(s,RHS,varCount=None):\n",
    "        cls=s.__class__\n",
    "        if varCount==None:\n",
    "            varCount=cls_iKCBS.n*2\n",
    "        if varCount <= cls.n:\n",
    "            raise ValueError(\"number of variables should be at least n\")\n",
    "    \n",
    "        #a=sp.symbols('a0:%d'%varCount)\n",
    "        varCount=9\n",
    "        a=sp.symbols('a0:%d'%9)\n",
    "        ap=[]\n",
    "        #s.b=sp.symbols('b0:%d'%varCount)\n",
    "        b=[] #family of solutions\n",
    "        s.c=[] #particular solution with the free variables set to one\n",
    "        \n",
    "        #Setting up of constraints\n",
    "        #If the system is not able to find a solution, consider increasing\n",
    "        #the number of variables by taking different sets of products or products of three operators\n",
    "        \n",
    "        TfΠ = [a[0]*s.Πs[0] + a[1]*s.Πs[1] + a[2]*s.Πs[2] + a[3]*s.Πs[3] + a[4]*s.Πs[4] + \\\n",
    "                     a[5]*s.Πs[4]*s.Πs[2] + \\\n",
    "                     a[6]*s.Πs[4]*s.Πs[1] + \\\n",
    "                     a[7]*s.Πs[1]*s.Πs[3] + \\\n",
    "                     a[8]*s.Πs[2]*s.Πs[0] ]\n",
    "        \n",
    "        _TfΠ = [a[0]*s._Πs[0] + a[1]*s._Πs[1] + a[2]*s._Πs[2] + a[3]*s._Πs[3] + a[4]*s._Πs[4] + \\\n",
    "                     a[5]*s._Πs[4]*s._Πs[2] + \\\n",
    "                     a[6]*s._Πs[4]*s._Πs[1] + \\\n",
    "                     a[7]*s._Πs[1]*s._Πs[3] + \\\n",
    "                     a[8]*s._Πs[2]*s._Πs[0] ]        \n",
    "        \n",
    "#         TfΠ=[a[0]*s.Πs[0]]\n",
    "#         _TfΠ=[a[0]*s._Πs[0]]\n",
    "#         ap.append(a[0])\n",
    "#         for i in range(1 +cls.n):\n",
    "#             #if (not (i==2 or i==3)):\n",
    "#             TfΠ.append(TfΠ[-1] + a[i]*s.Πs[i])\n",
    "#             _TfΠ.append(_TfΠ[-1] + a[i]*s._Πs[i])\n",
    "#             ap.append(a[i])            \n",
    "\n",
    "#         if cls.n == 5:\n",
    "#             TfΠ.append(TfΠ[-1] + a[5]*s.Πs[4]*s.Πs[2] \\\n",
    "#                     + a[6]*s.Πs[4]*s.Πs[1] \\\n",
    "#                     + a[7]*s.Πs[1]*s.Πs[3] \\\n",
    "#                     + a[8]*s.Πs[2]*s.Πs[0])\n",
    "#             _TfΠ.append(_TfΠ[-1] + a[5]*s._Πs[4]*s._Πs[2] \\\n",
    "#                     + a[6]*s._Πs[4]*s._Πs[1] \\\n",
    "#                     + a[7]*s._Πs[1]*s._Πs[3] \\\n",
    "#                     + a[8]*s._Πs[2]*s._Πs[0])\n",
    "#             ap+=[a[5],a[6],a[7],a[8]]\n",
    "\n",
    "        LHS=sq.represent(TfΠ[-1])\n",
    "        #display(_TfΠ)\n",
    "        # LHS=a[0]*s.matΠs[0]\n",
    "        # for i in range(1,cls.n):\n",
    "        #     LHS=LHS+a[i]*s.matΠs[i]\n",
    "        # for i in range(cls.n,varCount):\n",
    "        #     LHS=LHS+a[i]*s.matΠs[i%cls.n]*s.matΠs[(i+2)%cls.n]\n",
    "            \n",
    "        #RHS=s.matT\n",
    "        \n",
    "        if cls.n!=5:\n",
    "            soln=sp.solve(sp.N(LHS-RHS),a,dict=True)\n",
    "        else:\n",
    "            soln=sp.solve(sp.N(LHS-RHS),a[:9],dict=True)\n",
    "            #soln=sp.solve(sp.N(LHS-RHS),ap,dict=True)\n",
    "        \n",
    "        print(soln)\n",
    "        #print(\"type:\",type(soln[0]))#, \" and shape:\", soln.shape())\n",
    "        for key,value in soln[0].items():\n",
    "            if np.abs(value)<10**(-s.thr):\n",
    "                soln[0][key]=sp.Integer(0)\n",
    "        \n",
    "        print(soln)\n",
    "        '''\n",
    "            #soln=sp.solve([a[0]-1,a[1]-2,a[2]-3,a[3]-4,a[4]-5,a[5]-1,a[6]-1,a[7]-1,a[8]-1,a[9]-1],a,dict=True)\n",
    "\n",
    "            # sols = solve([t1 + t2 + t3, eq1, eq2], [t1, t2, t3], dict=True)\n",
    "            # sols[0][t1] # This is t1 in the first solution        \n",
    "        '''\n",
    "\n",
    "        #Dictionary to assign one/zero to free variables\n",
    "        dRem={}\n",
    "        \n",
    "        #IMPORTANT: \n",
    "        #In sympy, symbols/expressions are unmutable (you can't change them ever);\n",
    "        #You can save a substituted expression into a new expression (and use a symbol to denote it)\n",
    "        #To wit: when you substitute, a new expression is produced\n",
    "\n",
    "        for i in range(varCount):\n",
    "            #the variables which were evaluated to an expression, assign them to b[i]\n",
    "            try:\n",
    "                b.append(soln[0][a[i]])      \n",
    "            #if the variable was free, assign b[i] to be one\n",
    "            #and create a dictionary to substitute these free variables\n",
    "            except:\n",
    "                b.append(sp.Integer(1))\n",
    "                dRem[a[i]]=1\n",
    "        \n",
    "        #in the solution saved into b[i], substitute for the free variables using the dictionary\n",
    "        #save the result into the variable c\n",
    "        s.c = [_.subs(dRem) for _ in b]\n",
    "\n",
    "        #substitute the solution into the coefficients in Tfπ_p, the operator T as a sum of projectors (and its products)\n",
    "        dFin={}\n",
    "        for i in range(varCount):\n",
    "            dFin[a[i]]=s.c[i]                \n",
    "        \n",
    "        return _TfΠ[-1].subs(dFin)            \n",
    "        \n",
    "    \n",
    "    #evaluates the matrices and vectors\n",
    "    def eval(s,j,n,ve=False):\n",
    "        N=sp.Integer(n)\n",
    "        J=sp.Integer(j)\n",
    "        #print(N,j)\n",
    "        one=sp.Integer(1)\n",
    "        #print(one)\n",
    "        α1=sp.cos((sp.pi)/N)/(one+sp.cos(sp.pi/N)) #verified\n",
    "        #a1=sp.cos(sp.pi/N)\n",
    "        #\n",
    "        #print(α1)\n",
    "        \n",
    "        α2=one-α1 #verified\n",
    "        α3=J * sp.pi * (N-one)/N #verified\n",
    "        \n",
    "        vec = sp.sqrt(α1)*s.ke[0] + sp.sqrt(α2)*sp.sin(α3)*s.ke[1] + sp.sqrt(α2)*sp.cos(α3)*s.ke[2]\n",
    "        \n",
    "        projector = vec*sq.Dagger(vec)\n",
    "           \n",
    "        #matrixprojector = sp.Matrix([0,0])\n",
    "        #return projector\n",
    "        #display(sq.represent(projector))\n",
    "        #display(sq.represent(vec))\n",
    "        \n",
    "        if ve==False:\n",
    "            return projector\n",
    "        else:\n",
    "            return vec\n",
    "        \n",
    "    def eval_lin_c(s,varCount=None,RHS=None,retIde=False):\n",
    "        cls=s.__class__\n",
    "        if varCount==None:\n",
    "            varCount=cls_iKCBS.n*2\n",
    "        if varCount <= cls.n:\n",
    "            raise ValueError(\"number of variables should be at least n\")\n",
    "    \n",
    "        a=sp.symbols('a0:%d'%varCount)\n",
    "        #s.b=sp.symbols('b0:%d'%varCount)\n",
    "        b=[] #family of solutions\n",
    "        s.c=[] #particular solution with the free variables set to one\n",
    "        \n",
    "        #Setting up of constraints\n",
    "        #If the system is not able to find a solution, consider increasing\n",
    "        #the number of variables by taking different sets of products or products of three operators\n",
    "        TfΠ=[a[0]*s.Πs[0]]\n",
    "        _TfΠ=[a[0]*s._Πs[0]]\n",
    "        \n",
    "        for i in range(1,cls.n):\n",
    "            TfΠ.append(TfΠ[-1] + a[i]*s.Πs[i])\n",
    "            _TfΠ.append(_TfΠ[-1] + a[i]*s._Πs[i])\n",
    "\n",
    "        if cls.n != 5:            \n",
    "            for i in range(cls.n,varCount):\n",
    "                TfΠ.append(TfΠ[-1] + a[i]*s.Πs[i%cls.n]*s.Πs[(i+2)%cls.n])\n",
    "                _TfΠ.append(_TfΠ[-1] + a[i]*s._Πs[i%cls.n]*s._Πs[(i+2)%cls.n])\n",
    "        else:\n",
    "            TfΠ.append(TfΠ[-1] + a[5]*s.Πs[4]*s.Πs[2] \\\n",
    "                    + a[6]*s.Πs[4]*s.Πs[1] \\\n",
    "                    + a[7]*s.Πs[1]*s.Πs[3] \\\n",
    "                    + a[8]*s.Πs[2]*s.Πs[0])\n",
    "            _TfΠ.append(_TfΠ[-1] + a[5]*s._Πs[4]*s._Πs[2] \\\n",
    "                    + a[6]*s._Πs[4]*s._Πs[1] \\\n",
    "                    + a[7]*s._Πs[1]*s._Πs[3] \\\n",
    "                    + a[8]*s._Πs[2]*s._Πs[0])\n",
    "            \n",
    "            \n",
    "        LHS=sq.represent(TfΠ[-1])\n",
    "        #display(_TfΠ)\n",
    "        # LHS=a[0]*s.matΠs[0]\n",
    "        # for i in range(1,cls.n):\n",
    "        #     LHS=LHS+a[i]*s.matΠs[i]\n",
    "        # for i in range(cls.n,varCount):\n",
    "        #     LHS=LHS+a[i]*s.matΠs[i%cls.n]*s.matΠs[(i+2)%cls.n]\n",
    "        if RHS == None:\n",
    "            RHS=s.matT\n",
    "        \n",
    "        if cls.n!=5:\n",
    "            soln=sp.solve(sp.N(LHS-RHS),a,dict=True)\n",
    "        else:\n",
    "            soln=sp.solve(sp.N(LHS-RHS),a[:9],dict=True)\n",
    "        \n",
    "        print(soln)\n",
    "        #print(\"type:\",type(soln[0]))#, \" and shape:\", soln.shape())\n",
    "        for key,value in soln[0].items():\n",
    "            if np.abs(value)<10**(-s.thr):\n",
    "                soln[0][key]=sp.Integer(0)\n",
    "        \n",
    "        print(soln)\n",
    "        '''\n",
    "            #soln=sp.solve([a[0]-1,a[1]-2,a[2]-3,a[3]-4,a[4]-5,a[5]-1,a[6]-1,a[7]-1,a[8]-1,a[9]-1],a,dict=True)\n",
    "\n",
    "            # sols = solve([t1 + t2 + t3, eq1, eq2], [t1, t2, t3], dict=True)\n",
    "            # sols[0][t1] # This is t1 in the first solution        \n",
    "        '''\n",
    "\n",
    "        #Dictionary to assign one/zero to free variables\n",
    "        dRem={}\n",
    "        \n",
    "        #IMPORTANT: \n",
    "        #In sympy, symbols/expressions are unmutable (you can't change them ever);\n",
    "        #You can save a substituted expression into a new expression (and use a symbol to denote it)\n",
    "        #To wit: when you substitute, a new expression is produced\n",
    "\n",
    "        for i in range(varCount):\n",
    "            #the variables which were evaluated to an expression, assign them to b[i]\n",
    "            try:\n",
    "                b.append(soln[0][a[i]])      \n",
    "            #if the variable was free, assign b[i] to be one\n",
    "            #and create a dictionary to substitute these free variables\n",
    "            except:\n",
    "                b.append(sp.Integer(1))\n",
    "                dRem[a[i]]=1\n",
    "        \n",
    "        #in the solution saved into b[i], substitute for the free variables using the dictionary\n",
    "        #save the result into the variable c\n",
    "        s.c = [_.subs(dRem) for _ in b]\n",
    "\n",
    "        #substitute the solution into the coefficients in Tfπ_p, the operator T as a sum of projectors (and its products)\n",
    "        dFin={}\n",
    "        for i in range(varCount):\n",
    "            dFin[a[i]]=s.c[i]                \n",
    "        \n",
    "        if retIde==False:\n",
    "            return _TfΠ[-1].subs(dFin)\n",
    "        else:\n",
    "            return TfΠ[-1].subs(dFin)\n",
    "            \n",
    "    def eval_c(s,varCount=None):\n",
    "        cls=s.__class__\n",
    "        if varCount==None:\n",
    "            varCount=cls_iKCBS.n*2\n",
    "        if varCount <= cls.n:\n",
    "            raise ValueError(\"number of variables should be at least n\")\n",
    "    \n",
    "        a=sp.symbols('a0:%d'%varCount)\n",
    "        #s.b=sp.symbols('b0:%d'%varCount)\n",
    "        b=[] #family of solutions\n",
    "        s.c=[] #particular solution with the free variables set to one\n",
    "        \n",
    "        #Setting up of constraints\n",
    "        #If the system is not able to find a solution, consider increasing\n",
    "        #the number of variables by taking different sets of products or products of three operators\n",
    "        TfΠ=a[0]*s.Πs[0]\n",
    "        _TfΠ=a[0]*s._Πs[0]\n",
    "        for i in range(1,cls.n):\n",
    "            TfΠ=TfΠ + a[i]*s.Πs[i]\n",
    "            _TfΠ=_TfΠ + a[i]*s._Πs[i]\n",
    "        for i in range(cls.n,varCount):\n",
    "            TfΠ=TfΠ + a[i]*s.Πs[i%cls.n]*s.Πs[(i+2)%cls.n]\n",
    "            _TfΠ=_TfΠ + a[i]*s._Πs[i%cls.n]*s._Πs[(i+2)%cls.n]\n",
    "            \n",
    "            \n",
    "        LHS=sq.represent(TfΠ)\n",
    "        \n",
    "        # LHS=a[0]*s.matΠs[0]\n",
    "        # for i in range(1,cls.n):\n",
    "        #     LHS=LHS+a[i]*s.matΠs[i]\n",
    "        # for i in range(cls.n,varCount):\n",
    "        #     LHS=LHS+a[i]*s.matΠs[i%cls.n]*s.matΠs[(i+2)%cls.n]\n",
    "            \n",
    "        RHS=s.matT\n",
    "        \n",
    "        soln=sp.solve(sp.N(LHS-RHS),a,dict=True)\n",
    "\n",
    "        '''\n",
    "            #soln=sp.solve([a[0]-1,a[1]-2,a[2]-3,a[3]-4,a[4]-5,a[5]-1,a[6]-1,a[7]-1,a[8]-1,a[9]-1],a,dict=True)\n",
    "\n",
    "            # sols = solve([t1 + t2 + t3, eq1, eq2], [t1, t2, t3], dict=True)\n",
    "            # sols[0][t1] # This is t1 in the first solution        \n",
    "        '''\n",
    "\n",
    "        #Dictionary to assign one/zero to free variables\n",
    "        dRem={}\n",
    "        \n",
    "        #IMPORTANT: \n",
    "        #In sympy, symbols/expressions are unmutable (you can't change them ever);\n",
    "        #You can save a substituted expression into a new expression (and use a symbol to denote it)\n",
    "        #To wit: when you substitute, a new expression is produced\n",
    "\n",
    "        for i in range(varCount):\n",
    "            #the variables which were evaluated to an expression, assign them to b[i]\n",
    "            try:\n",
    "                b.append(soln[0][a[i]])      \n",
    "            #if the variable was free, assign b[i] to be one\n",
    "            #and create a dictionary to substitute these free variables\n",
    "            except:\n",
    "                b.append(sp.Integer(1))\n",
    "                dRem[a[i]]=1\n",
    "        \n",
    "        #in the solution saved into b[i], substitute for the free variables using the dictionary\n",
    "        #save the result into the variable c\n",
    "        s.c = [_.subs(dRem) for _ in b]\n",
    "\n",
    "        #substitute the solution into the coefficients in Tfπ_p, the operator T as a sum of projectors (and its products)\n",
    "        dFin={}\n",
    "        for i in range(varCount):\n",
    "            dFin[a[i]]=s.c[i]                \n",
    "        \n",
    "        return _TfΠ.subs(dFin)\n",
    "        \n",
    "    #This doesn't work as expected\n",
    "    def partial_trace(s,M):\n",
    "        \n",
    "        s.br_ = [ sq.TensorProduct(sq.IdentityOperator(),_) for _ in s.br]\n",
    "        s.ke_ = [ sq.TensorProduct(sq.IdentityOperator(),_) for _ in s.ke]\n",
    "        \n",
    "        res=0*s.br_[0]*M*s.ke_[0]        #to get the type right!\n",
    "        for i in range(3):\n",
    "            for j in range(3):\n",
    "                res=res+s.br_[i]*M*s.ke_[j]\n",
    "        #return sq.qapply(res).doit()\n",
    "        return tsimp(res)\n",
    "        "
   ]
  },
  {
   "cell_type": "code",
   "execution_count": 43,
   "metadata": {
    "hidden": true,
    "init_cell": true,
    "scrolled": false
   },
   "outputs": [
    {
     "name": "stdout",
     "output_type": "stream",
     "text": [
      "The testType is 1\n",
      "Creating projectors etc\n",
      "Solving a linear system to find the coefficients for expressing the translation operator as a sum of projectors\n",
      "[{a0: -0.272019649514071, a1: -0.485868271756646, a2: -2.05817102727149, a3: 9.32265207248423e-16, a4: 2.77032771530715, a5: -1.15229372655726, a6: -4.82849874257864, a7: 3.33019067678556, a8: 2.77032771530716}]\n",
      "[{a0: -0.272019649514071, a1: -0.485868271756646, a2: -2.05817102727149, a3: 0, a4: 2.77032771530715, a5: -1.15229372655726, a6: -4.82849874257864, a7: 3.33019067678556, a8: 2.77032771530716}]\n",
      "Solving the cross Π\n",
      "[{a0: -1.00000000000000, a1: -1.00000000000000, a2: 1.43924480352684e-16, a3: 3.91811281370199e-15, a4: 4.23606797749978, a5: -4.23606797749978, a6: -4.23606797749978, a7: 2.61803398874988, a8: 2.61803398874990}]\n",
      "[{a0: -1.00000000000000, a1: -1.00000000000000, a2: 0, a3: 0, a4: 4.23606797749978, a5: -4.23606797749978, a6: -4.23606797749978, a7: 2.61803398874988, a8: 2.61803398874990}]\n",
      "Evaluating the first term of F\n",
      "Loaded from file\n",
      "done\n"
     ]
    }
   ],
   "source": [
    "iKCBS = cls_iKCBS(5,verbose=True) #,test=False,forceCalc=True)"
   ]
  },
  {
   "cell_type": "code",
   "execution_count": 44,
   "metadata": {
    "hidden": true,
    "init_cell": true
   },
   "outputs": [
    {
     "data": {
      "text/latex": [
       "$\\displaystyle 2.78885438199984 Π_{0} + 0.217286896751641 Π_{0} P Π_{0} + 0.217286896751641 Π_{0} Pd Π_{0} + 0.434573793503282 Π_{0} Pd Π_{1} - 0.568864481005782 Π_{0} Pd Π_{1} Π_{3} - 0.568864481005786 Π_{0} Pd Π_{2} Π_{0} - 0.920442065259927 Π_{0} Pd Π_{4} + 0.920442065259926 Π_{0} Pd Π_{4} Π_{1} + 0.920442065259927 Π_{0} Pd Π_{4} Π_{2} + 0.447213595499959 Π_{0} Pd^{2} Π_{1} - 0.568864481005786 Π_{0} Π_{2} P Π_{0} - 0.568864481005785 Π_{0} Π_{2} Pd Π_{1} + 0.170820393249937 Π_{0} Π_{2} Π_{0} + 1.17082039324994 Π_{0} Π_{2} Π_{4} - 1.17082039324994 Π_{0} Π_{2} Π_{4} Π_{1} - 1.17082039324994 Π_{0} Π_{2} Π_{4} Π_{2} + 2.78885438199983 Π_{1} + 0.434573793503282 Π_{1} P Π_{0} + 0.21728689675164 Π_{1} P Π_{1} - 0.568864481005781 Π_{1} P Π_{1} Π_{3} - 0.568864481005785 Π_{1} P Π_{2} Π_{0} - 0.920442065259925 Π_{1} P Π_{4} + 0.920442065259924 Π_{1} P Π_{4} Π_{1} + 0.920442065259925 Π_{1} P Π_{4} Π_{2} + 0.447213595499959 Π_{1} P^{2} Π_{0} + 0.21728689675164 Π_{1} Pd Π_{1} - 0.27639320225002 Π_{1} Π_{3} - 2.34164078649987 Π_{1} Π_{4} + 0.920442065259926 Π_{1} Π_{4} P Π_{0} + 0.920442065259924 Π_{1} Π_{4} Pd Π_{1} + 2.78885438199982 Π_{1} Π_{4} Π_{1} - 1.17082039324993 Π_{1} Π_{4} Π_{1} Π_{3} + 2.34164078649987 Π_{1} Π_{4} Π_{2} - 1.17082039324994 Π_{1} Π_{4} Π_{2} Π_{0} - 1.89442719099991 Π_{2} Π_{4} + 0.920442065259927 Π_{2} Π_{4} P Π_{0} + 0.920442065259925 Π_{2} Π_{4} Pd Π_{1} + 2.34164078649987 Π_{2} Π_{4} Π_{1} - 1.17082039324993 Π_{2} Π_{4} Π_{1} Π_{3} + 1.89442719099991 Π_{2} Π_{4} Π_{2} - 1.17082039324994 Π_{2} Π_{4} Π_{2} Π_{0} - 0.27639320225002 Π_{3} Π_{1} - 0.568864481005782 Π_{3} Π_{1} P Π_{0} - 0.568864481005781 Π_{3} Π_{1} Pd Π_{1} + 0.723606797749973 Π_{3} Π_{1} Π_{3} + 1.17082039324993 Π_{3} Π_{1} Π_{4} - 1.17082039324993 Π_{3} Π_{1} Π_{4} Π_{1} - 1.17082039324993 Π_{3} Π_{1} Π_{4} Π_{2} + 1.89442719099991 Π_{4} - 0.920442065259927 Π_{4} P Π_{0} - 0.920442065259925 Π_{4} Pd Π_{1} - 2.34164078649987 Π_{4} Π_{1} + 1.17082039324993 Π_{4} Π_{1} Π_{3} - 1.89442719099991 Π_{4} Π_{2} + 1.17082039324994 Π_{4} Π_{2} Π_{0} + 5.0 \\left(0.217286896751641 Π_{2} Π_{0} P Π_{0} Π_{2} + 0.217286896751641 Π_{2} Π_{0} Pd Π_{0} Π_{2} - 0.568864481005786 Π_{2} Π_{0} Pd Π_{2} Π_{0} Π_{2} + 0.44721359549996 Π_{2} Π_{0} Π_{2} - 0.568864481005786 Π_{2} Π_{0} Π_{2} P Π_{0} Π_{2} + 0.44721359549996 Π_{2} Π_{0} Π_{2} Π_{0} Π_{2}\\right) + 5.0 \\left(4.95967477524975 Π_{4} - 0.920442065259924 Π_{4} Pd Π_{1} Π_{4} + 0.21728689675164 Π_{4} Π_{1} P Π_{1} Π_{4} - 0.920442065259924 Π_{4} Π_{1} P Π_{4} + 0.920442065259924 Π_{4} Π_{1} P Π_{4} Π_{1} Π_{4} + 0.920442065259925 Π_{4} Π_{1} P Π_{4} Π_{2} Π_{4} + 0.21728689675164 Π_{4} Π_{1} Pd Π_{1} Π_{4} - 11.8137767414994 Π_{4} Π_{1} Π_{4} + 0.920442065259924 Π_{4} Π_{1} Π_{4} Pd Π_{1} Π_{4} + 7.30131556174961 Π_{4} Π_{1} Π_{4} Π_{1} Π_{4} + 6.13049516849968 Π_{4} Π_{1} Π_{4} Π_{2} Π_{4} - 9.9193495504995 Π_{4} Π_{2} Π_{4} + 0.920442065259925 Π_{4} Π_{2} Π_{4} Pd Π_{1} Π_{4} + 6.13049516849968 Π_{4} Π_{2} Π_{4} Π_{1} Π_{4} + 4.95967477524975 Π_{4} Π_{2} Π_{4} Π_{2} Π_{4}\\right) + 5.0 \\left(- 0.134290687502503 Π_{3} Π_{0} P Π_{0} Π_{3} - 0.134290687502503 Π_{3} Π_{0} Pd Π_{0} Π_{3} + 0.082996209249136 Π_{3} Π_{0} Pd Π_{1} Π_{3} + 0.351577584254145 Π_{3} Π_{0} Pd Π_{2} Π_{0} Π_{3} - 0.568864481005783 Π_{3} Π_{0} Pd Π_{4} Π_{1} Π_{3} + 0.170820393249937 Π_{3} Π_{0} Pd^{2} Π_{1} Π_{3} + 0.351577584254145 Π_{3} Π_{0} Π_{2} P Π_{0} Π_{3} + 0.351577584254144 Π_{3} Π_{0} Π_{2} Pd Π_{1} Π_{3} + 0.170820393249938 Π_{3} Π_{0} Π_{2} Π_{0} Π_{3} - 1.17082039324994 Π_{3} Π_{0} Π_{2} Π_{4} Π_{1} Π_{3} + 0.276393202250022 Π_{3} Π_{0} Π_{3} + 0.082996209249136 Π_{3} Π_{1} P Π_{0} Π_{3} + 0.217286896751639 Π_{3} Π_{1} P Π_{1} Π_{3} + 0.351577584254144 Π_{3} Π_{1} P Π_{2} Π_{0} Π_{3} - 0.568864481005782 Π_{3} Π_{1} P Π_{4} Π_{1} Π_{3} + 0.170820393249937 Π_{3} Π_{1} P^{2} Π_{0} Π_{3} + 0.217286896751639 Π_{3} Π_{1} Pd Π_{1} Π_{3} + 0.447213595499955 Π_{3} Π_{1} Π_{3} - 0.568864481005783 Π_{3} Π_{1} Π_{4} P Π_{0} Π_{3} - 0.568864481005782 Π_{3} Π_{1} Π_{4} Pd Π_{1} Π_{3} + 0.447213595499962 Π_{3} Π_{1} Π_{4} Π_{1} Π_{3} - 1.17082039324994 Π_{3} Π_{1} Π_{4} Π_{2} Π_{0} Π_{3}\\right)$"
      ],
      "text/plain": [
       "                                                                              \n",
       "2.78885438199984⋅Π₀ + 0.217286896751641⋅Π₀⋅P⋅Π₀ + 0.217286896751641⋅Π₀⋅Pd⋅Π₀ +\n",
       "\n",
       "                                                                              \n",
       " 0.434573793503282⋅Π₀⋅Pd⋅Π₁ - 0.568864481005782⋅Π₀⋅Pd⋅Π₁⋅Π₃ - 0.56886448100578\n",
       "\n",
       "                                                                              \n",
       "6⋅Π₀⋅Pd⋅Π₂⋅Π₀ - 0.920442065259927⋅Π₀⋅Pd⋅Π₄ + 0.920442065259926⋅Π₀⋅Pd⋅Π₄⋅Π₁ + 0\n",
       "\n",
       "                                                      2                       \n",
       ".920442065259927⋅Π₀⋅Pd⋅Π₄⋅Π₂ + 0.447213595499959⋅Π₀⋅Pd ⋅Π₁ - 0.568864481005786\n",
       "\n",
       "                                                                              \n",
       "⋅Π₀⋅Π₂⋅P⋅Π₀ - 0.568864481005785⋅Π₀⋅Π₂⋅Pd⋅Π₁ + 0.170820393249937⋅Π₀⋅Π₂⋅Π₀ + 1.1\n",
       "\n",
       "                                                                              \n",
       "7082039324994⋅Π₀⋅Π₂⋅Π₄ - 1.17082039324994⋅Π₀⋅Π₂⋅Π₄⋅Π₁ - 1.17082039324994⋅Π₀⋅Π₂\n",
       "\n",
       "                                                                              \n",
       "⋅Π₄⋅Π₂ + 2.78885438199983⋅Π₁ + 0.434573793503282⋅Π₁⋅P⋅Π₀ + 0.21728689675164⋅Π₁\n",
       "\n",
       "                                                                              \n",
       "⋅P⋅Π₁ - 0.568864481005781⋅Π₁⋅P⋅Π₁⋅Π₃ - 0.568864481005785⋅Π₁⋅P⋅Π₂⋅Π₀ - 0.920442\n",
       "\n",
       "                                                                              \n",
       "065259925⋅Π₁⋅P⋅Π₄ + 0.920442065259924⋅Π₁⋅P⋅Π₄⋅Π₁ + 0.920442065259925⋅Π₁⋅P⋅Π₄⋅Π\n",
       "\n",
       "                          2                                                   \n",
       "₂ + 0.447213595499959⋅Π₁⋅P ⋅Π₀ + 0.21728689675164⋅Π₁⋅Pd⋅Π₁ - 0.27639320225002⋅\n",
       "\n",
       "                                                                              \n",
       "Π₁⋅Π₃ - 2.34164078649987⋅Π₁⋅Π₄ + 0.920442065259926⋅Π₁⋅Π₄⋅P⋅Π₀ + 0.920442065259\n",
       "\n",
       "                                                                              \n",
       "924⋅Π₁⋅Π₄⋅Pd⋅Π₁ + 2.78885438199982⋅Π₁⋅Π₄⋅Π₁ - 1.17082039324993⋅Π₁⋅Π₄⋅Π₁⋅Π₃ + 2\n",
       "\n",
       "                                                                              \n",
       ".34164078649987⋅Π₁⋅Π₄⋅Π₂ - 1.17082039324994⋅Π₁⋅Π₄⋅Π₂⋅Π₀ - 1.89442719099991⋅Π₂⋅\n",
       "\n",
       "                                                                              \n",
       "Π₄ + 0.920442065259927⋅Π₂⋅Π₄⋅P⋅Π₀ + 0.920442065259925⋅Π₂⋅Π₄⋅Pd⋅Π₁ + 2.34164078\n",
       "\n",
       "                                                                              \n",
       "649987⋅Π₂⋅Π₄⋅Π₁ - 1.17082039324993⋅Π₂⋅Π₄⋅Π₁⋅Π₃ + 1.89442719099991⋅Π₂⋅Π₄⋅Π₂ - 1\n",
       "\n",
       "                                                                              \n",
       ".17082039324994⋅Π₂⋅Π₄⋅Π₂⋅Π₀ - 0.27639320225002⋅Π₃⋅Π₁ - 0.568864481005782⋅Π₃⋅Π₁\n",
       "\n",
       "                                                                              \n",
       "⋅P⋅Π₀ - 0.568864481005781⋅Π₃⋅Π₁⋅Pd⋅Π₁ + 0.723606797749973⋅Π₃⋅Π₁⋅Π₃ + 1.1708203\n",
       "\n",
       "                                                                              \n",
       "9324993⋅Π₃⋅Π₁⋅Π₄ - 1.17082039324993⋅Π₃⋅Π₁⋅Π₄⋅Π₁ - 1.17082039324993⋅Π₃⋅Π₁⋅Π₄⋅Π₂\n",
       "\n",
       "                                                                              \n",
       " + 1.89442719099991⋅Π₄ - 0.920442065259927⋅Π₄⋅P⋅Π₀ - 0.920442065259925⋅Π₄⋅Pd⋅Π\n",
       "\n",
       "                                                                              \n",
       "₁ - 2.34164078649987⋅Π₄⋅Π₁ + 1.17082039324993⋅Π₄⋅Π₁⋅Π₃ - 1.89442719099991⋅Π₄⋅Π\n",
       "\n",
       "                                                                              \n",
       "₂ + 1.17082039324994⋅Π₄⋅Π₂⋅Π₀ + 5.0⋅(0.217286896751641⋅Π₂⋅Π₀⋅P⋅Π₀⋅Π₂ + 0.21728\n",
       "\n",
       "                                                                              \n",
       "6896751641⋅Π₂⋅Π₀⋅Pd⋅Π₀⋅Π₂ - 0.568864481005786⋅Π₂⋅Π₀⋅Pd⋅Π₂⋅Π₀⋅Π₂ + 0.4472135954\n",
       "\n",
       "                                                                              \n",
       "9996⋅Π₂⋅Π₀⋅Π₂ - 0.568864481005786⋅Π₂⋅Π₀⋅Π₂⋅P⋅Π₀⋅Π₂ + 0.44721359549996⋅Π₂⋅Π₀⋅Π₂\n",
       "\n",
       "                                                                              \n",
       "⋅Π₀⋅Π₂) + 5.0⋅(4.95967477524975⋅Π₄ - 0.920442065259924⋅Π₄⋅Pd⋅Π₁⋅Π₄ + 0.2172868\n",
       "\n",
       "                                                                              \n",
       "9675164⋅Π₄⋅Π₁⋅P⋅Π₁⋅Π₄ - 0.920442065259924⋅Π₄⋅Π₁⋅P⋅Π₄ + 0.920442065259924⋅Π₄⋅Π₁\n",
       "\n",
       "                                                                              \n",
       "⋅P⋅Π₄⋅Π₁⋅Π₄ + 0.920442065259925⋅Π₄⋅Π₁⋅P⋅Π₄⋅Π₂⋅Π₄ + 0.21728689675164⋅Π₄⋅Π₁⋅Pd⋅Π\n",
       "\n",
       "                                                                              \n",
       "₁⋅Π₄ - 11.8137767414994⋅Π₄⋅Π₁⋅Π₄ + 0.920442065259924⋅Π₄⋅Π₁⋅Π₄⋅Pd⋅Π₁⋅Π₄ + 7.301\n",
       "\n",
       "                                                                              \n",
       "31556174961⋅Π₄⋅Π₁⋅Π₄⋅Π₁⋅Π₄ + 6.13049516849968⋅Π₄⋅Π₁⋅Π₄⋅Π₂⋅Π₄ - 9.9193495504995\n",
       "\n",
       "                                                                              \n",
       "⋅Π₄⋅Π₂⋅Π₄ + 0.920442065259925⋅Π₄⋅Π₂⋅Π₄⋅Pd⋅Π₁⋅Π₄ + 6.13049516849968⋅Π₄⋅Π₂⋅Π₄⋅Π₁\n",
       "\n",
       "                                             ⎛                                \n",
       "⋅Π₄ + 4.95967477524975⋅Π₄⋅Π₂⋅Π₄⋅Π₂⋅Π₄) + 5.0⋅⎝-0.134290687502503⋅Π₃⋅Π₀⋅P⋅Π₀⋅Π₃\n",
       "\n",
       "                                                                              \n",
       " - 0.134290687502503⋅Π₃⋅Π₀⋅Pd⋅Π₀⋅Π₃ + 0.082996209249136⋅Π₃⋅Π₀⋅Pd⋅Π₁⋅Π₃ + 0.351\n",
       "\n",
       "                                                                              \n",
       "577584254145⋅Π₃⋅Π₀⋅Pd⋅Π₂⋅Π₀⋅Π₃ - 0.568864481005783⋅Π₃⋅Π₀⋅Pd⋅Π₄⋅Π₁⋅Π₃ + 0.17082\n",
       "\n",
       "                   2                                                          \n",
       "0393249937⋅Π₃⋅Π₀⋅Pd ⋅Π₁⋅Π₃ + 0.351577584254145⋅Π₃⋅Π₀⋅Π₂⋅P⋅Π₀⋅Π₃ + 0.3515775842\n",
       "\n",
       "                                                                              \n",
       "54144⋅Π₃⋅Π₀⋅Π₂⋅Pd⋅Π₁⋅Π₃ + 0.170820393249938⋅Π₃⋅Π₀⋅Π₂⋅Π₀⋅Π₃ - 1.17082039324994⋅\n",
       "\n",
       "                                                                              \n",
       "Π₃⋅Π₀⋅Π₂⋅Π₄⋅Π₁⋅Π₃ + 0.276393202250022⋅Π₃⋅Π₀⋅Π₃ + 0.082996209249136⋅Π₃⋅Π₁⋅P⋅Π₀⋅\n",
       "\n",
       "                                                                              \n",
       "Π₃ + 0.217286896751639⋅Π₃⋅Π₁⋅P⋅Π₁⋅Π₃ + 0.351577584254144⋅Π₃⋅Π₁⋅P⋅Π₂⋅Π₀⋅Π₃ - 0.\n",
       "\n",
       "                                                            2                 \n",
       "568864481005782⋅Π₃⋅Π₁⋅P⋅Π₄⋅Π₁⋅Π₃ + 0.170820393249937⋅Π₃⋅Π₁⋅P ⋅Π₀⋅Π₃ + 0.217286\n",
       "\n",
       "                                                                              \n",
       "896751639⋅Π₃⋅Π₁⋅Pd⋅Π₁⋅Π₃ + 0.447213595499955⋅Π₃⋅Π₁⋅Π₃ - 0.568864481005783⋅Π₃⋅Π\n",
       "\n",
       "                                                                              \n",
       "₁⋅Π₄⋅P⋅Π₀⋅Π₃ - 0.568864481005782⋅Π₃⋅Π₁⋅Π₄⋅Pd⋅Π₁⋅Π₃ + 0.447213595499962⋅Π₃⋅Π₁⋅Π\n",
       "\n",
       "                                            ⎞\n",
       "₄⋅Π₁⋅Π₃ - 1.17082039324994⋅Π₃⋅Π₁⋅Π₄⋅Π₂⋅Π₀⋅Π₃⎠"
      ]
     },
     "metadata": {},
     "output_type": "display_data"
    }
   ],
   "source": [
    "#display(sp.simplify(iKCBS.F.subs(iKCBS.sqDict)))\n",
    "display(iKCBS.F.subs(iKCBS.sqDict))\n",
    "#The orthogonal relations are imposed later using the graph"
   ]
  },
  {
   "cell_type": "markdown",
   "metadata": {},
   "source": [
    "# SDP part (SymPy meets CvxPy)"
   ]
  },
  {
   "cell_type": "markdown",
   "metadata": {},
   "source": [
    "## Preparation"
   ]
  },
  {
   "cell_type": "code",
   "execution_count": 45,
   "metadata": {
    "init_cell": true
   },
   "outputs": [
    {
     "name": "stdout",
     "output_type": "stream",
     "text": [
      "[P, Pd]\n"
     ]
    }
   ],
   "source": [
    "N=5\n",
    "\n",
    "\n",
    "#Ψ=[sp.symbols('Ψ')]\n",
    "I=[sp.Integer(1)]\n",
    "A=list(sp.symbols('Π_0:%d'%N,commutative=False))\n",
    "B=[sp.symbols('P',commutative=False),sp.symbols('Pd',commutative=False)]\n",
    "\n",
    "#A=list(sp.symbols('Π_0:%d'%N,commutative=False))\n",
    "\n",
    "# display(I)\n",
    "# display(A)\n",
    "print(B)"
   ]
  },
  {
   "cell_type": "code",
   "execution_count": 46,
   "metadata": {
    "init_cell": true
   },
   "outputs": [],
   "source": [
    "objective = iKCBS.F\n",
    "\n",
    "# objective1=iKCBS.F\n",
    "\n",
    "# #objective = A[0] + A[1] + A[2] + A[3] + A[4]\n",
    "# objective2 = A[0]*A[0] + 1e-13*A[1] + 1e-13*A[2] + 1e-13*A[3] + 1e-13*A[4]\n",
    "\n",
    "# objective=objective\n",
    "#display(objective);"
   ]
  },
  {
   "cell_type": "code",
   "execution_count": 47,
   "metadata": {
    "init_cell": true
   },
   "outputs": [],
   "source": [
    "\n",
    "\n",
    "L1=A #+ B #appends the lists\n",
    "#print(L1)\n",
    "\n",
    "\n",
    "#display(Lx)\n",
    "\n",
    "#These will help simplify A^3 to A when needed\n",
    "lDepth = 2\n",
    "sqDicts={} #{A[i]**2:A[i] for i in range(len(L1))}\n",
    "for iA in A:\n",
    "    sqDicts[iA**5]=iA\n",
    "    sqDicts[iA**4]=iA\n",
    "    sqDicts[iA**3]=iA\n",
    "    sqDicts[iA**2]=iA\n",
    "\n",
    "sqDicts[B[0]*B[1]]=sp.Integer(1)\n",
    "sqDicts[B[1]*B[0]]=sp.Integer(1)\n",
    "\n",
    "\n",
    "\n",
    "\n",
    "# L2=[]\n",
    "# for let1 in L1:\n",
    "#     for let2 in L1:\n",
    "#         L2.append(let1*let2)\n",
    "\n",
    "\n",
    "\n",
    "\n",
    "# L = I + L1 + L2\n",
    "# L_ = L1 + L2\n",
    "#print(L)\n"
   ]
  },
  {
   "cell_type": "code",
   "execution_count": 48,
   "metadata": {
    "init_cell": true
   },
   "outputs": [
    {
     "data": {
      "image/png": "[encoded data removed]",
      "text/plain": [
       "<Figure size 432x288 with 1 Axes>"
      ]
     },
     "metadata": {},
     "output_type": "display_data"
    }
   ],
   "source": [
    "G = nx.Graph()\n",
    "\n",
    "#node2 in G[node1] #yes if they are connected by an edge\n",
    "\n",
    "G = nx.Graph()\n",
    "G.add_nodes_from(L1)\n",
    "G.add_edges_from([[L1[i],L1[(i+1)%(N)]] for i in range(N)])\n",
    "\n",
    "#create a dictionary to simplify expressions later which sets projector products to zero\n",
    "gDicts={}\n",
    "for l1 in L1:\n",
    "    for l2 in L1:\n",
    "        if l1 in G[l2]:\n",
    "            gDicts.update({l1*l2:sp.Integer(0)})\n",
    "\n",
    "\n",
    "%matplotlib inline \n",
    "nx.draw(G, with_labels=True)"
   ]
  },
  {
   "cell_type": "code",
   "execution_count": 49,
   "metadata": {
    "init_cell": true
   },
   "outputs": [
    {
     "data": {
      "text/latex": [
       "$\\displaystyle 2.78885438199984 Π_{0} + 0.217286896751641 Π_{0} P Π_{0} + 0.217286896751641 Π_{0} Pd Π_{0} + 0.434573793503282 Π_{0} Pd Π_{1} - 0.568864481005782 Π_{0} Pd Π_{1} Π_{3} - 0.568864481005786 Π_{0} Pd Π_{2} Π_{0} - 0.920442065259927 Π_{0} Pd Π_{4} + 0.920442065259926 Π_{0} Pd Π_{4} Π_{1} + 0.920442065259927 Π_{0} Pd Π_{4} Π_{2} + 0.447213595499959 Π_{0} Pd^{2} Π_{1} - 0.568864481005786 Π_{0} Π_{2} P Π_{0} - 0.568864481005785 Π_{0} Π_{2} Pd Π_{1} + 0.170820393249937 Π_{0} Π_{2} Π_{0} + 1.17082039324994 Π_{0} Π_{2} Π_{4} - 1.17082039324994 Π_{0} Π_{2} Π_{4} Π_{1} - 1.17082039324994 Π_{0} Π_{2} Π_{4} Π_{2} + 2.78885438199983 Π_{1} + 0.434573793503282 Π_{1} P Π_{0} + 0.21728689675164 Π_{1} P Π_{1} - 0.568864481005781 Π_{1} P Π_{1} Π_{3} - 0.568864481005785 Π_{1} P Π_{2} Π_{0} - 0.920442065259925 Π_{1} P Π_{4} + 0.920442065259924 Π_{1} P Π_{4} Π_{1} + 0.920442065259925 Π_{1} P Π_{4} Π_{2} + 0.447213595499959 Π_{1} P^{2} Π_{0} + 0.21728689675164 Π_{1} Pd Π_{1} - 0.27639320225002 Π_{1} Π_{3} - 2.34164078649987 Π_{1} Π_{4} + 0.920442065259926 Π_{1} Π_{4} P Π_{0} + 0.920442065259924 Π_{1} Π_{4} Pd Π_{1} + 2.78885438199982 Π_{1} Π_{4} Π_{1} - 1.17082039324993 Π_{1} Π_{4} Π_{1} Π_{3} + 2.34164078649987 Π_{1} Π_{4} Π_{2} - 1.17082039324994 Π_{1} Π_{4} Π_{2} Π_{0} + 1.08643448375821 Π_{2} Π_{0} P Π_{0} Π_{2} + 1.08643448375821 Π_{2} Π_{0} Pd Π_{0} Π_{2} - 2.84432240502893 Π_{2} Π_{0} Pd Π_{2} Π_{0} Π_{2} + 2.2360679774998 Π_{2} Π_{0} Π_{2} - 2.84432240502893 Π_{2} Π_{0} Π_{2} P Π_{0} Π_{2} + 2.2360679774998 Π_{2} Π_{0} Π_{2} Π_{0} Π_{2} - 1.89442719099991 Π_{2} Π_{4} + 0.920442065259927 Π_{2} Π_{4} P Π_{0} + 0.920442065259925 Π_{2} Π_{4} Pd Π_{1} + 2.34164078649987 Π_{2} Π_{4} Π_{1} - 1.17082039324993 Π_{2} Π_{4} Π_{1} Π_{3} + 1.89442719099991 Π_{2} Π_{4} Π_{2} - 1.17082039324994 Π_{2} Π_{4} Π_{2} Π_{0} - 0.671453437512517 Π_{3} Π_{0} P Π_{0} Π_{3} - 0.671453437512517 Π_{3} Π_{0} Pd Π_{0} Π_{3} + 0.41498104624568 Π_{3} Π_{0} Pd Π_{1} Π_{3} + 1.75788792127072 Π_{3} Π_{0} Pd Π_{2} Π_{0} Π_{3} - 2.84432240502891 Π_{3} Π_{0} Pd Π_{4} Π_{1} Π_{3} + 0.854101966249686 Π_{3} Π_{0} Pd^{2} Π_{1} Π_{3} + 1.75788792127072 Π_{3} Π_{0} Π_{2} P Π_{0} Π_{3} + 1.75788792127072 Π_{3} Π_{0} Π_{2} Pd Π_{1} Π_{3} + 0.854101966249688 Π_{3} Π_{0} Π_{2} Π_{0} Π_{3} - 5.85410196624969 Π_{3} Π_{0} Π_{2} Π_{4} Π_{1} Π_{3} + 1.38196601125011 Π_{3} Π_{0} Π_{3} - 0.27639320225002 Π_{3} Π_{1} - 0.568864481005782 Π_{3} Π_{1} P Π_{0} + 0.41498104624568 Π_{3} Π_{1} P Π_{0} Π_{3} + 1.08643448375819 Π_{3} Π_{1} P Π_{1} Π_{3} + 1.75788792127072 Π_{3} Π_{1} P Π_{2} Π_{0} Π_{3} - 2.84432240502891 Π_{3} Π_{1} P Π_{4} Π_{1} Π_{3} + 0.854101966249686 Π_{3} Π_{1} P^{2} Π_{0} Π_{3} - 0.568864481005781 Π_{3} Π_{1} Pd Π_{1} + 1.08643448375819 Π_{3} Π_{1} Pd Π_{1} Π_{3} + 2.95967477524975 Π_{3} Π_{1} Π_{3} + 1.17082039324993 Π_{3} Π_{1} Π_{4} - 2.84432240502891 Π_{3} Π_{1} Π_{4} P Π_{0} Π_{3} - 2.84432240502891 Π_{3} Π_{1} Π_{4} Pd Π_{1} Π_{3} - 1.17082039324993 Π_{3} Π_{1} Π_{4} Π_{1} + 2.23606797749981 Π_{3} Π_{1} Π_{4} Π_{1} Π_{3} - 1.17082039324993 Π_{3} Π_{1} Π_{4} Π_{2} - 5.85410196624969 Π_{3} Π_{1} Π_{4} Π_{2} Π_{0} Π_{3} + 26.6928010672487 Π_{4} - 0.920442065259927 Π_{4} P Π_{0} - 0.920442065259925 Π_{4} Pd Π_{1} - 4.60221032629962 Π_{4} Pd Π_{1} Π_{4} - 2.34164078649987 Π_{4} Π_{1} + 1.0864344837582 Π_{4} Π_{1} P Π_{1} Π_{4} - 4.60221032629962 Π_{4} Π_{1} P Π_{4} + 4.60221032629962 Π_{4} Π_{1} P Π_{4} Π_{1} Π_{4} + 4.60221032629962 Π_{4} Π_{1} P Π_{4} Π_{2} Π_{4} + 1.0864344837582 Π_{4} Π_{1} Pd Π_{1} Π_{4} + 1.17082039324993 Π_{4} Π_{1} Π_{3} - 59.068883707497 Π_{4} Π_{1} Π_{4} + 4.60221032629962 Π_{4} Π_{1} Π_{4} Pd Π_{1} Π_{4} + 36.506577808748 Π_{4} Π_{1} Π_{4} Π_{1} Π_{4} + 30.6524758424984 Π_{4} Π_{1} Π_{4} Π_{2} Π_{4} - 1.89442719099991 Π_{4} Π_{2} + 1.17082039324994 Π_{4} Π_{2} Π_{0} - 49.5967477524975 Π_{4} Π_{2} Π_{4} + 4.60221032629962 Π_{4} Π_{2} Π_{4} Pd Π_{1} Π_{4} + 30.6524758424984 Π_{4} Π_{2} Π_{4} Π_{1} Π_{4} + 24.7983738762488 Π_{4} Π_{2} Π_{4} Π_{2} Π_{4}$"
      ],
      "text/plain": [
       "                                                                              \n",
       "2.78885438199984⋅Π₀ + 0.217286896751641⋅Π₀⋅P⋅Π₀ + 0.217286896751641⋅Π₀⋅Pd⋅Π₀ +\n",
       "\n",
       "                                                                              \n",
       " 0.434573793503282⋅Π₀⋅Pd⋅Π₁ - 0.568864481005782⋅Π₀⋅Pd⋅Π₁⋅Π₃ - 0.56886448100578\n",
       "\n",
       "                                                                              \n",
       "6⋅Π₀⋅Pd⋅Π₂⋅Π₀ - 0.920442065259927⋅Π₀⋅Pd⋅Π₄ + 0.920442065259926⋅Π₀⋅Pd⋅Π₄⋅Π₁ + 0\n",
       "\n",
       "                                                      2                       \n",
       ".920442065259927⋅Π₀⋅Pd⋅Π₄⋅Π₂ + 0.447213595499959⋅Π₀⋅Pd ⋅Π₁ - 0.568864481005786\n",
       "\n",
       "                                                                              \n",
       "⋅Π₀⋅Π₂⋅P⋅Π₀ - 0.568864481005785⋅Π₀⋅Π₂⋅Pd⋅Π₁ + 0.170820393249937⋅Π₀⋅Π₂⋅Π₀ + 1.1\n",
       "\n",
       "                                                                              \n",
       "7082039324994⋅Π₀⋅Π₂⋅Π₄ - 1.17082039324994⋅Π₀⋅Π₂⋅Π₄⋅Π₁ - 1.17082039324994⋅Π₀⋅Π₂\n",
       "\n",
       "                                                                              \n",
       "⋅Π₄⋅Π₂ + 2.78885438199983⋅Π₁ + 0.434573793503282⋅Π₁⋅P⋅Π₀ + 0.21728689675164⋅Π₁\n",
       "\n",
       "                                                                              \n",
       "⋅P⋅Π₁ - 0.568864481005781⋅Π₁⋅P⋅Π₁⋅Π₃ - 0.568864481005785⋅Π₁⋅P⋅Π₂⋅Π₀ - 0.920442\n",
       "\n",
       "                                                                              \n",
       "065259925⋅Π₁⋅P⋅Π₄ + 0.920442065259924⋅Π₁⋅P⋅Π₄⋅Π₁ + 0.920442065259925⋅Π₁⋅P⋅Π₄⋅Π\n",
       "\n",
       "                          2                                                   \n",
       "₂ + 0.447213595499959⋅Π₁⋅P ⋅Π₀ + 0.21728689675164⋅Π₁⋅Pd⋅Π₁ - 0.27639320225002⋅\n",
       "\n",
       "                                                                              \n",
       "Π₁⋅Π₃ - 2.34164078649987⋅Π₁⋅Π₄ + 0.920442065259926⋅Π₁⋅Π₄⋅P⋅Π₀ + 0.920442065259\n",
       "\n",
       "                                                                              \n",
       "924⋅Π₁⋅Π₄⋅Pd⋅Π₁ + 2.78885438199982⋅Π₁⋅Π₄⋅Π₁ - 1.17082039324993⋅Π₁⋅Π₄⋅Π₁⋅Π₃ + 2\n",
       "\n",
       "                                                                              \n",
       ".34164078649987⋅Π₁⋅Π₄⋅Π₂ - 1.17082039324994⋅Π₁⋅Π₄⋅Π₂⋅Π₀ + 1.08643448375821⋅Π₂⋅\n",
       "\n",
       "                                                                              \n",
       "Π₀⋅P⋅Π₀⋅Π₂ + 1.08643448375821⋅Π₂⋅Π₀⋅Pd⋅Π₀⋅Π₂ - 2.84432240502893⋅Π₂⋅Π₀⋅Pd⋅Π₂⋅Π₀\n",
       "\n",
       "                                                                              \n",
       "⋅Π₂ + 2.2360679774998⋅Π₂⋅Π₀⋅Π₂ - 2.84432240502893⋅Π₂⋅Π₀⋅Π₂⋅P⋅Π₀⋅Π₂ + 2.2360679\n",
       "\n",
       "                                                                              \n",
       "774998⋅Π₂⋅Π₀⋅Π₂⋅Π₀⋅Π₂ - 1.89442719099991⋅Π₂⋅Π₄ + 0.920442065259927⋅Π₂⋅Π₄⋅P⋅Π₀ \n",
       "\n",
       "                                                                              \n",
       "+ 0.920442065259925⋅Π₂⋅Π₄⋅Pd⋅Π₁ + 2.34164078649987⋅Π₂⋅Π₄⋅Π₁ - 1.17082039324993\n",
       "\n",
       "                                                                              \n",
       "⋅Π₂⋅Π₄⋅Π₁⋅Π₃ + 1.89442719099991⋅Π₂⋅Π₄⋅Π₂ - 1.17082039324994⋅Π₂⋅Π₄⋅Π₂⋅Π₀ - 0.67\n",
       "\n",
       "                                                                              \n",
       "1453437512517⋅Π₃⋅Π₀⋅P⋅Π₀⋅Π₃ - 0.671453437512517⋅Π₃⋅Π₀⋅Pd⋅Π₀⋅Π₃ + 0.41498104624\n",
       "\n",
       "                                                                              \n",
       "568⋅Π₃⋅Π₀⋅Pd⋅Π₁⋅Π₃ + 1.75788792127072⋅Π₃⋅Π₀⋅Pd⋅Π₂⋅Π₀⋅Π₃ - 2.84432240502891⋅Π₃⋅\n",
       "\n",
       "                                           2                                  \n",
       "Π₀⋅Pd⋅Π₄⋅Π₁⋅Π₃ + 0.854101966249686⋅Π₃⋅Π₀⋅Pd ⋅Π₁⋅Π₃ + 1.75788792127072⋅Π₃⋅Π₀⋅Π₂\n",
       "\n",
       "                                                                              \n",
       "⋅P⋅Π₀⋅Π₃ + 1.75788792127072⋅Π₃⋅Π₀⋅Π₂⋅Pd⋅Π₁⋅Π₃ + 0.854101966249688⋅Π₃⋅Π₀⋅Π₂⋅Π₀⋅\n",
       "\n",
       "                                                                              \n",
       "Π₃ - 5.85410196624969⋅Π₃⋅Π₀⋅Π₂⋅Π₄⋅Π₁⋅Π₃ + 1.38196601125011⋅Π₃⋅Π₀⋅Π₃ - 0.276393\n",
       "\n",
       "                                                                              \n",
       "20225002⋅Π₃⋅Π₁ - 0.568864481005782⋅Π₃⋅Π₁⋅P⋅Π₀ + 0.41498104624568⋅Π₃⋅Π₁⋅P⋅Π₀⋅Π₃\n",
       "\n",
       "                                                                              \n",
       " + 1.08643448375819⋅Π₃⋅Π₁⋅P⋅Π₁⋅Π₃ + 1.75788792127072⋅Π₃⋅Π₁⋅P⋅Π₂⋅Π₀⋅Π₃ - 2.8443\n",
       "\n",
       "                                                       2                      \n",
       "2240502891⋅Π₃⋅Π₁⋅P⋅Π₄⋅Π₁⋅Π₃ + 0.854101966249686⋅Π₃⋅Π₁⋅P ⋅Π₀⋅Π₃ - 0.56886448100\n",
       "\n",
       "                                                                              \n",
       "5781⋅Π₃⋅Π₁⋅Pd⋅Π₁ + 1.08643448375819⋅Π₃⋅Π₁⋅Pd⋅Π₁⋅Π₃ + 2.95967477524975⋅Π₃⋅Π₁⋅Π₃\n",
       "\n",
       "                                                                              \n",
       " + 1.17082039324993⋅Π₃⋅Π₁⋅Π₄ - 2.84432240502891⋅Π₃⋅Π₁⋅Π₄⋅P⋅Π₀⋅Π₃ - 2.844322405\n",
       "\n",
       "                                                                              \n",
       "02891⋅Π₃⋅Π₁⋅Π₄⋅Pd⋅Π₁⋅Π₃ - 1.17082039324993⋅Π₃⋅Π₁⋅Π₄⋅Π₁ + 2.23606797749981⋅Π₃⋅Π\n",
       "\n",
       "                                                                              \n",
       "₁⋅Π₄⋅Π₁⋅Π₃ - 1.17082039324993⋅Π₃⋅Π₁⋅Π₄⋅Π₂ - 5.85410196624969⋅Π₃⋅Π₁⋅Π₄⋅Π₂⋅Π₀⋅Π₃\n",
       "\n",
       "                                                                              \n",
       " + 26.6928010672487⋅Π₄ - 0.920442065259927⋅Π₄⋅P⋅Π₀ - 0.920442065259925⋅Π₄⋅Pd⋅Π\n",
       "\n",
       "                                                                              \n",
       "₁ - 4.60221032629962⋅Π₄⋅Pd⋅Π₁⋅Π₄ - 2.34164078649987⋅Π₄⋅Π₁ + 1.0864344837582⋅Π₄\n",
       "\n",
       "                                                                              \n",
       "⋅Π₁⋅P⋅Π₁⋅Π₄ - 4.60221032629962⋅Π₄⋅Π₁⋅P⋅Π₄ + 4.60221032629962⋅Π₄⋅Π₁⋅P⋅Π₄⋅Π₁⋅Π₄ \n",
       "\n",
       "                                                                              \n",
       "+ 4.60221032629962⋅Π₄⋅Π₁⋅P⋅Π₄⋅Π₂⋅Π₄ + 1.0864344837582⋅Π₄⋅Π₁⋅Pd⋅Π₁⋅Π₄ + 1.17082\n",
       "\n",
       "                                                                              \n",
       "039324993⋅Π₄⋅Π₁⋅Π₃ - 59.068883707497⋅Π₄⋅Π₁⋅Π₄ + 4.60221032629962⋅Π₄⋅Π₁⋅Π₄⋅Pd⋅Π\n",
       "\n",
       "                                                                              \n",
       "₁⋅Π₄ + 36.506577808748⋅Π₄⋅Π₁⋅Π₄⋅Π₁⋅Π₄ + 30.6524758424984⋅Π₄⋅Π₁⋅Π₄⋅Π₂⋅Π₄ - 1.89\n",
       "\n",
       "                                                                              \n",
       "442719099991⋅Π₄⋅Π₂ + 1.17082039324994⋅Π₄⋅Π₂⋅Π₀ - 49.5967477524975⋅Π₄⋅Π₂⋅Π₄ + 4\n",
       "\n",
       "                                                                              \n",
       ".60221032629962⋅Π₄⋅Π₂⋅Π₄⋅Pd⋅Π₁⋅Π₄ + 30.6524758424984⋅Π₄⋅Π₂⋅Π₄⋅Π₁⋅Π₄ + 24.79837\n",
       "\n",
       "                       \n",
       "38762488⋅Π₄⋅Π₂⋅Π₄⋅Π₂⋅Π₄"
      ]
     },
     "metadata": {},
     "output_type": "display_data"
    }
   ],
   "source": [
    "#Simplify objective using the orthogonality relations of the graph\n",
    "#display(prune(objective).subs(gDicts))  \n",
    "objective_ = sp.expand(prune(objective).subs(gDicts)).subs(gDicts).subs(sqDicts)\n",
    "display(objective_)"
   ]
  },
  {
   "cell_type": "code",
   "execution_count": 50,
   "metadata": {
    "init_cell": true
   },
   "outputs": [
    {
     "name": "stdout",
     "output_type": "stream",
     "text": [
      "[Π_0, Π_1, Π_2, Π_3, Π_4]\n"
     ]
    },
    {
     "data": {
      "text/latex": [
       "$\\displaystyle \\left[ Π_{0}, \\  Π_{2} Π_{0}, \\  Π_{3} Π_{0}, \\  Π_{1}, \\  Π_{3} Π_{1}, \\  Π_{4} Π_{1}, \\  Π_{0} Π_{2}, \\  Π_{2}, \\  Π_{4} Π_{2}, \\  Π_{0} Π_{3}, \\  Π_{1} Π_{3}, \\  Π_{3}, \\  Π_{1} Π_{4}, \\  Π_{2} Π_{4}, \\  Π_{4}\\right]$"
      ],
      "text/plain": [
       "[Π₀, Π₂⋅Π₀, Π₃⋅Π₀, Π₁, Π₃⋅Π₁, Π₄⋅Π₁, Π₀⋅Π₂, Π₂, Π₄⋅Π₂, Π₀⋅Π₃, Π₁⋅Π₃, Π₃, Π₁⋅Π₄\n",
       ", Π₂⋅Π₄, Π₄]"
      ]
     },
     "metadata": {},
     "output_type": "display_data"
    }
   ],
   "source": [
    "Lx=[]\n",
    "\n",
    "#This generates words of length n with each position holding any of the y letters\n",
    "def loop_rec(y, n=None, val=None):\n",
    "    if n >= 1:\n",
    "        for x in range(y):\n",
    "            let=L1[x]\n",
    "            if val == None:\n",
    "                newVal=let\n",
    "            else:\n",
    "                newVal=let*val\n",
    "            loop_rec(y, n - 1, newVal)\n",
    "    else:\n",
    "        #TODO: Find a better way of removing powers\n",
    "        val_=val.subs(gDicts).subs(sqDicts).subs(sqDicts).subs(gDicts)\n",
    "        if not val_ in Lx and val_ != 0 :\n",
    "            Lx.append(val_)\n",
    "\n",
    "for i in range(2,hDepth+1):    \n",
    "    #loop_rec(N,i)\n",
    "    loop_rec(len(L1),i)\n",
    "\n",
    "    \n",
    "L = I + L1 + Lx\n",
    "L_ = L1 + Lx\n",
    "\n",
    "print(L1)\n",
    "display(Lx)"
   ]
  },
  {
   "cell_type": "code",
   "execution_count": 51,
   "metadata": {
    "init_cell": true
   },
   "outputs": [],
   "source": [
    "#symbol to index dictionary\n",
    "sTi={}\n",
    "\n",
    "for i in range(len(L)):\n",
    "    sTi[L[i]]=i\n",
    "\n",
    "#print(sTi)"
   ]
  },
  {
   "cell_type": "code",
   "execution_count": 52,
   "metadata": {
    "init_cell": true
   },
   "outputs": [
    {
     "name": "stdout",
     "output_type": "stream",
     "text": [
      "[Π_0, Π_2*Π_0, Π_3*Π_0, Π_1, Π_3*Π_1, Π_4*Π_1, Π_0*Π_2, Π_2, Π_4*Π_2, Π_0*Π_3, Π_1*Π_3, Π_3, Π_1*Π_4, Π_2*Π_4, Π_4]\n"
     ]
    }
   ],
   "source": [
    "print(Lx)"
   ]
  },
  {
   "cell_type": "code",
   "execution_count": 53,
   "metadata": {
    "init_cell": true
   },
   "outputs": [],
   "source": [
    "#A function for directly extracting terms to construct indices\n",
    "\n",
    "lI = I[0]\n",
    "\n",
    "\n",
    "def lettersForExpr(termInSum):\n",
    "    termInSum_ = pow_to_single_mul(termInSum) #sp.expand(pow_to_mul(termInSum))\n",
    "    #print(termInSum_)\n",
    "    #print(termInSum_.args)\n",
    "    if(len(termInSum_.args[1:])<= hDepth  ): #if we can handle this using just the letters we produced\n",
    "        lett = termInSum_.args[1]\n",
    "        for lettInTerm in termInSum_.args[2:]:\n",
    "            lett *= lettInTerm\n",
    "        coeff = sp.N(termInSum_.args[0]) #In case we got symbolic square roots\n",
    "\n",
    "        lett=lett.subs(sqDicts)            \n",
    "        return[lett,lI,coeff]\n",
    "        #eX = X[sTi[lett]][sTi[lI]]\n",
    "        #y += coeff*eX\n",
    "\n",
    "        #display(termInSum_)\n",
    "        #display(lett) #These can be directly handled\n",
    "\n",
    "    elif(len(termInSum_.args[1:])<= 2*hDepth ): #we can handle at most twice the letters            \n",
    "        half=int(hDepth) +1\n",
    "        #print(len(termInSum_.args[1:]),2*hDepth)\n",
    "        #print(half)\n",
    "        #print(termInSum_)\n",
    "        lett1 = termInSum_.args[1]\n",
    "        for lettInTerm in termInSum_.args[2:half]:\n",
    "            lett1 *= lettInTerm\n",
    "        lett2 = termInSum_.args[half]\n",
    "        for lettInTerm in termInSum_.args[half+1:]:\n",
    "            lett2 *= lettInTerm\n",
    "        # display(termInSum_)\n",
    "        # display(lett1) \n",
    "        # display(lett2)\n",
    "        coeff = sp.N(termInSum_.args[0]) #In case we got symbolic square roots\n",
    "        lett1=lett1.subs(sqDicts)\n",
    "        lett2=lett2.subs(sqDicts)\n",
    "        return [lett1,lett2,coeff]\n",
    "        #eX = X[sTi[lett1]][sTi[lett2]]\n",
    "        #y += coeff*eX\n",
    "    else:\n",
    "        print(\"objective not fully captured\")           \n",
    "        return [\"objective not fully captured\"]\n",
    "        #flag=\"Objective not fully captured\"\n",
    "        #raise Warning(\"Increase hDepth: It looks like your objective is not captured by the current depth of the SDP heirarchy\")\n"
   ]
  },
  {
   "cell_type": "markdown",
   "metadata": {},
   "source": [
    "## Constraints from QM"
   ]
  },
  {
   "cell_type": "code",
   "execution_count": 54,
   "metadata": {
    "code_folding": [],
    "init_cell": true,
    "scrolled": false
   },
   "outputs": [
    {
     "name": "stdout",
     "output_type": "stream",
     "text": [
      "Loading from file\n",
      "Done\n",
      "SDP Size var1[0, 0:21]\n",
      "Constrainst: 167\n",
      "Evaluating constraints\n",
      "Adding constraints from the graph\n",
      "done\n",
      "Adding constraints from Quantum Mechanics\n",
      "Row of  1\n",
      "Row of  Π_0\n",
      "Adding a new constraint\n",
      "l1\n"
     ]
    },
    {
     "data": {
      "text/latex": [
       "$\\displaystyle Π_{0}$"
      ],
      "text/plain": [
       "Π₀"
      ]
     },
     "metadata": {},
     "output_type": "display_data"
    },
    {
     "name": "stdout",
     "output_type": "stream",
     "text": [
      "l2\n"
     ]
    },
    {
     "data": {
      "text/latex": [
       "$\\displaystyle Π_{0}$"
      ],
      "text/plain": [
       "Π₀"
      ]
     },
     "metadata": {},
     "output_type": "display_data"
    },
    {
     "name": "stdout",
     "output_type": "stream",
     "text": [
      "l1_\n"
     ]
    },
    {
     "data": {
      "text/latex": [
       "$\\displaystyle 1$"
      ],
      "text/plain": [
       "1"
      ]
     },
     "metadata": {},
     "output_type": "display_data"
    },
    {
     "name": "stdout",
     "output_type": "stream",
     "text": [
      "l2_\n"
     ]
    },
    {
     "data": {
      "text/latex": [
       "$\\displaystyle Π_{0}$"
      ],
      "text/plain": [
       "Π₀"
      ]
     },
     "metadata": {},
     "output_type": "display_data"
    },
    {
     "name": "stdout",
     "output_type": "stream",
     "text": [
      "Adding a new constraint\n",
      "l1\n"
     ]
    },
    {
     "data": {
      "text/latex": [
       "$\\displaystyle Π_{0}$"
      ],
      "text/plain": [
       "Π₀"
      ]
     },
     "metadata": {},
     "output_type": "display_data"
    },
    {
     "name": "stdout",
     "output_type": "stream",
     "text": [
      "l2\n"
     ]
    },
    {
     "data": {
      "text/latex": [
       "$\\displaystyle Π_{2}$"
      ],
      "text/plain": [
       "Π₂"
      ]
     },
     "metadata": {},
     "output_type": "display_data"
    },
    {
     "name": "stdout",
     "output_type": "stream",
     "text": [
      "l1_\n"
     ]
    },
    {
     "data": {
      "text/latex": [
       "$\\displaystyle 1$"
      ],
      "text/plain": [
       "1"
      ]
     },
     "metadata": {},
     "output_type": "display_data"
    },
    {
     "name": "stdout",
     "output_type": "stream",
     "text": [
      "l2_\n"
     ]
    },
    {
     "data": {
      "text/latex": [
       "$\\displaystyle Π_{0} Π_{2}$"
      ],
      "text/plain": [
       "Π₀⋅Π₂"
      ]
     },
     "metadata": {},
     "output_type": "display_data"
    },
    {
     "name": "stdout",
     "output_type": "stream",
     "text": [
      "Adding a new constraint\n",
      "l1\n"
     ]
    },
    {
     "data": {
      "text/latex": [
       "$\\displaystyle Π_{0}$"
      ],
      "text/plain": [
       "Π₀"
      ]
     },
     "metadata": {},
     "output_type": "display_data"
    },
    {
     "name": "stdout",
     "output_type": "stream",
     "text": [
      "l2\n"
     ]
    },
    {
     "data": {
      "text/latex": [
       "$\\displaystyle Π_{3}$"
      ],
      "text/plain": [
       "Π₃"
      ]
     },
     "metadata": {},
     "output_type": "display_data"
    },
    {
     "name": "stdout",
     "output_type": "stream",
     "text": [
      "l1_\n"
     ]
    },
    {
     "data": {
      "text/latex": [
       "$\\displaystyle 1$"
      ],
      "text/plain": [
       "1"
      ]
     },
     "metadata": {},
     "output_type": "display_data"
    },
    {
     "name": "stdout",
     "output_type": "stream",
     "text": [
      "l2_\n"
     ]
    },
    {
     "data": {
      "text/latex": [
       "$\\displaystyle Π_{0} Π_{3}$"
      ],
      "text/plain": [
       "Π₀⋅Π₃"
      ]
     },
     "metadata": {},
     "output_type": "display_data"
    },
    {
     "name": "stdout",
     "output_type": "stream",
     "text": [
      "Adding a new constraint\n",
      "l1\n"
     ]
    },
    {
     "data": {
      "text/latex": [
       "$\\displaystyle Π_{0}$"
      ],
      "text/plain": [
       "Π₀"
      ]
     },
     "metadata": {},
     "output_type": "display_data"
    },
    {
     "name": "stdout",
     "output_type": "stream",
     "text": [
      "l2\n"
     ]
    },
    {
     "data": {
      "text/latex": [
       "$\\displaystyle Π_{0}$"
      ],
      "text/plain": [
       "Π₀"
      ]
     },
     "metadata": {},
     "output_type": "display_data"
    },
    {
     "name": "stdout",
     "output_type": "stream",
     "text": [
      "l1_\n"
     ]
    },
    {
     "data": {
      "text/latex": [
       "$\\displaystyle 1$"
      ],
      "text/plain": [
       "1"
      ]
     },
     "metadata": {},
     "output_type": "display_data"
    },
    {
     "name": "stdout",
     "output_type": "stream",
     "text": [
      "l2_\n"
     ]
    },
    {
     "data": {
      "text/latex": [
       "$\\displaystyle Π_{0}$"
      ],
      "text/plain": [
       "Π₀"
      ]
     },
     "metadata": {},
     "output_type": "display_data"
    },
    {
     "name": "stdout",
     "output_type": "stream",
     "text": [
      "Adding a new constraint\n",
      "l1\n"
     ]
    },
    {
     "data": {
      "text/latex": [
       "$\\displaystyle Π_{0}$"
      ],
      "text/plain": [
       "Π₀"
      ]
     },
     "metadata": {},
     "output_type": "display_data"
    },
    {
     "name": "stdout",
     "output_type": "stream",
     "text": [
      "l2\n"
     ]
    },
    {
     "data": {
      "text/latex": [
       "$\\displaystyle Π_{0} Π_{2}$"
      ],
      "text/plain": [
       "Π₀⋅Π₂"
      ]
     },
     "metadata": {},
     "output_type": "display_data"
    },
    {
     "name": "stdout",
     "output_type": "stream",
     "text": [
      "l1_\n"
     ]
    },
    {
     "data": {
      "text/latex": [
       "$\\displaystyle 1$"
      ],
      "text/plain": [
       "1"
      ]
     },
     "metadata": {},
     "output_type": "display_data"
    },
    {
     "name": "stdout",
     "output_type": "stream",
     "text": [
      "l2_\n"
     ]
    },
    {
     "data": {
      "text/latex": [
       "$\\displaystyle Π_{0} Π_{2}$"
      ],
      "text/plain": [
       "Π₀⋅Π₂"
      ]
     },
     "metadata": {},
     "output_type": "display_data"
    },
    {
     "name": "stdout",
     "output_type": "stream",
     "text": [
      "Adding a new constraint\n",
      "l1\n"
     ]
    },
    {
     "data": {
      "text/latex": [
       "$\\displaystyle Π_{0}$"
      ],
      "text/plain": [
       "Π₀"
      ]
     },
     "metadata": {},
     "output_type": "display_data"
    },
    {
     "name": "stdout",
     "output_type": "stream",
     "text": [
      "l2\n"
     ]
    },
    {
     "data": {
      "text/latex": [
       "$\\displaystyle Π_{2}$"
      ],
      "text/plain": [
       "Π₂"
      ]
     },
     "metadata": {},
     "output_type": "display_data"
    },
    {
     "name": "stdout",
     "output_type": "stream",
     "text": [
      "l1_\n"
     ]
    },
    {
     "data": {
      "text/latex": [
       "$\\displaystyle 1$"
      ],
      "text/plain": [
       "1"
      ]
     },
     "metadata": {},
     "output_type": "display_data"
    },
    {
     "name": "stdout",
     "output_type": "stream",
     "text": [
      "l2_\n"
     ]
    },
    {
     "data": {
      "text/latex": [
       "$\\displaystyle Π_{0} Π_{2}$"
      ],
      "text/plain": [
       "Π₀⋅Π₂"
      ]
     },
     "metadata": {},
     "output_type": "display_data"
    },
    {
     "name": "stdout",
     "output_type": "stream",
     "text": [
      "Adding a new constraint\n",
      "l1\n"
     ]
    },
    {
     "data": {
      "text/latex": [
       "$\\displaystyle Π_{0}$"
      ],
      "text/plain": [
       "Π₀"
      ]
     },
     "metadata": {},
     "output_type": "display_data"
    },
    {
     "name": "stdout",
     "output_type": "stream",
     "text": [
      "l2\n"
     ]
    },
    {
     "data": {
      "text/latex": [
       "$\\displaystyle Π_{0} Π_{3}$"
      ],
      "text/plain": [
       "Π₀⋅Π₃"
      ]
     },
     "metadata": {},
     "output_type": "display_data"
    },
    {
     "name": "stdout",
     "output_type": "stream",
     "text": [
      "l1_\n"
     ]
    },
    {
     "data": {
      "text/latex": [
       "$\\displaystyle 1$"
      ],
      "text/plain": [
       "1"
      ]
     },
     "metadata": {},
     "output_type": "display_data"
    },
    {
     "name": "stdout",
     "output_type": "stream",
     "text": [
      "l2_\n"
     ]
    },
    {
     "data": {
      "text/latex": [
       "$\\displaystyle Π_{0} Π_{3}$"
      ],
      "text/plain": [
       "Π₀⋅Π₃"
      ]
     },
     "metadata": {},
     "output_type": "display_data"
    },
    {
     "name": "stdout",
     "output_type": "stream",
     "text": [
      "Adding a new constraint\n",
      "l1\n"
     ]
    },
    {
     "data": {
      "text/latex": [
       "$\\displaystyle Π_{0}$"
      ],
      "text/plain": [
       "Π₀"
      ]
     },
     "metadata": {},
     "output_type": "display_data"
    },
    {
     "name": "stdout",
     "output_type": "stream",
     "text": [
      "l2\n"
     ]
    },
    {
     "data": {
      "text/latex": [
       "$\\displaystyle Π_{3}$"
      ],
      "text/plain": [
       "Π₃"
      ]
     },
     "metadata": {},
     "output_type": "display_data"
    },
    {
     "name": "stdout",
     "output_type": "stream",
     "text": [
      "l1_\n"
     ]
    },
    {
     "data": {
      "text/latex": [
       "$\\displaystyle 1$"
      ],
      "text/plain": [
       "1"
      ]
     },
     "metadata": {},
     "output_type": "display_data"
    },
    {
     "name": "stdout",
     "output_type": "stream",
     "text": [
      "l2_\n"
     ]
    },
    {
     "data": {
      "text/latex": [
       "$\\displaystyle Π_{0} Π_{3}$"
      ],
      "text/plain": [
       "Π₀⋅Π₃"
      ]
     },
     "metadata": {},
     "output_type": "display_data"
    },
    {
     "name": "stdout",
     "output_type": "stream",
     "text": [
      "Row of  Π_1\n",
      "Adding a new constraint\n",
      "l1\n"
     ]
    },
    {
     "data": {
      "text/latex": [
       "$\\displaystyle Π_{1}$"
      ],
      "text/plain": [
       "Π₁"
      ]
     },
     "metadata": {},
     "output_type": "display_data"
    },
    {
     "name": "stdout",
     "output_type": "stream",
     "text": [
      "l2\n"
     ]
    },
    {
     "data": {
      "text/latex": [
       "$\\displaystyle Π_{1}$"
      ],
      "text/plain": [
       "Π₁"
      ]
     },
     "metadata": {},
     "output_type": "display_data"
    },
    {
     "name": "stdout",
     "output_type": "stream",
     "text": [
      "l1_\n"
     ]
    },
    {
     "data": {
      "text/latex": [
       "$\\displaystyle 1$"
      ],
      "text/plain": [
       "1"
      ]
     },
     "metadata": {},
     "output_type": "display_data"
    },
    {
     "name": "stdout",
     "output_type": "stream",
     "text": [
      "l2_\n"
     ]
    },
    {
     "data": {
      "text/latex": [
       "$\\displaystyle Π_{1}$"
      ],
      "text/plain": [
       "Π₁"
      ]
     },
     "metadata": {},
     "output_type": "display_data"
    },
    {
     "name": "stdout",
     "output_type": "stream",
     "text": [
      "Row of  Π_2\n",
      "Row of  Π_3\n",
      "Row of  Π_4\n",
      "Row of  Π_0\n",
      "Row of  Π_2*Π_0\n",
      "Row of  Π_3*Π_0\n",
      "Row of  Π_1\n",
      "Row of  Π_3*Π_1\n",
      "Row of  Π_4*Π_1\n",
      "Row of  Π_0*Π_2\n",
      "Row of  Π_2\n",
      "Row of  Π_4*Π_2\n",
      "Row of  Π_0*Π_3\n",
      "Row of  Π_1*Π_3\n",
      "Row of  Π_3\n",
      "Row of  Π_1*Π_4\n",
      "Row of  Π_2*Π_4\n",
      "Row of  Π_4\n",
      "done\n",
      "Constraints 167\n",
      "SDP var1218[0, 0:21]\n",
      "Saved to disk\n"
     ]
    }
   ],
   "source": [
    "ForceCalc=True\n",
    "verbose=False\n",
    "\n",
    "fileName=\"lSave_4_testType_\"+str(testType)+\"_hDepth_\"+str(hDepth)\n",
    "\n",
    "flags=[\"issues\"]\n",
    "\n",
    "\n",
    "ConstraintsThreshold = 10000 #Maximum number of constraints\n",
    "useThreshold=False\n",
    "\n",
    "try:\n",
    "    print(\"Loading from file\")\n",
    "    loadedThis=dill.load(open(fileName, \"rb\"))\n",
    "    [X,constraints]=loadedThis\n",
    "    print(\"Done\")\n",
    "    print(\"SDP Size\",X[0])\n",
    "    print(\"Constrainst:\", len(constraints))\n",
    "except:\n",
    "    loadedThis=None\n",
    "\n",
    " \n",
    "    \n",
    "    \n",
    "if loadedThis==None or ForceCalc==True:\n",
    "    print(\"Evaluating constraints\")\n",
    "\n",
    "\n",
    "    #L is the alphabet, to wit: it is the list of letters\n",
    "    #\n",
    "    X = cp.Variable((len(L),len(L)),symmetric=True)    \n",
    "\n",
    "    #>> is for matrix inequality\n",
    "    constraints = [X >> 0,X[sTi[lI],sTi[lI]]==1]\n",
    "\n",
    "\n",
    "    print(\"Adding constraints from the graph\")\n",
    "    #Constraints from the graph (these come from single letters)        \n",
    "    for l1 in L1:\n",
    "        for l2 in L1:\n",
    "            eX = X[sTi[l1]][sTi[l2]] #picks the corresponding element from the variable matrix of the SDP library\n",
    "            if l1 in G[l2]:\n",
    "                constraints += [eX == 0]\n",
    "\n",
    "    print(\"done\")\n",
    "\n",
    "    \n",
    "    \n",
    "    \n",
    "    print(\"Adding constraints from Quantum Mechanics\")\n",
    "    tempCount=0\n",
    "    dictTerms = {}\n",
    "    halfLoop = 0\n",
    "    #lettersUsed = []\n",
    "    for l1 in L:\n",
    "        print(\"Row of \",l1)\n",
    "        if(tempCount>ConstraintsThreshold):\n",
    "            break\n",
    "\n",
    "        for l2 in L[halfLoop:]:\n",
    "            term = l1*l2\n",
    "\n",
    "\n",
    "            tS=[term]\n",
    "            #display(term)\n",
    "            for i in range(lDepth+1):\n",
    "                tS.append(tS[-1].subs(sqDicts))\n",
    "            simTerm=tS[-1]\n",
    "            #display(simTerm)\n",
    "            #Orthogonality from the graph\n",
    "            if simTerm.subs(gDicts)==sp.Integer(0):\n",
    "                #print(\"I set \",l1,l2,\" to zero\")\n",
    "#                 display(l1)\n",
    "#                 display(l2)\n",
    "#                 display(simTerm.subs(gDicts))\n",
    "                constraints += [ X[sTi[l1]][sTi[l2]] == 0 ]\n",
    "\n",
    "            elif not(simTerm in dictTerms):\n",
    "                dictTerms.update({simTerm:[l1,l2]})            \n",
    "            else:\n",
    "                l1_=dictTerms[simTerm][0]\n",
    "                l2_=dictTerms[simTerm][1]\n",
    "                \n",
    "                #I am not sure why the or part of this statement is reducing constraints\n",
    "                \n",
    "                if (not (l1==l1_ and l2==l2_) and not (l1==l2_ and l2==l1_)):                \n",
    "                    #if ((l1==l2_ and l2==l1_)):\n",
    "#                         print(\"GOT ONE!\")\n",
    "#                         print(\"The ls\")\n",
    "#                         display(l1)\n",
    "#                         display(l2)\n",
    "                        \n",
    "#                         print(\"The l_s\")\n",
    "#                         display(l1_)\n",
    "#                         display(l2_)\n",
    "                        \n",
    "                    constraints += [ X[sTi[l1]][sTi[l2]] == X[sTi[l1_]][sTi[l2_]] ]\n",
    "                    \n",
    "                    tempCount+=1\n",
    "                    \n",
    "                    if(tempCount>ConstraintsThreshold and useThreshold==True):\n",
    "                        break\n",
    "                    \n",
    "                    if(tempCount<10 or\\\n",
    "                       (100<tempCount and tempCount<110) or\\\n",
    "                       (1000<tempCount and tempCount<1010) or verbose):\n",
    "                       \n",
    "                        print(\"Adding a new constraint\")\n",
    "                        print(\"l1\")\n",
    "                        display(l1)\n",
    "                        print(\"l2\")\n",
    "                        display(l2)\n",
    "                        print(\"l1_\")\n",
    "                        display(l1_)\n",
    "                        print(\"l2_\")\n",
    "                        display(l2_)\n",
    "                        \n",
    "            del tS            \n",
    "        halfLoop+=1\n",
    "\n",
    "    print(\"done\")\n",
    "\n",
    "    print(\"Constraints\", len(constraints))\n",
    "    print(\"SDP\", X[0])\n",
    "    dill.dump([X,constraints], open(fileName, \"wb\"))\n",
    "    print(\"Saved to disk\")\n",
    "\n",
    "\n",
    "try:\n",
    "    del fileName\n",
    "    del ForceCalc\n",
    "except:\n",
    "    print(\"Cleaned.\")"
   ]
  },
  {
   "cell_type": "markdown",
   "metadata": {},
   "source": [
    "## Objective; Symbolic to SDP"
   ]
  },
  {
   "cell_type": "code",
   "execution_count": 55,
   "metadata": {
    "init_cell": true
   },
   "outputs": [
    {
     "name": "stdout",
     "output_type": "stream",
     "text": [
      "TEST: Constructing the KCBS expression instead of the Fidelity\n"
     ]
    },
    {
     "data": {
      "text/latex": [
       "$\\displaystyle Π_{0}$"
      ],
      "text/plain": [
       "Π₀"
      ]
     },
     "metadata": {},
     "output_type": "display_data"
    },
    {
     "data": {
      "text/latex": [
       "$\\displaystyle Π_{1}$"
      ],
      "text/plain": [
       "Π₁"
      ]
     },
     "metadata": {},
     "output_type": "display_data"
    },
    {
     "data": {
      "text/latex": [
       "$\\displaystyle Π_{2}$"
      ],
      "text/plain": [
       "Π₂"
      ]
     },
     "metadata": {},
     "output_type": "display_data"
    },
    {
     "data": {
      "text/latex": [
       "$\\displaystyle Π_{3}$"
      ],
      "text/plain": [
       "Π₃"
      ]
     },
     "metadata": {},
     "output_type": "display_data"
    },
    {
     "data": {
      "text/latex": [
       "$\\displaystyle Π_{4}$"
      ],
      "text/plain": [
       "Π₄"
      ]
     },
     "metadata": {},
     "output_type": "display_data"
    },
    {
     "name": "stdout",
     "output_type": "stream",
     "text": [
      "Done\n"
     ]
    }
   ],
   "source": [
    "#Objective function; symbolic to SDP constraints\n",
    "\n",
    "# objective function evaluated (loop over product of all letters)\n",
    "y = 0\n",
    "\n",
    "if(testType==1):\n",
    "    \n",
    "    print(\"TEST: Constructing the KCBS expression instead of the Fidelity\")\n",
    "    len(L1)\n",
    "    #print(L1[:1])\n",
    "    for term in L1[:5]:\n",
    "        display(term)\n",
    "        y += X[sTi[lI]][sTi[term]]\n",
    "    #y += 3*X[sTi[lI]][sTi[L1[2]]]    \n",
    "\n",
    "\n",
    "else:\n",
    "\n",
    "    print(\"Constructing the SDP objective from the symbolic objective\") \n",
    "    for termInSum in objective_.args: #e.g. termInSum could look like a multiplication object with arguments (0.13,Π_4,Π_3) and so on    \n",
    "        res = lettersForExpr(termInSum) #returns, e.g. [1.23,Π1,Π1]\n",
    "        y += res[2] * X[sTi[res[0]]][sTi[res[1]]]\n",
    "        del res\n",
    "\n",
    "    \n",
    "print(\"Done\")\n"
   ]
  },
  {
   "cell_type": "markdown",
   "metadata": {
    "heading_collapsed": true
   },
   "source": [
    "## Localising Matrix Constraints"
   ]
  },
  {
   "cell_type": "code",
   "execution_count": 56,
   "metadata": {
    "hidden": true,
    "init_cell": true,
    "scrolled": false
   },
   "outputs": [],
   "source": [
    "#Localising Matrix Constraints\n",
    "\n",
    "M = []\n",
    "\n",
    "printVerbose=False\n",
    "\n",
    "if(hDepth>=3):\n",
    "\n",
    "    print(\"Localising matrix constraints...\")\n",
    "\n",
    "\n",
    "    for lett1 in I + L1:\n",
    "        row = []\n",
    "        for lett2 in I + L1:\n",
    "            expr = sp.expand(lett1*iKCBS._T*lett2).subs(gDicts).subs(sqDicts).subs(gDicts).subs(sqDicts)\n",
    "    #         print(\"the expression\")\n",
    "            if(printVerbose):\n",
    "                display(expr)\n",
    "            res = 0\n",
    "            if expr != sp.Integer(0):\n",
    "                #if there are many terms in the sum, sum over them\n",
    "                if(isinstance(expr,sp.Add)):\n",
    "                    for _ in expr.args:\n",
    "    #                     print(\"Going in\")\n",
    "                        res_ = lettersForExpr(_)\n",
    "    #                     print(\"printing res \")\n",
    "    #                     print(res_)\n",
    "                        __ = res_[2]*X[sTi[res_[0]]][sTi[res_[1]]]            \n",
    "                        res += __ #this will contain something like 1.13*Π_1*Π_2 + 1.42*Π_1*Π_2\n",
    "                #If it is just one term, compute directly\n",
    "                else:\n",
    "                    res_ = lettersForExpr(expr)\n",
    "    #                 print(\"printing res \")\n",
    "    #                 print(res_)\n",
    "                    __ = res_[2]*X[sTi[res_[0]]][sTi[res_[1]]]            \n",
    "                    res += __ #this will contain something like 1.13*Π_1*Π_2 + 1.42*Π_1*Π_2\n",
    "\n",
    "            row.append(res) #this appends that calculation into the row\n",
    "        M.append(row) #this appends the row into the list M\n",
    "\n",
    "    lM = cp.bmat(M) #this converts the list M into a matrix which can be used to impose constraints in cvxpy\n",
    "\n",
    "\n",
    "    locConstraints = [lM >> 0]\n",
    "\n",
    "    del printVerbose\n",
    "    print(\"Done.\")"
   ]
  },
  {
   "cell_type": "code",
   "execution_count": 57,
   "metadata": {
    "hidden": true,
    "init_cell": true
   },
   "outputs": [
    {
     "name": "stdout",
     "output_type": "stream",
     "text": [
      "Observed values; Adding constraints\n",
      "Done.\n"
     ]
    }
   ],
   "source": [
    "#######################Constraints from the observations\n",
    "obsConstraints=[]\n",
    "print(\"Observed values; Adding constraints\")\n",
    "\n",
    "a=1/np.sqrt(5)-0.001\n",
    "data = [a,a,a,a,a]\n",
    "\n",
    "j=0\n",
    "for l1 in L1[:4]:    \n",
    "    obsConstraints += [ X[sTi[l1],sTi[l1]] == data[j] ]\n",
    "    j+=1\n",
    "    \n",
    "del j\n",
    "\n",
    "print(\"Done.\")"
   ]
  },
  {
   "cell_type": "markdown",
   "metadata": {},
   "source": [
    "## The SDP"
   ]
  },
  {
   "cell_type": "code",
   "execution_count": 58,
   "metadata": {
    "init_cell": true
   },
   "outputs": [],
   "source": [
    "def prettyX(X):\n",
    "    X_=np.zeros((len(L),len(L)))\n",
    "    i=0\n",
    "    j=0\n",
    "    for l1 in L:\n",
    "        for l2 in L:\n",
    "            X_[i][j]=X[sTi[l1]][sTi[l2]].value\n",
    "            j+=1\n",
    "        j=0\n",
    "        i+=1\n",
    "    return X_\n",
    "\n",
    "\n",
    "def prettyPrint(X):\n",
    "    y=pd.DataFrame(prettyX(X))\n",
    "    print(y)"
   ]
  },
  {
   "cell_type": "code",
   "execution_count": null,
   "metadata": {
    "scrolled": false
   },
   "outputs": [],
   "source": [
    "#prettyX(X)"
   ]
  },
  {
   "cell_type": "code",
   "execution_count": 62,
   "metadata": {
    "scrolled": false
   },
   "outputs": [
    {
     "name": "stdout",
     "output_type": "stream",
     "text": [
      "----------------------------------------------------------------------------\n",
      "\tSCS v2.1.1 - Splitting Conic Solver\n",
      "\t(c) Brendan O'Donoghue, Stanford University, 2012\n",
      "----------------------------------------------------------------------------\n",
      "Lin-sys: sparse-direct, nnz in A = 472\n",
      "eps = 1.00e-04, alpha = 1.50, max_iters = 100000, normalize = 1, scale = 1.00\n",
      "acceleration_lookback = 10, rho_x = 1.00e-03\n",
      "Variables n = 231, constraints m = 397\n",
      "Cones:\tprimal zero / dual free vars: 166\n",
      "\tsd vars: 231, sd blks: 1\n",
      "Setup time: 1.35e-02s\n",
      "----------------------------------------------------------------------------\n",
      " Iter | pri res | dua res | rel gap | pri obj | dua obj | kap/tau | time (s)\n",
      "----------------------------------------------------------------------------\n",
      "     0| 5.29e+19  9.84e+19  1.00e+00 -1.43e+20  2.02e+20  7.70e+19  1.52e-02 \n",
      "   100| 3.82e-02  6.40e-02  1.06e-03 -2.31e+00 -2.31e+00  7.55e-17  3.70e-02 \n",
      "   200| 3.59e-04  5.63e-04  1.48e-05 -2.23e+00 -2.23e+00  1.04e-16  5.40e-02 \n",
      "   300| 2.07e-03  3.04e-03  1.40e-06 -2.23e+00 -2.23e+00  1.86e-17  7.05e-02 \n",
      "   400| 3.48e-04  5.93e-04  2.18e-05 -2.24e+00 -2.24e+00  5.78e-17  8.74e-02 \n",
      "   500| 1.32e-04  3.12e-04  9.06e-06 -2.24e+00 -2.24e+00  8.83e-17  1.06e-01 \n",
      "   600| 1.06e-03  1.62e-03  3.23e-05 -2.23e+00 -2.23e+00  2.23e-17  1.24e-01 \n",
      "   700| 2.54e-03  3.63e-03  2.37e-06 -2.24e+00 -2.24e+00  3.22e-17  1.42e-01 \n",
      "   800| 3.01e-04  4.73e-04  4.25e-05 -2.24e+00 -2.24e+00  1.44e-16  1.61e-01 \n",
      "   900| 5.02e-04  8.14e-04  3.14e-05 -2.23e+00 -2.23e+00  1.00e-16  1.80e-01 \n",
      "  1000| 3.64e-04  4.50e-04  2.47e-05 -2.23e+00 -2.23e+00  3.29e-17  1.97e-01 \n",
      "  1100| 9.08e-04  1.31e-03  1.24e-06 -2.24e+00 -2.24e+00  3.25e-17  2.15e-01 \n",
      "  1200| 2.63e-04  4.25e-04  1.52e-05 -2.23e+00 -2.23e+00  1.19e-16  2.32e-01 \n",
      "  1300| 6.55e-04  1.04e-03  1.86e-06 -2.24e+00 -2.24e+00  1.71e-17  2.51e-01 \n",
      "  1400| 9.84e-04  1.64e-03  2.08e-06 -2.23e+00 -2.23e+00  7.26e-17  2.68e-01 \n",
      "  1500| 5.71e-04  6.64e-04  8.78e-05 -2.23e+00 -2.23e+00  7.16e-17  2.86e-01 \n",
      "  1600| 2.18e+13  2.42e+13  3.86e-05  2.62e+13  2.62e+13  1.49e+13  3.05e-01 \n",
      "  1700| 3.49e+12  3.87e+12  2.96e-04  4.18e+12  4.18e+12  2.38e+12  3.22e-01 \n",
      "  1800| 1.80e+13  2.00e+13  3.67e-05  2.16e+13  2.16e+13  1.23e+13  3.38e-01 \n",
      "  1859| 6.87e-05  9.85e-05  1.16e-05 -2.24e+00 -2.24e+00  3.98e-17  3.48e-01 \n",
      "----------------------------------------------------------------------------\n",
      "Status: Solved\n",
      "Timing: Solve time: 3.48e-01s\n",
      "\tLin-sys: nnz in L factor: 1155, avg solve time: 9.57e-06s\n",
      "\tCones: avg projection time: 6.70e-05s\n",
      "\tAcceleration: avg step time: 6.45e-05s\n",
      "----------------------------------------------------------------------------\n",
      "Error metrics:\n",
      "dist(s, K) = 8.9843e-05, dist(y, K*) = 1.4107e-09, s'y/|s||y| = -7.0602e-12\n",
      "primal res: |Ax + s - b|_2 / (1 + |b|_2) = 6.8672e-05\n",
      "dual res:   |A'y + c|_2 / (1 + |c|_2) = 9.8508e-05\n",
      "rel gap:    |c'x + b'y| / (1 + |c'x| + |b'y|) = 1.1587e-05\n",
      "----------------------------------------------------------------------------\n",
      "c'x = -2.2355, -b'y = -2.2355\n",
      "============================================================================\n",
      "max: 2.235475478232621\n",
      "          0             1             2             3             4   \\\n",
      "0   0.999935  4.462667e-01  4.472642e-01  4.471778e-01  4.472467e-01   \n",
      "1   0.446267  4.462618e-01 -1.621656e-06  2.756298e-01  2.757132e-01   \n",
      "2   0.447264 -1.621656e-06  4.472622e-01  9.073998e-07  2.763483e-01   \n",
      "3   0.447178  2.756298e-01  9.073998e-07  4.471754e-01 -6.713246e-07   \n",
      "4   0.447247  2.757132e-01  2.763483e-01 -6.713246e-07  4.472419e-01   \n",
      "5   0.447520  1.082374e-06  2.764876e-01  2.764256e-01 -6.956095e-07   \n",
      "6   0.446267  4.462618e-01 -1.621656e-06  2.756298e-01  2.757132e-01   \n",
      "7   0.275631  4.398947e+01  4.786210e-10  2.756282e-01 -3.015678e-06   \n",
      "8   0.275712 -1.017469e+01  3.009618e-09 -9.436447e-07  2.757089e-01   \n",
      "9   0.447264 -1.621656e-06  4.472622e-01  9.073998e-07  2.763483e-01   \n",
      "10  0.276344 -2.100092e+01  4.188848e+00 -4.814826e-10  2.763427e-01   \n",
      "11  0.276483  1.094419e-09 -3.266226e+01  3.958519e-10  4.763410e-07   \n",
      "12  0.275628  2.756330e-01  1.063355e-10  2.756340e-01 -1.442126e-06   \n",
      "13  0.447178  2.756298e-01  9.073998e-07  4.471754e-01 -6.713246e-07   \n",
      "14  0.276424 -1.425667e-10 -2.444823e+00 -9.030393e+00 -2.303086e-10   \n",
      "15  0.275714  2.757134e-01 -9.506367e-10 -5.433330e-06  2.757077e-01   \n",
      "16  0.276352 -1.074027e-09  2.763477e-01 -1.670159e-10  2.763361e-01   \n",
      "17  0.447247  2.757132e-01  2.763483e-01 -6.713246e-07  4.472419e-01   \n",
      "18  0.276490 -6.058805e-11  2.764898e-01 -1.221188e-09  1.336586e-05   \n",
      "19  0.276425  1.193225e-06 -9.492160e-10  2.764300e-01 -3.079658e-10   \n",
      "20  0.447520  1.082374e-06  2.764876e-01  2.764256e-01 -6.956095e-07   \n",
      "\n",
      "              5             6             7             8             9   ...  \\\n",
      "0   4.475201e-01  4.462667e-01  2.756306e-01  2.757122e-01  4.472642e-01  ...   \n",
      "1   1.082374e-06  4.462618e-01  4.398947e+01 -1.017469e+01 -1.621656e-06  ...   \n",
      "2   2.764876e-01 -1.621656e-06  4.786210e-10  3.009618e-09  4.472622e-01  ...   \n",
      "3   2.764256e-01  2.756298e-01  2.756282e-01 -9.436447e-07  9.073998e-07  ...   \n",
      "4  -6.956095e-07  2.757132e-01 -3.015678e-06  2.757089e-01  2.763483e-01  ...   \n",
      "5   4.475194e-01  1.082374e-06  9.008133e-10 -2.408529e-10  2.764876e-01  ...   \n",
      "6   1.082374e-06  4.462618e-01  4.398947e+01 -1.017469e+01 -1.621656e-06  ...   \n",
      "7   9.008133e-10  4.398947e+01  4.512721e+06 -1.627624e+06  4.786210e-10  ...   \n",
      "8  -2.408529e-10 -1.017469e+01 -1.627624e+06  4.518395e+06  3.009618e-09  ...   \n",
      "9   2.764876e-01 -1.621656e-06  4.786210e-10  3.009618e-09  4.472622e-01  ...   \n",
      "10  7.422076e-06 -2.100092e+01 -2.258145e+05  1.230459e+05  4.188848e+00  ...   \n",
      "11  2.764840e-01  1.094419e-09  2.334159e-14  2.612650e-14 -3.266226e+01  ...   \n",
      "12  6.611102e-07  2.756330e-01  2.756273e-01 -2.706242e-06  1.063355e-10  ...   \n",
      "13  2.764256e-01  2.756298e-01  2.756282e-01 -9.436447e-07  9.073998e-07  ...   \n",
      "14  2.764244e-01 -1.425667e-10  1.261602e-14  2.504785e-14 -2.444823e+00  ...   \n",
      "15 -1.083159e-10  2.757134e-01 -6.770857e-06  2.757042e-01 -9.506367e-10  ...   \n",
      "16  7.330268e-07 -1.074027e-09 -2.540434e-14 -2.513108e-15  2.763477e-01  ...   \n",
      "17 -6.956095e-07  2.757132e-01 -3.015678e-06  2.757089e-01  2.763483e-01  ...   \n",
      "18  2.764809e-01 -6.058805e-11  7.790629e-16 -5.379274e-15  2.764898e-01  ...   \n",
      "19  2.764292e-01  1.193225e-06 -1.292672e+06  4.445198e+05 -9.492160e-10  ...   \n",
      "20  4.475194e-01  1.082374e-06  9.008133e-10 -2.408529e-10  2.764876e-01  ...   \n",
      "\n",
      "              11            12            13            14            15  \\\n",
      "0   2.764830e-01  2.756284e-01  4.471778e-01  2.764243e-01  2.757144e-01   \n",
      "1   1.094419e-09  2.756330e-01  2.756298e-01 -1.425667e-10  2.757134e-01   \n",
      "2  -3.266226e+01  1.063355e-10  9.073998e-07 -2.444823e+00 -9.506367e-10   \n",
      "3   3.958519e-10  2.756340e-01  4.471754e-01 -9.030393e+00 -5.433330e-06   \n",
      "4   4.763410e-07 -1.442126e-06 -6.713246e-07 -2.303086e-10  2.757077e-01   \n",
      "5   2.764840e-01  6.611102e-07  2.764256e-01  2.764244e-01 -1.083159e-10   \n",
      "6   1.094419e-09  2.756330e-01  2.756298e-01 -1.425667e-10  2.757134e-01   \n",
      "7   2.334159e-14  2.756273e-01  2.756282e-01  1.261602e-14 -6.770857e-06   \n",
      "8   2.612650e-14 -2.706242e-06 -9.436447e-07  2.504785e-14  2.757042e-01   \n",
      "9  -3.266226e+01  1.063355e-10  9.073998e-07 -2.444823e+00 -9.506367e-10   \n",
      "10 -4.235446e+05  7.957069e-15 -4.814826e-10  1.247996e+05  1.210526e-14   \n",
      "11  4.656896e+06 -2.615558e-15  3.958519e-10  1.560222e+05  1.439897e-14   \n",
      "12 -2.615558e-15  4.173523e+06  2.756340e-01 -3.368586e+05 -1.902412e+06   \n",
      "13  3.958519e-10  2.756340e-01  4.471754e-01 -9.030393e+00 -5.433330e-06   \n",
      "14  1.560222e+05 -3.368586e+05 -9.030393e+00  8.764823e+05  2.837546e+05   \n",
      "15  1.439897e-14 -1.902412e+06 -5.433330e-06  2.837546e+05  3.862499e+06   \n",
      "16  1.381465e-06  4.859020e-16 -1.670159e-10 -2.889962e-15 -1.077556e+06   \n",
      "17  4.763410e-07 -1.442126e-06 -6.713246e-07 -2.303086e-10  2.757077e-01   \n",
      "18  2.764763e-01  1.681113e-15 -1.221188e-09  3.707517e-14  5.101791e+05   \n",
      "19  3.612263e-14  1.490698e-06  2.764300e-01  2.764218e-01 -4.867402e-15   \n",
      "20  2.764840e-01  6.611102e-07  2.764256e-01  2.764244e-01 -1.083159e-10   \n",
      "\n",
      "              16            17            18            19            20  \n",
      "0   2.763516e-01  4.472467e-01  2.764898e-01  2.764249e-01  4.475201e-01  \n",
      "1  -1.074027e-09  2.757132e-01 -6.058805e-11  1.193225e-06  1.082374e-06  \n",
      "2   2.763477e-01  2.763483e-01  2.764898e-01 -9.492160e-10  2.764876e-01  \n",
      "3  -1.670159e-10 -6.713246e-07 -1.221188e-09  2.764300e-01  2.764256e-01  \n",
      "4   2.763361e-01  4.472419e-01  1.336586e-05 -3.079658e-10 -6.956095e-07  \n",
      "5   7.330268e-07 -6.956095e-07  2.764809e-01  2.764292e-01  4.475194e-01  \n",
      "6  -1.074027e-09  2.757132e-01 -6.058805e-11  1.193225e-06  1.082374e-06  \n",
      "7  -2.540434e-14 -3.015678e-06  7.790629e-16 -1.292672e+06  9.008133e-10  \n",
      "8  -2.513108e-15  2.757089e-01 -5.379274e-15  4.445198e+05 -2.408529e-10  \n",
      "9   2.763477e-01  2.763483e-01  2.764898e-01 -9.492160e-10  2.764876e-01  \n",
      "10  2.763338e-01  2.763427e-01  1.667565e-05  3.726109e-14  7.422076e-06  \n",
      "11  1.381465e-06  4.763410e-07  2.764763e-01  3.612263e-14  2.764840e-01  \n",
      "12  4.859020e-16 -1.442126e-06  1.681113e-15  1.490698e-06  6.611102e-07  \n",
      "13 -1.670159e-10 -6.713246e-07 -1.221188e-09  2.764300e-01  2.764256e-01  \n",
      "14 -2.889962e-15 -2.303086e-10  3.707517e-14  2.764218e-01  2.764244e-01  \n",
      "15 -1.077556e+06  2.757077e-01  5.101791e+05 -4.867402e-15 -1.083159e-10  \n",
      "16  3.880288e+06  2.763361e-01 -1.401677e+06 -1.375605e-14  7.330268e-07  \n",
      "17  2.763361e-01  4.472419e-01  1.336586e-05 -3.079658e-10 -6.956095e-07  \n",
      "18 -1.401677e+06  1.336586e-05  3.595022e+06 -1.519531e+06  2.764809e-01  \n",
      "19 -1.375605e-14 -3.079658e-10 -1.519531e+06  3.426401e+06  2.764292e-01  \n",
      "20  7.330268e-07 -6.956095e-07  2.764809e-01  2.764292e-01  4.475194e-01  \n",
      "\n",
      "[21 rows x 21 columns]\n"
     ]
    },
    {
     "name": "stdout",
     "output_type": "stream",
     "text": [
      "----------------------------------------------------------------------------\n",
      "\tSCS v2.1.1 - Splitting Conic Solver\n",
      "\t(c) Brendan O'Donoghue, Stanford University, 2012\n",
      "----------------------------------------------------------------------------\n",
      "Lin-sys: sparse-direct, nnz in A = 472\n",
      "eps = 1.00e-04, alpha = 1.50, max_iters = 100000, normalize = 1, scale = 1.00\n",
      "acceleration_lookback = 10, rho_x = 1.00e-03\n",
      "Variables n = 231, constraints m = 397\n",
      "Cones:\tprimal zero / dual free vars: 166\n",
      "\tsd vars: 231, sd blks: 1\n",
      "Setup time: 1.15e-02s\n",
      "----------------------------------------------------------------------------\n",
      " Iter | pri res | dua res | rel gap | pri obj | dua obj | kap/tau | time (s)\n",
      "----------------------------------------------------------------------------\n",
      "     0| 6.05e+19  1.05e+20  1.00e+00 -1.43e+20  2.02e+20  7.70e+19  6.78e-03 \n",
      "    60| 1.57e-05  2.01e-05  3.35e-06  2.93e-06  6.29e-06  1.65e-16  2.27e-02 \n",
      "----------------------------------------------------------------------------\n",
      "Status: Solved\n",
      "Timing: Solve time: 2.28e-02s\n",
      "\tLin-sys: nnz in L factor: 1155, avg solve time: 1.27e-05s\n",
      "\tCones: avg projection time: 1.40e-04s\n",
      "\tAcceleration: avg step time: 7.58e-05s\n",
      "----------------------------------------------------------------------------\n",
      "Error metrics:\n",
      "dist(s, K) = 1.5646e-09, dist(y, K*) = 2.1510e-09, s'y/|s||y| = -1.7053e-11\n",
      "primal res: |Ax + s - b|_2 / (1 + |b|_2) = 1.5652e-05\n",
      "dual res:   |A'y + c|_2 / (1 + |c|_2) = 2.0052e-05\n",
      "rel gap:    |c'x + b'y| / (1 + |c'x| + |b'y|) = 3.3534e-06\n",
      "----------------------------------------------------------------------------\n",
      "c'x = 0.0000, -b'y = 0.0000\n",
      "============================================================================\n",
      "min: 2.9344095790056242e-06\n",
      "              0             1             2             3             4   \\\n",
      "0   1.000005e+00  2.721478e-07  7.647115e-07  8.126881e-07 -1.569829e-07   \n",
      "1   2.721478e-07 -7.427765e-07  3.155233e-07  6.307996e-07  3.463230e-07   \n",
      "2   7.647115e-07  3.155233e-07 -2.505743e-07 -3.912278e-08 -2.231867e-07   \n",
      "3   8.126881e-07  6.307996e-07 -3.912278e-08  4.501399e-07 -1.269115e-07   \n",
      "4  -1.569829e-07  3.463230e-07 -2.231867e-07 -1.269115e-07 -7.401432e-07   \n",
      "5   1.241845e-06  2.055263e-07 -2.171611e-06  1.657866e-06 -1.262268e-07   \n",
      "6   2.721478e-07 -7.427765e-07  3.155233e-07  6.307996e-07  3.463230e-07   \n",
      "7  -8.121321e-07 -4.349782e-06 -1.492066e-07  8.266576e-07  4.245976e-06   \n",
      "8   5.015901e-07 -1.336869e-06  1.537151e-07  3.152096e-06  2.627889e-06   \n",
      "9   7.647115e-07  3.155233e-07 -2.505743e-07 -3.912278e-08 -2.231867e-07   \n",
      "10 -1.047596e-06 -1.234705e-06  2.594898e-06 -1.500284e-06  1.413452e-06   \n",
      "11 -1.780605e-06 -1.936109e-06  5.269579e-07  5.021083e-07  2.433646e-06   \n",
      "12  2.248825e-06  2.190877e-06  8.523707e-08  5.235942e-06  3.509553e-06   \n",
      "13  8.126881e-07  6.307996e-07 -3.912278e-08  4.501399e-07 -1.269115e-07   \n",
      "14 -3.744725e-06  1.225723e-06 -8.521429e-07  1.159974e-06 -9.255434e-07   \n",
      "15  1.565305e-06  2.469326e-06  6.458267e-07  4.334939e-06  3.478473e-06   \n",
      "16  7.203250e-07  1.740431e-07  1.330834e-06 -1.894777e-06  1.584716e-06   \n",
      "17 -1.569829e-07  3.463230e-07 -2.231867e-07 -1.269115e-07 -7.401432e-07   \n",
      "18 -1.700171e-06 -1.803471e-07 -2.291576e-06  1.296207e-06  3.729986e-06   \n",
      "19  4.845048e-06 -6.318884e-06  6.600506e-07  5.306071e-06 -1.119287e-07   \n",
      "20  1.241845e-06  2.055263e-07 -2.171611e-06  1.657866e-06 -1.262268e-07   \n",
      "\n",
      "              5             6             7             8             9   ...  \\\n",
      "0   1.241845e-06  2.721478e-07 -8.121321e-07  5.015901e-07  7.647115e-07  ...   \n",
      "1   2.055263e-07 -7.427765e-07 -4.349782e-06 -1.336869e-06  3.155233e-07  ...   \n",
      "2  -2.171611e-06  3.155233e-07 -1.492066e-07  1.537151e-07 -2.505743e-07  ...   \n",
      "3   1.657866e-06  6.307996e-07  8.266576e-07  3.152096e-06 -3.912278e-08  ...   \n",
      "4  -1.262268e-07  3.463230e-07  4.245976e-06  2.627889e-06 -2.231867e-07  ...   \n",
      "5   3.514567e-07  2.055263e-07  4.126529e-06  6.283930e-07 -2.171611e-06  ...   \n",
      "6   2.055263e-07 -7.427765e-07 -4.349782e-06 -1.336869e-06  3.155233e-07  ...   \n",
      "7   4.126529e-06 -4.349782e-06  6.907985e-02  6.165269e-03 -1.492066e-07  ...   \n",
      "8   6.283930e-07 -1.336869e-06  6.165269e-03  6.677670e-02  1.537151e-07  ...   \n",
      "9  -2.171611e-06  3.155233e-07 -1.492066e-07  1.537151e-07 -2.505743e-07  ...   \n",
      "10  3.106831e-06 -1.234705e-06  2.125278e-03  5.702245e-02  2.594898e-06  ...   \n",
      "11  4.717087e-07 -1.936109e-06 -3.195095e-07  1.154532e-06  5.269579e-07  ...   \n",
      "12 -3.546987e-06  2.190877e-06  7.132724e-06  4.348646e-06  8.523707e-08  ...   \n",
      "13  1.657866e-06  6.307996e-07  8.266576e-07  3.152096e-06 -3.912278e-08  ...   \n",
      "14 -1.438956e-06  1.225723e-06 -4.946712e-07  1.149382e-06 -8.521429e-07  ...   \n",
      "15  2.342784e-07  2.469326e-06  1.267996e-06  6.962136e-06  6.458267e-07  ...   \n",
      "16  1.729833e-06  1.740431e-07  2.131909e-06  1.818202e-06  1.330834e-06  ...   \n",
      "17 -1.262268e-07  3.463230e-07  4.245976e-06  2.627889e-06 -2.231867e-07  ...   \n",
      "18  1.006985e-06 -1.803471e-07 -1.200172e-06 -8.454357e-07 -2.291576e-06  ...   \n",
      "19  1.077606e-06 -6.318884e-06  5.224710e-02  5.590434e-03  6.600506e-07  ...   \n",
      "20  3.514567e-07  2.055263e-07  4.126529e-06  6.283930e-07 -2.171611e-06  ...   \n",
      "\n",
      "              11            12            13            14            15  \\\n",
      "0  -1.780605e-06  2.248825e-06  8.126881e-07 -3.744725e-06  1.565305e-06   \n",
      "1  -1.936109e-06  2.190877e-06  6.307996e-07  1.225723e-06  2.469326e-06   \n",
      "2   5.269579e-07  8.523707e-08 -3.912278e-08 -8.521429e-07  6.458267e-07   \n",
      "3   5.021083e-07  5.235942e-06  4.501399e-07  1.159974e-06  4.334939e-06   \n",
      "4   2.433646e-06  3.509553e-06 -1.269115e-07 -9.255434e-07  3.478473e-06   \n",
      "5   4.717087e-07 -3.546987e-06  1.657866e-06 -1.438956e-06  2.342784e-07   \n",
      "6  -1.936109e-06  2.190877e-06  6.307996e-07  1.225723e-06  2.469326e-06   \n",
      "7  -3.195095e-07  7.132724e-06  8.266576e-07 -4.946712e-07  1.267996e-06   \n",
      "8   1.154532e-06  4.348646e-06  3.152096e-06  1.149382e-06  6.962136e-06   \n",
      "9   5.269579e-07  8.523707e-08 -3.912278e-08 -8.521429e-07  6.458267e-07   \n",
      "10  3.615254e-03 -6.111413e-07 -1.500284e-06  3.777635e-03  2.038329e-06   \n",
      "11  6.691083e-02  3.413862e-07  5.021083e-07  5.677254e-02  1.211486e-06   \n",
      "12  3.413862e-07  1.292853e-01  5.235942e-06 -1.976097e-04  5.381282e-02   \n",
      "13  5.021083e-07  5.235942e-06  4.501399e-07  1.159974e-06  4.334939e-06   \n",
      "14  5.677254e-02 -1.976097e-04  1.159974e-06  6.632721e-02  9.166212e-03   \n",
      "15  1.211486e-06  5.381282e-02  4.334939e-06  9.166212e-03  1.248783e-01   \n",
      "16  1.196840e-06 -1.009618e-06 -1.894777e-06 -1.104038e-06  3.473665e-02   \n",
      "17  2.433646e-06  3.509553e-06 -1.269115e-07 -9.255434e-07  3.478473e-06   \n",
      "18  3.468844e-06 -2.057551e-06  1.296207e-06  2.397358e-06 -1.564652e-03   \n",
      "19  1.496407e-06 -8.895061e-06  5.306071e-06  2.949208e-06  1.508871e-06   \n",
      "20  4.717087e-07 -3.546987e-06  1.657866e-06 -1.438956e-06  2.342784e-07   \n",
      "\n",
      "              16            17            18            19            20  \n",
      "0   7.203250e-07 -1.569829e-07 -1.700171e-06  4.845048e-06  1.241845e-06  \n",
      "1   1.740431e-07  3.463230e-07 -1.803471e-07 -6.318884e-06  2.055263e-07  \n",
      "2   1.330834e-06 -2.231867e-07 -2.291576e-06  6.600506e-07 -2.171611e-06  \n",
      "3  -1.894777e-06 -1.269115e-07  1.296207e-06  5.306071e-06  1.657866e-06  \n",
      "4   1.584716e-06 -7.401432e-07  3.729986e-06 -1.119287e-07 -1.262268e-07  \n",
      "5   1.729833e-06 -1.262268e-07  1.006985e-06  1.077606e-06  3.514567e-07  \n",
      "6   1.740431e-07  3.463230e-07 -1.803471e-07 -6.318884e-06  2.055263e-07  \n",
      "7   2.131909e-06  4.245976e-06 -1.200172e-06  5.224710e-02  4.126529e-06  \n",
      "8   1.818202e-06  2.627889e-06 -8.454357e-07  5.590434e-03  6.283930e-07  \n",
      "9   1.330834e-06 -2.231867e-07 -2.291576e-06  6.600506e-07 -2.171611e-06  \n",
      "10  3.914854e-06  1.413452e-06 -1.193052e-06  1.343767e-06  3.106831e-06  \n",
      "11  1.196840e-06  2.433646e-06  3.468844e-06  1.496407e-06  4.717087e-07  \n",
      "12 -1.009618e-06  3.509553e-06 -2.057551e-06 -8.895061e-06 -3.546987e-06  \n",
      "13 -1.894777e-06 -1.269115e-07  1.296207e-06  5.306071e-06  1.657866e-06  \n",
      "14 -1.104038e-06 -9.255434e-07  2.397358e-06  2.949208e-06 -1.438956e-06  \n",
      "15  3.473665e-02  3.478473e-06 -1.564652e-03  1.508871e-06  2.342784e-07  \n",
      "16  1.258980e-01  1.584716e-06  5.493596e-02 -2.017495e-06  1.729833e-06  \n",
      "17  1.584716e-06 -7.401432e-07  3.729986e-06 -1.119287e-07 -1.262268e-07  \n",
      "18  5.493596e-02  3.729986e-06  1.249447e-01  3.467415e-02  1.006985e-06  \n",
      "19 -2.017495e-06 -1.119287e-07  3.467415e-02  1.266553e-01  1.077606e-06  \n",
      "20  1.729833e-06 -1.262268e-07  1.006985e-06  1.077606e-06  3.514567e-07  \n",
      "\n",
      "[21 rows x 21 columns]\n"
     ]
    }
   ],
   "source": [
    "verbose=True\n",
    "\n",
    "if(testType==0 or testType==2):\n",
    "    currentConstraints = constraints+obsConstraints + locConstraints\n",
    "elif(testType==1):\n",
    "    currentConstraints = constraints\n",
    "\n",
    "probMax = cp.Problem(cp.Maximize(y),currentConstraints)    \n",
    "probMin = cp.Problem(cp.Maximize(-y),currentConstraints)\n",
    "\n",
    "#prob.solve()\n",
    "#prob.solve(solver=cp.CVXOPT,verbose=True,**{'':ldl,'refinement':20,'show_progress':True,'feastol':10e-10,'reltol':10e-10,'abstol':10e-10})\n",
    "try: \n",
    "    print(\"max:\",probMax.solve(verbose=True,eps=1e-4,max_iters=100000))\n",
    "    if (verbose):\n",
    "        prettyPrint(X)\n",
    "        \n",
    "except:\n",
    "    print(\"max:gla\")\n",
    "try:\n",
    "    print(\"min:\",-probMin.solve(verbose=True,eps=1e-4,max_iters=100000))\n",
    "    if(verbose):\n",
    "        prettyPrint(X)\n",
    "except:\n",
    "    print(\"min:ba\")"
   ]
  },
  {
   "cell_type": "code",
   "execution_count": 58,
   "metadata": {},
   "outputs": [
    {
     "name": "stdout",
     "output_type": "stream",
     "text": [
      "2.23606797749979\n"
     ]
    }
   ],
   "source": [
    "#display(y)\n",
    "print(np.sqrt(5))\n",
    "\n",
    "\n",
    "#Level 2 (with P and Pd)\n",
    "#2.2355706341820536\n",
    "#precision: 4.4196e-06\n",
    "\n",
    "#Level 2 (without P and Pd)\n",
    "#2.2354232719751197\n",
    "#precision: 2.8104e-06\n",
    "\n",
    "#Level 2 (without P and Pd; )\n",
    "#2.235475478232621\n",
    "#precision: 1.1587e-05\n",
    "\n",
    "#Level 2 (without P and Pd; innaccurate)\n",
    "#2.2361588485516353\n",
    "\n",
    "#2.233587365526617 (innaccurate with 100000 iterations)\n",
    "\n",
    "\n",
    "#Level 1\n",
    "#2.236062759267427\n",
    "#precision: 1.3496e-05"
   ]
  },
  {
   "cell_type": "code",
   "execution_count": 238,
   "metadata": {},
   "outputs": [],
   "source": [
    "#with the KCBS objective\n",
    "\n",
    "----------------------------------------------------------------------------\n",
    "\tSCS v2.1.1 - Splitting Conic Solver\n",
    "\t(c) Brendan O'Donoghue, Stanford University, 2012\n",
    "----------------------------------------------------------------------------\n",
    "Lin-sys: sparse-direct, nnz in A = 32509\n",
    "eps = 1.00e-04, alpha = 1.50, max_iters = 5000, normalize = 1, scale = 1.00\n",
    "acceleration_lookback = 10, rho_x = 1.00e-03\n",
    "Variables n = 20100, constraints m = 28886\n",
    "Cones:\tprimal zero / dual free vars: 8786\n",
    "\tsd vars: 20100, sd blks: 1\n",
    "Setup time: 1.59e-01s\n",
    "----------------------------------------------------------------------------\n",
    " Iter | pri res | dua res | rel gap | pri obj | dua obj | kap/tau | time (s)\n",
    "----------------------------------------------------------------------------\n",
    "     0| 3.74e+20  1.18e+21  1.00e+00 -3.91e+20  3.03e+21  4.38e+20  1.23e-01 \n",
    "   100| 1.96e-02  3.27e-02  1.27e-03 -1.98e+00 -1.97e+00  1.27e-16  2.15e+00 \n",
    "   200| 4.47e-03  7.05e-03  1.47e-04 -2.00e+00 -2.00e+00  3.40e-18  4.20e+00 \n",
    "   300| 1.57e-03  2.48e-03  2.82e-05 -2.00e+00 -2.00e+00  8.47e-17  7.92e+00 \n",
    "   400| 1.16e-03  1.69e-03  1.58e-05 -2.00e+00 -2.00e+00  2.60e-17  1.01e+01 \n",
    "   500| 5.19e-04  8.41e-04  6.41e-06 -2.00e+00 -2.00e+00  1.29e-16  1.21e+01 \n",
    "   600| 3.80e-04  6.69e-04  3.67e-06 -2.00e+00 -2.00e+00  2.17e-16  1.54e+01 \n",
    "   700| 2.96e-04  4.85e-04  6.23e-07 -2.00e+00 -2.00e+00  6.50e-17  1.73e+01 \n",
    "   800| 2.54e-04  4.20e-04  7.67e-07 -2.00e+00 -2.00e+00  6.47e-17  1.93e+01 \n",
    "   900| 2.31e-04  4.08e-04  9.97e-07 -2.00e+00 -2.00e+00  1.85e-16  2.16e+01 \n",
    "  1000| 2.06e-04  2.92e-04  6.33e-07 -2.00e+00 -2.00e+00  7.01e-17  2.45e+01 \n",
    "  1100| 1.88e-04  2.71e-04  5.65e-07 -2.00e+00 -2.00e+00  8.40e-17  2.65e+01 \n",
    "  1200| 1.21e-04  2.13e-04  3.31e-07 -2.00e+00 -2.00e+00  1.26e-16  2.85e+01 \n",
    "  1300| 1.35e-04  2.36e-04  8.46e-07 -2.00e+00 -2.00e+00  4.05e-17  3.05e+01 \n",
    "  1400| 1.76e-04  2.65e-04  9.41e-07 -2.00e+00 -2.00e+00  1.57e-16  3.31e+01 \n",
    "  1500| 1.07e-04  1.76e-04  8.76e-07 -2.00e+00 -2.00e+00  2.35e-16  3.50e+01 \n",
    "  1600| 8.77e-05  1.51e-04  9.50e-07 -2.00e+00 -2.00e+00  9.56e-18  3.70e+01 \n",
    "  1700| 8.33e-05  1.36e-04  1.32e-06 -2.00e+00 -2.00e+00  9.63e-17  3.89e+01 \n",
    "  1800| 6.80e-05  1.30e-04  9.47e-07 -2.00e+00 -2.00e+00  7.73e-17  4.32e+01 \n",
    "  1900| 8.75e-05  1.36e-04  6.56e-07 -2.00e+00 -2.00e+00  1.89e-17  4.51e+01 \n",
    "  1920| 4.29e-05  9.10e-05  4.67e-07 -2.00e+00 -2.00e+00  1.13e-16  4.55e+01 \n",
    "----------------------------------------------------------------------------\n",
    "Status: Solved\n",
    "Timing: Solve time: 4.55e+01s\n",
    "\tLin-sys: nnz in L factor: 81982, avg solve time: 5.65e-04s\n",
    "\tCones: avg projection time: 1.72e-02s\n",
    "\tAcceleration: avg step time: 4.28e-03s\n",
    "----------------------------------------------------------------------------\n",
    "Error metrics:\n",
    "dist(s, K) = 2.3687e-09, dist(y, K*) = 1.9232e-09, s'y/|s||y| = 9.6521e-13\n",
    "primal res: |Ax + s - b|_2 / (1 + |b|_2) = 4.2888e-05\n",
    "dual res:   |A'y + c|_2 / (1 + |c|_2) = 9.1003e-05\n",
    "rel gap:    |c'x + b'y| / (1 + |c'x| + |b'y|) = 4.6699e-07\n",
    "----------------------------------------------------------------------------\n",
    "c'x = -2.0000, -b'y = -2.0000\n",
    "============================================================================\n",
    "max: 1.9999896500571939\n",
    "----------------------------------------------------------------------------\n",
    "\tSCS v2.1.1 - Splitting Conic Solver\n",
    "\t(c) Brendan O'Donoghue, Stanford University, 2012\n",
    "----------------------------------------------------------------------------\n",
    "Lin-sys: sparse-direct, nnz in A = 32509\n",
    "eps = 1.00e-04, alpha = 1.50, max_iters = 5000, normalize = 1, scale = 1.00\n",
    "acceleration_lookback = 10, rho_x = 1.00e-03\n",
    "Variables n = 20100, constraints m = 28886\n",
    "Cones:\tprimal zero / dual free vars: 8786\n",
    "\tsd vars: 20100, sd blks: 1\n",
    "Setup time: 6.17e-02s\n",
    "----------------------------------------------------------------------------\n",
    " Iter | pri res | dua res | rel gap | pri obj | dua obj | kap/tau | time (s)\n",
    "----------------------------------------------------------------------------\n",
    "     0| 3.85e+20  1.23e+21  1.00e+00 -3.91e+20  3.03e+21  4.38e+20  6.41e-02 \n",
    "   100| 4.22e-04  6.80e-04  2.80e-04 -1.65e-04 -4.45e-04  1.81e-16  2.40e+00 \n",
    "   200| 6.23e-05  9.31e-05  9.41e-06 -4.20e-06 -1.36e-05  9.97e-17  4.20e+00 \n",
    "----------------------------------------------------------------------------\n",
    "Status: Solved\n",
    "Timing: Solve time: 4.20e+00s\n",
    "\tLin-sys: nnz in L factor: 81982, avg solve time: 6.05e-04s\n",
    "\tCones: avg projection time: 1.44e-02s\n",
    "\tAcceleration: avg step time: 4.03e-03s\n",
    "----------------------------------------------------------------------------\n",
    "Error metrics:\n",
    "dist(s, K) = 1.6395e-09, dist(y, K*) = 3.7961e-09, s'y/|s||y| = 2.4415e-13\n",
    "primal res: |Ax + s - b|_2 / (1 + |b|_2) = 6.2330e-05\n",
    "dual res:   |A'y + c|_2 / (1 + |c|_2) = 9.3066e-05\n",
    "rel gap:    |c'x + b'y| / (1 + |c'x| + |b'y|) = 9.4093e-06\n",
    "----------------------------------------------------------------------------\n",
    "c'x = -0.0000, -b'y = -0.0000\n",
    "============================================================================\n",
    "min: -4.195886103499908e-06"
   ]
  },
  {
   "cell_type": "code",
   "execution_count": null,
   "metadata": {},
   "outputs": [],
   "source": [
    "# For the full objective\n",
    "\n",
    "----------------------------------------------------------------------------\n",
    "\tSCS v2.1.1 - Splitting Conic Solver\n",
    "\t(c) Brendan O'Donoghue, Stanford University, 2012\n",
    "----------------------------------------------------------------------------\n",
    "Lin-sys: sparse-direct, nnz in A = 32752\n",
    "eps = 1.00e-04, alpha = 1.50, max_iters = 5000, normalize = 1, scale = 1.00\n",
    "acceleration_lookback = 10, rho_x = 1.00e-03\n",
    "Variables n = 20100, constraints m = 28926\n",
    "Cones:\tprimal zero / dual free vars: 8790\n",
    "\tsd vars: 20136, sd blks: 2\n",
    "Setup time: 1.91e-01s\n",
    "----------------------------------------------------------------------------\n",
    " Iter | pri res | dua res | rel gap | pri obj | dua obj | kap/tau | time (s)\n",
    "----------------------------------------------------------------------------\n",
    "     0| 4.77e+20  9.64e+20  1.00e+00 -4.48e+22  1.34e+23  3.97e+22  6.65e-02 \n",
    "   100| 4.52e-02  6.79e-02  1.78e-02 -7.59e+00 -7.30e+00  4.55e-15  2.17e+00 \n",
    "   200| 2.37e-02  3.50e-02  1.74e-03 -1.07e+01 -1.06e+01  6.74e-15  4.48e+00 \n",
    "   300| 1.25e-02  2.05e-02  1.11e-03 -1.22e+01 -1.21e+01  1.51e-15  7.43e+00 \n",
    "   400| 1.80e-02  2.89e-02  1.66e-03 -1.28e+01 -1.29e+01  1.89e-15  9.58e+00 \n",
    "   500| 1.08e-02  1.82e-02  1.96e-03 -1.32e+01 -1.31e+01  5.36e-16  1.18e+01 \n",
    "   600| 1.69e-02  2.81e-02  1.72e-03 -1.37e+01 -1.36e+01  6.61e-15  1.38e+01 \n",
    "   700| 1.14e-02  1.74e-02  3.12e-04 -1.42e+01 -1.42e+01  1.40e-15  1.68e+01 \n",
    "   800| 1.29e-02  2.07e-02  6.06e-04 -1.47e+01 -1.47e+01  7.84e-16  1.91e+01 \n",
    "   900| 1.23e-02  1.86e-02  1.43e-03 -1.51e+01 -1.50e+01  6.43e-15  2.12e+01 \n",
    "  1000| 1.47e-02  2.56e-02  3.74e-05 -1.55e+01 -1.55e+01  8.07e-16  2.32e+01 \n",
    "  1100| 1.12e-02  1.70e-02  1.81e-03 -1.62e+01 -1.62e+01  3.88e-15  2.53e+01 \n",
    "  1200| 1.52e-02  2.80e-02  6.11e-04 -1.63e+01 -1.63e+01  9.76e-15  2.79e+01 \n",
    "  1300| 1.21e-02  2.15e-02  9.02e-04 -1.67e+01 -1.67e+01  5.30e-15  3.00e+01 \n",
    "  1400| 1.21e-02  1.83e-02  1.29e-03 -1.71e+01 -1.71e+01  1.60e-15  3.19e+01 \n",
    "  1500| 1.15e-02  1.92e-02  7.87e-04 -1.76e+01 -1.76e+01  4.74e-15  3.40e+01 \n",
    "  1600| 1.12e-02  1.71e-02  2.19e-04 -1.80e+01 -1.81e+01  1.86e-15  3.61e+01 \n",
    "  1700| 1.17e-02  1.84e-02  1.01e-03 -1.85e+01 -1.85e+01  4.00e-15  3.81e+01 \n",
    "  1800| 1.24e-02  1.98e-02  3.06e-04 -1.88e+01 -1.88e+01  1.05e-15  4.09e+01 \n",
    "  1900| 1.16e-02  1.74e-02  1.08e-03 -1.92e+01 -1.92e+01  9.57e-16  4.33e+01 \n",
    "  2000| 1.23e-02  1.88e-02  1.44e-04 -1.96e+01 -1.96e+01  5.49e-16  4.53e+01 \n",
    "  2100| 9.58e-03  1.61e-02  5.72e-04 -2.00e+01 -1.99e+01  9.35e-15  4.74e+01 \n",
    "  2200| 1.19e-02  2.09e-02  2.27e-04 -2.03e+01 -2.03e+01  3.03e-15  4.94e+01 \n",
    "  2300| 1.37e-02  2.94e-02  4.18e-04 -2.07e+01 -2.07e+01  4.78e-15  5.13e+01 \n",
    "  2400| 1.25e-02  3.00e-02  4.54e-04 -2.14e+01 -2.14e+01  9.48e-15  5.33e+01 \n",
    "  2500| 1.54e-02  2.50e-02  9.22e-04 -2.20e+01 -2.20e+01  6.35e-15  5.53e+01 \n",
    "  2600| 1.54e-02  3.58e-02  4.85e-04 -2.23e+01 -2.24e+01  7.75e-15  5.74e+01 \n",
    "  2700| 1.27e-02  3.29e-02  7.17e-04 -2.28e+01 -2.27e+01  1.01e-14  5.94e+01 \n",
    "  2800| 1.14e-02  1.99e-02  1.52e-03 -2.31e+01 -2.30e+01  6.04e-16  6.14e+01 \n",
    "  2900| 1.39e-02  3.46e-02  1.88e-03 -2.34e+01 -2.34e+01  1.68e-15  6.34e+01 \n",
    "  3000| 1.15e-02  2.91e-02  1.27e-03 -2.37e+01 -2.37e+01  2.72e-15  6.55e+01 \n",
    "  3100| 1.29e-02  2.87e-02  8.86e-04 -2.43e+01 -2.43e+01  3.60e-15  6.81e+01 \n",
    "  3200| 1.19e-02  2.64e-02  8.26e-04 -2.52e+01 -2.52e+01  3.31e-15  7.05e+01 \n",
    "  3300| 1.29e-02  3.66e-02  1.24e-03 -2.55e+01 -2.56e+01  2.59e-15  7.26e+01 \n",
    "  3400| 1.18e-02  3.56e-02  1.25e-03 -2.57e+01 -2.58e+01  2.07e-16  7.46e+01 \n",
    "  3500| 1.44e-02  3.75e-02  4.98e-04 -2.64e+01 -2.64e+01  9.20e-16  7.66e+01 \n",
    "  3600| 1.23e-02  2.11e-02  1.32e-03 -2.63e+01 -2.62e+01  9.79e-15  8.00e+01 \n",
    "  3700| 1.24e-02  3.96e-02  1.39e-04 -2.70e+01 -2.70e+01  1.06e-14  8.22e+01 \n",
    "  3800| 1.21e-02  3.74e-02  1.29e-03 -2.77e+01 -2.78e+01  2.57e-16  8.42e+01 \n",
    "  3900| 1.12e-02  2.29e-02  3.52e-04 -2.76e+01 -2.76e+01  3.74e-15  8.62e+01 \n",
    "  4000| 8.80e-03  2.52e-02  7.40e-04 -2.82e+01 -2.81e+01  2.60e-15  8.93e+01 \n",
    "  4100| 1.08e-02  3.73e-02  8.26e-04 -2.88e+01 -2.87e+01  1.10e-14  9.17e+01 \n",
    "  4200| 9.98e-03  2.47e-02  2.39e-04 -2.91e+01 -2.91e+01  6.77e-15  9.40e+01 \n",
    "  4300| 1.10e-02  1.85e-02  4.60e-04 -2.97e+01 -2.97e+01  6.90e-15  9.62e+01 \n",
    "  4400| 7.58e-03  2.16e-02  6.87e-04 -3.00e+01 -3.00e+01  2.32e-15  9.87e+01 \n",
    "  4500| 1.14e-02  2.28e-02  1.31e-03 -3.05e+01 -3.06e+01  8.43e-15  1.01e+02 \n",
    "  4600| 9.47e-03  2.88e-02  6.01e-04 -3.08e+01 -3.09e+01  3.38e-17  1.03e+02 \n",
    "  4700| 8.94e-03  2.85e-02  1.56e-03 -3.12e+01 -3.13e+01  3.61e-15  1.05e+02 \n",
    "  4800| 8.94e-03  2.73e-02  1.12e-03 -3.16e+01 -3.17e+01  1.27e-15  1.08e+02 \n",
    "  4900| 7.22e-03  2.15e-02  6.84e-05 -3.19e+01 -3.19e+01  1.27e-16  1.10e+02 \n",
    "  5000| 9.27e-03  3.23e-02  2.20e-03 -3.23e+01 -3.25e+01  3.07e-15  1.12e+02 \n",
    "----------------------------------------------------------------------------\n",
    "Status: Solved/Inaccurate\n",
    "Hit max_iters, solution may be inaccurate\n",
    "Timing: Solve time: 1.12e+02s\n",
    "\tLin-sys: nnz in L factor: 82376, avg solve time: 5.90e-04s\n",
    "\tCones: avg projection time: 1.59e-02s\n",
    "\tAcceleration: avg step time: 4.23e-03s\n",
    "----------------------------------------------------------------------------\n",
    "Error metrics:\n",
    "dist(s, K) = 2.0711e-09, dist(y, K*) = 2.2428e-09, s'y/|s||y| = 1.3955e-13\n",
    "primal res: |Ax + s - b|_2 / (1 + |b|_2) = 9.2666e-03\n",
    "dual res:   |A'y + c|_2 / (1 + |c|_2) = 3.2285e-02\n",
    "rel gap:    |c'x + b'y| / (1 + |c'x| + |b'y|) = 2.1992e-03\n",
    "----------------------------------------------------------------------------\n",
    "c'x = -32.3212, -b'y = -32.4659\n",
    "============================================================================\n",
    "max: 32.32118633353611\n",
    "----------------------------------------------------------------------------\n",
    "\tSCS v2.1.1 - Splitting Conic Solver\n",
    "\t(c) Brendan O'Donoghue, Stanford University, 2012\n",
    "----------------------------------------------------------------------------\n",
    "Lin-sys: sparse-direct, nnz in A = 32752\n",
    "eps = 1.00e-04, alpha = 1.50, max_iters = 5000, normalize = 1, scale = 1.00\n",
    "acceleration_lookback = 10, rho_x = 1.00e-03\n",
    "Variables n = 20100, constraints m = 28926\n",
    "Cones:\tprimal zero / dual free vars: 8790\n",
    "\tsd vars: 20136, sd blks: 2\n",
    "Setup time: 5.59e-02s\n",
    "----------------------------------------------------------------------------\n",
    " Iter | pri res | dua res | rel gap | pri obj | dua obj | kap/tau | time (s)\n",
    "----------------------------------------------------------------------------\n",
    "     0| 5.20e+20  1.62e+21  1.00e+00 -4.44e+22  1.34e+23  3.97e+22  1.82e-01 \n",
    "   100| 6.40e-02  1.01e-01  2.21e-02  4.30e+00  4.52e+00  8.84e-15  3.56e+00 \n",
    "   200| 3.01e-02  3.81e-02  1.19e-03  2.88e+00  2.87e+00  4.02e-15  5.56e+00 \n",
    "   300| 1.63e-02  2.46e-02  2.20e-02  1.86e+00  1.96e+00  2.10e-15  7.51e+00 \n",
    "   400| 1.43e-02  2.24e-02  9.53e-03  9.72e-01  9.44e-01  9.73e-15  1.15e+01 \n",
    "   500| 1.48e-02  2.17e-02  3.71e-02  3.18e-01  3.81e-01  7.18e-15  1.34e+01 \n",
    "   600| 1.26e-02  2.20e-02  5.56e-02 -1.69e-01 -9.85e-02  1.15e-14  1.54e+01 \n",
    "   700| 1.28e-02  1.97e-02  2.13e-02 -8.92e-01 -8.33e-01  4.32e-15  1.76e+01 \n",
    "   800| 1.49e-02  2.34e-02  2.58e-04 -1.17e+00 -1.17e+00  5.47e-15  2.25e+01 \n",
    "   900| 1.34e-02  2.71e-02  4.19e-03 -1.85e+00 -1.83e+00  1.74e-15  2.45e+01 \n",
    "  1000| 1.40e-02  2.39e-02  1.33e-02 -2.21e+00 -2.28e+00  2.44e-15  2.66e+01 \n",
    "  1100| 1.26e-02  1.98e-02  9.30e-03 -2.77e+00 -2.83e+00  1.02e-14  2.86e+01 \n",
    "  1200| 1.43e-02  2.85e-02  5.77e-03 -3.07e+00 -3.03e+00  4.14e-16  3.15e+01 \n",
    "  1300| 1.41e-02  2.70e-02  8.28e-03 -3.55e+00 -3.49e+00  2.99e-15  3.35e+01 \n",
    "  1400| 1.22e-02  2.51e-02  6.69e-03 -3.96e+00 -4.02e+00  2.02e-15  3.61e+01 \n",
    "  1500| 1.30e-02  3.33e-02  1.55e-02 -4.49e+00 -4.65e+00  5.60e-16  3.81e+01 \n",
    "  1600| 1.52e-02  3.92e-02  1.49e-02 -4.94e+00 -5.10e+00  3.45e-15  4.02e+01 \n",
    "  1700| 1.68e-02  3.51e-02  1.44e-03 -5.23e+00 -5.22e+00  4.43e-15  4.26e+01 \n",
    "  1800| 1.32e-02  2.49e-02  5.88e-03 -5.64e+00 -5.56e+00  8.01e-15  4.46e+01 \n",
    "  1900| 1.30e-02  2.12e-02  8.81e-03 -6.01e+00 -5.90e+00  1.58e-15  4.68e+01 \n",
    "  2000| 1.15e-02  2.50e-02  4.95e-03 -6.58e+00 -6.65e+00  1.22e-15  4.89e+01 \n",
    "  2100| 1.17e-02  2.24e-02  2.96e-03 -7.12e+00 -7.07e+00  5.56e-15  5.09e+01 \n",
    "  2200| 1.21e-02  2.58e-02  1.00e-03 -7.62e+00 -7.60e+00  3.50e-15  5.30e+01 \n",
    "  2300| 1.13e-02  3.40e-02  3.38e-03 -8.10e+00 -8.16e+00  4.82e-15  5.53e+01 \n",
    "\n",
    "  2400| 1.14e-02  3.63e-02  2.29e-03 -8.53e+00 -8.49e+00  3.04e-15  5.73e+01 \n",
    "  2500| 8.23e-03  2.98e-02  9.19e-04 -9.06e+00 -9.07e+00  4.98e-16  5.92e+01 \n",
    "  2600| 1.10e-02  4.08e-02  1.72e-03 -9.59e+00 -9.62e+00  4.82e-15  6.12e+01 \n",
    "  2700| 1.26e-02  3.70e-02  3.40e-03 -9.99e+00 -1.01e+01  1.77e-15  6.40e+01 \n",
    "  2800| 9.52e-03  2.92e-02  1.66e-03 -1.05e+01 -1.04e+01  5.18e-15  6.61e+01 \n",
    "  2900| 1.09e-02  2.77e-02  2.99e-04 -1.09e+01 -1.09e+01  4.13e-16  6.83e+01 \n",
    "  3000| 1.40e-02  3.44e-02  3.13e-04 -1.13e+01 -1.13e+01  4.21e-15  7.02e+01 \n",
    "  3100| 1.38e-02  3.36e-02  1.33e-03 -1.20e+01 -1.20e+01  5.33e-15  7.21e+01 \n",
    "  3200| 1.40e-02  2.84e-02  3.76e-03 -1.24e+01 -1.23e+01  3.01e-15  7.42e+01 \n",
    "  3300| 1.37e-02  2.57e-02  2.00e-04 -1.31e+01 -1.31e+01  4.28e-15  7.65e+01 \n",
    "  3400| 1.35e-02  2.26e-02  2.79e-03 -1.35e+01 -1.36e+01  3.84e-15  7.85e+01 \n",
    "  3500| 1.30e-02  2.60e-02  2.15e-03 -1.38e+01 -1.38e+01  3.14e-15  8.05e+01 \n",
    "  3600| 1.31e-02  2.30e-02  2.52e-03 -1.41e+01 -1.41e+01  3.68e-15  8.27e+01 \n",
    "  3700| 1.35e-02  3.18e-02  2.09e-03 -1.47e+01 -1.47e+01  8.01e-15  8.52e+01 \n",
    "  3800| 1.17e-02  2.85e-02  7.12e-04 -1.52e+01 -1.52e+01  5.69e-15  8.78e+01 \n",
    "  3900| 1.25e-02  3.52e-02  4.43e-04 -1.56e+01 -1.56e+01  1.18e-15  8.99e+01 \n",
    "  4000| 8.96e-03  2.87e-02  1.24e-03 -1.58e+01 -1.59e+01  1.34e-15  9.19e+01 \n",
    "  4100| 8.84e-03  2.85e-02  4.10e-03 -1.61e+01 -1.59e+01  3.79e-15  9.41e+01 \n",
    "  4200| 8.29e-03  2.48e-02  2.78e-03 -1.64e+01 -1.64e+01  2.63e-15  9.86e+01 \n",
    "  4300| 8.59e-03  2.18e-02  7.48e-04 -1.69e+01 -1.69e+01  1.93e-15  1.01e+02 \n",
    "  4400| 1.03e-02  2.06e-02  3.96e-03 -1.72e+01 -1.70e+01  7.90e-16  1.03e+02 \n",
    "  4500| 9.20e-03  1.59e-02  1.69e-03 -1.76e+01 -1.75e+01  4.20e-16  1.06e+02 \n",
    "  4600| 1.05e-02  1.75e-02  2.26e-03 -1.79e+01 -1.80e+01  3.07e-15  1.08e+02 \n",
    "  4700| 1.18e-02  2.07e-02  4.14e-03 -1.82e+01 -1.80e+01  1.76e-15  1.10e+02 \n",
    "  4800| 8.50e-03  1.63e-02  7.38e-04 -1.85e+01 -1.85e+01  1.17e-15  1.12e+02 \n",
    "  4900| 8.76e-03  1.82e-02  1.22e-03 -1.89e+01 -1.90e+01  1.00e-15  1.14e+02 \n",
    "  5000| 1.08e-02  2.55e-02  3.18e-03 -1.92e+01 -1.90e+01  6.28e-16  1.16e+02 \n",
    "----------------------------------------------------------------------------\n",
    "Status: Solved/Inaccurate\n",
    "Hit max_iters, solution may be inaccurate\n",
    "Timing: Solve time: 1.16e+02s\n",
    "\tLin-sys: nnz in L factor: 82376, avg solve time: 5.90e-04s\n",
    "\tCones: avg projection time: 1.66e-02s\n",
    "\tAcceleration: avg step time: 4.19e-03s\n",
    "----------------------------------------------------------------------------\n",
    "Error metrics:\n",
    "dist(s, K) = 2.4824e-09, dist(y, K*) = 2.3231e-09, s'y/|s||y| = -3.7268e-13\n",
    "primal res: |Ax + s - b|_2 / (1 + |b|_2) = 1.0830e-02\n",
    "dual res:   |A'y + c|_2 / (1 + |c|_2) = 2.5510e-02\n",
    "rel gap:    |c'x + b'y| / (1 + |c'x| + |b'y|) = 3.1806e-03\n",
    "----------------------------------------------------------------------------\n",
    "c'x = -19.1557, -b'y = -19.0311\n",
    "============================================================================\n",
    "min: -19.15570043945181\n"
   ]
  },
  {
   "cell_type": "code",
   "execution_count": null,
   "metadata": {},
   "outputs": [],
   "source": [
    "# For state only\n",
    "\n",
    "----------------------------------------------------------------------------\n",
    "\tSCS v2.1.1 - Splitting Conic Solver\n",
    "\t(c) Brendan O'Donoghue, Stanford University, 2012\n",
    "----------------------------------------------------------------------------\n",
    "Lin-sys: sparse-direct, nnz in A = 32752\n",
    "eps = 1.00e-04, alpha = 1.50, max_iters = 5000, normalize = 1, scale = 1.00\n",
    "acceleration_lookback = 10, rho_x = 1.00e-03\n",
    "Variables n = 20100, constraints m = 28926\n",
    "Cones:\tprimal zero / dual free vars: 8790\n",
    "\tsd vars: 20136, sd blks: 2\n",
    "Setup time: 4.50e-02s\n",
    "----------------------------------------------------------------------------\n",
    " Iter | pri res | dua res | rel gap | pri obj | dua obj | kap/tau | time (s)\n",
    "----------------------------------------------------------------------------\n",
    "     0| 4.52e+20  1.23e+21  1.00e+00 -2.51e+21  1.46e+22  2.53e+21  6.46e-02 \n",
    "   100| 6.25e-02  1.11e-01  1.58e-03 -7.30e-01 -7.34e-01  3.27e-16  2.99e+00 \n",
    "   200| 2.33e-02  3.63e-02  2.10e-03 -9.08e-01 -9.14e-01  2.48e-16  4.99e+00 \n",
    "   300| 1.26e-02  2.26e-02  1.14e-03 -1.05e+00 -1.05e+00  3.83e-16  7.39e+00 \n",
    "   400| 3.17e-02  4.94e-02  3.39e-04 -1.14e+00 -1.14e+00  7.27e-16  9.78e+00 \n",
    "   500| 9.63e-03  1.85e-02  8.86e-04 -1.22e+00 -1.21e+00  4.45e-17  1.24e+01 \n",
    "   600| 1.51e-02  2.31e-02  1.47e-03 -1.29e+00 -1.30e+00  9.95e-16  1.48e+01 \n",
    "   700| 1.46e-02  2.47e-02  8.25e-04 -1.36e+00 -1.36e+00  3.13e-16  1.72e+01 \n",
    "   800| 1.70e-02  2.80e-02  4.80e-04 -1.40e+00 -1.39e+00  1.20e-15  2.09e+01 \n",
    "   900| 8.78e-03  1.57e-02  6.14e-04 -1.43e+00 -1.43e+00  1.77e-16  2.29e+01 \n",
    "  1000| 1.99e-02  3.14e-02  9.00e-04 -1.45e+00 -1.45e+00  2.57e-16  2.50e+01 \n",
    "  1100| 1.18e-02  1.86e-02  1.32e-04 -1.47e+00 -1.47e+00  8.41e-16  2.72e+01 \n",
    "  1200| 1.60e-02  3.43e-02  9.09e-04 -1.48e+00 -1.48e+00  1.15e-15  2.92e+01 \n",
    "  1300| 1.39e-02  3.04e-02  1.39e-03 -1.48e+00 -1.48e+00  6.05e-16  3.12e+01 \n",
    "  1400| 1.69e-02  2.60e-02  2.14e-03 -1.49e+00 -1.50e+00  9.84e-17  3.33e+01 \n",
    "  1500| 1.24e-02  1.98e-02  1.32e-04 -1.49e+00 -1.49e+00  4.53e-16  3.52e+01 \n",
    "  1600| 1.30e-02  2.67e-02  8.96e-04 -1.49e+00 -1.49e+00  7.91e-16  3.73e+01 \n",
    "  1700| 1.08e-02  2.27e-02  5.61e-04 -1.50e+00 -1.50e+00  1.13e-16  3.94e+01 \n",
    "  1800| 9.01e-03  1.39e-02  2.35e-04 -1.50e+00 -1.50e+00  1.51e-16  4.22e+01 \n",
    "  1900| 9.19e-03  1.84e-02  5.20e-04 -1.51e+00 -1.50e+00  1.25e-15  4.42e+01 \n",
    "  2000| 1.04e-02  2.00e-02  3.16e-04 -1.51e+00 -1.51e+00  8.69e-16  4.66e+01 \n",
    "  2100| 9.84e-03  2.08e-02  2.04e-05 -1.50e+00 -1.51e+00  3.68e-16  4.86e+01 \n",
    "  2200| 7.54e-03  1.38e-02  1.96e-04 -1.51e+00 -1.51e+00  7.38e-16  5.06e+01 \n",
    "  2300| 9.45e-03  1.56e-02  3.86e-04 -1.51e+00 -1.52e+00  5.66e-16  5.25e+01 \n",
    "  2400| 1.11e-02  2.58e-02  9.62e-04 -1.51e+00 -1.51e+00  2.05e-16  5.45e+01 \n",
    "  2500| 1.10e-02  2.29e-02  1.09e-03 -1.52e+00 -1.51e+00  1.11e-17  5.65e+01 \n",
    "  2600| 1.06e-02  2.68e-02  2.25e-04 -1.52e+00 -1.52e+00  2.07e-19  5.85e+01 \n",
    "  2700| 9.98e-03  2.00e-02  6.74e-04 -1.52e+00 -1.52e+00  5.98e-16  6.05e+01 \n",
    "  2800| 1.13e-02  1.97e-02  3.14e-04 -1.52e+00 -1.52e+00  7.25e-16  6.30e+01 \n",
    "  2900| 1.24e-02  3.03e-02  3.40e-04 -1.52e+00 -1.52e+00  4.76e-16  6.52e+01 \n",
    "  3000| 1.33e-02  2.44e-02  4.75e-04 -1.52e+00 -1.52e+00  1.17e-16  6.73e+01 \n",
    "  3100| 1.15e-02  2.49e-02  4.85e-04 -1.52e+00 -1.52e+00  3.71e-16  6.93e+01 \n",
    "  3200| 8.19e-03  1.92e-02  5.14e-05 -1.53e+00 -1.53e+00  2.41e-16  7.12e+01 \n",
    "  3300| 1.05e-02  1.55e-02  3.45e-05 -1.53e+00 -1.53e+00  2.44e-16  7.32e+01 \n",
    "  3400| 1.19e-02  2.79e-02  2.22e-04 -1.53e+00 -1.53e+00  8.50e-17  7.51e+01 \n",
    "  3500| 9.50e-03  2.40e-02  1.71e-04 -1.53e+00 -1.53e+00  1.69e-16  7.70e+01 \n",
    "  3600| 9.22e-03  1.49e-02  3.48e-04 -1.53e+00 -1.53e+00  4.96e-16  7.91e+01 \n",
    "  3700| 8.60e-03  2.02e-02  1.90e-04 -1.53e+00 -1.53e+00  1.82e-16  8.12e+01 \n",
    "  3800| 9.93e-03  2.32e-02  7.32e-04 -1.53e+00 -1.53e+00  3.70e-17  8.32e+01 \n",
    "  3900| 7.39e-03  1.15e-02  4.35e-04 -1.54e+00 -1.53e+00  5.20e-16  8.51e+01 \n",
    "  4000| 7.22e-03  1.64e-02  3.69e-05 -1.54e+00 -1.54e+00  2.15e-16  8.71e+01 \n",
    "  4100| 7.71e-03  1.80e-02  3.16e-05 -1.54e+00 -1.54e+00  2.15e-16  8.91e+01 \n",
    "  4200| 6.06e-03  1.01e-02  2.12e-04 -1.54e+00 -1.54e+00  1.53e-16  9.11e+01 \n",
    "  4300| 6.79e-03  1.76e-02  3.17e-04 -1.54e+00 -1.54e+00  2.16e-17  9.36e+01 \n",
    "  4400| 7.79e-03  1.48e-02  3.47e-05 -1.54e+00 -1.54e+00  5.50e-16  9.59e+01 \n",
    "  4500| 6.08e-03  1.29e-02  6.11e-05 -1.54e+00 -1.54e+00  8.49e-16  9.79e+01 \n",
    "  4600| 9.26e-03  1.76e-02  3.05e-04 -1.54e+00 -1.54e+00  6.74e-17  9.99e+01 \n",
    "  4700| 6.29e-03  1.69e-02  2.46e-04 -1.55e+00 -1.55e+00  2.76e-16  1.02e+02 \n",
    "  4800| 7.44e-03  1.18e-02  7.06e-04 -1.55e+00 -1.55e+00  8.34e-17  1.04e+02 \n",
    "  4900| 6.09e-03  1.60e-02  1.42e-04 -1.55e+00 -1.55e+00  8.27e-16  1.06e+02 \n",
    "  5000| 5.96e-03  1.11e-02  3.36e-04 -1.55e+00 -1.54e+00  2.90e-16  1.08e+02 \n",
    "----------------------------------------------------------------------------\n",
    "Status: Solved/Inaccurate\n",
    "Hit max_iters, solution may be inaccurate\n",
    "Timing: Solve time: 1.08e+02s\n",
    "\tLin-sys: nnz in L factor: 82376, avg solve time: 5.69e-04s\n",
    "\tCones: avg projection time: 1.53e-02s\n",
    "\tAcceleration: avg step time: 4.05e-03s\n",
    "----------------------------------------------------------------------------\n",
    "Error metrics:\n",
    "dist(s, K) = 2.0998e-09, dist(y, K*) = 2.2513e-09, s'y/|s||y| = -2.1836e-13\n",
    "primal res: |Ax + s - b|_2 / (1 + |b|_2) = 5.9555e-03\n",
    "dual res:   |A'y + c|_2 / (1 + |c|_2) = 1.1071e-02\n",
    "rel gap:    |c'x + b'y| / (1 + |c'x| + |b'y|) = 3.3577e-04\n",
    "----------------------------------------------------------------------------\n",
    "c'x = -1.5459, -b'y = -1.5445\n",
    "============================================================================\n",
    "max: 1.5459193675310419\n",
    "----------------------------------------------------------------------------\n",
    "\tSCS v2.1.1 - Splitting Conic Solver\n",
    "\t(c) Brendan O'Donoghue, Stanford University, 2012\n",
    "----------------------------------------------------------------------------\n",
    "Lin-sys: sparse-direct, nnz in A = 32752\n",
    "eps = 1.00e-04, alpha = 1.50, max_iters = 5000, normalize = 1, scale = 1.00\n",
    "acceleration_lookback = 10, rho_x = 1.00e-03\n",
    "Variables n = 20100, constraints m = 28926\n",
    "Cones:\tprimal zero / dual free vars: 8790\n",
    "\tsd vars: 20136, sd blks: 2\n",
    "Setup time: 3.85e-02s\n",
    "----------------------------------------------------------------------------\n",
    " Iter | pri res | dua res | rel gap | pri obj | dua obj | kap/tau | time (s)\n",
    "----------------------------------------------------------------------------\n",
    "     0| 4.66e+20  1.52e+21  1.00e+00 -2.43e+21  1.47e+22  2.53e+21  8.51e-02 \n",
    "   100| 6.85e-02  1.04e-01  4.00e-02  6.14e-01  7.07e-01  1.45e-16  2.68e+00 \n",
    "   200| 2.52e-02  3.57e-02  4.47e-04  4.88e-01  4.87e-01  6.71e-17  5.04e+00 \n",
    "   300| 1.47e-02  2.16e-02  1.99e-03  4.06e-01  4.02e-01  2.70e-16  7.11e+00 \n",
    "   400| 1.53e-02  2.26e-02  2.19e-03  3.25e-01  3.22e-01  4.04e-16  9.01e+00 \n",
    "   500| 1.55e-02  2.48e-02  2.63e-03  2.50e-01  2.54e-01  7.56e-16  1.12e+01 \n",
    "   600| 1.56e-02  2.32e-02  1.02e-03  1.73e-01  1.75e-01  7.56e-16  1.32e+01 \n",
    "   700| 1.12e-02  1.95e-02  6.73e-03  1.13e-01  1.05e-01  3.96e-16  1.62e+01 \n",
    "   800| 1.24e-02  2.14e-02  7.24e-03  6.93e-02  7.76e-02  1.07e-16  1.85e+01 \n",
    "   900| 1.42e-02  2.55e-02  1.95e-03  4.52e-02  4.30e-02  2.17e-16  2.07e+01 \n",
    "  1000| 1.30e-02  2.33e-02  1.69e-03  2.46e-02  2.29e-02  4.90e-16  2.44e+01 \n",
    "  1100| 9.15e-03  1.52e-02  6.14e-03  1.58e-02  9.50e-03  4.25e-16  2.66e+01 \n",
    "  1200| 1.09e-02  1.86e-02  1.52e-02  5.93e-03 -9.51e-03  1.43e-16  2.88e+01 \n",
    "  1300| 8.17e-03  1.22e-02  1.57e-03  3.70e-03  2.12e-03  8.87e-16  3.10e+01 \n",
    "  1400| 1.17e-02  1.79e-02  1.03e-02  4.98e-03  1.55e-02  2.09e-16  3.30e+01 \n",
    "  1500| 9.03e-03  1.47e-02  5.89e-03  3.16e-03  9.12e-03  9.94e-17  3.49e+01 \n",
    "  1600| 8.99e-03  1.57e-02  1.15e-02  9.75e-04  1.26e-02  1.17e-15  3.72e+01 \n",
    "  1700| 9.48e-03  1.37e-02  6.99e-03 -4.38e-03  2.66e-03  2.80e-16  3.97e+01 \n",
    "  1800| 8.51e-03  1.40e-02  1.39e-03 -1.04e-02 -1.18e-02  2.51e-16  4.25e+01 \n",
    "  1900| 9.57e-03  1.57e-02  3.32e-03 -1.44e-02 -1.78e-02  4.70e-16  4.45e+01 \n",
    "  2000| 8.61e-03  1.18e-02  4.78e-03 -1.32e-02 -8.27e-03  5.89e-16  4.66e+01 \n",
    "  2100| 6.21e-03  9.29e-03  6.58e-03 -1.35e-02 -6.79e-03  4.33e-16  4.87e+01 \n",
    "  2200| 8.70e-03  1.32e-02  6.27e-03 -2.01e-02 -2.66e-02  1.40e-15  5.11e+01 \n",
    "  2300| 7.56e-03  1.20e-02  3.64e-03 -2.13e-02 -2.52e-02  1.38e-15  5.31e+01 \n",
    "  2400| 5.89e-03  1.06e-02  6.29e-03 -2.32e-02 -2.98e-02  1.95e-16  5.51e+01 \n",
    "  2500| 5.96e-03  9.36e-03  5.42e-03 -2.57e-02 -3.15e-02  5.32e-16  5.71e+01 \n",
    "  2600| 8.32e-03  1.51e-02  5.83e-03 -2.67e-02 -3.28e-02  1.03e-15  5.98e+01 \n",
    "  2700| 5.95e-03  9.28e-03  4.27e-04 -2.63e-02 -2.67e-02  6.46e-16  6.23e+01 \n",
    "  2800| 5.79e-03  9.66e-03  3.91e-04 -2.72e-02 -2.68e-02  4.78e-17  6.45e+01 \n",
    "  2900| 5.53e-03  1.13e-02  8.46e-03 -2.55e-02 -1.66e-02  2.33e-16  6.69e+01 \n",
    "  3000| 7.59e-03  1.23e-02  6.12e-04 -3.28e-02 -3.34e-02  3.42e-16  7.07e+01 \n",
    "  3100| 4.51e-03  7.10e-03  1.93e-03 -3.31e-02 -3.52e-02  4.94e-16  7.29e+01 \n",
    "  3200| 4.80e-03  8.74e-03  4.11e-03 -3.13e-02 -2.69e-02  4.23e-16  7.48e+01 \n",
    "  3300| 5.07e-03  7.79e-03  5.45e-03 -3.59e-02 -4.18e-02  2.62e-16  7.68e+01 \n",
    "  3400| 4.96e-03  7.50e-03  1.13e-03 -3.54e-02 -3.42e-02  2.51e-16  7.86e+01 \n",
    "  3500| 5.71e-03  7.56e-03  3.37e-03 -3.54e-02 -3.18e-02  2.48e-16  8.06e+01 \n",
    "  3600| 5.35e-03  8.96e-03  8.96e-04 -3.87e-02 -3.97e-02  3.28e-17  8.31e+01 \n",
    "  3700| 4.52e-03  6.74e-03  4.52e-03 -3.81e-02 -3.32e-02  3.06e-16  8.53e+01 \n",
    "  3800| 4.85e-03  8.24e-03  2.58e-03 -4.18e-02 -4.46e-02  1.06e-17  8.73e+01 \n",
    "  3900| 3.77e-03  7.50e-03  2.11e-03 -3.96e-02 -3.73e-02  2.12e-16  8.92e+01 \n",
    "  4000| 4.84e-03  7.97e-03  1.11e-03 -4.34e-02 -4.46e-02  1.42e-16  9.11e+01 \n",
    "  4100| 5.13e-03  8.34e-03  1.25e-03 -4.38e-02 -4.51e-02  4.42e-16  9.30e+01 \n",
    "  4200| 5.44e-03  9.19e-03  3.20e-04 -4.47e-02 -4.43e-02  5.08e-17  9.49e+01 \n",
    "  4300| 4.31e-03  6.69e-03  2.11e-04 -4.61e-02 -4.59e-02  5.28e-16  9.68e+01 \n",
    "  4400| 5.24e-03  8.41e-03  4.20e-04 -4.55e-02 -4.50e-02  7.03e-16  9.89e+01 \n",
    "  4500| 4.32e-03  6.20e-03  3.58e-03 -4.82e-02 -5.22e-02  8.49e-17  1.01e+02 \n",
    "  4600| 4.04e-03  6.68e-03  2.93e-03 -4.76e-02 -4.44e-02  4.00e-16  1.05e+02 \n",
    "  4700| 4.33e-03  6.95e-03  8.30e-04 -5.07e-02 -5.17e-02  3.76e-16  1.07e+02 \n",
    "  4800| 3.48e-03  5.48e-03  1.62e-03 -5.05e-02 -4.87e-02  5.41e-16  1.09e+02 \n",
    "  4900| 5.88e-03  1.03e-02  1.16e-03 -5.21e-02 -5.34e-02  7.47e-16  1.11e+02 \n",
    "  5000| 5.02e-03  7.68e-03  1.81e-03 -5.22e-02 -5.02e-02  4.36e-16  1.13e+02 \n",
    "----------------------------------------------------------------------------\n",
    "Status: Solved/Inaccurate\n",
    "Hit max_iters, solution may be inaccurate\n",
    "Timing: Solve time: 1.13e+02s\n",
    "\tLin-sys: nnz in L factor: 82376, avg solve time: 5.89e-04s\n",
    "\tCones: avg projection time: 1.61e-02s\n",
    "\tAcceleration: avg step time: 4.14e-03s\n",
    "----------------------------------------------------------------------------\n",
    "Error metrics:\n",
    "dist(s, K) = 1.2425e-09, dist(y, K*) = 1.3660e-09, s'y/|s||y| = 1.1947e-12\n",
    "primal res: |Ax + s - b|_2 / (1 + |b|_2) = 5.0161e-03\n",
    "dual res:   |A'y + c|_2 / (1 + |c|_2) = 7.6756e-03\n",
    "rel gap:    |c'x + b'y| / (1 + |c'x| + |b'y|) = 1.8062e-03\n",
    "----------------------------------------------------------------------------\n",
    "c'x = -0.0522, -b'y = -0.0502\n",
    "============================================================================\n",
    "min: -0.0522061928831998"
   ]
  }
 ],
 "metadata": {
  "celltoolbar": "Initialization Cell",
  "kernelspec": {
   "display_name": "Python 3",
   "language": "python",
   "name": "python3"
  },
  "language_info": {
   "codemirror_mode": {
    "name": "ipython",
    "version": 3
   },
   "file_extension": ".py",
   "mimetype": "text/x-python",
   "name": "python",
   "nbconvert_exporter": "python",
   "pygments_lexer": "ipython3",
   "version": "3.7.5"
  },
  "toc": {
   "base_numbering": 1,
   "nav_menu": {},
   "number_sections": true,
   "sideBar": true,
   "skip_h1_title": false,
   "title_cell": "Table of Contents",
   "title_sidebar": "Contents",
   "toc_cell": false,
   "toc_position": {
    "height": "711.818px",
    "left": "588px",
    "top": "469.284px",
    "width": "165px"
   },
   "toc_section_display": true,
   "toc_window_display": true
  }
 },
 "nbformat": 4,
 "nbformat_minor": 2
}
