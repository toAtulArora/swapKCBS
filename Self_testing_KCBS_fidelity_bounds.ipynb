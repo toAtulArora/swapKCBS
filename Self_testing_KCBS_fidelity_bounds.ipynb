{
 "cells": [
  {
   "cell_type": "markdown",
   "metadata": {},
   "source": [
    "# Libraries"
   ]
  },
  {
   "cell_type": "code",
   "execution_count": 43,
   "metadata": {
    "slideshow": {
     "slide_type": "slide"
    }
   },
   "outputs": [],
   "source": [
    "import numpy as np\n",
    "import pandas as pd\n",
    "import sympy as sym\n",
    "pi = np.pi\n",
    "import cvxpy as cp\n",
    "from sympy import Matrix, S, linsolve, symbols"
   ]
  },
  {
   "cell_type": "markdown",
   "metadata": {},
   "source": [
    "# Translation operator "
   ]
  },
  {
   "cell_type": "markdown",
   "metadata": {
    "heading_collapsed": true
   },
   "source": [
    "## Ideal projectors"
   ]
  },
  {
   "cell_type": "code",
   "execution_count": 3,
   "metadata": {
    "hidden": true
   },
   "outputs": [
    {
     "data": {
      "text/plain": [
       "array([[-8.88231633e-18,  4.04085029e-17, -8.35099211e-18],\n",
       "       [ 9.13657087e-19,  2.00578771e-17, -4.44175517e-18],\n",
       "       [ 1.54329956e-17, -4.32800290e-17,  1.57194299e-17]])"
      ]
     },
     "execution_count": 3,
     "metadata": {},
     "output_type": "execute_result"
    }
   ],
   "source": [
    "def proj(j,n):\n",
    "#     mat = np.zeros((3,3))\n",
    "    temp1 = np.cos(pi/n)/(1+np.cos(pi/n))\n",
    "    temp2 = 1-temp1\n",
    "    temp3 = j*pi*(n-1)/n\n",
    "    vec = np.asarray([np.sqrt(temp1),np.sqrt(temp2)*np.sin(temp3), np.sqrt(temp2)*np.cos(temp3)])\n",
    "    mat = np.outer(vec,vec)\n",
    "#     return vec\n",
    "    return mat\n",
    "\n",
    "np.dot(proj(1,5),proj(2,5))"
   ]
  },
  {
   "cell_type": "code",
   "execution_count": 4,
   "metadata": {
    "hidden": true
   },
   "outputs": [
    {
     "data": {
      "text/plain": [
       "array([[ 8.82680578e-18,  0.00000000e+00, -1.28106935e-17],\n",
       "       [ 1.03962966e-17,  0.00000000e+00,  2.53568037e-18],\n",
       "       [ 2.80201435e-18,  0.00000000e+00,  9.69177354e-19]])"
      ]
     },
     "execution_count": 4,
     "metadata": {},
     "output_type": "execute_result"
    }
   ],
   "source": [
    "# Orthogonality check\n",
    "i = 0\n",
    "np.dot(proj((i+1) % 5,5),proj(i,5))"
   ]
  },
  {
   "cell_type": "code",
   "execution_count": 5,
   "metadata": {
    "hidden": true
   },
   "outputs": [
    {
     "data": {
      "text/plain": [
       "array([[ True,  True,  True],\n",
       "       [ True,  True,  True],\n",
       "       [ True,  True,  True]])"
      ]
     },
     "execution_count": 5,
     "metadata": {},
     "output_type": "execute_result"
    }
   ],
   "source": [
    "#Projection check\n",
    "i = 0\n",
    "proj(i,5)@proj(i,5) - proj(i,5) <= 1.0e-10"
   ]
  },
  {
   "cell_type": "markdown",
   "metadata": {
    "heading_collapsed": true
   },
   "source": [
    "## Translation operator"
   ]
  },
  {
   "cell_type": "code",
   "execution_count": 6,
   "metadata": {
    "hidden": true
   },
   "outputs": [],
   "source": [
    "T = np.matrix([[0,0,1],\n",
    "               [1,0,0],\n",
    "               [0,1,0]])"
   ]
  },
  {
   "cell_type": "code",
   "execution_count": 7,
   "metadata": {
    "hidden": true
   },
   "outputs": [
    {
     "data": {
      "text/plain": [
       "matrix([[1, 0, 0],\n",
       "        [0, 1, 0],\n",
       "        [0, 0, 1]])"
      ]
     },
     "execution_count": 7,
     "metadata": {},
     "output_type": "execute_result"
    }
   ],
   "source": [
    "np.transpose(T)@T"
   ]
  },
  {
   "cell_type": "markdown",
   "metadata": {},
   "source": [
    "## 5 cycle"
   ]
  },
  {
   "cell_type": "code",
   "execution_count": 108,
   "metadata": {},
   "outputs": [],
   "source": [
    "P1 = proj(1,5)\n",
    "P2 = proj(2,5)\n",
    "P3 = proj(3,5)\n",
    "P4 = proj(4,5)\n",
    "P5 = proj(5,5)"
   ]
  },
  {
   "cell_type": "code",
   "execution_count": 109,
   "metadata": {},
   "outputs": [
    {
     "data": {
      "text/plain": [
       "array([[ 0.4472136 ,  0.29225023, -0.40224793],\n",
       "       [ 0.29225023,  0.19098301, -0.26286556],\n",
       "       [-0.40224793, -0.26286556,  0.3618034 ]])"
      ]
     },
     "execution_count": 109,
     "metadata": {},
     "output_type": "execute_result"
    }
   ],
   "source": [
    "P1"
   ]
  },
  {
   "cell_type": "code",
   "execution_count": 110,
   "metadata": {},
   "outputs": [],
   "source": [
    "x1 = sym.Symbol('x1')\n",
    "x2 = sym.Symbol('x2')\n",
    "x3 = sym.Symbol('x3')\n",
    "x4 = sym.Symbol('x4')\n",
    "x5 = sym.Symbol('x5')\n",
    "x6 = sym.Symbol('x6')\n",
    "x7 = sym.Symbol('x7')\n",
    "x8 = sym.Symbol('x8')\n",
    "x9 = sym.Symbol('x9')\n",
    "x10 = sym.Symbol('x10')"
   ]
  },
  {
   "cell_type": "code",
   "execution_count": 111,
   "metadata": {},
   "outputs": [],
   "source": [
    "LHS = x1*P1 + x2*P2 + x3*P3 + x4*P4 + x5*P5 + x6*(P5@P3) + x7*(P5@P2) + x8*(P2@P4) + x9*(P3@P1)\n",
    "#LHS = x1*P1 + x2*P2 + x3*P3 + x4*P4 + x5*P5 + x6*(P1@P3) + x7*(P2@P4) + x8*(P3@P5) + x9*(P4@P1) +x10*(P5@P2)"
   ]
  },
  {
   "cell_type": "code",
   "execution_count": 112,
   "metadata": {
    "slideshow": {
     "slide_type": "-"
    }
   },
   "outputs": [],
   "source": [
    "LHSP = pd.DataFrame(LHS)"
   ]
  },
  {
   "cell_type": "code",
   "execution_count": 113,
   "metadata": {},
   "outputs": [
    {
     "data": {
      "text/html": [
       "<div>\n",
       "<style scoped>\n",
       "    .dataframe tbody tr th:only-of-type {\n",
       "        vertical-align: middle;\n",
       "    }\n",
       "\n",
       "    .dataframe tbody tr th {\n",
       "        vertical-align: top;\n",
       "    }\n",
       "\n",
       "    .dataframe thead th {\n",
       "        text-align: right;\n",
       "    }\n",
       "</style>\n",
       "<table border=\"1\" class=\"dataframe\">\n",
       "  <thead>\n",
       "    <tr style=\"text-align: right;\">\n",
       "      <th></th>\n",
       "      <th>0</th>\n",
       "      <th>1</th>\n",
       "      <th>2</th>\n",
       "    </tr>\n",
       "  </thead>\n",
       "  <tbody>\n",
       "    <tr>\n",
       "      <th>0</th>\n",
       "      <td>0.447213595499958*x1 + 0.276393202250021*x10 +...</td>\n",
       "      <td>0.292250229469488*x1 - 0.292250229469488*x10 -...</td>\n",
       "      <td>-0.402247932095355*x1 + 0.0949578557832232*x10...</td>\n",
       "    </tr>\n",
       "    <tr>\n",
       "      <th>1</th>\n",
       "      <td>0.292250229469488*x1 - 1.50528723346159e-16*x1...</td>\n",
       "      <td>0.190983005625053*x1 + 1.59164746388624e-16*x1...</td>\n",
       "      <td>-0.262865556059567*x1 - 5.17157610475791e-17*x...</td>\n",
       "    </tr>\n",
       "    <tr>\n",
       "      <th>2</th>\n",
       "      <td>-0.402247932095355*x1 + 0.307290076312132*x10 ...</td>\n",
       "      <td>-0.262865556059567*x1 - 0.324919696232906*x10 ...</td>\n",
       "      <td>0.361803398874989*x1 + 0.105572809000084*x10 +...</td>\n",
       "    </tr>\n",
       "  </tbody>\n",
       "</table>\n",
       "</div>"
      ],
      "text/plain": [
       "                                                   0  \\\n",
       "0  0.447213595499958*x1 + 0.276393202250021*x10 +...   \n",
       "1  0.292250229469488*x1 - 1.50528723346159e-16*x1...   \n",
       "2  -0.402247932095355*x1 + 0.307290076312132*x10 ...   \n",
       "\n",
       "                                                   1  \\\n",
       "0  0.292250229469488*x1 - 0.292250229469488*x10 -...   \n",
       "1  0.190983005625053*x1 + 1.59164746388624e-16*x1...   \n",
       "2  -0.262865556059567*x1 - 0.324919696232906*x10 ...   \n",
       "\n",
       "                                                   2  \n",
       "0  -0.402247932095355*x1 + 0.0949578557832232*x10...  \n",
       "1  -0.262865556059567*x1 - 5.17157610475791e-17*x...  \n",
       "2  0.361803398874989*x1 + 0.105572809000084*x10 +...  "
      ]
     },
     "execution_count": 113,
     "metadata": {},
     "output_type": "execute_result"
    }
   ],
   "source": [
    "LHSP"
   ]
  },
  {
   "cell_type": "code",
   "execution_count": 114,
   "metadata": {},
   "outputs": [],
   "source": [
    "LHS;"
   ]
  },
  {
   "cell_type": "code",
   "execution_count": 115,
   "metadata": {},
   "outputs": [],
   "source": [
    "Equations = LHS - T"
   ]
  },
  {
   "cell_type": "code",
   "execution_count": 116,
   "metadata": {},
   "outputs": [],
   "source": [
    "Equations;"
   ]
  },
  {
   "cell_type": "code",
   "execution_count": 117,
   "metadata": {},
   "outputs": [
    {
     "data": {
      "text/plain": [
       "array([[-5.55111512e-17,  4.72870805e-01,  3.43560750e-01],\n",
       "       [-5.55111512e-17,  3.09016994e-01,  2.24513988e-01],\n",
       "       [ 5.55111512e-17, -4.25325404e-01, -3.09016994e-01]])"
      ]
     },
     "execution_count": 117,
     "metadata": {},
     "output_type": "execute_result"
    }
   ],
   "source": [
    "P1@P3 - P1@P4"
   ]
  },
  {
   "cell_type": "code",
   "execution_count": 121,
   "metadata": {},
   "outputs": [],
   "source": [
    "eqset1 = [] #set of equations\n",
    "for i in range(3):\n",
    "    for j in range(3):\n",
    "        eqset1.append(Equations[i,j])\n",
    "solution5 = sym.solve((eqset1),(x1,x2,x3,x4,x5,x6,x7,x8,x9,x10))"
   ]
  },
  {
   "cell_type": "code",
   "execution_count": 122,
   "metadata": {},
   "outputs": [
    {
     "data": {
      "text/plain": [
       "{x9: 1.1136394303114*x10 + 837921279079462.0,\n",
       " x8: 517863830367898.0 - 0.311732980855484*x10,\n",
       " x7: -1.30630100789441*x10 - 517863830367896.0,\n",
       " x4: 0.192661577583011*x10 - 320057448711568.0,\n",
       " x5: -0.688267019144514*x10 - 517863830367896.0,\n",
       " x6: -0.495605441561502*x10 - 837921279079464.0,\n",
       " x3: 0.807338422416987*x10 + 320057448711569.0,\n",
       " x2: 0.306301007894408*x10 + 517863830367895.0,\n",
       " x1: 0.365319220073288 - 0.618033988749893*x10}"
      ]
     },
     "execution_count": 122,
     "metadata": {},
     "output_type": "execute_result"
    }
   ],
   "source": [
    "solution5"
   ]
  },
  {
   "cell_type": "markdown",
   "metadata": {
    "heading_collapsed": true
   },
   "source": [
    "### Sanity check"
   ]
  },
  {
   "cell_type": "code",
   "execution_count": 20,
   "metadata": {
    "hidden": true
   },
   "outputs": [],
   "source": [
    "y1 = sym.Symbol('y1')\n",
    "y2 = sym.Symbol('y2')\n",
    "eqset = [] #set of equations\n",
    "for i in range(3):\n",
    "    for j in range(3):\n",
    "        eqset.append(LHS[i,j])\n",
    "solution = sym.solve((eqset),(y1,y2))"
   ]
  },
  {
   "cell_type": "code",
   "execution_count": 21,
   "metadata": {
    "hidden": true
   },
   "outputs": [
    {
     "data": {
      "text/plain": [
       "[]"
      ]
     },
     "execution_count": 21,
     "metadata": {},
     "output_type": "execute_result"
    }
   ],
   "source": [
    "solution"
   ]
  },
  {
   "cell_type": "markdown",
   "metadata": {
    "heading_collapsed": true
   },
   "source": [
    "### Isometry"
   ]
  },
  {
   "cell_type": "code",
   "execution_count": 22,
   "metadata": {
    "hidden": true
   },
   "outputs": [],
   "source": [
    "# S = TUVU\n",
    "# We need three basis vectors. Let these be P1, P2 and P3.\n",
    "# First we construct the basis vectors\n",
    "def basis(j,n):\n",
    "    temp1 = np.cos(pi/n)/(1+np.cos(pi/n))\n",
    "    temp2 = 1-temp1\n",
    "    temp3 = j*pi*(n-1)/n\n",
    "    vec = np.asarray([np.sqrt(temp1),np.sqrt(temp2)*np.sin(temp3), np.sqrt(temp2)*np.cos(temp3)])\n",
    "    return vec      "
   ]
  },
  {
   "cell_type": "code",
   "execution_count": 23,
   "metadata": {
    "hidden": true
   },
   "outputs": [],
   "source": [
    "b1 = basis(0,5)\n",
    "b2 = basis(1,5)\n",
    "b3 = np.cross(b1,b2)"
   ]
  },
  {
   "cell_type": "code",
   "execution_count": 24,
   "metadata": {
    "hidden": true
   },
   "outputs": [
    {
     "data": {
      "text/plain": [
       "-2.7755575615628914e-17"
      ]
     },
     "execution_count": 24,
     "metadata": {},
     "output_type": "execute_result"
    }
   ],
   "source": [
    "# Sanity check\n",
    "np.inner(b2,b3)"
   ]
  },
  {
   "cell_type": "code",
   "execution_count": 25,
   "metadata": {
    "hidden": true
   },
   "outputs": [],
   "source": [
    "coeff = [solution5[x1],solution5[x2],solution5[x3],solution5[x4],solution5[x5],solution5[x6],solution5[x7],solution5[x8],solution5[x9]]"
   ]
  },
  {
   "cell_type": "code",
   "execution_count": 26,
   "metadata": {
    "hidden": true
   },
   "outputs": [
    {
     "data": {
      "text/plain": [
       "[0.365319220073288 - 0.618033988749893*x10,\n",
       " 0.306301007894408*x10 + 517863830367895.0,\n",
       " 0.807338422416987*x10 + 320057448711569.0,\n",
       " 0.192661577583011*x10 - 320057448711568.0,\n",
       " -0.688267019144514*x10 - 517863830367896.0,\n",
       " -0.495605441561502*x10 - 837921279079464.0,\n",
       " -1.30630100789441*x10 - 517863830367896.0,\n",
       " 517863830367898.0 - 0.311732980855484*x10,\n",
       " 1.1136394303114*x10 + 837921279079462.0]"
      ]
     },
     "execution_count": 26,
     "metadata": {},
     "output_type": "execute_result"
    }
   ],
   "source": [
    "coeff"
   ]
  },
  {
   "cell_type": "markdown",
   "metadata": {
    "heading_collapsed": true
   },
   "source": [
    "# Isometry"
   ]
  },
  {
   "cell_type": "code",
   "execution_count": 28,
   "metadata": {
    "hidden": true
   },
   "outputs": [],
   "source": [
    "# Will add later"
   ]
  },
  {
   "cell_type": "markdown",
   "metadata": {
    "heading_collapsed": true
   },
   "source": [
    "# SDP"
   ]
  },
  {
   "cell_type": "markdown",
   "metadata": {
    "hidden": true
   },
   "source": [
    "## Adjaceny matrix"
   ]
  },
  {
   "cell_type": "code",
   "execution_count": 29,
   "metadata": {
    "hidden": true
   },
   "outputs": [],
   "source": [
    "n = 5\n",
    "E = np.matrix([[0,1,0,0,1],\n",
    "               [1,0,1,0,0],\n",
    "               [0,1,0,1,0],\n",
    "               [0,0,1,0,1],\n",
    "               [1,0,0,1,0]])"
   ]
  },
  {
   "cell_type": "markdown",
   "metadata": {
    "hidden": true
   },
   "source": [
    "## Statistics"
   ]
  },
  {
   "cell_type": "code",
   "execution_count": 30,
   "metadata": {
    "hidden": true
   },
   "outputs": [
    {
     "data": {
      "text/plain": [
       "0.4472135954999579"
      ]
     },
     "execution_count": 30,
     "metadata": {},
     "output_type": "execute_result"
    }
   ],
   "source": [
    "a = 1/np.sqrt(5)\n",
    "P_list = [a,0,a,a,a]\n",
    "P_list[0]"
   ]
  },
  {
   "cell_type": "markdown",
   "metadata": {
    "hidden": true
   },
   "source": [
    "## Optimization"
   ]
  },
  {
   "cell_type": "code",
   "execution_count": 31,
   "metadata": {
    "hidden": true,
    "slideshow": {
     "slide_type": "-"
    }
   },
   "outputs": [
    {
     "data": {
      "text/plain": [
       "1.788854385284813"
      ]
     },
     "execution_count": 31,
     "metadata": {},
     "output_type": "execute_result"
    }
   ],
   "source": [
    "# Create a symmetric matrix variable.\n",
    "X = cp.Variable((n+1,n+1), symmetric=True)\n",
    "\n",
    "\n",
    "# TODO: define objective function \n",
    "C = np.eye(n+1,n+1)\n",
    "\n",
    "\n",
    "# Constraints\n",
    "# The operator >> denotes matrix inequality.\n",
    "constraints = [X >> 0]\n",
    "constraints += [X[0,0] == 1]\n",
    "for i in range(1,n+1):\n",
    "    for j in range(1,n+1):\n",
    "        if E[i-1,j-1] == 1:\n",
    "            constraints += [X[i,j] == 0]\n",
    "for i in range(1,n+1):\n",
    "    constraints += [X[0,i] == X[i,i]]\n",
    "    constraints += [X[i,i] == P_list[i-1]]\n",
    "    \n",
    "prob = cp.Problem(cp.Maximize(cp.trace(C@X)-1),\n",
    "                  constraints)\n",
    "prob.solve()"
   ]
  },
  {
   "cell_type": "code",
   "execution_count": 42,
   "metadata": {
    "hidden": true
   },
   "outputs": [],
   "source": [
    "a =np.zeros(4)\n",
    "a[3] = 1\n",
    "LHS = a"
   ]
  },
  {
   "cell_type": "markdown",
   "metadata": {
    "heading_collapsed": true
   },
   "source": [
    "# Basic SymPy"
   ]
  },
  {
   "cell_type": "code",
   "execution_count": 35,
   "metadata": {
    "hidden": true
   },
   "outputs": [
    {
     "data": {
      "text/latex": [
       "$\\displaystyle a + 1$"
      ],
      "text/plain": [
       "a + 1"
      ]
     },
     "execution_count": 35,
     "metadata": {},
     "output_type": "execute_result"
    }
   ],
   "source": [
    "a = sym.Symbol('a')\n",
    "b = a+1\n",
    "b"
   ]
  },
  {
   "cell_type": "code",
   "execution_count": 36,
   "metadata": {
    "hidden": true
   },
   "outputs": [
    {
     "data": {
      "text/plain": [
       "4"
      ]
     },
     "execution_count": 36,
     "metadata": {},
     "output_type": "execute_result"
    }
   ],
   "source": [
    "a = 4\n",
    "a"
   ]
  },
  {
   "cell_type": "code",
   "execution_count": 37,
   "metadata": {
    "hidden": true
   },
   "outputs": [
    {
     "data": {
      "text/latex": [
       "$\\displaystyle a + 1$"
      ],
      "text/plain": [
       "a + 1"
      ]
     },
     "execution_count": 37,
     "metadata": {},
     "output_type": "execute_result"
    }
   ],
   "source": [
    "b"
   ]
  },
  {
   "cell_type": "code",
   "execution_count": 38,
   "metadata": {
    "hidden": true
   },
   "outputs": [],
   "source": [
    "# a.subs(4)"
   ]
  },
  {
   "cell_type": "code",
   "execution_count": 39,
   "metadata": {
    "hidden": true
   },
   "outputs": [
    {
     "data": {
      "text/latex": [
       "$\\displaystyle a + 1$"
      ],
      "text/plain": [
       "a + 1"
      ]
     },
     "execution_count": 39,
     "metadata": {},
     "output_type": "execute_result"
    }
   ],
   "source": [
    "b"
   ]
  },
  {
   "cell_type": "code",
   "execution_count": 40,
   "metadata": {
    "hidden": true
   },
   "outputs": [
    {
     "data": {
      "text/latex": [
       "$\\displaystyle a + 1$"
      ],
      "text/plain": [
       "a + 1"
      ]
     },
     "execution_count": 40,
     "metadata": {},
     "output_type": "execute_result"
    }
   ],
   "source": [
    "b.subs(a,4)"
   ]
  },
  {
   "cell_type": "code",
   "execution_count": 41,
   "metadata": {
    "hidden": true
   },
   "outputs": [
    {
     "data": {
      "text/latex": [
       "$\\displaystyle a + 1$"
      ],
      "text/plain": [
       "a + 1"
      ]
     },
     "execution_count": 41,
     "metadata": {},
     "output_type": "execute_result"
    }
   ],
   "source": [
    "b"
   ]
  },
  {
   "cell_type": "markdown",
   "metadata": {},
   "source": [
    "# Linsolve"
   ]
  },
  {
   "cell_type": "code",
   "execution_count": 124,
   "metadata": {},
   "outputs": [],
   "source": [
    "solution = sym.linsolve((eqset1),(x1,x2,x3,x4,x5,x6,x7,x8,x9,x10))"
   ]
  },
  {
   "cell_type": "code",
   "execution_count": 125,
   "metadata": {},
   "outputs": [
    {
     "data": {
      "text/latex": [
       "$\\displaystyle \\left\\{\\left( 0.567340128230231 - 0.618033988749894 x_{10}, \\  - 1.30901699437495 x_{10} - 2.1488616702099 \\cdot 10^{15}, \\  - 0.190983005625052 x_{10} - 1.32806954931158 \\cdot 10^{15}, \\  1.19098300562505 x_{10} + 1.32806954931158 \\cdot 10^{15}, \\  0.927050983124841 x_{10} + 2.14886167020989 \\cdot 10^{15}, \\  2.11803398874989 x_{10} + 3.47693121952148 \\cdot 10^{15}, \\  0.309016994374948 x_{10} + 2.14886167020989 \\cdot 10^{15}, \\  - 1.92705098312484 x_{10} - 2.14886167020989 \\cdot 10^{15}, \\  - 1.5 x_{10} - 3.47693121952148 \\cdot 10^{15}, \\  x_{10}\\right)\\right\\}$"
      ],
      "text/plain": [
       "{(0.567340128230231 - 0.618033988749894*x10, -1.30901699437495*x10 - 2.1488616702099e+15, -0.190983005625052*x10 - 1.32806954931158e+15, 1.19098300562505*x10 + 1.32806954931158e+15, 0.927050983124841*x10 + 2.14886167020989e+15, 2.11803398874989*x10 + 3.47693121952148e+15, 0.309016994374948*x10 + 2.14886167020989e+15, -1.92705098312484*x10 - 2.14886167020989e+15, -1.5*x10 - 3.47693121952148e+15, x10)}"
      ]
     },
     "execution_count": 125,
     "metadata": {},
     "output_type": "execute_result"
    }
   ],
   "source": [
    "solution"
   ]
  },
  {
   "cell_type": "code",
   "execution_count": 126,
   "metadata": {},
   "outputs": [],
   "source": [
    "solution = list(solution)\n",
    "solution = solution[0]"
   ]
  },
  {
   "cell_type": "code",
   "execution_count": 127,
   "metadata": {},
   "outputs": [
    {
     "data": {
      "text/latex": [
       "$\\displaystyle - 1.30901699437495 x_{10} - 2.1488616702099 \\cdot 10^{15}$"
      ],
      "text/plain": [
       "-1.30901699437495*x10 - 2.1488616702099e+15"
      ]
     },
     "execution_count": 127,
     "metadata": {},
     "output_type": "execute_result"
    }
   ],
   "source": [
    "solution[1]"
   ]
  },
  {
   "cell_type": "code",
   "execution_count": 128,
   "metadata": {},
   "outputs": [],
   "source": [
    "list1 = list(solution)"
   ]
  },
  {
   "cell_type": "code",
   "execution_count": 129,
   "metadata": {},
   "outputs": [],
   "source": [
    "list2 = []\n",
    "for key, value in solution5.items():\n",
    "    temp = value\n",
    "    list2.append(temp)\n"
   ]
  },
  {
   "cell_type": "code",
   "execution_count": 130,
   "metadata": {},
   "outputs": [
    {
     "data": {
      "text/plain": [
       "[0.567340128230231 - 0.618033988749894*x10,\n",
       " -1.30901699437495*x10 - 2.1488616702099e+15,\n",
       " -0.190983005625052*x10 - 1.32806954931158e+15,\n",
       " 1.19098300562505*x10 + 1.32806954931158e+15,\n",
       " 0.927050983124841*x10 + 2.14886167020989e+15,\n",
       " 2.11803398874989*x10 + 3.47693121952148e+15,\n",
       " 0.309016994374948*x10 + 2.14886167020989e+15,\n",
       " -1.92705098312484*x10 - 2.14886167020989e+15,\n",
       " -1.5*x10 - 3.47693121952148e+15,\n",
       " x10]"
      ]
     },
     "execution_count": 130,
     "metadata": {},
     "output_type": "execute_result"
    }
   ],
   "source": [
    "list1"
   ]
  },
  {
   "cell_type": "code",
   "execution_count": 131,
   "metadata": {},
   "outputs": [
    {
     "data": {
      "text/plain": [
       "[1.1136394303114*x10 + 837921279079462.0,\n",
       " 517863830367898.0 - 0.311732980855484*x10,\n",
       " -1.30630100789441*x10 - 517863830367896.0,\n",
       " 0.192661577583011*x10 - 320057448711568.0,\n",
       " -0.688267019144514*x10 - 517863830367896.0,\n",
       " -0.495605441561502*x10 - 837921279079464.0,\n",
       " 0.807338422416987*x10 + 320057448711569.0,\n",
       " 0.306301007894408*x10 + 517863830367895.0,\n",
       " 0.365319220073288 - 0.618033988749893*x10]"
      ]
     },
     "execution_count": 131,
     "metadata": {},
     "output_type": "execute_result"
    }
   ],
   "source": [
    "list2"
   ]
  },
  {
   "cell_type": "code",
   "execution_count": 132,
   "metadata": {},
   "outputs": [
    {
     "data": {
      "text/plain": [
       "[1.73167341906129*x10 + 837921279079461.0,\n",
       " 0.997284013519464*x10 + 2.66672550057779e+15,\n",
       " 810205718943686.0 - 1.11531800226935*x10,\n",
       " -0.998321428042041*x10 - 1.64812699802315e+15,\n",
       " -1.61531800226936*x10 - 2.66672550057779e+15,\n",
       " -2.6136394303114*x10 - 4.31485249860094e+15,\n",
       " 0.498321428042039*x10 - 1.82880422149833e+15,\n",
       " 2.23335199101925*x10 + 2.66672550057779e+15,\n",
       " 0.881966011250107*x10 + 3.47693121952148e+15]"
      ]
     },
     "execution_count": 132,
     "metadata": {},
     "output_type": "execute_result"
    }
   ],
   "source": [
    "diff = []\n",
    "for i in range(len(list2)):\n",
    "    diff.append(list2[i]-list1[i])\n",
    "diff"
   ]
  },
  {
   "cell_type": "code",
   "execution_count": null,
   "metadata": {},
   "outputs": [],
   "source": []
  }
 ],
 "metadata": {
  "kernelspec": {
   "display_name": "Python 3",
   "language": "python",
   "name": "python3"
  },
  "language_info": {
   "codemirror_mode": {
    "name": "ipython",
    "version": 3
   },
   "file_extension": ".py",
   "mimetype": "text/x-python",
   "name": "python",
   "nbconvert_exporter": "python",
   "pygments_lexer": "ipython3",
   "version": "3.7.5"
  },
  "toc": {
   "base_numbering": 1,
   "nav_menu": {},
   "number_sections": true,
   "sideBar": true,
   "skip_h1_title": false,
   "title_cell": "Table of Contents",
   "title_sidebar": "Contents",
   "toc_cell": false,
   "toc_position": {},
   "toc_section_display": true,
   "toc_window_display": true
  }
 },
 "nbformat": 4,
 "nbformat_minor": 2
}
