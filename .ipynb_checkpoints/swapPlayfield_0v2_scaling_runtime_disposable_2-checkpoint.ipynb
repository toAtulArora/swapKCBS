{
 "cells": [
  {
   "cell_type": "markdown",
   "metadata": {},
   "source": [
    "# Libraries"
   ]
  },
  {
   "cell_type": "code",
   "execution_count": 2,
   "metadata": {
    "init_cell": true
   },
   "outputs": [],
   "source": [
    "import numpy as np\n",
    "import sympy as sp\n",
    "import sympy.physics.quantum as sq\n",
    "import sympy.physics.quantum.qubit as sqq\n",
    "import sympy.physics.quantum.gate as sqg\n",
    "\n",
    "import cvxpy as cp\n",
    "\n",
    "import matplotlib.pyplot as plt\n",
    "import networkx as nx\n",
    "\n",
    "sp.init_printing(use_latex='mathjax')\n",
    "from IPython.display import display\n",
    "\n",
    "\n",
    "import pickle\n",
    "import dill\n",
    "dill.settings['recurse'] = True\n",
    "\n",
    "\n",
    "#for pretty printing of matrices\n",
    "import pandas as pd\n",
    "\n",
    "import os"
   ]
  },
  {
   "cell_type": "markdown",
   "metadata": {
    "heading_collapsed": true
   },
   "source": [
    "## idealFid"
   ]
  },
  {
   "cell_type": "code",
   "execution_count": 3,
   "metadata": {
    "hidden": true,
    "init_cell": true
   },
   "outputs": [],
   "source": [
    "class idealFid:\n",
    "    \n",
    "    def __init__(s):\n",
    "        P1 = s.proj(1,5)\n",
    "        P2 = s.proj(2,5)\n",
    "        P3 = s.proj(3,5)\n",
    "        P4 = s.proj(4,5)\n",
    "        P5 = s.proj(5,5)\n",
    "        s.P = [P1,P2,P3,P4,P5]\n",
    "        s.terms = 5\n",
    "\n",
    "    def proj(s,j,n):\n",
    "        pi=np.pi\n",
    "        temp1 = np.cos(pi/n)/(1+np.cos(pi/n))\n",
    "        temp2 = 1-temp1\n",
    "        temp3 = j*pi*(n-1)/n\n",
    "        vec = np.asarray([np.sqrt(temp1),np.sqrt(temp2)*np.sin(temp3), np.sqrt(temp2)*np.cos(temp3)])\n",
    "        mat = np.outer(vec,vec)\n",
    "        return mat\n",
    "    \n",
    "    \n",
    "    def idealVal(s,projList):\n",
    "        op = s.P[projList[0]]\n",
    "        for iProj in projList[1:]:\n",
    "            op = op@s.P[iProj]\n",
    "        return op[0,0]\n",
    "    "
   ]
  },
  {
   "cell_type": "markdown",
   "metadata": {
    "heading_collapsed": true
   },
   "source": [
    "## Extending the braket library to include orthogonality"
   ]
  },
  {
   "cell_type": "code",
   "execution_count": 4,
   "metadata": {
    "hidden": true,
    "init_cell": true
   },
   "outputs": [],
   "source": [
    "class onStruct:\n",
    "    G = nx.Graph()\n",
    "\n",
    "class onKet(sq.Ket,onStruct):\n",
    "    def _eval_innerproduct(self,bra,**hints):\n",
    "        #Check if the innerproduct is with yourself, then set 1\n",
    "        if sq.Dagger(bra) == self:\n",
    "            return sp.Integer(1)\n",
    "        #Else, if the innerproduct is with a neighbor from the graph, set 0\n",
    "        elif sq.Dagger(bra) in G[self]:\n",
    "            return sp.Integer(0)\n",
    "        #Else, do nothing; not enough information\n",
    "    \n",
    "    @classmethod\n",
    "    def set_on_rel(cls,givenG):\n",
    "        cls.G=givenG\n",
    "    \n",
    "    @classmethod\n",
    "    def dual_class(self):\n",
    "        return onBra\n",
    "\n",
    "    \n",
    "class onBra(sq.Bra,onStruct):\n",
    "    @classmethod\n",
    "    def dual_class(self):\n",
    "        return onKet"
   ]
  },
  {
   "cell_type": "code",
   "execution_count": 5,
   "metadata": {
    "hidden": true,
    "init_cell": true
   },
   "outputs": [],
   "source": [
    "class bKet(sq.Ket):\n",
    "    \n",
    "    #total number of kets (automatically increases as new instances are initialised)\n",
    "    totalKets=0\n",
    "    \n",
    "    #this method automates the increase\n",
    "    @classmethod\n",
    "    def _eval_args(cls,args):\n",
    "        #validate input type\n",
    "        if not isinstance(args[0],int):\n",
    "            raise ValueError(\"Integer expected in the argument, got: %r\"%args[0])\n",
    "\n",
    "        #if a ket |5> is initialised, the dimension is assumed to be 6 since we have |0>,|1>,...|5>\n",
    "        if int(args[0])+1 > cls.totalKets:\n",
    "            cls.totalKets=args[0]+1\n",
    "        \n",
    "        #pass control back to the base class\n",
    "        return sq.Ket._eval_args(args) \n",
    "    \n",
    "    #Could not find a way of using just one function; need to go through the two\n",
    "    #based on a combination of the qubit implementation and the \n",
    "    def _represent_default_basis(s,**options):\n",
    "        return s._represent_bKet(None,**options) #syntax taken from the Qubit library\n",
    "    \n",
    "    def _represent_bKet(s,basis,**options): #_represent_default_basis\n",
    "        a=np.zeros(s.__class__.totalKets,dtype=int)\n",
    "        a[s.label[0]]=1\n",
    "        return sp.Matrix(a)\n",
    "    \n",
    "    @classmethod\n",
    "    def set_dimension(cls,arg):\n",
    "        cls.totalKets=arg\n",
    "    \n",
    "    def _eval_innerproduct(self,bra,**hints):\n",
    "        #Check if the innerproduct is with yourself, then set 1\n",
    "        if sq.Dagger(bra) == self:\n",
    "            return sp.Integer(1)\n",
    "        #Else, if the innerproduct is with a neighbor from the graph, set 0\n",
    "        else:\n",
    "            return sp.Integer(0)\n",
    "        #Else, do nothing; not enough information\n",
    "    \n",
    "\n",
    "    @classmethod\n",
    "    def dual_class(self):\n",
    "        return bBra\n",
    "\n",
    "    \n",
    "class bBra(sq.Bra):\n",
    "    # @classmethod\n",
    "    # def _eval_args(cls,args):\n",
    "    #     return args\n",
    "    \n",
    "    @classmethod\n",
    "    def dual_class(cls):\n",
    "        return bKet"
   ]
  },
  {
   "cell_type": "markdown",
   "metadata": {
    "heading_collapsed": true,
    "hidden": true
   },
   "source": [
    "### Debugging | representation example"
   ]
  },
  {
   "cell_type": "code",
   "execution_count": null,
   "metadata": {
    "hidden": true
   },
   "outputs": [],
   "source": [
    "class SzUpKet(sq.Ket):\n",
    "    def _represent_SzUpKet(s,basis,**options):\n",
    "        return sp.Matrix([1,0])\n",
    "    \n",
    "#     def _represent_SzOp(s,basis,**options):\n",
    "#         return sp.Matrix([1,0])\n",
    "\n",
    "class SzOp(sq.Operator):\n",
    "    pass\n",
    "\n",
    "sz = SzOp('Sz')\n",
    "up = SzUpKet('up')\n",
    "sq.represent(up,basis=SzUpKet) #,basis=sz)"
   ]
  },
  {
   "cell_type": "markdown",
   "metadata": {
    "heading_collapsed": true,
    "hidden": true
   },
   "source": [
    "### Testing | Dimension increasing?"
   ]
  },
  {
   "cell_type": "code",
   "execution_count": null,
   "metadata": {
    "hidden": true
   },
   "outputs": [],
   "source": [
    "# class bKet(sq.Ket):\n",
    "    \n",
    "#     #total number of kets (automatically increases as new instances are initialised)\n",
    "#     totalKets=0\n",
    "    \n",
    "#     #this method automates the increase\n",
    "#     @classmethod\n",
    "#     def _eval_args(cls,args):\n",
    "#         #validate input type\n",
    "#         if not isinstance(args[0],int):\n",
    "#             raise ValueError(\"Integer expected in the argument, got: %r\"%args[0])\n",
    "\n",
    "#         #if a ket |5> is initialised, the dimension is assumed to be 6 since we have |0>,|1>,...|5>\n",
    "#         if int(args[0])+1 > cls.totalKets:\n",
    "#             cls.totalKets=args[0]+1\n",
    "        \n",
    "#         #pass control back to the base class\n",
    "#         return sq.Ket._eval_args(args) \n",
    "    \n",
    "#     #Could not find a way of using just one function; need to go through the two\n",
    "#     #based on a combination of the qubit implementation and the \n",
    "#     def _represent_default_basis(s,**options):\n",
    "#         return s._represent_bKet(None,**options) #syntax taken from the Qubit library\n",
    "    \n",
    "#     def _represent_bKet(s,basis,**options): #_represent_default_basis\n",
    "#         a=np.zeros(s.__class__.totalKets,dtype=int)\n",
    "#         a[s.label[0]]=1\n",
    "#         return sp.Matrix(a)\n",
    "    \n",
    "#     @classmethod\n",
    "#     def set_dimension(cls,arg):\n",
    "#         cls.totalKets=arg\n",
    "    \n",
    "#     def _eval_innerproduct(self,bra,**hints):\n",
    "#         #Check if the innerproduct is with yourself, then set 1\n",
    "#         if sq.Dagger(bra) == self:\n",
    "#             return sp.Integer(1)\n",
    "#         #Else, if the innerproduct is with a neighbor from the graph, set 0\n",
    "#         else:\n",
    "#             return sp.Integer(0)\n",
    "#         #Else, do nothing; not enough information\n",
    "    \n",
    "\n",
    "#     @classmethod\n",
    "#     def dual_class(self):\n",
    "#         return bBra\n",
    "\n",
    "    \n",
    "# class bBra(sq.Bra):\n",
    "#     # @classmethod\n",
    "#     # def _eval_args(cls,args):\n",
    "#     #     return args\n",
    "    \n",
    "#     @classmethod\n",
    "#     def dual_class(cls):\n",
    "#         return bKet"
   ]
  },
  {
   "cell_type": "code",
   "execution_count": null,
   "metadata": {
    "hidden": true
   },
   "outputs": [],
   "source": [
    "a=bKet(0)\n",
    "\n",
    "b=a*sq.Dagger(a)\n",
    "\n",
    "print(bKet.totalKets)\n",
    "sq.represent(a)\n",
    "\n",
    "c=bKet(3);\n",
    "sq.represent(a)\n",
    "sq.represent(b)\n",
    "sq.represent(c)"
   ]
  },
  {
   "cell_type": "code",
   "execution_count": null,
   "metadata": {
    "hidden": true
   },
   "outputs": [],
   "source": [
    "a=bKet(0); a"
   ]
  },
  {
   "cell_type": "code",
   "execution_count": null,
   "metadata": {
    "hidden": true
   },
   "outputs": [],
   "source": [
    "sq.represent(a)"
   ]
  },
  {
   "cell_type": "code",
   "execution_count": null,
   "metadata": {
    "hidden": true
   },
   "outputs": [],
   "source": [
    "b=bKet(1); b"
   ]
  },
  {
   "cell_type": "code",
   "execution_count": null,
   "metadata": {
    "hidden": true
   },
   "outputs": [],
   "source": [
    "sq.represent(b)"
   ]
  },
  {
   "cell_type": "code",
   "execution_count": null,
   "metadata": {
    "hidden": true
   },
   "outputs": [],
   "source": [
    "sq.represent(a)"
   ]
  },
  {
   "cell_type": "code",
   "execution_count": null,
   "metadata": {
    "hidden": true
   },
   "outputs": [],
   "source": [
    "c=bKet(3); c"
   ]
  },
  {
   "cell_type": "code",
   "execution_count": null,
   "metadata": {
    "hidden": true
   },
   "outputs": [],
   "source": [
    "sq.represent(a)"
   ]
  },
  {
   "cell_type": "markdown",
   "metadata": {
    "heading_collapsed": true
   },
   "source": [
    "## Extending the tensor product functionality—tsimp and tdsimp"
   ]
  },
  {
   "cell_type": "code",
   "execution_count": 6,
   "metadata": {
    "hidden": true,
    "init_cell": true
   },
   "outputs": [],
   "source": [
    "\n",
    "def powerDrop(expr):\n",
    "    if isinstance(expr,sp.Pow): #TODO: make sure the base is not too complex\n",
    "        # print(\"PowerEncountered\")\n",
    "        if expr.exp>=2:\n",
    "            # print(\"glaba\")\n",
    "            # display(expr.base)\n",
    "            _=sq.qapply(sp.Mul(expr.base,expr.base))\n",
    "            if expr.exp>2:\n",
    "                return powerDrop(_*sp.Pow(expr.base,expr.exp-2))\n",
    "            else:\n",
    "                return _\n",
    "        else:\n",
    "            return expr #autoDropDim(sp.Mul(expr.base,expr.base))\n",
    "    else:\n",
    "        if expr.has(sp.Pow):\n",
    "            #if it is a sum or a product, run this function for each part and then combine the parts; return the result\n",
    "            if isinstance(expr,sp.Mul) or isinstance(expr,sp.Add) or isinstance(expr,sq.TensorProduct):\n",
    "                new_args=[] #list(expr.args)\n",
    "                for _ in expr.args:\n",
    "                    new_args.append(powerDrop(_))\n",
    "                if isinstance(expr,sp.Mul):        \n",
    "                    return sp.Mul(*new_args)\n",
    "                elif isinstance(expr,sp.Add):\n",
    "                    return sp.Add(*new_args)  \n",
    "                elif isinstance(expr,sq.TensorProduct):\n",
    "                    return sq.TensorProduct(*new_args)  \n",
    "\n",
    "            else:\n",
    "                return expr\n",
    "            #There would be no else here because tensor product simp would have removed that part\n",
    "        else:\n",
    "            return expr        \n",
    "    \n",
    "def autoDropDim(expr):\n",
    "    #print(\"Expression\")\n",
    "    #if isinstance(expr,sp.Mul):\n",
    "        #print(\"type:multiplier\")\n",
    "    #display(expr)\n",
    "    \n",
    "    \n",
    "    if isinstance(expr,sq.TensorProduct):\n",
    "        new_args=[]\n",
    "        for _ in expr.args:\n",
    "            #display(_)\n",
    "            #print(type(_))\n",
    "            if _ != sp.Integer(1):\n",
    "            #if not isinstance(_,core.numbers.One):\n",
    "                new_args.append(_)\n",
    "        #print(\"TensorProduct with %d non-ones in the tensor product\"%len(new_args))\n",
    "        if(len(new_args)==0):\n",
    "            return sp.Integer(1)\n",
    "        else:\n",
    "            return sq.TensorProduct(*new_args)\n",
    "    else:\n",
    "        if expr.has(sq.TensorProduct):\n",
    "            #if it is a sum or a product, run this function for each part and then combine the parts; return the result\n",
    "            if isinstance(expr,sp.Mul) or isinstance(expr,sp.Add):\n",
    "                new_args=[] #list(expr.args)\n",
    "                for _ in expr.args:\n",
    "                    new_args.append(autoDropDim(_))\n",
    "                if isinstance(expr,sp.Mul):        \n",
    "                    return sp.Mul(*new_args)\n",
    "                elif isinstance(expr,sp.Add):\n",
    "                    return sp.Add(*new_args)  \n",
    "                \n",
    "            #There would be no else here because tensor product simp would have removed that part\n",
    "        else:\n",
    "            return expr #when the expression is just an integer or some such\n",
    "\n",
    "\n",
    "        \n",
    "def tsimp(e,pruneMe=True):\n",
    "    res=sq.qapply(powerDrop(sq.tensorproduct.tensor_product_simp(sq.qapply(e)).doit()))\n",
    "    if pruneMe:\n",
    "        return prune(res)\n",
    "    else:\n",
    "        return res\n",
    "\n",
    "def tdsimp(e,pruneMe=True):\n",
    "    res=autoDropDim(sq.qapply(powerDrop(autoDropDim(sq.tensorproduct.tensor_product_simp(sq.qapply(e)).doit()))))\n",
    "    if pruneMe:\n",
    "        return prune(res)\n",
    "    else:\n",
    "        return res\n",
    "    #return autoDropDim(sq.tensorproduct.tensor_product_simp_Mul(e).doit())\n",
    "    #return autoDropDim(sq.tensorproduct.tensor_product_simp_Mul(sq.qapply(e)).doit())\n",
    "    #return autoDropDim(sq.tensorproduct.tensor_product_simp(e).doit())"
   ]
  },
  {
   "cell_type": "markdown",
   "metadata": {
    "heading_collapsed": true
   },
   "source": [
    "## Find Coeff was not reliable"
   ]
  },
  {
   "cell_type": "code",
   "execution_count": 7,
   "metadata": {
    "hidden": true,
    "init_cell": true
   },
   "outputs": [],
   "source": [
    "# depth=0\n",
    "# depthThresh=20\n",
    "\n",
    "def findCoeff(obj,lett):\n",
    "#     global depth\n",
    "    \n",
    "#     print(\"Parent object:\")\n",
    "#     display(obj)\n",
    "    \n",
    "    if(obj==None):\n",
    "#         print(\"coefficent is zero\")\n",
    "        return 0\n",
    "    elif not (isinstance(obj,sp.Mul) or isinstance(obj,sp.Add)):        \n",
    "        #the coefficient may be one but we couldn't see it earlier\n",
    "        return obj.coeff(lett)\n",
    "    else:\n",
    "        #try to find the coefficient directly        \n",
    "        result=obj.coeff(lett)\n",
    "        #Did not work? \n",
    "        if(result==0):\n",
    "            #try for each segment\n",
    "            for _ in obj.args:\n",
    "#                 print(\"child:\")\n",
    "#                 display(_)\n",
    "                result=_.coeff(lett)\n",
    "#                 print(\"coefficient of child:\",result)\n",
    "                \n",
    "                #still did not work?\n",
    "                if(result==0):\n",
    "                    #try recursing\n",
    "                    result = findCoeff(_,lett)    \n",
    "                \n",
    "                #found? Stop searching\n",
    "                if(result!=0):\n",
    "                    break\n",
    "                    #return result\n",
    "\n",
    "        #return whatever was found | worked\n",
    "        return result\n",
    "\n"
   ]
  },
  {
   "cell_type": "markdown",
   "metadata": {
    "heading_collapsed": true
   },
   "source": [
    "## Prune"
   ]
  },
  {
   "cell_type": "code",
   "execution_count": 8,
   "metadata": {
    "hidden": true,
    "init_cell": true
   },
   "outputs": [],
   "source": [
    "def prune(expr,thr=10,remNum=False):\n",
    "    if isinstance(expr,sp.Number): \n",
    "        if remNum==False:\n",
    "            if sp.Abs(expr)<10**(-thr):\n",
    "                return sp.Integer(0)\n",
    "            else:\n",
    "                return expr\n",
    "        else:\n",
    "            return sp.Integer(1)\n",
    "    else:\n",
    "        if expr.has(sp.Number):\n",
    "            #if it is a sum or a product, run this function for each part and then combine the parts; return the result\n",
    "            if isinstance(expr,sp.Mul) or isinstance(expr,sp.Add) or isinstance(expr,sq.TensorProduct):\n",
    "                new_args=[] #list(expr.args)\n",
    "                for _ in expr.args:\n",
    "                    new_args.append(prune(_,thr,remNum))\n",
    "                if isinstance(expr,sp.Mul):        \n",
    "                    return sp.Mul(*new_args)\n",
    "                elif isinstance(expr,sp.Add):\n",
    "                    return sp.Add(*new_args)  \n",
    "                elif isinstance(expr,sq.TensorProduct):\n",
    "                    return sq.TensorProduct(*new_args)  \n",
    "\n",
    "            else:\n",
    "                return expr\n",
    "            #There would be no else here because tensor product simp would have removed that part\n",
    "        else:\n",
    "            return expr        \n",
    "\n",
    "# test=(A[0]*2)\n",
    "# test.has(sp.Number)\n",
    "# prune(test,remNum=True)"
   ]
  },
  {
   "cell_type": "markdown",
   "metadata": {
    "heading_collapsed": true
   },
   "source": [
    "## Power to Mul"
   ]
  },
  {
   "cell_type": "code",
   "execution_count": 9,
   "metadata": {
    "hidden": true,
    "init_cell": true
   },
   "outputs": [],
   "source": [
    "# From: https://stackoverflow.com/questions/28117770/sympy-multiplications-of-exponential-rather-than-exponential-of-sum\n",
    "# Thankfully I didn't have to sit and write this!\n",
    "\n",
    "def pow_to_mul_(expr):\n",
    "    \"\"\"\n",
    "    Convert integer powers in an expression to Muls, like a**2 => a*a.\n",
    "    \"\"\"\n",
    "    pows = list(expr.atoms(sp.Pow))\n",
    "    if any(not e.is_Integer for b, e in (i.as_base_exp() for i in pows)):\n",
    "\n",
    "        raise ValueError(\"A power contains a non-integer exponent\")\n",
    "    repl = zip(pows, (sp.Mul(*[b]*e,evaluate=False) for b,e in (i.as_base_exp() for i in pows)))\n",
    "    return expr.subs(repl)"
   ]
  },
  {
   "cell_type": "code",
   "execution_count": 10,
   "metadata": {
    "hidden": true,
    "init_cell": true
   },
   "outputs": [],
   "source": [
    "## Not very well written\n",
    "\n",
    "def pow_to_mul(expr):\n",
    "    if isinstance(expr,sp.Pow): \n",
    "        return pow_to_mul_(expr)\n",
    "    else:\n",
    "        try:\n",
    "            if expr.has(sp.Pow):\n",
    "                #if it is a sum or a product, run this function for each part and then combine the parts; return the result\n",
    "                if isinstance(expr,sp.Mul) or isinstance(expr,sp.Add):\n",
    "                    new_args=[] #list(expr.args)\n",
    "                    for _ in expr.args:\n",
    "                        new_args.append(pow_to_mul(_))\n",
    "\n",
    "                    if isinstance(expr,sp.Mul):        \n",
    "                        return sp.Mul(*new_args,evaluate=False)\n",
    "                    elif isinstance(expr,sp.Add):\n",
    "                        return sp.Add(*new_args)\n",
    "                else:\n",
    "                    return expr\n",
    "            else:\n",
    "                return expr      \n",
    "        except:\n",
    "            return expr"
   ]
  },
  {
   "cell_type": "code",
   "execution_count": 11,
   "metadata": {
    "hidden": true,
    "init_cell": true
   },
   "outputs": [],
   "source": [
    "def mul_to_single_mul(expr):\n",
    "    if isinstance(expr,sp.Mul): \n",
    "        new_args=[]\n",
    "        for _ in expr.args:\n",
    "            if isinstance(_,sp.Mul):\n",
    "                for __ in _.args:\n",
    "                    new_args.append(__)\n",
    "            elif expr.has(sp.Mul):\n",
    "                new_args.append(mul_to_single_mul(_)) #If inside a mul, there is another mul, extract it\n",
    "            else:\n",
    "                new_args.append(_)  #if it is something entirely different, bring it along as it is\n",
    "        \n",
    "        return sp.Mul(*new_args,evaluate=False) #put the new arguments into a single multiply and return\n",
    "    \n",
    "    else:\n",
    "        try:\n",
    "            if expr.has(sp.Mul):\n",
    "                #if it is a sum, run this function for each part and then combine the parts; return the result\n",
    "                if isinstance(expr,sp.Add):\n",
    "                    new_args=[] #list(expr.args)\n",
    "                    for _ in expr.args:\n",
    "                        new_args.append(mul_to_single_mul(_))\n",
    "\n",
    "                    if isinstance(expr,sp.Add):\n",
    "                        return sp.Add(*new_args)\n",
    "                else:\n",
    "                    return expr\n",
    "            else:\n",
    "                return expr      \n",
    "        except:\n",
    "            return expr"
   ]
  },
  {
   "cell_type": "code",
   "execution_count": 12,
   "metadata": {
    "hidden": true,
    "init_cell": true
   },
   "outputs": [],
   "source": [
    "def pow_to_single_mul(expr):\n",
    "    return mul_to_single_mul(pow_to_mul(expr))"
   ]
  },
  {
   "cell_type": "markdown",
   "metadata": {
    "heading_collapsed": true
   },
   "source": [
    "## Reverse"
   ]
  },
  {
   "cell_type": "code",
   "execution_count": 13,
   "metadata": {
    "hidden": true,
    "init_cell": true
   },
   "outputs": [],
   "source": [
    "\n",
    "def rev(expr):\n",
    "    if isinstance(expr,sp.Mul):\n",
    "        newargs=list(expr.args)\n",
    "        newargs.reverse()\n",
    "        return sp.Mul(*newargs)\n",
    "    else:\n",
    "        if expr.has(sp.Mul):\n",
    "            #if it is a sum  run this function for each part and then combine the parts; return the result\n",
    "            if isinstance(expr,sp.Add):\n",
    "                new_args=[] #list(expr.args)\n",
    "                for _ in expr.args:\n",
    "                    new_args.append(rev(_))                \n",
    "                return sp.Add(*new_args)\n",
    "            else:\n",
    "                return expr\n",
    "            #There would be no else here because tensor product simp would have removed that part\n",
    "        else:\n",
    "            return expr     "
   ]
  },
  {
   "cell_type": "code",
   "execution_count": null,
   "metadata": {
    "hidden": true
   },
   "outputs": [],
   "source": [
    "# expr = A[0]*A[1]*A[2]*A[3]*A[4]\n",
    "# print(expr)\n",
    "# print(expr.subs({A[0]:A[2],A[2]:A[0]},simultaneous=True))\n",
    "\n",
    "# print(rev(expr))"
   ]
  },
  {
   "cell_type": "markdown",
   "metadata": {},
   "source": [
    "# Global Settings (TODO: collect them here)"
   ]
  },
  {
   "cell_type": "code",
   "execution_count": 14,
   "metadata": {
    "init_cell": true
   },
   "outputs": [],
   "source": [
    "testType = 1\n",
    "# 0 means no test; the real thing\n",
    "# 1 is the KCBS objective; with neither observations nor the localising matrix constraints\n",
    "# 2 means construct F for only the state\n",
    "# 3 means ...\n",
    "# 4 is feasibility testing; objective zero\n",
    "\n",
    "#why do i have single variables in Lx?\n",
    "\n",
    "testSubType = \"c\"\n",
    "#1a (or any other not listed): KCBS objective\n",
    "#1b: adds observed constraints\n",
    "#1c: tests localising matrices with a related simple objective\n",
    "\n",
    "hDepth = 3 #depth of the heirarchy; depends on the number of Πs in the expression for Fidelity; 3 needed\n",
    "\n",
    "usePs = True #enables the localising matrix setup; if this is disabled, hDepth would have to be around 6\n",
    "#if this is enabled, hDepth can be 3 and it still runs fine\n",
    "\n",
    "cacheFolder = \"cached_main/\"\n",
    "\n",
    "try: os.makedirs(cacheFolder)\n",
    "except: pass"
   ]
  },
  {
   "cell_type": "markdown",
   "metadata": {},
   "source": [
    "# Ideal KCBS calculations"
   ]
  },
  {
   "cell_type": "markdown",
   "metadata": {},
   "source": [
    "## The class"
   ]
  },
  {
   "cell_type": "code",
   "execution_count": 15,
   "metadata": {
    "code_folding": [
     48,
     60,
     88,
     99,
     185,
     246,
     298,
     311,
     423,
     451,
     549,
     623
    ],
    "init_cell": true
   },
   "outputs": [],
   "source": [
    "\n",
    "class cls_iKCBS:    \n",
    "    \n",
    "    def __init__(s,n,verbose=False,thr=10,test=False,forceCalc=False):\n",
    "        print(\"The testType is\", testType)\n",
    "        s.thr=thr\n",
    "        if verbose==True:\n",
    "            print(\"Creating projectors etc\")\n",
    "\n",
    "        cls_iKCBS.n=n\n",
    "        #j in 0,1,2,3,4\n",
    "        \n",
    "        s.ke = [bKet(j) for j in range(3)]    \n",
    "        s.br = [sq.Dagger(s.ke[j]) for j in range(3)]\n",
    "        \n",
    "        s.Πs = []\n",
    "                \n",
    "        ### N'd here\n",
    "        #evaluate the projectors for the ideal case\n",
    "        for j in range(n):\n",
    "            s.Πs.append(sp.N(s.eval(j,n)))\n",
    "\n",
    "        if(test and False):\n",
    "            print(\"Testing Πs\")\n",
    "            for i in range(n):\n",
    "                for k in range(n):\n",
    "                    print(\"Inner product of \",i,\" and \",k,\" projectors is\")\n",
    "                    temp=0\n",
    "                    for j in range(3):\n",
    "                        temp+=sq.qapply(s.br[j]*s.Πs[i]*s.Πs[k]*s.ke[j])\n",
    "                    print(temp)\n",
    "                    del temp\n",
    "                    \n",
    "   \n",
    "        #calculate the matrix representation\n",
    "        s.matΠs = [sq.represent(_) for _ in s.Πs] #I leave this as well to avoid breaking things; TODO: try to remove it\n",
    "        \n",
    "        ### N'd here\n",
    "        #the first two vectors are taken to be k'\n",
    "        s.kp = [sp.N(s.eval(0,n,True)),sp.N(s.eval(1,n,True))]\n",
    "        \n",
    "        #the third is constructed as k0 x k1 (cross product) and then added to the list\n",
    "        s.kp.append(sp.N(s.cross(s.kp)))\n",
    "        \n",
    "        \n",
    "        #evaluates the conjugate for each element in the list\n",
    "        s.bp=[sq.Dagger(ikp) for ikp in s.kp]                \n",
    "        \n",
    "        if(test):\n",
    "            #Testing orthogonality\n",
    "            print(\"Testing orthogonality of the braP and ketP objects\")\n",
    "            for braP in s.bp:\n",
    "                for ketP in s.kp:\n",
    "                    print(sq.qapply(braP*ketP))#sp.N(sq.qapply(braP*ketP)))\n",
    "        \n",
    "    \n",
    "        #the Translation operator\n",
    "        s.T = s.kp[0]*s.bp[2] + s.kp[1]*s.bp[0] + s.kp[2]*s.bp[1] \n",
    "        s.Ti = s.kp[2]*s.bp[0] + s.kp[0]*s.bp[1] + s.kp[1]*s.bp[2] #TODO: Automate this\n",
    "        \n",
    "        if(test):\n",
    "            print(\"Testing the basic Translation operator\")\n",
    "            for braP in s.bp:\n",
    "                for ketP in s.kp:\n",
    "                    #print(braP)\n",
    "                    print(sq.qapply(braP*s.T*ketP))#sp.N(sq.qapply(braP*ketP)))\n",
    "                    #print(sp.N(sq.qapply(sp.N(braP)*sp.N(s.T)*sp.N(ketP))))\n",
    "            display(sq.represent(s.T))\n",
    "\n",
    "        \n",
    "        #s.mT = s.mkp[0]*s.mbp[2] + s.mkp[1]*s.mbp[0] + s.mkp[2]*s.mbp[1] \n",
    "        #s.mTi = s.mkp[2]*s.mbp[0] + s.mkp[0]*s.mbp[1] + s.mkp[1]*s.mbp[2] #TODO: Automate this\n",
    "        \n",
    "        s.matT=sq.represent(s.T)\n",
    "        \n",
    "        #Now the abstract ones\n",
    "        \n",
    "        #creates n abstract projectors (basically just a bunch of non-commuting symbols)\n",
    "        s._Πs = sp.symbols('Π_0:%d'%n,commutative=False)\n",
    "        \n",
    "        #We use this to create a localising matrix\n",
    "        #We must imposes conj(_P) * Translation >> 0\n",
    "        s._P = sp.symbols('P',commutative=False) \n",
    "        s._Pd = sp.symbols('Pd',commutative=False) #we define them separately because sq.dagger doesn't work too well with symbols which are not based on kets etc\n",
    "        #s._Pd = sq.dagger(sp)\n",
    "        \n",
    "        s.daggerDict = {}\n",
    "        s.sqDict = {}\n",
    "        for i in range(n):\n",
    "            s.daggerDict[sq.Dagger(s._Πs[i])]=s._Πs[i]\n",
    "            s.sqDict[(s._Πs[i])*(s._Πs[i])]=s._Πs[i]\n",
    "        \n",
    "        s.daggerDict[sq.Dagger(s._Pd)]=s._P\n",
    "        s.daggerDict[sq.Dagger(s._P)]=s._Pd\n",
    "        s.sqDict[s._P*s._Pd]=sp.Integer(1)\n",
    "        s.sqDict[s._Pd*s._P]=sp.Integer(1)\n",
    "        \n",
    "        #not very happy because it should come from the graph\n",
    "        s.gDict = {}\n",
    "        for i in range(n):\n",
    "            s.gDict[s._Πs[i]*s._Πs[(i+1)%n]]=sp.Integer(0)\n",
    "            s.gDict[s._Πs[(i+1)%n]*s._Πs[i]]=sp.Integer(0)\n",
    "        \n",
    "        if verbose==True:\n",
    "            print(\"Solving a linear system to find the coefficients for expressing the translation operator as a sum of projectors\")\n",
    "\n",
    "        s._T=s.eval_lin_c() #NB: it computes the coefficients into s.c    \n",
    "        \n",
    "        ##Debugging\n",
    "        s.numTDict={}\n",
    "        for i in range(n):\n",
    "            s.numTDict[s._Πs[i]]=s.Πs[i]\n",
    "        if(test):\n",
    "            print(\"Converting the numerical solution into a usable form\")\n",
    "            #display(s._T)\n",
    "            numT = s._T.subs(s.numTDict)\n",
    "            #display(numT)\n",
    "            print(\"Testing the numerically found Translation operator.\")\n",
    "            # for braP in s.bp:\n",
    "            #     for ketP in s.kp:\n",
    "            #         print(sq.qapply(braP*numT*ketP)) #sp.N(sq.qapply(braP*ketP)))\n",
    "            numMatT=sq.represent(numT)\n",
    "            display(sp.Transpose(numMatT) * numMatT)\n",
    "            \n",
    "            display(sq.represent(numT))\n",
    "            \n",
    "\n",
    "        if verbose==True:\n",
    "            print(\"Solving the cross Π\")\n",
    "        \n",
    "        #s._Πcross = s.eval_Π_cross(RHS=sq.represent(s.kp[2]*s.bp[2])) #s.eval_lin_c(RHS=sq.represent(s.kp[2]*s.bp[2]))\n",
    "        s._Πcross = s.eval_lin_c(RHS=sq.represent(s.kp[2]*s.bp[2]))\n",
    "            \n",
    "        if verbose==True:\n",
    "            print(\"Evaluating F\")\n",
    "\n",
    "        if(test):\n",
    "            s.Πcross = s.eval_lin_c(RHS=sq.represent(s.kp[2]*s.bp[2]),retIde=True)\n",
    "            s.test_swapGate()\n",
    "            \n",
    "        if(not test):\n",
    "            \n",
    "            filename=cacheFolder+\"Fsaved4_loc\"+str(usePs)\n",
    "            if(testType==2):\n",
    "                filename+=\"_stateOnly\"\n",
    "            \n",
    "            try:\n",
    "                y=dill.load(open(filename,\"rb\"))\n",
    "                # if(testType==2):\n",
    "                #     y=dill.load(open(\"Fsaved3_stateOnly\", \"rb\"))\n",
    "                # else:\n",
    "                #     y=dill.load(open(\"Fsaved3\", \"rb\"))\n",
    "                s.F=y\n",
    "                print(\"Loaded from file\")\n",
    "            except:\n",
    "                y=None\n",
    "            \n",
    "            if y==None or forceCalc==True:\n",
    "                print(\"Evaluating F\")\n",
    "                s.eval_state_hw()\n",
    "                s.Fs = [s.eval_state_F()]    \n",
    "                if(testType!=2):\n",
    "                    for i in range(n):\n",
    "                        print(\"iteration: \",i)\n",
    "                        s.Fs.append(s.Fs[-1]+5.0*s.eval_state_F(s.Πs[i],s._Πs[i]))\n",
    "                #s.F = s.Fs[-1] #last element, the most recent calculation\n",
    "                s.F = prune(s.Fs[-1])\n",
    "                # if(testType==2):\n",
    "                #     dill.dump(s.F, open(\"Fsaved3_stateOnly\", \"wb\"))\n",
    "                # else:\n",
    "                #     dill.dump(s.F, open(\"Fsaved3\", \"wb\"))\n",
    "                dill.dump(s.F,open(filename,\"wb\"))\n",
    "                print(\"Saved to disk\")\n",
    "        \n",
    "        print(\"done\")\n",
    "        \n",
    "    def eval_idealVal(s,expr):\n",
    "        value = 0\n",
    "        try:\n",
    "            value = sq.represent(expr.subs(s.numTDict))[0,0] #sq.represent(s.br[0])@sq.represent(expr.subs(s.numTDict))@sq.represent(s.ke[0])[0][0]\n",
    "        except:\n",
    "            value = sq.represent(expr.subs(s.numTDict)) #if a number was the expression\n",
    "        \n",
    "        return value\n",
    "        \n",
    "    def test_swapGate(s):\n",
    "        s.TP = sq.TensorProduct \n",
    "        s.T = s.kp[0]*s.bp[2] + s.kp[1]*s.bp[0] + s.kp[2]*s.bp[1] \n",
    "        s.Ti = s.kp[2]*s.bp[0] + s.kp[0]*s.bp[1] + s.kp[1]*s.bp[2] #TODO: Automate this\n",
    "        \n",
    "        Id_ = s.kp[0]*s.bp[0] + s.kp[1]*s.bp[1] + s.kp[2]*s.bp[2]\n",
    "        \n",
    "        dontDie=prune(sp.N(sq.qapply(s.T*s.T)))\n",
    "        \n",
    "        _U_=sq.represent(s.TP(Id_,s.kp[0]*s.bp[0])) + sq.represent(s.TP(s.T,s.kp[1]*s.bp[1])) \\\n",
    "        + sq.represent(s.TP(dontDie,s.kp[2]*s.bp[2]))\n",
    "        display(_U_)\n",
    "        \n",
    "        _T_=sq.represent(s.TP(Id_,s.kp[0]*s.bp[0] + s.kp[2]*s.bp[1] + s.kp[1]*s.bp[2]))\n",
    "        display(_T_)        \n",
    "        \n",
    "        #_V_= sq.represent(s.TP(s.kp[0]*s.bp[0],Id_) + s.TP(s.kp[1]*s.bp[1],s.Ti) + s.TP(s.kp[2]*s.bp[2],s.Ti*sp.N(s.Ti)))\n",
    "        _V_ = sq.represent(s.TP(s.Πs[0],Id_) + s.TP(s.Πs[1],s.Ti) + s.TP(s.Πcross,s.Ti*sp.N(s.Ti)))\n",
    "        display(_V_)\n",
    "        \n",
    "        print(\"comparing the projectors with the ket based projectors\")\n",
    "        \n",
    "        display(sq.represent(s.kp[0]*s.bp[0]))\n",
    "        display(sq.represent(s.Πs[0]))\n",
    "\n",
    "        display(sq.represent(s.kp[1]*s.bp[1]))\n",
    "        display(sq.represent(s.Πs[1]))\n",
    "\n",
    "        display(sq.represent(s.kp[2]*s.bp[2]))\n",
    "        display(sq.represent(s.Πcross))\n",
    "        \n",
    "        print(\"did this work?\")\n",
    "        \n",
    "        \n",
    "        SWAP = _T_*_U_*_V_*_U_\n",
    "        display(SWAP)\n",
    "        \n",
    "        testVec=sq.represent(s.TP(s.ke[0],s.ke[1]))\n",
    "        print(\"Multiplying this\")\n",
    "        display(testVec)\n",
    "        display(SWAP*testVec)\n",
    "        \n",
    "    def eval_state_hw(s):\n",
    "        s.TP = sq.TensorProduct\n",
    "        #Perhaps this should be P and not Pd\n",
    "        \n",
    "        if(usePs):\n",
    "            #s._U_=tsimp(s.TP(sp.Integer(1),prune(sp.N(s.kp[0]*s.bp[0]))) + s.TP(s._Pd,prune(sp.N(s.kp[1]*s.bp[1]))) + s.TP(s._Pd * s._Pd,prune(sp.N(s.kp[2]*s.bp[2]))))\n",
    "            s._U_=tsimp(s.TP(sp.Integer(1),prune(sp.N(s.kp[0]*s.bp[0]))) + \\\n",
    "                        s.TP(s._P,prune(sp.N(s.kp[1]*s.bp[1]))) + \\\n",
    "                        s.TP(s._P * s._P,prune(sp.N(s.kp[2]*s.bp[2]))))\n",
    "        else:            \n",
    "            dontDie=prune(sp.N(sq.qapply(s._T*s._T)))\n",
    "            s._U_=tsimp(s.TP(sp.Integer(1),prune(sp.N(s.kp[0]*s.bp[0]))) + \\\n",
    "                        s.TP(s._T,prune(sp.N(s.kp[1]*s.bp[1]))) + \\\n",
    "                        s.TP(dontDie,prune(sp.N(s.kp[2]*s.bp[2]))))\n",
    "            \n",
    "        s._T_=s.TP(sp.Integer(1),prune(sp.N(s.kp[0]*s.bp[0])) + prune(sp.N(s.kp[2]*s.bp[1])) + prune(sp.N(s.kp[1]*s.bp[2])))\n",
    "        s._V_=prune(s.TP(s._Πs[0],sp.Integer(1)) + s.TP(s._Πs[1],prune(sp.N(s.Ti))) + s.TP(prune(s._Πcross),prune(sp.N(s.Ti)*sp.N(s.Ti))))\n",
    "        \n",
    "    \n",
    "    def eval_state_F(s,proj=sp.Integer(1),proj_=sp.Integer(1)):\n",
    "        s.TP = sq.TensorProduct #just to make naming easy\n",
    "            \n",
    "\n",
    "        print(\"Evaluated U,T,V; staying alive\")\n",
    "\n",
    "        _kin_ = s.TP(sp.Integer(1),sp.N(sq.qapply(proj*s.ke[0])))\n",
    "        _bin_ = s.TP(sp.Integer(1),sp.N(sq.qapply(s.br[0]*proj)))\n",
    "        \n",
    "        \n",
    "        _kout_ = s.TP(sp.Integer(1)*proj_,sp.N(s.kp[0])) #s.TP(sp.Integer(1),sp.N(s.kp[0]))\n",
    "        _bout_ = s.TP(sp.Integer(1)*proj_,sp.N(s.bp[0])) #s.TP(sp.Integer(1),sp.N(s.bp[0]))\n",
    "                                                                                             \n",
    "\n",
    "        print(\"evaluation stage:\")\n",
    "        F0=tsimp(_bin_ * s._T_).subs(s.gDict)\n",
    "        print(\"1\")\n",
    "        F1=tsimp(F0 * s._U_).subs(s.gDict) #*_V_\n",
    "        print(\"2\")\n",
    "        # #s.F2=tsimp(F1 * _V_)\n",
    "        # #G00 = tsimp(F1*_V_)\n",
    "        # #print(\"2.1\")\n",
    "        # #display(_U_)\n",
    "        # G00 = tsimp(_U_*_kout_).subs(s.gDict)\n",
    "        # print(\"2.1\")\n",
    "        # G01 = tsimp(_V_*G00).subs(s.gDict)\n",
    "        # print(\"2.2\")\n",
    "        # #G0 = tsimp(_V_*_U_)\n",
    "        # t1=sq.qapply(F1*G01).subs(s.gDict)\n",
    "        # print(\"2.3\")\n",
    "        \n",
    "        G0=tsimp(s._V_*_kout_).subs(s.gDict)\n",
    "        print(\"3\")\n",
    "        \n",
    "        #display(F1)\n",
    "        #display(G0)\n",
    "        t1=sq.qapply(F1*G0).subs(s.gDict)\n",
    "        \n",
    "        t2=t1.subs(s.daggerDict).subs(s.sqDict) #not sure why the s.daggerDict step is needed;\n",
    "        \n",
    "        H0 = tsimp(t2) #tsimp(F1*G0)\n",
    "        print(\"4\")\n",
    "        #s.F1 = s._bout_ * _T_ * _U_ * _V_ * s._kout_\n",
    "        #s.F2 = s.F1 * \n",
    "        s.F = tdsimp(H0)\n",
    "        print(\"5\")\n",
    "        \n",
    "        #return tdsimp(sp.expand(s.F * sq.Dagger(s.F)))\n",
    "        return sp.expand((sq.Dagger(s.F) * s.F).subs(s.daggerDict)).subs(s.sqDict).subs(s.sqDict).subs(s.gDict)\n",
    "        if verbose==True:\n",
    "            print(\"Dinner out is a go.\")\n",
    "        \n",
    "    def cross(s,vecs):\n",
    "        ca=[sq.qapply(sq.Dagger(s.ke[i])*vecs[0]).doit() for i in range(3)]\n",
    "        cb=[sq.qapply(sq.Dagger(s.ke[i])*vecs[1]).doit() for i in range(3)]\n",
    "        \n",
    "        res = (ca[2-1]*cb[3-1] - ca[3-1]*cb[2-1])*s.ke[0] + \\\n",
    "             (ca[3-1]*cb[1-1]-ca[1-1]*cb[3-1])*s.ke[1] + \\\n",
    "             (ca[1-1]*cb[2-1] - ca[2-1]*cb[1-1])*s.ke[2]\n",
    "        \n",
    "        return res\n",
    "\n",
    "    \n",
    "    #This I may not even be using\n",
    "    #I had made eval_lin_c more capable\n",
    "    def eval_Π_cross(s,RHS,varCount=None):\n",
    "        cls=s.__class__\n",
    "        if varCount==None:\n",
    "            varCount=cls_iKCBS.n*2\n",
    "        if varCount <= cls.n:\n",
    "            raise ValueError(\"number of variables should be at least n\")\n",
    "    \n",
    "        #a=sp.symbols('a0:%d'%varCount)\n",
    "        varCount=9\n",
    "        a=sp.symbols('a0:%d'%9)\n",
    "        ap=[]\n",
    "        #s.b=sp.symbols('b0:%d'%varCount)\n",
    "        b=[] #family of solutions\n",
    "        s.c=[] #particular solution with the free variables set to one\n",
    "        \n",
    "        #Setting up of constraints\n",
    "        #If the system is not able to find a solution, consider increasing\n",
    "        #the number of variables by taking different sets of products or products of three operators\n",
    "        \n",
    "        TfΠ = [a[0]*s.Πs[0] + a[1]*s.Πs[1] + a[2]*s.Πs[2] + a[3]*s.Πs[3] + a[4]*s.Πs[4] + \\\n",
    "                     a[5]*s.Πs[4]*s.Πs[2] + \\\n",
    "                     a[6]*s.Πs[4]*s.Πs[1] + \\\n",
    "                     a[7]*s.Πs[1]*s.Πs[3] + \\\n",
    "                     a[8]*s.Πs[2]*s.Πs[0] ]\n",
    "        \n",
    "        _TfΠ = [a[0]*s._Πs[0] + a[1]*s._Πs[1] + a[2]*s._Πs[2] + a[3]*s._Πs[3] + a[4]*s._Πs[4] + \\\n",
    "                     a[5]*s._Πs[4]*s._Πs[2] + \\\n",
    "                     a[6]*s._Πs[4]*s._Πs[1] + \\\n",
    "                     a[7]*s._Πs[1]*s._Πs[3] + \\\n",
    "                     a[8]*s._Πs[2]*s._Πs[0] ]        \n",
    "        \n",
    "#         TfΠ=[a[0]*s.Πs[0]]\n",
    "#         _TfΠ=[a[0]*s._Πs[0]]\n",
    "#         ap.append(a[0])\n",
    "#         for i in range(1 +cls.n):\n",
    "#             #if (not (i==2 or i==3)):\n",
    "#             TfΠ.append(TfΠ[-1] + a[i]*s.Πs[i])\n",
    "#             _TfΠ.append(_TfΠ[-1] + a[i]*s._Πs[i])\n",
    "#             ap.append(a[i])            \n",
    "\n",
    "#         if cls.n == 5:\n",
    "#             TfΠ.append(TfΠ[-1] + a[5]*s.Πs[4]*s.Πs[2] \\\n",
    "#                     + a[6]*s.Πs[4]*s.Πs[1] \\\n",
    "#                     + a[7]*s.Πs[1]*s.Πs[3] \\\n",
    "#                     + a[8]*s.Πs[2]*s.Πs[0])\n",
    "#             _TfΠ.append(_TfΠ[-1] + a[5]*s._Πs[4]*s._Πs[2] \\\n",
    "#                     + a[6]*s._Πs[4]*s._Πs[1] \\\n",
    "#                     + a[7]*s._Πs[1]*s._Πs[3] \\\n",
    "#                     + a[8]*s._Πs[2]*s._Πs[0])\n",
    "#             ap+=[a[5],a[6],a[7],a[8]]\n",
    "\n",
    "        LHS=sq.represent(TfΠ[-1])\n",
    "        #display(_TfΠ)\n",
    "        # LHS=a[0]*s.matΠs[0]\n",
    "        # for i in range(1,cls.n):\n",
    "        #     LHS=LHS+a[i]*s.matΠs[i]\n",
    "        # for i in range(cls.n,varCount):\n",
    "        #     LHS=LHS+a[i]*s.matΠs[i%cls.n]*s.matΠs[(i+2)%cls.n]\n",
    "            \n",
    "        #RHS=s.matT\n",
    "        \n",
    "        if cls.n!=5:\n",
    "            soln=sp.solve(sp.N(LHS-RHS),a,dict=True)\n",
    "        else:\n",
    "            soln=sp.solve(sp.N(LHS-RHS),a[:9],dict=True)\n",
    "            #soln=sp.solve(sp.N(LHS-RHS),ap,dict=True)\n",
    "        \n",
    "        print(soln)\n",
    "        #print(\"type:\",type(soln[0]))#, \" and shape:\", soln.shape())\n",
    "        for key,value in soln[0].items():\n",
    "            if np.abs(value)<10**(-s.thr):\n",
    "                soln[0][key]=sp.Integer(0)\n",
    "        \n",
    "        print(soln)\n",
    "        '''\n",
    "            #soln=sp.solve([a[0]-1,a[1]-2,a[2]-3,a[3]-4,a[4]-5,a[5]-1,a[6]-1,a[7]-1,a[8]-1,a[9]-1],a,dict=True)\n",
    "\n",
    "            # sols = solve([t1 + t2 + t3, eq1, eq2], [t1, t2, t3], dict=True)\n",
    "            # sols[0][t1] # This is t1 in the first solution        \n",
    "        '''\n",
    "\n",
    "        #Dictionary to assign one/zero to free variables\n",
    "        dRem={}\n",
    "        \n",
    "        #IMPORTANT: \n",
    "        #In sympy, symbols/expressions are unmutable (you can't change them ever);\n",
    "        #You can save a substituted expression into a new expression (and use a symbol to denote it)\n",
    "        #To wit: when you substitute, a new expression is produced\n",
    "\n",
    "        for i in range(varCount):\n",
    "            #the variables which were evaluated to an expression, assign them to b[i]\n",
    "            try:\n",
    "                b.append(soln[0][a[i]])      \n",
    "            #if the variable was free, assign b[i] to be one\n",
    "            #and create a dictionary to substitute these free variables\n",
    "            except:\n",
    "                b.append(sp.Integer(1))\n",
    "                dRem[a[i]]=1\n",
    "        \n",
    "        #in the solution saved into b[i], substitute for the free variables using the dictionary\n",
    "        #save the result into the variable c\n",
    "        s.c = [_.subs(dRem) for _ in b]\n",
    "\n",
    "        #substitute the solution into the coefficients in Tfπ_p, the operator T as a sum of projectors (and its products)\n",
    "        dFin={}\n",
    "        for i in range(varCount):\n",
    "            dFin[a[i]]=s.c[i]                \n",
    "        \n",
    "        return _TfΠ[-1].subs(dFin)            \n",
    "        \n",
    "    \n",
    "    #evaluates the matrices and vectors\n",
    "    def eval(s,j,n,ve=False):\n",
    "        N=sp.Integer(n)\n",
    "        J=sp.Integer(j)\n",
    "        #print(N,j)\n",
    "        one=sp.Integer(1)\n",
    "        #print(one)\n",
    "        α1=sp.cos((sp.pi)/N)/(one+sp.cos(sp.pi/N)) #verified\n",
    "        #a1=sp.cos(sp.pi/N)\n",
    "        #\n",
    "        #print(α1)\n",
    "        \n",
    "        α2=one-α1 #verified\n",
    "        α3=J * sp.pi * (N-one)/N #verified\n",
    "        \n",
    "        vec = sp.sqrt(α1)*s.ke[0] + sp.sqrt(α2)*sp.sin(α3)*s.ke[1] + sp.sqrt(α2)*sp.cos(α3)*s.ke[2]\n",
    "        \n",
    "        projector = vec*sq.Dagger(vec)\n",
    "           \n",
    "        #matrixprojector = sp.Matrix([0,0])\n",
    "        #return projector\n",
    "        #display(sq.represent(projector))\n",
    "        #display(sq.represent(vec))\n",
    "        \n",
    "        if ve==False:\n",
    "            return projector\n",
    "        else:\n",
    "            return vec\n",
    "        \n",
    "    def eval_lin_c(s,varCount=None,RHS=None,retIde=False):\n",
    "        cls=s.__class__\n",
    "        if varCount==None:\n",
    "            varCount=cls_iKCBS.n*2\n",
    "        if varCount <= cls.n:\n",
    "            raise ValueError(\"number of variables should be at least n\")\n",
    "    \n",
    "        a=sp.symbols('a0:%d'%varCount)\n",
    "        #s.b=sp.symbols('b0:%d'%varCount)\n",
    "        b=[] #family of solutions\n",
    "        s.c=[] #particular solution with the free variables set to one\n",
    "        \n",
    "        #Setting up of constraints\n",
    "        #If the system is not able to find a solution, consider increasing\n",
    "        #the number of variables by taking different sets of products or products of three operators\n",
    "        TfΠ=[a[0]*s.Πs[0]]\n",
    "        _TfΠ=[a[0]*s._Πs[0]]\n",
    "        \n",
    "        for i in range(1,cls.n):\n",
    "            TfΠ.append(TfΠ[-1] + a[i]*s.Πs[i])\n",
    "            _TfΠ.append(_TfΠ[-1] + a[i]*s._Πs[i])\n",
    "\n",
    "        if cls.n != 5:            \n",
    "            for i in range(cls.n,varCount):\n",
    "                TfΠ.append(TfΠ[-1] + a[i]*s.Πs[i%cls.n]*s.Πs[(i+2)%cls.n])\n",
    "                _TfΠ.append(_TfΠ[-1] + a[i]*s._Πs[i%cls.n]*s._Πs[(i+2)%cls.n])\n",
    "        else:\n",
    "            TfΠ.append(TfΠ[-1] + a[5]*s.Πs[4]*s.Πs[2] \\\n",
    "                    + a[6]*s.Πs[4]*s.Πs[1] \\\n",
    "                    + a[7]*s.Πs[1]*s.Πs[3] \\\n",
    "                    + a[8]*s.Πs[2]*s.Πs[0])\n",
    "            _TfΠ.append(_TfΠ[-1] + a[5]*s._Πs[4]*s._Πs[2] \\\n",
    "                    + a[6]*s._Πs[4]*s._Πs[1] \\\n",
    "                    + a[7]*s._Πs[1]*s._Πs[3] \\\n",
    "                    + a[8]*s._Πs[2]*s._Πs[0])\n",
    "            \n",
    "            \n",
    "        LHS=sq.represent(TfΠ[-1])\n",
    "        #display(_TfΠ)\n",
    "        # LHS=a[0]*s.matΠs[0]\n",
    "        # for i in range(1,cls.n):\n",
    "        #     LHS=LHS+a[i]*s.matΠs[i]\n",
    "        # for i in range(cls.n,varCount):\n",
    "        #     LHS=LHS+a[i]*s.matΠs[i%cls.n]*s.matΠs[(i+2)%cls.n]\n",
    "        if RHS == None:\n",
    "            RHS=s.matT\n",
    "        \n",
    "        if cls.n!=5:\n",
    "            soln=sp.solve(sp.N(LHS-RHS),a,dict=True)\n",
    "        else:\n",
    "            soln=sp.solve(sp.N(LHS-RHS),a[:9],dict=True)\n",
    "        \n",
    "        print(soln)\n",
    "        #print(\"type:\",type(soln[0]))#, \" and shape:\", soln.shape())\n",
    "        for key,value in soln[0].items():\n",
    "            if np.abs(value)<10**(-s.thr):\n",
    "                soln[0][key]=sp.Integer(0)\n",
    "        \n",
    "        print(soln)\n",
    "        '''\n",
    "            #soln=sp.solve([a[0]-1,a[1]-2,a[2]-3,a[3]-4,a[4]-5,a[5]-1,a[6]-1,a[7]-1,a[8]-1,a[9]-1],a,dict=True)\n",
    "\n",
    "            # sols = solve([t1 + t2 + t3, eq1, eq2], [t1, t2, t3], dict=True)\n",
    "            # sols[0][t1] # This is t1 in the first solution        \n",
    "        '''\n",
    "\n",
    "        #Dictionary to assign one/zero to free variables\n",
    "        dRem={}\n",
    "        \n",
    "        #IMPORTANT: \n",
    "        #In sympy, symbols/expressions are unmutable (you can't change them ever);\n",
    "        #You can save a substituted expression into a new expression (and use a symbol to denote it)\n",
    "        #To wit: when you substitute, a new expression is produced\n",
    "\n",
    "        for i in range(varCount):\n",
    "            #the variables which were evaluated to an expression, assign them to b[i]\n",
    "            try:\n",
    "                b.append(soln[0][a[i]])      \n",
    "            #if the variable was free, assign b[i] to be one\n",
    "            #and create a dictionary to substitute these free variables\n",
    "            except:\n",
    "                b.append(sp.Integer(1))\n",
    "                dRem[a[i]]=1\n",
    "        \n",
    "        #in the solution saved into b[i], substitute for the free variables using the dictionary\n",
    "        #save the result into the variable c\n",
    "        s.c = [_.subs(dRem) for _ in b]\n",
    "\n",
    "        #substitute the solution into the coefficients in Tfπ_p, the operator T as a sum of projectors (and its products)\n",
    "        dFin={}\n",
    "        for i in range(varCount):\n",
    "            dFin[a[i]]=s.c[i]                \n",
    "        \n",
    "        if retIde==False:\n",
    "            return _TfΠ[-1].subs(dFin)\n",
    "        else:\n",
    "            return TfΠ[-1].subs(dFin)\n",
    "            \n",
    "    def eval_c(s,varCount=None):\n",
    "        cls=s.__class__\n",
    "        if varCount==None:\n",
    "            varCount=cls_iKCBS.n*2\n",
    "        if varCount <= cls.n:\n",
    "            raise ValueError(\"number of variables should be at least n\")\n",
    "    \n",
    "        a=sp.symbols('a0:%d'%varCount)\n",
    "        #s.b=sp.symbols('b0:%d'%varCount)\n",
    "        b=[] #family of solutions\n",
    "        s.c=[] #particular solution with the free variables set to one\n",
    "        \n",
    "        #Setting up of constraints\n",
    "        #If the system is not able to find a solution, consider increasing\n",
    "        #the number of variables by taking different sets of products or products of three operators\n",
    "        TfΠ=a[0]*s.Πs[0]\n",
    "        _TfΠ=a[0]*s._Πs[0]\n",
    "        for i in range(1,cls.n):\n",
    "            TfΠ=TfΠ + a[i]*s.Πs[i]\n",
    "            _TfΠ=_TfΠ + a[i]*s._Πs[i]\n",
    "        for i in range(cls.n,varCount):\n",
    "            TfΠ=TfΠ + a[i]*s.Πs[i%cls.n]*s.Πs[(i+2)%cls.n]\n",
    "            _TfΠ=_TfΠ + a[i]*s._Πs[i%cls.n]*s._Πs[(i+2)%cls.n]\n",
    "            \n",
    "            \n",
    "        LHS=sq.represent(TfΠ)\n",
    "        \n",
    "        # LHS=a[0]*s.matΠs[0]\n",
    "        # for i in range(1,cls.n):\n",
    "        #     LHS=LHS+a[i]*s.matΠs[i]\n",
    "        # for i in range(cls.n,varCount):\n",
    "        #     LHS=LHS+a[i]*s.matΠs[i%cls.n]*s.matΠs[(i+2)%cls.n]\n",
    "            \n",
    "        RHS=s.matT\n",
    "        \n",
    "        soln=sp.solve(sp.N(LHS-RHS),a,dict=True)\n",
    "\n",
    "        '''\n",
    "            #soln=sp.solve([a[0]-1,a[1]-2,a[2]-3,a[3]-4,a[4]-5,a[5]-1,a[6]-1,a[7]-1,a[8]-1,a[9]-1],a,dict=True)\n",
    "\n",
    "            # sols = solve([t1 + t2 + t3, eq1, eq2], [t1, t2, t3], dict=True)\n",
    "            # sols[0][t1] # This is t1 in the first solution        \n",
    "        '''\n",
    "\n",
    "        #Dictionary to assign one/zero to free variables\n",
    "        dRem={}\n",
    "        \n",
    "        #IMPORTANT: \n",
    "        #In sympy, symbols/expressions are unmutable (you can't change them ever);\n",
    "        #You can save a substituted expression into a new expression (and use a symbol to denote it)\n",
    "        #To wit: when you substitute, a new expression is produced\n",
    "\n",
    "        for i in range(varCount):\n",
    "            #the variables which were evaluated to an expression, assign them to b[i]\n",
    "            try:\n",
    "                b.append(soln[0][a[i]])      \n",
    "            #if the variable was free, assign b[i] to be one\n",
    "            #and create a dictionary to substitute these free variables\n",
    "            except:\n",
    "                b.append(sp.Integer(1))\n",
    "                dRem[a[i]]=1\n",
    "        \n",
    "        #in the solution saved into b[i], substitute for the free variables using the dictionary\n",
    "        #save the result into the variable c\n",
    "        s.c = [_.subs(dRem) for _ in b]\n",
    "\n",
    "        #substitute the solution into the coefficients in Tfπ_p, the operator T as a sum of projectors (and its products)\n",
    "        dFin={}\n",
    "        for i in range(varCount):\n",
    "            dFin[a[i]]=s.c[i]                \n",
    "        \n",
    "        return _TfΠ.subs(dFin)\n",
    "        \n",
    "    #This doesn't work as expected\n",
    "    def partial_trace(s,M):\n",
    "        \n",
    "        s.br_ = [ sq.TensorProduct(sq.IdentityOperator(),_) for _ in s.br]\n",
    "        s.ke_ = [ sq.TensorProduct(sq.IdentityOperator(),_) for _ in s.ke]\n",
    "        \n",
    "        res=0*s.br_[0]*M*s.ke_[0]        #to get the type right!\n",
    "        for i in range(3):\n",
    "            for j in range(3):\n",
    "                res=res+s.br_[i]*M*s.ke_[j]\n",
    "        #return sq.qapply(res).doit()\n",
    "        return tsimp(res)\n",
    "        "
   ]
  },
  {
   "cell_type": "code",
   "execution_count": null,
   "metadata": {},
   "outputs": [],
   "source": [
    "# filename=\"Fsaved4_loc\"+str(usePs)\n",
    "# if(testType==2):\n",
    "#     filename+=\"_stateOnly\"\n",
    "    \n",
    "# try:\n",
    "#     glaba=dill.load(open(\"Fsaved5\",\"rb\"))\n",
    "#     print(filename,\": file found\")\n",
    "# except:\n",
    "#     dill.dump(iKCBS.F,open(\"Fsaved5\",\"wb\"))\n",
    "#     print(filename,\": file not found; saved now\")\n"
   ]
  },
  {
   "cell_type": "markdown",
   "metadata": {},
   "source": [
    "## Instantiating"
   ]
  },
  {
   "cell_type": "code",
   "execution_count": 16,
   "metadata": {
    "init_cell": true,
    "scrolled": false
   },
   "outputs": [
    {
     "name": "stdout",
     "output_type": "stream",
     "text": [
      "The testType is 1\n",
      "Creating projectors etc\n",
      "Solving a linear system to find the coefficients for expressing the translation operator as a sum of projectors\n",
      "[{a0: -0.272019649514071, a1: -0.485868271756646, a2: -2.05817102727149, a3: 9.32265207248423e-16, a4: 2.77032771530715, a5: -1.15229372655726, a6: -4.82849874257864, a7: 3.33019067678556, a8: 2.77032771530716}]\n",
      "[{a0: -0.272019649514071, a1: -0.485868271756646, a2: -2.05817102727149, a3: 0, a4: 2.77032771530715, a5: -1.15229372655726, a6: -4.82849874257864, a7: 3.33019067678556, a8: 2.77032771530716}]\n",
      "Solving the cross Π\n",
      "[{a0: -1.00000000000000, a1: -1.00000000000000, a2: 1.43924480352684e-16, a3: 3.91811281370199e-15, a4: 4.23606797749978, a5: -4.23606797749978, a6: -4.23606797749978, a7: 2.61803398874988, a8: 2.61803398874990}]\n",
      "[{a0: -1.00000000000000, a1: -1.00000000000000, a2: 0, a3: 0, a4: 4.23606797749978, a5: -4.23606797749978, a6: -4.23606797749978, a7: 2.61803398874988, a8: 2.61803398874990}]\n",
      "Evaluating F\n",
      "Loaded from file\n",
      "done\n"
     ]
    }
   ],
   "source": [
    "iKCBS = cls_iKCBS(5,verbose=True)#,test=False,forceCalc=True)"
   ]
  },
  {
   "cell_type": "code",
   "execution_count": 17,
   "metadata": {
    "init_cell": true,
    "scrolled": false
   },
   "outputs": [],
   "source": [
    "#display(sp.simplify(iKCBS.F.subs(iKCBS.sqDict)))\n",
    "#display(prune(iKCBS.F))\n",
    "#display(iKCBS.F)\n",
    "\n",
    "#display(prune(iKCBS.F).simplify().expand()) #.subs(iKCBS.sqDict))\n",
    "#The orthogonal relations are imposed later using the graph"
   ]
  },
  {
   "cell_type": "markdown",
   "metadata": {},
   "source": [
    "# SDP part (SymPy meets CvxPy)"
   ]
  },
  {
   "cell_type": "markdown",
   "metadata": {},
   "source": [
    "## Preparation"
   ]
  },
  {
   "cell_type": "code",
   "execution_count": 18,
   "metadata": {
    "init_cell": true
   },
   "outputs": [
    {
     "name": "stdout",
     "output_type": "stream",
     "text": [
      "[P, Pd]\n"
     ]
    }
   ],
   "source": [
    "N=5\n",
    "\n",
    "\n",
    "#Ψ=[sp.symbols('Ψ')]\n",
    "I=[sp.Integer(1)]\n",
    "A=list(sp.symbols('Π_0:%d'%N,commutative=False))\n",
    "B=[sp.symbols('P',commutative=False),sp.symbols('Pd',commutative=False)]\n",
    "\n",
    "#A=list(sp.symbols('Π_0:%d'%N,commutative=False))\n",
    "\n",
    "# display(I)\n",
    "# display(A)\n",
    "print(B)"
   ]
  },
  {
   "cell_type": "code",
   "execution_count": 19,
   "metadata": {
    "init_cell": true
   },
   "outputs": [],
   "source": [
    "objective = iKCBS.F\n",
    "\n",
    "# objective1=iKCBS.F\n",
    "\n",
    "# #objective = A[0] + A[1] + A[2] + A[3] + A[4]\n",
    "# objective2 = A[0]*A[0] + 1e-13*A[1] + 1e-13*A[2] + 1e-13*A[3] + 1e-13*A[4]\n",
    "\n",
    "# objective=objective\n",
    "#display(objective);"
   ]
  },
  {
   "cell_type": "code",
   "execution_count": 20,
   "metadata": {
    "init_cell": true
   },
   "outputs": [],
   "source": [
    "\n",
    "if(usePs):\n",
    "    L1=A+B\n",
    "else:\n",
    "    L1=A\n",
    "#L1=A #+ B #appends the lists\n",
    "#print(L1)\n",
    "\n",
    "\n",
    "#display(Lx)\n",
    "\n",
    "#These will help simplify A^3 to A when needed\n",
    "lDepth = 2\n",
    "sqDicts={} #{A[i]**2:A[i] for i in range(len(L1))}\n",
    "for iA in A:\n",
    "    sqDicts[iA**5]=iA\n",
    "    sqDicts[iA**4]=iA\n",
    "    sqDicts[iA**3]=iA\n",
    "    sqDicts[iA**2]=iA\n",
    "\n",
    "sqDicts[B[0]*B[1]]=sp.Integer(1)\n",
    "sqDicts[B[1]*B[0]]=sp.Integer(1)\n",
    "\n",
    "#This I use to conjugate\n",
    "bConjDicts={B[0]:B[1],B[1]:B[0]}\n",
    "\n",
    "#I also define the conj function\n",
    "def conj(expr):\n",
    "    return rev(expr).subs(bConjDicts,simultaneous=True)\n",
    "\n",
    "# L2=[]\n",
    "# for let1 in L1:\n",
    "#     for let2 in L1:\n",
    "#         L2.append(let1*let2)\n",
    "\n",
    "\n",
    "\n",
    "\n",
    "# L = I + L1 + L2\n",
    "# L_ = L1 + L2\n",
    "#print(L)\n"
   ]
  },
  {
   "cell_type": "code",
   "execution_count": 21,
   "metadata": {
    "init_cell": true
   },
   "outputs": [
    {
     "data": {
      "image/png": "[encoded data removed]",
      "text/plain": [
       "<Figure size 432x288 with 1 Axes>"
      ]
     },
     "metadata": {},
     "output_type": "display_data"
    }
   ],
   "source": [
    "G = nx.Graph()\n",
    "\n",
    "#node2 in G[node1] #yes if they are connected by an edge\n",
    "\n",
    "G = nx.Graph()\n",
    "G.add_nodes_from(L1)\n",
    "G.add_edges_from([[L1[i],L1[(i+1)%(N)]] for i in range(N)])\n",
    "\n",
    "#create a dictionary to simplify expressions later which sets projector products to zero\n",
    "gDicts={}\n",
    "for l1 in L1:\n",
    "    for l2 in L1:\n",
    "        if l1 in G[l2]:\n",
    "            gDicts.update({l1*l2:sp.Integer(0)})\n",
    "\n",
    "\n",
    "%matplotlib inline \n",
    "nx.draw(G, with_labels=True)"
   ]
  },
  {
   "cell_type": "code",
   "execution_count": 22,
   "metadata": {
    "init_cell": true
   },
   "outputs": [],
   "source": [
    "#Simplify objective using the orthogonality relations of the graph\n",
    "#display(prune(objective).subs(gDicts))  \n",
    "\n",
    "if(testType==1):\n",
    "    #quick and dirty\n",
    "    #because it won't be used\n",
    "    objective_ = sp.expand(objective)\n",
    "else:\n",
    "    #treat it properly\n",
    "    objective_ = sp.expand(prune(objective).subs(gDicts)).subs(gDicts).subs(sqDicts)\n",
    "\n",
    "    #display(objective_)"
   ]
  },
  {
   "cell_type": "code",
   "execution_count": 23,
   "metadata": {
    "init_cell": true
   },
   "outputs": [
    {
     "name": "stdout",
     "output_type": "stream",
     "text": [
      "Loading from file\n",
      "Done\n",
      "[Π_0, Π_1, Π_2, Π_3, Π_4, P, Pd]\n",
      "[Π_2*Π_0, Π_3*Π_0, P*Π_0, Pd*Π_0, Π_3*Π_1, Π_4*Π_1, P*Π_1, Pd*Π_1, Π_0*Π_2, Π_4*Π_2, P*Π_2, Pd*Π_2, Π_0*Π_3, Π_1*Π_3, P*Π_3, Pd*Π_3, Π_1*Π_4, Π_2*Π_4, P*Π_4, Pd*Π_4, Π_0*P, Π_1*P, Π_2*P, Π_3*P, Π_4*P, P**2, Π_0*Pd, Π_1*Pd, Π_2*Pd, Π_3*Pd, Π_4*Pd, Pd**2, Π_0*Π_2*Π_0, Π_4*Π_2*Π_0, P*Π_2*Π_0, Pd*Π_2*Π_0, Π_0*Π_3*Π_0, Π_1*Π_3*Π_0, P*Π_3*Π_0, Pd*Π_3*Π_0, Π_0*P*Π_0, Π_1*P*Π_0, Π_2*P*Π_0, Π_3*P*Π_0, Π_4*P*Π_0, P**2*Π_0, Π_0*Pd*Π_0, Π_1*Pd*Π_0, Π_2*Pd*Π_0, Π_3*Pd*Π_0, Π_4*Pd*Π_0, Pd**2*Π_0, Π_0*Π_3*Π_1, Π_1*Π_3*Π_1, P*Π_3*Π_1, Pd*Π_3*Π_1, Π_1*Π_4*Π_1, Π_2*Π_4*Π_1, P*Π_4*Π_1, Pd*Π_4*Π_1, Π_0*P*Π_1, Π_1*P*Π_1, Π_2*P*Π_1, Π_3*P*Π_1, Π_4*P*Π_1, P**2*Π_1, Π_0*Pd*Π_1, Π_1*Pd*Π_1, Π_2*Pd*Π_1, Π_3*Pd*Π_1, Π_4*Pd*Π_1, Pd**2*Π_1, Π_2*Π_0*Π_2, Π_3*Π_0*Π_2, P*Π_0*Π_2, Pd*Π_0*Π_2, Π_1*Π_4*Π_2, Π_2*Π_4*Π_2, P*Π_4*Π_2, Pd*Π_4*Π_2, Π_0*P*Π_2, Π_1*P*Π_2, Π_2*P*Π_2, Π_3*P*Π_2, Π_4*P*Π_2, P**2*Π_2, Π_0*Pd*Π_2, Π_1*Pd*Π_2, Π_2*Pd*Π_2, Π_3*Pd*Π_2, Π_4*Pd*Π_2, Pd**2*Π_2, Π_2*Π_0*Π_3, Π_3*Π_0*Π_3, P*Π_0*Π_3, Pd*Π_0*Π_3, Π_3*Π_1*Π_3, Π_4*Π_1*Π_3, P*Π_1*Π_3, Pd*Π_1*Π_3, Π_0*P*Π_3, Π_1*P*Π_3, Π_2*P*Π_3, Π_3*P*Π_3, Π_4*P*Π_3, P**2*Π_3, Π_0*Pd*Π_3, Π_1*Pd*Π_3, Π_2*Pd*Π_3, Π_3*Pd*Π_3, Π_4*Pd*Π_3, Pd**2*Π_3, Π_3*Π_1*Π_4, Π_4*Π_1*Π_4, P*Π_1*Π_4, Pd*Π_1*Π_4, Π_0*Π_2*Π_4, Π_4*Π_2*Π_4, P*Π_2*Π_4, Pd*Π_2*Π_4, Π_0*P*Π_4, Π_1*P*Π_4, Π_2*P*Π_4, Π_3*P*Π_4, Π_4*P*Π_4, P**2*Π_4, Π_0*Pd*Π_4, Π_1*Pd*Π_4, Π_2*Pd*Π_4, Π_3*Pd*Π_4, Π_4*Pd*Π_4, Pd**2*Π_4, Π_2*Π_0*P, Π_3*Π_0*P, P*Π_0*P, Pd*Π_0*P, Π_3*Π_1*P, Π_4*Π_1*P, P*Π_1*P, Pd*Π_1*P, Π_0*Π_2*P, Π_4*Π_2*P, P*Π_2*P, Pd*Π_2*P, Π_0*Π_3*P, Π_1*Π_3*P, P*Π_3*P, Pd*Π_3*P, Π_1*Π_4*P, Π_2*Π_4*P, P*Π_4*P, Pd*Π_4*P, Π_0*P**2, Π_1*P**2, Π_2*P**2, Π_3*P**2, Π_4*P**2, P**3, Π_2*Π_0*Pd, Π_3*Π_0*Pd, P*Π_0*Pd, Pd*Π_0*Pd, Π_3*Π_1*Pd, Π_4*Π_1*Pd, P*Π_1*Pd, Pd*Π_1*Pd, Π_0*Π_2*Pd, Π_4*Π_2*Pd, P*Π_2*Pd, Pd*Π_2*Pd, Π_0*Π_3*Pd, Π_1*Π_3*Pd, P*Π_3*Pd, Pd*Π_3*Pd, Π_1*Π_4*Pd, Π_2*Π_4*Pd, P*Π_4*Pd, Pd*Π_4*Pd, Π_0*Pd**2, Π_1*Pd**2, Π_2*Pd**2, Π_3*Pd**2, Π_4*Pd**2, Pd**3]\n"
     ]
    }
   ],
   "source": [
    "Lx=[]\n",
    "force=False\n",
    "fileName=cacheFolder+\"alphabetSave_testType_\"+str(testType)+\"_hDepth_\"+str(hDepth)+\"_lenL1_\"+str(len(L1))\n",
    "\n",
    "try:\n",
    "    print(\"Loading from file\")\n",
    "    loadedThis=dill.load(open(fileName, \"rb\"))\n",
    "    [Lx,L,L_]=loadedThis\n",
    "    print(\"Done\")\n",
    "except:\n",
    "    print(\"Failed to load\")\n",
    "    loadedThis=None\n",
    "\n",
    "    \n",
    "if (loadedThis==None or force==True):\n",
    "    Lx=[]\n",
    "    print(\"Evaluating\")\n",
    "    #This generates words of length n with each position holding any of the y letters\n",
    "    def loop_rec(y, n=None, val=None):\n",
    "        if n >= 1:\n",
    "            for x in range(y):\n",
    "                let=L1[x]\n",
    "                if val == None:\n",
    "                    newVal=let\n",
    "                else:\n",
    "                    newVal=let*val\n",
    "                loop_rec(y, n - 1, newVal)\n",
    "        else:\n",
    "            #TODO: Find a better way of removing powers\n",
    "            #remember sqDicts also simplifies UdU to identity\n",
    "            val_=val.subs(gDicts).subs(sqDicts).subs(sqDicts).subs(gDicts)\n",
    "            if not val_ in Lx and not val_ in L1 and val_ != sp.Integer(0) and val_ != sp.Integer(1) :\n",
    "                #print(val_)\n",
    "                #print(val_ in L1)\n",
    "                Lx.append(val_)\n",
    "\n",
    "    for i in range(2,hDepth+1):    \n",
    "        #loop_rec(N,i)\n",
    "        loop_rec(len(L1),i)\n",
    "\n",
    "\n",
    "    L = I + L1 + Lx\n",
    "    L_ = L1 + Lx\n",
    "\n",
    "    dill.dump([Lx,L,L_], open(fileName, \"wb\"))\n",
    "    print(\"Saved to disk\")\n",
    "\n",
    "    \n",
    "print(L1)\n",
    "if(len(Lx)<30):\n",
    "    display(Lx)\n",
    "else:\n",
    "    print(Lx)"
   ]
  },
  {
   "cell_type": "code",
   "execution_count": 24,
   "metadata": {
    "init_cell": true
   },
   "outputs": [],
   "source": [
    "#symbol to index dictionary\n",
    "sTi={}\n",
    "\n",
    "#The former should be obseleted gradually\n",
    "\n",
    "sTr={}\n",
    "sTc={}\n",
    "\n",
    "for i in range(len(L)):\n",
    "    sTc[L[i]]=i #for the column, the usual thing should work just as well\n",
    "    #print(L[i],conj(L[i]))\n",
    "    sTr[conj(L[i])]=i #for the row it should be conjugated\n",
    "    \n",
    "    sTi[L[i]]=i\n",
    "\n",
    "#print(sTi)"
   ]
  },
  {
   "cell_type": "code",
   "execution_count": null,
   "metadata": {},
   "outputs": [],
   "source": [
    "#print(sTc)\n",
    "#print(sTr)"
   ]
  },
  {
   "cell_type": "code",
   "execution_count": null,
   "metadata": {},
   "outputs": [],
   "source": [
    "#print(iKCBS.eval_idealVal(Lx[3]),np.sqrt(1/5))"
   ]
  },
  {
   "cell_type": "code",
   "execution_count": 25,
   "metadata": {
    "init_cell": true
   },
   "outputs": [
    {
     "name": "stdout",
     "output_type": "stream",
     "text": [
      "[Π_2*Π_0, Π_3*Π_0, P*Π_0, Pd*Π_0, Π_3*Π_1, Π_4*Π_1, P*Π_1, Pd*Π_1, Π_0*Π_2, Π_4*Π_2, P*Π_2, Pd*Π_2, Π_0*Π_3, Π_1*Π_3, P*Π_3, Pd*Π_3, Π_1*Π_4, Π_2*Π_4, P*Π_4, Pd*Π_4, Π_0*P, Π_1*P, Π_2*P, Π_3*P, Π_4*P, P**2, Π_0*Pd, Π_1*Pd, Π_2*Pd, Π_3*Pd, Π_4*Pd, Pd**2, Π_0*Π_2*Π_0, Π_4*Π_2*Π_0, P*Π_2*Π_0, Pd*Π_2*Π_0, Π_0*Π_3*Π_0, Π_1*Π_3*Π_0, P*Π_3*Π_0, Pd*Π_3*Π_0, Π_0*P*Π_0, Π_1*P*Π_0, Π_2*P*Π_0, Π_3*P*Π_0, Π_4*P*Π_0, P**2*Π_0, Π_0*Pd*Π_0, Π_1*Pd*Π_0, Π_2*Pd*Π_0, Π_3*Pd*Π_0, Π_4*Pd*Π_0, Pd**2*Π_0, Π_0*Π_3*Π_1, Π_1*Π_3*Π_1, P*Π_3*Π_1, Pd*Π_3*Π_1, Π_1*Π_4*Π_1, Π_2*Π_4*Π_1, P*Π_4*Π_1, Pd*Π_4*Π_1, Π_0*P*Π_1, Π_1*P*Π_1, Π_2*P*Π_1, Π_3*P*Π_1, Π_4*P*Π_1, P**2*Π_1, Π_0*Pd*Π_1, Π_1*Pd*Π_1, Π_2*Pd*Π_1, Π_3*Pd*Π_1, Π_4*Pd*Π_1, Pd**2*Π_1, Π_2*Π_0*Π_2, Π_3*Π_0*Π_2, P*Π_0*Π_2, Pd*Π_0*Π_2, Π_1*Π_4*Π_2, Π_2*Π_4*Π_2, P*Π_4*Π_2, Pd*Π_4*Π_2, Π_0*P*Π_2, Π_1*P*Π_2, Π_2*P*Π_2, Π_3*P*Π_2, Π_4*P*Π_2, P**2*Π_2, Π_0*Pd*Π_2, Π_1*Pd*Π_2, Π_2*Pd*Π_2, Π_3*Pd*Π_2, Π_4*Pd*Π_2, Pd**2*Π_2, Π_2*Π_0*Π_3, Π_3*Π_0*Π_3, P*Π_0*Π_3, Pd*Π_0*Π_3, Π_3*Π_1*Π_3, Π_4*Π_1*Π_3, P*Π_1*Π_3, Pd*Π_1*Π_3, Π_0*P*Π_3, Π_1*P*Π_3, Π_2*P*Π_3, Π_3*P*Π_3, Π_4*P*Π_3, P**2*Π_3, Π_0*Pd*Π_3, Π_1*Pd*Π_3, Π_2*Pd*Π_3, Π_3*Pd*Π_3, Π_4*Pd*Π_3, Pd**2*Π_3, Π_3*Π_1*Π_4, Π_4*Π_1*Π_4, P*Π_1*Π_4, Pd*Π_1*Π_4, Π_0*Π_2*Π_4, Π_4*Π_2*Π_4, P*Π_2*Π_4, Pd*Π_2*Π_4, Π_0*P*Π_4, Π_1*P*Π_4, Π_2*P*Π_4, Π_3*P*Π_4, Π_4*P*Π_4, P**2*Π_4, Π_0*Pd*Π_4, Π_1*Pd*Π_4, Π_2*Pd*Π_4, Π_3*Pd*Π_4, Π_4*Pd*Π_4, Pd**2*Π_4, Π_2*Π_0*P, Π_3*Π_0*P, P*Π_0*P, Pd*Π_0*P, Π_3*Π_1*P, Π_4*Π_1*P, P*Π_1*P, Pd*Π_1*P, Π_0*Π_2*P, Π_4*Π_2*P, P*Π_2*P, Pd*Π_2*P, Π_0*Π_3*P, Π_1*Π_3*P, P*Π_3*P, Pd*Π_3*P, Π_1*Π_4*P, Π_2*Π_4*P, P*Π_4*P, Pd*Π_4*P, Π_0*P**2, Π_1*P**2, Π_2*P**2, Π_3*P**2, Π_4*P**2, P**3, Π_2*Π_0*Pd, Π_3*Π_0*Pd, P*Π_0*Pd, Pd*Π_0*Pd, Π_3*Π_1*Pd, Π_4*Π_1*Pd, P*Π_1*Pd, Pd*Π_1*Pd, Π_0*Π_2*Pd, Π_4*Π_2*Pd, P*Π_2*Pd, Pd*Π_2*Pd, Π_0*Π_3*Pd, Π_1*Π_3*Pd, P*Π_3*Pd, Pd*Π_3*Pd, Π_1*Π_4*Pd, Π_2*Π_4*Pd, P*Π_4*Pd, Pd*Π_4*Pd, Π_0*Pd**2, Π_1*Pd**2, Π_2*Pd**2, Π_3*Pd**2, Π_4*Pd**2, Pd**3]\n"
     ]
    }
   ],
   "source": [
    "print(Lx)"
   ]
  },
  {
   "cell_type": "code",
   "execution_count": 26,
   "metadata": {
    "init_cell": true
   },
   "outputs": [],
   "source": [
    "#A function for directly extracting terms to construct indices\n",
    "\n",
    "lI = I[0]\n",
    "\n",
    "\n",
    "def lettersForExpr(termInSum,silent=False):\n",
    "    termInSum_ = pow_to_single_mul(termInSum) #sp.expand(pow_to_mul(termInSum))\n",
    "    #print(termInSum_)\n",
    "    #print(termInSum_.args)\n",
    "    if(len(termInSum_.args[1:])<= hDepth  ): #if we can handle this using just the letters we produced\n",
    "        lett = termInSum_.args[1]\n",
    "        for lettInTerm in termInSum_.args[2:]:\n",
    "            lett *= lettInTerm\n",
    "        coeff = sp.N(termInSum_.args[0]) #In case we got symbolic square roots\n",
    "\n",
    "        lett=lett.subs(sqDicts)            \n",
    "        return[lett,lI,coeff]\n",
    "        #eX = X[sTi[lett]][sTi[lI]]\n",
    "        #y += coeff*eX\n",
    "\n",
    "        #display(termInSum_)\n",
    "        #display(lett) #These can be directly handled\n",
    "\n",
    "    elif(len(termInSum_.args[1:])<= 2*hDepth ): #we can handle at most twice the letters            \n",
    "        half=int(hDepth) +1\n",
    "        #print(len(termInSum_.args[1:]),2*hDepth)\n",
    "        #print(half)\n",
    "        #print(termInSum_)\n",
    "        lett1 = termInSum_.args[1]\n",
    "        for lettInTerm in termInSum_.args[2:half]:\n",
    "            lett1 *= lettInTerm\n",
    "        lett2 = termInSum_.args[half]\n",
    "        for lettInTerm in termInSum_.args[half+1:]:\n",
    "            lett2 *= lettInTerm\n",
    "        # display(termInSum_)\n",
    "        # display(lett1) \n",
    "        # display(lett2)\n",
    "        coeff = sp.N(termInSum_.args[0]) #In case we got symbolic square roots\n",
    "        lett1=lett1.subs(sqDicts)\n",
    "        lett2=lett2.subs(sqDicts)\n",
    "        return [lett1,lett2,coeff]\n",
    "        #eX = X[sTi[lett1]][sTi[lett2]]\n",
    "        #y += coeff*eX\n",
    "    else:\n",
    "        if(silent==False):\n",
    "            print(\"objective not fully captured\")           \n",
    "        return [\"objective not fully captured\"]\n",
    "        #flag=\"Objective not fully captured\"\n",
    "        #raise Warning(\"Increase hDepth: It looks like your objective is not captured by the current depth of the SDP heirarchy\")\n"
   ]
  },
  {
   "cell_type": "markdown",
   "metadata": {},
   "source": [
    "## Constraints from QM and Setting up SDP variables"
   ]
  },
  {
   "cell_type": "code",
   "execution_count": 27,
   "metadata": {
    "code_folding": [],
    "init_cell": true,
    "scrolled": false
   },
   "outputs": [
    {
     "name": "stdout",
     "output_type": "stream",
     "text": [
      "Loading from file cached_main/lSave_4_testType_1_hDepth_3_lenL_192\n",
      "Done\n",
      "SDP Size var222174[0, 0:192]\n",
      "Constrainst: 6808\n"
     ]
    }
   ],
   "source": [
    "ForceCalc=False\n",
    "verbose=False\n",
    "partialDisplay=False\n",
    "\n",
    "hint=False #This will probably start working in a new version of cvxpy\n",
    "\n",
    "fileName=cacheFolder+\"lSave_4_testType_\"+str(testType)+\"_hDepth_\"+str(hDepth)+\"_lenL_\"+str(len(L))\n",
    "\n",
    "flags=[\"issues\"]\n",
    "\n",
    "\n",
    "ConstraintsThreshold = 10000 #Maximum number of constraints\n",
    "useThreshold=False\n",
    "\n",
    "try:\n",
    "    print(\"Loading from file\",fileName)\n",
    "    loadedThis=dill.load(open(fileName, \"rb\"))\n",
    "    [X,constraints]=loadedThis\n",
    "    print(\"Done\")\n",
    "    print(\"SDP Size\",X[0])\n",
    "    print(\"Constrainst:\", len(constraints))\n",
    "except:\n",
    "    loadedThis=None\n",
    "\n",
    " \n",
    "    \n",
    "    \n",
    "if loadedThis==None or ForceCalc==True:\n",
    "    print(\"Evaluating constraints\")\n",
    "\n",
    "\n",
    "    #L is the alphabet, to wit: it is the list of letters\n",
    "    #\n",
    "    X = cp.Variable((len(L),len(L)),symmetric=True)    \n",
    "\n",
    "    #>> is for matrix inequality\n",
    "    constraints = [X >> 0,X[sTi[lI],sTi[lI]]==1]\n",
    "\n",
    "\n",
    "#     print(\"Adding constraints from the graph\")\n",
    "#     #Constraints from the graph (these come from single letters)        \n",
    "#     for l1 in L1:\n",
    "#         for l2 in L1:\n",
    "#             eX = X[sTi[l1]][sTi[l2]] #picks the corresponding element from the variable matrix of the SDP library\n",
    "#             if l1 in G[l2]:\n",
    "#                 constraints += [eX == 0]\n",
    "\n",
    "#     print(\"done\")\n",
    "\n",
    "    \n",
    "    \n",
    "    \n",
    "    print(\"Adding constraints from Quantum Mechanics\")\n",
    "    \n",
    "    tempCount=0\n",
    "    dictTerms = {}\n",
    "    halfLoop = 0\n",
    "    #lettersUsed = []\n",
    "    for l1 in L:\n",
    "        print(\"Row of \",l1)\n",
    "        if(tempCount>ConstraintsThreshold):\n",
    "            break\n",
    "\n",
    "        for l2 in L[halfLoop:]:\n",
    "            term = l1*l2\n",
    "\n",
    "\n",
    "            tS=[term]\n",
    "            #display(term)\n",
    "            for i in range(lDepth+1):\n",
    "                tS.append(tS[-1].subs(sqDicts))\n",
    "            simTerm=tS[-1]\n",
    "            \n",
    "            #Don't enable this until cvxpy has been upgraded to handle giving a guess solution\n",
    "            if(hint==True):                \n",
    "                X[sTr[l1]][sTc[l2]].value=iKCBS.eval_idealVal(simTerm)\n",
    "            \n",
    "            #display(simTerm)\n",
    "            #Orthogonality from the graph\n",
    "            tempVal=simTerm.subs(gDicts)\n",
    "            if tempVal==sp.Integer(0):\n",
    "                #print(\"I set \",l1,l2,\" to zero\")\n",
    "#                 display(l1)\n",
    "#                 display(l2)\n",
    "#                 display(simTerm.subs(gDicts))\n",
    "                constraints += [ X[sTr[l1]][sTc[l2]] == 0 ]\n",
    "            elif tempVal == sp.Integer(1):\n",
    "                constraints += [ X[sTr[l1]][sTc[l2]] == 1 ]   \n",
    "                print(term,\" set to \",1)\n",
    "            elif not(simTerm in dictTerms):\n",
    "                dictTerms.update({simTerm:[l1,l2]})            \n",
    "            else:\n",
    "#                 l1_=dictTerms[simTerm][0]\n",
    "#                 l2_=dictTerms[simTerm][1]\n",
    "                [l1_,l2_]=dictTerms[simTerm]\n",
    "                #I am not sure why the or part of this statement is reducing constraints\n",
    "                \n",
    "                if (not (l1==l1_ and l2==l2_) and not (l1==l2_ and l2==l1_)):                \n",
    "                    \n",
    "                    #print()\n",
    "                    #if ((l1==l2_ and l2==l1_)):\n",
    "#                         print(\"GOT ONE!\")\n",
    "#                         print(\"The ls\")\n",
    "#                         display(l1)\n",
    "#                         display(l2)\n",
    "                        \n",
    "#                         print(\"The l_s\")\n",
    "#                         display(l1_)\n",
    "#                         display(l2_)\n",
    "                        \n",
    "                    constraints += [ X[sTr[l1]][sTc[l2]] == X[sTr[l1_]][sTc[l2_]] ]\n",
    "                    \n",
    "                    tempCount+=1\n",
    "                    \n",
    "                    if(tempCount>ConstraintsThreshold and useThreshold==True):\n",
    "                        break\n",
    "                    \n",
    "                    if(tempCount<10 or\\\n",
    "                       (100<tempCount and tempCount<110) or\\\n",
    "                       (1000<tempCount and tempCount<1010) or verbose):\n",
    "                       \n",
    "                        #print(\"Adding a new constraint\")\n",
    "                        print(l1,\"*\",l2,\"=\",l1_,\"*\",l2_)\n",
    "                        try:\n",
    "                            v1=iKCBS.eval_idealVal(l1*l2)\n",
    "                            v2=iKCBS.eval_idealVal(l1_*l2_)                        \n",
    "                            if(np.abs(v1 - v2)>1e-9): #1e-9):\n",
    "                                print(\"Issue?\")\n",
    "                                print( v1, v2, np.abs(v1-v2) )\n",
    "                        except:\n",
    "                            pass\n",
    "                            \n",
    "                        #print(\"should be equal to\",l1_,\",\",l2_)\n",
    "                        if(partialDisplay):\n",
    "                            print(\"l1\")\n",
    "                            display(l1)\n",
    "                            print(\"l2\")\n",
    "                            display(l2)\n",
    "                            print(\"l1_\")\n",
    "                            display(l1_)\n",
    "                            print(\"l2_\")\n",
    "                            display(l2_)\n",
    "                        \n",
    "            del tS            \n",
    "        halfLoop+=1\n",
    "\n",
    "    print(\"done\")\n",
    "\n",
    "    print(\"Constraints\", len(constraints))\n",
    "    print(\"SDP\", X[0])\n",
    "    dill.dump([X,constraints], open(fileName, \"wb\"))\n",
    "    print(\"Saved to disk\")\n",
    "\n",
    "\n",
    "try:\n",
    "    del fileName\n",
    "    del ForceCalc\n",
    "except:\n",
    "    print(\"Cleaned.\")"
   ]
  },
  {
   "cell_type": "markdown",
   "metadata": {},
   "source": [
    "## Objective; Symbolic to SDP"
   ]
  },
  {
   "cell_type": "code",
   "execution_count": 28,
   "metadata": {
    "init_cell": true
   },
   "outputs": [
    {
     "name": "stdout",
     "output_type": "stream",
     "text": [
      "TEST: Simple overlap testing the translate operator using localising matrices\n",
      "Done\n"
     ]
    }
   ],
   "source": [
    "#Objective function; symbolic to SDP constraints\n",
    "\n",
    "# objective function evaluated (loop over product of all letters)\n",
    "y = 0\n",
    "\n",
    "if(testType==1):\n",
    "    \n",
    "    if(testSubType==\"b\"):\n",
    "        print(\"Feasibilty test; objective=0\")\n",
    "    elif(testSubType==\"c\"):\n",
    "        print(\"TEST: Simple overlap testing the translate operator using localising matrices\")\n",
    "        #I want the expression to be Π_0 P Π_2 Pd\n",
    "        #because P Π_2 Pd = Π_0 in the ideal case\n",
    "        # B[0] = P; B[1] = Pd\n",
    "        # A[i] = Π_i\n",
    "        #expr = A[0] * B[0] * A[2] * B[1]\n",
    "        y = X[sTr[A[0]*B[0]]][sTc[A[2]*B[1]]]        \n",
    "    else:\n",
    "        print(\"TEST: Constructing the KCBS expression instead of the Fidelity\")\n",
    "        len(L1)\n",
    "        #print(L1[:1])\n",
    "        for term in L1[:5]:\n",
    "            display(term)            \n",
    "            y += X[sTr[lI]][sTc[term]]\n",
    "        #y += 3*X[sTi[lI]][sTi[L1[2]]]    \n",
    "\n",
    "    \n",
    "else:\n",
    "\n",
    "    print(\"Constructing the SDP objective from the symbolic objective\") \n",
    "    for termInSum in objective_.args:   #e.g. termInSum could look like a multiplication object with arguments (0.13,Π_4,Π_3) and so on    \n",
    "        res = lettersForExpr(termInSum) #returns, e.g. [1.23,Π1,Π1]\n",
    "        #don't need to use sTr and sTc because it already returns the conjugated thing\n",
    "        #we need to access\n",
    "        y += res[2] * X[sTr[res[0]]][sTc[res[1]]]\n",
    "        del res\n",
    "\n",
    "    \n",
    "print(\"Done\")\n"
   ]
  },
  {
   "cell_type": "code",
   "execution_count": null,
   "metadata": {},
   "outputs": [],
   "source": [
    "#print(y)"
   ]
  },
  {
   "cell_type": "markdown",
   "metadata": {},
   "source": [
    "## Localising Matrix Constraints"
   ]
  },
  {
   "cell_type": "code",
   "execution_count": null,
   "metadata": {},
   "outputs": [],
   "source": []
  },
  {
   "cell_type": "code",
   "execution_count": 29,
   "metadata": {
    "init_cell": true,
    "scrolled": false
   },
   "outputs": [
    {
     "name": "stdout",
     "output_type": "stream",
     "text": [
      "Localising matrix constraints...\n",
      "[1, Π_0, Π_1, Π_2, Π_3, Π_4, P, Pd]\n",
      "on row: 1\n"
     ]
    },
    {
     "data": {
      "text/latex": [
       "$\\displaystyle - 0.272019649514071 Pd Π_{0} - 0.485868271756646 Pd Π_{1} + 3.33019067678556 Pd Π_{1} Π_{3} - 2.05817102727149 Pd Π_{2} + 2.77032771530716 Pd Π_{2} Π_{0} + 2.77032771530715 Pd Π_{4} - 4.82849874257864 Pd Π_{4} Π_{1} - 1.15229372655726 Pd Π_{4} Π_{2}$"
      ],
      "text/plain": [
       "-0.272019649514071⋅Pd⋅Π₀ - 0.485868271756646⋅Pd⋅Π₁ + 3.33019067678556⋅Pd⋅Π₁⋅Π₃\n",
       " - 2.05817102727149⋅Pd⋅Π₂ + 2.77032771530716⋅Pd⋅Π₂⋅Π₀ + 2.77032771530715⋅Pd⋅Π₄\n",
       " - 4.82849874257864⋅Pd⋅Π₄⋅Π₁ - 1.15229372655726⋅Pd⋅Π₄⋅Π₂"
      ]
     },
     "metadata": {},
     "output_type": "display_data"
    },
    {
     "data": {
      "text/latex": [
       "$\\displaystyle - 0.272019649514071 Pd Π_{0} + 3.33019067678556 Pd Π_{1} Π_{3} Π_{0} + 0.71215668803567 Pd Π_{2} Π_{0} - 1.15229372655726 Pd Π_{4} Π_{2} Π_{0}$"
      ],
      "text/plain": [
       "-0.272019649514071⋅Pd⋅Π₀ + 3.33019067678556⋅Pd⋅Π₁⋅Π₃⋅Π₀ + 0.71215668803567⋅Pd⋅\n",
       "Π₂⋅Π₀ - 1.15229372655726⋅Pd⋅Π₄⋅Π₂⋅Π₀"
      ]
     },
     "metadata": {},
     "output_type": "display_data"
    },
    {
     "data": {
      "text/latex": [
       "$\\displaystyle - 0.485868271756646 Pd Π_{1} + 3.33019067678556 Pd Π_{1} Π_{3} Π_{1} - 2.05817102727149 Pd Π_{4} Π_{1}$"
      ],
      "text/plain": [
       "-0.485868271756646⋅Pd⋅Π₁ + 3.33019067678556⋅Pd⋅Π₁⋅Π₃⋅Π₁ - 2.05817102727149⋅Pd⋅\n",
       "Π₄⋅Π₁"
      ]
     },
     "metadata": {},
     "output_type": "display_data"
    },
    {
     "data": {
      "text/latex": [
       "$\\displaystyle - 0.272019649514071 Pd Π_{0} Π_{2} - 2.05817102727149 Pd Π_{2} + 2.77032771530716 Pd Π_{2} Π_{0} Π_{2} + 1.6180339887499 Pd Π_{4} Π_{2}$"
      ],
      "text/plain": [
       "-0.272019649514071⋅Pd⋅Π₀⋅Π₂ - 2.05817102727149⋅Pd⋅Π₂ + 2.77032771530716⋅Pd⋅Π₂⋅\n",
       "Π₀⋅Π₂ + 1.6180339887499⋅Pd⋅Π₄⋅Π₂"
      ]
     },
     "metadata": {},
     "output_type": "display_data"
    },
    {
     "data": {
      "text/latex": [
       "$\\displaystyle - 0.272019649514071 Pd Π_{0} Π_{3} + 2.84432240502891 Pd Π_{1} Π_{3} + 2.77032771530716 Pd Π_{2} Π_{0} Π_{3} - 4.82849874257864 Pd Π_{4} Π_{1} Π_{3}$"
      ],
      "text/plain": [
       "-0.272019649514071⋅Pd⋅Π₀⋅Π₃ + 2.84432240502891⋅Pd⋅Π₁⋅Π₃ + 2.77032771530716⋅Pd⋅\n",
       "Π₂⋅Π₀⋅Π₃ - 4.82849874257864⋅Pd⋅Π₄⋅Π₁⋅Π₃"
      ]
     },
     "metadata": {},
     "output_type": "display_data"
    },
    {
     "data": {
      "text/latex": [
       "$\\displaystyle - 0.485868271756646 Pd Π_{1} Π_{4} - 2.05817102727149 Pd Π_{2} Π_{4} + 2.77032771530715 Pd Π_{4} - 4.82849874257864 Pd Π_{4} Π_{1} Π_{4} - 1.15229372655726 Pd Π_{4} Π_{2} Π_{4}$"
      ],
      "text/plain": [
       "-0.485868271756646⋅Pd⋅Π₁⋅Π₄ - 2.05817102727149⋅Pd⋅Π₂⋅Π₄ + 2.77032771530715⋅Pd⋅\n",
       "Π₄ - 4.82849874257864⋅Pd⋅Π₄⋅Π₁⋅Π₄ - 1.15229372655726⋅Pd⋅Π₄⋅Π₂⋅Π₄"
      ]
     },
     "metadata": {},
     "output_type": "display_data"
    },
    {
     "data": {
      "text/latex": [
       "$\\displaystyle - 0.272019649514071 Pd Π_{0} P - 0.485868271756646 Pd Π_{1} P + 3.33019067678556 Pd Π_{1} Π_{3} P - 2.05817102727149 Pd Π_{2} P + 2.77032771530716 Pd Π_{2} Π_{0} P + 2.77032771530715 Pd Π_{4} P - 4.82849874257864 Pd Π_{4} Π_{1} P - 1.15229372655726 Pd Π_{4} Π_{2} P$"
      ],
      "text/plain": [
       "-0.272019649514071⋅Pd⋅Π₀⋅P - 0.485868271756646⋅Pd⋅Π₁⋅P + 3.33019067678556⋅Pd⋅Π\n",
       "₁⋅Π₃⋅P - 2.05817102727149⋅Pd⋅Π₂⋅P + 2.77032771530716⋅Pd⋅Π₂⋅Π₀⋅P + 2.7703277153\n",
       "0715⋅Pd⋅Π₄⋅P - 4.82849874257864⋅Pd⋅Π₄⋅Π₁⋅P - 1.15229372655726⋅Pd⋅Π₄⋅Π₂⋅P"
      ]
     },
     "metadata": {},
     "output_type": "display_data"
    },
    {
     "data": {
      "text/latex": [
       "$\\displaystyle - 0.272019649514071 Pd Π_{0} Pd - 0.485868271756646 Pd Π_{1} Pd + 3.33019067678556 Pd Π_{1} Π_{3} Pd - 2.05817102727149 Pd Π_{2} Pd + 2.77032771530716 Pd Π_{2} Π_{0} Pd + 2.77032771530715 Pd Π_{4} Pd - 4.82849874257864 Pd Π_{4} Π_{1} Pd - 1.15229372655726 Pd Π_{4} Π_{2} Pd$"
      ],
      "text/plain": [
       "-0.272019649514071⋅Pd⋅Π₀⋅Pd - 0.485868271756646⋅Pd⋅Π₁⋅Pd + 3.33019067678556⋅Pd\n",
       "⋅Π₁⋅Π₃⋅Pd - 2.05817102727149⋅Pd⋅Π₂⋅Pd + 2.77032771530716⋅Pd⋅Π₂⋅Π₀⋅Pd + 2.77032\n",
       "771530715⋅Pd⋅Π₄⋅Pd - 4.82849874257864⋅Pd⋅Π₄⋅Π₁⋅Pd - 1.15229372655726⋅Pd⋅Π₄⋅Π₂⋅\n",
       "Pd"
      ]
     },
     "metadata": {},
     "output_type": "display_data"
    },
    {
     "name": "stdout",
     "output_type": "stream",
     "text": [
      "on row: Π_0\n"
     ]
    },
    {
     "data": {
      "text/latex": [
       "$\\displaystyle - 0.272019649514071 Π_{0} Pd Π_{0} - 0.485868271756646 Π_{0} Pd Π_{1} + 3.33019067678556 Π_{0} Pd Π_{1} Π_{3} - 2.05817102727149 Π_{0} Pd Π_{2} + 2.77032771530716 Π_{0} Pd Π_{2} Π_{0} + 2.77032771530715 Π_{0} Pd Π_{4} - 4.82849874257864 Π_{0} Pd Π_{4} Π_{1} - 1.15229372655726 Π_{0} Pd Π_{4} Π_{2}$"
      ],
      "text/plain": [
       "-0.272019649514071⋅Π₀⋅Pd⋅Π₀ - 0.485868271756646⋅Π₀⋅Pd⋅Π₁ + 3.33019067678556⋅Π₀\n",
       "⋅Pd⋅Π₁⋅Π₃ - 2.05817102727149⋅Π₀⋅Pd⋅Π₂ + 2.77032771530716⋅Π₀⋅Pd⋅Π₂⋅Π₀ + 2.77032\n",
       "771530715⋅Π₀⋅Pd⋅Π₄ - 4.82849874257864⋅Π₀⋅Pd⋅Π₄⋅Π₁ - 1.15229372655726⋅Π₀⋅Pd⋅Π₄⋅\n",
       "Π₂"
      ]
     },
     "metadata": {},
     "output_type": "display_data"
    },
    {
     "data": {
      "text/latex": [
       "$\\displaystyle - 0.272019649514071 Π_{0} Pd Π_{0} + 3.33019067678556 Π_{0} Pd Π_{1} Π_{3} Π_{0} + 0.71215668803567 Π_{0} Pd Π_{2} Π_{0} - 1.15229372655726 Π_{0} Pd Π_{4} Π_{2} Π_{0}$"
      ],
      "text/plain": [
       "-0.272019649514071⋅Π₀⋅Pd⋅Π₀ + 3.33019067678556⋅Π₀⋅Pd⋅Π₁⋅Π₃⋅Π₀ + 0.712156688035\n",
       "67⋅Π₀⋅Pd⋅Π₂⋅Π₀ - 1.15229372655726⋅Π₀⋅Pd⋅Π₄⋅Π₂⋅Π₀"
      ]
     },
     "metadata": {},
     "output_type": "display_data"
    },
    {
     "data": {
      "text/latex": [
       "$\\displaystyle - 0.485868271756646 Π_{0} Pd Π_{1} + 3.33019067678556 Π_{0} Pd Π_{1} Π_{3} Π_{1} - 2.05817102727149 Π_{0} Pd Π_{4} Π_{1}$"
      ],
      "text/plain": [
       "-0.485868271756646⋅Π₀⋅Pd⋅Π₁ + 3.33019067678556⋅Π₀⋅Pd⋅Π₁⋅Π₃⋅Π₁ - 2.058171027271\n",
       "49⋅Π₀⋅Pd⋅Π₄⋅Π₁"
      ]
     },
     "metadata": {},
     "output_type": "display_data"
    },
    {
     "data": {
      "text/latex": [
       "$\\displaystyle - 0.272019649514071 Π_{0} Pd Π_{0} Π_{2} - 2.05817102727149 Π_{0} Pd Π_{2} + 2.77032771530716 Π_{0} Pd Π_{2} Π_{0} Π_{2} + 1.6180339887499 Π_{0} Pd Π_{4} Π_{2}$"
      ],
      "text/plain": [
       "-0.272019649514071⋅Π₀⋅Pd⋅Π₀⋅Π₂ - 2.05817102727149⋅Π₀⋅Pd⋅Π₂ + 2.77032771530716⋅\n",
       "Π₀⋅Pd⋅Π₂⋅Π₀⋅Π₂ + 1.6180339887499⋅Π₀⋅Pd⋅Π₄⋅Π₂"
      ]
     },
     "metadata": {},
     "output_type": "display_data"
    },
    {
     "data": {
      "text/latex": [
       "$\\displaystyle - 0.272019649514071 Π_{0} Pd Π_{0} Π_{3} + 2.84432240502891 Π_{0} Pd Π_{1} Π_{3} + 2.77032771530716 Π_{0} Pd Π_{2} Π_{0} Π_{3} - 4.82849874257864 Π_{0} Pd Π_{4} Π_{1} Π_{3}$"
      ],
      "text/plain": [
       "-0.272019649514071⋅Π₀⋅Pd⋅Π₀⋅Π₃ + 2.84432240502891⋅Π₀⋅Pd⋅Π₁⋅Π₃ + 2.770327715307\n",
       "16⋅Π₀⋅Pd⋅Π₂⋅Π₀⋅Π₃ - 4.82849874257864⋅Π₀⋅Pd⋅Π₄⋅Π₁⋅Π₃"
      ]
     },
     "metadata": {},
     "output_type": "display_data"
    },
    {
     "data": {
      "text/latex": [
       "$\\displaystyle - 0.485868271756646 Π_{0} Pd Π_{1} Π_{4} - 2.05817102727149 Π_{0} Pd Π_{2} Π_{4} + 2.77032771530715 Π_{0} Pd Π_{4} - 4.82849874257864 Π_{0} Pd Π_{4} Π_{1} Π_{4} - 1.15229372655726 Π_{0} Pd Π_{4} Π_{2} Π_{4}$"
      ],
      "text/plain": [
       "-0.485868271756646⋅Π₀⋅Pd⋅Π₁⋅Π₄ - 2.05817102727149⋅Π₀⋅Pd⋅Π₂⋅Π₄ + 2.770327715307\n",
       "15⋅Π₀⋅Pd⋅Π₄ - 4.82849874257864⋅Π₀⋅Pd⋅Π₄⋅Π₁⋅Π₄ - 1.15229372655726⋅Π₀⋅Pd⋅Π₄⋅Π₂⋅Π\n",
       "₄"
      ]
     },
     "metadata": {},
     "output_type": "display_data"
    },
    {
     "data": {
      "text/latex": [
       "$\\displaystyle - 0.272019649514071 Π_{0} Pd Π_{0} P - 0.485868271756646 Π_{0} Pd Π_{1} P + 3.33019067678556 Π_{0} Pd Π_{1} Π_{3} P - 2.05817102727149 Π_{0} Pd Π_{2} P + 2.77032771530716 Π_{0} Pd Π_{2} Π_{0} P + 2.77032771530715 Π_{0} Pd Π_{4} P - 4.82849874257864 Π_{0} Pd Π_{4} Π_{1} P - 1.15229372655726 Π_{0} Pd Π_{4} Π_{2} P$"
      ],
      "text/plain": [
       "-0.272019649514071⋅Π₀⋅Pd⋅Π₀⋅P - 0.485868271756646⋅Π₀⋅Pd⋅Π₁⋅P + 3.3301906767855\n",
       "6⋅Π₀⋅Pd⋅Π₁⋅Π₃⋅P - 2.05817102727149⋅Π₀⋅Pd⋅Π₂⋅P + 2.77032771530716⋅Π₀⋅Pd⋅Π₂⋅Π₀⋅P\n",
       " + 2.77032771530715⋅Π₀⋅Pd⋅Π₄⋅P - 4.82849874257864⋅Π₀⋅Pd⋅Π₄⋅Π₁⋅P - 1.1522937265\n",
       "5726⋅Π₀⋅Pd⋅Π₄⋅Π₂⋅P"
      ]
     },
     "metadata": {},
     "output_type": "display_data"
    },
    {
     "data": {
      "text/latex": [
       "$\\displaystyle - 0.272019649514071 Π_{0} Pd Π_{0} Pd - 0.485868271756646 Π_{0} Pd Π_{1} Pd + 3.33019067678556 Π_{0} Pd Π_{1} Π_{3} Pd - 2.05817102727149 Π_{0} Pd Π_{2} Pd + 2.77032771530716 Π_{0} Pd Π_{2} Π_{0} Pd + 2.77032771530715 Π_{0} Pd Π_{4} Pd - 4.82849874257864 Π_{0} Pd Π_{4} Π_{1} Pd - 1.15229372655726 Π_{0} Pd Π_{4} Π_{2} Pd$"
      ],
      "text/plain": [
       "-0.272019649514071⋅Π₀⋅Pd⋅Π₀⋅Pd - 0.485868271756646⋅Π₀⋅Pd⋅Π₁⋅Pd + 3.33019067678\n",
       "556⋅Π₀⋅Pd⋅Π₁⋅Π₃⋅Pd - 2.05817102727149⋅Π₀⋅Pd⋅Π₂⋅Pd + 2.77032771530716⋅Π₀⋅Pd⋅Π₂⋅\n",
       "Π₀⋅Pd + 2.77032771530715⋅Π₀⋅Pd⋅Π₄⋅Pd - 4.82849874257864⋅Π₀⋅Pd⋅Π₄⋅Π₁⋅Pd - 1.152\n",
       "29372655726⋅Π₀⋅Pd⋅Π₄⋅Π₂⋅Pd"
      ]
     },
     "metadata": {},
     "output_type": "display_data"
    },
    {
     "name": "stdout",
     "output_type": "stream",
     "text": [
      "on row: Π_1\n"
     ]
    },
    {
     "data": {
      "text/latex": [
       "$\\displaystyle - 0.272019649514071 Π_{1} Pd Π_{0} - 0.485868271756646 Π_{1} Pd Π_{1} + 3.33019067678556 Π_{1} Pd Π_{1} Π_{3} - 2.05817102727149 Π_{1} Pd Π_{2} + 2.77032771530716 Π_{1} Pd Π_{2} Π_{0} + 2.77032771530715 Π_{1} Pd Π_{4} - 4.82849874257864 Π_{1} Pd Π_{4} Π_{1} - 1.15229372655726 Π_{1} Pd Π_{4} Π_{2}$"
      ],
      "text/plain": [
       "-0.272019649514071⋅Π₁⋅Pd⋅Π₀ - 0.485868271756646⋅Π₁⋅Pd⋅Π₁ + 3.33019067678556⋅Π₁\n",
       "⋅Pd⋅Π₁⋅Π₃ - 2.05817102727149⋅Π₁⋅Pd⋅Π₂ + 2.77032771530716⋅Π₁⋅Pd⋅Π₂⋅Π₀ + 2.77032\n",
       "771530715⋅Π₁⋅Pd⋅Π₄ - 4.82849874257864⋅Π₁⋅Pd⋅Π₄⋅Π₁ - 1.15229372655726⋅Π₁⋅Pd⋅Π₄⋅\n",
       "Π₂"
      ]
     },
     "metadata": {},
     "output_type": "display_data"
    },
    {
     "data": {
      "text/latex": [
       "$\\displaystyle - 0.272019649514071 Π_{1} Pd Π_{0} + 3.33019067678556 Π_{1} Pd Π_{1} Π_{3} Π_{0} + 0.71215668803567 Π_{1} Pd Π_{2} Π_{0} - 1.15229372655726 Π_{1} Pd Π_{4} Π_{2} Π_{0}$"
      ],
      "text/plain": [
       "-0.272019649514071⋅Π₁⋅Pd⋅Π₀ + 3.33019067678556⋅Π₁⋅Pd⋅Π₁⋅Π₃⋅Π₀ + 0.712156688035\n",
       "67⋅Π₁⋅Pd⋅Π₂⋅Π₀ - 1.15229372655726⋅Π₁⋅Pd⋅Π₄⋅Π₂⋅Π₀"
      ]
     },
     "metadata": {},
     "output_type": "display_data"
    },
    {
     "data": {
      "text/latex": [
       "$\\displaystyle - 0.485868271756646 Π_{1} Pd Π_{1} + 3.33019067678556 Π_{1} Pd Π_{1} Π_{3} Π_{1} - 2.05817102727149 Π_{1} Pd Π_{4} Π_{1}$"
      ],
      "text/plain": [
       "-0.485868271756646⋅Π₁⋅Pd⋅Π₁ + 3.33019067678556⋅Π₁⋅Pd⋅Π₁⋅Π₃⋅Π₁ - 2.058171027271\n",
       "49⋅Π₁⋅Pd⋅Π₄⋅Π₁"
      ]
     },
     "metadata": {},
     "output_type": "display_data"
    },
    {
     "data": {
      "text/latex": [
       "$\\displaystyle - 0.272019649514071 Π_{1} Pd Π_{0} Π_{2} - 2.05817102727149 Π_{1} Pd Π_{2} + 2.77032771530716 Π_{1} Pd Π_{2} Π_{0} Π_{2} + 1.6180339887499 Π_{1} Pd Π_{4} Π_{2}$"
      ],
      "text/plain": [
       "-0.272019649514071⋅Π₁⋅Pd⋅Π₀⋅Π₂ - 2.05817102727149⋅Π₁⋅Pd⋅Π₂ + 2.77032771530716⋅\n",
       "Π₁⋅Pd⋅Π₂⋅Π₀⋅Π₂ + 1.6180339887499⋅Π₁⋅Pd⋅Π₄⋅Π₂"
      ]
     },
     "metadata": {},
     "output_type": "display_data"
    },
    {
     "data": {
      "text/latex": [
       "$\\displaystyle - 0.272019649514071 Π_{1} Pd Π_{0} Π_{3} + 2.84432240502891 Π_{1} Pd Π_{1} Π_{3} + 2.77032771530716 Π_{1} Pd Π_{2} Π_{0} Π_{3} - 4.82849874257864 Π_{1} Pd Π_{4} Π_{1} Π_{3}$"
      ],
      "text/plain": [
       "-0.272019649514071⋅Π₁⋅Pd⋅Π₀⋅Π₃ + 2.84432240502891⋅Π₁⋅Pd⋅Π₁⋅Π₃ + 2.770327715307\n",
       "16⋅Π₁⋅Pd⋅Π₂⋅Π₀⋅Π₃ - 4.82849874257864⋅Π₁⋅Pd⋅Π₄⋅Π₁⋅Π₃"
      ]
     },
     "metadata": {},
     "output_type": "display_data"
    },
    {
     "data": {
      "text/latex": [
       "$\\displaystyle - 0.485868271756646 Π_{1} Pd Π_{1} Π_{4} - 2.05817102727149 Π_{1} Pd Π_{2} Π_{4} + 2.77032771530715 Π_{1} Pd Π_{4} - 4.82849874257864 Π_{1} Pd Π_{4} Π_{1} Π_{4} - 1.15229372655726 Π_{1} Pd Π_{4} Π_{2} Π_{4}$"
      ],
      "text/plain": [
       "-0.485868271756646⋅Π₁⋅Pd⋅Π₁⋅Π₄ - 2.05817102727149⋅Π₁⋅Pd⋅Π₂⋅Π₄ + 2.770327715307\n",
       "15⋅Π₁⋅Pd⋅Π₄ - 4.82849874257864⋅Π₁⋅Pd⋅Π₄⋅Π₁⋅Π₄ - 1.15229372655726⋅Π₁⋅Pd⋅Π₄⋅Π₂⋅Π\n",
       "₄"
      ]
     },
     "metadata": {},
     "output_type": "display_data"
    },
    {
     "data": {
      "text/latex": [
       "$\\displaystyle - 0.272019649514071 Π_{1} Pd Π_{0} P - 0.485868271756646 Π_{1} Pd Π_{1} P + 3.33019067678556 Π_{1} Pd Π_{1} Π_{3} P - 2.05817102727149 Π_{1} Pd Π_{2} P + 2.77032771530716 Π_{1} Pd Π_{2} Π_{0} P + 2.77032771530715 Π_{1} Pd Π_{4} P - 4.82849874257864 Π_{1} Pd Π_{4} Π_{1} P - 1.15229372655726 Π_{1} Pd Π_{4} Π_{2} P$"
      ],
      "text/plain": [
       "-0.272019649514071⋅Π₁⋅Pd⋅Π₀⋅P - 0.485868271756646⋅Π₁⋅Pd⋅Π₁⋅P + 3.3301906767855\n",
       "6⋅Π₁⋅Pd⋅Π₁⋅Π₃⋅P - 2.05817102727149⋅Π₁⋅Pd⋅Π₂⋅P + 2.77032771530716⋅Π₁⋅Pd⋅Π₂⋅Π₀⋅P\n",
       " + 2.77032771530715⋅Π₁⋅Pd⋅Π₄⋅P - 4.82849874257864⋅Π₁⋅Pd⋅Π₄⋅Π₁⋅P - 1.1522937265\n",
       "5726⋅Π₁⋅Pd⋅Π₄⋅Π₂⋅P"
      ]
     },
     "metadata": {},
     "output_type": "display_data"
    },
    {
     "data": {
      "text/latex": [
       "$\\displaystyle - 0.272019649514071 Π_{1} Pd Π_{0} Pd - 0.485868271756646 Π_{1} Pd Π_{1} Pd + 3.33019067678556 Π_{1} Pd Π_{1} Π_{3} Pd - 2.05817102727149 Π_{1} Pd Π_{2} Pd + 2.77032771530716 Π_{1} Pd Π_{2} Π_{0} Pd + 2.77032771530715 Π_{1} Pd Π_{4} Pd - 4.82849874257864 Π_{1} Pd Π_{4} Π_{1} Pd - 1.15229372655726 Π_{1} Pd Π_{4} Π_{2} Pd$"
      ],
      "text/plain": [
       "-0.272019649514071⋅Π₁⋅Pd⋅Π₀⋅Pd - 0.485868271756646⋅Π₁⋅Pd⋅Π₁⋅Pd + 3.33019067678\n",
       "556⋅Π₁⋅Pd⋅Π₁⋅Π₃⋅Pd - 2.05817102727149⋅Π₁⋅Pd⋅Π₂⋅Pd + 2.77032771530716⋅Π₁⋅Pd⋅Π₂⋅\n",
       "Π₀⋅Pd + 2.77032771530715⋅Π₁⋅Pd⋅Π₄⋅Pd - 4.82849874257864⋅Π₁⋅Pd⋅Π₄⋅Π₁⋅Pd - 1.152\n",
       "29372655726⋅Π₁⋅Pd⋅Π₄⋅Π₂⋅Pd"
      ]
     },
     "metadata": {},
     "output_type": "display_data"
    },
    {
     "name": "stdout",
     "output_type": "stream",
     "text": [
      "on row: Π_2\n"
     ]
    },
    {
     "data": {
      "text/latex": [
       "$\\displaystyle - 0.272019649514071 Π_{2} Pd Π_{0} - 0.485868271756646 Π_{2} Pd Π_{1} + 3.33019067678556 Π_{2} Pd Π_{1} Π_{3} - 2.05817102727149 Π_{2} Pd Π_{2} + 2.77032771530716 Π_{2} Pd Π_{2} Π_{0} + 2.77032771530715 Π_{2} Pd Π_{4} - 4.82849874257864 Π_{2} Pd Π_{4} Π_{1} - 1.15229372655726 Π_{2} Pd Π_{4} Π_{2}$"
      ],
      "text/plain": [
       "-0.272019649514071⋅Π₂⋅Pd⋅Π₀ - 0.485868271756646⋅Π₂⋅Pd⋅Π₁ + 3.33019067678556⋅Π₂\n",
       "⋅Pd⋅Π₁⋅Π₃ - 2.05817102727149⋅Π₂⋅Pd⋅Π₂ + 2.77032771530716⋅Π₂⋅Pd⋅Π₂⋅Π₀ + 2.77032\n",
       "771530715⋅Π₂⋅Pd⋅Π₄ - 4.82849874257864⋅Π₂⋅Pd⋅Π₄⋅Π₁ - 1.15229372655726⋅Π₂⋅Pd⋅Π₄⋅\n",
       "Π₂"
      ]
     },
     "metadata": {},
     "output_type": "display_data"
    },
    {
     "data": {
      "text/latex": [
       "$\\displaystyle - 0.272019649514071 Π_{2} Pd Π_{0} + 3.33019067678556 Π_{2} Pd Π_{1} Π_{3} Π_{0} + 0.71215668803567 Π_{2} Pd Π_{2} Π_{0} - 1.15229372655726 Π_{2} Pd Π_{4} Π_{2} Π_{0}$"
      ],
      "text/plain": [
       "-0.272019649514071⋅Π₂⋅Pd⋅Π₀ + 3.33019067678556⋅Π₂⋅Pd⋅Π₁⋅Π₃⋅Π₀ + 0.712156688035\n",
       "67⋅Π₂⋅Pd⋅Π₂⋅Π₀ - 1.15229372655726⋅Π₂⋅Pd⋅Π₄⋅Π₂⋅Π₀"
      ]
     },
     "metadata": {},
     "output_type": "display_data"
    },
    {
     "data": {
      "text/latex": [
       "$\\displaystyle - 0.485868271756646 Π_{2} Pd Π_{1} + 3.33019067678556 Π_{2} Pd Π_{1} Π_{3} Π_{1} - 2.05817102727149 Π_{2} Pd Π_{4} Π_{1}$"
      ],
      "text/plain": [
       "-0.485868271756646⋅Π₂⋅Pd⋅Π₁ + 3.33019067678556⋅Π₂⋅Pd⋅Π₁⋅Π₃⋅Π₁ - 2.058171027271\n",
       "49⋅Π₂⋅Pd⋅Π₄⋅Π₁"
      ]
     },
     "metadata": {},
     "output_type": "display_data"
    },
    {
     "data": {
      "text/latex": [
       "$\\displaystyle - 0.272019649514071 Π_{2} Pd Π_{0} Π_{2} - 2.05817102727149 Π_{2} Pd Π_{2} + 2.77032771530716 Π_{2} Pd Π_{2} Π_{0} Π_{2} + 1.6180339887499 Π_{2} Pd Π_{4} Π_{2}$"
      ],
      "text/plain": [
       "-0.272019649514071⋅Π₂⋅Pd⋅Π₀⋅Π₂ - 2.05817102727149⋅Π₂⋅Pd⋅Π₂ + 2.77032771530716⋅\n",
       "Π₂⋅Pd⋅Π₂⋅Π₀⋅Π₂ + 1.6180339887499⋅Π₂⋅Pd⋅Π₄⋅Π₂"
      ]
     },
     "metadata": {},
     "output_type": "display_data"
    },
    {
     "data": {
      "text/latex": [
       "$\\displaystyle - 0.272019649514071 Π_{2} Pd Π_{0} Π_{3} + 2.84432240502891 Π_{2} Pd Π_{1} Π_{3} + 2.77032771530716 Π_{2} Pd Π_{2} Π_{0} Π_{3} - 4.82849874257864 Π_{2} Pd Π_{4} Π_{1} Π_{3}$"
      ],
      "text/plain": [
       "-0.272019649514071⋅Π₂⋅Pd⋅Π₀⋅Π₃ + 2.84432240502891⋅Π₂⋅Pd⋅Π₁⋅Π₃ + 2.770327715307\n",
       "16⋅Π₂⋅Pd⋅Π₂⋅Π₀⋅Π₃ - 4.82849874257864⋅Π₂⋅Pd⋅Π₄⋅Π₁⋅Π₃"
      ]
     },
     "metadata": {},
     "output_type": "display_data"
    },
    {
     "data": {
      "text/latex": [
       "$\\displaystyle - 0.485868271756646 Π_{2} Pd Π_{1} Π_{4} - 2.05817102727149 Π_{2} Pd Π_{2} Π_{4} + 2.77032771530715 Π_{2} Pd Π_{4} - 4.82849874257864 Π_{2} Pd Π_{4} Π_{1} Π_{4} - 1.15229372655726 Π_{2} Pd Π_{4} Π_{2} Π_{4}$"
      ],
      "text/plain": [
       "-0.485868271756646⋅Π₂⋅Pd⋅Π₁⋅Π₄ - 2.05817102727149⋅Π₂⋅Pd⋅Π₂⋅Π₄ + 2.770327715307\n",
       "15⋅Π₂⋅Pd⋅Π₄ - 4.82849874257864⋅Π₂⋅Pd⋅Π₄⋅Π₁⋅Π₄ - 1.15229372655726⋅Π₂⋅Pd⋅Π₄⋅Π₂⋅Π\n",
       "₄"
      ]
     },
     "metadata": {},
     "output_type": "display_data"
    },
    {
     "data": {
      "text/latex": [
       "$\\displaystyle - 0.272019649514071 Π_{2} Pd Π_{0} P - 0.485868271756646 Π_{2} Pd Π_{1} P + 3.33019067678556 Π_{2} Pd Π_{1} Π_{3} P - 2.05817102727149 Π_{2} Pd Π_{2} P + 2.77032771530716 Π_{2} Pd Π_{2} Π_{0} P + 2.77032771530715 Π_{2} Pd Π_{4} P - 4.82849874257864 Π_{2} Pd Π_{4} Π_{1} P - 1.15229372655726 Π_{2} Pd Π_{4} Π_{2} P$"
      ],
      "text/plain": [
       "-0.272019649514071⋅Π₂⋅Pd⋅Π₀⋅P - 0.485868271756646⋅Π₂⋅Pd⋅Π₁⋅P + 3.3301906767855\n",
       "6⋅Π₂⋅Pd⋅Π₁⋅Π₃⋅P - 2.05817102727149⋅Π₂⋅Pd⋅Π₂⋅P + 2.77032771530716⋅Π₂⋅Pd⋅Π₂⋅Π₀⋅P\n",
       " + 2.77032771530715⋅Π₂⋅Pd⋅Π₄⋅P - 4.82849874257864⋅Π₂⋅Pd⋅Π₄⋅Π₁⋅P - 1.1522937265\n",
       "5726⋅Π₂⋅Pd⋅Π₄⋅Π₂⋅P"
      ]
     },
     "metadata": {},
     "output_type": "display_data"
    },
    {
     "data": {
      "text/latex": [
       "$\\displaystyle - 0.272019649514071 Π_{2} Pd Π_{0} Pd - 0.485868271756646 Π_{2} Pd Π_{1} Pd + 3.33019067678556 Π_{2} Pd Π_{1} Π_{3} Pd - 2.05817102727149 Π_{2} Pd Π_{2} Pd + 2.77032771530716 Π_{2} Pd Π_{2} Π_{0} Pd + 2.77032771530715 Π_{2} Pd Π_{4} Pd - 4.82849874257864 Π_{2} Pd Π_{4} Π_{1} Pd - 1.15229372655726 Π_{2} Pd Π_{4} Π_{2} Pd$"
      ],
      "text/plain": [
       "-0.272019649514071⋅Π₂⋅Pd⋅Π₀⋅Pd - 0.485868271756646⋅Π₂⋅Pd⋅Π₁⋅Pd + 3.33019067678\n",
       "556⋅Π₂⋅Pd⋅Π₁⋅Π₃⋅Pd - 2.05817102727149⋅Π₂⋅Pd⋅Π₂⋅Pd + 2.77032771530716⋅Π₂⋅Pd⋅Π₂⋅\n",
       "Π₀⋅Pd + 2.77032771530715⋅Π₂⋅Pd⋅Π₄⋅Pd - 4.82849874257864⋅Π₂⋅Pd⋅Π₄⋅Π₁⋅Pd - 1.152\n",
       "29372655726⋅Π₂⋅Pd⋅Π₄⋅Π₂⋅Pd"
      ]
     },
     "metadata": {},
     "output_type": "display_data"
    },
    {
     "name": "stdout",
     "output_type": "stream",
     "text": [
      "on row: Π_3\n"
     ]
    },
    {
     "data": {
      "text/latex": [
       "$\\displaystyle - 0.272019649514071 Π_{3} Pd Π_{0} - 0.485868271756646 Π_{3} Pd Π_{1} + 3.33019067678556 Π_{3} Pd Π_{1} Π_{3} - 2.05817102727149 Π_{3} Pd Π_{2} + 2.77032771530716 Π_{3} Pd Π_{2} Π_{0} + 2.77032771530715 Π_{3} Pd Π_{4} - 4.82849874257864 Π_{3} Pd Π_{4} Π_{1} - 1.15229372655726 Π_{3} Pd Π_{4} Π_{2}$"
      ],
      "text/plain": [
       "-0.272019649514071⋅Π₃⋅Pd⋅Π₀ - 0.485868271756646⋅Π₃⋅Pd⋅Π₁ + 3.33019067678556⋅Π₃\n",
       "⋅Pd⋅Π₁⋅Π₃ - 2.05817102727149⋅Π₃⋅Pd⋅Π₂ + 2.77032771530716⋅Π₃⋅Pd⋅Π₂⋅Π₀ + 2.77032\n",
       "771530715⋅Π₃⋅Pd⋅Π₄ - 4.82849874257864⋅Π₃⋅Pd⋅Π₄⋅Π₁ - 1.15229372655726⋅Π₃⋅Pd⋅Π₄⋅\n",
       "Π₂"
      ]
     },
     "metadata": {},
     "output_type": "display_data"
    },
    {
     "data": {
      "text/latex": [
       "$\\displaystyle - 0.272019649514071 Π_{3} Pd Π_{0} + 3.33019067678556 Π_{3} Pd Π_{1} Π_{3} Π_{0} + 0.71215668803567 Π_{3} Pd Π_{2} Π_{0} - 1.15229372655726 Π_{3} Pd Π_{4} Π_{2} Π_{0}$"
      ],
      "text/plain": [
       "-0.272019649514071⋅Π₃⋅Pd⋅Π₀ + 3.33019067678556⋅Π₃⋅Pd⋅Π₁⋅Π₃⋅Π₀ + 0.712156688035\n",
       "67⋅Π₃⋅Pd⋅Π₂⋅Π₀ - 1.15229372655726⋅Π₃⋅Pd⋅Π₄⋅Π₂⋅Π₀"
      ]
     },
     "metadata": {},
     "output_type": "display_data"
    },
    {
     "data": {
      "text/latex": [
       "$\\displaystyle - 0.485868271756646 Π_{3} Pd Π_{1} + 3.33019067678556 Π_{3} Pd Π_{1} Π_{3} Π_{1} - 2.05817102727149 Π_{3} Pd Π_{4} Π_{1}$"
      ],
      "text/plain": [
       "-0.485868271756646⋅Π₃⋅Pd⋅Π₁ + 3.33019067678556⋅Π₃⋅Pd⋅Π₁⋅Π₃⋅Π₁ - 2.058171027271\n",
       "49⋅Π₃⋅Pd⋅Π₄⋅Π₁"
      ]
     },
     "metadata": {},
     "output_type": "display_data"
    },
    {
     "data": {
      "text/latex": [
       "$\\displaystyle - 0.272019649514071 Π_{3} Pd Π_{0} Π_{2} - 2.05817102727149 Π_{3} Pd Π_{2} + 2.77032771530716 Π_{3} Pd Π_{2} Π_{0} Π_{2} + 1.6180339887499 Π_{3} Pd Π_{4} Π_{2}$"
      ],
      "text/plain": [
       "-0.272019649514071⋅Π₃⋅Pd⋅Π₀⋅Π₂ - 2.05817102727149⋅Π₃⋅Pd⋅Π₂ + 2.77032771530716⋅\n",
       "Π₃⋅Pd⋅Π₂⋅Π₀⋅Π₂ + 1.6180339887499⋅Π₃⋅Pd⋅Π₄⋅Π₂"
      ]
     },
     "metadata": {},
     "output_type": "display_data"
    },
    {
     "data": {
      "text/latex": [
       "$\\displaystyle - 0.272019649514071 Π_{3} Pd Π_{0} Π_{3} + 2.84432240502891 Π_{3} Pd Π_{1} Π_{3} + 2.77032771530716 Π_{3} Pd Π_{2} Π_{0} Π_{3} - 4.82849874257864 Π_{3} Pd Π_{4} Π_{1} Π_{3}$"
      ],
      "text/plain": [
       "-0.272019649514071⋅Π₃⋅Pd⋅Π₀⋅Π₃ + 2.84432240502891⋅Π₃⋅Pd⋅Π₁⋅Π₃ + 2.770327715307\n",
       "16⋅Π₃⋅Pd⋅Π₂⋅Π₀⋅Π₃ - 4.82849874257864⋅Π₃⋅Pd⋅Π₄⋅Π₁⋅Π₃"
      ]
     },
     "metadata": {},
     "output_type": "display_data"
    },
    {
     "data": {
      "text/latex": [
       "$\\displaystyle - 0.485868271756646 Π_{3} Pd Π_{1} Π_{4} - 2.05817102727149 Π_{3} Pd Π_{2} Π_{4} + 2.77032771530715 Π_{3} Pd Π_{4} - 4.82849874257864 Π_{3} Pd Π_{4} Π_{1} Π_{4} - 1.15229372655726 Π_{3} Pd Π_{4} Π_{2} Π_{4}$"
      ],
      "text/plain": [
       "-0.485868271756646⋅Π₃⋅Pd⋅Π₁⋅Π₄ - 2.05817102727149⋅Π₃⋅Pd⋅Π₂⋅Π₄ + 2.770327715307\n",
       "15⋅Π₃⋅Pd⋅Π₄ - 4.82849874257864⋅Π₃⋅Pd⋅Π₄⋅Π₁⋅Π₄ - 1.15229372655726⋅Π₃⋅Pd⋅Π₄⋅Π₂⋅Π\n",
       "₄"
      ]
     },
     "metadata": {},
     "output_type": "display_data"
    },
    {
     "data": {
      "text/latex": [
       "$\\displaystyle - 0.272019649514071 Π_{3} Pd Π_{0} P - 0.485868271756646 Π_{3} Pd Π_{1} P + 3.33019067678556 Π_{3} Pd Π_{1} Π_{3} P - 2.05817102727149 Π_{3} Pd Π_{2} P + 2.77032771530716 Π_{3} Pd Π_{2} Π_{0} P + 2.77032771530715 Π_{3} Pd Π_{4} P - 4.82849874257864 Π_{3} Pd Π_{4} Π_{1} P - 1.15229372655726 Π_{3} Pd Π_{4} Π_{2} P$"
      ],
      "text/plain": [
       "-0.272019649514071⋅Π₃⋅Pd⋅Π₀⋅P - 0.485868271756646⋅Π₃⋅Pd⋅Π₁⋅P + 3.3301906767855\n",
       "6⋅Π₃⋅Pd⋅Π₁⋅Π₃⋅P - 2.05817102727149⋅Π₃⋅Pd⋅Π₂⋅P + 2.77032771530716⋅Π₃⋅Pd⋅Π₂⋅Π₀⋅P\n",
       " + 2.77032771530715⋅Π₃⋅Pd⋅Π₄⋅P - 4.82849874257864⋅Π₃⋅Pd⋅Π₄⋅Π₁⋅P - 1.1522937265\n",
       "5726⋅Π₃⋅Pd⋅Π₄⋅Π₂⋅P"
      ]
     },
     "metadata": {},
     "output_type": "display_data"
    },
    {
     "data": {
      "text/latex": [
       "$\\displaystyle - 0.272019649514071 Π_{3} Pd Π_{0} Pd - 0.485868271756646 Π_{3} Pd Π_{1} Pd + 3.33019067678556 Π_{3} Pd Π_{1} Π_{3} Pd - 2.05817102727149 Π_{3} Pd Π_{2} Pd + 2.77032771530716 Π_{3} Pd Π_{2} Π_{0} Pd + 2.77032771530715 Π_{3} Pd Π_{4} Pd - 4.82849874257864 Π_{3} Pd Π_{4} Π_{1} Pd - 1.15229372655726 Π_{3} Pd Π_{4} Π_{2} Pd$"
      ],
      "text/plain": [
       "-0.272019649514071⋅Π₃⋅Pd⋅Π₀⋅Pd - 0.485868271756646⋅Π₃⋅Pd⋅Π₁⋅Pd + 3.33019067678\n",
       "556⋅Π₃⋅Pd⋅Π₁⋅Π₃⋅Pd - 2.05817102727149⋅Π₃⋅Pd⋅Π₂⋅Pd + 2.77032771530716⋅Π₃⋅Pd⋅Π₂⋅\n",
       "Π₀⋅Pd + 2.77032771530715⋅Π₃⋅Pd⋅Π₄⋅Pd - 4.82849874257864⋅Π₃⋅Pd⋅Π₄⋅Π₁⋅Pd - 1.152\n",
       "29372655726⋅Π₃⋅Pd⋅Π₄⋅Π₂⋅Pd"
      ]
     },
     "metadata": {},
     "output_type": "display_data"
    },
    {
     "name": "stdout",
     "output_type": "stream",
     "text": [
      "on row: Π_4\n"
     ]
    },
    {
     "data": {
      "text/latex": [
       "$\\displaystyle - 0.272019649514071 Π_{4} Pd Π_{0} - 0.485868271756646 Π_{4} Pd Π_{1} + 3.33019067678556 Π_{4} Pd Π_{1} Π_{3} - 2.05817102727149 Π_{4} Pd Π_{2} + 2.77032771530716 Π_{4} Pd Π_{2} Π_{0} + 2.77032771530715 Π_{4} Pd Π_{4} - 4.82849874257864 Π_{4} Pd Π_{4} Π_{1} - 1.15229372655726 Π_{4} Pd Π_{4} Π_{2}$"
      ],
      "text/plain": [
       "-0.272019649514071⋅Π₄⋅Pd⋅Π₀ - 0.485868271756646⋅Π₄⋅Pd⋅Π₁ + 3.33019067678556⋅Π₄\n",
       "⋅Pd⋅Π₁⋅Π₃ - 2.05817102727149⋅Π₄⋅Pd⋅Π₂ + 2.77032771530716⋅Π₄⋅Pd⋅Π₂⋅Π₀ + 2.77032\n",
       "771530715⋅Π₄⋅Pd⋅Π₄ - 4.82849874257864⋅Π₄⋅Pd⋅Π₄⋅Π₁ - 1.15229372655726⋅Π₄⋅Pd⋅Π₄⋅\n",
       "Π₂"
      ]
     },
     "metadata": {},
     "output_type": "display_data"
    },
    {
     "data": {
      "text/latex": [
       "$\\displaystyle - 0.272019649514071 Π_{4} Pd Π_{0} + 3.33019067678556 Π_{4} Pd Π_{1} Π_{3} Π_{0} + 0.71215668803567 Π_{4} Pd Π_{2} Π_{0} - 1.15229372655726 Π_{4} Pd Π_{4} Π_{2} Π_{0}$"
      ],
      "text/plain": [
       "-0.272019649514071⋅Π₄⋅Pd⋅Π₀ + 3.33019067678556⋅Π₄⋅Pd⋅Π₁⋅Π₃⋅Π₀ + 0.712156688035\n",
       "67⋅Π₄⋅Pd⋅Π₂⋅Π₀ - 1.15229372655726⋅Π₄⋅Pd⋅Π₄⋅Π₂⋅Π₀"
      ]
     },
     "metadata": {},
     "output_type": "display_data"
    },
    {
     "data": {
      "text/latex": [
       "$\\displaystyle - 0.485868271756646 Π_{4} Pd Π_{1} + 3.33019067678556 Π_{4} Pd Π_{1} Π_{3} Π_{1} - 2.05817102727149 Π_{4} Pd Π_{4} Π_{1}$"
      ],
      "text/plain": [
       "-0.485868271756646⋅Π₄⋅Pd⋅Π₁ + 3.33019067678556⋅Π₄⋅Pd⋅Π₁⋅Π₃⋅Π₁ - 2.058171027271\n",
       "49⋅Π₄⋅Pd⋅Π₄⋅Π₁"
      ]
     },
     "metadata": {},
     "output_type": "display_data"
    },
    {
     "data": {
      "text/latex": [
       "$\\displaystyle - 0.272019649514071 Π_{4} Pd Π_{0} Π_{2} - 2.05817102727149 Π_{4} Pd Π_{2} + 2.77032771530716 Π_{4} Pd Π_{2} Π_{0} Π_{2} + 1.6180339887499 Π_{4} Pd Π_{4} Π_{2}$"
      ],
      "text/plain": [
       "-0.272019649514071⋅Π₄⋅Pd⋅Π₀⋅Π₂ - 2.05817102727149⋅Π₄⋅Pd⋅Π₂ + 2.77032771530716⋅\n",
       "Π₄⋅Pd⋅Π₂⋅Π₀⋅Π₂ + 1.6180339887499⋅Π₄⋅Pd⋅Π₄⋅Π₂"
      ]
     },
     "metadata": {},
     "output_type": "display_data"
    },
    {
     "data": {
      "text/latex": [
       "$\\displaystyle - 0.272019649514071 Π_{4} Pd Π_{0} Π_{3} + 2.84432240502891 Π_{4} Pd Π_{1} Π_{3} + 2.77032771530716 Π_{4} Pd Π_{2} Π_{0} Π_{3} - 4.82849874257864 Π_{4} Pd Π_{4} Π_{1} Π_{3}$"
      ],
      "text/plain": [
       "-0.272019649514071⋅Π₄⋅Pd⋅Π₀⋅Π₃ + 2.84432240502891⋅Π₄⋅Pd⋅Π₁⋅Π₃ + 2.770327715307\n",
       "16⋅Π₄⋅Pd⋅Π₂⋅Π₀⋅Π₃ - 4.82849874257864⋅Π₄⋅Pd⋅Π₄⋅Π₁⋅Π₃"
      ]
     },
     "metadata": {},
     "output_type": "display_data"
    },
    {
     "data": {
      "text/latex": [
       "$\\displaystyle - 0.485868271756646 Π_{4} Pd Π_{1} Π_{4} - 2.05817102727149 Π_{4} Pd Π_{2} Π_{4} + 2.77032771530715 Π_{4} Pd Π_{4} - 4.82849874257864 Π_{4} Pd Π_{4} Π_{1} Π_{4} - 1.15229372655726 Π_{4} Pd Π_{4} Π_{2} Π_{4}$"
      ],
      "text/plain": [
       "-0.485868271756646⋅Π₄⋅Pd⋅Π₁⋅Π₄ - 2.05817102727149⋅Π₄⋅Pd⋅Π₂⋅Π₄ + 2.770327715307\n",
       "15⋅Π₄⋅Pd⋅Π₄ - 4.82849874257864⋅Π₄⋅Pd⋅Π₄⋅Π₁⋅Π₄ - 1.15229372655726⋅Π₄⋅Pd⋅Π₄⋅Π₂⋅Π\n",
       "₄"
      ]
     },
     "metadata": {},
     "output_type": "display_data"
    },
    {
     "data": {
      "text/latex": [
       "$\\displaystyle - 0.272019649514071 Π_{4} Pd Π_{0} P - 0.485868271756646 Π_{4} Pd Π_{1} P + 3.33019067678556 Π_{4} Pd Π_{1} Π_{3} P - 2.05817102727149 Π_{4} Pd Π_{2} P + 2.77032771530716 Π_{4} Pd Π_{2} Π_{0} P + 2.77032771530715 Π_{4} Pd Π_{4} P - 4.82849874257864 Π_{4} Pd Π_{4} Π_{1} P - 1.15229372655726 Π_{4} Pd Π_{4} Π_{2} P$"
      ],
      "text/plain": [
       "-0.272019649514071⋅Π₄⋅Pd⋅Π₀⋅P - 0.485868271756646⋅Π₄⋅Pd⋅Π₁⋅P + 3.3301906767855\n",
       "6⋅Π₄⋅Pd⋅Π₁⋅Π₃⋅P - 2.05817102727149⋅Π₄⋅Pd⋅Π₂⋅P + 2.77032771530716⋅Π₄⋅Pd⋅Π₂⋅Π₀⋅P\n",
       " + 2.77032771530715⋅Π₄⋅Pd⋅Π₄⋅P - 4.82849874257864⋅Π₄⋅Pd⋅Π₄⋅Π₁⋅P - 1.1522937265\n",
       "5726⋅Π₄⋅Pd⋅Π₄⋅Π₂⋅P"
      ]
     },
     "metadata": {},
     "output_type": "display_data"
    },
    {
     "data": {
      "text/latex": [
       "$\\displaystyle - 0.272019649514071 Π_{4} Pd Π_{0} Pd - 0.485868271756646 Π_{4} Pd Π_{1} Pd + 3.33019067678556 Π_{4} Pd Π_{1} Π_{3} Pd - 2.05817102727149 Π_{4} Pd Π_{2} Pd + 2.77032771530716 Π_{4} Pd Π_{2} Π_{0} Pd + 2.77032771530715 Π_{4} Pd Π_{4} Pd - 4.82849874257864 Π_{4} Pd Π_{4} Π_{1} Pd - 1.15229372655726 Π_{4} Pd Π_{4} Π_{2} Pd$"
      ],
      "text/plain": [
       "-0.272019649514071⋅Π₄⋅Pd⋅Π₀⋅Pd - 0.485868271756646⋅Π₄⋅Pd⋅Π₁⋅Pd + 3.33019067678\n",
       "556⋅Π₄⋅Pd⋅Π₁⋅Π₃⋅Pd - 2.05817102727149⋅Π₄⋅Pd⋅Π₂⋅Pd + 2.77032771530716⋅Π₄⋅Pd⋅Π₂⋅\n",
       "Π₀⋅Pd + 2.77032771530715⋅Π₄⋅Pd⋅Π₄⋅Pd - 4.82849874257864⋅Π₄⋅Pd⋅Π₄⋅Π₁⋅Pd - 1.152\n",
       "29372655726⋅Π₄⋅Pd⋅Π₄⋅Π₂⋅Pd"
      ]
     },
     "metadata": {},
     "output_type": "display_data"
    },
    {
     "name": "stdout",
     "output_type": "stream",
     "text": [
      "on row: P\n"
     ]
    },
    {
     "data": {
      "text/latex": [
       "$\\displaystyle - 0.272019649514071 Π_{0} - 0.485868271756646 Π_{1} + 3.33019067678556 Π_{1} Π_{3} - 2.05817102727149 Π_{2} + 2.77032771530716 Π_{2} Π_{0} + 2.77032771530715 Π_{4} - 4.82849874257864 Π_{4} Π_{1} - 1.15229372655726 Π_{4} Π_{2}$"
      ],
      "text/plain": [
       "-0.272019649514071⋅Π₀ - 0.485868271756646⋅Π₁ + 3.33019067678556⋅Π₁⋅Π₃ - 2.0581\n",
       "7102727149⋅Π₂ + 2.77032771530716⋅Π₂⋅Π₀ + 2.77032771530715⋅Π₄ - 4.8284987425786\n",
       "4⋅Π₄⋅Π₁ - 1.15229372655726⋅Π₄⋅Π₂"
      ]
     },
     "metadata": {},
     "output_type": "display_data"
    },
    {
     "data": {
      "text/latex": [
       "$\\displaystyle - 0.272019649514071 Π_{0} + 3.33019067678556 Π_{1} Π_{3} Π_{0} + 0.71215668803567 Π_{2} Π_{0} - 1.15229372655726 Π_{4} Π_{2} Π_{0}$"
      ],
      "text/plain": [
       "-0.272019649514071⋅Π₀ + 3.33019067678556⋅Π₁⋅Π₃⋅Π₀ + 0.71215668803567⋅Π₂⋅Π₀ - 1\n",
       ".15229372655726⋅Π₄⋅Π₂⋅Π₀"
      ]
     },
     "metadata": {},
     "output_type": "display_data"
    },
    {
     "data": {
      "text/latex": [
       "$\\displaystyle - 0.485868271756646 Π_{1} + 3.33019067678556 Π_{1} Π_{3} Π_{1} - 2.05817102727149 Π_{4} Π_{1}$"
      ],
      "text/plain": [
       "-0.485868271756646⋅Π₁ + 3.33019067678556⋅Π₁⋅Π₃⋅Π₁ - 2.05817102727149⋅Π₄⋅Π₁"
      ]
     },
     "metadata": {},
     "output_type": "display_data"
    },
    {
     "data": {
      "text/latex": [
       "$\\displaystyle - 0.272019649514071 Π_{0} Π_{2} - 2.05817102727149 Π_{2} + 2.77032771530716 Π_{2} Π_{0} Π_{2} + 1.6180339887499 Π_{4} Π_{2}$"
      ],
      "text/plain": [
       "-0.272019649514071⋅Π₀⋅Π₂ - 2.05817102727149⋅Π₂ + 2.77032771530716⋅Π₂⋅Π₀⋅Π₂ + 1\n",
       ".6180339887499⋅Π₄⋅Π₂"
      ]
     },
     "metadata": {},
     "output_type": "display_data"
    },
    {
     "data": {
      "text/latex": [
       "$\\displaystyle - 0.272019649514071 Π_{0} Π_{3} + 2.84432240502891 Π_{1} Π_{3} + 2.77032771530716 Π_{2} Π_{0} Π_{3} - 4.82849874257864 Π_{4} Π_{1} Π_{3}$"
      ],
      "text/plain": [
       "-0.272019649514071⋅Π₀⋅Π₃ + 2.84432240502891⋅Π₁⋅Π₃ + 2.77032771530716⋅Π₂⋅Π₀⋅Π₃ \n",
       "- 4.82849874257864⋅Π₄⋅Π₁⋅Π₃"
      ]
     },
     "metadata": {},
     "output_type": "display_data"
    },
    {
     "data": {
      "text/latex": [
       "$\\displaystyle - 0.485868271756646 Π_{1} Π_{4} - 2.05817102727149 Π_{2} Π_{4} + 2.77032771530715 Π_{4} - 4.82849874257864 Π_{4} Π_{1} Π_{4} - 1.15229372655726 Π_{4} Π_{2} Π_{4}$"
      ],
      "text/plain": [
       "-0.485868271756646⋅Π₁⋅Π₄ - 2.05817102727149⋅Π₂⋅Π₄ + 2.77032771530715⋅Π₄ - 4.82\n",
       "849874257864⋅Π₄⋅Π₁⋅Π₄ - 1.15229372655726⋅Π₄⋅Π₂⋅Π₄"
      ]
     },
     "metadata": {},
     "output_type": "display_data"
    },
    {
     "data": {
      "text/latex": [
       "$\\displaystyle - 0.272019649514071 Π_{0} P - 0.485868271756646 Π_{1} P + 3.33019067678556 Π_{1} Π_{3} P - 2.05817102727149 Π_{2} P + 2.77032771530716 Π_{2} Π_{0} P + 2.77032771530715 Π_{4} P - 4.82849874257864 Π_{4} Π_{1} P - 1.15229372655726 Π_{4} Π_{2} P$"
      ],
      "text/plain": [
       "-0.272019649514071⋅Π₀⋅P - 0.485868271756646⋅Π₁⋅P + 3.33019067678556⋅Π₁⋅Π₃⋅P - \n",
       "2.05817102727149⋅Π₂⋅P + 2.77032771530716⋅Π₂⋅Π₀⋅P + 2.77032771530715⋅Π₄⋅P - 4.8\n",
       "2849874257864⋅Π₄⋅Π₁⋅P - 1.15229372655726⋅Π₄⋅Π₂⋅P"
      ]
     },
     "metadata": {},
     "output_type": "display_data"
    },
    {
     "data": {
      "text/latex": [
       "$\\displaystyle - 0.272019649514071 Π_{0} Pd - 0.485868271756646 Π_{1} Pd + 3.33019067678556 Π_{1} Π_{3} Pd - 2.05817102727149 Π_{2} Pd + 2.77032771530716 Π_{2} Π_{0} Pd + 2.77032771530715 Π_{4} Pd - 4.82849874257864 Π_{4} Π_{1} Pd - 1.15229372655726 Π_{4} Π_{2} Pd$"
      ],
      "text/plain": [
       "-0.272019649514071⋅Π₀⋅Pd - 0.485868271756646⋅Π₁⋅Pd + 3.33019067678556⋅Π₁⋅Π₃⋅Pd\n",
       " - 2.05817102727149⋅Π₂⋅Pd + 2.77032771530716⋅Π₂⋅Π₀⋅Pd + 2.77032771530715⋅Π₄⋅Pd\n",
       " - 4.82849874257864⋅Π₄⋅Π₁⋅Pd - 1.15229372655726⋅Π₄⋅Π₂⋅Pd"
      ]
     },
     "metadata": {},
     "output_type": "display_data"
    },
    {
     "name": "stdout",
     "output_type": "stream",
     "text": [
      "on row: Pd\n"
     ]
    },
    {
     "data": {
      "text/latex": [
       "$\\displaystyle - 0.272019649514071 Pd^{2} Π_{0} - 0.485868271756646 Pd^{2} Π_{1} + 3.33019067678556 Pd^{2} Π_{1} Π_{3} - 2.05817102727149 Pd^{2} Π_{2} + 2.77032771530716 Pd^{2} Π_{2} Π_{0} + 2.77032771530715 Pd^{2} Π_{4} - 4.82849874257864 Pd^{2} Π_{4} Π_{1} - 1.15229372655726 Pd^{2} Π_{4} Π_{2}$"
      ],
      "text/plain": [
       "                      2                          2                         2  \n",
       "- 0.272019649514071⋅Pd ⋅Π₀ - 0.485868271756646⋅Pd ⋅Π₁ + 3.33019067678556⋅Pd ⋅Π\n",
       "\n",
       "                          2                         2                         \n",
       "₁⋅Π₃ - 2.05817102727149⋅Pd ⋅Π₂ + 2.77032771530716⋅Pd ⋅Π₂⋅Π₀ + 2.77032771530715\n",
       "\n",
       "   2                         2                            2      \n",
       "⋅Pd ⋅Π₄ - 4.82849874257864⋅Pd ⋅Π₄⋅Π₁ - 1.15229372655726⋅Pd ⋅Π₄⋅Π₂"
      ]
     },
     "metadata": {},
     "output_type": "display_data"
    },
    {
     "data": {
      "text/latex": [
       "$\\displaystyle - 0.272019649514071 Pd^{2} Π_{0} + 3.33019067678556 Pd^{2} Π_{1} Π_{3} Π_{0} + 0.71215668803567 Pd^{2} Π_{2} Π_{0} - 1.15229372655726 Pd^{2} Π_{4} Π_{2} Π_{0}$"
      ],
      "text/plain": [
       "                      2                         2                             \n",
       "- 0.272019649514071⋅Pd ⋅Π₀ + 3.33019067678556⋅Pd ⋅Π₁⋅Π₃⋅Π₀ + 0.71215668803567⋅\n",
       "\n",
       "  2                            2         \n",
       "Pd ⋅Π₂⋅Π₀ - 1.15229372655726⋅Pd ⋅Π₄⋅Π₂⋅Π₀"
      ]
     },
     "metadata": {},
     "output_type": "display_data"
    },
    {
     "data": {
      "text/latex": [
       "$\\displaystyle - 0.485868271756646 Pd^{2} Π_{1} + 3.33019067678556 Pd^{2} Π_{1} Π_{3} Π_{1} - 2.05817102727149 Pd^{2} Π_{4} Π_{1}$"
      ],
      "text/plain": [
       "                      2                         2                             \n",
       "- 0.485868271756646⋅Pd ⋅Π₁ + 3.33019067678556⋅Pd ⋅Π₁⋅Π₃⋅Π₁ - 2.05817102727149⋅\n",
       "\n",
       "  2      \n",
       "Pd ⋅Π₄⋅Π₁"
      ]
     },
     "metadata": {},
     "output_type": "display_data"
    },
    {
     "data": {
      "text/latex": [
       "$\\displaystyle - 0.272019649514071 Pd^{2} Π_{0} Π_{2} - 2.05817102727149 Pd^{2} Π_{2} + 2.77032771530716 Pd^{2} Π_{2} Π_{0} Π_{2} + 1.6180339887499 Pd^{2} Π_{4} Π_{2}$"
      ],
      "text/plain": [
       "                      2                            2                         2\n",
       "- 0.272019649514071⋅Pd ⋅Π₀⋅Π₂ - 2.05817102727149⋅Pd ⋅Π₂ + 2.77032771530716⋅Pd \n",
       "\n",
       "                              2      \n",
       "⋅Π₂⋅Π₀⋅Π₂ + 1.6180339887499⋅Pd ⋅Π₄⋅Π₂"
      ]
     },
     "metadata": {},
     "output_type": "display_data"
    },
    {
     "data": {
      "text/latex": [
       "$\\displaystyle - 0.272019649514071 Pd^{2} Π_{0} Π_{3} + 2.84432240502891 Pd^{2} Π_{1} Π_{3} + 2.77032771530716 Pd^{2} Π_{2} Π_{0} Π_{3} - 4.82849874257864 Pd^{2} Π_{4} Π_{1} Π_{3}$"
      ],
      "text/plain": [
       "                      2                            2                          \n",
       "- 0.272019649514071⋅Pd ⋅Π₀⋅Π₃ + 2.84432240502891⋅Pd ⋅Π₁⋅Π₃ + 2.77032771530716⋅\n",
       "\n",
       "  2                               2         \n",
       "Pd ⋅Π₂⋅Π₀⋅Π₃ - 4.82849874257864⋅Pd ⋅Π₄⋅Π₁⋅Π₃"
      ]
     },
     "metadata": {},
     "output_type": "display_data"
    },
    {
     "data": {
      "text/latex": [
       "$\\displaystyle - 0.485868271756646 Pd^{2} Π_{1} Π_{4} - 2.05817102727149 Pd^{2} Π_{2} Π_{4} + 2.77032771530715 Pd^{2} Π_{4} - 4.82849874257864 Pd^{2} Π_{4} Π_{1} Π_{4} - 1.15229372655726 Pd^{2} Π_{4} Π_{2} Π_{4}$"
      ],
      "text/plain": [
       "                      2                            2                          \n",
       "- 0.485868271756646⋅Pd ⋅Π₁⋅Π₄ - 2.05817102727149⋅Pd ⋅Π₂⋅Π₄ + 2.77032771530715⋅\n",
       "\n",
       "  2                         2                               2         \n",
       "Pd ⋅Π₄ - 4.82849874257864⋅Pd ⋅Π₄⋅Π₁⋅Π₄ - 1.15229372655726⋅Pd ⋅Π₄⋅Π₂⋅Π₄"
      ]
     },
     "metadata": {},
     "output_type": "display_data"
    },
    {
     "data": {
      "text/latex": [
       "$\\displaystyle - 0.272019649514071 Pd^{2} Π_{0} P - 0.485868271756646 Pd^{2} Π_{1} P + 3.33019067678556 Pd^{2} Π_{1} Π_{3} P - 2.05817102727149 Pd^{2} Π_{2} P + 2.77032771530716 Pd^{2} Π_{2} Π_{0} P + 2.77032771530715 Pd^{2} Π_{4} P - 4.82849874257864 Pd^{2} Π_{4} Π_{1} P - 1.15229372655726 Pd^{2} Π_{4} Π_{2} P$"
      ],
      "text/plain": [
       "                      2                            2                          \n",
       "- 0.272019649514071⋅Pd ⋅Π₀⋅P - 0.485868271756646⋅Pd ⋅Π₁⋅P + 3.33019067678556⋅P\n",
       "\n",
       " 2                              2                           2                 \n",
       "d ⋅Π₁⋅Π₃⋅P - 2.05817102727149⋅Pd ⋅Π₂⋅P + 2.77032771530716⋅Pd ⋅Π₂⋅Π₀⋅P + 2.7703\n",
       "\n",
       "             2                           2                              2     \n",
       "2771530715⋅Pd ⋅Π₄⋅P - 4.82849874257864⋅Pd ⋅Π₄⋅Π₁⋅P - 1.15229372655726⋅Pd ⋅Π₄⋅Π\n",
       "\n",
       "   \n",
       "₂⋅P"
      ]
     },
     "metadata": {},
     "output_type": "display_data"
    },
    {
     "data": {
      "text/latex": [
       "$\\displaystyle - 0.272019649514071 Pd^{2} Π_{0} Pd - 0.485868271756646 Pd^{2} Π_{1} Pd + 3.33019067678556 Pd^{2} Π_{1} Π_{3} Pd - 2.05817102727149 Pd^{2} Π_{2} Pd + 2.77032771530716 Pd^{2} Π_{2} Π_{0} Pd + 2.77032771530715 Pd^{2} Π_{4} Pd - 4.82849874257864 Pd^{2} Π_{4} Π_{1} Pd - 1.15229372655726 Pd^{2} Π_{4} Π_{2} Pd$"
      ],
      "text/plain": [
       "                      2                             2                         \n",
       "- 0.272019649514071⋅Pd ⋅Π₀⋅Pd - 0.485868271756646⋅Pd ⋅Π₁⋅Pd + 3.33019067678556\n",
       "\n",
       "   2                               2                            2             \n",
       "⋅Pd ⋅Π₁⋅Π₃⋅Pd - 2.05817102727149⋅Pd ⋅Π₂⋅Pd + 2.77032771530716⋅Pd ⋅Π₂⋅Π₀⋅Pd + 2\n",
       "\n",
       "                  2                            2                              \n",
       ".77032771530715⋅Pd ⋅Π₄⋅Pd - 4.82849874257864⋅Pd ⋅Π₄⋅Π₁⋅Pd - 1.15229372655726⋅P\n",
       "\n",
       " 2         \n",
       "d ⋅Π₄⋅Π₂⋅Pd"
      ]
     },
     "metadata": {},
     "output_type": "display_data"
    },
    {
     "name": "stdout",
     "output_type": "stream",
     "text": [
      "Saved to disk\n",
      "Done. Size: 8\n"
     ]
    }
   ],
   "source": [
    "#Localising Matrix Constraints\n",
    "\n",
    "#I use cp.Variables() to create variables on the fly\n",
    "#Fined a way of deleting them if it is run again\n",
    "\n",
    "try:\n",
    "    for _ in newCpVars:\n",
    "        del _\n",
    "    del newCpVars\n",
    "except:\n",
    "    pass\n",
    "\n",
    "newCpVars = []\n",
    "    \n",
    "\n",
    "locMatDepth=1\n",
    "#e.g. if locMatDepth=1, it only uses single letters to construct the localising matrix\n",
    "\n",
    "fileName=cacheFolder+\"localisingSave_1_testType_\"+str(testType)+\"_hDepth_\"+str(hDepth)+\"_lenL_\"+str(len(L))+\"_locMatDepth_\"+str(locMatDepth)\n",
    "force=True \n",
    "printVerbose=True\n",
    "\n",
    "try:\n",
    "    if(force==False):\n",
    "        print(\"Loading from file\",fileName)\n",
    "        loadedThis=dill.load(open(fileName, \"rb\"))\n",
    "        [locConstraints,lM,M]=loadedThis\n",
    "\n",
    "    #just checking\n",
    "        lM = cp.bmat(M) #this converts the list M into a matrix which can be used to impose constraints in cvxpy\n",
    "        locConstraints = [lM >> 0]\n",
    "        print(\"Done\")\n",
    "        print(\"MatSize\",len(M))\n",
    "except:\n",
    "    loadedThis=None\n",
    "\n",
    "\n",
    "\n",
    "if(force==True or loadedThis==None):\n",
    "    M = []\n",
    "    #make it generalisable\n",
    "    #if(usePs==True)\n",
    "    if(hDepth>=3 and len(L1)>5):\n",
    "\n",
    "        print(\"Localising matrix constraints...\")\n",
    "        \n",
    "        #Construct a restricted set from L\n",
    "        LlocMatDepth=[]\n",
    "        for lett in L:\n",
    "            #print(lett)\n",
    "            if (isinstance(lett,sp.Number)):\n",
    "                LlocMatDepth.append(lett)\n",
    "            elif (len(pow_to_single_mul(lett).args)<=locMatDepth):\n",
    "                LlocMatDepth.append(lett)\n",
    "        print(LlocMatDepth)\n",
    "        for lett1 in LlocMatDepth:\n",
    "            #goes up to two letters            \n",
    "            print(\"on row:\",lett1)\n",
    "            row = []\n",
    "            for lett2 in LlocMatDepth:      \n",
    "                #I need to conjugate because I am constructing the\n",
    "                #matrix in this order\n",
    "                #trying without conjugating\n",
    "                try: del expr\n",
    "                except: pass\n",
    "                expr = sp.expand(conj(lett1)*B[0]*iKCBS._T*lett2).subs(gDicts).subs(sqDicts).subs(gDicts).subs(sqDicts)\n",
    "                #expr = sp.expand(conj(lett1)*B[1]*iKCBS._T*lett2).subs(gDicts).subs(sqDicts).subs(gDicts).subs(sqDicts)\n",
    "                # print(\"the expression\")\n",
    "                if(printVerbose):\n",
    "                    display(expr)\n",
    "                #res = None\n",
    "                res = 0\n",
    "                if expr != sp.Integer(0):\n",
    "                    #if there are many terms in the sum, sum over them\n",
    "                    if(isinstance(expr,sp.Add)):\n",
    "                        for _ in expr.args:\n",
    "                            #print(\"Going in\")\n",
    "                            res_ = lettersForExpr(_,silent=True)\n",
    "                            #print(\"printing res \")\n",
    "                            #print(res_)\n",
    "                            try:\n",
    "                                __ = res_[2]*X[sTr[res_[0]]][sTc[res_[1]]]      \n",
    "                                res += __ #this will contain something like 1.13*Π_1*Π_2 + 1.42*Π_1*Π_2\n",
    "                            except:\n",
    "                                pass\n",
    "                                #the constraint belongs to a level of heirarchy not being considered\n",
    "                    #If it is just one term, compute directly\n",
    "                    else:\n",
    "                        res_ = lettersForExpr(expr,silent=True)\n",
    "                        #print(\"printing res \")\n",
    "                        #print(res_)\n",
    "\n",
    "                        try:\n",
    "                            __ = res_[2]*X[sTr[res_[0]]][sTc[res_[1]]]            \n",
    "                            res += __ #this will contain something like 1.13*Π_1*Π_2 + 1.42*Π_1*Π_2\n",
    "                        except:\n",
    "                            pass\n",
    "                            #constraint is in a higher level of the heirarchy;                 \n",
    "                if(not res is 0):\n",
    "                    row.append(res) #this appends that calculation into the row\n",
    "                else:\n",
    "                    var = cp.Variable()\n",
    "                    row.append(var) #(cp.Constant(0))\n",
    "                    newCpVars.append(var)\n",
    "                    \n",
    "            #if(len(row)>0):\n",
    "            M.append(row) #this appends the row into the list M\n",
    "\n",
    "        lM = cp.bmat(M) #this converts the list M into a matrix which can be used to impose constraints in cvxpy\n",
    "\n",
    "\n",
    "        locConstraints = [lM >> 0]\n",
    "\n",
    "        dill.dump([locConstraints,lM,M], open(fileName, \"wb\"))\n",
    "        print(\"Saved to disk\")        \n",
    "        print(\"Done. Size:\",len(M))"
   ]
  },
  {
   "cell_type": "code",
   "execution_count": null,
   "metadata": {
    "scrolled": false
   },
   "outputs": [],
   "source": [
    "# print(len(M),len(M[0]))\n",
    "# for _ in range(len(M)):\n",
    "#     print(len(M[_]))"
   ]
  },
  {
   "cell_type": "code",
   "execution_count": null,
   "metadata": {
    "scrolled": false
   },
   "outputs": [],
   "source": [
    "#print(M)"
   ]
  },
  {
   "cell_type": "markdown",
   "metadata": {},
   "source": [
    "## Observed Constraints"
   ]
  },
  {
   "cell_type": "code",
   "execution_count": null,
   "metadata": {
    "scrolled": false
   },
   "outputs": [],
   "source": [
    "# for _ in Lx:\n",
    "#     display(conj(_),_)"
   ]
  },
  {
   "cell_type": "code",
   "execution_count": 30,
   "metadata": {
    "init_cell": true
   },
   "outputs": [
    {
     "name": "stdout",
     "output_type": "stream",
     "text": [
      "Observed values; Adding constraints\n",
      "Done.\n"
     ]
    }
   ],
   "source": [
    "#######################Constraints from the observations\n",
    "obsConstraints=[]\n",
    "print(\"Observed values; Adding constraints\")\n",
    "\n",
    "a=1/np.sqrt(5) #-0.001\n",
    "data = [a,a,a,a,a]\n",
    "\n",
    "j=0\n",
    "for l1 in L1[:5]:\n",
    "    obsConstraints += [ X[sTr[l1],sTc[l1]] == data[j] ]\n",
    "    j+=1\n",
    "    \n",
    "del j\n",
    "\n",
    "print(\"Done.\")\n",
    "#print(obsConstraints)"
   ]
  },
  {
   "cell_type": "markdown",
   "metadata": {},
   "source": [
    "## The SDP"
   ]
  },
  {
   "cell_type": "markdown",
   "metadata": {},
   "source": [
    "### Printing Helper"
   ]
  },
  {
   "cell_type": "code",
   "execution_count": 31,
   "metadata": {
    "init_cell": true
   },
   "outputs": [],
   "source": [
    "def prettyX(X):\n",
    "    X_=np.zeros((len(L),len(L)))\n",
    "    i=0\n",
    "    j=0\n",
    "    for l1 in L:\n",
    "        for l2 in L:\n",
    "            X_[i][j]=X[sTr[l1]][sTc[l2]].value\n",
    "            j+=1\n",
    "        j=0\n",
    "        i+=1\n",
    "    return X_\n",
    "\n",
    "\n",
    "def prettyPrint(X):\n",
    "    y=pd.DataFrame(prettyX(X))\n",
    "    print(y)"
   ]
  },
  {
   "cell_type": "markdown",
   "metadata": {},
   "source": [
    "### Solve Me!"
   ]
  },
  {
   "cell_type": "code",
   "execution_count": 32,
   "metadata": {
    "scrolled": false
   },
   "outputs": [
    {
     "name": "stdout",
     "output_type": "stream",
     "text": [
      "----------------------------------------------------------------------------\n",
      "\tSCS v2.1.1 - Splitting Conic Solver\n",
      "\t(c) Brendan O'Donoghue, Stanford University, 2012\n",
      "----------------------------------------------------------------------------\n",
      "Lin-sys: sparse-direct, nnz in A = 28554\n",
      "eps = 1.00e-04, alpha = 1.50, max_iters = 5000, normalize = 1, scale = 1.00\n",
      "acceleration_lookback = 10, rho_x = 1.00e-03\n",
      "Variables n = 18528, constraints m = 25376\n",
      "Cones:\tprimal zero / dual free vars: 6812\n",
      "\tsd vars: 18564, sd blks: 2\n",
      "Setup time: 2.28e-02s\n",
      "----------------------------------------------------------------------------\n",
      " Iter | pri res | dua res | rel gap | pri obj | dua obj | kap/tau | time (s)\n",
      "----------------------------------------------------------------------------\n",
      "     0| 8.58e+20  8.22e+20  1.00e+00 -1.46e+21  1.84e+21  4.14e+20  4.62e-02 \n",
      "   100| 2.55e-03  2.11e-03  4.97e-05 -5.59e-01 -5.59e-01  1.50e-16  1.35e+00 \n",
      "   200| 9.72e-05  7.89e-05  4.24e-06 -5.58e-01 -5.58e-01  1.10e-16  2.51e+00 \n",
      "----------------------------------------------------------------------------\n",
      "Status: Solved\n",
      "Timing: Solve time: 2.52e+00s\n",
      "\tLin-sys: nnz in L factor: 72617, avg solve time: 5.13e-04s\n",
      "\tCones: avg projection time: 7.11e-03s\n",
      "\tAcceleration: avg step time: 3.38e-03s\n",
      "----------------------------------------------------------------------------\n",
      "Error metrics:\n",
      "dist(s, K) = 2.0075e-09, dist(y, K*) = 7.8796e-05, s'y/|s||y| = 1.3786e-13\n",
      "primal res: |Ax + s - b|_2 / (1 + |b|_2) = 9.7175e-05\n",
      "dual res:   |A'y + c|_2 / (1 + |c|_2) = 7.8916e-05\n",
      "rel gap:    |c'x + b'y| / (1 + |c'x| + |b'y|) = 4.2368e-06\n",
      "----------------------------------------------------------------------------\n",
      "c'x = -0.5580, -b'y = -0.5580\n",
      "============================================================================\n",
      "max: 0.5580107404033172\n",
      "          0         1             2         3         4             5    \\\n",
      "0    1.000003  0.447242  4.472228e-01  0.447181  0.447199  4.472219e-01   \n",
      "1    0.447242  0.447227 -6.097435e-06  0.276452  0.276411  4.242159e-08   \n",
      "2    0.447223 -0.000006  4.472178e-01  0.000002  0.276305  2.765230e-01   \n",
      "3    0.447181  0.276452  1.876101e-06  0.447204  0.000005  2.762888e-01   \n",
      "4    0.447199  0.276411  2.763050e-01  0.000005  0.447211  2.223536e-06   \n",
      "..        ...       ...           ...       ...       ...           ...   \n",
      "187 -0.000017 -0.000028  3.702110e-05 -0.000059  0.000032 -2.040724e-05   \n",
      "188 -0.000012 -0.000011  7.776682e-07 -0.000009 -0.000005 -1.949354e-06   \n",
      "189  0.000067  0.000008  4.726439e-05  0.000023  0.000024  4.646823e-05   \n",
      "190 -0.000072  0.000045 -1.193326e-04  0.000033 -0.000050 -6.966303e-05   \n",
      "191 -0.000063 -0.000033 -2.471596e-05 -0.000028 -0.000032 -2.260651e-05   \n",
      "\n",
      "          6         7             8         9    ...       182       183  \\\n",
      "0   -0.002782  0.001280  2.764741e-01  0.276403  ...  0.000014 -0.000138   \n",
      "1    0.000556  0.000239  1.709106e-01  0.170847  ... -0.000001 -0.000100   \n",
      "2   -0.000038  0.001810 -1.741158e-07  0.170754  ...  0.000018  0.000003   \n",
      "3   -0.004886 -0.001028  2.764770e-01  0.000001  ... -0.000002 -0.000139   \n",
      "4    0.003612  0.001902  2.046778e-07  0.276403  ...  0.000015 -0.000003   \n",
      "..        ...       ...           ...       ...  ...       ...       ...   \n",
      "187  0.000550  0.000019 -1.794561e-04  0.000197  ...  0.000007 -0.000008   \n",
      "188  0.001619  0.000007 -4.673948e-04  0.000112  ... -0.000011 -0.000021   \n",
      "189 -0.002273 -0.000013 -1.201714e-04  0.000122  ...  0.000008  0.000013   \n",
      "190 -0.004082  0.000004  6.494452e-04 -0.000131  ... -0.000008  0.000015   \n",
      "191 -0.000041  0.000004 -3.290483e-06  0.000004  ...  0.000008 -0.000007   \n",
      "\n",
      "          184           185           186           187           188  \\\n",
      "0    0.000586 -8.636383e-05 -9.567461e-06 -3.804651e-05  2.987272e-06   \n",
      "1    0.000156 -1.232623e-04 -9.556624e-06  1.730938e-08  2.161514e-06   \n",
      "2    0.000407 -1.754227e-05 -3.165518e-09 -3.811835e-05  2.796566e-09   \n",
      "3    0.000143  4.804063e-06 -5.916892e-06  4.485316e-08  2.920532e-06   \n",
      "4    0.000319 -1.348149e-04 -5.950361e-06 -2.352385e-05  8.731931e-08   \n",
      "..        ...           ...           ...           ...           ...   \n",
      "187 -0.000051 -1.062489e-05 -4.437322e-06 -6.204489e-07  7.155519e-06   \n",
      "188 -0.000198  4.690742e-07  3.013612e-06  2.307791e-06 -1.229619e-05   \n",
      "189 -0.000088 -2.503353e-06 -2.657679e-06 -1.414626e-06 -7.101674e-06   \n",
      "190  0.000203  1.037499e-05  3.597408e-06 -1.312716e-06  9.215706e-06   \n",
      "191  0.000012  1.118547e-05  1.513185e-07  4.388791e-06  4.612422e-06   \n",
      "\n",
      "              189           190           191  \n",
      "0   -3.504789e-05 -1.445682e-05 -4.772226e-09  \n",
      "1   -2.183442e-05 -3.953274e-09 -5.857238e-07  \n",
      "2   -2.146328e-05 -8.960622e-06 -9.199856e-09  \n",
      "3   -5.905171e-08 -8.740593e-06  5.973084e-07  \n",
      "4   -3.500194e-05 -5.566958e-08 -9.626401e-07  \n",
      "..            ...           ...           ...  \n",
      "187  2.323288e-06  1.119225e-06 -2.069083e-08  \n",
      "188  2.590801e-06 -8.467196e-07 -5.406432e-09  \n",
      "189 -2.439910e-06 -1.647393e-06  2.595697e-08  \n",
      "190 -2.462181e-06  2.415560e-06 -1.054762e-08  \n",
      "191 -2.977873e-06  7.903685e-07 -4.578540e-09  \n",
      "\n",
      "[192 rows x 192 columns]\n",
      "----------------------------------------------------------------------------\n",
      "\tSCS v2.1.1 - Splitting Conic Solver\n",
      "\t(c) Brendan O'Donoghue, Stanford University, 2012\n",
      "----------------------------------------------------------------------------\n",
      "Lin-sys: sparse-direct, nnz in A = 28554\n",
      "eps = 1.00e-04, alpha = 1.50, max_iters = 5000, normalize = 1, scale = 1.00\n",
      "acceleration_lookback = 10, rho_x = 1.00e-03\n",
      "Variables n = 18528, constraints m = 25376\n",
      "Cones:\tprimal zero / dual free vars: 6812\n",
      "\tsd vars: 18564, sd blks: 2\n",
      "Setup time: 4.46e-02s\n",
      "----------------------------------------------------------------------------\n",
      " Iter | pri res | dua res | rel gap | pri obj | dua obj | kap/tau | time (s)\n",
      "----------------------------------------------------------------------------\n",
      "     0| 8.58e+20  8.22e+20  1.00e+00 -1.46e+21  1.84e+21  4.14e+20  6.21e-02 \n",
      "   100| 2.49e-03  1.98e-03  1.47e-04 -1.13e-01 -1.13e-01  1.86e-17  1.43e+00 \n",
      "   200| 1.12e-04  8.75e-05  1.33e-05 -1.11e-01 -1.11e-01  7.45e-18  2.52e+00 \n",
      "   220| 7.81e-05  5.92e-05  1.65e-07 -1.11e-01 -1.11e-01  5.84e-17  2.75e+00 \n",
      "----------------------------------------------------------------------------\n",
      "Status: Solved\n",
      "Timing: Solve time: 2.75e+00s\n",
      "\tLin-sys: nnz in L factor: 72617, avg solve time: 4.99e-04s\n",
      "\tCones: avg projection time: 7.26e-03s\n",
      "\tAcceleration: avg step time: 3.17e-03s\n",
      "----------------------------------------------------------------------------\n",
      "Error metrics:\n",
      "dist(s, K) = 2.2957e-09, dist(y, K*) = 3.7439e-05, s'y/|s||y| = -5.1092e-13\n",
      "primal res: |Ax + s - b|_2 / (1 + |b|_2) = 7.8067e-05\n",
      "dual res:   |A'y + c|_2 / (1 + |c|_2) = 5.9231e-05\n",
      "rel gap:    |c'x + b'y| / (1 + |c'x| + |b'y|) = 1.6459e-07\n",
      "----------------------------------------------------------------------------\n",
      "c'x = -0.1107, -b'y = -0.1107\n",
      "============================================================================\n",
      "min: -0.11074860446415635\n",
      "              0         1         2         3             4             5    \\\n",
      "0    9.999918e-01  0.447221  0.447200  0.447190  4.471956e-01  4.472174e-01   \n",
      "1    4.472214e-01  0.447216 -0.000006  0.276372  2.764823e-01 -9.803295e-06   \n",
      "2    4.472004e-01 -0.000006  0.447206 -0.000006  2.762526e-01  2.765072e-01   \n",
      "3    4.471903e-01  0.276372 -0.000006  0.447203  1.085693e-06  2.763073e-01   \n",
      "4    4.471956e-01  0.276482  0.276253  0.000001  4.472070e-01 -1.645748e-06   \n",
      "..            ...       ...       ...       ...           ...           ...   \n",
      "187 -4.249625e-06  0.000010 -0.000012  0.000003  1.457736e-06 -1.161272e-05   \n",
      "188 -1.761082e-05  0.000018 -0.000046  0.000027 -2.591606e-05 -1.411021e-05   \n",
      "189 -6.204333e-05 -0.000060  0.000005 -0.000050 -2.609341e-05 -9.073473e-06   \n",
      "190  1.028997e-04  0.000075  0.000030  0.000046  6.514721e-05  1.718710e-05   \n",
      "191 -7.244595e-07 -0.000002  0.000001 -0.000002 -2.706490e-07 -7.506816e-08   \n",
      "\n",
      "          6             7             8             9    ...           182  \\\n",
      "0    0.003803 -4.649145e-05  2.763419e-01  2.764928e-01  ...  9.863864e-05   \n",
      "1    0.001378  3.405759e-04  1.708085e-01  1.709600e-01  ... -3.556075e-07   \n",
      "2    0.004299 -8.076574e-04 -6.723746e-07  1.708020e-01  ...  9.986020e-05   \n",
      "3   -0.002181  8.886336e-04  2.763403e-01 -9.732847e-07  ... -1.518147e-07   \n",
      "4    0.005405 -7.082756e-04  5.408028e-09  2.764920e-01  ...  6.357803e-05   \n",
      "..        ...           ...           ...           ...  ...           ...   \n",
      "187 -0.000262  1.968530e-05 -1.318611e-04  1.808226e-05  ...  1.776293e-05   \n",
      "188 -0.002062 -3.848654e-05 -4.555615e-04  1.291989e-04  ...  1.264813e-05   \n",
      "189  0.005190 -2.029701e-05  6.388366e-05 -2.186071e-05  ...  2.703770e-05   \n",
      "190 -0.003913  1.948358e-05  3.929627e-04 -8.144162e-05  ... -5.093678e-05   \n",
      "191  0.000033 -6.239213e-08 -9.239077e-06 -1.858466e-06  ... -7.463059e-06   \n",
      "\n",
      "              183       184       185           186           187  \\\n",
      "0    1.225584e-04  0.000428 -0.000204 -9.792248e-07  5.097453e-05   \n",
      "1    8.103998e-05  0.000247 -0.000201 -1.010833e-06  1.000168e-08   \n",
      "2   -1.644703e-06  0.000174 -0.000042  1.737658e-08  5.093845e-05   \n",
      "3    1.205788e-04  0.000174 -0.000078 -6.094176e-07 -2.747396e-08   \n",
      "4    2.836106e-06  0.000249 -0.000177 -6.780115e-07  3.151032e-05   \n",
      "..            ...       ...       ...           ...           ...   \n",
      "187 -7.523980e-07  0.000097  0.000021  1.132444e-06  1.804704e-06   \n",
      "188  4.009784e-06 -0.000103 -0.000018  1.048629e-06  2.980846e-07   \n",
      "189 -5.453339e-06 -0.000091 -0.000004  4.183909e-07 -1.355703e-06   \n",
      "190  3.951874e-06  0.000021 -0.000004 -2.629091e-06 -1.059114e-06   \n",
      "191  2.376634e-06  0.000004  0.000003  9.262151e-07  1.579111e-06   \n",
      "\n",
      "              188           189           190           191  \n",
      "0   -2.865045e-05  4.850285e-05  2.930457e-06  1.532544e-07  \n",
      "1   -1.856989e-05  2.890151e-05  9.983297e-08  7.535669e-07  \n",
      "2    1.775386e-07  3.087412e-05  1.364654e-06  3.473631e-08  \n",
      "3   -2.871616e-05 -2.537265e-07  2.171474e-06 -5.635230e-07  \n",
      "4   -1.152583e-07  4.845388e-05 -1.016002e-07  1.122459e-06  \n",
      "..            ...           ...           ...           ...  \n",
      "187 -1.467966e-05  3.870686e-07  1.088848e-06 -3.094633e-08  \n",
      "188  9.546968e-06 -2.589652e-06 -1.075297e-06 -2.910517e-08  \n",
      "189 -1.430507e-06  7.470027e-08 -3.040043e-07  8.121067e-08  \n",
      "190  7.321532e-06  1.490564e-06 -1.214927e-09 -1.881334e-08  \n",
      "191  7.729464e-06 -6.385963e-08  3.659158e-06  5.626188e-09  \n",
      "\n",
      "[192 rows x 192 columns]\n"
     ]
    }
   ],
   "source": [
    "#Possible solvers\n",
    "#MOSEK needs a license; will set it up later\n",
    "\n",
    "#SCS\n",
    "#CVXOPT\n",
    "#MOSEK\n",
    "\n",
    "verbose=True\n",
    "currentConstraints = []\n",
    "\n",
    "if(testType==0 or testType==2):    \n",
    "    currentConstraints = constraints+obsConstraints \n",
    "    if(usePs==True):\n",
    "        currentConstraints += locConstraints\n",
    "elif(testType==1):\n",
    "    currentConstraints = constraints\n",
    "    if(testSubType==\"b\" or testSubType==\"c\"):\n",
    "        #y=0\n",
    "        currentConstraints += obsConstraints\n",
    "    if(testSubType==\"c\"):\n",
    "        currentConstraints += locConstraints\n",
    "        if(usePs==False):\n",
    "            print(\"WARNING: Ps are off while the test needs Ps!\")\n",
    "                \n",
    "\n",
    "probMax = cp.Problem(cp.Maximize(y),currentConstraints)\n",
    "probMin = cp.Problem(cp.Maximize(-y),currentConstraints)\n",
    "\n",
    "#prob.solve()\n",
    "#prob.solve(solver=cp.CVXOPT,verbose=True,**{'':ldl,'refinement':20,'show_progress':True,'feastol':10e-10,'reltol':10e-10,'abstol':10e-10})\n",
    "try: \n",
    "    print(\"max:\",probMax.solve(verbose=True,solver=cp.SCS)) #,warm_start=True))#,eps=1e-5)) #,eps=1e-4))#,max_iters=100000))\n",
    "    if(verbose):\n",
    "        prettyPrint(X)        \n",
    "except:\n",
    "    print(\"max: Couldn't solve\")\n",
    "try:\n",
    "    print(\"min:\",-probMin.solve(verbose=True,solver=cp.SCS)) #,warm_start=True))#,eps=1e-5)) #,eps=1e-4))#,max_iters=100000))\n",
    "    if(verbose):\n",
    "        prettyPrint(X)\n",
    "except:\n",
    "    print(\"min: Couldn't solve\")\n",
    "    \n",
    "# del probMax\n",
    "# del probMin\n",
    "# del currentConstraints\n",
    "# del obsConstraints"
   ]
  },
  {
   "cell_type": "markdown",
   "metadata": {
    "heading_collapsed": true
   },
   "source": [
    "### Collected Logs"
   ]
  },
  {
   "cell_type": "code",
   "execution_count": null,
   "metadata": {
    "hidden": true
   },
   "outputs": [],
   "source": [
    "##############\n",
    "## Level 6; kernel dies\n",
    "## Level 5; usePs=False; unbounded in both directions\n",
    "## Level 3; usePs=True; lLocDepth=1; max: 130.62 and min: -174.04\n",
    "## Level 3; usePs=True; lLocDepth=2; max: 87 and min: -108.34\n",
    "## Level 3; usePs=True; lLocDepth=3; max: ?? and min: ??"
   ]
  },
  {
   "cell_type": "code",
   "execution_count": null,
   "metadata": {
    "hidden": true
   },
   "outputs": [],
   "source": [
    "## unbounded solution with P\n",
    "## unbounded solution with Pd\n",
    "## ? solution with P; state only\n",
    "\n",
    "\n",
    "\n",
    "##FIXED THIS\n",
    "\n",
    "## Feeding in a guess\n",
    "## https://www.cvxpy.org/tutorial/advanced/index.html#warm-start\n",
    "\n",
    "\n",
    "#Ran the KCBS objective using MOSEK\n",
    "#Ideal answer: 2.23606797749979\n",
    "\n",
    "# 3 level\n",
    "Interior-point solution summary\n",
    "  Problem status  : PRIMAL_AND_DUAL_FEASIBLE\n",
    "  Solution status : OPTIMAL\n",
    "  Primal.  obj: -2.0000000000e+00   nrm: 1e+00    Viol.  con: 4e-11    var: 0e+00    barvar: 0e+00  \n",
    "  Dual.    obj: -2.0000000000e+00   nrm: 2e+00    Viol.  con: 0e+00    var: 6e-13    barvar: 4e-11  \n",
    "max: 1.999999999996969\n",
    "\n",
    "# 2 level\n",
    "Interior-point solution summary\n",
    "  Problem status  : PRIMAL_AND_DUAL_FEASIBLE\n",
    "  Solution status : OPTIMAL\n",
    "  Primal.  obj: -2.2359503404e+00   nrm: 1e+03    Viol.  con: 5e-08    var: 0e+00    barvar: 0e+00  \n",
    "  Dual.    obj: -2.2359351460e+00   nrm: 1e+02    Viol.  con: 0e+00    var: 9e-10    barvar: 1e-08  \n",
    "max: 2.2359503404454824\n",
    "    \n",
    "# 1 level\n",
    "Interior-point solution summary\n",
    "  Problem status  : PRIMAL_AND_DUAL_FEASIBLE\n",
    "  Solution status : OPTIMAL\n",
    "  Primal.  obj: -2.2360679847e+00   nrm: 1e+00    Viol.  con: 2e-09    var: 0e+00    barvar: 0e+00  \n",
    "  Dual.    obj: -2.2360679851e+00   nrm: 2e+00    Viol.  con: 0e+00    var: 0e+00    barvar: 2e-09  \n",
    "max: 2.2360679846809792\n",
    "          0         1         2         3         4         5\n",
    "0  1.000000  0.447214  0.447214  0.447214  0.447214  0.447214\n",
    "1  0.447214  0.447214  0.000000  0.276393  0.276393  0.000000\n",
    "2  0.447214  0.000000  0.447214  0.000000  0.276393  0.276393\n",
    "3  0.447214  0.276393  0.000000  0.447214  0.000000  0.276393\n",
    "4  0.447214  0.276393  0.276393  0.000000  0.447214  0.000000\n",
    "5  0.447214  0.000000  0.276393  0.276393  0.000000  0.447214"
   ]
  },
  {
   "cell_type": "code",
   "execution_count": null,
   "metadata": {
    "hidden": true
   },
   "outputs": [],
   "source": [
    "#display(y)\n",
    "print(np.sqrt(5))\n",
    "\n",
    "\n",
    "#Level 2 (with P and Pd)\n",
    "#2.2355706341820536\n",
    "#precision: 4.4196e-06\n",
    "\n",
    "#Level 2 (without P and Pd)\n",
    "#2.2354232719751197\n",
    "#precision: 2.8104e-06\n",
    "\n",
    "#Level 2 (without P and Pd; )\n",
    "#2.235475478232621\n",
    "#precision: 1.1587e-05\n",
    "\n",
    "#Level 2 (without P and Pd; innaccurate)\n",
    "#2.2361588485516353\n",
    "\n",
    "#2.233587365526617 (innaccurate with 100000 iterations)\n",
    "\n",
    "\n",
    "#Level 1\n",
    "#2.236062759267427\n",
    "#precision: 1.3496e-05"
   ]
  },
  {
   "cell_type": "code",
   "execution_count": null,
   "metadata": {
    "hidden": true
   },
   "outputs": [],
   "source": [
    "#with the KCBS objective\n",
    "\n",
    "----------------------------------------------------------------------------\n",
    "\tSCS v2.1.1 - Splitting Conic Solver\n",
    "\t(c) Brendan O'Donoghue, Stanford University, 2012\n",
    "----------------------------------------------------------------------------\n",
    "Lin-sys: sparse-direct, nnz in A = 32509\n",
    "eps = 1.00e-04, alpha = 1.50, max_iters = 5000, normalize = 1, scale = 1.00\n",
    "acceleration_lookback = 10, rho_x = 1.00e-03\n",
    "Variables n = 20100, constraints m = 28886\n",
    "Cones:\tprimal zero / dual free vars: 8786\n",
    "\tsd vars: 20100, sd blks: 1\n",
    "Setup time: 1.59e-01s\n",
    "----------------------------------------------------------------------------\n",
    " Iter | pri res | dua res | rel gap | pri obj | dua obj | kap/tau | time (s)\n",
    "----------------------------------------------------------------------------\n",
    "     0| 3.74e+20  1.18e+21  1.00e+00 -3.91e+20  3.03e+21  4.38e+20  1.23e-01 \n",
    "   100| 1.96e-02  3.27e-02  1.27e-03 -1.98e+00 -1.97e+00  1.27e-16  2.15e+00 \n",
    "   200| 4.47e-03  7.05e-03  1.47e-04 -2.00e+00 -2.00e+00  3.40e-18  4.20e+00 \n",
    "   300| 1.57e-03  2.48e-03  2.82e-05 -2.00e+00 -2.00e+00  8.47e-17  7.92e+00 \n",
    "   400| 1.16e-03  1.69e-03  1.58e-05 -2.00e+00 -2.00e+00  2.60e-17  1.01e+01 \n",
    "   500| 5.19e-04  8.41e-04  6.41e-06 -2.00e+00 -2.00e+00  1.29e-16  1.21e+01 \n",
    "   600| 3.80e-04  6.69e-04  3.67e-06 -2.00e+00 -2.00e+00  2.17e-16  1.54e+01 \n",
    "   700| 2.96e-04  4.85e-04  6.23e-07 -2.00e+00 -2.00e+00  6.50e-17  1.73e+01 \n",
    "   800| 2.54e-04  4.20e-04  7.67e-07 -2.00e+00 -2.00e+00  6.47e-17  1.93e+01 \n",
    "   900| 2.31e-04  4.08e-04  9.97e-07 -2.00e+00 -2.00e+00  1.85e-16  2.16e+01 \n",
    "  1000| 2.06e-04  2.92e-04  6.33e-07 -2.00e+00 -2.00e+00  7.01e-17  2.45e+01 \n",
    "  1100| 1.88e-04  2.71e-04  5.65e-07 -2.00e+00 -2.00e+00  8.40e-17  2.65e+01 \n",
    "  1200| 1.21e-04  2.13e-04  3.31e-07 -2.00e+00 -2.00e+00  1.26e-16  2.85e+01 \n",
    "  1300| 1.35e-04  2.36e-04  8.46e-07 -2.00e+00 -2.00e+00  4.05e-17  3.05e+01 \n",
    "  1400| 1.76e-04  2.65e-04  9.41e-07 -2.00e+00 -2.00e+00  1.57e-16  3.31e+01 \n",
    "  1500| 1.07e-04  1.76e-04  8.76e-07 -2.00e+00 -2.00e+00  2.35e-16  3.50e+01 \n",
    "  1600| 8.77e-05  1.51e-04  9.50e-07 -2.00e+00 -2.00e+00  9.56e-18  3.70e+01 \n",
    "  1700| 8.33e-05  1.36e-04  1.32e-06 -2.00e+00 -2.00e+00  9.63e-17  3.89e+01 \n",
    "  1800| 6.80e-05  1.30e-04  9.47e-07 -2.00e+00 -2.00e+00  7.73e-17  4.32e+01 \n",
    "  1900| 8.75e-05  1.36e-04  6.56e-07 -2.00e+00 -2.00e+00  1.89e-17  4.51e+01 \n",
    "  1920| 4.29e-05  9.10e-05  4.67e-07 -2.00e+00 -2.00e+00  1.13e-16  4.55e+01 \n",
    "----------------------------------------------------------------------------\n",
    "Status: Solved\n",
    "Timing: Solve time: 4.55e+01s\n",
    "\tLin-sys: nnz in L factor: 81982, avg solve time: 5.65e-04s\n",
    "\tCones: avg projection time: 1.72e-02s\n",
    "\tAcceleration: avg step time: 4.28e-03s\n",
    "----------------------------------------------------------------------------\n",
    "Error metrics:\n",
    "dist(s, K) = 2.3687e-09, dist(y, K*) = 1.9232e-09, s'y/|s||y| = 9.6521e-13\n",
    "primal res: |Ax + s - b|_2 / (1 + |b|_2) = 4.2888e-05\n",
    "dual res:   |A'y + c|_2 / (1 + |c|_2) = 9.1003e-05\n",
    "rel gap:    |c'x + b'y| / (1 + |c'x| + |b'y|) = 4.6699e-07\n",
    "----------------------------------------------------------------------------\n",
    "c'x = -2.0000, -b'y = -2.0000\n",
    "============================================================================\n",
    "max: 1.9999896500571939\n",
    "----------------------------------------------------------------------------\n",
    "\tSCS v2.1.1 - Splitting Conic Solver\n",
    "\t(c) Brendan O'Donoghue, Stanford University, 2012\n",
    "----------------------------------------------------------------------------\n",
    "Lin-sys: sparse-direct, nnz in A = 32509\n",
    "eps = 1.00e-04, alpha = 1.50, max_iters = 5000, normalize = 1, scale = 1.00\n",
    "acceleration_lookback = 10, rho_x = 1.00e-03\n",
    "Variables n = 20100, constraints m = 28886\n",
    "Cones:\tprimal zero / dual free vars: 8786\n",
    "\tsd vars: 20100, sd blks: 1\n",
    "Setup time: 6.17e-02s\n",
    "----------------------------------------------------------------------------\n",
    " Iter | pri res | dua res | rel gap | pri obj | dua obj | kap/tau | time (s)\n",
    "----------------------------------------------------------------------------\n",
    "     0| 3.85e+20  1.23e+21  1.00e+00 -3.91e+20  3.03e+21  4.38e+20  6.41e-02 \n",
    "   100| 4.22e-04  6.80e-04  2.80e-04 -1.65e-04 -4.45e-04  1.81e-16  2.40e+00 \n",
    "   200| 6.23e-05  9.31e-05  9.41e-06 -4.20e-06 -1.36e-05  9.97e-17  4.20e+00 \n",
    "----------------------------------------------------------------------------\n",
    "Status: Solved\n",
    "Timing: Solve time: 4.20e+00s\n",
    "\tLin-sys: nnz in L factor: 81982, avg solve time: 6.05e-04s\n",
    "\tCones: avg projection time: 1.44e-02s\n",
    "\tAcceleration: avg step time: 4.03e-03s\n",
    "----------------------------------------------------------------------------\n",
    "Error metrics:\n",
    "dist(s, K) = 1.6395e-09, dist(y, K*) = 3.7961e-09, s'y/|s||y| = 2.4415e-13\n",
    "primal res: |Ax + s - b|_2 / (1 + |b|_2) = 6.2330e-05\n",
    "dual res:   |A'y + c|_2 / (1 + |c|_2) = 9.3066e-05\n",
    "rel gap:    |c'x + b'y| / (1 + |c'x| + |b'y|) = 9.4093e-06\n",
    "----------------------------------------------------------------------------\n",
    "c'x = -0.0000, -b'y = -0.0000\n",
    "============================================================================\n",
    "min: -4.195886103499908e-06"
   ]
  },
  {
   "cell_type": "code",
   "execution_count": null,
   "metadata": {
    "hidden": true
   },
   "outputs": [],
   "source": [
    "# For the full objective\n",
    "\n",
    "----------------------------------------------------------------------------\n",
    "\tSCS v2.1.1 - Splitting Conic Solver\n",
    "\t(c) Brendan O'Donoghue, Stanford University, 2012\n",
    "----------------------------------------------------------------------------\n",
    "Lin-sys: sparse-direct, nnz in A = 32752\n",
    "eps = 1.00e-04, alpha = 1.50, max_iters = 5000, normalize = 1, scale = 1.00\n",
    "acceleration_lookback = 10, rho_x = 1.00e-03\n",
    "Variables n = 20100, constraints m = 28926\n",
    "Cones:\tprimal zero / dual free vars: 8790\n",
    "\tsd vars: 20136, sd blks: 2\n",
    "Setup time: 1.91e-01s\n",
    "----------------------------------------------------------------------------\n",
    " Iter | pri res | dua res | rel gap | pri obj | dua obj | kap/tau | time (s)\n",
    "----------------------------------------------------------------------------\n",
    "     0| 4.77e+20  9.64e+20  1.00e+00 -4.48e+22  1.34e+23  3.97e+22  6.65e-02 \n",
    "   100| 4.52e-02  6.79e-02  1.78e-02 -7.59e+00 -7.30e+00  4.55e-15  2.17e+00 \n",
    "   200| 2.37e-02  3.50e-02  1.74e-03 -1.07e+01 -1.06e+01  6.74e-15  4.48e+00 \n",
    "   300| 1.25e-02  2.05e-02  1.11e-03 -1.22e+01 -1.21e+01  1.51e-15  7.43e+00 \n",
    "   400| 1.80e-02  2.89e-02  1.66e-03 -1.28e+01 -1.29e+01  1.89e-15  9.58e+00 \n",
    "   500| 1.08e-02  1.82e-02  1.96e-03 -1.32e+01 -1.31e+01  5.36e-16  1.18e+01 \n",
    "   600| 1.69e-02  2.81e-02  1.72e-03 -1.37e+01 -1.36e+01  6.61e-15  1.38e+01 \n",
    "   700| 1.14e-02  1.74e-02  3.12e-04 -1.42e+01 -1.42e+01  1.40e-15  1.68e+01 \n",
    "   800| 1.29e-02  2.07e-02  6.06e-04 -1.47e+01 -1.47e+01  7.84e-16  1.91e+01 \n",
    "   900| 1.23e-02  1.86e-02  1.43e-03 -1.51e+01 -1.50e+01  6.43e-15  2.12e+01 \n",
    "  1000| 1.47e-02  2.56e-02  3.74e-05 -1.55e+01 -1.55e+01  8.07e-16  2.32e+01 \n",
    "  1100| 1.12e-02  1.70e-02  1.81e-03 -1.62e+01 -1.62e+01  3.88e-15  2.53e+01 \n",
    "  1200| 1.52e-02  2.80e-02  6.11e-04 -1.63e+01 -1.63e+01  9.76e-15  2.79e+01 \n",
    "  1300| 1.21e-02  2.15e-02  9.02e-04 -1.67e+01 -1.67e+01  5.30e-15  3.00e+01 \n",
    "  1400| 1.21e-02  1.83e-02  1.29e-03 -1.71e+01 -1.71e+01  1.60e-15  3.19e+01 \n",
    "  1500| 1.15e-02  1.92e-02  7.87e-04 -1.76e+01 -1.76e+01  4.74e-15  3.40e+01 \n",
    "  1600| 1.12e-02  1.71e-02  2.19e-04 -1.80e+01 -1.81e+01  1.86e-15  3.61e+01 \n",
    "  1700| 1.17e-02  1.84e-02  1.01e-03 -1.85e+01 -1.85e+01  4.00e-15  3.81e+01 \n",
    "  1800| 1.24e-02  1.98e-02  3.06e-04 -1.88e+01 -1.88e+01  1.05e-15  4.09e+01 \n",
    "  1900| 1.16e-02  1.74e-02  1.08e-03 -1.92e+01 -1.92e+01  9.57e-16  4.33e+01 \n",
    "  2000| 1.23e-02  1.88e-02  1.44e-04 -1.96e+01 -1.96e+01  5.49e-16  4.53e+01 \n",
    "  2100| 9.58e-03  1.61e-02  5.72e-04 -2.00e+01 -1.99e+01  9.35e-15  4.74e+01 \n",
    "  2200| 1.19e-02  2.09e-02  2.27e-04 -2.03e+01 -2.03e+01  3.03e-15  4.94e+01 \n",
    "  2300| 1.37e-02  2.94e-02  4.18e-04 -2.07e+01 -2.07e+01  4.78e-15  5.13e+01 \n",
    "  2400| 1.25e-02  3.00e-02  4.54e-04 -2.14e+01 -2.14e+01  9.48e-15  5.33e+01 \n",
    "  2500| 1.54e-02  2.50e-02  9.22e-04 -2.20e+01 -2.20e+01  6.35e-15  5.53e+01 \n",
    "  2600| 1.54e-02  3.58e-02  4.85e-04 -2.23e+01 -2.24e+01  7.75e-15  5.74e+01 \n",
    "  2700| 1.27e-02  3.29e-02  7.17e-04 -2.28e+01 -2.27e+01  1.01e-14  5.94e+01 \n",
    "  2800| 1.14e-02  1.99e-02  1.52e-03 -2.31e+01 -2.30e+01  6.04e-16  6.14e+01 \n",
    "  2900| 1.39e-02  3.46e-02  1.88e-03 -2.34e+01 -2.34e+01  1.68e-15  6.34e+01 \n",
    "  3000| 1.15e-02  2.91e-02  1.27e-03 -2.37e+01 -2.37e+01  2.72e-15  6.55e+01 \n",
    "  3100| 1.29e-02  2.87e-02  8.86e-04 -2.43e+01 -2.43e+01  3.60e-15  6.81e+01 \n",
    "  3200| 1.19e-02  2.64e-02  8.26e-04 -2.52e+01 -2.52e+01  3.31e-15  7.05e+01 \n",
    "  3300| 1.29e-02  3.66e-02  1.24e-03 -2.55e+01 -2.56e+01  2.59e-15  7.26e+01 \n",
    "  3400| 1.18e-02  3.56e-02  1.25e-03 -2.57e+01 -2.58e+01  2.07e-16  7.46e+01 \n",
    "  3500| 1.44e-02  3.75e-02  4.98e-04 -2.64e+01 -2.64e+01  9.20e-16  7.66e+01 \n",
    "  3600| 1.23e-02  2.11e-02  1.32e-03 -2.63e+01 -2.62e+01  9.79e-15  8.00e+01 \n",
    "  3700| 1.24e-02  3.96e-02  1.39e-04 -2.70e+01 -2.70e+01  1.06e-14  8.22e+01 \n",
    "  3800| 1.21e-02  3.74e-02  1.29e-03 -2.77e+01 -2.78e+01  2.57e-16  8.42e+01 \n",
    "  3900| 1.12e-02  2.29e-02  3.52e-04 -2.76e+01 -2.76e+01  3.74e-15  8.62e+01 \n",
    "  4000| 8.80e-03  2.52e-02  7.40e-04 -2.82e+01 -2.81e+01  2.60e-15  8.93e+01 \n",
    "  4100| 1.08e-02  3.73e-02  8.26e-04 -2.88e+01 -2.87e+01  1.10e-14  9.17e+01 \n",
    "  4200| 9.98e-03  2.47e-02  2.39e-04 -2.91e+01 -2.91e+01  6.77e-15  9.40e+01 \n",
    "  4300| 1.10e-02  1.85e-02  4.60e-04 -2.97e+01 -2.97e+01  6.90e-15  9.62e+01 \n",
    "  4400| 7.58e-03  2.16e-02  6.87e-04 -3.00e+01 -3.00e+01  2.32e-15  9.87e+01 \n",
    "  4500| 1.14e-02  2.28e-02  1.31e-03 -3.05e+01 -3.06e+01  8.43e-15  1.01e+02 \n",
    "  4600| 9.47e-03  2.88e-02  6.01e-04 -3.08e+01 -3.09e+01  3.38e-17  1.03e+02 \n",
    "  4700| 8.94e-03  2.85e-02  1.56e-03 -3.12e+01 -3.13e+01  3.61e-15  1.05e+02 \n",
    "  4800| 8.94e-03  2.73e-02  1.12e-03 -3.16e+01 -3.17e+01  1.27e-15  1.08e+02 \n",
    "  4900| 7.22e-03  2.15e-02  6.84e-05 -3.19e+01 -3.19e+01  1.27e-16  1.10e+02 \n",
    "  5000| 9.27e-03  3.23e-02  2.20e-03 -3.23e+01 -3.25e+01  3.07e-15  1.12e+02 \n",
    "----------------------------------------------------------------------------\n",
    "Status: Solved/Inaccurate\n",
    "Hit max_iters, solution may be inaccurate\n",
    "Timing: Solve time: 1.12e+02s\n",
    "\tLin-sys: nnz in L factor: 82376, avg solve time: 5.90e-04s\n",
    "\tCones: avg projection time: 1.59e-02s\n",
    "\tAcceleration: avg step time: 4.23e-03s\n",
    "----------------------------------------------------------------------------\n",
    "Error metrics:\n",
    "dist(s, K) = 2.0711e-09, dist(y, K*) = 2.2428e-09, s'y/|s||y| = 1.3955e-13\n",
    "primal res: |Ax + s - b|_2 / (1 + |b|_2) = 9.2666e-03\n",
    "dual res:   |A'y + c|_2 / (1 + |c|_2) = 3.2285e-02\n",
    "rel gap:    |c'x + b'y| / (1 + |c'x| + |b'y|) = 2.1992e-03\n",
    "----------------------------------------------------------------------------\n",
    "c'x = -32.3212, -b'y = -32.4659\n",
    "============================================================================\n",
    "max: 32.32118633353611\n",
    "----------------------------------------------------------------------------\n",
    "\tSCS v2.1.1 - Splitting Conic Solver\n",
    "\t(c) Brendan O'Donoghue, Stanford University, 2012\n",
    "----------------------------------------------------------------------------\n",
    "Lin-sys: sparse-direct, nnz in A = 32752\n",
    "eps = 1.00e-04, alpha = 1.50, max_iters = 5000, normalize = 1, scale = 1.00\n",
    "acceleration_lookback = 10, rho_x = 1.00e-03\n",
    "Variables n = 20100, constraints m = 28926\n",
    "Cones:\tprimal zero / dual free vars: 8790\n",
    "\tsd vars: 20136, sd blks: 2\n",
    "Setup time: 5.59e-02s\n",
    "----------------------------------------------------------------------------\n",
    " Iter | pri res | dua res | rel gap | pri obj | dua obj | kap/tau | time (s)\n",
    "----------------------------------------------------------------------------\n",
    "     0| 5.20e+20  1.62e+21  1.00e+00 -4.44e+22  1.34e+23  3.97e+22  1.82e-01 \n",
    "   100| 6.40e-02  1.01e-01  2.21e-02  4.30e+00  4.52e+00  8.84e-15  3.56e+00 \n",
    "   200| 3.01e-02  3.81e-02  1.19e-03  2.88e+00  2.87e+00  4.02e-15  5.56e+00 \n",
    "   300| 1.63e-02  2.46e-02  2.20e-02  1.86e+00  1.96e+00  2.10e-15  7.51e+00 \n",
    "   400| 1.43e-02  2.24e-02  9.53e-03  9.72e-01  9.44e-01  9.73e-15  1.15e+01 \n",
    "   500| 1.48e-02  2.17e-02  3.71e-02  3.18e-01  3.81e-01  7.18e-15  1.34e+01 \n",
    "   600| 1.26e-02  2.20e-02  5.56e-02 -1.69e-01 -9.85e-02  1.15e-14  1.54e+01 \n",
    "   700| 1.28e-02  1.97e-02  2.13e-02 -8.92e-01 -8.33e-01  4.32e-15  1.76e+01 \n",
    "   800| 1.49e-02  2.34e-02  2.58e-04 -1.17e+00 -1.17e+00  5.47e-15  2.25e+01 \n",
    "   900| 1.34e-02  2.71e-02  4.19e-03 -1.85e+00 -1.83e+00  1.74e-15  2.45e+01 \n",
    "  1000| 1.40e-02  2.39e-02  1.33e-02 -2.21e+00 -2.28e+00  2.44e-15  2.66e+01 \n",
    "  1100| 1.26e-02  1.98e-02  9.30e-03 -2.77e+00 -2.83e+00  1.02e-14  2.86e+01 \n",
    "  1200| 1.43e-02  2.85e-02  5.77e-03 -3.07e+00 -3.03e+00  4.14e-16  3.15e+01 \n",
    "  1300| 1.41e-02  2.70e-02  8.28e-03 -3.55e+00 -3.49e+00  2.99e-15  3.35e+01 \n",
    "  1400| 1.22e-02  2.51e-02  6.69e-03 -3.96e+00 -4.02e+00  2.02e-15  3.61e+01 \n",
    "  1500| 1.30e-02  3.33e-02  1.55e-02 -4.49e+00 -4.65e+00  5.60e-16  3.81e+01 \n",
    "  1600| 1.52e-02  3.92e-02  1.49e-02 -4.94e+00 -5.10e+00  3.45e-15  4.02e+01 \n",
    "  1700| 1.68e-02  3.51e-02  1.44e-03 -5.23e+00 -5.22e+00  4.43e-15  4.26e+01 \n",
    "  1800| 1.32e-02  2.49e-02  5.88e-03 -5.64e+00 -5.56e+00  8.01e-15  4.46e+01 \n",
    "  1900| 1.30e-02  2.12e-02  8.81e-03 -6.01e+00 -5.90e+00  1.58e-15  4.68e+01 \n",
    "  2000| 1.15e-02  2.50e-02  4.95e-03 -6.58e+00 -6.65e+00  1.22e-15  4.89e+01 \n",
    "  2100| 1.17e-02  2.24e-02  2.96e-03 -7.12e+00 -7.07e+00  5.56e-15  5.09e+01 \n",
    "  2200| 1.21e-02  2.58e-02  1.00e-03 -7.62e+00 -7.60e+00  3.50e-15  5.30e+01 \n",
    "  2300| 1.13e-02  3.40e-02  3.38e-03 -8.10e+00 -8.16e+00  4.82e-15  5.53e+01 \n",
    "\n",
    "  2400| 1.14e-02  3.63e-02  2.29e-03 -8.53e+00 -8.49e+00  3.04e-15  5.73e+01 \n",
    "  2500| 8.23e-03  2.98e-02  9.19e-04 -9.06e+00 -9.07e+00  4.98e-16  5.92e+01 \n",
    "  2600| 1.10e-02  4.08e-02  1.72e-03 -9.59e+00 -9.62e+00  4.82e-15  6.12e+01 \n",
    "  2700| 1.26e-02  3.70e-02  3.40e-03 -9.99e+00 -1.01e+01  1.77e-15  6.40e+01 \n",
    "  2800| 9.52e-03  2.92e-02  1.66e-03 -1.05e+01 -1.04e+01  5.18e-15  6.61e+01 \n",
    "  2900| 1.09e-02  2.77e-02  2.99e-04 -1.09e+01 -1.09e+01  4.13e-16  6.83e+01 \n",
    "  3000| 1.40e-02  3.44e-02  3.13e-04 -1.13e+01 -1.13e+01  4.21e-15  7.02e+01 \n",
    "  3100| 1.38e-02  3.36e-02  1.33e-03 -1.20e+01 -1.20e+01  5.33e-15  7.21e+01 \n",
    "  3200| 1.40e-02  2.84e-02  3.76e-03 -1.24e+01 -1.23e+01  3.01e-15  7.42e+01 \n",
    "  3300| 1.37e-02  2.57e-02  2.00e-04 -1.31e+01 -1.31e+01  4.28e-15  7.65e+01 \n",
    "  3400| 1.35e-02  2.26e-02  2.79e-03 -1.35e+01 -1.36e+01  3.84e-15  7.85e+01 \n",
    "  3500| 1.30e-02  2.60e-02  2.15e-03 -1.38e+01 -1.38e+01  3.14e-15  8.05e+01 \n",
    "  3600| 1.31e-02  2.30e-02  2.52e-03 -1.41e+01 -1.41e+01  3.68e-15  8.27e+01 \n",
    "  3700| 1.35e-02  3.18e-02  2.09e-03 -1.47e+01 -1.47e+01  8.01e-15  8.52e+01 \n",
    "  3800| 1.17e-02  2.85e-02  7.12e-04 -1.52e+01 -1.52e+01  5.69e-15  8.78e+01 \n",
    "  3900| 1.25e-02  3.52e-02  4.43e-04 -1.56e+01 -1.56e+01  1.18e-15  8.99e+01 \n",
    "  4000| 8.96e-03  2.87e-02  1.24e-03 -1.58e+01 -1.59e+01  1.34e-15  9.19e+01 \n",
    "  4100| 8.84e-03  2.85e-02  4.10e-03 -1.61e+01 -1.59e+01  3.79e-15  9.41e+01 \n",
    "  4200| 8.29e-03  2.48e-02  2.78e-03 -1.64e+01 -1.64e+01  2.63e-15  9.86e+01 \n",
    "  4300| 8.59e-03  2.18e-02  7.48e-04 -1.69e+01 -1.69e+01  1.93e-15  1.01e+02 \n",
    "  4400| 1.03e-02  2.06e-02  3.96e-03 -1.72e+01 -1.70e+01  7.90e-16  1.03e+02 \n",
    "  4500| 9.20e-03  1.59e-02  1.69e-03 -1.76e+01 -1.75e+01  4.20e-16  1.06e+02 \n",
    "  4600| 1.05e-02  1.75e-02  2.26e-03 -1.79e+01 -1.80e+01  3.07e-15  1.08e+02 \n",
    "  4700| 1.18e-02  2.07e-02  4.14e-03 -1.82e+01 -1.80e+01  1.76e-15  1.10e+02 \n",
    "  4800| 8.50e-03  1.63e-02  7.38e-04 -1.85e+01 -1.85e+01  1.17e-15  1.12e+02 \n",
    "  4900| 8.76e-03  1.82e-02  1.22e-03 -1.89e+01 -1.90e+01  1.00e-15  1.14e+02 \n",
    "  5000| 1.08e-02  2.55e-02  3.18e-03 -1.92e+01 -1.90e+01  6.28e-16  1.16e+02 \n",
    "----------------------------------------------------------------------------\n",
    "Status: Solved/Inaccurate\n",
    "Hit max_iters, solution may be inaccurate\n",
    "Timing: Solve time: 1.16e+02s\n",
    "\tLin-sys: nnz in L factor: 82376, avg solve time: 5.90e-04s\n",
    "\tCones: avg projection time: 1.66e-02s\n",
    "\tAcceleration: avg step time: 4.19e-03s\n",
    "----------------------------------------------------------------------------\n",
    "Error metrics:\n",
    "dist(s, K) = 2.4824e-09, dist(y, K*) = 2.3231e-09, s'y/|s||y| = -3.7268e-13\n",
    "primal res: |Ax + s - b|_2 / (1 + |b|_2) = 1.0830e-02\n",
    "dual res:   |A'y + c|_2 / (1 + |c|_2) = 2.5510e-02\n",
    "rel gap:    |c'x + b'y| / (1 + |c'x| + |b'y|) = 3.1806e-03\n",
    "----------------------------------------------------------------------------\n",
    "c'x = -19.1557, -b'y = -19.0311\n",
    "============================================================================\n",
    "min: -19.15570043945181\n"
   ]
  },
  {
   "cell_type": "code",
   "execution_count": null,
   "metadata": {
    "hidden": true
   },
   "outputs": [],
   "source": [
    "# For state only\n",
    "\n",
    "----------------------------------------------------------------------------\n",
    "\tSCS v2.1.1 - Splitting Conic Solver\n",
    "\t(c) Brendan O'Donoghue, Stanford University, 2012\n",
    "----------------------------------------------------------------------------\n",
    "Lin-sys: sparse-direct, nnz in A = 32752\n",
    "eps = 1.00e-04, alpha = 1.50, max_iters = 5000, normalize = 1, scale = 1.00\n",
    "acceleration_lookback = 10, rho_x = 1.00e-03\n",
    "Variables n = 20100, constraints m = 28926\n",
    "Cones:\tprimal zero / dual free vars: 8790\n",
    "\tsd vars: 20136, sd blks: 2\n",
    "Setup time: 4.50e-02s\n",
    "----------------------------------------------------------------------------\n",
    " Iter | pri res | dua res | rel gap | pri obj | dua obj | kap/tau | time (s)\n",
    "----------------------------------------------------------------------------\n",
    "     0| 4.52e+20  1.23e+21  1.00e+00 -2.51e+21  1.46e+22  2.53e+21  6.46e-02 \n",
    "   100| 6.25e-02  1.11e-01  1.58e-03 -7.30e-01 -7.34e-01  3.27e-16  2.99e+00 \n",
    "   200| 2.33e-02  3.63e-02  2.10e-03 -9.08e-01 -9.14e-01  2.48e-16  4.99e+00 \n",
    "   300| 1.26e-02  2.26e-02  1.14e-03 -1.05e+00 -1.05e+00  3.83e-16  7.39e+00 \n",
    "   400| 3.17e-02  4.94e-02  3.39e-04 -1.14e+00 -1.14e+00  7.27e-16  9.78e+00 \n",
    "   500| 9.63e-03  1.85e-02  8.86e-04 -1.22e+00 -1.21e+00  4.45e-17  1.24e+01 \n",
    "   600| 1.51e-02  2.31e-02  1.47e-03 -1.29e+00 -1.30e+00  9.95e-16  1.48e+01 \n",
    "   700| 1.46e-02  2.47e-02  8.25e-04 -1.36e+00 -1.36e+00  3.13e-16  1.72e+01 \n",
    "   800| 1.70e-02  2.80e-02  4.80e-04 -1.40e+00 -1.39e+00  1.20e-15  2.09e+01 \n",
    "   900| 8.78e-03  1.57e-02  6.14e-04 -1.43e+00 -1.43e+00  1.77e-16  2.29e+01 \n",
    "  1000| 1.99e-02  3.14e-02  9.00e-04 -1.45e+00 -1.45e+00  2.57e-16  2.50e+01 \n",
    "  1100| 1.18e-02  1.86e-02  1.32e-04 -1.47e+00 -1.47e+00  8.41e-16  2.72e+01 \n",
    "  1200| 1.60e-02  3.43e-02  9.09e-04 -1.48e+00 -1.48e+00  1.15e-15  2.92e+01 \n",
    "  1300| 1.39e-02  3.04e-02  1.39e-03 -1.48e+00 -1.48e+00  6.05e-16  3.12e+01 \n",
    "  1400| 1.69e-02  2.60e-02  2.14e-03 -1.49e+00 -1.50e+00  9.84e-17  3.33e+01 \n",
    "  1500| 1.24e-02  1.98e-02  1.32e-04 -1.49e+00 -1.49e+00  4.53e-16  3.52e+01 \n",
    "  1600| 1.30e-02  2.67e-02  8.96e-04 -1.49e+00 -1.49e+00  7.91e-16  3.73e+01 \n",
    "  1700| 1.08e-02  2.27e-02  5.61e-04 -1.50e+00 -1.50e+00  1.13e-16  3.94e+01 \n",
    "  1800| 9.01e-03  1.39e-02  2.35e-04 -1.50e+00 -1.50e+00  1.51e-16  4.22e+01 \n",
    "  1900| 9.19e-03  1.84e-02  5.20e-04 -1.51e+00 -1.50e+00  1.25e-15  4.42e+01 \n",
    "  2000| 1.04e-02  2.00e-02  3.16e-04 -1.51e+00 -1.51e+00  8.69e-16  4.66e+01 \n",
    "  2100| 9.84e-03  2.08e-02  2.04e-05 -1.50e+00 -1.51e+00  3.68e-16  4.86e+01 \n",
    "  2200| 7.54e-03  1.38e-02  1.96e-04 -1.51e+00 -1.51e+00  7.38e-16  5.06e+01 \n",
    "  2300| 9.45e-03  1.56e-02  3.86e-04 -1.51e+00 -1.52e+00  5.66e-16  5.25e+01 \n",
    "  2400| 1.11e-02  2.58e-02  9.62e-04 -1.51e+00 -1.51e+00  2.05e-16  5.45e+01 \n",
    "  2500| 1.10e-02  2.29e-02  1.09e-03 -1.52e+00 -1.51e+00  1.11e-17  5.65e+01 \n",
    "  2600| 1.06e-02  2.68e-02  2.25e-04 -1.52e+00 -1.52e+00  2.07e-19  5.85e+01 \n",
    "  2700| 9.98e-03  2.00e-02  6.74e-04 -1.52e+00 -1.52e+00  5.98e-16  6.05e+01 \n",
    "  2800| 1.13e-02  1.97e-02  3.14e-04 -1.52e+00 -1.52e+00  7.25e-16  6.30e+01 \n",
    "  2900| 1.24e-02  3.03e-02  3.40e-04 -1.52e+00 -1.52e+00  4.76e-16  6.52e+01 \n",
    "  3000| 1.33e-02  2.44e-02  4.75e-04 -1.52e+00 -1.52e+00  1.17e-16  6.73e+01 \n",
    "  3100| 1.15e-02  2.49e-02  4.85e-04 -1.52e+00 -1.52e+00  3.71e-16  6.93e+01 \n",
    "  3200| 8.19e-03  1.92e-02  5.14e-05 -1.53e+00 -1.53e+00  2.41e-16  7.12e+01 \n",
    "  3300| 1.05e-02  1.55e-02  3.45e-05 -1.53e+00 -1.53e+00  2.44e-16  7.32e+01 \n",
    "  3400| 1.19e-02  2.79e-02  2.22e-04 -1.53e+00 -1.53e+00  8.50e-17  7.51e+01 \n",
    "  3500| 9.50e-03  2.40e-02  1.71e-04 -1.53e+00 -1.53e+00  1.69e-16  7.70e+01 \n",
    "  3600| 9.22e-03  1.49e-02  3.48e-04 -1.53e+00 -1.53e+00  4.96e-16  7.91e+01 \n",
    "  3700| 8.60e-03  2.02e-02  1.90e-04 -1.53e+00 -1.53e+00  1.82e-16  8.12e+01 \n",
    "  3800| 9.93e-03  2.32e-02  7.32e-04 -1.53e+00 -1.53e+00  3.70e-17  8.32e+01 \n",
    "  3900| 7.39e-03  1.15e-02  4.35e-04 -1.54e+00 -1.53e+00  5.20e-16  8.51e+01 \n",
    "  4000| 7.22e-03  1.64e-02  3.69e-05 -1.54e+00 -1.54e+00  2.15e-16  8.71e+01 \n",
    "  4100| 7.71e-03  1.80e-02  3.16e-05 -1.54e+00 -1.54e+00  2.15e-16  8.91e+01 \n",
    "  4200| 6.06e-03  1.01e-02  2.12e-04 -1.54e+00 -1.54e+00  1.53e-16  9.11e+01 \n",
    "  4300| 6.79e-03  1.76e-02  3.17e-04 -1.54e+00 -1.54e+00  2.16e-17  9.36e+01 \n",
    "  4400| 7.79e-03  1.48e-02  3.47e-05 -1.54e+00 -1.54e+00  5.50e-16  9.59e+01 \n",
    "  4500| 6.08e-03  1.29e-02  6.11e-05 -1.54e+00 -1.54e+00  8.49e-16  9.79e+01 \n",
    "  4600| 9.26e-03  1.76e-02  3.05e-04 -1.54e+00 -1.54e+00  6.74e-17  9.99e+01 \n",
    "  4700| 6.29e-03  1.69e-02  2.46e-04 -1.55e+00 -1.55e+00  2.76e-16  1.02e+02 \n",
    "  4800| 7.44e-03  1.18e-02  7.06e-04 -1.55e+00 -1.55e+00  8.34e-17  1.04e+02 \n",
    "  4900| 6.09e-03  1.60e-02  1.42e-04 -1.55e+00 -1.55e+00  8.27e-16  1.06e+02 \n",
    "  5000| 5.96e-03  1.11e-02  3.36e-04 -1.55e+00 -1.54e+00  2.90e-16  1.08e+02 \n",
    "----------------------------------------------------------------------------\n",
    "Status: Solved/Inaccurate\n",
    "Hit max_iters, solution may be inaccurate\n",
    "Timing: Solve time: 1.08e+02s\n",
    "\tLin-sys: nnz in L factor: 82376, avg solve time: 5.69e-04s\n",
    "\tCones: avg projection time: 1.53e-02s\n",
    "\tAcceleration: avg step time: 4.05e-03s\n",
    "----------------------------------------------------------------------------\n",
    "Error metrics:\n",
    "dist(s, K) = 2.0998e-09, dist(y, K*) = 2.2513e-09, s'y/|s||y| = -2.1836e-13\n",
    "primal res: |Ax + s - b|_2 / (1 + |b|_2) = 5.9555e-03\n",
    "dual res:   |A'y + c|_2 / (1 + |c|_2) = 1.1071e-02\n",
    "rel gap:    |c'x + b'y| / (1 + |c'x| + |b'y|) = 3.3577e-04\n",
    "----------------------------------------------------------------------------\n",
    "c'x = -1.5459, -b'y = -1.5445\n",
    "============================================================================\n",
    "max: 1.5459193675310419\n",
    "----------------------------------------------------------------------------\n",
    "\tSCS v2.1.1 - Splitting Conic Solver\n",
    "\t(c) Brendan O'Donoghue, Stanford University, 2012\n",
    "----------------------------------------------------------------------------\n",
    "Lin-sys: sparse-direct, nnz in A = 32752\n",
    "eps = 1.00e-04, alpha = 1.50, max_iters = 5000, normalize = 1, scale = 1.00\n",
    "acceleration_lookback = 10, rho_x = 1.00e-03\n",
    "Variables n = 20100, constraints m = 28926\n",
    "Cones:\tprimal zero / dual free vars: 8790\n",
    "\tsd vars: 20136, sd blks: 2\n",
    "Setup time: 3.85e-02s\n",
    "----------------------------------------------------------------------------\n",
    " Iter | pri res | dua res | rel gap | pri obj | dua obj | kap/tau | time (s)\n",
    "----------------------------------------------------------------------------\n",
    "     0| 4.66e+20  1.52e+21  1.00e+00 -2.43e+21  1.47e+22  2.53e+21  8.51e-02 \n",
    "   100| 6.85e-02  1.04e-01  4.00e-02  6.14e-01  7.07e-01  1.45e-16  2.68e+00 \n",
    "   200| 2.52e-02  3.57e-02  4.47e-04  4.88e-01  4.87e-01  6.71e-17  5.04e+00 \n",
    "   300| 1.47e-02  2.16e-02  1.99e-03  4.06e-01  4.02e-01  2.70e-16  7.11e+00 \n",
    "   400| 1.53e-02  2.26e-02  2.19e-03  3.25e-01  3.22e-01  4.04e-16  9.01e+00 \n",
    "   500| 1.55e-02  2.48e-02  2.63e-03  2.50e-01  2.54e-01  7.56e-16  1.12e+01 \n",
    "   600| 1.56e-02  2.32e-02  1.02e-03  1.73e-01  1.75e-01  7.56e-16  1.32e+01 \n",
    "   700| 1.12e-02  1.95e-02  6.73e-03  1.13e-01  1.05e-01  3.96e-16  1.62e+01 \n",
    "   800| 1.24e-02  2.14e-02  7.24e-03  6.93e-02  7.76e-02  1.07e-16  1.85e+01 \n",
    "   900| 1.42e-02  2.55e-02  1.95e-03  4.52e-02  4.30e-02  2.17e-16  2.07e+01 \n",
    "  1000| 1.30e-02  2.33e-02  1.69e-03  2.46e-02  2.29e-02  4.90e-16  2.44e+01 \n",
    "  1100| 9.15e-03  1.52e-02  6.14e-03  1.58e-02  9.50e-03  4.25e-16  2.66e+01 \n",
    "  1200| 1.09e-02  1.86e-02  1.52e-02  5.93e-03 -9.51e-03  1.43e-16  2.88e+01 \n",
    "  1300| 8.17e-03  1.22e-02  1.57e-03  3.70e-03  2.12e-03  8.87e-16  3.10e+01 \n",
    "  1400| 1.17e-02  1.79e-02  1.03e-02  4.98e-03  1.55e-02  2.09e-16  3.30e+01 \n",
    "  1500| 9.03e-03  1.47e-02  5.89e-03  3.16e-03  9.12e-03  9.94e-17  3.49e+01 \n",
    "  1600| 8.99e-03  1.57e-02  1.15e-02  9.75e-04  1.26e-02  1.17e-15  3.72e+01 \n",
    "  1700| 9.48e-03  1.37e-02  6.99e-03 -4.38e-03  2.66e-03  2.80e-16  3.97e+01 \n",
    "  1800| 8.51e-03  1.40e-02  1.39e-03 -1.04e-02 -1.18e-02  2.51e-16  4.25e+01 \n",
    "  1900| 9.57e-03  1.57e-02  3.32e-03 -1.44e-02 -1.78e-02  4.70e-16  4.45e+01 \n",
    "  2000| 8.61e-03  1.18e-02  4.78e-03 -1.32e-02 -8.27e-03  5.89e-16  4.66e+01 \n",
    "  2100| 6.21e-03  9.29e-03  6.58e-03 -1.35e-02 -6.79e-03  4.33e-16  4.87e+01 \n",
    "  2200| 8.70e-03  1.32e-02  6.27e-03 -2.01e-02 -2.66e-02  1.40e-15  5.11e+01 \n",
    "  2300| 7.56e-03  1.20e-02  3.64e-03 -2.13e-02 -2.52e-02  1.38e-15  5.31e+01 \n",
    "  2400| 5.89e-03  1.06e-02  6.29e-03 -2.32e-02 -2.98e-02  1.95e-16  5.51e+01 \n",
    "  2500| 5.96e-03  9.36e-03  5.42e-03 -2.57e-02 -3.15e-02  5.32e-16  5.71e+01 \n",
    "  2600| 8.32e-03  1.51e-02  5.83e-03 -2.67e-02 -3.28e-02  1.03e-15  5.98e+01 \n",
    "  2700| 5.95e-03  9.28e-03  4.27e-04 -2.63e-02 -2.67e-02  6.46e-16  6.23e+01 \n",
    "  2800| 5.79e-03  9.66e-03  3.91e-04 -2.72e-02 -2.68e-02  4.78e-17  6.45e+01 \n",
    "  2900| 5.53e-03  1.13e-02  8.46e-03 -2.55e-02 -1.66e-02  2.33e-16  6.69e+01 \n",
    "  3000| 7.59e-03  1.23e-02  6.12e-04 -3.28e-02 -3.34e-02  3.42e-16  7.07e+01 \n",
    "  3100| 4.51e-03  7.10e-03  1.93e-03 -3.31e-02 -3.52e-02  4.94e-16  7.29e+01 \n",
    "  3200| 4.80e-03  8.74e-03  4.11e-03 -3.13e-02 -2.69e-02  4.23e-16  7.48e+01 \n",
    "  3300| 5.07e-03  7.79e-03  5.45e-03 -3.59e-02 -4.18e-02  2.62e-16  7.68e+01 \n",
    "  3400| 4.96e-03  7.50e-03  1.13e-03 -3.54e-02 -3.42e-02  2.51e-16  7.86e+01 \n",
    "  3500| 5.71e-03  7.56e-03  3.37e-03 -3.54e-02 -3.18e-02  2.48e-16  8.06e+01 \n",
    "  3600| 5.35e-03  8.96e-03  8.96e-04 -3.87e-02 -3.97e-02  3.28e-17  8.31e+01 \n",
    "  3700| 4.52e-03  6.74e-03  4.52e-03 -3.81e-02 -3.32e-02  3.06e-16  8.53e+01 \n",
    "  3800| 4.85e-03  8.24e-03  2.58e-03 -4.18e-02 -4.46e-02  1.06e-17  8.73e+01 \n",
    "  3900| 3.77e-03  7.50e-03  2.11e-03 -3.96e-02 -3.73e-02  2.12e-16  8.92e+01 \n",
    "  4000| 4.84e-03  7.97e-03  1.11e-03 -4.34e-02 -4.46e-02  1.42e-16  9.11e+01 \n",
    "  4100| 5.13e-03  8.34e-03  1.25e-03 -4.38e-02 -4.51e-02  4.42e-16  9.30e+01 \n",
    "  4200| 5.44e-03  9.19e-03  3.20e-04 -4.47e-02 -4.43e-02  5.08e-17  9.49e+01 \n",
    "  4300| 4.31e-03  6.69e-03  2.11e-04 -4.61e-02 -4.59e-02  5.28e-16  9.68e+01 \n",
    "  4400| 5.24e-03  8.41e-03  4.20e-04 -4.55e-02 -4.50e-02  7.03e-16  9.89e+01 \n",
    "  4500| 4.32e-03  6.20e-03  3.58e-03 -4.82e-02 -5.22e-02  8.49e-17  1.01e+02 \n",
    "  4600| 4.04e-03  6.68e-03  2.93e-03 -4.76e-02 -4.44e-02  4.00e-16  1.05e+02 \n",
    "  4700| 4.33e-03  6.95e-03  8.30e-04 -5.07e-02 -5.17e-02  3.76e-16  1.07e+02 \n",
    "  4800| 3.48e-03  5.48e-03  1.62e-03 -5.05e-02 -4.87e-02  5.41e-16  1.09e+02 \n",
    "  4900| 5.88e-03  1.03e-02  1.16e-03 -5.21e-02 -5.34e-02  7.47e-16  1.11e+02 \n",
    "  5000| 5.02e-03  7.68e-03  1.81e-03 -5.22e-02 -5.02e-02  4.36e-16  1.13e+02 \n",
    "----------------------------------------------------------------------------\n",
    "Status: Solved/Inaccurate\n",
    "Hit max_iters, solution may be inaccurate\n",
    "Timing: Solve time: 1.13e+02s\n",
    "\tLin-sys: nnz in L factor: 82376, avg solve time: 5.89e-04s\n",
    "\tCones: avg projection time: 1.61e-02s\n",
    "\tAcceleration: avg step time: 4.14e-03s\n",
    "----------------------------------------------------------------------------\n",
    "Error metrics:\n",
    "dist(s, K) = 1.2425e-09, dist(y, K*) = 1.3660e-09, s'y/|s||y| = 1.1947e-12\n",
    "primal res: |Ax + s - b|_2 / (1 + |b|_2) = 5.0161e-03\n",
    "dual res:   |A'y + c|_2 / (1 + |c|_2) = 7.6756e-03\n",
    "rel gap:    |c'x + b'y| / (1 + |c'x| + |b'y|) = 1.8062e-03\n",
    "----------------------------------------------------------------------------\n",
    "c'x = -0.0522, -b'y = -0.0502\n",
    "============================================================================\n",
    "min: -0.0522061928831998"
   ]
  }
 ],
 "metadata": {
  "celltoolbar": "Initialization Cell",
  "kernelspec": {
   "display_name": "Python 3",
   "language": "python",
   "name": "python3"
  },
  "language_info": {
   "codemirror_mode": {
    "name": "ipython",
    "version": 3
   },
   "file_extension": ".py",
   "mimetype": "text/x-python",
   "name": "python",
   "nbconvert_exporter": "python",
   "pygments_lexer": "ipython3",
   "version": "3.7.5"
  },
  "toc": {
   "base_numbering": 1,
   "nav_menu": {
    "height": "435px",
    "width": "438px"
   },
   "number_sections": true,
   "sideBar": true,
   "skip_h1_title": false,
   "title_cell": "Table of Contents",
   "title_sidebar": "Contents",
   "toc_cell": false,
   "toc_position": {
    "height": "711.818px",
    "left": "588px",
    "top": "469.284px",
    "width": "170px"
   },
   "toc_section_display": true,
   "toc_window_display": true
  }
 },
 "nbformat": 4,
 "nbformat_minor": 2
}
