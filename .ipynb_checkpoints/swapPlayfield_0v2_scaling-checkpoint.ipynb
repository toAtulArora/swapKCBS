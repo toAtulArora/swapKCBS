{
 "cells": [
  {
   "cell_type": "markdown",
   "metadata": {
    "heading_collapsed": true
   },
   "source": [
    "# Libraries"
   ]
  },
  {
   "cell_type": "code",
   "execution_count": 22,
   "metadata": {
    "hidden": true,
    "init_cell": true
   },
   "outputs": [],
   "source": [
    "import numpy as np\n",
    "import sympy as sp\n",
    "import sympy.physics.quantum as sq\n",
    "import sympy.physics.quantum.qubit as sqq\n",
    "import sympy.physics.quantum.gate as sqg\n",
    "\n",
    "import cvxpy as cp\n",
    "\n",
    "import matplotlib.pyplot as plt\n",
    "import networkx as nx\n",
    "\n",
    "sp.init_printing(use_latex='mathjax')\n",
    "from IPython.display import display\n",
    "\n",
    "\n",
    "import pickle\n",
    "import dill\n",
    "dill.settings['recurse'] = True"
   ]
  },
  {
   "cell_type": "markdown",
   "metadata": {
    "heading_collapsed": true,
    "hidden": true
   },
   "source": [
    "## idealFid"
   ]
  },
  {
   "cell_type": "code",
   "execution_count": 23,
   "metadata": {
    "hidden": true,
    "init_cell": true
   },
   "outputs": [],
   "source": [
    "class idealFid:\n",
    "    \n",
    "    def __init__(s):\n",
    "        P1 = s.proj(1,5)\n",
    "        P2 = s.proj(2,5)\n",
    "        P3 = s.proj(3,5)\n",
    "        P4 = s.proj(4,5)\n",
    "        P5 = s.proj(5,5)\n",
    "        s.P = [P1,P2,P3,P4,P5]\n",
    "        s.terms = 5\n",
    "\n",
    "    def proj(s,j,n):\n",
    "        pi=np.pi\n",
    "        temp1 = np.cos(pi/n)/(1+np.cos(pi/n))\n",
    "        temp2 = 1-temp1\n",
    "        temp3 = j*pi*(n-1)/n\n",
    "        vec = np.asarray([np.sqrt(temp1),np.sqrt(temp2)*np.sin(temp3), np.sqrt(temp2)*np.cos(temp3)])\n",
    "        mat = np.outer(vec,vec)\n",
    "        return mat\n",
    "    \n",
    "    \n",
    "    def idealVal(s,projList):\n",
    "        op = s.P[projList[0]]\n",
    "        for iProj in projList[1:]:\n",
    "            op = op@s.P[iProj]\n",
    "        return op[0,0]\n",
    "    "
   ]
  },
  {
   "cell_type": "markdown",
   "metadata": {
    "heading_collapsed": true,
    "hidden": true
   },
   "source": [
    "## Extending the braket library to include orthogonality"
   ]
  },
  {
   "cell_type": "code",
   "execution_count": 24,
   "metadata": {
    "hidden": true,
    "init_cell": true
   },
   "outputs": [],
   "source": [
    "class onStruct:\n",
    "    G = nx.Graph()\n",
    "\n",
    "class onKet(sq.Ket,onStruct):\n",
    "    def _eval_innerproduct(self,bra,**hints):\n",
    "        #Check if the innerproduct is with yourself, then set 1\n",
    "        if sq.Dagger(bra) == self:\n",
    "            return sp.Integer(1)\n",
    "        #Else, if the innerproduct is with a neighbor from the graph, set 0\n",
    "        elif sq.Dagger(bra) in G[self]:\n",
    "            return sp.Integer(0)\n",
    "        #Else, do nothing; not enough information\n",
    "    \n",
    "    @classmethod\n",
    "    def set_on_rel(cls,givenG):\n",
    "        cls.G=givenG\n",
    "    \n",
    "    @classmethod\n",
    "    def dual_class(self):\n",
    "        return onBra\n",
    "\n",
    "    \n",
    "class onBra(sq.Bra,onStruct):\n",
    "    @classmethod\n",
    "    def dual_class(self):\n",
    "        return onKet"
   ]
  },
  {
   "cell_type": "code",
   "execution_count": 25,
   "metadata": {
    "hidden": true,
    "init_cell": true
   },
   "outputs": [],
   "source": [
    "class bKet(sq.Ket):\n",
    "    \n",
    "    #total number of kets (automatically increases as new instances are initialised)\n",
    "    totalKets=0\n",
    "    \n",
    "    #this method automates the increase\n",
    "    @classmethod\n",
    "    def _eval_args(cls,args):\n",
    "        #validate input type\n",
    "        if not isinstance(args[0],int):\n",
    "            raise ValueError(\"Integer expected in the argument, got: %r\"%args[0])\n",
    "\n",
    "        #if a ket |5> is initialised, the dimension is assumed to be 6 since we have |0>,|1>,...|5>\n",
    "        if int(args[0])+1 > cls.totalKets:\n",
    "            cls.totalKets=args[0]+1\n",
    "        \n",
    "        #pass control back to the base class\n",
    "        return sq.Ket._eval_args(args) \n",
    "    \n",
    "    #Could not find a way of using just one function; need to go through the two\n",
    "    #based on a combination of the qubit implementation and the \n",
    "    def _represent_default_basis(s,**options):\n",
    "        return s._represent_bKet(None,**options) #syntax taken from the Qubit library\n",
    "    \n",
    "    def _represent_bKet(s,basis,**options): #_represent_default_basis\n",
    "        a=np.zeros(s.__class__.totalKets,dtype=int)\n",
    "        a[s.label[0]]=1\n",
    "        return sp.Matrix(a)\n",
    "    \n",
    "    @classmethod\n",
    "    def set_dimension(cls,arg):\n",
    "        cls.totalKets=arg\n",
    "    \n",
    "    def _eval_innerproduct(self,bra,**hints):\n",
    "        #Check if the innerproduct is with yourself, then set 1\n",
    "        if sq.Dagger(bra) == self:\n",
    "            return sp.Integer(1)\n",
    "        #Else, if the innerproduct is with a neighbor from the graph, set 0\n",
    "        else:\n",
    "            return sp.Integer(0)\n",
    "        #Else, do nothing; not enough information\n",
    "    \n",
    "\n",
    "    @classmethod\n",
    "    def dual_class(self):\n",
    "        return bBra\n",
    "\n",
    "    \n",
    "class bBra(sq.Bra):\n",
    "    # @classmethod\n",
    "    # def _eval_args(cls,args):\n",
    "    #     return args\n",
    "    \n",
    "    @classmethod\n",
    "    def dual_class(cls):\n",
    "        return bKet"
   ]
  },
  {
   "cell_type": "markdown",
   "metadata": {
    "heading_collapsed": true,
    "hidden": true
   },
   "source": [
    "### Debugging | representation example"
   ]
  },
  {
   "cell_type": "code",
   "execution_count": null,
   "metadata": {
    "hidden": true
   },
   "outputs": [],
   "source": [
    "class SzUpKet(sq.Ket):\n",
    "    def _represent_SzUpKet(s,basis,**options):\n",
    "        return sp.Matrix([1,0])\n",
    "    \n",
    "#     def _represent_SzOp(s,basis,**options):\n",
    "#         return sp.Matrix([1,0])\n",
    "\n",
    "class SzOp(sq.Operator):\n",
    "    pass\n",
    "\n",
    "sz = SzOp('Sz')\n",
    "up = SzUpKet('up')\n",
    "sq.represent(up,basis=SzUpKet) #,basis=sz)"
   ]
  },
  {
   "cell_type": "markdown",
   "metadata": {
    "heading_collapsed": true,
    "hidden": true
   },
   "source": [
    "### Testing | Dimension increasing?"
   ]
  },
  {
   "cell_type": "code",
   "execution_count": null,
   "metadata": {
    "hidden": true
   },
   "outputs": [],
   "source": [
    "# class bKet(sq.Ket):\n",
    "    \n",
    "#     #total number of kets (automatically increases as new instances are initialised)\n",
    "#     totalKets=0\n",
    "    \n",
    "#     #this method automates the increase\n",
    "#     @classmethod\n",
    "#     def _eval_args(cls,args):\n",
    "#         #validate input type\n",
    "#         if not isinstance(args[0],int):\n",
    "#             raise ValueError(\"Integer expected in the argument, got: %r\"%args[0])\n",
    "\n",
    "#         #if a ket |5> is initialised, the dimension is assumed to be 6 since we have |0>,|1>,...|5>\n",
    "#         if int(args[0])+1 > cls.totalKets:\n",
    "#             cls.totalKets=args[0]+1\n",
    "        \n",
    "#         #pass control back to the base class\n",
    "#         return sq.Ket._eval_args(args) \n",
    "    \n",
    "#     #Could not find a way of using just one function; need to go through the two\n",
    "#     #based on a combination of the qubit implementation and the \n",
    "#     def _represent_default_basis(s,**options):\n",
    "#         return s._represent_bKet(None,**options) #syntax taken from the Qubit library\n",
    "    \n",
    "#     def _represent_bKet(s,basis,**options): #_represent_default_basis\n",
    "#         a=np.zeros(s.__class__.totalKets,dtype=int)\n",
    "#         a[s.label[0]]=1\n",
    "#         return sp.Matrix(a)\n",
    "    \n",
    "#     @classmethod\n",
    "#     def set_dimension(cls,arg):\n",
    "#         cls.totalKets=arg\n",
    "    \n",
    "#     def _eval_innerproduct(self,bra,**hints):\n",
    "#         #Check if the innerproduct is with yourself, then set 1\n",
    "#         if sq.Dagger(bra) == self:\n",
    "#             return sp.Integer(1)\n",
    "#         #Else, if the innerproduct is with a neighbor from the graph, set 0\n",
    "#         else:\n",
    "#             return sp.Integer(0)\n",
    "#         #Else, do nothing; not enough information\n",
    "    \n",
    "\n",
    "#     @classmethod\n",
    "#     def dual_class(self):\n",
    "#         return bBra\n",
    "\n",
    "    \n",
    "# class bBra(sq.Bra):\n",
    "#     # @classmethod\n",
    "#     # def _eval_args(cls,args):\n",
    "#     #     return args\n",
    "    \n",
    "#     @classmethod\n",
    "#     def dual_class(cls):\n",
    "#         return bKet"
   ]
  },
  {
   "cell_type": "code",
   "execution_count": null,
   "metadata": {
    "hidden": true
   },
   "outputs": [],
   "source": [
    "a=bKet(0)\n",
    "\n",
    "b=a*sq.Dagger(a)\n",
    "\n",
    "print(bKet.totalKets)\n",
    "sq.represent(a)\n",
    "\n",
    "c=bKet(3);\n",
    "sq.represent(a)\n",
    "sq.represent(b)\n",
    "sq.represent(c)"
   ]
  },
  {
   "cell_type": "code",
   "execution_count": null,
   "metadata": {
    "hidden": true
   },
   "outputs": [],
   "source": [
    "a=bKet(0); a"
   ]
  },
  {
   "cell_type": "code",
   "execution_count": null,
   "metadata": {
    "hidden": true
   },
   "outputs": [],
   "source": [
    "sq.represent(a)"
   ]
  },
  {
   "cell_type": "code",
   "execution_count": null,
   "metadata": {
    "hidden": true
   },
   "outputs": [],
   "source": [
    "b=bKet(1); b"
   ]
  },
  {
   "cell_type": "code",
   "execution_count": null,
   "metadata": {
    "hidden": true
   },
   "outputs": [],
   "source": [
    "sq.represent(b)"
   ]
  },
  {
   "cell_type": "code",
   "execution_count": null,
   "metadata": {
    "hidden": true
   },
   "outputs": [],
   "source": [
    "sq.represent(a)"
   ]
  },
  {
   "cell_type": "code",
   "execution_count": null,
   "metadata": {
    "hidden": true
   },
   "outputs": [],
   "source": [
    "c=bKet(3); c"
   ]
  },
  {
   "cell_type": "code",
   "execution_count": null,
   "metadata": {
    "hidden": true
   },
   "outputs": [],
   "source": [
    "sq.represent(a)"
   ]
  },
  {
   "cell_type": "markdown",
   "metadata": {
    "heading_collapsed": true,
    "hidden": true
   },
   "source": [
    "## Extending the tensor product functionality—tsimp and tdsimp"
   ]
  },
  {
   "cell_type": "code",
   "execution_count": 26,
   "metadata": {
    "hidden": true,
    "init_cell": true
   },
   "outputs": [],
   "source": [
    "\n",
    "def powerDrop(expr):\n",
    "    if isinstance(expr,sp.Pow): #TODO: make sure the base is not too complex\n",
    "        # print(\"PowerEncountered\")\n",
    "        if expr.exp>=2:\n",
    "            # print(\"glaba\")\n",
    "            # display(expr.base)\n",
    "            _=sq.qapply(sp.Mul(expr.base,expr.base))\n",
    "            if expr.exp>2:\n",
    "                return powerDrop(_*sp.Pow(expr.base,expr.exp-2))\n",
    "            else:\n",
    "                return _\n",
    "        else:\n",
    "            return expr #autoDropDim(sp.Mul(expr.base,expr.base))\n",
    "    else:\n",
    "        if expr.has(sp.Pow):\n",
    "            #if it is a sum or a product, run this function for each part and then combine the parts; return the result\n",
    "            if isinstance(expr,sp.Mul) or isinstance(expr,sp.Add) or isinstance(expr,sq.TensorProduct):\n",
    "                new_args=[] #list(expr.args)\n",
    "                for _ in expr.args:\n",
    "                    new_args.append(powerDrop(_))\n",
    "                if isinstance(expr,sp.Mul):        \n",
    "                    return sp.Mul(*new_args)\n",
    "                elif isinstance(expr,sp.Add):\n",
    "                    return sp.Add(*new_args)  \n",
    "                elif isinstance(expr,sq.TensorProduct):\n",
    "                    return sq.TensorProduct(*new_args)  \n",
    "\n",
    "            else:\n",
    "                return expr\n",
    "            #There would be no else here because tensor product simp would have removed that part\n",
    "        else:\n",
    "            return expr        \n",
    "    \n",
    "def autoDropDim(expr):\n",
    "    #print(\"Expression\")\n",
    "    #if isinstance(expr,sp.Mul):\n",
    "        #print(\"type:multiplier\")\n",
    "    #display(expr)\n",
    "    \n",
    "    \n",
    "    if isinstance(expr,sq.TensorProduct):\n",
    "        new_args=[]\n",
    "        for _ in expr.args:\n",
    "            #display(_)\n",
    "            #print(type(_))\n",
    "            if _ != sp.Integer(1):\n",
    "            #if not isinstance(_,core.numbers.One):\n",
    "                new_args.append(_)\n",
    "        #print(\"TensorProduct with %d non-ones in the tensor product\"%len(new_args))\n",
    "        if(len(new_args)==0):\n",
    "            return sp.Integer(1)\n",
    "        else:\n",
    "            return sq.TensorProduct(*new_args)\n",
    "    else:\n",
    "        if expr.has(sq.TensorProduct):\n",
    "            #if it is a sum or a product, run this function for each part and then combine the parts; return the result\n",
    "            if isinstance(expr,sp.Mul) or isinstance(expr,sp.Add):\n",
    "                new_args=[] #list(expr.args)\n",
    "                for _ in expr.args:\n",
    "                    new_args.append(autoDropDim(_))\n",
    "                if isinstance(expr,sp.Mul):        \n",
    "                    return sp.Mul(*new_args)\n",
    "                elif isinstance(expr,sp.Add):\n",
    "                    return sp.Add(*new_args)  \n",
    "                \n",
    "            #There would be no else here because tensor product simp would have removed that part\n",
    "        else:\n",
    "            return expr #when the expression is just an integer or some such\n",
    "\n",
    "\n",
    "        \n",
    "def tsimp(e,pruneMe=True):\n",
    "    res=sq.qapply(powerDrop(sq.tensorproduct.tensor_product_simp(sq.qapply(e)).doit()))\n",
    "    if pruneMe:\n",
    "        return prune(res)\n",
    "    else:\n",
    "        return res\n",
    "\n",
    "def tdsimp(e,pruneMe=True):\n",
    "    res=autoDropDim(sq.qapply(powerDrop(autoDropDim(sq.tensorproduct.tensor_product_simp(sq.qapply(e)).doit()))))\n",
    "    if pruneMe:\n",
    "        return prune(res)\n",
    "    else:\n",
    "        return res\n",
    "    #return autoDropDim(sq.tensorproduct.tensor_product_simp_Mul(e).doit())\n",
    "    #return autoDropDim(sq.tensorproduct.tensor_product_simp_Mul(sq.qapply(e)).doit())\n",
    "    #return autoDropDim(sq.tensorproduct.tensor_product_simp(e).doit())"
   ]
  },
  {
   "cell_type": "markdown",
   "metadata": {
    "heading_collapsed": true,
    "hidden": true
   },
   "source": [
    "## Find Coeff was not reliable"
   ]
  },
  {
   "cell_type": "code",
   "execution_count": 27,
   "metadata": {
    "hidden": true,
    "init_cell": true
   },
   "outputs": [],
   "source": [
    "# depth=0\n",
    "# depthThresh=20\n",
    "\n",
    "def findCoeff(obj,lett):\n",
    "#     global depth\n",
    "    \n",
    "#     print(\"Parent object:\")\n",
    "#     display(obj)\n",
    "    \n",
    "    if(obj==None):\n",
    "#         print(\"coefficent is zero\")\n",
    "        return 0\n",
    "    elif not (isinstance(obj,sp.Mul) or isinstance(obj,sp.Add)):        \n",
    "        #the coefficient may be one but we couldn't see it earlier\n",
    "        return obj.coeff(lett)\n",
    "    else:\n",
    "        #try to find the coefficient directly        \n",
    "        result=obj.coeff(lett)\n",
    "        #Did not work? \n",
    "        if(result==0):\n",
    "            #try for each segment\n",
    "            for _ in obj.args:\n",
    "#                 print(\"child:\")\n",
    "#                 display(_)\n",
    "                result=_.coeff(lett)\n",
    "#                 print(\"coefficient of child:\",result)\n",
    "                \n",
    "                #still did not work?\n",
    "                if(result==0):\n",
    "                    #try recursing\n",
    "                    result = findCoeff(_,lett)    \n",
    "                \n",
    "                #found? Stop searching\n",
    "                if(result!=0):\n",
    "                    break\n",
    "                    #return result\n",
    "\n",
    "        #return whatever was found | worked\n",
    "        return result\n",
    "\n"
   ]
  },
  {
   "cell_type": "markdown",
   "metadata": {
    "heading_collapsed": true,
    "hidden": true
   },
   "source": [
    "## Prune"
   ]
  },
  {
   "cell_type": "code",
   "execution_count": 28,
   "metadata": {
    "hidden": true,
    "init_cell": true
   },
   "outputs": [],
   "source": [
    "def prune(expr,thr=10,remNum=False):\n",
    "    if isinstance(expr,sp.Number): \n",
    "        if remNum==False:\n",
    "            if sp.Abs(expr)<10**(-thr):\n",
    "                return sp.Integer(0)\n",
    "            else:\n",
    "                return expr\n",
    "        else:\n",
    "            return sp.Integer(1)\n",
    "    else:\n",
    "        if expr.has(sp.Number):\n",
    "            #if it is a sum or a product, run this function for each part and then combine the parts; return the result\n",
    "            if isinstance(expr,sp.Mul) or isinstance(expr,sp.Add) or isinstance(expr,sq.TensorProduct):\n",
    "                new_args=[] #list(expr.args)\n",
    "                for _ in expr.args:\n",
    "                    new_args.append(prune(_,thr,remNum))\n",
    "                if isinstance(expr,sp.Mul):        \n",
    "                    return sp.Mul(*new_args)\n",
    "                elif isinstance(expr,sp.Add):\n",
    "                    return sp.Add(*new_args)  \n",
    "                elif isinstance(expr,sq.TensorProduct):\n",
    "                    return sq.TensorProduct(*new_args)  \n",
    "\n",
    "            else:\n",
    "                return expr\n",
    "            #There would be no else here because tensor product simp would have removed that part\n",
    "        else:\n",
    "            return expr        \n",
    "\n",
    "# test=(A[0]*2)\n",
    "# test.has(sp.Number)\n",
    "# prune(test,remNum=True)"
   ]
  },
  {
   "cell_type": "markdown",
   "metadata": {
    "hidden": true
   },
   "source": [
    "## Power to Mul"
   ]
  },
  {
   "cell_type": "code",
   "execution_count": 105,
   "metadata": {
    "hidden": true
   },
   "outputs": [],
   "source": [
    "# From: https://stackoverflow.com/questions/28117770/sympy-multiplications-of-exponential-rather-than-exponential-of-sum\n",
    "# Thankfully I didn't have to sit and write this!\n",
    "\n",
    "def pow_to_mul_(expr):\n",
    "    \"\"\"\n",
    "    Convert integer powers in an expression to Muls, like a**2 => a*a.\n",
    "    \"\"\"\n",
    "    pows = list(expr.atoms(sp.Pow))\n",
    "    if any(not e.is_Integer for b, e in (i.as_base_exp() for i in pows)):\n",
    "\n",
    "        raise ValueError(\"A power contains a non-integer exponent\")\n",
    "    repl = zip(pows, (sp.Mul(*[b]*e,evaluate=False) for b,e in (i.as_base_exp() for i in pows)))\n",
    "    return expr.subs(repl)"
   ]
  },
  {
   "cell_type": "code",
   "execution_count": 112,
   "metadata": {
    "hidden": true
   },
   "outputs": [],
   "source": [
    "## Not very well written\n",
    "\n",
    "def pow_to_mul(expr):\n",
    "    if isinstance(expr,sp.Pow): \n",
    "        return pow_to_mul_(expr)\n",
    "    else:\n",
    "        if expr.has(sp.Pow):\n",
    "            #if it is a sum or a product, run this function for each part and then combine the parts; return the result\n",
    "            if isinstance(expr,sp.Mul) or isinstance(expr,sp.Add):\n",
    "                new_args=[] #list(expr.args)\n",
    "                for _ in expr.args:\n",
    "                    new_args.append(pow_to_mul(_))\n",
    "                    \n",
    "                if isinstance(expr,sp.Mul):        \n",
    "                    return sp.Mul(*new_args,evaluate=False)\n",
    "                elif isinstance(expr,sp.Add):\n",
    "                    return sp.Add(*new_args)\n",
    "            else:\n",
    "                return expr\n",
    "        else:\n",
    "            return expr      "
   ]
  },
  {
   "cell_type": "code",
   "execution_count": 142,
   "metadata": {
    "hidden": true
   },
   "outputs": [],
   "source": [
    "def mul_to_single_mul(expr):\n",
    "    if isinstance(expr,sp.Mul): \n",
    "        new_args=[]\n",
    "        for _ in expr.args:\n",
    "            if isinstance(_,sp.Mul):\n",
    "                for __ in _.args:\n",
    "                    new_args.append(__)\n",
    "            elif expr.has(sp.Mul):\n",
    "                new_args.append(mul_to_single_mul(_)) #If inside a mul, there is another mul, extract it\n",
    "            else:\n",
    "                new_args.append(_)  #if it is something entirely different, bring it along as it is\n",
    "        \n",
    "        return sp.Mul(*new_args,evaluate=False) #put the new arguments into a single multiply and return\n",
    "    \n",
    "    else:\n",
    "        if expr.has(sp.Mul):\n",
    "            #if it is a sum, run this function for each part and then combine the parts; return the result\n",
    "            if isinstance(expr,sp.Add):\n",
    "                new_args=[] #list(expr.args)\n",
    "                for _ in expr.args:\n",
    "                    new_args.append(mul_to_single_mul(_))\n",
    "                    \n",
    "                if isinstance(expr,sp.Add):\n",
    "                    return sp.Add(*new_args)\n",
    "            else:\n",
    "                return expr\n",
    "        else:\n",
    "            return expr          "
   ]
  },
  {
   "cell_type": "code",
   "execution_count": 146,
   "metadata": {
    "hidden": true
   },
   "outputs": [],
   "source": [
    "def pow_to_single_mul(expr):\n",
    "    return mul_to_single_mul(pow_to_mul(expr))"
   ]
  },
  {
   "cell_type": "markdown",
   "metadata": {
    "heading_collapsed": true
   },
   "source": [
    "# Swap KCBS | Playfield "
   ]
  },
  {
   "cell_type": "markdown",
   "metadata": {
    "heading_collapsed": true,
    "hidden": true
   },
   "source": [
    "## Inputs"
   ]
  },
  {
   "cell_type": "code",
   "execution_count": null,
   "metadata": {
    "hidden": true
   },
   "outputs": [],
   "source": [
    "class inputs:\n",
    "    graphSize = 5\n",
    "    p = 1/np.sqrt(5)*np.array([1,1,1,1,1])"
   ]
  },
  {
   "cell_type": "markdown",
   "metadata": {
    "heading_collapsed": true,
    "hidden": true
   },
   "source": [
    "## The Sympy Part | playground"
   ]
  },
  {
   "cell_type": "code",
   "execution_count": null,
   "metadata": {
    "hidden": true
   },
   "outputs": [],
   "source": [
    "k0 = sq.Ket('φ')\n",
    "k1 = sq.Ket('ψ')\n",
    "superposition = k0+k1; superposition"
   ]
  },
  {
   "cell_type": "code",
   "execution_count": null,
   "metadata": {
    "hidden": true
   },
   "outputs": [],
   "source": [
    "inner_prod = sq.Dagger(superposition)*superposition; inner_prod"
   ]
  },
  {
   "cell_type": "code",
   "execution_count": null,
   "metadata": {
    "hidden": true
   },
   "outputs": [],
   "source": [
    "sq.qapply(inner_prod)"
   ]
  },
  {
   "cell_type": "code",
   "execution_count": null,
   "metadata": {
    "hidden": true
   },
   "outputs": [],
   "source": [
    "density = sq.qapply(superposition*sq.Dagger(superposition)); density"
   ]
  },
  {
   "cell_type": "code",
   "execution_count": null,
   "metadata": {
    "hidden": true
   },
   "outputs": [],
   "source": [
    "qubit_state = sqq.Qubit('00'); qubit_state"
   ]
  },
  {
   "cell_type": "code",
   "execution_count": null,
   "metadata": {
    "hidden": true
   },
   "outputs": [],
   "source": [
    "isinstance(qubit_state,sq.State)"
   ]
  },
  {
   "cell_type": "code",
   "execution_count": null,
   "metadata": {
    "hidden": true
   },
   "outputs": [],
   "source": [
    "gate_operator = sqg.HadamardGate(0); gate_operator"
   ]
  },
  {
   "cell_type": "code",
   "execution_count": null,
   "metadata": {
    "hidden": true
   },
   "outputs": [],
   "source": [
    "isinstance(gate_operator,sq.Operator)"
   ]
  },
  {
   "cell_type": "code",
   "execution_count": null,
   "metadata": {
    "hidden": true
   },
   "outputs": [],
   "source": [
    "\n",
    "a=sqq.Qubit(0)\n",
    "b=sqq.Qubit(1)\n",
    "\n",
    "d = sq.qapply(sq.Dagger(a)*b).doit(); d"
   ]
  },
  {
   "cell_type": "markdown",
   "metadata": {
    "heading_collapsed": true,
    "hidden": true
   },
   "source": [
    "### Playing with classes"
   ]
  },
  {
   "cell_type": "code",
   "execution_count": null,
   "metadata": {
    "hidden": true
   },
   "outputs": [],
   "source": [
    "class A:\n",
    "    gla=1\n",
    "\n",
    "class B:\n",
    "    glaba=3\n",
    "    \n",
    "class C(B,A):\n",
    "    glow=4\n",
    "\n",
    "c=C()\n",
    "\n",
    "print(isinstance(c,A),isinstance(c,B),isinstance(c,C))\n"
   ]
  },
  {
   "cell_type": "markdown",
   "metadata": {
    "heading_collapsed": true,
    "hidden": true
   },
   "source": [
    "### Kishor meets the class"
   ]
  },
  {
   "cell_type": "code",
   "execution_count": null,
   "metadata": {
    "hidden": true
   },
   "outputs": [],
   "source": [
    "class Person:\n",
    "    name=\"blank\"\n",
    "    \n",
    "    def set_name(self,arg):\n",
    "        self.name = arg\n",
    "    \n",
    "    @property\n",
    "    def myName(self):\n",
    "        return self.name\n",
    "\n",
    "    def get_name(self):\n",
    "        return self.name\n",
    "    \n",
    "Kishor = Person() \n",
    "Kishor.set_name(\"Bharti\")\n",
    "\n",
    "M = Person()\n",
    "M.set_name(\"M\")\n",
    "\n",
    "\n",
    "\n",
    "print(M.myName, Kishor.myName, M.get_name() )\n",
    "\n",
    "print(M.myName,Kishor.myName)"
   ]
  },
  {
   "cell_type": "code",
   "execution_count": null,
   "metadata": {
    "hidden": true
   },
   "outputs": [],
   "source": [
    "class Person:\n",
    "    name=\"blank\"\n",
    "    compatibility=\"\"\n",
    "    \n",
    "    def set_name(self,arg):\n",
    "        self.name = arg\n",
    "    \n",
    "    @property\n",
    "    def myName(self):\n",
    "        return self.name\n",
    "    \n",
    "    @classmethod\n",
    "    def set_comp(cls,arg):\n",
    "        cls.compatibility=arg\n",
    "        \n",
    "    @classmethod\n",
    "    def get_comp(cls):\n",
    "        return cls.compatibility\n",
    "        \n",
    "    @property\n",
    "    def comp(self):\n",
    "        return self.compatibility\n",
    "    \n",
    "Kishor = Person() \n",
    "Kishor.set_name(\"Bharti\")\n",
    "\n",
    "M = Person()\n",
    "M.set_name(\"M\")\n",
    "\n",
    "Person.set_comp(\"M hates K\")\n",
    "print(Person.get_comp())\n",
    "\n",
    "print(M.myName,Kishor.myName)\n",
    "\n",
    "print(M.comp,Kishor.comp)"
   ]
  },
  {
   "cell_type": "code",
   "execution_count": null,
   "metadata": {
    "hidden": true
   },
   "outputs": [],
   "source": [
    "class A:\n",
    "    aVal=\"blank\"\n",
    "    \n",
    "    @property\n",
    "    def myVal(self):\n",
    "        return self.aVal\n",
    "\n",
    "class C:\n",
    "    cVal=\"blank3\"\n",
    "    \n",
    "    @property\n",
    "    def myVal3(self):\n",
    "        return self.cVal\n",
    "    \n",
    "class B(A,C):\n",
    "    bVal=\"blank2\"\n",
    "    \n",
    "    @property\n",
    "    def myVal2(self):\n",
    "        return self.bVal\n",
    "    \n",
    "a = B()\n",
    "\n",
    "print(a.myVal2,a.myVal,a.myVal3)"
   ]
  },
  {
   "cell_type": "markdown",
   "metadata": {
    "heading_collapsed": true,
    "hidden": true
   },
   "source": [
    "### Preliminary implementation of orthogonormal kets (uses labels)"
   ]
  },
  {
   "cell_type": "code",
   "execution_count": null,
   "metadata": {
    "hidden": true
   },
   "outputs": [],
   "source": [
    "class onKet(sq.Ket):\n",
    "#     a=1\n",
    "    \n",
    "    #@classmethod\n",
    "    #this @classmethod descriptor was killing it\n",
    "    #it was sending the class in \"self\" instead of the instance in \"self\"\n",
    "    #makes sense now\n",
    "    #I can perhaps use this to set orthogonality relations a little more generally\n",
    "    def _eval_innerproduct(self,bra,**hints):\n",
    "        #print(self.label,bra.label)\n",
    "        if self.label == bra.label:\n",
    "            return sp.Integer(1)\n",
    "        else:\n",
    "            return sp.Integer(0)\n",
    "    \n",
    "    @classmethod\n",
    "    def dual_class(self):\n",
    "        return onBra\n",
    "    @property\n",
    "    def iAm(self):\n",
    "        return self.label\n",
    "    \n",
    "class onBra(sq.Bra):\n",
    "#     a=2\n",
    "\n",
    "#     @classmethod\n",
    "#     def _eval_innerproduct(self,ket,**hints):\n",
    "#         if self.label == ket.label:\n",
    "#             return sp.Integer(1)\n",
    "#         else:\n",
    "#             return sp.Integer(0)\n",
    "    \n",
    "    @classmethod\n",
    "    def dual_class(self):\n",
    "        return onKet"
   ]
  },
  {
   "cell_type": "code",
   "execution_count": null,
   "metadata": {
    "hidden": true
   },
   "outputs": [],
   "source": [
    "a=onKet(0)\n",
    "b=onKet(1)"
   ]
  },
  {
   "cell_type": "code",
   "execution_count": null,
   "metadata": {
    "hidden": true
   },
   "outputs": [],
   "source": [
    "c=a+b; c"
   ]
  },
  {
   "cell_type": "code",
   "execution_count": null,
   "metadata": {
    "hidden": true
   },
   "outputs": [],
   "source": [
    "sq.qapply(sq.Dagger(b)*a).doit()"
   ]
  },
  {
   "cell_type": "code",
   "execution_count": null,
   "metadata": {
    "hidden": true
   },
   "outputs": [],
   "source": [
    "d=sq.Dagger(c)*b\n",
    "sq.qapply(d).doit()"
   ]
  },
  {
   "cell_type": "markdown",
   "metadata": {
    "heading_collapsed": true,
    "hidden": true
   },
   "source": [
    "### Orthogonal Ket, general orthogonality relation"
   ]
  },
  {
   "cell_type": "code",
   "execution_count": null,
   "metadata": {
    "hidden": true
   },
   "outputs": [],
   "source": [
    "class onStruct:\n",
    "    G = nx.Graph()\n",
    "\n",
    "class onKet(sq.Ket,onStruct):\n",
    "#     a=1\n",
    "    #@classmethod\n",
    "    #this @classmethod descriptor was killing it\n",
    "    #it was sending the class in \"self\" instead of the instance in \"self\"\n",
    "    #makes sense now\n",
    "    #I can perhaps use this to set orthogonality relations a little more generally\n",
    "    def _eval_innerproduct(self,bra,**hints):\n",
    "        #print(self.label,bra.label)        \n",
    "        if sq.Dagger(bra) == self:\n",
    "        #if self.label == bra.label:\n",
    "            return sp.Integer(1)\n",
    "        elif sq.Dagger(bra) in G[self]:\n",
    "            return sp.Integer(0)\n",
    "    \n",
    "    @classmethod\n",
    "    def set_on_rel(cls,givenG):\n",
    "        cls.G=givenG\n",
    "    \n",
    "    @classmethod\n",
    "    def dual_class(self):\n",
    "        return onBra\n",
    "\n",
    "    \n",
    "class onBra(sq.Bra,onStruct):\n",
    "#     a=2\n",
    "\n",
    "#     @classmethod\n",
    "#     def _eval_innerproduct(self,ket,**hints):\n",
    "#         if self.label == ket.label:\n",
    "#             return sp.Integer(1)\n",
    "#         else:\n",
    "#             return sp.Integer(0)    \n",
    "    @classmethod\n",
    "    def dual_class(self):\n",
    "        return onKet"
   ]
  },
  {
   "cell_type": "code",
   "execution_count": null,
   "metadata": {
    "hidden": true
   },
   "outputs": [],
   "source": [
    "#define the kets\n",
    "a=onKet(1)\n",
    "b=onKet(2)\n",
    "c=onKet(3)\n",
    "d=onKet(4)\n",
    "\n",
    "#define the orthogonality relation using a graph (edges mean orthogonal)\n",
    "G = nx.Graph()\n",
    "G.add_nodes_from([a,b,c,d])\n",
    "G.add_edges_from([[a,b],[b,c],[c,d],[d,a]])\n",
    "\n",
    "#Add this graph to the class\n",
    "onKet.set_on_rel(G)\n",
    "\n",
    "#test\n",
    "s1 = (a+b+c)/sp.sqrt(3)\n",
    "s2 = (b+c+d)/sp.sqrt(3)\n",
    "\n",
    "d = sq.Dagger(s1)*s2\n",
    "\n",
    "#simplify\n",
    "sq.qapply(d).doit()"
   ]
  },
  {
   "cell_type": "code",
   "execution_count": null,
   "metadata": {
    "hidden": true
   },
   "outputs": [],
   "source": [
    "#plot the graph for fun\n",
    "nx.draw(G, with_labels=True)"
   ]
  },
  {
   "cell_type": "code",
   "execution_count": null,
   "metadata": {
    "hidden": true
   },
   "outputs": [],
   "source": [
    "f=sq.Ket(\"f\")\n",
    "g=sq.Ket(\"g\")\n",
    "h=sq.TensorProduct(a,b)\n",
    "l=sq.TensorProduct(b,a)\n",
    "sq.qapply(sq.Dagger(h)*l).doit()"
   ]
  },
  {
   "cell_type": "markdown",
   "metadata": {
    "hidden": true
   },
   "source": [
    "### Playing with networks"
   ]
  },
  {
   "cell_type": "code",
   "execution_count": null,
   "metadata": {
    "hidden": true
   },
   "outputs": [],
   "source": [
    "G = nx.Graph()\n",
    "G.add_node(1)"
   ]
  },
  {
   "cell_type": "code",
   "execution_count": null,
   "metadata": {
    "hidden": true
   },
   "outputs": [],
   "source": [
    "G = nx.Graph()\n",
    "G.add_nodes_from([1,2,3,4,5])\n",
    "G.add_edges_from([[1,2],[2,3],[3,4],[4,5],[5,1]])"
   ]
  },
  {
   "cell_type": "code",
   "execution_count": null,
   "metadata": {
    "hidden": true
   },
   "outputs": [],
   "source": [
    "%matplotlib inline \n",
    "nx.draw(G, with_labels=True)"
   ]
  },
  {
   "cell_type": "code",
   "execution_count": null,
   "metadata": {
    "hidden": true
   },
   "outputs": [],
   "source": [
    "3 in G[1]"
   ]
  },
  {
   "cell_type": "markdown",
   "metadata": {},
   "source": [
    "# Ideal KCBS calculations"
   ]
  },
  {
   "cell_type": "markdown",
   "metadata": {},
   "source": [
    "## Working Version"
   ]
  },
  {
   "cell_type": "code",
   "execution_count": 29,
   "metadata": {
    "code_folding": [
     21,
     47,
     59,
     101,
     155,
     257,
     270,
     382,
     410,
     508,
     582
    ],
    "init_cell": true
   },
   "outputs": [],
   "source": [
    "\n",
    "class cls_iKCBS:    \n",
    "    \n",
    "    def __init__(s,n,verbose=False,thr=10,test=False,forceCalc=False):\n",
    "        s.thr=thr\n",
    "        if verbose==True:\n",
    "            print(\"Creating projectors etc\")\n",
    "\n",
    "        cls_iKCBS.n=n\n",
    "        #j in 0,1,2,3,4\n",
    "        \n",
    "        s.ke = [bKet(j) for j in range(3)]    \n",
    "        s.br = [sq.Dagger(s.ke[j]) for j in range(3)]\n",
    "        \n",
    "        s.Πs = []\n",
    "                \n",
    "        ### N'd here\n",
    "        #evaluate the projectors for the ideal case\n",
    "        for j in range(n):\n",
    "            s.Πs.append(sp.N(s.eval(j,n)))\n",
    "\n",
    "        if(test and False):\n",
    "            print(\"Testing Πs\")\n",
    "            for i in range(n):\n",
    "                for k in range(n):\n",
    "                    print(\"Inner product of \",i,\" and \",k,\" projectors is\")\n",
    "                    temp=0\n",
    "                    for j in range(3):\n",
    "                        temp+=sq.qapply(s.br[j]*s.Πs[i]*s.Πs[k]*s.ke[j])\n",
    "                    print(temp)\n",
    "                    del temp\n",
    "                    \n",
    "   \n",
    "        #calculate the matrix representation\n",
    "        s.matΠs = [sq.represent(_) for _ in s.Πs] #I leave this as well to avoid breaking things; TODO: try to remove it\n",
    "        \n",
    "        ### N'd here\n",
    "        #the first two vectors are taken to be k'\n",
    "        s.kp = [sp.N(s.eval(0,n,True)),sp.N(s.eval(1,n,True))]\n",
    "        \n",
    "        #the third is constructed as k0 x k1 (cross product) and then added to the list\n",
    "        s.kp.append(sp.N(s.cross(s.kp)))\n",
    "        \n",
    "        \n",
    "        #evaluates the conjugate for each element in the list\n",
    "        s.bp=[sq.Dagger(ikp) for ikp in s.kp]                \n",
    "        \n",
    "        if(test):\n",
    "            #Testing orthogonality\n",
    "            print(\"Testing orthogonality of the braP and ketP objects\")\n",
    "            for braP in s.bp:\n",
    "                for ketP in s.kp:\n",
    "                    print(sq.qapply(braP*ketP))#sp.N(sq.qapply(braP*ketP)))\n",
    "        \n",
    "    \n",
    "        #the Translation operator\n",
    "        s.T = s.kp[0]*s.bp[2] + s.kp[1]*s.bp[0] + s.kp[2]*s.bp[1] \n",
    "        s.Ti = s.kp[2]*s.bp[0] + s.kp[0]*s.bp[1] + s.kp[1]*s.bp[2] #TODO: Automate this\n",
    "        \n",
    "        if(test):\n",
    "            print(\"Testing the basic Translation operator\")\n",
    "            for braP in s.bp:\n",
    "                for ketP in s.kp:\n",
    "                    #print(braP)\n",
    "                    print(sq.qapply(braP*s.T*ketP))#sp.N(sq.qapply(braP*ketP)))\n",
    "                    #print(sp.N(sq.qapply(sp.N(braP)*sp.N(s.T)*sp.N(ketP))))\n",
    "            display(sq.represent(s.T))\n",
    "\n",
    "        \n",
    "        #s.mT = s.mkp[0]*s.mbp[2] + s.mkp[1]*s.mbp[0] + s.mkp[2]*s.mbp[1] \n",
    "        #s.mTi = s.mkp[2]*s.mbp[0] + s.mkp[0]*s.mbp[1] + s.mkp[1]*s.mbp[2] #TODO: Automate this\n",
    "        \n",
    "        s.matT=sq.represent(s.T)\n",
    "        \n",
    "        #Now the abstract ones\n",
    "        \n",
    "        #creates n abstract projectors (basically just a bunch of non-commuting symbols)\n",
    "        s._Πs = sp.symbols('Π_0:%d'%n,commutative=False)\n",
    "        \n",
    "        #We use this to create a localising matrix\n",
    "        #We must imposes conj(_P) * Translation >> 0\n",
    "        s._P = sp.symbols('P',commutative=False) \n",
    "        s._Pd = sp.symbols('Pd',commutative=False) #we define them separately because sq.dagger doesn't work too well with symbols which are not based on kets etc\n",
    "        #s._Pd = sq.dagger(sp)\n",
    "        \n",
    "        s.daggerDict = {}\n",
    "        s.sqDict = {}\n",
    "        for i in range(n):\n",
    "            s.daggerDict[sq.Dagger(s._Πs[i])]=s._Πs[i]\n",
    "            s.sqDict[(s._Πs[i])*(s._Πs[i])]=s._Πs[i]\n",
    "        \n",
    "        s.daggerDict[sq.Dagger(s._Pd)]=s._P\n",
    "        s.daggerDict[sq.Dagger(s._P)]=s._Pd\n",
    "        s.sqDict[s._P*s._Pd]=sp.Integer(1)\n",
    "        s.sqDict[s._Pd*s._P]=sp.Integer(1)\n",
    "        \n",
    "        #not very happy because it should come from the graph\n",
    "        s.gDict = {}\n",
    "        for i in range(n):\n",
    "            s.gDict[s._Πs[i]*s._Πs[(i+1)%n]]=sp.Integer(0)\n",
    "            s.gDict[s._Πs[(i+1)%n]*s._Πs[i]]=sp.Integer(0)\n",
    "        \n",
    "        if verbose==True:\n",
    "            print(\"Solving a linear system to find the coefficients for expressing the translation operator as a sum of projectors\")\n",
    "\n",
    "        s._T=s.eval_lin_c() #NB: it computes the coefficients into s.c    \n",
    "        \n",
    "        ##Debugging\n",
    "        if(test):\n",
    "            print(\"Converting the numerical solution into a usable form\")\n",
    "            numTDict={}\n",
    "            for i in range(n):\n",
    "                numTDict[s._Πs[i]]=s.Πs[i]\n",
    "            #display(s._T)\n",
    "            numT = s._T.subs(numTDict)\n",
    "            #display(numT)\n",
    "            print(\"Testing the numerically found Translation operator.\")\n",
    "            # for braP in s.bp:\n",
    "            #     for ketP in s.kp:\n",
    "            #         print(sq.qapply(braP*numT*ketP)) #sp.N(sq.qapply(braP*ketP)))\n",
    "            numMatT=sq.represent(numT)\n",
    "            display(sp.Transpose(numMatT) * numMatT)\n",
    "            \n",
    "            display(sq.represent(numT))\n",
    "            \n",
    "\n",
    "        if verbose==True:\n",
    "            print(\"Solving the cross Π\")\n",
    "        \n",
    "        #s._Πcross = s.eval_Π_cross(RHS=sq.represent(s.kp[2]*s.bp[2])) #s.eval_lin_c(RHS=sq.represent(s.kp[2]*s.bp[2]))\n",
    "        s._Πcross = s.eval_lin_c(RHS=sq.represent(s.kp[2]*s.bp[2]))\n",
    "            \n",
    "        if verbose==True:\n",
    "            print(\"Evaluating the first term of F\")\n",
    "\n",
    "        if(test):\n",
    "            s.Πcross = s.eval_lin_c(RHS=sq.represent(s.kp[2]*s.bp[2]),retIde=True)\n",
    "            s.test_swapGate()\n",
    "            \n",
    "        if(not test):\n",
    "            \n",
    "            try:\n",
    "                y=dill.load(open(\"Fsaved2\", \"rb\"))\n",
    "                s.F=y\n",
    "                print(\"Loaded from file\")\n",
    "            except:\n",
    "                y=None\n",
    "            \n",
    "            if y==None or forceCalc==True:\n",
    "                print(\"Evaluating F\")\n",
    "                s.eval_state_hw()\n",
    "                s.Fs = [s.eval_state_F()]                        \n",
    "                for i in range(n):\n",
    "                    print(\"iteration: \",i)\n",
    "                    s.Fs.append(s.Fs[-1]+5.0*s.eval_state_F(s.Πs[i],s._Πs[i]))\n",
    "                s.F = s.Fs[-1] #last element, the most recent calculation\n",
    "                \n",
    "                dill.dump(s.F, open(\"Fsaved2\", \"wb\"))\n",
    "                print(\"Saved to disk\")\n",
    "        \n",
    "        print(\"done\")\n",
    "        \n",
    "    def test_swapGate(s):\n",
    "        s.TP = sq.TensorProduct \n",
    "        s.T = s.kp[0]*s.bp[2] + s.kp[1]*s.bp[0] + s.kp[2]*s.bp[1] \n",
    "        s.Ti = s.kp[2]*s.bp[0] + s.kp[0]*s.bp[1] + s.kp[1]*s.bp[2] #TODO: Automate this\n",
    "        \n",
    "        Id_ = s.kp[0]*s.bp[0] + s.kp[1]*s.bp[1] + s.kp[2]*s.bp[2]\n",
    "        \n",
    "        dontDie=prune(sp.N(sq.qapply(s.T*s.T)))\n",
    "        \n",
    "        _U_=sq.represent(s.TP(Id_,s.kp[0]*s.bp[0])) + sq.represent(s.TP(s.T,s.kp[1]*s.bp[1])) \\\n",
    "        + sq.represent(s.TP(dontDie,s.kp[2]*s.bp[2]))\n",
    "        display(_U_)\n",
    "        \n",
    "        _T_=sq.represent(s.TP(Id_,s.kp[0]*s.bp[0] + s.kp[2]*s.bp[1] + s.kp[1]*s.bp[2]))\n",
    "        display(_T_)        \n",
    "        \n",
    "        #_V_= sq.represent(s.TP(s.kp[0]*s.bp[0],Id_) + s.TP(s.kp[1]*s.bp[1],s.Ti) + s.TP(s.kp[2]*s.bp[2],s.Ti*sp.N(s.Ti)))\n",
    "        _V_ = sq.represent(s.TP(s.Πs[0],Id_) + s.TP(s.Πs[1],s.Ti) + s.TP(s.Πcross,s.Ti*sp.N(s.Ti)))\n",
    "        display(_V_)\n",
    "        \n",
    "        print(\"comparing the projectors with the ket based projectors\")\n",
    "        \n",
    "        display(sq.represent(s.kp[0]*s.bp[0]))\n",
    "        display(sq.represent(s.Πs[0]))\n",
    "\n",
    "        display(sq.represent(s.kp[1]*s.bp[1]))\n",
    "        display(sq.represent(s.Πs[1]))\n",
    "\n",
    "        display(sq.represent(s.kp[2]*s.bp[2]))\n",
    "        display(sq.represent(s.Πcross))\n",
    "        \n",
    "        print(\"did this work?\")\n",
    "        \n",
    "        \n",
    "        SWAP = _T_*_U_*_V_*_U_\n",
    "        display(SWAP)\n",
    "        \n",
    "        testVec=sq.represent(s.TP(s.ke[0],s.ke[1]))\n",
    "        print(\"Multiplying this\")\n",
    "        display(testVec)\n",
    "        display(SWAP*testVec)\n",
    "        \n",
    "    def eval_state_hw(s):\n",
    "        s.TP = sq.TensorProduct\n",
    "        #dontDie=prune(sp.N(sq.qapply(s._T*s._T)))\n",
    "        \n",
    "        #s._U_=tsimp(s.TP(sp.Integer(1),prune(sp.N(s.kp[0]*s.bp[0]))) + s.TP(s._T,prune(sp.N(s.kp[1]*s.bp[1]))) + s.TP(dontDie,prune(sp.N(s.kp[2]*s.bp[2]))))\n",
    "        s._U_=tsimp(s.TP(sp.Integer(1),prune(sp.N(s.kp[0]*s.bp[0]))) + s.TP(s._Pd,prune(sp.N(s.kp[1]*s.bp[1]))) + s.TP(s._Pd * s._Pd,prune(sp.N(s.kp[2]*s.bp[2]))))\n",
    "        s._T_=s.TP(sp.Integer(1),prune(sp.N(s.kp[0]*s.bp[0])) + prune(sp.N(s.kp[2]*s.bp[1])) + prune(sp.N(s.kp[1]*s.bp[2])))\n",
    "        s._V_=prune(s.TP(s._Πs[0],sp.Integer(1)) + s.TP(s._Πs[1],prune(sp.N(s.Ti))) + s.TP(prune(s._Πcross),prune(sp.N(s.Ti)*sp.N(s.Ti))))\n",
    "        \n",
    "    \n",
    "    def eval_state_F(s,proj=sp.Integer(1),proj_=sp.Integer(1)):\n",
    "        s.TP = sq.TensorProduct #just to make naming easy\n",
    "            \n",
    "\n",
    "        print(\"Evaluated U,T,V; staying alive\")\n",
    "\n",
    "        _kin_ = s.TP(sp.Integer(1),sp.N(sq.qapply(proj*s.ke[0])))\n",
    "        _bin_ = s.TP(sp.Integer(1),sp.N(sq.qapply(s.br[0]*proj)))\n",
    "        \n",
    "        \n",
    "        _kout_ = s.TP(sp.Integer(1)*proj_,sp.N(s.kp[0])) #s.TP(sp.Integer(1),sp.N(s.kp[0]))\n",
    "        _bout_ = s.TP(sp.Integer(1)*proj_,sp.N(s.bp[0])) #s.TP(sp.Integer(1),sp.N(s.bp[0]))\n",
    "                                                                                             \n",
    "\n",
    "        print(\"evaluation stage:\")\n",
    "        F0=tsimp(_bin_ * s._T_).subs(s.gDict)\n",
    "        print(\"1\")\n",
    "        F1=tsimp(F0 * s._U_).subs(s.gDict) #*_V_\n",
    "        print(\"2\")\n",
    "        # #s.F2=tsimp(F1 * _V_)\n",
    "        # #G00 = tsimp(F1*_V_)\n",
    "        # #print(\"2.1\")\n",
    "        # #display(_U_)\n",
    "        # G00 = tsimp(_U_*_kout_).subs(s.gDict)\n",
    "        # print(\"2.1\")\n",
    "        # G01 = tsimp(_V_*G00).subs(s.gDict)\n",
    "        # print(\"2.2\")\n",
    "        # #G0 = tsimp(_V_*_U_)\n",
    "        # t1=sq.qapply(F1*G01).subs(s.gDict)\n",
    "        # print(\"2.3\")\n",
    "        \n",
    "        G0=tsimp(s._V_*_kout_).subs(s.gDict)\n",
    "        print(\"3\")\n",
    "        \n",
    "        #display(F1)\n",
    "        #display(G0)\n",
    "        t1=sq.qapply(F1*G0).subs(s.gDict)\n",
    "        \n",
    "        t2=t1.subs(s.daggerDict).subs(s.sqDict) #not sure why the s.daggerDict step is needed;\n",
    "        \n",
    "        H0 = tsimp(t2) #tsimp(F1*G0)\n",
    "        print(\"4\")\n",
    "        #s.F1 = s._bout_ * _T_ * _U_ * _V_ * s._kout_\n",
    "        #s.F2 = s.F1 * \n",
    "        s.F = tdsimp(H0)\n",
    "        print(\"5\")\n",
    "        \n",
    "        #return tdsimp(sp.expand(s.F * sq.Dagger(s.F)))\n",
    "        return sp.expand((sq.Dagger(s.F) * s.F).subs(s.daggerDict)).subs(s.sqDict).subs(s.sqDict).subs(s.gDict)\n",
    "        if verbose==True:\n",
    "            print(\"Dinner out is a go.\")\n",
    "        \n",
    "    def cross(s,vecs):\n",
    "        ca=[sq.qapply(sq.Dagger(s.ke[i])*vecs[0]).doit() for i in range(3)]\n",
    "        cb=[sq.qapply(sq.Dagger(s.ke[i])*vecs[1]).doit() for i in range(3)]\n",
    "        \n",
    "        res = (ca[2-1]*cb[3-1] - ca[3-1]*cb[2-1])*s.ke[0] + \\\n",
    "             (ca[3-1]*cb[1-1]-ca[1-1]*cb[3-1])*s.ke[1] + \\\n",
    "             (ca[1-1]*cb[2-1] - ca[2-1]*cb[1-1])*s.ke[2]\n",
    "        \n",
    "        return res\n",
    "\n",
    "    \n",
    "    #This I may not even be using\n",
    "    #I had made eval_lin_c more capable\n",
    "    def eval_Π_cross(s,RHS,varCount=None):\n",
    "        cls=s.__class__\n",
    "        if varCount==None:\n",
    "            varCount=cls_iKCBS.n*2\n",
    "        if varCount <= cls.n:\n",
    "            raise ValueError(\"number of variables should be at least n\")\n",
    "    \n",
    "        #a=sp.symbols('a0:%d'%varCount)\n",
    "        varCount=9\n",
    "        a=sp.symbols('a0:%d'%9)\n",
    "        ap=[]\n",
    "        #s.b=sp.symbols('b0:%d'%varCount)\n",
    "        b=[] #family of solutions\n",
    "        s.c=[] #particular solution with the free variables set to one\n",
    "        \n",
    "        #Setting up of constraints\n",
    "        #If the system is not able to find a solution, consider increasing\n",
    "        #the number of variables by taking different sets of products or products of three operators\n",
    "        \n",
    "        TfΠ = [a[0]*s.Πs[0] + a[1]*s.Πs[1] + a[2]*s.Πs[2] + a[3]*s.Πs[3] + a[4]*s.Πs[4] + \\\n",
    "                     a[5]*s.Πs[4]*s.Πs[2] + \\\n",
    "                     a[6]*s.Πs[4]*s.Πs[1] + \\\n",
    "                     a[7]*s.Πs[1]*s.Πs[3] + \\\n",
    "                     a[8]*s.Πs[2]*s.Πs[0] ]\n",
    "        \n",
    "        _TfΠ = [a[0]*s._Πs[0] + a[1]*s._Πs[1] + a[2]*s._Πs[2] + a[3]*s._Πs[3] + a[4]*s._Πs[4] + \\\n",
    "                     a[5]*s._Πs[4]*s._Πs[2] + \\\n",
    "                     a[6]*s._Πs[4]*s._Πs[1] + \\\n",
    "                     a[7]*s._Πs[1]*s._Πs[3] + \\\n",
    "                     a[8]*s._Πs[2]*s._Πs[0] ]        \n",
    "        \n",
    "#         TfΠ=[a[0]*s.Πs[0]]\n",
    "#         _TfΠ=[a[0]*s._Πs[0]]\n",
    "#         ap.append(a[0])\n",
    "#         for i in range(1 +cls.n):\n",
    "#             #if (not (i==2 or i==3)):\n",
    "#             TfΠ.append(TfΠ[-1] + a[i]*s.Πs[i])\n",
    "#             _TfΠ.append(_TfΠ[-1] + a[i]*s._Πs[i])\n",
    "#             ap.append(a[i])            \n",
    "\n",
    "#         if cls.n == 5:\n",
    "#             TfΠ.append(TfΠ[-1] + a[5]*s.Πs[4]*s.Πs[2] \\\n",
    "#                     + a[6]*s.Πs[4]*s.Πs[1] \\\n",
    "#                     + a[7]*s.Πs[1]*s.Πs[3] \\\n",
    "#                     + a[8]*s.Πs[2]*s.Πs[0])\n",
    "#             _TfΠ.append(_TfΠ[-1] + a[5]*s._Πs[4]*s._Πs[2] \\\n",
    "#                     + a[6]*s._Πs[4]*s._Πs[1] \\\n",
    "#                     + a[7]*s._Πs[1]*s._Πs[3] \\\n",
    "#                     + a[8]*s._Πs[2]*s._Πs[0])\n",
    "#             ap+=[a[5],a[6],a[7],a[8]]\n",
    "\n",
    "        LHS=sq.represent(TfΠ[-1])\n",
    "        #display(_TfΠ)\n",
    "        # LHS=a[0]*s.matΠs[0]\n",
    "        # for i in range(1,cls.n):\n",
    "        #     LHS=LHS+a[i]*s.matΠs[i]\n",
    "        # for i in range(cls.n,varCount):\n",
    "        #     LHS=LHS+a[i]*s.matΠs[i%cls.n]*s.matΠs[(i+2)%cls.n]\n",
    "            \n",
    "        #RHS=s.matT\n",
    "        \n",
    "        if cls.n!=5:\n",
    "            soln=sp.solve(sp.N(LHS-RHS),a,dict=True)\n",
    "        else:\n",
    "            soln=sp.solve(sp.N(LHS-RHS),a[:9],dict=True)\n",
    "            #soln=sp.solve(sp.N(LHS-RHS),ap,dict=True)\n",
    "        \n",
    "        print(soln)\n",
    "        #print(\"type:\",type(soln[0]))#, \" and shape:\", soln.shape())\n",
    "        for key,value in soln[0].items():\n",
    "            if np.abs(value)<10**(-s.thr):\n",
    "                soln[0][key]=sp.Integer(0)\n",
    "        \n",
    "        print(soln)\n",
    "        '''\n",
    "            #soln=sp.solve([a[0]-1,a[1]-2,a[2]-3,a[3]-4,a[4]-5,a[5]-1,a[6]-1,a[7]-1,a[8]-1,a[9]-1],a,dict=True)\n",
    "\n",
    "            # sols = solve([t1 + t2 + t3, eq1, eq2], [t1, t2, t3], dict=True)\n",
    "            # sols[0][t1] # This is t1 in the first solution        \n",
    "        '''\n",
    "\n",
    "        #Dictionary to assign one/zero to free variables\n",
    "        dRem={}\n",
    "        \n",
    "        #IMPORTANT: \n",
    "        #In sympy, symbols/expressions are unmutable (you can't change them ever);\n",
    "        #You can save a substituted expression into a new expression (and use a symbol to denote it)\n",
    "        #To wit: when you substitute, a new expression is produced\n",
    "\n",
    "        for i in range(varCount):\n",
    "            #the variables which were evaluated to an expression, assign them to b[i]\n",
    "            try:\n",
    "                b.append(soln[0][a[i]])      \n",
    "            #if the variable was free, assign b[i] to be one\n",
    "            #and create a dictionary to substitute these free variables\n",
    "            except:\n",
    "                b.append(sp.Integer(1))\n",
    "                dRem[a[i]]=1\n",
    "        \n",
    "        #in the solution saved into b[i], substitute for the free variables using the dictionary\n",
    "        #save the result into the variable c\n",
    "        s.c = [_.subs(dRem) for _ in b]\n",
    "\n",
    "        #substitute the solution into the coefficients in Tfπ_p, the operator T as a sum of projectors (and its products)\n",
    "        dFin={}\n",
    "        for i in range(varCount):\n",
    "            dFin[a[i]]=s.c[i]                \n",
    "        \n",
    "        return _TfΠ[-1].subs(dFin)            \n",
    "        \n",
    "    \n",
    "    #evaluates the matrices and vectors\n",
    "    def eval(s,j,n,ve=False):\n",
    "        N=sp.Integer(n)\n",
    "        J=sp.Integer(j)\n",
    "        #print(N,j)\n",
    "        one=sp.Integer(1)\n",
    "        #print(one)\n",
    "        α1=sp.cos((sp.pi)/N)/(one+sp.cos(sp.pi/N)) #verified\n",
    "        #a1=sp.cos(sp.pi/N)\n",
    "        #\n",
    "        #print(α1)\n",
    "        \n",
    "        α2=one-α1 #verified\n",
    "        α3=J * sp.pi * (N-one)/N #verified\n",
    "        \n",
    "        vec = sp.sqrt(α1)*s.ke[0] + sp.sqrt(α2)*sp.sin(α3)*s.ke[1] + sp.sqrt(α2)*sp.cos(α3)*s.ke[2]\n",
    "        \n",
    "        projector = vec*sq.Dagger(vec)\n",
    "           \n",
    "        #matrixprojector = sp.Matrix([0,0])\n",
    "        #return projector\n",
    "        #display(sq.represent(projector))\n",
    "        #display(sq.represent(vec))\n",
    "        \n",
    "        if ve==False:\n",
    "            return projector\n",
    "        else:\n",
    "            return vec\n",
    "        \n",
    "    def eval_lin_c(s,varCount=None,RHS=None,retIde=False):\n",
    "        cls=s.__class__\n",
    "        if varCount==None:\n",
    "            varCount=cls_iKCBS.n*2\n",
    "        if varCount <= cls.n:\n",
    "            raise ValueError(\"number of variables should be at least n\")\n",
    "    \n",
    "        a=sp.symbols('a0:%d'%varCount)\n",
    "        #s.b=sp.symbols('b0:%d'%varCount)\n",
    "        b=[] #family of solutions\n",
    "        s.c=[] #particular solution with the free variables set to one\n",
    "        \n",
    "        #Setting up of constraints\n",
    "        #If the system is not able to find a solution, consider increasing\n",
    "        #the number of variables by taking different sets of products or products of three operators\n",
    "        TfΠ=[a[0]*s.Πs[0]]\n",
    "        _TfΠ=[a[0]*s._Πs[0]]\n",
    "        \n",
    "        for i in range(1,cls.n):\n",
    "            TfΠ.append(TfΠ[-1] + a[i]*s.Πs[i])\n",
    "            _TfΠ.append(_TfΠ[-1] + a[i]*s._Πs[i])\n",
    "\n",
    "        if cls.n != 5:            \n",
    "            for i in range(cls.n,varCount):\n",
    "                TfΠ.append(TfΠ[-1] + a[i]*s.Πs[i%cls.n]*s.Πs[(i+2)%cls.n])\n",
    "                _TfΠ.append(_TfΠ[-1] + a[i]*s._Πs[i%cls.n]*s._Πs[(i+2)%cls.n])\n",
    "        else:\n",
    "            TfΠ.append(TfΠ[-1] + a[5]*s.Πs[4]*s.Πs[2] \\\n",
    "                    + a[6]*s.Πs[4]*s.Πs[1] \\\n",
    "                    + a[7]*s.Πs[1]*s.Πs[3] \\\n",
    "                    + a[8]*s.Πs[2]*s.Πs[0])\n",
    "            _TfΠ.append(_TfΠ[-1] + a[5]*s._Πs[4]*s._Πs[2] \\\n",
    "                    + a[6]*s._Πs[4]*s._Πs[1] \\\n",
    "                    + a[7]*s._Πs[1]*s._Πs[3] \\\n",
    "                    + a[8]*s._Πs[2]*s._Πs[0])\n",
    "            \n",
    "            \n",
    "        LHS=sq.represent(TfΠ[-1])\n",
    "        #display(_TfΠ)\n",
    "        # LHS=a[0]*s.matΠs[0]\n",
    "        # for i in range(1,cls.n):\n",
    "        #     LHS=LHS+a[i]*s.matΠs[i]\n",
    "        # for i in range(cls.n,varCount):\n",
    "        #     LHS=LHS+a[i]*s.matΠs[i%cls.n]*s.matΠs[(i+2)%cls.n]\n",
    "        if RHS == None:\n",
    "            RHS=s.matT\n",
    "        \n",
    "        if cls.n!=5:\n",
    "            soln=sp.solve(sp.N(LHS-RHS),a,dict=True)\n",
    "        else:\n",
    "            soln=sp.solve(sp.N(LHS-RHS),a[:9],dict=True)\n",
    "        \n",
    "        print(soln)\n",
    "        #print(\"type:\",type(soln[0]))#, \" and shape:\", soln.shape())\n",
    "        for key,value in soln[0].items():\n",
    "            if np.abs(value)<10**(-s.thr):\n",
    "                soln[0][key]=sp.Integer(0)\n",
    "        \n",
    "        print(soln)\n",
    "        '''\n",
    "            #soln=sp.solve([a[0]-1,a[1]-2,a[2]-3,a[3]-4,a[4]-5,a[5]-1,a[6]-1,a[7]-1,a[8]-1,a[9]-1],a,dict=True)\n",
    "\n",
    "            # sols = solve([t1 + t2 + t3, eq1, eq2], [t1, t2, t3], dict=True)\n",
    "            # sols[0][t1] # This is t1 in the first solution        \n",
    "        '''\n",
    "\n",
    "        #Dictionary to assign one/zero to free variables\n",
    "        dRem={}\n",
    "        \n",
    "        #IMPORTANT: \n",
    "        #In sympy, symbols/expressions are unmutable (you can't change them ever);\n",
    "        #You can save a substituted expression into a new expression (and use a symbol to denote it)\n",
    "        #To wit: when you substitute, a new expression is produced\n",
    "\n",
    "        for i in range(varCount):\n",
    "            #the variables which were evaluated to an expression, assign them to b[i]\n",
    "            try:\n",
    "                b.append(soln[0][a[i]])      \n",
    "            #if the variable was free, assign b[i] to be one\n",
    "            #and create a dictionary to substitute these free variables\n",
    "            except:\n",
    "                b.append(sp.Integer(1))\n",
    "                dRem[a[i]]=1\n",
    "        \n",
    "        #in the solution saved into b[i], substitute for the free variables using the dictionary\n",
    "        #save the result into the variable c\n",
    "        s.c = [_.subs(dRem) for _ in b]\n",
    "\n",
    "        #substitute the solution into the coefficients in Tfπ_p, the operator T as a sum of projectors (and its products)\n",
    "        dFin={}\n",
    "        for i in range(varCount):\n",
    "            dFin[a[i]]=s.c[i]                \n",
    "        \n",
    "        if retIde==False:\n",
    "            return _TfΠ[-1].subs(dFin)\n",
    "        else:\n",
    "            return TfΠ[-1].subs(dFin)\n",
    "            \n",
    "    def eval_c(s,varCount=None):\n",
    "        cls=s.__class__\n",
    "        if varCount==None:\n",
    "            varCount=cls_iKCBS.n*2\n",
    "        if varCount <= cls.n:\n",
    "            raise ValueError(\"number of variables should be at least n\")\n",
    "    \n",
    "        a=sp.symbols('a0:%d'%varCount)\n",
    "        #s.b=sp.symbols('b0:%d'%varCount)\n",
    "        b=[] #family of solutions\n",
    "        s.c=[] #particular solution with the free variables set to one\n",
    "        \n",
    "        #Setting up of constraints\n",
    "        #If the system is not able to find a solution, consider increasing\n",
    "        #the number of variables by taking different sets of products or products of three operators\n",
    "        TfΠ=a[0]*s.Πs[0]\n",
    "        _TfΠ=a[0]*s._Πs[0]\n",
    "        for i in range(1,cls.n):\n",
    "            TfΠ=TfΠ + a[i]*s.Πs[i]\n",
    "            _TfΠ=_TfΠ + a[i]*s._Πs[i]\n",
    "        for i in range(cls.n,varCount):\n",
    "            TfΠ=TfΠ + a[i]*s.Πs[i%cls.n]*s.Πs[(i+2)%cls.n]\n",
    "            _TfΠ=_TfΠ + a[i]*s._Πs[i%cls.n]*s._Πs[(i+2)%cls.n]\n",
    "            \n",
    "            \n",
    "        LHS=sq.represent(TfΠ)\n",
    "        \n",
    "        # LHS=a[0]*s.matΠs[0]\n",
    "        # for i in range(1,cls.n):\n",
    "        #     LHS=LHS+a[i]*s.matΠs[i]\n",
    "        # for i in range(cls.n,varCount):\n",
    "        #     LHS=LHS+a[i]*s.matΠs[i%cls.n]*s.matΠs[(i+2)%cls.n]\n",
    "            \n",
    "        RHS=s.matT\n",
    "        \n",
    "        soln=sp.solve(sp.N(LHS-RHS),a,dict=True)\n",
    "\n",
    "        '''\n",
    "            #soln=sp.solve([a[0]-1,a[1]-2,a[2]-3,a[3]-4,a[4]-5,a[5]-1,a[6]-1,a[7]-1,a[8]-1,a[9]-1],a,dict=True)\n",
    "\n",
    "            # sols = solve([t1 + t2 + t3, eq1, eq2], [t1, t2, t3], dict=True)\n",
    "            # sols[0][t1] # This is t1 in the first solution        \n",
    "        '''\n",
    "\n",
    "        #Dictionary to assign one/zero to free variables\n",
    "        dRem={}\n",
    "        \n",
    "        #IMPORTANT: \n",
    "        #In sympy, symbols/expressions are unmutable (you can't change them ever);\n",
    "        #You can save a substituted expression into a new expression (and use a symbol to denote it)\n",
    "        #To wit: when you substitute, a new expression is produced\n",
    "\n",
    "        for i in range(varCount):\n",
    "            #the variables which were evaluated to an expression, assign them to b[i]\n",
    "            try:\n",
    "                b.append(soln[0][a[i]])      \n",
    "            #if the variable was free, assign b[i] to be one\n",
    "            #and create a dictionary to substitute these free variables\n",
    "            except:\n",
    "                b.append(sp.Integer(1))\n",
    "                dRem[a[i]]=1\n",
    "        \n",
    "        #in the solution saved into b[i], substitute for the free variables using the dictionary\n",
    "        #save the result into the variable c\n",
    "        s.c = [_.subs(dRem) for _ in b]\n",
    "\n",
    "        #substitute the solution into the coefficients in Tfπ_p, the operator T as a sum of projectors (and its products)\n",
    "        dFin={}\n",
    "        for i in range(varCount):\n",
    "            dFin[a[i]]=s.c[i]                \n",
    "        \n",
    "        return _TfΠ.subs(dFin)\n",
    "        \n",
    "    #This doesn't work as expected\n",
    "    def partial_trace(s,M):\n",
    "        \n",
    "        s.br_ = [ sq.TensorProduct(sq.IdentityOperator(),_) for _ in s.br]\n",
    "        s.ke_ = [ sq.TensorProduct(sq.IdentityOperator(),_) for _ in s.ke]\n",
    "        \n",
    "        res=0*s.br_[0]*M*s.ke_[0]        #to get the type right!\n",
    "        for i in range(3):\n",
    "            for j in range(3):\n",
    "                res=res+s.br_[i]*M*s.ke_[j]\n",
    "        #return sq.qapply(res).doit()\n",
    "        return tsimp(res)\n",
    "        "
   ]
  },
  {
   "cell_type": "code",
   "execution_count": 33,
   "metadata": {
    "init_cell": true,
    "scrolled": false
   },
   "outputs": [
    {
     "name": "stdout",
     "output_type": "stream",
     "text": [
      "Creating projectors etc\n",
      "Solving a linear system to find the coefficients for expressing the translation operator as a sum of projectors\n",
      "[{a0: -0.272019649514071, a1: -0.485868271756646, a2: -2.05817102727149, a3: 9.32265207248423e-16, a4: 2.77032771530715, a5: -1.15229372655726, a6: -4.82849874257864, a7: 3.33019067678556, a8: 2.77032771530716}]\n",
      "[{a0: -0.272019649514071, a1: -0.485868271756646, a2: -2.05817102727149, a3: 0, a4: 2.77032771530715, a5: -1.15229372655726, a6: -4.82849874257864, a7: 3.33019067678556, a8: 2.77032771530716}]\n",
      "Solving the cross Π\n",
      "[{a0: -1.00000000000000, a1: -1.00000000000000, a2: 1.43924480352684e-16, a3: 3.91811281370199e-15, a4: 4.23606797749978, a5: -4.23606797749978, a6: -4.23606797749978, a7: 2.61803398874988, a8: 2.61803398874990}]\n",
      "[{a0: -1.00000000000000, a1: -1.00000000000000, a2: 0, a3: 0, a4: 4.23606797749978, a5: -4.23606797749978, a6: -4.23606797749978, a7: 2.61803398874988, a8: 2.61803398874990}]\n",
      "Evaluating the first term of F\n",
      "Loaded from file\n",
      "done\n"
     ]
    }
   ],
   "source": [
    "iKCBS = cls_iKCBS(5,verbose=True) #,test=False,forceCalc=True)"
   ]
  },
  {
   "cell_type": "code",
   "execution_count": 99,
   "metadata": {},
   "outputs": [],
   "source": [
    "# gla=iKCBS.F #_Πs[0] #kp[0]*iKCBS.bp[0] #sq.dagger(iKCBS.ke[0])\n",
    "# # with open(\"F.txt\",\"w\") as outf:\n",
    "# #     pickle.dump(gla,outf)\n",
    "# dill.dump(gla, open(\"myfile\", \"wb\"))\n",
    "\n",
    "\n",
    "# gla2=dill.load(open(\"myfile\", \"rb\"))"
   ]
  },
  {
   "cell_type": "code",
   "execution_count": null,
   "metadata": {},
   "outputs": [],
   "source": [
    "# display(gla2)\n",
    "#print(iKCBS.c)\n",
    "#prune(sp.N(sq.qapply(iKCBS.bp[2]*iKCBS.kp[1])))\n",
    "\n",
    "# display(sq.qapply(iKCBS.F.subs(iKCBS.sqDict)))\n",
    "# print(iKCBS.sqDict)"
   ]
  },
  {
   "cell_type": "code",
   "execution_count": 31,
   "metadata": {
    "init_cell": true
   },
   "outputs": [
    {
     "data": {
      "text/latex": [
       "$\\displaystyle 2.78885438199984 Π_{0} + 0.217286896751641 Π_{0} P Π_{0} + 0.217286896751641 Π_{0} Pd Π_{0} + 0.434573793503282 Π_{0} Pd Π_{1} - 0.568864481005782 Π_{0} Pd Π_{1} Π_{3} - 0.568864481005786 Π_{0} Pd Π_{2} Π_{0} - 0.920442065259927 Π_{0} Pd Π_{4} + 0.920442065259926 Π_{0} Pd Π_{4} Π_{1} + 0.920442065259927 Π_{0} Pd Π_{4} Π_{2} + 0.447213595499959 Π_{0} Pd^{2} Π_{1} - 0.568864481005786 Π_{0} Π_{2} P Π_{0} - 0.568864481005785 Π_{0} Π_{2} Pd Π_{1} + 0.170820393249937 Π_{0} Π_{2} Π_{0} + 1.17082039324994 Π_{0} Π_{2} Π_{4} - 1.17082039324994 Π_{0} Π_{2} Π_{4} Π_{1} - 1.17082039324994 Π_{0} Π_{2} Π_{4} Π_{2} + 2.78885438199983 Π_{1} + 0.434573793503282 Π_{1} P Π_{0} + 0.21728689675164 Π_{1} P Π_{1} - 0.568864481005781 Π_{1} P Π_{1} Π_{3} - 0.568864481005785 Π_{1} P Π_{2} Π_{0} - 0.920442065259925 Π_{1} P Π_{4} + 0.920442065259924 Π_{1} P Π_{4} Π_{1} + 0.920442065259925 Π_{1} P Π_{4} Π_{2} + 0.447213595499959 Π_{1} P^{2} Π_{0} + 0.21728689675164 Π_{1} Pd Π_{1} - 0.27639320225002 Π_{1} Π_{3} - 2.34164078649987 Π_{1} Π_{4} + 0.920442065259926 Π_{1} Π_{4} P Π_{0} + 0.920442065259924 Π_{1} Π_{4} Pd Π_{1} + 2.78885438199982 Π_{1} Π_{4} Π_{1} - 1.17082039324993 Π_{1} Π_{4} Π_{1} Π_{3} + 2.34164078649987 Π_{1} Π_{4} Π_{2} - 1.17082039324994 Π_{1} Π_{4} Π_{2} Π_{0} - 1.89442719099991 Π_{2} Π_{4} + 0.920442065259927 Π_{2} Π_{4} P Π_{0} + 0.920442065259925 Π_{2} Π_{4} Pd Π_{1} + 2.34164078649987 Π_{2} Π_{4} Π_{1} - 1.17082039324993 Π_{2} Π_{4} Π_{1} Π_{3} + 1.89442719099991 Π_{2} Π_{4} Π_{2} - 1.17082039324994 Π_{2} Π_{4} Π_{2} Π_{0} - 0.27639320225002 Π_{3} Π_{1} - 0.568864481005782 Π_{3} Π_{1} P Π_{0} - 0.568864481005781 Π_{3} Π_{1} Pd Π_{1} + 0.723606797749973 Π_{3} Π_{1} Π_{3} + 1.17082039324993 Π_{3} Π_{1} Π_{4} - 1.17082039324993 Π_{3} Π_{1} Π_{4} Π_{1} - 1.17082039324993 Π_{3} Π_{1} Π_{4} Π_{2} + 1.89442719099991 Π_{4} - 0.920442065259927 Π_{4} P Π_{0} - 0.920442065259925 Π_{4} Pd Π_{1} - 2.34164078649987 Π_{4} Π_{1} + 1.17082039324993 Π_{4} Π_{1} Π_{3} - 1.89442719099991 Π_{4} Π_{2} + 1.17082039324994 Π_{4} Π_{2} Π_{0} + 5.0 \\left(0.217286896751641 Π_{2} Π_{0} P Π_{0} Π_{2} + 0.217286896751641 Π_{2} Π_{0} Pd Π_{0} Π_{2} - 0.568864481005786 Π_{2} Π_{0} Pd Π_{2} Π_{0} Π_{2} + 0.44721359549996 Π_{2} Π_{0} Π_{2} - 0.568864481005786 Π_{2} Π_{0} Π_{2} P Π_{0} Π_{2} + 0.44721359549996 Π_{2} Π_{0} Π_{2} Π_{0} Π_{2}\\right) + 5.0 \\left(4.95967477524975 Π_{4} - 0.920442065259924 Π_{4} Pd Π_{1} Π_{4} + 0.21728689675164 Π_{4} Π_{1} P Π_{1} Π_{4} - 0.920442065259924 Π_{4} Π_{1} P Π_{4} + 0.920442065259924 Π_{4} Π_{1} P Π_{4} Π_{1} Π_{4} + 0.920442065259925 Π_{4} Π_{1} P Π_{4} Π_{2} Π_{4} + 0.21728689675164 Π_{4} Π_{1} Pd Π_{1} Π_{4} - 11.8137767414994 Π_{4} Π_{1} Π_{4} + 0.920442065259924 Π_{4} Π_{1} Π_{4} Pd Π_{1} Π_{4} + 7.30131556174961 Π_{4} Π_{1} Π_{4} Π_{1} Π_{4} + 6.13049516849968 Π_{4} Π_{1} Π_{4} Π_{2} Π_{4} - 9.9193495504995 Π_{4} Π_{2} Π_{4} + 0.920442065259925 Π_{4} Π_{2} Π_{4} Pd Π_{1} Π_{4} + 6.13049516849968 Π_{4} Π_{2} Π_{4} Π_{1} Π_{4} + 4.95967477524975 Π_{4} Π_{2} Π_{4} Π_{2} Π_{4}\\right) + 5.0 \\left(- 0.134290687502503 Π_{3} Π_{0} P Π_{0} Π_{3} - 0.134290687502503 Π_{3} Π_{0} Pd Π_{0} Π_{3} + 0.082996209249136 Π_{3} Π_{0} Pd Π_{1} Π_{3} + 0.351577584254145 Π_{3} Π_{0} Pd Π_{2} Π_{0} Π_{3} - 0.568864481005783 Π_{3} Π_{0} Pd Π_{4} Π_{1} Π_{3} + 0.170820393249937 Π_{3} Π_{0} Pd^{2} Π_{1} Π_{3} + 0.351577584254145 Π_{3} Π_{0} Π_{2} P Π_{0} Π_{3} + 0.351577584254144 Π_{3} Π_{0} Π_{2} Pd Π_{1} Π_{3} + 0.170820393249938 Π_{3} Π_{0} Π_{2} Π_{0} Π_{3} - 1.17082039324994 Π_{3} Π_{0} Π_{2} Π_{4} Π_{1} Π_{3} + 0.276393202250022 Π_{3} Π_{0} Π_{3} + 0.082996209249136 Π_{3} Π_{1} P Π_{0} Π_{3} + 0.217286896751639 Π_{3} Π_{1} P Π_{1} Π_{3} + 0.351577584254144 Π_{3} Π_{1} P Π_{2} Π_{0} Π_{3} - 0.568864481005782 Π_{3} Π_{1} P Π_{4} Π_{1} Π_{3} + 0.170820393249937 Π_{3} Π_{1} P^{2} Π_{0} Π_{3} + 0.217286896751639 Π_{3} Π_{1} Pd Π_{1} Π_{3} + 0.447213595499955 Π_{3} Π_{1} Π_{3} - 0.568864481005783 Π_{3} Π_{1} Π_{4} P Π_{0} Π_{3} - 0.568864481005782 Π_{3} Π_{1} Π_{4} Pd Π_{1} Π_{3} + 0.447213595499962 Π_{3} Π_{1} Π_{4} Π_{1} Π_{3} - 1.17082039324994 Π_{3} Π_{1} Π_{4} Π_{2} Π_{0} Π_{3}\\right)$"
      ],
      "text/plain": [
       "                                                                              \n",
       "2.78885438199984⋅Π₀ + 0.217286896751641⋅Π₀⋅P⋅Π₀ + 0.217286896751641⋅Π₀⋅Pd⋅Π₀ +\n",
       "\n",
       "                                                                              \n",
       " 0.434573793503282⋅Π₀⋅Pd⋅Π₁ - 0.568864481005782⋅Π₀⋅Pd⋅Π₁⋅Π₃ - 0.56886448100578\n",
       "\n",
       "                                                                              \n",
       "6⋅Π₀⋅Pd⋅Π₂⋅Π₀ - 0.920442065259927⋅Π₀⋅Pd⋅Π₄ + 0.920442065259926⋅Π₀⋅Pd⋅Π₄⋅Π₁ + 0\n",
       "\n",
       "                                                      2                       \n",
       ".920442065259927⋅Π₀⋅Pd⋅Π₄⋅Π₂ + 0.447213595499959⋅Π₀⋅Pd ⋅Π₁ - 0.568864481005786\n",
       "\n",
       "                                                                              \n",
       "⋅Π₀⋅Π₂⋅P⋅Π₀ - 0.568864481005785⋅Π₀⋅Π₂⋅Pd⋅Π₁ + 0.170820393249937⋅Π₀⋅Π₂⋅Π₀ + 1.1\n",
       "\n",
       "                                                                              \n",
       "7082039324994⋅Π₀⋅Π₂⋅Π₄ - 1.17082039324994⋅Π₀⋅Π₂⋅Π₄⋅Π₁ - 1.17082039324994⋅Π₀⋅Π₂\n",
       "\n",
       "                                                                              \n",
       "⋅Π₄⋅Π₂ + 2.78885438199983⋅Π₁ + 0.434573793503282⋅Π₁⋅P⋅Π₀ + 0.21728689675164⋅Π₁\n",
       "\n",
       "                                                                              \n",
       "⋅P⋅Π₁ - 0.568864481005781⋅Π₁⋅P⋅Π₁⋅Π₃ - 0.568864481005785⋅Π₁⋅P⋅Π₂⋅Π₀ - 0.920442\n",
       "\n",
       "                                                                              \n",
       "065259925⋅Π₁⋅P⋅Π₄ + 0.920442065259924⋅Π₁⋅P⋅Π₄⋅Π₁ + 0.920442065259925⋅Π₁⋅P⋅Π₄⋅Π\n",
       "\n",
       "                          2                                                   \n",
       "₂ + 0.447213595499959⋅Π₁⋅P ⋅Π₀ + 0.21728689675164⋅Π₁⋅Pd⋅Π₁ - 0.27639320225002⋅\n",
       "\n",
       "                                                                              \n",
       "Π₁⋅Π₃ - 2.34164078649987⋅Π₁⋅Π₄ + 0.920442065259926⋅Π₁⋅Π₄⋅P⋅Π₀ + 0.920442065259\n",
       "\n",
       "                                                                              \n",
       "924⋅Π₁⋅Π₄⋅Pd⋅Π₁ + 2.78885438199982⋅Π₁⋅Π₄⋅Π₁ - 1.17082039324993⋅Π₁⋅Π₄⋅Π₁⋅Π₃ + 2\n",
       "\n",
       "                                                                              \n",
       ".34164078649987⋅Π₁⋅Π₄⋅Π₂ - 1.17082039324994⋅Π₁⋅Π₄⋅Π₂⋅Π₀ - 1.89442719099991⋅Π₂⋅\n",
       "\n",
       "                                                                              \n",
       "Π₄ + 0.920442065259927⋅Π₂⋅Π₄⋅P⋅Π₀ + 0.920442065259925⋅Π₂⋅Π₄⋅Pd⋅Π₁ + 2.34164078\n",
       "\n",
       "                                                                              \n",
       "649987⋅Π₂⋅Π₄⋅Π₁ - 1.17082039324993⋅Π₂⋅Π₄⋅Π₁⋅Π₃ + 1.89442719099991⋅Π₂⋅Π₄⋅Π₂ - 1\n",
       "\n",
       "                                                                              \n",
       ".17082039324994⋅Π₂⋅Π₄⋅Π₂⋅Π₀ - 0.27639320225002⋅Π₃⋅Π₁ - 0.568864481005782⋅Π₃⋅Π₁\n",
       "\n",
       "                                                                              \n",
       "⋅P⋅Π₀ - 0.568864481005781⋅Π₃⋅Π₁⋅Pd⋅Π₁ + 0.723606797749973⋅Π₃⋅Π₁⋅Π₃ + 1.1708203\n",
       "\n",
       "                                                                              \n",
       "9324993⋅Π₃⋅Π₁⋅Π₄ - 1.17082039324993⋅Π₃⋅Π₁⋅Π₄⋅Π₁ - 1.17082039324993⋅Π₃⋅Π₁⋅Π₄⋅Π₂\n",
       "\n",
       "                                                                              \n",
       " + 1.89442719099991⋅Π₄ - 0.920442065259927⋅Π₄⋅P⋅Π₀ - 0.920442065259925⋅Π₄⋅Pd⋅Π\n",
       "\n",
       "                                                                              \n",
       "₁ - 2.34164078649987⋅Π₄⋅Π₁ + 1.17082039324993⋅Π₄⋅Π₁⋅Π₃ - 1.89442719099991⋅Π₄⋅Π\n",
       "\n",
       "                                                                              \n",
       "₂ + 1.17082039324994⋅Π₄⋅Π₂⋅Π₀ + 5.0⋅(0.217286896751641⋅Π₂⋅Π₀⋅P⋅Π₀⋅Π₂ + 0.21728\n",
       "\n",
       "                                                                              \n",
       "6896751641⋅Π₂⋅Π₀⋅Pd⋅Π₀⋅Π₂ - 0.568864481005786⋅Π₂⋅Π₀⋅Pd⋅Π₂⋅Π₀⋅Π₂ + 0.4472135954\n",
       "\n",
       "                                                                              \n",
       "9996⋅Π₂⋅Π₀⋅Π₂ - 0.568864481005786⋅Π₂⋅Π₀⋅Π₂⋅P⋅Π₀⋅Π₂ + 0.44721359549996⋅Π₂⋅Π₀⋅Π₂\n",
       "\n",
       "                                                                              \n",
       "⋅Π₀⋅Π₂) + 5.0⋅(4.95967477524975⋅Π₄ - 0.920442065259924⋅Π₄⋅Pd⋅Π₁⋅Π₄ + 0.2172868\n",
       "\n",
       "                                                                              \n",
       "9675164⋅Π₄⋅Π₁⋅P⋅Π₁⋅Π₄ - 0.920442065259924⋅Π₄⋅Π₁⋅P⋅Π₄ + 0.920442065259924⋅Π₄⋅Π₁\n",
       "\n",
       "                                                                              \n",
       "⋅P⋅Π₄⋅Π₁⋅Π₄ + 0.920442065259925⋅Π₄⋅Π₁⋅P⋅Π₄⋅Π₂⋅Π₄ + 0.21728689675164⋅Π₄⋅Π₁⋅Pd⋅Π\n",
       "\n",
       "                                                                              \n",
       "₁⋅Π₄ - 11.8137767414994⋅Π₄⋅Π₁⋅Π₄ + 0.920442065259924⋅Π₄⋅Π₁⋅Π₄⋅Pd⋅Π₁⋅Π₄ + 7.301\n",
       "\n",
       "                                                                              \n",
       "31556174961⋅Π₄⋅Π₁⋅Π₄⋅Π₁⋅Π₄ + 6.13049516849968⋅Π₄⋅Π₁⋅Π₄⋅Π₂⋅Π₄ - 9.9193495504995\n",
       "\n",
       "                                                                              \n",
       "⋅Π₄⋅Π₂⋅Π₄ + 0.920442065259925⋅Π₄⋅Π₂⋅Π₄⋅Pd⋅Π₁⋅Π₄ + 6.13049516849968⋅Π₄⋅Π₂⋅Π₄⋅Π₁\n",
       "\n",
       "                                             ⎛                                \n",
       "⋅Π₄ + 4.95967477524975⋅Π₄⋅Π₂⋅Π₄⋅Π₂⋅Π₄) + 5.0⋅⎝-0.134290687502503⋅Π₃⋅Π₀⋅P⋅Π₀⋅Π₃\n",
       "\n",
       "                                                                              \n",
       " - 0.134290687502503⋅Π₃⋅Π₀⋅Pd⋅Π₀⋅Π₃ + 0.082996209249136⋅Π₃⋅Π₀⋅Pd⋅Π₁⋅Π₃ + 0.351\n",
       "\n",
       "                                                                              \n",
       "577584254145⋅Π₃⋅Π₀⋅Pd⋅Π₂⋅Π₀⋅Π₃ - 0.568864481005783⋅Π₃⋅Π₀⋅Pd⋅Π₄⋅Π₁⋅Π₃ + 0.17082\n",
       "\n",
       "                   2                                                          \n",
       "0393249937⋅Π₃⋅Π₀⋅Pd ⋅Π₁⋅Π₃ + 0.351577584254145⋅Π₃⋅Π₀⋅Π₂⋅P⋅Π₀⋅Π₃ + 0.3515775842\n",
       "\n",
       "                                                                              \n",
       "54144⋅Π₃⋅Π₀⋅Π₂⋅Pd⋅Π₁⋅Π₃ + 0.170820393249938⋅Π₃⋅Π₀⋅Π₂⋅Π₀⋅Π₃ - 1.17082039324994⋅\n",
       "\n",
       "                                                                              \n",
       "Π₃⋅Π₀⋅Π₂⋅Π₄⋅Π₁⋅Π₃ + 0.276393202250022⋅Π₃⋅Π₀⋅Π₃ + 0.082996209249136⋅Π₃⋅Π₁⋅P⋅Π₀⋅\n",
       "\n",
       "                                                                              \n",
       "Π₃ + 0.217286896751639⋅Π₃⋅Π₁⋅P⋅Π₁⋅Π₃ + 0.351577584254144⋅Π₃⋅Π₁⋅P⋅Π₂⋅Π₀⋅Π₃ - 0.\n",
       "\n",
       "                                                            2                 \n",
       "568864481005782⋅Π₃⋅Π₁⋅P⋅Π₄⋅Π₁⋅Π₃ + 0.170820393249937⋅Π₃⋅Π₁⋅P ⋅Π₀⋅Π₃ + 0.217286\n",
       "\n",
       "                                                                              \n",
       "896751639⋅Π₃⋅Π₁⋅Pd⋅Π₁⋅Π₃ + 0.447213595499955⋅Π₃⋅Π₁⋅Π₃ - 0.568864481005783⋅Π₃⋅Π\n",
       "\n",
       "                                                                              \n",
       "₁⋅Π₄⋅P⋅Π₀⋅Π₃ - 0.568864481005782⋅Π₃⋅Π₁⋅Π₄⋅Pd⋅Π₁⋅Π₃ + 0.447213595499962⋅Π₃⋅Π₁⋅Π\n",
       "\n",
       "                                            ⎞\n",
       "₄⋅Π₁⋅Π₃ - 1.17082039324994⋅Π₃⋅Π₁⋅Π₄⋅Π₂⋅Π₀⋅Π₃⎠"
      ]
     },
     "metadata": {},
     "output_type": "display_data"
    }
   ],
   "source": [
    "#display(sp.simplify(iKCBS.F.subs(iKCBS.sqDict)))\n",
    "display(iKCBS.F.subs(iKCBS.sqDict))\n",
    "#The orthogonal relations are imposed later using the graph"
   ]
  },
  {
   "cell_type": "markdown",
   "metadata": {
    "heading_collapsed": true
   },
   "source": [
    "### Debugging the evaluation of fidelity\n",
    "\n",
    "Eventually, had to convert all the exact coefficients into numbers; else it was taking too long; it is still rather slow actually."
   ]
  },
  {
   "cell_type": "code",
   "execution_count": 57,
   "metadata": {
    "hidden": true
   },
   "outputs": [
    {
     "ename": "AttributeError",
     "evalue": "'cls_iKCBS' object has no attribute 'H0'",
     "output_type": "error",
     "traceback": [
      "\u001b[0;31m---------------------------------------------------------------------------\u001b[0m",
      "\u001b[0;31mAttributeError\u001b[0m                            Traceback (most recent call last)",
      "\u001b[0;32m<ipython-input-57-351531601937>\u001b[0m in \u001b[0;36m<module>\u001b[0;34m\u001b[0m\n\u001b[0;32m----> 1\u001b[0;31m \u001b[0mres\u001b[0m\u001b[0;34m=\u001b[0m\u001b[0mtdsimp\u001b[0m\u001b[0;34m(\u001b[0m\u001b[0miKCBS\u001b[0m\u001b[0;34m.\u001b[0m\u001b[0mH0\u001b[0m\u001b[0;34m)\u001b[0m\u001b[0;34m\u001b[0m\u001b[0;34m\u001b[0m\u001b[0m\n\u001b[0m\u001b[1;32m      2\u001b[0m \u001b[0;31m#display(autoDropDim(sq.qapply(res).doit()))\u001b[0m\u001b[0;34m\u001b[0m\u001b[0;34m\u001b[0m\u001b[0;34m\u001b[0m\u001b[0m\n\u001b[1;32m      3\u001b[0m \u001b[0mdisplay\u001b[0m\u001b[0;34m(\u001b[0m\u001b[0mres\u001b[0m\u001b[0;34m)\u001b[0m\u001b[0;34m\u001b[0m\u001b[0;34m\u001b[0m\u001b[0m\n",
      "\u001b[0;31mAttributeError\u001b[0m: 'cls_iKCBS' object has no attribute 'H0'"
     ]
    }
   ],
   "source": [
    "res=tdsimp(iKCBS.H0)\n",
    "#display(autoDropDim(sq.qapply(res).doit()))\n",
    "display(res)"
   ]
  },
  {
   "cell_type": "code",
   "execution_count": 26,
   "metadata": {
    "hidden": true
   },
   "outputs": [
    {
     "data": {
      "text/latex": [
       "$\\displaystyle \\left({\\left|2\\right\\rangle } {\\left\\langle 2\\right|}\\right)^{2}$"
      ],
      "text/plain": [
       "         2\n",
       "(❘2⟩⋅⟨2❘) "
      ]
     },
     "metadata": {},
     "output_type": "display_data"
    },
    {
     "name": "stdout",
     "output_type": "stream",
     "text": [
      "True\n",
      "2\n"
     ]
    },
    {
     "data": {
      "text/latex": [
       "$\\displaystyle {\\left|2\\right\\rangle }{\\left\\langle 2\\right|}$"
      ],
      "text/plain": [
       "❘2⟩⟨2❘"
      ]
     },
     "metadata": {},
     "output_type": "display_data"
    },
    {
     "data": {
      "text/latex": [
       "$\\displaystyle \\frac{{\\left|0\\right\\rangle }{\\left\\langle 0\\right|}}{4 \\left(\\frac{\\sqrt{5}}{4} + \\frac{5}{4}\\right)} + \\frac{\\sqrt{5} {\\left|0\\right\\rangle }{\\left\\langle 0\\right|}}{4 \\left(\\frac{\\sqrt{5}}{4} + \\frac{5}{4}\\right)} + \\frac{\\sqrt{\\frac{1}{4} + \\frac{\\sqrt{5}}{4}} \\sqrt{- \\frac{\\sqrt{5}}{4 \\left(\\frac{\\sqrt{5}}{4} + \\frac{5}{4}\\right)} - \\frac{1}{4 \\left(\\frac{\\sqrt{5}}{4} + \\frac{5}{4}\\right)} + 1} {\\left|0\\right\\rangle }{\\left\\langle 2\\right|}}{\\sqrt{\\frac{\\sqrt{5}}{4} + \\frac{5}{4}}} + \\frac{\\sqrt{\\frac{1}{4} + \\frac{\\sqrt{5}}{4}} \\sqrt{- \\frac{\\sqrt{5}}{4 \\left(\\frac{\\sqrt{5}}{4} + \\frac{5}{4}\\right)} - \\frac{1}{4 \\left(\\frac{\\sqrt{5}}{4} + \\frac{5}{4}\\right)} + 1} {\\left|2\\right\\rangle }{\\left\\langle 0\\right|}}{\\sqrt{\\frac{\\sqrt{5}}{4} + \\frac{5}{4}}} - \\frac{\\sqrt{5} {\\left|2\\right\\rangle }{\\left\\langle 2\\right|}}{4 \\left(\\frac{\\sqrt{5}}{4} + \\frac{5}{4}\\right)} - \\frac{{\\left|2\\right\\rangle }{\\left\\langle 2\\right|}}{4 \\left(\\frac{\\sqrt{5}}{4} + \\frac{5}{4}\\right)} + {\\left|2\\right\\rangle }{\\left\\langle 2\\right|}$"
      ],
      "text/plain": [
       "                              ________       _______________________________  \n",
       "                             ╱ 1   √5       ╱       √5           1            \n",
       "                            ╱  ─ + ── ⋅    ╱  - ────────── - ────────── + 1 ⋅❘\n",
       "                          ╲╱   4   4      ╱       ⎛√5   5⎞     ⎛√5   5⎞       \n",
       "                                         ╱      4⋅⎜── + ─⎟   4⋅⎜── + ─⎟       \n",
       "  ❘0⟩⟨0❘     √5⋅❘0⟩⟨0❘                 ╲╱         ⎝4    4⎠     ⎝4    4⎠       \n",
       "────────── + ────────── + ────────────────────────────────────────────────────\n",
       "  ⎛√5   5⎞     ⎛√5   5⎞                              ________                 \n",
       "4⋅⎜── + ─⎟   4⋅⎜── + ─⎟                             ╱ √5   5                  \n",
       "  ⎝4    4⎠     ⎝4    4⎠                            ╱  ── + ─                  \n",
       "                                                 ╲╱   4    4                  \n",
       "\n",
       "            ________       _______________________________                    \n",
       "           ╱ 1   √5       ╱       √5           1                              \n",
       "0⟩⟨2❘     ╱  ─ + ── ⋅    ╱  - ────────── - ────────── + 1 ⋅❘2⟩⟨0❘             \n",
       "        ╲╱   4   4      ╱       ⎛√5   5⎞     ⎛√5   5⎞                         \n",
       "                       ╱      4⋅⎜── + ─⎟   4⋅⎜── + ─⎟                         \n",
       "                     ╲╱         ⎝4    4⎠     ⎝4    4⎠               √5⋅❘2⟩⟨2❘ \n",
       "───── + ───────────────────────────────────────────────────────── - ──────────\n",
       "                                   ________                           ⎛√5   5⎞\n",
       "                                  ╱ √5   5                          4⋅⎜── + ─⎟\n",
       "                                 ╱  ── + ─                            ⎝4    4⎠\n",
       "                               ╲╱   4    4                                    \n",
       "\n",
       "                      \n",
       "                      \n",
       "                      \n",
       "                      \n",
       "                      \n",
       "     ❘2⟩⟨2❘           \n",
       " - ────────── + ❘2⟩⟨2❘\n",
       "     ⎛√5   5⎞         \n",
       "   4⋅⎜── + ─⎟         \n",
       "     ⎝4    4⎠         \n",
       "                      "
      ]
     },
     "metadata": {},
     "output_type": "display_data"
    }
   ],
   "source": [
    "res2=iKCBS.F2 #powerDrop(iKCBS.F2)\n",
    "powow=iKCBS.F2.args[0]\n",
    "display(powow)\n",
    "print(isinstance(powow,sp.Pow))\n",
    "print(powow.exp)\n",
    "display(sq.qapply(powow.base*powow.base))\n",
    "\n",
    "display(powerDrop(iKCBS.F2))\n",
    "\n",
    "\n",
    "#display(res2)"
   ]
  },
  {
   "cell_type": "code",
   "execution_count": null,
   "metadata": {
    "hidden": true
   },
   "outputs": [],
   "source": [
    "res=iKCBS._T_ * iKCBS._U_\n",
    "display(res)\n",
    "display(tsimp(res))"
   ]
  },
  {
   "cell_type": "code",
   "execution_count": null,
   "metadata": {
    "hidden": true
   },
   "outputs": [],
   "source": [
    "display(iKCBS._U_)"
   ]
  },
  {
   "cell_type": "code",
   "execution_count": null,
   "metadata": {
    "hidden": true
   },
   "outputs": [],
   "source": [
    "display(iKCBS._V_)"
   ]
  },
  {
   "cell_type": "code",
   "execution_count": null,
   "metadata": {
    "hidden": true
   },
   "outputs": [],
   "source": [
    "display(iKCBS._T_)"
   ]
  },
  {
   "cell_type": "code",
   "execution_count": null,
   "metadata": {
    "hidden": true,
    "scrolled": false
   },
   "outputs": [],
   "source": [
    "display(iKCBS.F1)\n",
    "\n",
    "display(tsimp(iKCBS.F1))\n",
    "#sq.qapply(iKCBS.F1).doit()"
   ]
  },
  {
   "cell_type": "code",
   "execution_count": null,
   "metadata": {
    "hidden": true,
    "scrolled": true
   },
   "outputs": [],
   "source": [
    "\n",
    "iKCBS=cls_iKCBS(5)\n",
    "\n",
    "#sp.init_printing()\n",
    "#sp.pprint(iKCBS.c[0])\n",
    "for i in range(10):\n",
    "    display(iKCBS.c[i])\n",
    "    \n",
    "\n",
    "display(sp.N(iKCBS.matΠs[1]*iKCBS.matΠs[3]))\n",
    "display(sp.N(sq.represent(iKCBS.T)))\n",
    "display(iKCBS._T)\n",
    "#display(sp.N(iKCBS._T_))\n",
    "#display(sp.N(iKCBS._U_))\n",
    "#display(sp.N(iKCBS._V_))\n",
    "display(sp.N(iKCBS.F))"
   ]
  },
  {
   "cell_type": "code",
   "execution_count": null,
   "metadata": {
    "hidden": true,
    "scrolled": false
   },
   "outputs": [],
   "source": [
    "#display(iKCBS._U_)\n",
    "\n",
    "#display(iKCBS.partial_trace(iKCBS._U_))\n",
    "\n"
   ]
  },
  {
   "cell_type": "code",
   "execution_count": null,
   "metadata": {
    "hidden": true
   },
   "outputs": [],
   "source": [
    "g = bKet(0)\n",
    "\n",
    "Id=sq.IdentityOperator()\n",
    "\n",
    "display(Id*g)\n",
    "\n",
    "del Id\n",
    "del g"
   ]
  },
  {
   "cell_type": "code",
   "execution_count": 249,
   "metadata": {
    "hidden": true
   },
   "outputs": [
    {
     "data": {
      "text/latex": [
       "$\\displaystyle {{\\left|1\\right\\rangle }}\\otimes {{\\left|0\\right\\rangle }}$"
      ],
      "text/plain": [
       "❘1⟩⨂ ❘0⟩"
      ]
     },
     "metadata": {},
     "output_type": "display_data"
    },
    {
     "data": {
      "text/latex": [
       "$\\displaystyle 0.5 {{\\left|1\\right\\rangle }}\\otimes {{\\left|0\\right\\rangle }} {{\\left\\langle 1\\right|}}\\otimes {{\\left\\langle 0\\right|}} + 0.1 {{\\left|1\\right\\rangle }}\\otimes {{\\left|0\\right\\rangle }} {{\\left\\langle 1\\right|}}\\otimes {{\\left\\langle 1\\right|}} + 0.4 {{\\left|1\\right\\rangle }}\\otimes {{\\left|1\\right\\rangle }} {{\\left\\langle 1\\right|}}\\otimes {{\\left\\langle 1\\right|}}$"
      ],
      "text/plain": [
       "0.5⋅❘1⟩⨂ ❘0⟩⋅⟨1❘⨂ ⟨0❘ + 0.1⋅❘1⟩⨂ ❘0⟩⋅⟨1❘⨂ ⟨1❘ + 0.4⋅❘1⟩⨂ ❘1⟩⋅⟨1❘⨂ ⟨1❘"
      ]
     },
     "metadata": {},
     "output_type": "display_data"
    },
    {
     "data": {
      "text/latex": [
       "$\\displaystyle 0.5$"
      ],
      "text/plain": [
       "0.500000000000000"
      ]
     },
     "metadata": {},
     "output_type": "display_data"
    },
    {
     "data": {
      "text/latex": [
       "$\\displaystyle 0.5 \\left\\langle 0 \\right. {\\left|0\\right\\rangle }^{2} \\left\\langle 1 \\right. {\\left|1\\right\\rangle }^{2} \\cdot {1}\\otimes {1}^{2} + 0.1 \\left\\langle 0 \\right. {\\left|0\\right\\rangle } \\left\\langle 1 \\right. {\\left|0\\right\\rangle } \\left\\langle 1 \\right. {\\left|1\\right\\rangle }^{2} \\cdot {1}\\otimes {1}^{2} + 0.4 \\left\\langle 0 \\right. {\\left|1\\right\\rangle } \\left\\langle 1 \\right. {\\left|0\\right\\rangle } \\left\\langle 1 \\right. {\\left|1\\right\\rangle }^{2} \\cdot {1}\\otimes {1}^{2}$"
      ],
      "text/plain": [
       "         2      2     2                        2     2                        \n",
       "0.5⋅⟨0❘0⟩ ⋅⟨1❘1⟩ ⋅1⨂ 1  + 0.1⋅⟨0❘0⟩⋅⟨1❘0⟩⋅⟨1❘1⟩ ⋅1⨂ 1  + 0.4⋅⟨0❘1⟩⋅⟨1❘0⟩⋅⟨1❘1⟩\n",
       "\n",
       "2     2\n",
       " ⋅1⨂ 1 "
      ]
     },
     "metadata": {},
     "output_type": "display_data"
    }
   ],
   "source": [
    "g = bKet(0)\n",
    "h = bKet(1)\n",
    "\n",
    "TP=sq.TensorProduct\n",
    "zz=TP(g,g)\n",
    "zo=TP(g,h)\n",
    "oo=TP(h,h)\n",
    "oz=TP(h,g)\n",
    "\n",
    "display(oz)\n",
    "\n",
    "ρ = 0.5 * oz*sq.Dagger(oz) + 0.4*oo*sq.Dagger(oo) + 0.1*oz*sq.Dagger(oo)\n",
    "\n",
    "display(ρ)\n",
    "\n",
    "display(tsimp(sq.Dagger(oz)*ρ*oz))\n",
    "\n",
    "display(sq.qapply(sq.Dagger(oz)*ρ*oz))\n",
    "\n",
    "del TP"
   ]
  },
  {
   "cell_type": "code",
   "execution_count": 263,
   "metadata": {
    "hidden": true
   },
   "outputs": [
    {
     "data": {
      "text/latex": [
       "$\\displaystyle 0.5 {\\left|0\\right\\rangle } + 0.1 {\\left|1\\right\\rangle }$"
      ],
      "text/plain": [
       "0.5⋅❘0⟩ + 0.1⋅❘1⟩"
      ]
     },
     "metadata": {},
     "output_type": "display_data"
    },
    {
     "data": {
      "text/latex": [
       "$\\displaystyle 0.5 {\\left|0\\right\\rangle }$"
      ],
      "text/plain": [
       "0.5⋅❘0⟩"
      ]
     },
     "metadata": {},
     "output_type": "display_data"
    },
    {
     "data": {
      "text/latex": [
       "$\\displaystyle 0.1 {\\left|1\\right\\rangle }$"
      ],
      "text/plain": [
       "0.1⋅❘1⟩"
      ]
     },
     "metadata": {},
     "output_type": "display_data"
    },
    {
     "name": "stdout",
     "output_type": "stream",
     "text": [
      "True\n",
      "False\n",
      "False\n",
      "True\n"
     ]
    }
   ],
   "source": [
    "res=0.5 * g + 0.1 * h\n",
    "display(res)\n",
    "\n",
    "display(res.args[0])\n",
    "display(res.args[1])\n",
    "\n",
    "res.has(sq.Ket)\n",
    "print(isinstance(res,sp.Add))\n",
    "print(isinstance(res,sp.Mul))\n",
    "\n",
    "res2=res.args[0]\n",
    "print(isinstance(res2,sp.Add))\n",
    "print(isinstance(res2,sp.Mul))"
   ]
  },
  {
   "cell_type": "code",
   "execution_count": null,
   "metadata": {
    "hidden": true
   },
   "outputs": [],
   "source": [
    "g = bKet(0)\n",
    "h = bKet(1)\n",
    "\n",
    "TP=sq.TensorProduct\n",
    "zz=TP(g,g)\n",
    "zo=TP(g,h)\n",
    "oo=TP(h,h)\n",
    "oz=TP(h,g)\n",
    "\n",
    "display(oz)\n",
    "\n",
    "ρ = 0.5 * oz*sq.Dagger(oz) + 0.4*oo*sq.Dagger(oo) + 0.1*oz*sq.Dagger(oo)\n",
    "\n",
    "display(ρ)\n",
    "\n",
    "k=TP(sq.IdentityOperator(),h)\n",
    "\n",
    "\n",
    "display(tsimp(sq.Dagger(k)*ρ*k))\n",
    "\n",
    "display(sq.qapply(sq.Dagger(k)*ρ*k))\n",
    "\n",
    "del TP"
   ]
  },
  {
   "cell_type": "code",
   "execution_count": null,
   "metadata": {
    "hidden": true
   },
   "outputs": [],
   "source": [
    "#tsimp=sq.tensorproduct.tensor_product_simp_Mul\n",
    "\n",
    "#If an inner product evaluates to one, it drops the dimension\n",
    "#Works only with products and sums for the moment\n",
    "#No sanity checks were done\n",
    "#Hopefully, sympy will get updated with this functionality soon anyway\n",
    "\n",
    "\n",
    "\n",
    "#def(e):\n",
    "    \n",
    "\n",
    "Identity=sq.IdentityOperator()\n",
    "g=bKet(0)\n",
    "h=bKet(1)\n",
    "\n",
    "ρ_g=g*sq.Dagger(g)\n",
    "ρ_h=h*sq.Dagger(h)\n",
    "\n",
    "# #sq.qapply(Identity*g); seems to work\n",
    "\n",
    "# #display(sq.TensorProduct(ρ_g,ρ_h))\n",
    "# print(\"g\")\n",
    "# g_=sq.TensorProduct(Identity,g*sq.Dagger(g)); display(g_)\n",
    "# print(\"h\")\n",
    "# h_=sq.TensorProduct(Identity,h*sq.Dagger(h)); display(h_)\n",
    "\n",
    "# print(\"gh\")\n",
    "# display(sq.Dagger(g_)*h_)\n",
    "\n",
    "f_=sq.TensorProduct(g,g)\n",
    "f__=sq.TensorProduct(h,g)\n",
    "\n",
    "#sq.qapply(sq.Dagger(f_)*g_*f_).doit()\n",
    "\n",
    "print(\"inner product of \")\n",
    "display(f_,f__)\n",
    "#sq.qapply(sq.Dagger(f_)*f_)\n",
    "#sq.tensorproduct.tensor_product_simp(sq.Dagger(f_)*f__ + sq.Dagger(f__)*f__)\n",
    "print(\"yields these two\")\n",
    "display(sq.Dagger(f_)*f__)\n",
    "display(sq.qapply(sq.Dagger(f_)*f__).doit())\n",
    "\n",
    "print(\"inner product of \")\n",
    "display(f_,f_)\n",
    "print(\"yields these two\")\n",
    "res1=sq.Dagger(f_)*f_\n",
    "display(sq.Dagger(f_)*f_)\n",
    "display(sq.qapply(sq.Dagger(f_)*f_).doit())\n",
    "\n",
    "\n",
    "print(\"Let us try the inner product of these two vectors with the following operator\")\n",
    "op=f_*sq.Dagger(f_)\n",
    "\n",
    "display(op)\n",
    "print(\"which yields these two\")\n",
    "display(sq.qapply(sq.Dagger(f__)*op*f__))\n",
    "display(sq.qapply(sq.Dagger(f__)*op*f__).doit())\n",
    "#sq.qapply(sq.Dagger(f_)*h_*sq.Dagger(f__)).doit()\n",
    "\n",
    "\n",
    "######So far it works well\n",
    "print(\"Consider now the tensor product of two operators\")\n",
    "ρ=sq.TensorProduct(ρ_g,ρ_g)\n",
    "display(ρ)\n",
    "print(\"Their inner product with the ket\") \n",
    "display(f_)\n",
    "print(\"yields the following two\")\n",
    "res=sq.qapply(sq.Dagger(f_)*ρ*f_)\n",
    "display(res)\n",
    "display(res.doit())\n",
    "\n",
    "display(tsimp(res))\n",
    "print(\"Testing if the constituents are still instances of orthogonal vectors\")\n",
    "print(isinstance(res.args[0].args[0],bBra))\n",
    "display(res.args[0].args[0],res.args[1])\n",
    "\n",
    "print(\"Testing if the constituents are ... same for the original\")\n",
    "print(isinstance(res1.args[0].args[0],bBra))\n",
    "display(res1.args[0].args[0],res1.args[1])\n",
    "\n",
    "#sq.qapply(sq.Dagger(g_)*h_).doit() #*ρ_g\n",
    "\n",
    "#sq.qapply(sq.Dagger(g)*h).doit()\n",
    "print(\"Now we try with this \")\n",
    "ρ2=sq.TensorProduct(ρ_g,ρ_h)\n",
    "σ=3*ρ\n",
    "display(σ)\n",
    "res2=tsimp(sq.qapply(sq.Dagger(f_)*σ*f_))\n",
    "display(res2)\n",
    "\n",
    "#res2.has(sq.TensorProduct)\n",
    "#isinstance(res2,sq.TensorProduct)\n",
    "#new_args=list(sq.TensorP)\n",
    "#sq.TensorProduct(*list(res2.args))\n",
    "\n",
    "\n",
    "# res3=autoDropDim(res2)\n",
    "# # for _ in res3.args:\n",
    "# #     display(_)\n",
    "\n",
    "# display(res3)"
   ]
  },
  {
   "cell_type": "code",
   "execution_count": null,
   "metadata": {
    "hidden": true
   },
   "outputs": [],
   "source": [
    "\n",
    "\n",
    "def tensor_product_simp(e, **hints):\n",
    "    \"\"\"Try to simplify and combine TensorProducts.\n",
    "\n",
    "    \"\"\"\n",
    "    if isinstance(e, sp.Add):\n",
    "        return sp.Add(*[tensor_product_simp(arg) for arg in e.args])\n",
    "    elif isinstance(e, sp.Mul):\n",
    "        return tensor_product_simp_Mul(e)\n",
    "    else:\n",
    "        return e\n",
    "    \n",
    "def tensor_product_simp_Mul(e):\n",
    "    \"\"\"Simplify a Mul with TensorProducts.\n",
    "\n",
    "        >>> e\n",
    "        AxB*CxD\n",
    "        >>> tensor_product_simp_Mul(e)\n",
    "        (A*C)x(B*D)\n",
    "\n",
    "    \"\"\"\n",
    "    \n",
    "    # TODO: This won't work with Muls that have other composites of\n",
    "    # TensorProducts, like an Add, Commutator, etc.\n",
    "    # TODO: This only works for the equivalent of single Qbit gates.\n",
    "    \n",
    "    if not isinstance(e, sp.Mul):\n",
    "        return e\n",
    "    c_part, nc_part = e.args_cnc()\n",
    "    n_nc = len(nc_part)\n",
    "    if n_nc == 0:\n",
    "        return e\n",
    "#     elif n_nc == 1:\n",
    "#         if isinstance(nc_part[0], Pow):\n",
    "#             return  Mul(*c_part) * tensor_product_simp_Pow(nc_part[0])\n",
    "#         return e\n",
    "    elif e.has(sq.TensorProduct):\n",
    "        current = nc_part[0] #I guess this is the \n",
    "#         if not isinstance(current, sq.TensorProduct):\n",
    "#             if isinstance(current, Pow):\n",
    "#                 if isinstance(current.base, sq.TensorProduct):\n",
    "#                     current = tensor_product_simp_Pow(current)\n",
    "#             else:\n",
    "#                 raise TypeError('TensorProduct expected, got: %r' % current)\n",
    "        n_terms = len(current.args)\n",
    "        new_args = list(current.args)\n",
    "        for next in nc_part[1:]:\n",
    "            # TODO: check the hilbert spaces of next and current here.\n",
    "            if isinstance(next, sq.TensorProduct):\n",
    "                if n_terms != len(next.args):\n",
    "                    raise QuantumError(\n",
    "                        'TensorProducts of different lengths: %r and %r' %\n",
    "                        (current, next)\n",
    "                    )\n",
    "                for i in range(len(new_args)):\n",
    "                    new_args[i] = new_args[i] * next.args[i]\n",
    "#             else:\n",
    "#                 if isinstance(next, Pow):\n",
    "#                     if isinstance(next.base, sq.TensorProduct):\n",
    "#                         new_tp = tensor_product_simp_Pow(next)\n",
    "#                         for i in range(len(new_args)):\n",
    "#                             if( new_args[i] )\n",
    "#                             new_args[i] = new_args[i] * new_tp.args[i]\n",
    "#                     else:\n",
    "#                         raise TypeError('TensorProduct expected, got: %r' % next)\n",
    "#                 else:\n",
    "#                     raise TypeError('TensorProduct expected, got: %r' % next)\n",
    "            current = next\n",
    "        return Mul(*c_part) * sq.TensorProduct(*new_args)\n",
    "    elif e.has(Pow):\n",
    "        new_args = [ tensor_product_simp_Pow(nc) for nc in nc_part ]\n",
    "        return tensor_product_simp_Mul(Mul(*c_part) * sq.TensorProduct(*new_args))\n",
    "    else:\n",
    "        return e"
   ]
  },
  {
   "cell_type": "code",
   "execution_count": null,
   "metadata": {
    "hidden": true
   },
   "outputs": [],
   "source": [
    "glaba=sp.Integer(1)\n",
    "#isinstance(glaba,sp.number)\n",
    "#type(glaba)\n",
    "go=bKet(2)\n"
   ]
  },
  {
   "cell_type": "markdown",
   "metadata": {
    "heading_collapsed": true
   },
   "source": [
    "### Debugging the issue with substitutions"
   ]
  },
  {
   "cell_type": "code",
   "execution_count": null,
   "metadata": {
    "hidden": true
   },
   "outputs": [],
   "source": [
    "\n",
    "iKCBS.b[1].subs({iKCBS.a[8]:0})\n",
    "\n",
    "iKCBS.c\n",
    "#b=sp.symbols('b0:%d'%10)\n",
    "#b[0].subs(b[0],10)\n",
    "# gla=sp.Symbol('x'); gla\n",
    "# gla.subs(gla,10)\n",
    "\n",
    "#iKCBS.a[8].subs(iKCBS.a[8],0)"
   ]
  },
  {
   "cell_type": "code",
   "execution_count": null,
   "metadata": {
    "hidden": true
   },
   "outputs": [],
   "source": [
    "ket1=bKet(0)\n",
    "ket2=bKet(1)\n",
    "kets=(ket1,ket2)\n",
    "bra=[sq.Dagger(iket) for iket in kets]; bra"
   ]
  },
  {
   "cell_type": "markdown",
   "metadata": {
    "heading_collapsed": true
   },
   "source": [
    "### Debugging the issue with _eval_args"
   ]
  },
  {
   "cell_type": "code",
   "execution_count": null,
   "metadata": {
    "hidden": true
   },
   "outputs": [],
   "source": [
    "class cls_iKCBS:    \n",
    "    \n",
    "    def __init__(s,n):\n",
    "        cls_iKCBS.n=n\n",
    "        #j in 0,1,2,3,4\n",
    "        s.ke = [bKet(j) for j in range(3)]    \n",
    "        s.br = [sq.Dagger(s.ke[j]) for j in range(3)]\n",
    "        s.πs = []\n",
    "        s.matπs = [] \n",
    "        #poor man's implementation\n",
    "        for j in range(5):\n",
    "            s.πs.append(s.proj(j,n))            \n",
    "            s.matπs.append(s.matRep(s.proj(j,n)))\n",
    "        s.opT = s.ke[0]*s.br[2] + s.ke[1]*s.br[0] + s.ke[2]*s.br[1]\n",
    "        s.matT=s.matRep(s.opT)\n",
    "\n",
    "    #this method is now obsolete    \n",
    "    def matRep(s,op):\n",
    "        n=3 #s.__class__.n\n",
    "        matop = sp.Matrix(np.zeros((n,n)))        \n",
    "        for i in range(n):\n",
    "            for j in range(n):\n",
    "                matop[i,j] = sq.qapply(sq.Dagger(s.ke[i])*op*s.ke[j]).doit() \n",
    "        return matop\n",
    "        \n",
    "    def proj(s,j,n):\n",
    "        N=sp.Integer(n)\n",
    "        J=sp.Integer(j)\n",
    "        #print(N,j)\n",
    "        one=sp.Integer(1)\n",
    "        #print(one)\n",
    "        α1=sp.cos((sp.pi)/N)/(one+sp.cos(sp.pi/N)) #verified\n",
    "        #a1=sp.cos(sp.pi/N)\n",
    "        #\n",
    "        #print(α1)\n",
    "        \n",
    "        α2=one-α1 #verified\n",
    "        α3=J * sp.pi * (N-one)/N #verified\n",
    "        \n",
    "        vec = sp.sqrt(α1)*s.ke[0] + sp.sqrt(α2)*sp.sin(α3)*s.ke[1] + sp.sqrt(α2)*sp.cos(α3)*s.ke[2]\n",
    "        \n",
    "        projector = vec*sq.Dagger(vec)\n",
    "           \n",
    "        #matrixprojector = sp.Matrix([0,0])\n",
    "        return projector\n",
    "    \n",
    "    \n",
    "    def find_coeff_matT(s):\n",
    "        cls=s.__class__\n",
    "        a=sp.symbols('a0:%d'%(cls.n*2))\n",
    "        LHS=a[0]*s.matπs[0]\n",
    "        for i in range(1,cls.n):\n",
    "            LHS=LHS+a[i]*s.matπs[i]\n",
    "        for i in range(cls.n,2*cls.n):\n",
    "            LHS=LHS+a[i]*s.matπs[i%cls.n]*s.matπs[(i+2)%cls.n]\n",
    "            \n",
    "        RHS=s.matT\n",
    "        return sp.solve(sp.N(LHS-RHS),a)\n",
    "        #return sp.solve(a[0]-a[2],a)\n",
    "        \n",
    "        #print(LHS)\n",
    "        #for i in range\n",
    "        \n",
    "\n",
    "    '''\n",
    "       def vec(self,j,n):    \n",
    "           N=sp.Integer(n)\n",
    "           J=sp.Integer(j)\n",
    "           #print(N,j)\n",
    "           one=sp.Integer(1)\n",
    "           #print(one)\n",
    "           α1=sp.cos((sp.pi)/N)/(one+sp.cos(sp.pi/N)) #verified\n",
    "           #a1=sp.cos(sp.pi/N)\n",
    "           #\n",
    "           #print(α1)\n",
    "        \n",
    "           α2=one-α1 #verified\n",
    "           α3=J * sp.pi * (N-one)/N #verified\n",
    "        \n",
    "           vec = sp.sqrt(α1)*self.k0 + sp.sqrt(α2)*sp.sin(α3)*self.k1 + sp.sqrt(α2)*sp.cos(α3)*self.k2\n",
    "        \n",
    "           #projector = vec*sq.Dagger(vec)\n",
    "           return vec\n",
    "    '''"
   ]
  },
  {
   "cell_type": "code",
   "execution_count": null,
   "metadata": {
    "hidden": true
   },
   "outputs": [],
   "source": [
    "\n",
    "iKCBS=cls_iKCBS(5)\n",
    "#to access the vectors \n",
    "\n",
    "# #uncomment to test\n",
    "# sq.qapply(sq.qapply(iKCBS.πs[0]*iKCBS.πs[1]))\n",
    "# #iKCBS.πs[1]\n",
    "\n",
    "# sp.N(iKCBS.matπs[2])\n",
    "\n",
    "# iKCBS.find_coeff_matT()"
   ]
  },
  {
   "cell_type": "code",
   "execution_count": null,
   "metadata": {
    "hidden": true
   },
   "outputs": [],
   "source": [
    "iKCBS.find_coeff_opT()"
   ]
  },
  {
   "cell_type": "markdown",
   "metadata": {
    "heading_collapsed": true
   },
   "source": [
    "### Debugging"
   ]
  },
  {
   "cell_type": "code",
   "execution_count": null,
   "metadata": {
    "hidden": true
   },
   "outputs": [],
   "source": [
    "sq.qapply(sq.Dagger(iKCBS.πs[0])*iKCBS.πs[1]);\n",
    "\n",
    "#sq.represent(sq.qapply(sq.Dagger(iKCBS.πs[0])*iKCBS.πs[1]),basis=iKCBS.ke)"
   ]
  },
  {
   "cell_type": "code",
   "execution_count": null,
   "metadata": {
    "code_folding": [
     29
    ],
    "hidden": true
   },
   "outputs": [],
   "source": [
    "#older version without lists\n",
    "class cls_iKCBS:\n",
    "    k0=bKet(0)    \n",
    "    k1=bKet(1)\n",
    "    k2=bKet(2)\n",
    "    \n",
    "    b0=sq.Dagger(k0)\n",
    "    b1=sq.Dagger(k1)\n",
    "    b2=sq.Dagger(k2)\n",
    "    \n",
    "    πs=[]\n",
    "    \n",
    "    def __init__(self,n):\n",
    "        #j in 0,1,2,3,4\n",
    "        for j in range(5):\n",
    "            self.πs.append(self.proj(j,n))\n",
    "    \n",
    "    def proj(self,j,n):\n",
    "        N=sp.Integer(n)\n",
    "        J=sp.Integer(j)\n",
    "        #print(N,j)\n",
    "        one=sp.Integer(1)\n",
    "        #print(one)\n",
    "        α1=sp.cos((sp.pi)/N)/(one+sp.cos(sp.pi/N)) #verified\n",
    "        #a1=sp.cos(sp.pi/N)\n",
    "        #\n",
    "        #print(α1)\n",
    "        \n",
    "        α2=one-α1 #verified\n",
    "        α3=J * sp.pi * (N-one)/N #verified\n",
    "        \n",
    "        vec = sp.sqrt(α1)*self.k0 + sp.sqrt(α2)*sp.sin(α3)*self.k1 + sp.sqrt(α2)*sp.cos(α3)*self.k2\n",
    "        \n",
    "        projector = vec*sq.Dagger(vec)\n",
    "        return projector\n",
    "    '''\n",
    "       def vec(self,j,n):    \n",
    "           N=sp.Integer(n)\n",
    "           J=sp.Integer(j)\n",
    "           #print(N,j)\n",
    "           one=sp.Integer(1)\n",
    "           #print(one)\n",
    "           α1=sp.cos((sp.pi)/N)/(one+sp.cos(sp.pi/N)) #verified\n",
    "           #a1=sp.cos(sp.pi/N)\n",
    "           #\n",
    "           #print(α1)\n",
    "        \n",
    "           α2=one-α1 #verified\n",
    "           α3=J * sp.pi * (N-one)/N #verified\n",
    "        \n",
    "           vec = sp.sqrt(α1)*self.k0 + sp.sqrt(α2)*sp.sin(α3)*self.k1 + sp.sqrt(α2)*sp.cos(α3)*self.k2\n",
    "        \n",
    "           #projector = vec*sq.Dagger(vec)\n",
    "           return vec\n",
    "    '''"
   ]
  },
  {
   "cell_type": "code",
   "execution_count": null,
   "metadata": {
    "hidden": true
   },
   "outputs": [],
   "source": [
    "iKCBS=cls_iKCBS()\n",
    "sq.qapply(iKCBS.proj(1,5)).doit();"
   ]
  },
  {
   "cell_type": "code",
   "execution_count": null,
   "metadata": {
    "hidden": true
   },
   "outputs": [],
   "source": [
    "sp.simplify(sq.qapply(sq.Dagger(iKCBS.k0)*iKCBS.proj(1,5)*iKCBS.proj(2,5)*iKCBS.k0).doit())\n",
    "#sp.N(sq.qapply(sq.Dagger(iKCBS.k0)*iKCBS.proj(1,5)*iKCBS.proj(2,5)*iKCBS.k0).doit())\n",
    "#sq.qapply(iKCBS.proj(1,5)*iKCBS.proj(2,5)).doit()"
   ]
  },
  {
   "cell_type": "code",
   "execution_count": null,
   "metadata": {
    "hidden": true
   },
   "outputs": [],
   "source": [
    "(sq.Dagger(iKCBS.k0)*iKCBS.k0).doit()"
   ]
  },
  {
   "cell_type": "code",
   "execution_count": null,
   "metadata": {
    "hidden": true
   },
   "outputs": [],
   "source": [
    "sp.N(sq.qapply(sq.Dagger(iKCBS.vec(1,5))*iKCBS.vec(1,5)).doit(),5000)"
   ]
  },
  {
   "cell_type": "code",
   "execution_count": null,
   "metadata": {
    "hidden": true
   },
   "outputs": [],
   "source": [
    "sp.N(sp.simplify(sq.qapply(sq.Dagger(iKCBS.vec(4,5))*iKCBS.vec(3,5)).doit()))"
   ]
  },
  {
   "cell_type": "code",
   "execution_count": null,
   "metadata": {
    "hidden": true
   },
   "outputs": [],
   "source": [
    "sp.N(sq.qapply(sq.Dagger(iKCBS.πs[0])*iKCBS.πs[1]))"
   ]
  },
  {
   "cell_type": "markdown",
   "metadata": {
    "heading_collapsed": true
   },
   "source": [
    "## Translation Operator using $\\Pi$s\n",
    "\n",
    "See for the original implementation Self-testing_KCBS_fidelity_bounds"
   ]
  },
  {
   "cell_type": "code",
   "execution_count": 18,
   "metadata": {
    "hidden": true
   },
   "outputs": [
    {
     "data": {
      "text/latex": [
       "$\\displaystyle a_{0}$"
      ],
      "text/plain": [
       "a₀"
      ]
     },
     "execution_count": 18,
     "metadata": {},
     "output_type": "execute_result"
    }
   ],
   "source": [
    "\n",
    "a=sp.symbols('a0:%d'%(cls_iKCBS.n*2))\n",
    "a[0]\n",
    "c=0\n",
    "c=c+a[0]; c\n"
   ]
  },
  {
   "cell_type": "code",
   "execution_count": 19,
   "metadata": {
    "hidden": true
   },
   "outputs": [
    {
     "data": {
      "text/latex": [
       "$\\displaystyle \\left[\\begin{matrix}0.0 & 0.0\\\\0.0 & 0\\end{matrix}\\right]$"
      ],
      "text/plain": [
       "⎡0.0  0.0⎤\n",
       "⎢        ⎥\n",
       "⎣0.0   0 ⎦"
      ]
     },
     "execution_count": 19,
     "metadata": {},
     "output_type": "execute_result"
    }
   ],
   "source": [
    "a=sp.Matrix(np.zeros((2,2)))\n",
    "a[1,1]=0;a\n"
   ]
  },
  {
   "cell_type": "code",
   "execution_count": 20,
   "metadata": {
    "hidden": true
   },
   "outputs": [
    {
     "data": {
      "text/latex": [
       "$\\displaystyle \\left[\\begin{matrix}0\\\\0\\\\1\\\\0\\end{matrix}\\right]$"
      ],
      "text/plain": [
       "⎡0⎤\n",
       "⎢ ⎥\n",
       "⎢0⎥\n",
       "⎢ ⎥\n",
       "⎢1⎥\n",
       "⎢ ⎥\n",
       "⎣0⎦"
      ]
     },
     "execution_count": 20,
     "metadata": {},
     "output_type": "execute_result"
    }
   ],
   "source": [
    "a=sqq.IntQubit(2);a\n",
    "\n",
    "b=sqq.IntQubit(1);\n",
    "sq.represent(b);\n",
    "sq.represent(a)"
   ]
  },
  {
   "cell_type": "markdown",
   "metadata": {},
   "source": [
    "# SDP part (SymPy meets CvxPy)"
   ]
  },
  {
   "cell_type": "code",
   "execution_count": 49,
   "metadata": {
    "init_cell": true
   },
   "outputs": [
    {
     "name": "stdout",
     "output_type": "stream",
     "text": [
      "[P, Pd]\n"
     ]
    }
   ],
   "source": [
    "N=5\n",
    "\n",
    "#Ψ=[sp.symbols('Ψ')]\n",
    "I=[sp.Integer(1)]\n",
    "A=list(sp.symbols('Π_0:%d'%N,commutative=False))\n",
    "B=[sp.symbols('P',commutative=False),sp.symbols('Pd',commutative=False)]\n",
    "\n",
    "#A=list(sp.symbols('Π_0:%d'%N,commutative=False))\n",
    "\n",
    "# display(I)\n",
    "# display(A)\n",
    "print(B)"
   ]
  },
  {
   "cell_type": "code",
   "execution_count": 61,
   "metadata": {
    "init_cell": true
   },
   "outputs": [
    {
     "data": {
      "text/latex": [
       "$\\displaystyle 2.78885438199984 Π_{0} + 0.217286896751641 Π_{0} P Π_{0} + 0.217286896751641 Π_{0} Pd Π_{0} + 0.434573793503282 Π_{0} Pd Π_{1} - 0.568864481005782 Π_{0} Pd Π_{1} Π_{3} - 0.568864481005786 Π_{0} Pd Π_{2} Π_{0} - 0.920442065259927 Π_{0} Pd Π_{4} + 0.920442065259926 Π_{0} Pd Π_{4} Π_{1} + 0.920442065259927 Π_{0} Pd Π_{4} Π_{2} + 0.447213595499959 Π_{0} Pd^{2} Π_{1} - 0.568864481005786 Π_{0} Π_{2} P Π_{0} - 0.568864481005785 Π_{0} Π_{2} Pd Π_{1} + 0.170820393249937 Π_{0} Π_{2} Π_{0} + 1.17082039324994 Π_{0} Π_{2} Π_{4} - 1.17082039324994 Π_{0} Π_{2} Π_{4} Π_{1} - 1.17082039324994 Π_{0} Π_{2} Π_{4} Π_{2} + 0.105572809000084 Π_{1} + 0.434573793503282 Π_{1} P Π_{0} + 0.21728689675164 Π_{1} P Π_{1} - 0.568864481005781 Π_{1} P Π_{1} Π_{3} - 0.568864481005785 Π_{1} P Π_{2} Π_{0} - 0.920442065259925 Π_{1} P Π_{4} + 0.920442065259924 Π_{1} P Π_{4} Π_{1} + 0.920442065259925 Π_{1} P Π_{4} Π_{2} + 0.447213595499959 Π_{1} P^{2} Π_{0} + 0.21728689675164 Π_{1} Pd Π_{1} - 0.27639320225002 Π_{1} Π_{3} - 2.34164078649987 Π_{1} Π_{4} + 0.920442065259926 Π_{1} Π_{4} P Π_{0} + 0.920442065259924 Π_{1} Π_{4} Pd Π_{1} + 2.78885438199982 Π_{1} Π_{4} Π_{1} - 1.17082039324993 Π_{1} Π_{4} Π_{1} Π_{3} + 2.34164078649987 Π_{1} Π_{4} Π_{2} - 1.17082039324994 Π_{1} Π_{4} Π_{2} Π_{0} + 2.68328157299975 Π_{1}^{2} - 1.89442719099991 Π_{2} Π_{4} + 0.920442065259927 Π_{2} Π_{4} P Π_{0} + 0.920442065259925 Π_{2} Π_{4} Pd Π_{1} + 2.34164078649987 Π_{2} Π_{4} Π_{1} - 1.17082039324993 Π_{2} Π_{4} Π_{1} Π_{3} + 1.89442719099991 Π_{2} Π_{4} Π_{2} - 1.17082039324994 Π_{2} Π_{4} Π_{2} Π_{0} - 0.27639320225002 Π_{3} Π_{1} - 0.568864481005782 Π_{3} Π_{1} P Π_{0} - 0.568864481005781 Π_{3} Π_{1} Pd Π_{1} + 0.723606797749973 Π_{3} Π_{1} Π_{3} + 1.17082039324993 Π_{3} Π_{1} Π_{4} - 1.17082039324993 Π_{3} Π_{1} Π_{4} Π_{1} - 1.17082039324993 Π_{3} Π_{1} Π_{4} Π_{2} + 1.89442719099991 Π_{4} - 0.920442065259927 Π_{4} P Π_{0} - 0.920442065259925 Π_{4} Pd Π_{1} - 2.34164078649987 Π_{4} Π_{1} + 1.17082039324993 Π_{4} Π_{1} Π_{3} - 1.89442719099991 Π_{4} Π_{2} + 1.17082039324994 Π_{4} Π_{2} Π_{0} + 5.0 \\left(0.217286896751641 Π_{2} Π_{0} P Π_{0} Π_{2} + 0.217286896751641 Π_{2} Π_{0} Pd Π_{0} Π_{2} - 0.568864481005786 Π_{2} Π_{0} Pd Π_{2} Π_{0} Π_{2} + 0.44721359549996 Π_{2} Π_{0} Π_{2} - 0.568864481005786 Π_{2} Π_{0} Π_{2} P Π_{0} Π_{2} + 0.44721359549996 Π_{2} Π_{0} Π_{2} Π_{0} Π_{2}\\right) + 5.0 \\left(4.95967477524975 Π_{4} - 0.920442065259924 Π_{4} Pd Π_{1} Π_{4} + 0.21728689675164 Π_{4} Π_{1} P Π_{1} Π_{4} - 0.920442065259924 Π_{4} Π_{1} P Π_{4} + 0.920442065259924 Π_{4} Π_{1} P Π_{4} Π_{1} Π_{4} + 0.920442065259925 Π_{4} Π_{1} P Π_{4} Π_{2} Π_{4} + 0.21728689675164 Π_{4} Π_{1} Pd Π_{1} Π_{4} - 11.9845971347493 Π_{4} Π_{1} Π_{4} + 0.920442065259924 Π_{4} Π_{1} Π_{4} Pd Π_{1} Π_{4} + 7.30131556174961 Π_{4} Π_{1} Π_{4} Π_{1} Π_{4} + 6.13049516849968 Π_{4} Π_{1} Π_{4} Π_{2} Π_{4} + 0.170820393249937 Π_{4} Π_{1}^{2} Π_{4} - 9.9193495504995 Π_{4} Π_{2} Π_{4} + 0.920442065259925 Π_{4} Π_{2} Π_{4} Pd Π_{1} Π_{4} + 6.13049516849968 Π_{4} Π_{2} Π_{4} Π_{1} Π_{4} + 4.95967477524975 Π_{4} Π_{2} Π_{4} Π_{2} Π_{4}\\right) + 5.0 \\left(- 0.134290687502503 Π_{3} Π_{0} P Π_{0} Π_{3} - 0.134290687502503 Π_{3} Π_{0} Pd Π_{0} Π_{3} + 0.082996209249136 Π_{3} Π_{0} Pd Π_{1} Π_{3} + 0.351577584254145 Π_{3} Π_{0} Pd Π_{2} Π_{0} Π_{3} - 0.568864481005783 Π_{3} Π_{0} Pd Π_{4} Π_{1} Π_{3} + 0.170820393249937 Π_{3} Π_{0} Pd^{2} Π_{1} Π_{3} + 0.351577584254145 Π_{3} Π_{0} Π_{2} P Π_{0} Π_{3} + 0.351577584254144 Π_{3} Π_{0} Π_{2} Pd Π_{1} Π_{3} + 0.170820393249938 Π_{3} Π_{0} Π_{2} Π_{0} Π_{3} - 1.17082039324994 Π_{3} Π_{0} Π_{2} Π_{4} Π_{1} Π_{3} + 0.276393202250022 Π_{3} Π_{0} Π_{3} + 0.082996209249136 Π_{3} Π_{1} P Π_{0} Π_{3} + 0.217286896751639 Π_{3} Π_{1} P Π_{1} Π_{3} + 0.351577584254144 Π_{3} Π_{1} P Π_{2} Π_{0} Π_{3} - 0.568864481005782 Π_{3} Π_{1} P Π_{4} Π_{1} Π_{3} + 0.170820393249937 Π_{3} Π_{1} P^{2} Π_{0} Π_{3} + 0.217286896751639 Π_{3} Π_{1} Pd Π_{1} Π_{3} + 0.276393202250018 Π_{3} Π_{1} Π_{3} - 0.568864481005783 Π_{3} Π_{1} Π_{4} P Π_{0} Π_{3} - 0.568864481005782 Π_{3} Π_{1} Π_{4} Pd Π_{1} Π_{3} + 0.447213595499962 Π_{3} Π_{1} Π_{4} Π_{1} Π_{3} - 1.17082039324994 Π_{3} Π_{1} Π_{4} Π_{2} Π_{0} Π_{3} + 0.170820393249937 Π_{3} Π_{1}^{2} Π_{3}\\right)$"
      ],
      "text/plain": [
       "                                                                              \n",
       "2.78885438199984⋅Π₀ + 0.217286896751641⋅Π₀⋅P⋅Π₀ + 0.217286896751641⋅Π₀⋅Pd⋅Π₀ +\n",
       "\n",
       "                                                                              \n",
       " 0.434573793503282⋅Π₀⋅Pd⋅Π₁ - 0.568864481005782⋅Π₀⋅Pd⋅Π₁⋅Π₃ - 0.56886448100578\n",
       "\n",
       "                                                                              \n",
       "6⋅Π₀⋅Pd⋅Π₂⋅Π₀ - 0.920442065259927⋅Π₀⋅Pd⋅Π₄ + 0.920442065259926⋅Π₀⋅Pd⋅Π₄⋅Π₁ + 0\n",
       "\n",
       "                                                      2                       \n",
       ".920442065259927⋅Π₀⋅Pd⋅Π₄⋅Π₂ + 0.447213595499959⋅Π₀⋅Pd ⋅Π₁ - 0.568864481005786\n",
       "\n",
       "                                                                              \n",
       "⋅Π₀⋅Π₂⋅P⋅Π₀ - 0.568864481005785⋅Π₀⋅Π₂⋅Pd⋅Π₁ + 0.170820393249937⋅Π₀⋅Π₂⋅Π₀ + 1.1\n",
       "\n",
       "                                                                              \n",
       "7082039324994⋅Π₀⋅Π₂⋅Π₄ - 1.17082039324994⋅Π₀⋅Π₂⋅Π₄⋅Π₁ - 1.17082039324994⋅Π₀⋅Π₂\n",
       "\n",
       "                                                                              \n",
       "⋅Π₄⋅Π₂ + 0.105572809000084⋅Π₁ + 0.434573793503282⋅Π₁⋅P⋅Π₀ + 0.21728689675164⋅Π\n",
       "\n",
       "                                                                              \n",
       "₁⋅P⋅Π₁ - 0.568864481005781⋅Π₁⋅P⋅Π₁⋅Π₃ - 0.568864481005785⋅Π₁⋅P⋅Π₂⋅Π₀ - 0.92044\n",
       "\n",
       "                                                                              \n",
       "2065259925⋅Π₁⋅P⋅Π₄ + 0.920442065259924⋅Π₁⋅P⋅Π₄⋅Π₁ + 0.920442065259925⋅Π₁⋅P⋅Π₄⋅\n",
       "\n",
       "                           2                                                  \n",
       "Π₂ + 0.447213595499959⋅Π₁⋅P ⋅Π₀ + 0.21728689675164⋅Π₁⋅Pd⋅Π₁ - 0.27639320225002\n",
       "\n",
       "                                                                              \n",
       "⋅Π₁⋅Π₃ - 2.34164078649987⋅Π₁⋅Π₄ + 0.920442065259926⋅Π₁⋅Π₄⋅P⋅Π₀ + 0.92044206525\n",
       "\n",
       "                                                                              \n",
       "9924⋅Π₁⋅Π₄⋅Pd⋅Π₁ + 2.78885438199982⋅Π₁⋅Π₄⋅Π₁ - 1.17082039324993⋅Π₁⋅Π₄⋅Π₁⋅Π₃ + \n",
       "\n",
       "                                                                              \n",
       "2.34164078649987⋅Π₁⋅Π₄⋅Π₂ - 1.17082039324994⋅Π₁⋅Π₄⋅Π₂⋅Π₀ + 2.68328157299975⋅Π₁\n",
       "\n",
       "2                                                                             \n",
       "  - 1.89442719099991⋅Π₂⋅Π₄ + 0.920442065259927⋅Π₂⋅Π₄⋅P⋅Π₀ + 0.920442065259925⋅\n",
       "\n",
       "                                                                              \n",
       "Π₂⋅Π₄⋅Pd⋅Π₁ + 2.34164078649987⋅Π₂⋅Π₄⋅Π₁ - 1.17082039324993⋅Π₂⋅Π₄⋅Π₁⋅Π₃ + 1.894\n",
       "\n",
       "                                                                              \n",
       "42719099991⋅Π₂⋅Π₄⋅Π₂ - 1.17082039324994⋅Π₂⋅Π₄⋅Π₂⋅Π₀ - 0.27639320225002⋅Π₃⋅Π₁ -\n",
       "\n",
       "                                                                              \n",
       " 0.568864481005782⋅Π₃⋅Π₁⋅P⋅Π₀ - 0.568864481005781⋅Π₃⋅Π₁⋅Pd⋅Π₁ + 0.723606797749\n",
       "\n",
       "                                                                              \n",
       "973⋅Π₃⋅Π₁⋅Π₃ + 1.17082039324993⋅Π₃⋅Π₁⋅Π₄ - 1.17082039324993⋅Π₃⋅Π₁⋅Π₄⋅Π₁ - 1.17\n",
       "\n",
       "                                                                              \n",
       "082039324993⋅Π₃⋅Π₁⋅Π₄⋅Π₂ + 1.89442719099991⋅Π₄ - 0.920442065259927⋅Π₄⋅P⋅Π₀ - 0\n",
       "\n",
       "                                                                              \n",
       ".920442065259925⋅Π₄⋅Pd⋅Π₁ - 2.34164078649987⋅Π₄⋅Π₁ + 1.17082039324993⋅Π₄⋅Π₁⋅Π₃\n",
       "\n",
       "                                                                              \n",
       " - 1.89442719099991⋅Π₄⋅Π₂ + 1.17082039324994⋅Π₄⋅Π₂⋅Π₀ + 5.0⋅(0.217286896751641\n",
       "\n",
       "                                                                              \n",
       "⋅Π₂⋅Π₀⋅P⋅Π₀⋅Π₂ + 0.217286896751641⋅Π₂⋅Π₀⋅Pd⋅Π₀⋅Π₂ - 0.568864481005786⋅Π₂⋅Π₀⋅Pd\n",
       "\n",
       "                                                                              \n",
       "⋅Π₂⋅Π₀⋅Π₂ + 0.44721359549996⋅Π₂⋅Π₀⋅Π₂ - 0.568864481005786⋅Π₂⋅Π₀⋅Π₂⋅P⋅Π₀⋅Π₂ + 0\n",
       "\n",
       "                                      ⎛                                       \n",
       ".44721359549996⋅Π₂⋅Π₀⋅Π₂⋅Π₀⋅Π₂) + 5.0⋅⎝4.95967477524975⋅Π₄ - 0.920442065259924\n",
       "\n",
       "                                                                              \n",
       "⋅Π₄⋅Pd⋅Π₁⋅Π₄ + 0.21728689675164⋅Π₄⋅Π₁⋅P⋅Π₁⋅Π₄ - 0.920442065259924⋅Π₄⋅Π₁⋅P⋅Π₄ +\n",
       "\n",
       "                                                                              \n",
       " 0.920442065259924⋅Π₄⋅Π₁⋅P⋅Π₄⋅Π₁⋅Π₄ + 0.920442065259925⋅Π₄⋅Π₁⋅P⋅Π₄⋅Π₂⋅Π₄ + 0.2\n",
       "\n",
       "                                                                              \n",
       "1728689675164⋅Π₄⋅Π₁⋅Pd⋅Π₁⋅Π₄ - 11.9845971347493⋅Π₄⋅Π₁⋅Π₄ + 0.920442065259924⋅Π\n",
       "\n",
       "                                                                              \n",
       "₄⋅Π₁⋅Π₄⋅Pd⋅Π₁⋅Π₄ + 7.30131556174961⋅Π₄⋅Π₁⋅Π₄⋅Π₁⋅Π₄ + 6.13049516849968⋅Π₄⋅Π₁⋅Π₄\n",
       "\n",
       "                                2                                             \n",
       "⋅Π₂⋅Π₄ + 0.170820393249937⋅Π₄⋅Π₁ ⋅Π₄ - 9.9193495504995⋅Π₄⋅Π₂⋅Π₄ + 0.9204420652\n",
       "\n",
       "                                                                              \n",
       "59925⋅Π₄⋅Π₂⋅Π₄⋅Pd⋅Π₁⋅Π₄ + 6.13049516849968⋅Π₄⋅Π₂⋅Π₄⋅Π₁⋅Π₄ + 4.95967477524975⋅Π\n",
       "\n",
       "             ⎞       ⎛                                                        \n",
       "₄⋅Π₂⋅Π₄⋅Π₂⋅Π₄⎠ + 5.0⋅⎝-0.134290687502503⋅Π₃⋅Π₀⋅P⋅Π₀⋅Π₃ - 0.134290687502503⋅Π₃⋅\n",
       "\n",
       "                                                                              \n",
       "Π₀⋅Pd⋅Π₀⋅Π₃ + 0.082996209249136⋅Π₃⋅Π₀⋅Pd⋅Π₁⋅Π₃ + 0.351577584254145⋅Π₃⋅Π₀⋅Pd⋅Π₂\n",
       "\n",
       "                                                                         2    \n",
       "⋅Π₀⋅Π₃ - 0.568864481005783⋅Π₃⋅Π₀⋅Pd⋅Π₄⋅Π₁⋅Π₃ + 0.170820393249937⋅Π₃⋅Π₀⋅Pd ⋅Π₁⋅\n",
       "\n",
       "                                                                              \n",
       "Π₃ + 0.351577584254145⋅Π₃⋅Π₀⋅Π₂⋅P⋅Π₀⋅Π₃ + 0.351577584254144⋅Π₃⋅Π₀⋅Π₂⋅Pd⋅Π₁⋅Π₃ \n",
       "\n",
       "                                                                              \n",
       "+ 0.170820393249938⋅Π₃⋅Π₀⋅Π₂⋅Π₀⋅Π₃ - 1.17082039324994⋅Π₃⋅Π₀⋅Π₂⋅Π₄⋅Π₁⋅Π₃ + 0.27\n",
       "\n",
       "                                                                              \n",
       "6393202250022⋅Π₃⋅Π₀⋅Π₃ + 0.082996209249136⋅Π₃⋅Π₁⋅P⋅Π₀⋅Π₃ + 0.217286896751639⋅Π\n",
       "\n",
       "                                                                              \n",
       "₃⋅Π₁⋅P⋅Π₁⋅Π₃ + 0.351577584254144⋅Π₃⋅Π₁⋅P⋅Π₂⋅Π₀⋅Π₃ - 0.568864481005782⋅Π₃⋅Π₁⋅P⋅\n",
       "\n",
       "                                    2                                         \n",
       "Π₄⋅Π₁⋅Π₃ + 0.170820393249937⋅Π₃⋅Π₁⋅P ⋅Π₀⋅Π₃ + 0.217286896751639⋅Π₃⋅Π₁⋅Pd⋅Π₁⋅Π₃\n",
       "\n",
       "                                                                              \n",
       " + 0.276393202250018⋅Π₃⋅Π₁⋅Π₃ - 0.568864481005783⋅Π₃⋅Π₁⋅Π₄⋅P⋅Π₀⋅Π₃ - 0.5688644\n",
       "\n",
       "                                                                              \n",
       "81005782⋅Π₃⋅Π₁⋅Π₄⋅Pd⋅Π₁⋅Π₃ + 0.447213595499962⋅Π₃⋅Π₁⋅Π₄⋅Π₁⋅Π₃ - 1.170820393249\n",
       "\n",
       "                                              2   ⎞\n",
       "94⋅Π₃⋅Π₁⋅Π₄⋅Π₂⋅Π₀⋅Π₃ + 0.170820393249937⋅Π₃⋅Π₁ ⋅Π₃⎠"
      ]
     },
     "metadata": {},
     "output_type": "display_data"
    }
   ],
   "source": [
    "objective = iKCBS.F\n",
    "\n",
    "# objective1=iKCBS.F\n",
    "\n",
    "# #objective = A[0] + A[1] + A[2] + A[3] + A[4]\n",
    "# objective2 = A[0]*A[0] + 1e-13*A[1] + 1e-13*A[2] + 1e-13*A[3] + 1e-13*A[4]\n",
    "\n",
    "# objective=objective\n",
    "#display(objective);"
   ]
  },
  {
   "cell_type": "code",
   "execution_count": 50,
   "metadata": {
    "init_cell": true
   },
   "outputs": [
    {
     "name": "stdout",
     "output_type": "stream",
     "text": [
      "[Π_0, Π_1, Π_2, Π_3, Π_4, P, Pd]\n"
     ]
    }
   ],
   "source": [
    "hDepth = 3 #depth of the heirarchy; depends on the number of Πs in the expression for Fidelity\n",
    "\n",
    "L1=A + B #appends the lists\n",
    "#print(L1)\n",
    "\n",
    "\n",
    "#display(Lx)\n",
    "\n",
    "#These will help simplify A^3 to A when needed\n",
    "lDepth = 2\n",
    "sqDicts={} #{A[i]**2:A[i] for i in range(len(L1))}\n",
    "for iA in A:\n",
    "    sqDicts[iA**5]=iA\n",
    "    sqDicts[iA**4]=iA\n",
    "    sqDicts[iA**3]=iA\n",
    "    sqDicts[iA**2]=iA\n",
    "\n",
    "sqDicts[B[0]*B[1]]=sp.Integer(1)\n",
    "sqDicts[B[1]*B[0]]=sp.Integer(1)\n",
    "\n",
    "\n",
    "\n",
    "\n",
    "# L2=[]\n",
    "# for let1 in L1:\n",
    "#     for let2 in L1:\n",
    "#         L2.append(let1*let2)\n",
    "\n",
    "\n",
    "\n",
    "\n",
    "# L = I + L1 + L2\n",
    "# L_ = L1 + L2\n",
    "#print(L)\n"
   ]
  },
  {
   "cell_type": "code",
   "execution_count": 143,
   "metadata": {},
   "outputs": [
    {
     "data": {
      "text/latex": [
       "$\\displaystyle Π_{1}^{2} + Π_{2} Π_{0}^{2}$"
      ],
      "text/plain": [
       "  2        2\n",
       "Π₁  + Π₂⋅Π₀ "
      ]
     },
     "metadata": {},
     "output_type": "display_data"
    },
    {
     "data": {
      "text/latex": [
       "$\\displaystyle Π_{1} Π_{1} + Π_{2} Π_{0} Π_{0}$"
      ],
      "text/plain": [
       "Π₁⋅Π₁ + Π₂⋅Π₀⋅Π₀"
      ]
     },
     "execution_count": 143,
     "metadata": {},
     "output_type": "execute_result"
    }
   ],
   "source": [
    "# expr=A[2]*A[0]*A[0] + A[1]*A[1]\n",
    "# display(expr)\n",
    "\n",
    "# #sp.expand(expr).args\n",
    "# #expr.expand(power_exp=False).args\n",
    "# #pow_to_mul(expr).args[1].args[1].args #.args[0].args\n",
    "\n",
    "# pow_to_mul(expr)\n",
    "\n",
    "# mul_to_single_mul(pow_to_mul(expr))\n",
    "# #pow_to_mul(expr).expand(mul=False).args[1]"
   ]
  },
  {
   "cell_type": "code",
   "execution_count": 51,
   "metadata": {
    "collapsed": true,
    "init_cell": true
   },
   "outputs": [
    {
     "data": {
      "image/png": "[encoded data removed]",
      "text/plain": [
       "<Figure size 432x288 with 1 Axes>"
      ]
     },
     "metadata": {},
     "output_type": "display_data"
    }
   ],
   "source": [
    "G = nx.Graph()\n",
    "\n",
    "#node2 in G[node1] #yes if they are connected by an edge\n",
    "\n",
    "G = nx.Graph()\n",
    "G.add_nodes_from(L1)\n",
    "G.add_edges_from([[L1[i],L1[(i+1)%(N)]] for i in range(N)])\n",
    "\n",
    "#create a dictionary to simplify expressions later which sets projector products to zero\n",
    "gDicts={}\n",
    "for l1 in L1:\n",
    "    for l2 in L1:\n",
    "        if l1 in G[l2]:\n",
    "            gDicts.update({l1*l2:sp.Integer(0)})\n",
    "\n",
    "\n",
    "%matplotlib inline \n",
    "nx.draw(G, with_labels=True)"
   ]
  },
  {
   "cell_type": "code",
   "execution_count": 64,
   "metadata": {
    "collapsed": true,
    "init_cell": true
   },
   "outputs": [
    {
     "data": {
      "text/latex": [
       "$\\displaystyle 2.78885438199984 Π_{0} + 0.217286896751641 Π_{0} P Π_{0} + 0.217286896751641 Π_{0} Pd Π_{0} + 0.434573793503282 Π_{0} Pd Π_{1} - 0.568864481005782 Π_{0} Pd Π_{1} Π_{3} - 0.568864481005786 Π_{0} Pd Π_{2} Π_{0} - 0.920442065259927 Π_{0} Pd Π_{4} + 0.920442065259926 Π_{0} Pd Π_{4} Π_{1} + 0.920442065259927 Π_{0} Pd Π_{4} Π_{2} + 0.447213595499959 Π_{0} Pd^{2} Π_{1} - 0.568864481005786 Π_{0} Π_{2} P Π_{0} - 0.568864481005785 Π_{0} Π_{2} Pd Π_{1} + 0.170820393249937 Π_{0} Π_{2} Π_{0} + 1.17082039324994 Π_{0} Π_{2} Π_{4} - 1.17082039324994 Π_{0} Π_{2} Π_{4} Π_{1} - 1.17082039324994 Π_{0} Π_{2} Π_{4} Π_{2} + 2.78885438199983 Π_{1} + 0.434573793503282 Π_{1} P Π_{0} + 0.21728689675164 Π_{1} P Π_{1} - 0.568864481005781 Π_{1} P Π_{1} Π_{3} - 0.568864481005785 Π_{1} P Π_{2} Π_{0} - 0.920442065259925 Π_{1} P Π_{4} + 0.920442065259924 Π_{1} P Π_{4} Π_{1} + 0.920442065259925 Π_{1} P Π_{4} Π_{2} + 0.447213595499959 Π_{1} P^{2} Π_{0} + 0.21728689675164 Π_{1} Pd Π_{1} - 0.27639320225002 Π_{1} Π_{3} - 2.34164078649987 Π_{1} Π_{4} + 0.920442065259926 Π_{1} Π_{4} P Π_{0} + 0.920442065259924 Π_{1} Π_{4} Pd Π_{1} + 2.78885438199982 Π_{1} Π_{4} Π_{1} - 1.17082039324993 Π_{1} Π_{4} Π_{1} Π_{3} + 2.34164078649987 Π_{1} Π_{4} Π_{2} - 1.17082039324994 Π_{1} Π_{4} Π_{2} Π_{0} + 1.08643448375821 Π_{2} Π_{0} P Π_{0} Π_{2} + 1.08643448375821 Π_{2} Π_{0} Pd Π_{0} Π_{2} - 2.84432240502893 Π_{2} Π_{0} Pd Π_{2} Π_{0} Π_{2} + 2.2360679774998 Π_{2} Π_{0} Π_{2} - 2.84432240502893 Π_{2} Π_{0} Π_{2} P Π_{0} Π_{2} + 2.2360679774998 Π_{2} Π_{0} Π_{2} Π_{0} Π_{2} - 1.89442719099991 Π_{2} Π_{4} + 0.920442065259927 Π_{2} Π_{4} P Π_{0} + 0.920442065259925 Π_{2} Π_{4} Pd Π_{1} + 2.34164078649987 Π_{2} Π_{4} Π_{1} - 1.17082039324993 Π_{2} Π_{4} Π_{1} Π_{3} + 1.89442719099991 Π_{2} Π_{4} Π_{2} - 1.17082039324994 Π_{2} Π_{4} Π_{2} Π_{0} - 0.671453437512517 Π_{3} Π_{0} P Π_{0} Π_{3} - 0.671453437512517 Π_{3} Π_{0} Pd Π_{0} Π_{3} + 0.41498104624568 Π_{3} Π_{0} Pd Π_{1} Π_{3} + 1.75788792127072 Π_{3} Π_{0} Pd Π_{2} Π_{0} Π_{3} - 2.84432240502891 Π_{3} Π_{0} Pd Π_{4} Π_{1} Π_{3} + 0.854101966249686 Π_{3} Π_{0} Pd^{2} Π_{1} Π_{3} + 1.75788792127072 Π_{3} Π_{0} Π_{2} P Π_{0} Π_{3} + 1.75788792127072 Π_{3} Π_{0} Π_{2} Pd Π_{1} Π_{3} + 0.854101966249688 Π_{3} Π_{0} Π_{2} Π_{0} Π_{3} - 5.85410196624969 Π_{3} Π_{0} Π_{2} Π_{4} Π_{1} Π_{3} + 1.38196601125011 Π_{3} Π_{0} Π_{3} - 0.27639320225002 Π_{3} Π_{1} - 0.568864481005782 Π_{3} Π_{1} P Π_{0} + 0.41498104624568 Π_{3} Π_{1} P Π_{0} Π_{3} + 1.08643448375819 Π_{3} Π_{1} P Π_{1} Π_{3} + 1.75788792127072 Π_{3} Π_{1} P Π_{2} Π_{0} Π_{3} - 2.84432240502891 Π_{3} Π_{1} P Π_{4} Π_{1} Π_{3} + 0.854101966249686 Π_{3} Π_{1} P^{2} Π_{0} Π_{3} - 0.568864481005781 Π_{3} Π_{1} Pd Π_{1} + 1.08643448375819 Π_{3} Π_{1} Pd Π_{1} Π_{3} + 2.95967477524975 Π_{3} Π_{1} Π_{3} + 1.17082039324993 Π_{3} Π_{1} Π_{4} - 2.84432240502891 Π_{3} Π_{1} Π_{4} P Π_{0} Π_{3} - 2.84432240502891 Π_{3} Π_{1} Π_{4} Pd Π_{1} Π_{3} - 1.17082039324993 Π_{3} Π_{1} Π_{4} Π_{1} + 2.23606797749981 Π_{3} Π_{1} Π_{4} Π_{1} Π_{3} - 1.17082039324993 Π_{3} Π_{1} Π_{4} Π_{2} - 5.85410196624969 Π_{3} Π_{1} Π_{4} Π_{2} Π_{0} Π_{3} + 26.6928010672487 Π_{4} - 0.920442065259927 Π_{4} P Π_{0} - 0.920442065259925 Π_{4} Pd Π_{1} - 4.60221032629962 Π_{4} Pd Π_{1} Π_{4} - 2.34164078649987 Π_{4} Π_{1} + 1.0864344837582 Π_{4} Π_{1} P Π_{1} Π_{4} - 4.60221032629962 Π_{4} Π_{1} P Π_{4} + 4.60221032629962 Π_{4} Π_{1} P Π_{4} Π_{1} Π_{4} + 4.60221032629962 Π_{4} Π_{1} P Π_{4} Π_{2} Π_{4} + 1.0864344837582 Π_{4} Π_{1} Pd Π_{1} Π_{4} + 1.17082039324993 Π_{4} Π_{1} Π_{3} - 59.068883707497 Π_{4} Π_{1} Π_{4} + 4.60221032629962 Π_{4} Π_{1} Π_{4} Pd Π_{1} Π_{4} + 36.506577808748 Π_{4} Π_{1} Π_{4} Π_{1} Π_{4} + 30.6524758424984 Π_{4} Π_{1} Π_{4} Π_{2} Π_{4} - 1.89442719099991 Π_{4} Π_{2} + 1.17082039324994 Π_{4} Π_{2} Π_{0} - 49.5967477524975 Π_{4} Π_{2} Π_{4} + 4.60221032629962 Π_{4} Π_{2} Π_{4} Pd Π_{1} Π_{4} + 30.6524758424984 Π_{4} Π_{2} Π_{4} Π_{1} Π_{4} + 24.7983738762488 Π_{4} Π_{2} Π_{4} Π_{2} Π_{4}$"
      ],
      "text/plain": [
       "                                                                              \n",
       "2.78885438199984⋅Π₀ + 0.217286896751641⋅Π₀⋅P⋅Π₀ + 0.217286896751641⋅Π₀⋅Pd⋅Π₀ +\n",
       "\n",
       "                                                                              \n",
       " 0.434573793503282⋅Π₀⋅Pd⋅Π₁ - 0.568864481005782⋅Π₀⋅Pd⋅Π₁⋅Π₃ - 0.56886448100578\n",
       "\n",
       "                                                                              \n",
       "6⋅Π₀⋅Pd⋅Π₂⋅Π₀ - 0.920442065259927⋅Π₀⋅Pd⋅Π₄ + 0.920442065259926⋅Π₀⋅Pd⋅Π₄⋅Π₁ + 0\n",
       "\n",
       "                                                      2                       \n",
       ".920442065259927⋅Π₀⋅Pd⋅Π₄⋅Π₂ + 0.447213595499959⋅Π₀⋅Pd ⋅Π₁ - 0.568864481005786\n",
       "\n",
       "                                                                              \n",
       "⋅Π₀⋅Π₂⋅P⋅Π₀ - 0.568864481005785⋅Π₀⋅Π₂⋅Pd⋅Π₁ + 0.170820393249937⋅Π₀⋅Π₂⋅Π₀ + 1.1\n",
       "\n",
       "                                                                              \n",
       "7082039324994⋅Π₀⋅Π₂⋅Π₄ - 1.17082039324994⋅Π₀⋅Π₂⋅Π₄⋅Π₁ - 1.17082039324994⋅Π₀⋅Π₂\n",
       "\n",
       "                                                                              \n",
       "⋅Π₄⋅Π₂ + 2.78885438199983⋅Π₁ + 0.434573793503282⋅Π₁⋅P⋅Π₀ + 0.21728689675164⋅Π₁\n",
       "\n",
       "                                                                              \n",
       "⋅P⋅Π₁ - 0.568864481005781⋅Π₁⋅P⋅Π₁⋅Π₃ - 0.568864481005785⋅Π₁⋅P⋅Π₂⋅Π₀ - 0.920442\n",
       "\n",
       "                                                                              \n",
       "065259925⋅Π₁⋅P⋅Π₄ + 0.920442065259924⋅Π₁⋅P⋅Π₄⋅Π₁ + 0.920442065259925⋅Π₁⋅P⋅Π₄⋅Π\n",
       "\n",
       "                          2                                                   \n",
       "₂ + 0.447213595499959⋅Π₁⋅P ⋅Π₀ + 0.21728689675164⋅Π₁⋅Pd⋅Π₁ - 0.27639320225002⋅\n",
       "\n",
       "                                                                              \n",
       "Π₁⋅Π₃ - 2.34164078649987⋅Π₁⋅Π₄ + 0.920442065259926⋅Π₁⋅Π₄⋅P⋅Π₀ + 0.920442065259\n",
       "\n",
       "                                                                              \n",
       "924⋅Π₁⋅Π₄⋅Pd⋅Π₁ + 2.78885438199982⋅Π₁⋅Π₄⋅Π₁ - 1.17082039324993⋅Π₁⋅Π₄⋅Π₁⋅Π₃ + 2\n",
       "\n",
       "                                                                              \n",
       ".34164078649987⋅Π₁⋅Π₄⋅Π₂ - 1.17082039324994⋅Π₁⋅Π₄⋅Π₂⋅Π₀ + 1.08643448375821⋅Π₂⋅\n",
       "\n",
       "                                                                              \n",
       "Π₀⋅P⋅Π₀⋅Π₂ + 1.08643448375821⋅Π₂⋅Π₀⋅Pd⋅Π₀⋅Π₂ - 2.84432240502893⋅Π₂⋅Π₀⋅Pd⋅Π₂⋅Π₀\n",
       "\n",
       "                                                                              \n",
       "⋅Π₂ + 2.2360679774998⋅Π₂⋅Π₀⋅Π₂ - 2.84432240502893⋅Π₂⋅Π₀⋅Π₂⋅P⋅Π₀⋅Π₂ + 2.2360679\n",
       "\n",
       "                                                                              \n",
       "774998⋅Π₂⋅Π₀⋅Π₂⋅Π₀⋅Π₂ - 1.89442719099991⋅Π₂⋅Π₄ + 0.920442065259927⋅Π₂⋅Π₄⋅P⋅Π₀ \n",
       "\n",
       "                                                                              \n",
       "+ 0.920442065259925⋅Π₂⋅Π₄⋅Pd⋅Π₁ + 2.34164078649987⋅Π₂⋅Π₄⋅Π₁ - 1.17082039324993\n",
       "\n",
       "                                                                              \n",
       "⋅Π₂⋅Π₄⋅Π₁⋅Π₃ + 1.89442719099991⋅Π₂⋅Π₄⋅Π₂ - 1.17082039324994⋅Π₂⋅Π₄⋅Π₂⋅Π₀ - 0.67\n",
       "\n",
       "                                                                              \n",
       "1453437512517⋅Π₃⋅Π₀⋅P⋅Π₀⋅Π₃ - 0.671453437512517⋅Π₃⋅Π₀⋅Pd⋅Π₀⋅Π₃ + 0.41498104624\n",
       "\n",
       "                                                                              \n",
       "568⋅Π₃⋅Π₀⋅Pd⋅Π₁⋅Π₃ + 1.75788792127072⋅Π₃⋅Π₀⋅Pd⋅Π₂⋅Π₀⋅Π₃ - 2.84432240502891⋅Π₃⋅\n",
       "\n",
       "                                           2                                  \n",
       "Π₀⋅Pd⋅Π₄⋅Π₁⋅Π₃ + 0.854101966249686⋅Π₃⋅Π₀⋅Pd ⋅Π₁⋅Π₃ + 1.75788792127072⋅Π₃⋅Π₀⋅Π₂\n",
       "\n",
       "                                                                              \n",
       "⋅P⋅Π₀⋅Π₃ + 1.75788792127072⋅Π₃⋅Π₀⋅Π₂⋅Pd⋅Π₁⋅Π₃ + 0.854101966249688⋅Π₃⋅Π₀⋅Π₂⋅Π₀⋅\n",
       "\n",
       "                                                                              \n",
       "Π₃ - 5.85410196624969⋅Π₃⋅Π₀⋅Π₂⋅Π₄⋅Π₁⋅Π₃ + 1.38196601125011⋅Π₃⋅Π₀⋅Π₃ - 0.276393\n",
       "\n",
       "                                                                              \n",
       "20225002⋅Π₃⋅Π₁ - 0.568864481005782⋅Π₃⋅Π₁⋅P⋅Π₀ + 0.41498104624568⋅Π₃⋅Π₁⋅P⋅Π₀⋅Π₃\n",
       "\n",
       "                                                                              \n",
       " + 1.08643448375819⋅Π₃⋅Π₁⋅P⋅Π₁⋅Π₃ + 1.75788792127072⋅Π₃⋅Π₁⋅P⋅Π₂⋅Π₀⋅Π₃ - 2.8443\n",
       "\n",
       "                                                       2                      \n",
       "2240502891⋅Π₃⋅Π₁⋅P⋅Π₄⋅Π₁⋅Π₃ + 0.854101966249686⋅Π₃⋅Π₁⋅P ⋅Π₀⋅Π₃ - 0.56886448100\n",
       "\n",
       "                                                                              \n",
       "5781⋅Π₃⋅Π₁⋅Pd⋅Π₁ + 1.08643448375819⋅Π₃⋅Π₁⋅Pd⋅Π₁⋅Π₃ + 2.95967477524975⋅Π₃⋅Π₁⋅Π₃\n",
       "\n",
       "                                                                              \n",
       " + 1.17082039324993⋅Π₃⋅Π₁⋅Π₄ - 2.84432240502891⋅Π₃⋅Π₁⋅Π₄⋅P⋅Π₀⋅Π₃ - 2.844322405\n",
       "\n",
       "                                                                              \n",
       "02891⋅Π₃⋅Π₁⋅Π₄⋅Pd⋅Π₁⋅Π₃ - 1.17082039324993⋅Π₃⋅Π₁⋅Π₄⋅Π₁ + 2.23606797749981⋅Π₃⋅Π\n",
       "\n",
       "                                                                              \n",
       "₁⋅Π₄⋅Π₁⋅Π₃ - 1.17082039324993⋅Π₃⋅Π₁⋅Π₄⋅Π₂ - 5.85410196624969⋅Π₃⋅Π₁⋅Π₄⋅Π₂⋅Π₀⋅Π₃\n",
       "\n",
       "                                                                              \n",
       " + 26.6928010672487⋅Π₄ - 0.920442065259927⋅Π₄⋅P⋅Π₀ - 0.920442065259925⋅Π₄⋅Pd⋅Π\n",
       "\n",
       "                                                                              \n",
       "₁ - 4.60221032629962⋅Π₄⋅Pd⋅Π₁⋅Π₄ - 2.34164078649987⋅Π₄⋅Π₁ + 1.0864344837582⋅Π₄\n",
       "\n",
       "                                                                              \n",
       "⋅Π₁⋅P⋅Π₁⋅Π₄ - 4.60221032629962⋅Π₄⋅Π₁⋅P⋅Π₄ + 4.60221032629962⋅Π₄⋅Π₁⋅P⋅Π₄⋅Π₁⋅Π₄ \n",
       "\n",
       "                                                                              \n",
       "+ 4.60221032629962⋅Π₄⋅Π₁⋅P⋅Π₄⋅Π₂⋅Π₄ + 1.0864344837582⋅Π₄⋅Π₁⋅Pd⋅Π₁⋅Π₄ + 1.17082\n",
       "\n",
       "                                                                              \n",
       "039324993⋅Π₄⋅Π₁⋅Π₃ - 59.068883707497⋅Π₄⋅Π₁⋅Π₄ + 4.60221032629962⋅Π₄⋅Π₁⋅Π₄⋅Pd⋅Π\n",
       "\n",
       "                                                                              \n",
       "₁⋅Π₄ + 36.506577808748⋅Π₄⋅Π₁⋅Π₄⋅Π₁⋅Π₄ + 30.6524758424984⋅Π₄⋅Π₁⋅Π₄⋅Π₂⋅Π₄ - 1.89\n",
       "\n",
       "                                                                              \n",
       "442719099991⋅Π₄⋅Π₂ + 1.17082039324994⋅Π₄⋅Π₂⋅Π₀ - 49.5967477524975⋅Π₄⋅Π₂⋅Π₄ + 4\n",
       "\n",
       "                                                                              \n",
       ".60221032629962⋅Π₄⋅Π₂⋅Π₄⋅Pd⋅Π₁⋅Π₄ + 30.6524758424984⋅Π₄⋅Π₂⋅Π₄⋅Π₁⋅Π₄ + 24.79837\n",
       "\n",
       "                       \n",
       "38762488⋅Π₄⋅Π₂⋅Π₄⋅Π₂⋅Π₄"
      ]
     },
     "metadata": {},
     "output_type": "display_data"
    }
   ],
   "source": [
    "#Simplify objective using the orthogonality relations of the graph\n",
    "#display(prune(objective).subs(gDicts))  \n",
    "objective_ = sp.expand(prune(objective).subs(gDicts)).subs(gDicts).subs(sqDicts)\n",
    "display(objective_)"
   ]
  },
  {
   "cell_type": "code",
   "execution_count": 57,
   "metadata": {
    "collapsed": true,
    "init_cell": true
   },
   "outputs": [
    {
     "name": "stdout",
     "output_type": "stream",
     "text": [
      "[Π_0, Π_1, Π_2, Π_3, Π_4, P, Pd]\n"
     ]
    },
    {
     "data": {
      "text/latex": [
       "$\\displaystyle \\left[ Π_{0}, \\  Π_{2} Π_{0}, \\  Π_{3} Π_{0}, \\  P Π_{0}, \\  Pd Π_{0}, \\  Π_{1}, \\  Π_{3} Π_{1}, \\  Π_{4} Π_{1}, \\  P Π_{1}, \\  Pd Π_{1}, \\  Π_{0} Π_{2}, \\  Π_{2}, \\  Π_{4} Π_{2}, \\  P Π_{2}, \\  Pd Π_{2}, \\  Π_{0} Π_{3}, \\  Π_{1} Π_{3}, \\  Π_{3}, \\  P Π_{3}, \\  Pd Π_{3}, \\  Π_{1} Π_{4}, \\  Π_{2} Π_{4}, \\  Π_{4}, \\  P Π_{4}, \\  Pd Π_{4}, \\  Π_{0} P, \\  Π_{1} P, \\  Π_{2} P, \\  Π_{3} P, \\  Π_{4} P, \\  P^{2}, \\  1, \\  Π_{0} Pd, \\  Π_{1} Pd, \\  Π_{2} Pd, \\  Π_{3} Pd, \\  Π_{4} Pd, \\  Pd^{2}, \\  Π_{0} Π_{2} Π_{0}, \\  Π_{4} Π_{2} Π_{0}, \\  P Π_{2} Π_{0}, \\  Pd Π_{2} Π_{0}, \\  Π_{0} Π_{3} Π_{0}, \\  Π_{1} Π_{3} Π_{0}, \\  P Π_{3} Π_{0}, \\  Pd Π_{3} Π_{0}, \\  Π_{0} P Π_{0}, \\  Π_{1} P Π_{0}, \\  Π_{2} P Π_{0}, \\  Π_{3} P Π_{0}, \\  Π_{4} P Π_{0}, \\  P^{2} Π_{0}, \\  Π_{0} Pd Π_{0}, \\  Π_{1} Pd Π_{0}, \\  Π_{2} Pd Π_{0}, \\  Π_{3} Pd Π_{0}, \\  Π_{4} Pd Π_{0}, \\  Pd^{2} Π_{0}, \\  Π_{0} Π_{3} Π_{1}, \\  Π_{1} Π_{3} Π_{1}, \\  P Π_{3} Π_{1}, \\  Pd Π_{3} Π_{1}, \\  Π_{1} Π_{4} Π_{1}, \\  Π_{2} Π_{4} Π_{1}, \\  P Π_{4} Π_{1}, \\  Pd Π_{4} Π_{1}, \\  Π_{0} P Π_{1}, \\  Π_{1} P Π_{1}, \\  Π_{2} P Π_{1}, \\  Π_{3} P Π_{1}, \\  Π_{4} P Π_{1}, \\  P^{2} Π_{1}, \\  Π_{0} Pd Π_{1}, \\  Π_{1} Pd Π_{1}, \\  Π_{2} Pd Π_{1}, \\  Π_{3} Pd Π_{1}, \\  Π_{4} Pd Π_{1}, \\  Pd^{2} Π_{1}, \\  Π_{2} Π_{0} Π_{2}, \\  Π_{3} Π_{0} Π_{2}, \\  P Π_{0} Π_{2}, \\  Pd Π_{0} Π_{2}, \\  Π_{1} Π_{4} Π_{2}, \\  Π_{2} Π_{4} Π_{2}, \\  P Π_{4} Π_{2}, \\  Pd Π_{4} Π_{2}, \\  Π_{0} P Π_{2}, \\  Π_{1} P Π_{2}, \\  Π_{2} P Π_{2}, \\  Π_{3} P Π_{2}, \\  Π_{4} P Π_{2}, \\  P^{2} Π_{2}, \\  Π_{0} Pd Π_{2}, \\  Π_{1} Pd Π_{2}, \\  Π_{2} Pd Π_{2}, \\  Π_{3} Pd Π_{2}, \\  Π_{4} Pd Π_{2}, \\  Pd^{2} Π_{2}, \\  Π_{2} Π_{0} Π_{3}, \\  Π_{3} Π_{0} Π_{3}, \\  P Π_{0} Π_{3}, \\  Pd Π_{0} Π_{3}, \\  Π_{3} Π_{1} Π_{3}, \\  Π_{4} Π_{1} Π_{3}, \\  P Π_{1} Π_{3}, \\  Pd Π_{1} Π_{3}, \\  Π_{0} P Π_{3}, \\  Π_{1} P Π_{3}, \\  Π_{2} P Π_{3}, \\  Π_{3} P Π_{3}, \\  Π_{4} P Π_{3}, \\  P^{2} Π_{3}, \\  Π_{0} Pd Π_{3}, \\  Π_{1} Pd Π_{3}, \\  Π_{2} Pd Π_{3}, \\  Π_{3} Pd Π_{3}, \\  Π_{4} Pd Π_{3}, \\  Pd^{2} Π_{3}, \\  Π_{3} Π_{1} Π_{4}, \\  Π_{4} Π_{1} Π_{4}, \\  P Π_{1} Π_{4}, \\  Pd Π_{1} Π_{4}, \\  Π_{0} Π_{2} Π_{4}, \\  Π_{4} Π_{2} Π_{4}, \\  P Π_{2} Π_{4}, \\  Pd Π_{2} Π_{4}, \\  Π_{0} P Π_{4}, \\  Π_{1} P Π_{4}, \\  Π_{2} P Π_{4}, \\  Π_{3} P Π_{4}, \\  Π_{4} P Π_{4}, \\  P^{2} Π_{4}, \\  Π_{0} Pd Π_{4}, \\  Π_{1} Pd Π_{4}, \\  Π_{2} Pd Π_{4}, \\  Π_{3} Pd Π_{4}, \\  Π_{4} Pd Π_{4}, \\  Pd^{2} Π_{4}, \\  Π_{2} Π_{0} P, \\  Π_{3} Π_{0} P, \\  P Π_{0} P, \\  Pd Π_{0} P, \\  Π_{3} Π_{1} P, \\  Π_{4} Π_{1} P, \\  P Π_{1} P, \\  Pd Π_{1} P, \\  Π_{0} Π_{2} P, \\  Π_{4} Π_{2} P, \\  P Π_{2} P, \\  Pd Π_{2} P, \\  Π_{0} Π_{3} P, \\  Π_{1} Π_{3} P, \\  P Π_{3} P, \\  Pd Π_{3} P, \\  Π_{1} Π_{4} P, \\  Π_{2} Π_{4} P, \\  P Π_{4} P, \\  Pd Π_{4} P, \\  Π_{0} P^{2}, \\  Π_{1} P^{2}, \\  Π_{2} P^{2}, \\  Π_{3} P^{2}, \\  Π_{4} P^{2}, \\  P^{3}, \\  P, \\  Pd, \\  Π_{2} Π_{0} Pd, \\  Π_{3} Π_{0} Pd, \\  P Π_{0} Pd, \\  Pd Π_{0} Pd, \\  Π_{3} Π_{1} Pd, \\  Π_{4} Π_{1} Pd, \\  P Π_{1} Pd, \\  Pd Π_{1} Pd, \\  Π_{0} Π_{2} Pd, \\  Π_{4} Π_{2} Pd, \\  P Π_{2} Pd, \\  Pd Π_{2} Pd, \\  Π_{0} Π_{3} Pd, \\  Π_{1} Π_{3} Pd, \\  P Π_{3} Pd, \\  Pd Π_{3} Pd, \\  Π_{1} Π_{4} Pd, \\  Π_{2} Π_{4} Pd, \\  P Π_{4} Pd, \\  Pd Π_{4} Pd, \\  Π_{0} Pd^{2}, \\  Π_{1} Pd^{2}, \\  Π_{2} Pd^{2}, \\  Π_{3} Pd^{2}, \\  Π_{4} Pd^{2}, \\  Pd^{3}\\right]$"
      ],
      "text/plain": [
       "⎡                                                                             \n",
       "⎣Π₀, Π₂⋅Π₀, Π₃⋅Π₀, P⋅Π₀, Pd⋅Π₀, Π₁, Π₃⋅Π₁, Π₄⋅Π₁, P⋅Π₁, Pd⋅Π₁, Π₀⋅Π₂, Π₂, Π₄⋅Π\n",
       "\n",
       "                                                                              \n",
       "₂, P⋅Π₂, Pd⋅Π₂, Π₀⋅Π₃, Π₁⋅Π₃, Π₃, P⋅Π₃, Pd⋅Π₃, Π₁⋅Π₄, Π₂⋅Π₄, Π₄, P⋅Π₄, Pd⋅Π₄, \n",
       "\n",
       "                               2                                          2   \n",
       "Π₀⋅P, Π₁⋅P, Π₂⋅P, Π₃⋅P, Π₄⋅P, P , 1, Π₀⋅Pd, Π₁⋅Pd, Π₂⋅Pd, Π₃⋅Pd, Π₄⋅Pd, Pd , Π\n",
       "\n",
       "                                                                              \n",
       "₀⋅Π₂⋅Π₀, Π₄⋅Π₂⋅Π₀, P⋅Π₂⋅Π₀, Pd⋅Π₂⋅Π₀, Π₀⋅Π₃⋅Π₀, Π₁⋅Π₃⋅Π₀, P⋅Π₃⋅Π₀, Pd⋅Π₃⋅Π₀, Π\n",
       "\n",
       "                                             2                                \n",
       "₀⋅P⋅Π₀, Π₁⋅P⋅Π₀, Π₂⋅P⋅Π₀, Π₃⋅P⋅Π₀, Π₄⋅P⋅Π₀, P ⋅Π₀, Π₀⋅Pd⋅Π₀, Π₁⋅Pd⋅Π₀, Π₂⋅Pd⋅Π\n",
       "\n",
       "                         2                                                    \n",
       "₀, Π₃⋅Pd⋅Π₀, Π₄⋅Pd⋅Π₀, Pd ⋅Π₀, Π₀⋅Π₃⋅Π₁, Π₁⋅Π₃⋅Π₁, P⋅Π₃⋅Π₁, Pd⋅Π₃⋅Π₁, Π₁⋅Π₄⋅Π₁\n",
       "\n",
       "                                                                             2\n",
       ", Π₂⋅Π₄⋅Π₁, P⋅Π₄⋅Π₁, Pd⋅Π₄⋅Π₁, Π₀⋅P⋅Π₁, Π₁⋅P⋅Π₁, Π₂⋅P⋅Π₁, Π₃⋅P⋅Π₁, Π₄⋅P⋅Π₁, P \n",
       "\n",
       "                                                         2                    \n",
       "⋅Π₁, Π₀⋅Pd⋅Π₁, Π₁⋅Pd⋅Π₁, Π₂⋅Pd⋅Π₁, Π₃⋅Pd⋅Π₁, Π₄⋅Pd⋅Π₁, Pd ⋅Π₁, Π₂⋅Π₀⋅Π₂, Π₃⋅Π₀\n",
       "\n",
       "                                                                              \n",
       "⋅Π₂, P⋅Π₀⋅Π₂, Pd⋅Π₀⋅Π₂, Π₁⋅Π₄⋅Π₂, Π₂⋅Π₄⋅Π₂, P⋅Π₄⋅Π₂, Pd⋅Π₄⋅Π₂, Π₀⋅P⋅Π₂, Π₁⋅P⋅Π\n",
       "\n",
       "                               2                                              \n",
       "₂, Π₂⋅P⋅Π₂, Π₃⋅P⋅Π₂, Π₄⋅P⋅Π₂, P ⋅Π₂, Π₀⋅Pd⋅Π₂, Π₁⋅Pd⋅Π₂, Π₂⋅Pd⋅Π₂, Π₃⋅Pd⋅Π₂, Π\n",
       "\n",
       "           2                                                                  \n",
       "₄⋅Pd⋅Π₂, Pd ⋅Π₂, Π₂⋅Π₀⋅Π₃, Π₃⋅Π₀⋅Π₃, P⋅Π₀⋅Π₃, Pd⋅Π₀⋅Π₃, Π₃⋅Π₁⋅Π₃, Π₄⋅Π₁⋅Π₃, P⋅\n",
       "\n",
       "                                                               2              \n",
       "Π₁⋅Π₃, Pd⋅Π₁⋅Π₃, Π₀⋅P⋅Π₃, Π₁⋅P⋅Π₃, Π₂⋅P⋅Π₃, Π₃⋅P⋅Π₃, Π₄⋅P⋅Π₃, P ⋅Π₃, Π₀⋅Pd⋅Π₃,\n",
       "\n",
       "                                           2                                  \n",
       " Π₁⋅Pd⋅Π₃, Π₂⋅Pd⋅Π₃, Π₃⋅Pd⋅Π₃, Π₄⋅Pd⋅Π₃, Pd ⋅Π₃, Π₃⋅Π₁⋅Π₄, Π₄⋅Π₁⋅Π₄, P⋅Π₁⋅Π₄, \n",
       "\n",
       "                                                                              \n",
       "Pd⋅Π₁⋅Π₄, Π₀⋅Π₂⋅Π₄, Π₄⋅Π₂⋅Π₄, P⋅Π₂⋅Π₄, Pd⋅Π₂⋅Π₄, Π₀⋅P⋅Π₄, Π₁⋅P⋅Π₄, Π₂⋅P⋅Π₄, Π₃\n",
       "\n",
       "                 2                                                         2  \n",
       "⋅P⋅Π₄, Π₄⋅P⋅Π₄, P ⋅Π₄, Π₀⋅Pd⋅Π₄, Π₁⋅Pd⋅Π₄, Π₂⋅Pd⋅Π₄, Π₃⋅Pd⋅Π₄, Π₄⋅Pd⋅Π₄, Pd ⋅Π\n",
       "\n",
       "                                                                              \n",
       "₄, Π₂⋅Π₀⋅P, Π₃⋅Π₀⋅P, P⋅Π₀⋅P, Pd⋅Π₀⋅P, Π₃⋅Π₁⋅P, Π₄⋅Π₁⋅P, P⋅Π₁⋅P, Pd⋅Π₁⋅P, Π₀⋅Π₂\n",
       "\n",
       "                                                                              \n",
       "⋅P, Π₄⋅Π₂⋅P, P⋅Π₂⋅P, Pd⋅Π₂⋅P, Π₀⋅Π₃⋅P, Π₁⋅Π₃⋅P, P⋅Π₃⋅P, Pd⋅Π₃⋅P, Π₁⋅Π₄⋅P, Π₂⋅Π\n",
       "\n",
       "                          2      2      2      2      2   3                   \n",
       "₄⋅P, P⋅Π₄⋅P, Pd⋅Π₄⋅P, Π₀⋅P , Π₁⋅P , Π₂⋅P , Π₃⋅P , Π₄⋅P , P , P, Pd, Π₂⋅Π₀⋅Pd, \n",
       "\n",
       "                                                                              \n",
       "Π₃⋅Π₀⋅Pd, P⋅Π₀⋅Pd, Pd⋅Π₀⋅Pd, Π₃⋅Π₁⋅Pd, Π₄⋅Π₁⋅Pd, P⋅Π₁⋅Pd, Pd⋅Π₁⋅Pd, Π₀⋅Π₂⋅Pd, \n",
       "\n",
       "                                                                              \n",
       "Π₄⋅Π₂⋅Pd, P⋅Π₂⋅Pd, Pd⋅Π₂⋅Pd, Π₀⋅Π₃⋅Pd, Π₁⋅Π₃⋅Pd, P⋅Π₃⋅Pd, Pd⋅Π₃⋅Pd, Π₁⋅Π₄⋅Pd, \n",
       "\n",
       "                                  2       2       2       2       2    3⎤\n",
       "Π₂⋅Π₄⋅Pd, P⋅Π₄⋅Pd, Pd⋅Π₄⋅Pd, Π₀⋅Pd , Π₁⋅Pd , Π₂⋅Pd , Π₃⋅Pd , Π₄⋅Pd , Pd ⎦"
      ]
     },
     "metadata": {},
     "output_type": "display_data"
    }
   ],
   "source": [
    "Lx=[]\n",
    "\n",
    "#This generates words of length n with each position holding any of the y letters\n",
    "def loop_rec(y, n=None, val=None):\n",
    "    if n >= 1:\n",
    "        for x in range(y):\n",
    "            let=L1[x]\n",
    "            if val == None:\n",
    "                newVal=let\n",
    "            else:\n",
    "                newVal=let*val\n",
    "            loop_rec(y, n - 1, newVal)\n",
    "    else:\n",
    "        #TODO: Find a better way of removing powers\n",
    "        val_=val.subs(gDicts).subs(sqDicts).subs(sqDicts).subs(gDicts)\n",
    "        if not val_ in Lx and val_ != 0 :\n",
    "            Lx.append(val_)\n",
    "\n",
    "for i in range(2,hDepth+1):    \n",
    "    #loop_rec(N,i)\n",
    "    loop_rec(len(L1),i)\n",
    "\n",
    "    \n",
    "L = I + L1 + Lx\n",
    "L_ = L1 + Lx\n",
    "\n",
    "print(L1)\n",
    "display(Lx)"
   ]
  },
  {
   "cell_type": "code",
   "execution_count": 58,
   "metadata": {
    "init_cell": true
   },
   "outputs": [],
   "source": [
    "#symbol to index dictionary\n",
    "sTi={}\n",
    "\n",
    "for i in range(len(L)):\n",
    "    sTi[L[i]]=i\n",
    "\n",
    "#print(sTi)"
   ]
  },
  {
   "cell_type": "code",
   "execution_count": 59,
   "metadata": {
    "collapsed": true,
    "init_cell": true
   },
   "outputs": [
    {
     "name": "stdout",
     "output_type": "stream",
     "text": [
      "[Π_0, Π_2*Π_0, Π_3*Π_0, P*Π_0, Pd*Π_0, Π_1, Π_3*Π_1, Π_4*Π_1, P*Π_1, Pd*Π_1, Π_0*Π_2, Π_2, Π_4*Π_2, P*Π_2, Pd*Π_2, Π_0*Π_3, Π_1*Π_3, Π_3, P*Π_3, Pd*Π_3, Π_1*Π_4, Π_2*Π_4, Π_4, P*Π_4, Pd*Π_4, Π_0*P, Π_1*P, Π_2*P, Π_3*P, Π_4*P, P**2, 1, Π_0*Pd, Π_1*Pd, Π_2*Pd, Π_3*Pd, Π_4*Pd, Pd**2, Π_0*Π_2*Π_0, Π_4*Π_2*Π_0, P*Π_2*Π_0, Pd*Π_2*Π_0, Π_0*Π_3*Π_0, Π_1*Π_3*Π_0, P*Π_3*Π_0, Pd*Π_3*Π_0, Π_0*P*Π_0, Π_1*P*Π_0, Π_2*P*Π_0, Π_3*P*Π_0, Π_4*P*Π_0, P**2*Π_0, Π_0*Pd*Π_0, Π_1*Pd*Π_0, Π_2*Pd*Π_0, Π_3*Pd*Π_0, Π_4*Pd*Π_0, Pd**2*Π_0, Π_0*Π_3*Π_1, Π_1*Π_3*Π_1, P*Π_3*Π_1, Pd*Π_3*Π_1, Π_1*Π_4*Π_1, Π_2*Π_4*Π_1, P*Π_4*Π_1, Pd*Π_4*Π_1, Π_0*P*Π_1, Π_1*P*Π_1, Π_2*P*Π_1, Π_3*P*Π_1, Π_4*P*Π_1, P**2*Π_1, Π_0*Pd*Π_1, Π_1*Pd*Π_1, Π_2*Pd*Π_1, Π_3*Pd*Π_1, Π_4*Pd*Π_1, Pd**2*Π_1, Π_2*Π_0*Π_2, Π_3*Π_0*Π_2, P*Π_0*Π_2, Pd*Π_0*Π_2, Π_1*Π_4*Π_2, Π_2*Π_4*Π_2, P*Π_4*Π_2, Pd*Π_4*Π_2, Π_0*P*Π_2, Π_1*P*Π_2, Π_2*P*Π_2, Π_3*P*Π_2, Π_4*P*Π_2, P**2*Π_2, Π_0*Pd*Π_2, Π_1*Pd*Π_2, Π_2*Pd*Π_2, Π_3*Pd*Π_2, Π_4*Pd*Π_2, Pd**2*Π_2, Π_2*Π_0*Π_3, Π_3*Π_0*Π_3, P*Π_0*Π_3, Pd*Π_0*Π_3, Π_3*Π_1*Π_3, Π_4*Π_1*Π_3, P*Π_1*Π_3, Pd*Π_1*Π_3, Π_0*P*Π_3, Π_1*P*Π_3, Π_2*P*Π_3, Π_3*P*Π_3, Π_4*P*Π_3, P**2*Π_3, Π_0*Pd*Π_3, Π_1*Pd*Π_3, Π_2*Pd*Π_3, Π_3*Pd*Π_3, Π_4*Pd*Π_3, Pd**2*Π_3, Π_3*Π_1*Π_4, Π_4*Π_1*Π_4, P*Π_1*Π_4, Pd*Π_1*Π_4, Π_0*Π_2*Π_4, Π_4*Π_2*Π_4, P*Π_2*Π_4, Pd*Π_2*Π_4, Π_0*P*Π_4, Π_1*P*Π_4, Π_2*P*Π_4, Π_3*P*Π_4, Π_4*P*Π_4, P**2*Π_4, Π_0*Pd*Π_4, Π_1*Pd*Π_4, Π_2*Pd*Π_4, Π_3*Pd*Π_4, Π_4*Pd*Π_4, Pd**2*Π_4, Π_2*Π_0*P, Π_3*Π_0*P, P*Π_0*P, Pd*Π_0*P, Π_3*Π_1*P, Π_4*Π_1*P, P*Π_1*P, Pd*Π_1*P, Π_0*Π_2*P, Π_4*Π_2*P, P*Π_2*P, Pd*Π_2*P, Π_0*Π_3*P, Π_1*Π_3*P, P*Π_3*P, Pd*Π_3*P, Π_1*Π_4*P, Π_2*Π_4*P, P*Π_4*P, Pd*Π_4*P, Π_0*P**2, Π_1*P**2, Π_2*P**2, Π_3*P**2, Π_4*P**2, P**3, P, Pd, Π_2*Π_0*Pd, Π_3*Π_0*Pd, P*Π_0*Pd, Pd*Π_0*Pd, Π_3*Π_1*Pd, Π_4*Π_1*Pd, P*Π_1*Pd, Pd*Π_1*Pd, Π_0*Π_2*Pd, Π_4*Π_2*Pd, P*Π_2*Pd, Pd*Π_2*Pd, Π_0*Π_3*Pd, Π_1*Π_3*Pd, P*Π_3*Pd, Pd*Π_3*Pd, Π_1*Π_4*Pd, Π_2*Π_4*Pd, P*Π_4*Pd, Pd*Π_4*Pd, Π_0*Pd**2, Π_1*Pd**2, Π_2*Pd**2, Π_3*Pd**2, Π_4*Pd**2, Pd**3]\n"
     ]
    }
   ],
   "source": [
    "print(Lx)"
   ]
  },
  {
   "cell_type": "code",
   "execution_count": null,
   "metadata": {
    "code_folding": [
     0
    ]
   },
   "outputs": [],
   "source": [
    "#I was trying to directly substitute the matrices corresponding to these using represent but it doesn't seem to work well with non-commutative symbols and matrices\n",
    "\n",
    "# for i in range(len(A)):\n",
    "#     dictRep[A[i]]=sp.N(iKCBS.matΠs[i])\n",
    "\n",
    "#print(dictRep)\n",
    "test=A[0]*12+A[1]*13\n",
    "objective_.subs(dictRep)\n",
    "\n",
    "#X=[] #list(sp.MatrixSymbol('X_0:%d'%N,3,3))\n",
    "X=[sp.MatrixSymbol('X0',3,3)]\n",
    "X.append(sp.MatrixSymbol('X1',3,3))\n",
    "X.append(sp.MatrixSymbol('X2',3,3))\n",
    "X.append(sp.MatrixSymbol('X3',3,3))\n",
    "X.append(sp.MatrixSymbol('X4',3,3))\n",
    "\n",
    "# x1 = MatrixSymbol('x1', 3, 3)\n",
    "# x2 = MatrixSymbol('x2', 3, 3)\n",
    "dictMatSymbols={A[i]:X[i] for i in range(5)}\n",
    "\n",
    "objective_2= objective_.subs(dictMatSymbols)\n",
    "print(objective_2)\n",
    "\n",
    "testExp=A[0]*A[1]\n",
    "display(testExp)\n",
    "display(testExp.subs(dictMatSymbols))\n",
    "\n",
    "\n",
    "sp.N(iKCBS.matΠs[0])\n",
    "\n",
    "dictRep={X[0]:sp.N(iKCBS.matΠs[0])}\n",
    "\n",
    "objective_3 = objective_2.subs(dictRep)\n",
    "print(objective_3)"
   ]
  },
  {
   "cell_type": "markdown",
   "metadata": {
    "heading_collapsed": true
   },
   "source": [
    "## Testing a more efficient code for converting the symbolic objective into an SDP objective"
   ]
  },
  {
   "cell_type": "code",
   "execution_count": null,
   "metadata": {
    "hidden": true,
    "scrolled": false
   },
   "outputs": [],
   "source": [
    "for termInSum in objective_.args: #e.g. termInSum could look like a multiplication object with arguments (0.13,Π_4,Π_3) and so on\n",
    "    if(len(termInSum.args[1:])<= hDepth ): #if we can handle this using just the letters we produced\n",
    "        print(\"Case: Easy\")\n",
    "        lett = termInSum.args[1]\n",
    "        for lettInTerm in termInSum.args[2:]:\n",
    "            lett *= lettInTerm\n",
    "        #display(termInSum)\n",
    "        #display(lett) #These can be directly handled\n",
    "        \n",
    "    elif(len(termInSum.args[1:])<= 2*hDepth): #we can handle at most twice the letters\n",
    "        print(\"Case: Need to use products\")\n",
    "        half=int(hDepth)+1\n",
    "        #print(len(termInSum.args[1:]),2*hDepth)\n",
    "        lett1 = termInSum.args[1]\n",
    "        for lettInTerm in termInSum.args[2:half]:\n",
    "            lett1 *= lettInTerm\n",
    "        lett2 = termInSum.args[half]\n",
    "        for lettInTerm in termInSum.args[half+1:]:\n",
    "            lett2 *= lettInTerm\n",
    "        display(termInSum)\n",
    "        display(lett1) \n",
    "        display(lett2)\n",
    "        \n",
    "    else:\n",
    "        raise Warning(\"Increase hDepth: It looks like your objective is not captured by the current depth of the SDP heirarchy\")\n",
    "        \n",
    "#len(objective_.args[13].args[1:])"
   ]
  },
  {
   "cell_type": "markdown",
   "metadata": {
    "heading_collapsed": true
   },
   "source": [
    "## Debugging (checking swap isometry, version 2)"
   ]
  },
  {
   "cell_type": "markdown",
   "metadata": {
    "heading_collapsed": true,
    "hidden": true
   },
   "source": [
    "### cEn"
   ]
  },
  {
   "cell_type": "code",
   "execution_count": 32,
   "metadata": {
    "hidden": true,
    "init_cell": true
   },
   "outputs": [
    {
     "ename": "NameError",
     "evalue": "name 'A' is not defined",
     "output_type": "error",
     "traceback": [
      "\u001b[1;31m---------------------------------------------------------------------------\u001b[0m",
      "\u001b[1;31mNameError\u001b[0m                                 Traceback (most recent call last)",
      "\u001b[1;32m<ipython-input-32-a88937ea3c3d>\u001b[0m in \u001b[0;36m<module>\u001b[1;34m\u001b[0m\n\u001b[0;32m      2\u001b[0m \u001b[1;31m# symName = A[2]*A[0]*A[2], symVal = the expectation value using iF\u001b[0m\u001b[1;33m\u001b[0m\u001b[1;33m\u001b[0m\u001b[1;33m\u001b[0m\u001b[0m\n\u001b[0;32m      3\u001b[0m \u001b[1;33m\u001b[0m\u001b[0m\n\u001b[1;32m----> 4\u001b[1;33m \u001b[1;32mdef\u001b[0m \u001b[0mcEn\u001b[0m\u001b[1;33m(\u001b[0m\u001b[0minVal\u001b[0m\u001b[1;33m,\u001b[0m\u001b[0msym\u001b[0m\u001b[1;33m=\u001b[0m\u001b[0mA\u001b[0m\u001b[1;33m)\u001b[0m\u001b[1;33m:\u001b[0m\u001b[1;33m\u001b[0m\u001b[1;33m\u001b[0m\u001b[0m\n\u001b[0m\u001b[0;32m      5\u001b[0m     \u001b[0miF\u001b[0m\u001b[1;33m=\u001b[0m\u001b[0midealFid\u001b[0m\u001b[1;33m(\u001b[0m\u001b[1;33m)\u001b[0m\u001b[1;33m\u001b[0m\u001b[1;33m\u001b[0m\u001b[0m\n\u001b[0;32m      6\u001b[0m     \u001b[0miVal\u001b[0m\u001b[1;33m=\u001b[0m\u001b[1;33m[\u001b[0m\u001b[0mint\u001b[0m\u001b[1;33m(\u001b[0m\u001b[0minVal\u001b[0m\u001b[1;33m[\u001b[0m\u001b[1;36m0\u001b[0m\u001b[1;33m]\u001b[0m\u001b[1;33m)\u001b[0m\u001b[1;33m]\u001b[0m \u001b[1;31m#index of the first\u001b[0m\u001b[1;33m\u001b[0m\u001b[1;33m\u001b[0m\u001b[0m\n",
      "\u001b[1;31mNameError\u001b[0m: name 'A' is not defined"
     ]
    }
   ],
   "source": [
    "#e.g. if cEn(\"202\") is called, {symName:symVal} is returned where\n",
    "# symName = A[2]*A[0]*A[2], symVal = the expectation value using iF\n",
    "\n",
    "def cEn(inVal,sym=A):\n",
    "    iF=idealFid()\n",
    "    iVal=[int(inVal[0])] #index of the first\n",
    "    symName_=[sym[iVal[0]]]  #symbol corresponding to the first\n",
    "     #blank\n",
    "    for i_ in inVal[1:]:\n",
    "        i=int(i_)\n",
    "        symName_.append(symName_[-1] * sym[i]) #because with symbols, it is a pain, they are immutable so need to use new ones\n",
    "        iVal.append(i)\n",
    "    \n",
    "    rsymName_ = [sym[iVal[-1]]] #symbol corresponding to the last\n",
    "    riVal = [iVal[-1]]\n",
    "    \n",
    "    for i in reversed(iVal[:-1]):\n",
    "        riVal.append(i)\n",
    "        rsymName_.append(rsymName_[-1]*sym[i])\n",
    "    \n",
    "        \n",
    "        \n",
    "    symVal=iF.idealVal(iVal)\n",
    "    symName = symName_[-1]\n",
    "    \n",
    "    rsymVal = iF.idealVal(riVal)\n",
    "    rsymName = rsymName_[-1]\n",
    "    \n",
    "#     print(sym[0])\n",
    "#     print(symName)\n",
    "#     print(symVal)\n",
    "    dictElement = {symName:symVal,rsymName:rsymVal}\n",
    "#     print(dictElement)\n",
    "    return dictElement"
   ]
  },
  {
   "cell_type": "markdown",
   "metadata": {
    "heading_collapsed": true,
    "hidden": true
   },
   "source": [
    "### State and everything else"
   ]
  },
  {
   "cell_type": "code",
   "execution_count": null,
   "metadata": {
    "hidden": true
   },
   "outputs": [],
   "source": [
    "#print(prune(objective_,10,True))\n",
    "#temp=prune(sq.qapply(prune(objective_,10,True)))\n",
    "#print(temp)\n",
    "#objective.has(sp.Number)\n",
    "\n",
    "#print(prune(expr=sp.simplify(  )),remNum=True)\n",
    "#print(prune(expr=objective_,remNum=True))\n",
    "\n",
    "_=(prune(expr=objective_,remNum=True))\n",
    "print(prune(expr=_,remNum=True))\n",
    "del _"
   ]
  },
  {
   "cell_type": "code",
   "execution_count": 73,
   "metadata": {
    "hidden": true
   },
   "outputs": [
    {
     "name": "stdout",
     "output_type": "stream",
     "text": [
      "{Π_3*Π_1*Π_3*Π_1*Π_3*Π_1*Π_3*Π_1*Π_3*Π_1*Π_3: 0.00363612324741326, Π_3*Π_1*Π_3*Π_1*Π_3*Π_1*Π_4*Π_1*Π_3*Π_1*Π_3: 0.0036361232474132615, Π_3*Π_1*Π_3*Π_1*Π_4*Π_1*Π_3*Π_1*Π_3*Π_1*Π_3: 0.003636123247413262, Π_3*Π_1*Π_3*Π_1*Π_3*Π_1*Π_4*Π_1*Π_4*Π_1*Π_3: 0.0036361232474132646, Π_3*Π_1*Π_4*Π_1*Π_4*Π_1*Π_3*Π_1*Π_3*Π_1*Π_3: 0.003636123247413266, Π_3*Π_1*Π_3*Π_1*Π_3*Π_1*Π_4*Π_2*Π_4*Π_1*Π_3: 0.003636123247413263, Π_3*Π_1*Π_4*Π_2*Π_4*Π_1*Π_3*Π_1*Π_3*Π_1*Π_3: 0.003636123247413264, Π_4*Π_1*Π_3*Π_1*Π_3*Π_1*Π_3*Π_1*Π_3*Π_1*Π_4: 0.0036361232474132633, Π_4*Π_1*Π_3*Π_1*Π_3*Π_1*Π_4*Π_1*Π_3*Π_1*Π_4: 0.003636123247413266, Π_4*Π_1*Π_3*Π_1*Π_4*Π_1*Π_3*Π_1*Π_3*Π_1*Π_4: 0.003636123247413266, Π_4*Π_1*Π_3*Π_1*Π_3*Π_1*Π_4*Π_1*Π_4*Π_1*Π_4: 0.0036361232474132676, Π_4*Π_1*Π_4*Π_1*Π_4*Π_1*Π_3*Π_1*Π_3*Π_1*Π_4: 0.0036361232474132676, Π_4*Π_1*Π_3*Π_1*Π_3*Π_1*Π_4*Π_1*Π_4*Π_2*Π_4: 0.003636123247413266, Π_4*Π_2*Π_4*Π_1*Π_4*Π_1*Π_3*Π_1*Π_3*Π_1*Π_4: 0.003636123247413266, Π_4*Π_1*Π_3*Π_1*Π_3*Π_1*Π_4*Π_2*Π_4*Π_1*Π_4: 0.003636123247413265, Π_4*Π_1*Π_4*Π_2*Π_4*Π_1*Π_3*Π_1*Π_3*Π_1*Π_4: 0.003636123247413266, Π_4*Π_1*Π_3*Π_1*Π_3*Π_1*Π_4*Π_2*Π_4*Π_2*Π_4: 0.003636123247413263, Π_4*Π_2*Π_4*Π_2*Π_4*Π_1*Π_3*Π_1*Π_3*Π_1*Π_4: 0.0036361232474132646}\n"
     ]
    }
   ],
   "source": [
    "oList = [\"0\", \"020\", \"02020\", \"0202020\", \"02024\", \"0202413\", \"02024131\", \"0202414\", \"02024142\", \"020242\", \"0202420\", \"0202424\", \"02024242\", \"024\", \"02413\", \"024130\", \"024131\", \"0241313\", \"02413131\", \"02414\", \"024142\", \"0242\", \"02420\", \"0242020\", \"02424\", \"024242\", \"0313\", \"03130\", \"03131\", \"031313\", \"0313131\", \"0314\", \"031413\", \"0314131\", \"031414\", \"0314142\", \"03142\", \"031420\", \"031424\", \"0314242\", \"1\", \"131\", \"1313\", \"13130\", \"13131\", \"131313\", \"1313130\", \"1313131\", \"13131313\", \"131313131\", \"131314\", \"1313141\", \"13131413\", \"131314131\", \"13131414\", \"131314141\", \"131314142\", \"1313142\", \"13131420\", \"13131424\", \"131314241\", \"131314242\", \"1314\", \"13141\", \"131413\", \"1314130\", \"1314131\", \"13141313\", \"131413131\", \"131414\", \"1314141\", \"1314142\", \"13142\", \"131420\", \"13142020\", \"131424\", \"1314241\", \"1314242\", \"141\", \"14131\", \"1413131\", \"14141\", \"1414131\", \"141413131\", \"1414141\", \"1414241\", \"14241\", \"1424131\", \"142413131\", \"1424141\", \"1424241\", \"202\", \"20202\", \"2020202\", \"202020202\", \"202024202\", \"20241302\", \"2024202\", \"202420202\", \"2031302\", \"20314202\", \"24\", \"2413\", \"24130\", \"24131\", \"241313\", \"2413131\", \"2414\", \"241413\", \"2414130\", \"2414131\", \"24141313\", \"241413131\", \"241414\", \"2414142\", \"24142\", \"241420\", \"24142020\", \"241424\", \"2414242\", \"242\", \"2420\", \"242020\", \"2424\", \"242413\", \"2424130\", \"2424131\", \"24241313\", \"242413131\", \"242414\", \"2424142\", \"24242\", \"242420\", \"24242020\", \"242424\", \"2424242\", \"302020203\", \"3020203\", \"30202413\", \"3020241313\", \"3020241413\", \"302024203\", \"3020242413\", \"30203\", \"302413\", \"30241303\", \"30241313\", \"3024131313\", \"30241413\", \"302420203\", \"3024203\", \"30242413\", \"303\", \"30313\", \"3031303\", \"3031313\", \"303131313\", \"3031413\", \"303141313\", \"303141413\", \"30314203\", \"303142413\", \"313\", \"3130\", \"31303\", \"3131\", \"31313\", \"313130\", \"3131303\", \"313131\", \"3131313\", \"313131303\", \"31313131\", \"313131313\", \"31313131313\", \"313131413\", \"31313141313\", \"31313141413\", \"3131314203\", \"31313142413\", \"31314\", \"3131413\", \"313141303\", \"31314131\", \"313141313\", \"31314131313\", \"3131414\", \"313141413\", \"31314142\", \"313142\", \"3131420\", \"3131420203\", \"31314203\", \"3131424\", \"313142413\", \"31314242\", \"314\", \"31413\", \"314130\", \"3141303\", \"314131\", \"3141313\", \"31413131\", \"314131313\", \"31414\", \"3141413\", \"314141303\", \"314141313\", \"31414131313\", \"314141413\", \"314142\", \"3141420203\", \"31414203\", \"314142413\", \"3142\", \"31420\", \"3142020\", \"31420203\", \"314203\", \"31424\", \"3142413\", \"314241303\", \"314241313\", \"31424131313\", \"314241413\", \"314242\", \"3142420203\", \"31424203\", \"314242413\", \"4\", \"413\", \"4130\", \"4131\", \"41313\", \"413131\", \"41313131314\", \"413131314\", \"4131314\", \"41313141314\", \"413131414\", \"41313141414\", \"41313141424\", \"413131424\", \"41313142414\", \"41313142424\", \"41314\", \"41314131314\", \"413141314\", \"4131414\", \"413141414\", \"413141424\", \"4131424\", \"413142414\", \"413142424\", \"414\", \"41413\", \"414130\", \"414131\", \"4141313\", \"41413131\", \"414131314\", \"4141314\", \"41414\", \"41414131314\", \"414141314\", \"4141414\", \"414141414\", \"414141424\", \"414142\", \"4141424\", \"414142414\", \"414142424\", \"4142\", \"41420\", \"4142020\", \"41424\", \"41424131314\", \"414241314\", \"4142414\", \"414241414\", \"414241424\", \"414242\", \"4142424\", \"414242414\", \"414242424\", \"42\", \"420\", \"42020\", \"424\", \"42413\", \"424130\", \"424131\", \"4241313\", \"42413131\", \"424131314\", \"4241314\", \"42414\", \"42414131314\", \"424141314\", \"4241414\", \"424141414\", \"424141424\", \"424142\", \"4241424\", \"424142414\", \"424142424\", \"4242\", \"42420\", \"4242020\", \"42424\", \"42424131314\", \"424241314\", \"4242414\", \"424241414\", \"424241424\", \"424242\", \"4242424\", \"424242414\", \"424242424\"]\n",
    "\n",
    "#[\"0\", \"020\", \"02020\", \"0202020\", \"02024\", \"0202413\", \"02024131\", \"0202414\", \"02024142\", \"020242\", \"0202420\", \"0202424\", \"02024242\", \"024\", \"02413\", \"024130\", \"024131\", \"0241313\", \"02413131\", \"02414\", \"024142\", \"0242\", \"02420\", \"0242020\", \"02424\", \"024242\", \"0313\", \"03130\", \"03131\", \"031313\", \"0313131\", \"0314\", \"031413\", \"0314131\", \"031414\", \"0314142\", \"03142\", \"031420\", \"031424\", \"0314242\", \"1313\", \"13130\", \"13131\", \"131313\", \"1313130\", \"1313131\", \"13131313\", \"131313131\", \"131314\", \"13131413\", \"131314131\", \"13131414\", \"131314142\", \"1313142\", \"13131420\", \"13131424\", \"131314242\", \"1314\", \"131413\", \"1314130\", \"1314131\", \"13141313\", \"131413131\", \"131414\", \"1314142\", \"13142\", \"131420\", \"13142020\", \"131424\", \"1314242\", \"24\", \"2413\", \"24130\", \"24131\", \"241313\", \"2413131\", \"2414\", \"241413\", \"2414130\", \"2414131\", \"24141313\", \"241413131\", \"241414\", \"2414142\", \"24142\", \"241420\", \"24142020\", \"241424\", \"2414242\", \"242\", \"2420\", \"242020\", \"2424\", \"242413\", \"2424130\", \"2424131\", \"24241313\", \"242413131\", \"242414\", \"2424142\", \"24242\", \"242420\", \"24242020\", \"242424\", \"2424242\", \"313\", \"3130\", \"3131\", \"31313\", \"313130\", \"313131\", \"3131313\", \"31313131\", \"31314\", \"3131413\", \"31314131\", \"3131414\", \"31314142\", \"313142\", \"3131420\", \"3131424\", \"31314242\", \"314\", \"31413\", \"314130\", \"314131\", \"3141313\", \"31413131\", \"31414\", \"314142\", \"3142\", \"31420\", \"3142020\", \"31424\", \"314242\", \"4\", \"413\", \"4130\", \"4131\", \"41313\", \"413131\", \"414\", \"41413\", \"414130\", \"414131\", \"4141313\", \"41413131\", \"41414\", \"414142\", \"4142\", \"41420\", \"4142020\", \"41424\", \"414242\", \"42\", \"420\", \"42020\", \"424\", \"42413\", \"424130\", \"424131\", \"4241313\", \"42413131\", \"42414\", \"424142\", \"4242\", \"42420\", \"4242020\", \"42424\", \"424242\"]\n",
    "\n",
    "#[\"0\", \"02\", \"0202\", \"0241\", \"1\", \"131\", \"13131\", \"1313131\", \"131313131\", \"1313141\", \"131314131\", \"131314141\", \"1313142\", \"131314241\", \"13141\", \"1314131\", \"131413131\", \"1314141\", \"13142\", \"1314202\", \"1314241\", \"141\", \"14131\", \"1413131\", \"14141\", \"1414131\", \"141413131\", \"1414141\", \"14142\", \"1414202\", \"1414241\", \"142\", \"1420\", \"14202\", \"14241\", \"1424131\", \"142413131\", \"1424141\", \"14242\", \"1424202\", \"1424241\", \"2\", \"20\", \"202\", \"2020\", \"20202\", \"20241\", \"2024131\", \"2024141\", \"20242\", \"2024241\", \"241\", \"24131\", \"2413131\", \"24141\", \"242\", \"24202\", \"24241\"]\n",
    "\n",
    "#[\"0\", \"02\", \"0202\", \"0241\", \"1\", \"131\", \"13131\", \"1313131\", \"131313131\", \"1313141\", \"131314131\", \"131314141\", \"1313142\", \"131314241\", \"13141\", \"1314131\", \"131413131\", \"1314141\", \"13142\", \"1314202\", \"1314241\", \"141\", \"14131\", \"1413131\", \"14141\", \"1414131\", \"141413131\", \"1414141\", \"14142\", \"1414202\", \"1414241\", \"142\", \"1420\", \"14202\", \"14241\", \"1424131\", \"142413131\", \"1424141\", \"14242\", \"1424202\", \"1424241\", \"2\", \"20\", \"202\", \"2020\", \"20202\", \"20241\", \"2024131\", \"2024141\", \"20242\", \"2024241\", \"241\", \"24131\", \"2413131\", \"24141\", \"242\", \"24202\", \"24241\"]\n",
    "\n",
    "#[\"0\", \"02\", \"0241\", \"1\", \"141\", \"14141\", \"14142\", \"142\", \"1420\", \"14202\", \"14241\", \"14242\", \"2\", \"20\", \"202\", \"20241\", \"241\", \"24141\", \"242\", \"24241\", \"302413\", \"303\", \"313\", \"31413\", \"3141413\", \"314203\", \"3142413\", \"414\", \"41414\", \"4141414\", \"4141424\", \"4142024\", \"41424\", \"4142414\", \"4142424\", \"42024\", \"4202414\", \"424\", \"42414\", \"4241414\", \"42424\", \"4242414\"]\n",
    "# [\"0\",\"02\",\"0241\",\"1\",\"141\",\"14141\",\"14142\",\"142\",\"1420\",\"14202\",\"14241\",\"14242\",\"2\",\"20\",\"202\",\"20241\",\"241\",\"24141\",\"242\",\"24241\"]\n",
    "#[\"0\", \"02\", \"0241\", \"1\", \"141\", \"14141\", \"14142\", \"142\", \"1420\", \"14202\", \"14241\", \"14242\", \"2\", \"20\", \"202\", \"20241\", \"241\", \"24141\", \"242\", \"24241\", \"302413\", \"303\", \"313\", \"31413\", \"3141413\", \"314203\", \"3142413\", \"414\", \"41414\", \"4141414\", \"4141424\", \"4142024\", \"41424\", \"4142414\", \"4142424\", \"42024\", \"4202414\", \"424\", \"42414\", \"4241414\", \"42424\", \"4242414\"]\n",
    "\n",
    "#With only state\n",
    "#= [\"0\", \"02\", \"0241\", \"1\", \"141\", \"14141\", \"14142\", \"142\", \"1420\", \"14202\", \"14241\", \"14242\", \"2\", \"20\", \"202\", \"20241\", \"241\", \"24141\", \"242\", \"24241\"]\n",
    "\n",
    "#State and others\n",
    "# [\"0\", \"02\", \"0241\", \"1\", \"141\", \"14141\", \"14142\", \"142\", \"1420\", \"14202\", \"14241\", \"14242\", \"2\", \"20\", \"202\", \"20241\", \"241\", \"24141\", \"242\", \"24241\", \"302413\", \"303\", \"313\", \"31413\", \"3141413\", \"314203\", \"3142413\", \"414\", \"41414\", \"4141414\", \"4141424\", \"4142024\", \"41424\", \"4142414\", \"4142424\", \"42024\", \"4202414\", \"424\", \"42414\", \"4241414\", \"42424\", \"4242414\"]\n",
    "#[\"0\", \"02\", \"0241\", \"1\", \"141\", \"14141\", \"14142\", \"142\", \"1420\", \"14202\", \"14241\", \"14242\", \"2\", \"20\", \"202\", \"20241\", \"241\", \"24141\", \"242\", \"24241\", \"302413\", \"303\", \"313\", \"31413\", \"3141413\", \"314203\", \"3142413\", \"414\", \"41414\", \"4141414\", \"4141424\", \"4142024\", \"41424\", \"4142414\", \"4142424\", \"42024\", \"4202414\", \"424\", \"42414\", \"4241414\", \"42424\", \"4242414\"]\n",
    "\n",
    "oList.sort(key=len)\n",
    "\n",
    "\n",
    "T=[cEn(oList[0])]             #list of dictionaries; T[0] will have the shortest words, and so on\n",
    "lastLen=len(oList[0])\n",
    "i=0\n",
    "for word in oList[1:]:\n",
    "    if (lastLen<len(word)):\n",
    "        lastLen=len(word)\n",
    "        i+=1\n",
    "        T.append(cEn(word))\n",
    "    else:\n",
    "        T[i].update(cEn(word))\n",
    "T.reverse()\n",
    "#print(T)\n",
    "#print(T[0])"
   ]
  },
  {
   "cell_type": "code",
   "execution_count": 64,
   "metadata": {
    "hidden": true
   },
   "outputs": [
    {
     "name": "stdout",
     "output_type": "stream",
     "text": [
      "1.00000000000000\n"
     ]
    }
   ],
   "source": [
    "#print(T)\n",
    "\n",
    "objectives_=[objective_]\n",
    "\n",
    "for iT in T:\n",
    "    #print(iT)\n",
    "    objectives_.append(objectives_[-1].subs(iT))\n",
    "    #display(objectives_[-1])\n",
    "\n",
    "print(objectives_[-1])"
   ]
  },
  {
   "cell_type": "code",
   "execution_count": 91,
   "metadata": {
    "hidden": true
   },
   "outputs": [],
   "source": [
    "7.164662/6.0;"
   ]
  },
  {
   "cell_type": "code",
   "execution_count": 92,
   "metadata": {
    "hidden": true
   },
   "outputs": [],
   "source": [
    "1.0002054/1.0;"
   ]
  },
  {
   "cell_type": "code",
   "execution_count": 93,
   "metadata": {
    "hidden": true
   },
   "outputs": [],
   "source": [
    "7.1646296450/(5+np.sqrt(5));"
   ]
  },
  {
   "cell_type": "markdown",
   "metadata": {
    "heading_collapsed": true,
    "hidden": true
   },
   "source": [
    "### State and everything else; multi-cursor heavy"
   ]
  },
  {
   "cell_type": "code",
   "execution_count": 166,
   "metadata": {
    "hidden": true
   },
   "outputs": [],
   "source": [
    "#Working on updating this\n",
    "#done using VS code and multi-cursor\n",
    "#if it changes, don't do it manually without it!\n",
    "\n",
    "T1 = {}\n",
    "\n",
    "T1.update(cEn(\"0\"))\n",
    "T1.update(cEn(\"1\"))\n",
    "T1.update(cEn(\"2\"))\n",
    "T1.update(cEn(\"2\"))\n",
    "\n",
    "T2= {}\n",
    "\n",
    "\n",
    "T2.update(cEn(\"02\"))\n",
    "T2.update(cEn(\"20\"))\n",
    "\n",
    "T3 = {}\n",
    "\n",
    "T3.update(cEn(\"242\"))\n",
    "T3.update(cEn(\"202\"))\n",
    "T3.update(cEn(\"242\"))\n",
    "T3.update(cEn(\"414\"))\n",
    "T3.update(cEn(\"241\"))\n",
    "T3.update(cEn(\"424\"))\n",
    "T3.update(cEn(\"202\"))\n",
    "T3.update(cEn(\"141\"))\n",
    "T3.update(cEn(\"142\"))\n",
    "\n",
    "\n",
    "T4 = {}\n",
    "\n",
    "T4.update(cEn(\"0241\"))\n",
    "T4.update(cEn(\"1420\"))\n",
    "\n",
    "T5 = {}\n",
    "\n",
    "\n",
    "T5.update(cEn(\"14141\"))\n",
    "T5.update(cEn(\"14142\"))\n",
    "T5.update(cEn(\"14202\"))\n",
    "T5.update(cEn(\"14241\"))\n",
    "T5.update(cEn(\"14242\"))\n",
    "T5.update(cEn(\"42024\"))\n",
    "T5.update(cEn(\"20241\"))\n",
    "T5.update(cEn(\"42414\"))\n",
    "T5.update(cEn(\"24141\"))\n",
    "T5.update(cEn(\"42424\"))\n",
    "T5.update(cEn(\"24241\"))\n",
    "T5.update(cEn(\"41414\"))\n",
    "T5.update(cEn(\"41424\"))\n",
    "\n",
    "T7 = {}\n",
    "\n",
    "T7.update(cEn(\"4141414\"))\n",
    "T7.update(cEn(\"4141424\"))\n",
    "T7.update(cEn(\"4142024\"))\n",
    "T7.update(cEn(\"4142414\"))\n",
    "T7.update(cEn(\"4142424\"))\n",
    "T7.update(cEn(\"4202414\"))\n",
    "T7.update(cEn(\"4241414\"))\n",
    "T7.update(cEn(\"4242414\"))"
   ]
  },
  {
   "cell_type": "code",
   "execution_count": 168,
   "metadata": {
    "hidden": true
   },
   "outputs": [
    {
     "data": {
      "text/latex": [
       "$\\displaystyle 1.44721359549996 Π_{0} + 0.50631990099834 Π_{0} Π_{2} - 2.54992616372413 Π_{0} Π_{2} Π_{4} Π_{1} + 0.0249223594996216 Π_{1} + 18.9640772918993 Π_{1} Π_{4} Π_{1} - 6.80895705245476 Π_{1} Π_{4} Π_{1} Π_{4} Π_{1} + 0.810241289468414 Π_{1} Π_{4} Π_{1} Π_{4} Π_{2} - 3.67134658131212 Π_{1} Π_{4} Π_{2} - 2.54992616372413 Π_{1} Π_{4} Π_{2} Π_{0} - 0.337012819708448 Π_{1} Π_{4} Π_{2} Π_{0} Π_{2} - 17.7362520995107 Π_{1} Π_{4} Π_{2} Π_{4} Π_{1} + 3.43223718036529 Π_{1} Π_{4} Π_{2} Π_{4} Π_{2} + 0.447213595499959 Π_{2} + 0.50631990099834 Π_{2} Π_{0} + 0.126024438241778 Π_{2} Π_{0} Π_{2} - 0.337012819708448 Π_{2} Π_{0} Π_{2} Π_{4} Π_{1} - 3.67134658131212 Π_{2} Π_{4} Π_{1} + 0.810241289468414 Π_{2} Π_{4} Π_{1} Π_{4} Π_{1} - 0.393670535019895 Π_{2} Π_{4} Π_{2} + 3.43223718036529 Π_{2} Π_{4} Π_{2} Π_{4} Π_{1} + 2.23606797749979 \\left(1.17082039324994 Π_{2} + 1.51339645797671 Π_{2} Π_{0} Π_{2} - 1.03064284105144 Π_{2} Π_{4} Π_{2}\\right) + 2.23606797749979 \\left(0.0249223594996216 Π_{1} + 18.9640772918993 Π_{1} Π_{4} Π_{1} - 6.80895705245477 Π_{1} Π_{4} Π_{1} Π_{4} Π_{1} - 17.7362520995107 Π_{1} Π_{4} Π_{2} Π_{4} Π_{1}\\right) + 2.23606797749979 \\left(- 0.97398512573999 Π_{3} Π_{0} Π_{2} Π_{4} Π_{1} Π_{3} + 0.170820393249937 Π_{3} Π_{0} Π_{3} + 0.00951949424901162 Π_{3} Π_{1} Π_{3} + 7.24363296022548 Π_{3} Π_{1} Π_{4} Π_{1} Π_{3} - 2.60079016609942 Π_{3} Π_{1} Π_{4} Π_{1} Π_{4} Π_{1} Π_{3} - 0.97398512573999 Π_{3} Π_{1} Π_{4} Π_{2} Π_{0} Π_{3} - 6.77464546897641 Π_{3} Π_{1} Π_{4} Π_{2} Π_{4} Π_{1} Π_{3}\\right) + 2.23606797749979 \\left(-0.0389911394712333 + 0.00951949424901162 Π_{4} Π_{1} Π_{4} + 7.24363296022548 Π_{4} Π_{1} Π_{4} Π_{1} Π_{4} - 3.67134658131212 Π_{4} Π_{1} Π_{4} Π_{2} Π_{4} + 0.329936262730088 Π_{4} Π_{2} Π_{0} Π_{2} Π_{4} + 1.17082039324994 Π_{4} Π_{2} Π_{4} - 3.67134658131212 Π_{4} Π_{2} Π_{4} Π_{1} Π_{4} - 1.03064284105144 Π_{4} Π_{2} Π_{4} Π_{2} Π_{4}\\right)$"
      ],
      "text/plain": [
       "1.44721359549996⋅Π₀ + 0.50631990099834⋅Π₀⋅Π₂ - 2.54992616372413⋅Π₀⋅Π₂⋅Π₄⋅Π₁ + \n",
       "0.0249223594996216⋅Π₁ + 18.9640772918993⋅Π₁⋅Π₄⋅Π₁ - 6.80895705245476⋅Π₁⋅Π₄⋅Π₁⋅\n",
       "Π₄⋅Π₁ + 0.810241289468414⋅Π₁⋅Π₄⋅Π₁⋅Π₄⋅Π₂ - 3.67134658131212⋅Π₁⋅Π₄⋅Π₂ - 2.54992\n",
       "616372413⋅Π₁⋅Π₄⋅Π₂⋅Π₀ - 0.337012819708448⋅Π₁⋅Π₄⋅Π₂⋅Π₀⋅Π₂ - 17.7362520995107⋅Π₁\n",
       "⋅Π₄⋅Π₂⋅Π₄⋅Π₁ + 3.43223718036529⋅Π₁⋅Π₄⋅Π₂⋅Π₄⋅Π₂ + 0.447213595499959⋅Π₂ + 0.5063\n",
       "1990099834⋅Π₂⋅Π₀ + 0.126024438241778⋅Π₂⋅Π₀⋅Π₂ - 0.337012819708448⋅Π₂⋅Π₀⋅Π₂⋅Π₄⋅\n",
       "Π₁ - 3.67134658131212⋅Π₂⋅Π₄⋅Π₁ + 0.810241289468414⋅Π₂⋅Π₄⋅Π₁⋅Π₄⋅Π₁ - 0.39367053\n",
       "5019895⋅Π₂⋅Π₄⋅Π₂ + 3.43223718036529⋅Π₂⋅Π₄⋅Π₂⋅Π₄⋅Π₁ + 2.23606797749979⋅(1.17082\n",
       "039324994⋅Π₂ + 1.51339645797671⋅Π₂⋅Π₀⋅Π₂ - 1.03064284105144⋅Π₂⋅Π₄⋅Π₂) + 2.2360\n",
       "6797749979⋅(0.0249223594996216⋅Π₁ + 18.9640772918993⋅Π₁⋅Π₄⋅Π₁ - 6.808957052454\n",
       "77⋅Π₁⋅Π₄⋅Π₁⋅Π₄⋅Π₁ - 17.7362520995107⋅Π₁⋅Π₄⋅Π₂⋅Π₄⋅Π₁) + 2.23606797749979⋅(-0.97\n",
       "398512573999⋅Π₃⋅Π₀⋅Π₂⋅Π₄⋅Π₁⋅Π₃ + 0.170820393249937⋅Π₃⋅Π₀⋅Π₃ + 0.00951949424901\n",
       "162⋅Π₃⋅Π₁⋅Π₃ + 7.24363296022548⋅Π₃⋅Π₁⋅Π₄⋅Π₁⋅Π₃ - 2.60079016609942⋅Π₃⋅Π₁⋅Π₄⋅Π₁⋅\n",
       "Π₄⋅Π₁⋅Π₃ - 0.97398512573999⋅Π₃⋅Π₁⋅Π₄⋅Π₂⋅Π₀⋅Π₃ - 6.77464546897641⋅Π₃⋅Π₁⋅Π₄⋅Π₂⋅Π\n",
       "₄⋅Π₁⋅Π₃) + 2.23606797749979⋅(-0.0389911394712333 + 0.00951949424901162⋅Π₄⋅Π₁⋅Π\n",
       "₄ + 7.24363296022548⋅Π₄⋅Π₁⋅Π₄⋅Π₁⋅Π₄ - 3.67134658131212⋅Π₄⋅Π₁⋅Π₄⋅Π₂⋅Π₄ + 0.3299\n",
       "36262730088⋅Π₄⋅Π₂⋅Π₀⋅Π₂⋅Π₄ + 1.17082039324994⋅Π₄⋅Π₂⋅Π₄ - 3.67134658131212⋅Π₄⋅Π\n",
       "₂⋅Π₄⋅Π₁⋅Π₄ - 1.03064284105144⋅Π₄⋅Π₂⋅Π₄⋅Π₂⋅Π₄)"
      ]
     },
     "execution_count": 168,
     "metadata": {},
     "output_type": "execute_result"
    }
   ],
   "source": [
    "out = objective.subs(gDicts)\n",
    "out.subs(T7) #.subs(T5).subs(T4).subs(T3).subs(T2).subs(T1)"
   ]
  },
  {
   "cell_type": "markdown",
   "metadata": {
    "heading_collapsed": true,
    "hidden": true
   },
   "source": [
    "### Only the state"
   ]
  },
  {
   "cell_type": "code",
   "execution_count": 137,
   "metadata": {
    "hidden": true
   },
   "outputs": [
    {
     "name": "stdout",
     "output_type": "stream",
     "text": [
      "{Π_2*Π_4*Π_2*Π_4*Π_1: 0.06524758424985277, Π_1*Π_4*Π_2*Π_4*Π_2: 0.06524758424985277, Π_2*Π_4*Π_1*Π_4*Π_1: 0.06524758424985283, Π_1*Π_4*Π_1*Π_4*Π_2: 0.06524758424985282, Π_2*Π_0*Π_2*Π_4*Π_1: 0.06524758424985277, Π_1*Π_4*Π_2*Π_0*Π_2: 0.06524758424985279, Π_1*Π_4*Π_2*Π_4*Π_1: 0.06524758424985279, Π_1*Π_4*Π_1*Π_4*Π_1: 0.06524758424985284} {Π_0*Π_2*Π_4*Π_1: 0.10557280900008412, Π_1*Π_4*Π_2*Π_0: 0.10557280900008413} {Π_1*Π_4*Π_1: 0.17082039324993697, Π_2*Π_4*Π_1: 0.17082039324993692, Π_1*Π_4*Π_2: 0.17082039324993692, Π_2*Π_4*Π_2: 0.17082039324993686, Π_4*Π_2*Π_4: 0.17082039324993686, Π_4*Π_1*Π_4: 0.17082039324993697, Π_2*Π_0*Π_2: 0.17082039324993686} {Π_2*Π_0: 0.276393202250021, Π_0*Π_2: 0.276393202250021} {Π_4: 0.4472135954999579, Π_2: 0.4472135954999579, Π_1: 0.4472135954999579, Π_0: 0.4472135954999579}\n"
     ]
    }
   ],
   "source": [
    "#With only the state; these were the replacements\n",
    "\n",
    "T5 = {}\n",
    "\n",
    "T5.update(cEn(\"24241\"))\n",
    "T5.update(cEn(\"24141\"))\n",
    "T5.update(cEn(\"20241\"))\n",
    "T5.update(cEn(\"14241\"))\n",
    "T5.update(cEn(\"14202\"))\n",
    "T5.update(cEn(\"14142\"))\n",
    "T5.update(cEn(\"14141\"))\n",
    "T5.update(cEn(\"14242\"))\n",
    "\n",
    "T4 = {}\n",
    "\n",
    "T4.update(cEn(\"0241\"))\n",
    "\n",
    "T3 = {}\n",
    "\n",
    "T3.update(cEn(\"141\"))\n",
    "T3.update(cEn(\"241\"))\n",
    "T3.update(cEn(\"142\"))\n",
    "T3.update(cEn(\"242\"))\n",
    "T3.update(cEn(\"424\"))\n",
    "T3.update(cEn(\"414\"))\n",
    "T3.update(cEn(\"202\"))\n",
    "\n",
    "T2 = {}\n",
    "\n",
    "T2.update(cEn(\"20\"))\n",
    "\n",
    "T1 = {}\n",
    "\n",
    "T1.update(cEn(\"4\"))\n",
    "T1.update(cEn(\"2\"))\n",
    "T1.update(cEn(\"1\"))\n",
    "T1.update(cEn(\"0\"))\n",
    "\n",
    "print(T5,T4,T3,T2,T1)\n"
   ]
  },
  {
   "cell_type": "code",
   "execution_count": 138,
   "metadata": {
    "hidden": true
   },
   "outputs": [
    {
     "data": {
      "text/latex": [
       "$\\displaystyle 3.14673624577261$"
      ],
      "text/plain": [
       "3.14673624577261"
      ]
     },
     "execution_count": 138,
     "metadata": {},
     "output_type": "execute_result"
    }
   ],
   "source": [
    "#with only the state\n",
    "out = objective.subs(gDicts)\n",
    "out.subs(T5).subs(T4).subs(T3).subs(T2).subs(T1)"
   ]
  },
  {
   "cell_type": "markdown",
   "metadata": {
    "heading_collapsed": true,
    "hidden": true
   },
   "source": [
    "### MetaDebug (Testing list comprehension)"
   ]
  },
  {
   "cell_type": "code",
   "execution_count": 87,
   "metadata": {
    "hidden": true
   },
   "outputs": [
    {
     "name": "stdout",
     "output_type": "stream",
     "text": [
      "6\n"
     ]
    }
   ],
   "source": [
    "temp1=\"123\"\n",
    "summe=0\n",
    "for t in temp1:\n",
    "    k=int(t)\n",
    "    summe+=k\n",
    "print(summe)    "
   ]
  },
  {
   "cell_type": "code",
   "execution_count": 238,
   "metadata": {
    "hidden": true
   },
   "outputs": [
    {
     "name": "stdout",
     "output_type": "stream",
     "text": [
      "['0', '1', '2', '2', '02', '41', '20', '142', '202', '241', '242', '1420', '0241', '4241', '14141', '14142', '14202', '14242', '20241', '24141', '24241', '202', '242', '414', '41414', '4141414', '4141424', '4142024', '41424', '4142414', '4142424', '42024', '4202414', '424', '42414', '4241414', '42424', '4242414']\n",
      "['0', '1', '2', '2', '02', '41', '20', '142', '202', '241', '242', '202', '242', '414', '424', '1420', '0241', '4241', '14141', '14142', '14202', '14242', '20241', '24141', '24241', '41414', '41424', '42024', '42414', '42424', '4141414', '4141424', '4142024', '4142414', '4142424', '4202414', '4241414', '4242414'] None\n",
      "['0', '1', '2', '2', '02', '41', '20', '142', '202', '241', '242', '202', '242', '414', '424', '1420', '0241', '4241', '14141', '14142', '14202', '14242', '20241', '24141', '24241', '41414', '41424', '42024', '42414', '42424', '4141414', '4141424', '4142024', '4142414', '4142424', '4202414', '4241414', '4242414']\n"
     ]
    }
   ],
   "source": [
    "temp=[\"0\",\"1\",\"2\",\"2\",\"02\",\"41\",\"20\",\"142\",\"202\",\"241\",\"242\",\"1420\",\"0241\",\"4241\",\"14141\",\"14142\",\"14202\",\"14242\",\"20241\",\"24141\",\"24241\",\"202\",\"242\",\"414\",\"41414\",\"4141414\",\"4141424\",\"4142024\",\"41424\",\"4142414\",\"4142424\",\"42024\",\"4202414\",\"424\",\"42414\",\"4241414\",\"42424\",\"4242414\"]\n",
    "print(temp)\n",
    "temp2=temp.sort(key=len)\n",
    "print(temp,temp2)\n",
    "print(temp)"
   ]
  },
  {
   "cell_type": "markdown",
   "metadata": {
    "heading_collapsed": true
   },
   "source": [
    "## Debugging (checking swap isometry)"
   ]
  },
  {
   "cell_type": "code",
   "execution_count": 28,
   "metadata": {
    "hidden": true
   },
   "outputs": [],
   "source": [
    "T_24241_ = sq.qapply(sp.N(iKCBS.Πs[2]*iKCBS.Πs[4]*iKCBS.Πs[2]*iKCBS.Πs[4]*iKCBS.Πs[1]))\n",
    "T_24241 = sq.qapply(iKCBS.br[0]*T_24241_*iKCBS.ke[0])\n",
    "T_24141_ = sq.qapply(sp.N(iKCBS.Πs[2]*iKCBS.Πs[4]*iKCBS.Πs[1]*iKCBS.Πs[4]*iKCBS.Πs[1]))\n",
    "T_24141 = sq.qapply(iKCBS.br[0]*T_24141_*iKCBS.ke[0])\n",
    "T_20241_ = sq.qapply(sp.N(iKCBS.Πs[2]*iKCBS.Πs[0]*iKCBS.Πs[2]*iKCBS.Πs[4]*iKCBS.Πs[1]))\n",
    "T_20241 = sq.qapply(iKCBS.br[0]*T_20241_*iKCBS.ke[0])\n",
    "T_14241_ = sq.qapply(sp.N(iKCBS.Πs[1]*iKCBS.Πs[4]*iKCBS.Πs[2]*iKCBS.Πs[4]*iKCBS.Πs[1]))\n",
    "T_14241 = sq.qapply(iKCBS.br[0]*T_14241_*iKCBS.ke[0])\n",
    "T_14202_ = sq.qapply(sp.N(iKCBS.Πs[1]*iKCBS.Πs[4]*iKCBS.Πs[2]*iKCBS.Πs[0]*iKCBS.Πs[2]))\n",
    "T_14202 = sq.qapply(iKCBS.br[0]*T_14202_*iKCBS.ke[0])\n",
    "T_14142_ = sq.qapply(sp.N(iKCBS.Πs[1]*iKCBS.Πs[4]*iKCBS.Πs[1]*iKCBS.Πs[4]*iKCBS.Πs[2]))\n",
    "T_14142 = sq.qapply(iKCBS.br[0]*T_14142_*iKCBS.ke[0])\n",
    "T_14141_ = sq.qapply(sp.N(iKCBS.Πs[1]*iKCBS.Πs[4]*iKCBS.Πs[1]*iKCBS.Πs[4]*iKCBS.Πs[1]))\n",
    "T_14141 = sq.qapply(iKCBS.br[0]*T_14141_*iKCBS.ke[0])\n",
    "T_14242_ = sq.qapply(sp.N(iKCBS.Πs[1]*iKCBS.Πs[4]*iKCBS.Πs[2]*iKCBS.Πs[4]*iKCBS.Πs[2]))\n",
    "T_14242 = sq.qapply(iKCBS.br[0]*T_14242_*iKCBS.ke[0])\n",
    "\n",
    "T_0241_ = sq.qapply(sp.N(iKCBS.Πs[0]*iKCBS.Πs[2]*iKCBS.Πs[4]*iKCBS.Πs[1]))\n",
    "T_0241 = sq.qapply(iKCBS.br[0]*T_0241_*iKCBS.ke[0])\n",
    "T_1420_ = sq.qapply(sp.N(iKCBS.Πs[1]*iKCBS.Πs[4]*iKCBS.Πs[2]*iKCBS.Πs[0]))\n",
    "T_1420 = sq.qapply(iKCBS.br[0]*T_1420_*iKCBS.ke[0])\n",
    "\n",
    "T_141_ = sq.qapply(sp.N(iKCBS.Πs[1]*iKCBS.Πs[4]*iKCBS.Πs[1]))\n",
    "T_141 = sq.qapply(iKCBS.br[0]*T_141_*iKCBS.ke[0])\n",
    "T_241_ = sq.qapply(sp.N(iKCBS.Πs[2]*iKCBS.Πs[4]*iKCBS.Πs[1]))\n",
    "T_241 = sq.qapply(iKCBS.br[0]*T_241_*iKCBS.ke[0])\n",
    "T_142_ = sq.qapply(sp.N(iKCBS.Πs[1]*iKCBS.Πs[4]*iKCBS.Πs[2]))\n",
    "T_142 = sq.qapply(iKCBS.br[0]*T_142_*iKCBS.ke[0])\n",
    "T_242_ = sq.qapply(sp.N(iKCBS.Πs[2]*iKCBS.Πs[4]*iKCBS.Πs[2]))\n",
    "T_242 = sq.qapply(iKCBS.br[0]*T_242_*iKCBS.ke[0])\n",
    "T_424_ = sq.qapply(sp.N(iKCBS.Πs[4]*iKCBS.Πs[2]*iKCBS.Πs[4]))\n",
    "T_424 = sq.qapply(iKCBS.br[0]*T_424_*iKCBS.ke[0])\n",
    "T_414_ = sq.qapply(sp.N(iKCBS.Πs[4]*iKCBS.Πs[1]*iKCBS.Πs[4]))\n",
    "T_414 = sq.qapply(iKCBS.br[0]*T_414_*iKCBS.ke[0])\n",
    "T_202_ = sq.qapply(sp.N(iKCBS.Πs[2]*iKCBS.Πs[0]*iKCBS.Πs[2]))\n",
    "T_202 = sq.qapply(iKCBS.br[0]*T_202_*iKCBS.ke[0])\n",
    "T_20_ = sq.qapply(sp.N(iKCBS.Πs[2]*iKCBS.Πs[0]))\n",
    "T_20 = sq.qapply(iKCBS.br[0]*T_20_*iKCBS.ke[0])\n",
    "T_02_ = sq.qapply(sp.N(iKCBS.Πs[0]*iKCBS.Πs[2]))\n",
    "T_02 = sq.qapply(iKCBS.br[0]*T_02_*iKCBS.ke[0])\n",
    "T_4_ = sq.qapply(sp.N(iKCBS.Πs[4]))\n",
    "T_4 = sq.qapply(iKCBS.br[0]*T_4_*iKCBS.ke[0])\n",
    "T_2_ = sq.qapply(sp.N(iKCBS.Πs[2]))\n",
    "T_2 = sq.qapply(iKCBS.br[0]*T_2_*iKCBS.ke[0])\n",
    "T_1_ = sq.qapply(sp.N(iKCBS.Πs[1]))\n",
    "T_1 = sq.qapply(iKCBS.br[0]*T_1_*iKCBS.ke[0])\n",
    "T_0_ = sq.qapply(sp.N(iKCBS.Πs[0]))\n",
    "T_0 = sq.qapply(iKCBS.br[0]*T_0_*iKCBS.ke[0])"
   ]
  },
  {
   "cell_type": "code",
   "execution_count": 32,
   "metadata": {
    "hidden": true
   },
   "outputs": [],
   "source": [
    "sanDict1 = {A[0]:T_0, A[1]: T_1, A[2]: T_2, A[4]: T_4}\n",
    "sanDict2 = {A[0]*A[2]: T_02,A[2]*A[0]: T_20}\n",
    "sanDict3 = {A[2]*A[0]*A[2]: T_202, A[4]*A[1]*A[4]: T_414, A[4]*A[2]*A[4]: T_424 , A[2]*A[4]*A[2]: T_242 , A[1]*A[4]*A[2]: T_142,A[2]*A[4]*A[1]: T_241 , A[1]*A[4]*A[1]: T_141  }\n",
    "sanDict4 = {A[0]*A[2]*A[4]*A[1]: T_0241,A[1]*A[4]*A[2]*A[0]: T_1420}\n",
    "sanDict5 = {A[1]*A[4]*A[2]*A[4]*A[2]: T_14242,A[1]*A[4]*A[1]*A[4]*A[1]: T_14141,A[1]*A[4]*A[1]*A[4]*A[2]: T_14142,A[1]*A[4]*A[2]*A[0]*A[2]: T_14202, A[1]*A[4]*A[2]*A[4]*A[1]: T_14241,A[2]*A[0]*A[2]*A[4]*A[1]: T_20241,A[2]*A[4]*A[1]*A[4]*A[1]: T_24141,A[2]*A[4]*A[2]*A[4]*A[1]: T_24241}"
   ]
  },
  {
   "cell_type": "code",
   "execution_count": 33,
   "metadata": {
    "hidden": true
   },
   "outputs": [
    {
     "data": {
      "text/latex": [
       "$\\displaystyle 1.00020543148321$"
      ],
      "text/plain": [
       "1.00020543148321"
      ]
     },
     "execution_count": 33,
     "metadata": {},
     "output_type": "execute_result"
    }
   ],
   "source": [
    "out = objective.subs(gDicts)\n",
    "out.subs(sanDict5).subs(sanDict4).subs(sanDict3).subs(sanDict2).subs(sanDict1)"
   ]
  },
  {
   "cell_type": "markdown",
   "metadata": {
    "heading_collapsed": true
   },
   "source": [
    "## Debugging | Zero list (useless?)"
   ]
  },
  {
   "cell_type": "code",
   "execution_count": 52,
   "metadata": {
    "hidden": true
   },
   "outputs": [],
   "source": [
    "# display(objective.subs(gDicts))\n",
    "# print(gDicts)\n",
    "# print(gDicts)\n",
    "# glabaDict={A[0]*A[1]:sp.Integer(0)}\n",
    "# print(glabaDict)\n",
    "# # display(sp.expand(objective).subs(glabaDict))\n",
    "# # display(sp.expand(objective).args[3].args[1].args[0])\n",
    "# # print(isinstance(sp.expand(objective).args[3].args[1].args[0],sp.Symbol))\n",
    "# # print(isinstance(A[0],sp.Symbol))\n",
    "# obj=sp.expand(objective)\n",
    "# l=0\n",
    "# for _ in obj.args:\n",
    "#     l+=1\n",
    "#     print(\"num:\",l)\n",
    "#     display(_.subs(gDicts))\n",
    "#     for __ in _.args:\n",
    "#         print(\"subterm\")\n",
    "#         display(__)\n",
    "#         if __ == A[0]:\n",
    "#             print(\"matched!\")\n",
    "        \n",
    "#display(objective.args[0])\n",
    "# expr=12*A[0]*A[1]\n",
    "# expr2=12*iKCBS._Πs[0]*iKCBS._Πs[1]\n",
    "# display(expr)\n",
    "# display(expr.subs(glabaDict))\n",
    "\n",
    "# display(expr2)\n",
    "# display(expr2.subs(glabaDict))\n",
    "\n",
    "# for _ in expr.args:\n",
    "#     display(_)\n",
    "\n",
    "# daggerDict={}\n",
    "# for i in range(5):\n",
    "#     daggerDict[sq.Dagger(A[i])]=A[i]"
   ]
  },
  {
   "cell_type": "code",
   "execution_count": 53,
   "metadata": {
    "hidden": true
   },
   "outputs": [],
   "source": [
    "zeroDict={}\n",
    "zeroList=[]\n",
    "for _ in L1:\n",
    "    for _2 in L1:\n",
    "        if _ in G[_2]: #share an edge\n",
    "            zeroDict[_*_2]=0\n",
    "            zeroList.append(_*_2)\n",
    "\n",
    "#print(zeroDict);"
   ]
  },
  {
   "cell_type": "markdown",
   "metadata": {
    "heading_collapsed": true
   },
   "source": [
    "## Debugging | Creating the matrix of symbols (just for show; useless)"
   ]
  },
  {
   "cell_type": "code",
   "execution_count": null,
   "metadata": {
    "hidden": true
   },
   "outputs": [],
   "source": [
    "#creating the matrix\n",
    "\n",
    "matList=[]\n",
    "\n",
    "for _ in L:\n",
    "    matList.append([_*_2 for _2 in L])\n",
    "\n",
    "#print(matList)\n",
    "\n",
    "sp.Matrix(matList);"
   ]
  },
  {
   "cell_type": "markdown",
   "metadata": {},
   "source": [
    "## Debugging | Localising matrix testing"
   ]
  },
  {
   "cell_type": "markdown",
   "metadata": {},
   "source": [
    "## Sympy says hello to Cvxpy"
   ]
  },
  {
   "cell_type": "code",
   "execution_count": 169,
   "metadata": {
    "code_folding": [
     183
    ],
    "init_cell": true,
    "scrolled": false
   },
   "outputs": [
    {
     "name": "stdout",
     "output_type": "stream",
     "text": [
      "Loading from file\n",
      "Done\n",
      "SDP Size var51466[0, 0:41]\n",
      "Constrainst: 1332\n",
      "Evaluating constraints\n",
      "Constructing the SDP objective from the symbolic objective\n",
      "2.78885438199983*Π_1\n",
      "(2.78885438199983, Π_1)\n",
      "2.78885438199984*Π_0\n",
      "(2.78885438199984, Π_0)\n",
      "26.6928010672487*Π_4\n",
      "(26.6928010672487, Π_4)\n",
      "-0.27639320225002*Π_1*Π_3\n",
      "(-0.276393202250020, Π_1, Π_3)\n",
      "-0.27639320225002*Π_3*Π_1\n",
      "(-0.276393202250020, Π_3, Π_1)\n",
      "-2.34164078649987*Π_1*Π_4\n",
      "(-2.34164078649987, Π_1, Π_4)\n",
      "-2.34164078649987*Π_4*Π_1\n",
      "(-2.34164078649987, Π_4, Π_1)\n",
      "-1.89442719099991*Π_2*Π_4\n",
      "(-1.89442719099991, Π_2, Π_4)\n",
      "-1.89442719099991*Π_4*Π_2\n",
      "(-1.89442719099991, Π_4, Π_2)\n",
      "0.170820393249937*Π_0*Π_2*Π_0\n",
      "(0.170820393249937, Π_0, Π_2, Π_0)\n",
      "0.434573793503282*Π_0*Pd*Π_1\n",
      "(0.434573793503282, Π_0, Pd, Π_1)\n",
      "0.434573793503282*Π_1*P*Π_0\n",
      "(0.434573793503282, Π_1, P, Π_0)\n",
      "2.2360679774998*Π_2*Π_0*Π_2\n",
      "(2.23606797749980, Π_2, Π_0, Π_2)\n",
      "2.78885438199982*Π_1*Π_4*Π_1\n",
      "(2.78885438199982, Π_1, Π_4, Π_1)\n",
      "0.217286896751641*Π_0*P*Π_0\n",
      "(0.217286896751641, Π_0, P, Π_0)\n",
      "0.217286896751641*Π_0*Pd*Π_0\n",
      "(0.217286896751641, Π_0, Pd, Π_0)\n",
      "1.89442719099991*Π_2*Π_4*Π_2\n",
      "(1.89442719099991, Π_2, Π_4, Π_2)\n",
      "1.17082039324993*Π_3*Π_1*Π_4\n",
      "(1.17082039324993, Π_3, Π_1, Π_4)\n",
      "1.17082039324993*Π_4*Π_1*Π_3\n",
      "(1.17082039324993, Π_4, Π_1, Π_3)\n",
      "2.34164078649987*Π_1*Π_4*Π_2\n",
      "(2.34164078649987, Π_1, Π_4, Π_2)\n",
      "2.34164078649987*Π_2*Π_4*Π_1\n",
      "(2.34164078649987, Π_2, Π_4, Π_1)\n",
      "1.17082039324994*Π_0*Π_2*Π_4\n",
      "(1.17082039324994, Π_0, Π_2, Π_4)\n",
      "1.17082039324994*Π_4*Π_2*Π_0\n",
      "(1.17082039324994, Π_4, Π_2, Π_0)\n",
      "1.38196601125011*Π_3*Π_0*Π_3\n",
      "(1.38196601125011, Π_3, Π_0, Π_3)\n",
      "2.95967477524975*Π_3*Π_1*Π_3\n",
      "(2.95967477524975, Π_3, Π_1, Π_3)\n",
      "0.21728689675164*Π_1*P*Π_1\n",
      "(0.217286896751640, Π_1, P, Π_1)\n",
      "0.21728689675164*Π_1*Pd*Π_1\n",
      "(0.217286896751640, Π_1, Pd, Π_1)\n",
      "0.447213595499959*Π_0*Pd*Pd*Π_1\n",
      "(0.447213595499959, Π_0, Pd, Pd, Π_1)\n",
      "0.447213595499959*Π_1*P*P*Π_0\n",
      "(0.447213595499959, Π_1, P, P, Π_0)\n",
      "-49.5967477524975*Π_4*Π_2*Π_4\n",
      "(-49.5967477524975, Π_4, Π_2, Π_4)\n",
      "-59.068883707497*Π_4*Π_1*Π_4\n",
      "(-59.0688837074970, Π_4, Π_1, Π_4)\n",
      "-0.920442065259925*Π_1*P*Π_4\n",
      "(-0.920442065259925, Π_1, P, Π_4)\n",
      "-0.920442065259925*Π_4*Pd*Π_1\n",
      "(-0.920442065259925, Π_4, Pd, Π_1)\n",
      "-0.920442065259927*Π_0*Pd*Π_4\n",
      "(-0.920442065259927, Π_0, Pd, Π_4)\n",
      "-0.920442065259927*Π_4*P*Π_0\n",
      "(-0.920442065259927, Π_4, P, Π_0)\n",
      "0.920442065259924*Π_1*P*Π_4*Π_1\n",
      "(0.920442065259924, Π_1, P, Π_4, Π_1)\n",
      "0.920442065259924*Π_1*Π_4*Pd*Π_1\n",
      "(0.920442065259924, Π_1, Π_4, Pd, Π_1)\n",
      "0.920442065259925*Π_1*P*Π_4*Π_2\n",
      "(0.920442065259925, Π_1, P, Π_4, Π_2)\n",
      "0.920442065259925*Π_2*Π_4*Pd*Π_1\n",
      "(0.920442065259925, Π_2, Π_4, Pd, Π_1)\n",
      "0.920442065259926*Π_0*Pd*Π_4*Π_1\n",
      "(0.920442065259926, Π_0, Pd, Π_4, Π_1)\n",
      "0.920442065259926*Π_1*Π_4*P*Π_0\n",
      "(0.920442065259926, Π_1, Π_4, P, Π_0)\n",
      "0.920442065259927*Π_0*Pd*Π_4*Π_2\n",
      "(0.920442065259927, Π_0, Pd, Π_4, Π_2)\n",
      "0.920442065259927*Π_2*Π_4*P*Π_0\n",
      "(0.920442065259927, Π_2, Π_4, P, Π_0)\n",
      "-0.568864481005786*Π_0*Pd*Π_2*Π_0\n",
      "(-0.568864481005786, Π_0, Pd, Π_2, Π_0)\n",
      "-0.568864481005786*Π_0*Π_2*P*Π_0\n",
      "(-0.568864481005786, Π_0, Π_2, P, Π_0)\n",
      "-1.17082039324993*Π_1*Π_4*Π_1*Π_3\n",
      "(-1.17082039324993, Π_1, Π_4, Π_1, Π_3)\n",
      "-1.17082039324993*Π_3*Π_1*Π_4*Π_1\n",
      "(-1.17082039324993, Π_3, Π_1, Π_4, Π_1)\n",
      "-0.568864481005781*Π_1*P*Π_1*Π_3\n",
      "(-0.568864481005781, Π_1, P, Π_1, Π_3)\n",
      "-0.568864481005781*Π_3*Π_1*Pd*Π_1\n",
      "(-0.568864481005781, Π_3, Π_1, Pd, Π_1)\n",
      "-4.60221032629962*Π_4*Pd*Π_1*Π_4\n",
      "(-4.60221032629962, Π_4, Pd, Π_1, Π_4)\n",
      "-4.60221032629962*Π_4*Π_1*P*Π_4\n",
      "(-4.60221032629962, Π_4, Π_1, P, Π_4)\n",
      "-0.568864481005782*Π_0*Pd*Π_1*Π_3\n",
      "(-0.568864481005782, Π_0, Pd, Π_1, Π_3)\n",
      "-0.568864481005782*Π_3*Π_1*P*Π_0\n",
      "(-0.568864481005782, Π_3, Π_1, P, Π_0)\n",
      "-0.568864481005785*Π_0*Π_2*Pd*Π_1\n",
      "(-0.568864481005785, Π_0, Π_2, Pd, Π_1)\n",
      "-0.568864481005785*Π_1*P*Π_2*Π_0\n",
      "(-0.568864481005785, Π_1, P, Π_2, Π_0)\n",
      "-1.17082039324993*Π_2*Π_4*Π_1*Π_3\n",
      "(-1.17082039324993, Π_2, Π_4, Π_1, Π_3)\n",
      "-1.17082039324993*Π_3*Π_1*Π_4*Π_2\n",
      "(-1.17082039324993, Π_3, Π_1, Π_4, Π_2)\n",
      "-1.17082039324994*Π_0*Π_2*Π_4*Π_1\n",
      "(-1.17082039324994, Π_0, Π_2, Π_4, Π_1)\n",
      "-1.17082039324994*Π_1*Π_4*Π_2*Π_0\n",
      "(-1.17082039324994, Π_1, Π_4, Π_2, Π_0)\n",
      "-1.17082039324994*Π_0*Π_2*Π_4*Π_2\n",
      "(-1.17082039324994, Π_0, Π_2, Π_4, Π_2)\n",
      "-1.17082039324994*Π_2*Π_4*Π_2*Π_0\n",
      "(-1.17082039324994, Π_2, Π_4, Π_2, Π_0)\n",
      "1.0864344837582*Π_4*Π_1*P*Π_1*Π_4\n",
      "(1.08643448375820, Π_4, Π_1, P, Π_1, Π_4)\n",
      "1.0864344837582*Π_4*Π_1*Pd*Π_1*Π_4\n",
      "(1.08643448375820, Π_4, Π_1, Pd, Π_1, Π_4)\n",
      "30.6524758424984*Π_4*Π_1*Π_4*Π_2*Π_4\n",
      "(30.6524758424984, Π_4, Π_1, Π_4, Π_2, Π_4)\n",
      "30.6524758424984*Π_4*Π_2*Π_4*Π_1*Π_4\n",
      "(30.6524758424984, Π_4, Π_2, Π_4, Π_1, Π_4)\n",
      "2.2360679774998*Π_2*Π_0*Π_2*Π_0*Π_2\n",
      "(2.23606797749980, Π_2, Π_0, Π_2, Π_0, Π_2)\n",
      "2.23606797749981*Π_3*Π_1*Π_4*Π_1*Π_3\n",
      "(2.23606797749981, Π_3, Π_1, Π_4, Π_1, Π_3)\n",
      "36.506577808748*Π_4*Π_1*Π_4*Π_1*Π_4\n",
      "(36.5065778087480, Π_4, Π_1, Π_4, Π_1, Π_4)\n",
      "24.7983738762488*Π_4*Π_2*Π_4*Π_2*Π_4\n",
      "(24.7983738762488, Π_4, Π_2, Π_4, Π_2, Π_4)\n",
      "1.08643448375819*Π_3*Π_1*P*Π_1*Π_3\n",
      "(1.08643448375819, Π_3, Π_1, P, Π_1, Π_3)\n",
      "1.08643448375819*Π_3*Π_1*Pd*Π_1*Π_3\n",
      "(1.08643448375819, Π_3, Π_1, Pd, Π_1, Π_3)\n",
      "1.08643448375821*Π_2*Π_0*P*Π_0*Π_2\n",
      "(1.08643448375821, Π_2, Π_0, P, Π_0, Π_2)\n",
      "1.08643448375821*Π_2*Π_0*Pd*Π_0*Π_2\n",
      "(1.08643448375821, Π_2, Π_0, Pd, Π_0, Π_2)\n",
      "0.41498104624568*Π_3*Π_0*Pd*Π_1*Π_3\n",
      "(0.414981046245680, Π_3, Π_0, Pd, Π_1, Π_3)\n",
      "0.41498104624568*Π_3*Π_1*P*Π_0*Π_3\n",
      "(0.414981046245680, Π_3, Π_1, P, Π_0, Π_3)\n",
      "0.854101966249686*Π_3*Π_0*Pd*Pd*Π_1*Π_3\n",
      "(0.854101966249686, Π_3, Π_0, Pd, Pd, Π_1, Π_3)\n",
      "0.854101966249686*Π_3*Π_1*P*P*Π_0*Π_3\n",
      "(0.854101966249686, Π_3, Π_1, P, P, Π_0, Π_3)\n",
      "0.854101966249688*Π_3*Π_0*Π_2*Π_0*Π_3\n",
      "(0.854101966249688, Π_3, Π_0, Π_2, Π_0, Π_3)\n",
      "-0.671453437512517*Π_3*Π_0*P*Π_0*Π_3\n",
      "(-0.671453437512517, Π_3, Π_0, P, Π_0, Π_3)\n",
      "-0.671453437512517*Π_3*Π_0*Pd*Π_0*Π_3\n",
      "(-0.671453437512517, Π_3, Π_0, Pd, Π_0, Π_3)\n",
      "1.75788792127072*Π_3*Π_0*Pd*Π_2*Π_0*Π_3\n",
      "(1.75788792127072, Π_3, Π_0, Pd, Π_2, Π_0, Π_3)\n",
      "1.75788792127072*Π_3*Π_0*Π_2*P*Π_0*Π_3\n",
      "(1.75788792127072, Π_3, Π_0, Π_2, P, Π_0, Π_3)\n",
      "4.60221032629962*Π_4*Π_1*P*Π_4*Π_1*Π_4\n",
      "(4.60221032629962, Π_4, Π_1, P, Π_4, Π_1, Π_4)\n",
      "4.60221032629962*Π_4*Π_1*Π_4*Pd*Π_1*Π_4\n",
      "(4.60221032629962, Π_4, Π_1, Π_4, Pd, Π_1, Π_4)\n",
      "1.75788792127072*Π_3*Π_0*Π_2*Pd*Π_1*Π_3\n",
      "(1.75788792127072, Π_3, Π_0, Π_2, Pd, Π_1, Π_3)\n",
      "1.75788792127072*Π_3*Π_1*P*Π_2*Π_0*Π_3\n",
      "(1.75788792127072, Π_3, Π_1, P, Π_2, Π_0, Π_3)\n",
      "4.60221032629962*Π_4*Π_1*P*Π_4*Π_2*Π_4\n",
      "(4.60221032629962, Π_4, Π_1, P, Π_4, Π_2, Π_4)\n",
      "4.60221032629962*Π_4*Π_2*Π_4*Pd*Π_1*Π_4\n",
      "(4.60221032629962, Π_4, Π_2, Π_4, Pd, Π_1, Π_4)\n",
      "-5.85410196624969*Π_3*Π_0*Π_2*Π_4*Π_1*Π_3\n",
      "(-5.85410196624969, Π_3, Π_0, Π_2, Π_4, Π_1, Π_3)\n",
      "-5.85410196624969*Π_3*Π_1*Π_4*Π_2*Π_0*Π_3\n",
      "(-5.85410196624969, Π_3, Π_1, Π_4, Π_2, Π_0, Π_3)\n",
      "-2.84432240502891*Π_3*Π_0*Pd*Π_4*Π_1*Π_3\n",
      "(-2.84432240502891, Π_3, Π_0, Pd, Π_4, Π_1, Π_3)\n",
      "-2.84432240502891*Π_3*Π_1*Π_4*P*Π_0*Π_3\n",
      "(-2.84432240502891, Π_3, Π_1, Π_4, P, Π_0, Π_3)\n",
      "-2.84432240502891*Π_3*Π_1*P*Π_4*Π_1*Π_3\n",
      "(-2.84432240502891, Π_3, Π_1, P, Π_4, Π_1, Π_3)\n",
      "-2.84432240502891*Π_3*Π_1*Π_4*Pd*Π_1*Π_3\n",
      "(-2.84432240502891, Π_3, Π_1, Π_4, Pd, Π_1, Π_3)\n",
      "-2.84432240502893*Π_2*Π_0*Pd*Π_2*Π_0*Π_2\n",
      "(-2.84432240502893, Π_2, Π_0, Pd, Π_2, Π_0, Π_2)\n",
      "-2.84432240502893*Π_2*Π_0*Π_2*P*Π_0*Π_2\n",
      "(-2.84432240502893, Π_2, Π_0, Π_2, P, Π_0, Π_2)\n",
      "No obvious issues.\n",
      "Done\n",
      "Adding constraints from the graph\n",
      "done\n",
      "Adding constraints from Quantum Mechanics\n",
      "Row of  1\n",
      "Row of  Π_0\n",
      "Adding a new constraint\n",
      "l1\n"
     ]
    },
    {
     "data": {
      "text/latex": [
       "$\\displaystyle Π_{0}$"
      ],
      "text/plain": [
       "Π₀"
      ]
     },
     "metadata": {},
     "output_type": "display_data"
    },
    {
     "name": "stdout",
     "output_type": "stream",
     "text": [
      "l2\n"
     ]
    },
    {
     "data": {
      "text/latex": [
       "$\\displaystyle 1$"
      ],
      "text/plain": [
       "1"
      ]
     },
     "metadata": {},
     "output_type": "display_data"
    },
    {
     "name": "stdout",
     "output_type": "stream",
     "text": [
      "l1_\n"
     ]
    },
    {
     "data": {
      "text/latex": [
       "$\\displaystyle 1$"
      ],
      "text/plain": [
       "1"
      ]
     },
     "metadata": {},
     "output_type": "display_data"
    },
    {
     "name": "stdout",
     "output_type": "stream",
     "text": [
      "l2_\n"
     ]
    },
    {
     "data": {
      "text/latex": [
       "$\\displaystyle Π_{0}$"
      ],
      "text/plain": [
       "Π₀"
      ]
     },
     "metadata": {},
     "output_type": "display_data"
    },
    {
     "name": "stdout",
     "output_type": "stream",
     "text": [
      "Adding a new constraint\n",
      "l1\n"
     ]
    },
    {
     "data": {
      "text/latex": [
       "$\\displaystyle Π_{0}$"
      ],
      "text/plain": [
       "Π₀"
      ]
     },
     "metadata": {},
     "output_type": "display_data"
    },
    {
     "name": "stdout",
     "output_type": "stream",
     "text": [
      "l2\n"
     ]
    },
    {
     "data": {
      "text/latex": [
       "$\\displaystyle Π_{0}$"
      ],
      "text/plain": [
       "Π₀"
      ]
     },
     "metadata": {},
     "output_type": "display_data"
    },
    {
     "name": "stdout",
     "output_type": "stream",
     "text": [
      "l1_\n"
     ]
    },
    {
     "data": {
      "text/latex": [
       "$\\displaystyle 1$"
      ],
      "text/plain": [
       "1"
      ]
     },
     "metadata": {},
     "output_type": "display_data"
    },
    {
     "name": "stdout",
     "output_type": "stream",
     "text": [
      "l2_\n"
     ]
    },
    {
     "data": {
      "text/latex": [
       "$\\displaystyle Π_{0}$"
      ],
      "text/plain": [
       "Π₀"
      ]
     },
     "metadata": {},
     "output_type": "display_data"
    },
    {
     "name": "stdout",
     "output_type": "stream",
     "text": [
      "Adding a new constraint\n",
      "l1\n"
     ]
    },
    {
     "data": {
      "text/latex": [
       "$\\displaystyle Π_{0}$"
      ],
      "text/plain": [
       "Π₀"
      ]
     },
     "metadata": {},
     "output_type": "display_data"
    },
    {
     "name": "stdout",
     "output_type": "stream",
     "text": [
      "l2\n"
     ]
    },
    {
     "data": {
      "text/latex": [
       "$\\displaystyle Π_{2}$"
      ],
      "text/plain": [
       "Π₂"
      ]
     },
     "metadata": {},
     "output_type": "display_data"
    },
    {
     "name": "stdout",
     "output_type": "stream",
     "text": [
      "l1_\n"
     ]
    },
    {
     "data": {
      "text/latex": [
       "$\\displaystyle 1$"
      ],
      "text/plain": [
       "1"
      ]
     },
     "metadata": {},
     "output_type": "display_data"
    },
    {
     "name": "stdout",
     "output_type": "stream",
     "text": [
      "l2_\n"
     ]
    },
    {
     "data": {
      "text/latex": [
       "$\\displaystyle Π_{0} Π_{2}$"
      ],
      "text/plain": [
       "Π₀⋅Π₂"
      ]
     },
     "metadata": {},
     "output_type": "display_data"
    },
    {
     "name": "stdout",
     "output_type": "stream",
     "text": [
      "Adding a new constraint\n",
      "l1\n"
     ]
    },
    {
     "data": {
      "text/latex": [
       "$\\displaystyle Π_{0}$"
      ],
      "text/plain": [
       "Π₀"
      ]
     },
     "metadata": {},
     "output_type": "display_data"
    },
    {
     "name": "stdout",
     "output_type": "stream",
     "text": [
      "l2\n"
     ]
    },
    {
     "data": {
      "text/latex": [
       "$\\displaystyle Π_{3}$"
      ],
      "text/plain": [
       "Π₃"
      ]
     },
     "metadata": {},
     "output_type": "display_data"
    },
    {
     "name": "stdout",
     "output_type": "stream",
     "text": [
      "l1_\n"
     ]
    },
    {
     "data": {
      "text/latex": [
       "$\\displaystyle 1$"
      ],
      "text/plain": [
       "1"
      ]
     },
     "metadata": {},
     "output_type": "display_data"
    },
    {
     "name": "stdout",
     "output_type": "stream",
     "text": [
      "l2_\n"
     ]
    },
    {
     "data": {
      "text/latex": [
       "$\\displaystyle Π_{0} Π_{3}$"
      ],
      "text/plain": [
       "Π₀⋅Π₃"
      ]
     },
     "metadata": {},
     "output_type": "display_data"
    },
    {
     "name": "stdout",
     "output_type": "stream",
     "text": [
      "Adding a new constraint\n",
      "l1\n"
     ]
    },
    {
     "data": {
      "text/latex": [
       "$\\displaystyle Π_{0}$"
      ],
      "text/plain": [
       "Π₀"
      ]
     },
     "metadata": {},
     "output_type": "display_data"
    },
    {
     "name": "stdout",
     "output_type": "stream",
     "text": [
      "l2\n"
     ]
    },
    {
     "data": {
      "text/latex": [
       "$\\displaystyle P$"
      ],
      "text/plain": [
       "P"
      ]
     },
     "metadata": {},
     "output_type": "display_data"
    },
    {
     "name": "stdout",
     "output_type": "stream",
     "text": [
      "l1_\n"
     ]
    },
    {
     "data": {
      "text/latex": [
       "$\\displaystyle 1$"
      ],
      "text/plain": [
       "1"
      ]
     },
     "metadata": {},
     "output_type": "display_data"
    },
    {
     "name": "stdout",
     "output_type": "stream",
     "text": [
      "l2_\n"
     ]
    },
    {
     "data": {
      "text/latex": [
       "$\\displaystyle Π_{0} P$"
      ],
      "text/plain": [
       "Π₀⋅P"
      ]
     },
     "metadata": {},
     "output_type": "display_data"
    },
    {
     "name": "stdout",
     "output_type": "stream",
     "text": [
      "Adding a new constraint\n",
      "l1\n"
     ]
    },
    {
     "data": {
      "text/latex": [
       "$\\displaystyle Π_{0}$"
      ],
      "text/plain": [
       "Π₀"
      ]
     },
     "metadata": {},
     "output_type": "display_data"
    },
    {
     "name": "stdout",
     "output_type": "stream",
     "text": [
      "l2\n"
     ]
    },
    {
     "data": {
      "text/latex": [
       "$\\displaystyle Pd$"
      ],
      "text/plain": [
       "Pd"
      ]
     },
     "metadata": {},
     "output_type": "display_data"
    },
    {
     "name": "stdout",
     "output_type": "stream",
     "text": [
      "l1_\n"
     ]
    },
    {
     "data": {
      "text/latex": [
       "$\\displaystyle 1$"
      ],
      "text/plain": [
       "1"
      ]
     },
     "metadata": {},
     "output_type": "display_data"
    },
    {
     "name": "stdout",
     "output_type": "stream",
     "text": [
      "l2_\n"
     ]
    },
    {
     "data": {
      "text/latex": [
       "$\\displaystyle Π_{0} Pd$"
      ],
      "text/plain": [
       "Π₀⋅Pd"
      ]
     },
     "metadata": {},
     "output_type": "display_data"
    },
    {
     "name": "stdout",
     "output_type": "stream",
     "text": [
      "Adding a new constraint\n",
      "l1\n"
     ]
    },
    {
     "data": {
      "text/latex": [
       "$\\displaystyle Π_{0}$"
      ],
      "text/plain": [
       "Π₀"
      ]
     },
     "metadata": {},
     "output_type": "display_data"
    },
    {
     "name": "stdout",
     "output_type": "stream",
     "text": [
      "l2\n"
     ]
    },
    {
     "data": {
      "text/latex": [
       "$\\displaystyle Π_{0}$"
      ],
      "text/plain": [
       "Π₀"
      ]
     },
     "metadata": {},
     "output_type": "display_data"
    },
    {
     "name": "stdout",
     "output_type": "stream",
     "text": [
      "l1_\n"
     ]
    },
    {
     "data": {
      "text/latex": [
       "$\\displaystyle 1$"
      ],
      "text/plain": [
       "1"
      ]
     },
     "metadata": {},
     "output_type": "display_data"
    },
    {
     "name": "stdout",
     "output_type": "stream",
     "text": [
      "l2_\n"
     ]
    },
    {
     "data": {
      "text/latex": [
       "$\\displaystyle Π_{0}$"
      ],
      "text/plain": [
       "Π₀"
      ]
     },
     "metadata": {},
     "output_type": "display_data"
    },
    {
     "name": "stdout",
     "output_type": "stream",
     "text": [
      "Adding a new constraint\n",
      "l1\n"
     ]
    },
    {
     "data": {
      "text/latex": [
       "$\\displaystyle Π_{0}$"
      ],
      "text/plain": [
       "Π₀"
      ]
     },
     "metadata": {},
     "output_type": "display_data"
    },
    {
     "name": "stdout",
     "output_type": "stream",
     "text": [
      "l2\n"
     ]
    },
    {
     "data": {
      "text/latex": [
       "$\\displaystyle Π_{2} Π_{0}$"
      ],
      "text/plain": [
       "Π₂⋅Π₀"
      ]
     },
     "metadata": {},
     "output_type": "display_data"
    },
    {
     "name": "stdout",
     "output_type": "stream",
     "text": [
      "l1_\n"
     ]
    },
    {
     "data": {
      "text/latex": [
       "$\\displaystyle 1$"
      ],
      "text/plain": [
       "1"
      ]
     },
     "metadata": {},
     "output_type": "display_data"
    },
    {
     "name": "stdout",
     "output_type": "stream",
     "text": [
      "l2_\n"
     ]
    },
    {
     "data": {
      "text/latex": [
       "$\\displaystyle Π_{0} Π_{2} Π_{0}$"
      ],
      "text/plain": [
       "Π₀⋅Π₂⋅Π₀"
      ]
     },
     "metadata": {},
     "output_type": "display_data"
    },
    {
     "name": "stdout",
     "output_type": "stream",
     "text": [
      "Adding a new constraint\n",
      "l1\n"
     ]
    },
    {
     "data": {
      "text/latex": [
       "$\\displaystyle Π_{0}$"
      ],
      "text/plain": [
       "Π₀"
      ]
     },
     "metadata": {},
     "output_type": "display_data"
    },
    {
     "name": "stdout",
     "output_type": "stream",
     "text": [
      "l2\n"
     ]
    },
    {
     "data": {
      "text/latex": [
       "$\\displaystyle Π_{3} Π_{0}$"
      ],
      "text/plain": [
       "Π₃⋅Π₀"
      ]
     },
     "metadata": {},
     "output_type": "display_data"
    },
    {
     "name": "stdout",
     "output_type": "stream",
     "text": [
      "l1_\n"
     ]
    },
    {
     "data": {
      "text/latex": [
       "$\\displaystyle 1$"
      ],
      "text/plain": [
       "1"
      ]
     },
     "metadata": {},
     "output_type": "display_data"
    },
    {
     "name": "stdout",
     "output_type": "stream",
     "text": [
      "l2_\n"
     ]
    },
    {
     "data": {
      "text/latex": [
       "$\\displaystyle Π_{0} Π_{3} Π_{0}$"
      ],
      "text/plain": [
       "Π₀⋅Π₃⋅Π₀"
      ]
     },
     "metadata": {},
     "output_type": "display_data"
    },
    {
     "name": "stdout",
     "output_type": "stream",
     "text": [
      "Row of  Π_1\n",
      "Adding a new constraint\n",
      "l1\n"
     ]
    },
    {
     "data": {
      "text/latex": [
       "$\\displaystyle Π_{1}$"
      ],
      "text/plain": [
       "Π₁"
      ]
     },
     "metadata": {},
     "output_type": "display_data"
    },
    {
     "name": "stdout",
     "output_type": "stream",
     "text": [
      "l2\n"
     ]
    },
    {
     "data": {
      "text/latex": [
       "$\\displaystyle Π_{1} P Π_{3}$"
      ],
      "text/plain": [
       "Π₁⋅P⋅Π₃"
      ]
     },
     "metadata": {},
     "output_type": "display_data"
    },
    {
     "name": "stdout",
     "output_type": "stream",
     "text": [
      "l1_\n"
     ]
    },
    {
     "data": {
      "text/latex": [
       "$\\displaystyle 1$"
      ],
      "text/plain": [
       "1"
      ]
     },
     "metadata": {},
     "output_type": "display_data"
    },
    {
     "name": "stdout",
     "output_type": "stream",
     "text": [
      "l2_\n"
     ]
    },
    {
     "data": {
      "text/latex": [
       "$\\displaystyle Π_{1} P Π_{3}$"
      ],
      "text/plain": [
       "Π₁⋅P⋅Π₃"
      ]
     },
     "metadata": {},
     "output_type": "display_data"
    },
    {
     "name": "stdout",
     "output_type": "stream",
     "text": [
      "Adding a new constraint\n",
      "l1\n"
     ]
    },
    {
     "data": {
      "text/latex": [
       "$\\displaystyle Π_{1}$"
      ],
      "text/plain": [
       "Π₁"
      ]
     },
     "metadata": {},
     "output_type": "display_data"
    },
    {
     "name": "stdout",
     "output_type": "stream",
     "text": [
      "l2\n"
     ]
    },
    {
     "data": {
      "text/latex": [
       "$\\displaystyle Π_{1} Pd Π_{3}$"
      ],
      "text/plain": [
       "Π₁⋅Pd⋅Π₃"
      ]
     },
     "metadata": {},
     "output_type": "display_data"
    },
    {
     "name": "stdout",
     "output_type": "stream",
     "text": [
      "l1_\n"
     ]
    },
    {
     "data": {
      "text/latex": [
       "$\\displaystyle 1$"
      ],
      "text/plain": [
       "1"
      ]
     },
     "metadata": {},
     "output_type": "display_data"
    },
    {
     "name": "stdout",
     "output_type": "stream",
     "text": [
      "l2_\n"
     ]
    },
    {
     "data": {
      "text/latex": [
       "$\\displaystyle Π_{1} Pd Π_{3}$"
      ],
      "text/plain": [
       "Π₁⋅Pd⋅Π₃"
      ]
     },
     "metadata": {},
     "output_type": "display_data"
    },
    {
     "name": "stdout",
     "output_type": "stream",
     "text": [
      "Adding a new constraint\n",
      "l1\n"
     ]
    },
    {
     "data": {
      "text/latex": [
       "$\\displaystyle Π_{1}$"
      ],
      "text/plain": [
       "Π₁"
      ]
     },
     "metadata": {},
     "output_type": "display_data"
    },
    {
     "name": "stdout",
     "output_type": "stream",
     "text": [
      "l2\n"
     ]
    },
    {
     "data": {
      "text/latex": [
       "$\\displaystyle Π_{1} P Π_{4}$"
      ],
      "text/plain": [
       "Π₁⋅P⋅Π₄"
      ]
     },
     "metadata": {},
     "output_type": "display_data"
    },
    {
     "name": "stdout",
     "output_type": "stream",
     "text": [
      "l1_\n"
     ]
    },
    {
     "data": {
      "text/latex": [
       "$\\displaystyle 1$"
      ],
      "text/plain": [
       "1"
      ]
     },
     "metadata": {},
     "output_type": "display_data"
    },
    {
     "name": "stdout",
     "output_type": "stream",
     "text": [
      "l2_\n"
     ]
    },
    {
     "data": {
      "text/latex": [
       "$\\displaystyle Π_{1} P Π_{4}$"
      ],
      "text/plain": [
       "Π₁⋅P⋅Π₄"
      ]
     },
     "metadata": {},
     "output_type": "display_data"
    },
    {
     "name": "stdout",
     "output_type": "stream",
     "text": [
      "Adding a new constraint\n",
      "l1\n"
     ]
    },
    {
     "data": {
      "text/latex": [
       "$\\displaystyle Π_{1}$"
      ],
      "text/plain": [
       "Π₁"
      ]
     },
     "metadata": {},
     "output_type": "display_data"
    },
    {
     "name": "stdout",
     "output_type": "stream",
     "text": [
      "l2\n"
     ]
    },
    {
     "data": {
      "text/latex": [
       "$\\displaystyle Π_{1} Pd Π_{4}$"
      ],
      "text/plain": [
       "Π₁⋅Pd⋅Π₄"
      ]
     },
     "metadata": {},
     "output_type": "display_data"
    },
    {
     "name": "stdout",
     "output_type": "stream",
     "text": [
      "l1_\n"
     ]
    },
    {
     "data": {
      "text/latex": [
       "$\\displaystyle 1$"
      ],
      "text/plain": [
       "1"
      ]
     },
     "metadata": {},
     "output_type": "display_data"
    },
    {
     "name": "stdout",
     "output_type": "stream",
     "text": [
      "l2_\n"
     ]
    },
    {
     "data": {
      "text/latex": [
       "$\\displaystyle Π_{1} Pd Π_{4}$"
      ],
      "text/plain": [
       "Π₁⋅Pd⋅Π₄"
      ]
     },
     "metadata": {},
     "output_type": "display_data"
    },
    {
     "name": "stdout",
     "output_type": "stream",
     "text": [
      "Adding a new constraint\n",
      "l1\n"
     ]
    },
    {
     "data": {
      "text/latex": [
       "$\\displaystyle Π_{1}$"
      ],
      "text/plain": [
       "Π₁"
      ]
     },
     "metadata": {},
     "output_type": "display_data"
    },
    {
     "name": "stdout",
     "output_type": "stream",
     "text": [
      "l2\n"
     ]
    },
    {
     "data": {
      "text/latex": [
       "$\\displaystyle Π_{1} Π_{3} P$"
      ],
      "text/plain": [
       "Π₁⋅Π₃⋅P"
      ]
     },
     "metadata": {},
     "output_type": "display_data"
    },
    {
     "name": "stdout",
     "output_type": "stream",
     "text": [
      "l1_\n"
     ]
    },
    {
     "data": {
      "text/latex": [
       "$\\displaystyle 1$"
      ],
      "text/plain": [
       "1"
      ]
     },
     "metadata": {},
     "output_type": "display_data"
    },
    {
     "name": "stdout",
     "output_type": "stream",
     "text": [
      "l2_\n"
     ]
    },
    {
     "data": {
      "text/latex": [
       "$\\displaystyle Π_{1} Π_{3} P$"
      ],
      "text/plain": [
       "Π₁⋅Π₃⋅P"
      ]
     },
     "metadata": {},
     "output_type": "display_data"
    },
    {
     "name": "stdout",
     "output_type": "stream",
     "text": [
      "Adding a new constraint\n",
      "l1\n"
     ]
    },
    {
     "data": {
      "text/latex": [
       "$\\displaystyle Π_{1}$"
      ],
      "text/plain": [
       "Π₁"
      ]
     },
     "metadata": {},
     "output_type": "display_data"
    },
    {
     "name": "stdout",
     "output_type": "stream",
     "text": [
      "l2\n"
     ]
    },
    {
     "data": {
      "text/latex": [
       "$\\displaystyle Π_{1} Π_{4} P$"
      ],
      "text/plain": [
       "Π₁⋅Π₄⋅P"
      ]
     },
     "metadata": {},
     "output_type": "display_data"
    },
    {
     "name": "stdout",
     "output_type": "stream",
     "text": [
      "l1_\n"
     ]
    },
    {
     "data": {
      "text/latex": [
       "$\\displaystyle 1$"
      ],
      "text/plain": [
       "1"
      ]
     },
     "metadata": {},
     "output_type": "display_data"
    },
    {
     "name": "stdout",
     "output_type": "stream",
     "text": [
      "l2_\n"
     ]
    },
    {
     "data": {
      "text/latex": [
       "$\\displaystyle Π_{1} Π_{4} P$"
      ],
      "text/plain": [
       "Π₁⋅Π₄⋅P"
      ]
     },
     "metadata": {},
     "output_type": "display_data"
    },
    {
     "name": "stdout",
     "output_type": "stream",
     "text": [
      "Adding a new constraint\n",
      "l1\n"
     ]
    },
    {
     "data": {
      "text/latex": [
       "$\\displaystyle Π_{1}$"
      ],
      "text/plain": [
       "Π₁"
      ]
     },
     "metadata": {},
     "output_type": "display_data"
    },
    {
     "name": "stdout",
     "output_type": "stream",
     "text": [
      "l2\n"
     ]
    },
    {
     "data": {
      "text/latex": [
       "$\\displaystyle Π_{1} P^{2}$"
      ],
      "text/plain": [
       "    2\n",
       "Π₁⋅P "
      ]
     },
     "metadata": {},
     "output_type": "display_data"
    },
    {
     "name": "stdout",
     "output_type": "stream",
     "text": [
      "l1_\n"
     ]
    },
    {
     "data": {
      "text/latex": [
       "$\\displaystyle 1$"
      ],
      "text/plain": [
       "1"
      ]
     },
     "metadata": {},
     "output_type": "display_data"
    },
    {
     "name": "stdout",
     "output_type": "stream",
     "text": [
      "l2_\n"
     ]
    },
    {
     "data": {
      "text/latex": [
       "$\\displaystyle Π_{1} P^{2}$"
      ],
      "text/plain": [
       "    2\n",
       "Π₁⋅P "
      ]
     },
     "metadata": {},
     "output_type": "display_data"
    },
    {
     "name": "stdout",
     "output_type": "stream",
     "text": [
      "Adding a new constraint\n",
      "l1\n"
     ]
    },
    {
     "data": {
      "text/latex": [
       "$\\displaystyle Π_{1}$"
      ],
      "text/plain": [
       "Π₁"
      ]
     },
     "metadata": {},
     "output_type": "display_data"
    },
    {
     "name": "stdout",
     "output_type": "stream",
     "text": [
      "l2\n"
     ]
    },
    {
     "data": {
      "text/latex": [
       "$\\displaystyle P$"
      ],
      "text/plain": [
       "P"
      ]
     },
     "metadata": {},
     "output_type": "display_data"
    },
    {
     "name": "stdout",
     "output_type": "stream",
     "text": [
      "l1_\n"
     ]
    },
    {
     "data": {
      "text/latex": [
       "$\\displaystyle 1$"
      ],
      "text/plain": [
       "1"
      ]
     },
     "metadata": {},
     "output_type": "display_data"
    },
    {
     "name": "stdout",
     "output_type": "stream",
     "text": [
      "l2_\n"
     ]
    },
    {
     "data": {
      "text/latex": [
       "$\\displaystyle Π_{1} P$"
      ],
      "text/plain": [
       "Π₁⋅P"
      ]
     },
     "metadata": {},
     "output_type": "display_data"
    },
    {
     "name": "stdout",
     "output_type": "stream",
     "text": [
      "Adding a new constraint\n",
      "l1\n"
     ]
    },
    {
     "data": {
      "text/latex": [
       "$\\displaystyle Π_{1}$"
      ],
      "text/plain": [
       "Π₁"
      ]
     },
     "metadata": {},
     "output_type": "display_data"
    },
    {
     "name": "stdout",
     "output_type": "stream",
     "text": [
      "l2\n"
     ]
    },
    {
     "data": {
      "text/latex": [
       "$\\displaystyle Pd$"
      ],
      "text/plain": [
       "Pd"
      ]
     },
     "metadata": {},
     "output_type": "display_data"
    },
    {
     "name": "stdout",
     "output_type": "stream",
     "text": [
      "l1_\n"
     ]
    },
    {
     "data": {
      "text/latex": [
       "$\\displaystyle 1$"
      ],
      "text/plain": [
       "1"
      ]
     },
     "metadata": {},
     "output_type": "display_data"
    },
    {
     "name": "stdout",
     "output_type": "stream",
     "text": [
      "l2_\n"
     ]
    },
    {
     "data": {
      "text/latex": [
       "$\\displaystyle Π_{1} Pd$"
      ],
      "text/plain": [
       "Π₁⋅Pd"
      ]
     },
     "metadata": {},
     "output_type": "display_data"
    },
    {
     "name": "stdout",
     "output_type": "stream",
     "text": [
      "Row of  Π_2\n",
      "Row of  Π_3\n",
      "Row of  Π_4\n",
      "Row of  P\n",
      "Row of  Pd\n",
      "Row of  Π_0\n",
      "Row of  Π_2*Π_0\n",
      "Row of  Π_3*Π_0\n",
      "Row of  P*Π_0\n",
      "Row of  Pd*Π_0\n",
      "Row of  Π_1\n",
      "Row of  Π_3*Π_1\n",
      "Row of  Π_4*Π_1\n",
      "Row of  P*Π_1\n",
      "Row of  Pd*Π_1\n"
     ]
    },
    {
     "ename": "KeyboardInterrupt",
     "evalue": "",
     "output_type": "error",
     "traceback": [
      "\u001b[1;31m---------------------------------------------------------------------------\u001b[0m",
      "\u001b[1;31mKeyboardInterrupt\u001b[0m                         Traceback (most recent call last)",
      "\u001b[1;32m<ipython-input-169-b01ea61f809d>\u001b[0m in \u001b[0;36m<module>\u001b[1;34m\u001b[0m\n\u001b[0;32m    241\u001b[0m \u001b[1;33m\u001b[0m\u001b[0m\n\u001b[0;32m    242\u001b[0m             \u001b[1;31m#Orthogonality from the graph\u001b[0m\u001b[1;33m\u001b[0m\u001b[1;33m\u001b[0m\u001b[1;33m\u001b[0m\u001b[0m\n\u001b[1;32m--> 243\u001b[1;33m             \u001b[1;32mif\u001b[0m \u001b[0msimTerm\u001b[0m\u001b[1;33m.\u001b[0m\u001b[0msubs\u001b[0m\u001b[1;33m(\u001b[0m\u001b[0mgDicts\u001b[0m\u001b[1;33m)\u001b[0m\u001b[1;33m==\u001b[0m\u001b[0msp\u001b[0m\u001b[1;33m.\u001b[0m\u001b[0mInteger\u001b[0m\u001b[1;33m(\u001b[0m\u001b[1;36m0\u001b[0m\u001b[1;33m)\u001b[0m\u001b[1;33m:\u001b[0m\u001b[1;33m\u001b[0m\u001b[1;33m\u001b[0m\u001b[0m\n\u001b[0m\u001b[0;32m    244\u001b[0m                 \u001b[0mconstraints\u001b[0m \u001b[1;33m+=\u001b[0m \u001b[1;33m[\u001b[0m \u001b[0mX\u001b[0m\u001b[1;33m[\u001b[0m\u001b[0msTi\u001b[0m\u001b[1;33m[\u001b[0m\u001b[0ml1\u001b[0m\u001b[1;33m]\u001b[0m\u001b[1;33m]\u001b[0m\u001b[1;33m[\u001b[0m\u001b[0msTi\u001b[0m\u001b[1;33m[\u001b[0m\u001b[0ml2\u001b[0m\u001b[1;33m]\u001b[0m\u001b[1;33m]\u001b[0m \u001b[1;33m==\u001b[0m \u001b[1;36m0\u001b[0m \u001b[1;33m]\u001b[0m\u001b[1;33m\u001b[0m\u001b[1;33m\u001b[0m\u001b[0m\n\u001b[0;32m    245\u001b[0m             \u001b[1;32mdel\u001b[0m \u001b[0mtS\u001b[0m\u001b[1;33m\u001b[0m\u001b[1;33m\u001b[0m\u001b[0m\n",
      "\u001b[1;32m~\\.conda\\envs\\kish\\lib\\site-packages\\sympy\\core\\basic.py\u001b[0m in \u001b[0;36msubs\u001b[1;34m(self, *args, **kwargs)\u001b[0m\n\u001b[0;32m    995\u001b[0m             \u001b[0mrv\u001b[0m \u001b[1;33m=\u001b[0m \u001b[0mself\u001b[0m\u001b[1;33m\u001b[0m\u001b[1;33m\u001b[0m\u001b[0m\n\u001b[0;32m    996\u001b[0m             \u001b[1;32mfor\u001b[0m \u001b[0mold\u001b[0m\u001b[1;33m,\u001b[0m \u001b[0mnew\u001b[0m \u001b[1;32min\u001b[0m \u001b[0msequence\u001b[0m\u001b[1;33m:\u001b[0m\u001b[1;33m\u001b[0m\u001b[1;33m\u001b[0m\u001b[0m\n\u001b[1;32m--> 997\u001b[1;33m                 \u001b[0mrv\u001b[0m \u001b[1;33m=\u001b[0m \u001b[0mrv\u001b[0m\u001b[1;33m.\u001b[0m\u001b[0m_subs\u001b[0m\u001b[1;33m(\u001b[0m\u001b[0mold\u001b[0m\u001b[1;33m,\u001b[0m \u001b[0mnew\u001b[0m\u001b[1;33m,\u001b[0m \u001b[1;33m**\u001b[0m\u001b[0mkwargs\u001b[0m\u001b[1;33m)\u001b[0m\u001b[1;33m\u001b[0m\u001b[1;33m\u001b[0m\u001b[0m\n\u001b[0m\u001b[0;32m    998\u001b[0m                 \u001b[1;32mif\u001b[0m \u001b[1;32mnot\u001b[0m \u001b[0misinstance\u001b[0m\u001b[1;33m(\u001b[0m\u001b[0mrv\u001b[0m\u001b[1;33m,\u001b[0m \u001b[0mBasic\u001b[0m\u001b[1;33m)\u001b[0m\u001b[1;33m:\u001b[0m\u001b[1;33m\u001b[0m\u001b[1;33m\u001b[0m\u001b[0m\n\u001b[0;32m    999\u001b[0m                     \u001b[1;32mbreak\u001b[0m\u001b[1;33m\u001b[0m\u001b[1;33m\u001b[0m\u001b[0m\n",
      "\u001b[1;32m~\\.conda\\envs\\kish\\lib\\site-packages\\sympy\\core\\basic.py\u001b[0m in \u001b[0;36m_subs\u001b[1;34m(self, old, new, **hints)\u001b[0m\n\u001b[0;32m   1104\u001b[0m             \u001b[1;32mreturn\u001b[0m \u001b[0mself\u001b[0m\u001b[1;33m\u001b[0m\u001b[1;33m\u001b[0m\u001b[0m\n\u001b[0;32m   1105\u001b[0m \u001b[1;33m\u001b[0m\u001b[0m\n\u001b[1;32m-> 1106\u001b[1;33m         \u001b[1;32mif\u001b[0m \u001b[0m_aresame\u001b[0m\u001b[1;33m(\u001b[0m\u001b[0mself\u001b[0m\u001b[1;33m,\u001b[0m \u001b[0mold\u001b[0m\u001b[1;33m)\u001b[0m\u001b[1;33m:\u001b[0m\u001b[1;33m\u001b[0m\u001b[1;33m\u001b[0m\u001b[0m\n\u001b[0m\u001b[0;32m   1107\u001b[0m             \u001b[1;32mreturn\u001b[0m \u001b[0mnew\u001b[0m\u001b[1;33m\u001b[0m\u001b[1;33m\u001b[0m\u001b[0m\n\u001b[0;32m   1108\u001b[0m \u001b[1;33m\u001b[0m\u001b[0m\n",
      "\u001b[1;32m~\\.conda\\envs\\kish\\lib\\site-packages\\sympy\\core\\basic.py\u001b[0m in \u001b[0;36m_aresame\u001b[1;34m(a, b)\u001b[0m\n\u001b[0;32m   1855\u001b[0m         \u001b[1;32mif\u001b[0m \u001b[0mi\u001b[0m \u001b[1;33m!=\u001b[0m \u001b[0mj\u001b[0m \u001b[1;32mor\u001b[0m \u001b[0mtype\u001b[0m\u001b[1;33m(\u001b[0m\u001b[0mi\u001b[0m\u001b[1;33m)\u001b[0m \u001b[1;33m!=\u001b[0m \u001b[0mtype\u001b[0m\u001b[1;33m(\u001b[0m\u001b[0mj\u001b[0m\u001b[1;33m)\u001b[0m\u001b[1;33m:\u001b[0m\u001b[1;33m\u001b[0m\u001b[1;33m\u001b[0m\u001b[0m\n\u001b[0;32m   1856\u001b[0m             if ((isinstance(i, UndefFunc) and isinstance(j, UndefFunc)) or\n\u001b[1;32m-> 1857\u001b[1;33m                 (isinstance(i, AppliedUndef) and isinstance(j, AppliedUndef))):\n\u001b[0m\u001b[0;32m   1858\u001b[0m                 \u001b[1;32mif\u001b[0m \u001b[0mi\u001b[0m\u001b[1;33m.\u001b[0m\u001b[0mclass_key\u001b[0m\u001b[1;33m(\u001b[0m\u001b[1;33m)\u001b[0m \u001b[1;33m!=\u001b[0m \u001b[0mj\u001b[0m\u001b[1;33m.\u001b[0m\u001b[0mclass_key\u001b[0m\u001b[1;33m(\u001b[0m\u001b[1;33m)\u001b[0m\u001b[1;33m:\u001b[0m\u001b[1;33m\u001b[0m\u001b[1;33m\u001b[0m\u001b[0m\n\u001b[0;32m   1859\u001b[0m                     \u001b[1;32mreturn\u001b[0m \u001b[1;32mFalse\u001b[0m\u001b[1;33m\u001b[0m\u001b[1;33m\u001b[0m\u001b[0m\n",
      "\u001b[1;31mKeyboardInterrupt\u001b[0m: "
     ]
    }
   ],
   "source": [
    "ForceCalc=True\n",
    "fileName=\"lSave_1\"\n",
    "\n",
    "flags=[\"issues\"]\n",
    "\n",
    "###\n",
    "#objective_ = sp.expand(5.0*(0.1234*A[0]*A[2]*A[0] + 0.1234*A[1]*A[3]*A[1]*A[3]*A[1]*A[3]*A[1]))\n",
    "\n",
    "#objective_\n",
    "\n",
    "#display(objective_)\n",
    "\n",
    "ConstraintsThreshold = 10000 #Maximum number of constraints\n",
    "\n",
    "try:\n",
    "    print(\"Loading from file\")\n",
    "    loadedThis=dill.load(open(fileName, \"rb\"))\n",
    "    [X,y,constraints]=loadedThis\n",
    "    print(\"Done\")\n",
    "    print(\"SDP Size\",X[0])\n",
    "    print(\"Constrainst:\", len(constraints))\n",
    "except:\n",
    "    loadedThis=None\n",
    "\n",
    "if loadedThis==None or ForceCalc==True:\n",
    "    print(\"Evaluating constraints\")\n",
    "\n",
    "\n",
    "    #L is the alphabet, to wit: it is the list of letters\n",
    "    #\n",
    "    X = cp.Variable((len(L),len(L)),symmetric=True)\n",
    "\n",
    "    lI = I[0]\n",
    "\n",
    "    #>> is for matrix inequality\n",
    "    constraints = [X >> 0,X[sTi[lI],sTi[lI]]==1]\n",
    "\n",
    "    #objective\n",
    "    #y = objective.subs({A[0]:X[sTi[A[0]]],A[1]:X[sTi[A[1]]]})\n",
    "    #y = objective.subs({A[0]:sTi[A[0]],A[1]:sTi[A[1]]})\n",
    "\n",
    "\n",
    "    # objective function evaluated (loop over product of all letters)\n",
    "    y = 0\n",
    "\n",
    "#     print(\"Constructing the SDP objective from the symbolic objective\")\n",
    "#     termsUsed = []\n",
    "#     for l1 in L:\n",
    "#         print(\"row of \",l1)\n",
    "#         for l2 in L:\n",
    "#             if l1 != lI or l2 != lI: #this is because if we ask for the coefficient of 1, things get messed up\n",
    "#                 term = l1*l2\n",
    "\n",
    "#                 #the same term can be represented by many elements in the matrix\n",
    "#                 #we satisfy ourselves with picking just one of them\n",
    "#                 if not(term in termsUsed):\n",
    "#                     termsUsed.append(term)                \n",
    "#                     eX = X[sTi[l1]][sTi[l2]] #picks the corresponding element from the variable matrix of the SDP library\n",
    "#                     #print(eX)\n",
    "#                     coeff = sp.N(findCoeff(objective_,l1*l2))\n",
    "#                     #display(l1*l2)\n",
    "#                     if isinstance(coeff,sp.Number): #evaluates the coff of l1*l2 in the objective\n",
    "#                         #coeff = sp.N(objective.coeff(l1*l2)) #evaluates the coff of l1*l2 in the objective                        \n",
    "#                         if(abs(coeff)>0):\n",
    "#                             display(coeff)\n",
    "#                             y += coeff*eX\n",
    "#                     #else:\n",
    "#                         #print(\"strange coeff\")\n",
    "#                         #display(coeff)\n",
    "#     print(\"done\")\n",
    "\n",
    "    #A function for directly extracting terms to construct indices\n",
    "    def lettersForExpr(termInSum):\n",
    "        termInSum_ = pow_to_single_mul(termInSum) #sp.expand(pow_to_mul(termInSum))\n",
    "        print(termInSum_)\n",
    "        print(termInSum_.args)\n",
    "        if(len(termInSum_.args[1:])<= hDepth  ): #if we can handle this using just the letters we produced\n",
    "            lett = termInSum_.args[1]\n",
    "            for lettInTerm in termInSum_.args[2:]:\n",
    "                lett *= lettInTerm\n",
    "            coeff = sp.N(termInSum_.args[0]) #In case we got symbolic square roots\n",
    "            \n",
    "            lett=lett.subs(sqDicts)            \n",
    "            return[lett,lI,coeff]\n",
    "            #eX = X[sTi[lett]][sTi[lI]]\n",
    "            #y += coeff*eX\n",
    "            \n",
    "            #display(termInSum_)\n",
    "            #display(lett) #These can be directly handled\n",
    "\n",
    "        elif(len(termInSum_.args[1:])<= 2*hDepth ): #we can handle at most twice the letters            \n",
    "            half=int(hDepth) +1\n",
    "            #print(len(termInSum_.args[1:]),2*hDepth)\n",
    "            #print(half)\n",
    "            #print(termInSum_)\n",
    "            lett1 = termInSum_.args[1]\n",
    "            for lettInTerm in termInSum_.args[2:half]:\n",
    "                lett1 *= lettInTerm\n",
    "            lett2 = termInSum_.args[half]\n",
    "            for lettInTerm in termInSum_.args[half+1:]:\n",
    "                lett2 *= lettInTerm\n",
    "            # display(termInSum_)\n",
    "            # display(lett1) \n",
    "            # display(lett2)\n",
    "            coeff = sp.N(termInSum_.args[0]) #In case we got symbolic square roots\n",
    "            lett1=lett1.subs(sqDicts)\n",
    "            lett2=lett2.subs(sqDicts)\n",
    "            return [lett1,lett2,coeff]\n",
    "            #eX = X[sTi[lett1]][sTi[lett2]]\n",
    "            #y += coeff*eX\n",
    "        else:\n",
    "            print(\"objective not fully captured\")           \n",
    "            return [\"objective not fully captured\"]\n",
    "            #flag=\"Objective not fully captured\"\n",
    "            #raise Warning(\"Increase hDepth: It looks like your objective is not captured by the current depth of the SDP heirarchy\")\n",
    "        \n",
    "        \n",
    "    \n",
    "    print(\"Constructing the SDP objective from the symbolic objective\") \n",
    "    for termInSum in objective_.args: #e.g. termInSum could look like a multiplication object with arguments (0.13,Π_4,Π_3) and so on\n",
    "        flag=\"No obvious issues.\"        \n",
    "        res = lettersForExpr(termInSum) #returns, e.g. [1.23,Π1,Π1]\n",
    "        y += res[2] * X[sTi[res[0]]][sTi[res[1]]]\n",
    "        \n",
    "        #print(sp.expand(termInSum))\n",
    "#         termInSum_ = pow_to_single_mul(termInSum) #sp.expand(pow_to_mul(termInSum))\n",
    "#         print(termInSum_)\n",
    "#         print(termInSum_.args)\n",
    "#         if(len(termInSum_.args[1:])<= hDepth  ): #if we can handle this using just the letters we produced\n",
    "#             lett = termInSum_.args[1]\n",
    "#             for lettInTerm in termInSum_.args[2:]:\n",
    "#                 lett *= lettInTerm\n",
    "#             coeff = sp.N(termInSum_.args[0]) #In case we got symbolic square roots\n",
    "#             eX = X[sTi[lett]][sTi[lI]]\n",
    "#             y += coeff*eX\n",
    "            \n",
    "#             #display(termInSum_)\n",
    "#             #display(lett) #These can be directly handled\n",
    "\n",
    "#         elif(len(termInSum_.args[1:])<= 2*hDepth ): #we can handle at most twice the letters            \n",
    "#             half=int(hDepth) +1\n",
    "#             #print(len(termInSum_.args[1:]),2*hDepth)\n",
    "#             #print(half)\n",
    "#             #print(termInSum_)\n",
    "#             lett1 = termInSum_.args[1]\n",
    "#             for lettInTerm in termInSum_.args[2:half]:\n",
    "#                 lett1 *= lettInTerm\n",
    "#             lett2 = termInSum_.args[half]\n",
    "#             for lettInTerm in termInSum_.args[half+1:]:\n",
    "#                 lett2 *= lettInTerm\n",
    "#             # display(termInSum_)\n",
    "#             # display(lett1) \n",
    "#             # display(lett2)\n",
    "#             coeff = sp.N(termInSum_.args[0]) #In case we got symbolic square roots\n",
    "#             eX = X[sTi[lett1]][sTi[lett2]]\n",
    "#             y += coeff*eX\n",
    "#         else:\n",
    "#             flag=\"Objective not fully captured\"\n",
    "            #raise Warning(\"Increase hDepth: It looks like your objective is not captured by the current depth of the SDP heirarchy\")\n",
    "    print(flag)\n",
    "    print(\"Done\")\n",
    "    #flags.append(flag)\n",
    "    #len(objective_.args[13].args[1:])\n",
    "\n",
    "\n",
    "    print(\"Adding constraints from the graph\")\n",
    "    #Constraints from the graph (these come from single letters)        \n",
    "    for l1 in L1:\n",
    "        for l2 in L1:\n",
    "            eX = X[sTi[l1]][sTi[l2]] #picks the corresponding element from the variable matrix of the SDP library\n",
    "            if l1 in G[l2]:\n",
    "                constraints += [eX == 0]\n",
    "\n",
    "    print(\"done\")\n",
    "            #print(coeff,sTi[l1])\n",
    "            #display(l1)\n",
    "\n",
    "    #constraints from the fact that Π^2=Π\n",
    "    # for l in L1:\n",
    "    #     constraints += [ X[sTi[lI]][sTi[l]] == X[sTi[l]][sTi[l]] ]\n",
    "    #     #constraints to match with experiment\n",
    "\n",
    "    print(\"Adding constraints from Quantum Mechanics\")\n",
    "    tempCount=0\n",
    "    dictTerms = {}\n",
    "    #lettersUsed = []\n",
    "    for l1 in L:\n",
    "        print(\"Row of \",l1)\n",
    "        if(tempCount>ConstraintsThreshold):\n",
    "            break\n",
    "\n",
    "        for l2 in L:\n",
    "            term = l1*l2\n",
    "\n",
    "\n",
    "            tS=[term]\n",
    "            #display(term)\n",
    "            for i in range(lDepth+1):\n",
    "                tS.append(tS[-1].subs(sqDicts))\n",
    "            simTerm=tS[-1]\n",
    "            #display(simTerm)\n",
    "\n",
    "            if not(simTerm in dictTerms):\n",
    "                dictTerms.update({simTerm:[l1,l2]})            \n",
    "            else:\n",
    "                l1_=dictTerms[simTerm][0]\n",
    "                l2_=dictTerms[simTerm][1]\n",
    "                #print(l1_,l2_)            \n",
    "                #print(sTi[l1_],sTi[l2_])\n",
    "\n",
    "                #print(l1,l2)            \n",
    "                #print(sTi[l1],sTi[l2])\n",
    "\n",
    "                #constraints += [ X[sTi[l1]][sTi[l2]] == X[sTi[l1_]][sTi[l2_]] ] \n",
    "                # print(X[sTi[l1]][sTi[l2]])\n",
    "                # print(X[sTi[l1_]][sTi[l2_]])\n",
    "                \n",
    "                if not (l1==l1_ and l2==l2_):                \n",
    "                    constraints += [ X[sTi[l1]][sTi[l2]] == X[sTi[l1_]][sTi[l2_]] ]\n",
    "                    \n",
    "                    tempCount+=1\n",
    "                    \n",
    "                    if(tempCount>ConstraintsThreshold):\n",
    "                        break\n",
    "                    \n",
    "                    if(tempCount<10 or\\\n",
    "                       (100<tempCount and tempCount<110) or\\\n",
    "                       (1000<tempCount and tempCount<1010)):\n",
    "                       \n",
    "                        print(\"Adding a new constraint\")\n",
    "                        print(\"l1\")\n",
    "                        display(l1)\n",
    "                        print(\"l2\")\n",
    "                        display(l2)\n",
    "                        print(\"l1_\")\n",
    "                        display(l1_)\n",
    "                        print(\"l2_\")\n",
    "                        display(l2_)\n",
    "                        \n",
    "                \n",
    "\n",
    "            #Orthogonality from the graph\n",
    "            if simTerm.subs(gDicts)==sp.Integer(0):\n",
    "                constraints += [ X[sTi[l1]][sTi[l2]] == 0 ]\n",
    "            del tS\n",
    "\n",
    "    print(\"done\")\n",
    "\n",
    "    \n",
    "\n",
    "    \n",
    "    \n",
    "    \n",
    "    \n",
    "    \n",
    "    # display(y)\n",
    "\n",
    "    # display(objective.args[0])\n",
    "    # display(objective.args[1])\n",
    "\n",
    "\n",
    "    #expr=A[0]*A[0]*A[0]*A[1]*A[0]*A[1]\n",
    "\n",
    "\n",
    "\n",
    "\n",
    "    #         term = l1*l2\n",
    "\n",
    "\n",
    "    #         tS=[term]\n",
    "    #         #display(term)\n",
    "    #         for i in range(lDepth+1):\n",
    "    #             tS.append(tS[-1].subs(sqDicts))\n",
    "    #         simTerm=tS[-1]\n",
    "    #         #display(simTerm)\n",
    "\n",
    "    #         if not(simTerm in dictTerms):\n",
    "    #             dictTerms.update({simTerm:[l1,l2]})            \n",
    "    #         else:\n",
    "    #             l1_=dictTerms[simTerm][0]\n",
    "    #             l2_=dictTerms[simTerm][1]\n",
    "    #             #print(l1_,l2_)            \n",
    "    #             #print(sTi[l1_],sTi[l2_])\n",
    "\n",
    "    #             #print(l1,l2)            \n",
    "    #             #print(sTi[l1],sTi[l2])\n",
    "\n",
    "    #             #constraints += [ X[sTi[l1]][sTi[l2]] == X[sTi[l1_]][sTi[l2_]] ] \n",
    "    #             # print(X[sTi[l1]][sTi[l2]])\n",
    "    #             # print(X[sTi[l1_]][sTi[l2_]])\n",
    "    #             constraints += [ X[sTi[l1]][sTi[l2]] == X[sTi[l1_]][sTi[l2_]] ]\n",
    "\n",
    "    #         #Orthogonality from the graph\n",
    "    #         if simTerm.subs(gDicts)==sp.Integer(0):\n",
    "    #             constraints += [ X[sTi[l1]][sTi[l2]] == 0 ]\n",
    "    #         del tS\n",
    "\n",
    "\n",
    "\n",
    "    #display(tS[-1])\n",
    "\n",
    "\n",
    "    # powDicts={}\n",
    "    # for i in range(len(L1)):\n",
    "    #     powDicts.update({A[i]**k:A[i] for k in range(2,lDepth+4)[::-1]})\n",
    "\n",
    "\n",
    "    #expr.subs(powDicts)\n",
    "\n",
    "    # display(expr.subs(sqDicts))\n",
    "    # display(expr.subs(powDicts).subs(powDicts))\n",
    "\n",
    "    #expr\n",
    "\n",
    "    #dict={A[i]**k:A[i] for k in range(lDepth)}\n",
    "\n",
    "    #print(powDicts)\n",
    "\n",
    "    #result=expr.subs({A[0]*A[0]:A[1]}); result\n",
    "    #result=sp.refine(expr,)\n",
    "    print(\"Constraints\", len(constraints))\n",
    "    print(\"SDP\", X[0])\n",
    "    dill.dump([X,y,constraints], open(fileName, \"wb\"))\n",
    "    print(\"Saved to disk\")\n",
    "\n",
    "\n",
    "try:\n",
    "    del fileName\n",
    "    del ForceCalc\n",
    "except:\n",
    "    print(\"Cleaned.\")"
   ]
  },
  {
   "cell_type": "code",
   "execution_count": 181,
   "metadata": {
    "collapsed": true,
    "init_cell": true
   },
   "outputs": [
    {
     "name": "stdout",
     "output_type": "stream",
     "text": [
      "the expression\n"
     ]
    },
    {
     "data": {
      "text/latex": [
       "$\\displaystyle - 2.05817102727149 Π_{2} Π_{0} Π_{2} + 2.49830806579309 Π_{2} Π_{0} Π_{2} Π_{0} + 2.77032771530715 Π_{2} Π_{0} Π_{2} Π_{4} - 4.82849874257864 Π_{2} Π_{0} Π_{2} Π_{4} Π_{1} - 1.15229372655726 Π_{2} Π_{0} Π_{2} Π_{4} Π_{2}$"
      ],
      "text/plain": [
       "-2.05817102727149⋅Π₂⋅Π₀⋅Π₂ + 2.49830806579309⋅Π₂⋅Π₀⋅Π₂⋅Π₀ + 2.77032771530715⋅Π\n",
       "₂⋅Π₀⋅Π₂⋅Π₄ - 4.82849874257864⋅Π₂⋅Π₀⋅Π₂⋅Π₄⋅Π₁ - 1.15229372655726⋅Π₂⋅Π₀⋅Π₂⋅Π₄⋅Π₂"
      ]
     },
     "metadata": {},
     "output_type": "display_data"
    },
    {
     "name": "stdout",
     "output_type": "stream",
     "text": [
      "Going in\n",
      "-2.05817102727149*Π_2*Π_0*Π_2\n",
      "(-2.05817102727149, Π_2, Π_0, Π_2)\n",
      "printing res \n",
      "[Π_2*Π_0*Π_2, 1, -2.05817102727149]\n",
      "Going in\n",
      "2.77032771530715*Π_2*Π_0*Π_2*Π_4\n",
      "(2.77032771530715, Π_2, Π_0, Π_2, Π_4)\n",
      "printing res \n",
      "[Π_2*Π_0*Π_2, Π_4, 2.77032771530715]\n",
      "Going in\n",
      "2.49830806579309*Π_2*Π_0*Π_2*Π_0\n",
      "(2.49830806579309, Π_2, Π_0, Π_2, Π_0)\n",
      "printing res \n",
      "[Π_2*Π_0*Π_2, Π_0, 2.49830806579309]\n",
      "Going in\n",
      "-1.15229372655726*Π_2*Π_0*Π_2*Π_4*Π_2\n",
      "(-1.15229372655726, Π_2, Π_0, Π_2, Π_4, Π_2)\n",
      "printing res \n",
      "[Π_2*Π_0*Π_2, Π_4*Π_2, -1.15229372655726]\n",
      "Going in\n",
      "-4.82849874257864*Π_2*Π_0*Π_2*Π_4*Π_1\n",
      "(-4.82849874257864, Π_2, Π_0, Π_2, Π_4, Π_1)\n",
      "printing res \n",
      "[Π_2*Π_0*Π_2, Π_4*Π_1, -4.82849874257864]\n",
      "the expression\n"
     ]
    },
    {
     "data": {
      "text/latex": [
       "$\\displaystyle 0.440137038521599 Π_{2} Π_{0} Π_{2} Π_{0} - 1.15229372655726 Π_{2} Π_{0} Π_{2} Π_{4} Π_{2} Π_{0}$"
      ],
      "text/plain": [
       "0.440137038521599⋅Π₂⋅Π₀⋅Π₂⋅Π₀ - 1.15229372655726⋅Π₂⋅Π₀⋅Π₂⋅Π₄⋅Π₂⋅Π₀"
      ]
     },
     "metadata": {},
     "output_type": "display_data"
    },
    {
     "name": "stdout",
     "output_type": "stream",
     "text": [
      "Going in\n",
      "0.440137038521599*Π_2*Π_0*Π_2*Π_0\n",
      "(0.440137038521599, Π_2, Π_0, Π_2, Π_0)\n",
      "printing res \n",
      "[Π_2*Π_0*Π_2, Π_0, 0.440137038521599]\n",
      "Going in\n",
      "-1.15229372655726*Π_2*Π_0*Π_2*Π_4*Π_2*Π_0\n",
      "(-1.15229372655726, Π_2, Π_0, Π_2, Π_4, Π_2, Π_0)\n",
      "printing res \n",
      "[Π_2*Π_0*Π_2, Π_4*Π_2*Π_0, -1.15229372655726]\n",
      "the expression\n"
     ]
    },
    {
     "data": {
      "text/latex": [
       "$\\displaystyle - 2.05817102727149 Π_{2} Π_{0} Π_{2} Π_{4} Π_{1}$"
      ],
      "text/plain": [
       "-2.05817102727149⋅Π₂⋅Π₀⋅Π₂⋅Π₄⋅Π₁"
      ]
     },
     "metadata": {},
     "output_type": "display_data"
    },
    {
     "name": "stdout",
     "output_type": "stream",
     "text": [
      "-2.05817102727149*Π_2*Π_0*Π_2*Π_4*Π_1\n",
      "(-2.05817102727149, Π_2, Π_0, Π_2, Π_4, Π_1)\n",
      "printing res \n",
      "[Π_2*Π_0*Π_2, Π_4*Π_1, -2.05817102727149]\n",
      "the expression\n"
     ]
    },
    {
     "data": {
      "text/latex": [
       "$\\displaystyle - 2.05817102727149 Π_{2} Π_{0} Π_{2} + 2.49830806579309 Π_{2} Π_{0} Π_{2} Π_{0} Π_{2} + 1.6180339887499 Π_{2} Π_{0} Π_{2} Π_{4} Π_{2}$"
      ],
      "text/plain": [
       "-2.05817102727149⋅Π₂⋅Π₀⋅Π₂ + 2.49830806579309⋅Π₂⋅Π₀⋅Π₂⋅Π₀⋅Π₂ + 1.6180339887499\n",
       "⋅Π₂⋅Π₀⋅Π₂⋅Π₄⋅Π₂"
      ]
     },
     "metadata": {},
     "output_type": "display_data"
    },
    {
     "name": "stdout",
     "output_type": "stream",
     "text": [
      "Going in\n",
      "-2.05817102727149*Π_2*Π_0*Π_2\n",
      "(-2.05817102727149, Π_2, Π_0, Π_2)\n",
      "printing res \n",
      "[Π_2*Π_0*Π_2, 1, -2.05817102727149]\n",
      "Going in\n",
      "1.6180339887499*Π_2*Π_0*Π_2*Π_4*Π_2\n",
      "(1.61803398874990, Π_2, Π_0, Π_2, Π_4, Π_2)\n",
      "printing res \n",
      "[Π_2*Π_0*Π_2, Π_4*Π_2, 1.61803398874990]\n",
      "Going in\n",
      "2.49830806579309*Π_2*Π_0*Π_2*Π_0*Π_2\n",
      "(2.49830806579309, Π_2, Π_0, Π_2, Π_0, Π_2)\n",
      "printing res \n",
      "[Π_2*Π_0*Π_2, Π_0*Π_2, 2.49830806579309]\n",
      "the expression\n"
     ]
    },
    {
     "data": {
      "text/latex": [
       "$\\displaystyle 2.49830806579309 Π_{2} Π_{0} Π_{2} Π_{0} Π_{3} - 4.82849874257864 Π_{2} Π_{0} Π_{2} Π_{4} Π_{1} Π_{3}$"
      ],
      "text/plain": [
       "2.49830806579309⋅Π₂⋅Π₀⋅Π₂⋅Π₀⋅Π₃ - 4.82849874257864⋅Π₂⋅Π₀⋅Π₂⋅Π₄⋅Π₁⋅Π₃"
      ]
     },
     "metadata": {},
     "output_type": "display_data"
    },
    {
     "name": "stdout",
     "output_type": "stream",
     "text": [
      "Going in\n",
      "2.49830806579309*Π_2*Π_0*Π_2*Π_0*Π_3\n",
      "(2.49830806579309, Π_2, Π_0, Π_2, Π_0, Π_3)\n",
      "printing res \n",
      "[Π_2*Π_0*Π_2, Π_0*Π_3, 2.49830806579309]\n",
      "Going in\n",
      "-4.82849874257864*Π_2*Π_0*Π_2*Π_4*Π_1*Π_3\n",
      "(-4.82849874257864, Π_2, Π_0, Π_2, Π_4, Π_1, Π_3)\n",
      "printing res \n",
      "[Π_2*Π_0*Π_2, Π_4*Π_1*Π_3, -4.82849874257864]\n",
      "the expression\n"
     ]
    },
    {
     "data": {
      "text/latex": [
       "$\\displaystyle 0.712156688035661 Π_{2} Π_{0} Π_{2} Π_{4} - 4.82849874257864 Π_{2} Π_{0} Π_{2} Π_{4} Π_{1} Π_{4} - 1.15229372655726 Π_{2} Π_{0} Π_{2} Π_{4} Π_{2} Π_{4}$"
      ],
      "text/plain": [
       "0.712156688035661⋅Π₂⋅Π₀⋅Π₂⋅Π₄ - 4.82849874257864⋅Π₂⋅Π₀⋅Π₂⋅Π₄⋅Π₁⋅Π₄ - 1.1522937\n",
       "2655726⋅Π₂⋅Π₀⋅Π₂⋅Π₄⋅Π₂⋅Π₄"
      ]
     },
     "metadata": {},
     "output_type": "display_data"
    },
    {
     "name": "stdout",
     "output_type": "stream",
     "text": [
      "Going in\n",
      "0.712156688035661*Π_2*Π_0*Π_2*Π_4\n",
      "(0.712156688035661, Π_2, Π_0, Π_2, Π_4)\n",
      "printing res \n",
      "[Π_2*Π_0*Π_2, Π_4, 0.712156688035661]\n",
      "Going in\n",
      "-1.15229372655726*Π_2*Π_0*Π_2*Π_4*Π_2*Π_4\n",
      "(-1.15229372655726, Π_2, Π_0, Π_2, Π_4, Π_2, Π_4)\n",
      "printing res \n",
      "[Π_2*Π_0*Π_2, Π_4*Π_2*Π_4, -1.15229372655726]\n",
      "Going in\n",
      "-4.82849874257864*Π_2*Π_0*Π_2*Π_4*Π_1*Π_4\n",
      "(-4.82849874257864, Π_2, Π_0, Π_2, Π_4, Π_1, Π_4)\n",
      "printing res \n",
      "[Π_2*Π_0*Π_2, Π_4*Π_1*Π_4, -4.82849874257864]\n",
      "the expression\n"
     ]
    },
    {
     "data": {
      "text/latex": [
       "$\\displaystyle - 2.05817102727149 Π_{2} Π_{0} Π_{2} P + 2.49830806579309 Π_{2} Π_{0} Π_{2} Π_{0} P + 2.77032771530715 Π_{2} Π_{0} Π_{2} Π_{4} P - 4.82849874257864 Π_{2} Π_{0} Π_{2} Π_{4} Π_{1} P - 1.15229372655726 Π_{2} Π_{0} Π_{2} Π_{4} Π_{2} P$"
      ],
      "text/plain": [
       "-2.05817102727149⋅Π₂⋅Π₀⋅Π₂⋅P + 2.49830806579309⋅Π₂⋅Π₀⋅Π₂⋅Π₀⋅P + 2.770327715307\n",
       "15⋅Π₂⋅Π₀⋅Π₂⋅Π₄⋅P - 4.82849874257864⋅Π₂⋅Π₀⋅Π₂⋅Π₄⋅Π₁⋅P - 1.15229372655726⋅Π₂⋅Π₀⋅\n",
       "Π₂⋅Π₄⋅Π₂⋅P"
      ]
     },
     "metadata": {},
     "output_type": "display_data"
    },
    {
     "name": "stdout",
     "output_type": "stream",
     "text": [
      "Going in\n",
      "-2.05817102727149*Π_2*Π_0*Π_2*P\n",
      "(-2.05817102727149, Π_2, Π_0, Π_2, P)\n",
      "printing res \n",
      "[Π_2*Π_0*Π_2, P, -2.05817102727149]\n",
      "Going in\n",
      "2.77032771530715*Π_2*Π_0*Π_2*Π_4*P\n",
      "(2.77032771530715, Π_2, Π_0, Π_2, Π_4, P)\n",
      "printing res \n",
      "[Π_2*Π_0*Π_2, Π_4*P, 2.77032771530715]\n",
      "Going in\n",
      "2.49830806579309*Π_2*Π_0*Π_2*Π_0*P\n",
      "(2.49830806579309, Π_2, Π_0, Π_2, Π_0, P)\n",
      "printing res \n",
      "[Π_2*Π_0*Π_2, Π_0*P, 2.49830806579309]\n",
      "Going in\n",
      "-1.15229372655726*Π_2*Π_0*Π_2*Π_4*Π_2*P\n",
      "(-1.15229372655726, Π_2, Π_0, Π_2, Π_4, Π_2, P)\n",
      "printing res \n",
      "[Π_2*Π_0*Π_2, Π_4*Π_2*P, -1.15229372655726]\n",
      "Going in\n",
      "-4.82849874257864*Π_2*Π_0*Π_2*Π_4*Π_1*P\n",
      "(-4.82849874257864, Π_2, Π_0, Π_2, Π_4, Π_1, P)\n",
      "printing res \n",
      "[Π_2*Π_0*Π_2, Π_4*Π_1*P, -4.82849874257864]\n",
      "the expression\n"
     ]
    },
    {
     "data": {
      "text/latex": [
       "$\\displaystyle - 2.05817102727149 Π_{2} Π_{0} Π_{2} Pd + 2.49830806579309 Π_{2} Π_{0} Π_{2} Π_{0} Pd + 2.77032771530715 Π_{2} Π_{0} Π_{2} Π_{4} Pd - 4.82849874257864 Π_{2} Π_{0} Π_{2} Π_{4} Π_{1} Pd - 1.15229372655726 Π_{2} Π_{0} Π_{2} Π_{4} Π_{2} Pd$"
      ],
      "text/plain": [
       "-2.05817102727149⋅Π₂⋅Π₀⋅Π₂⋅Pd + 2.49830806579309⋅Π₂⋅Π₀⋅Π₂⋅Π₀⋅Pd + 2.7703277153\n",
       "0715⋅Π₂⋅Π₀⋅Π₂⋅Π₄⋅Pd - 4.82849874257864⋅Π₂⋅Π₀⋅Π₂⋅Π₄⋅Π₁⋅Pd - 1.15229372655726⋅Π₂\n",
       "⋅Π₀⋅Π₂⋅Π₄⋅Π₂⋅Pd"
      ]
     },
     "metadata": {},
     "output_type": "display_data"
    },
    {
     "name": "stdout",
     "output_type": "stream",
     "text": [
      "Going in\n",
      "-2.05817102727149*Π_2*Π_0*Π_2*Pd\n",
      "(-2.05817102727149, Π_2, Π_0, Π_2, Pd)\n",
      "printing res \n",
      "[Π_2*Π_0*Π_2, Pd, -2.05817102727149]\n",
      "Going in\n",
      "2.77032771530715*Π_2*Π_0*Π_2*Π_4*Pd\n",
      "(2.77032771530715, Π_2, Π_0, Π_2, Π_4, Pd)\n",
      "printing res \n",
      "[Π_2*Π_0*Π_2, Π_4*Pd, 2.77032771530715]\n",
      "Going in\n",
      "2.49830806579309*Π_2*Π_0*Π_2*Π_0*Pd\n",
      "(2.49830806579309, Π_2, Π_0, Π_2, Π_0, Pd)\n",
      "printing res \n",
      "[Π_2*Π_0*Π_2, Π_0*Pd, 2.49830806579309]\n",
      "Going in\n",
      "-1.15229372655726*Π_2*Π_0*Π_2*Π_4*Π_2*Pd\n",
      "(-1.15229372655726, Π_2, Π_0, Π_2, Π_4, Π_2, Pd)\n",
      "printing res \n",
      "[Π_2*Π_0*Π_2, Π_4*Π_2*Pd, -1.15229372655726]\n",
      "Going in\n",
      "-4.82849874257864*Π_2*Π_0*Π_2*Π_4*Π_1*Pd\n",
      "(-4.82849874257864, Π_2, Π_0, Π_2, Π_4, Π_1, Pd)\n",
      "printing res \n",
      "[Π_2*Π_0*Π_2, Π_4*Π_1*Pd, -4.82849874257864]\n",
      "the expression\n"
     ]
    },
    {
     "data": {
      "text/latex": [
       "$\\displaystyle - 2.05817102727149 Π_{2} Π_{0} Π_{2} + 2.49830806579309 Π_{2} Π_{0} Π_{2} Π_{0} + 2.77032771530715 Π_{2} Π_{0} Π_{2} Π_{4} - 4.82849874257864 Π_{2} Π_{0} Π_{2} Π_{4} Π_{1} - 1.15229372655726 Π_{2} Π_{0} Π_{2} Π_{4} Π_{2}$"
      ],
      "text/plain": [
       "-2.05817102727149⋅Π₂⋅Π₀⋅Π₂ + 2.49830806579309⋅Π₂⋅Π₀⋅Π₂⋅Π₀ + 2.77032771530715⋅Π\n",
       "₂⋅Π₀⋅Π₂⋅Π₄ - 4.82849874257864⋅Π₂⋅Π₀⋅Π₂⋅Π₄⋅Π₁ - 1.15229372655726⋅Π₂⋅Π₀⋅Π₂⋅Π₄⋅Π₂"
      ]
     },
     "metadata": {},
     "output_type": "display_data"
    },
    {
     "name": "stdout",
     "output_type": "stream",
     "text": [
      "Going in\n",
      "-2.05817102727149*Π_2*Π_0*Π_2\n",
      "(-2.05817102727149, Π_2, Π_0, Π_2)\n",
      "printing res \n",
      "[Π_2*Π_0*Π_2, 1, -2.05817102727149]\n",
      "Going in\n",
      "2.77032771530715*Π_2*Π_0*Π_2*Π_4\n",
      "(2.77032771530715, Π_2, Π_0, Π_2, Π_4)\n",
      "printing res \n",
      "[Π_2*Π_0*Π_2, Π_4, 2.77032771530715]\n",
      "Going in\n",
      "2.49830806579309*Π_2*Π_0*Π_2*Π_0\n",
      "(2.49830806579309, Π_2, Π_0, Π_2, Π_0)\n",
      "printing res \n",
      "[Π_2*Π_0*Π_2, Π_0, 2.49830806579309]\n",
      "Going in\n",
      "-1.15229372655726*Π_2*Π_0*Π_2*Π_4*Π_2\n",
      "(-1.15229372655726, Π_2, Π_0, Π_2, Π_4, Π_2)\n",
      "printing res \n",
      "[Π_2*Π_0*Π_2, Π_4*Π_2, -1.15229372655726]\n",
      "Going in\n",
      "-4.82849874257864*Π_2*Π_0*Π_2*Π_4*Π_1\n",
      "(-4.82849874257864, Π_2, Π_0, Π_2, Π_4, Π_1)\n",
      "printing res \n",
      "[Π_2*Π_0*Π_2, Π_4*Π_1, -4.82849874257864]\n",
      "the expression\n"
     ]
    },
    {
     "data": {
      "text/latex": [
       "$\\displaystyle 0.440137038521599 Π_{2} Π_{0} Π_{2} Π_{0} - 1.15229372655726 Π_{2} Π_{0} Π_{2} Π_{4} Π_{2} Π_{0}$"
      ],
      "text/plain": [
       "0.440137038521599⋅Π₂⋅Π₀⋅Π₂⋅Π₀ - 1.15229372655726⋅Π₂⋅Π₀⋅Π₂⋅Π₄⋅Π₂⋅Π₀"
      ]
     },
     "metadata": {},
     "output_type": "display_data"
    },
    {
     "name": "stdout",
     "output_type": "stream",
     "text": [
      "Going in\n",
      "0.440137038521599*Π_2*Π_0*Π_2*Π_0\n",
      "(0.440137038521599, Π_2, Π_0, Π_2, Π_0)\n",
      "printing res \n",
      "[Π_2*Π_0*Π_2, Π_0, 0.440137038521599]\n",
      "Going in\n",
      "-1.15229372655726*Π_2*Π_0*Π_2*Π_4*Π_2*Π_0\n",
      "(-1.15229372655726, Π_2, Π_0, Π_2, Π_4, Π_2, Π_0)\n",
      "printing res \n",
      "[Π_2*Π_0*Π_2, Π_4*Π_2*Π_0, -1.15229372655726]\n",
      "the expression\n"
     ]
    },
    {
     "data": {
      "text/latex": [
       "$\\displaystyle - 2.05817102727149 Π_{2} Π_{0} Π_{2} Π_{4} Π_{1}$"
      ],
      "text/plain": [
       "-2.05817102727149⋅Π₂⋅Π₀⋅Π₂⋅Π₄⋅Π₁"
      ]
     },
     "metadata": {},
     "output_type": "display_data"
    },
    {
     "name": "stdout",
     "output_type": "stream",
     "text": [
      "-2.05817102727149*Π_2*Π_0*Π_2*Π_4*Π_1\n",
      "(-2.05817102727149, Π_2, Π_0, Π_2, Π_4, Π_1)\n",
      "printing res \n",
      "[Π_2*Π_0*Π_2, Π_4*Π_1, -2.05817102727149]\n",
      "the expression\n"
     ]
    },
    {
     "data": {
      "text/latex": [
       "$\\displaystyle - 2.05817102727149 Π_{2} Π_{0} Π_{2} + 2.49830806579309 Π_{2} Π_{0} Π_{2} Π_{0} Π_{2} + 1.6180339887499 Π_{2} Π_{0} Π_{2} Π_{4} Π_{2}$"
      ],
      "text/plain": [
       "-2.05817102727149⋅Π₂⋅Π₀⋅Π₂ + 2.49830806579309⋅Π₂⋅Π₀⋅Π₂⋅Π₀⋅Π₂ + 1.6180339887499\n",
       "⋅Π₂⋅Π₀⋅Π₂⋅Π₄⋅Π₂"
      ]
     },
     "metadata": {},
     "output_type": "display_data"
    },
    {
     "name": "stdout",
     "output_type": "stream",
     "text": [
      "Going in\n",
      "-2.05817102727149*Π_2*Π_0*Π_2\n",
      "(-2.05817102727149, Π_2, Π_0, Π_2)\n",
      "printing res \n",
      "[Π_2*Π_0*Π_2, 1, -2.05817102727149]\n",
      "Going in\n",
      "1.6180339887499*Π_2*Π_0*Π_2*Π_4*Π_2\n",
      "(1.61803398874990, Π_2, Π_0, Π_2, Π_4, Π_2)\n",
      "printing res \n",
      "[Π_2*Π_0*Π_2, Π_4*Π_2, 1.61803398874990]\n",
      "Going in\n",
      "2.49830806579309*Π_2*Π_0*Π_2*Π_0*Π_2\n",
      "(2.49830806579309, Π_2, Π_0, Π_2, Π_0, Π_2)\n",
      "printing res \n",
      "[Π_2*Π_0*Π_2, Π_0*Π_2, 2.49830806579309]\n",
      "the expression\n"
     ]
    },
    {
     "data": {
      "text/latex": [
       "$\\displaystyle 2.49830806579309 Π_{2} Π_{0} Π_{2} Π_{0} Π_{3} - 4.82849874257864 Π_{2} Π_{0} Π_{2} Π_{4} Π_{1} Π_{3}$"
      ],
      "text/plain": [
       "2.49830806579309⋅Π₂⋅Π₀⋅Π₂⋅Π₀⋅Π₃ - 4.82849874257864⋅Π₂⋅Π₀⋅Π₂⋅Π₄⋅Π₁⋅Π₃"
      ]
     },
     "metadata": {},
     "output_type": "display_data"
    },
    {
     "name": "stdout",
     "output_type": "stream",
     "text": [
      "Going in\n",
      "2.49830806579309*Π_2*Π_0*Π_2*Π_0*Π_3\n",
      "(2.49830806579309, Π_2, Π_0, Π_2, Π_0, Π_3)\n",
      "printing res \n",
      "[Π_2*Π_0*Π_2, Π_0*Π_3, 2.49830806579309]\n",
      "Going in\n",
      "-4.82849874257864*Π_2*Π_0*Π_2*Π_4*Π_1*Π_3\n",
      "(-4.82849874257864, Π_2, Π_0, Π_2, Π_4, Π_1, Π_3)\n",
      "printing res \n",
      "[Π_2*Π_0*Π_2, Π_4*Π_1*Π_3, -4.82849874257864]\n",
      "the expression\n"
     ]
    },
    {
     "data": {
      "text/latex": [
       "$\\displaystyle 0.712156688035661 Π_{2} Π_{0} Π_{2} Π_{4} - 4.82849874257864 Π_{2} Π_{0} Π_{2} Π_{4} Π_{1} Π_{4} - 1.15229372655726 Π_{2} Π_{0} Π_{2} Π_{4} Π_{2} Π_{4}$"
      ],
      "text/plain": [
       "0.712156688035661⋅Π₂⋅Π₀⋅Π₂⋅Π₄ - 4.82849874257864⋅Π₂⋅Π₀⋅Π₂⋅Π₄⋅Π₁⋅Π₄ - 1.1522937\n",
       "2655726⋅Π₂⋅Π₀⋅Π₂⋅Π₄⋅Π₂⋅Π₄"
      ]
     },
     "metadata": {},
     "output_type": "display_data"
    },
    {
     "name": "stdout",
     "output_type": "stream",
     "text": [
      "Going in\n",
      "0.712156688035661*Π_2*Π_0*Π_2*Π_4\n",
      "(0.712156688035661, Π_2, Π_0, Π_2, Π_4)\n",
      "printing res \n",
      "[Π_2*Π_0*Π_2, Π_4, 0.712156688035661]\n",
      "Going in\n",
      "-1.15229372655726*Π_2*Π_0*Π_2*Π_4*Π_2*Π_4\n",
      "(-1.15229372655726, Π_2, Π_0, Π_2, Π_4, Π_2, Π_4)\n",
      "printing res \n",
      "[Π_2*Π_0*Π_2, Π_4*Π_2*Π_4, -1.15229372655726]\n",
      "Going in\n",
      "-4.82849874257864*Π_2*Π_0*Π_2*Π_4*Π_1*Π_4\n",
      "(-4.82849874257864, Π_2, Π_0, Π_2, Π_4, Π_1, Π_4)\n",
      "printing res \n",
      "[Π_2*Π_0*Π_2, Π_4*Π_1*Π_4, -4.82849874257864]\n",
      "the expression\n"
     ]
    },
    {
     "data": {
      "text/latex": [
       "$\\displaystyle - 2.05817102727149 Π_{2} Π_{0} Π_{2} P + 2.49830806579309 Π_{2} Π_{0} Π_{2} Π_{0} P + 2.77032771530715 Π_{2} Π_{0} Π_{2} Π_{4} P - 4.82849874257864 Π_{2} Π_{0} Π_{2} Π_{4} Π_{1} P - 1.15229372655726 Π_{2} Π_{0} Π_{2} Π_{4} Π_{2} P$"
      ],
      "text/plain": [
       "-2.05817102727149⋅Π₂⋅Π₀⋅Π₂⋅P + 2.49830806579309⋅Π₂⋅Π₀⋅Π₂⋅Π₀⋅P + 2.770327715307\n",
       "15⋅Π₂⋅Π₀⋅Π₂⋅Π₄⋅P - 4.82849874257864⋅Π₂⋅Π₀⋅Π₂⋅Π₄⋅Π₁⋅P - 1.15229372655726⋅Π₂⋅Π₀⋅\n",
       "Π₂⋅Π₄⋅Π₂⋅P"
      ]
     },
     "metadata": {},
     "output_type": "display_data"
    },
    {
     "name": "stdout",
     "output_type": "stream",
     "text": [
      "Going in\n",
      "-2.05817102727149*Π_2*Π_0*Π_2*P\n",
      "(-2.05817102727149, Π_2, Π_0, Π_2, P)\n",
      "printing res \n",
      "[Π_2*Π_0*Π_2, P, -2.05817102727149]\n",
      "Going in\n",
      "2.77032771530715*Π_2*Π_0*Π_2*Π_4*P\n",
      "(2.77032771530715, Π_2, Π_0, Π_2, Π_4, P)\n",
      "printing res \n",
      "[Π_2*Π_0*Π_2, Π_4*P, 2.77032771530715]\n",
      "Going in\n",
      "2.49830806579309*Π_2*Π_0*Π_2*Π_0*P\n",
      "(2.49830806579309, Π_2, Π_0, Π_2, Π_0, P)\n",
      "printing res \n",
      "[Π_2*Π_0*Π_2, Π_0*P, 2.49830806579309]\n",
      "Going in\n",
      "-1.15229372655726*Π_2*Π_0*Π_2*Π_4*Π_2*P\n",
      "(-1.15229372655726, Π_2, Π_0, Π_2, Π_4, Π_2, P)\n",
      "printing res \n",
      "[Π_2*Π_0*Π_2, Π_4*Π_2*P, -1.15229372655726]\n",
      "Going in\n",
      "-4.82849874257864*Π_2*Π_0*Π_2*Π_4*Π_1*P\n",
      "(-4.82849874257864, Π_2, Π_0, Π_2, Π_4, Π_1, P)\n",
      "printing res \n",
      "[Π_2*Π_0*Π_2, Π_4*Π_1*P, -4.82849874257864]\n",
      "the expression\n"
     ]
    },
    {
     "data": {
      "text/latex": [
       "$\\displaystyle - 2.05817102727149 Π_{2} Π_{0} Π_{2} Pd + 2.49830806579309 Π_{2} Π_{0} Π_{2} Π_{0} Pd + 2.77032771530715 Π_{2} Π_{0} Π_{2} Π_{4} Pd - 4.82849874257864 Π_{2} Π_{0} Π_{2} Π_{4} Π_{1} Pd - 1.15229372655726 Π_{2} Π_{0} Π_{2} Π_{4} Π_{2} Pd$"
      ],
      "text/plain": [
       "-2.05817102727149⋅Π₂⋅Π₀⋅Π₂⋅Pd + 2.49830806579309⋅Π₂⋅Π₀⋅Π₂⋅Π₀⋅Pd + 2.7703277153\n",
       "0715⋅Π₂⋅Π₀⋅Π₂⋅Π₄⋅Pd - 4.82849874257864⋅Π₂⋅Π₀⋅Π₂⋅Π₄⋅Π₁⋅Pd - 1.15229372655726⋅Π₂\n",
       "⋅Π₀⋅Π₂⋅Π₄⋅Π₂⋅Pd"
      ]
     },
     "metadata": {},
     "output_type": "display_data"
    },
    {
     "name": "stdout",
     "output_type": "stream",
     "text": [
      "Going in\n",
      "-2.05817102727149*Π_2*Π_0*Π_2*Pd\n",
      "(-2.05817102727149, Π_2, Π_0, Π_2, Pd)\n",
      "printing res \n",
      "[Π_2*Π_0*Π_2, Pd, -2.05817102727149]\n",
      "Going in\n",
      "2.77032771530715*Π_2*Π_0*Π_2*Π_4*Pd\n",
      "(2.77032771530715, Π_2, Π_0, Π_2, Π_4, Pd)\n",
      "printing res \n",
      "[Π_2*Π_0*Π_2, Π_4*Pd, 2.77032771530715]\n",
      "Going in\n",
      "2.49830806579309*Π_2*Π_0*Π_2*Π_0*Pd\n",
      "(2.49830806579309, Π_2, Π_0, Π_2, Π_0, Pd)\n",
      "printing res \n",
      "[Π_2*Π_0*Π_2, Π_0*Pd, 2.49830806579309]\n",
      "Going in\n",
      "-1.15229372655726*Π_2*Π_0*Π_2*Π_4*Π_2*Pd\n",
      "(-1.15229372655726, Π_2, Π_0, Π_2, Π_4, Π_2, Pd)\n",
      "printing res \n",
      "[Π_2*Π_0*Π_2, Π_4*Π_2*Pd, -1.15229372655726]\n",
      "Going in\n",
      "-4.82849874257864*Π_2*Π_0*Π_2*Π_4*Π_1*Pd\n",
      "(-4.82849874257864, Π_2, Π_0, Π_2, Π_4, Π_1, Pd)\n",
      "printing res \n",
      "[Π_2*Π_0*Π_2, Π_4*Π_1*Pd, -4.82849874257864]\n",
      "the expression\n"
     ]
    },
    {
     "data": {
      "text/latex": [
       "$\\displaystyle - 2.05817102727149 Π_{2} Π_{0} Π_{2} + 2.49830806579309 Π_{2} Π_{0} Π_{2} Π_{0} + 2.77032771530715 Π_{2} Π_{0} Π_{2} Π_{4} - 4.82849874257864 Π_{2} Π_{0} Π_{2} Π_{4} Π_{1} - 1.15229372655726 Π_{2} Π_{0} Π_{2} Π_{4} Π_{2}$"
      ],
      "text/plain": [
       "-2.05817102727149⋅Π₂⋅Π₀⋅Π₂ + 2.49830806579309⋅Π₂⋅Π₀⋅Π₂⋅Π₀ + 2.77032771530715⋅Π\n",
       "₂⋅Π₀⋅Π₂⋅Π₄ - 4.82849874257864⋅Π₂⋅Π₀⋅Π₂⋅Π₄⋅Π₁ - 1.15229372655726⋅Π₂⋅Π₀⋅Π₂⋅Π₄⋅Π₂"
      ]
     },
     "metadata": {},
     "output_type": "display_data"
    },
    {
     "name": "stdout",
     "output_type": "stream",
     "text": [
      "Going in\n",
      "-2.05817102727149*Π_2*Π_0*Π_2\n",
      "(-2.05817102727149, Π_2, Π_0, Π_2)\n",
      "printing res \n",
      "[Π_2*Π_0*Π_2, 1, -2.05817102727149]\n",
      "Going in\n",
      "2.77032771530715*Π_2*Π_0*Π_2*Π_4\n",
      "(2.77032771530715, Π_2, Π_0, Π_2, Π_4)\n",
      "printing res \n",
      "[Π_2*Π_0*Π_2, Π_4, 2.77032771530715]\n",
      "Going in\n",
      "2.49830806579309*Π_2*Π_0*Π_2*Π_0\n",
      "(2.49830806579309, Π_2, Π_0, Π_2, Π_0)\n",
      "printing res \n",
      "[Π_2*Π_0*Π_2, Π_0, 2.49830806579309]\n",
      "Going in\n",
      "-1.15229372655726*Π_2*Π_0*Π_2*Π_4*Π_2\n",
      "(-1.15229372655726, Π_2, Π_0, Π_2, Π_4, Π_2)\n",
      "printing res \n",
      "[Π_2*Π_0*Π_2, Π_4*Π_2, -1.15229372655726]\n",
      "Going in\n",
      "-4.82849874257864*Π_2*Π_0*Π_2*Π_4*Π_1\n",
      "(-4.82849874257864, Π_2, Π_0, Π_2, Π_4, Π_1)\n",
      "printing res \n",
      "[Π_2*Π_0*Π_2, Π_4*Π_1, -4.82849874257864]\n",
      "the expression\n"
     ]
    },
    {
     "data": {
      "text/latex": [
       "$\\displaystyle 0.440137038521599 Π_{2} Π_{0} Π_{2} Π_{0} - 1.15229372655726 Π_{2} Π_{0} Π_{2} Π_{4} Π_{2} Π_{0}$"
      ],
      "text/plain": [
       "0.440137038521599⋅Π₂⋅Π₀⋅Π₂⋅Π₀ - 1.15229372655726⋅Π₂⋅Π₀⋅Π₂⋅Π₄⋅Π₂⋅Π₀"
      ]
     },
     "metadata": {},
     "output_type": "display_data"
    },
    {
     "name": "stdout",
     "output_type": "stream",
     "text": [
      "Going in\n",
      "0.440137038521599*Π_2*Π_0*Π_2*Π_0\n",
      "(0.440137038521599, Π_2, Π_0, Π_2, Π_0)\n",
      "printing res \n",
      "[Π_2*Π_0*Π_2, Π_0, 0.440137038521599]\n",
      "Going in\n",
      "-1.15229372655726*Π_2*Π_0*Π_2*Π_4*Π_2*Π_0\n",
      "(-1.15229372655726, Π_2, Π_0, Π_2, Π_4, Π_2, Π_0)\n",
      "printing res \n",
      "[Π_2*Π_0*Π_2, Π_4*Π_2*Π_0, -1.15229372655726]\n",
      "the expression\n"
     ]
    },
    {
     "data": {
      "text/latex": [
       "$\\displaystyle - 2.05817102727149 Π_{2} Π_{0} Π_{2} Π_{4} Π_{1}$"
      ],
      "text/plain": [
       "-2.05817102727149⋅Π₂⋅Π₀⋅Π₂⋅Π₄⋅Π₁"
      ]
     },
     "metadata": {},
     "output_type": "display_data"
    },
    {
     "name": "stdout",
     "output_type": "stream",
     "text": [
      "-2.05817102727149*Π_2*Π_0*Π_2*Π_4*Π_1\n",
      "(-2.05817102727149, Π_2, Π_0, Π_2, Π_4, Π_1)\n",
      "printing res \n",
      "[Π_2*Π_0*Π_2, Π_4*Π_1, -2.05817102727149]\n",
      "the expression\n"
     ]
    },
    {
     "data": {
      "text/latex": [
       "$\\displaystyle - 2.05817102727149 Π_{2} Π_{0} Π_{2} + 2.49830806579309 Π_{2} Π_{0} Π_{2} Π_{0} Π_{2} + 1.6180339887499 Π_{2} Π_{0} Π_{2} Π_{4} Π_{2}$"
      ],
      "text/plain": [
       "-2.05817102727149⋅Π₂⋅Π₀⋅Π₂ + 2.49830806579309⋅Π₂⋅Π₀⋅Π₂⋅Π₀⋅Π₂ + 1.6180339887499\n",
       "⋅Π₂⋅Π₀⋅Π₂⋅Π₄⋅Π₂"
      ]
     },
     "metadata": {},
     "output_type": "display_data"
    },
    {
     "name": "stdout",
     "output_type": "stream",
     "text": [
      "Going in\n",
      "-2.05817102727149*Π_2*Π_0*Π_2\n",
      "(-2.05817102727149, Π_2, Π_0, Π_2)\n",
      "printing res \n",
      "[Π_2*Π_0*Π_2, 1, -2.05817102727149]\n",
      "Going in\n",
      "1.6180339887499*Π_2*Π_0*Π_2*Π_4*Π_2\n",
      "(1.61803398874990, Π_2, Π_0, Π_2, Π_4, Π_2)\n",
      "printing res \n",
      "[Π_2*Π_0*Π_2, Π_4*Π_2, 1.61803398874990]\n",
      "Going in\n",
      "2.49830806579309*Π_2*Π_0*Π_2*Π_0*Π_2\n",
      "(2.49830806579309, Π_2, Π_0, Π_2, Π_0, Π_2)\n",
      "printing res \n",
      "[Π_2*Π_0*Π_2, Π_0*Π_2, 2.49830806579309]\n",
      "the expression\n"
     ]
    },
    {
     "data": {
      "text/latex": [
       "$\\displaystyle 2.49830806579309 Π_{2} Π_{0} Π_{2} Π_{0} Π_{3} - 4.82849874257864 Π_{2} Π_{0} Π_{2} Π_{4} Π_{1} Π_{3}$"
      ],
      "text/plain": [
       "2.49830806579309⋅Π₂⋅Π₀⋅Π₂⋅Π₀⋅Π₃ - 4.82849874257864⋅Π₂⋅Π₀⋅Π₂⋅Π₄⋅Π₁⋅Π₃"
      ]
     },
     "metadata": {},
     "output_type": "display_data"
    },
    {
     "name": "stdout",
     "output_type": "stream",
     "text": [
      "Going in\n",
      "2.49830806579309*Π_2*Π_0*Π_2*Π_0*Π_3\n",
      "(2.49830806579309, Π_2, Π_0, Π_2, Π_0, Π_3)\n",
      "printing res \n",
      "[Π_2*Π_0*Π_2, Π_0*Π_3, 2.49830806579309]\n",
      "Going in\n",
      "-4.82849874257864*Π_2*Π_0*Π_2*Π_4*Π_1*Π_3\n",
      "(-4.82849874257864, Π_2, Π_0, Π_2, Π_4, Π_1, Π_3)\n",
      "printing res \n",
      "[Π_2*Π_0*Π_2, Π_4*Π_1*Π_3, -4.82849874257864]\n",
      "the expression\n"
     ]
    },
    {
     "data": {
      "text/latex": [
       "$\\displaystyle 0.712156688035661 Π_{2} Π_{0} Π_{2} Π_{4} - 4.82849874257864 Π_{2} Π_{0} Π_{2} Π_{4} Π_{1} Π_{4} - 1.15229372655726 Π_{2} Π_{0} Π_{2} Π_{4} Π_{2} Π_{4}$"
      ],
      "text/plain": [
       "0.712156688035661⋅Π₂⋅Π₀⋅Π₂⋅Π₄ - 4.82849874257864⋅Π₂⋅Π₀⋅Π₂⋅Π₄⋅Π₁⋅Π₄ - 1.1522937\n",
       "2655726⋅Π₂⋅Π₀⋅Π₂⋅Π₄⋅Π₂⋅Π₄"
      ]
     },
     "metadata": {},
     "output_type": "display_data"
    },
    {
     "name": "stdout",
     "output_type": "stream",
     "text": [
      "Going in\n",
      "0.712156688035661*Π_2*Π_0*Π_2*Π_4\n",
      "(0.712156688035661, Π_2, Π_0, Π_2, Π_4)\n",
      "printing res \n",
      "[Π_2*Π_0*Π_2, Π_4, 0.712156688035661]\n",
      "Going in\n",
      "-1.15229372655726*Π_2*Π_0*Π_2*Π_4*Π_2*Π_4\n",
      "(-1.15229372655726, Π_2, Π_0, Π_2, Π_4, Π_2, Π_4)\n",
      "printing res \n",
      "[Π_2*Π_0*Π_2, Π_4*Π_2*Π_4, -1.15229372655726]\n",
      "Going in\n",
      "-4.82849874257864*Π_2*Π_0*Π_2*Π_4*Π_1*Π_4\n",
      "(-4.82849874257864, Π_2, Π_0, Π_2, Π_4, Π_1, Π_4)\n",
      "printing res \n",
      "[Π_2*Π_0*Π_2, Π_4*Π_1*Π_4, -4.82849874257864]\n",
      "the expression\n"
     ]
    },
    {
     "data": {
      "text/latex": [
       "$\\displaystyle - 2.05817102727149 Π_{2} Π_{0} Π_{2} P + 2.49830806579309 Π_{2} Π_{0} Π_{2} Π_{0} P + 2.77032771530715 Π_{2} Π_{0} Π_{2} Π_{4} P - 4.82849874257864 Π_{2} Π_{0} Π_{2} Π_{4} Π_{1} P - 1.15229372655726 Π_{2} Π_{0} Π_{2} Π_{4} Π_{2} P$"
      ],
      "text/plain": [
       "-2.05817102727149⋅Π₂⋅Π₀⋅Π₂⋅P + 2.49830806579309⋅Π₂⋅Π₀⋅Π₂⋅Π₀⋅P + 2.770327715307\n",
       "15⋅Π₂⋅Π₀⋅Π₂⋅Π₄⋅P - 4.82849874257864⋅Π₂⋅Π₀⋅Π₂⋅Π₄⋅Π₁⋅P - 1.15229372655726⋅Π₂⋅Π₀⋅\n",
       "Π₂⋅Π₄⋅Π₂⋅P"
      ]
     },
     "metadata": {},
     "output_type": "display_data"
    },
    {
     "name": "stdout",
     "output_type": "stream",
     "text": [
      "Going in\n",
      "-2.05817102727149*Π_2*Π_0*Π_2*P\n",
      "(-2.05817102727149, Π_2, Π_0, Π_2, P)\n",
      "printing res \n",
      "[Π_2*Π_0*Π_2, P, -2.05817102727149]\n",
      "Going in\n",
      "2.77032771530715*Π_2*Π_0*Π_2*Π_4*P\n",
      "(2.77032771530715, Π_2, Π_0, Π_2, Π_4, P)\n",
      "printing res \n",
      "[Π_2*Π_0*Π_2, Π_4*P, 2.77032771530715]\n",
      "Going in\n",
      "2.49830806579309*Π_2*Π_0*Π_2*Π_0*P\n",
      "(2.49830806579309, Π_2, Π_0, Π_2, Π_0, P)\n",
      "printing res \n",
      "[Π_2*Π_0*Π_2, Π_0*P, 2.49830806579309]\n",
      "Going in\n",
      "-1.15229372655726*Π_2*Π_0*Π_2*Π_4*Π_2*P\n",
      "(-1.15229372655726, Π_2, Π_0, Π_2, Π_4, Π_2, P)\n",
      "printing res \n",
      "[Π_2*Π_0*Π_2, Π_4*Π_2*P, -1.15229372655726]\n",
      "Going in\n",
      "-4.82849874257864*Π_2*Π_0*Π_2*Π_4*Π_1*P\n",
      "(-4.82849874257864, Π_2, Π_0, Π_2, Π_4, Π_1, P)\n",
      "printing res \n",
      "[Π_2*Π_0*Π_2, Π_4*Π_1*P, -4.82849874257864]\n",
      "the expression\n"
     ]
    },
    {
     "data": {
      "text/latex": [
       "$\\displaystyle - 2.05817102727149 Π_{2} Π_{0} Π_{2} Pd + 2.49830806579309 Π_{2} Π_{0} Π_{2} Π_{0} Pd + 2.77032771530715 Π_{2} Π_{0} Π_{2} Π_{4} Pd - 4.82849874257864 Π_{2} Π_{0} Π_{2} Π_{4} Π_{1} Pd - 1.15229372655726 Π_{2} Π_{0} Π_{2} Π_{4} Π_{2} Pd$"
      ],
      "text/plain": [
       "-2.05817102727149⋅Π₂⋅Π₀⋅Π₂⋅Pd + 2.49830806579309⋅Π₂⋅Π₀⋅Π₂⋅Π₀⋅Pd + 2.7703277153\n",
       "0715⋅Π₂⋅Π₀⋅Π₂⋅Π₄⋅Pd - 4.82849874257864⋅Π₂⋅Π₀⋅Π₂⋅Π₄⋅Π₁⋅Pd - 1.15229372655726⋅Π₂\n",
       "⋅Π₀⋅Π₂⋅Π₄⋅Π₂⋅Pd"
      ]
     },
     "metadata": {},
     "output_type": "display_data"
    },
    {
     "name": "stdout",
     "output_type": "stream",
     "text": [
      "Going in\n",
      "-2.05817102727149*Π_2*Π_0*Π_2*Pd\n",
      "(-2.05817102727149, Π_2, Π_0, Π_2, Pd)\n",
      "printing res \n",
      "[Π_2*Π_0*Π_2, Pd, -2.05817102727149]\n",
      "Going in\n",
      "2.77032771530715*Π_2*Π_0*Π_2*Π_4*Pd\n",
      "(2.77032771530715, Π_2, Π_0, Π_2, Π_4, Pd)\n",
      "printing res \n",
      "[Π_2*Π_0*Π_2, Π_4*Pd, 2.77032771530715]\n",
      "Going in\n",
      "2.49830806579309*Π_2*Π_0*Π_2*Π_0*Pd\n",
      "(2.49830806579309, Π_2, Π_0, Π_2, Π_0, Pd)\n",
      "printing res \n",
      "[Π_2*Π_0*Π_2, Π_0*Pd, 2.49830806579309]\n",
      "Going in\n",
      "-1.15229372655726*Π_2*Π_0*Π_2*Π_4*Π_2*Pd\n",
      "(-1.15229372655726, Π_2, Π_0, Π_2, Π_4, Π_2, Pd)\n",
      "printing res \n",
      "[Π_2*Π_0*Π_2, Π_4*Π_2*Pd, -1.15229372655726]\n",
      "Going in\n",
      "-4.82849874257864*Π_2*Π_0*Π_2*Π_4*Π_1*Pd\n",
      "(-4.82849874257864, Π_2, Π_0, Π_2, Π_4, Π_1, Pd)\n",
      "printing res \n",
      "[Π_2*Π_0*Π_2, Π_4*Π_1*Pd, -4.82849874257864]\n",
      "the expression\n"
     ]
    },
    {
     "data": {
      "text/latex": [
       "$\\displaystyle - 2.05817102727149 Π_{2} Π_{0} Π_{2} + 2.49830806579309 Π_{2} Π_{0} Π_{2} Π_{0} + 2.77032771530715 Π_{2} Π_{0} Π_{2} Π_{4} - 4.82849874257864 Π_{2} Π_{0} Π_{2} Π_{4} Π_{1} - 1.15229372655726 Π_{2} Π_{0} Π_{2} Π_{4} Π_{2}$"
      ],
      "text/plain": [
       "-2.05817102727149⋅Π₂⋅Π₀⋅Π₂ + 2.49830806579309⋅Π₂⋅Π₀⋅Π₂⋅Π₀ + 2.77032771530715⋅Π\n",
       "₂⋅Π₀⋅Π₂⋅Π₄ - 4.82849874257864⋅Π₂⋅Π₀⋅Π₂⋅Π₄⋅Π₁ - 1.15229372655726⋅Π₂⋅Π₀⋅Π₂⋅Π₄⋅Π₂"
      ]
     },
     "metadata": {},
     "output_type": "display_data"
    },
    {
     "name": "stdout",
     "output_type": "stream",
     "text": [
      "Going in\n",
      "-2.05817102727149*Π_2*Π_0*Π_2\n",
      "(-2.05817102727149, Π_2, Π_0, Π_2)\n",
      "printing res \n",
      "[Π_2*Π_0*Π_2, 1, -2.05817102727149]\n",
      "Going in\n",
      "2.77032771530715*Π_2*Π_0*Π_2*Π_4\n",
      "(2.77032771530715, Π_2, Π_0, Π_2, Π_4)\n",
      "printing res \n",
      "[Π_2*Π_0*Π_2, Π_4, 2.77032771530715]\n",
      "Going in\n",
      "2.49830806579309*Π_2*Π_0*Π_2*Π_0\n",
      "(2.49830806579309, Π_2, Π_0, Π_2, Π_0)\n",
      "printing res \n",
      "[Π_2*Π_0*Π_2, Π_0, 2.49830806579309]\n",
      "Going in\n",
      "-1.15229372655726*Π_2*Π_0*Π_2*Π_4*Π_2\n",
      "(-1.15229372655726, Π_2, Π_0, Π_2, Π_4, Π_2)\n",
      "printing res \n",
      "[Π_2*Π_0*Π_2, Π_4*Π_2, -1.15229372655726]\n",
      "Going in\n",
      "-4.82849874257864*Π_2*Π_0*Π_2*Π_4*Π_1\n",
      "(-4.82849874257864, Π_2, Π_0, Π_2, Π_4, Π_1)\n",
      "printing res \n",
      "[Π_2*Π_0*Π_2, Π_4*Π_1, -4.82849874257864]\n",
      "the expression\n"
     ]
    },
    {
     "data": {
      "text/latex": [
       "$\\displaystyle 0.440137038521599 Π_{2} Π_{0} Π_{2} Π_{0} - 1.15229372655726 Π_{2} Π_{0} Π_{2} Π_{4} Π_{2} Π_{0}$"
      ],
      "text/plain": [
       "0.440137038521599⋅Π₂⋅Π₀⋅Π₂⋅Π₀ - 1.15229372655726⋅Π₂⋅Π₀⋅Π₂⋅Π₄⋅Π₂⋅Π₀"
      ]
     },
     "metadata": {},
     "output_type": "display_data"
    },
    {
     "name": "stdout",
     "output_type": "stream",
     "text": [
      "Going in\n",
      "0.440137038521599*Π_2*Π_0*Π_2*Π_0\n",
      "(0.440137038521599, Π_2, Π_0, Π_2, Π_0)\n",
      "printing res \n",
      "[Π_2*Π_0*Π_2, Π_0, 0.440137038521599]\n",
      "Going in\n",
      "-1.15229372655726*Π_2*Π_0*Π_2*Π_4*Π_2*Π_0\n",
      "(-1.15229372655726, Π_2, Π_0, Π_2, Π_4, Π_2, Π_0)\n",
      "printing res \n",
      "[Π_2*Π_0*Π_2, Π_4*Π_2*Π_0, -1.15229372655726]\n",
      "the expression\n"
     ]
    },
    {
     "data": {
      "text/latex": [
       "$\\displaystyle - 2.05817102727149 Π_{2} Π_{0} Π_{2} Π_{4} Π_{1}$"
      ],
      "text/plain": [
       "-2.05817102727149⋅Π₂⋅Π₀⋅Π₂⋅Π₄⋅Π₁"
      ]
     },
     "metadata": {},
     "output_type": "display_data"
    },
    {
     "name": "stdout",
     "output_type": "stream",
     "text": [
      "-2.05817102727149*Π_2*Π_0*Π_2*Π_4*Π_1\n",
      "(-2.05817102727149, Π_2, Π_0, Π_2, Π_4, Π_1)\n",
      "printing res \n",
      "[Π_2*Π_0*Π_2, Π_4*Π_1, -2.05817102727149]\n",
      "the expression\n"
     ]
    },
    {
     "data": {
      "text/latex": [
       "$\\displaystyle - 2.05817102727149 Π_{2} Π_{0} Π_{2} + 2.49830806579309 Π_{2} Π_{0} Π_{2} Π_{0} Π_{2} + 1.6180339887499 Π_{2} Π_{0} Π_{2} Π_{4} Π_{2}$"
      ],
      "text/plain": [
       "-2.05817102727149⋅Π₂⋅Π₀⋅Π₂ + 2.49830806579309⋅Π₂⋅Π₀⋅Π₂⋅Π₀⋅Π₂ + 1.6180339887499\n",
       "⋅Π₂⋅Π₀⋅Π₂⋅Π₄⋅Π₂"
      ]
     },
     "metadata": {},
     "output_type": "display_data"
    },
    {
     "name": "stdout",
     "output_type": "stream",
     "text": [
      "Going in\n",
      "-2.05817102727149*Π_2*Π_0*Π_2\n",
      "(-2.05817102727149, Π_2, Π_0, Π_2)\n",
      "printing res \n",
      "[Π_2*Π_0*Π_2, 1, -2.05817102727149]\n",
      "Going in\n",
      "1.6180339887499*Π_2*Π_0*Π_2*Π_4*Π_2\n",
      "(1.61803398874990, Π_2, Π_0, Π_2, Π_4, Π_2)\n",
      "printing res \n",
      "[Π_2*Π_0*Π_2, Π_4*Π_2, 1.61803398874990]\n",
      "Going in\n",
      "2.49830806579309*Π_2*Π_0*Π_2*Π_0*Π_2\n",
      "(2.49830806579309, Π_2, Π_0, Π_2, Π_0, Π_2)\n",
      "printing res \n",
      "[Π_2*Π_0*Π_2, Π_0*Π_2, 2.49830806579309]\n",
      "the expression\n"
     ]
    },
    {
     "data": {
      "text/latex": [
       "$\\displaystyle 2.49830806579309 Π_{2} Π_{0} Π_{2} Π_{0} Π_{3} - 4.82849874257864 Π_{2} Π_{0} Π_{2} Π_{4} Π_{1} Π_{3}$"
      ],
      "text/plain": [
       "2.49830806579309⋅Π₂⋅Π₀⋅Π₂⋅Π₀⋅Π₃ - 4.82849874257864⋅Π₂⋅Π₀⋅Π₂⋅Π₄⋅Π₁⋅Π₃"
      ]
     },
     "metadata": {},
     "output_type": "display_data"
    },
    {
     "name": "stdout",
     "output_type": "stream",
     "text": [
      "Going in\n",
      "2.49830806579309*Π_2*Π_0*Π_2*Π_0*Π_3\n",
      "(2.49830806579309, Π_2, Π_0, Π_2, Π_0, Π_3)\n",
      "printing res \n",
      "[Π_2*Π_0*Π_2, Π_0*Π_3, 2.49830806579309]\n",
      "Going in\n",
      "-4.82849874257864*Π_2*Π_0*Π_2*Π_4*Π_1*Π_3\n",
      "(-4.82849874257864, Π_2, Π_0, Π_2, Π_4, Π_1, Π_3)\n",
      "printing res \n",
      "[Π_2*Π_0*Π_2, Π_4*Π_1*Π_3, -4.82849874257864]\n",
      "the expression\n"
     ]
    },
    {
     "data": {
      "text/latex": [
       "$\\displaystyle 0.712156688035661 Π_{2} Π_{0} Π_{2} Π_{4} - 4.82849874257864 Π_{2} Π_{0} Π_{2} Π_{4} Π_{1} Π_{4} - 1.15229372655726 Π_{2} Π_{0} Π_{2} Π_{4} Π_{2} Π_{4}$"
      ],
      "text/plain": [
       "0.712156688035661⋅Π₂⋅Π₀⋅Π₂⋅Π₄ - 4.82849874257864⋅Π₂⋅Π₀⋅Π₂⋅Π₄⋅Π₁⋅Π₄ - 1.1522937\n",
       "2655726⋅Π₂⋅Π₀⋅Π₂⋅Π₄⋅Π₂⋅Π₄"
      ]
     },
     "metadata": {},
     "output_type": "display_data"
    },
    {
     "name": "stdout",
     "output_type": "stream",
     "text": [
      "Going in\n",
      "0.712156688035661*Π_2*Π_0*Π_2*Π_4\n",
      "(0.712156688035661, Π_2, Π_0, Π_2, Π_4)\n",
      "printing res \n",
      "[Π_2*Π_0*Π_2, Π_4, 0.712156688035661]\n",
      "Going in\n",
      "-1.15229372655726*Π_2*Π_0*Π_2*Π_4*Π_2*Π_4\n",
      "(-1.15229372655726, Π_2, Π_0, Π_2, Π_4, Π_2, Π_4)\n",
      "printing res \n",
      "[Π_2*Π_0*Π_2, Π_4*Π_2*Π_4, -1.15229372655726]\n",
      "Going in\n",
      "-4.82849874257864*Π_2*Π_0*Π_2*Π_4*Π_1*Π_4\n",
      "(-4.82849874257864, Π_2, Π_0, Π_2, Π_4, Π_1, Π_4)\n",
      "printing res \n",
      "[Π_2*Π_0*Π_2, Π_4*Π_1*Π_4, -4.82849874257864]\n",
      "the expression\n"
     ]
    },
    {
     "data": {
      "text/latex": [
       "$\\displaystyle - 2.05817102727149 Π_{2} Π_{0} Π_{2} P + 2.49830806579309 Π_{2} Π_{0} Π_{2} Π_{0} P + 2.77032771530715 Π_{2} Π_{0} Π_{2} Π_{4} P - 4.82849874257864 Π_{2} Π_{0} Π_{2} Π_{4} Π_{1} P - 1.15229372655726 Π_{2} Π_{0} Π_{2} Π_{4} Π_{2} P$"
      ],
      "text/plain": [
       "-2.05817102727149⋅Π₂⋅Π₀⋅Π₂⋅P + 2.49830806579309⋅Π₂⋅Π₀⋅Π₂⋅Π₀⋅P + 2.770327715307\n",
       "15⋅Π₂⋅Π₀⋅Π₂⋅Π₄⋅P - 4.82849874257864⋅Π₂⋅Π₀⋅Π₂⋅Π₄⋅Π₁⋅P - 1.15229372655726⋅Π₂⋅Π₀⋅\n",
       "Π₂⋅Π₄⋅Π₂⋅P"
      ]
     },
     "metadata": {},
     "output_type": "display_data"
    },
    {
     "name": "stdout",
     "output_type": "stream",
     "text": [
      "Going in\n",
      "-2.05817102727149*Π_2*Π_0*Π_2*P\n",
      "(-2.05817102727149, Π_2, Π_0, Π_2, P)\n",
      "printing res \n",
      "[Π_2*Π_0*Π_2, P, -2.05817102727149]\n",
      "Going in\n",
      "2.77032771530715*Π_2*Π_0*Π_2*Π_4*P\n",
      "(2.77032771530715, Π_2, Π_0, Π_2, Π_4, P)\n",
      "printing res \n",
      "[Π_2*Π_0*Π_2, Π_4*P, 2.77032771530715]\n",
      "Going in\n",
      "2.49830806579309*Π_2*Π_0*Π_2*Π_0*P\n",
      "(2.49830806579309, Π_2, Π_0, Π_2, Π_0, P)\n",
      "printing res \n",
      "[Π_2*Π_0*Π_2, Π_0*P, 2.49830806579309]\n",
      "Going in\n",
      "-1.15229372655726*Π_2*Π_0*Π_2*Π_4*Π_2*P\n",
      "(-1.15229372655726, Π_2, Π_0, Π_2, Π_4, Π_2, P)\n",
      "printing res \n",
      "[Π_2*Π_0*Π_2, Π_4*Π_2*P, -1.15229372655726]\n",
      "Going in\n",
      "-4.82849874257864*Π_2*Π_0*Π_2*Π_4*Π_1*P\n",
      "(-4.82849874257864, Π_2, Π_0, Π_2, Π_4, Π_1, P)\n",
      "printing res \n",
      "[Π_2*Π_0*Π_2, Π_4*Π_1*P, -4.82849874257864]\n",
      "the expression\n"
     ]
    },
    {
     "data": {
      "text/latex": [
       "$\\displaystyle - 2.05817102727149 Π_{2} Π_{0} Π_{2} Pd + 2.49830806579309 Π_{2} Π_{0} Π_{2} Π_{0} Pd + 2.77032771530715 Π_{2} Π_{0} Π_{2} Π_{4} Pd - 4.82849874257864 Π_{2} Π_{0} Π_{2} Π_{4} Π_{1} Pd - 1.15229372655726 Π_{2} Π_{0} Π_{2} Π_{4} Π_{2} Pd$"
      ],
      "text/plain": [
       "-2.05817102727149⋅Π₂⋅Π₀⋅Π₂⋅Pd + 2.49830806579309⋅Π₂⋅Π₀⋅Π₂⋅Π₀⋅Pd + 2.7703277153\n",
       "0715⋅Π₂⋅Π₀⋅Π₂⋅Π₄⋅Pd - 4.82849874257864⋅Π₂⋅Π₀⋅Π₂⋅Π₄⋅Π₁⋅Pd - 1.15229372655726⋅Π₂\n",
       "⋅Π₀⋅Π₂⋅Π₄⋅Π₂⋅Pd"
      ]
     },
     "metadata": {},
     "output_type": "display_data"
    },
    {
     "name": "stdout",
     "output_type": "stream",
     "text": [
      "Going in\n",
      "-2.05817102727149*Π_2*Π_0*Π_2*Pd\n",
      "(-2.05817102727149, Π_2, Π_0, Π_2, Pd)\n",
      "printing res \n",
      "[Π_2*Π_0*Π_2, Pd, -2.05817102727149]\n",
      "Going in\n",
      "2.77032771530715*Π_2*Π_0*Π_2*Π_4*Pd\n",
      "(2.77032771530715, Π_2, Π_0, Π_2, Π_4, Pd)\n",
      "printing res \n",
      "[Π_2*Π_0*Π_2, Π_4*Pd, 2.77032771530715]\n",
      "Going in\n",
      "2.49830806579309*Π_2*Π_0*Π_2*Π_0*Pd\n",
      "(2.49830806579309, Π_2, Π_0, Π_2, Π_0, Pd)\n",
      "printing res \n",
      "[Π_2*Π_0*Π_2, Π_0*Pd, 2.49830806579309]\n",
      "Going in\n",
      "-1.15229372655726*Π_2*Π_0*Π_2*Π_4*Π_2*Pd\n",
      "(-1.15229372655726, Π_2, Π_0, Π_2, Π_4, Π_2, Pd)\n",
      "printing res \n",
      "[Π_2*Π_0*Π_2, Π_4*Π_2*Pd, -1.15229372655726]\n",
      "Going in\n",
      "-4.82849874257864*Π_2*Π_0*Π_2*Π_4*Π_1*Pd\n",
      "(-4.82849874257864, Π_2, Π_0, Π_2, Π_4, Π_1, Pd)\n",
      "printing res \n",
      "[Π_2*Π_0*Π_2, Π_4*Π_1*Pd, -4.82849874257864]\n",
      "the expression\n"
     ]
    },
    {
     "data": {
      "text/latex": [
       "$\\displaystyle - 2.05817102727149 Π_{2} Π_{0} Π_{2} + 2.49830806579309 Π_{2} Π_{0} Π_{2} Π_{0} + 2.77032771530715 Π_{2} Π_{0} Π_{2} Π_{4} - 4.82849874257864 Π_{2} Π_{0} Π_{2} Π_{4} Π_{1} - 1.15229372655726 Π_{2} Π_{0} Π_{2} Π_{4} Π_{2}$"
      ],
      "text/plain": [
       "-2.05817102727149⋅Π₂⋅Π₀⋅Π₂ + 2.49830806579309⋅Π₂⋅Π₀⋅Π₂⋅Π₀ + 2.77032771530715⋅Π\n",
       "₂⋅Π₀⋅Π₂⋅Π₄ - 4.82849874257864⋅Π₂⋅Π₀⋅Π₂⋅Π₄⋅Π₁ - 1.15229372655726⋅Π₂⋅Π₀⋅Π₂⋅Π₄⋅Π₂"
      ]
     },
     "metadata": {},
     "output_type": "display_data"
    },
    {
     "name": "stdout",
     "output_type": "stream",
     "text": [
      "Going in\n",
      "-2.05817102727149*Π_2*Π_0*Π_2\n",
      "(-2.05817102727149, Π_2, Π_0, Π_2)\n",
      "printing res \n",
      "[Π_2*Π_0*Π_2, 1, -2.05817102727149]\n",
      "Going in\n",
      "2.77032771530715*Π_2*Π_0*Π_2*Π_4\n",
      "(2.77032771530715, Π_2, Π_0, Π_2, Π_4)\n",
      "printing res \n",
      "[Π_2*Π_0*Π_2, Π_4, 2.77032771530715]\n",
      "Going in\n",
      "2.49830806579309*Π_2*Π_0*Π_2*Π_0\n",
      "(2.49830806579309, Π_2, Π_0, Π_2, Π_0)\n",
      "printing res \n",
      "[Π_2*Π_0*Π_2, Π_0, 2.49830806579309]\n",
      "Going in\n",
      "-1.15229372655726*Π_2*Π_0*Π_2*Π_4*Π_2\n",
      "(-1.15229372655726, Π_2, Π_0, Π_2, Π_4, Π_2)\n",
      "printing res \n",
      "[Π_2*Π_0*Π_2, Π_4*Π_2, -1.15229372655726]\n",
      "Going in\n",
      "-4.82849874257864*Π_2*Π_0*Π_2*Π_4*Π_1\n",
      "(-4.82849874257864, Π_2, Π_0, Π_2, Π_4, Π_1)\n",
      "printing res \n",
      "[Π_2*Π_0*Π_2, Π_4*Π_1, -4.82849874257864]\n",
      "the expression\n"
     ]
    },
    {
     "data": {
      "text/latex": [
       "$\\displaystyle 0.440137038521599 Π_{2} Π_{0} Π_{2} Π_{0} - 1.15229372655726 Π_{2} Π_{0} Π_{2} Π_{4} Π_{2} Π_{0}$"
      ],
      "text/plain": [
       "0.440137038521599⋅Π₂⋅Π₀⋅Π₂⋅Π₀ - 1.15229372655726⋅Π₂⋅Π₀⋅Π₂⋅Π₄⋅Π₂⋅Π₀"
      ]
     },
     "metadata": {},
     "output_type": "display_data"
    },
    {
     "name": "stdout",
     "output_type": "stream",
     "text": [
      "Going in\n",
      "0.440137038521599*Π_2*Π_0*Π_2*Π_0\n",
      "(0.440137038521599, Π_2, Π_0, Π_2, Π_0)\n",
      "printing res \n",
      "[Π_2*Π_0*Π_2, Π_0, 0.440137038521599]\n",
      "Going in\n",
      "-1.15229372655726*Π_2*Π_0*Π_2*Π_4*Π_2*Π_0\n",
      "(-1.15229372655726, Π_2, Π_0, Π_2, Π_4, Π_2, Π_0)\n",
      "printing res \n",
      "[Π_2*Π_0*Π_2, Π_4*Π_2*Π_0, -1.15229372655726]\n",
      "the expression\n"
     ]
    },
    {
     "data": {
      "text/latex": [
       "$\\displaystyle - 2.05817102727149 Π_{2} Π_{0} Π_{2} Π_{4} Π_{1}$"
      ],
      "text/plain": [
       "-2.05817102727149⋅Π₂⋅Π₀⋅Π₂⋅Π₄⋅Π₁"
      ]
     },
     "metadata": {},
     "output_type": "display_data"
    },
    {
     "name": "stdout",
     "output_type": "stream",
     "text": [
      "-2.05817102727149*Π_2*Π_0*Π_2*Π_4*Π_1\n",
      "(-2.05817102727149, Π_2, Π_0, Π_2, Π_4, Π_1)\n",
      "printing res \n",
      "[Π_2*Π_0*Π_2, Π_4*Π_1, -2.05817102727149]\n",
      "the expression\n"
     ]
    },
    {
     "data": {
      "text/latex": [
       "$\\displaystyle - 2.05817102727149 Π_{2} Π_{0} Π_{2} + 2.49830806579309 Π_{2} Π_{0} Π_{2} Π_{0} Π_{2} + 1.6180339887499 Π_{2} Π_{0} Π_{2} Π_{4} Π_{2}$"
      ],
      "text/plain": [
       "-2.05817102727149⋅Π₂⋅Π₀⋅Π₂ + 2.49830806579309⋅Π₂⋅Π₀⋅Π₂⋅Π₀⋅Π₂ + 1.6180339887499\n",
       "⋅Π₂⋅Π₀⋅Π₂⋅Π₄⋅Π₂"
      ]
     },
     "metadata": {},
     "output_type": "display_data"
    },
    {
     "name": "stdout",
     "output_type": "stream",
     "text": [
      "Going in\n",
      "-2.05817102727149*Π_2*Π_0*Π_2\n",
      "(-2.05817102727149, Π_2, Π_0, Π_2)\n",
      "printing res \n",
      "[Π_2*Π_0*Π_2, 1, -2.05817102727149]\n",
      "Going in\n",
      "1.6180339887499*Π_2*Π_0*Π_2*Π_4*Π_2\n",
      "(1.61803398874990, Π_2, Π_0, Π_2, Π_4, Π_2)\n",
      "printing res \n",
      "[Π_2*Π_0*Π_2, Π_4*Π_2, 1.61803398874990]\n",
      "Going in\n",
      "2.49830806579309*Π_2*Π_0*Π_2*Π_0*Π_2\n",
      "(2.49830806579309, Π_2, Π_0, Π_2, Π_0, Π_2)\n",
      "printing res \n",
      "[Π_2*Π_0*Π_2, Π_0*Π_2, 2.49830806579309]\n",
      "the expression\n"
     ]
    },
    {
     "data": {
      "text/latex": [
       "$\\displaystyle 2.49830806579309 Π_{2} Π_{0} Π_{2} Π_{0} Π_{3} - 4.82849874257864 Π_{2} Π_{0} Π_{2} Π_{4} Π_{1} Π_{3}$"
      ],
      "text/plain": [
       "2.49830806579309⋅Π₂⋅Π₀⋅Π₂⋅Π₀⋅Π₃ - 4.82849874257864⋅Π₂⋅Π₀⋅Π₂⋅Π₄⋅Π₁⋅Π₃"
      ]
     },
     "metadata": {},
     "output_type": "display_data"
    },
    {
     "name": "stdout",
     "output_type": "stream",
     "text": [
      "Going in\n",
      "2.49830806579309*Π_2*Π_0*Π_2*Π_0*Π_3\n",
      "(2.49830806579309, Π_2, Π_0, Π_2, Π_0, Π_3)\n",
      "printing res \n",
      "[Π_2*Π_0*Π_2, Π_0*Π_3, 2.49830806579309]\n",
      "Going in\n",
      "-4.82849874257864*Π_2*Π_0*Π_2*Π_4*Π_1*Π_3\n",
      "(-4.82849874257864, Π_2, Π_0, Π_2, Π_4, Π_1, Π_3)\n",
      "printing res \n",
      "[Π_2*Π_0*Π_2, Π_4*Π_1*Π_3, -4.82849874257864]\n",
      "the expression\n"
     ]
    },
    {
     "data": {
      "text/latex": [
       "$\\displaystyle 0.712156688035661 Π_{2} Π_{0} Π_{2} Π_{4} - 4.82849874257864 Π_{2} Π_{0} Π_{2} Π_{4} Π_{1} Π_{4} - 1.15229372655726 Π_{2} Π_{0} Π_{2} Π_{4} Π_{2} Π_{4}$"
      ],
      "text/plain": [
       "0.712156688035661⋅Π₂⋅Π₀⋅Π₂⋅Π₄ - 4.82849874257864⋅Π₂⋅Π₀⋅Π₂⋅Π₄⋅Π₁⋅Π₄ - 1.1522937\n",
       "2655726⋅Π₂⋅Π₀⋅Π₂⋅Π₄⋅Π₂⋅Π₄"
      ]
     },
     "metadata": {},
     "output_type": "display_data"
    },
    {
     "name": "stdout",
     "output_type": "stream",
     "text": [
      "Going in\n",
      "0.712156688035661*Π_2*Π_0*Π_2*Π_4\n",
      "(0.712156688035661, Π_2, Π_0, Π_2, Π_4)\n",
      "printing res \n",
      "[Π_2*Π_0*Π_2, Π_4, 0.712156688035661]\n",
      "Going in\n",
      "-1.15229372655726*Π_2*Π_0*Π_2*Π_4*Π_2*Π_4\n",
      "(-1.15229372655726, Π_2, Π_0, Π_2, Π_4, Π_2, Π_4)\n",
      "printing res \n",
      "[Π_2*Π_0*Π_2, Π_4*Π_2*Π_4, -1.15229372655726]\n",
      "Going in\n",
      "-4.82849874257864*Π_2*Π_0*Π_2*Π_4*Π_1*Π_4\n",
      "(-4.82849874257864, Π_2, Π_0, Π_2, Π_4, Π_1, Π_4)\n",
      "printing res \n",
      "[Π_2*Π_0*Π_2, Π_4*Π_1*Π_4, -4.82849874257864]\n",
      "the expression\n"
     ]
    },
    {
     "data": {
      "text/latex": [
       "$\\displaystyle - 2.05817102727149 Π_{2} Π_{0} Π_{2} P + 2.49830806579309 Π_{2} Π_{0} Π_{2} Π_{0} P + 2.77032771530715 Π_{2} Π_{0} Π_{2} Π_{4} P - 4.82849874257864 Π_{2} Π_{0} Π_{2} Π_{4} Π_{1} P - 1.15229372655726 Π_{2} Π_{0} Π_{2} Π_{4} Π_{2} P$"
      ],
      "text/plain": [
       "-2.05817102727149⋅Π₂⋅Π₀⋅Π₂⋅P + 2.49830806579309⋅Π₂⋅Π₀⋅Π₂⋅Π₀⋅P + 2.770327715307\n",
       "15⋅Π₂⋅Π₀⋅Π₂⋅Π₄⋅P - 4.82849874257864⋅Π₂⋅Π₀⋅Π₂⋅Π₄⋅Π₁⋅P - 1.15229372655726⋅Π₂⋅Π₀⋅\n",
       "Π₂⋅Π₄⋅Π₂⋅P"
      ]
     },
     "metadata": {},
     "output_type": "display_data"
    },
    {
     "name": "stdout",
     "output_type": "stream",
     "text": [
      "Going in\n",
      "-2.05817102727149*Π_2*Π_0*Π_2*P\n",
      "(-2.05817102727149, Π_2, Π_0, Π_2, P)\n",
      "printing res \n",
      "[Π_2*Π_0*Π_2, P, -2.05817102727149]\n",
      "Going in\n",
      "2.77032771530715*Π_2*Π_0*Π_2*Π_4*P\n",
      "(2.77032771530715, Π_2, Π_0, Π_2, Π_4, P)\n",
      "printing res \n",
      "[Π_2*Π_0*Π_2, Π_4*P, 2.77032771530715]\n",
      "Going in\n",
      "2.49830806579309*Π_2*Π_0*Π_2*Π_0*P\n",
      "(2.49830806579309, Π_2, Π_0, Π_2, Π_0, P)\n",
      "printing res \n",
      "[Π_2*Π_0*Π_2, Π_0*P, 2.49830806579309]\n",
      "Going in\n",
      "-1.15229372655726*Π_2*Π_0*Π_2*Π_4*Π_2*P\n",
      "(-1.15229372655726, Π_2, Π_0, Π_2, Π_4, Π_2, P)\n",
      "printing res \n",
      "[Π_2*Π_0*Π_2, Π_4*Π_2*P, -1.15229372655726]\n",
      "Going in\n",
      "-4.82849874257864*Π_2*Π_0*Π_2*Π_4*Π_1*P\n",
      "(-4.82849874257864, Π_2, Π_0, Π_2, Π_4, Π_1, P)\n",
      "printing res \n",
      "[Π_2*Π_0*Π_2, Π_4*Π_1*P, -4.82849874257864]\n",
      "the expression\n"
     ]
    },
    {
     "data": {
      "text/latex": [
       "$\\displaystyle - 2.05817102727149 Π_{2} Π_{0} Π_{2} Pd + 2.49830806579309 Π_{2} Π_{0} Π_{2} Π_{0} Pd + 2.77032771530715 Π_{2} Π_{0} Π_{2} Π_{4} Pd - 4.82849874257864 Π_{2} Π_{0} Π_{2} Π_{4} Π_{1} Pd - 1.15229372655726 Π_{2} Π_{0} Π_{2} Π_{4} Π_{2} Pd$"
      ],
      "text/plain": [
       "-2.05817102727149⋅Π₂⋅Π₀⋅Π₂⋅Pd + 2.49830806579309⋅Π₂⋅Π₀⋅Π₂⋅Π₀⋅Pd + 2.7703277153\n",
       "0715⋅Π₂⋅Π₀⋅Π₂⋅Π₄⋅Pd - 4.82849874257864⋅Π₂⋅Π₀⋅Π₂⋅Π₄⋅Π₁⋅Pd - 1.15229372655726⋅Π₂\n",
       "⋅Π₀⋅Π₂⋅Π₄⋅Π₂⋅Pd"
      ]
     },
     "metadata": {},
     "output_type": "display_data"
    },
    {
     "name": "stdout",
     "output_type": "stream",
     "text": [
      "Going in\n",
      "-2.05817102727149*Π_2*Π_0*Π_2*Pd\n",
      "(-2.05817102727149, Π_2, Π_0, Π_2, Pd)\n",
      "printing res \n",
      "[Π_2*Π_0*Π_2, Pd, -2.05817102727149]\n",
      "Going in\n",
      "2.77032771530715*Π_2*Π_0*Π_2*Π_4*Pd\n",
      "(2.77032771530715, Π_2, Π_0, Π_2, Π_4, Pd)\n",
      "printing res \n",
      "[Π_2*Π_0*Π_2, Π_4*Pd, 2.77032771530715]\n",
      "Going in\n",
      "2.49830806579309*Π_2*Π_0*Π_2*Π_0*Pd\n",
      "(2.49830806579309, Π_2, Π_0, Π_2, Π_0, Pd)\n",
      "printing res \n",
      "[Π_2*Π_0*Π_2, Π_0*Pd, 2.49830806579309]\n",
      "Going in\n",
      "-1.15229372655726*Π_2*Π_0*Π_2*Π_4*Π_2*Pd\n",
      "(-1.15229372655726, Π_2, Π_0, Π_2, Π_4, Π_2, Pd)\n",
      "printing res \n",
      "[Π_2*Π_0*Π_2, Π_4*Π_2*Pd, -1.15229372655726]\n",
      "Going in\n",
      "-4.82849874257864*Π_2*Π_0*Π_2*Π_4*Π_1*Pd\n",
      "(-4.82849874257864, Π_2, Π_0, Π_2, Π_4, Π_1, Pd)\n",
      "printing res \n",
      "[Π_2*Π_0*Π_2, Π_4*Π_1*Pd, -4.82849874257864]\n",
      "the expression\n"
     ]
    },
    {
     "data": {
      "text/latex": [
       "$\\displaystyle - 2.05817102727149 Π_{2} Π_{0} Π_{2} + 2.49830806579309 Π_{2} Π_{0} Π_{2} Π_{0} + 2.77032771530715 Π_{2} Π_{0} Π_{2} Π_{4} - 4.82849874257864 Π_{2} Π_{0} Π_{2} Π_{4} Π_{1} - 1.15229372655726 Π_{2} Π_{0} Π_{2} Π_{4} Π_{2}$"
      ],
      "text/plain": [
       "-2.05817102727149⋅Π₂⋅Π₀⋅Π₂ + 2.49830806579309⋅Π₂⋅Π₀⋅Π₂⋅Π₀ + 2.77032771530715⋅Π\n",
       "₂⋅Π₀⋅Π₂⋅Π₄ - 4.82849874257864⋅Π₂⋅Π₀⋅Π₂⋅Π₄⋅Π₁ - 1.15229372655726⋅Π₂⋅Π₀⋅Π₂⋅Π₄⋅Π₂"
      ]
     },
     "metadata": {},
     "output_type": "display_data"
    },
    {
     "name": "stdout",
     "output_type": "stream",
     "text": [
      "Going in\n",
      "-2.05817102727149*Π_2*Π_0*Π_2\n",
      "(-2.05817102727149, Π_2, Π_0, Π_2)\n",
      "printing res \n",
      "[Π_2*Π_0*Π_2, 1, -2.05817102727149]\n",
      "Going in\n",
      "2.77032771530715*Π_2*Π_0*Π_2*Π_4\n",
      "(2.77032771530715, Π_2, Π_0, Π_2, Π_4)\n",
      "printing res \n",
      "[Π_2*Π_0*Π_2, Π_4, 2.77032771530715]\n",
      "Going in\n",
      "2.49830806579309*Π_2*Π_0*Π_2*Π_0\n",
      "(2.49830806579309, Π_2, Π_0, Π_2, Π_0)\n",
      "printing res \n",
      "[Π_2*Π_0*Π_2, Π_0, 2.49830806579309]\n",
      "Going in\n",
      "-1.15229372655726*Π_2*Π_0*Π_2*Π_4*Π_2\n",
      "(-1.15229372655726, Π_2, Π_0, Π_2, Π_4, Π_2)\n",
      "printing res \n",
      "[Π_2*Π_0*Π_2, Π_4*Π_2, -1.15229372655726]\n",
      "Going in\n",
      "-4.82849874257864*Π_2*Π_0*Π_2*Π_4*Π_1\n",
      "(-4.82849874257864, Π_2, Π_0, Π_2, Π_4, Π_1)\n",
      "printing res \n",
      "[Π_2*Π_0*Π_2, Π_4*Π_1, -4.82849874257864]\n",
      "the expression\n"
     ]
    },
    {
     "data": {
      "text/latex": [
       "$\\displaystyle 0.440137038521599 Π_{2} Π_{0} Π_{2} Π_{0} - 1.15229372655726 Π_{2} Π_{0} Π_{2} Π_{4} Π_{2} Π_{0}$"
      ],
      "text/plain": [
       "0.440137038521599⋅Π₂⋅Π₀⋅Π₂⋅Π₀ - 1.15229372655726⋅Π₂⋅Π₀⋅Π₂⋅Π₄⋅Π₂⋅Π₀"
      ]
     },
     "metadata": {},
     "output_type": "display_data"
    },
    {
     "name": "stdout",
     "output_type": "stream",
     "text": [
      "Going in\n",
      "0.440137038521599*Π_2*Π_0*Π_2*Π_0\n",
      "(0.440137038521599, Π_2, Π_0, Π_2, Π_0)\n",
      "printing res \n",
      "[Π_2*Π_0*Π_2, Π_0, 0.440137038521599]\n",
      "Going in\n",
      "-1.15229372655726*Π_2*Π_0*Π_2*Π_4*Π_2*Π_0\n",
      "(-1.15229372655726, Π_2, Π_0, Π_2, Π_4, Π_2, Π_0)\n",
      "printing res \n",
      "[Π_2*Π_0*Π_2, Π_4*Π_2*Π_0, -1.15229372655726]\n",
      "the expression\n"
     ]
    },
    {
     "data": {
      "text/latex": [
       "$\\displaystyle - 2.05817102727149 Π_{2} Π_{0} Π_{2} Π_{4} Π_{1}$"
      ],
      "text/plain": [
       "-2.05817102727149⋅Π₂⋅Π₀⋅Π₂⋅Π₄⋅Π₁"
      ]
     },
     "metadata": {},
     "output_type": "display_data"
    },
    {
     "name": "stdout",
     "output_type": "stream",
     "text": [
      "-2.05817102727149*Π_2*Π_0*Π_2*Π_4*Π_1\n",
      "(-2.05817102727149, Π_2, Π_0, Π_2, Π_4, Π_1)\n",
      "printing res \n",
      "[Π_2*Π_0*Π_2, Π_4*Π_1, -2.05817102727149]\n",
      "the expression\n"
     ]
    },
    {
     "data": {
      "text/latex": [
       "$\\displaystyle - 2.05817102727149 Π_{2} Π_{0} Π_{2} + 2.49830806579309 Π_{2} Π_{0} Π_{2} Π_{0} Π_{2} + 1.6180339887499 Π_{2} Π_{0} Π_{2} Π_{4} Π_{2}$"
      ],
      "text/plain": [
       "-2.05817102727149⋅Π₂⋅Π₀⋅Π₂ + 2.49830806579309⋅Π₂⋅Π₀⋅Π₂⋅Π₀⋅Π₂ + 1.6180339887499\n",
       "⋅Π₂⋅Π₀⋅Π₂⋅Π₄⋅Π₂"
      ]
     },
     "metadata": {},
     "output_type": "display_data"
    },
    {
     "name": "stdout",
     "output_type": "stream",
     "text": [
      "Going in\n",
      "-2.05817102727149*Π_2*Π_0*Π_2\n",
      "(-2.05817102727149, Π_2, Π_0, Π_2)\n",
      "printing res \n",
      "[Π_2*Π_0*Π_2, 1, -2.05817102727149]\n",
      "Going in\n",
      "1.6180339887499*Π_2*Π_0*Π_2*Π_4*Π_2\n",
      "(1.61803398874990, Π_2, Π_0, Π_2, Π_4, Π_2)\n",
      "printing res \n",
      "[Π_2*Π_0*Π_2, Π_4*Π_2, 1.61803398874990]\n",
      "Going in\n",
      "2.49830806579309*Π_2*Π_0*Π_2*Π_0*Π_2\n",
      "(2.49830806579309, Π_2, Π_0, Π_2, Π_0, Π_2)\n",
      "printing res \n",
      "[Π_2*Π_0*Π_2, Π_0*Π_2, 2.49830806579309]\n",
      "the expression\n"
     ]
    },
    {
     "data": {
      "text/latex": [
       "$\\displaystyle 2.49830806579309 Π_{2} Π_{0} Π_{2} Π_{0} Π_{3} - 4.82849874257864 Π_{2} Π_{0} Π_{2} Π_{4} Π_{1} Π_{3}$"
      ],
      "text/plain": [
       "2.49830806579309⋅Π₂⋅Π₀⋅Π₂⋅Π₀⋅Π₃ - 4.82849874257864⋅Π₂⋅Π₀⋅Π₂⋅Π₄⋅Π₁⋅Π₃"
      ]
     },
     "metadata": {},
     "output_type": "display_data"
    },
    {
     "name": "stdout",
     "output_type": "stream",
     "text": [
      "Going in\n",
      "2.49830806579309*Π_2*Π_0*Π_2*Π_0*Π_3\n",
      "(2.49830806579309, Π_2, Π_0, Π_2, Π_0, Π_3)\n",
      "printing res \n",
      "[Π_2*Π_0*Π_2, Π_0*Π_3, 2.49830806579309]\n",
      "Going in\n",
      "-4.82849874257864*Π_2*Π_0*Π_2*Π_4*Π_1*Π_3\n",
      "(-4.82849874257864, Π_2, Π_0, Π_2, Π_4, Π_1, Π_3)\n",
      "printing res \n",
      "[Π_2*Π_0*Π_2, Π_4*Π_1*Π_3, -4.82849874257864]\n",
      "the expression\n"
     ]
    },
    {
     "data": {
      "text/latex": [
       "$\\displaystyle 0.712156688035661 Π_{2} Π_{0} Π_{2} Π_{4} - 4.82849874257864 Π_{2} Π_{0} Π_{2} Π_{4} Π_{1} Π_{4} - 1.15229372655726 Π_{2} Π_{0} Π_{2} Π_{4} Π_{2} Π_{4}$"
      ],
      "text/plain": [
       "0.712156688035661⋅Π₂⋅Π₀⋅Π₂⋅Π₄ - 4.82849874257864⋅Π₂⋅Π₀⋅Π₂⋅Π₄⋅Π₁⋅Π₄ - 1.1522937\n",
       "2655726⋅Π₂⋅Π₀⋅Π₂⋅Π₄⋅Π₂⋅Π₄"
      ]
     },
     "metadata": {},
     "output_type": "display_data"
    },
    {
     "name": "stdout",
     "output_type": "stream",
     "text": [
      "Going in\n",
      "0.712156688035661*Π_2*Π_0*Π_2*Π_4\n",
      "(0.712156688035661, Π_2, Π_0, Π_2, Π_4)\n",
      "printing res \n",
      "[Π_2*Π_0*Π_2, Π_4, 0.712156688035661]\n",
      "Going in\n",
      "-1.15229372655726*Π_2*Π_0*Π_2*Π_4*Π_2*Π_4\n",
      "(-1.15229372655726, Π_2, Π_0, Π_2, Π_4, Π_2, Π_4)\n",
      "printing res \n",
      "[Π_2*Π_0*Π_2, Π_4*Π_2*Π_4, -1.15229372655726]\n",
      "Going in\n",
      "-4.82849874257864*Π_2*Π_0*Π_2*Π_4*Π_1*Π_4\n",
      "(-4.82849874257864, Π_2, Π_0, Π_2, Π_4, Π_1, Π_4)\n",
      "printing res \n",
      "[Π_2*Π_0*Π_2, Π_4*Π_1*Π_4, -4.82849874257864]\n",
      "the expression\n"
     ]
    },
    {
     "data": {
      "text/latex": [
       "$\\displaystyle - 2.05817102727149 Π_{2} Π_{0} Π_{2} P + 2.49830806579309 Π_{2} Π_{0} Π_{2} Π_{0} P + 2.77032771530715 Π_{2} Π_{0} Π_{2} Π_{4} P - 4.82849874257864 Π_{2} Π_{0} Π_{2} Π_{4} Π_{1} P - 1.15229372655726 Π_{2} Π_{0} Π_{2} Π_{4} Π_{2} P$"
      ],
      "text/plain": [
       "-2.05817102727149⋅Π₂⋅Π₀⋅Π₂⋅P + 2.49830806579309⋅Π₂⋅Π₀⋅Π₂⋅Π₀⋅P + 2.770327715307\n",
       "15⋅Π₂⋅Π₀⋅Π₂⋅Π₄⋅P - 4.82849874257864⋅Π₂⋅Π₀⋅Π₂⋅Π₄⋅Π₁⋅P - 1.15229372655726⋅Π₂⋅Π₀⋅\n",
       "Π₂⋅Π₄⋅Π₂⋅P"
      ]
     },
     "metadata": {},
     "output_type": "display_data"
    },
    {
     "name": "stdout",
     "output_type": "stream",
     "text": [
      "Going in\n",
      "-2.05817102727149*Π_2*Π_0*Π_2*P\n",
      "(-2.05817102727149, Π_2, Π_0, Π_2, P)\n",
      "printing res \n",
      "[Π_2*Π_0*Π_2, P, -2.05817102727149]\n",
      "Going in\n",
      "2.77032771530715*Π_2*Π_0*Π_2*Π_4*P\n",
      "(2.77032771530715, Π_2, Π_0, Π_2, Π_4, P)\n",
      "printing res \n",
      "[Π_2*Π_0*Π_2, Π_4*P, 2.77032771530715]\n",
      "Going in\n",
      "2.49830806579309*Π_2*Π_0*Π_2*Π_0*P\n",
      "(2.49830806579309, Π_2, Π_0, Π_2, Π_0, P)\n",
      "printing res \n",
      "[Π_2*Π_0*Π_2, Π_0*P, 2.49830806579309]\n",
      "Going in\n",
      "-1.15229372655726*Π_2*Π_0*Π_2*Π_4*Π_2*P\n",
      "(-1.15229372655726, Π_2, Π_0, Π_2, Π_4, Π_2, P)\n",
      "printing res \n",
      "[Π_2*Π_0*Π_2, Π_4*Π_2*P, -1.15229372655726]\n",
      "Going in\n",
      "-4.82849874257864*Π_2*Π_0*Π_2*Π_4*Π_1*P\n",
      "(-4.82849874257864, Π_2, Π_0, Π_2, Π_4, Π_1, P)\n",
      "printing res \n",
      "[Π_2*Π_0*Π_2, Π_4*Π_1*P, -4.82849874257864]\n",
      "the expression\n"
     ]
    },
    {
     "data": {
      "text/latex": [
       "$\\displaystyle - 2.05817102727149 Π_{2} Π_{0} Π_{2} Pd + 2.49830806579309 Π_{2} Π_{0} Π_{2} Π_{0} Pd + 2.77032771530715 Π_{2} Π_{0} Π_{2} Π_{4} Pd - 4.82849874257864 Π_{2} Π_{0} Π_{2} Π_{4} Π_{1} Pd - 1.15229372655726 Π_{2} Π_{0} Π_{2} Π_{4} Π_{2} Pd$"
      ],
      "text/plain": [
       "-2.05817102727149⋅Π₂⋅Π₀⋅Π₂⋅Pd + 2.49830806579309⋅Π₂⋅Π₀⋅Π₂⋅Π₀⋅Pd + 2.7703277153\n",
       "0715⋅Π₂⋅Π₀⋅Π₂⋅Π₄⋅Pd - 4.82849874257864⋅Π₂⋅Π₀⋅Π₂⋅Π₄⋅Π₁⋅Pd - 1.15229372655726⋅Π₂\n",
       "⋅Π₀⋅Π₂⋅Π₄⋅Π₂⋅Pd"
      ]
     },
     "metadata": {},
     "output_type": "display_data"
    },
    {
     "name": "stdout",
     "output_type": "stream",
     "text": [
      "Going in\n",
      "-2.05817102727149*Π_2*Π_0*Π_2*Pd\n",
      "(-2.05817102727149, Π_2, Π_0, Π_2, Pd)\n",
      "printing res \n",
      "[Π_2*Π_0*Π_2, Pd, -2.05817102727149]\n",
      "Going in\n",
      "2.77032771530715*Π_2*Π_0*Π_2*Π_4*Pd\n",
      "(2.77032771530715, Π_2, Π_0, Π_2, Π_4, Pd)\n",
      "printing res \n",
      "[Π_2*Π_0*Π_2, Π_4*Pd, 2.77032771530715]\n",
      "Going in\n",
      "2.49830806579309*Π_2*Π_0*Π_2*Π_0*Pd\n",
      "(2.49830806579309, Π_2, Π_0, Π_2, Π_0, Pd)\n",
      "printing res \n",
      "[Π_2*Π_0*Π_2, Π_0*Pd, 2.49830806579309]\n",
      "Going in\n",
      "-1.15229372655726*Π_2*Π_0*Π_2*Π_4*Π_2*Pd\n",
      "(-1.15229372655726, Π_2, Π_0, Π_2, Π_4, Π_2, Pd)\n",
      "printing res \n",
      "[Π_2*Π_0*Π_2, Π_4*Π_2*Pd, -1.15229372655726]\n",
      "Going in\n",
      "-4.82849874257864*Π_2*Π_0*Π_2*Π_4*Π_1*Pd\n",
      "(-4.82849874257864, Π_2, Π_0, Π_2, Π_4, Π_1, Pd)\n",
      "printing res \n",
      "[Π_2*Π_0*Π_2, Π_4*Π_1*Pd, -4.82849874257864]\n",
      "the expression\n"
     ]
    },
    {
     "data": {
      "text/latex": [
       "$\\displaystyle - 2.05817102727149 Π_{2} Π_{0} Π_{2} + 2.49830806579309 Π_{2} Π_{0} Π_{2} Π_{0} + 2.77032771530715 Π_{2} Π_{0} Π_{2} Π_{4} - 4.82849874257864 Π_{2} Π_{0} Π_{2} Π_{4} Π_{1} - 1.15229372655726 Π_{2} Π_{0} Π_{2} Π_{4} Π_{2}$"
      ],
      "text/plain": [
       "-2.05817102727149⋅Π₂⋅Π₀⋅Π₂ + 2.49830806579309⋅Π₂⋅Π₀⋅Π₂⋅Π₀ + 2.77032771530715⋅Π\n",
       "₂⋅Π₀⋅Π₂⋅Π₄ - 4.82849874257864⋅Π₂⋅Π₀⋅Π₂⋅Π₄⋅Π₁ - 1.15229372655726⋅Π₂⋅Π₀⋅Π₂⋅Π₄⋅Π₂"
      ]
     },
     "metadata": {},
     "output_type": "display_data"
    },
    {
     "name": "stdout",
     "output_type": "stream",
     "text": [
      "Going in\n",
      "-2.05817102727149*Π_2*Π_0*Π_2\n",
      "(-2.05817102727149, Π_2, Π_0, Π_2)\n",
      "printing res \n",
      "[Π_2*Π_0*Π_2, 1, -2.05817102727149]\n",
      "Going in\n",
      "2.77032771530715*Π_2*Π_0*Π_2*Π_4\n",
      "(2.77032771530715, Π_2, Π_0, Π_2, Π_4)\n",
      "printing res \n",
      "[Π_2*Π_0*Π_2, Π_4, 2.77032771530715]\n",
      "Going in\n",
      "2.49830806579309*Π_2*Π_0*Π_2*Π_0\n",
      "(2.49830806579309, Π_2, Π_0, Π_2, Π_0)\n",
      "printing res \n",
      "[Π_2*Π_0*Π_2, Π_0, 2.49830806579309]\n",
      "Going in\n",
      "-1.15229372655726*Π_2*Π_0*Π_2*Π_4*Π_2\n",
      "(-1.15229372655726, Π_2, Π_0, Π_2, Π_4, Π_2)\n",
      "printing res \n",
      "[Π_2*Π_0*Π_2, Π_4*Π_2, -1.15229372655726]\n",
      "Going in\n",
      "-4.82849874257864*Π_2*Π_0*Π_2*Π_4*Π_1\n",
      "(-4.82849874257864, Π_2, Π_0, Π_2, Π_4, Π_1)\n",
      "printing res \n",
      "[Π_2*Π_0*Π_2, Π_4*Π_1, -4.82849874257864]\n",
      "the expression\n"
     ]
    },
    {
     "data": {
      "text/latex": [
       "$\\displaystyle 0.440137038521599 Π_{2} Π_{0} Π_{2} Π_{0} - 1.15229372655726 Π_{2} Π_{0} Π_{2} Π_{4} Π_{2} Π_{0}$"
      ],
      "text/plain": [
       "0.440137038521599⋅Π₂⋅Π₀⋅Π₂⋅Π₀ - 1.15229372655726⋅Π₂⋅Π₀⋅Π₂⋅Π₄⋅Π₂⋅Π₀"
      ]
     },
     "metadata": {},
     "output_type": "display_data"
    },
    {
     "name": "stdout",
     "output_type": "stream",
     "text": [
      "Going in\n",
      "0.440137038521599*Π_2*Π_0*Π_2*Π_0\n",
      "(0.440137038521599, Π_2, Π_0, Π_2, Π_0)\n",
      "printing res \n",
      "[Π_2*Π_0*Π_2, Π_0, 0.440137038521599]\n",
      "Going in\n",
      "-1.15229372655726*Π_2*Π_0*Π_2*Π_4*Π_2*Π_0\n",
      "(-1.15229372655726, Π_2, Π_0, Π_2, Π_4, Π_2, Π_0)\n",
      "printing res \n",
      "[Π_2*Π_0*Π_2, Π_4*Π_2*Π_0, -1.15229372655726]\n",
      "the expression\n"
     ]
    },
    {
     "data": {
      "text/latex": [
       "$\\displaystyle - 2.05817102727149 Π_{2} Π_{0} Π_{2} Π_{4} Π_{1}$"
      ],
      "text/plain": [
       "-2.05817102727149⋅Π₂⋅Π₀⋅Π₂⋅Π₄⋅Π₁"
      ]
     },
     "metadata": {},
     "output_type": "display_data"
    },
    {
     "name": "stdout",
     "output_type": "stream",
     "text": [
      "-2.05817102727149*Π_2*Π_0*Π_2*Π_4*Π_1\n",
      "(-2.05817102727149, Π_2, Π_0, Π_2, Π_4, Π_1)\n",
      "printing res \n",
      "[Π_2*Π_0*Π_2, Π_4*Π_1, -2.05817102727149]\n",
      "the expression\n"
     ]
    },
    {
     "data": {
      "text/latex": [
       "$\\displaystyle - 2.05817102727149 Π_{2} Π_{0} Π_{2} + 2.49830806579309 Π_{2} Π_{0} Π_{2} Π_{0} Π_{2} + 1.6180339887499 Π_{2} Π_{0} Π_{2} Π_{4} Π_{2}$"
      ],
      "text/plain": [
       "-2.05817102727149⋅Π₂⋅Π₀⋅Π₂ + 2.49830806579309⋅Π₂⋅Π₀⋅Π₂⋅Π₀⋅Π₂ + 1.6180339887499\n",
       "⋅Π₂⋅Π₀⋅Π₂⋅Π₄⋅Π₂"
      ]
     },
     "metadata": {},
     "output_type": "display_data"
    },
    {
     "name": "stdout",
     "output_type": "stream",
     "text": [
      "Going in\n",
      "-2.05817102727149*Π_2*Π_0*Π_2\n",
      "(-2.05817102727149, Π_2, Π_0, Π_2)\n",
      "printing res \n",
      "[Π_2*Π_0*Π_2, 1, -2.05817102727149]\n",
      "Going in\n",
      "1.6180339887499*Π_2*Π_0*Π_2*Π_4*Π_2\n",
      "(1.61803398874990, Π_2, Π_0, Π_2, Π_4, Π_2)\n",
      "printing res \n",
      "[Π_2*Π_0*Π_2, Π_4*Π_2, 1.61803398874990]\n",
      "Going in\n",
      "2.49830806579309*Π_2*Π_0*Π_2*Π_0*Π_2\n",
      "(2.49830806579309, Π_2, Π_0, Π_2, Π_0, Π_2)\n",
      "printing res \n",
      "[Π_2*Π_0*Π_2, Π_0*Π_2, 2.49830806579309]\n",
      "the expression\n"
     ]
    },
    {
     "data": {
      "text/latex": [
       "$\\displaystyle 2.49830806579309 Π_{2} Π_{0} Π_{2} Π_{0} Π_{3} - 4.82849874257864 Π_{2} Π_{0} Π_{2} Π_{4} Π_{1} Π_{3}$"
      ],
      "text/plain": [
       "2.49830806579309⋅Π₂⋅Π₀⋅Π₂⋅Π₀⋅Π₃ - 4.82849874257864⋅Π₂⋅Π₀⋅Π₂⋅Π₄⋅Π₁⋅Π₃"
      ]
     },
     "metadata": {},
     "output_type": "display_data"
    },
    {
     "name": "stdout",
     "output_type": "stream",
     "text": [
      "Going in\n",
      "2.49830806579309*Π_2*Π_0*Π_2*Π_0*Π_3\n",
      "(2.49830806579309, Π_2, Π_0, Π_2, Π_0, Π_3)\n",
      "printing res \n",
      "[Π_2*Π_0*Π_2, Π_0*Π_3, 2.49830806579309]\n",
      "Going in\n",
      "-4.82849874257864*Π_2*Π_0*Π_2*Π_4*Π_1*Π_3\n",
      "(-4.82849874257864, Π_2, Π_0, Π_2, Π_4, Π_1, Π_3)\n",
      "printing res \n",
      "[Π_2*Π_0*Π_2, Π_4*Π_1*Π_3, -4.82849874257864]\n",
      "the expression\n"
     ]
    },
    {
     "data": {
      "text/latex": [
       "$\\displaystyle 0.712156688035661 Π_{2} Π_{0} Π_{2} Π_{4} - 4.82849874257864 Π_{2} Π_{0} Π_{2} Π_{4} Π_{1} Π_{4} - 1.15229372655726 Π_{2} Π_{0} Π_{2} Π_{4} Π_{2} Π_{4}$"
      ],
      "text/plain": [
       "0.712156688035661⋅Π₂⋅Π₀⋅Π₂⋅Π₄ - 4.82849874257864⋅Π₂⋅Π₀⋅Π₂⋅Π₄⋅Π₁⋅Π₄ - 1.1522937\n",
       "2655726⋅Π₂⋅Π₀⋅Π₂⋅Π₄⋅Π₂⋅Π₄"
      ]
     },
     "metadata": {},
     "output_type": "display_data"
    },
    {
     "name": "stdout",
     "output_type": "stream",
     "text": [
      "Going in\n",
      "0.712156688035661*Π_2*Π_0*Π_2*Π_4\n",
      "(0.712156688035661, Π_2, Π_0, Π_2, Π_4)\n",
      "printing res \n",
      "[Π_2*Π_0*Π_2, Π_4, 0.712156688035661]\n",
      "Going in\n",
      "-1.15229372655726*Π_2*Π_0*Π_2*Π_4*Π_2*Π_4\n",
      "(-1.15229372655726, Π_2, Π_0, Π_2, Π_4, Π_2, Π_4)\n",
      "printing res \n",
      "[Π_2*Π_0*Π_2, Π_4*Π_2*Π_4, -1.15229372655726]\n",
      "Going in\n",
      "-4.82849874257864*Π_2*Π_0*Π_2*Π_4*Π_1*Π_4\n",
      "(-4.82849874257864, Π_2, Π_0, Π_2, Π_4, Π_1, Π_4)\n",
      "printing res \n",
      "[Π_2*Π_0*Π_2, Π_4*Π_1*Π_4, -4.82849874257864]\n",
      "the expression\n"
     ]
    },
    {
     "data": {
      "text/latex": [
       "$\\displaystyle - 2.05817102727149 Π_{2} Π_{0} Π_{2} P + 2.49830806579309 Π_{2} Π_{0} Π_{2} Π_{0} P + 2.77032771530715 Π_{2} Π_{0} Π_{2} Π_{4} P - 4.82849874257864 Π_{2} Π_{0} Π_{2} Π_{4} Π_{1} P - 1.15229372655726 Π_{2} Π_{0} Π_{2} Π_{4} Π_{2} P$"
      ],
      "text/plain": [
       "-2.05817102727149⋅Π₂⋅Π₀⋅Π₂⋅P + 2.49830806579309⋅Π₂⋅Π₀⋅Π₂⋅Π₀⋅P + 2.770327715307\n",
       "15⋅Π₂⋅Π₀⋅Π₂⋅Π₄⋅P - 4.82849874257864⋅Π₂⋅Π₀⋅Π₂⋅Π₄⋅Π₁⋅P - 1.15229372655726⋅Π₂⋅Π₀⋅\n",
       "Π₂⋅Π₄⋅Π₂⋅P"
      ]
     },
     "metadata": {},
     "output_type": "display_data"
    },
    {
     "name": "stdout",
     "output_type": "stream",
     "text": [
      "Going in\n",
      "-2.05817102727149*Π_2*Π_0*Π_2*P\n",
      "(-2.05817102727149, Π_2, Π_0, Π_2, P)\n",
      "printing res \n",
      "[Π_2*Π_0*Π_2, P, -2.05817102727149]\n",
      "Going in\n",
      "2.77032771530715*Π_2*Π_0*Π_2*Π_4*P\n",
      "(2.77032771530715, Π_2, Π_0, Π_2, Π_4, P)\n",
      "printing res \n",
      "[Π_2*Π_0*Π_2, Π_4*P, 2.77032771530715]\n",
      "Going in\n",
      "2.49830806579309*Π_2*Π_0*Π_2*Π_0*P\n",
      "(2.49830806579309, Π_2, Π_0, Π_2, Π_0, P)\n",
      "printing res \n",
      "[Π_2*Π_0*Π_2, Π_0*P, 2.49830806579309]\n",
      "Going in\n",
      "-1.15229372655726*Π_2*Π_0*Π_2*Π_4*Π_2*P\n",
      "(-1.15229372655726, Π_2, Π_0, Π_2, Π_4, Π_2, P)\n",
      "printing res \n",
      "[Π_2*Π_0*Π_2, Π_4*Π_2*P, -1.15229372655726]\n",
      "Going in\n",
      "-4.82849874257864*Π_2*Π_0*Π_2*Π_4*Π_1*P\n",
      "(-4.82849874257864, Π_2, Π_0, Π_2, Π_4, Π_1, P)\n",
      "printing res \n",
      "[Π_2*Π_0*Π_2, Π_4*Π_1*P, -4.82849874257864]\n",
      "the expression\n"
     ]
    },
    {
     "data": {
      "text/latex": [
       "$\\displaystyle - 2.05817102727149 Π_{2} Π_{0} Π_{2} Pd + 2.49830806579309 Π_{2} Π_{0} Π_{2} Π_{0} Pd + 2.77032771530715 Π_{2} Π_{0} Π_{2} Π_{4} Pd - 4.82849874257864 Π_{2} Π_{0} Π_{2} Π_{4} Π_{1} Pd - 1.15229372655726 Π_{2} Π_{0} Π_{2} Π_{4} Π_{2} Pd$"
      ],
      "text/plain": [
       "-2.05817102727149⋅Π₂⋅Π₀⋅Π₂⋅Pd + 2.49830806579309⋅Π₂⋅Π₀⋅Π₂⋅Π₀⋅Pd + 2.7703277153\n",
       "0715⋅Π₂⋅Π₀⋅Π₂⋅Π₄⋅Pd - 4.82849874257864⋅Π₂⋅Π₀⋅Π₂⋅Π₄⋅Π₁⋅Pd - 1.15229372655726⋅Π₂\n",
       "⋅Π₀⋅Π₂⋅Π₄⋅Π₂⋅Pd"
      ]
     },
     "metadata": {},
     "output_type": "display_data"
    },
    {
     "name": "stdout",
     "output_type": "stream",
     "text": [
      "Going in\n",
      "-2.05817102727149*Π_2*Π_0*Π_2*Pd\n",
      "(-2.05817102727149, Π_2, Π_0, Π_2, Pd)\n",
      "printing res \n",
      "[Π_2*Π_0*Π_2, Pd, -2.05817102727149]\n",
      "Going in\n",
      "2.77032771530715*Π_2*Π_0*Π_2*Π_4*Pd\n",
      "(2.77032771530715, Π_2, Π_0, Π_2, Π_4, Pd)\n",
      "printing res \n",
      "[Π_2*Π_0*Π_2, Π_4*Pd, 2.77032771530715]\n",
      "Going in\n",
      "2.49830806579309*Π_2*Π_0*Π_2*Π_0*Pd\n",
      "(2.49830806579309, Π_2, Π_0, Π_2, Π_0, Pd)\n",
      "printing res \n",
      "[Π_2*Π_0*Π_2, Π_0*Pd, 2.49830806579309]\n",
      "Going in\n",
      "-1.15229372655726*Π_2*Π_0*Π_2*Π_4*Π_2*Pd\n",
      "(-1.15229372655726, Π_2, Π_0, Π_2, Π_4, Π_2, Pd)\n",
      "printing res \n",
      "[Π_2*Π_0*Π_2, Π_4*Π_2*Pd, -1.15229372655726]\n",
      "Going in\n",
      "-4.82849874257864*Π_2*Π_0*Π_2*Π_4*Π_1*Pd\n",
      "(-4.82849874257864, Π_2, Π_0, Π_2, Π_4, Π_1, Pd)\n",
      "printing res \n",
      "[Π_2*Π_0*Π_2, Π_4*Π_1*Pd, -4.82849874257864]\n",
      "the expression\n"
     ]
    },
    {
     "data": {
      "text/latex": [
       "$\\displaystyle - 2.05817102727149 Π_{2} Π_{0} Π_{2} + 2.49830806579309 Π_{2} Π_{0} Π_{2} Π_{0} + 2.77032771530715 Π_{2} Π_{0} Π_{2} Π_{4} - 4.82849874257864 Π_{2} Π_{0} Π_{2} Π_{4} Π_{1} - 1.15229372655726 Π_{2} Π_{0} Π_{2} Π_{4} Π_{2}$"
      ],
      "text/plain": [
       "-2.05817102727149⋅Π₂⋅Π₀⋅Π₂ + 2.49830806579309⋅Π₂⋅Π₀⋅Π₂⋅Π₀ + 2.77032771530715⋅Π\n",
       "₂⋅Π₀⋅Π₂⋅Π₄ - 4.82849874257864⋅Π₂⋅Π₀⋅Π₂⋅Π₄⋅Π₁ - 1.15229372655726⋅Π₂⋅Π₀⋅Π₂⋅Π₄⋅Π₂"
      ]
     },
     "metadata": {},
     "output_type": "display_data"
    },
    {
     "name": "stdout",
     "output_type": "stream",
     "text": [
      "Going in\n",
      "-2.05817102727149*Π_2*Π_0*Π_2\n",
      "(-2.05817102727149, Π_2, Π_0, Π_2)\n",
      "printing res \n",
      "[Π_2*Π_0*Π_2, 1, -2.05817102727149]\n",
      "Going in\n",
      "2.77032771530715*Π_2*Π_0*Π_2*Π_4\n",
      "(2.77032771530715, Π_2, Π_0, Π_2, Π_4)\n",
      "printing res \n",
      "[Π_2*Π_0*Π_2, Π_4, 2.77032771530715]\n",
      "Going in\n",
      "2.49830806579309*Π_2*Π_0*Π_2*Π_0\n",
      "(2.49830806579309, Π_2, Π_0, Π_2, Π_0)\n",
      "printing res \n",
      "[Π_2*Π_0*Π_2, Π_0, 2.49830806579309]\n",
      "Going in\n",
      "-1.15229372655726*Π_2*Π_0*Π_2*Π_4*Π_2\n",
      "(-1.15229372655726, Π_2, Π_0, Π_2, Π_4, Π_2)\n",
      "printing res \n",
      "[Π_2*Π_0*Π_2, Π_4*Π_2, -1.15229372655726]\n",
      "Going in\n",
      "-4.82849874257864*Π_2*Π_0*Π_2*Π_4*Π_1\n",
      "(-4.82849874257864, Π_2, Π_0, Π_2, Π_4, Π_1)\n",
      "printing res \n",
      "[Π_2*Π_0*Π_2, Π_4*Π_1, -4.82849874257864]\n"
     ]
    },
    {
     "ename": "KeyboardInterrupt",
     "evalue": "",
     "output_type": "error",
     "traceback": [
      "\u001b[1;31m---------------------------------------------------------------------------\u001b[0m",
      "\u001b[1;31mKeyboardInterrupt\u001b[0m                         Traceback (most recent call last)",
      "\u001b[1;32m<ipython-input-181-9212879532f8>\u001b[0m in \u001b[0;36m<module>\u001b[1;34m\u001b[0m\n\u001b[0;32m      6\u001b[0m     \u001b[0mrow\u001b[0m \u001b[1;33m=\u001b[0m \u001b[1;33m[\u001b[0m\u001b[1;33m]\u001b[0m\u001b[1;33m\u001b[0m\u001b[1;33m\u001b[0m\u001b[0m\n\u001b[0;32m      7\u001b[0m     \u001b[1;32mfor\u001b[0m \u001b[0mlett2\u001b[0m \u001b[1;32min\u001b[0m \u001b[0mI\u001b[0m \u001b[1;33m+\u001b[0m \u001b[0mL1\u001b[0m\u001b[1;33m:\u001b[0m\u001b[1;33m\u001b[0m\u001b[1;33m\u001b[0m\u001b[0m\n\u001b[1;32m----> 8\u001b[1;33m         \u001b[0mexpr\u001b[0m \u001b[1;33m=\u001b[0m \u001b[0msp\u001b[0m\u001b[1;33m.\u001b[0m\u001b[0mexpand\u001b[0m\u001b[1;33m(\u001b[0m\u001b[0mlett1\u001b[0m\u001b[1;33m*\u001b[0m\u001b[0miKCBS\u001b[0m\u001b[1;33m.\u001b[0m\u001b[0m_T\u001b[0m\u001b[1;33m*\u001b[0m\u001b[0mlett2\u001b[0m\u001b[1;33m)\u001b[0m\u001b[1;33m.\u001b[0m\u001b[0msubs\u001b[0m\u001b[1;33m(\u001b[0m\u001b[0mgDicts\u001b[0m\u001b[1;33m)\u001b[0m\u001b[1;33m.\u001b[0m\u001b[0msubs\u001b[0m\u001b[1;33m(\u001b[0m\u001b[0msqDicts\u001b[0m\u001b[1;33m)\u001b[0m\u001b[1;33m.\u001b[0m\u001b[0msubs\u001b[0m\u001b[1;33m(\u001b[0m\u001b[0mgDicts\u001b[0m\u001b[1;33m)\u001b[0m\u001b[1;33m.\u001b[0m\u001b[0msubs\u001b[0m\u001b[1;33m(\u001b[0m\u001b[0msqDicts\u001b[0m\u001b[1;33m)\u001b[0m\u001b[1;33m\u001b[0m\u001b[1;33m\u001b[0m\u001b[0m\n\u001b[0m\u001b[0;32m      9\u001b[0m         \u001b[0mprint\u001b[0m\u001b[1;33m(\u001b[0m\u001b[1;34m\"the expression\"\u001b[0m\u001b[1;33m)\u001b[0m\u001b[1;33m\u001b[0m\u001b[1;33m\u001b[0m\u001b[0m\n\u001b[0;32m     10\u001b[0m         \u001b[0mdisplay\u001b[0m\u001b[1;33m(\u001b[0m\u001b[0mexpr\u001b[0m\u001b[1;33m)\u001b[0m\u001b[1;33m\u001b[0m\u001b[1;33m\u001b[0m\u001b[0m\n",
      "\u001b[1;32m~\\.conda\\envs\\kish\\lib\\site-packages\\sympy\\core\\basic.py\u001b[0m in \u001b[0;36msubs\u001b[1;34m(self, *args, **kwargs)\u001b[0m\n\u001b[0;32m    995\u001b[0m             \u001b[0mrv\u001b[0m \u001b[1;33m=\u001b[0m \u001b[0mself\u001b[0m\u001b[1;33m\u001b[0m\u001b[1;33m\u001b[0m\u001b[0m\n\u001b[0;32m    996\u001b[0m             \u001b[1;32mfor\u001b[0m \u001b[0mold\u001b[0m\u001b[1;33m,\u001b[0m \u001b[0mnew\u001b[0m \u001b[1;32min\u001b[0m \u001b[0msequence\u001b[0m\u001b[1;33m:\u001b[0m\u001b[1;33m\u001b[0m\u001b[1;33m\u001b[0m\u001b[0m\n\u001b[1;32m--> 997\u001b[1;33m                 \u001b[0mrv\u001b[0m \u001b[1;33m=\u001b[0m \u001b[0mrv\u001b[0m\u001b[1;33m.\u001b[0m\u001b[0m_subs\u001b[0m\u001b[1;33m(\u001b[0m\u001b[0mold\u001b[0m\u001b[1;33m,\u001b[0m \u001b[0mnew\u001b[0m\u001b[1;33m,\u001b[0m \u001b[1;33m**\u001b[0m\u001b[0mkwargs\u001b[0m\u001b[1;33m)\u001b[0m\u001b[1;33m\u001b[0m\u001b[1;33m\u001b[0m\u001b[0m\n\u001b[0m\u001b[0;32m    998\u001b[0m                 \u001b[1;32mif\u001b[0m \u001b[1;32mnot\u001b[0m \u001b[0misinstance\u001b[0m\u001b[1;33m(\u001b[0m\u001b[0mrv\u001b[0m\u001b[1;33m,\u001b[0m \u001b[0mBasic\u001b[0m\u001b[1;33m)\u001b[0m\u001b[1;33m:\u001b[0m\u001b[1;33m\u001b[0m\u001b[1;33m\u001b[0m\u001b[0m\n\u001b[0;32m    999\u001b[0m                     \u001b[1;32mbreak\u001b[0m\u001b[1;33m\u001b[0m\u001b[1;33m\u001b[0m\u001b[0m\n",
      "\u001b[1;32m~\\.conda\\envs\\kish\\lib\\site-packages\\sympy\\core\\basic.py\u001b[0m in \u001b[0;36m_subs\u001b[1;34m(self, old, new, **hints)\u001b[0m\n\u001b[0;32m   1109\u001b[0m         \u001b[0mrv\u001b[0m \u001b[1;33m=\u001b[0m \u001b[0mself\u001b[0m\u001b[1;33m.\u001b[0m\u001b[0m_eval_subs\u001b[0m\u001b[1;33m(\u001b[0m\u001b[0mold\u001b[0m\u001b[1;33m,\u001b[0m \u001b[0mnew\u001b[0m\u001b[1;33m)\u001b[0m\u001b[1;33m\u001b[0m\u001b[1;33m\u001b[0m\u001b[0m\n\u001b[0;32m   1110\u001b[0m         \u001b[1;32mif\u001b[0m \u001b[0mrv\u001b[0m \u001b[1;32mis\u001b[0m \u001b[1;32mNone\u001b[0m\u001b[1;33m:\u001b[0m\u001b[1;33m\u001b[0m\u001b[1;33m\u001b[0m\u001b[0m\n\u001b[1;32m-> 1111\u001b[1;33m             \u001b[0mrv\u001b[0m \u001b[1;33m=\u001b[0m \u001b[0mfallback\u001b[0m\u001b[1;33m(\u001b[0m\u001b[0mself\u001b[0m\u001b[1;33m,\u001b[0m \u001b[0mold\u001b[0m\u001b[1;33m,\u001b[0m \u001b[0mnew\u001b[0m\u001b[1;33m)\u001b[0m\u001b[1;33m\u001b[0m\u001b[1;33m\u001b[0m\u001b[0m\n\u001b[0m\u001b[0;32m   1112\u001b[0m         \u001b[1;32mreturn\u001b[0m \u001b[0mrv\u001b[0m\u001b[1;33m\u001b[0m\u001b[1;33m\u001b[0m\u001b[0m\n\u001b[0;32m   1113\u001b[0m \u001b[1;33m\u001b[0m\u001b[0m\n",
      "\u001b[1;32m~\\.conda\\envs\\kish\\lib\\site-packages\\sympy\\core\\basic.py\u001b[0m in \u001b[0;36mfallback\u001b[1;34m(self, old, new)\u001b[0m\n\u001b[0;32m   1081\u001b[0m                 \u001b[1;32mif\u001b[0m \u001b[1;32mnot\u001b[0m \u001b[0mhasattr\u001b[0m\u001b[1;33m(\u001b[0m\u001b[0marg\u001b[0m\u001b[1;33m,\u001b[0m \u001b[1;34m'_eval_subs'\u001b[0m\u001b[1;33m)\u001b[0m\u001b[1;33m:\u001b[0m\u001b[1;33m\u001b[0m\u001b[1;33m\u001b[0m\u001b[0m\n\u001b[0;32m   1082\u001b[0m                     \u001b[1;32mcontinue\u001b[0m\u001b[1;33m\u001b[0m\u001b[1;33m\u001b[0m\u001b[0m\n\u001b[1;32m-> 1083\u001b[1;33m                 \u001b[0marg\u001b[0m \u001b[1;33m=\u001b[0m \u001b[0marg\u001b[0m\u001b[1;33m.\u001b[0m\u001b[0m_subs\u001b[0m\u001b[1;33m(\u001b[0m\u001b[0mold\u001b[0m\u001b[1;33m,\u001b[0m \u001b[0mnew\u001b[0m\u001b[1;33m,\u001b[0m \u001b[1;33m**\u001b[0m\u001b[0mhints\u001b[0m\u001b[1;33m)\u001b[0m\u001b[1;33m\u001b[0m\u001b[1;33m\u001b[0m\u001b[0m\n\u001b[0m\u001b[0;32m   1084\u001b[0m                 \u001b[1;32mif\u001b[0m \u001b[1;32mnot\u001b[0m \u001b[0m_aresame\u001b[0m\u001b[1;33m(\u001b[0m\u001b[0marg\u001b[0m\u001b[1;33m,\u001b[0m \u001b[0margs\u001b[0m\u001b[1;33m[\u001b[0m\u001b[0mi\u001b[0m\u001b[1;33m]\u001b[0m\u001b[1;33m)\u001b[0m\u001b[1;33m:\u001b[0m\u001b[1;33m\u001b[0m\u001b[1;33m\u001b[0m\u001b[0m\n\u001b[0;32m   1085\u001b[0m                     \u001b[0mhit\u001b[0m \u001b[1;33m=\u001b[0m \u001b[1;32mTrue\u001b[0m\u001b[1;33m\u001b[0m\u001b[1;33m\u001b[0m\u001b[0m\n",
      "\u001b[1;32m~\\.conda\\envs\\kish\\lib\\site-packages\\sympy\\core\\basic.py\u001b[0m in \u001b[0;36m_subs\u001b[1;34m(self, old, new, **hints)\u001b[0m\n\u001b[0;32m   1107\u001b[0m             \u001b[1;32mreturn\u001b[0m \u001b[0mnew\u001b[0m\u001b[1;33m\u001b[0m\u001b[1;33m\u001b[0m\u001b[0m\n\u001b[0;32m   1108\u001b[0m \u001b[1;33m\u001b[0m\u001b[0m\n\u001b[1;32m-> 1109\u001b[1;33m         \u001b[0mrv\u001b[0m \u001b[1;33m=\u001b[0m \u001b[0mself\u001b[0m\u001b[1;33m.\u001b[0m\u001b[0m_eval_subs\u001b[0m\u001b[1;33m(\u001b[0m\u001b[0mold\u001b[0m\u001b[1;33m,\u001b[0m \u001b[0mnew\u001b[0m\u001b[1;33m)\u001b[0m\u001b[1;33m\u001b[0m\u001b[1;33m\u001b[0m\u001b[0m\n\u001b[0m\u001b[0;32m   1110\u001b[0m         \u001b[1;32mif\u001b[0m \u001b[0mrv\u001b[0m \u001b[1;32mis\u001b[0m \u001b[1;32mNone\u001b[0m\u001b[1;33m:\u001b[0m\u001b[1;33m\u001b[0m\u001b[1;33m\u001b[0m\u001b[0m\n\u001b[0;32m   1111\u001b[0m             \u001b[0mrv\u001b[0m \u001b[1;33m=\u001b[0m \u001b[0mfallback\u001b[0m\u001b[1;33m(\u001b[0m\u001b[0mself\u001b[0m\u001b[1;33m,\u001b[0m \u001b[0mold\u001b[0m\u001b[1;33m,\u001b[0m \u001b[0mnew\u001b[0m\u001b[1;33m)\u001b[0m\u001b[1;33m\u001b[0m\u001b[1;33m\u001b[0m\u001b[0m\n",
      "\u001b[1;32m~\\.conda\\envs\\kish\\lib\\site-packages\\sympy\\core\\mul.py\u001b[0m in \u001b[0;36m_eval_subs\u001b[1;34m(self, old, new)\u001b[0m\n\u001b[0;32m   1465\u001b[0m         \u001b[1;31m# break self and old into factors\u001b[0m\u001b[1;33m\u001b[0m\u001b[1;33m\u001b[0m\u001b[1;33m\u001b[0m\u001b[0m\n\u001b[0;32m   1466\u001b[0m \u001b[1;33m\u001b[0m\u001b[0m\n\u001b[1;32m-> 1467\u001b[1;33m         \u001b[1;33m(\u001b[0m\u001b[0mc\u001b[0m\u001b[1;33m,\u001b[0m \u001b[0mnc\u001b[0m\u001b[1;33m)\u001b[0m \u001b[1;33m=\u001b[0m \u001b[0mbreakup\u001b[0m\u001b[1;33m(\u001b[0m\u001b[0mself2\u001b[0m\u001b[1;33m)\u001b[0m\u001b[1;33m\u001b[0m\u001b[1;33m\u001b[0m\u001b[0m\n\u001b[0m\u001b[0;32m   1468\u001b[0m         \u001b[1;33m(\u001b[0m\u001b[0mold_c\u001b[0m\u001b[1;33m,\u001b[0m \u001b[0mold_nc\u001b[0m\u001b[1;33m)\u001b[0m \u001b[1;33m=\u001b[0m \u001b[0mbreakup\u001b[0m\u001b[1;33m(\u001b[0m\u001b[0mold\u001b[0m\u001b[1;33m)\u001b[0m\u001b[1;33m\u001b[0m\u001b[1;33m\u001b[0m\u001b[0m\n\u001b[0;32m   1469\u001b[0m \u001b[1;33m\u001b[0m\u001b[0m\n",
      "\u001b[1;32m~\\.conda\\envs\\kish\\lib\\site-packages\\sympy\\core\\mul.py\u001b[0m in \u001b[0;36mbreakup\u001b[1;34m(eq)\u001b[0m\n\u001b[0;32m   1403\u001b[0m             \u001b[1;33m(\u001b[0m\u001b[0mc\u001b[0m\u001b[1;33m,\u001b[0m \u001b[0mnc\u001b[0m\u001b[1;33m)\u001b[0m \u001b[1;33m=\u001b[0m \u001b[1;33m(\u001b[0m\u001b[0mdefaultdict\u001b[0m\u001b[1;33m(\u001b[0m\u001b[0mint\u001b[0m\u001b[1;33m)\u001b[0m\u001b[1;33m,\u001b[0m \u001b[0mlist\u001b[0m\u001b[1;33m(\u001b[0m\u001b[1;33m)\u001b[0m\u001b[1;33m)\u001b[0m\u001b[1;33m\u001b[0m\u001b[1;33m\u001b[0m\u001b[0m\n\u001b[0;32m   1404\u001b[0m             \u001b[1;32mfor\u001b[0m \u001b[0ma\u001b[0m \u001b[1;32min\u001b[0m \u001b[0mMul\u001b[0m\u001b[1;33m.\u001b[0m\u001b[0mmake_args\u001b[0m\u001b[1;33m(\u001b[0m\u001b[0meq\u001b[0m\u001b[1;33m)\u001b[0m\u001b[1;33m:\u001b[0m\u001b[1;33m\u001b[0m\u001b[1;33m\u001b[0m\u001b[0m\n\u001b[1;32m-> 1405\u001b[1;33m                 \u001b[0ma\u001b[0m \u001b[1;33m=\u001b[0m \u001b[0mpowdenest\u001b[0m\u001b[1;33m(\u001b[0m\u001b[0ma\u001b[0m\u001b[1;33m)\u001b[0m\u001b[1;33m\u001b[0m\u001b[1;33m\u001b[0m\u001b[0m\n\u001b[0m\u001b[0;32m   1406\u001b[0m                 \u001b[1;33m(\u001b[0m\u001b[0mb\u001b[0m\u001b[1;33m,\u001b[0m \u001b[0me\u001b[0m\u001b[1;33m)\u001b[0m \u001b[1;33m=\u001b[0m \u001b[0mbase_exp\u001b[0m\u001b[1;33m(\u001b[0m\u001b[0ma\u001b[0m\u001b[1;33m)\u001b[0m\u001b[1;33m\u001b[0m\u001b[1;33m\u001b[0m\u001b[0m\n\u001b[0;32m   1407\u001b[0m                 \u001b[1;32mif\u001b[0m \u001b[0me\u001b[0m \u001b[1;32mis\u001b[0m \u001b[1;32mnot\u001b[0m \u001b[0mS\u001b[0m\u001b[1;33m.\u001b[0m\u001b[0mOne\u001b[0m\u001b[1;33m:\u001b[0m\u001b[1;33m\u001b[0m\u001b[1;33m\u001b[0m\u001b[0m\n",
      "\u001b[1;32m~\\.conda\\envs\\kish\\lib\\site-packages\\sympy\\simplify\\powsimp.py\u001b[0m in \u001b[0;36mpowdenest\u001b[1;34m(eq, force, polar)\u001b[0m\n\u001b[0;32m    582\u001b[0m         \u001b[1;32mreturn\u001b[0m \u001b[0munpolarify\u001b[0m\u001b[1;33m(\u001b[0m\u001b[0mpowdenest\u001b[0m\u001b[1;33m(\u001b[0m\u001b[0munpolarify\u001b[0m\u001b[1;33m(\u001b[0m\u001b[0meq\u001b[0m\u001b[1;33m,\u001b[0m \u001b[0mexponents_only\u001b[0m\u001b[1;33m=\u001b[0m\u001b[1;32mTrue\u001b[0m\u001b[1;33m)\u001b[0m\u001b[1;33m)\u001b[0m\u001b[1;33m,\u001b[0m \u001b[0mrep\u001b[0m\u001b[1;33m)\u001b[0m\u001b[1;33m\u001b[0m\u001b[1;33m\u001b[0m\u001b[0m\n\u001b[0;32m    583\u001b[0m \u001b[1;33m\u001b[0m\u001b[0m\n\u001b[1;32m--> 584\u001b[1;33m     \u001b[0mnew\u001b[0m \u001b[1;33m=\u001b[0m \u001b[0mpowsimp\u001b[0m\u001b[1;33m(\u001b[0m\u001b[0msympify\u001b[0m\u001b[1;33m(\u001b[0m\u001b[0meq\u001b[0m\u001b[1;33m)\u001b[0m\u001b[1;33m)\u001b[0m\u001b[1;33m\u001b[0m\u001b[1;33m\u001b[0m\u001b[0m\n\u001b[0m\u001b[0;32m    585\u001b[0m     return new.xreplace(Transform(\n\u001b[0;32m    586\u001b[0m         _denest_pow, filter=lambda m: m.is_Pow or isinstance(m, exp)))\n",
      "\u001b[1;32m~\\.conda\\envs\\kish\\lib\\site-packages\\sympy\\simplify\\powsimp.py\u001b[0m in \u001b[0;36mpowsimp\u001b[1;34m(expr, deep, combine, force, measure)\u001b[0m\n\u001b[0;32m    119\u001b[0m \u001b[1;33m\u001b[0m\u001b[0m\n\u001b[0;32m    120\u001b[0m     \u001b[1;32mif\u001b[0m \u001b[0mexpr\u001b[0m\u001b[1;33m.\u001b[0m\u001b[0mis_Pow\u001b[0m\u001b[1;33m:\u001b[0m\u001b[1;33m\u001b[0m\u001b[1;33m\u001b[0m\u001b[0m\n\u001b[1;32m--> 121\u001b[1;33m         \u001b[1;32mreturn\u001b[0m \u001b[0mrecurse\u001b[0m\u001b[1;33m(\u001b[0m\u001b[0mexpr\u001b[0m\u001b[1;33m*\u001b[0m\u001b[0m_y\u001b[0m\u001b[1;33m,\u001b[0m \u001b[0mdeep\u001b[0m\u001b[1;33m=\u001b[0m\u001b[1;32mFalse\u001b[0m\u001b[1;33m)\u001b[0m\u001b[1;33m/\u001b[0m\u001b[0m_y\u001b[0m\u001b[1;33m\u001b[0m\u001b[1;33m\u001b[0m\u001b[0m\n\u001b[0m\u001b[0;32m    122\u001b[0m \u001b[1;33m\u001b[0m\u001b[0m\n\u001b[0;32m    123\u001b[0m     \u001b[1;32mif\u001b[0m \u001b[1;32mnot\u001b[0m \u001b[0mexpr\u001b[0m\u001b[1;33m.\u001b[0m\u001b[0mis_Mul\u001b[0m\u001b[1;33m:\u001b[0m\u001b[1;33m\u001b[0m\u001b[1;33m\u001b[0m\u001b[0m\n",
      "\u001b[1;32m~\\.conda\\envs\\kish\\lib\\site-packages\\sympy\\simplify\\powsimp.py\u001b[0m in \u001b[0;36mrecurse\u001b[1;34m(arg, **kwargs)\u001b[0m\n\u001b[0;32m    107\u001b[0m         \u001b[0m_force\u001b[0m \u001b[1;33m=\u001b[0m \u001b[0mkwargs\u001b[0m\u001b[1;33m.\u001b[0m\u001b[0mget\u001b[0m\u001b[1;33m(\u001b[0m\u001b[1;34m'force'\u001b[0m\u001b[1;33m,\u001b[0m \u001b[0mforce\u001b[0m\u001b[1;33m)\u001b[0m\u001b[1;33m\u001b[0m\u001b[1;33m\u001b[0m\u001b[0m\n\u001b[0;32m    108\u001b[0m         \u001b[0m_measure\u001b[0m \u001b[1;33m=\u001b[0m \u001b[0mkwargs\u001b[0m\u001b[1;33m.\u001b[0m\u001b[0mget\u001b[0m\u001b[1;33m(\u001b[0m\u001b[1;34m'measure'\u001b[0m\u001b[1;33m,\u001b[0m \u001b[0mmeasure\u001b[0m\u001b[1;33m)\u001b[0m\u001b[1;33m\u001b[0m\u001b[1;33m\u001b[0m\u001b[0m\n\u001b[1;32m--> 109\u001b[1;33m         \u001b[1;32mreturn\u001b[0m \u001b[0mpowsimp\u001b[0m\u001b[1;33m(\u001b[0m\u001b[0marg\u001b[0m\u001b[1;33m,\u001b[0m \u001b[0m_deep\u001b[0m\u001b[1;33m,\u001b[0m \u001b[0m_combine\u001b[0m\u001b[1;33m,\u001b[0m \u001b[0m_force\u001b[0m\u001b[1;33m,\u001b[0m \u001b[0m_measure\u001b[0m\u001b[1;33m)\u001b[0m\u001b[1;33m\u001b[0m\u001b[1;33m\u001b[0m\u001b[0m\n\u001b[0m\u001b[0;32m    110\u001b[0m \u001b[1;33m\u001b[0m\u001b[0m\n\u001b[0;32m    111\u001b[0m     \u001b[0mexpr\u001b[0m \u001b[1;33m=\u001b[0m \u001b[0msympify\u001b[0m\u001b[1;33m(\u001b[0m\u001b[0mexpr\u001b[0m\u001b[1;33m)\u001b[0m\u001b[1;33m\u001b[0m\u001b[1;33m\u001b[0m\u001b[0m\n",
      "\u001b[1;32m~\\.conda\\envs\\kish\\lib\\site-packages\\sympy\\simplify\\powsimp.py\u001b[0m in \u001b[0;36mpowsimp\u001b[1;34m(expr, deep, combine, force, measure)\u001b[0m\n\u001b[0;32m    369\u001b[0m             \u001b[1;32mreturn\u001b[0m \u001b[0mexpr\u001b[0m\u001b[1;33m.\u001b[0m\u001b[0mfunc\u001b[0m\u001b[1;33m(\u001b[0m\u001b[0mnewexpr\u001b[0m\u001b[1;33m,\u001b[0m \u001b[0mexpr\u001b[0m\u001b[1;33m.\u001b[0m\u001b[0mfunc\u001b[0m\u001b[1;33m(\u001b[0m\u001b[1;33m*\u001b[0m\u001b[0mnc_part\u001b[0m\u001b[1;33m)\u001b[0m\u001b[1;33m)\u001b[0m\u001b[1;33m\u001b[0m\u001b[1;33m\u001b[0m\u001b[0m\n\u001b[0;32m    370\u001b[0m         \u001b[1;32melse\u001b[0m\u001b[1;33m:\u001b[0m\u001b[1;33m\u001b[0m\u001b[1;33m\u001b[0m\u001b[0m\n\u001b[1;32m--> 371\u001b[1;33m             \u001b[1;32mreturn\u001b[0m \u001b[0mrecurse\u001b[0m\u001b[1;33m(\u001b[0m\u001b[0mexpr\u001b[0m\u001b[1;33m.\u001b[0m\u001b[0mfunc\u001b[0m\u001b[1;33m(\u001b[0m\u001b[1;33m*\u001b[0m\u001b[0mnc_part\u001b[0m\u001b[1;33m)\u001b[0m\u001b[1;33m,\u001b[0m \u001b[0mcombine\u001b[0m\u001b[1;33m=\u001b[0m\u001b[1;34m'base'\u001b[0m\u001b[1;33m)\u001b[0m \u001b[1;33m*\u001b[0m\u001b[0;31m \u001b[0m\u001b[0;31m\\\u001b[0m\u001b[1;33m\u001b[0m\u001b[1;33m\u001b[0m\u001b[0m\n\u001b[0m\u001b[0;32m    372\u001b[0m                 \u001b[0mrecurse\u001b[0m\u001b[1;33m(\u001b[0m\u001b[0mnewexpr\u001b[0m\u001b[1;33m,\u001b[0m \u001b[0mcombine\u001b[0m\u001b[1;33m=\u001b[0m\u001b[1;34m'base'\u001b[0m\u001b[1;33m)\u001b[0m\u001b[1;33m\u001b[0m\u001b[1;33m\u001b[0m\u001b[0m\n\u001b[0;32m    373\u001b[0m \u001b[1;33m\u001b[0m\u001b[0m\n",
      "\u001b[1;32m~\\.conda\\envs\\kish\\lib\\site-packages\\sympy\\core\\basic.py\u001b[0m in \u001b[0;36mfunc\u001b[1;34m(self)\u001b[0m\n\u001b[0;32m    721\u001b[0m \u001b[1;33m\u001b[0m\u001b[0m\n\u001b[0;32m    722\u001b[0m         \"\"\"\n\u001b[1;32m--> 723\u001b[1;33m         \u001b[1;32mreturn\u001b[0m \u001b[0mself\u001b[0m\u001b[1;33m.\u001b[0m\u001b[0m__class__\u001b[0m\u001b[1;33m\u001b[0m\u001b[1;33m\u001b[0m\u001b[0m\n\u001b[0m\u001b[0;32m    724\u001b[0m \u001b[1;33m\u001b[0m\u001b[0m\n\u001b[0;32m    725\u001b[0m     \u001b[1;33m@\u001b[0m\u001b[0mproperty\u001b[0m\u001b[1;33m\u001b[0m\u001b[1;33m\u001b[0m\u001b[0m\n",
      "\u001b[1;31mKeyboardInterrupt\u001b[0m: "
     ]
    }
   ],
   "source": [
    "#Localising Matrix Constraints\n",
    "\n",
    "M = []\n",
    "\n",
    "for lett in I + L1:\n",
    "    row = []\n",
    "    for lett2 in I + L1:\n",
    "        expr = sp.expand(lett1*iKCBS._T*lett2).subs(gDicts).subs(sqDicts).subs(gDicts).subs(sqDicts)\n",
    "        print(\"the expression\")\n",
    "        display(expr)\n",
    "        res = 0\n",
    "        #if there are many terms in the sum, sum over them\n",
    "        if(isinstance(expr,sp.Add)):\n",
    "            for _ in expr.args:\n",
    "                print(\"Going in\")\n",
    "                res_ = lettersForExpr(_)\n",
    "                print(\"printing res \")\n",
    "                print(res_)\n",
    "                __ = res_[2]*X[sTi[res_[0]]][sTi[res_[1]]]            \n",
    "                res += __ #this will contain something like 1.13*Π_1*Π_2 + 1.42*Π_1*Π_2\n",
    "        #If it is just one term, compute directly\n",
    "        else:\n",
    "            res_ = lettersForExpr(expr)\n",
    "            print(\"printing res \")\n",
    "            print(res_)\n",
    "            __ = res_[2]*X[sTi[res_[0]]][sTi[res_[1]]]            \n",
    "            res += __ #this will contain something like 1.13*Π_1*Π_2 + 1.42*Π_1*Π_2\n",
    "            \n",
    "        row.append(res) #this appends that calculation into the row\n",
    "    M.append(row) #this appends the row into the list M\n",
    "        \n",
    "lM = cp.bmat(M) #this converts the list M into a matrix which can be used to impose constraints in cvxpy\n",
    "\n",
    "\n",
    "constraints += [lM >> 0]\n"
   ]
  },
  {
   "cell_type": "code",
   "execution_count": 98,
   "metadata": {},
   "outputs": [],
   "source": [
    "#######################Constraints from the observations\n",
    "obsConstraints=[]\n",
    "a=1/np.sqrt(5)-0.001\n",
    "data = [a,a,a,a,a]\n",
    "\n",
    "j=0\n",
    "for l1 in L1:    \n",
    "    obsConstraints += [ X[sTi[l1],sTi[l1]] == data[j] ]\n",
    "    j+=1\n",
    "    \n",
    "del j"
   ]
  },
  {
   "cell_type": "code",
   "execution_count": 67,
   "metadata": {
    "code_folding": []
   },
   "outputs": [],
   "source": [
    "# # depth=0\n",
    "# # depthThresh=20\n",
    "\n",
    "# def findCoeff(obj,lett):\n",
    "# #     global depth\n",
    "    \n",
    "# #     print(\"Parent object:\")\n",
    "# #     display(obj)\n",
    "    \n",
    "#     if(obj==None):\n",
    "# #         print(\"coefficent is zero\")\n",
    "#         return 0\n",
    "#     elif not (isinstance(obj,sp.Mul) or isinstance(obj,sp.Add)):        \n",
    "#         #the coefficient may be one but we couldn't see it earlier\n",
    "#         return obj.coeff(lett)\n",
    "#     else:\n",
    "#         #try to find the coefficient directly        \n",
    "#         result=obj.coeff(lett)\n",
    "#         #Did not work? \n",
    "#         if(result==0):\n",
    "#             #try for each segment\n",
    "#             for _ in obj.args:\n",
    "# #                 print(\"child:\")\n",
    "# #                 display(_)\n",
    "#                 result=_.coeff(lett)\n",
    "# #                 print(\"coefficient of child:\",result)\n",
    "                \n",
    "#                 #still did not work?\n",
    "#                 if(result==0):\n",
    "#                     #try recursing\n",
    "#                     result = findCoeff(_,lett)    \n",
    "                \n",
    "#                 #found? Stop searching\n",
    "#                 if(result!=0):\n",
    "#                     break\n",
    "#                     #return result\n",
    "\n",
    "#         #return whatever was found | worked\n",
    "#         return result\n",
    "\n",
    "\n",
    "# # def findCoeff2(obj,lett):   \n",
    "# #     global depth\n",
    "# # #     result=obj.coeff(lett)\n",
    "# # #     if result!=0:\n",
    "# # #         print(\"nonzero\")\n",
    "# # #         print(result)\n",
    "# # #         return result\n",
    "# # #     else:\n",
    "# #     print(obj)\n",
    "# #     for _ in obj.args:\n",
    "# #         display(_)\n",
    "# #         if depth>depthThresh:\n",
    "# #             print(\"depth exceeded\")\n",
    "# #             return 0\n",
    "# #         elif _==None:\n",
    "# #             print(\"coeffecient is zero\")\n",
    "# #             return 0\n",
    "# #         else:\n",
    "# #             depth+=1\n",
    "# #             result=obj.coeff(lett)\n",
    "# #             #print(depth)\n",
    "# #             if result!=0:\n",
    "# #                 print(\"result was:\",result)\n",
    "# #             else:\n",
    "# #                 print(\"recursing\")\n",
    "# #                 print(\"_ is\",_)\n",
    "# #                 #if isinstance(_,sp.Mul):\n",
    "# #                 result=findCoeff(_,lett)\n",
    "            \n",
    "# #             return result\n",
    "# # #     if \n",
    "# # #                 else:\n",
    "# # #                     return 0\n",
    "# # #         else:\n",
    "# # #             print(\"depth exceeded\")\n",
    "# # #             return 0\n",
    "            \n"
   ]
  },
  {
   "cell_type": "code",
   "execution_count": 99,
   "metadata": {
    "init_cell": true
   },
   "outputs": [
    {
     "name": "stdout",
     "output_type": "stream",
     "text": [
      "----------------------------------------------------------------------------\n",
      "\tSCS v2.1.1 - Splitting Conic Solver\n",
      "\t(c) Brendan O'Donoghue, Stanford University, 2012\n",
      "----------------------------------------------------------------------------\n",
      "Lin-sys: sparse-direct, nnz in A = 2345\n",
      "eps = 1.00e-04, alpha = 1.50, max_iters = 5000, normalize = 1, scale = 1.00\n",
      "acceleration_lookback = 0, rho_x = 1.00e-03\n",
      "Variables n = 861, constraints m = 1865\n",
      "Cones:\tprimal zero / dual free vars: 1004\n",
      "\tsd vars: 861, sd blks: 1\n",
      "FATAL: Cannot solve SDPs with > 2x2 matrices without linked blas+lapack libraries\n",
      "Install blas+lapack and re-compile SCS with blas+lapack libray locations\n",
      "ERROR: init_cone failure\n",
      "Setup time: 8.07e-03s\n",
      "Failure:could not initialize work\n",
      "max:gla\n",
      "----------------------------------------------------------------------------\n",
      "\tSCS v2.1.1 - Splitting Conic Solver\n",
      "\t(c) Brendan O'Donoghue, Stanford University, 2012\n",
      "----------------------------------------------------------------------------\n",
      "Lin-sys: sparse-direct, nnz in A = 2345\n",
      "eps = 1.00e-04, alpha = 1.50, max_iters = 5000, normalize = 1, scale = 1.00\n",
      "acceleration_lookback = 0, rho_x = 1.00e-03\n",
      "Variables n = 861, constraints m = 1865\n",
      "Cones:\tprimal zero / dual free vars: 1004\n",
      "\tsd vars: 861, sd blks: 1\n",
      "FATAL: Cannot solve SDPs with > 2x2 matrices without linked blas+lapack libraries\n",
      "Install blas+lapack and re-compile SCS with blas+lapack libray locations\n",
      "ERROR: init_cone failure\n",
      "Setup time: 7.78e-03s\n",
      "Failure:could not initialize work\n",
      "min:ba\n"
     ]
    }
   ],
   "source": [
    "probMin = cp.Problem(cp.Maximize(-y),constraints[:1000]+obsConstraints)\n",
    "probMax = cp.Problem(cp.Maximize(y),constraints[:1000]+obsConstraints)\n",
    "#prob.solve()\n",
    "#prob.solve(solver=cp.CVXOPT,verbose=True,**{'':ldl,'refinement':20,'show_progress':True,'feastol':10e-10,'reltol':10e-10,'abstol':10e-10})\n",
    "try: \n",
    "    print(\"max:\",probMax.solve(verbose=True))\n",
    "except:\n",
    "    print(\"max:gla\")\n",
    "try:\n",
    "    print(\"min:\",-probMin.solve(verbose=True))\n",
    "except:\n",
    "    print(\"min:ba\")"
   ]
  },
  {
   "cell_type": "code",
   "execution_count": 164,
   "metadata": {},
   "outputs": [],
   "source": [
    "import cvxopt as co\n",
    "\n"
   ]
  },
  {
   "cell_type": "markdown",
   "metadata": {},
   "source": [
    "## Inputs"
   ]
  },
  {
   "cell_type": "code",
   "execution_count": null,
   "metadata": {},
   "outputs": [],
   "source": []
  }
 ],
 "metadata": {
  "celltoolbar": "Initialization Cell",
  "kernelspec": {
   "display_name": "Python 3",
   "language": "python",
   "name": "python3"
  },
  "language_info": {
   "codemirror_mode": {
    "name": "ipython",
    "version": 3
   },
   "file_extension": ".py",
   "mimetype": "text/x-python",
   "name": "python",
   "nbconvert_exporter": "python",
   "pygments_lexer": "ipython3",
   "version": "3.7.5"
  },
  "toc": {
   "base_numbering": 1,
   "nav_menu": {},
   "number_sections": true,
   "sideBar": true,
   "skip_h1_title": false,
   "title_cell": "Table of Contents",
   "title_sidebar": "Contents",
   "toc_cell": false,
   "toc_position": {
    "height": "711.818px",
    "left": "588px",
    "top": "469.284px",
    "width": "286px"
   },
   "toc_section_display": true,
   "toc_window_display": true
  }
 },
 "nbformat": 4,
 "nbformat_minor": 2
}
