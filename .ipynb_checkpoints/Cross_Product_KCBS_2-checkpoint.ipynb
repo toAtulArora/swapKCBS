{
 "cells": [
  {
   "cell_type": "markdown",
   "metadata": {
    "heading_collapsed": true
   },
   "source": [
    "# Libraries"
   ]
  },
  {
   "cell_type": "code",
   "execution_count": 63,
   "metadata": {
    "hidden": true
   },
   "outputs": [],
   "source": [
    "import numpy as np\n",
    "import pandas as pd\n",
    "import sympy as sym\n",
    "pi = np.pi"
   ]
  },
  {
   "cell_type": "markdown",
   "metadata": {
    "heading_collapsed": true
   },
   "source": [
    "# Helper functions"
   ]
  },
  {
   "cell_type": "code",
   "execution_count": 64,
   "metadata": {
    "hidden": true
   },
   "outputs": [],
   "source": [
    "def proj(j,n):\n",
    "#     mat = np.zeros((3,3))\n",
    "    temp1 = np.cos(pi/n)/(1+np.cos(pi/n))\n",
    "    temp2 = 1-temp1\n",
    "    temp3 = j*pi*(n-1)/n\n",
    "    vec = np.asarray([np.sqrt(temp1),np.sqrt(temp2)*np.sin(temp3), np.sqrt(temp2)*np.cos(temp3)])\n",
    "    mat = np.outer(vec,vec)\n",
    "    return [vec,mat]    "
   ]
  },
  {
   "cell_type": "markdown",
   "metadata": {},
   "source": [
    "# Cycles"
   ]
  },
  {
   "cell_type": "markdown",
   "metadata": {
    "heading_collapsed": true
   },
   "source": [
    "## Five cycle"
   ]
  },
  {
   "cell_type": "code",
   "execution_count": 65,
   "metadata": {
    "hidden": true
   },
   "outputs": [],
   "source": [
    "P1 = proj(1,5)[1]\n",
    "P2 = proj(2,5)[1]\n",
    "P3 = proj(3,5)[1]\n",
    "P4 = proj(4,5)[1]\n",
    "P5 = proj(5,5)[1]\n",
    "V1 = proj(1,5)[0]\n",
    "V2 = proj(2,5)[0]\n",
    "V3 = proj(3,5)[0]\n",
    "V4 = proj(4,5)[0]\n",
    "V5 = proj(5,5)[0]"
   ]
  },
  {
   "cell_type": "code",
   "execution_count": 66,
   "metadata": {
    "hidden": true
   },
   "outputs": [],
   "source": [
    "V12 = np.cross(V1,V2)\n",
    "P12 = np.outer(V12,V12)"
   ]
  },
  {
   "cell_type": "code",
   "execution_count": 67,
   "metadata": {
    "hidden": true
   },
   "outputs": [],
   "source": [
    "x1 = sym.Symbol('x1')\n",
    "x2 = sym.Symbol('x2')\n",
    "x3 = sym.Symbol('x3')\n",
    "x4 = sym.Symbol('x4')\n",
    "x5 = sym.Symbol('x5')\n",
    "x6 = sym.Symbol('x6')\n",
    "x7 = sym.Symbol('x7')\n",
    "x8 = sym.Symbol('x8')\n",
    "x9 = sym.Symbol('x9')\n",
    "x10 = sym.Symbol('x10')"
   ]
  },
  {
   "cell_type": "code",
   "execution_count": 68,
   "metadata": {
    "hidden": true
   },
   "outputs": [],
   "source": [
    "LHS = x1*P1 + x2*P2 + x3*P3 + x4*P4 + x5*P5 \n",
    "# + x6*(P5@P3) + x7*(P5@P2) + x8*(P2@P4) + x9*(P3@P1)\n",
    "# LHS = x1*P3 + x2*P2 + x5*P5 + x6*(P5@P3) + x7*(P5@P3) + x8*(P2@P4) + x9*(P3@P1)"
   ]
  },
  {
   "cell_type": "code",
   "execution_count": 69,
   "metadata": {
    "hidden": true
   },
   "outputs": [
    {
     "data": {
      "text/plain": [
       "[]"
      ]
     },
     "execution_count": 69,
     "metadata": {},
     "output_type": "execute_result"
    }
   ],
   "source": [
    "Equations = LHS - P12\n",
    "eqset = [] #set of equations\n",
    "for i in range(3):\n",
    "    for j in range(3):\n",
    "        eqset.append(Equations[i,j])\n",
    "solution5 = sym.solve((eqset),(x1,x2,x3,x4,x5))\n",
    "solution5"
   ]
  },
  {
   "cell_type": "code",
   "execution_count": 70,
   "metadata": {
    "hidden": true
   },
   "outputs": [
    {
     "data": {
      "text/plain": [
       "0.6180339887498952"
      ]
     },
     "execution_count": 70,
     "metadata": {},
     "output_type": "execute_result"
    }
   ],
   "source": [
    "np.inner(V12,V3)**2"
   ]
  },
  {
   "cell_type": "markdown",
   "metadata": {
    "heading_collapsed": true
   },
   "source": [
    "## Seven cycle"
   ]
  },
  {
   "cell_type": "code",
   "execution_count": 71,
   "metadata": {
    "hidden": true
   },
   "outputs": [],
   "source": [
    "P1 = proj(1,7)[1]\n",
    "P2 = proj(2,7)[1]\n",
    "P3 = proj(3,7)[1]\n",
    "P4 = proj(4,7)[1]\n",
    "P5 = proj(5,7)[1]\n",
    "P6 = proj(6,7)[1]\n",
    "P7 = proj(7,7)[1]\n",
    "V1 = proj(1,7)[0]\n",
    "V2 = proj(2,7)[0]\n",
    "V3 = proj(3,7)[0]\n",
    "V4 = proj(4,7)[0]\n",
    "V5 = proj(5,7)[0]\n",
    "V6 = proj(6,7)[0]\n",
    "V7 = proj(7,7)[0]"
   ]
  },
  {
   "cell_type": "code",
   "execution_count": 72,
   "metadata": {
    "hidden": true
   },
   "outputs": [],
   "source": [
    "V12 = np.cross(V1,V2)\n",
    "P12 = np.outer(V12,V12)"
   ]
  },
  {
   "cell_type": "code",
   "execution_count": 73,
   "metadata": {
    "hidden": true
   },
   "outputs": [],
   "source": [
    "x1 = sym.Symbol('x1')\n",
    "x2 = sym.Symbol('x2')\n",
    "x3 = sym.Symbol('x3')\n",
    "x4 = sym.Symbol('x4')\n",
    "x5 = sym.Symbol('x5')\n",
    "x6 = sym.Symbol('x6')\n",
    "x7 = sym.Symbol('x7')\n",
    "x8 = sym.Symbol('x8')\n",
    "x9 = sym.Symbol('x9')\n",
    "x10 = sym.Symbol('x10')\n",
    "x11 = sym.Symbol('x11')\n",
    "x12 = sym.Symbol('x12')\n",
    "x13 = sym.Symbol('x13')\n",
    "x14 = sym.Symbol('x14')"
   ]
  },
  {
   "cell_type": "code",
   "execution_count": 74,
   "metadata": {
    "hidden": true
   },
   "outputs": [],
   "source": [
    "# term1 = x1*P1 + x2*P2 +x3*P3 + x4*P4 + x5*P5 + x6*P6 + x7*P7\n",
    "term1 = x1*P1 + x2*P2 +x3*P3 + x4*P4 + x5*P5 + x6*P6\n",
    "# term2 = x8*(P1@P3) + x9*(P3@P1) + x10*(P2@P4) + x11*(P4@P2)\n",
    "term2 = x8*(P1@P3) + x9*(P3@P1) + x10*(P2@P4)\n",
    "\n",
    "LHS = term1 +term2"
   ]
  },
  {
   "cell_type": "code",
   "execution_count": 75,
   "metadata": {
    "hidden": true
   },
   "outputs": [
    {
     "data": {
      "text/plain": [
       "{x9: 1.80721795562305e-15*x4 - 2.80193773580484,\n",
       " x10: 0.0,\n",
       " x6: 2.39525349937247e-15 - 1.24697960371747*x4,\n",
       " x5: 0.55495813208737*x4 - 3.62094217294249e-15,\n",
       " x8: 1.80721795562305e-15*x4 - 2.80193773580484,\n",
       " x3: 2.80193773580485 - 1.0*x4,\n",
       " x2: -0.554958132087372*x4 - 1.65385103409304e-15,\n",
       " x1: 1.24697960371747*x4 + 1.80193773580484}"
      ]
     },
     "execution_count": 75,
     "metadata": {},
     "output_type": "execute_result"
    }
   ],
   "source": [
    "Equations = LHS - P12\n",
    "eqset = [] #set of equations\n",
    "for i in range(3):\n",
    "    for j in range(3):\n",
    "        eqset.append(Equations[i,j])\n",
    "solution7 = sym.solve((eqset),(x1,x2,x3,x4,x5,x6,x8,x9,x10))\n",
    "solution7"
   ]
  },
  {
   "cell_type": "markdown",
   "metadata": {},
   "source": [
    "## Nine cycle"
   ]
  },
  {
   "cell_type": "code",
   "execution_count": 78,
   "metadata": {},
   "outputs": [],
   "source": [
    "P1 = proj(1,9)[1]\n",
    "P2 = proj(2,9)[1]\n",
    "P3 = proj(3,9)[1]\n",
    "P4 = proj(4,9)[1]\n",
    "P5 = proj(5,9)[1]\n",
    "P6 = proj(6,9)[1]\n",
    "P7 = proj(7,9)[1]\n",
    "P8 = proj(8,9)[1]\n",
    "P9 = proj(9,9)[1]\n",
    "V1 = proj(1,9)[0]\n",
    "V2 = proj(2,9)[0]\n",
    "V3 = proj(3,9)[0]\n",
    "V4 = proj(4,9)[0]\n",
    "V5 = proj(5,9)[0]\n",
    "V6 = proj(6,9)[0]\n",
    "V7 = proj(7,9)[0]\n",
    "V8 = proj(8,9)[0]\n",
    "V9 = proj(9,9)[0]"
   ]
  },
  {
   "cell_type": "code",
   "execution_count": 79,
   "metadata": {},
   "outputs": [],
   "source": [
    "V12 = np.cross(V1,V2)\n",
    "P12 = np.outer(V12,V12)"
   ]
  },
  {
   "cell_type": "code",
   "execution_count": 80,
   "metadata": {},
   "outputs": [],
   "source": [
    "x1 = sym.Symbol('x1')\n",
    "x2 = sym.Symbol('x2')\n",
    "x3 = sym.Symbol('x3')\n",
    "x4 = sym.Symbol('x4')\n",
    "x5 = sym.Symbol('x5')\n",
    "x6 = sym.Symbol('x6')\n",
    "x7 = sym.Symbol('x7')\n",
    "x8 = sym.Symbol('x8')\n",
    "x9 = sym.Symbol('x9')\n",
    "x10 = sym.Symbol('x10')\n",
    "x11 = sym.Symbol('x11')\n",
    "x12 = sym.Symbol('x12')\n",
    "x13 = sym.Symbol('x13')\n",
    "x14 = sym.Symbol('x14')\n",
    "x15 = sym.Symbol('x15')\n",
    "x16 = sym.Symbol('x16')\n",
    "x17 = sym.Symbol('x17')\n",
    "x18 = sym.Symbol('x18')\n",
    "x19 = sym.Symbol('x19')\n",
    "x20 = sym.Symbol('x20')"
   ]
  },
  {
   "cell_type": "code",
   "execution_count": 81,
   "metadata": {},
   "outputs": [],
   "source": [
    "term1 = x1*P1 + x2*P2 +x3*P3 + x4*P4 + x5*P5 + x6*P6 + x7*P7 + x8*P8 + x9*P9 \n",
    "term2 = x10*(P1@P3) + x11*(P3@P1) + x12*(P2@P4) + x13*(P4@P2) + x14*(P3@P5) + x15*(P5@P3) + x16*(P5@P7) \n",
    "term3 = x17*(P7@P5) + x18*(P1@P4) + x19*(P4@P1) + x20*(P2@P5) \n",
    "\n",
    "LHS = term1 +term2 + term3"
   ]
  },
  {
   "cell_type": "code",
   "execution_count": 82,
   "metadata": {},
   "outputs": [
    {
     "data": {
      "text/plain": [
       "{x4: 3.30285062317298e+15*x11 + 3.30285062317299e+15*x13 + 3.30285062317296e+15*x15 + 18.0606091366829*x16 + 3.30285062317299e+15*x17 + 3.30285062317297e+15*x18 + 2.15578263953283e+15*x19 + 3.30285062317297e+15*x20 - 5.11589183835026*x7 - 17.0146584529111*x8 - 1.44499186068132*x9 + 1.45704400721479e+16,\n",
       " x14: x15 - 1.65270364466614*x16 + 1.65270364466614*x17 - 0.879385241571818*x18 + 0.879385241571818*x19 + 0.999999999999999*x20,\n",
       " x12: x13 - 0.226681596905677*x16 + 0.226681596905677*x17 + 0.226681596905678*x18 - 0.226681596905678*x19 + 0.226681596905677*x20,\n",
       " x6: -2.69250849731867e+15*x11 - 2.69250849731869e+15*x13 - 2.69250849731866e+15*x15 - 14.4177361753134*x16 - 2.69250849731869e+15*x17 - 2.69250849731867e+15*x18 - 1.75741010949445e+15*x19 - 2.69250849731867e+15*x20 + 4.51780959304378*x7 + 13.4025655411669*x8 + 1.71005704384816*x9 - 1.18779315748293e+16,\n",
       " x5: 1.75741010949446e+15*x11 + 1.75741010949447e+15*x13 + 1.75741010949445e+15*x15 + 8.83653099722239*x16 + 1.75741010949446e+15*x17 + 1.75741010949446e+15*x18 + 1.14706798364015e+15*x19 + 1.75741010949446e+15*x20 - 4.60149443195348*x7 - 9.40060702126263*x8 - 2.1161604651067*x9 + 7.75276922998611e+15,\n",
       " x10: x11 + 0.879385241571814*x16 - 0.879385241571814*x17 + 0.999999999999996*x18 - 0.999999999999996*x19 - 0.879385241571813*x20,\n",
       " x3: -3.30285062317299e+15*x11 - 3.30285062317301e+15*x13 - 3.30285062317298e+15*x15 - 16.4079054920168*x16 - 3.302850623173e+15*x17 - 3.30285062317299e+15*x18 - 2.15578263953284e+15*x19 - 3.30285062317299e+15*x20 + 6.9952770799221*x7 + 17.894043694483*x8 + 3.32437710225314*x9 - 1.4570440072148e+16,\n",
       " x2: -1.75741010949445e+15*x11 - 1.75741010949446e+15*x13 - 1.75741010949444e+15*x15 - 9.60984940031667*x16 - 1.75741010949446e+15*x17 - 1.75741010949445e+15*x18 - 1.14706798364015e+15*x19 - 1.75741010949445e+15*x20 + 2.37481283504778*x7 + 9.17392542435692*x8 - 0.110521131798978*x9 - 7.75276922998608e+15,\n",
       " x1: 2.69250849731868e+15*x11 + 2.69250849731869e+15*x13 + 2.69250849731867e+15*x15 + 13.5383509337416*x16 + 2.69250849731869e+15*x17 + 2.69250849731868e+15*x18 + 1.75741010949445e+15*x19 + 2.69250849731868e+15*x20 - 5.17051323770993*x7 - 15.0552691858331*x8 - 2.3627606885143*x9 + 1.18779315748293e+16}"
      ]
     },
     "execution_count": 82,
     "metadata": {},
     "output_type": "execute_result"
    }
   ],
   "source": [
    "Equations = LHS - P12\n",
    "eqset = [] #set of equations\n",
    "for i in range(3):\n",
    "    for j in range(3):\n",
    "        eqset.append(Equations[i,j])\n",
    "solution9 = sym.solve((eqset),(x1,x2,x3,x4,x5,x6,x8,x9,x10,x11,x12,x13,x14,x15,x16,x17,x18,x19,x20))\n",
    "solution9"
   ]
  },
  {
   "cell_type": "code",
   "execution_count": 84,
   "metadata": {},
   "outputs": [
    {
     "data": {
      "text/plain": [
       "{x7: -0.467911113762046*x8 - 0.999999999999997*x9 + 4.41147412780975,\n",
       " x6: -0.630414938191807*x8 + 0.184792530904095*x9 - 0.815207469095899,\n",
       " x5: 0.532088886237957*x8 + 0.532088886237953*x9 - 2.34729635533384,\n",
       " x4: 4.42674449227637e-15*x8 - 1.11143384805649e-15*x9 - 4.41147412780976,\n",
       " x3: 4.42674449227637e-15*x8 - 1.11143384805649e-15*x9 - 4.41147412780976,\n",
       " x2: 0.283118582857941*x8 - 0.532088886237954*x9 + 5.75877048314361,\n",
       " x1: -0.716881417142053*x8 - 0.184792530904095*x9 + 0.8152074690959}"
      ]
     },
     "execution_count": 84,
     "metadata": {},
     "output_type": "execute_result"
    }
   ],
   "source": [
    "term1 = x1*P1 + x2*P2 + x5*P5 + x6*P6 + x7*P7 + x8*P8 + x9*P9 \n",
    "#+ x3*P3 + x4*P4 + x5*P5 + x6*P6 + x7*P7 + x8*P8 + x9*P9 \n",
    "term2 = x3*(P2@P9) + x4*(P9@P2)\n",
    "#+ x11*(P3@P1) + x12*(P2@P4) + x13*(P4@P2) + x14*(P3@P5) + x15*(P5@P3) + x16*(P5@P7) \n",
    "#term3 = x17*(P7@P5) + x18*(P1@P4) + x19*(P4@P1) + x20*(P2@P5) \n",
    "\n",
    "LHS = term1 +term2\n",
    "\n",
    "Equations = LHS - P12\n",
    "eqset = [] #set of equations\n",
    "for i in range(3):\n",
    "    for j in range(3):\n",
    "        eqset.append(Equations[i,j])\n",
    "solution9 = sym.solve((eqset),(x1,x2,x3,x4,x5,x6,x7,x8,x9))\n",
    "solution9"
   ]
  },
  {
   "cell_type": "code",
   "execution_count": null,
   "metadata": {},
   "outputs": [],
   "source": []
  }
 ],
 "metadata": {
  "kernelspec": {
   "display_name": "Python 3",
   "language": "python",
   "name": "python3"
  },
  "language_info": {
   "codemirror_mode": {
    "name": "ipython",
    "version": 3
   },
   "file_extension": ".py",
   "mimetype": "text/x-python",
   "name": "python",
   "nbconvert_exporter": "python",
   "pygments_lexer": "ipython3",
   "version": "3.7.5"
  },
  "toc": {
   "base_numbering": 1,
   "nav_menu": {},
   "number_sections": true,
   "sideBar": true,
   "skip_h1_title": false,
   "title_cell": "Table of Contents",
   "title_sidebar": "Contents",
   "toc_cell": false,
   "toc_position": {
    "height": "calc(100% - 180px)",
    "left": "10px",
    "top": "150px",
    "width": "195.891px"
   },
   "toc_section_display": true,
   "toc_window_display": true
  }
 },
 "nbformat": 4,
 "nbformat_minor": 2
}
