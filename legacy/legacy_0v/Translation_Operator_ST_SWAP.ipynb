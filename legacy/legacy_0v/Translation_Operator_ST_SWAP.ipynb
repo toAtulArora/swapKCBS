{
 "cells": [
  {
   "cell_type": "markdown",
   "metadata": {},
   "source": [
    "# Libraries"
   ]
  },
  {
   "cell_type": "code",
   "execution_count": 3,
   "metadata": {
    "init_cell": true,
    "slideshow": {
     "slide_type": "slide"
    }
   },
   "outputs": [],
   "source": [
    "import numpy as np\n",
    "import pandas as pd\n",
    "import sympy as sym\n",
    "pi = np.pi"
   ]
  },
  {
   "cell_type": "markdown",
   "metadata": {},
   "source": [
    "# Ideal projectors"
   ]
  },
  {
   "cell_type": "code",
   "execution_count": 4,
   "metadata": {
    "init_cell": true
   },
   "outputs": [],
   "source": [
    "def proj(j,n):\n",
    "#     mat = np.zeros((3,3))\n",
    "    temp1 = np.cos(pi/n)/(1+np.cos(pi/n))\n",
    "    temp2 = 1-temp1\n",
    "    temp3 = j*pi*(n-1)/n\n",
    "    vec = np.asarray([np.sqrt(temp1),np.sqrt(temp2)*np.sin(temp3), np.sqrt(temp2)*np.cos(temp3)])\n",
    "    mat = np.outer(vec,vec)\n",
    "    return mat    "
   ]
  },
  {
   "cell_type": "code",
   "execution_count": 3,
   "metadata": {},
   "outputs": [
    {
     "data": {
      "text/plain": [
       "array([[ 8.82680578e-18,  0.00000000e+00, -1.28106935e-17],\n",
       "       [ 1.03962966e-17,  0.00000000e+00,  2.53568037e-18],\n",
       "       [ 2.80201435e-18,  0.00000000e+00,  9.69177354e-19]])"
      ]
     },
     "execution_count": 3,
     "metadata": {},
     "output_type": "execute_result"
    }
   ],
   "source": [
    "# Orthogonality check\n",
    "i = 0\n",
    "np.dot(proj((i+1) % 5,5),proj(i,5))"
   ]
  },
  {
   "cell_type": "code",
   "execution_count": 4,
   "metadata": {},
   "outputs": [
    {
     "data": {
      "text/plain": [
       "array([[ True,  True,  True],\n",
       "       [ True,  True,  True],\n",
       "       [ True,  True,  True]])"
      ]
     },
     "execution_count": 4,
     "metadata": {},
     "output_type": "execute_result"
    }
   ],
   "source": [
    "#Projection check\n",
    "i = 0\n",
    "proj(i,5)@proj(i,5) - proj(i,5) <= 1.0e-10"
   ]
  },
  {
   "cell_type": "markdown",
   "metadata": {},
   "source": [
    "# Translation operator"
   ]
  },
  {
   "cell_type": "code",
   "execution_count": 5,
   "metadata": {
    "init_cell": true
   },
   "outputs": [],
   "source": [
    "T = np.matrix([[0,0,1],\n",
    "               [1,0,0],\n",
    "               [0,1,0]])"
   ]
  },
  {
   "cell_type": "code",
   "execution_count": 6,
   "metadata": {},
   "outputs": [
    {
     "data": {
      "text/plain": [
       "matrix([[1, 0, 0],\n",
       "        [0, 1, 0],\n",
       "        [0, 0, 1]])"
      ]
     },
     "execution_count": 6,
     "metadata": {},
     "output_type": "execute_result"
    }
   ],
   "source": [
    "np.transpose(T)@T"
   ]
  },
  {
   "cell_type": "markdown",
   "metadata": {},
   "source": [
    "# Cycles"
   ]
  },
  {
   "cell_type": "markdown",
   "metadata": {
    "heading_collapsed": true
   },
   "source": [
    "## 5 cycle"
   ]
  },
  {
   "cell_type": "code",
   "execution_count": 7,
   "metadata": {
    "hidden": true
   },
   "outputs": [],
   "source": [
    "P1 = proj(1,5)\n",
    "P2 = proj(2,5)\n",
    "P3 = proj(3,5)\n",
    "P4 = proj(4,5)\n",
    "P5 = proj(5,5)"
   ]
  },
  {
   "cell_type": "code",
   "execution_count": 8,
   "metadata": {
    "hidden": true
   },
   "outputs": [
    {
     "data": {
      "text/plain": [
       "array([[ 0.4472136 ,  0.29225023, -0.40224793],\n",
       "       [ 0.29225023,  0.19098301, -0.26286556],\n",
       "       [-0.40224793, -0.26286556,  0.3618034 ]])"
      ]
     },
     "execution_count": 8,
     "metadata": {},
     "output_type": "execute_result"
    }
   ],
   "source": [
    "P1"
   ]
  },
  {
   "cell_type": "code",
   "execution_count": 9,
   "metadata": {
    "hidden": true
   },
   "outputs": [],
   "source": [
    "x1 = sym.Symbol('x1')\n",
    "x2 = sym.Symbol('x2')\n",
    "x3 = sym.Symbol('x3')\n",
    "x4 = sym.Symbol('x4')\n",
    "x5 = sym.Symbol('x5')\n",
    "x6 = sym.Symbol('x6')\n",
    "x7 = sym.Symbol('x7')\n",
    "x8 = sym.Symbol('x8')\n",
    "x9 = sym.Symbol('x9')\n",
    "x10 = sym.Symbol('x10')"
   ]
  },
  {
   "cell_type": "code",
   "execution_count": 10,
   "metadata": {
    "hidden": true
   },
   "outputs": [],
   "source": [
    "LHS = x1*P1 + x2*P2 + x3*P3 + x4*P4 + x5*P5 + x6*(P5@P3) + x7*(P5@P2) + x8*(P2@P4) + x9*(P3@P1)\n",
    "#LHS = x1*P1 + x2*P2 + x3*P3 + x4*P4 + x5*P5 + x6*(P1@P3) + x7*(P2@P4) + x8*(P3@P5) + x9*(P4@P1) +x10*(P5@P2)"
   ]
  },
  {
   "cell_type": "code",
   "execution_count": 11,
   "metadata": {
    "hidden": true,
    "slideshow": {
     "slide_type": "-"
    }
   },
   "outputs": [],
   "source": [
    "LHSP = pd.DataFrame(LHS)"
   ]
  },
  {
   "cell_type": "code",
   "execution_count": 12,
   "metadata": {
    "hidden": true
   },
   "outputs": [
    {
     "data": {
      "text/html": [
       "<div>\n",
       "<style scoped>\n",
       "    .dataframe tbody tr th:only-of-type {\n",
       "        vertical-align: middle;\n",
       "    }\n",
       "\n",
       "    .dataframe tbody tr th {\n",
       "        vertical-align: top;\n",
       "    }\n",
       "\n",
       "    .dataframe thead th {\n",
       "        text-align: right;\n",
       "    }\n",
       "</style>\n",
       "<table border=\"1\" class=\"dataframe\">\n",
       "  <thead>\n",
       "    <tr style=\"text-align: right;\">\n",
       "      <th></th>\n",
       "      <th>0</th>\n",
       "      <th>1</th>\n",
       "      <th>2</th>\n",
       "    </tr>\n",
       "  </thead>\n",
       "  <tbody>\n",
       "    <tr>\n",
       "      <th>0</th>\n",
       "      <td>0.447213595499958*x1 + 0.447213595499958*x2 + ...</td>\n",
       "      <td>0.292250229469488*x1 - 0.472870804501588*x2 + ...</td>\n",
       "      <td>-0.402247932095355*x1 + 0.153645038156066*x2 +...</td>\n",
       "    </tr>\n",
       "    <tr>\n",
       "      <th>1</th>\n",
       "      <td>0.292250229469488*x1 - 0.472870804501588*x2 + ...</td>\n",
       "      <td>0.190983005625053*x1 + 0.5*x2 + 0.5*x3 + 0.190...</td>\n",
       "      <td>-0.262865556059567*x1 - 0.162459848116453*x2 +...</td>\n",
       "    </tr>\n",
       "    <tr>\n",
       "      <th>2</th>\n",
       "      <td>-0.402247932095355*x1 + 0.153645038156066*x2 +...</td>\n",
       "      <td>-0.262865556059567*x1 - 0.162459848116453*x2 +...</td>\n",
       "      <td>0.361803398874989*x1 + 0.052786404500042*x2 + ...</td>\n",
       "    </tr>\n",
       "  </tbody>\n",
       "</table>\n",
       "</div>"
      ],
      "text/plain": [
       "                                                   0  \\\n",
       "0  0.447213595499958*x1 + 0.447213595499958*x2 + ...   \n",
       "1  0.292250229469488*x1 - 0.472870804501588*x2 + ...   \n",
       "2  -0.402247932095355*x1 + 0.153645038156066*x2 +...   \n",
       "\n",
       "                                                   1  \\\n",
       "0  0.292250229469488*x1 - 0.472870804501588*x2 + ...   \n",
       "1  0.190983005625053*x1 + 0.5*x2 + 0.5*x3 + 0.190...   \n",
       "2  -0.262865556059567*x1 - 0.162459848116453*x2 +...   \n",
       "\n",
       "                                                   2  \n",
       "0  -0.402247932095355*x1 + 0.153645038156066*x2 +...  \n",
       "1  -0.262865556059567*x1 - 0.162459848116453*x2 +...  \n",
       "2  0.361803398874989*x1 + 0.052786404500042*x2 + ...  "
      ]
     },
     "execution_count": 12,
     "metadata": {},
     "output_type": "execute_result"
    }
   ],
   "source": [
    "LHSP"
   ]
  },
  {
   "cell_type": "code",
   "execution_count": 13,
   "metadata": {
    "hidden": true
   },
   "outputs": [],
   "source": [
    "Equations = LHS - T"
   ]
  },
  {
   "cell_type": "code",
   "execution_count": 14,
   "metadata": {
    "hidden": true
   },
   "outputs": [],
   "source": [
    "Equations;"
   ]
  },
  {
   "cell_type": "code",
   "execution_count": 15,
   "metadata": {
    "hidden": true
   },
   "outputs": [
    {
     "data": {
      "text/plain": [
       "array([[-5.55111512e-17,  4.72870805e-01,  3.43560750e-01],\n",
       "       [-5.55111512e-17,  3.09016994e-01,  2.24513988e-01],\n",
       "       [ 5.55111512e-17, -4.25325404e-01, -3.09016994e-01]])"
      ]
     },
     "execution_count": 15,
     "metadata": {},
     "output_type": "execute_result"
    }
   ],
   "source": [
    "P1@P3 - P1@P4"
   ]
  },
  {
   "cell_type": "code",
   "execution_count": 16,
   "metadata": {
    "hidden": true
   },
   "outputs": [],
   "source": [
    "eqset1 = [] #set of equations\n",
    "for i in range(3):\n",
    "    for j in range(3):\n",
    "        eqset1.append(Equations[i,j])\n",
    "solution5 = sym.solve((eqset1),(x1,x2,x3,x4,x5,x6,x7,x8,x9,x10))"
   ]
  },
  {
   "cell_type": "code",
   "execution_count": 17,
   "metadata": {
    "hidden": true
   },
   "outputs": [
    {
     "data": {
      "text/plain": [
       "{x9: -1.45863889754039,\n",
       " x8: -6.16165530330893,\n",
       " x7: 4.62281353472131,\n",
       " x4: 2.28088533047804,\n",
       " x5: -3.40789916832931,\n",
       " x6: 2.99748066612802,\n",
       " x3: 2.06682268604037,\n",
       " x2: 0.536580618098216,\n",
       " x1: -1.47638946628733}"
      ]
     },
     "execution_count": 17,
     "metadata": {},
     "output_type": "execute_result"
    }
   ],
   "source": [
    "solution5"
   ]
  },
  {
   "cell_type": "markdown",
   "metadata": {
    "heading_collapsed": true,
    "hidden": true
   },
   "source": [
    "### Sanity check"
   ]
  },
  {
   "cell_type": "code",
   "execution_count": 18,
   "metadata": {
    "hidden": true
   },
   "outputs": [],
   "source": [
    "#LHS = y1*P1 + y2*P2 - P1"
   ]
  },
  {
   "cell_type": "code",
   "execution_count": 19,
   "metadata": {
    "hidden": true
   },
   "outputs": [],
   "source": [
    "y1 = sym.Symbol('y1')\n",
    "y2 = sym.Symbol('y2')\n",
    "eqset = [] #set of equations\n",
    "for i in range(3):\n",
    "    for j in range(3):\n",
    "        eqset.append(LHS[i,j])\n",
    "solution = sym.solve((eqset),(y1,y2))"
   ]
  },
  {
   "cell_type": "code",
   "execution_count": 20,
   "metadata": {
    "hidden": true
   },
   "outputs": [
    {
     "data": {
      "text/plain": [
       "[]"
      ]
     },
     "execution_count": 20,
     "metadata": {},
     "output_type": "execute_result"
    }
   ],
   "source": [
    "solution"
   ]
  },
  {
   "cell_type": "markdown",
   "metadata": {
    "heading_collapsed": true,
    "hidden": true
   },
   "source": [
    "### Isometry"
   ]
  },
  {
   "cell_type": "code",
   "execution_count": 21,
   "metadata": {
    "hidden": true
   },
   "outputs": [],
   "source": [
    "# S = TUVU\n",
    "# We need three basis vectors. Let these be P1, P2 and P3.\n",
    "# First we construct the basis vectors\n",
    "def basis(j,n):\n",
    "    temp1 = np.cos(pi/n)/(1+np.cos(pi/n))\n",
    "    temp2 = 1-temp1\n",
    "    temp3 = j*pi*(n-1)/n\n",
    "    vec = np.asarray([np.sqrt(temp1),np.sqrt(temp2)*np.sin(temp3), np.sqrt(temp2)*np.cos(temp3)])\n",
    "    return vec      "
   ]
  },
  {
   "cell_type": "code",
   "execution_count": 22,
   "metadata": {
    "hidden": true
   },
   "outputs": [],
   "source": [
    "b1 = basis(0,5)\n",
    "b2 = basis(1,5)\n",
    "b3 = np.cross(b1,b2)"
   ]
  },
  {
   "cell_type": "code",
   "execution_count": 23,
   "metadata": {
    "hidden": true
   },
   "outputs": [
    {
     "data": {
      "text/plain": [
       "-2.7755575615628914e-17"
      ]
     },
     "execution_count": 23,
     "metadata": {},
     "output_type": "execute_result"
    }
   ],
   "source": [
    "# Sanity check\n",
    "np.inner(b2,b3)"
   ]
  },
  {
   "cell_type": "code",
   "execution_count": 24,
   "metadata": {
    "hidden": true
   },
   "outputs": [],
   "source": [
    "coeff = [solution5[x1],solution5[x2],solution5[x3],solution5[x4],solution5[x5],solution5[x6],solution5[x7],solution5[x8],solution5[x9]]"
   ]
  },
  {
   "cell_type": "code",
   "execution_count": 25,
   "metadata": {
    "hidden": true
   },
   "outputs": [],
   "source": [
    "coeff;"
   ]
  },
  {
   "cell_type": "markdown",
   "metadata": {},
   "source": [
    "## 7 cycle"
   ]
  },
  {
   "cell_type": "code",
   "execution_count": 7,
   "metadata": {},
   "outputs": [],
   "source": [
    "P1 = proj(1,7)\n",
    "P2 = proj(2,7)\n",
    "P3 = proj(3,7)\n",
    "P4 = proj(4,7)\n",
    "P5 = proj(5,7)\n",
    "P6 = proj(6,7)\n",
    "P7 = proj(7,7)"
   ]
  },
  {
   "cell_type": "code",
   "execution_count": 8,
   "metadata": {},
   "outputs": [],
   "source": [
    "x1 = sym.Symbol('x1')\n",
    "x2 = sym.Symbol('x2')\n",
    "x3 = sym.Symbol('x3')\n",
    "x4 = sym.Symbol('x4')\n",
    "x5 = sym.Symbol('x5')\n",
    "x6 = sym.Symbol('x6')\n",
    "x7 = sym.Symbol('x7')\n",
    "x8 = sym.Symbol('x8')\n",
    "x9 = sym.Symbol('x9')\n",
    "x10 = sym.Symbol('x10')"
   ]
  },
  {
   "cell_type": "code",
   "execution_count": 9,
   "metadata": {},
   "outputs": [],
   "source": [
    "LHS = x1*P1 + x2*P2 + x3*P3 + x4*P4 + x5*P5 + x6*(P5@P3) + x7*(P5@P2) + x8*(P2@P4) + x9*(P3@P1)"
   ]
  },
  {
   "cell_type": "code",
   "execution_count": 10,
   "metadata": {},
   "outputs": [
    {
     "data": {
      "text/plain": [
       "{x1: -2.48781484986017,\n",
       " x2: 0.174298227013938,\n",
       " x3: 0.419454546714465,\n",
       " x4: 1.75603533644891,\n",
       " x5: 1.45995537639807,\n",
       " x6: -2.09492067480099,\n",
       " x7: 1.64841804755391,\n",
       " x8: -3.16439013280000,\n",
       " x9: 2.87727771306281}"
      ]
     },
     "execution_count": 10,
     "metadata": {},
     "output_type": "execute_result"
    }
   ],
   "source": [
    "Equations = LHS - T\n",
    "eqset1 = [] #set of equations\n",
    "for i in range(3):\n",
    "    for j in range(3):\n",
    "        eqset1.append(Equations[i,j])\n",
    "solution7 = sym.solve((eqset1),(x1,x2,x3,x4,x5,x6,x7,x8,x9))\n",
    "\n",
    "\n",
    "solution7"
   ]
  },
  {
   "cell_type": "code",
   "execution_count": 20,
   "metadata": {},
   "outputs": [
    {
     "data": {
      "text/plain": [
       "{x1: -2.48781484986017,\n",
       " x2: 0.174298227013938,\n",
       " x3: 0.419454546714465,\n",
       " x4: 1.75603533644891,\n",
       " x5: 1.45995537639807,\n",
       " x6: -2.09492067480099,\n",
       " x7: 1.64841804755391,\n",
       " x8: -3.16439013280000,\n",
       " x9: 2.87727771306281}"
      ]
     },
     "execution_count": 20,
     "metadata": {},
     "output_type": "execute_result"
    }
   ],
   "source": [
    "sol7 = sym.solve(sym.Matrix(LHS-T),[x1,x2,x3,x4,x5,x6,x7,x8,x9])\n",
    "\n",
    "sol7"
   ]
  },
  {
   "cell_type": "markdown",
   "metadata": {},
   "source": [
    "## 9 cycle"
   ]
  },
  {
   "cell_type": "code",
   "execution_count": 36,
   "metadata": {},
   "outputs": [],
   "source": [
    "N = 9\n",
    "\n",
    "P1 = proj(1,N)\n",
    "P2 = proj(2,N)\n",
    "P3 = proj(3,N)\n",
    "P4 = proj(4,N)\n",
    "P5 = proj(5,N)\n",
    "P6 = proj(6,N)\n",
    "P7 = proj(7,N)\n",
    "P8 = proj(6,N)\n",
    "P9 = proj(7,N)"
   ]
  },
  {
   "cell_type": "code",
   "execution_count": 37,
   "metadata": {},
   "outputs": [],
   "source": [
    "x1 = sym.Symbol('x1')\n",
    "x2 = sym.Symbol('x2')\n",
    "x3 = sym.Symbol('x3')\n",
    "x4 = sym.Symbol('x4')\n",
    "x5 = sym.Symbol('x5')\n",
    "x6 = sym.Symbol('x6')\n",
    "x7 = sym.Symbol('x7')\n",
    "x8 = sym.Symbol('x8')\n",
    "x9 = sym.Symbol('x9')\n",
    "x10 = sym.Symbol('x10')"
   ]
  },
  {
   "cell_type": "code",
   "execution_count": 38,
   "metadata": {},
   "outputs": [],
   "source": [
    "LHS = x1*P1 + x2*P2 + x3*P3 + x4*P4 + x5*P5 + x6*(P5@P3) + x7*(P5@P2) + x8*(P2@P4) + x9*(P3@P1)"
   ]
  },
  {
   "cell_type": "code",
   "execution_count": 39,
   "metadata": {},
   "outputs": [
    {
     "data": {
      "text/plain": [
       "{x1: -3.33356971686325,\n",
       " x2: 0.584484137492421,\n",
       " x3: -1.64695030531387,\n",
       " x4: 1.12694503027855,\n",
       " x5: 4.18017762031205,\n",
       " x6: -5.32945475470260,\n",
       " x7: 0.742724736560921,\n",
       " x8: -2.45848358961390,\n",
       " x9: 6.56043446521856}"
      ]
     },
     "execution_count": 39,
     "metadata": {},
     "output_type": "execute_result"
    }
   ],
   "source": [
    "Equations = LHS - T\n",
    "eqset1 = [] #set of equations\n",
    "for i in range(3):\n",
    "    for j in range(3):\n",
    "        eqset1.append(Equations[i,j])\n",
    "solution9 = sym.solve((eqset1),(x1,x2,x3,x4,x5,x6,x7,x8,x9))\n",
    "solution9"
   ]
  },
  {
   "cell_type": "markdown",
   "metadata": {},
   "source": [
    "## 11 cycle"
   ]
  },
  {
   "cell_type": "code",
   "execution_count": 40,
   "metadata": {},
   "outputs": [],
   "source": [
    "N = 11\n",
    "\n",
    "P1 = proj(1,N)\n",
    "P2 = proj(2,N)\n",
    "P3 = proj(3,N)\n",
    "P4 = proj(4,N)\n",
    "P5 = proj(5,N)\n",
    "P6 = proj(6,N)\n",
    "P7 = proj(7,N)\n",
    "P8 = proj(6,N)\n",
    "P9 = proj(7,N)"
   ]
  },
  {
   "cell_type": "code",
   "execution_count": 41,
   "metadata": {},
   "outputs": [],
   "source": [
    "x1 = sym.Symbol('x1')\n",
    "x2 = sym.Symbol('x2')\n",
    "x3 = sym.Symbol('x3')\n",
    "x4 = sym.Symbol('x4')\n",
    "x5 = sym.Symbol('x5')\n",
    "x6 = sym.Symbol('x6')\n",
    "x7 = sym.Symbol('x7')\n",
    "x8 = sym.Symbol('x8')\n",
    "x9 = sym.Symbol('x9')\n",
    "x10 = sym.Symbol('x10')"
   ]
  },
  {
   "cell_type": "code",
   "execution_count": 42,
   "metadata": {},
   "outputs": [],
   "source": [
    "LHS = x1*P1 + x2*P2 + x3*P3 + x4*P4 + x5*P5 + x6*(P5@P3) + x7*(P5@P2) + x8*(P2@P4) + x9*(P3@P1)"
   ]
  },
  {
   "cell_type": "code",
   "execution_count": 43,
   "metadata": {},
   "outputs": [
    {
     "data": {
      "text/plain": [
       "{x1: -4.35262378386501,\n",
       " x2: 1.11139587164724,\n",
       " x3: -3.69984367046470,\n",
       " x4: 0.550210499217815,\n",
       " x5: 6.66521986415699,\n",
       " x6: -8.57718949080699,\n",
       " x7: 0.187251806349016,\n",
       " x8: -2.15920232598671,\n",
       " x9: 10.4061693018324}"
      ]
     },
     "execution_count": 43,
     "metadata": {},
     "output_type": "execute_result"
    }
   ],
   "source": [
    "Equations = LHS - T\n",
    "eqset1 = [] #set of equations\n",
    "for i in range(3):\n",
    "    for j in range(3):\n",
    "        eqset1.append(Equations[i,j])\n",
    "solution11 = sym.solve((eqset1),(x1,x2,x3,x4,x5,x6,x7,x8,x9))\n",
    "solution11"
   ]
  },
  {
   "cell_type": "markdown",
   "metadata": {},
   "source": [
    "## General N-cycle?"
   ]
  },
  {
   "cell_type": "code",
   "execution_count": 55,
   "metadata": {},
   "outputs": [],
   "source": [
    "N = 31\n",
    "\n",
    "P1 = proj(1,N)\n",
    "P2 = proj(2,N)\n",
    "P3 = proj(3,N)\n",
    "P4 = proj(4,N)\n",
    "P5 = proj(5,N)\n",
    "P6 = proj(6,N)\n",
    "P7 = proj(7,N)\n",
    "P8 = proj(6,N)\n",
    "P9 = proj(7,N)"
   ]
  },
  {
   "cell_type": "code",
   "execution_count": 56,
   "metadata": {},
   "outputs": [
    {
     "data": {
      "text/plain": [
       "{x1: -26.5411295543463,\n",
       " x2: 5.39871176886447,\n",
       " x3: -21.5208067502588,\n",
       " x4: -3.58354638293741,\n",
       " x5: 39.7672930341960,\n",
       " x6: -61.0818432024975,\n",
       " x7: -3.35951240644942,\n",
       " x8: -1.64686222935135,\n",
       " x9: 69.3446645555354}"
      ]
     },
     "execution_count": 56,
     "metadata": {},
     "output_type": "execute_result"
    }
   ],
   "source": [
    "LHS = x1*P1 + x2*P2 + x3*P3 + x4*P4 + x5*P5 + x6*(P5@P3) + x7*(P5@P2) + x8*(P2@P4) + x9*(P3@P1)\n",
    "Equations = LHS - T\n",
    "eqset1 = [] #set of equations\n",
    "for i in range(3):\n",
    "    for j in range(3):\n",
    "        eqset1.append(Equations[i,j])\n",
    "solutionN = sym.solve((eqset1),(x1,x2,x3,x4,x5,x6,x7,x8,x9))\n",
    "solutionN"
   ]
  },
  {
   "cell_type": "code",
   "execution_count": null,
   "metadata": {},
   "outputs": [],
   "source": []
  }
 ],
 "metadata": {
  "celltoolbar": "Initialization Cell",
  "kernelspec": {
   "display_name": "Python 3",
   "language": "python",
   "name": "python3"
  },
  "language_info": {
   "codemirror_mode": {
    "name": "ipython",
    "version": 3
   },
   "file_extension": ".py",
   "mimetype": "text/x-python",
   "name": "python",
   "nbconvert_exporter": "python",
   "pygments_lexer": "ipython3",
   "version": "3.7.5"
  },
  "toc": {
   "base_numbering": 1,
   "nav_menu": {},
   "number_sections": true,
   "sideBar": true,
   "skip_h1_title": false,
   "title_cell": "Table of Contents",
   "title_sidebar": "Contents",
   "toc_cell": false,
   "toc_position": {
    "height": "calc(100% - 180px)",
    "left": "10px",
    "top": "150px",
    "width": "174.594px"
   },
   "toc_section_display": true,
   "toc_window_display": false
  }
 },
 "nbformat": 4,
 "nbformat_minor": 2
}
