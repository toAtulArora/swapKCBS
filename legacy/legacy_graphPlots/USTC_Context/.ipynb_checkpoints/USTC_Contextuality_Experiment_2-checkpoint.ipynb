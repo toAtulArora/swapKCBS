{
 "cells": [
  {
   "cell_type": "markdown",
   "metadata": {},
   "source": [
    "# Libraries"
   ]
  },
  {
   "cell_type": "code",
   "execution_count": 1,
   "metadata": {},
   "outputs": [],
   "source": [
    "import numpy as np\n",
    "import scipy.stats as stats\n",
    "import scipy.sparse as sparse\n",
    "import matplotlib.pyplot as plt\n",
    "from numpy.linalg import matrix_rank\n",
    "from numpy.linalg import inv\n",
    "from scipy.optimize import minimize\n",
    "from functools import partial\n",
    "np.set_printoptions(precision=3, suppress=True)\n",
    "import matplotlib.pyplot as plt\n",
    "import random\n",
    "# from joblib import Parallel, delayed\n",
    "import multiprocessing\n",
    "import itertools\n",
    "from multiprocessing import Pool\n",
    "import pandas as pd\n",
    "import math"
   ]
  },
  {
   "cell_type": "markdown",
   "metadata": {},
   "source": [
    "# Orthogonality"
   ]
  },
  {
   "cell_type": "markdown",
   "metadata": {},
   "source": [
    "## Data Files"
   ]
  },
  {
   "cell_type": "code",
   "execution_count": 2,
   "metadata": {},
   "outputs": [],
   "source": [
    "# Normal order file\n",
    "data1 = pd.read_csv(\"Q150NormalOrder.txt\")"
   ]
  },
  {
   "cell_type": "code",
   "execution_count": 3,
   "metadata": {},
   "outputs": [],
   "source": [
    "# Reverse order file\n",
    "data2 = pd.read_csv(\"Q150ReverseOrder.txt\")"
   ]
  },
  {
   "cell_type": "code",
   "execution_count": 4,
   "metadata": {},
   "outputs": [],
   "source": [
    "# The first column record the rundom number, with \"1\",\"2\",\"3\",\"4\",\"5\" correspond to \n",
    "# the Normal measurement Order: \"M1->M2\", \"M2-> M3\", \"M3-> M4\", \"M4-> M5\", \"M5-> M1\",respectively;  \n",
    "# and \"6\",\"7\",\"8\",\"9\",\"10\" \n",
    "# correspond to Reverse Order: \"M1->M5\", \"M2->M1\", \"M3->M2\", \"M4->M3\",  \"M5->M4\", respectively.\n",
    "\n",
    "data1.columns = [\"meas\", \"Op1\", \"Op2\"]\n",
    "data2.columns = [\"meas\", \"Op1\", \"Op2\"]"
   ]
  },
  {
   "cell_type": "code",
   "execution_count": 5,
   "metadata": {},
   "outputs": [
    {
     "data": {
      "text/html": [
       "<div>\n",
       "<style scoped>\n",
       "    .dataframe tbody tr th:only-of-type {\n",
       "        vertical-align: middle;\n",
       "    }\n",
       "\n",
       "    .dataframe tbody tr th {\n",
       "        vertical-align: top;\n",
       "    }\n",
       "\n",
       "    .dataframe thead th {\n",
       "        text-align: right;\n",
       "    }\n",
       "</style>\n",
       "<table border=\"1\" class=\"dataframe\">\n",
       "  <thead>\n",
       "    <tr style=\"text-align: right;\">\n",
       "      <th></th>\n",
       "      <th>meas</th>\n",
       "      <th>Op1</th>\n",
       "      <th>Op2</th>\n",
       "    </tr>\n",
       "  </thead>\n",
       "  <tbody>\n",
       "    <tr>\n",
       "      <th>0</th>\n",
       "      <td>1.0</td>\n",
       "      <td>8.0</td>\n",
       "      <td>2.0</td>\n",
       "    </tr>\n",
       "    <tr>\n",
       "      <th>1</th>\n",
       "      <td>4.0</td>\n",
       "      <td>0.0</td>\n",
       "      <td>36.0</td>\n",
       "    </tr>\n",
       "    <tr>\n",
       "      <th>2</th>\n",
       "      <td>4.0</td>\n",
       "      <td>0.0</td>\n",
       "      <td>47.0</td>\n",
       "    </tr>\n",
       "    <tr>\n",
       "      <th>3</th>\n",
       "      <td>2.0</td>\n",
       "      <td>0.0</td>\n",
       "      <td>43.0</td>\n",
       "    </tr>\n",
       "    <tr>\n",
       "      <th>4</th>\n",
       "      <td>5.0</td>\n",
       "      <td>12.0</td>\n",
       "      <td>0.0</td>\n",
       "    </tr>\n",
       "  </tbody>\n",
       "</table>\n",
       "</div>"
      ],
      "text/plain": [
       "   meas   Op1   Op2\n",
       "0   1.0   8.0   2.0\n",
       "1   4.0   0.0  36.0\n",
       "2   4.0   0.0  47.0\n",
       "3   2.0   0.0  43.0\n",
       "4   5.0  12.0   0.0"
      ]
     },
     "execution_count": 5,
     "metadata": {},
     "output_type": "execute_result"
    }
   ],
   "source": [
    "data1.head()"
   ]
  },
  {
   "cell_type": "code",
   "execution_count": 6,
   "metadata": {},
   "outputs": [
    {
     "data": {
      "text/html": [
       "<div>\n",
       "<style scoped>\n",
       "    .dataframe tbody tr th:only-of-type {\n",
       "        vertical-align: middle;\n",
       "    }\n",
       "\n",
       "    .dataframe tbody tr th {\n",
       "        vertical-align: top;\n",
       "    }\n",
       "\n",
       "    .dataframe thead th {\n",
       "        text-align: right;\n",
       "    }\n",
       "</style>\n",
       "<table border=\"1\" class=\"dataframe\">\n",
       "  <thead>\n",
       "    <tr style=\"text-align: right;\">\n",
       "      <th></th>\n",
       "      <th>meas</th>\n",
       "      <th>Op1</th>\n",
       "      <th>Op2</th>\n",
       "    </tr>\n",
       "  </thead>\n",
       "  <tbody>\n",
       "    <tr>\n",
       "      <th>0</th>\n",
       "      <td>10.0</td>\n",
       "      <td>1.0</td>\n",
       "      <td>53.0</td>\n",
       "    </tr>\n",
       "    <tr>\n",
       "      <th>1</th>\n",
       "      <td>10.0</td>\n",
       "      <td>13.0</td>\n",
       "      <td>2.0</td>\n",
       "    </tr>\n",
       "    <tr>\n",
       "      <th>2</th>\n",
       "      <td>7.0</td>\n",
       "      <td>11.0</td>\n",
       "      <td>2.0</td>\n",
       "    </tr>\n",
       "    <tr>\n",
       "      <th>3</th>\n",
       "      <td>6.0</td>\n",
       "      <td>0.0</td>\n",
       "      <td>50.0</td>\n",
       "    </tr>\n",
       "    <tr>\n",
       "      <th>4</th>\n",
       "      <td>9.0</td>\n",
       "      <td>0.0</td>\n",
       "      <td>0.0</td>\n",
       "    </tr>\n",
       "  </tbody>\n",
       "</table>\n",
       "</div>"
      ],
      "text/plain": [
       "   meas   Op1   Op2\n",
       "0  10.0   1.0  53.0\n",
       "1  10.0  13.0   2.0\n",
       "2   7.0  11.0   2.0\n",
       "3   6.0   0.0  50.0\n",
       "4   9.0   0.0   0.0"
      ]
     },
     "execution_count": 6,
     "metadata": {},
     "output_type": "execute_result"
    }
   ],
   "source": [
    "data2.head()"
   ]
  },
  {
   "cell_type": "markdown",
   "metadata": {},
   "source": [
    "## Relabelling"
   ]
  },
  {
   "cell_type": "code",
   "execution_count": 7,
   "metadata": {},
   "outputs": [],
   "source": [
    "# The second column record the photon counts of the first measurement, \n",
    "# which correspond to \"Dark state\" if the value <2.5; and \"Bright state\" the other case.\n",
    "\n",
    "data1.loc[data1[\"Op1\"] <2.5,\"Op1\"] = 0 \n",
    "data1.loc[data1[\"Op1\"] >=2.5,\"Op1\"] =1\n",
    "data2.loc[data2[\"Op1\"] <2.5,\"Op1\"] = 0 \n",
    "data2.loc[data2[\"Op1\"] >=2.5,\"Op1\"] =1"
   ]
  },
  {
   "cell_type": "code",
   "execution_count": 8,
   "metadata": {},
   "outputs": [],
   "source": [
    "# The third column record the photon counts of the second measurement, \n",
    "# which correspond to \"Dark state\" if the value <8.5; and \"Bright state\" the other case.\n",
    "\n",
    "data1.loc[data1[\"Op2\"] <8.5,\"Op2\"] = 0 \n",
    "data1.loc[data1[\"Op2\"] >=8.5,\"Op2\"] =1\n",
    "data2.loc[data2[\"Op2\"] <8.5,\"Op2\"] = 0 \n",
    "data2.loc[data2[\"Op2\"] >=8.5,\"Op2\"] =1"
   ]
  },
  {
   "cell_type": "code",
   "execution_count": 9,
   "metadata": {},
   "outputs": [
    {
     "data": {
      "text/html": [
       "<div>\n",
       "<style scoped>\n",
       "    .dataframe tbody tr th:only-of-type {\n",
       "        vertical-align: middle;\n",
       "    }\n",
       "\n",
       "    .dataframe tbody tr th {\n",
       "        vertical-align: top;\n",
       "    }\n",
       "\n",
       "    .dataframe thead th {\n",
       "        text-align: right;\n",
       "    }\n",
       "</style>\n",
       "<table border=\"1\" class=\"dataframe\">\n",
       "  <thead>\n",
       "    <tr style=\"text-align: right;\">\n",
       "      <th></th>\n",
       "      <th>meas</th>\n",
       "      <th>Op1</th>\n",
       "      <th>Op2</th>\n",
       "    </tr>\n",
       "  </thead>\n",
       "  <tbody>\n",
       "    <tr>\n",
       "      <th>0</th>\n",
       "      <td>1.0</td>\n",
       "      <td>1.0</td>\n",
       "      <td>0.0</td>\n",
       "    </tr>\n",
       "    <tr>\n",
       "      <th>1</th>\n",
       "      <td>4.0</td>\n",
       "      <td>0.0</td>\n",
       "      <td>1.0</td>\n",
       "    </tr>\n",
       "    <tr>\n",
       "      <th>2</th>\n",
       "      <td>4.0</td>\n",
       "      <td>0.0</td>\n",
       "      <td>1.0</td>\n",
       "    </tr>\n",
       "    <tr>\n",
       "      <th>3</th>\n",
       "      <td>2.0</td>\n",
       "      <td>0.0</td>\n",
       "      <td>1.0</td>\n",
       "    </tr>\n",
       "    <tr>\n",
       "      <th>4</th>\n",
       "      <td>5.0</td>\n",
       "      <td>1.0</td>\n",
       "      <td>0.0</td>\n",
       "    </tr>\n",
       "  </tbody>\n",
       "</table>\n",
       "</div>"
      ],
      "text/plain": [
       "   meas  Op1  Op2\n",
       "0   1.0  1.0  0.0\n",
       "1   4.0  0.0  1.0\n",
       "2   4.0  0.0  1.0\n",
       "3   2.0  0.0  1.0\n",
       "4   5.0  1.0  0.0"
      ]
     },
     "execution_count": 9,
     "metadata": {},
     "output_type": "execute_result"
    }
   ],
   "source": [
    "data1.head()"
   ]
  },
  {
   "cell_type": "code",
   "execution_count": 10,
   "metadata": {},
   "outputs": [
    {
     "data": {
      "text/html": [
       "<div>\n",
       "<style scoped>\n",
       "    .dataframe tbody tr th:only-of-type {\n",
       "        vertical-align: middle;\n",
       "    }\n",
       "\n",
       "    .dataframe tbody tr th {\n",
       "        vertical-align: top;\n",
       "    }\n",
       "\n",
       "    .dataframe thead th {\n",
       "        text-align: right;\n",
       "    }\n",
       "</style>\n",
       "<table border=\"1\" class=\"dataframe\">\n",
       "  <thead>\n",
       "    <tr style=\"text-align: right;\">\n",
       "      <th></th>\n",
       "      <th>meas</th>\n",
       "      <th>Op1</th>\n",
       "      <th>Op2</th>\n",
       "    </tr>\n",
       "  </thead>\n",
       "  <tbody>\n",
       "    <tr>\n",
       "      <th>0</th>\n",
       "      <td>10.0</td>\n",
       "      <td>0.0</td>\n",
       "      <td>1.0</td>\n",
       "    </tr>\n",
       "    <tr>\n",
       "      <th>1</th>\n",
       "      <td>10.0</td>\n",
       "      <td>1.0</td>\n",
       "      <td>0.0</td>\n",
       "    </tr>\n",
       "    <tr>\n",
       "      <th>2</th>\n",
       "      <td>7.0</td>\n",
       "      <td>1.0</td>\n",
       "      <td>0.0</td>\n",
       "    </tr>\n",
       "    <tr>\n",
       "      <th>3</th>\n",
       "      <td>6.0</td>\n",
       "      <td>0.0</td>\n",
       "      <td>1.0</td>\n",
       "    </tr>\n",
       "    <tr>\n",
       "      <th>4</th>\n",
       "      <td>9.0</td>\n",
       "      <td>0.0</td>\n",
       "      <td>0.0</td>\n",
       "    </tr>\n",
       "  </tbody>\n",
       "</table>\n",
       "</div>"
      ],
      "text/plain": [
       "   meas  Op1  Op2\n",
       "0  10.0  0.0  1.0\n",
       "1  10.0  1.0  0.0\n",
       "2   7.0  1.0  0.0\n",
       "3   6.0  0.0  1.0\n",
       "4   9.0  0.0  0.0"
      ]
     },
     "execution_count": 10,
     "metadata": {},
     "output_type": "execute_result"
    }
   ],
   "source": [
    "data2.head()"
   ]
  },
  {
   "cell_type": "code",
   "execution_count": 11,
   "metadata": {},
   "outputs": [],
   "source": [
    "data1[\"Product\"] = data1[\"Op1\"]*data1[\"Op2\"]\n",
    "data2[\"Product\"] = data2[\"Op1\"]*data2[\"Op2\"]"
   ]
  },
  {
   "cell_type": "code",
   "execution_count": 12,
   "metadata": {},
   "outputs": [
    {
     "data": {
      "text/html": [
       "<div>\n",
       "<style scoped>\n",
       "    .dataframe tbody tr th:only-of-type {\n",
       "        vertical-align: middle;\n",
       "    }\n",
       "\n",
       "    .dataframe tbody tr th {\n",
       "        vertical-align: top;\n",
       "    }\n",
       "\n",
       "    .dataframe thead th {\n",
       "        text-align: right;\n",
       "    }\n",
       "</style>\n",
       "<table border=\"1\" class=\"dataframe\">\n",
       "  <thead>\n",
       "    <tr style=\"text-align: right;\">\n",
       "      <th></th>\n",
       "      <th>meas</th>\n",
       "      <th>Op1</th>\n",
       "      <th>Op2</th>\n",
       "      <th>Product</th>\n",
       "    </tr>\n",
       "  </thead>\n",
       "  <tbody>\n",
       "    <tr>\n",
       "      <th>0</th>\n",
       "      <td>1.0</td>\n",
       "      <td>1.0</td>\n",
       "      <td>0.0</td>\n",
       "      <td>0.0</td>\n",
       "    </tr>\n",
       "    <tr>\n",
       "      <th>1</th>\n",
       "      <td>4.0</td>\n",
       "      <td>0.0</td>\n",
       "      <td>1.0</td>\n",
       "      <td>0.0</td>\n",
       "    </tr>\n",
       "    <tr>\n",
       "      <th>2</th>\n",
       "      <td>4.0</td>\n",
       "      <td>0.0</td>\n",
       "      <td>1.0</td>\n",
       "      <td>0.0</td>\n",
       "    </tr>\n",
       "    <tr>\n",
       "      <th>3</th>\n",
       "      <td>2.0</td>\n",
       "      <td>0.0</td>\n",
       "      <td>1.0</td>\n",
       "      <td>0.0</td>\n",
       "    </tr>\n",
       "    <tr>\n",
       "      <th>4</th>\n",
       "      <td>5.0</td>\n",
       "      <td>1.0</td>\n",
       "      <td>0.0</td>\n",
       "      <td>0.0</td>\n",
       "    </tr>\n",
       "    <tr>\n",
       "      <th>...</th>\n",
       "      <td>...</td>\n",
       "      <td>...</td>\n",
       "      <td>...</td>\n",
       "      <td>...</td>\n",
       "    </tr>\n",
       "    <tr>\n",
       "      <th>54994</th>\n",
       "      <td>4.0</td>\n",
       "      <td>1.0</td>\n",
       "      <td>0.0</td>\n",
       "      <td>0.0</td>\n",
       "    </tr>\n",
       "    <tr>\n",
       "      <th>54995</th>\n",
       "      <td>4.0</td>\n",
       "      <td>0.0</td>\n",
       "      <td>1.0</td>\n",
       "      <td>0.0</td>\n",
       "    </tr>\n",
       "    <tr>\n",
       "      <th>54996</th>\n",
       "      <td>2.0</td>\n",
       "      <td>0.0</td>\n",
       "      <td>1.0</td>\n",
       "      <td>0.0</td>\n",
       "    </tr>\n",
       "    <tr>\n",
       "      <th>54997</th>\n",
       "      <td>4.0</td>\n",
       "      <td>0.0</td>\n",
       "      <td>1.0</td>\n",
       "      <td>0.0</td>\n",
       "    </tr>\n",
       "    <tr>\n",
       "      <th>54998</th>\n",
       "      <td>3.0</td>\n",
       "      <td>1.0</td>\n",
       "      <td>0.0</td>\n",
       "      <td>0.0</td>\n",
       "    </tr>\n",
       "  </tbody>\n",
       "</table>\n",
       "<p>54999 rows × 4 columns</p>\n",
       "</div>"
      ],
      "text/plain": [
       "       meas  Op1  Op2  Product\n",
       "0       1.0  1.0  0.0      0.0\n",
       "1       4.0  0.0  1.0      0.0\n",
       "2       4.0  0.0  1.0      0.0\n",
       "3       2.0  0.0  1.0      0.0\n",
       "4       5.0  1.0  0.0      0.0\n",
       "...     ...  ...  ...      ...\n",
       "54994   4.0  1.0  0.0      0.0\n",
       "54995   4.0  0.0  1.0      0.0\n",
       "54996   2.0  0.0  1.0      0.0\n",
       "54997   4.0  0.0  1.0      0.0\n",
       "54998   3.0  1.0  0.0      0.0\n",
       "\n",
       "[54999 rows x 4 columns]"
      ]
     },
     "execution_count": 12,
     "metadata": {},
     "output_type": "execute_result"
    }
   ],
   "source": [
    "data1"
   ]
  },
  {
   "cell_type": "code",
   "execution_count": 13,
   "metadata": {},
   "outputs": [
    {
     "data": {
      "text/html": [
       "<div>\n",
       "<style scoped>\n",
       "    .dataframe tbody tr th:only-of-type {\n",
       "        vertical-align: middle;\n",
       "    }\n",
       "\n",
       "    .dataframe tbody tr th {\n",
       "        vertical-align: top;\n",
       "    }\n",
       "\n",
       "    .dataframe thead th {\n",
       "        text-align: right;\n",
       "    }\n",
       "</style>\n",
       "<table border=\"1\" class=\"dataframe\">\n",
       "  <thead>\n",
       "    <tr style=\"text-align: right;\">\n",
       "      <th></th>\n",
       "      <th>meas</th>\n",
       "      <th>Op1</th>\n",
       "      <th>Op2</th>\n",
       "      <th>Product</th>\n",
       "    </tr>\n",
       "  </thead>\n",
       "  <tbody>\n",
       "    <tr>\n",
       "      <th>0</th>\n",
       "      <td>10.0</td>\n",
       "      <td>0.0</td>\n",
       "      <td>1.0</td>\n",
       "      <td>0.0</td>\n",
       "    </tr>\n",
       "    <tr>\n",
       "      <th>1</th>\n",
       "      <td>10.0</td>\n",
       "      <td>1.0</td>\n",
       "      <td>0.0</td>\n",
       "      <td>0.0</td>\n",
       "    </tr>\n",
       "    <tr>\n",
       "      <th>2</th>\n",
       "      <td>7.0</td>\n",
       "      <td>1.0</td>\n",
       "      <td>0.0</td>\n",
       "      <td>0.0</td>\n",
       "    </tr>\n",
       "    <tr>\n",
       "      <th>3</th>\n",
       "      <td>6.0</td>\n",
       "      <td>0.0</td>\n",
       "      <td>1.0</td>\n",
       "      <td>0.0</td>\n",
       "    </tr>\n",
       "    <tr>\n",
       "      <th>4</th>\n",
       "      <td>9.0</td>\n",
       "      <td>0.0</td>\n",
       "      <td>0.0</td>\n",
       "      <td>0.0</td>\n",
       "    </tr>\n",
       "    <tr>\n",
       "      <th>...</th>\n",
       "      <td>...</td>\n",
       "      <td>...</td>\n",
       "      <td>...</td>\n",
       "      <td>...</td>\n",
       "    </tr>\n",
       "    <tr>\n",
       "      <th>54994</th>\n",
       "      <td>10.0</td>\n",
       "      <td>1.0</td>\n",
       "      <td>0.0</td>\n",
       "      <td>0.0</td>\n",
       "    </tr>\n",
       "    <tr>\n",
       "      <th>54995</th>\n",
       "      <td>6.0</td>\n",
       "      <td>0.0</td>\n",
       "      <td>1.0</td>\n",
       "      <td>0.0</td>\n",
       "    </tr>\n",
       "    <tr>\n",
       "      <th>54996</th>\n",
       "      <td>9.0</td>\n",
       "      <td>0.0</td>\n",
       "      <td>0.0</td>\n",
       "      <td>0.0</td>\n",
       "    </tr>\n",
       "    <tr>\n",
       "      <th>54997</th>\n",
       "      <td>8.0</td>\n",
       "      <td>1.0</td>\n",
       "      <td>0.0</td>\n",
       "      <td>0.0</td>\n",
       "    </tr>\n",
       "    <tr>\n",
       "      <th>54998</th>\n",
       "      <td>7.0</td>\n",
       "      <td>0.0</td>\n",
       "      <td>1.0</td>\n",
       "      <td>0.0</td>\n",
       "    </tr>\n",
       "  </tbody>\n",
       "</table>\n",
       "<p>54999 rows × 4 columns</p>\n",
       "</div>"
      ],
      "text/plain": [
       "       meas  Op1  Op2  Product\n",
       "0      10.0  0.0  1.0      0.0\n",
       "1      10.0  1.0  0.0      0.0\n",
       "2       7.0  1.0  0.0      0.0\n",
       "3       6.0  0.0  1.0      0.0\n",
       "4       9.0  0.0  0.0      0.0\n",
       "...     ...  ...  ...      ...\n",
       "54994  10.0  1.0  0.0      0.0\n",
       "54995   6.0  0.0  1.0      0.0\n",
       "54996   9.0  0.0  0.0      0.0\n",
       "54997   8.0  1.0  0.0      0.0\n",
       "54998   7.0  0.0  1.0      0.0\n",
       "\n",
       "[54999 rows x 4 columns]"
      ]
     },
     "execution_count": 13,
     "metadata": {},
     "output_type": "execute_result"
    }
   ],
   "source": [
    "data2"
   ]
  },
  {
   "cell_type": "code",
   "execution_count": 14,
   "metadata": {},
   "outputs": [],
   "source": [
    "data3 = data1.append(data2)"
   ]
  },
  {
   "cell_type": "code",
   "execution_count": 15,
   "metadata": {},
   "outputs": [
    {
     "data": {
      "text/html": [
       "<div>\n",
       "<style scoped>\n",
       "    .dataframe tbody tr th:only-of-type {\n",
       "        vertical-align: middle;\n",
       "    }\n",
       "\n",
       "    .dataframe tbody tr th {\n",
       "        vertical-align: top;\n",
       "    }\n",
       "\n",
       "    .dataframe thead th {\n",
       "        text-align: right;\n",
       "    }\n",
       "</style>\n",
       "<table border=\"1\" class=\"dataframe\">\n",
       "  <thead>\n",
       "    <tr style=\"text-align: right;\">\n",
       "      <th></th>\n",
       "      <th>meas</th>\n",
       "      <th>Op1</th>\n",
       "      <th>Op2</th>\n",
       "      <th>Product</th>\n",
       "    </tr>\n",
       "  </thead>\n",
       "  <tbody>\n",
       "    <tr>\n",
       "      <th>0</th>\n",
       "      <td>1.0</td>\n",
       "      <td>1.0</td>\n",
       "      <td>0.0</td>\n",
       "      <td>0.0</td>\n",
       "    </tr>\n",
       "    <tr>\n",
       "      <th>1</th>\n",
       "      <td>4.0</td>\n",
       "      <td>0.0</td>\n",
       "      <td>1.0</td>\n",
       "      <td>0.0</td>\n",
       "    </tr>\n",
       "    <tr>\n",
       "      <th>2</th>\n",
       "      <td>4.0</td>\n",
       "      <td>0.0</td>\n",
       "      <td>1.0</td>\n",
       "      <td>0.0</td>\n",
       "    </tr>\n",
       "    <tr>\n",
       "      <th>3</th>\n",
       "      <td>2.0</td>\n",
       "      <td>0.0</td>\n",
       "      <td>1.0</td>\n",
       "      <td>0.0</td>\n",
       "    </tr>\n",
       "    <tr>\n",
       "      <th>4</th>\n",
       "      <td>5.0</td>\n",
       "      <td>1.0</td>\n",
       "      <td>0.0</td>\n",
       "      <td>0.0</td>\n",
       "    </tr>\n",
       "    <tr>\n",
       "      <th>...</th>\n",
       "      <td>...</td>\n",
       "      <td>...</td>\n",
       "      <td>...</td>\n",
       "      <td>...</td>\n",
       "    </tr>\n",
       "    <tr>\n",
       "      <th>54994</th>\n",
       "      <td>10.0</td>\n",
       "      <td>1.0</td>\n",
       "      <td>0.0</td>\n",
       "      <td>0.0</td>\n",
       "    </tr>\n",
       "    <tr>\n",
       "      <th>54995</th>\n",
       "      <td>6.0</td>\n",
       "      <td>0.0</td>\n",
       "      <td>1.0</td>\n",
       "      <td>0.0</td>\n",
       "    </tr>\n",
       "    <tr>\n",
       "      <th>54996</th>\n",
       "      <td>9.0</td>\n",
       "      <td>0.0</td>\n",
       "      <td>0.0</td>\n",
       "      <td>0.0</td>\n",
       "    </tr>\n",
       "    <tr>\n",
       "      <th>54997</th>\n",
       "      <td>8.0</td>\n",
       "      <td>1.0</td>\n",
       "      <td>0.0</td>\n",
       "      <td>0.0</td>\n",
       "    </tr>\n",
       "    <tr>\n",
       "      <th>54998</th>\n",
       "      <td>7.0</td>\n",
       "      <td>0.0</td>\n",
       "      <td>1.0</td>\n",
       "      <td>0.0</td>\n",
       "    </tr>\n",
       "  </tbody>\n",
       "</table>\n",
       "<p>109998 rows × 4 columns</p>\n",
       "</div>"
      ],
      "text/plain": [
       "       meas  Op1  Op2  Product\n",
       "0       1.0  1.0  0.0      0.0\n",
       "1       4.0  0.0  1.0      0.0\n",
       "2       4.0  0.0  1.0      0.0\n",
       "3       2.0  0.0  1.0      0.0\n",
       "4       5.0  1.0  0.0      0.0\n",
       "...     ...  ...  ...      ...\n",
       "54994  10.0  1.0  0.0      0.0\n",
       "54995   6.0  0.0  1.0      0.0\n",
       "54996   9.0  0.0  0.0      0.0\n",
       "54997   8.0  1.0  0.0      0.0\n",
       "54998   7.0  0.0  1.0      0.0\n",
       "\n",
       "[109998 rows x 4 columns]"
      ]
     },
     "execution_count": 15,
     "metadata": {},
     "output_type": "execute_result"
    }
   ],
   "source": [
    "data3"
   ]
  },
  {
   "cell_type": "code",
   "execution_count": 16,
   "metadata": {},
   "outputs": [
    {
     "data": {
      "text/plain": [
       "meas       604599.0\n",
       "Op1         45282.0\n",
       "Op2         45705.0\n",
       "Product       224.0\n",
       "dtype: float64"
      ]
     },
     "execution_count": 16,
     "metadata": {},
     "output_type": "execute_result"
    }
   ],
   "source": [
    "data3.sum()"
   ]
  },
  {
   "cell_type": "code",
   "execution_count": 17,
   "metadata": {},
   "outputs": [
    {
     "data": {
      "text/plain": [
       "0.002036400661830215"
      ]
     },
     "execution_count": 17,
     "metadata": {},
     "output_type": "execute_result"
    }
   ],
   "source": [
    "# Coarse-grained deviation from orthogonality\n",
    "224.0/109998"
   ]
  },
  {
   "cell_type": "markdown",
   "metadata": {},
   "source": [
    "## Fine-Grained Orthogonality"
   ]
  },
  {
   "cell_type": "code",
   "execution_count": 18,
   "metadata": {},
   "outputs": [],
   "source": [
    "# |P(11|pia,pib) -P(11|pib,pia)| <= max(P(11|pia,pib),P(11|pia,pib))\n",
    "# Finding the worst case deviation from orthogonality, thus, corresponds to finding the max over all\n",
    "# probabilities.\n",
    "Or1 = data1.loc[data1[\"meas\"]==1]\n",
    "Or2 = data1.loc[data1[\"meas\"]==2]\n",
    "Or3 = data1.loc[data1[\"meas\"]==3]\n",
    "Or4 = data1.loc[data1[\"meas\"]==4]\n",
    "Or5 = data1.loc[data1[\"meas\"]==5]"
   ]
  },
  {
   "cell_type": "code",
   "execution_count": 19,
   "metadata": {},
   "outputs": [
    {
     "data": {
      "text/html": [
       "<div>\n",
       "<style scoped>\n",
       "    .dataframe tbody tr th:only-of-type {\n",
       "        vertical-align: middle;\n",
       "    }\n",
       "\n",
       "    .dataframe tbody tr th {\n",
       "        vertical-align: top;\n",
       "    }\n",
       "\n",
       "    .dataframe thead th {\n",
       "        text-align: right;\n",
       "    }\n",
       "</style>\n",
       "<table border=\"1\" class=\"dataframe\">\n",
       "  <thead>\n",
       "    <tr style=\"text-align: right;\">\n",
       "      <th></th>\n",
       "      <th>meas</th>\n",
       "      <th>Op1</th>\n",
       "      <th>Op2</th>\n",
       "      <th>Product</th>\n",
       "    </tr>\n",
       "  </thead>\n",
       "  <tbody>\n",
       "    <tr>\n",
       "      <th>0</th>\n",
       "      <td>10.0</td>\n",
       "      <td>0.0</td>\n",
       "      <td>1.0</td>\n",
       "      <td>0.0</td>\n",
       "    </tr>\n",
       "    <tr>\n",
       "      <th>1</th>\n",
       "      <td>10.0</td>\n",
       "      <td>1.0</td>\n",
       "      <td>0.0</td>\n",
       "      <td>0.0</td>\n",
       "    </tr>\n",
       "    <tr>\n",
       "      <th>13</th>\n",
       "      <td>10.0</td>\n",
       "      <td>0.0</td>\n",
       "      <td>0.0</td>\n",
       "      <td>0.0</td>\n",
       "    </tr>\n",
       "    <tr>\n",
       "      <th>21</th>\n",
       "      <td>10.0</td>\n",
       "      <td>0.0</td>\n",
       "      <td>0.0</td>\n",
       "      <td>0.0</td>\n",
       "    </tr>\n",
       "    <tr>\n",
       "      <th>34</th>\n",
       "      <td>10.0</td>\n",
       "      <td>1.0</td>\n",
       "      <td>0.0</td>\n",
       "      <td>0.0</td>\n",
       "    </tr>\n",
       "  </tbody>\n",
       "</table>\n",
       "</div>"
      ],
      "text/plain": [
       "    meas  Op1  Op2  Product\n",
       "0   10.0  0.0  1.0      0.0\n",
       "1   10.0  1.0  0.0      0.0\n",
       "13  10.0  0.0  0.0      0.0\n",
       "21  10.0  0.0  0.0      0.0\n",
       "34  10.0  1.0  0.0      0.0"
      ]
     },
     "execution_count": 19,
     "metadata": {},
     "output_type": "execute_result"
    }
   ],
   "source": [
    "Or6 = data2.loc[data2[\"meas\"]==6]\n",
    "Or7 = data2.loc[data2[\"meas\"]==7]\n",
    "Or8 = data2.loc[data2[\"meas\"]==8]\n",
    "Or9 = data2.loc[data2[\"meas\"]==9]\n",
    "Or10 = data2.loc[data2[\"meas\"]==10]\n",
    "Or10.head()"
   ]
  },
  {
   "cell_type": "code",
   "execution_count": 20,
   "metadata": {},
   "outputs": [
    {
     "data": {
      "text/plain": [
       "(11073, 4)"
      ]
     },
     "execution_count": 20,
     "metadata": {},
     "output_type": "execute_result"
    }
   ],
   "source": [
    "Or4.shape"
   ]
  },
  {
   "cell_type": "code",
   "execution_count": 21,
   "metadata": {},
   "outputs": [
    {
     "data": {
      "text/plain": [
       "[0.0020651881116997397,\n",
       " 0.002061855670103093,\n",
       " 0.003062076644706319,\n",
       " 0.000812787862367922,\n",
       " 0.0024868748273003593,\n",
       " 0.001456796867886734,\n",
       " 0.0022034520749173708,\n",
       " 0.0014554716637860457,\n",
       " 0.0007173601147776184,\n",
       " 0.0040987339466253755]"
      ]
     },
     "execution_count": 21,
     "metadata": {},
     "output_type": "execute_result"
    }
   ],
   "source": [
    "List1= []\n",
    "List1.append(Or1.sum()[\"Product\"]/Or1.shape[0])\n",
    "List1.append(Or2.sum()[\"Product\"]/Or2.shape[0])\n",
    "List1.append(Or3.sum()[\"Product\"]/Or3.shape[0])\n",
    "List1.append(Or4.sum()[\"Product\"]/Or4.shape[0])\n",
    "List1.append(Or5.sum()[\"Product\"]/Or5.shape[0])\n",
    "List1.append(Or6.sum()[\"Product\"]/Or6.shape[0])\n",
    "List1.append(Or7.sum()[\"Product\"]/Or7.shape[0])\n",
    "List1.append(Or8.sum()[\"Product\"]/Or8.shape[0])\n",
    "List1.append(Or9.sum()[\"Product\"]/Or9.shape[0])\n",
    "List1.append(Or10.sum()[\"Product\"]/Or10.shape[0])\n",
    "List1"
   ]
  },
  {
   "cell_type": "code",
   "execution_count": 22,
   "metadata": {},
   "outputs": [
    {
     "data": {
      "text/plain": [
       "0.0040987339466253755"
      ]
     },
     "execution_count": 22,
     "metadata": {},
     "output_type": "execute_result"
    }
   ],
   "source": [
    "max(List1)"
   ]
  },
  {
   "cell_type": "markdown",
   "metadata": {},
   "source": [
    "# Repeatability"
   ]
  },
  {
   "cell_type": "markdown",
   "metadata": {},
   "source": [
    "##  Data Files"
   ]
  },
  {
   "cell_type": "code",
   "execution_count": 23,
   "metadata": {},
   "outputs": [],
   "source": [
    "# Sharpness measurement i\n",
    "SM1 = pd.read_csv(\"SharpnessM1.csv\")\n",
    "SM2 = pd.read_csv(\"SharpnessM2.csv\")\n",
    "SM3 = pd.read_csv(\"SharpnessM3.csv\")\n",
    "SM4 = pd.read_csv(\"SharpnessM4.csv\")\n",
    "SM5 = pd.read_csv(\"SharpnessM5.csv\")"
   ]
  },
  {
   "cell_type": "code",
   "execution_count": 24,
   "metadata": {},
   "outputs": [],
   "source": [
    "SM1.columns = [\"Op1\", \"Op2\"]\n",
    "SM2.columns = [\"Op1\", \"Op2\"]\n",
    "SM3.columns = [\"Op1\", \"Op2\"]\n",
    "SM4.columns = [\"Op1\", \"Op2\"]\n",
    "SM5.columns = [\"Op1\", \"Op2\"]"
   ]
  },
  {
   "cell_type": "markdown",
   "metadata": {},
   "source": [
    "## Processing"
   ]
  },
  {
   "cell_type": "markdown",
   "metadata": {},
   "source": [
    "### $\\Pi_1$"
   ]
  },
  {
   "cell_type": "code",
   "execution_count": 25,
   "metadata": {},
   "outputs": [],
   "source": [
    "SM1.loc[SM1[\"Op1\"] <2.5,\"Op1\"] = 0 \n",
    "SM1.loc[SM1[\"Op2\"] <8.5,\"Op2\"] = 0 \n",
    "SM1.loc[SM1[\"Op1\"] >=2.5,\"Op1\"] = 1 \n",
    "SM1.loc[SM1[\"Op2\"] >=8.5,\"Op2\"] = 1 "
   ]
  },
  {
   "cell_type": "code",
   "execution_count": 26,
   "metadata": {},
   "outputs": [],
   "source": [
    "SM1[\"XOR\"] = (SM1[\"Op1\"]+SM1[\"Op2\"])%2"
   ]
  },
  {
   "cell_type": "code",
   "execution_count": 27,
   "metadata": {},
   "outputs": [
    {
     "data": {
      "text/plain": [
       "14999"
      ]
     },
     "execution_count": 27,
     "metadata": {},
     "output_type": "execute_result"
    }
   ],
   "source": [
    "SM1.shape[0]"
   ]
  },
  {
   "cell_type": "code",
   "execution_count": 28,
   "metadata": {},
   "outputs": [
    {
     "data": {
      "text/plain": [
       "96.0"
      ]
     },
     "execution_count": 28,
     "metadata": {},
     "output_type": "execute_result"
    }
   ],
   "source": [
    "SM1.sum()[\"XOR\"]"
   ]
  },
  {
   "cell_type": "code",
   "execution_count": 29,
   "metadata": {},
   "outputs": [
    {
     "data": {
      "text/plain": [
       "0.993599573304887"
      ]
     },
     "execution_count": 29,
     "metadata": {},
     "output_type": "execute_result"
    }
   ],
   "source": [
    "1-(96.0/14999)"
   ]
  },
  {
   "cell_type": "code",
   "execution_count": 30,
   "metadata": {},
   "outputs": [
    {
     "data": {
      "text/plain": [
       "0.006400426695113008"
      ]
     },
     "execution_count": 30,
     "metadata": {},
     "output_type": "execute_result"
    }
   ],
   "source": [
    "96.0/14999"
   ]
  },
  {
   "cell_type": "markdown",
   "metadata": {},
   "source": [
    "### $\\Pi_2$"
   ]
  },
  {
   "cell_type": "code",
   "execution_count": 31,
   "metadata": {},
   "outputs": [
    {
     "data": {
      "text/plain": [
       "0.9913327555170345"
      ]
     },
     "execution_count": 31,
     "metadata": {},
     "output_type": "execute_result"
    }
   ],
   "source": [
    "SM2.loc[SM2[\"Op1\"] <2.5,\"Op1\"] = 0 \n",
    "SM2.loc[SM2[\"Op2\"] <8.5,\"Op2\"] = 0 \n",
    "SM2.loc[SM2[\"Op1\"] >=2.5,\"Op1\"] = 1 \n",
    "SM2.loc[SM2[\"Op2\"] >=8.5,\"Op2\"] = 1 \n",
    "SM2[\"XOR\"] = (SM2[\"Op1\"]+SM2[\"Op2\"])%2\n",
    "Tot2 = SM2.shape[0]\n",
    "1-(SM2.sum()[\"XOR\"]/Tot2)"
   ]
  },
  {
   "cell_type": "code",
   "execution_count": 32,
   "metadata": {},
   "outputs": [
    {
     "data": {
      "text/plain": [
       "0.008667244482965531"
      ]
     },
     "execution_count": 32,
     "metadata": {},
     "output_type": "execute_result"
    }
   ],
   "source": [
    "(SM2.sum()[\"XOR\"]/Tot2)"
   ]
  },
  {
   "cell_type": "code",
   "execution_count": 33,
   "metadata": {},
   "outputs": [
    {
     "data": {
      "text/plain": [
       "0.9899326621774786"
      ]
     },
     "execution_count": 33,
     "metadata": {},
     "output_type": "execute_result"
    }
   ],
   "source": [
    "SM3.loc[SM3[\"Op1\"] <2.5,\"Op1\"] = 0 \n",
    "SM3.loc[SM3[\"Op2\"] <8.5,\"Op2\"] = 0 \n",
    "SM3.loc[SM3[\"Op1\"] >=2.5,\"Op1\"] = 1 \n",
    "SM3.loc[SM3[\"Op2\"] >=8.5,\"Op2\"] = 1 \n",
    "SM3[\"XOR\"] = (SM3[\"Op1\"]+SM3[\"Op2\"])%2\n",
    "Tot3 = SM3.shape[0]\n",
    "1-(SM3.sum()[\"XOR\"]/Tot3)"
   ]
  },
  {
   "cell_type": "code",
   "execution_count": 34,
   "metadata": {},
   "outputs": [
    {
     "data": {
      "text/plain": [
       "0.010067337822521501"
      ]
     },
     "execution_count": 34,
     "metadata": {},
     "output_type": "execute_result"
    }
   ],
   "source": [
    "(SM3.sum()[\"XOR\"]/Tot3)"
   ]
  },
  {
   "cell_type": "code",
   "execution_count": 35,
   "metadata": {},
   "outputs": [
    {
     "data": {
      "text/plain": [
       "0.9934662310820721"
      ]
     },
     "execution_count": 35,
     "metadata": {},
     "output_type": "execute_result"
    }
   ],
   "source": [
    "SM4.loc[SM4[\"Op1\"] <2.5,\"Op1\"] = 0 \n",
    "SM4.loc[SM4[\"Op2\"] <8.5,\"Op2\"] = 0 \n",
    "SM4.loc[SM4[\"Op1\"] >=2.5,\"Op1\"] = 1 \n",
    "SM4.loc[SM4[\"Op2\"] >=8.5,\"Op2\"] = 1 \n",
    "SM4[\"XOR\"] = (SM4[\"Op1\"]+SM4[\"Op2\"])%2\n",
    "Tot4 = SM4.shape[0]\n",
    "1-(SM4.sum()[\"XOR\"]/Tot4)"
   ]
  },
  {
   "cell_type": "code",
   "execution_count": 36,
   "metadata": {},
   "outputs": [
    {
     "data": {
      "text/plain": [
       "0.006533768917927862"
      ]
     },
     "execution_count": 36,
     "metadata": {},
     "output_type": "execute_result"
    }
   ],
   "source": [
    "(SM4.sum()[\"XOR\"]/Tot4)"
   ]
  },
  {
   "cell_type": "code",
   "execution_count": 37,
   "metadata": {},
   "outputs": [
    {
     "data": {
      "text/plain": [
       "0.994066271084739"
      ]
     },
     "execution_count": 37,
     "metadata": {},
     "output_type": "execute_result"
    }
   ],
   "source": [
    "SM5.loc[SM5[\"Op1\"] <2.5,\"Op1\"] = 0 \n",
    "SM5.loc[SM5[\"Op2\"] <8.5,\"Op2\"] = 0 \n",
    "SM5.loc[SM5[\"Op1\"] >=2.5,\"Op1\"] = 1 \n",
    "SM5.loc[SM5[\"Op2\"] >=8.5,\"Op2\"] = 1 \n",
    "SM5[\"XOR\"] = (SM5[\"Op1\"]+SM5[\"Op2\"])%2\n",
    "Tot5 = SM5.shape[0]\n",
    "1-(SM5.sum()[\"XOR\"]/Tot5)"
   ]
  },
  {
   "cell_type": "code",
   "execution_count": 38,
   "metadata": {},
   "outputs": [
    {
     "data": {
      "text/plain": [
       "0.005933728915261017"
      ]
     },
     "execution_count": 38,
     "metadata": {},
     "output_type": "execute_result"
    }
   ],
   "source": [
    "(SM5.sum()[\"XOR\"]/Tot5)"
   ]
  },
  {
   "cell_type": "markdown",
   "metadata": {},
   "source": [
    "# Final Error"
   ]
  },
  {
   "cell_type": "code",
   "execution_count": 39,
   "metadata": {},
   "outputs": [
    {
     "data": {
      "text/plain": [
       "0.0040987339466253755"
      ]
     },
     "execution_count": 39,
     "metadata": {},
     "output_type": "execute_result"
    }
   ],
   "source": [
    "delta = 0.010 # worst case deviation from repeatability\n",
    "epsilon1 = max(List1)\n",
    "epsilon = 0.011 #  worst case deviation from orthogonality\n",
    "epsilon1"
   ]
  },
  {
   "cell_type": "code",
   "execution_count": 40,
   "metadata": {},
   "outputs": [],
   "source": [
    "err = 2*epsilon + delta + epsilon*epsilon"
   ]
  },
  {
   "cell_type": "code",
   "execution_count": 41,
   "metadata": {},
   "outputs": [
    {
     "data": {
      "text/plain": [
       "0.032121000000000004"
      ]
     },
     "execution_count": 41,
     "metadata": {},
     "output_type": "execute_result"
    }
   ],
   "source": [
    "err"
   ]
  },
  {
   "cell_type": "code",
   "execution_count": 42,
   "metadata": {},
   "outputs": [],
   "source": [
    "fiderr = 32.22*epsilon"
   ]
  },
  {
   "cell_type": "code",
   "execution_count": 43,
   "metadata": {},
   "outputs": [
    {
     "data": {
      "text/plain": [
       "0.35441999999999996"
      ]
     },
     "execution_count": 43,
     "metadata": {},
     "output_type": "execute_result"
    }
   ],
   "source": [
    "fiderr"
   ]
  },
  {
   "cell_type": "markdown",
   "metadata": {},
   "source": [
    "## Noisy Fidelity"
   ]
  },
  {
   "cell_type": "code",
   "execution_count": 44,
   "metadata": {},
   "outputs": [],
   "source": [
    "Fidata = pd.read_csv(\"Robustness_1.csv\")"
   ]
  },
  {
   "cell_type": "code",
   "execution_count": 45,
   "metadata": {},
   "outputs": [],
   "source": [
    "Fidata[\"KCBS Value\"] = Fidata[\"KCBS Value\"]*5 + 2.0"
   ]
  },
  {
   "cell_type": "code",
   "execution_count": 46,
   "metadata": {},
   "outputs": [
    {
     "data": {
      "text/plain": [
       "[<matplotlib.lines.Line2D at 0x7fea2a33cb50>]"
      ]
     },
     "execution_count": 46,
     "metadata": {},
     "output_type": "execute_result"
    },
    {
     "data": {
      "image/png": "[encoded data removed]",
      "text/plain": [
       "<Figure size 432x288 with 1 Axes>"
      ]
     },
     "metadata": {
      "needs_background": "light"
     },
     "output_type": "display_data"
    }
   ],
   "source": [
    "plt.plot(Fidata[\"KCBS Value\"],Fidata[\"Total Fidelity\"])"
   ]
  },
  {
   "cell_type": "code",
   "execution_count": 47,
   "metadata": {},
   "outputs": [
    {
     "data": {
      "image/png": "[encoded data removed]",
      "text/plain": [
       "<Figure size 432x288 with 1 Axes>"
      ]
     },
     "metadata": {
      "needs_background": "light"
     },
     "output_type": "display_data"
    }
   ],
   "source": [
    "fig = plt.figure()\n",
    "#plt.plot(Fidata[\"KCBS Value\"]+err,Fidata[\"Total Fidelity\"]-fiderr,label='Noisy')\n",
    "plt.plot(Fidata[\"KCBS Value\"],Fidata[\"Total Fidelity\"]-fiderr,label='Noisy')\n",
    "plt.plot(Fidata[\"KCBS Value\"],Fidata[\"Total Fidelity\"],label='Noiseless')\n",
    "plt.axvline((5+3.886)/4,color = 'green',label='Experimentally observed best violation')\n",
    "plt.xlim(2,np.sqrt(5))\n",
    "plt.xlabel('KCBS Violation')\n",
    "plt.ylabel('Total Fidelity')\n",
    "plt.legend(loc='upper center', bbox_to_anchor=(1.4, 0.3),shadow=False, ncol=1,frameon=False)\n",
    "plt.savefig('Five_cycle_Noisy.pdf', bbox_inches='tight')"
   ]
  },
  {
   "cell_type": "markdown",
   "metadata": {},
   "source": [
    "## Experimental Datapoints"
   ]
  },
  {
   "cell_type": "code",
   "execution_count": 48,
   "metadata": {},
   "outputs": [],
   "source": [
    "def ComptoExc(val):\n",
    "    return (5-val)/4"
   ]
  },
  {
   "cell_type": "code",
   "execution_count": 49,
   "metadata": {},
   "outputs": [
    {
     "data": {
      "text/plain": [
       "2.2"
      ]
     },
     "execution_count": 49,
     "metadata": {},
     "output_type": "execute_result"
    }
   ],
   "source": [
    "ComptoExc(-3.8)"
   ]
  },
  {
   "cell_type": "code",
   "execution_count": 50,
   "metadata": {},
   "outputs": [
    {
     "data": {
      "text/plain": [
       "[2.2215, 2.2135, 2.15975, 2.10175, 2.0564999999999998, 2.05725]"
      ]
     },
     "execution_count": 50,
     "metadata": {},
     "output_type": "execute_result"
    }
   ],
   "source": [
    "data_viol = [-3.886,-3.854,-3.639,-3.407, -3.226,-3.229]\n",
    "data_x = []\n",
    "for k in data_viol:\n",
    "    data_x.append(ComptoExc(k))\n",
    "data_x"
   ]
  },
  {
   "cell_type": "code",
   "execution_count": 51,
   "metadata": {},
   "outputs": [
    {
     "data": {
      "text/plain": [
       "4.966"
      ]
     },
     "execution_count": 51,
     "metadata": {},
     "output_type": "execute_result"
    }
   ],
   "source": [
    "meas_fid_48 = 0.994 + 0.991 + 0.996 + 0.995 + 0.990\n",
    "meas_fid_48"
   ]
  },
  {
   "cell_type": "code",
   "execution_count": 52,
   "metadata": {},
   "outputs": [],
   "source": [
    "state_fid = [0.999,0.999,0.935,0.846]"
   ]
  },
  {
   "cell_type": "code",
   "execution_count": 53,
   "metadata": {},
   "outputs": [
    {
     "data": {
      "text/plain": [
       "[5.965, 5.965, 5.901, 5.812]"
      ]
     },
     "execution_count": 53,
     "metadata": {},
     "output_type": "execute_result"
    }
   ],
   "source": [
    "Total_fid = []\n",
    "for k in state_fid:\n",
    "    Total_fid.append(k+meas_fid_48)\n",
    "Total_fid "
   ]
  },
  {
   "cell_type": "markdown",
   "metadata": {},
   "source": [
    "### New Datapoints"
   ]
  },
  {
   "cell_type": "markdown",
   "metadata": {},
   "source": [
    "#### 150"
   ]
  },
  {
   "cell_type": "code",
   "execution_count": 54,
   "metadata": {},
   "outputs": [
    {
     "data": {
      "text/plain": [
       "4.787495462940044"
      ]
     },
     "execution_count": 54,
     "metadata": {},
     "output_type": "execute_result"
    }
   ],
   "source": [
    "tot_fid_150 = 4.8205954629400445\n",
    "tot_fid_150 = - 6 + tot_fid_150 + (0.9949 + 0.9949 + 0.9941 + 0.9955 + 0.9929 + 0.9946) # Tri ineq infidelity\n",
    "Total_fid.append(tot_fid_150)\n",
    "# Total_fid.append(tot_fid_150)\n",
    "tot_fid_150"
   ]
  },
  {
   "cell_type": "markdown",
   "metadata": {},
   "source": [
    "#### 22"
   ]
  },
  {
   "cell_type": "code",
   "execution_count": 55,
   "metadata": {},
   "outputs": [
    {
     "data": {
      "text/plain": [
       "4.650230121422457"
      ]
     },
     "execution_count": 55,
     "metadata": {},
     "output_type": "execute_result"
    }
   ],
   "source": [
    "tot_fid_22 = 4.667530121422457\n",
    "tot_fid_22 = -6 + tot_fid_22 + (0.9970 + 0.9977 + 0.9967 + 1 + 0.9969 + 0.9944)\n",
    "Total_fid.append(tot_fid_22)\n",
    "# Total_fid.append(tot_fid_22)\n",
    "tot_fid_22"
   ]
  },
  {
   "cell_type": "markdown",
   "metadata": {},
   "source": [
    "### Final Plot"
   ]
  },
  {
   "cell_type": "code",
   "execution_count": 61,
   "metadata": {},
   "outputs": [
    {
     "data": {
      "image/png": "[encoded data removed]",
      "text/plain": [
       "<Figure size 432x288 with 1 Axes>"
      ]
     },
     "metadata": {
      "needs_background": "light"
     },
     "output_type": "display_data"
    }
   ],
   "source": [
    "fig = plt.figure()\n",
    "#plt.plot(Fidata[\"KCBS Value\"]+err,Fidata[\"Total Fidelity\"]-fiderr,label='Noisy curve')\n",
    "# plt.plot(Fidata[\"KCBS Value\"],Fidata[\"Total Fidelity\"]-fiderr,label='Noisy curve')\n",
    "plt.plot(Fidata[\"KCBS Value\"],Fidata[\"Total Fidelity\"],label='Robustness curve')\n",
    "plt.scatter(data_x,Total_fid,color = 'red',label='Experimental data')\n",
    "# plt.axvline((5+3.886)/4,color = 'green',label='Experimentally observed best violation')\n",
    "plt.xlim(2,np.sqrt(5))\n",
    "# plt.grid(True)\n",
    "# plt.grid(False)\n",
    "# Show the major grid lines with dark grey lines\n",
    "plt.grid(b=True, which='major', color='#666666', linestyle='-')\n",
    "\n",
    "# Show the minor grid lines with very faint and almost transparent grey lines\n",
    "plt.minorticks_on()\n",
    "plt.grid(b=True, which='minor', color='#999999', linestyle='-', alpha=0.4)\n",
    "plt.xlabel('KCBS Violation')\n",
    "plt.ylabel('Total Fidelity')\n",
    "plt.legend(loc='upper center', bbox_to_anchor=(1.2, 0.3),shadow=False, ncol=1,frameon=False)\n",
    "plt.savefig('Robust.pdf', bbox_inches='tight')"
   ]
  },
  {
   "cell_type": "markdown",
   "metadata": {},
   "source": [
    "# Data File"
   ]
  },
  {
   "cell_type": "code",
   "execution_count": 57,
   "metadata": {},
   "outputs": [],
   "source": [
    "col1 = pd.Series(Fidata[\"KCBS Value\"]).array\n",
    "col2 = pd.Series(Fidata[\"Total Fidelity\"]).array\n",
    "col3 = pd.Series(Fidata[\"Total Fidelity\"]-fiderr).array"
   ]
  },
  {
   "cell_type": "code",
   "execution_count": 58,
   "metadata": {},
   "outputs": [],
   "source": [
    "findata = pd.DataFrame([col1,col2,col3])\n",
    "findata = findata.T\n",
    "findata.columns = [\"KCBS Value\", \"Noiseless Fidelity\", \"Noisy Fidelity\"]"
   ]
  },
  {
   "cell_type": "code",
   "execution_count": 59,
   "metadata": {},
   "outputs": [],
   "source": [
    "findata;"
   ]
  },
  {
   "cell_type": "code",
   "execution_count": 60,
   "metadata": {},
   "outputs": [],
   "source": [
    "findata.to_csv(\"robustness_curves.csv\")"
   ]
  },
  {
   "cell_type": "code",
   "execution_count": null,
   "metadata": {},
   "outputs": [],
   "source": []
  }
 ],
 "metadata": {
  "kernelspec": {
   "display_name": "Python 3",
   "language": "python",
   "name": "python3"
  },
  "language_info": {
   "codemirror_mode": {
    "name": "ipython",
    "version": 3
   },
   "file_extension": ".py",
   "mimetype": "text/x-python",
   "name": "python",
   "nbconvert_exporter": "python",
   "pygments_lexer": "ipython3",
   "version": "3.8.8"
  },
  "latex_envs": {
   "LaTeX_envs_menu_present": true,
   "autoclose": false,
   "autocomplete": true,
   "bibliofile": "biblio.bib",
   "cite_by": "apalike",
   "current_citInitial": 1,
   "eqLabelWithNumbers": true,
   "eqNumInitial": 1,
   "hotkeys": {
    "equation": "Ctrl-E",
    "itemize": "Ctrl-I"
   },
   "labels_anchors": false,
   "latex_user_defs": false,
   "report_style_numbering": false,
   "user_envs_cfg": false
  },
  "toc": {
   "base_numbering": 1,
   "nav_menu": {},
   "number_sections": true,
   "sideBar": true,
   "skip_h1_title": false,
   "title_cell": "Table of Contents",
   "title_sidebar": "Contents",
   "toc_cell": false,
   "toc_position": {
    "height": "calc(100% - 180px)",
    "left": "10px",
    "top": "150px",
    "width": "290.54px"
   },
   "toc_section_display": true,
   "toc_window_display": true
  }
 },
 "nbformat": 4,
 "nbformat_minor": 2
}
