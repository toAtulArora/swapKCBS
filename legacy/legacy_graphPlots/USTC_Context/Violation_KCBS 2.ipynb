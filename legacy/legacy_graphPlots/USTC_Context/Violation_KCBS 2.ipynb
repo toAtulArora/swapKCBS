{
 "cells": [
  {
   "cell_type": "markdown",
   "metadata": {},
   "source": [
    "# Import Libraries"
   ]
  },
  {
   "cell_type": "code",
   "execution_count": 1,
   "metadata": {},
   "outputs": [],
   "source": [
    "import numpy as np\n",
    "import pandas as pd\n",
    "import matplotlib.pyplot as plt"
   ]
  },
  {
   "cell_type": "markdown",
   "metadata": {},
   "source": [
    "# Reading files to list"
   ]
  },
  {
   "cell_type": "code",
   "execution_count": 3,
   "metadata": {},
   "outputs": [],
   "source": [
    "data1 = pd.read_csv(\"Fid_KCBS_1.csv\")\n",
    "data2 = pd.read_csv(\"Fid_KCBS_2.csv\")\n",
    "data3 = pd.read_csv(\"Fid_KCBS_3.csv\")\n",
    "data4 = pd.read_csv(\"Fid_KCBS_4.csv\")\n",
    "data5 = pd.read_csv(\"Fid_KCBS_5.csv\")\n",
    "data6 = pd.read_csv(\"Fid_KCBS_6.csv\")\n",
    "data7 = pd.read_csv(\"Fid_KCBS_7.csv\")\n",
    "data8 = pd.read_csv(\"Fid_KCBS_8.csv\")\n",
    "data9 = pd.read_csv(\"Fid_KCBS_9.csv\")\n",
    "data10 = pd.read_csv(\"Fid_KCBS_10.csv\")"
   ]
  },
  {
   "cell_type": "code",
   "execution_count": 4,
   "metadata": {},
   "outputs": [],
   "source": [
    "Viol = pd.read_csv(\"Viol_KCBS.csv\")"
   ]
  },
  {
   "cell_type": "code",
   "execution_count": 5,
   "metadata": {},
   "outputs": [],
   "source": [
    "x = Viol['Viol']"
   ]
  },
  {
   "cell_type": "code",
   "execution_count": 6,
   "metadata": {},
   "outputs": [],
   "source": [
    "y = data1['Fidelity']\n",
    "y = y.append(data2['Fidelity'])\n",
    "y = y.append(data3['Fidelity'])\n",
    "y = y.append(data4['Fidelity'])\n",
    "y = y.append(data5['Fidelity'])\n",
    "y = y.append(data6['Fidelity'])\n",
    "y = y.append(data7['Fidelity'])\n",
    "y = y.append(data8['Fidelity'])\n",
    "y = y.append(data9['Fidelity'])\n",
    "y = y.append(data10['Fidelity'])"
   ]
  },
  {
   "cell_type": "code",
   "execution_count": 7,
   "metadata": {},
   "outputs": [],
   "source": [
    "Fid = list(y)"
   ]
  },
  {
   "cell_type": "code",
   "execution_count": 8,
   "metadata": {},
   "outputs": [],
   "source": [
    "x = list(x)"
   ]
  },
  {
   "cell_type": "markdown",
   "metadata": {},
   "source": [
    "# Processing the inputs"
   ]
  },
  {
   "cell_type": "code",
   "execution_count": 68,
   "metadata": {},
   "outputs": [],
   "source": [
    "for i in range(len(x)):\n",
    "    x[i] = 5- 4*(x[i]*5 + 2.0)"
   ]
  },
  {
   "cell_type": "markdown",
   "metadata": {},
   "source": [
    "# Plotting"
   ]
  },
  {
   "cell_type": "code",
   "execution_count": 69,
   "metadata": {},
   "outputs": [
    {
     "data": {
      "image/png": "[encoded data removed]",
      "text/plain": [
       "<Figure size 432x288 with 1 Axes>"
      ]
     },
     "metadata": {
      "needs_background": "light"
     },
     "output_type": "display_data"
    }
   ],
   "source": [
    "fig = plt.figure()\n",
    "plt.scatter(x,Fid)\n",
    "plt.plot(x,Fid)\n",
    "plt.xlim(-3.00,-3.95)\n",
    "plt.xlabel('KCBS Violation')\n",
    "plt.ylabel('Total Fidelity')\n",
    "plt.savefig('Five_cycle_1.pdf', bbox_inches='tight')"
   ]
  },
  {
   "cell_type": "code",
   "execution_count": 70,
   "metadata": {},
   "outputs": [
    {
     "data": {
      "image/png": "[encoded data removed]",
      "text/plain": [
       "<Figure size 432x288 with 1 Axes>"
      ]
     },
     "metadata": {
      "needs_background": "light"
     },
     "output_type": "display_data"
    }
   ],
   "source": [
    "fig = plt.figure()\n",
    "plt.scatter(x,Fid)\n",
    "plt.plot(x,Fid)\n",
    "plt.xlim(-3.8,-3.95)\n",
    "plt.xlabel('KCBS Violation')\n",
    "plt.ylabel('Total Fidelity')\n",
    "plt.savefig('Five_cycle_2.pdf', bbox_inches='tight')"
   ]
  },
  {
   "cell_type": "markdown",
   "metadata": {},
   "source": [
    "#  Saving to CSV"
   ]
  },
  {
   "cell_type": "code",
   "execution_count": 9,
   "metadata": {},
   "outputs": [],
   "source": [
    "df = pd.DataFrame(data={\"KCBS Value\": x, \"Total Fidelity\": Fid})\n",
    "df.to_csv(\"./Robustness_1.csv\", sep=',',index=False)"
   ]
  },
  {
   "cell_type": "code",
   "execution_count": null,
   "metadata": {},
   "outputs": [],
   "source": []
  }
 ],
 "metadata": {
  "kernelspec": {
   "display_name": "Python 3",
   "language": "python",
   "name": "python3"
  },
  "language_info": {
   "codemirror_mode": {
    "name": "ipython",
    "version": 3
   },
   "file_extension": ".py",
   "mimetype": "text/x-python",
   "name": "python",
   "nbconvert_exporter": "python",
   "pygments_lexer": "ipython3",
   "version": "3.7.5"
  },
  "toc": {
   "base_numbering": 1,
   "nav_menu": {},
   "number_sections": true,
   "sideBar": true,
   "skip_h1_title": false,
   "title_cell": "Table of Contents",
   "title_sidebar": "Contents",
   "toc_cell": false,
   "toc_position": {},
   "toc_section_display": true,
   "toc_window_display": true
  }
 },
 "nbformat": 4,
 "nbformat_minor": 2
}
