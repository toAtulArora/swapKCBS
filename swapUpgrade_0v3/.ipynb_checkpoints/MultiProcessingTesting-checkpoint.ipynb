{
 "cells": [
  {
   "cell_type": "code",
   "execution_count": 1,
   "metadata": {
    "init_cell": true
   },
   "outputs": [],
   "source": [
    "import multiprocessing as mp\n",
    "import pickle as pk\n",
    "import ctypes"
   ]
  },
  {
   "cell_type": "code",
   "execution_count": null,
   "metadata": {
    "scrolled": false
   },
   "outputs": [],
   "source": [
    "Y=range(100)\n",
    "\n",
    "def gla(x):\n",
    "    j=0\n",
    "    for i in range(100000):\n",
    "        j+=((-1)**i)*iw\n",
    "        for y in Y:\n",
    "            j+=y\n",
    "    print(\"I am glaing\",x,j,\"gl3\")\n",
    "    if(x%2==0):\n",
    "        return [x]\n",
    "\n",
    "pool=mp.Pool(processes=40)    \n",
    "\n",
    "res=[]\n",
    "for i in range(30):\n",
    "    res += [pool.apply_async(gla,args=(i,))]\n",
    "\n",
    "ans = [p.get() for p in res  if p.get() != None]\n",
    "print(ans)\n",
    "#pool.close()\n"
   ]
  },
  {
   "cell_type": "code",
   "execution_count": null,
   "metadata": {},
   "outputs": [],
   "source": [
    "pool.map(gla,range(0,10))"
   ]
  },
  {
   "cell_type": "code",
   "execution_count": null,
   "metadata": {},
   "outputs": [],
   "source": [
    "x=5"
   ]
  },
  {
   "cell_type": "code",
   "execution_count": null,
   "metadata": {},
   "outputs": [],
   "source": [
    "def f(x):\n",
    "    x=x+1"
   ]
  },
  {
   "cell_type": "code",
   "execution_count": null,
   "metadata": {},
   "outputs": [],
   "source": [
    "f(x)"
   ]
  },
  {
   "cell_type": "code",
   "execution_count": null,
   "metadata": {},
   "outputs": [],
   "source": [
    "print(x)"
   ]
  },
  {
   "cell_type": "markdown",
   "metadata": {},
   "source": [
    "# Testing CVXPY"
   ]
  },
  {
   "cell_type": "code",
   "execution_count": 2,
   "metadata": {
    "init_cell": true
   },
   "outputs": [],
   "source": [
    "import cvxpy as cp"
   ]
  },
  {
   "cell_type": "markdown",
   "metadata": {},
   "source": [
    "## Sanity"
   ]
  },
  {
   "cell_type": "code",
   "execution_count": null,
   "metadata": {},
   "outputs": [],
   "source": [
    "X = cp.Variable((10,10),symmetric=True)    \n",
    "\n",
    "#>> is for matrix inequality\n",
    "constraints = [X >> 0,X[0,0]==1,X[1,1]==0]\n",
    "y = X[0,1]\n",
    "prob=cp.Problem(cp.Maximize(y),constraints)\n",
    "prob.solve(verbose=True,solver=cp.SCS)"
   ]
  },
  {
   "cell_type": "code",
   "execution_count": null,
   "metadata": {},
   "outputs": [],
   "source": [
    "def gla():\n",
    "    X = cp.Variable((10,10),symmetric=True)    \n",
    "\n",
    "    #>> is for matrix inequality\n",
    "    constraints = [X >> 0,X[0,0]==1,X[1,1]==0]\n",
    "    y = X[0,1]\n",
    "    prob=cp.Problem(cp.Maximize(y),constraints)\n",
    "    prob.solve(verbose=True,solver=cp.SCS)\n",
    "    \n",
    "gla()"
   ]
  },
  {
   "cell_type": "markdown",
   "metadata": {},
   "source": [
    "## With functions"
   ]
  },
  {
   "cell_type": "code",
   "execution_count": null,
   "metadata": {},
   "outputs": [],
   "source": [
    "[PSD(Expression(AFFINE, UNKNOWN, (5, 5))), Equality(Expression(AFFINE, UNKNOWN, ()), Constant(CONSTANT, NONNEGATIVE, ())), Equality(Expression(AFFINE, UNKNOWN, ()), Constant(CONSTANT, ZERO, ())), Equality(Expression(AFFINE, UNKNOWN, ()), Constant(CONSTANT, ZERO, ()))]\n"
   ]
  },
  {
   "cell_type": "code",
   "execution_count": null,
   "metadata": {},
   "outputs": [],
   "source": [
    "def update(i):\n",
    "    global x\n",
    "    x[i]=1\n",
    "    return x\n",
    "    \n",
    "x=[0 for i in range(10)]\n",
    "print(x)\n",
    "pool=mp.Pool(processes=40)\n",
    "for i in range(5):\n",
    "    print(update(i))    \n",
    "print(x)\n",
    "\n",
    "x=[0 for i in range(10)]\n",
    "for i in range(5):\n",
    "    print(pool.apply(update,args=(i,)))\n",
    "print(x)"
   ]
  },
  {
   "cell_type": "code",
   "execution_count": null,
   "metadata": {},
   "outputs": [],
   "source": [
    "def update(i,q):\n",
    "    #[x]=q.get()\n",
    "    #x[i]+=1\n",
    "    q.put(i)\n",
    "\n",
    "x=[0 for i in range(10)]\n",
    "q=mp.Queue()\n",
    "q.put(x)\n",
    "pool=mp.Pool(processes=40)\n",
    "for i in range(5):\n",
    "    print(pool.apply(update,args=(i,q,)))\n",
    "print(x)\n",
    "    "
   ]
  },
  {
   "cell_type": "code",
   "execution_count": null,
   "metadata": {},
   "outputs": [],
   "source": [
    "X_ = cp.Variable((5,5),symmetric=True) \n",
    "\n",
    "manager = mp.Manager()\n",
    "Global = manager.Namespace()\n",
    "Global.X=X_\n",
    "\n",
    "X=Global.X\n",
    "\n",
    "def addConstraint(i,g):\n",
    "#     global X\n",
    "    Xp=g.X\n",
    "    print(Xp)\n",
    "    return [Xp[i,i]==0]\n",
    "\n",
    "def initMe():\n",
    "    global X\n",
    "    \n",
    "    \n",
    "    y = X[0,1]\n",
    "    constraints = [X>>0,X[0,0]==1]\n",
    "    \n",
    "    pool=mp.Pool(processes=40)    \n",
    "    res=[]\n",
    "    for i in range(1,3):\n",
    "        #res += addConstraint(i) \n",
    "        res += pool.apply(addConstraint,args=(i,Global))\n",
    "    constraints += [p for p in res if p != None]\n",
    "    \n",
    "    print(constraints)\n",
    "    prob = cp.Problem(cp.Maximize(y),constraints)\n",
    "    prob.solve(verbose=True,solver=cp.SCS)\n",
    "    \n",
    "initMe()\n"
   ]
  },
  {
   "cell_type": "code",
   "execution_count": null,
   "metadata": {
    "scrolled": false
   },
   "outputs": [],
   "source": [
    "X_ = cp.Variable((5,5),symmetric=True) \n",
    "\n",
    "manager = mp.Manager()\n",
    "sharedDict = manager.dict()\n",
    "sharedDict['X']=X_\n",
    "\n",
    "X=sharedDict['X']\n",
    "\n",
    "def addConstraint(i,d):\n",
    "#     global X\n",
    "    Xp=sharedDict['X']\n",
    "    return [Xp[i,i]==0]\n",
    "\n",
    "def initMe():\n",
    "    global X\n",
    "    \n",
    "    \n",
    "    y = X[0,1]\n",
    "    constraints = [X>>0,X[0,0]==1]\n",
    "    \n",
    "    pool=mp.Pool(processes=40)    \n",
    "    res=[]\n",
    "    for i in range(1,3):\n",
    "        #res += addConstraint(i) \n",
    "        res += pool.apply(addConstraint,args=(i,sharedDict))\n",
    "    constraints += [p for p in res if p != None]\n",
    "    \n",
    "    print(constraints)\n",
    "    prob = cp.Problem(cp.Maximize(y),constraints)\n",
    "    prob.solve(verbose=True,solver=cp.SCS)\n",
    "    \n",
    "initMe()\n"
   ]
  },
  {
   "cell_type": "code",
   "execution_count": null,
   "metadata": {},
   "outputs": [],
   "source": [
    "X_ = cp.Variable((5,5),symmetric=True) \n",
    "\n",
    "manager = mp.Manager()\n",
    "sharedList = manager.list()\n",
    "sharedList.append(X_)\n",
    "\n",
    "X=sharedList[0]\n",
    "\n",
    "def addConstraint(i,d):\n",
    "#     global X\n",
    "    Xp=d[0]\n",
    "    d[1].append([Xp[i,i]==0])\n",
    "    return 0\n",
    "\n",
    "def initMe():\n",
    "    global X\n",
    "    \n",
    "    \n",
    "    y = X[0,1]\n",
    "    constraints = [X>>0,X[0,0]==1]\n",
    "    sharedList.append(constraints)\n",
    "    \n",
    "    pool=mp.Pool(processes=40)    \n",
    "    #res=[]\n",
    "    res=0\n",
    "    for i in range(1,3):\n",
    "        #res += addConstraint(i) \n",
    "        #res +=\n",
    "        res += pool.apply(addConstraint,args=(i,sharedList))\n",
    "    #constraints += [p for p in res if p != None]\n",
    "    \n",
    "    constraints=sharedList[1]\n",
    "    \n",
    "    print(constraints)\n",
    "    prob = cp.Problem(cp.Maximize(y),constraints)\n",
    "    prob.solve(verbose=True,solver=cp.SCS)\n",
    "    \n",
    "initMe()\n"
   ]
  },
  {
   "cell_type": "markdown",
   "metadata": {},
   "source": [
    "# Testing Ray"
   ]
  },
  {
   "cell_type": "markdown",
   "metadata": {},
   "source": [
    "## Basics"
   ]
  },
  {
   "cell_type": "code",
   "execution_count": null,
   "metadata": {},
   "outputs": [],
   "source": [
    "import numpy as np\n",
    "import ray\n",
    "\n",
    "ray.init()\n",
    "\n",
    "@ray.remote\n",
    "def func(array, param):\n",
    "    # Do stuff.\n",
    "    return 1\n",
    "\n",
    "array = np.ones(10**6)\n",
    "# Store the array in the shared memory object store once\n",
    "# so it is not copied multiple times.\n",
    "array_id = ray.put(array)\n",
    "\n",
    "result_ids = [func.remote(array_id, i) for i in range(4)]\n",
    "output = ray.get(result_ids)"
   ]
  },
  {
   "cell_type": "code",
   "execution_count": null,
   "metadata": {},
   "outputs": [],
   "source": [
    "print(output)"
   ]
  },
  {
   "cell_type": "code",
   "execution_count": null,
   "metadata": {},
   "outputs": [],
   "source": [
    "@ray.remote\n",
    "def update(x,i):\n",
    "    x[i]=1\n",
    "    return x\n",
    "    \n",
    "x=[0 for i in range(10)]\n",
    "print(x)\n",
    "\n",
    "x_id = ray.put(x)\n",
    "#x.flags.writeable=True\n",
    "result_ids = [update.remote(x_id,i) for i in range(4)]\n",
    "\n",
    "output = ray.get(result_ids)\n",
    "\n",
    "print(output)\n",
    "print(x)"
   ]
  },
  {
   "cell_type": "markdown",
   "metadata": {},
   "source": [
    "## Combining with CVXPY"
   ]
  },
  {
   "cell_type": "code",
   "execution_count": null,
   "metadata": {},
   "outputs": [],
   "source": [
    "\n",
    "@ray.remote\n",
    "def addConstraint(X,i):\n",
    "    return X[i,i]==0\n",
    "\n",
    "def initMe():    \n",
    "    X = cp.Variable((5,5),symmetric=True)    \n",
    "    y = X[0,1]\n",
    "    constraints = [X>>0,X[0,0]==1]\n",
    "    \n",
    "    X_id = ray.put(X)\n",
    "    res_ids = [addConstraint.remote(X_id,i) for i in range(1,4)]\n",
    "    \n",
    "    constraints += ray.get(res_ids)\n",
    "\n",
    "#     constraints += [addConstraint(X,i) for i in range(1,4)]\n",
    "\n",
    "#     res=[]\n",
    "#     for i in range(1,3):\n",
    "#         res += addConstraint(i) \n",
    "#         #res += pool.apply(addConstraint,args=(i,))\n",
    "#     constraints += [p for p in res if p != None]\n",
    "    \n",
    "    print(constraints)\n",
    "    prob = cp.Problem(cp.Maximize(y),constraints)\n",
    "    prob.solve(verbose=True,solver=cp.SCS)\n",
    "    \n",
    "initMe()"
   ]
  },
  {
   "cell_type": "markdown",
   "metadata": {},
   "source": [
    "# Back to Bedlum"
   ]
  },
  {
   "cell_type": "code",
   "execution_count": null,
   "metadata": {},
   "outputs": [],
   "source": [
    "import multiprocessing\n",
    "import ctypes\n",
    "import numpy as np\n",
    "\n",
    "shared_array_base = multiprocessing.Array(ctypes.c_double, 10*10)\n",
    "shared_array = np.ctypeslib.as_array(shared_array_base.get_obj())\n",
    "shared_array = shared_array.reshape(10, 10)\n",
    "\n",
    "#-- edited 2015-05-01: the assert check below checks the wrong thing\n",
    "#   with recent versions of Numpy/multiprocessing. That no copy is made\n",
    "#   is indicated by the fact that the program prints the output shown below.\n",
    "## No copy was made\n",
    "##assert shared_array.base.base is shared_array_base.get_obj()\n",
    "\n",
    "# Parallel processing\n",
    "def my_func(i, def_param=shared_array):\n",
    "    shared_array[i,:] = i\n",
    "\n",
    "if __name__ == '__main__':\n",
    "    pool = multiprocessing.Pool(processes=4)\n",
    "    pool.map(my_func, range(10))\n",
    "\n",
    "    print(shared_array)"
   ]
  },
  {
   "cell_type": "code",
   "execution_count": null,
   "metadata": {},
   "outputs": [],
   "source": [
    "A = [1,1,1] #cp.Variable((5,5),symmetric=True) \n",
    "A_pickled=pk.dumps(A)\n",
    "\n",
    "Aprime = pk.loads(A_pickled)\n",
    "\n",
    "Aprime[0]=0\n",
    "print(A)\n",
    "\n",
    "#A_ mp.Array(ctypes.c_char, A_pickled, lock=False)\n",
    "\n",
    "#shared_A = mp.Array(A)"
   ]
  },
  {
   "cell_type": "code",
   "execution_count": null,
   "metadata": {},
   "outputs": [],
   "source": [
    "import numpy as np\n",
    "\n",
    "x = np.ones(100).reshape(10,10)\n",
    "manager = mp.Manager()\n",
    "\n",
    "dataDict=manager.dict()\n",
    "dataDict['x']=x\n",
    "print(dataDict)\n",
    "\n",
    "print(x)\n",
    "\n",
    "# Parallel processing\n",
    "def my_func(i, d):\n",
    "    d['x']=x\n",
    "    x[i,i] = 0\n",
    "    d['x']=x\n",
    "    #print(d['x'],i)\n",
    "    #d[str(i)]=i\n",
    "\n",
    "\n",
    "pool = mp.Pool(processes=4)\n",
    "[pool.apply(my_func,args=[i,dataDict,]) for i in range(4)]\n",
    "\n",
    "print(x)\n",
    "print(dataDict['x'])"
   ]
  },
  {
   "cell_type": "code",
   "execution_count": null,
   "metadata": {},
   "outputs": [],
   "source": [
    "import numpy as np\n",
    "\n",
    "\n",
    "\n",
    "x = np.ones(10)\n",
    "manager = mp.Manager()\n",
    "\n",
    "dataDict=manager.dict()\n",
    "dataDict['x']=x\n",
    "print(dataDict)\n",
    "\n",
    "print(x)\n",
    "\n",
    "dataDict['x'][0]=5\n",
    "print(dataDict['x'])\n",
    "print(x)\n",
    "\n",
    "\n",
    "\n",
    "x = np.ones(10)\n",
    "a = mp.shared_memory.ShareableList([x])\n",
    "a[0][0]=1\n",
    "print(a)\n",
    "print(x)\n",
    "\n",
    "# # Parallel processing\n",
    "# def my_func(i, d):\n",
    "#     d['x']=x\n",
    "#     x[i] = 0\n",
    "#     d['x']=x\n",
    "#     #print(d['x'],i)\n",
    "#     #d[str(i)]=i\n",
    "\n",
    "\n",
    "# pool = mp.Pool(processes=4)\n",
    "# [pool.apply(my_func,args=[i,dataDict,]) for i in range(4)]\n",
    "\n",
    "# print(x)\n",
    "# print(dataDict['x'])"
   ]
  },
  {
   "cell_type": "markdown",
   "metadata": {},
   "source": [
    "# DieHard"
   ]
  },
  {
   "cell_type": "code",
   "execution_count": 4,
   "metadata": {},
   "outputs": [
    {
     "ename": "AttributeError",
     "evalue": "module 'multiprocessing' has no attribute 'managers'",
     "output_type": "error",
     "traceback": [
      "\u001b[0;31m---------------------------------------------------------------------------\u001b[0m",
      "\u001b[0;31mAttributeError\u001b[0m                            Traceback (most recent call last)",
      "\u001b[0;32m<ipython-input-4-f85a38bd8ad0>\u001b[0m in \u001b[0;36m<module>\u001b[0;34m\u001b[0m\n\u001b[1;32m     19\u001b[0m         \u001b[0msX\u001b[0m\u001b[0;34m.\u001b[0m\u001b[0maddConstraint\u001b[0m\u001b[0;34m(\u001b[0m\u001b[0mi\u001b[0m\u001b[0;34m)\u001b[0m\u001b[0;34m\u001b[0m\u001b[0;34m\u001b[0m\u001b[0m\n\u001b[1;32m     20\u001b[0m \u001b[0;34m\u001b[0m\u001b[0m\n\u001b[0;32m---> 21\u001b[0;31m \u001b[0mmp\u001b[0m\u001b[0;34m.\u001b[0m\u001b[0mmanagers\u001b[0m\u001b[0;34m.\u001b[0m\u001b[0mBaseManager\u001b[0m\u001b[0;34m.\u001b[0m\u001b[0mregister\u001b[0m\u001b[0;34m(\u001b[0m\u001b[0;34m'sharedX'\u001b[0m\u001b[0;34m,\u001b[0m\u001b[0msharedX\u001b[0m\u001b[0;34m)\u001b[0m\u001b[0;34m\u001b[0m\u001b[0;34m\u001b[0m\u001b[0m\n\u001b[0m\u001b[1;32m     22\u001b[0m \u001b[0mmanager\u001b[0m \u001b[0;34m=\u001b[0m \u001b[0mmp\u001b[0m\u001b[0;34m.\u001b[0m\u001b[0mmanagers\u001b[0m\u001b[0;34m.\u001b[0m\u001b[0mBaseManager\u001b[0m\u001b[0;34m(\u001b[0m\u001b[0;34m)\u001b[0m\u001b[0;34m\u001b[0m\u001b[0;34m\u001b[0m\u001b[0m\n\u001b[1;32m     23\u001b[0m \u001b[0mmanager\u001b[0m\u001b[0;34m.\u001b[0m\u001b[0mstart\u001b[0m\u001b[0;34m(\u001b[0m\u001b[0;34m)\u001b[0m\u001b[0;34m\u001b[0m\u001b[0;34m\u001b[0m\u001b[0m\n",
      "\u001b[0;31mAttributeError\u001b[0m: module 'multiprocessing' has no attribute 'managers'"
     ]
    }
   ],
   "source": [
    "class sharedX:\n",
    "    def __init__(s,X,constr,y):\n",
    "        s.X=X\n",
    "        s.constr=constr\n",
    "        s.y=y\n",
    "    \n",
    "    def addConstraint(s,i):\n",
    "        s.constr += [s.X[i,i]==0]\n",
    "        \n",
    "    def get(s):\n",
    "        return [s.X,s.constr,s.y]\n",
    "    \n",
    "X = cp.Variable((5,5),symmetric=True)\n",
    "constr = [X>>0,X[0,0]==1]\n",
    "y = X[0,1]\n",
    "\n",
    "def worker(sX):\n",
    "    for i in range(1,3):\n",
    "        sX.addConstraint(i)\n",
    "\n",
    "mp.managers.BaseManager.register('sharedX',sharedX)\n",
    "manager = mp.managers.BaseManager()\n",
    "manager.start()\n",
    "\n",
    "sX = manager.sharedX(X,constr,y)\n",
    "\n",
    "p = mp.Process(target=worker,args=[sX])\n",
    "p.start()\n",
    "p.join()\n",
    "\n",
    "[X,constr,y] = sX.get()\n",
    "prob = cp.Problem(cp.Maximize(y),constr)\n",
    "prob.solve(verbose=True,solver=cp.SCS)"
   ]
  },
  {
   "cell_type": "code",
   "execution_count": null,
   "metadata": {},
   "outputs": [],
   "source": [
    "class sharedX:\n",
    "    def __init__(s,X,constr,y):\n",
    "        s.X=X\n",
    "        s.constr=constr\n",
    "        s.y=y\n",
    "    \n",
    "    def addConstraint(s,i):\n",
    "        j=0\n",
    "        for k in range(10000):\n",
    "            for l in range(10):\n",
    "                j=0\n",
    "        s.constr += [s.X[i,i]==0]\n",
    "        \n",
    "    def get(s):\n",
    "        return [s.X,s.constr,s.y]\n",
    "    \n",
    "X = cp.Variable((500,500),symmetric=True)\n",
    "constr = [X>>0,X[0,0]==1]\n",
    "y = X[0,1]\n",
    "\n",
    "def worker(sX,i):\n",
    "    #for i in range(1,3):\n",
    "    sX.addConstraint(i)\n",
    "    return 1\n",
    "\n",
    "mp.managers.BaseManager.register('sharedX',sharedX)\n",
    "manager = mp.managers.BaseManager()\n",
    "manager.start()\n",
    "\n",
    "sX = manager.sharedX(X,constr,y)\n",
    "pool=mp.Pool(processes=40)\n",
    "\n",
    "# res = [pool.apply(worker,args=(sX,i)) for i in range(1,100)]\n",
    "res=[]\n",
    "for i in range(1,100):\n",
    "   res += [pool.apply(worker,args=(sX,i))]\n",
    "result=[]\n",
    "result += [p for p in res if p != None]\n",
    "\n",
    "\n",
    "[X,constr,y] = sX.get()\n",
    "prob = cp.Problem(cp.Maximize(y),constr)\n",
    "prob.solve(verbose=True,solver=cp.SCS)"
   ]
  },
  {
   "cell_type": "code",
   "execution_count": null,
   "metadata": {},
   "outputs": [],
   "source": [
    "X_ = cp.Variable((5,5),symmetric=True) \n",
    "\n",
    "manager = mp.Manager()\n",
    "Global = manager.Namespace()\n",
    "Global.X=X_\n",
    "\n",
    "X=Global.X\n",
    "\n",
    "def addConstraint(i,g):\n",
    "#     global X\n",
    "    Xp=g.X\n",
    "    print(Xp)\n",
    "    return [Xp[i,i]==0]\n",
    "\n",
    "def initMe():\n",
    "    global X\n",
    "    \n",
    "    \n",
    "    y = X[0,1]\n",
    "    constraints = [X>>0,X[0,0]==1]\n",
    "    \n",
    "    pool=mp.Pool(processes=40)    \n",
    "    res=[]\n",
    "    for i in range(1,3):\n",
    "        #res += addConstraint(i) \n",
    "        res += pool.apply(addConstraint,args=(i,Global))\n",
    "    constraints += [p for p in res if p != None]\n",
    "    \n",
    "    print(constraints)\n",
    "    prob = cp.Problem(cp.Maximize(y),constraints)\n",
    "    prob.solve(verbose=True,solver=cp.SCS)\n",
    "    \n",
    "initMe()"
   ]
  }
 ],
 "metadata": {
  "kernelspec": {
   "display_name": "Python 3.7.5 64-bit ('quantInfo': conda)",
   "language": "python",
   "name": "python37564bitquantinfoconda0e2532d3dbe24dff8ef3b21f40b69e3b"
  },
  "language_info": {
   "codemirror_mode": {
    "name": "ipython",
    "version": 3
   },
   "file_extension": ".py",
   "mimetype": "text/x-python",
   "name": "python",
   "nbconvert_exporter": "python",
   "pygments_lexer": "ipython3",
   "version": "3.7.7"
  },
  "toc": {
   "base_numbering": 1,
   "nav_menu": {},
   "number_sections": true,
   "sideBar": true,
   "skip_h1_title": false,
   "title_cell": "Table of Contents",
   "title_sidebar": "Contents",
   "toc_cell": false,
   "toc_position": {},
   "toc_section_display": true,
   "toc_window_display": false
  }
 },
 "nbformat": 4,
 "nbformat_minor": 2
}
