{
 "cells": [
  {
   "cell_type": "code",
   "execution_count": 1,
   "metadata": {},
   "outputs": [
    {
     "name": "stdout",
     "output_type": "stream",
     "text": [
      "importing Jupyter notebook from mSwapKCBS.ipynb\n",
      "5\n"
     ]
    }
   ],
   "source": [
    "import import_ipynb\n",
    "import mSwapKCBS as sk\n",
    "\n",
    "sk.globalSettings({'cacheFolder':'../cached_2/','N':5}) #,'testType':1,'hDepth':1})"
   ]
  },
  {
   "cell_type": "code",
   "execution_count": 2,
   "metadata": {
    "scrolled": false
   },
   "outputs": [
    {
     "name": "stdout",
     "output_type": "stream",
     "text": [
      "STEP  1 / 5  in progress...\n",
      "Initialising Ideal KCBS calculations and performing symbolic computations\n",
      "The testType is 1\n",
      "Creating projectors etc\n",
      "Solving a linear system to find the coefficients for expressing the translation operator as a sum of projectors\n",
      "[{a0: -0.272019649514071, a1: -0.485868271756646, a2: -2.05817102727149, a3: 9.32265207248423e-16, a4: 2.77032771530715, a5: -1.15229372655726, a6: -4.82849874257864, a7: 3.33019067678556, a8: 2.77032771530716}]\n",
      "[{a0: -0.272019649514071, a1: -0.485868271756646, a2: -2.05817102727149, a3: 0, a4: 2.77032771530715, a5: -1.15229372655726, a6: -4.82849874257864, a7: 3.33019067678556, a8: 2.77032771530716}]\n",
      "Solving the cross Π\n",
      "[{a0: -1.00000000000000, a1: -1.00000000000000, a2: 1.43924480352684e-16, a3: 3.91811281370199e-15, a4: 4.23606797749978, a5: -4.23606797749978, a6: -4.23606797749978, a7: 2.61803398874988, a8: 2.61803398874990}]\n",
      "[{a0: -1.00000000000000, a1: -1.00000000000000, a2: 0, a3: 0, a4: 4.23606797749978, a5: -4.23606797749978, a6: -4.23606797749978, a7: 2.61803398874988, a8: 2.61803398874990}]\n",
      "Evaluating F\n",
      "Loaded from file\n",
      "done\n",
      "STEP  1 / 5  done.\n",
      "\n",
      "\n",
      "STEP  2 / 5  in progress...\n",
      "Preparing: Sympy meets Cvxpy\n",
      "Fetching the objective\n",
      "[P, Pd]\n",
      "Constructing dictionaries\n",
      "Creating the graph (assumed cyclic for now)\n",
      "Simplifying the objective using the graph\n",
      "Loading from file\n",
      "Done\n",
      "[Π_0, Π_1, Π_2, Π_3, Π_4, P, Pd]\n"
     ]
    },
    {
     "data": {
      "text/latex": [
       "$\\displaystyle \\left[ \\right]$"
      ],
      "text/plain": [
       "[]"
      ]
     },
     "metadata": {},
     "output_type": "display_data"
    },
    {
     "name": "stdout",
     "output_type": "stream",
     "text": [
      "STEP  2 / 5  done.\n",
      "\n",
      "\n",
      "STEP  3 / 5  in progress...\n",
      "Adding constraints from QM to the SDP variables\n",
      "Loading from file ../cached_2/lSave_4_testType_1_hDepth_1_lenL_8_locDepth2_usePs_True\n",
      "Done\n",
      "SDP Size var0[0, 0:8]\n",
      "Constraints: 27\n",
      "Localising Constraints: 2\n",
      "STEP  3 / 5  done.\n",
      "\n",
      "\n",
      "STEP  4 / 5  in progress...\n",
      "Creating the objective in terms of the SDP variables\n",
      "TEST: Constructing the KCBS expression instead of the Fidelity\n"
     ]
    },
    {
     "data": {
      "text/latex": [
       "$\\displaystyle Π_{0}$"
      ],
      "text/plain": [
       "Π₀"
      ]
     },
     "metadata": {},
     "output_type": "display_data"
    },
    {
     "data": {
      "text/latex": [
       "$\\displaystyle Π_{1}$"
      ],
      "text/plain": [
       "Π₁"
      ]
     },
     "metadata": {},
     "output_type": "display_data"
    },
    {
     "data": {
      "text/latex": [
       "$\\displaystyle Π_{2}$"
      ],
      "text/plain": [
       "Π₂"
      ]
     },
     "metadata": {},
     "output_type": "display_data"
    },
    {
     "data": {
      "text/latex": [
       "$\\displaystyle Π_{3}$"
      ],
      "text/plain": [
       "Π₃"
      ]
     },
     "metadata": {},
     "output_type": "display_data"
    },
    {
     "data": {
      "text/latex": [
       "$\\displaystyle Π_{4}$"
      ],
      "text/plain": [
       "Π₄"
      ]
     },
     "metadata": {},
     "output_type": "display_data"
    },
    {
     "name": "stdout",
     "output_type": "stream",
     "text": [
      "Done\n",
      "STEP  4 / 5  done.\n",
      "\n",
      "\n",
      "STEP  5 / 5  in progress...\n",
      "Adding observed constraints\n",
      "Observed values; Adding constraints\n",
      "Done.\n",
      "STEP  5 / 5  done.\n",
      "\n",
      "\n"
     ]
    },
    {
     "data": {
      "image/png": "[encoded data removed]",
      "text/plain": [
       "<Figure size 432x288 with 1 Axes>"
      ]
     },
     "metadata": {},
     "output_type": "display_data"
    }
   ],
   "source": [
    "sk.init()"
   ]
  },
  {
   "cell_type": "code",
   "execution_count": 3,
   "metadata": {
    "scrolled": false
   },
   "outputs": [
    {
     "name": "stdout",
     "output_type": "stream",
     "text": [
      "STEP  1 / 3  in progress...\n",
      "Updating observed constraints\n",
      "Observed values; Adding constraints\n",
      "Done.\n",
      "STEP  1 / 3  done.\n",
      "\n",
      "\n",
      "STEP  2 / 3  in progress...\n",
      "Reading the solver\n",
      "STEP  2 / 3  done.\n",
      "\n",
      "\n",
      "STEP  3 / 3  in progress...\n",
      "Solving now\n",
      "Initialising...\n",
      "----------------------------------------------------------------------------\n",
      "\tSCS v2.1.1 - Splitting Conic Solver\n",
      "\t(c) Brendan O'Donoghue, Stanford University, 2012\n",
      "----------------------------------------------------------------------------\n",
      "Lin-sys: sparse-direct, nnz in A = 69\n",
      "eps = 1.00e-04, alpha = 1.50, max_iters = 40000, normalize = 1, scale = 1.00\n",
      "acceleration_lookback = 10, rho_x = 1.00e-03\n",
      "Variables n = 36, constraints m = 62\n",
      "Cones:\tprimal zero / dual free vars: 26\n",
      "\tsd vars: 36, sd blks: 1\n",
      "Setup time: 3.77e-03s\n",
      "----------------------------------------------------------------------------\n",
      " Iter | pri res | dua res | rel gap | pri obj | dua obj | kap/tau | time (s)\n",
      "----------------------------------------------------------------------------\n",
      "     0| 3.31e+19  4.63e+19  1.00e+00 -1.22e+20  1.62e+20  3.97e+19  3.40e-03 \n",
      "    20| 4.51e-05  4.09e-05  2.15e-05 -2.24e+00 -2.24e+00  2.50e-16  1.12e-02 \n",
      "----------------------------------------------------------------------------\n",
      "Status: Solved\n",
      "Timing: Solve time: 1.13e-02s\n",
      "\tLin-sys: nnz in L factor: 168, avg solve time: 1.11e-06s\n",
      "\tCones: avg projection time: 3.00e-05s\n",
      "\tAcceleration: avg step time: 1.29e-05s\n",
      "----------------------------------------------------------------------------\n",
      "Error metrics:\n",
      "dist(s, K) = 9.5064e-10, dist(y, K*) = 1.4778e-09, s'y/|s||y| = 3.3378e-11\n",
      "primal res: |Ax + s - b|_2 / (1 + |b|_2) = 4.5057e-05\n",
      "dual res:   |A'y + c|_2 / (1 + |c|_2) = 4.0924e-05\n",
      "rel gap:    |c'x + b'y| / (1 + |c'x| + |b'y|) = 2.1509e-05\n",
      "----------------------------------------------------------------------------\n",
      "c'x = -2.2360, -b'y = -2.2358\n",
      "============================================================================\n",
      "max: 2.2359675882682417\n",
      "sqrt(5) 2.23606797749979\n"
     ]
    },
    {
     "data": {
      "text/html": [
       "<div>\n",
       "<style scoped>\n",
       "    .dataframe tbody tr th:only-of-type {\n",
       "        vertical-align: middle;\n",
       "    }\n",
       "\n",
       "    .dataframe tbody tr th {\n",
       "        vertical-align: top;\n",
       "    }\n",
       "\n",
       "    .dataframe thead th {\n",
       "        text-align: right;\n",
       "    }\n",
       "</style>\n",
       "<table border=\"1\" class=\"dataframe\">\n",
       "  <thead>\n",
       "    <tr style=\"text-align: right;\">\n",
       "      <th></th>\n",
       "      <th>0</th>\n",
       "      <th>1</th>\n",
       "      <th>2</th>\n",
       "      <th>3</th>\n",
       "      <th>4</th>\n",
       "      <th>5</th>\n",
       "      <th>6</th>\n",
       "      <th>7</th>\n",
       "    </tr>\n",
       "  </thead>\n",
       "  <tbody>\n",
       "    <tr>\n",
       "      <th>0</th>\n",
       "      <td>1.000002</td>\n",
       "      <td>0.447194</td>\n",
       "      <td>0.447194</td>\n",
       "      <td>0.447194</td>\n",
       "      <td>0.447194</td>\n",
       "      <td>0.447194</td>\n",
       "      <td>0.000000</td>\n",
       "      <td>0.000000</td>\n",
       "    </tr>\n",
       "    <tr>\n",
       "      <th>1</th>\n",
       "      <td>0.447194</td>\n",
       "      <td>0.447196</td>\n",
       "      <td>0.000003</td>\n",
       "      <td>0.276418</td>\n",
       "      <td>0.276418</td>\n",
       "      <td>0.000003</td>\n",
       "      <td>0.000000</td>\n",
       "      <td>0.000000</td>\n",
       "    </tr>\n",
       "    <tr>\n",
       "      <th>2</th>\n",
       "      <td>0.447194</td>\n",
       "      <td>0.000003</td>\n",
       "      <td>0.447196</td>\n",
       "      <td>0.000003</td>\n",
       "      <td>0.276418</td>\n",
       "      <td>0.276418</td>\n",
       "      <td>0.000000</td>\n",
       "      <td>0.000000</td>\n",
       "    </tr>\n",
       "    <tr>\n",
       "      <th>3</th>\n",
       "      <td>0.447194</td>\n",
       "      <td>0.276418</td>\n",
       "      <td>0.000003</td>\n",
       "      <td>0.447196</td>\n",
       "      <td>0.000003</td>\n",
       "      <td>0.276418</td>\n",
       "      <td>0.000000</td>\n",
       "      <td>0.000000</td>\n",
       "    </tr>\n",
       "    <tr>\n",
       "      <th>4</th>\n",
       "      <td>0.447194</td>\n",
       "      <td>0.276418</td>\n",
       "      <td>0.276418</td>\n",
       "      <td>0.000003</td>\n",
       "      <td>0.447196</td>\n",
       "      <td>0.000003</td>\n",
       "      <td>0.000000</td>\n",
       "      <td>0.000000</td>\n",
       "    </tr>\n",
       "    <tr>\n",
       "      <th>5</th>\n",
       "      <td>0.447194</td>\n",
       "      <td>0.000003</td>\n",
       "      <td>0.276418</td>\n",
       "      <td>0.276418</td>\n",
       "      <td>0.000003</td>\n",
       "      <td>0.447196</td>\n",
       "      <td>0.000000</td>\n",
       "      <td>0.000000</td>\n",
       "    </tr>\n",
       "    <tr>\n",
       "      <th>6</th>\n",
       "      <td>0.000000</td>\n",
       "      <td>0.000000</td>\n",
       "      <td>0.000000</td>\n",
       "      <td>0.000000</td>\n",
       "      <td>0.000000</td>\n",
       "      <td>0.000000</td>\n",
       "      <td>0.000000</td>\n",
       "      <td>1.000014</td>\n",
       "    </tr>\n",
       "    <tr>\n",
       "      <th>7</th>\n",
       "      <td>0.000000</td>\n",
       "      <td>0.000000</td>\n",
       "      <td>0.000000</td>\n",
       "      <td>0.000000</td>\n",
       "      <td>0.000000</td>\n",
       "      <td>0.000000</td>\n",
       "      <td>1.000014</td>\n",
       "      <td>0.000000</td>\n",
       "    </tr>\n",
       "  </tbody>\n",
       "</table>\n",
       "</div>"
      ],
      "text/plain": [
       "          0         1         2         3         4         5         6  \\\n",
       "0  1.000002  0.447194  0.447194  0.447194  0.447194  0.447194  0.000000   \n",
       "1  0.447194  0.447196  0.000003  0.276418  0.276418  0.000003  0.000000   \n",
       "2  0.447194  0.000003  0.447196  0.000003  0.276418  0.276418  0.000000   \n",
       "3  0.447194  0.276418  0.000003  0.447196  0.000003  0.276418  0.000000   \n",
       "4  0.447194  0.276418  0.276418  0.000003  0.447196  0.000003  0.000000   \n",
       "5  0.447194  0.000003  0.276418  0.276418  0.000003  0.447196  0.000000   \n",
       "6  0.000000  0.000000  0.000000  0.000000  0.000000  0.000000  0.000000   \n",
       "7  0.000000  0.000000  0.000000  0.000000  0.000000  0.000000  1.000014   \n",
       "\n",
       "          7  \n",
       "0  0.000000  \n",
       "1  0.000000  \n",
       "2  0.000000  \n",
       "3  0.000000  \n",
       "4  0.000000  \n",
       "5  0.000000  \n",
       "6  1.000014  \n",
       "7  0.000000  "
      ]
     },
     "metadata": {},
     "output_type": "display_data"
    },
    {
     "name": "stdout",
     "output_type": "stream",
     "text": [
      "Initialising...\n",
      "----------------------------------------------------------------------------\n",
      "\tSCS v2.1.1 - Splitting Conic Solver\n",
      "\t(c) Brendan O'Donoghue, Stanford University, 2012\n",
      "----------------------------------------------------------------------------\n",
      "Lin-sys: sparse-direct, nnz in A = 69\n",
      "eps = 1.00e-04, alpha = 1.50, max_iters = 40000, normalize = 1, scale = 1.00\n",
      "acceleration_lookback = 10, rho_x = 1.00e-03\n",
      "Variables n = 36, constraints m = 62\n",
      "Cones:\tprimal zero / dual free vars: 26\n",
      "\tsd vars: 36, sd blks: 1\n",
      "Setup time: 2.44e-03s\n",
      "----------------------------------------------------------------------------\n",
      " Iter | pri res | dua res | rel gap | pri obj | dua obj | kap/tau | time (s)\n",
      "----------------------------------------------------------------------------\n",
      "     0| 3.56e+19  4.82e+19  1.00e+00 -1.22e+20  1.62e+20  3.97e+19  2.78e-03 \n",
      "    20| 5.24e-08  6.54e-08  5.67e-08  1.98e-07  2.54e-07  2.20e-16  4.25e-03 \n",
      "----------------------------------------------------------------------------\n",
      "Status: Solved\n",
      "Timing: Solve time: 4.27e-03s\n",
      "\tLin-sys: nnz in L factor: 168, avg solve time: 1.20e-06s\n",
      "\tCones: avg projection time: 2.61e-05s\n",
      "\tAcceleration: avg step time: 9.44e-06s\n",
      "----------------------------------------------------------------------------\n",
      "Error metrics:\n",
      "dist(s, K) = 1.8825e-09, dist(y, K*) = 2.7039e-09, s'y/|s||y| = 7.4071e-13\n",
      "primal res: |Ax + s - b|_2 / (1 + |b|_2) = 5.2439e-08\n",
      "dual res:   |A'y + c|_2 / (1 + |c|_2) = 6.5420e-08\n",
      "rel gap:    |c'x + b'y| / (1 + |c'x| + |b'y|) = 5.6728e-08\n",
      "----------------------------------------------------------------------------\n",
      "c'x = 0.0000, -b'y = 0.0000\n",
      "============================================================================\n",
      "min: 1.9758290105235134e-07\n",
      "sqrt(5) 2.23606797749979\n"
     ]
    },
    {
     "data": {
      "text/html": [
       "<div>\n",
       "<style scoped>\n",
       "    .dataframe tbody tr th:only-of-type {\n",
       "        vertical-align: middle;\n",
       "    }\n",
       "\n",
       "    .dataframe tbody tr th {\n",
       "        vertical-align: top;\n",
       "    }\n",
       "\n",
       "    .dataframe thead th {\n",
       "        text-align: right;\n",
       "    }\n",
       "</style>\n",
       "<table border=\"1\" class=\"dataframe\">\n",
       "  <thead>\n",
       "    <tr style=\"text-align: right;\">\n",
       "      <th></th>\n",
       "      <th>0</th>\n",
       "      <th>1</th>\n",
       "      <th>2</th>\n",
       "      <th>3</th>\n",
       "      <th>4</th>\n",
       "      <th>5</th>\n",
       "      <th>6</th>\n",
       "      <th>7</th>\n",
       "    </tr>\n",
       "  </thead>\n",
       "  <tbody>\n",
       "    <tr>\n",
       "      <th>0</th>\n",
       "      <td>1.000000e+00</td>\n",
       "      <td>3.951658e-08</td>\n",
       "      <td>3.951658e-08</td>\n",
       "      <td>3.951658e-08</td>\n",
       "      <td>3.951658e-08</td>\n",
       "      <td>3.951658e-08</td>\n",
       "      <td>0.0</td>\n",
       "      <td>0.0</td>\n",
       "    </tr>\n",
       "    <tr>\n",
       "      <th>1</th>\n",
       "      <td>3.951658e-08</td>\n",
       "      <td>1.343674e-08</td>\n",
       "      <td>3.746665e-09</td>\n",
       "      <td>2.164087e-08</td>\n",
       "      <td>2.164087e-08</td>\n",
       "      <td>3.746665e-09</td>\n",
       "      <td>0.0</td>\n",
       "      <td>0.0</td>\n",
       "    </tr>\n",
       "    <tr>\n",
       "      <th>2</th>\n",
       "      <td>3.951658e-08</td>\n",
       "      <td>3.746665e-09</td>\n",
       "      <td>1.343674e-08</td>\n",
       "      <td>3.746664e-09</td>\n",
       "      <td>2.164087e-08</td>\n",
       "      <td>2.164087e-08</td>\n",
       "      <td>0.0</td>\n",
       "      <td>0.0</td>\n",
       "    </tr>\n",
       "    <tr>\n",
       "      <th>3</th>\n",
       "      <td>3.951658e-08</td>\n",
       "      <td>2.164087e-08</td>\n",
       "      <td>3.746664e-09</td>\n",
       "      <td>1.343674e-08</td>\n",
       "      <td>3.746665e-09</td>\n",
       "      <td>2.164087e-08</td>\n",
       "      <td>0.0</td>\n",
       "      <td>0.0</td>\n",
       "    </tr>\n",
       "    <tr>\n",
       "      <th>4</th>\n",
       "      <td>3.951658e-08</td>\n",
       "      <td>2.164087e-08</td>\n",
       "      <td>2.164087e-08</td>\n",
       "      <td>3.746665e-09</td>\n",
       "      <td>1.343674e-08</td>\n",
       "      <td>3.746665e-09</td>\n",
       "      <td>0.0</td>\n",
       "      <td>0.0</td>\n",
       "    </tr>\n",
       "    <tr>\n",
       "      <th>5</th>\n",
       "      <td>3.951658e-08</td>\n",
       "      <td>3.746665e-09</td>\n",
       "      <td>2.164087e-08</td>\n",
       "      <td>2.164087e-08</td>\n",
       "      <td>3.746665e-09</td>\n",
       "      <td>1.343674e-08</td>\n",
       "      <td>0.0</td>\n",
       "      <td>0.0</td>\n",
       "    </tr>\n",
       "    <tr>\n",
       "      <th>6</th>\n",
       "      <td>0.000000e+00</td>\n",
       "      <td>0.000000e+00</td>\n",
       "      <td>0.000000e+00</td>\n",
       "      <td>0.000000e+00</td>\n",
       "      <td>0.000000e+00</td>\n",
       "      <td>0.000000e+00</td>\n",
       "      <td>0.0</td>\n",
       "      <td>1.0</td>\n",
       "    </tr>\n",
       "    <tr>\n",
       "      <th>7</th>\n",
       "      <td>0.000000e+00</td>\n",
       "      <td>0.000000e+00</td>\n",
       "      <td>0.000000e+00</td>\n",
       "      <td>0.000000e+00</td>\n",
       "      <td>0.000000e+00</td>\n",
       "      <td>0.000000e+00</td>\n",
       "      <td>1.0</td>\n",
       "      <td>0.0</td>\n",
       "    </tr>\n",
       "  </tbody>\n",
       "</table>\n",
       "</div>"
      ],
      "text/plain": [
       "              0             1             2             3             4  \\\n",
       "0  1.000000e+00  3.951658e-08  3.951658e-08  3.951658e-08  3.951658e-08   \n",
       "1  3.951658e-08  1.343674e-08  3.746665e-09  2.164087e-08  2.164087e-08   \n",
       "2  3.951658e-08  3.746665e-09  1.343674e-08  3.746664e-09  2.164087e-08   \n",
       "3  3.951658e-08  2.164087e-08  3.746664e-09  1.343674e-08  3.746665e-09   \n",
       "4  3.951658e-08  2.164087e-08  2.164087e-08  3.746665e-09  1.343674e-08   \n",
       "5  3.951658e-08  3.746665e-09  2.164087e-08  2.164087e-08  3.746665e-09   \n",
       "6  0.000000e+00  0.000000e+00  0.000000e+00  0.000000e+00  0.000000e+00   \n",
       "7  0.000000e+00  0.000000e+00  0.000000e+00  0.000000e+00  0.000000e+00   \n",
       "\n",
       "              5    6    7  \n",
       "0  3.951658e-08  0.0  0.0  \n",
       "1  3.746665e-09  0.0  0.0  \n",
       "2  2.164087e-08  0.0  0.0  \n",
       "3  2.164087e-08  0.0  0.0  \n",
       "4  3.746665e-09  0.0  0.0  \n",
       "5  1.343674e-08  0.0  0.0  \n",
       "6  0.000000e+00  0.0  1.0  \n",
       "7  0.000000e+00  1.0  0.0  "
      ]
     },
     "metadata": {},
     "output_type": "display_data"
    },
    {
     "name": "stdout",
     "output_type": "stream",
     "text": [
      "STEP  3 / 3  done.\n",
      "\n",
      "\n"
     ]
    }
   ],
   "source": [
    "sk.solve([0.446, 0.452, 0.446, 0.441, 0.450])"
   ]
  },
  {
   "cell_type": "code",
   "execution_count": 6,
   "metadata": {},
   "outputs": [],
   "source": [
    "# try:\n",
    "#     sk.probMin.solve(**sk.gls['solverSettings'])  #(verbose=True,solver=sk.cp.SCS)\n",
    "#     sk.prettyPrint(sk.X)\n",
    "        \n",
    "# except:\n",
    "#     print(\"gla\")"
   ]
  },
  {
   "cell_type": "code",
   "execution_count": null,
   "metadata": {},
   "outputs": [],
   "source": []
  }
 ],
 "metadata": {
  "kernelspec": {
   "display_name": "Python 3",
   "language": "python",
   "name": "python3"
  },
  "language_info": {
   "codemirror_mode": {
    "name": "ipython",
    "version": 3
   },
   "file_extension": ".py",
   "mimetype": "text/x-python",
   "name": "python",
   "nbconvert_exporter": "python",
   "pygments_lexer": "ipython3",
   "version": "3.7.5"
  },
  "toc": {
   "base_numbering": 1,
   "nav_menu": {},
   "number_sections": true,
   "sideBar": true,
   "skip_h1_title": false,
   "title_cell": "Table of Contents",
   "title_sidebar": "Contents",
   "toc_cell": false,
   "toc_position": {},
   "toc_section_display": true,
   "toc_window_display": false
  }
 },
 "nbformat": 4,
 "nbformat_minor": 2
}
