{
 "cells": [
  {
   "cell_type": "code",
   "execution_count": 63,
   "metadata": {},
   "outputs": [
    {
     "ename": "ModuleNotFoundError",
     "evalue": "No module named 'cvxpy'",
     "output_type": "error",
     "traceback": [
      "\u001b[0;31m---------------------------------------------------------------------------\u001b[0m",
      "\u001b[0;31mModuleNotFoundError\u001b[0m                       Traceback (most recent call last)",
      "\u001b[0;32m<ipython-input-63-ec807f1e70e3>\u001b[0m in \u001b[0;36m<module>\u001b[0;34m\u001b[0m\n\u001b[1;32m      2\u001b[0m \u001b[0;32mimport\u001b[0m \u001b[0mmultiprocessing\u001b[0m \u001b[0;32mas\u001b[0m \u001b[0mmp\u001b[0m\u001b[0;34m\u001b[0m\u001b[0;34m\u001b[0m\u001b[0m\n\u001b[1;32m      3\u001b[0m \u001b[0;32mimport\u001b[0m \u001b[0mpickle\u001b[0m \u001b[0;32mas\u001b[0m \u001b[0mpk\u001b[0m\u001b[0;34m\u001b[0m\u001b[0;34m\u001b[0m\u001b[0m\n\u001b[0;32m----> 4\u001b[0;31m \u001b[0;32mimport\u001b[0m \u001b[0mcvxpy\u001b[0m \u001b[0;32mas\u001b[0m \u001b[0mcp\u001b[0m\u001b[0;34m\u001b[0m\u001b[0;34m\u001b[0m\u001b[0m\n\u001b[0m",
      "\u001b[0;31mModuleNotFoundError\u001b[0m: No module named 'cvxpy'"
     ]
    }
   ],
   "source": [
    "import numpy as np\n",
    "import multiprocessing as mp\n",
    "import pickle as pk\n",
    "#import cvxpy as cp\n"
   ]
  },
  {
   "cell_type": "code",
   "execution_count": 62,
   "metadata": {},
   "outputs": [
    {
     "name": "stdout",
     "output_type": "stream",
     "text": [
      "{'x': array([1., 1., 1., 1., 1., 1., 1., 1., 1., 1.])}\n",
      "[1. 1. 1. 1. 1. 1. 1. 1. 1. 1.]\n",
      "[1. 1. 1. 1. 1. 1. 1. 1. 1. 1.]\n",
      "[1. 1. 1. 1. 1. 1. 1. 1. 1. 1.]\n",
      "Action\n",
      "b'1234'\n",
      "worked\n",
      "worked2\n",
      "<memory at 0x7f4680a0cc40>\n"
     ]
    }
   ],
   "source": [
    "\n",
    "\n",
    "x = np.ones(10)\n",
    "manager = mp.Manager()\n",
    "\n",
    "dataDict=manager.dict()\n",
    "dataDict['x']=x\n",
    "print(dataDict)\n",
    "\n",
    "print(x)\n",
    "\n",
    "dataDict['x'][0]=5\n",
    "print(dataDict['x'])\n",
    "print(x)\n",
    "\n",
    "print(\"Action\")\n",
    "\n",
    "x = np.ones(1)\n",
    "shm = mp.shared_memory.SharedMemory(create=True, size=1000)\n",
    "\n",
    "shm.buf[:len(b'1234')]=b'1234'\n",
    "print(b'1234')\n",
    "\n",
    "val = b'1234'\n",
    "shm.buf[:len(val)]=val\n",
    "\n",
    "print(\"worked\")\n",
    "\n",
    "\n",
    "val = pk.dumps(x)\n",
    "shm.buf[:len(val)]=val\n",
    "\n",
    "print(\"worked2\")\n",
    "\n",
    "print(shm.buf[:])\n",
    "\n",
    "#shm.buf[:4]=bytearray([1,2,3,4])\n",
    "#print(len(pk.dumps(x)))\n",
    "#print(memoryview(x)[:]) #bytearray(x)\n",
    "#print(gla)\n"
   ]
  },
  {
   "cell_type": "code",
   "execution_count": null,
   "metadata": {},
   "outputs": [],
   "source": [
    "\n",
    "\n",
    "#shm.buf=\n",
    "#print(shm.buf.append)\n",
    "\n",
    "#a[0][0]=1\n",
    "print(a[0])\n",
    "print(x)\n",
    "\n",
    "\n",
    "# # Parallel processing\n",
    "# def my_func(i, d):\n",
    "#     d['x']=x\n",
    "#     x[i] = 0\n",
    "#     d['x']=x\n",
    "#     #print(d['x'],i)\n",
    "#     #d[str(i)]=i\n",
    "\n",
    "\n",
    "# pool = mp.Pool(processes=4)\n",
    "# [pool.apply(my_func,args=[i,dataDict,]) for i in range(4)]\n",
    "\n",
    "# print(x)\n",
    "# print(dataDict['x'])"
   ]
  },
  {
   "cell_type": "code",
   "execution_count": 65,
   "metadata": {},
   "outputs": [
    {
     "name": "stdout",
     "output_type": "stream",
     "text": [
      "<__main__.SimpleClass object at 0x7f46808ebc70>\n",
      "100\n"
     ]
    }
   ],
   "source": [
    "from multiprocessing import Process, Manager\n",
    "from multiprocessing.managers import BaseManager\n",
    "\n",
    "class SimpleClass(object):\n",
    "    def __init__(self):\n",
    "        self.var = 0\n",
    "\n",
    "    def set(self, value):\n",
    "        self.var = value\n",
    "\n",
    "    def get(self):\n",
    "        return self.var\n",
    "\n",
    "\n",
    "def change_obj_value(obj):\n",
    "    obj.set(100)\n",
    "\n",
    "\n",
    "if __name__ == '__main__':\n",
    "    BaseManager.register('SimpleClass', SimpleClass)\n",
    "    manager = BaseManager()\n",
    "    manager.start()\n",
    "    inst = manager.SimpleClass()\n",
    "\n",
    "    p = Process(target=change_obj_value, args=[inst])\n",
    "    p.start()\n",
    "    p.join()\n",
    "\n",
    "    print (inst)                    # <__main__.SimpleClass object at 0x10cf82350>\n",
    "    print( inst.get())              # 100"
   ]
  },
  {
   "cell_type": "code",
   "execution_count": 131,
   "metadata": {},
   "outputs": [
    {
     "name": "stdout",
     "output_type": "stream",
     "text": [
      "<__main__.SharedClass object at 0x7f468087c9d0>\n",
      "[[0, 1]]\n",
      "[0, [0, 1]]\n"
     ]
    }
   ],
   "source": [
    "from multiprocessing import Process, Manager\n",
    "from multiprocessing.managers import BaseManager\n",
    "\n",
    "class SharedClass(object):\n",
    "    def __init__(self):\n",
    "        self.var = [0,1]\n",
    "        self.constr = [0]\n",
    "\n",
    "    def setXloc(self,loc,val):\n",
    "        self.var[loc]=val\n",
    "        \n",
    "    def setX(self, value):\n",
    "        self.var = value\n",
    "\n",
    "    def getX(self):\n",
    "        return [self.var]\n",
    "    \n",
    "    def appConstr(self, value):\n",
    "        self.constr += value\n",
    "        \n",
    "    def getConstr(self):\n",
    "        return self.constr\n",
    "\n",
    "def change_obj_value(obj):\n",
    "    #obj.setX(100)\n",
    "    X=obj.getX()\n",
    "    #X=obj.var\n",
    "    obj.appConstr(X)    \n",
    "    \n",
    "\n",
    "\n",
    "if __name__ == '__main__':\n",
    "    BaseManager.register('SharedClass', SharedClass)\n",
    "    manager = BaseManager()\n",
    "    manager.start()\n",
    "    shr = manager.SharedClass()\n",
    "\n",
    "    p = Process(target=change_obj_value, args=[shr])\n",
    "    p.start()\n",
    "    p.join()\n",
    "\n",
    "    print (shr)                    # <__main__.SimpleClass object at 0x10cf82350>\n",
    "    print( shr.getX() )              # 100\n",
    "    print(shr.getConstr())"
   ]
  },
  {
   "cell_type": "code",
   "execution_count": 134,
   "metadata": {},
   "outputs": [],
   "source": [
    "shr.setXloc(0,1)"
   ]
  },
  {
   "cell_type": "code",
   "execution_count": 135,
   "metadata": {},
   "outputs": [
    {
     "name": "stdout",
     "output_type": "stream",
     "text": [
      "[0, [0, 1]]\n"
     ]
    }
   ],
   "source": [
    "print(shr.getConstr())"
   ]
  },
  {
   "cell_type": "code",
   "execution_count": 98,
   "metadata": {},
   "outputs": [
    {
     "name": "stdout",
     "output_type": "stream",
     "text": [
      "[1, 1]\n"
     ]
    }
   ],
   "source": [
    "print(shr.getX())"
   ]
  },
  {
   "cell_type": "markdown",
   "metadata": {},
   "source": [
    "# Testing a basic idea"
   ]
  },
  {
   "cell_type": "code",
   "execution_count": 86,
   "metadata": {},
   "outputs": [],
   "source": [
    "X=[1,2]\n",
    "constr=[X]"
   ]
  },
  {
   "cell_type": "code",
   "execution_count": 89,
   "metadata": {},
   "outputs": [
    {
     "name": "stdout",
     "output_type": "stream",
     "text": [
      "[[2, 2]]\n"
     ]
    }
   ],
   "source": [
    "print(constr)"
   ]
  },
  {
   "cell_type": "code",
   "execution_count": 88,
   "metadata": {},
   "outputs": [],
   "source": [
    "X[0]=2"
   ]
  },
  {
   "cell_type": "code",
   "execution_count": 106,
   "metadata": {},
   "outputs": [
    {
     "name": "stdout",
     "output_type": "stream",
     "text": [
      "[[2, 2]]\n"
     ]
    }
   ],
   "source": [
    "print(constr)"
   ]
  },
  {
   "cell_type": "markdown",
   "metadata": {},
   "source": [
    "# The Sharing Based Method doesn't pass instances"
   ]
  },
  {
   "cell_type": "code",
   "execution_count": 140,
   "metadata": {},
   "outputs": [
    {
     "name": "stdout",
     "output_type": "stream",
     "text": [
      "[-1, [0, 1]]\n",
      "[-1, [1, 1]]\n"
     ]
    }
   ],
   "source": [
    "class sharedX:\n",
    "    def __init__(s):\n",
    "        s.X=[0,1]\n",
    "        s.constr=[-1]\n",
    "    \n",
    "    def getX(s):\n",
    "        return [s.X]\n",
    "    \n",
    "    def setXloc(s,loc,val):\n",
    "        s.X[loc]=val\n",
    "        \n",
    "    \n",
    "    def getConstr(s):\n",
    "        return s.constr\n",
    "    \n",
    "    def appendConstr(s,val):\n",
    "        try:\n",
    "            s.constr += val\n",
    "        except:\n",
    "            s.constr += [val]\n",
    "\n",
    "sX = sharedX()\n",
    "\n",
    "sX.appendConstr(sX.getX())\n",
    "#sX.appendConstr([sX.X]) #sX.getX())\n",
    "#sX.constr += [sX.X]\n",
    "\n",
    "\n",
    "print(sX.getConstr())\n",
    "\n",
    "#sX.X[0]=1\n",
    "sX.setXloc(0,1)\n",
    "\n",
    "print(sX.getConstr())\n"
   ]
  },
  {
   "cell_type": "code",
   "execution_count": 141,
   "metadata": {},
   "outputs": [
    {
     "name": "stdout",
     "output_type": "stream",
     "text": [
      "[-1, [0, 1]]\n",
      "[-1, [0, 1]]\n"
     ]
    }
   ],
   "source": [
    "class sharedX:\n",
    "    def __init__(s):\n",
    "        s.X=[0,1]\n",
    "        s.constr=[-1]\n",
    "    \n",
    "    def getX(s):\n",
    "        return [s.X]\n",
    "    \n",
    "    def setXloc(s,loc,val):\n",
    "        s.X[loc]=val\n",
    "        \n",
    "    \n",
    "    def getConstr(s):\n",
    "        return s.constr\n",
    "    \n",
    "    def appendConstr(s,val):\n",
    "        try:\n",
    "            s.constr += val\n",
    "        except:\n",
    "            s.constr += [val]\n",
    "\n",
    "\n",
    "def worker(sX):\n",
    "    sX.appendConstr(sX.getX())\n",
    "    print(sX.getConstr())\n",
    "    #sX.X[0]=1\n",
    "    sX.setXloc(0,1)\n",
    "    print(sX.getConstr())\n",
    "\n",
    "\n",
    "BaseManager.register('sharedX', sharedX)\n",
    "manager = BaseManager()\n",
    "manager.start()\n",
    "sX = manager.sharedX()\n",
    "\n",
    "p = Process(target=worker, args=[sX])\n",
    "p.start()\n",
    "p.join()\n",
    "\n"
   ]
  },
  {
   "cell_type": "code",
   "execution_count": 143,
   "metadata": {},
   "outputs": [
    {
     "name": "stdout",
     "output_type": "stream",
     "text": [
      "hello world\n"
     ]
    }
   ],
   "source": [
    "import ctypes\n",
    "\n",
    "a = \"hello world\"\n",
    "print(ctypes.cast(id(a), ctypes.py_object).value)\n"
   ]
  },
  {
   "cell_type": "code",
   "execution_count": null,
   "metadata": {},
   "outputs": [],
   "source": []
  }
 ],
 "metadata": {
  "kernelspec": {
   "display_name": "Python 3",
   "language": "python",
   "name": "python3"
  },
  "language_info": {
   "codemirror_mode": {
    "name": "ipython",
    "version": 3
   },
   "file_extension": ".py",
   "mimetype": "text/x-python",
   "name": "python",
   "nbconvert_exporter": "python",
   "pygments_lexer": "ipython3",
   "version": "3.8.1"
  }
 },
 "nbformat": 4,
 "nbformat_minor": 4
}
