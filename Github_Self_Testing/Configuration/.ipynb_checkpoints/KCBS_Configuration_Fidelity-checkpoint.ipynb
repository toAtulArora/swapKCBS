{
 "cells": [
  {
   "cell_type": "markdown",
   "metadata": {},
   "source": [
    "# Libraries"
   ]
  },
  {
   "cell_type": "code",
   "execution_count": 1,
   "metadata": {},
   "outputs": [],
   "source": [
    "import numpy as np\n",
    "import pandas as pd\n",
    "import sympy as sym\n",
    "from scipy import optimize\n",
    "pi = np.pi"
   ]
  },
  {
   "cell_type": "markdown",
   "metadata": {},
   "source": [
    "# Adan Configurations"
   ]
  },
  {
   "cell_type": "code",
   "execution_count": 2,
   "metadata": {},
   "outputs": [],
   "source": [
    "v1 = [1,0,0]\n",
    "A1 = np.outer(v1,v1)\n",
    "v2 = [0,0,1]\n",
    "A2 = np.outer(v2,v2)"
   ]
  },
  {
   "cell_type": "code",
   "execution_count": 3,
   "metadata": {},
   "outputs": [],
   "source": [
    "def A3(theta):\n",
    "#     theta = theta*2*pi\n",
    "    val = [-np.cos(theta),np.sin(theta),0]\n",
    "    return np.outer(val,val)"
   ]
  },
  {
   "cell_type": "code",
   "execution_count": 4,
   "metadata": {},
   "outputs": [],
   "source": [
    "def A4(theta):\n",
    "#     theta = theta*2*pi\n",
    "    val = [0,np.sin(theta), -np.cos(theta)]\n",
    "    return np.outer(val,val)"
   ]
  },
  {
   "cell_type": "code",
   "execution_count": 5,
   "metadata": {},
   "outputs": [],
   "source": [
    "def A5(theta):\n",
    "#     theta = theta*2*pi\n",
    "    val = [np.sin(theta),np.cos(theta),np.sin(theta)]\n",
    "    x = theta\n",
    "    norm = (2*np.sin(x)*np.sin(x)+np.cos(x)*np.cos(x))\n",
    "    return (1/norm)*np.outer(val,val)"
   ]
  },
  {
   "cell_type": "code",
   "execution_count": 6,
   "metadata": {},
   "outputs": [],
   "source": [
    "def Adan(theta):\n",
    "    fin = A1 + A2 + A3(theta) + A5(theta) + A4(theta)\n",
    "    return fin"
   ]
  },
  {
   "cell_type": "code",
   "execution_count": 7,
   "metadata": {},
   "outputs": [
    {
     "data": {
      "text/plain": [
       "array([[2., 0., 0.],\n",
       "       [0., 1., 0.],\n",
       "       [0., 0., 2.]])"
      ]
     },
     "execution_count": 7,
     "metadata": {},
     "output_type": "execute_result"
    }
   ],
   "source": [
    "Adan(0)"
   ]
  },
  {
   "cell_type": "markdown",
   "metadata": {},
   "source": [
    "## Degree versus Radian"
   ]
  },
  {
   "cell_type": "code",
   "execution_count": 8,
   "metadata": {},
   "outputs": [
    {
     "data": {
      "text/plain": [
       "1.0"
      ]
     },
     "execution_count": 8,
     "metadata": {},
     "output_type": "execute_result"
    }
   ],
   "source": [
    "# Seems the angle are in radian by default\n",
    "np.sin(pi*0.5)"
   ]
  },
  {
   "cell_type": "code",
   "execution_count": 9,
   "metadata": {},
   "outputs": [
    {
     "data": {
      "text/plain": [
       "0.8939966636005579"
      ]
     },
     "execution_count": 9,
     "metadata": {},
     "output_type": "execute_result"
    }
   ],
   "source": [
    "np.sin(90)"
   ]
  },
  {
   "cell_type": "markdown",
   "metadata": {},
   "source": [
    "## Back to Configuration"
   ]
  },
  {
   "cell_type": "code",
   "execution_count": 10,
   "metadata": {},
   "outputs": [
    {
     "data": {
      "text/plain": [
       "(array([2.15549657, 1.77015115, 1.07435227]),\n",
       " array([[ 7.03315795e-01, -7.07106781e-01,  7.31224458e-02],\n",
       "        [-1.03410755e-01, -4.81998350e-16,  9.94638736e-01],\n",
       "        [ 7.03315795e-01,  7.07106781e-01,  7.31224458e-02]]))"
      ]
     },
     "execution_count": 10,
     "metadata": {},
     "output_type": "execute_result"
    }
   ],
   "source": [
    "np.linalg.eig(Adan(0.5))"
   ]
  },
  {
   "cell_type": "code",
   "execution_count": 11,
   "metadata": {},
   "outputs": [
    {
     "data": {
      "text/plain": [
       "2.1554965732046885"
      ]
     },
     "execution_count": 11,
     "metadata": {},
     "output_type": "execute_result"
    }
   ],
   "source": [
    "max(np.linalg.eig(Adan(0.5))[0])"
   ]
  },
  {
   "cell_type": "code",
   "execution_count": 12,
   "metadata": {},
   "outputs": [
    {
     "name": "stdout",
     "output_type": "stream",
     "text": [
      "[0.6530612244897959, 2.2038021955599856]\n",
      "[0.7346938775510203, 2.2211934449795887]\n",
      "[0.8163265306122448, 2.23202623322764]\n",
      "[0.8979591836734693, 2.2360452635659156]\n",
      "[0.9795918367346939, 2.233118923685537]\n",
      "[1.0612244897959182, 2.2231708491792888]\n",
      "[1.1428571428571428, 2.206142940057058]\n",
      "[2.0408163265306123, 2.2158081557336584]\n",
      "[2.1224489795918364, 2.2291796230680356]\n",
      "[2.204081632653061, 2.2355002085458544]\n",
      "[2.2857142857142856, 2.2348344556749487]\n",
      "[2.36734693877551, 2.227280790542994]\n",
      "[2.4489795918367343, 2.2130237393019443]\n",
      "[3.836734693877551, 2.2135631253003885]\n",
      "[3.9183673469387754, 2.227616703944435]\n",
      "[4.0, 2.2349591251562164]\n"
     ]
    }
   ],
   "source": [
    "# Angles are in radian \n",
    "list1 = np.linspace(0,4,50)\n",
    "list2 = []\n",
    "for t in list1:\n",
    "        val1 = max(np.linalg.eig(Adan(t))[0])\n",
    "        if val1 > 2.20:\n",
    "            list2.append([t,val1])\n",
    "            print([t,val1]) "
   ]
  },
  {
   "cell_type": "code",
   "execution_count": 13,
   "metadata": {},
   "outputs": [],
   "source": [
    "# Takes angles in degree\n",
    "def Adan1(deg):\n",
    "    theta = (deg/180.0)*np.pi\n",
    "    fin = A1 + A2 + A3(theta) + A5(theta) + A4(theta)\n",
    "    return fin"
   ]
  },
  {
   "cell_type": "code",
   "execution_count": 14,
   "metadata": {},
   "outputs": [
    {
     "name": "stdout",
     "output_type": "stream",
     "text": [
      "[51.55778894472362, 2.2360564314840703]\n",
      "[52.462311557788944, 2.2360038232566732]\n",
      "[127.53768844221106, 2.2360038232566732]\n",
      "[128.44221105527637, 2.2360564314840685]\n"
     ]
    }
   ],
   "source": [
    "# Angles are in degree\n",
    "list3 = np.linspace(0,180,200)\n",
    "list4 = []\n",
    "for t in list3:\n",
    "        val1 = max(np.linalg.eig(Adan1(t))[0])\n",
    "        if val1 > 2.236:\n",
    "            list4.append([t,val1])\n",
    "            print([t,val1]) "
   ]
  },
  {
   "cell_type": "code",
   "execution_count": 15,
   "metadata": {},
   "outputs": [
    {
     "data": {
      "text/plain": [
       "2.23606797749979"
      ]
     },
     "execution_count": 15,
     "metadata": {},
     "output_type": "execute_result"
    }
   ],
   "source": [
    "np.sqrt(5)"
   ]
  },
  {
   "cell_type": "code",
   "execution_count": 16,
   "metadata": {},
   "outputs": [
    {
     "data": {
      "text/plain": [
       "(array([2.23605575, 1.38667435, 1.3772699 ]),\n",
       " array([[ 6.69439787e-01, -7.07106781e-01,  2.27706766e-01],\n",
       "        [-3.22025996e-01,  5.06715245e-14,  9.46730826e-01],\n",
       "        [ 6.69439787e-01,  7.07106781e-01,  2.27706766e-01]]))"
      ]
     },
     "execution_count": 16,
     "metadata": {},
     "output_type": "execute_result"
    }
   ],
   "source": [
    "np.linalg.eig(Adan1(51.55))"
   ]
  },
  {
   "cell_type": "markdown",
   "metadata": {},
   "source": [
    "# Minimization over SU(3) Matrices"
   ]
  },
  {
   "cell_type": "markdown",
   "metadata": {},
   "source": [
    "## Parametrization"
   ]
  },
  {
   "cell_type": "code",
   "execution_count": 17,
   "metadata": {},
   "outputs": [],
   "source": [
    "# https://journals-aps-org.libproxy1.nus.edu.sg/prd/pdf/10.1103/PhysRevD.38.1994\n",
    "# PHYSICAL REVIEW D VOLUME 38, NUMBER 6 15 SEPTEMBER 1988\n",
    "# Parametrization of SU(3)\n",
    "\n",
    "def SU3(th1,th2,th3,ph1,ph2,ph3,ph4,ph5):\n",
    "    u11 = np.cos(th1)*np.cos(th2)*np.exp(1j*ph1)\n",
    "    u12 = np.sin(th1)*np.exp(1j*ph3)\n",
    "    u13 = np.cos(th1)*np.sin(th2)*np.exp(1j*ph4)\n",
    "    u21 = np.sin(th2)*np.sin(th3)*np.exp(-1j*ph4 -1j*ph5) - np.sin(th1)*np.cos(th2)*np.cos(th3)*np.exp(1j*ph1+1j*ph2-1j*ph3)\n",
    "    u22 = np.cos(th1)*np.cos(th3)*np.exp(1j*ph2)\n",
    "    u23 = -1*np.cos(th2)*np.sin(th3)*np.exp(-1j*ph1 -1j*ph5) - np.sin(th1)*np.sin(th2)*np.cos(th3)*np.exp(1j*ph2-1j*ph3+1j*ph4)\n",
    "    u32 = np.cos(th1)*np.sin(th3)*np.exp(1j*ph5)\n",
    "    u31 = -1*np.sin(th1)*np.cos(th2)*np.sin(th3)*np.exp(1j*ph1-1j*ph3+1j*ph5)  # check the sign in front of ph5\n",
    "    u33 = np.cos(th2)*np.cos(th3)*np.exp(-1j*ph1-1j*ph2) - np.sin(th1)*np.sin(th2)*np.sin(th3)*np.exp(-1j*ph3+1j*ph4+1j*ph5)\n",
    "    mat = np.matrix([[u11, u12, u13],\n",
    "           [u21, u22, u23],\n",
    "           [u31, u32, u33]])\n",
    "    return mat"
   ]
  },
  {
   "cell_type": "code",
   "execution_count": 18,
   "metadata": {},
   "outputs": [
    {
     "data": {
      "text/plain": [
       "matrix([[ 0.0044257 +0.99999021j, -0.        -0.j        ,\n",
       "          0.        +0.j        ],\n",
       "        [ 0.        -0.j        ,  0.82034737-0.09060394j,\n",
       "         -0.15536891+0.54284586j],\n",
       "        [ 0.        -0.j        ,  0.54352816-0.15296491j,\n",
       "          0.09423366-0.81993835j]])"
      ]
     },
     "execution_count": 18,
     "metadata": {},
     "output_type": "execute_result"
    }
   ],
   "source": [
    "mat1 = SU3(0,0,0.6,11,0.11,0,0,17)\n",
    "mat1.H"
   ]
  },
  {
   "cell_type": "code",
   "execution_count": 19,
   "metadata": {},
   "outputs": [
    {
     "data": {
      "text/plain": [
       "matrix([[ 0.00000000e+00+0.00000000e+00j,\n",
       "          0.00000000e+00+0.00000000e+00j,\n",
       "          0.00000000e+00+0.00000000e+00j],\n",
       "        [ 0.00000000e+00+0.00000000e+00j,\n",
       "          2.22044605e-16+0.00000000e+00j,\n",
       "         -2.22044605e-16-5.55111512e-17j],\n",
       "        [ 0.00000000e+00+0.00000000e+00j,\n",
       "         -2.22044605e-16+5.55111512e-17j,\n",
       "          0.00000000e+00+0.00000000e+00j]])"
      ]
     },
     "execution_count": 19,
     "metadata": {},
     "output_type": "execute_result"
    }
   ],
   "source": [
    "mat1@mat1.H - np.eye(3)"
   ]
  },
  {
   "cell_type": "markdown",
   "metadata": {},
   "source": [
    "## Minimization"
   ]
  },
  {
   "cell_type": "code",
   "execution_count": 20,
   "metadata": {},
   "outputs": [],
   "source": [
    "def opt_unitary(th1,th2,th3,ph1,ph2,ph3,ph4,ph5,ang1,ang2,st2):\n",
    "    ang1 = ang1*np.pi/180\n",
    "    ang2 = ang2*np.pi/180\n",
    "    uni = SU3(th1,th2,th3,ph1,ph2,ph3,ph4,ph5)\n",
    "    u1 = [1,0,0]\n",
    "    u2 = [0,0,1]\n",
    "    u3 = [-np.cos(ang1),np.sin(ang1),0]\n",
    "    u4 = [0,np.sin(ang1), -np.cos(ang1)]\n",
    "    x = ang1\n",
    "    norm1 = np.sqrt(2*np.sin(x)*np.sin(x)+np.cos(x)*np.cos(x))\n",
    "    u5 = [(1/norm1)*np.sin(ang1),(1/norm1)*np.cos(ang1),(1/norm1)*np.sin(ang1)]\n",
    "    temp = np.linalg.eig(Adan1(ang1))[1]\n",
    "    s1 = [temp[0][0],temp[1][0],temp[2][0]]\n",
    "    \n",
    "    m1 = [1,0,0]\n",
    "    m2 = [0,0,1]\n",
    "    m3 = [-np.cos(ang2),np.sin(ang2),0]\n",
    "    m4 = [0,np.sin(ang2), -np.cos(ang2)]\n",
    "    x = ang2\n",
    "    norm2 = np.sqrt(2*np.sin(x)*np.sin(x)+np.cos(x)*np.cos(x))\n",
    "    m5 = [(1/norm2)*np.sin(ang2),(1/norm2)*np.cos(ang2),(1/norm2)*np.sin(ang2)]\n",
    "    temp = np.linalg.eig(Adan1(ang2))[1]\n",
    "    s2 = [st2[0],st2[1],st2[2]]\n",
    "    \n",
    "\n",
    "    \n",
    "    f1 = np.abs(np.inner(u1,uni@m1))[0]\n",
    "    f2 = np.abs(np.inner(u2,uni@m2))[0]\n",
    "    f3 = np.abs(np.inner(u3,uni@m3))[0]\n",
    "    f4 = np.abs(np.inner(u4,uni@m4))[0]\n",
    "    f5 = np.abs(np.inner(u5,uni@m5))[0]\n",
    "    \n",
    "    fs = np.abs(np.inner(s1,uni@s2))[0]\n",
    "    \n",
    "#     print([f1,f2,f3,f4,f5,fs])\n",
    "        \n",
    "    val = np.sqrt(f1*f1) + np.sqrt(f2*f2) + np.sqrt(f3*f3) + np.sqrt(f4*f4) + np.sqrt(f5*f5) + np.sqrt(fs*fs)\n",
    "    val2 = f1*f1 + f2*f2 + f3*f3 + f4*f4 + f5*f5\n",
    "    \n",
    "    return val[0,0]"
   ]
  },
  {
   "cell_type": "code",
   "execution_count": 148,
   "metadata": {},
   "outputs": [
    {
     "data": {
      "text/plain": [
       "5.706497632557562"
      ]
     },
     "execution_count": 148,
     "metadata": {},
     "output_type": "execute_result"
    }
   ],
   "source": [
    "opt_unitary(0,0,0,0,1,0,0,0,1,0,[1,0,0])"
   ]
  },
  {
   "cell_type": "markdown",
   "metadata": {},
   "source": [
    "### 150.612244"
   ]
  },
  {
   "cell_type": "code",
   "execution_count": 149,
   "metadata": {},
   "outputs": [
    {
     "data": {
      "text/plain": [
       "3.3925972792663464"
      ]
     },
     "execution_count": 149,
     "metadata": {},
     "output_type": "execute_result"
    }
   ],
   "source": [
    "angle2 = 150.612244\n",
    "st2 = [-0.648726414, -0.397879478, -0.648726414]\n",
    "angle1 = 51.55778894472362\n",
    "opt_unitary(0,0,0,0,0,0,0,0,angle1, angle2, st2)"
   ]
  },
  {
   "cell_type": "code",
   "execution_count": 150,
   "metadata": {},
   "outputs": [],
   "source": [
    "def max_fid(y):\n",
    "    return -1*opt_unitary(y[0],y[1],y[2],y[3],y[4],y[5],y[6],y[7],angle1, angle2, st2)"
   ]
  },
  {
   "cell_type": "code",
   "execution_count": 151,
   "metadata": {},
   "outputs": [
    {
     "data": {
      "text/plain": [
       "-5.784062401071405"
      ]
     },
     "execution_count": 151,
     "metadata": {},
     "output_type": "execute_result"
    }
   ],
   "source": [
    "optimize.minimize(max_fid, np.random.rand(8,1)).fun"
   ]
  },
  {
   "cell_type": "code",
   "execution_count": 152,
   "metadata": {},
   "outputs": [
    {
     "data": {
      "text/plain": [
       "array([[0.02548526],\n",
       "       [0.65609115],\n",
       "       [0.45146925],\n",
       "       [0.87838767],\n",
       "       [0.95232063],\n",
       "       [0.76144487],\n",
       "       [0.97279736],\n",
       "       [0.61433076]])"
      ]
     },
     "execution_count": 152,
     "metadata": {},
     "output_type": "execute_result"
    }
   ],
   "source": [
    "np.random.rand(8,1)"
   ]
  },
  {
   "cell_type": "code",
   "execution_count": 153,
   "metadata": {},
   "outputs": [
    {
     "data": {
      "text/plain": [
       "-5.784062401078021"
      ]
     },
     "execution_count": 153,
     "metadata": {},
     "output_type": "execute_result"
    }
   ],
   "source": [
    "total = 100\n",
    "outlist = []\n",
    "for k in range(total):\n",
    "    out1 = optimize.minimize(max_fid, np.random.rand(8,1)).fun\n",
    "    outlist.append(out1)\n",
    "min(outlist)"
   ]
  },
  {
   "cell_type": "markdown",
   "metadata": {},
   "source": [
    "### 22.040813"
   ]
  },
  {
   "cell_type": "code",
   "execution_count": 154,
   "metadata": {},
   "outputs": [],
   "source": [
    "angle2 = 22.040813\n",
    "st2 = [0.685502971, -0.245298498, 0.685502971]\n",
    "angle1 = 51.55778894472362"
   ]
  },
  {
   "cell_type": "code",
   "execution_count": 155,
   "metadata": {},
   "outputs": [
    {
     "data": {
      "text/plain": [
       "      fun: -5.727596032049137\n",
       " hess_inv: array([[ 3.28228730e-01,  3.17254717e-02, -1.12373513e-01,\n",
       "        -5.10619231e-07,  6.60523852e-08,  0.00000000e+00,\n",
       "         0.00000000e+00,  0.00000000e+00],\n",
       "       [ 3.17254717e-02,  2.29399111e-01, -7.63790045e-02,\n",
       "        -2.94136646e-07,  1.53340503e-06,  0.00000000e+00,\n",
       "         0.00000000e+00,  0.00000000e+00],\n",
       "       [-1.12373513e-01, -7.63790045e-02,  3.52345226e-01,\n",
       "        -1.77412129e-06, -9.35884571e-07,  0.00000000e+00,\n",
       "         0.00000000e+00,  0.00000000e+00],\n",
       "       [-5.10619231e-07, -2.94136646e-07, -1.77412129e-06,\n",
       "         1.00000000e+00, -1.58709451e-11,  0.00000000e+00,\n",
       "         0.00000000e+00,  0.00000000e+00],\n",
       "       [ 6.60523852e-08,  1.53340503e-06, -9.35884571e-07,\n",
       "        -1.58709451e-11,  1.00000000e+00,  0.00000000e+00,\n",
       "         0.00000000e+00,  0.00000000e+00],\n",
       "       [ 0.00000000e+00,  0.00000000e+00,  0.00000000e+00,\n",
       "         0.00000000e+00,  0.00000000e+00,  1.00000000e+00,\n",
       "         0.00000000e+00,  0.00000000e+00],\n",
       "       [ 0.00000000e+00,  0.00000000e+00,  0.00000000e+00,\n",
       "         0.00000000e+00,  0.00000000e+00,  0.00000000e+00,\n",
       "         1.00000000e+00,  0.00000000e+00],\n",
       "       [ 0.00000000e+00,  0.00000000e+00,  0.00000000e+00,\n",
       "         0.00000000e+00,  0.00000000e+00,  0.00000000e+00,\n",
       "         0.00000000e+00,  1.00000000e+00]])\n",
       "      jac: array([-5.00679016e-06, -1.84774399e-06, -2.38418579e-07,  0.00000000e+00,\n",
       "        1.19209290e-07,  0.00000000e+00,  0.00000000e+00,  0.00000000e+00])\n",
       "  message: 'Optimization terminated successfully.'\n",
       "     nfev: 90\n",
       "      nit: 5\n",
       "     njev: 9\n",
       "   status: 0\n",
       "  success: True\n",
       "        x: array([ 1.84093894e-01,  1.43708591e-01,  1.20783672e-01, -2.82160779e-08,\n",
       "        4.84886529e-08,  0.00000000e+00,  0.00000000e+00,  0.00000000e+00])"
      ]
     },
     "execution_count": 155,
     "metadata": {},
     "output_type": "execute_result"
    }
   ],
   "source": [
    "optimize.minimize(max_fid, np.array([0,0,0,0,0,0,0,0]))"
   ]
  },
  {
   "cell_type": "code",
   "execution_count": 156,
   "metadata": {},
   "outputs": [
    {
     "data": {
      "text/plain": [
       "-5.727596032053697"
      ]
     },
     "execution_count": 156,
     "metadata": {},
     "output_type": "execute_result"
    }
   ],
   "source": [
    "total = 100\n",
    "outlist = []\n",
    "for k in range(total):\n",
    "    out1 = optimize.minimize(max_fid, np.random.rand(8,1)).fun\n",
    "    outlist.append(out1)\n",
    "min(outlist)"
   ]
  },
  {
   "cell_type": "code",
   "execution_count": 157,
   "metadata": {},
   "outputs": [
    {
     "data": {
      "text/plain": [
       "-5.727596031187291"
      ]
     },
     "execution_count": 157,
     "metadata": {},
     "output_type": "execute_result"
    }
   ],
   "source": [
    "max(outlist)"
   ]
  },
  {
   "cell_type": "markdown",
   "metadata": {},
   "source": [
    "# Sanity Check"
   ]
  },
  {
   "cell_type": "code",
   "execution_count": 53,
   "metadata": {},
   "outputs": [],
   "source": [
    "def viol(theta,a,b,c):\n",
    "    rho = np.outer([a,b,c],[a,b,c])\n",
    "    rad = theta/180.0*np.pi\n",
    "    proj = A1 + A2 + A3(rad)+A4(rad)+A5(rad)\n",
    "    val1 = max(np.linalg.eig(proj)[0])\n",
    "    val2 = np.trace(rho@proj)\n",
    "    val3 = np.trace(rho)\n",
    "    return [val1,val2,val3]"
   ]
  },
  {
   "cell_type": "code",
   "execution_count": 54,
   "metadata": {},
   "outputs": [
    {
     "data": {
      "text/plain": [
       "[2.160246791999178, 2.0661739526333784, 0.9999999994561513]"
      ]
     },
     "execution_count": 54,
     "metadata": {},
     "output_type": "execute_result"
    }
   ],
   "source": [
    "viol(150.612244,-0.648726414,-0.397879478, -0.648726414)"
   ]
  },
  {
   "cell_type": "code",
   "execution_count": 55,
   "metadata": {},
   "outputs": [
    {
     "data": {
      "text/plain": [
       "-3.6409871679967125"
      ]
     },
     "execution_count": 55,
     "metadata": {},
     "output_type": "execute_result"
    }
   ],
   "source": [
    "5-4*viol(150.612244,0.691510624,0.208868649,0.691510624)[0]"
   ]
  },
  {
   "cell_type": "code",
   "execution_count": 56,
   "metadata": {},
   "outputs": [
    {
     "data": {
      "text/plain": [
       "2.059"
      ]
     },
     "execution_count": 56,
     "metadata": {},
     "output_type": "execute_result"
    }
   ],
   "source": [
    "(5+3.236)/4"
   ]
  },
  {
   "cell_type": "code",
   "execution_count": 57,
   "metadata": {},
   "outputs": [
    {
     "data": {
      "text/plain": [
       "2.0615"
      ]
     },
     "execution_count": 57,
     "metadata": {},
     "output_type": "execute_result"
    }
   ],
   "source": [
    "(5+3.246)/4"
   ]
  },
  {
   "cell_type": "code",
   "execution_count": 58,
   "metadata": {},
   "outputs": [
    {
     "name": "stdout",
     "output_type": "stream",
     "text": [
      "2.059\n",
      "2.0564999999999998\n",
      "2.05725\n",
      "2.0615\n"
     ]
    }
   ],
   "source": [
    "comp_viols = [3.236,3.226,3.229,3.246]\n",
    "for k in comp_viols:\n",
    "    val = (5+k)/4.0\n",
    "    print(val)"
   ]
  },
  {
   "cell_type": "code",
   "execution_count": null,
   "metadata": {},
   "outputs": [],
   "source": []
  }
 ],
 "metadata": {
  "kernelspec": {
   "display_name": "Python 3",
   "language": "python",
   "name": "python3"
  },
  "language_info": {
   "codemirror_mode": {
    "name": "ipython",
    "version": 3
   },
   "file_extension": ".py",
   "mimetype": "text/x-python",
   "name": "python",
   "nbconvert_exporter": "python",
   "pygments_lexer": "ipython3",
   "version": "3.8.8"
  },
  "latex_envs": {
   "LaTeX_envs_menu_present": true,
   "autoclose": false,
   "autocomplete": true,
   "bibliofile": "biblio.bib",
   "cite_by": "apalike",
   "current_citInitial": 1,
   "eqLabelWithNumbers": true,
   "eqNumInitial": 1,
   "hotkeys": {
    "equation": "Ctrl-E",
    "itemize": "Ctrl-I"
   },
   "labels_anchors": false,
   "latex_user_defs": false,
   "report_style_numbering": false,
   "user_envs_cfg": false
  },
  "toc": {
   "base_numbering": 1,
   "nav_menu": {},
   "number_sections": true,
   "sideBar": true,
   "skip_h1_title": false,
   "title_cell": "Table of Contents",
   "title_sidebar": "Contents",
   "toc_cell": false,
   "toc_position": {},
   "toc_section_display": true,
   "toc_window_display": true
  }
 },
 "nbformat": 4,
 "nbformat_minor": 2
}
