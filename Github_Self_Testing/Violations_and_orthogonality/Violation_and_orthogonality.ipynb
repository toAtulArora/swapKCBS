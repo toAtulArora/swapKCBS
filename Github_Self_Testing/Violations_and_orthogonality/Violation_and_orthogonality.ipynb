{
 "cells": [
  {
   "cell_type": "markdown",
   "metadata": {},
   "source": [
    "# Libraries"
   ]
  },
  {
   "cell_type": "code",
   "execution_count": 29,
   "metadata": {},
   "outputs": [],
   "source": [
    "# Import libraries\n",
    "import numpy as np\n",
    "import matplotlib.pyplot as plt\n",
    "np.set_printoptions(precision=3, suppress=True)\n",
    "import matplotlib.pyplot as plt\n",
    "import pandas as pd\n",
    "import math"
   ]
  },
  {
   "cell_type": "markdown",
   "metadata": {},
   "source": [
    "# Orthogonality"
   ]
  },
  {
   "cell_type": "markdown",
   "metadata": {},
   "source": [
    "## Data Files"
   ]
  },
  {
   "cell_type": "code",
   "execution_count": 30,
   "metadata": {},
   "outputs": [],
   "source": [
    "# Normal order file\n",
    "data1 = pd.read_csv(\"Normal48.csv\")\n",
    "# data1 = pd.read_csv(\"Normal150.txt\")\n",
    "# data1 = pd.read_csv(\"Normal22.txt\")\n",
    "# data1 = pd.read_csv(\"Normal48P01.txt\")\n",
    "# data1 = pd.read_csv(\"Normal48P02.txt\")"
   ]
  },
  {
   "cell_type": "code",
   "execution_count": 31,
   "metadata": {},
   "outputs": [],
   "source": [
    "# Reverse order file\n",
    "data2 = pd.read_csv(\"Reverse48.csv\")\n",
    "# data2 = pd.read_csv(\"Reverse150.txt\")\n",
    "# data2 = pd.read_csv(\"Reverse22.txt\")\n",
    "# data2 = pd.read_csv(\"Reverse48P01.txt\")\n",
    "# data2 = pd.read_csv(\"Reverse48P02.txt\")"
   ]
  },
  {
   "cell_type": "code",
   "execution_count": 32,
   "metadata": {},
   "outputs": [],
   "source": [
    "# The first column record the rundom number, with \"1\",\"2\",\"3\",\"4\",\"5\" correspond to \n",
    "# the Normal measurement Order: \"M1->M2\", \"M2-> M3\", \"M3-> M4\", \"M4-> M5\", \"M5-> M1\",respectively;  \n",
    "# and \"6\",\"7\",\"8\",\"9\",\"10\" \n",
    "# correspond to Reverse Order: \"M1->M5\", \"M2->M1\", \"M3->M2\", \"M4->M3\",  \"M5->M4\", respectively.\n",
    "\n",
    "data1.columns = [\"meas\", \"Op1\", \"Op2\"]\n",
    "data2.columns = [\"meas\", \"Op1\", \"Op2\"]"
   ]
  },
  {
   "cell_type": "markdown",
   "metadata": {},
   "source": [
    "## Relabelling"
   ]
  },
  {
   "cell_type": "code",
   "execution_count": 33,
   "metadata": {},
   "outputs": [],
   "source": [
    "# The second column record the photon counts of the first measurement, \n",
    "# which correspond to \"Dark state\" if the value <2.5; and \"Bright state\" the other case.\n",
    "\n",
    "data1.loc[data1[\"Op1\"] <2.5,\"Op1\"] = 0 \n",
    "data1.loc[data1[\"Op1\"] >=2.5,\"Op1\"] =1\n",
    "data2.loc[data2[\"Op1\"] <2.5,\"Op1\"] = 0 \n",
    "data2.loc[data2[\"Op1\"] >=2.5,\"Op1\"] =1"
   ]
  },
  {
   "cell_type": "code",
   "execution_count": 34,
   "metadata": {},
   "outputs": [],
   "source": [
    "# The third column record the photon counts of the second measurement, \n",
    "# which correspond to \"Dark state\" if the value <8.5; and \"Bright state\" the other case.\n",
    "\n",
    "data1.loc[data1[\"Op2\"] <8.5,\"Op2\"] = 0 \n",
    "data1.loc[data1[\"Op2\"] >=8.5,\"Op2\"] =1\n",
    "data2.loc[data2[\"Op2\"] <8.5,\"Op2\"] = 0 \n",
    "data2.loc[data2[\"Op2\"] >=8.5,\"Op2\"] =1"
   ]
  },
  {
   "cell_type": "code",
   "execution_count": 35,
   "metadata": {},
   "outputs": [
    {
     "data": {
      "text/html": [
       "<div>\n",
       "<style scoped>\n",
       "    .dataframe tbody tr th:only-of-type {\n",
       "        vertical-align: middle;\n",
       "    }\n",
       "\n",
       "    .dataframe tbody tr th {\n",
       "        vertical-align: top;\n",
       "    }\n",
       "\n",
       "    .dataframe thead th {\n",
       "        text-align: right;\n",
       "    }\n",
       "</style>\n",
       "<table border=\"1\" class=\"dataframe\">\n",
       "  <thead>\n",
       "    <tr style=\"text-align: right;\">\n",
       "      <th></th>\n",
       "      <th>meas</th>\n",
       "      <th>Op1</th>\n",
       "      <th>Op2</th>\n",
       "    </tr>\n",
       "  </thead>\n",
       "  <tbody>\n",
       "    <tr>\n",
       "      <th>0</th>\n",
       "      <td>1</td>\n",
       "      <td>1</td>\n",
       "      <td>0</td>\n",
       "    </tr>\n",
       "    <tr>\n",
       "      <th>1</th>\n",
       "      <td>1</td>\n",
       "      <td>1</td>\n",
       "      <td>0</td>\n",
       "    </tr>\n",
       "    <tr>\n",
       "      <th>2</th>\n",
       "      <td>1</td>\n",
       "      <td>0</td>\n",
       "      <td>1</td>\n",
       "    </tr>\n",
       "    <tr>\n",
       "      <th>3</th>\n",
       "      <td>3</td>\n",
       "      <td>0</td>\n",
       "      <td>1</td>\n",
       "    </tr>\n",
       "    <tr>\n",
       "      <th>4</th>\n",
       "      <td>1</td>\n",
       "      <td>1</td>\n",
       "      <td>0</td>\n",
       "    </tr>\n",
       "  </tbody>\n",
       "</table>\n",
       "</div>"
      ],
      "text/plain": [
       "   meas  Op1  Op2\n",
       "0     1    1    0\n",
       "1     1    1    0\n",
       "2     1    0    1\n",
       "3     3    0    1\n",
       "4     1    1    0"
      ]
     },
     "execution_count": 35,
     "metadata": {},
     "output_type": "execute_result"
    }
   ],
   "source": [
    "data1.head()"
   ]
  },
  {
   "cell_type": "code",
   "execution_count": 36,
   "metadata": {},
   "outputs": [
    {
     "data": {
      "text/html": [
       "<div>\n",
       "<style scoped>\n",
       "    .dataframe tbody tr th:only-of-type {\n",
       "        vertical-align: middle;\n",
       "    }\n",
       "\n",
       "    .dataframe tbody tr th {\n",
       "        vertical-align: top;\n",
       "    }\n",
       "\n",
       "    .dataframe thead th {\n",
       "        text-align: right;\n",
       "    }\n",
       "</style>\n",
       "<table border=\"1\" class=\"dataframe\">\n",
       "  <thead>\n",
       "    <tr style=\"text-align: right;\">\n",
       "      <th></th>\n",
       "      <th>meas</th>\n",
       "      <th>Op1</th>\n",
       "      <th>Op2</th>\n",
       "    </tr>\n",
       "  </thead>\n",
       "  <tbody>\n",
       "    <tr>\n",
       "      <th>0</th>\n",
       "      <td>9</td>\n",
       "      <td>0</td>\n",
       "      <td>0</td>\n",
       "    </tr>\n",
       "    <tr>\n",
       "      <th>1</th>\n",
       "      <td>8</td>\n",
       "      <td>1</td>\n",
       "      <td>0</td>\n",
       "    </tr>\n",
       "    <tr>\n",
       "      <th>2</th>\n",
       "      <td>8</td>\n",
       "      <td>0</td>\n",
       "      <td>1</td>\n",
       "    </tr>\n",
       "    <tr>\n",
       "      <th>3</th>\n",
       "      <td>7</td>\n",
       "      <td>1</td>\n",
       "      <td>0</td>\n",
       "    </tr>\n",
       "    <tr>\n",
       "      <th>4</th>\n",
       "      <td>7</td>\n",
       "      <td>0</td>\n",
       "      <td>0</td>\n",
       "    </tr>\n",
       "  </tbody>\n",
       "</table>\n",
       "</div>"
      ],
      "text/plain": [
       "   meas  Op1  Op2\n",
       "0     9    0    0\n",
       "1     8    1    0\n",
       "2     8    0    1\n",
       "3     7    1    0\n",
       "4     7    0    0"
      ]
     },
     "execution_count": 36,
     "metadata": {},
     "output_type": "execute_result"
    }
   ],
   "source": [
    "data2.head()"
   ]
  },
  {
   "cell_type": "code",
   "execution_count": 37,
   "metadata": {},
   "outputs": [],
   "source": [
    "data1[\"Product\"] = data1[\"Op1\"]*data1[\"Op2\"]\n",
    "data2[\"Product\"] = data2[\"Op1\"]*data2[\"Op2\"]"
   ]
  },
  {
   "cell_type": "code",
   "execution_count": 38,
   "metadata": {},
   "outputs": [
    {
     "data": {
      "text/html": [
       "<div>\n",
       "<style scoped>\n",
       "    .dataframe tbody tr th:only-of-type {\n",
       "        vertical-align: middle;\n",
       "    }\n",
       "\n",
       "    .dataframe tbody tr th {\n",
       "        vertical-align: top;\n",
       "    }\n",
       "\n",
       "    .dataframe thead th {\n",
       "        text-align: right;\n",
       "    }\n",
       "</style>\n",
       "<table border=\"1\" class=\"dataframe\">\n",
       "  <thead>\n",
       "    <tr style=\"text-align: right;\">\n",
       "      <th></th>\n",
       "      <th>meas</th>\n",
       "      <th>Op1</th>\n",
       "      <th>Op2</th>\n",
       "      <th>Product</th>\n",
       "    </tr>\n",
       "  </thead>\n",
       "  <tbody>\n",
       "    <tr>\n",
       "      <th>0</th>\n",
       "      <td>1</td>\n",
       "      <td>1</td>\n",
       "      <td>0</td>\n",
       "      <td>0</td>\n",
       "    </tr>\n",
       "    <tr>\n",
       "      <th>1</th>\n",
       "      <td>1</td>\n",
       "      <td>1</td>\n",
       "      <td>0</td>\n",
       "      <td>0</td>\n",
       "    </tr>\n",
       "    <tr>\n",
       "      <th>2</th>\n",
       "      <td>1</td>\n",
       "      <td>0</td>\n",
       "      <td>1</td>\n",
       "      <td>0</td>\n",
       "    </tr>\n",
       "    <tr>\n",
       "      <th>3</th>\n",
       "      <td>3</td>\n",
       "      <td>0</td>\n",
       "      <td>1</td>\n",
       "      <td>0</td>\n",
       "    </tr>\n",
       "    <tr>\n",
       "      <th>4</th>\n",
       "      <td>1</td>\n",
       "      <td>1</td>\n",
       "      <td>0</td>\n",
       "      <td>0</td>\n",
       "    </tr>\n",
       "    <tr>\n",
       "      <th>...</th>\n",
       "      <td>...</td>\n",
       "      <td>...</td>\n",
       "      <td>...</td>\n",
       "      <td>...</td>\n",
       "    </tr>\n",
       "    <tr>\n",
       "      <th>83268</th>\n",
       "      <td>4</td>\n",
       "      <td>1</td>\n",
       "      <td>0</td>\n",
       "      <td>0</td>\n",
       "    </tr>\n",
       "    <tr>\n",
       "      <th>83269</th>\n",
       "      <td>2</td>\n",
       "      <td>1</td>\n",
       "      <td>0</td>\n",
       "      <td>0</td>\n",
       "    </tr>\n",
       "    <tr>\n",
       "      <th>83270</th>\n",
       "      <td>3</td>\n",
       "      <td>0</td>\n",
       "      <td>1</td>\n",
       "      <td>0</td>\n",
       "    </tr>\n",
       "    <tr>\n",
       "      <th>83271</th>\n",
       "      <td>3</td>\n",
       "      <td>0</td>\n",
       "      <td>1</td>\n",
       "      <td>0</td>\n",
       "    </tr>\n",
       "    <tr>\n",
       "      <th>83272</th>\n",
       "      <td>2</td>\n",
       "      <td>1</td>\n",
       "      <td>0</td>\n",
       "      <td>0</td>\n",
       "    </tr>\n",
       "  </tbody>\n",
       "</table>\n",
       "<p>83273 rows × 4 columns</p>\n",
       "</div>"
      ],
      "text/plain": [
       "       meas  Op1  Op2  Product\n",
       "0         1    1    0        0\n",
       "1         1    1    0        0\n",
       "2         1    0    1        0\n",
       "3         3    0    1        0\n",
       "4         1    1    0        0\n",
       "...     ...  ...  ...      ...\n",
       "83268     4    1    0        0\n",
       "83269     2    1    0        0\n",
       "83270     3    0    1        0\n",
       "83271     3    0    1        0\n",
       "83272     2    1    0        0\n",
       "\n",
       "[83273 rows x 4 columns]"
      ]
     },
     "execution_count": 38,
     "metadata": {},
     "output_type": "execute_result"
    }
   ],
   "source": [
    "data1"
   ]
  },
  {
   "cell_type": "code",
   "execution_count": 39,
   "metadata": {},
   "outputs": [
    {
     "data": {
      "text/html": [
       "<div>\n",
       "<style scoped>\n",
       "    .dataframe tbody tr th:only-of-type {\n",
       "        vertical-align: middle;\n",
       "    }\n",
       "\n",
       "    .dataframe tbody tr th {\n",
       "        vertical-align: top;\n",
       "    }\n",
       "\n",
       "    .dataframe thead th {\n",
       "        text-align: right;\n",
       "    }\n",
       "</style>\n",
       "<table border=\"1\" class=\"dataframe\">\n",
       "  <thead>\n",
       "    <tr style=\"text-align: right;\">\n",
       "      <th></th>\n",
       "      <th>meas</th>\n",
       "      <th>Op1</th>\n",
       "      <th>Op2</th>\n",
       "      <th>Product</th>\n",
       "    </tr>\n",
       "  </thead>\n",
       "  <tbody>\n",
       "    <tr>\n",
       "      <th>0</th>\n",
       "      <td>9</td>\n",
       "      <td>0</td>\n",
       "      <td>0</td>\n",
       "      <td>0</td>\n",
       "    </tr>\n",
       "    <tr>\n",
       "      <th>1</th>\n",
       "      <td>8</td>\n",
       "      <td>1</td>\n",
       "      <td>0</td>\n",
       "      <td>0</td>\n",
       "    </tr>\n",
       "    <tr>\n",
       "      <th>2</th>\n",
       "      <td>8</td>\n",
       "      <td>0</td>\n",
       "      <td>1</td>\n",
       "      <td>0</td>\n",
       "    </tr>\n",
       "    <tr>\n",
       "      <th>3</th>\n",
       "      <td>7</td>\n",
       "      <td>1</td>\n",
       "      <td>0</td>\n",
       "      <td>0</td>\n",
       "    </tr>\n",
       "    <tr>\n",
       "      <th>4</th>\n",
       "      <td>7</td>\n",
       "      <td>0</td>\n",
       "      <td>0</td>\n",
       "      <td>0</td>\n",
       "    </tr>\n",
       "    <tr>\n",
       "      <th>...</th>\n",
       "      <td>...</td>\n",
       "      <td>...</td>\n",
       "      <td>...</td>\n",
       "      <td>...</td>\n",
       "    </tr>\n",
       "    <tr>\n",
       "      <th>52760</th>\n",
       "      <td>9</td>\n",
       "      <td>0</td>\n",
       "      <td>1</td>\n",
       "      <td>0</td>\n",
       "    </tr>\n",
       "    <tr>\n",
       "      <th>52761</th>\n",
       "      <td>10</td>\n",
       "      <td>1</td>\n",
       "      <td>0</td>\n",
       "      <td>0</td>\n",
       "    </tr>\n",
       "    <tr>\n",
       "      <th>52762</th>\n",
       "      <td>9</td>\n",
       "      <td>0</td>\n",
       "      <td>1</td>\n",
       "      <td>0</td>\n",
       "    </tr>\n",
       "    <tr>\n",
       "      <th>52763</th>\n",
       "      <td>9</td>\n",
       "      <td>1</td>\n",
       "      <td>0</td>\n",
       "      <td>0</td>\n",
       "    </tr>\n",
       "    <tr>\n",
       "      <th>52764</th>\n",
       "      <td>6</td>\n",
       "      <td>0</td>\n",
       "      <td>1</td>\n",
       "      <td>0</td>\n",
       "    </tr>\n",
       "  </tbody>\n",
       "</table>\n",
       "<p>52765 rows × 4 columns</p>\n",
       "</div>"
      ],
      "text/plain": [
       "       meas  Op1  Op2  Product\n",
       "0         9    0    0        0\n",
       "1         8    1    0        0\n",
       "2         8    0    1        0\n",
       "3         7    1    0        0\n",
       "4         7    0    0        0\n",
       "...     ...  ...  ...      ...\n",
       "52760     9    0    1        0\n",
       "52761    10    1    0        0\n",
       "52762     9    0    1        0\n",
       "52763     9    1    0        0\n",
       "52764     6    0    1        0\n",
       "\n",
       "[52765 rows x 4 columns]"
      ]
     },
     "execution_count": 39,
     "metadata": {},
     "output_type": "execute_result"
    }
   ],
   "source": [
    "data2"
   ]
  },
  {
   "cell_type": "code",
   "execution_count": 40,
   "metadata": {},
   "outputs": [],
   "source": [
    "data3 = data1.append(data2)"
   ]
  },
  {
   "cell_type": "code",
   "execution_count": 41,
   "metadata": {},
   "outputs": [
    {
     "data": {
      "text/html": [
       "<div>\n",
       "<style scoped>\n",
       "    .dataframe tbody tr th:only-of-type {\n",
       "        vertical-align: middle;\n",
       "    }\n",
       "\n",
       "    .dataframe tbody tr th {\n",
       "        vertical-align: top;\n",
       "    }\n",
       "\n",
       "    .dataframe thead th {\n",
       "        text-align: right;\n",
       "    }\n",
       "</style>\n",
       "<table border=\"1\" class=\"dataframe\">\n",
       "  <thead>\n",
       "    <tr style=\"text-align: right;\">\n",
       "      <th></th>\n",
       "      <th>meas</th>\n",
       "      <th>Op1</th>\n",
       "      <th>Op2</th>\n",
       "      <th>Product</th>\n",
       "    </tr>\n",
       "  </thead>\n",
       "  <tbody>\n",
       "    <tr>\n",
       "      <th>0</th>\n",
       "      <td>1</td>\n",
       "      <td>1</td>\n",
       "      <td>0</td>\n",
       "      <td>0</td>\n",
       "    </tr>\n",
       "    <tr>\n",
       "      <th>1</th>\n",
       "      <td>1</td>\n",
       "      <td>1</td>\n",
       "      <td>0</td>\n",
       "      <td>0</td>\n",
       "    </tr>\n",
       "    <tr>\n",
       "      <th>2</th>\n",
       "      <td>1</td>\n",
       "      <td>0</td>\n",
       "      <td>1</td>\n",
       "      <td>0</td>\n",
       "    </tr>\n",
       "    <tr>\n",
       "      <th>3</th>\n",
       "      <td>3</td>\n",
       "      <td>0</td>\n",
       "      <td>1</td>\n",
       "      <td>0</td>\n",
       "    </tr>\n",
       "    <tr>\n",
       "      <th>4</th>\n",
       "      <td>1</td>\n",
       "      <td>1</td>\n",
       "      <td>0</td>\n",
       "      <td>0</td>\n",
       "    </tr>\n",
       "    <tr>\n",
       "      <th>...</th>\n",
       "      <td>...</td>\n",
       "      <td>...</td>\n",
       "      <td>...</td>\n",
       "      <td>...</td>\n",
       "    </tr>\n",
       "    <tr>\n",
       "      <th>52760</th>\n",
       "      <td>9</td>\n",
       "      <td>0</td>\n",
       "      <td>1</td>\n",
       "      <td>0</td>\n",
       "    </tr>\n",
       "    <tr>\n",
       "      <th>52761</th>\n",
       "      <td>10</td>\n",
       "      <td>1</td>\n",
       "      <td>0</td>\n",
       "      <td>0</td>\n",
       "    </tr>\n",
       "    <tr>\n",
       "      <th>52762</th>\n",
       "      <td>9</td>\n",
       "      <td>0</td>\n",
       "      <td>1</td>\n",
       "      <td>0</td>\n",
       "    </tr>\n",
       "    <tr>\n",
       "      <th>52763</th>\n",
       "      <td>9</td>\n",
       "      <td>1</td>\n",
       "      <td>0</td>\n",
       "      <td>0</td>\n",
       "    </tr>\n",
       "    <tr>\n",
       "      <th>52764</th>\n",
       "      <td>6</td>\n",
       "      <td>0</td>\n",
       "      <td>1</td>\n",
       "      <td>0</td>\n",
       "    </tr>\n",
       "  </tbody>\n",
       "</table>\n",
       "<p>136038 rows × 4 columns</p>\n",
       "</div>"
      ],
      "text/plain": [
       "       meas  Op1  Op2  Product\n",
       "0         1    1    0        0\n",
       "1         1    1    0        0\n",
       "2         1    0    1        0\n",
       "3         3    0    1        0\n",
       "4         1    1    0        0\n",
       "...     ...  ...  ...      ...\n",
       "52760     9    0    1        0\n",
       "52761    10    1    0        0\n",
       "52762     9    0    1        0\n",
       "52763     9    1    0        0\n",
       "52764     6    0    1        0\n",
       "\n",
       "[136038 rows x 4 columns]"
      ]
     },
     "execution_count": 41,
     "metadata": {},
     "output_type": "execute_result"
    }
   ],
   "source": [
    "data3"
   ]
  },
  {
   "cell_type": "code",
   "execution_count": 42,
   "metadata": {},
   "outputs": [
    {
     "data": {
      "text/plain": [
       "meas       671385\n",
       "Op1         61258\n",
       "Op2         61146\n",
       "Product       848\n",
       "dtype: int64"
      ]
     },
     "execution_count": 42,
     "metadata": {},
     "output_type": "execute_result"
    }
   ],
   "source": [
    "data3.sum()"
   ]
  },
  {
   "cell_type": "code",
   "execution_count": 43,
   "metadata": {},
   "outputs": [
    {
     "data": {
      "text/plain": [
       "0.002036400661830215"
      ]
     },
     "execution_count": 43,
     "metadata": {},
     "output_type": "execute_result"
    }
   ],
   "source": [
    "# Coarse-grained deviation from orthogonality\n",
    "224.0/109998"
   ]
  },
  {
   "cell_type": "markdown",
   "metadata": {},
   "source": [
    "## Fine-Grained Orthogonality"
   ]
  },
  {
   "cell_type": "code",
   "execution_count": 44,
   "metadata": {},
   "outputs": [],
   "source": [
    "# |P(11|pia,pib) -P(11|pib,pia)| <= max(P(11|pia,pib),P(11|pia,pib))\n",
    "# Finding the worst case deviation from orthogonality, thus, corresponds to finding the max over all\n",
    "# probabilities.\n",
    "Or1 = data1.loc[data1[\"meas\"]==1]\n",
    "Or2 = data1.loc[data1[\"meas\"]==2]\n",
    "Or3 = data1.loc[data1[\"meas\"]==3]\n",
    "Or4 = data1.loc[data1[\"meas\"]==4]\n",
    "Or5 = data1.loc[data1[\"meas\"]==5]"
   ]
  },
  {
   "cell_type": "code",
   "execution_count": 45,
   "metadata": {},
   "outputs": [
    {
     "data": {
      "text/html": [
       "<div>\n",
       "<style scoped>\n",
       "    .dataframe tbody tr th:only-of-type {\n",
       "        vertical-align: middle;\n",
       "    }\n",
       "\n",
       "    .dataframe tbody tr th {\n",
       "        vertical-align: top;\n",
       "    }\n",
       "\n",
       "    .dataframe thead th {\n",
       "        text-align: right;\n",
       "    }\n",
       "</style>\n",
       "<table border=\"1\" class=\"dataframe\">\n",
       "  <thead>\n",
       "    <tr style=\"text-align: right;\">\n",
       "      <th></th>\n",
       "      <th>meas</th>\n",
       "      <th>Op1</th>\n",
       "      <th>Op2</th>\n",
       "      <th>Product</th>\n",
       "    </tr>\n",
       "  </thead>\n",
       "  <tbody>\n",
       "    <tr>\n",
       "      <th>10</th>\n",
       "      <td>10</td>\n",
       "      <td>1</td>\n",
       "      <td>0</td>\n",
       "      <td>0</td>\n",
       "    </tr>\n",
       "    <tr>\n",
       "      <th>11</th>\n",
       "      <td>10</td>\n",
       "      <td>0</td>\n",
       "      <td>0</td>\n",
       "      <td>0</td>\n",
       "    </tr>\n",
       "    <tr>\n",
       "      <th>12</th>\n",
       "      <td>10</td>\n",
       "      <td>1</td>\n",
       "      <td>0</td>\n",
       "      <td>0</td>\n",
       "    </tr>\n",
       "    <tr>\n",
       "      <th>16</th>\n",
       "      <td>10</td>\n",
       "      <td>0</td>\n",
       "      <td>1</td>\n",
       "      <td>0</td>\n",
       "    </tr>\n",
       "    <tr>\n",
       "      <th>22</th>\n",
       "      <td>10</td>\n",
       "      <td>0</td>\n",
       "      <td>1</td>\n",
       "      <td>0</td>\n",
       "    </tr>\n",
       "  </tbody>\n",
       "</table>\n",
       "</div>"
      ],
      "text/plain": [
       "    meas  Op1  Op2  Product\n",
       "10    10    1    0        0\n",
       "11    10    0    0        0\n",
       "12    10    1    0        0\n",
       "16    10    0    1        0\n",
       "22    10    0    1        0"
      ]
     },
     "execution_count": 45,
     "metadata": {},
     "output_type": "execute_result"
    }
   ],
   "source": [
    "Or6 = data2.loc[data2[\"meas\"]==6]\n",
    "Or7 = data2.loc[data2[\"meas\"]==7]\n",
    "Or8 = data2.loc[data2[\"meas\"]==8]\n",
    "Or9 = data2.loc[data2[\"meas\"]==9]\n",
    "Or10 = data2.loc[data2[\"meas\"]==10]\n",
    "Or10.head()"
   ]
  },
  {
   "cell_type": "code",
   "execution_count": 46,
   "metadata": {},
   "outputs": [
    {
     "data": {
      "text/plain": [
       "(16668, 4)"
      ]
     },
     "execution_count": 46,
     "metadata": {},
     "output_type": "execute_result"
    }
   ],
   "source": [
    "Or4.shape"
   ]
  },
  {
   "cell_type": "code",
   "execution_count": 47,
   "metadata": {},
   "outputs": [],
   "source": [
    "List1= []\n",
    "ListN = []\n",
    "ListR = []\n",
    "List1.append(Or1.sum()[\"Product\"]/Or1.shape[0])\n",
    "List1.append(Or2.sum()[\"Product\"]/Or2.shape[0])\n",
    "List1.append(Or3.sum()[\"Product\"]/Or3.shape[0])\n",
    "List1.append(Or4.sum()[\"Product\"]/Or4.shape[0])\n",
    "List1.append(Or5.sum()[\"Product\"]/Or5.shape[0])\n",
    "ListN.append(Or1.sum()[\"Product\"]/Or1.shape[0])\n",
    "ListN.append(Or2.sum()[\"Product\"]/Or2.shape[0])\n",
    "ListN.append(Or3.sum()[\"Product\"]/Or3.shape[0])\n",
    "ListN.append(Or4.sum()[\"Product\"]/Or4.shape[0])\n",
    "ListN.append(Or5.sum()[\"Product\"]/Or5.shape[0])\n",
    "\n",
    "\n",
    "List1.append(Or6.sum()[\"Product\"]/Or6.shape[0])\n",
    "List1.append(Or7.sum()[\"Product\"]/Or7.shape[0])\n",
    "List1.append(Or8.sum()[\"Product\"]/Or8.shape[0])\n",
    "List1.append(Or9.sum()[\"Product\"]/Or9.shape[0])\n",
    "List1.append(Or10.sum()[\"Product\"]/Or10.shape[0])\n",
    "ListR.append(Or6.sum()[\"Product\"]/Or6.shape[0])\n",
    "ListR.append(Or7.sum()[\"Product\"]/Or7.shape[0])\n",
    "ListR.append(Or8.sum()[\"Product\"]/Or8.shape[0])\n",
    "ListR.append(Or9.sum()[\"Product\"]/Or9.shape[0])\n",
    "ListR.append(Or10.sum()[\"Product\"]/Or10.shape[0])"
   ]
  },
  {
   "cell_type": "code",
   "execution_count": 54,
   "metadata": {},
   "outputs": [
    {
     "data": {
      "text/plain": [
       "0.004990637440041612"
      ]
     },
     "execution_count": 54,
     "metadata": {},
     "output_type": "execute_result"
    }
   ],
   "source": [
    "np.mean(ListN)"
   ]
  },
  {
   "cell_type": "code",
   "execution_count": 56,
   "metadata": {},
   "outputs": [
    {
     "data": {
      "text/plain": [
       "[0.005516668643967256,\n",
       " 0.007807338898564651,\n",
       " 0.004268879268879269,\n",
       " 0.004019678425725942,\n",
       " 0.0033406219630709427]"
      ]
     },
     "execution_count": 56,
     "metadata": {},
     "output_type": "execute_result"
    }
   ],
   "source": [
    "ListN"
   ]
  },
  {
   "cell_type": "code",
   "execution_count": 49,
   "metadata": {},
   "outputs": [
    {
     "data": {
      "text/plain": [
       "0.0015745960290380826"
      ]
     },
     "execution_count": 49,
     "metadata": {},
     "output_type": "execute_result"
    }
   ],
   "source": [
    "np.std(ListN)"
   ]
  },
  {
   "cell_type": "code",
   "execution_count": 53,
   "metadata": {},
   "outputs": [
    {
     "data": {
      "text/plain": [
       "0.9918200650510155"
      ]
     },
     "execution_count": 53,
     "metadata": {},
     "output_type": "execute_result"
    }
   ],
   "source": [
    "1-np.mean(ListR)"
   ]
  },
  {
   "cell_type": "code",
   "execution_count": 51,
   "metadata": {},
   "outputs": [
    {
     "data": {
      "text/plain": [
       "0.00189390507845165"
      ]
     },
     "execution_count": 51,
     "metadata": {},
     "output_type": "execute_result"
    }
   ],
   "source": [
    "np.std(ListR)"
   ]
  },
  {
   "cell_type": "markdown",
   "metadata": {},
   "source": [
    "# Violations"
   ]
  },
  {
   "cell_type": "markdown",
   "metadata": {},
   "source": [
    "## Normal order only"
   ]
  },
  {
   "cell_type": "code",
   "execution_count": 220,
   "metadata": {},
   "outputs": [
    {
     "data": {
      "text/plain": [
       "2.061757357978353"
      ]
     },
     "execution_count": 220,
     "metadata": {},
     "output_type": "execute_result"
    }
   ],
   "source": [
    "m1list = Or1[\"Op1\"].tolist()\n",
    "# m1list = m1list + Or6[\"Op1\"].tolist()\n",
    "# m1list = m1list + Or5[\"Op2\"].tolist()\n",
    "# m1list = m1list + Or7[\"Op2\"].tolist()\n",
    "\n",
    "\n",
    "m2list = Or2[\"Op1\"].tolist()\n",
    "# m2list = m2list + Or7[\"Op1\"].tolist()\n",
    "# m2list = m2list + Or1[\"Op2\"].tolist()\n",
    "# m2list = m2list + Or8[\"Op2\"].tolist()\n",
    "\n",
    "\n",
    "m3list = Or3[\"Op1\"].tolist()\n",
    "# m3list = m3list + Or8[\"Op1\"].tolist()\n",
    "# m3list = m3list + Or2[\"Op2\"].tolist()\n",
    "# m3list = m3list + Or9[\"Op2\"].tolist()\n",
    "\n",
    "\n",
    "m4list = Or4[\"Op1\"].tolist()\n",
    "# m4list = m4list + Or9[\"Op1\"].tolist()\n",
    "# m4list = m4list + Or3[\"Op2\"].tolist()\n",
    "# m4list = m4list + Or10[\"Op2\"].tolist()\n",
    "\n",
    "\n",
    "m5list = Or5[\"Op1\"].tolist()\n",
    "# m5list = m5list + Or10[\"Op1\"].tolist()\n",
    "\n",
    "\n",
    "mean_list = [np.mean(m1list),np.mean(m2list),np.mean(m3list),np.mean(m4list),np.mean(m5list)]\n",
    "sum(mean_list)"
   ]
  },
  {
   "cell_type": "code",
   "execution_count": 221,
   "metadata": {},
   "outputs": [
    {
     "data": {
      "text/plain": [
       "2.23606797749979"
      ]
     },
     "execution_count": 221,
     "metadata": {},
     "output_type": "execute_result"
    }
   ],
   "source": [
    "np.sqrt(5)"
   ]
  },
  {
   "cell_type": "code",
   "execution_count": 222,
   "metadata": {},
   "outputs": [
    {
     "data": {
      "text/plain": [
       "0.009739172825156024"
      ]
     },
     "execution_count": 222,
     "metadata": {},
     "output_type": "execute_result"
    }
   ],
   "source": [
    "slist = [np.std(m1list)/np.sqrt(len(m1list)),np.std(m2list)/np.sqrt(len(m2list)),np.std(m3list)/np.sqrt(len(m3list)),np.std(m4list)/np.sqrt(len(m4list)),np.std(m5list)/np.sqrt(len(m5list))]\n",
    "val = np.sqrt(slist[0]*slist[0]+slist[1]*slist[1]+slist[2]*slist[2]+slist[3]*slist[3]+slist[4]*slist[4] )\n",
    "val"
   ]
  },
  {
   "cell_type": "code",
   "execution_count": 223,
   "metadata": {},
   "outputs": [
    {
     "data": {
      "text/plain": [
       "2.042668579241047"
      ]
     },
     "execution_count": 223,
     "metadata": {},
     "output_type": "execute_result"
    }
   ],
   "source": [
    "# https://en.wikipedia.org/wiki/Standard_error\n",
    "#https://en.wikipedia.org/wiki/1.96\n",
    "sum(mean_list) - 1.96*val"
   ]
  },
  {
   "cell_type": "code",
   "execution_count": 224,
   "metadata": {},
   "outputs": [
    {
     "data": {
      "text/plain": [
       "0.019088778737305807"
      ]
     },
     "execution_count": 224,
     "metadata": {},
     "output_type": "execute_result"
    }
   ],
   "source": [
    "1.96*val"
   ]
  },
  {
   "cell_type": "code",
   "execution_count": 225,
   "metadata": {},
   "outputs": [
    {
     "data": {
      "text/plain": [
       "[0.4040718641478669,\n",
       " 0.4103849349022183,\n",
       " 0.5667112684580243,\n",
       " 0.06856361805132027,\n",
       " 0.5702484248115887]"
      ]
     },
     "execution_count": 225,
     "metadata": {},
     "output_type": "execute_result"
    }
   ],
   "source": [
    "out = []\n",
    "for i in range(len(mean_list)):\n",
    "    val = mean_list[i]-1.96*slist[i]\n",
    "    out.append(val)\n",
    "outN = out\n",
    "outN"
   ]
  },
  {
   "cell_type": "markdown",
   "metadata": {},
   "source": [
    "## Reverse order only"
   ]
  },
  {
   "cell_type": "code",
   "execution_count": 226,
   "metadata": {},
   "outputs": [
    {
     "data": {
      "text/plain": [
       "2.0676958579551883"
      ]
     },
     "execution_count": 226,
     "metadata": {},
     "output_type": "execute_result"
    }
   ],
   "source": [
    "m1list = Or6[\"Op1\"].tolist()\n",
    "# m1list = m1list + Or6[\"Op1\"].tolist()\n",
    "# m1list = m1list + Or5[\"Op2\"].tolist()\n",
    "# m1list = m1list + Or7[\"Op2\"].tolist()\n",
    "\n",
    "\n",
    "m2list = Or7[\"Op1\"].tolist()\n",
    "# m2list = m2list + Or7[\"Op1\"].tolist()\n",
    "# m2list = m2list + Or1[\"Op2\"].tolist()\n",
    "# m2list = m2list + Or8[\"Op2\"].tolist()\n",
    "\n",
    "\n",
    "m3list = Or8[\"Op1\"].tolist()\n",
    "# m3list = m3list + Or8[\"Op1\"].tolist()\n",
    "# m3list = m3list + Or2[\"Op2\"].tolist()\n",
    "# m3list = m3list + Or9[\"Op2\"].tolist()\n",
    "\n",
    "\n",
    "m4list = Or9[\"Op1\"].tolist()\n",
    "# m4list = m4list + Or9[\"Op1\"].tolist()\n",
    "# m4list = m4list + Or3[\"Op2\"].tolist()\n",
    "# m4list = m4list + Or10[\"Op2\"].tolist()\n",
    "\n",
    "\n",
    "m5list = Or10[\"Op1\"].tolist()\n",
    "# m5list = m5list + Or10[\"Op1\"].tolist()\n",
    "\n",
    "\n",
    "mean_list = [np.mean(m1list),np.mean(m2list),np.mean(m3list),np.mean(m4list),np.mean(m5list)]\n",
    "sum(mean_list)"
   ]
  },
  {
   "cell_type": "code",
   "execution_count": 227,
   "metadata": {},
   "outputs": [
    {
     "data": {
      "text/plain": [
       "0.009778193095192416"
      ]
     },
     "execution_count": 227,
     "metadata": {},
     "output_type": "execute_result"
    }
   ],
   "source": [
    "slist = [np.std(m1list)/np.sqrt(len(m1list)),np.std(m2list)/np.sqrt(len(m2list)),np.std(m3list)/np.sqrt(len(m3list)),np.std(m4list)/np.sqrt(len(m4list)),np.std(m5list)/np.sqrt(len(m5list))]\n",
    "val = np.sqrt(slist[0]*slist[0]+slist[1]*slist[1]+slist[2]*slist[2]+slist[3]*slist[3]+slist[4]*slist[4] )\n",
    "val"
   ]
  },
  {
   "cell_type": "code",
   "execution_count": 228,
   "metadata": {},
   "outputs": [
    {
     "data": {
      "text/plain": [
       "2.048530599488611"
      ]
     },
     "execution_count": 228,
     "metadata": {},
     "output_type": "execute_result"
    }
   ],
   "source": [
    "sum(mean_list) - 1.96*val"
   ]
  },
  {
   "cell_type": "code",
   "execution_count": 195,
   "metadata": {},
   "outputs": [
    {
     "data": {
      "text/plain": [
       "2.23606797749979"
      ]
     },
     "execution_count": 195,
     "metadata": {},
     "output_type": "execute_result"
    }
   ],
   "source": [
    "np.sqrt(5)"
   ]
  },
  {
   "cell_type": "code",
   "execution_count": 196,
   "metadata": {},
   "outputs": [
    {
     "data": {
      "text/plain": [
       "[0.4591842547481937,\n",
       " 0.46368871348272206,\n",
       " 0.5188417669147799,\n",
       " 0.0815211219163075,\n",
       " 0.5104566810322453]"
      ]
     },
     "execution_count": 196,
     "metadata": {},
     "output_type": "execute_result"
    }
   ],
   "source": [
    "out = []\n",
    "for i in range(len(mean_list)):\n",
    "    val = mean_list[i]-1.96*slist[i]\n",
    "    out.append(val)\n",
    "outR = out\n",
    "outR"
   ]
  },
  {
   "cell_type": "code",
   "execution_count": 197,
   "metadata": {},
   "outputs": [],
   "source": [
    "# finlist48_p0 = []\n",
    "# finlist48_p0.append([outN, outR])\n",
    "# finlist48_p0"
   ]
  },
  {
   "cell_type": "code",
   "execution_count": 198,
   "metadata": {},
   "outputs": [],
   "source": [
    "# finlist48_p01 = []\n",
    "# finlist48_p01.append([outN, outR])\n",
    "# finlist48_p01"
   ]
  },
  {
   "cell_type": "code",
   "execution_count": 199,
   "metadata": {},
   "outputs": [],
   "source": [
    "# finlist48_p02 = []\n",
    "# finlist48_p02.append([outN, outR])\n",
    "# finlist48_p02"
   ]
  },
  {
   "cell_type": "code",
   "execution_count": 229,
   "metadata": {},
   "outputs": [],
   "source": [
    "# finlist22 = []\n",
    "# finlist22.append([outN, outR])\n",
    "# finlist22"
   ]
  },
  {
   "cell_type": "code",
   "execution_count": 231,
   "metadata": {},
   "outputs": [],
   "source": [
    "# finlist150= []\n",
    "# finlist150.append([outN, outR])\n",
    "# finlist150"
   ]
  },
  {
   "cell_type": "code",
   "execution_count": 232,
   "metadata": {},
   "outputs": [],
   "source": [
    "finlist = [finlist48_p0, finlist48_p01,finlist48_p02,finlist22,finlist150]"
   ]
  },
  {
   "cell_type": "code",
   "execution_count": 233,
   "metadata": {},
   "outputs": [
    {
     "data": {
      "text/plain": [
       "[[[[0.4402334403378609,\n",
       "    0.4419067705735776,\n",
       "    0.4367124746739901,\n",
       "    0.4493609254660547,\n",
       "    0.44350442194818446],\n",
       "   [0.43978718970562325,\n",
       "    0.4448159354601214,\n",
       "    0.4361677790180469,\n",
       "    0.4380619150575636,\n",
       "    0.4484043800119112]]],\n",
       " [[[0.42926449119358195,\n",
       "    0.43181033904603894,\n",
       "    0.43173817226554406,\n",
       "    0.4391852459461737,\n",
       "    0.4284564211345451],\n",
       "   [0.4305178967212709,\n",
       "    0.4259721850529409,\n",
       "    0.43656400274564944,\n",
       "    0.4335834823454092,\n",
       "    0.4295345411712337]]],\n",
       " [[[0.415445561432019,\n",
       "    0.4146196322041054,\n",
       "    0.4208544434764578,\n",
       "    0.4175155760562105,\n",
       "    0.42304055612753766],\n",
       "   [0.41182027776886054,\n",
       "    0.4195143882874585,\n",
       "    0.4198359058135768,\n",
       "    0.42361205077517494,\n",
       "    0.4232935921895907]]],\n",
       " [[[0.46383456886507074,\n",
       "    0.45648700869719466,\n",
       "    0.5189881868815033,\n",
       "    0.07355628355536036,\n",
       "    0.5223408211637447],\n",
       "   [0.4591842547481937,\n",
       "    0.46368871348272206,\n",
       "    0.5188417669147799,\n",
       "    0.0815211219163075,\n",
       "    0.5104566810322453]]],\n",
       " [[[0.4040718641478669,\n",
       "    0.4103849349022183,\n",
       "    0.5667112684580243,\n",
       "    0.06856361805132027,\n",
       "    0.5702484248115887],\n",
       "   [0.4591842547481937,\n",
       "    0.46368871348272206,\n",
       "    0.5188417669147799,\n",
       "    0.0815211219163075,\n",
       "    0.5104566810322453]]]]"
      ]
     },
     "execution_count": 233,
     "metadata": {},
     "output_type": "execute_result"
    }
   ],
   "source": [
    "finlist"
   ]
  },
  {
   "cell_type": "code",
   "execution_count": 234,
   "metadata": {},
   "outputs": [
    {
     "data": {
      "text/plain": [
       "[[[[0.4402334403378609,\n",
       "    0.4419067705735776,\n",
       "    0.4367124746739901,\n",
       "    0.4493609254660547,\n",
       "    0.44350442194818446],\n",
       "   [0.43978718970562325,\n",
       "    0.4448159354601214,\n",
       "    0.4361677790180469,\n",
       "    0.4380619150575636,\n",
       "    0.4484043800119112]]],\n",
       " [[[0.42926449119358195,\n",
       "    0.43181033904603894,\n",
       "    0.43173817226554406,\n",
       "    0.4391852459461737,\n",
       "    0.4284564211345451],\n",
       "   [0.4305178967212709,\n",
       "    0.4259721850529409,\n",
       "    0.43656400274564944,\n",
       "    0.4335834823454092,\n",
       "    0.4295345411712337]]],\n",
       " [[[0.415445561432019,\n",
       "    0.4146196322041054,\n",
       "    0.4208544434764578,\n",
       "    0.4175155760562105,\n",
       "    0.42304055612753766],\n",
       "   [0.41182027776886054,\n",
       "    0.4195143882874585,\n",
       "    0.4198359058135768,\n",
       "    0.42361205077517494,\n",
       "    0.4232935921895907]]],\n",
       " [[[0.46383456886507074,\n",
       "    0.45648700869719466,\n",
       "    0.5189881868815033,\n",
       "    0.07355628355536036,\n",
       "    0.5223408211637447],\n",
       "   [0.4591842547481937,\n",
       "    0.46368871348272206,\n",
       "    0.5188417669147799,\n",
       "    0.0815211219163075,\n",
       "    0.5104566810322453]]],\n",
       " [[[0.4040718641478669,\n",
       "    0.4103849349022183,\n",
       "    0.5667112684580243,\n",
       "    0.06856361805132027,\n",
       "    0.5702484248115887],\n",
       "   [0.4591842547481937,\n",
       "    0.46368871348272206,\n",
       "    0.5188417669147799,\n",
       "    0.0815211219163075,\n",
       "    0.5104566810322453]]]]"
      ]
     },
     "execution_count": 234,
     "metadata": {},
     "output_type": "execute_result"
    }
   ],
   "source": [
    "[[[[0.4402334403378609,\n",
    "    0.4419067705735776,\n",
    "    0.4367124746739901,\n",
    "    0.4493609254660547,\n",
    "    0.44350442194818446],\n",
    "   [0.43978718970562325,\n",
    "    0.4448159354601214,\n",
    "    0.4361677790180469,\n",
    "    0.4380619150575636,\n",
    "    0.4484043800119112]]],\n",
    " [[[0.42926449119358195,\n",
    "    0.43181033904603894,\n",
    "    0.43173817226554406,\n",
    "    0.4391852459461737,\n",
    "    0.4284564211345451],\n",
    "   [0.4305178967212709,\n",
    "    0.4259721850529409,\n",
    "    0.43656400274564944,\n",
    "    0.4335834823454092,\n",
    "    0.4295345411712337]]],\n",
    " [[[0.415445561432019,\n",
    "    0.4146196322041054,\n",
    "    0.4208544434764578,\n",
    "    0.4175155760562105,\n",
    "    0.42304055612753766],\n",
    "   [0.41182027776886054,\n",
    "    0.4195143882874585,\n",
    "    0.4198359058135768,\n",
    "    0.42361205077517494,\n",
    "    0.4232935921895907]]],\n",
    " [[[0.46383456886507074,\n",
    "    0.45648700869719466,\n",
    "    0.5189881868815033,\n",
    "    0.07355628355536036,\n",
    "    0.5223408211637447],\n",
    "   [0.4591842547481937,\n",
    "    0.46368871348272206,\n",
    "    0.5188417669147799,\n",
    "    0.0815211219163075,\n",
    "    0.5104566810322453]]],\n",
    " [[[0.4040718641478669,\n",
    "    0.4103849349022183,\n",
    "    0.5667112684580243,\n",
    "    0.06856361805132027,\n",
    "    0.5702484248115887],\n",
    "   [0.4591842547481937,\n",
    "    0.46368871348272206,\n",
    "    0.5188417669147799,\n",
    "    0.0815211219163075,\n",
    "    0.5104566810322453]]]]"
   ]
  },
  {
   "cell_type": "code",
   "execution_count": null,
   "metadata": {},
   "outputs": [],
   "source": []
  }
 ],
 "metadata": {
  "kernelspec": {
   "display_name": "Python 3",
   "language": "python",
   "name": "python3"
  },
  "language_info": {
   "codemirror_mode": {
    "name": "ipython",
    "version": 3
   },
   "file_extension": ".py",
   "mimetype": "text/x-python",
   "name": "python",
   "nbconvert_exporter": "python",
   "pygments_lexer": "ipython3",
   "version": "3.6.13"
  },
  "latex_envs": {
   "LaTeX_envs_menu_present": true,
   "autoclose": false,
   "autocomplete": true,
   "bibliofile": "biblio.bib",
   "cite_by": "apalike",
   "current_citInitial": 1,
   "eqLabelWithNumbers": true,
   "eqNumInitial": 1,
   "hotkeys": {
    "equation": "Ctrl-E",
    "itemize": "Ctrl-I"
   },
   "labels_anchors": false,
   "latex_user_defs": false,
   "report_style_numbering": false,
   "user_envs_cfg": false
  },
  "toc": {
   "base_numbering": 1,
   "nav_menu": {},
   "number_sections": true,
   "sideBar": true,
   "skip_h1_title": false,
   "title_cell": "Table of Contents",
   "title_sidebar": "Contents",
   "toc_cell": false,
   "toc_position": {
    "height": "calc(100% - 180px)",
    "left": "10px",
    "top": "150px",
    "width": "290.54px"
   },
   "toc_section_display": true,
   "toc_window_display": true
  }
 },
 "nbformat": 4,
 "nbformat_minor": 2
}
