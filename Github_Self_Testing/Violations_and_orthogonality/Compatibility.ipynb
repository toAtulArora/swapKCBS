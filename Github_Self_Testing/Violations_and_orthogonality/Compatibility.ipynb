{
 "cells": [
  {
   "cell_type": "markdown",
   "metadata": {},
   "source": [
    "# Libraries"
   ]
  },
  {
   "cell_type": "code",
   "execution_count": 399,
   "metadata": {},
   "outputs": [],
   "source": [
    "# Import libraries\n",
    "import numpy as np\n",
    "import matplotlib.pyplot as plt\n",
    "np.set_printoptions(precision=3, suppress=True)\n",
    "import matplotlib.pyplot as plt\n",
    "import pandas as pd\n",
    "import math"
   ]
  },
  {
   "cell_type": "markdown",
   "metadata": {},
   "source": [
    "# Reading data files"
   ]
  },
  {
   "cell_type": "markdown",
   "metadata": {},
   "source": [
    "## Data Files"
   ]
  },
  {
   "cell_type": "code",
   "execution_count": 400,
   "metadata": {},
   "outputs": [],
   "source": [
    "# Normal order file\n",
    "data1 = pd.read_csv(\"Normal48.csv\")\n",
    "data2 = pd.read_csv(\"Normal150.txt\")\n",
    "data3 = pd.read_csv(\"Normal22.txt\")\n",
    "data4 = pd.read_csv(\"Normal48P01.txt\")\n",
    "data5 = pd.read_csv(\"Normal48P02.txt\")"
   ]
  },
  {
   "cell_type": "code",
   "execution_count": 401,
   "metadata": {},
   "outputs": [],
   "source": [
    "# Reverse order file\n",
    "data6 = pd.read_csv(\"Reverse48.csv\")\n",
    "data7 = pd.read_csv(\"Reverse150.txt\")\n",
    "data8 = pd.read_csv(\"Reverse22.txt\")\n",
    "data9 = pd.read_csv(\"Reverse48P01.txt\")\n",
    "data10 = pd.read_csv(\"Reverse48P02.txt\")"
   ]
  },
  {
   "cell_type": "code",
   "execution_count": 402,
   "metadata": {},
   "outputs": [],
   "source": [
    "# The first column record the rundom number, with \"1\",\"2\",\"3\",\"4\",\"5\" correspond to \n",
    "# the Normal measurement Order: \"M1->M2\", \"M2-> M3\", \"M3-> M4\", \"M4-> M5\", \"M5-> M1\",respectively;  \n",
    "# and \"6\",\"7\",\"8\",\"9\",\"10\" \n",
    "# correspond to Reverse Order: \"M1->M5\", \"M2->M1\", \"M3->M2\", \"M4->M3\",  \"M5->M4\", respectively.\n",
    "\n",
    "data1.columns = [\"meas\", \"Op1\", \"Op2\"]\n",
    "data2.columns = [\"meas\", \"Op1\", \"Op2\"]\n",
    "data3.columns = [\"meas\", \"Op1\", \"Op2\"]\n",
    "data4.columns = [\"meas\", \"Op1\", \"Op2\"]\n",
    "data5.columns = [\"meas\", \"Op1\", \"Op2\"]\n",
    "\n",
    "data6.columns = [\"meas\", \"Op1\", \"Op2\"]\n",
    "data7.columns = [\"meas\", \"Op1\", \"Op2\"]\n",
    "data8.columns = [\"meas\", \"Op1\", \"Op2\"]\n",
    "data9.columns = [\"meas\", \"Op1\", \"Op2\"]\n",
    "data10.columns = [\"meas\", \"Op1\", \"Op2\"]"
   ]
  },
  {
   "cell_type": "code",
   "execution_count": 403,
   "metadata": {},
   "outputs": [],
   "source": [
    "frame = [data1, data2, data3,data4,data5,data6, data7, data8,data9,data10]\n",
    "frame48 =[data1,data6]\n",
    "frame48p01 = [data4,data9]\n",
    "frame48p02 = [data5,data10]\n",
    "frame150 = [data2,data7]\n",
    "frame22 = [data3,data8]"
   ]
  },
  {
   "cell_type": "markdown",
   "metadata": {},
   "source": [
    "## Select data"
   ]
  },
  {
   "cell_type": "code",
   "execution_count": 404,
   "metadata": {},
   "outputs": [],
   "source": [
    "data = pd.concat(frame22)"
   ]
  },
  {
   "cell_type": "markdown",
   "metadata": {},
   "source": [
    "## Relabelling"
   ]
  },
  {
   "cell_type": "code",
   "execution_count": 405,
   "metadata": {},
   "outputs": [],
   "source": [
    "# The second column record the photon counts of the first measurement, \n",
    "# which correspond to \"Dark state\" if the value <2.5; and \"Bright state\" the other case.\n",
    "\n",
    "data.loc[data[\"Op1\"] <2.5,\"Op1\"] = 0 \n",
    "data.loc[data[\"Op1\"] >=2.5,\"Op1\"] =1"
   ]
  },
  {
   "cell_type": "code",
   "execution_count": 406,
   "metadata": {},
   "outputs": [],
   "source": [
    "# The third column record the photon counts of the second measurement, \n",
    "# which correspond to \"Dark state\" if the value <8.5; and \"Bright state\" the other case.\n",
    "\n",
    "data.loc[data[\"Op2\"] <8.5,\"Op2\"] = 0 \n",
    "data.loc[data[\"Op2\"] >=8.5,\"Op2\"] =1"
   ]
  },
  {
   "cell_type": "code",
   "execution_count": 407,
   "metadata": {},
   "outputs": [
    {
     "data": {
      "text/html": [
       "<div>\n",
       "<style scoped>\n",
       "    .dataframe tbody tr th:only-of-type {\n",
       "        vertical-align: middle;\n",
       "    }\n",
       "\n",
       "    .dataframe tbody tr th {\n",
       "        vertical-align: top;\n",
       "    }\n",
       "\n",
       "    .dataframe thead th {\n",
       "        text-align: right;\n",
       "    }\n",
       "</style>\n",
       "<table border=\"1\" class=\"dataframe\">\n",
       "  <thead>\n",
       "    <tr style=\"text-align: right;\">\n",
       "      <th></th>\n",
       "      <th>meas</th>\n",
       "      <th>Op1</th>\n",
       "      <th>Op2</th>\n",
       "    </tr>\n",
       "  </thead>\n",
       "  <tbody>\n",
       "    <tr>\n",
       "      <th>0</th>\n",
       "      <td>4.0</td>\n",
       "      <td>0.0</td>\n",
       "      <td>1.0</td>\n",
       "    </tr>\n",
       "    <tr>\n",
       "      <th>1</th>\n",
       "      <td>2.0</td>\n",
       "      <td>0.0</td>\n",
       "      <td>1.0</td>\n",
       "    </tr>\n",
       "    <tr>\n",
       "      <th>2</th>\n",
       "      <td>5.0</td>\n",
       "      <td>0.0</td>\n",
       "      <td>1.0</td>\n",
       "    </tr>\n",
       "    <tr>\n",
       "      <th>3</th>\n",
       "      <td>2.0</td>\n",
       "      <td>0.0</td>\n",
       "      <td>0.0</td>\n",
       "    </tr>\n",
       "    <tr>\n",
       "      <th>4</th>\n",
       "      <td>2.0</td>\n",
       "      <td>1.0</td>\n",
       "      <td>0.0</td>\n",
       "    </tr>\n",
       "  </tbody>\n",
       "</table>\n",
       "</div>"
      ],
      "text/plain": [
       "   meas  Op1  Op2\n",
       "0   4.0  0.0  1.0\n",
       "1   2.0  0.0  1.0\n",
       "2   5.0  0.0  1.0\n",
       "3   2.0  0.0  0.0\n",
       "4   2.0  1.0  0.0"
      ]
     },
     "execution_count": 407,
     "metadata": {},
     "output_type": "execute_result"
    }
   ],
   "source": [
    "data.head()"
   ]
  },
  {
   "cell_type": "code",
   "execution_count": 408,
   "metadata": {},
   "outputs": [
    {
     "data": {
      "text/html": [
       "<div>\n",
       "<style scoped>\n",
       "    .dataframe tbody tr th:only-of-type {\n",
       "        vertical-align: middle;\n",
       "    }\n",
       "\n",
       "    .dataframe tbody tr th {\n",
       "        vertical-align: top;\n",
       "    }\n",
       "\n",
       "    .dataframe thead th {\n",
       "        text-align: right;\n",
       "    }\n",
       "</style>\n",
       "<table border=\"1\" class=\"dataframe\">\n",
       "  <thead>\n",
       "    <tr style=\"text-align: right;\">\n",
       "      <th></th>\n",
       "      <th>meas</th>\n",
       "      <th>Op1</th>\n",
       "      <th>Op2</th>\n",
       "    </tr>\n",
       "  </thead>\n",
       "  <tbody>\n",
       "    <tr>\n",
       "      <th>0</th>\n",
       "      <td>4.0</td>\n",
       "      <td>0.0</td>\n",
       "      <td>1.0</td>\n",
       "    </tr>\n",
       "    <tr>\n",
       "      <th>1</th>\n",
       "      <td>2.0</td>\n",
       "      <td>0.0</td>\n",
       "      <td>1.0</td>\n",
       "    </tr>\n",
       "    <tr>\n",
       "      <th>2</th>\n",
       "      <td>5.0</td>\n",
       "      <td>0.0</td>\n",
       "      <td>1.0</td>\n",
       "    </tr>\n",
       "    <tr>\n",
       "      <th>3</th>\n",
       "      <td>2.0</td>\n",
       "      <td>0.0</td>\n",
       "      <td>0.0</td>\n",
       "    </tr>\n",
       "    <tr>\n",
       "      <th>4</th>\n",
       "      <td>2.0</td>\n",
       "      <td>1.0</td>\n",
       "      <td>0.0</td>\n",
       "    </tr>\n",
       "    <tr>\n",
       "      <th>...</th>\n",
       "      <td>...</td>\n",
       "      <td>...</td>\n",
       "      <td>...</td>\n",
       "    </tr>\n",
       "    <tr>\n",
       "      <th>53794</th>\n",
       "      <td>8.0</td>\n",
       "      <td>1.0</td>\n",
       "      <td>0.0</td>\n",
       "    </tr>\n",
       "    <tr>\n",
       "      <th>53795</th>\n",
       "      <td>7.0</td>\n",
       "      <td>1.0</td>\n",
       "      <td>0.0</td>\n",
       "    </tr>\n",
       "    <tr>\n",
       "      <th>53796</th>\n",
       "      <td>6.0</td>\n",
       "      <td>0.0</td>\n",
       "      <td>1.0</td>\n",
       "    </tr>\n",
       "    <tr>\n",
       "      <th>53797</th>\n",
       "      <td>7.0</td>\n",
       "      <td>0.0</td>\n",
       "      <td>1.0</td>\n",
       "    </tr>\n",
       "    <tr>\n",
       "      <th>53798</th>\n",
       "      <td>10.0</td>\n",
       "      <td>0.0</td>\n",
       "      <td>0.0</td>\n",
       "    </tr>\n",
       "  </tbody>\n",
       "</table>\n",
       "<p>107598 rows × 3 columns</p>\n",
       "</div>"
      ],
      "text/plain": [
       "       meas  Op1  Op2\n",
       "0       4.0  0.0  1.0\n",
       "1       2.0  0.0  1.0\n",
       "2       5.0  0.0  1.0\n",
       "3       2.0  0.0  0.0\n",
       "4       2.0  1.0  0.0\n",
       "...     ...  ...  ...\n",
       "53794   8.0  1.0  0.0\n",
       "53795   7.0  1.0  0.0\n",
       "53796   6.0  0.0  1.0\n",
       "53797   7.0  0.0  1.0\n",
       "53798  10.0  0.0  0.0\n",
       "\n",
       "[107598 rows x 3 columns]"
      ]
     },
     "execution_count": 408,
     "metadata": {},
     "output_type": "execute_result"
    }
   ],
   "source": [
    "data"
   ]
  },
  {
   "cell_type": "markdown",
   "metadata": {},
   "source": [
    "# Compatibility"
   ]
  },
  {
   "cell_type": "code",
   "execution_count": 409,
   "metadata": {},
   "outputs": [],
   "source": [
    "Or12 = data.loc[data[\"meas\"]==1]\n",
    "Or23 = data.loc[data[\"meas\"]==2]\n",
    "Or34 = data.loc[data[\"meas\"]==3]\n",
    "Or45 = data.loc[data[\"meas\"]==4]\n",
    "Or51 = data.loc[data[\"meas\"]==5]"
   ]
  },
  {
   "cell_type": "code",
   "execution_count": 410,
   "metadata": {},
   "outputs": [],
   "source": [
    "Or15 = data.loc[data[\"meas\"]==6]\n",
    "Or21 = data.loc[data[\"meas\"]==7]\n",
    "Or32 = data.loc[data[\"meas\"]==8]\n",
    "Or43 = data.loc[data[\"meas\"]==9]\n",
    "Or54 = data.loc[data[\"meas\"]==10]"
   ]
  },
  {
   "cell_type": "markdown",
   "metadata": {},
   "source": [
    "## 12 and 21"
   ]
  },
  {
   "cell_type": "code",
   "execution_count": 411,
   "metadata": {},
   "outputs": [],
   "source": [
    "Or1200 = Or12.loc[Or12[\"Op1\"]==0]\n",
    "Or1200 = Or1200.loc[Or1200[\"Op2\"]==0]\n",
    "\n",
    "Or1201 = Or12.loc[Or12[\"Op1\"]==0]\n",
    "Or1201 = Or1201.loc[Or1201[\"Op2\"]==1]\n",
    "\n",
    "Or1210 = Or12.loc[Or12[\"Op1\"]==1]\n",
    "Or1210 = Or1210.loc[Or1210[\"Op2\"]==0]\n",
    "\n",
    "Or1211 = Or12.loc[Or12[\"Op1\"]==1]\n",
    "Or1211 = Or1211.loc[Or1211[\"Op2\"]==1]"
   ]
  },
  {
   "cell_type": "code",
   "execution_count": 412,
   "metadata": {},
   "outputs": [],
   "source": [
    "Or2100 = Or21.loc[Or21[\"Op1\"]==0]\n",
    "Or2100 = Or2100.loc[Or2100[\"Op2\"]==0]\n",
    "\n",
    "Or2101 = Or21.loc[Or21[\"Op1\"]==0]\n",
    "Or2101 = Or2101.loc[Or2101[\"Op2\"]==1]\n",
    "\n",
    "Or2110 = Or21.loc[Or21[\"Op1\"]==1]\n",
    "Or2110 = Or2110.loc[Or2110[\"Op2\"]==0]\n",
    "\n",
    "Or2111 = Or21.loc[Or21[\"Op1\"]==1]\n",
    "Or2111 = Or2111.loc[Or2111[\"Op2\"]==1]"
   ]
  },
  {
   "cell_type": "code",
   "execution_count": 413,
   "metadata": {},
   "outputs": [
    {
     "data": {
      "text/plain": [
       "[642, 5091, 5125, 25]"
      ]
     },
     "execution_count": 413,
     "metadata": {},
     "output_type": "execute_result"
    }
   ],
   "source": [
    "list12 = [Or1200.shape[0],Or1201.shape[0],Or1210.shape[0],Or1211.shape[0]]\n",
    "list12"
   ]
  },
  {
   "cell_type": "code",
   "execution_count": 414,
   "metadata": {},
   "outputs": [
    {
     "data": {
      "text/plain": [
       "[621, 5023, 5028, 50]"
      ]
     },
     "execution_count": 414,
     "metadata": {},
     "output_type": "execute_result"
    }
   ],
   "source": [
    "list21 = [Or2100.shape[0],Or2110.shape[0],Or2101.shape[0],Or2111.shape[0]]\n",
    "list21"
   ]
  },
  {
   "cell_type": "code",
   "execution_count": 415,
   "metadata": {},
   "outputs": [
    {
     "data": {
      "text/plain": [
       "[0.0010727881916015591,\n",
       " -0.0006822237365800565,\n",
       " 0.0019755839197413416,\n",
       " -0.002366148374762869]"
      ]
     },
     "execution_count": 415,
     "metadata": {},
     "output_type": "execute_result"
    }
   ],
   "source": [
    "diff12 = []\n",
    "for k in range(4):\n",
    "    diff12.append((list12[k]/sum(list12))-(list21[k]/sum(list21)))\n",
    "diff12"
   ]
  },
  {
   "cell_type": "code",
   "execution_count": 416,
   "metadata": {},
   "outputs": [
    {
     "data": {
      "text/plain": [
       "0.006096744222685826"
      ]
     },
     "execution_count": 416,
     "metadata": {},
     "output_type": "execute_result"
    }
   ],
   "source": [
    "for k in range(4):\n",
    "    diff12[k] = abs(diff12[k])\n",
    "sum(diff12)"
   ]
  },
  {
   "cell_type": "markdown",
   "metadata": {},
   "source": [
    "## 23 and 32"
   ]
  },
  {
   "cell_type": "code",
   "execution_count": 417,
   "metadata": {},
   "outputs": [
    {
     "name": "stdout",
     "output_type": "stream",
     "text": [
      "[0.0017718396917306002, 0.003733626409519908, -0.004946685933562067, -0.0005587801676884422]\n"
     ]
    },
    {
     "data": {
      "text/plain": [
       "0.011010932202501017"
      ]
     },
     "execution_count": 417,
     "metadata": {},
     "output_type": "execute_result"
    }
   ],
   "source": [
    "Or2300 = Or23.loc[Or23[\"Op1\"]==0]\n",
    "Or2300 = Or2300.loc[Or2300[\"Op2\"]==0]\n",
    "\n",
    "Or2301 = Or23.loc[Or23[\"Op1\"]==0]\n",
    "Or2301 = Or2301.loc[Or2301[\"Op2\"]==1]\n",
    "\n",
    "Or2310 = Or23.loc[Or23[\"Op1\"]==1]\n",
    "Or2310 = Or2310.loc[Or2310[\"Op2\"]==0]\n",
    "\n",
    "Or2311 = Or23.loc[Or23[\"Op1\"]==1]\n",
    "Or2311 = Or2311.loc[Or2311[\"Op2\"]==1]\n",
    "\n",
    "\n",
    "Or3200 = Or32.loc[Or32[\"Op1\"]==0]\n",
    "Or3200 = Or3200.loc[Or3200[\"Op2\"]==0]\n",
    "\n",
    "Or3201 = Or32.loc[Or32[\"Op1\"]==0]\n",
    "Or3201 = Or3201.loc[Or3201[\"Op2\"]==1]\n",
    "\n",
    "Or3210 = Or32.loc[Or32[\"Op1\"]==1]\n",
    "Or3210 = Or3210.loc[Or3210[\"Op2\"]==0]\n",
    "\n",
    "Or3211 = Or32.loc[Or32[\"Op1\"]==1]\n",
    "Or3211 = Or3211.loc[Or3211[\"Op2\"]==1]\n",
    "\n",
    "list23 = [Or2300.shape[0],Or2301.shape[0],Or2310.shape[0],Or2311.shape[0]]\n",
    "list32 = [Or3200.shape[0],Or3210.shape[0],Or3201.shape[0],Or3211.shape[0]]\n",
    "\n",
    "diff23 = []\n",
    "for k in range(4):\n",
    "    diff23.append((list23[k]/sum(list23))-(list32[k]/sum(list32)))\n",
    "print(diff23)\n",
    "\n",
    "for k in range(4):\n",
    "    diff23[k] = abs(diff23[k])\n",
    "sum(diff23)"
   ]
  },
  {
   "cell_type": "markdown",
   "metadata": {},
   "source": [
    "## 34 and 43"
   ]
  },
  {
   "cell_type": "code",
   "execution_count": 418,
   "metadata": {},
   "outputs": [
    {
     "name": "stdout",
     "output_type": "stream",
     "text": [
      "[0.006214894997949083, -0.011646994728454735, -0.00297735799974419, 0.008409457730249837]\n"
     ]
    },
    {
     "data": {
      "text/plain": [
       "0.029248705456397843"
      ]
     },
     "execution_count": 418,
     "metadata": {},
     "output_type": "execute_result"
    }
   ],
   "source": [
    "Or3400 = Or34.loc[Or34[\"Op1\"]==0]\n",
    "Or3400 = Or3400.loc[Or3400[\"Op2\"]==0]\n",
    "\n",
    "Or3401 = Or34.loc[Or34[\"Op1\"]==0]\n",
    "Or3401 = Or3401.loc[Or3401[\"Op2\"]==1]\n",
    "\n",
    "Or3410 = Or34.loc[Or34[\"Op1\"]==1]\n",
    "Or3410 = Or3410.loc[Or3410[\"Op2\"]==0]\n",
    "\n",
    "Or3411 = Or34.loc[Or34[\"Op1\"]==1]\n",
    "Or3411 = Or3411.loc[Or3411[\"Op2\"]==1]\n",
    "\n",
    "\n",
    "Or4300 = Or43.loc[Or43[\"Op1\"]==0]\n",
    "Or4300 = Or4300.loc[Or4300[\"Op2\"]==0]\n",
    "\n",
    "Or4301 = Or43.loc[Or43[\"Op1\"]==0]\n",
    "Or4301 = Or4301.loc[Or4301[\"Op2\"]==1]\n",
    "\n",
    "Or4310 = Or43.loc[Or43[\"Op1\"]==1]\n",
    "Or4310 = Or4310.loc[Or4310[\"Op2\"]==0]\n",
    "\n",
    "Or4311 = Or43.loc[Or43[\"Op1\"]==1]\n",
    "Or4311 = Or4311.loc[Or4311[\"Op2\"]==1]\n",
    "\n",
    "list34 = [Or3400.shape[0],Or3401.shape[0],Or3410.shape[0],Or3411.shape[0]]\n",
    "list43 = [Or4300.shape[0],Or4310.shape[0],Or4301.shape[0],Or4311.shape[0]]\n",
    "\n",
    "diff34 = []\n",
    "for k in range(4):\n",
    "    diff34.append((list34[k]/sum(list34))-(list43[k]/sum(list43)))\n",
    "print(diff34)\n",
    "\n",
    "for k in range(4):\n",
    "    diff34[k] = abs(diff34[k])\n",
    "sum(diff34)"
   ]
  },
  {
   "cell_type": "markdown",
   "metadata": {},
   "source": [
    "## 45 and 54"
   ]
  },
  {
   "cell_type": "code",
   "execution_count": 419,
   "metadata": {},
   "outputs": [
    {
     "name": "stdout",
     "output_type": "stream",
     "text": [
      "[-0.004519755059500419, 0.0033571162451575542, 0.0019837786434594995, -0.0008211398291167413]\n"
     ]
    },
    {
     "data": {
      "text/plain": [
       "0.010681789777234213"
      ]
     },
     "execution_count": 419,
     "metadata": {},
     "output_type": "execute_result"
    }
   ],
   "source": [
    "Or4500 = Or45.loc[Or45[\"Op1\"]==0]\n",
    "Or4500 = Or4500.loc[Or4500[\"Op2\"]==0]\n",
    "\n",
    "Or4501 = Or45.loc[Or45[\"Op1\"]==0]\n",
    "Or4501 = Or4501.loc[Or4501[\"Op2\"]==1]\n",
    "\n",
    "Or4510 = Or45.loc[Or45[\"Op1\"]==1]\n",
    "Or4510 = Or4510.loc[Or4510[\"Op2\"]==0]\n",
    "\n",
    "Or4511 = Or45.loc[Or45[\"Op1\"]==1]\n",
    "Or4511 = Or4511.loc[Or4511[\"Op2\"]==1]\n",
    "\n",
    "\n",
    "Or5400 = Or54.loc[Or54[\"Op1\"]==0]\n",
    "Or5400 = Or5400.loc[Or5400[\"Op2\"]==0]\n",
    "\n",
    "Or5401 = Or54.loc[Or54[\"Op1\"]==0]\n",
    "Or5401 = Or5401.loc[Or5401[\"Op2\"]==1]\n",
    "\n",
    "Or5410 = Or54.loc[Or54[\"Op1\"]==1]\n",
    "Or5410 = Or5410.loc[Or5410[\"Op2\"]==0]\n",
    "\n",
    "Or5411 = Or54.loc[Or54[\"Op1\"]==1]\n",
    "Or5411 = Or5411.loc[Or5411[\"Op2\"]==1]\n",
    "\n",
    "list45 = [Or4500.shape[0],Or4501.shape[0],Or4510.shape[0],Or4511.shape[0]]\n",
    "list54 = [Or5400.shape[0],Or5410.shape[0],Or5401.shape[0],Or5411.shape[0]]\n",
    "\n",
    "diff45 = []\n",
    "for k in range(4):\n",
    "    diff45.append((list45[k]/sum(list45))-(list54[k]/sum(list54)))\n",
    "print(diff45)\n",
    "\n",
    "for k in range(4):\n",
    "    diff45[k] = abs(diff45[k])\n",
    "sum(diff45)"
   ]
  },
  {
   "cell_type": "markdown",
   "metadata": {},
   "source": [
    "## 15 and 51"
   ]
  },
  {
   "cell_type": "code",
   "execution_count": 420,
   "metadata": {},
   "outputs": [
    {
     "name": "stdout",
     "output_type": "stream",
     "text": [
      "[0.0010372505207268488, -0.0017974373424024526, 9.627522467969829e-05, 0.0006639115969959914]\n"
     ]
    },
    {
     "data": {
      "text/plain": [
       "0.003594874684804991"
      ]
     },
     "execution_count": 420,
     "metadata": {},
     "output_type": "execute_result"
    }
   ],
   "source": [
    "Or1500 = Or15.loc[Or15[\"Op1\"]==0]\n",
    "Or1500 = Or1500.loc[Or1500[\"Op2\"]==0]\n",
    "\n",
    "Or1501 = Or15.loc[Or15[\"Op1\"]==0]\n",
    "Or1501 = Or1501.loc[Or1501[\"Op2\"]==1]\n",
    "\n",
    "Or1510 = Or15.loc[Or15[\"Op1\"]==1]\n",
    "Or1510 = Or1510.loc[Or1510[\"Op2\"]==0]\n",
    "\n",
    "Or1511 = Or15.loc[Or15[\"Op1\"]==1]\n",
    "Or1511 = Or1511.loc[Or1511[\"Op2\"]==1]\n",
    "\n",
    "\n",
    "Or5100 = Or51.loc[Or51[\"Op1\"]==0]\n",
    "Or5100 = Or5100.loc[Or5100[\"Op2\"]==0]\n",
    "\n",
    "Or5101 = Or51.loc[Or51[\"Op1\"]==0]\n",
    "Or5101 = Or5101.loc[Or5101[\"Op2\"]==1]\n",
    "\n",
    "Or5110 = Or51.loc[Or51[\"Op1\"]==1]\n",
    "Or5110 = Or5110.loc[Or5110[\"Op2\"]==0]\n",
    "\n",
    "Or5111 = Or51.loc[Or51[\"Op1\"]==1]\n",
    "Or5111 = Or5111.loc[Or5111[\"Op2\"]==1]\n",
    "\n",
    "list15 = [Or1500.shape[0],Or1501.shape[0],Or1510.shape[0],Or1511.shape[0]]\n",
    "list51 = [Or5100.shape[0],Or5110.shape[0],Or5101.shape[0],Or5111.shape[0]]\n",
    "\n",
    "diff15 = []\n",
    "for k in range(4):\n",
    "    diff15.append((list15[k]/sum(list15))-(list51[k]/sum(list51)))\n",
    "print(diff15)\n",
    "\n",
    "for k in range(4):\n",
    "    diff15[k] = abs(diff15[k])\n",
    "sum(diff15)"
   ]
  },
  {
   "cell_type": "code",
   "execution_count": null,
   "metadata": {},
   "outputs": [],
   "source": []
  }
 ],
 "metadata": {
  "kernelspec": {
   "display_name": "Python 3",
   "language": "python",
   "name": "python3"
  },
  "language_info": {
   "codemirror_mode": {
    "name": "ipython",
    "version": 3
   },
   "file_extension": ".py",
   "mimetype": "text/x-python",
   "name": "python",
   "nbconvert_exporter": "python",
   "pygments_lexer": "ipython3",
   "version": "3.8.8"
  },
  "latex_envs": {
   "LaTeX_envs_menu_present": true,
   "autoclose": false,
   "autocomplete": true,
   "bibliofile": "biblio.bib",
   "cite_by": "apalike",
   "current_citInitial": 1,
   "eqLabelWithNumbers": true,
   "eqNumInitial": 1,
   "hotkeys": {
    "equation": "Ctrl-E",
    "itemize": "Ctrl-I"
   },
   "labels_anchors": false,
   "latex_user_defs": false,
   "report_style_numbering": false,
   "user_envs_cfg": false
  },
  "toc": {
   "base_numbering": 1,
   "nav_menu": {},
   "number_sections": true,
   "sideBar": true,
   "skip_h1_title": false,
   "title_cell": "Table of Contents",
   "title_sidebar": "Contents",
   "toc_cell": false,
   "toc_position": {
    "height": "calc(100% - 180px)",
    "left": "10px",
    "top": "150px",
    "width": "290.54px"
   },
   "toc_section_display": true,
   "toc_window_display": true
  }
 },
 "nbformat": 4,
 "nbformat_minor": 2
}
