{
 "cells": [
  {
   "cell_type": "markdown",
   "metadata": {},
   "source": [
    "# Libraries"
   ]
  },
  {
   "cell_type": "code",
   "execution_count": 35,
   "metadata": {},
   "outputs": [],
   "source": [
    "# Import libraries\n",
    "import numpy as np\n",
    "import matplotlib.pyplot as plt\n",
    "np.set_printoptions(precision=3, suppress=True)\n",
    "import matplotlib.pyplot as plt\n",
    "import pandas as pd\n",
    "import math"
   ]
  },
  {
   "cell_type": "markdown",
   "metadata": {},
   "source": [
    "# Experimental Datapoints"
   ]
  },
  {
   "cell_type": "code",
   "execution_count": 36,
   "metadata": {},
   "outputs": [],
   "source": [
    "# Without rounding\n",
    "# data_normal = [2.232600712345316,2.1864152915097295, 2.1182383634577295, 2.042668579241047, 2.0584779513462417]\n",
    "# data_reverse = [2.233476272004981,2.1818614770236104, 2.1241432983380606, 2.048530599488611, 2.057145386158533]\n",
    "\n",
    "#Rounding to three digits after decimal\n",
    "data_normal = [2.233,2.186, 2.118, 2.043, 2.058]\n",
    "data_reverse = [2.233,2.182, 2.124, 2.048, 2.057]"
   ]
  },
  {
   "cell_type": "markdown",
   "metadata": {},
   "source": [
    "## Tomography data"
   ]
  },
  {
   "cell_type": "code",
   "execution_count": 37,
   "metadata": {},
   "outputs": [],
   "source": [
    "def std(list1):\n",
    "    val = 0\n",
    "    for k in list1:\n",
    "        val = val + k*k\n",
    "    return np.sqrt(val)"
   ]
  },
  {
   "cell_type": "markdown",
   "metadata": {},
   "source": [
    "### 48"
   ]
  },
  {
   "cell_type": "code",
   "execution_count": 38,
   "metadata": {},
   "outputs": [
    {
     "data": {
      "text/plain": [
       "4.966"
      ]
     },
     "execution_count": 38,
     "metadata": {},
     "output_type": "execute_result"
    }
   ],
   "source": [
    "meas_fid_48 = 0.994 + 0.991 + 0.996 + 0.995 + 0.990\n",
    "meas_fid_48"
   ]
  },
  {
   "cell_type": "code",
   "execution_count": 39,
   "metadata": {},
   "outputs": [],
   "source": [
    "# theta = 48, p= 0, p=0.1 and p = 0.2\n",
    "state_fid = [0.999,0.935,0.846]"
   ]
  },
  {
   "cell_type": "code",
   "execution_count": 40,
   "metadata": {},
   "outputs": [
    {
     "data": {
      "text/plain": [
       "[5.965, 5.901, 5.812]"
      ]
     },
     "execution_count": 40,
     "metadata": {},
     "output_type": "execute_result"
    }
   ],
   "source": [
    "Total_fid = []\n",
    "for k in state_fid:\n",
    "    Total_fid.append(k+meas_fid_48)\n",
    "Total_fid "
   ]
  },
  {
   "cell_type": "code",
   "execution_count": 41,
   "metadata": {},
   "outputs": [
    {
     "data": {
      "text/plain": [
       "0.01572418519351639"
      ]
     },
     "execution_count": 41,
     "metadata": {},
     "output_type": "execute_result"
    }
   ],
   "source": [
    "#p =0, standard deviation\n",
    "list1 = [0.0065,0.006,0.006,0.004,0.006,0.009]\n",
    "std(list1)"
   ]
  },
  {
   "cell_type": "code",
   "execution_count": 42,
   "metadata": {},
   "outputs": [
    {
     "data": {
      "text/plain": [
       "0.016401219466856725"
      ]
     },
     "execution_count": 42,
     "metadata": {},
     "output_type": "execute_result"
    }
   ],
   "source": [
    "#p =0.1, standard deviation\n",
    "list1 = [0.008,0.006,0.006,0.004,0.006,0.009]\n",
    "std(list1)"
   ]
  },
  {
   "cell_type": "code",
   "execution_count": 43,
   "metadata": {},
   "outputs": [
    {
     "data": {
      "text/plain": [
       "0.019339079605813717"
      ]
     },
     "execution_count": 43,
     "metadata": {},
     "output_type": "execute_result"
    }
   ],
   "source": [
    "#p =0.2, standard deviation\n",
    "list1 = [0.013,0.006,0.006,0.004,0.006,0.009]\n",
    "std(list1)"
   ]
  },
  {
   "cell_type": "code",
   "execution_count": 44,
   "metadata": {},
   "outputs": [
    {
     "data": {
      "text/plain": [
       "5.93364"
      ]
     },
     "execution_count": 44,
     "metadata": {},
     "output_type": "execute_result"
    }
   ],
   "source": [
    "5.965 - 1.96*0.016"
   ]
  },
  {
   "cell_type": "code",
   "execution_count": 45,
   "metadata": {},
   "outputs": [
    {
     "data": {
      "text/plain": [
       "5.8696399999999995"
      ]
     },
     "execution_count": 45,
     "metadata": {},
     "output_type": "execute_result"
    }
   ],
   "source": [
    "5.901 - 1.96*0.016"
   ]
  },
  {
   "cell_type": "code",
   "execution_count": 46,
   "metadata": {},
   "outputs": [
    {
     "data": {
      "text/plain": [
       "5.774760000000001"
      ]
     },
     "execution_count": 46,
     "metadata": {},
     "output_type": "execute_result"
    }
   ],
   "source": [
    "5.812 - 1.96*0.019"
   ]
  },
  {
   "cell_type": "markdown",
   "metadata": {},
   "source": [
    "### 150"
   ]
  },
  {
   "cell_type": "code",
   "execution_count": 47,
   "metadata": {},
   "outputs": [],
   "source": [
    "def term3(list1):\n",
    "    val = 0\n",
    "    for k in list1:\n",
    "        val = val + np.sqrt(1-k)\n",
    "        print(val)\n",
    "    return val"
   ]
  },
  {
   "cell_type": "code",
   "execution_count": 48,
   "metadata": {},
   "outputs": [
    {
     "name": "stdout",
     "output_type": "stream",
     "text": [
      "0.07141428428542845\n",
      "0.1428285685708569\n",
      "0.21964002604954308\n",
      "0.2867220653745364\n",
      "0.37098356310629993\n",
      "0.444468255389795\n"
     ]
    },
    {
     "data": {
      "text/plain": [
       "0.444468255389795"
      ]
     },
     "execution_count": 48,
     "metadata": {},
     "output_type": "execute_result"
    }
   ],
   "source": [
    "term3([0.9949, 0.9949, 0.9941, 0.9955, 0.9929, 0.9946])"
   ]
  },
  {
   "cell_type": "code",
   "execution_count": 49,
   "metadata": {},
   "outputs": [
    {
     "name": "stdout",
     "output_type": "stream",
     "text": [
      "0.07141428428542845\n",
      "0.1428285685708569\n",
      "0.21964002604954308\n",
      "0.2867220653745364\n",
      "0.37098356310629993\n",
      "0.444468255389795\n"
     ]
    },
    {
     "data": {
      "text/plain": [
       "4.050531744610205"
      ]
     },
     "execution_count": 49,
     "metadata": {},
     "output_type": "execute_result"
    }
   ],
   "source": [
    "term2_150 = 1.505\n",
    "tot_fid_150 = 6 - term2_150 - term3([0.9949, 0.9949, 0.9941, 0.9955, 0.9929, 0.9946])\n",
    "# Total_fid.append(tot_fid_150)\n",
    "# # Total_fid.append(tot_fid_150)\n",
    "tot_fid_150"
   ]
  },
  {
   "cell_type": "code",
   "execution_count": 50,
   "metadata": {},
   "outputs": [
    {
     "data": {
      "text/plain": [
       "0.0175"
      ]
     },
     "execution_count": 50,
     "metadata": {},
     "output_type": "execute_result"
    }
   ],
   "source": [
    "# standard deviation; 0.5 because of square root\n",
    "0.5*(0.009 + 0.004 + 0.007 + 0.005 + 0.005 + 0.005)"
   ]
  },
  {
   "cell_type": "code",
   "execution_count": 51,
   "metadata": {},
   "outputs": [
    {
     "data": {
      "text/plain": [
       "4.01668"
      ]
     },
     "execution_count": 51,
     "metadata": {},
     "output_type": "execute_result"
    }
   ],
   "source": [
    "4.050-1.96*0.017"
   ]
  },
  {
   "cell_type": "markdown",
   "metadata": {},
   "source": [
    "### 22"
   ]
  },
  {
   "cell_type": "code",
   "execution_count": 52,
   "metadata": {},
   "outputs": [],
   "source": [
    "# tot_fid_22 = 4.667530121422457\n",
    "# tot_fid_22 = -6 + tot_fid_22 + (0.9970 + 0.9977 + 0.9967 + 1 + 0.9969 + 0.9944)\n",
    "# Total_fid.append(tot_fid_22)\n",
    "# # Total_fid.append(tot_fid_22)\n",
    "# tot_fid_22"
   ]
  },
  {
   "cell_type": "code",
   "execution_count": 53,
   "metadata": {},
   "outputs": [
    {
     "name": "stdout",
     "output_type": "stream",
     "text": [
      "0.054772255750516634\n",
      "0.1027305709836435\n",
      "0.1601761974490235\n",
      "0.1601761974490235\n",
      "0.21585384107732364\n",
      "0.2906869888128028\n"
     ]
    },
    {
     "data": {
      "text/plain": [
       "3.9893130111871975"
      ]
     },
     "execution_count": 53,
     "metadata": {},
     "output_type": "execute_result"
    }
   ],
   "source": [
    "term2_22 = 1.720\n",
    "tot_fid_22 = 6 - term2_22 - term3([0.9970, 0.9977, 0.9967, 1, 0.9969, 0.9944])\n",
    "# Total_fid.append(tot_fid_150)\n",
    "# # Total_fid.append(tot_fid_150)\n",
    "tot_fid_22"
   ]
  },
  {
   "cell_type": "code",
   "execution_count": 54,
   "metadata": {},
   "outputs": [
    {
     "data": {
      "text/plain": [
       "0.0175"
      ]
     },
     "execution_count": 54,
     "metadata": {},
     "output_type": "execute_result"
    }
   ],
   "source": [
    "# standard deviation; 0.5 because of square root in term 3\n",
    "0.5*(0.008 + 0.004 + 0.005 + 0.005 + 0.007 + 0.006)"
   ]
  },
  {
   "cell_type": "code",
   "execution_count": 55,
   "metadata": {},
   "outputs": [
    {
     "data": {
      "text/plain": [
       "3.95568"
      ]
     },
     "execution_count": 55,
     "metadata": {},
     "output_type": "execute_result"
    }
   ],
   "source": [
    "3.989 - 1.96*0.017"
   ]
  },
  {
   "cell_type": "markdown",
   "metadata": {},
   "source": [
    "# Plots"
   ]
  },
  {
   "cell_type": "markdown",
   "metadata": {},
   "source": [
    "## Normal order"
   ]
  },
  {
   "cell_type": "code",
   "execution_count": 141,
   "metadata": {},
   "outputs": [
    {
     "data": {
      "image/png": "[encoded data removed]",
      "text/plain": [
       "<Figure size 432x288 with 1 Axes>"
      ]
     },
     "metadata": {
      "needs_background": "light"
     },
     "output_type": "display_data"
    }
   ],
   "source": [
    "fig = plt.figure()\n",
    "\n",
    "#################################################\n",
    "#GENERATED USING THE CODE ABOVE\n",
    "#################################################\n",
    "\n",
    "#Sum_KCBS\n",
    "listKCBS=np.array([2.23606798, 2.23125026, 2.22643255, 2.22161484, 2.21679712,\n",
    "       2.21197941, 2.20716169, 2.20234398, 2.19752627, 2.19270855,\n",
    "       2.18789084, 2.18307313, 2.17825541, 2.1734377 , 2.16861998,\n",
    "       2.16380227, 2.15898456, 2.15416684, 2.14934913, 2.14453141,\n",
    "       2.1397137 , 2.13489599, 2.13007827, 2.12526056, 2.12044285,\n",
    "       2.11562513, 2.11080742, 2.1059897 , 2.10117199, 2.09635428,\n",
    "       2.09153656, 2.08671885, 2.08190114, 2.07708342, 2.07226571,\n",
    "       2.06744799, 2.06263028, 2.05781257, 2.05299485, 2.04817714,\n",
    "       2.04335942, 2.03854171, 2.033724  , 2.02890628, 2.02408857,\n",
    "       2.01927086, 2.01445314, 2.00963543, 2.00481771, 2.        ])\n",
    "\n",
    "#F lowerbound\n",
    "listFid=np.array([5.99876104e+00, 5.10085459e+00, 4.64430641e+00, 4.28133663e+00,\n",
    "       3.98805278e+00, 3.74790915e+00, 3.54819887e+00, 3.37872694e+00,\n",
    "       3.23135589e+00, 3.09978129e+00, 2.97940006e+00, 2.86708174e+00,\n",
    "       2.76076195e+00, 2.65907070e+00, 2.56106384e+00, 2.46606825e+00,\n",
    "       2.37359975e+00, 2.28329376e+00, 2.19487689e+00, 2.10813545e+00,\n",
    "       2.02289885e+00, 1.93904169e+00, 1.85645259e+00, 1.77504276e+00,\n",
    "       1.69475145e+00, 1.61551405e+00, 1.53728720e+00, 1.46003476e+00,\n",
    "       1.38372311e+00, 1.30833627e+00, 1.23385141e+00, 1.16025992e+00,\n",
    "       1.08755376e+00, 1.01573284e+00, 9.44800157e-01, 8.74764724e-01,\n",
    "       8.05636789e-01, 7.37431324e-01, 6.70168830e-01, 6.03869306e-01,\n",
    "       5.38556381e-01, 4.74259239e-01, 4.11000874e-01, 3.48806308e-01,\n",
    "       2.87699027e-01, 2.27705813e-01, 1.68853581e-01, 1.11188931e-01,\n",
    "       5.48173209e-02, 3.46591403e-08])\n",
    "\n",
    "plt.scatter(listKCBS, listFid)\n",
    "plt.plot(listKCBS, listFid,label='Robustness curve via sum')\n",
    "\n",
    "# Experimental data points\n",
    "list0 = [2.249, 2.207, 2.140, 2.078, 2.062]\n",
    "list1 =[0.009, 0.011, 0.011, 0.010, 0.010]\n",
    "xe = []\n",
    "for k in list1:\n",
    "    xe.append(1.96*k)\n",
    "\n",
    "    c = 1.0\n",
    "    \n",
    "list2 = [c*5.965, c*5.901, c*5.812,c*3.989,c*4.050]\n",
    "list3 = [c*0.016, c*0.016, c*0.019, c*0.017, c*0.017]\n",
    "    \n",
    "    \n",
    "ye = []\n",
    "for k in list3:\n",
    "    ye.append(1.96*k)\n",
    "    \n",
    "plt.scatter(list0, list2) \n",
    "plt.errorbar(list0, list2, xerr=xe, yerr=ye, fmt='o', color=\"r\", markersize=1, capsize=3, label = \"Experimental data\")\n",
    "# plt.errorbar(list0, list2, xerr=xe, yerr=ye, fmt='o', color=\"r\", markersize=2, capsize=12, label = \"Experimental data\")\n",
    "#plt.errorbar(list0, list2, yerr = ye, fmt=\"o\", color=\"r\")\n",
    "\n",
    "plt.xlim(2,np.sqrt(5)+0.034)\n",
    "plt.ylim(0,6.4)\n",
    "\n",
    "# Show the major grid lines with dark grey lines\n",
    "plt.grid(b=True, which='major', color='#666666', linestyle='-')\n",
    "\n",
    "# Show the minor grid lines with very faint and almost transparent grey lines\n",
    "plt.minorticks_on()\n",
    "plt.grid(b=True, which='minor', color='#999999', linestyle='-', alpha=0.4)\n",
    "plt.xlabel('KCBS Value')\n",
    "plt.ylabel('Total Fidelity')\n",
    "plt.legend(loc='upper center', bbox_to_anchor=(0.6, 1.2),shadow=False, ncol=1,frameon=False)\n",
    "plt.savefig('Robust_normal.pdf', bbox_inches='tight')"
   ]
  },
  {
   "cell_type": "code",
   "execution_count": 135,
   "metadata": {},
   "outputs": [
    {
     "data": {
      "image/png": "[encoded data removed]",
      "text/plain": [
       "<Figure size 432x288 with 1 Axes>"
      ]
     },
     "metadata": {
      "needs_background": "light"
     },
     "output_type": "display_data"
    }
   ],
   "source": [
    "# Normalized plot\n",
    "\n",
    "Fidata = pd.read_csv(\"Robustness_1.csv\")\n",
    "Fidata[\"KCBS Value\"] = Fidata[\"KCBS Value\"]*5 + 2.0\n",
    "fig = plt.figure()\n",
    "new_x = []\n",
    "new_y = []\n",
    "for k in Fidata[\"KCBS Value\"]:\n",
    "    new_x.append(k)\n",
    "    \n",
    "for k in Fidata[\"Total Fidelity\"]:\n",
    "    new_y.append((1.0/6)*k)\n",
    "    \n",
    "\n",
    "    \n",
    "\n",
    "plt.scatter(new_x, new_y)\n",
    "plt.plot(new_x, new_y,label='Robustness curve')\n",
    "\n",
    "\n",
    "# Experimental data points\n",
    "list0 = [2.249, 2.207, 2.140, 2.078, 2.062]\n",
    "list1 =[0.009, 0.011, 0.011, 0.010, 0.010]\n",
    "xe = []\n",
    "for k in list1:\n",
    "    xe.append(1.96*k)\n",
    "\n",
    "c = 1/6.0\n",
    "    \n",
    "list2 = [c*5.965, c*5.901, c*5.812,c*3.989,c*4.050]\n",
    "list3 = [c*0.016, c*0.016, c*0.019, c*0.017, c*0.017]\n",
    "    \n",
    "    \n",
    "ye = []\n",
    "for k in list3:\n",
    "    ye.append(1.96*k)\n",
    "    \n",
    "plt.scatter(list0, list2)   \n",
    "plt.errorbar(list0, list2, xerr=xe, fmt='o', color=\"r\", markersize=1, capsize=3, label = \"Experimental data\")\n",
    "#plt.errorbar(list0, list2, yerr = ye, fmt=\"o\", color=\"r\")\n",
    "\n",
    "plt.xlim(2,np.sqrt(5)+0.018)\n",
    "plt.ylim(0,1.1)\n",
    "\n",
    "# Show the major grid lines with dark grey lines\n",
    "plt.grid(b=True, which='major', color='#666666', linestyle='-')\n",
    "\n",
    "# Show the minor grid lines with very faint and almost transparent grey lines\n",
    "plt.minorticks_on()\n",
    "plt.grid(b=True, which='minor', color='#999999', linestyle='-', alpha=0.4)\n",
    "plt.xlabel('KCBS Value')\n",
    "plt.ylabel('Total Fidelity')\n",
    "plt.legend(loc='upper center', bbox_to_anchor=(0.6, 1.2),shadow=False, ncol=1,frameon=False)\n",
    "plt.savefig('Normalized_Robust_normal.pdf', bbox_inches='tight')"
   ]
  },
  {
   "cell_type": "code",
   "execution_count": 115,
   "metadata": {},
   "outputs": [
    {
     "data": {
      "image/png": "[encoded data removed]",
      "text/plain": [
       "<Figure size 432x288 with 1 Axes>"
      ]
     },
     "metadata": {
      "needs_background": "light"
     },
     "output_type": "display_data"
    }
   ],
   "source": [
    "Fidata = pd.read_csv(\"Robustness_1.csv\")\n",
    "Fidata[\"KCBS Value\"] = Fidata[\"KCBS Value\"]*5 + 2.0\n",
    "fig = plt.figure()\n",
    "\n",
    "\n",
    "plt.scatter(Fidata[\"KCBS Value\"],Fidata[\"Total Fidelity\"])\n",
    "plt.plot(Fidata[\"KCBS Value\"],Fidata[\"Total Fidelity\"],label='Robustness curve')\n",
    "\n",
    "\n",
    "# Experimental data points\n",
    "list0 = [2.249, 2.207, 2.140, 2.078, 2.062]\n",
    "list1 =[0.009, 0.011, 0.011, 0.010, 0.010]\n",
    "xe = []\n",
    "for k in range(len(list1)):\n",
    "    list0[k] = list0[k] - 1.96*list1[k]\n",
    "\n",
    "c= 1.0\n",
    "list2 = [c*5.965, c*5.901, c*5.812,c*3.989,c*4.050]\n",
    "list3 = [c*0.016, c*0.016, c*0.019, c*0.017, c*0.017]\n",
    "\n",
    "for k in range(len(list2)):\n",
    "    list2[k] = list2[k] - 1.96*list3[k]\n",
    "    \n",
    "\n",
    "plt.scatter(list0,list2,color = 'red',label='Experimental data')\n",
    "\n",
    "plt.xlim(2,np.sqrt(5)+0.015)\n",
    "plt.ylim(0,6.4)\n",
    "\n",
    "# Show the major grid lines with dark grey lines\n",
    "plt.grid(b=True, which='major', color='#666666', linestyle='-')\n",
    "\n",
    "# Show the minor grid lines with very faint and almost transparent grey lines\n",
    "plt.minorticks_on()\n",
    "plt.grid(b=True, which='minor', color='#999999', linestyle='-', alpha=0.4)\n",
    "plt.xlabel('KCBS Value')\n",
    "plt.ylabel('Total Fidelity')\n",
    "plt.legend(loc='upper center', bbox_to_anchor=(0.6, 1.2),shadow=False, ncol=1,frameon=False)\n",
    "plt.savefig('Sensible_Robust_normal.pdf', bbox_inches='tight')"
   ]
  },
  {
   "cell_type": "code",
   "execution_count": 78,
   "metadata": {},
   "outputs": [
    {
     "data": {
      "text/plain": [
       "[0.03136, 0.03136, 0.037239999999999995, 0.03332, 0.03332]"
      ]
     },
     "execution_count": 78,
     "metadata": {},
     "output_type": "execute_result"
    }
   ],
   "source": [
    "ye"
   ]
  },
  {
   "cell_type": "code",
   "execution_count": 79,
   "metadata": {},
   "outputs": [
    {
     "data": {
      "text/plain": [
       "[0.01764, 0.02156, 0.02156, 0.0196, 0.0196]"
      ]
     },
     "execution_count": 79,
     "metadata": {},
     "output_type": "execute_result"
    }
   ],
   "source": [
    "xe"
   ]
  },
  {
   "cell_type": "markdown",
   "metadata": {},
   "source": [
    "## Reverse order"
   ]
  },
  {
   "cell_type": "code",
   "execution_count": 138,
   "metadata": {},
   "outputs": [
    {
     "data": {
      "image/png": "[encoded data removed]",
      "text/plain": [
       "<Figure size 432x288 with 1 Axes>"
      ]
     },
     "metadata": {
      "needs_background": "light"
     },
     "output_type": "display_data"
    }
   ],
   "source": [
    "# Fidata = pd.read_csv(\"Robustness_1.csv\")\n",
    "# Fidata[\"KCBS Value\"] = Fidata[\"KCBS Value\"]*5 + 2.0\n",
    "fig = plt.figure()\n",
    "\n",
    "#################################################\n",
    "#GENERATED USING THE CODE ABOVE\n",
    "#################################################\n",
    "\n",
    "#Sum_KCBS\n",
    "listKCBS=np.array([2.23606798, 2.23125026, 2.22643255, 2.22161484, 2.21679712,\n",
    "       2.21197941, 2.20716169, 2.20234398, 2.19752627, 2.19270855,\n",
    "       2.18789084, 2.18307313, 2.17825541, 2.1734377 , 2.16861998,\n",
    "       2.16380227, 2.15898456, 2.15416684, 2.14934913, 2.14453141,\n",
    "       2.1397137 , 2.13489599, 2.13007827, 2.12526056, 2.12044285,\n",
    "       2.11562513, 2.11080742, 2.1059897 , 2.10117199, 2.09635428,\n",
    "       2.09153656, 2.08671885, 2.08190114, 2.07708342, 2.07226571,\n",
    "       2.06744799, 2.06263028, 2.05781257, 2.05299485, 2.04817714,\n",
    "       2.04335942, 2.03854171, 2.033724  , 2.02890628, 2.02408857,\n",
    "       2.01927086, 2.01445314, 2.00963543, 2.00481771, 2.        ])\n",
    "\n",
    "#F lowerbound\n",
    "listFid=np.array([5.99876104e+00, 5.10085459e+00, 4.64430641e+00, 4.28133663e+00,\n",
    "       3.98805278e+00, 3.74790915e+00, 3.54819887e+00, 3.37872694e+00,\n",
    "       3.23135589e+00, 3.09978129e+00, 2.97940006e+00, 2.86708174e+00,\n",
    "       2.76076195e+00, 2.65907070e+00, 2.56106384e+00, 2.46606825e+00,\n",
    "       2.37359975e+00, 2.28329376e+00, 2.19487689e+00, 2.10813545e+00,\n",
    "       2.02289885e+00, 1.93904169e+00, 1.85645259e+00, 1.77504276e+00,\n",
    "       1.69475145e+00, 1.61551405e+00, 1.53728720e+00, 1.46003476e+00,\n",
    "       1.38372311e+00, 1.30833627e+00, 1.23385141e+00, 1.16025992e+00,\n",
    "       1.08755376e+00, 1.01573284e+00, 9.44800157e-01, 8.74764724e-01,\n",
    "       8.05636789e-01, 7.37431324e-01, 6.70168830e-01, 6.03869306e-01,\n",
    "       5.38556381e-01, 4.74259239e-01, 4.11000874e-01, 3.48806308e-01,\n",
    "       2.87699027e-01, 2.27705813e-01, 1.68853581e-01, 1.11188931e-01,\n",
    "       5.48173209e-02, 3.46591403e-08])\n",
    "\n",
    "plt.scatter(listKCBS, listFid)\n",
    "plt.plot(listKCBS, listFid,label='Robustness curve via sum')\n",
    "\n",
    "\n",
    "# Experimental data points\n",
    "list0 = [2.255, 2.203, 2.145, 2.077, 2.068]\n",
    "list1 =[0.011, 0.011, 0.011, 0.010, 0.010]\n",
    "xe = []\n",
    "for k in list1:\n",
    "    xe.append(1.96*k)\n",
    "\n",
    "    c = 1.0\n",
    "    \n",
    "list2 = [c*5.965, c*5.901, c*5.812,c*3.989,c*4.050]\n",
    "list3 = [c*0.016, c*0.016, c*0.019, c*0.017, c*0.017]\n",
    "    \n",
    "    \n",
    "ye = []\n",
    "for k in list3:\n",
    "    ye.append(1.96*k)\n",
    "    \n",
    "plt.scatter(list0, list2)   \n",
    "plt.errorbar(list0, list2, xerr=xe, yerr=ye, fmt='o', color=\"r\", markersize=8, capsize=8, label = \"Experimental data\")\n",
    "#plt.errorbar(list0, list2, yerr = ye, fmt=\"o\", color=\"r\")\n",
    "\n",
    "plt.xlim(2,np.sqrt(5)+0.03)\n",
    "plt.ylim(0,6.4)\n",
    "\n",
    "# Show the major grid lines with dark grey lines\n",
    "plt.grid(b=True, which='major', color='#666666', linestyle='-')\n",
    "\n",
    "# Show the minor grid lines with very faint and almost transparent grey lines\n",
    "plt.minorticks_on()\n",
    "plt.grid(b=True, which='minor', color='#999999', linestyle='-', alpha=0.4)\n",
    "plt.xlabel('KCBS Value')\n",
    "plt.ylabel('Total Fidelity')\n",
    "plt.legend(loc='upper center', bbox_to_anchor=(0.6, 1.2),shadow=False, ncol=1,frameon=False)\n",
    "plt.savefig('Robust_reverse.pdf', bbox_inches='tight')"
   ]
  },
  {
   "cell_type": "code",
   "execution_count": 139,
   "metadata": {},
   "outputs": [
    {
     "data": {
      "image/png": "[encoded data removed]",
      "text/plain": [
       "<Figure size 432x288 with 1 Axes>"
      ]
     },
     "metadata": {
      "needs_background": "light"
     },
     "output_type": "display_data"
    }
   ],
   "source": [
    "# Normalized plot\n",
    "\n",
    "#################################################\n",
    "#GENERATED USING THE CODE ABOVE\n",
    "#################################################\n",
    "\n",
    "#Sum_KCBS\n",
    "listKCBS=np.array([2.23606798, 2.23125026, 2.22643255, 2.22161484, 2.21679712,\n",
    "       2.21197941, 2.20716169, 2.20234398, 2.19752627, 2.19270855,\n",
    "       2.18789084, 2.18307313, 2.17825541, 2.1734377 , 2.16861998,\n",
    "       2.16380227, 2.15898456, 2.15416684, 2.14934913, 2.14453141,\n",
    "       2.1397137 , 2.13489599, 2.13007827, 2.12526056, 2.12044285,\n",
    "       2.11562513, 2.11080742, 2.1059897 , 2.10117199, 2.09635428,\n",
    "       2.09153656, 2.08671885, 2.08190114, 2.07708342, 2.07226571,\n",
    "       2.06744799, 2.06263028, 2.05781257, 2.05299485, 2.04817714,\n",
    "       2.04335942, 2.03854171, 2.033724  , 2.02890628, 2.02408857,\n",
    "       2.01927086, 2.01445314, 2.00963543, 2.00481771, 2.        ])\n",
    "\n",
    "#F lowerbound\n",
    "listFid=np.array([5.99876104e+00, 5.10085459e+00, 4.64430641e+00, 4.28133663e+00,\n",
    "       3.98805278e+00, 3.74790915e+00, 3.54819887e+00, 3.37872694e+00,\n",
    "       3.23135589e+00, 3.09978129e+00, 2.97940006e+00, 2.86708174e+00,\n",
    "       2.76076195e+00, 2.65907070e+00, 2.56106384e+00, 2.46606825e+00,\n",
    "       2.37359975e+00, 2.28329376e+00, 2.19487689e+00, 2.10813545e+00,\n",
    "       2.02289885e+00, 1.93904169e+00, 1.85645259e+00, 1.77504276e+00,\n",
    "       1.69475145e+00, 1.61551405e+00, 1.53728720e+00, 1.46003476e+00,\n",
    "       1.38372311e+00, 1.30833627e+00, 1.23385141e+00, 1.16025992e+00,\n",
    "       1.08755376e+00, 1.01573284e+00, 9.44800157e-01, 8.74764724e-01,\n",
    "       8.05636789e-01, 7.37431324e-01, 6.70168830e-01, 6.03869306e-01,\n",
    "       5.38556381e-01, 4.74259239e-01, 4.11000874e-01, 3.48806308e-01,\n",
    "       2.87699027e-01, 2.27705813e-01, 1.68853581e-01, 1.11188931e-01,\n",
    "       5.48173209e-02, 3.46591403e-08])\n",
    "\n",
    "\n",
    "\n",
    "\n",
    "\n",
    "fig = plt.figure()\n",
    "new_x = []\n",
    "new_y = []\n",
    "for k in listKCBS:\n",
    "    new_x.append(k)\n",
    "    \n",
    "for k in listFid:\n",
    "    new_y.append((1.0/6)*k)\n",
    "    \n",
    "\n",
    "    \n",
    "\n",
    "plt.scatter(new_x, new_y)\n",
    "plt.plot(new_x, new_y,label='Robustness curve via sum')\n",
    "\n",
    "\n",
    "# Experimental data points\n",
    "list0 = [2.255, 2.203, 2.145, 2.077, 2.068]\n",
    "list1 =[0.011, 0.011, 0.011, 0.010, 0.010]\n",
    "xe = []\n",
    "for k in list1:\n",
    "    xe.append(1.96*k)\n",
    "\n",
    "c = 1/6.0\n",
    "    \n",
    "list2 = [c*5.965, c*5.901, c*5.812,c*3.989,c*4.050]\n",
    "list3 = [c*0.016, c*0.016, c*0.019, c*0.017, c*0.017]\n",
    "    \n",
    "    \n",
    "ye = []\n",
    "for k in list3:\n",
    "    ye.append(1.96*k)\n",
    "    \n",
    "plt.scatter(list0, list2)   \n",
    "plt.errorbar(list0, list2, xerr=xe, yerr=ye, fmt='o', color=\"r\", markersize=2, capsize=8, label = \"Experimental data\")\n",
    "#plt.errorbar(list0, list2, yerr = ye, fmt=\"o\", color=\"r\")\n",
    "\n",
    "plt.xlim(2,np.sqrt(5)+0.018)\n",
    "plt.ylim(0,1.1)\n",
    "\n",
    "# Show the major grid lines with dark grey lines\n",
    "plt.grid(b=True, which='major', color='#666666', linestyle='-')\n",
    "\n",
    "# Show the minor grid lines with very faint and almost transparent grey lines\n",
    "plt.minorticks_on()\n",
    "plt.grid(b=True, which='minor', color='#999999', linestyle='-', alpha=0.4)\n",
    "plt.xlabel('KCBS Value')\n",
    "plt.ylabel('Total Fidelity')\n",
    "plt.legend(loc='upper center', bbox_to_anchor=(0.6, 1.2),shadow=False, ncol=1,frameon=False)\n",
    "plt.savefig('Normalized_Robust_reverse.pdf', bbox_inches='tight')"
   ]
  },
  {
   "cell_type": "code",
   "execution_count": 140,
   "metadata": {},
   "outputs": [
    {
     "data": {
      "image/png": "[encoded data removed]",
      "text/plain": [
       "<Figure size 432x288 with 1 Axes>"
      ]
     },
     "metadata": {
      "needs_background": "light"
     },
     "output_type": "display_data"
    }
   ],
   "source": [
    "fig = plt.figure()\n",
    "\n",
    "\n",
    "#################################################\n",
    "#GENERATED USING THE CODE ABOVE\n",
    "#################################################\n",
    "\n",
    "#Sum_KCBS\n",
    "listKCBS=np.array([2.23606798, 2.23125026, 2.22643255, 2.22161484, 2.21679712,\n",
    "       2.21197941, 2.20716169, 2.20234398, 2.19752627, 2.19270855,\n",
    "       2.18789084, 2.18307313, 2.17825541, 2.1734377 , 2.16861998,\n",
    "       2.16380227, 2.15898456, 2.15416684, 2.14934913, 2.14453141,\n",
    "       2.1397137 , 2.13489599, 2.13007827, 2.12526056, 2.12044285,\n",
    "       2.11562513, 2.11080742, 2.1059897 , 2.10117199, 2.09635428,\n",
    "       2.09153656, 2.08671885, 2.08190114, 2.07708342, 2.07226571,\n",
    "       2.06744799, 2.06263028, 2.05781257, 2.05299485, 2.04817714,\n",
    "       2.04335942, 2.03854171, 2.033724  , 2.02890628, 2.02408857,\n",
    "       2.01927086, 2.01445314, 2.00963543, 2.00481771, 2.        ])\n",
    "\n",
    "#F lowerbound\n",
    "listFid=np.array([5.99876104e+00, 5.10085459e+00, 4.64430641e+00, 4.28133663e+00,\n",
    "       3.98805278e+00, 3.74790915e+00, 3.54819887e+00, 3.37872694e+00,\n",
    "       3.23135589e+00, 3.09978129e+00, 2.97940006e+00, 2.86708174e+00,\n",
    "       2.76076195e+00, 2.65907070e+00, 2.56106384e+00, 2.46606825e+00,\n",
    "       2.37359975e+00, 2.28329376e+00, 2.19487689e+00, 2.10813545e+00,\n",
    "       2.02289885e+00, 1.93904169e+00, 1.85645259e+00, 1.77504276e+00,\n",
    "       1.69475145e+00, 1.61551405e+00, 1.53728720e+00, 1.46003476e+00,\n",
    "       1.38372311e+00, 1.30833627e+00, 1.23385141e+00, 1.16025992e+00,\n",
    "       1.08755376e+00, 1.01573284e+00, 9.44800157e-01, 8.74764724e-01,\n",
    "       8.05636789e-01, 7.37431324e-01, 6.70168830e-01, 6.03869306e-01,\n",
    "       5.38556381e-01, 4.74259239e-01, 4.11000874e-01, 3.48806308e-01,\n",
    "       2.87699027e-01, 2.27705813e-01, 1.68853581e-01, 1.11188931e-01,\n",
    "       5.48173209e-02, 3.46591403e-08])\n",
    "\n",
    "plt.scatter(listKCBS, listFid)\n",
    "plt.plot(listKCBS, listFid,label='Robustness curve via sum')\n",
    "\n",
    "\n",
    "\n",
    "# Experimental data points\n",
    "list0 = [2.255, 2.203, 2.145, 2.077, 2.068]\n",
    "list1 =[0.011, 0.011, 0.011, 0.010, 0.010]\n",
    "xe = []\n",
    "for k in range(len(list1)):\n",
    "    list0[k] = list0[k] - 1.96*list1[k]\n",
    "\n",
    "c= 1.0\n",
    "list2 = [c*5.965, c*5.901, c*5.812,c*3.989,c*4.050]\n",
    "list3 = [c*0.016, c*0.016, c*0.019, c*0.017, c*0.017]\n",
    "\n",
    "for k in range(len(list2)):\n",
    "    list2[k] = list2[k] - 1.96*list3[k]\n",
    "    \n",
    "\n",
    "plt.scatter(list0,list2,color = 'red',label='Experimental data')\n",
    "\n",
    "plt.xlim(2,np.sqrt(5)+0.02)\n",
    "plt.ylim(0,6.4)\n",
    "\n",
    "# Show the major grid lines with dark grey lines\n",
    "plt.grid(b=True, which='major', color='#666666', linestyle='-')\n",
    "\n",
    "# Show the minor grid lines with very faint and almost transparent grey lines\n",
    "plt.minorticks_on()\n",
    "plt.grid(b=True, which='minor', color='#999999', linestyle='-', alpha=0.4)\n",
    "plt.xlabel('KCBS Value')\n",
    "plt.ylabel('Total Fidelity')\n",
    "plt.legend(loc='upper center', bbox_to_anchor=(0.6, 1.2),shadow=False, ncol=1,frameon=False)\n",
    "plt.savefig('Sensible_Robust_reverse.pdf', bbox_inches='tight')"
   ]
  },
  {
   "cell_type": "code",
   "execution_count": 124,
   "metadata": {},
   "outputs": [
    {
     "data": {
      "text/plain": [
       "2.23606797749979"
      ]
     },
     "execution_count": 124,
     "metadata": {},
     "output_type": "execute_result"
    }
   ],
   "source": [
    "np.sqrt(5)"
   ]
  },
  {
   "cell_type": "code",
   "execution_count": 137,
   "metadata": {},
   "outputs": [
    {
     "data": {
      "text/plain": [
       "0     2.000000\n",
       "1     2.004818\n",
       "2     2.009635\n",
       "3     2.014453\n",
       "4     2.019271\n",
       "5     2.024089\n",
       "6     2.028906\n",
       "7     2.033724\n",
       "8     2.038542\n",
       "9     2.043359\n",
       "10    2.048177\n",
       "11    2.052995\n",
       "12    2.057813\n",
       "13    2.062630\n",
       "14    2.067448\n",
       "15    2.072266\n",
       "16    2.077083\n",
       "17    2.081901\n",
       "18    2.086719\n",
       "19    2.091537\n",
       "20    2.096354\n",
       "21    2.101172\n",
       "22    2.105990\n",
       "23    2.110807\n",
       "24    2.115625\n",
       "25    2.120443\n",
       "26    2.125261\n",
       "27    2.130078\n",
       "28    2.134896\n",
       "29    2.139714\n",
       "30    2.144531\n",
       "31    2.149349\n",
       "32    2.154167\n",
       "33    2.158985\n",
       "34    2.163802\n",
       "35    2.168620\n",
       "36    2.173438\n",
       "37    2.178255\n",
       "38    2.183073\n",
       "39    2.187891\n",
       "40    2.192709\n",
       "41    2.197526\n",
       "42    2.202344\n",
       "43    2.207162\n",
       "44    2.211979\n",
       "45    2.216797\n",
       "46    2.221615\n",
       "47    2.226433\n",
       "48    2.231250\n",
       "49    2.236068\n",
       "Name: KCBS Value, dtype: float64"
      ]
     },
     "execution_count": 137,
     "metadata": {},
     "output_type": "execute_result"
    }
   ],
   "source": [
    "Fidata[\"KCBS Value\"]"
   ]
  },
  {
   "cell_type": "code",
   "execution_count": null,
   "metadata": {},
   "outputs": [],
   "source": []
  }
 ],
 "metadata": {
  "kernelspec": {
   "display_name": "Python 3",
   "language": "python",
   "name": "python3"
  },
  "language_info": {
   "codemirror_mode": {
    "name": "ipython",
    "version": 3
   },
   "file_extension": ".py",
   "mimetype": "text/x-python",
   "name": "python",
   "nbconvert_exporter": "python",
   "pygments_lexer": "ipython3",
   "version": "3.8.8"
  },
  "latex_envs": {
   "LaTeX_envs_menu_present": true,
   "autoclose": false,
   "autocomplete": true,
   "bibliofile": "biblio.bib",
   "cite_by": "apalike",
   "current_citInitial": 1,
   "eqLabelWithNumbers": true,
   "eqNumInitial": 1,
   "hotkeys": {
    "equation": "Ctrl-E",
    "itemize": "Ctrl-I"
   },
   "labels_anchors": false,
   "latex_user_defs": false,
   "report_style_numbering": false,
   "user_envs_cfg": false
  },
  "toc": {
   "base_numbering": 1,
   "nav_menu": {},
   "number_sections": true,
   "sideBar": true,
   "skip_h1_title": false,
   "title_cell": "Table of Contents",
   "title_sidebar": "Contents",
   "toc_cell": false,
   "toc_position": {
    "height": "calc(100% - 180px)",
    "left": "10px",
    "top": "150px",
    "width": "290.54px"
   },
   "toc_section_display": true,
   "toc_window_display": true
  }
 },
 "nbformat": 4,
 "nbformat_minor": 2
}
