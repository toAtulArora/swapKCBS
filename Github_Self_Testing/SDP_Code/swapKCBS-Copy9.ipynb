{
 "cells": [
  {
   "cell_type": "markdown",
   "metadata": {},
   "source": [
    "## Import libraries and specify the parameters"
   ]
  },
  {
   "cell_type": "code",
   "execution_count": 1,
   "metadata": {},
   "outputs": [
    {
     "data": {
      "text/plain": [
       "3000"
      ]
     },
     "execution_count": 1,
     "metadata": {},
     "output_type": "execute_result"
    }
   ],
   "source": [
    "# import sys\n",
    "# sys.getrecursionlimit()"
   ]
  },
  {
   "cell_type": "code",
   "execution_count": 1,
   "metadata": {
    "scrolled": false
   },
   "outputs": [
    {
     "name": "stdout",
     "output_type": "stream",
     "text": [
      "importing Jupyter notebook from mSwapKCBS_0v6_debuggingPickle.ipynb\n",
      "STEP  1 / 5  in progress...\n",
      "Initialising Ideal KCBS calculations and performing symbolic computations\n",
      "The testType is 0\n",
      "Creating projectors etc\n",
      "Solving a linear system to find the coefficients for expressing the translation operator as a sum of projectors\n",
      "[{a0: -0.272019649514068, a1: -0.485868271756648, a2: -2.05817102727150, a3: -6.28562544506058e-16, a4: 2.77032771530716, a5: -1.15229372655726, a6: -4.82849874257865, a7: 3.33019067678556, a8: 2.77032771530716}]\n",
      "[{a0: -0.272019649514068, a1: -0.485868271756648, a2: -2.05817102727150, a3: -6.28562544506058e-16, a4: 2.77032771530716, a5: -1.15229372655726, a6: -4.82849874257865, a7: 3.33019067678556, a8: 2.77032771530716}]\n",
      "final substitution\n",
      "{a0: -0.272019649514068, a1: -0.485868271756648, a2: -2.05817102727150, a3: -6.28562544506058e-16, a4: 2.77032771530716, a5: -1.15229372655726, a6: -4.82849874257865, a7: 3.33019067678556, a8: 2.77032771530716, a9: 1}\n",
      "Solving the cross Π\n",
      "[{a0: -1.00000000000000, a1: -1.00000000000000, a2: -2.10343297734178e-15, a3: -1.77094079760213e-15, a4: 4.23606797749979, a5: -4.23606797749979, a6: -4.23606797749979, a7: 2.61803398874990, a8: 2.61803398874990}]\n",
      "[{a0: -1.00000000000000, a1: -1.00000000000000, a2: -2.10343297734178e-15, a3: -1.77094079760213e-15, a4: 4.23606797749979, a5: -4.23606797749979, a6: -4.23606797749979, a7: 2.61803398874990, a8: 2.61803398874990}]\n",
      "final substitution\n",
      "{a0: -1.00000000000000, a1: -1.00000000000000, a2: -2.10343297734178e-15, a3: -1.77094079760213e-15, a4: 4.23606797749979, a5: -4.23606797749979, a6: -4.23606797749979, a7: 2.61803398874990, a8: 2.61803398874990, a9: 1}\n",
      "Evaluating F\n",
      "Loaded from file\n",
      "done\n",
      "STEP  1 / 5  done.\n",
      "\n",
      "\n",
      "STEP  2 / 5  in progress...\n",
      "Preparing: Sympy meets Cvxpy\n",
      "5\n",
      "Fetching the objective\n",
      "[P, Pd]\n",
      "Constructing dictionaries\n",
      "Creating the graph (assumed cyclic for now)\n",
      "Simplifying the objective using the graph\n",
      "Loading from file\n",
      "Done\n",
      "[Π_0, Π_1, Π_2, Π_3, Π_4, P, Pd]\n",
      "[Π_2*Π_0, Π_3*Π_0, P*Π_0, Pd*Π_0, Π_3*Π_1, Π_4*Π_1, P*Π_1, Pd*Π_1, Π_0*Π_2, Π_4*Π_2, P*Π_2, Pd*Π_2, Π_0*Π_3, Π_1*Π_3, P*Π_3, Pd*Π_3, Π_1*Π_4, Π_2*Π_4, P*Π_4, Pd*Π_4, Π_0*P, Π_1*P, Π_2*P, Π_3*P, Π_4*P, P**2, Π_0*Pd, Π_1*Pd, Π_2*Pd, Π_3*Pd, Π_4*Pd, Pd**2, Π_0*Π_2*Π_0, Π_4*Π_2*Π_0, P*Π_2*Π_0, Pd*Π_2*Π_0, Π_0*Π_3*Π_0, Π_1*Π_3*Π_0, P*Π_3*Π_0, Pd*Π_3*Π_0, Π_0*P*Π_0, Π_1*P*Π_0, Π_2*P*Π_0, Π_3*P*Π_0, Π_4*P*Π_0, P**2*Π_0, Π_0*Pd*Π_0, Π_1*Pd*Π_0, Π_2*Pd*Π_0, Π_3*Pd*Π_0, Π_4*Pd*Π_0, Pd**2*Π_0, Π_0*Π_3*Π_1, Π_1*Π_3*Π_1, P*Π_3*Π_1, Pd*Π_3*Π_1, Π_1*Π_4*Π_1, Π_2*Π_4*Π_1, P*Π_4*Π_1, Pd*Π_4*Π_1, Π_0*P*Π_1, Π_1*P*Π_1, Π_2*P*Π_1, Π_3*P*Π_1, Π_4*P*Π_1, P**2*Π_1, Π_0*Pd*Π_1, Π_1*Pd*Π_1, Π_2*Pd*Π_1, Π_3*Pd*Π_1, Π_4*Pd*Π_1, Pd**2*Π_1, Π_2*Π_0*Π_2, Π_3*Π_0*Π_2, P*Π_0*Π_2, Pd*Π_0*Π_2, Π_1*Π_4*Π_2, Π_2*Π_4*Π_2, P*Π_4*Π_2, Pd*Π_4*Π_2, Π_0*P*Π_2, Π_1*P*Π_2, Π_2*P*Π_2, Π_3*P*Π_2, Π_4*P*Π_2, P**2*Π_2, Π_0*Pd*Π_2, Π_1*Pd*Π_2, Π_2*Pd*Π_2, Π_3*Pd*Π_2, Π_4*Pd*Π_2, Pd**2*Π_2, Π_2*Π_0*Π_3, Π_3*Π_0*Π_3, P*Π_0*Π_3, Pd*Π_0*Π_3, Π_3*Π_1*Π_3, Π_4*Π_1*Π_3, P*Π_1*Π_3, Pd*Π_1*Π_3, Π_0*P*Π_3, Π_1*P*Π_3, Π_2*P*Π_3, Π_3*P*Π_3, Π_4*P*Π_3, P**2*Π_3, Π_0*Pd*Π_3, Π_1*Pd*Π_3, Π_2*Pd*Π_3, Π_3*Pd*Π_3, Π_4*Pd*Π_3, Pd**2*Π_3, Π_3*Π_1*Π_4, Π_4*Π_1*Π_4, P*Π_1*Π_4, Pd*Π_1*Π_4, Π_0*Π_2*Π_4, Π_4*Π_2*Π_4, P*Π_2*Π_4, Pd*Π_2*Π_4, Π_0*P*Π_4, Π_1*P*Π_4, Π_2*P*Π_4, Π_3*P*Π_4, Π_4*P*Π_4, P**2*Π_4, Π_0*Pd*Π_4, Π_1*Pd*Π_4, Π_2*Pd*Π_4, Π_3*Pd*Π_4, Π_4*Pd*Π_4, Pd**2*Π_4, Π_2*Π_0*P, Π_3*Π_0*P, P*Π_0*P, Pd*Π_0*P, Π_3*Π_1*P, Π_4*Π_1*P, P*Π_1*P, Pd*Π_1*P, Π_0*Π_2*P, Π_4*Π_2*P, P*Π_2*P, Pd*Π_2*P, Π_0*Π_3*P, Π_1*Π_3*P, P*Π_3*P, Pd*Π_3*P, Π_1*Π_4*P, Π_2*Π_4*P, P*Π_4*P, Pd*Π_4*P, Π_0*P**2, Π_1*P**2, Π_2*P**2, Π_3*P**2, Π_4*P**2, P**3, Π_2*Π_0*Pd, Π_3*Π_0*Pd, P*Π_0*Pd, Pd*Π_0*Pd, Π_3*Π_1*Pd, Π_4*Π_1*Pd, P*Π_1*Pd, Pd*Π_1*Pd, Π_0*Π_2*Pd, Π_4*Π_2*Pd, P*Π_2*Pd, Pd*Π_2*Pd, Π_0*Π_3*Pd, Π_1*Π_3*Pd, P*Π_3*Pd, Pd*Π_3*Pd, Π_1*Π_4*Pd, Π_2*Π_4*Pd, P*Π_4*Pd, Pd*Π_4*Pd, Π_0*Pd**2, Π_1*Pd**2, Π_2*Pd**2, Π_3*Pd**2, Π_4*Pd**2, Pd**3]\n",
      "STEP  2 / 5  done.\n",
      "\n",
      "\n",
      "STEP  3 / 5  in progress...\n",
      "Adding constraints from QM to the SDP variables\n",
      "Loading from file cached_ubuntu_1_1/with5lSave_4_testType_0_hDepth_3_lenL_192_locDepth2_usePs_True\n",
      "Done\n",
      "SDP Size var0[0, 0:192]\n",
      "Constraints: 16859\n",
      "Localising Constraints: 769\n",
      "STEP  3 / 5  done.\n",
      "\n",
      "\n",
      "STEP  4 / 5  in progress...\n",
      "Creating the objective in terms of the SDP variables\n",
      "Constructing the SDP objective from the symbolic objective\n",
      "Done\n",
      "STEP  4 / 5  done.\n",
      "\n",
      "\n",
      "STEP  5 / 5  in progress...\n",
      "Adding observed constraints\n",
      "Observed values; Adding constraints\n",
      "Done.\n",
      "STEP  5 / 5  done.\n",
      "\n",
      "\n"
     ]
    },
    {
     "data": {
      "image/png": "[encoded data removed]",
      "text/plain": [
       "<Figure size 432x288 with 1 Axes>"
      ]
     },
     "metadata": {},
     "output_type": "display_data"
    }
   ],
   "source": [
    "import import_ipynb #to enable importing from notebooks\n",
    "import mSwapKCBS_0v6_debuggingPickle as sk \n",
    "import numpy as np\n",
    "#testType:2 #state only\n",
    "#testType:0 #full\n",
    "#testType:1 #KCBS objective\n",
    "\n",
    "sk.globalSettings({'cacheFolder':'cached_ubuntu_1_1/','N':5,'testType':0,'hDepth':3,'locMatDepth':2,'solverSettings':{'verbose':False, 'solver':sk.cp.MOSEK}})\n",
    "sk.init()"
   ]
  },
  {
   "cell_type": "markdown",
   "metadata": {},
   "source": [
    "## Input data | Debugging"
   ]
  },
  {
   "cell_type": "code",
   "execution_count": 2,
   "metadata": {},
   "outputs": [
    {
     "name": "stdout",
     "output_type": "stream",
     "text": [
      "STEP  1 / 3  in progress...\n",
      "Updating observed constraints\n",
      "Observed values; Adding constraints\n",
      "Done.\n",
      "STEP  1 / 3  done.\n",
      "\n",
      "\n",
      "STEP  2 / 3  in progress...\n",
      "Readying the solver\n",
      "Using only  16859  of the total  16859  constraints\n",
      "STEP  2 / 3  done.\n",
      "\n",
      "\n",
      "STEP  3 / 3  in progress...\n",
      "Solving now\n",
      "Initialising...\n",
      "min: 5.632133205676641\n",
      "sqrt(5) 2.23606797749979\n",
      "Val is 5.632133205676641\n"
     ]
    }
   ],
   "source": [
    "N=5\n",
    "obsData= [2.233/5]*5\n",
    "val1= sk.solve(constrFrac=1.0,minOnly=True,obsData=obsData)\n",
    "print(\"Val is\", val1)"
   ]
  },
  {
   "cell_type": "markdown",
   "metadata": {},
   "source": [
    "## Input Data"
   ]
  },
  {
   "cell_type": "code",
   "execution_count": 12,
   "metadata": {
    "scrolled": false
   },
   "outputs": [
    {
     "name": "stdout",
     "output_type": "stream",
     "text": [
      "Total is 2.220259573469216\n",
      "STEP  1 / 3  in progress...\n",
      "Updating observed constraints\n",
      "Observed values; Adding constraints\n",
      "Done.\n",
      "STEP  1 / 3  done.\n",
      "\n",
      "\n",
      "STEP  2 / 3  in progress...\n",
      "Readying the solver\n",
      "Using only  16859  of the total  16859  constraints\n",
      "STEP  2 / 3  done.\n",
      "\n",
      "\n",
      "STEP  3 / 3  in progress...\n",
      "Solving now\n",
      "Initialising...\n",
      "min: 4.812260768455694\n",
      "sqrt(5) 2.23606797749979\n",
      "diff is 0.01721359549995798\n",
      "val is 4.812260768455694\n",
      "Total is 2.2220160628059467\n",
      "STEP  1 / 3  in progress...\n",
      "Updating observed constraints\n",
      "Observed values; Adding constraints\n",
      "Done.\n",
      "STEP  1 / 3  done.\n",
      "\n",
      "\n",
      "STEP  2 / 3  in progress...\n",
      "Readying the solver\n",
      "Using only  16859  of the total  16859  constraints\n",
      "STEP  2 / 3  done.\n",
      "\n",
      "\n",
      "STEP  3 / 3  in progress...\n",
      "Solving now\n",
      "Initialising...\n",
      "min: 5.014666587610825\n",
      "sqrt(5) 2.23606797749979\n",
      "diff is 0.01721359549995798\n",
      "val is 5.014666587610825\n",
      "Total is 2.223772552142677\n",
      "STEP  1 / 3  in progress...\n",
      "Updating observed constraints\n",
      "Observed values; Adding constraints\n",
      "Done.\n",
      "STEP  1 / 3  done.\n",
      "\n",
      "\n",
      "STEP  2 / 3  in progress...\n",
      "Readying the solver\n",
      "Using only  16859  of the total  16859  constraints\n",
      "STEP  2 / 3  done.\n",
      "\n",
      "\n",
      "STEP  3 / 3  in progress...\n",
      "Solving now\n",
      "Initialising...\n",
      "min: 5.227037970722244\n",
      "sqrt(5) 2.23606797749979\n",
      "diff is 0.01721359549995798\n",
      "val is 5.227037970722244\n",
      "Total is 2.2255290414794073\n",
      "STEP  1 / 3  in progress...\n",
      "Updating observed constraints\n",
      "Observed values; Adding constraints\n",
      "Done.\n",
      "STEP  1 / 3  done.\n",
      "\n",
      "\n",
      "STEP  2 / 3  in progress...\n",
      "Readying the solver\n",
      "Using only  16859  of the total  16859  constraints\n",
      "STEP  2 / 3  done.\n",
      "\n",
      "\n",
      "STEP  3 / 3  in progress...\n",
      "Solving now\n",
      "Initialising...\n",
      "min: 5.424254897249465\n",
      "sqrt(5) 2.23606797749979\n",
      "diff is 0.01721359549995798\n",
      "val is 5.424254897249465\n",
      "Total is 2.227285530816138\n",
      "STEP  1 / 3  in progress...\n",
      "Updating observed constraints\n",
      "Observed values; Adding constraints\n",
      "Done.\n",
      "STEP  1 / 3  done.\n",
      "\n",
      "\n",
      "STEP  2 / 3  in progress...\n",
      "Readying the solver\n",
      "Using only  16859  of the total  16859  constraints\n",
      "STEP  2 / 3  done.\n",
      "\n",
      "\n",
      "STEP  3 / 3  in progress...\n",
      "Solving now\n",
      "Initialising...\n",
      "min: 5.598565660537359\n",
      "sqrt(5) 2.23606797749979\n",
      "diff is 0.01721359549995798\n",
      "val is 5.598565660537359\n"
     ]
    }
   ],
   "source": [
    "N=5\n",
    "obsData= [0.43]*5\n",
    "diff = (np.sqrt(5) -2.15)/5.0\n",
    "list1 = np.linspace(0.0, diff, num=50)\n",
    "list2 = []\n",
    "count = 41\n",
    "while count <= 45:\n",
    "    diff1 = list1[count-1]\n",
    "    count = count +1\n",
    "    obsData= [0.43]*5\n",
    "    for i in range(len(obsData)):\n",
    "        obsData[i] = obsData[i] + diff1\n",
    "    tot = sum(obsData)\n",
    "    print(\"Total is\", tot)\n",
    "    val1= sk.solve(constrFrac=1.0,minOnly=True,obsData=obsData)\n",
    "    list2.append(val1)\n",
    "    print(\"diff is\", diff)\n",
    "    print(\"val is\", val1)"
   ]
  },
  {
   "cell_type": "code",
   "execution_count": 13,
   "metadata": {},
   "outputs": [
    {
     "data": {
      "text/latex": [
       "$\\displaystyle \\left[ 4.812260768455694, \\  5.014666587610825, \\  5.227037970722244, \\  5.424254897249465, \\  5.598565660537359\\right]$"
      ],
      "text/plain": [
       "[4.812260768455694, 5.014666587610825, 5.227037970722244, 5.424254897249465, 5\n",
       ".598565660537359]"
      ]
     },
     "execution_count": 13,
     "metadata": {},
     "output_type": "execute_result"
    }
   ],
   "source": [
    "list2"
   ]
  },
  {
   "cell_type": "code",
   "execution_count": 14,
   "metadata": {},
   "outputs": [
    {
     "data": {
      "text/plain": [
       "array([0.        , 0.0003513 , 0.0007026 , 0.00105389, 0.00140519,\n",
       "       0.00175649, 0.00210779, 0.00245909, 0.00281038, 0.00316168,\n",
       "       0.00351298, 0.00386428, 0.00421557, 0.00456687, 0.00491817,\n",
       "       0.00526947, 0.00562077, 0.00597206, 0.00632336, 0.00667466,\n",
       "       0.00702596, 0.00737726, 0.00772855, 0.00807985, 0.00843115,\n",
       "       0.00878245, 0.00913374, 0.00948504, 0.00983634, 0.01018764,\n",
       "       0.01053894, 0.01089023, 0.01124153, 0.01159283, 0.01194413,\n",
       "       0.01229543, 0.01264672, 0.01299802, 0.01334932, 0.01370062,\n",
       "       0.01405191, 0.01440321, 0.01475451, 0.01510581, 0.01545711,\n",
       "       0.0158084 , 0.0161597 , 0.016511  , 0.0168623 , 0.0172136 ])"
      ]
     },
     "execution_count": 14,
     "metadata": {},
     "output_type": "execute_result"
    }
   ],
   "source": [
    "list1"
   ]
  },
  {
   "cell_type": "code",
   "execution_count": 15,
   "metadata": {},
   "outputs": [],
   "source": [
    "import pandas\n",
    "df = pandas.DataFrame(data={\"Fidelity\": list2})\n",
    "df.to_csv(\"./Fid_KCBS_39.csv\", sep=',',index=False)"
   ]
  },
  {
   "cell_type": "code",
   "execution_count": null,
   "metadata": {
    "scrolled": false
   },
   "outputs": [],
   "source": [
    "N=5\n",
    "obsData= [0.4]*5\n",
    "diff = (np.sqrt(5) -2.0)/5.0\n",
    "list1 = np.linspace(0.0, diff, num=50)\n",
    "list2 = []\n",
    "for diff in list1:\n",
    "    for i in range(len(obsData)):\n",
    "        obsData[i] = obsData[i] + diff   \n",
    "    val1= sk.solve(constrFrac=1.0,minOnly=True,obsData=obsData)\n",
    "    list2.append(val1)\n",
    "    print(\"diff is\", diff)\n",
    "    print(\"val is\", val1)"
   ]
  },
  {
   "cell_type": "code",
   "execution_count": null,
   "metadata": {},
   "outputs": [],
   "source": [
    "list2"
   ]
  },
  {
   "cell_type": "code",
   "execution_count": null,
   "metadata": {},
   "outputs": [],
   "source": [
    "list1"
   ]
  },
  {
   "cell_type": "code",
   "execution_count": null,
   "metadata": {},
   "outputs": [],
   "source": [
    "N=5\n",
    "obsData=[np.cos(np.pi / N) / (1 + np.cos(np.pi / N)) for i in range(N) ]\n",
    "\n",
    "list3 = np.linspace(0.001, 0.047, num=30)\n",
    "list4 = []\n",
    "for diff in list1:\n",
    "    for i in range(len(obsData)):\n",
    "        obsData[i] = obsData[i] - diff   \n",
    "    val1= sk.solve(constrFrac=1.0,minOnly=True,obsData=obsData)\n",
    "    list4.append(val1)\n",
    "    print(\"diff is\", diff)\n",
    "    print(\"val is\", val1)"
   ]
  },
  {
   "cell_type": "code",
   "execution_count": null,
   "metadata": {},
   "outputs": [],
   "source": []
  }
 ],
 "metadata": {
  "kernelspec": {
   "display_name": "Python 3",
   "language": "python",
   "name": "python3"
  },
  "language_info": {
   "codemirror_mode": {
    "name": "ipython",
    "version": 3
   },
   "file_extension": ".py",
   "mimetype": "text/x-python",
   "name": "python",
   "nbconvert_exporter": "python",
   "pygments_lexer": "ipython3",
   "version": "3.6.13"
  },
  "toc": {
   "base_numbering": 1,
   "nav_menu": {},
   "number_sections": true,
   "sideBar": true,
   "skip_h1_title": false,
   "title_cell": "Table of Contents",
   "title_sidebar": "Contents",
   "toc_cell": false,
   "toc_position": {
    "height": "calc(100% - 180px)",
    "left": "10px",
    "top": "150px",
    "width": "207px"
   },
   "toc_section_display": true,
   "toc_window_display": true
  }
 },
 "nbformat": 4,
 "nbformat_minor": 2
}
