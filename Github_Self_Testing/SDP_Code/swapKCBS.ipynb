{
 "cells": [
  {
   "cell_type": "markdown",
   "metadata": {},
   "source": [
    "## Import libraries and specify the parameters"
   ]
  },
  {
   "cell_type": "code",
   "execution_count": 2,
   "metadata": {
    "scrolled": false
   },
   "outputs": [
    {
     "name": "stdout",
     "output_type": "stream",
     "text": [
      "STEP  1 / 5  in progress...\n",
      "Initialising Ideal KCBS calculations and performing symbolic computations\n",
      "The testType is 0\n",
      "Creating projectors etc\n",
      "Solving a linear system to find the coefficients for expressing the translation operator as a sum of projectors\n",
      "[{a0: -0.272019649514068, a1: -0.485868271756648, a2: -2.05817102727150, a3: -6.28562544506058e-16, a4: 2.77032771530716, a5: -1.15229372655726, a6: -4.82849874257865, a7: 3.33019067678556, a8: 2.77032771530716}]\n",
      "[{a0: -0.272019649514068, a1: -0.485868271756648, a2: -2.05817102727150, a3: -6.28562544506058e-16, a4: 2.77032771530716, a5: -1.15229372655726, a6: -4.82849874257865, a7: 3.33019067678556, a8: 2.77032771530716}]\n",
      "final substitution\n",
      "{a0: -0.272019649514068, a1: -0.485868271756648, a2: -2.05817102727150, a3: -6.28562544506058e-16, a4: 2.77032771530716, a5: -1.15229372655726, a6: -4.82849874257865, a7: 3.33019067678556, a8: 2.77032771530716, a9: 1}\n",
      "Solving the cross Π\n",
      "[{a0: -1.00000000000000, a1: -1.00000000000000, a2: -2.10343297734178e-15, a3: -1.77094079760213e-15, a4: 4.23606797749979, a5: -4.23606797749979, a6: -4.23606797749979, a7: 2.61803398874990, a8: 2.61803398874990}]\n",
      "[{a0: -1.00000000000000, a1: -1.00000000000000, a2: -2.10343297734178e-15, a3: -1.77094079760213e-15, a4: 4.23606797749979, a5: -4.23606797749979, a6: -4.23606797749979, a7: 2.61803398874990, a8: 2.61803398874990}]\n",
      "final substitution\n",
      "{a0: -1.00000000000000, a1: -1.00000000000000, a2: -2.10343297734178e-15, a3: -1.77094079760213e-15, a4: 4.23606797749979, a5: -4.23606797749979, a6: -4.23606797749979, a7: 2.61803398874990, a8: 2.61803398874990, a9: 1}\n",
      "Evaluating F\n",
      "Evaluating F\n",
      "Evaluated U,T,V; staying alive\n",
      "evaluation stage:\n",
      "1\n",
      "2\n",
      "3\n",
      "4\n",
      "5\n",
      "iteration:  0\n",
      "Evaluated U,T,V; staying alive\n",
      "evaluation stage:\n",
      "1\n",
      "2\n",
      "3\n",
      "4\n",
      "5\n",
      "iteration:  1\n",
      "Evaluated U,T,V; staying alive\n",
      "evaluation stage:\n",
      "1\n",
      "2\n",
      "3\n",
      "4\n",
      "5\n",
      "iteration:  2\n",
      "Evaluated U,T,V; staying alive\n",
      "evaluation stage:\n",
      "1\n",
      "2\n",
      "3\n",
      "4\n",
      "5\n",
      "iteration:  3\n",
      "Evaluated U,T,V; staying alive\n",
      "evaluation stage:\n",
      "1\n",
      "2\n",
      "3\n",
      "4\n",
      "5\n",
      "iteration:  4\n",
      "Evaluated U,T,V; staying alive\n",
      "evaluation stage:\n",
      "1\n",
      "2\n",
      "3\n",
      "4\n",
      "5\n",
      "Saved to disk\n",
      "done\n",
      "STEP  1 / 5  done.\n",
      "\n",
      "\n",
      "STEP  2 / 5  in progress...\n",
      "Preparing: Sympy meets Cvxpy\n",
      "5\n",
      "Fetching the objective\n",
      "[P, Pd]\n",
      "Constructing dictionaries\n",
      "Creating the graph (assumed cyclic for now)\n",
      "Simplifying the objective using the graph\n",
      "Loading from file\n",
      "Failed to load\n",
      "Evaluating\n",
      "Saved to disk\n",
      "[Π_0, Π_1, Π_2, Π_3, Π_4, P, Pd]\n",
      "[Π_2*Π_0, Π_3*Π_0, P*Π_0, Pd*Π_0, Π_3*Π_1, Π_4*Π_1, P*Π_1, Pd*Π_1, Π_0*Π_2, Π_4*Π_2, P*Π_2, Pd*Π_2, Π_0*Π_3, Π_1*Π_3, P*Π_3, Pd*Π_3, Π_1*Π_4, Π_2*Π_4, P*Π_4, Pd*Π_4, Π_0*P, Π_1*P, Π_2*P, Π_3*P, Π_4*P, P**2, Π_0*Pd, Π_1*Pd, Π_2*Pd, Π_3*Pd, Π_4*Pd, Pd**2, Π_0*Π_2*Π_0, Π_4*Π_2*Π_0, P*Π_2*Π_0, Pd*Π_2*Π_0, Π_0*Π_3*Π_0, Π_1*Π_3*Π_0, P*Π_3*Π_0, Pd*Π_3*Π_0, Π_0*P*Π_0, Π_1*P*Π_0, Π_2*P*Π_0, Π_3*P*Π_0, Π_4*P*Π_0, P**2*Π_0, Π_0*Pd*Π_0, Π_1*Pd*Π_0, Π_2*Pd*Π_0, Π_3*Pd*Π_0, Π_4*Pd*Π_0, Pd**2*Π_0, Π_0*Π_3*Π_1, Π_1*Π_3*Π_1, P*Π_3*Π_1, Pd*Π_3*Π_1, Π_1*Π_4*Π_1, Π_2*Π_4*Π_1, P*Π_4*Π_1, Pd*Π_4*Π_1, Π_0*P*Π_1, Π_1*P*Π_1, Π_2*P*Π_1, Π_3*P*Π_1, Π_4*P*Π_1, P**2*Π_1, Π_0*Pd*Π_1, Π_1*Pd*Π_1, Π_2*Pd*Π_1, Π_3*Pd*Π_1, Π_4*Pd*Π_1, Pd**2*Π_1, Π_2*Π_0*Π_2, Π_3*Π_0*Π_2, P*Π_0*Π_2, Pd*Π_0*Π_2, Π_1*Π_4*Π_2, Π_2*Π_4*Π_2, P*Π_4*Π_2, Pd*Π_4*Π_2, Π_0*P*Π_2, Π_1*P*Π_2, Π_2*P*Π_2, Π_3*P*Π_2, Π_4*P*Π_2, P**2*Π_2, Π_0*Pd*Π_2, Π_1*Pd*Π_2, Π_2*Pd*Π_2, Π_3*Pd*Π_2, Π_4*Pd*Π_2, Pd**2*Π_2, Π_2*Π_0*Π_3, Π_3*Π_0*Π_3, P*Π_0*Π_3, Pd*Π_0*Π_3, Π_3*Π_1*Π_3, Π_4*Π_1*Π_3, P*Π_1*Π_3, Pd*Π_1*Π_3, Π_0*P*Π_3, Π_1*P*Π_3, Π_2*P*Π_3, Π_3*P*Π_3, Π_4*P*Π_3, P**2*Π_3, Π_0*Pd*Π_3, Π_1*Pd*Π_3, Π_2*Pd*Π_3, Π_3*Pd*Π_3, Π_4*Pd*Π_3, Pd**2*Π_3, Π_3*Π_1*Π_4, Π_4*Π_1*Π_4, P*Π_1*Π_4, Pd*Π_1*Π_4, Π_0*Π_2*Π_4, Π_4*Π_2*Π_4, P*Π_2*Π_4, Pd*Π_2*Π_4, Π_0*P*Π_4, Π_1*P*Π_4, Π_2*P*Π_4, Π_3*P*Π_4, Π_4*P*Π_4, P**2*Π_4, Π_0*Pd*Π_4, Π_1*Pd*Π_4, Π_2*Pd*Π_4, Π_3*Pd*Π_4, Π_4*Pd*Π_4, Pd**2*Π_4, Π_2*Π_0*P, Π_3*Π_0*P, P*Π_0*P, Pd*Π_0*P, Π_3*Π_1*P, Π_4*Π_1*P, P*Π_1*P, Pd*Π_1*P, Π_0*Π_2*P, Π_4*Π_2*P, P*Π_2*P, Pd*Π_2*P, Π_0*Π_3*P, Π_1*Π_3*P, P*Π_3*P, Pd*Π_3*P, Π_1*Π_4*P, Π_2*Π_4*P, P*Π_4*P, Pd*Π_4*P, Π_0*P**2, Π_1*P**2, Π_2*P**2, Π_3*P**2, Π_4*P**2, P**3, Π_2*Π_0*Pd, Π_3*Π_0*Pd, P*Π_0*Pd, Pd*Π_0*Pd, Π_3*Π_1*Pd, Π_4*Π_1*Pd, P*Π_1*Pd, Pd*Π_1*Pd, Π_0*Π_2*Pd, Π_4*Π_2*Pd, P*Π_2*Pd, Pd*Π_2*Pd, Π_0*Π_3*Pd, Π_1*Π_3*Pd, P*Π_3*Pd, Pd*Π_3*Pd, Π_1*Π_4*Pd, Π_2*Π_4*Pd, P*Π_4*Pd, Pd*Π_4*Pd, Π_0*Pd**2, Π_1*Pd**2, Π_2*Pd**2, Π_3*Pd**2, Π_4*Pd**2, Pd**3]\n",
      "STEP  2 / 5  done.\n",
      "\n",
      "\n",
      "STEP  3 / 5  in progress...\n",
      "Adding constraints from QM to the SDP variables\n",
      "Loading from file cached_4_9/with5lSave_4_testType_0_hDepth_3_lenL_192_locDepth2_usePs_True\n",
      "Evaluating constraints\n",
      "[1, Π_0, Π_1, Π_2, Π_3, Π_4, P, Pd, Π_2*Π_0, Π_3*Π_0, P*Π_0, Pd*Π_0, Π_3*Π_1, Π_4*Π_1, P*Π_1, Pd*Π_1, Π_0*Π_2, Π_4*Π_2, P*Π_2, Pd*Π_2, Π_0*Π_3, Π_1*Π_3, P*Π_3, Pd*Π_3, Π_1*Π_4, Π_2*Π_4, P*Π_4, Pd*Π_4, Π_0*P, Π_1*P, Π_2*P, Π_3*P, Π_4*P, P**2, Π_0*Pd, Π_1*Pd, Π_2*Pd, Π_3*Pd, Π_4*Pd, Pd**2]\n",
      "Adding constraints from Quantum Mechanics\n",
      "Row of  1\n",
      "Row of  Π_0\n",
      "Row of  Π_1\n",
      "Row of  Π_2\n",
      "Row of  Π_3\n",
      "Row of  Π_4\n",
      "Row of  P\n",
      "Row of  Pd\n",
      "Row of  Π_2*Π_0\n",
      "Row of  Π_3*Π_0\n",
      "Row of  P*Π_0\n",
      "Row of  Pd*Π_0\n",
      "Row of  Π_3*Π_1\n",
      "Row of  Π_4*Π_1\n",
      "Row of  P*Π_1\n",
      "Row of  Pd*Π_1\n",
      "Row of  Π_0*Π_2\n",
      "Row of  Π_4*Π_2\n",
      "Row of  P*Π_2\n",
      "Row of  Pd*Π_2\n",
      "Row of  Π_0*Π_3\n",
      "Row of  Π_1*Π_3\n",
      "Row of  P*Π_3\n",
      "Row of  Pd*Π_3\n",
      "Row of  Π_1*Π_4\n",
      "Row of  Π_2*Π_4\n",
      "Row of  P*Π_4\n",
      "Row of  Pd*Π_4\n",
      "Row of  Π_0*P\n",
      "Row of  Π_1*P\n",
      "Row of  Π_2*P\n",
      "Row of  Π_3*P\n",
      "Row of  Π_4*P\n",
      "Row of  P**2\n",
      "Row of  Π_0*Pd\n",
      "Row of  Π_1*Pd\n",
      "Row of  Π_2*Pd\n",
      "Row of  Π_3*Pd\n",
      "Row of  Π_4*Pd\n",
      "Row of  Pd**2\n",
      "Row of  Π_0*Π_2*Π_0\n",
      "Row of  Π_4*Π_2*Π_0\n",
      "Row of  P*Π_2*Π_0\n",
      "Row of  Pd*Π_2*Π_0\n",
      "Row of  Π_0*Π_3*Π_0\n",
      "Row of  Π_1*Π_3*Π_0\n",
      "Row of  P*Π_3*Π_0\n",
      "Row of  Pd*Π_3*Π_0\n",
      "Row of  Π_0*P*Π_0\n",
      "Row of  Π_1*P*Π_0\n",
      "Row of  Π_2*P*Π_0\n",
      "Row of  Π_3*P*Π_0\n",
      "Row of  Π_4*P*Π_0\n",
      "Row of  P**2*Π_0\n",
      "Row of  Π_0*Pd*Π_0\n",
      "Row of  Π_1*Pd*Π_0\n",
      "Row of  Π_2*Pd*Π_0\n",
      "Row of  Π_3*Pd*Π_0\n",
      "Row of  Π_4*Pd*Π_0\n",
      "Row of  Pd**2*Π_0\n",
      "Row of  Π_0*Π_3*Π_1\n",
      "Row of  Π_1*Π_3*Π_1\n",
      "Row of  P*Π_3*Π_1\n",
      "Row of  Pd*Π_3*Π_1\n",
      "Row of  Π_1*Π_4*Π_1\n",
      "Row of  Π_2*Π_4*Π_1\n",
      "Row of  P*Π_4*Π_1\n",
      "Row of  Pd*Π_4*Π_1\n",
      "Row of  Π_0*P*Π_1\n",
      "Row of  Π_1*P*Π_1\n",
      "Row of  Π_2*P*Π_1\n",
      "Row of  Π_3*P*Π_1\n",
      "Row of  Π_4*P*Π_1\n",
      "Row of  P**2*Π_1\n",
      "Row of  Π_0*Pd*Π_1\n",
      "Row of  Π_1*Pd*Π_1\n",
      "Row of  Π_2*Pd*Π_1\n",
      "Row of  Π_3*Pd*Π_1\n",
      "Row of  Π_4*Pd*Π_1\n",
      "Row of  Pd**2*Π_1\n",
      "Row of  Π_2*Π_0*Π_2\n",
      "Row of  Π_3*Π_0*Π_2\n",
      "Row of  P*Π_0*Π_2\n",
      "Row of  Pd*Π_0*Π_2\n",
      "Row of  Π_1*Π_4*Π_2\n",
      "Row of  Π_2*Π_4*Π_2\n",
      "Row of  P*Π_4*Π_2\n",
      "Row of  Pd*Π_4*Π_2\n",
      "Row of  Π_0*P*Π_2\n",
      "Row of  Π_1*P*Π_2\n",
      "Row of  Π_2*P*Π_2\n",
      "Row of  Π_3*P*Π_2\n",
      "Row of  Π_4*P*Π_2\n",
      "Row of  P**2*Π_2\n",
      "Row of  Π_0*Pd*Π_2\n",
      "Row of  Π_1*Pd*Π_2\n",
      "Row of  Π_2*Pd*Π_2\n",
      "Row of  Π_3*Pd*Π_2\n",
      "Row of  Π_4*Pd*Π_2\n",
      "Row of  Pd**2*Π_2\n",
      "Row of  Π_2*Π_0*Π_3\n",
      "Row of  Π_3*Π_0*Π_3\n",
      "Row of  P*Π_0*Π_3\n",
      "Row of  Pd*Π_0*Π_3\n",
      "Row of  Π_3*Π_1*Π_3\n",
      "Row of  Π_4*Π_1*Π_3\n",
      "Row of  P*Π_1*Π_3\n",
      "Row of  Pd*Π_1*Π_3\n",
      "Row of  Π_0*P*Π_3\n",
      "Row of  Π_1*P*Π_3\n",
      "Row of  Π_2*P*Π_3\n",
      "Row of  Π_3*P*Π_3\n",
      "Row of  Π_4*P*Π_3\n",
      "Row of  P**2*Π_3\n",
      "Row of  Π_0*Pd*Π_3\n",
      "Row of  Π_1*Pd*Π_3\n",
      "Row of  Π_2*Pd*Π_3\n",
      "Row of  Π_3*Pd*Π_3\n",
      "Row of  Π_4*Pd*Π_3\n",
      "Row of  Pd**2*Π_3\n",
      "Row of  Π_3*Π_1*Π_4\n",
      "Row of  Π_4*Π_1*Π_4\n",
      "Row of  P*Π_1*Π_4\n",
      "Row of  Pd*Π_1*Π_4\n",
      "Row of  Π_0*Π_2*Π_4\n",
      "Row of  Π_4*Π_2*Π_4\n",
      "Row of  P*Π_2*Π_4\n",
      "Row of  Pd*Π_2*Π_4\n",
      "Row of  Π_0*P*Π_4\n",
      "Row of  Π_1*P*Π_4\n",
      "Row of  Π_2*P*Π_4\n",
      "Row of  Π_3*P*Π_4\n",
      "Row of  Π_4*P*Π_4\n",
      "Row of  P**2*Π_4\n",
      "Row of  Π_0*Pd*Π_4\n",
      "Row of  Π_1*Pd*Π_4\n",
      "Row of  Π_2*Pd*Π_4\n",
      "Row of  Π_3*Pd*Π_4\n",
      "Row of  Π_4*Pd*Π_4\n",
      "Row of  Pd**2*Π_4\n",
      "Row of  Π_2*Π_0*P\n",
      "Row of  Π_3*Π_0*P\n",
      "Row of  P*Π_0*P\n",
      "Row of  Pd*Π_0*P\n",
      "Row of  Π_3*Π_1*P\n",
      "Row of  Π_4*Π_1*P\n",
      "Row of  P*Π_1*P\n",
      "Row of  Pd*Π_1*P\n",
      "Row of  Π_0*Π_2*P\n",
      "Row of  Π_4*Π_2*P\n",
      "Row of  P*Π_2*P\n",
      "Row of  Pd*Π_2*P\n",
      "Row of  Π_0*Π_3*P\n",
      "Row of  Π_1*Π_3*P\n",
      "Row of  P*Π_3*P\n",
      "Row of  Pd*Π_3*P\n",
      "Row of  Π_1*Π_4*P\n",
      "Row of  Π_2*Π_4*P\n",
      "Row of  P*Π_4*P\n",
      "Row of  Pd*Π_4*P\n",
      "Row of  Π_0*P**2\n",
      "Row of  Π_1*P**2\n",
      "Row of  Π_2*P**2\n",
      "Row of  Π_3*P**2\n",
      "Row of  Π_4*P**2\n",
      "Row of  P**3\n",
      "Row of  Π_2*Π_0*Pd\n",
      "Row of  Π_3*Π_0*Pd\n",
      "Row of  P*Π_0*Pd\n",
      "Row of  Pd*Π_0*Pd\n",
      "Row of  Π_3*Π_1*Pd\n",
      "Row of  Π_4*Π_1*Pd\n",
      "Row of  P*Π_1*Pd\n",
      "Row of  Pd*Π_1*Pd\n",
      "Row of  Π_0*Π_2*Pd\n",
      "Row of  Π_4*Π_2*Pd\n",
      "Row of  P*Π_2*Pd\n",
      "Row of  Pd*Π_2*Pd\n",
      "Row of  Π_0*Π_3*Pd\n",
      "Row of  Π_1*Π_3*Pd\n",
      "Row of  P*Π_3*Pd\n",
      "Row of  Pd*Π_3*Pd\n",
      "Row of  Π_1*Π_4*Pd\n",
      "Row of  Π_2*Π_4*Pd\n",
      "Row of  P*Π_4*Pd\n",
      "Row of  Pd*Π_4*Pd\n",
      "Row of  Π_0*Pd**2\n",
      "Row of  Π_1*Pd**2\n",
      "Row of  Π_2*Pd**2\n",
      "Row of  Π_3*Pd**2\n",
      "Row of  Π_4*Pd**2\n",
      "Row of  Pd**3\n"
     ]
    },
    {
     "name": "stdout",
     "output_type": "stream",
     "text": [
      "Π_4 * Π_4*Π_2*Π_0 = 1 * Π_4*Π_2*Π_0\n",
      "Added a new constraint\n"
     ]
    },
    {
     "data": {
      "text/latex": [
       "$\\displaystyle Π_{0} Π_{2} Π_{0} Pd$"
      ],
      "text/plain": [
       "Π₀⋅Π₂⋅Π₀⋅Pd"
      ]
     },
     "metadata": {},
     "output_type": "display_data"
    },
    {
     "name": "stdout",
     "output_type": "stream",
     "text": [
      "Added a new constraint\n"
     ]
    },
    {
     "data": {
      "text/latex": [
       "$\\displaystyle P Π_{3} Π_{1} Π_{4}$"
      ],
      "text/plain": [
       "P⋅Π₃⋅Π₁⋅Π₄"
      ]
     },
     "metadata": {},
     "output_type": "display_data"
    },
    {
     "name": "stdout",
     "output_type": "stream",
     "text": [
      "Added a new constraint\n"
     ]
    },
    {
     "data": {
      "text/latex": [
       "$\\displaystyle P Π_{4} Π_{1}$"
      ],
      "text/plain": [
       "P⋅Π₄⋅Π₁"
      ]
     },
     "metadata": {},
     "output_type": "display_data"
    },
    {
     "name": "stdout",
     "output_type": "stream",
     "text": [
      "done\n",
      "Constraints 16859\n",
      "SDP var415[0, 0:192]\n",
      "Localising matrix constraints...\n",
      "on row: 1\n",
      "on row: Π_0\n",
      "on row: Π_1\n",
      "on row: Π_2\n",
      "on row: Π_3\n",
      "on row: Π_4\n",
      "on row: P\n",
      "on row: Pd\n",
      "on row: Π_2*Π_0\n",
      "on row: Π_3*Π_0\n",
      "on row: P*Π_0\n",
      "on row: Pd*Π_0\n",
      "on row: Π_3*Π_1\n",
      "on row: Π_4*Π_1\n",
      "on row: P*Π_1\n",
      "on row: Pd*Π_1\n",
      "on row: Π_0*Π_2\n",
      "on row: Π_4*Π_2\n",
      "on row: P*Π_2\n",
      "on row: Pd*Π_2\n",
      "on row: Π_0*Π_3\n",
      "on row: Π_1*Π_3\n",
      "on row: P*Π_3\n",
      "on row: Pd*Π_3\n",
      "on row: Π_1*Π_4\n",
      "on row: Π_2*Π_4\n",
      "on row: P*Π_4\n",
      "on row: Pd*Π_4\n",
      "on row: Π_0*P\n",
      "on row: Π_1*P\n",
      "on row: Π_2*P\n",
      "on row: Π_3*P\n",
      "on row: Π_4*P\n",
      "on row: P**2\n",
      "on row: Π_0*Pd\n",
      "on row: Π_1*Pd\n",
      "on row: Π_2*Pd\n",
      "on row: Π_3*Pd\n",
      "on row: Π_4*Pd\n",
      "on row: Pd**2\n",
      "Saved to disk\n",
      "STEP  3 / 5  done.\n",
      "\n",
      "\n",
      "STEP  4 / 5  in progress...\n",
      "Creating the objective in terms of the SDP variables\n",
      "Constructing the SDP objective from the symbolic objective\n",
      "Done\n",
      "STEP  4 / 5  done.\n",
      "\n",
      "\n",
      "STEP  5 / 5  in progress...\n",
      "Adding observed constraints\n",
      "Observed values; Adding constraints\n",
      "Done.\n",
      "STEP  5 / 5  done.\n",
      "\n",
      "\n"
     ]
    },
    {
     "data": {
      "image/png": "[encoded data removed]",
      "text/plain": [
       "<Figure size 432x288 with 1 Axes>"
      ]
     },
     "metadata": {},
     "output_type": "display_data"
    }
   ],
   "source": [
    "import import_ipynb #to enable importing from notebooks\n",
    "import mSwapKCBS as sk \n",
    "import numpy as np\n",
    "#testType:2 #state only\n",
    "#testType:0 #full\n",
    "#testType:1 #KCBS objective\n",
    "\n",
    "sk.globalSettings({'cacheFolder':'cached_4_9/','N':5,'testType':0,'hDepth':3,'locMatDepth':2,'solverSettings':{'verbose':False, 'solver':sk.cp.SCS}})\n",
    "sk.init()"
   ]
  },
  {
   "cell_type": "markdown",
   "metadata": {},
   "source": [
    "## Input data"
   ]
  },
  {
   "cell_type": "code",
   "execution_count": 3,
   "metadata": {
    "scrolled": false
   },
   "outputs": [
    {
     "name": "stdout",
     "output_type": "stream",
     "text": [
      "Total is 2.23606797749979\n",
      "Total is 2.23606797749979\n",
      "Total is 2.23606797749979\n",
      "Total is 2.23606797749979\n",
      "Total is 2.23606797749979\n"
     ]
    }
   ],
   "source": [
    "N=5\n",
    "obsData= [0.43]*5\n",
    "diff = (np.sqrt(5) -2.15)/5.0\n",
    "list1 = np.linspace(0.0, diff, num=50)\n",
    "list2 = []\n",
    "for it in range(5):\n",
    "    diff1 = list1[it]\n",
    "    obsData= [0.43]*5\n",
    "    for i in range(len(obsData)):\n",
    "        obsData[i] = obsData[i] + diff \n",
    "    tot = sum(obsData)\n",
    "    print(\"Total is\", tot)\n",
    "    # val1= sk.solve(constrFrac=1.0,minOnly=True,obsData=obsData)\n",
    "    # list2.append(val1)\n",
    "    # print(\"diff is\", diff)\n",
    "    # print(\"val is\", val1)"
   ]
  },
  {
   "cell_type": "code",
   "execution_count": null,
   "metadata": {},
   "outputs": [
    {
     "name": "stdout",
     "output_type": "stream",
     "text": [
      "STEP  1 / 3  in progress...\n",
      "Updating observed constraints\n",
      "Observed values; Adding constraints\n",
      "Done.\n",
      "STEP  1 / 3  done.\n",
      "\n",
      "\n",
      "STEP  2 / 3  in progress...\n",
      "Readying the solver\n",
      "Using only  16859  of the total  16859  constraints\n",
      "STEP  2 / 3  done.\n",
      "\n",
      "\n",
      "STEP  3 / 3  in progress...\n",
      "Solving now\n",
      "Initialising...\n"
     ]
    }
   ],
   "source": [
    "sk.solve(constrFrac=1.0,minOnly=True,obsData=[0.4,0.4,0.4,0.4,0.4])"
   ]
  },
  {
   "cell_type": "code",
   "execution_count": 4,
   "metadata": {},
   "outputs": [
    {
     "data": {
      "text/latex": [
       "$\\displaystyle \\left[ 2.0378734542869332, \\  2.05133666324123, \\  2.079536800910304, \\  2.1254468890775007, \\  2.1949988416833617, \\  2.2998532497110347, \\  2.463121690138448, \\  2.7324257573836026, \\  3.230362329455949, \\  4.510323652010944, \\  inf, \\  inf, \\  inf, \\  inf, \\  inf, \\  inf, \\  inf, \\  inf, \\  inf, \\  inf, \\  inf, \\  inf, \\  inf, \\  inf, \\  inf, \\  inf, \\  inf, \\  inf, \\  inf, \\  inf, \\  inf, \\  inf, \\  inf, \\  inf, \\  inf, \\  inf, \\  inf, \\  inf, \\  inf, \\  inf, \\  inf, \\  inf, \\  inf, \\  inf, \\  inf, \\  inf, \\  inf, \\  inf, \\  inf, \\  inf\\right]$"
      ],
      "text/plain": [
       "[2.0378734542869332, 2.05133666324123, 2.079536800910304, 2.1254468890775007, \n",
       "2.1949988416833617, 2.2998532497110347, 2.463121690138448, 2.7324257573836026,\n",
       " 3.230362329455949, 4.510323652010944, inf, inf, inf, inf, inf, inf, inf, inf,\n",
       " inf, inf, inf, inf, inf, inf, inf, inf, inf, inf, inf, inf, inf, inf, inf, in\n",
       "f, inf, inf, inf, inf, inf, inf, inf, inf, inf, inf, inf, inf, inf, inf, inf, \n",
       "inf]"
      ]
     },
     "execution_count": 4,
     "metadata": {},
     "output_type": "execute_result"
    }
   ],
   "source": [
    "list2"
   ]
  },
  {
   "cell_type": "code",
   "execution_count": 5,
   "metadata": {},
   "outputs": [
    {
     "data": {
      "text/plain": [
       "array([0.        , 0.00096354, 0.00192709, 0.00289063, 0.00385417,\n",
       "       0.00481771, 0.00578126, 0.0067448 , 0.00770834, 0.00867188,\n",
       "       0.00963543, 0.01059897, 0.01156251, 0.01252606, 0.0134896 ,\n",
       "       0.01445314, 0.01541668, 0.01638023, 0.01734377, 0.01830731,\n",
       "       0.01927086, 0.0202344 , 0.02119794, 0.02216148, 0.02312503,\n",
       "       0.02408857, 0.02505211, 0.02601565, 0.0269792 , 0.02794274,\n",
       "       0.02890628, 0.02986983, 0.03083337, 0.03179691, 0.03276045,\n",
       "       0.033724  , 0.03468754, 0.03565108, 0.03661463, 0.03757817,\n",
       "       0.03854171, 0.03950525, 0.0404688 , 0.04143234, 0.04239588,\n",
       "       0.04335942, 0.04432297, 0.04528651, 0.04625005, 0.0472136 ])"
      ]
     },
     "execution_count": 5,
     "metadata": {},
     "output_type": "execute_result"
    }
   ],
   "source": [
    "list1"
   ]
  },
  {
   "cell_type": "code",
   "execution_count": 6,
   "metadata": {},
   "outputs": [],
   "source": [
    "import pandas\n",
    "df = pandas.DataFrame(data={\"Deviaton\": list1, \"Fidelity\": list2})\n",
    "df.to_csv(\"./Fid_KCBS_1.csv\", sep=',',index=False)"
   ]
  },
  {
   "cell_type": "code",
   "execution_count": 7,
   "metadata": {
    "scrolled": false
   },
   "outputs": [
    {
     "name": "stdout",
     "output_type": "stream",
     "text": [
      "STEP  1 / 3  in progress...\n",
      "Updating observed constraints\n",
      "Observed values; Adding constraints\n",
      "Done.\n",
      "STEP  1 / 3  done.\n",
      "\n",
      "\n",
      "STEP  2 / 3  in progress...\n",
      "Readying the solver\n",
      "Using only  16859  of the total  16859  constraints\n",
      "STEP  2 / 3  done.\n",
      "\n",
      "\n",
      "STEP  3 / 3  in progress...\n",
      "Solving now\n",
      "Initialising...\n",
      "min: 5.995234867570599\n",
      "sqrt(5) 2.23606797749979\n",
      "diff is 0.00022448979591836734\n",
      "val is 5.995234867570599\n",
      "STEP  1 / 3  in progress...\n",
      "Updating observed constraints\n",
      "Observed values; Adding constraints\n",
      "Done.\n",
      "STEP  1 / 3  done.\n",
      "\n",
      "\n",
      "STEP  2 / 3  in progress...\n",
      "Readying the solver\n",
      "Using only  16859  of the total  16859  constraints\n",
      "STEP  2 / 3  done.\n",
      "\n",
      "\n",
      "STEP  3 / 3  in progress...\n",
      "Solving now\n",
      "Initialising...\n",
      "min: 5.990414599089788\n",
      "sqrt(5) 2.23606797749979\n",
      "diff is 0.00025123152709359607\n",
      "val is 5.990414599089788\n",
      "STEP  1 / 3  in progress...\n",
      "Updating observed constraints\n",
      "Observed values; Adding constraints\n",
      "Done.\n",
      "STEP  1 / 3  done.\n",
      "\n",
      "\n",
      "STEP  2 / 3  in progress...\n",
      "Readying the solver\n",
      "Using only  16859  of the total  16859  constraints\n",
      "STEP  2 / 3  done.\n",
      "\n",
      "\n",
      "STEP  3 / 3  in progress...\n",
      "Solving now\n",
      "Initialising...\n",
      "min: 5.981022474301778\n",
      "sqrt(5) 2.23606797749979\n",
      "diff is 0.0002779732582688248\n",
      "val is 5.981022474301778\n",
      "STEP  1 / 3  in progress...\n",
      "Updating observed constraints\n",
      "Observed values; Adding constraints\n",
      "Done.\n",
      "STEP  1 / 3  done.\n",
      "\n",
      "\n",
      "STEP  2 / 3  in progress...\n",
      "Readying the solver\n",
      "Using only  16859  of the total  16859  constraints\n",
      "STEP  2 / 3  done.\n",
      "\n",
      "\n",
      "STEP  3 / 3  in progress...\n",
      "Solving now\n",
      "Initialising...\n",
      "Failure:Interrupted\n",
      "min: Couldn't solve\n"
     ]
    },
    {
     "ename": "UnboundLocalError",
     "evalue": "local variable 'minVal' referenced before assignment",
     "output_type": "error",
     "traceback": [
      "\u001b[0;31m---------------------------------------------------------------------------\u001b[0m",
      "\u001b[0;31mUnboundLocalError\u001b[0m                         Traceback (most recent call last)",
      "\u001b[0;32m<ipython-input-7-25c44e319f14>\u001b[0m in \u001b[0;36m<module>\u001b[0;34m\u001b[0m\n\u001b[1;32m      7\u001b[0m     \u001b[0;32mfor\u001b[0m \u001b[0mi\u001b[0m \u001b[0;32min\u001b[0m \u001b[0mrange\u001b[0m\u001b[0;34m(\u001b[0m\u001b[0mlen\u001b[0m\u001b[0;34m(\u001b[0m\u001b[0mobsData\u001b[0m\u001b[0;34m)\u001b[0m\u001b[0;34m)\u001b[0m\u001b[0;34m:\u001b[0m\u001b[0;34m\u001b[0m\u001b[0;34m\u001b[0m\u001b[0m\n\u001b[1;32m      8\u001b[0m         \u001b[0mobsData\u001b[0m\u001b[0;34m[\u001b[0m\u001b[0mi\u001b[0m\u001b[0;34m]\u001b[0m \u001b[0;34m=\u001b[0m \u001b[0mobsData\u001b[0m\u001b[0;34m[\u001b[0m\u001b[0mi\u001b[0m\u001b[0;34m]\u001b[0m \u001b[0;34m-\u001b[0m \u001b[0mdiff\u001b[0m\u001b[0;34m\u001b[0m\u001b[0;34m\u001b[0m\u001b[0m\n\u001b[0;32m----> 9\u001b[0;31m     \u001b[0mval1\u001b[0m\u001b[0;34m=\u001b[0m \u001b[0msk\u001b[0m\u001b[0;34m.\u001b[0m\u001b[0msolve\u001b[0m\u001b[0;34m(\u001b[0m\u001b[0mconstrFrac\u001b[0m\u001b[0;34m=\u001b[0m\u001b[0;36m1.0\u001b[0m\u001b[0;34m,\u001b[0m\u001b[0mminOnly\u001b[0m\u001b[0;34m=\u001b[0m\u001b[0;32mTrue\u001b[0m\u001b[0;34m,\u001b[0m\u001b[0mobsData\u001b[0m\u001b[0;34m=\u001b[0m\u001b[0mobsData\u001b[0m\u001b[0;34m)\u001b[0m\u001b[0;34m\u001b[0m\u001b[0;34m\u001b[0m\u001b[0m\n\u001b[0m\u001b[1;32m     10\u001b[0m     \u001b[0mlist2\u001b[0m\u001b[0;34m.\u001b[0m\u001b[0mappend\u001b[0m\u001b[0;34m(\u001b[0m\u001b[0mval1\u001b[0m\u001b[0;34m)\u001b[0m\u001b[0;34m\u001b[0m\u001b[0;34m\u001b[0m\u001b[0m\n\u001b[1;32m     11\u001b[0m     \u001b[0mprint\u001b[0m\u001b[0;34m(\u001b[0m\u001b[0;34m\"diff is\"\u001b[0m\u001b[0;34m,\u001b[0m \u001b[0mdiff\u001b[0m\u001b[0;34m)\u001b[0m\u001b[0;34m\u001b[0m\u001b[0;34m\u001b[0m\u001b[0m\n",
      "\u001b[0;32m~/Documents/Kishor_Projects/swapKCBS/swapUpgrade_0v3/mSwapKCBS.ipynb\u001b[0m in \u001b[0;36msolve\u001b[0;34m(obsData, constrFrac, locFrac, minOnly)\u001b[0m\n",
      "\u001b[0;32m~/Documents/Kishor_Projects/swapKCBS/swapUpgrade_0v3/mSwapKCBS.ipynb\u001b[0m in \u001b[0;36msolve_SDP\u001b[0;34m(minOnly)\u001b[0m\n",
      "\u001b[0;31mUnboundLocalError\u001b[0m: local variable 'minVal' referenced before assignment"
     ]
    }
   ],
   "source": [
    "N=5\n",
    "obsData=[np.cos(np.pi / N) / (1 + np.cos(np.pi / N)) for i in range(N) ]\n",
    "\n",
    "list1 = np.linspace(0.00022448979591836734, 0.001, num=30)\n",
    "list2 = []\n",
    "for diff in list1:\n",
    "    for i in range(len(obsData)):\n",
    "        obsData[i] = obsData[i] - diff   \n",
    "    val1= sk.solve(constrFrac=1.0,minOnly=True,obsData=obsData)\n",
    "    list2.append(val1)\n",
    "    print(\"diff is\", diff)\n",
    "    print(\"val is\", val1)"
   ]
  },
  {
   "cell_type": "code",
   "execution_count": null,
   "metadata": {},
   "outputs": [],
   "source": [
    "list2"
   ]
  },
  {
   "cell_type": "code",
   "execution_count": null,
   "metadata": {},
   "outputs": [],
   "source": [
    "list1"
   ]
  },
  {
   "cell_type": "code",
   "execution_count": null,
   "metadata": {},
   "outputs": [],
   "source": [
    "N=5\n",
    "obsData=[np.cos(np.pi / N) / (1 + np.cos(np.pi / N)) for i in range(N) ]\n",
    "\n",
    "list3 = np.linspace(0.001, 0.047, num=30)\n",
    "list4 = []\n",
    "for diff in list1:\n",
    "    for i in range(len(obsData)):\n",
    "        obsData[i] = obsData[i] - diff   \n",
    "    val1= sk.solve(constrFrac=1.0,minOnly=True,obsData=obsData)\n",
    "    list4.append(val1)\n",
    "    print(\"diff is\", diff)\n",
    "    print(\"val is\", val1)"
   ]
  },
  {
   "cell_type": "code",
   "execution_count": null,
   "metadata": {},
   "outputs": [],
   "source": [
    "N=5\n",
    "obsData=[np.cos(np.pi / N) / (1 + np.cos(np.pi / N)) for i in range(N) ]"
   ]
  },
  {
   "cell_type": "code",
   "execution_count": null,
   "metadata": {},
   "outputs": [],
   "source": [
    "obsData"
   ]
  },
  {
   "cell_type": "code",
   "execution_count": null,
   "metadata": {},
   "outputs": [],
   "source": [
    "1/np.sqrt(5)"
   ]
  },
  {
   "cell_type": "code",
   "execution_count": null,
   "metadata": {},
   "outputs": [],
   "source": []
  }
 ],
 "metadata": {
  "kernelspec": {
   "display_name": "Python 3 (ipykernel)",
   "language": "python",
   "name": "python3"
  },
  "language_info": {
   "codemirror_mode": {
    "name": "ipython",
    "version": 3
   },
   "file_extension": ".py",
   "mimetype": "text/x-python",
   "name": "python",
   "nbconvert_exporter": "python",
   "pygments_lexer": "ipython3",
   "version": "3.9.7"
  },
  "latex_envs": {
   "LaTeX_envs_menu_present": true,
   "autoclose": false,
   "autocomplete": true,
   "bibliofile": "biblio.bib",
   "cite_by": "apalike",
   "current_citInitial": 1,
   "eqLabelWithNumbers": true,
   "eqNumInitial": 1,
   "hotkeys": {
    "equation": "Ctrl-E",
    "itemize": "Ctrl-I"
   },
   "labels_anchors": false,
   "latex_user_defs": false,
   "report_style_numbering": false,
   "user_envs_cfg": false
  },
  "toc": {
   "base_numbering": 1,
   "nav_menu": {},
   "number_sections": true,
   "sideBar": true,
   "skip_h1_title": false,
   "title_cell": "Table of Contents",
   "title_sidebar": "Contents",
   "toc_cell": false,
   "toc_position": {
    "height": "calc(100% - 180px)",
    "left": "10px",
    "top": "150px",
    "width": "207px"
   },
   "toc_section_display": true,
   "toc_window_display": true
  }
 },
 "nbformat": 4,
 "nbformat_minor": 2
}
