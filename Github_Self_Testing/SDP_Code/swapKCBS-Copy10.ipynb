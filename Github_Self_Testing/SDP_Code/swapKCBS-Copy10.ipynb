{
 "cells": [
  {
   "cell_type": "markdown",
   "metadata": {},
   "source": [
    "## Import libraries and specify the parameters"
   ]
  },
  {
   "cell_type": "code",
   "execution_count": 1,
   "metadata": {
    "scrolled": false
   },
   "outputs": [
    {
     "name": "stdout",
     "output_type": "stream",
     "text": [
      "importing Jupyter notebook from mSwapKCBS.ipynb\n"
     ]
    },
    {
     "ename": "ModuleNotFoundError",
     "evalue": "No module named 'cvxpy'",
     "output_type": "error",
     "traceback": [
      "\u001b[0;31m---------------------------------------------------------------------------\u001b[0m",
      "\u001b[0;31mModuleNotFoundError\u001b[0m                       Traceback (most recent call last)",
      "\u001b[0;32m/var/folders/zs/k_mm60k52v9829s0xv82bmzw0000gn/T/ipykernel_49986/2693958573.py\u001b[0m in \u001b[0;36m<module>\u001b[0;34m\u001b[0m\n\u001b[1;32m      1\u001b[0m \u001b[0;32mimport\u001b[0m \u001b[0mimport_ipynb\u001b[0m \u001b[0;31m#to enable importing from notebooks\u001b[0m\u001b[0;34m\u001b[0m\u001b[0;34m\u001b[0m\u001b[0m\n\u001b[0;32m----> 2\u001b[0;31m \u001b[0;32mimport\u001b[0m \u001b[0mmSwapKCBS\u001b[0m \u001b[0;32mas\u001b[0m \u001b[0msk\u001b[0m\u001b[0;34m\u001b[0m\u001b[0;34m\u001b[0m\u001b[0m\n\u001b[0m\u001b[1;32m      3\u001b[0m \u001b[0;32mimport\u001b[0m \u001b[0mnumpy\u001b[0m \u001b[0;32mas\u001b[0m \u001b[0mnp\u001b[0m\u001b[0;34m\u001b[0m\u001b[0;34m\u001b[0m\u001b[0m\n\u001b[1;32m      4\u001b[0m \u001b[0;31m#testType:2 #state only\u001b[0m\u001b[0;34m\u001b[0m\u001b[0;34m\u001b[0m\u001b[0m\n\u001b[1;32m      5\u001b[0m \u001b[0;31m#testType:0 #full\u001b[0m\u001b[0;34m\u001b[0m\u001b[0;34m\u001b[0m\u001b[0m\n",
      "\u001b[0;32m~/opt/anaconda3/envs/quantInfo/lib/python3.9/site-packages/import_ipynb.py\u001b[0m in \u001b[0;36mload_module\u001b[0;34m(self, fullname)\u001b[0m\n\u001b[1;32m     59\u001b[0m                 \u001b[0mcode\u001b[0m \u001b[0;34m=\u001b[0m \u001b[0mself\u001b[0m\u001b[0;34m.\u001b[0m\u001b[0mshell\u001b[0m\u001b[0;34m.\u001b[0m\u001b[0minput_transformer_manager\u001b[0m\u001b[0;34m.\u001b[0m\u001b[0mtransform_cell\u001b[0m\u001b[0;34m(\u001b[0m\u001b[0mcell\u001b[0m\u001b[0;34m.\u001b[0m\u001b[0msource\u001b[0m\u001b[0;34m)\u001b[0m\u001b[0;34m\u001b[0m\u001b[0;34m\u001b[0m\u001b[0m\n\u001b[1;32m     60\u001b[0m                 \u001b[0;31m# run the code in themodule\u001b[0m\u001b[0;34m\u001b[0m\u001b[0;34m\u001b[0m\u001b[0m\n\u001b[0;32m---> 61\u001b[0;31m                 \u001b[0mexec\u001b[0m\u001b[0;34m(\u001b[0m\u001b[0mcode\u001b[0m\u001b[0;34m,\u001b[0m \u001b[0mmod\u001b[0m\u001b[0;34m.\u001b[0m\u001b[0m__dict__\u001b[0m\u001b[0;34m)\u001b[0m\u001b[0;34m\u001b[0m\u001b[0;34m\u001b[0m\u001b[0m\n\u001b[0m\u001b[1;32m     62\u001b[0m         \u001b[0;32mfinally\u001b[0m\u001b[0;34m:\u001b[0m\u001b[0;34m\u001b[0m\u001b[0;34m\u001b[0m\u001b[0m\n\u001b[1;32m     63\u001b[0m             \u001b[0mself\u001b[0m\u001b[0;34m.\u001b[0m\u001b[0mshell\u001b[0m\u001b[0;34m.\u001b[0m\u001b[0muser_ns\u001b[0m \u001b[0;34m=\u001b[0m \u001b[0msave_user_ns\u001b[0m\u001b[0;34m\u001b[0m\u001b[0;34m\u001b[0m\u001b[0m\n",
      "\u001b[0;32m~/Documents/GitHub/swapKCBS/Github_Self_Testing/SDP_Code/mSwapKCBS.ipynb\u001b[0m in \u001b[0;36m<module>\u001b[0;34m\u001b[0m\n",
      "\u001b[0;31mModuleNotFoundError\u001b[0m: No module named 'cvxpy'"
     ]
    }
   ],
   "source": [
    "import import_ipynb #to enable importing from notebooks\n",
    "import mSwapKCBS as sk \n",
    "import numpy as np\n",
    "#testType:2 #state only\n",
    "#testType:0 #full\n",
    "#testType:1 #KCBS objective\n",
    "\n",
    "sk.globalSettings({'cacheFolder':'cached_4_6/','N':5,'testType':0,'hDepth':3,'locMatDepth':2,'solverSettings':{'verbose':False, 'solver':sk.cp.SCS}})\n",
    "sk.init()"
   ]
  },
  {
   "cell_type": "markdown",
   "metadata": {},
   "source": [
    "## Input data"
   ]
  },
  {
   "cell_type": "code",
   "execution_count": null,
   "metadata": {},
   "outputs": [],
   "source": [
    "N=5\n",
    "obsData= [2.233]*5\n",
    "val1= sk.solve(constrFrac=1.0,minOnly=True,obsData=obsData)"
   ]
  },
  {
   "cell_type": "code",
   "execution_count": 7,
   "metadata": {
    "scrolled": false
   },
   "outputs": [
    {
     "name": "stdout",
     "output_type": "stream",
     "text": [
      "Total is 2.2290420201528685\n",
      "STEP  1 / 3  in progress...\n",
      "Updating observed constraints\n",
      "Observed values; Adding constraints\n",
      "Done.\n",
      "STEP  1 / 3  done.\n",
      "\n",
      "\n",
      "STEP  2 / 3  in progress...\n",
      "Readying the solver\n",
      "Using only  16859  of the total  16859  constraints\n",
      "STEP  2 / 3  done.\n",
      "\n",
      "\n",
      "STEP  3 / 3  in progress...\n",
      "Solving now\n",
      "Initialising...\n",
      "min: 5.757611996683319\n",
      "sqrt(5) 2.23606797749979\n",
      "diff is 0.01721359549995798\n",
      "val is 5.757611996683319\n",
      "Total is 2.230798509489599\n",
      "STEP  1 / 3  in progress...\n",
      "Updating observed constraints\n",
      "Observed values; Adding constraints\n",
      "Done.\n",
      "STEP  1 / 3  done.\n",
      "\n",
      "\n",
      "STEP  2 / 3  in progress...\n",
      "Readying the solver\n",
      "Using only  16859  of the total  16859  constraints\n",
      "STEP  2 / 3  done.\n",
      "\n",
      "\n",
      "STEP  3 / 3  in progress...\n",
      "Solving now\n",
      "Initialising...\n",
      "min: 5.910494989070402\n",
      "sqrt(5) 2.23606797749979\n",
      "diff is 0.01721359549995798\n",
      "val is 5.910494989070402\n",
      "Total is 2.232554998826329\n",
      "STEP  1 / 3  in progress...\n",
      "Updating observed constraints\n",
      "Observed values; Adding constraints\n",
      "Done.\n",
      "STEP  1 / 3  done.\n",
      "\n",
      "\n",
      "STEP  2 / 3  in progress...\n",
      "Readying the solver\n",
      "Using only  16859  of the total  16859  constraints\n",
      "STEP  2 / 3  done.\n",
      "\n",
      "\n",
      "STEP  3 / 3  in progress...\n",
      "Solving now\n",
      "Initialising...\n",
      "min: 5.983927120978819\n",
      "sqrt(5) 2.23606797749979\n",
      "diff is 0.01721359549995798\n",
      "val is 5.983927120978819\n",
      "Total is 2.2343114881630592\n",
      "STEP  1 / 3  in progress...\n",
      "Updating observed constraints\n",
      "Observed values; Adding constraints\n",
      "Done.\n",
      "STEP  1 / 3  done.\n",
      "\n",
      "\n",
      "STEP  2 / 3  in progress...\n",
      "Readying the solver\n",
      "Using only  16859  of the total  16859  constraints\n",
      "STEP  2 / 3  done.\n",
      "\n",
      "\n",
      "STEP  3 / 3  in progress...\n",
      "Solving now\n",
      "Initialising...\n",
      "min: 5.992932249553633\n",
      "sqrt(5) 2.23606797749979\n",
      "diff is 0.01721359549995798\n",
      "val is 5.992932249553633\n",
      "Total is 2.23606797749979\n",
      "STEP  1 / 3  in progress...\n",
      "Updating observed constraints\n",
      "Observed values; Adding constraints\n",
      "Done.\n",
      "STEP  1 / 3  done.\n",
      "\n",
      "\n",
      "STEP  2 / 3  in progress...\n",
      "Readying the solver\n",
      "Using only  16859  of the total  16859  constraints\n",
      "STEP  2 / 3  done.\n",
      "\n",
      "\n",
      "STEP  3 / 3  in progress...\n",
      "Solving now\n",
      "Initialising...\n",
      "min: 5.9999060401381685\n",
      "sqrt(5) 2.23606797749979\n",
      "diff is 0.01721359549995798\n",
      "val is 5.9999060401381685\n"
     ]
    }
   ],
   "source": [
    "N=5\n",
    "obsData= [0.43]*5\n",
    "diff = (np.sqrt(5) -2.15)/5.0\n",
    "list1 = np.linspace(0.0, diff, num=50)\n",
    "list2 = []\n",
    "count = 46\n",
    "while count <= 50:\n",
    "    diff1 = list1[count-1]\n",
    "    count = count +1\n",
    "    obsData= [0.43]*5\n",
    "    for i in range(len(obsData)):\n",
    "        obsData[i] = obsData[i] + diff1\n",
    "    tot = sum(obsData)\n",
    "    print(\"Total is\", tot)\n",
    "    val1= sk.solve(constrFrac=1.0,minOnly=True,obsData=obsData)\n",
    "    list2.append(val1)\n",
    "    print(\"diff is\", diff)\n",
    "    print(\"val is\", val1)"
   ]
  },
  {
   "cell_type": "code",
   "execution_count": 8,
   "metadata": {},
   "outputs": [
    {
     "data": {
      "text/latex": [
       "$\\displaystyle \\left[ 5.757611996683319, \\  5.910494989070402, \\  5.983927120978819, \\  5.992932249553633, \\  5.9999060401381685\\right]$"
      ],
      "text/plain": [
       "[5.757611996683319, 5.910494989070402, 5.983927120978819, 5.992932249553633, 5\n",
       ".9999060401381685]"
      ]
     },
     "execution_count": 8,
     "metadata": {},
     "output_type": "execute_result"
    }
   ],
   "source": [
    "list2"
   ]
  },
  {
   "cell_type": "code",
   "execution_count": 9,
   "metadata": {},
   "outputs": [
    {
     "data": {
      "text/plain": [
       "array([0.        , 0.0003513 , 0.0007026 , 0.00105389, 0.00140519,\n",
       "       0.00175649, 0.00210779, 0.00245909, 0.00281038, 0.00316168,\n",
       "       0.00351298, 0.00386428, 0.00421557, 0.00456687, 0.00491817,\n",
       "       0.00526947, 0.00562077, 0.00597206, 0.00632336, 0.00667466,\n",
       "       0.00702596, 0.00737726, 0.00772855, 0.00807985, 0.00843115,\n",
       "       0.00878245, 0.00913374, 0.00948504, 0.00983634, 0.01018764,\n",
       "       0.01053894, 0.01089023, 0.01124153, 0.01159283, 0.01194413,\n",
       "       0.01229543, 0.01264672, 0.01299802, 0.01334932, 0.01370062,\n",
       "       0.01405191, 0.01440321, 0.01475451, 0.01510581, 0.01545711,\n",
       "       0.0158084 , 0.0161597 , 0.016511  , 0.0168623 , 0.0172136 ])"
      ]
     },
     "execution_count": 9,
     "metadata": {},
     "output_type": "execute_result"
    }
   ],
   "source": [
    "list1"
   ]
  },
  {
   "cell_type": "code",
   "execution_count": 10,
   "metadata": {},
   "outputs": [],
   "source": [
    "import pandas\n",
    "df = pandas.DataFrame(data={\"Fidelity\": list2})\n",
    "df.to_csv(\"./Fid_KCBS_310.csv\", sep=',',index=False)"
   ]
  },
  {
   "cell_type": "code",
   "execution_count": null,
   "metadata": {
    "scrolled": false
   },
   "outputs": [],
   "source": [
    "N=5\n",
    "obsData= [0.4]*5\n",
    "diff = (np.sqrt(5) -2.0)/5.0\n",
    "list1 = np.linspace(0.0, diff, num=50)\n",
    "list2 = []\n",
    "for diff in list1:\n",
    "    for i in range(len(obsData)):\n",
    "        obsData[i] = obsData[i] + diff   \n",
    "    val1= sk.solve(constrFrac=1.0,minOnly=True,obsData=obsData)\n",
    "    list2.append(val1)\n",
    "    print(\"diff is\", diff)\n",
    "    print(\"val is\", val1)"
   ]
  },
  {
   "cell_type": "code",
   "execution_count": null,
   "metadata": {},
   "outputs": [],
   "source": [
    "list2"
   ]
  },
  {
   "cell_type": "code",
   "execution_count": null,
   "metadata": {},
   "outputs": [],
   "source": [
    "list1"
   ]
  },
  {
   "cell_type": "code",
   "execution_count": null,
   "metadata": {},
   "outputs": [],
   "source": [
    "N=5\n",
    "obsData=[np.cos(np.pi / N) / (1 + np.cos(np.pi / N)) for i in range(N) ]\n",
    "\n",
    "list3 = np.linspace(0.001, 0.047, num=30)\n",
    "list4 = []\n",
    "for diff in list1:\n",
    "    for i in range(len(obsData)):\n",
    "        obsData[i] = obsData[i] - diff   \n",
    "    val1= sk.solve(constrFrac=1.0,minOnly=True,obsData=obsData)\n",
    "    list4.append(val1)\n",
    "    print(\"diff is\", diff)\n",
    "    print(\"val is\", val1)"
   ]
  },
  {
   "cell_type": "code",
   "execution_count": null,
   "metadata": {},
   "outputs": [],
   "source": []
  }
 ],
 "metadata": {
  "kernelspec": {
   "display_name": "Python 3 (ipykernel)",
   "language": "python",
   "name": "python3"
  },
  "language_info": {
   "codemirror_mode": {
    "name": "ipython",
    "version": 3
   },
   "file_extension": ".py",
   "mimetype": "text/x-python",
   "name": "python",
   "nbconvert_exporter": "python",
   "pygments_lexer": "ipython3",
   "version": "3.9.7"
  },
  "toc": {
   "base_numbering": 1,
   "nav_menu": {},
   "number_sections": true,
   "sideBar": true,
   "skip_h1_title": false,
   "title_cell": "Table of Contents",
   "title_sidebar": "Contents",
   "toc_cell": false,
   "toc_position": {
    "height": "calc(100% - 180px)",
    "left": "10px",
    "top": "150px",
    "width": "207px"
   },
   "toc_section_display": true,
   "toc_window_display": true
  }
 },
 "nbformat": 4,
 "nbformat_minor": 2
}
