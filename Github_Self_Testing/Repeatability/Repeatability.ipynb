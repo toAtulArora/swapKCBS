{
 "cells": [
  {
   "cell_type": "markdown",
   "metadata": {},
   "source": [
    "# Libraries"
   ]
  },
  {
   "cell_type": "code",
   "execution_count": 2,
   "metadata": {},
   "outputs": [],
   "source": [
    "# Import libraries\n",
    "import numpy as np\n",
    "import matplotlib.pyplot as plt\n",
    "np.set_printoptions(precision=3, suppress=True)\n",
    "import matplotlib.pyplot as plt\n",
    "import pandas as pd\n",
    "import math"
   ]
  },
  {
   "cell_type": "markdown",
   "metadata": {},
   "source": [
    "# Repeatability"
   ]
  },
  {
   "cell_type": "markdown",
   "metadata": {},
   "source": [
    "##  Data Files"
   ]
  },
  {
   "cell_type": "code",
   "execution_count": 66,
   "metadata": {},
   "outputs": [],
   "source": [
    "# Sharpness measurement i\n",
    "# SM1 = pd.read_csv(\"Sharpness48M1.csv\")\n",
    "# SM2 = pd.read_csv(\"Sharpness48M2.csv\")\n",
    "# SM3 = pd.read_csv(\"Sharpness48M3.csv\")\n",
    "# SM4 = pd.read_csv(\"Sharpness48M4.csv\")\n",
    "# SM5 = pd.read_csv(\"Sharpness48M5.csv\")\n",
    "\n",
    "# SM1 = pd.read_csv(\"Sharpness22M1.txt\")\n",
    "# SM2 = pd.read_csv(\"Sharpness22M2.txt\")\n",
    "# SM3 = pd.read_csv(\"Sharpness22M3.txt\")\n",
    "# SM4 = pd.read_csv(\"Sharpness22M4.txt\")\n",
    "# SM5 = pd.read_csv(\"Sharpness22M5.txt\")\n",
    "\n",
    "\n",
    "SM1 = pd.read_csv(\"Sharpness150M1.txt\")\n",
    "SM2 = pd.read_csv(\"Sharpness150M2.txt\")\n",
    "SM3 = pd.read_csv(\"Sharpness150M3.txt\")\n",
    "SM4 = pd.read_csv(\"Sharpness150M4.txt\")\n",
    "SM5 = pd.read_csv(\"Sharpness150M5.txt\")"
   ]
  },
  {
   "cell_type": "code",
   "execution_count": 67,
   "metadata": {},
   "outputs": [],
   "source": [
    "SM1.columns = [\"Op1\", \"Op2\"]\n",
    "SM2.columns = [\"Op1\", \"Op2\"]\n",
    "SM3.columns = [\"Op1\", \"Op2\"]\n",
    "SM4.columns = [\"Op1\", \"Op2\"]\n",
    "SM5.columns = [\"Op1\", \"Op2\"]"
   ]
  },
  {
   "cell_type": "markdown",
   "metadata": {},
   "source": [
    "## Calculating repeatability"
   ]
  },
  {
   "cell_type": "markdown",
   "metadata": {},
   "source": [
    "### M1"
   ]
  },
  {
   "cell_type": "code",
   "execution_count": 68,
   "metadata": {},
   "outputs": [],
   "source": [
    "SM1.loc[SM1[\"Op1\"] <2.5,\"Op1\"] = 0 \n",
    "SM1.loc[SM1[\"Op2\"] <8.5,\"Op2\"] = 0 \n",
    "SM1.loc[SM1[\"Op1\"] >=2.5,\"Op1\"] = 1 \n",
    "SM1.loc[SM1[\"Op2\"] >=8.5,\"Op2\"] = 1 "
   ]
  },
  {
   "cell_type": "code",
   "execution_count": 69,
   "metadata": {},
   "outputs": [],
   "source": [
    "SM1[\"XOR\"] = (SM1[\"Op1\"]+SM1[\"Op2\"])%2"
   ]
  },
  {
   "cell_type": "code",
   "execution_count": 70,
   "metadata": {},
   "outputs": [
    {
     "data": {
      "text/plain": [
       "14999"
      ]
     },
     "execution_count": 70,
     "metadata": {},
     "output_type": "execute_result"
    }
   ],
   "source": [
    "SM1.shape[0]"
   ]
  },
  {
   "cell_type": "code",
   "execution_count": 71,
   "metadata": {},
   "outputs": [
    {
     "data": {
      "text/plain": [
       "2.0"
      ]
     },
     "execution_count": 71,
     "metadata": {},
     "output_type": "execute_result"
    }
   ],
   "source": [
    "SM1.sum()[\"XOR\"]"
   ]
  },
  {
   "cell_type": "code",
   "execution_count": 72,
   "metadata": {},
   "outputs": [
    {
     "name": "stdout",
     "output_type": "stream",
     "text": [
      "0.9998666577771852 9.428090352955522e-05\n"
     ]
    }
   ],
   "source": [
    "rep1 = 1- (SM1.sum()[\"XOR\"])/(SM1.shape[0])\n",
    "list1 = list(SM1[\"XOR\"])\n",
    "var1 = (np.std(list1))/np.sqrt(len(list1))\n",
    "print(rep1,var1)"
   ]
  },
  {
   "cell_type": "code",
   "execution_count": 73,
   "metadata": {},
   "outputs": [
    {
     "data": {
      "text/plain": [
       "0.0001333422228148029"
      ]
     },
     "execution_count": 73,
     "metadata": {},
     "output_type": "execute_result"
    }
   ],
   "source": [
    "1-rep1"
   ]
  },
  {
   "cell_type": "code",
   "execution_count": 74,
   "metadata": {},
   "outputs": [
    {
     "data": {
      "text/plain": [
       "9.428090352955522e-05"
      ]
     },
     "execution_count": 74,
     "metadata": {},
     "output_type": "execute_result"
    }
   ],
   "source": [
    "var1"
   ]
  },
  {
   "cell_type": "markdown",
   "metadata": {},
   "source": [
    "### M2"
   ]
  },
  {
   "cell_type": "code",
   "execution_count": 75,
   "metadata": {},
   "outputs": [
    {
     "data": {
      "text/plain": [
       "0.9952663510900727"
      ]
     },
     "execution_count": 75,
     "metadata": {},
     "output_type": "execute_result"
    }
   ],
   "source": [
    "SM2.loc[SM2[\"Op1\"] <2.5,\"Op1\"] = 0 \n",
    "SM2.loc[SM2[\"Op2\"] <8.5,\"Op2\"] = 0 \n",
    "SM2.loc[SM2[\"Op1\"] >=2.5,\"Op1\"] = 1 \n",
    "SM2.loc[SM2[\"Op2\"] >=8.5,\"Op2\"] = 1 \n",
    "SM2[\"XOR\"] = (SM2[\"Op1\"]+SM2[\"Op2\"])%2\n",
    "Tot2 = SM2.shape[0]\n",
    "1-(SM2.sum()[\"XOR\"]/Tot2)"
   ]
  },
  {
   "cell_type": "code",
   "execution_count": 76,
   "metadata": {},
   "outputs": [
    {
     "data": {
      "text/plain": [
       "0.004733648909927329"
      ]
     },
     "execution_count": 76,
     "metadata": {},
     "output_type": "execute_result"
    }
   ],
   "source": [
    "(SM2.sum()[\"XOR\"]/Tot2)"
   ]
  },
  {
   "cell_type": "code",
   "execution_count": 77,
   "metadata": {},
   "outputs": [
    {
     "name": "stdout",
     "output_type": "stream",
     "text": [
      "0.9952663510900727 0.0005604495565543977\n"
     ]
    }
   ],
   "source": [
    "rep2 = 1- (SM2.sum()[\"XOR\"])/(SM2.shape[0])\n",
    "list2 = list(SM2[\"XOR\"])\n",
    "var2 = (np.std(list2))/np.sqrt(len(list2))\n",
    "print(rep2,var2)"
   ]
  },
  {
   "cell_type": "markdown",
   "metadata": {},
   "source": [
    "### M3"
   ]
  },
  {
   "cell_type": "code",
   "execution_count": 78,
   "metadata": {},
   "outputs": [
    {
     "data": {
      "text/plain": [
       "0.9959997333155544"
      ]
     },
     "execution_count": 78,
     "metadata": {},
     "output_type": "execute_result"
    }
   ],
   "source": [
    "SM3.loc[SM3[\"Op1\"] <2.5,\"Op1\"] = 0 \n",
    "SM3.loc[SM3[\"Op2\"] <8.5,\"Op2\"] = 0 \n",
    "SM3.loc[SM3[\"Op1\"] >=2.5,\"Op1\"] = 1 \n",
    "SM3.loc[SM3[\"Op2\"] >=8.5,\"Op2\"] = 1 \n",
    "SM3[\"XOR\"] = (SM3[\"Op1\"]+SM3[\"Op2\"])%2\n",
    "Tot3 = SM3.shape[0]\n",
    "1-(SM3.sum()[\"XOR\"]/Tot3)"
   ]
  },
  {
   "cell_type": "code",
   "execution_count": 79,
   "metadata": {},
   "outputs": [
    {
     "data": {
      "text/plain": [
       "0.00400026668444563"
      ]
     },
     "execution_count": 79,
     "metadata": {},
     "output_type": "execute_result"
    }
   ],
   "source": [
    "(SM3.sum()[\"XOR\"]/Tot3)"
   ]
  },
  {
   "cell_type": "code",
   "execution_count": 80,
   "metadata": {},
   "outputs": [
    {
     "name": "stdout",
     "output_type": "stream",
     "text": [
      "0.9959997333155544 0.0005153982399559066\n"
     ]
    }
   ],
   "source": [
    "rep3 = 1- (SM3.sum()[\"XOR\"])/(SM3.shape[0])\n",
    "list3 = list(SM3[\"XOR\"])\n",
    "var3 = (np.std(list3))/np.sqrt(len(list3))\n",
    "print(rep3,var3)"
   ]
  },
  {
   "cell_type": "markdown",
   "metadata": {},
   "source": [
    "### M4"
   ]
  },
  {
   "cell_type": "code",
   "execution_count": 81,
   "metadata": {},
   "outputs": [
    {
     "data": {
      "text/plain": [
       "0.9923328221881459"
      ]
     },
     "execution_count": 81,
     "metadata": {},
     "output_type": "execute_result"
    }
   ],
   "source": [
    "SM4.loc[SM4[\"Op1\"] <2.5,\"Op1\"] = 0 \n",
    "SM4.loc[SM4[\"Op2\"] <8.5,\"Op2\"] = 0 \n",
    "SM4.loc[SM4[\"Op1\"] >=2.5,\"Op1\"] = 1 \n",
    "SM4.loc[SM4[\"Op2\"] >=8.5,\"Op2\"] = 1 \n",
    "SM4[\"XOR\"] = (SM4[\"Op1\"]+SM4[\"Op2\"])%2\n",
    "Tot4 = SM4.shape[0]\n",
    "1-(SM4.sum()[\"XOR\"]/Tot4)"
   ]
  },
  {
   "cell_type": "code",
   "execution_count": 82,
   "metadata": {},
   "outputs": [
    {
     "data": {
      "text/plain": [
       "0.007667177811854124"
      ]
     },
     "execution_count": 82,
     "metadata": {},
     "output_type": "execute_result"
    }
   ],
   "source": [
    "(SM4.sum()[\"XOR\"]/Tot4)"
   ]
  },
  {
   "cell_type": "code",
   "execution_count": 83,
   "metadata": {},
   "outputs": [
    {
     "name": "stdout",
     "output_type": "stream",
     "text": [
      "0.9923328221881459 0.0007122218500916356\n"
     ]
    }
   ],
   "source": [
    "rep4 = 1- (SM4.sum()[\"XOR\"])/(SM4.shape[0])\n",
    "list4 = list(SM4[\"XOR\"])\n",
    "var4 = (np.std(list4))/np.sqrt(len(list4))\n",
    "print(rep4,var4)"
   ]
  },
  {
   "cell_type": "markdown",
   "metadata": {},
   "source": [
    "### M5"
   ]
  },
  {
   "cell_type": "code",
   "execution_count": 84,
   "metadata": {},
   "outputs": [
    {
     "data": {
      "text/plain": [
       "0.9921328088539236"
      ]
     },
     "execution_count": 84,
     "metadata": {},
     "output_type": "execute_result"
    }
   ],
   "source": [
    "SM5.loc[SM5[\"Op1\"] <2.5,\"Op1\"] = 0 \n",
    "SM5.loc[SM5[\"Op2\"] <8.5,\"Op2\"] = 0 \n",
    "SM5.loc[SM5[\"Op1\"] >=2.5,\"Op1\"] = 1 \n",
    "SM5.loc[SM5[\"Op2\"] >=8.5,\"Op2\"] = 1 \n",
    "SM5[\"XOR\"] = (SM5[\"Op1\"]+SM5[\"Op2\"])%2\n",
    "Tot5 = SM5.shape[0]\n",
    "1-(SM5.sum()[\"XOR\"]/Tot5)"
   ]
  },
  {
   "cell_type": "code",
   "execution_count": 85,
   "metadata": {},
   "outputs": [
    {
     "data": {
      "text/plain": [
       "0.007867191146076405"
      ]
     },
     "execution_count": 85,
     "metadata": {},
     "output_type": "execute_result"
    }
   ],
   "source": [
    "(SM5.sum()[\"XOR\"]/Tot5)"
   ]
  },
  {
   "cell_type": "code",
   "execution_count": 86,
   "metadata": {},
   "outputs": [
    {
     "name": "stdout",
     "output_type": "stream",
     "text": [
      "0.9921328088539236 0.0007213791808043811\n"
     ]
    }
   ],
   "source": [
    "rep5 = 1- (SM5.sum()[\"XOR\"])/(SM5.shape[0])\n",
    "list5 = list(SM5[\"XOR\"])\n",
    "var5 = (np.std(list5))/np.sqrt(len(list5))\n",
    "print(rep5,var5)"
   ]
  }
 ],
 "metadata": {
  "kernelspec": {
   "display_name": "Python 3",
   "language": "python",
   "name": "python3"
  },
  "language_info": {
   "codemirror_mode": {
    "name": "ipython",
    "version": 3
   },
   "file_extension": ".py",
   "mimetype": "text/x-python",
   "name": "python",
   "nbconvert_exporter": "python",
   "pygments_lexer": "ipython3",
   "version": "3.6.13"
  },
  "latex_envs": {
   "LaTeX_envs_menu_present": true,
   "autoclose": false,
   "autocomplete": true,
   "bibliofile": "biblio.bib",
   "cite_by": "apalike",
   "current_citInitial": 1,
   "eqLabelWithNumbers": true,
   "eqNumInitial": 1,
   "hotkeys": {
    "equation": "Ctrl-E",
    "itemize": "Ctrl-I"
   },
   "labels_anchors": false,
   "latex_user_defs": false,
   "report_style_numbering": false,
   "user_envs_cfg": false
  },
  "toc": {
   "base_numbering": 1,
   "nav_menu": {},
   "number_sections": true,
   "sideBar": true,
   "skip_h1_title": false,
   "title_cell": "Table of Contents",
   "title_sidebar": "Contents",
   "toc_cell": false,
   "toc_position": {
    "height": "calc(100% - 180px)",
    "left": "10px",
    "top": "150px",
    "width": "290.54px"
   },
   "toc_section_display": true,
   "toc_window_display": true
  }
 },
 "nbformat": 4,
 "nbformat_minor": 2
}
