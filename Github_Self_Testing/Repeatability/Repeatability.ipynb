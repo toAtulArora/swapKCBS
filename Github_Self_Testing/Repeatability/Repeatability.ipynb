{
 "cells": [
  {
   "cell_type": "markdown",
   "metadata": {},
   "source": [
    "# Libraries"
   ]
  },
  {
   "cell_type": "code",
   "execution_count": 1,
   "metadata": {},
   "outputs": [],
   "source": [
    "# Import libraries\n",
    "import numpy as np\n",
    "import matplotlib.pyplot as plt\n",
    "np.set_printoptions(precision=3, suppress=True)\n",
    "import matplotlib.pyplot as plt\n",
    "import pandas as pd\n",
    "import math"
   ]
  },
  {
   "cell_type": "markdown",
   "metadata": {},
   "source": [
    "# Repeatability"
   ]
  },
  {
   "cell_type": "markdown",
   "metadata": {},
   "source": [
    "##  Data Files"
   ]
  },
  {
   "cell_type": "code",
   "execution_count": 3,
   "metadata": {
    "code_folding": []
   },
   "outputs": [],
   "source": [
    "# Sharpness measurement i\n",
    "# SM1 = pd.read_csv(\"Sharpness48M1.csv\")\n",
    "# SM2 = pd.read_csv(\"Sharpness48M2.csv\")\n",
    "# SM3 = pd.read_csv(\"Sharpness48M3.csv\")\n",
    "# SM4 = pd.read_csv(\"Sharpness48M4.csv\")\n",
    "# SM5 = pd.read_csv(\"Sharpness48M5.csv\")\n",
    "\n",
    "# SM1 = pd.read_csv(\"Sharpness22M1.txt\")\n",
    "# SM2 = pd.read_csv(\"Sharpness22M2.txt\")\n",
    "# SM3 = pd.read_csv(\"Sharpness22M3.txt\")\n",
    "# SM4 = pd.read_csv(\"Sharpness22M4.txt\")\n",
    "# SM5 = pd.read_csv(\"Sharpness22M5.txt\")\n",
    "\n",
    "\n",
    "SM1 = pd.read_csv(\"Sharpness150M1.txt\")\n",
    "SM2 = pd.read_csv(\"Sharpness150M2.txt\")\n",
    "SM3 = pd.read_csv(\"Sharpness150M3.txt\")\n",
    "SM4 = pd.read_csv(\"Sharpness150M4.txt\")\n",
    "SM5 = pd.read_csv(\"Sharpness150M5.txt\")"
   ]
  },
  {
   "cell_type": "code",
   "execution_count": 4,
   "metadata": {},
   "outputs": [],
   "source": [
    "SM1.columns = [\"Op1\", \"Op2\"]\n",
    "SM2.columns = [\"Op1\", \"Op2\"]\n",
    "SM3.columns = [\"Op1\", \"Op2\"]\n",
    "SM4.columns = [\"Op1\", \"Op2\"]\n",
    "SM5.columns = [\"Op1\", \"Op2\"]"
   ]
  },
  {
   "cell_type": "markdown",
   "metadata": {},
   "source": [
    "## Calculating repeatability"
   ]
  },
  {
   "cell_type": "markdown",
   "metadata": {},
   "source": [
    "### M1"
   ]
  },
  {
   "cell_type": "code",
   "execution_count": 5,
   "metadata": {},
   "outputs": [],
   "source": [
    "SM1.loc[SM1[\"Op1\"] <2.5,\"Op1\"] = 0 \n",
    "SM1.loc[SM1[\"Op2\"] <8.5,\"Op2\"] = 0 \n",
    "SM1.loc[SM1[\"Op1\"] >=2.5,\"Op1\"] = 1 \n",
    "SM1.loc[SM1[\"Op2\"] >=8.5,\"Op2\"] = 1 "
   ]
  },
  {
   "cell_type": "code",
   "execution_count": 6,
   "metadata": {},
   "outputs": [],
   "source": [
    "SM1[\"XOR\"] = (SM1[\"Op1\"]+SM1[\"Op2\"])%2"
   ]
  },
  {
   "cell_type": "code",
   "execution_count": 7,
   "metadata": {},
   "outputs": [
    {
     "data": {
      "text/plain": [
       "14999"
      ]
     },
     "execution_count": 7,
     "metadata": {},
     "output_type": "execute_result"
    }
   ],
   "source": [
    "SM1.shape[0]"
   ]
  },
  {
   "cell_type": "code",
   "execution_count": 8,
   "metadata": {},
   "outputs": [
    {
     "data": {
      "text/plain": [
       "2.0"
      ]
     },
     "execution_count": 8,
     "metadata": {},
     "output_type": "execute_result"
    }
   ],
   "source": [
    "SM1.sum()[\"XOR\"]"
   ]
  },
  {
   "cell_type": "code",
   "execution_count": 9,
   "metadata": {},
   "outputs": [
    {
     "name": "stdout",
     "output_type": "stream",
     "text": [
      "0.9998666577771852 9.428090352955522e-05\n"
     ]
    }
   ],
   "source": [
    "rep1 = 1- (SM1.sum()[\"XOR\"])/(SM1.shape[0])\n",
    "list1 = list(SM1[\"XOR\"])\n",
    "var1 = (np.std(list1))/np.sqrt(len(list1))\n",
    "print(rep1,var1)"
   ]
  },
  {
   "cell_type": "code",
   "execution_count": 10,
   "metadata": {},
   "outputs": [
    {
     "data": {
      "text/plain": [
       "0.0001333422228148029"
      ]
     },
     "execution_count": 10,
     "metadata": {},
     "output_type": "execute_result"
    }
   ],
   "source": [
    "1-rep1"
   ]
  },
  {
   "cell_type": "code",
   "execution_count": 11,
   "metadata": {},
   "outputs": [
    {
     "data": {
      "text/plain": [
       "9.428090352955522e-05"
      ]
     },
     "execution_count": 11,
     "metadata": {},
     "output_type": "execute_result"
    }
   ],
   "source": [
    "var1"
   ]
  },
  {
   "cell_type": "markdown",
   "metadata": {},
   "source": [
    "### M2"
   ]
  },
  {
   "cell_type": "code",
   "execution_count": 12,
   "metadata": {},
   "outputs": [
    {
     "data": {
      "text/plain": [
       "0.9952663510900727"
      ]
     },
     "execution_count": 12,
     "metadata": {},
     "output_type": "execute_result"
    }
   ],
   "source": [
    "SM2.loc[SM2[\"Op1\"] <2.5,\"Op1\"] = 0 \n",
    "SM2.loc[SM2[\"Op2\"] <8.5,\"Op2\"] = 0 \n",
    "SM2.loc[SM2[\"Op1\"] >=2.5,\"Op1\"] = 1 \n",
    "SM2.loc[SM2[\"Op2\"] >=8.5,\"Op2\"] = 1 \n",
    "SM2[\"XOR\"] = (SM2[\"Op1\"]+SM2[\"Op2\"])%2\n",
    "Tot2 = SM2.shape[0]\n",
    "1-(SM2.sum()[\"XOR\"]/Tot2)"
   ]
  },
  {
   "cell_type": "code",
   "execution_count": 13,
   "metadata": {},
   "outputs": [
    {
     "data": {
      "text/plain": [
       "0.004733648909927329"
      ]
     },
     "execution_count": 13,
     "metadata": {},
     "output_type": "execute_result"
    }
   ],
   "source": [
    "(SM2.sum()[\"XOR\"]/Tot2)"
   ]
  },
  {
   "cell_type": "code",
   "execution_count": 14,
   "metadata": {},
   "outputs": [
    {
     "name": "stdout",
     "output_type": "stream",
     "text": [
      "0.9952663510900727 0.0005604495565543977\n"
     ]
    }
   ],
   "source": [
    "rep2 = 1- (SM2.sum()[\"XOR\"])/(SM2.shape[0])\n",
    "list2 = list(SM2[\"XOR\"])\n",
    "var2 = (np.std(list2))/np.sqrt(len(list2))\n",
    "print(rep2,var2)"
   ]
  },
  {
   "cell_type": "markdown",
   "metadata": {},
   "source": [
    "### M3"
   ]
  },
  {
   "cell_type": "code",
   "execution_count": 15,
   "metadata": {},
   "outputs": [
    {
     "data": {
      "text/plain": [
       "0.9959997333155544"
      ]
     },
     "execution_count": 15,
     "metadata": {},
     "output_type": "execute_result"
    }
   ],
   "source": [
    "SM3.loc[SM3[\"Op1\"] <2.5,\"Op1\"] = 0 \n",
    "SM3.loc[SM3[\"Op2\"] <8.5,\"Op2\"] = 0 \n",
    "SM3.loc[SM3[\"Op1\"] >=2.5,\"Op1\"] = 1 \n",
    "SM3.loc[SM3[\"Op2\"] >=8.5,\"Op2\"] = 1 \n",
    "SM3[\"XOR\"] = (SM3[\"Op1\"]+SM3[\"Op2\"])%2\n",
    "Tot3 = SM3.shape[0]\n",
    "1-(SM3.sum()[\"XOR\"]/Tot3)"
   ]
  },
  {
   "cell_type": "code",
   "execution_count": 16,
   "metadata": {},
   "outputs": [
    {
     "data": {
      "text/plain": [
       "0.00400026668444563"
      ]
     },
     "execution_count": 16,
     "metadata": {},
     "output_type": "execute_result"
    }
   ],
   "source": [
    "(SM3.sum()[\"XOR\"]/Tot3)"
   ]
  },
  {
   "cell_type": "code",
   "execution_count": 17,
   "metadata": {},
   "outputs": [
    {
     "name": "stdout",
     "output_type": "stream",
     "text": [
      "0.9959997333155544 0.0005153982399559066\n"
     ]
    }
   ],
   "source": [
    "rep3 = 1- (SM3.sum()[\"XOR\"])/(SM3.shape[0])\n",
    "list3 = list(SM3[\"XOR\"])\n",
    "var3 = (np.std(list3))/np.sqrt(len(list3))\n",
    "print(rep3,var3)"
   ]
  },
  {
   "cell_type": "markdown",
   "metadata": {},
   "source": [
    "### M4"
   ]
  },
  {
   "cell_type": "code",
   "execution_count": 18,
   "metadata": {},
   "outputs": [
    {
     "data": {
      "text/plain": [
       "0.9923328221881459"
      ]
     },
     "execution_count": 18,
     "metadata": {},
     "output_type": "execute_result"
    }
   ],
   "source": [
    "SM4.loc[SM4[\"Op1\"] <2.5,\"Op1\"] = 0 \n",
    "SM4.loc[SM4[\"Op2\"] <8.5,\"Op2\"] = 0 \n",
    "SM4.loc[SM4[\"Op1\"] >=2.5,\"Op1\"] = 1 \n",
    "SM4.loc[SM4[\"Op2\"] >=8.5,\"Op2\"] = 1 \n",
    "SM4[\"XOR\"] = (SM4[\"Op1\"]+SM4[\"Op2\"])%2\n",
    "Tot4 = SM4.shape[0]\n",
    "1-(SM4.sum()[\"XOR\"]/Tot4)"
   ]
  },
  {
   "cell_type": "code",
   "execution_count": 19,
   "metadata": {},
   "outputs": [
    {
     "data": {
      "text/plain": [
       "0.007667177811854124"
      ]
     },
     "execution_count": 19,
     "metadata": {},
     "output_type": "execute_result"
    }
   ],
   "source": [
    "(SM4.sum()[\"XOR\"]/Tot4)"
   ]
  },
  {
   "cell_type": "code",
   "execution_count": 20,
   "metadata": {},
   "outputs": [
    {
     "name": "stdout",
     "output_type": "stream",
     "text": [
      "0.9923328221881459 0.0007122218500916356\n"
     ]
    }
   ],
   "source": [
    "rep4 = 1- (SM4.sum()[\"XOR\"])/(SM4.shape[0])\n",
    "list4 = list(SM4[\"XOR\"])\n",
    "var4 = (np.std(list4))/np.sqrt(len(list4))\n",
    "print(rep4,var4)"
   ]
  },
  {
   "cell_type": "markdown",
   "metadata": {},
   "source": [
    "### M5"
   ]
  },
  {
   "cell_type": "code",
   "execution_count": 21,
   "metadata": {},
   "outputs": [
    {
     "data": {
      "text/plain": [
       "0.9921328088539236"
      ]
     },
     "execution_count": 21,
     "metadata": {},
     "output_type": "execute_result"
    }
   ],
   "source": [
    "SM5.loc[SM5[\"Op1\"] <2.5,\"Op1\"] = 0 \n",
    "SM5.loc[SM5[\"Op2\"] <8.5,\"Op2\"] = 0 \n",
    "SM5.loc[SM5[\"Op1\"] >=2.5,\"Op1\"] = 1 \n",
    "SM5.loc[SM5[\"Op2\"] >=8.5,\"Op2\"] = 1 \n",
    "SM5[\"XOR\"] = (SM5[\"Op1\"]+SM5[\"Op2\"])%2\n",
    "Tot5 = SM5.shape[0]\n",
    "1-(SM5.sum()[\"XOR\"]/Tot5)"
   ]
  },
  {
   "cell_type": "code",
   "execution_count": 22,
   "metadata": {},
   "outputs": [
    {
     "data": {
      "text/plain": [
       "0.007867191146076405"
      ]
     },
     "execution_count": 22,
     "metadata": {},
     "output_type": "execute_result"
    }
   ],
   "source": [
    "(SM5.sum()[\"XOR\"]/Tot5)"
   ]
  },
  {
   "cell_type": "code",
   "execution_count": 23,
   "metadata": {},
   "outputs": [
    {
     "name": "stdout",
     "output_type": "stream",
     "text": [
      "0.9921328088539236 0.0007213791808043811\n"
     ]
    }
   ],
   "source": [
    "rep5 = 1- (SM5.sum()[\"XOR\"])/(SM5.shape[0])\n",
    "list5 = list(SM5[\"XOR\"])\n",
    "var5 = (np.std(list5))/np.sqrt(len(list5))\n",
    "print(rep5,var5)"
   ]
  },
  {
   "cell_type": "code",
   "execution_count": 24,
   "metadata": {},
   "outputs": [],
   "source": [
    "replist= [rep1,rep2,rep3,rep4,rep5]\n",
    "varlist = [var1,var2,var3,var4,var5]"
   ]
  },
  {
   "cell_type": "code",
   "execution_count": 25,
   "metadata": {},
   "outputs": [
    {
     "data": {
      "text/plain": [
       "[0.9998666577771852,\n",
       " 0.9952663510900727,\n",
       " 0.9959997333155544,\n",
       " 0.9923328221881459,\n",
       " 0.9921328088539236]"
      ]
     },
     "execution_count": 25,
     "metadata": {},
     "output_type": "execute_result"
    }
   ],
   "source": [
    "replist"
   ]
  },
  {
   "cell_type": "code",
   "execution_count": 26,
   "metadata": {},
   "outputs": [
    {
     "data": {
      "text/plain": [
       "[9.428090352955522e-05,\n",
       " 0.0005604495565543977,\n",
       " 0.0005153982399559066,\n",
       " 0.0007122218500916356,\n",
       " 0.0007213791808043811]"
      ]
     },
     "execution_count": 26,
     "metadata": {},
     "output_type": "execute_result"
    }
   ],
   "source": [
    "varlist"
   ]
  },
  {
   "cell_type": "code",
   "execution_count": 27,
   "metadata": {},
   "outputs": [
    {
     "data": {
      "text/plain": [
       "(14999, 3)"
      ]
     },
     "execution_count": 27,
     "metadata": {},
     "output_type": "execute_result"
    }
   ],
   "source": [
    "SM1.shape"
   ]
  },
  {
   "cell_type": "code",
   "execution_count": 28,
   "metadata": {},
   "outputs": [
    {
     "data": {
      "text/plain": [
       "(14999, 3)"
      ]
     },
     "execution_count": 28,
     "metadata": {},
     "output_type": "execute_result"
    }
   ],
   "source": [
    "SM2.shape"
   ]
  },
  {
   "cell_type": "code",
   "execution_count": 29,
   "metadata": {},
   "outputs": [
    {
     "data": {
      "text/plain": [
       "(14999, 3)"
      ]
     },
     "execution_count": 29,
     "metadata": {},
     "output_type": "execute_result"
    }
   ],
   "source": [
    "SM3.shape"
   ]
  },
  {
   "cell_type": "code",
   "execution_count": 30,
   "metadata": {},
   "outputs": [
    {
     "data": {
      "text/plain": [
       "(14999, 3)"
      ]
     },
     "execution_count": 30,
     "metadata": {},
     "output_type": "execute_result"
    }
   ],
   "source": [
    "SM4.shape"
   ]
  },
  {
   "cell_type": "code",
   "execution_count": 31,
   "metadata": {},
   "outputs": [
    {
     "data": {
      "text/plain": [
       "(14999, 3)"
      ]
     },
     "execution_count": 31,
     "metadata": {},
     "output_type": "execute_result"
    }
   ],
   "source": [
    "SM5.shape"
   ]
  },
  {
   "cell_type": "markdown",
   "metadata": {},
   "source": [
    "# Overall repeatability"
   ]
  },
  {
   "cell_type": "code",
   "execution_count": 51,
   "metadata": {},
   "outputs": [],
   "source": [
    "SM11 = pd.read_csv(\"Sharpness48M1.csv\")\n",
    "SM11.columns = [\"Op1\", \"Op2\"]\n",
    "\n",
    "SM21 = pd.read_csv(\"Sharpness48M2.csv\")\n",
    "SM21.columns = [\"Op1\", \"Op2\"]\n",
    "\n",
    "SM31 = pd.read_csv(\"Sharpness48M3.csv\")\n",
    "SM31.columns = [\"Op1\", \"Op2\"]\n",
    "\n",
    "SM41 = pd.read_csv(\"Sharpness48M4.csv\")\n",
    "SM41.columns = [\"Op1\", \"Op2\"]\n",
    "\n",
    "SM51 = pd.read_csv(\"Sharpness48M5.csv\")\n",
    "SM51.columns = [\"Op1\", \"Op2\"]\n",
    "\n",
    "\n",
    "SM12 = pd.read_csv(\"Sharpness22M1.txt\")\n",
    "SM12.columns = [\"Op1\", \"Op2\"]\n",
    "\n",
    "SM22 = pd.read_csv(\"Sharpness22M2.txt\")\n",
    "SM22.columns = [\"Op1\", \"Op2\"]\n",
    "\n",
    "SM32 = pd.read_csv(\"Sharpness22M3.txt\")\n",
    "SM32.columns = [\"Op1\", \"Op2\"]\n",
    "\n",
    "SM42 = pd.read_csv(\"Sharpness22M4.txt\")\n",
    "SM42.columns = [\"Op1\", \"Op2\"]\n",
    "\n",
    "SM52 = pd.read_csv(\"Sharpness22M5.txt\")\n",
    "SM52.columns = [\"Op1\", \"Op2\"]\n",
    "\n",
    "\n",
    "SM13 = pd.read_csv(\"Sharpness150M1.txt\")\n",
    "SM13.columns = [\"Op1\", \"Op2\"]\n",
    "\n",
    "SM23 = pd.read_csv(\"Sharpness150M2.txt\")\n",
    "SM23.columns = [\"Op1\", \"Op2\"]\n",
    "\n",
    "SM33 = pd.read_csv(\"Sharpness150M3.txt\")\n",
    "SM33.columns = [\"Op1\", \"Op2\"]\n",
    "\n",
    "SM43 = pd.read_csv(\"Sharpness150M4.txt\")\n",
    "SM43.columns = [\"Op1\", \"Op2\"]\n",
    "\n",
    "SM53 = pd.read_csv(\"Sharpness150M5.txt\")\n",
    "SM53.columns = [\"Op1\", \"Op2\"]"
   ]
  },
  {
   "cell_type": "code",
   "execution_count": 52,
   "metadata": {},
   "outputs": [],
   "source": [
    "frames = [SM11,SM21,SM31,SM41,SM51,SM11,SM22,SM32,SM42,SM52,SM13,SM23,SM33,SM43,SM53]\n",
    "data = pd.concat(frames)"
   ]
  },
  {
   "cell_type": "code",
   "execution_count": 53,
   "metadata": {},
   "outputs": [
    {
     "data": {
      "text/html": [
       "<div>\n",
       "<style scoped>\n",
       "    .dataframe tbody tr th:only-of-type {\n",
       "        vertical-align: middle;\n",
       "    }\n",
       "\n",
       "    .dataframe tbody tr th {\n",
       "        vertical-align: top;\n",
       "    }\n",
       "\n",
       "    .dataframe thead th {\n",
       "        text-align: right;\n",
       "    }\n",
       "</style>\n",
       "<table border=\"1\" class=\"dataframe\">\n",
       "  <thead>\n",
       "    <tr style=\"text-align: right;\">\n",
       "      <th></th>\n",
       "      <th>Op1</th>\n",
       "      <th>Op2</th>\n",
       "    </tr>\n",
       "  </thead>\n",
       "  <tbody>\n",
       "    <tr>\n",
       "      <th>0</th>\n",
       "      <td>0.0</td>\n",
       "      <td>1.0</td>\n",
       "    </tr>\n",
       "    <tr>\n",
       "      <th>1</th>\n",
       "      <td>0.0</td>\n",
       "      <td>1.0</td>\n",
       "    </tr>\n",
       "    <tr>\n",
       "      <th>2</th>\n",
       "      <td>15.0</td>\n",
       "      <td>51.0</td>\n",
       "    </tr>\n",
       "    <tr>\n",
       "      <th>3</th>\n",
       "      <td>20.0</td>\n",
       "      <td>44.0</td>\n",
       "    </tr>\n",
       "    <tr>\n",
       "      <th>4</th>\n",
       "      <td>17.0</td>\n",
       "      <td>43.0</td>\n",
       "    </tr>\n",
       "  </tbody>\n",
       "</table>\n",
       "</div>"
      ],
      "text/plain": [
       "    Op1   Op2\n",
       "0   0.0   1.0\n",
       "1   0.0   1.0\n",
       "2  15.0  51.0\n",
       "3  20.0  44.0\n",
       "4  17.0  43.0"
      ]
     },
     "execution_count": 53,
     "metadata": {},
     "output_type": "execute_result"
    }
   ],
   "source": [
    "data.head()"
   ]
  },
  {
   "cell_type": "code",
   "execution_count": 54,
   "metadata": {},
   "outputs": [],
   "source": [
    "data.loc[data[\"Op1\"] <2.5,\"Op1\"] = 0 \n",
    "data.loc[data[\"Op2\"] <8.5,\"Op2\"] = 0 \n",
    "data.loc[data[\"Op1\"] >=2.5,\"Op1\"] = 1 \n",
    "data.loc[data[\"Op2\"] >=8.5,\"Op2\"] = 1 "
   ]
  },
  {
   "cell_type": "code",
   "execution_count": 55,
   "metadata": {},
   "outputs": [
    {
     "data": {
      "text/html": [
       "<div>\n",
       "<style scoped>\n",
       "    .dataframe tbody tr th:only-of-type {\n",
       "        vertical-align: middle;\n",
       "    }\n",
       "\n",
       "    .dataframe tbody tr th {\n",
       "        vertical-align: top;\n",
       "    }\n",
       "\n",
       "    .dataframe thead th {\n",
       "        text-align: right;\n",
       "    }\n",
       "</style>\n",
       "<table border=\"1\" class=\"dataframe\">\n",
       "  <thead>\n",
       "    <tr style=\"text-align: right;\">\n",
       "      <th></th>\n",
       "      <th>Op1</th>\n",
       "      <th>Op2</th>\n",
       "    </tr>\n",
       "  </thead>\n",
       "  <tbody>\n",
       "    <tr>\n",
       "      <th>0</th>\n",
       "      <td>0.0</td>\n",
       "      <td>0.0</td>\n",
       "    </tr>\n",
       "    <tr>\n",
       "      <th>1</th>\n",
       "      <td>0.0</td>\n",
       "      <td>0.0</td>\n",
       "    </tr>\n",
       "    <tr>\n",
       "      <th>2</th>\n",
       "      <td>1.0</td>\n",
       "      <td>1.0</td>\n",
       "    </tr>\n",
       "    <tr>\n",
       "      <th>3</th>\n",
       "      <td>1.0</td>\n",
       "      <td>1.0</td>\n",
       "    </tr>\n",
       "    <tr>\n",
       "      <th>4</th>\n",
       "      <td>1.0</td>\n",
       "      <td>1.0</td>\n",
       "    </tr>\n",
       "  </tbody>\n",
       "</table>\n",
       "</div>"
      ],
      "text/plain": [
       "   Op1  Op2\n",
       "0  0.0  0.0\n",
       "1  0.0  0.0\n",
       "2  1.0  1.0\n",
       "3  1.0  1.0\n",
       "4  1.0  1.0"
      ]
     },
     "execution_count": 55,
     "metadata": {},
     "output_type": "execute_result"
    }
   ],
   "source": [
    "data.head()"
   ]
  },
  {
   "cell_type": "code",
   "execution_count": 56,
   "metadata": {},
   "outputs": [],
   "source": [
    "data[\"XOR\"] = (data[\"Op1\"]+data[\"Op2\"])%2"
   ]
  },
  {
   "cell_type": "code",
   "execution_count": 60,
   "metadata": {},
   "outputs": [
    {
     "name": "stdout",
     "output_type": "stream",
     "text": [
      "0.9942173922705958 0.00015985482970844007\n"
     ]
    }
   ],
   "source": [
    "rep = 1- (data.sum()[\"XOR\"])/(data.shape[0])\n",
    "list1 = list(data[\"XOR\"])\n",
    "std = (np.std(list1))/np.sqrt(len(list1))\n",
    "print(rep,std)"
   ]
  },
  {
   "cell_type": "code",
   "execution_count": 61,
   "metadata": {},
   "outputs": [
    {
     "data": {
      "text/plain": [
       "0.9942173922705958"
      ]
     },
     "execution_count": 61,
     "metadata": {},
     "output_type": "execute_result"
    }
   ],
   "source": [
    "rep"
   ]
  },
  {
   "cell_type": "code",
   "execution_count": 62,
   "metadata": {},
   "outputs": [
    {
     "data": {
      "text/plain": [
       "0.00015985482970844007"
      ]
     },
     "execution_count": 62,
     "metadata": {},
     "output_type": "execute_result"
    }
   ],
   "source": [
    "std"
   ]
  },
  {
   "cell_type": "code",
   "execution_count": null,
   "metadata": {},
   "outputs": [],
   "source": []
  }
 ],
 "metadata": {
  "kernelspec": {
   "display_name": "Python 3",
   "language": "python",
   "name": "python3"
  },
  "language_info": {
   "codemirror_mode": {
    "name": "ipython",
    "version": 3
   },
   "file_extension": ".py",
   "mimetype": "text/x-python",
   "name": "python",
   "nbconvert_exporter": "python",
   "pygments_lexer": "ipython3",
   "version": "3.8.8"
  },
  "latex_envs": {
   "LaTeX_envs_menu_present": true,
   "autoclose": false,
   "autocomplete": true,
   "bibliofile": "biblio.bib",
   "cite_by": "apalike",
   "current_citInitial": 1,
   "eqLabelWithNumbers": true,
   "eqNumInitial": 1,
   "hotkeys": {
    "equation": "Ctrl-E",
    "itemize": "Ctrl-I"
   },
   "labels_anchors": false,
   "latex_user_defs": false,
   "report_style_numbering": false,
   "user_envs_cfg": false
  },
  "toc": {
   "base_numbering": 1,
   "nav_menu": {},
   "number_sections": true,
   "sideBar": true,
   "skip_h1_title": false,
   "title_cell": "Table of Contents",
   "title_sidebar": "Contents",
   "toc_cell": false,
   "toc_position": {
    "height": "calc(100% - 180px)",
    "left": "10px",
    "top": "150px",
    "width": "290.54px"
   },
   "toc_section_display": true,
   "toc_window_display": true
  }
 },
 "nbformat": 4,
 "nbformat_minor": 2
}
