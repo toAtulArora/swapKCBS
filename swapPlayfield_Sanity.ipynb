{
 "cells": [
  {
   "cell_type": "markdown",
   "metadata": {},
   "source": [
    "# Libraries"
   ]
  },
  {
   "cell_type": "code",
   "execution_count": 1,
   "metadata": {},
   "outputs": [
    {
     "ename": "RuntimeError",
     "evalue": "module compiled against API version 0xc but this version of numpy is 0xa",
     "output_type": "error",
     "traceback": [
      "\u001b[0;31m---------------------------------------------------------------------------\u001b[0m",
      "\u001b[0;31mRuntimeError\u001b[0m                              Traceback (most recent call last)",
      "\u001b[0;31mRuntimeError\u001b[0m: module compiled against API version 0xc but this version of numpy is 0xa"
     ]
    },
    {
     "ename": "RuntimeError",
     "evalue": "module compiled against API version 0xc but this version of numpy is 0xa",
     "output_type": "error",
     "traceback": [
      "\u001b[0;31m---------------------------------------------------------------------------\u001b[0m",
      "\u001b[0;31mRuntimeError\u001b[0m                              Traceback (most recent call last)",
      "\u001b[0;31mRuntimeError\u001b[0m: module compiled against API version 0xc but this version of numpy is 0xa"
     ]
    },
    {
     "ename": "RuntimeError",
     "evalue": "module compiled against API version 0xc but this version of numpy is 0xa",
     "output_type": "error",
     "traceback": [
      "\u001b[0;31m---------------------------------------------------------------------------\u001b[0m",
      "\u001b[0;31mRuntimeError\u001b[0m                              Traceback (most recent call last)",
      "\u001b[0;31mRuntimeError\u001b[0m: module compiled against API version 0xc but this version of numpy is 0xa"
     ]
    }
   ],
   "source": [
    "import numpy as np\n",
    "import sympy as sp\n",
    "import sympy.physics.quantum as sq\n",
    "import sympy.physics.quantum.qubit as sqq\n",
    "import sympy.physics.quantum.gate as sqg\n",
    "\n",
    "import cvxpy as cp\n",
    "\n",
    "import matplotlib.pyplot as plt\n",
    "import networkx as nx\n",
    "\n",
    "sp.init_printing(use_latex='mathjax')\n",
    "from IPython.display import display"
   ]
  },
  {
   "cell_type": "markdown",
   "metadata": {
    "heading_collapsed": true
   },
   "source": [
    "## Extending the braket library to include orthogonality"
   ]
  },
  {
   "cell_type": "code",
   "execution_count": null,
   "metadata": {
    "hidden": true
   },
   "outputs": [],
   "source": [
    "class onStruct:\n",
    "    G = nx.Graph()\n",
    "\n",
    "class onKet(sq.Ket,onStruct):\n",
    "    def _eval_innerproduct(self,bra,**hints):\n",
    "        #Check if the innerproduct is with yourself, then set 1\n",
    "        if sq.Dagger(bra) == self:\n",
    "            return sp.Integer(1)\n",
    "        #Else, if the innerproduct is with a neighbor from the graph, set 0\n",
    "        elif sq.Dagger(bra) in G[self]:\n",
    "            return sp.Integer(0)\n",
    "        #Else, do nothing; not enough information\n",
    "    \n",
    "    @classmethod\n",
    "    def set_on_rel(cls,givenG):\n",
    "        cls.G=givenG\n",
    "    \n",
    "    @classmethod\n",
    "    def dual_class(self):\n",
    "        return onBra\n",
    "\n",
    "    \n",
    "class onBra(sq.Bra,onStruct):\n",
    "    @classmethod\n",
    "    def dual_class(self):\n",
    "        return onKet"
   ]
  },
  {
   "cell_type": "code",
   "execution_count": null,
   "metadata": {
    "hidden": true
   },
   "outputs": [],
   "source": [
    "class bKet(sq.Ket):\n",
    "    \n",
    "    #total number of kets (automatically increases as new instances are initialised)\n",
    "    totalKets=0\n",
    "    \n",
    "    #this method automates the increase\n",
    "    @classmethod\n",
    "    def _eval_args(cls,args):\n",
    "        #validate input type\n",
    "        if not isinstance(args[0],int):\n",
    "            raise ValueError(\"Integer expected in the argument, got: %r\"%args[0])\n",
    "\n",
    "        #if a ket |5> is initialised, the dimension is assumed to be 6 since we have |0>,|1>,...|5>\n",
    "        if int(args[0])+1 > cls.totalKets:\n",
    "            cls.totalKets=args[0]+1\n",
    "        \n",
    "        #pass control back to the base class\n",
    "        return sq.Ket._eval_args(args) \n",
    "    \n",
    "    #Could not find a way of using just one function; need to go through the two\n",
    "    #based on a combination of the qubit implementation and the \n",
    "    def _represent_default_basis(s,**options):\n",
    "        return s._represent_bKet(None,**options) #syntax taken from the Qubit library\n",
    "    \n",
    "    def _represent_bKet(s,basis,**options): #_represent_default_basis\n",
    "        a=np.zeros(s.__class__.totalKets,dtype=int)\n",
    "        a[s.label[0]]=1\n",
    "        return sp.Matrix(a)\n",
    "    \n",
    "    @classmethod\n",
    "    def set_dimension(cls,arg):\n",
    "        cls.totalKets=arg\n",
    "    \n",
    "    def _eval_innerproduct(self,bra,**hints):\n",
    "        #Check if the innerproduct is with yourself, then set 1\n",
    "        if sq.Dagger(bra) == self:\n",
    "            return sp.Integer(1)\n",
    "        #Else, if the innerproduct is with a neighbor from the graph, set 0\n",
    "        else:\n",
    "            return sp.Integer(0)\n",
    "        #Else, do nothing; not enough information\n",
    "    \n",
    "\n",
    "    @classmethod\n",
    "    def dual_class(self):\n",
    "        return bBra\n",
    "\n",
    "    \n",
    "class bBra(sq.Bra):\n",
    "    # @classmethod\n",
    "    # def _eval_args(cls,args):\n",
    "    #     return args\n",
    "    \n",
    "    @classmethod\n",
    "    def dual_class(cls):\n",
    "        return bKet"
   ]
  },
  {
   "cell_type": "markdown",
   "metadata": {
    "hidden": true
   },
   "source": [
    "### Debugging | representation example"
   ]
  },
  {
   "cell_type": "code",
   "execution_count": null,
   "metadata": {
    "hidden": true
   },
   "outputs": [],
   "source": [
    "class SzUpKet(sq.Ket):\n",
    "    def _represent_SzUpKet(s,basis,**options):\n",
    "        return sp.Matrix([1,0])\n",
    "    \n",
    "#     def _represent_SzOp(s,basis,**options):\n",
    "#         return sp.Matrix([1,0])\n",
    "\n",
    "class SzOp(sq.Operator):\n",
    "    pass\n",
    "\n",
    "sz = SzOp('Sz')\n",
    "up = SzUpKet('up')\n",
    "sq.represent(up,basis=SzUpKet) #,basis=sz)"
   ]
  },
  {
   "cell_type": "markdown",
   "metadata": {
    "hidden": true
   },
   "source": [
    "### Testing | Dimension increasing?"
   ]
  },
  {
   "cell_type": "code",
   "execution_count": null,
   "metadata": {
    "hidden": true
   },
   "outputs": [],
   "source": [
    "# class bKet(sq.Ket):\n",
    "    \n",
    "#     #total number of kets (automatically increases as new instances are initialised)\n",
    "#     totalKets=0\n",
    "    \n",
    "#     #this method automates the increase\n",
    "#     @classmethod\n",
    "#     def _eval_args(cls,args):\n",
    "#         #validate input type\n",
    "#         if not isinstance(args[0],int):\n",
    "#             raise ValueError(\"Integer expected in the argument, got: %r\"%args[0])\n",
    "\n",
    "#         #if a ket |5> is initialised, the dimension is assumed to be 6 since we have |0>,|1>,...|5>\n",
    "#         if int(args[0])+1 > cls.totalKets:\n",
    "#             cls.totalKets=args[0]+1\n",
    "        \n",
    "#         #pass control back to the base class\n",
    "#         return sq.Ket._eval_args(args) \n",
    "    \n",
    "#     #Could not find a way of using just one function; need to go through the two\n",
    "#     #based on a combination of the qubit implementation and the \n",
    "#     def _represent_default_basis(s,**options):\n",
    "#         return s._represent_bKet(None,**options) #syntax taken from the Qubit library\n",
    "    \n",
    "#     def _represent_bKet(s,basis,**options): #_represent_default_basis\n",
    "#         a=np.zeros(s.__class__.totalKets,dtype=int)\n",
    "#         a[s.label[0]]=1\n",
    "#         return sp.Matrix(a)\n",
    "    \n",
    "#     @classmethod\n",
    "#     def set_dimension(cls,arg):\n",
    "#         cls.totalKets=arg\n",
    "    \n",
    "#     def _eval_innerproduct(self,bra,**hints):\n",
    "#         #Check if the innerproduct is with yourself, then set 1\n",
    "#         if sq.Dagger(bra) == self:\n",
    "#             return sp.Integer(1)\n",
    "#         #Else, if the innerproduct is with a neighbor from the graph, set 0\n",
    "#         else:\n",
    "#             return sp.Integer(0)\n",
    "#         #Else, do nothing; not enough information\n",
    "    \n",
    "\n",
    "#     @classmethod\n",
    "#     def dual_class(self):\n",
    "#         return bBra\n",
    "\n",
    "    \n",
    "# class bBra(sq.Bra):\n",
    "#     # @classmethod\n",
    "#     # def _eval_args(cls,args):\n",
    "#     #     return args\n",
    "    \n",
    "#     @classmethod\n",
    "#     def dual_class(cls):\n",
    "#         return bKet"
   ]
  },
  {
   "cell_type": "code",
   "execution_count": null,
   "metadata": {
    "hidden": true
   },
   "outputs": [],
   "source": [
    "a=bKet(0)\n",
    "\n",
    "b=a*sq.Dagger(a)\n",
    "\n",
    "print(bKet.totalKets)\n",
    "sq.represent(a)\n",
    "\n",
    "c=bKet(3);\n",
    "sq.represent(a)\n",
    "sq.represent(b)\n",
    "sq.represent(c)"
   ]
  },
  {
   "cell_type": "code",
   "execution_count": null,
   "metadata": {
    "hidden": true
   },
   "outputs": [],
   "source": [
    "a=bKet(0); a"
   ]
  },
  {
   "cell_type": "code",
   "execution_count": null,
   "metadata": {
    "hidden": true
   },
   "outputs": [],
   "source": [
    "sq.represent(a)"
   ]
  },
  {
   "cell_type": "code",
   "execution_count": null,
   "metadata": {
    "hidden": true
   },
   "outputs": [],
   "source": [
    "b=bKet(1); b"
   ]
  },
  {
   "cell_type": "code",
   "execution_count": null,
   "metadata": {
    "hidden": true
   },
   "outputs": [],
   "source": [
    "sq.represent(b)"
   ]
  },
  {
   "cell_type": "code",
   "execution_count": null,
   "metadata": {
    "hidden": true
   },
   "outputs": [],
   "source": [
    "sq.represent(a)"
   ]
  },
  {
   "cell_type": "code",
   "execution_count": null,
   "metadata": {
    "hidden": true
   },
   "outputs": [],
   "source": [
    "c=bKet(3); c"
   ]
  },
  {
   "cell_type": "code",
   "execution_count": null,
   "metadata": {
    "hidden": true
   },
   "outputs": [],
   "source": [
    "sq.represent(a)"
   ]
  },
  {
   "cell_type": "markdown",
   "metadata": {
    "heading_collapsed": true
   },
   "source": [
    "# Swap KCBS | Playfield "
   ]
  },
  {
   "cell_type": "markdown",
   "metadata": {
    "hidden": true
   },
   "source": [
    "## Inputs"
   ]
  },
  {
   "cell_type": "code",
   "execution_count": null,
   "metadata": {
    "hidden": true
   },
   "outputs": [],
   "source": [
    "class inputs:\n",
    "    graphSize = 5\n",
    "    p = 1/np.sqrt(5)*np.array([1,1,1,1,1])"
   ]
  },
  {
   "cell_type": "markdown",
   "metadata": {
    "hidden": true
   },
   "source": [
    "## The Sympy Part | playground"
   ]
  },
  {
   "cell_type": "code",
   "execution_count": null,
   "metadata": {
    "hidden": true
   },
   "outputs": [],
   "source": [
    "k0 = sq.Ket('φ')\n",
    "k1 = sq.Ket('ψ')\n",
    "superposition = k0+k1; superposition"
   ]
  },
  {
   "cell_type": "code",
   "execution_count": null,
   "metadata": {
    "hidden": true
   },
   "outputs": [],
   "source": [
    "inner_prod = sq.Dagger(superposition)*superposition; inner_prod"
   ]
  },
  {
   "cell_type": "code",
   "execution_count": null,
   "metadata": {
    "hidden": true
   },
   "outputs": [],
   "source": [
    "sq.qapply(inner_prod)"
   ]
  },
  {
   "cell_type": "code",
   "execution_count": null,
   "metadata": {
    "hidden": true
   },
   "outputs": [],
   "source": [
    "density = sq.qapply(superposition*sq.Dagger(superposition)); density"
   ]
  },
  {
   "cell_type": "code",
   "execution_count": null,
   "metadata": {
    "hidden": true
   },
   "outputs": [],
   "source": [
    "qubit_state = sqq.Qubit('00'); qubit_state"
   ]
  },
  {
   "cell_type": "code",
   "execution_count": null,
   "metadata": {
    "hidden": true
   },
   "outputs": [],
   "source": [
    "isinstance(qubit_state,sq.State)"
   ]
  },
  {
   "cell_type": "code",
   "execution_count": null,
   "metadata": {
    "hidden": true
   },
   "outputs": [],
   "source": [
    "gate_operator = sqg.HadamardGate(0); gate_operator"
   ]
  },
  {
   "cell_type": "code",
   "execution_count": null,
   "metadata": {
    "hidden": true
   },
   "outputs": [],
   "source": [
    "isinstance(gate_operator,sq.Operator)"
   ]
  },
  {
   "cell_type": "code",
   "execution_count": null,
   "metadata": {
    "hidden": true
   },
   "outputs": [],
   "source": [
    "\n",
    "a=sqq.Qubit(0)\n",
    "b=sqq.Qubit(1)\n",
    "\n",
    "d = sq.qapply(sq.Dagger(a)*b).doit(); d"
   ]
  },
  {
   "cell_type": "markdown",
   "metadata": {
    "hidden": true
   },
   "source": [
    "### Playing with classes"
   ]
  },
  {
   "cell_type": "code",
   "execution_count": null,
   "metadata": {
    "hidden": true
   },
   "outputs": [],
   "source": [
    "class A:\n",
    "    gla=1\n",
    "\n",
    "class B:\n",
    "    glaba=3\n",
    "    \n",
    "class C(B,A):\n",
    "    glow=4\n",
    "\n",
    "c=C()\n",
    "\n",
    "print(isinstance(c,A),isinstance(c,B),isinstance(c,C))\n"
   ]
  },
  {
   "cell_type": "markdown",
   "metadata": {
    "hidden": true
   },
   "source": [
    "### Kishor meets the class"
   ]
  },
  {
   "cell_type": "code",
   "execution_count": null,
   "metadata": {
    "hidden": true
   },
   "outputs": [],
   "source": [
    "class Person:\n",
    "    name=\"blank\"\n",
    "    \n",
    "    def set_name(self,arg):\n",
    "        self.name = arg\n",
    "    \n",
    "    @property\n",
    "    def myName(self):\n",
    "        return self.name\n",
    "\n",
    "    def get_name(self):\n",
    "        return self.name\n",
    "    \n",
    "Kishor = Person() \n",
    "Kishor.set_name(\"Bharti\")\n",
    "\n",
    "M = Person()\n",
    "M.set_name(\"M\")\n",
    "\n",
    "\n",
    "\n",
    "print(M.myName, Kishor.myName, M.get_name() )\n",
    "\n",
    "print(M.myName,Kishor.myName)"
   ]
  },
  {
   "cell_type": "code",
   "execution_count": null,
   "metadata": {
    "hidden": true
   },
   "outputs": [],
   "source": [
    "class Person:\n",
    "    name=\"blank\"\n",
    "    compatibility=\"\"\n",
    "    \n",
    "    def set_name(self,arg):\n",
    "        self.name = arg\n",
    "    \n",
    "    @property\n",
    "    def myName(self):\n",
    "        return self.name\n",
    "    \n",
    "    @classmethod\n",
    "    def set_comp(cls,arg):\n",
    "        cls.compatibility=arg\n",
    "        \n",
    "    @classmethod\n",
    "    def get_comp(cls):\n",
    "        return cls.compatibility\n",
    "        \n",
    "    @property\n",
    "    def comp(self):\n",
    "        return self.compatibility\n",
    "    \n",
    "Kishor = Person() \n",
    "Kishor.set_name(\"Bharti\")\n",
    "\n",
    "M = Person()\n",
    "M.set_name(\"M\")\n",
    "\n",
    "Person.set_comp(\"M hates K\")\n",
    "print(Person.get_comp())\n",
    "\n",
    "print(M.myName,Kishor.myName)\n",
    "\n",
    "print(M.comp,Kishor.comp)"
   ]
  },
  {
   "cell_type": "code",
   "execution_count": null,
   "metadata": {
    "hidden": true
   },
   "outputs": [],
   "source": [
    "class A:\n",
    "    aVal=\"blank\"\n",
    "    \n",
    "    @property\n",
    "    def myVal(self):\n",
    "        return self.aVal\n",
    "\n",
    "class C:\n",
    "    cVal=\"blank3\"\n",
    "    \n",
    "    @property\n",
    "    def myVal3(self):\n",
    "        return self.cVal\n",
    "    \n",
    "class B(A,C):\n",
    "    bVal=\"blank2\"\n",
    "    \n",
    "    @property\n",
    "    def myVal2(self):\n",
    "        return self.bVal\n",
    "    \n",
    "a = B()\n",
    "\n",
    "print(a.myVal2,a.myVal,a.myVal3)"
   ]
  },
  {
   "cell_type": "markdown",
   "metadata": {
    "hidden": true
   },
   "source": [
    "### Preliminary implementation of orthogonormal kets (uses labels)"
   ]
  },
  {
   "cell_type": "code",
   "execution_count": null,
   "metadata": {
    "hidden": true
   },
   "outputs": [],
   "source": [
    "class onKet(sq.Ket):\n",
    "#     a=1\n",
    "    \n",
    "    #@classmethod\n",
    "    #this @classmethod descriptor was killing it\n",
    "    #it was sending the class in \"self\" instead of the instance in \"self\"\n",
    "    #makes sense now\n",
    "    #I can perhaps use this to set orthogonality relations a little more generally\n",
    "    def _eval_innerproduct(self,bra,**hints):\n",
    "        #print(self.label,bra.label)\n",
    "        if self.label == bra.label:\n",
    "            return sp.Integer(1)\n",
    "        else:\n",
    "            return sp.Integer(0)\n",
    "    \n",
    "    @classmethod\n",
    "    def dual_class(self):\n",
    "        return onBra\n",
    "    @property\n",
    "    def iAm(self):\n",
    "        return self.label\n",
    "    \n",
    "class onBra(sq.Bra):\n",
    "#     a=2\n",
    "\n",
    "#     @classmethod\n",
    "#     def _eval_innerproduct(self,ket,**hints):\n",
    "#         if self.label == ket.label:\n",
    "#             return sp.Integer(1)\n",
    "#         else:\n",
    "#             return sp.Integer(0)\n",
    "    \n",
    "    @classmethod\n",
    "    def dual_class(self):\n",
    "        return onKet"
   ]
  },
  {
   "cell_type": "code",
   "execution_count": null,
   "metadata": {
    "hidden": true
   },
   "outputs": [],
   "source": [
    "a=onKet(0)\n",
    "b=onKet(1)"
   ]
  },
  {
   "cell_type": "code",
   "execution_count": null,
   "metadata": {
    "hidden": true
   },
   "outputs": [],
   "source": [
    "c=a+b; c"
   ]
  },
  {
   "cell_type": "code",
   "execution_count": null,
   "metadata": {
    "hidden": true
   },
   "outputs": [],
   "source": [
    "sq.qapply(sq.Dagger(b)*a).doit()"
   ]
  },
  {
   "cell_type": "code",
   "execution_count": null,
   "metadata": {
    "hidden": true
   },
   "outputs": [],
   "source": [
    "d=sq.Dagger(c)*b\n",
    "sq.qapply(d).doit()"
   ]
  },
  {
   "cell_type": "markdown",
   "metadata": {
    "hidden": true
   },
   "source": [
    "### Orthogonal Ket, general orthogonality relation"
   ]
  },
  {
   "cell_type": "code",
   "execution_count": null,
   "metadata": {
    "hidden": true
   },
   "outputs": [],
   "source": [
    "class onStruct:\n",
    "    G = nx.Graph()\n",
    "\n",
    "class onKet(sq.Ket,onStruct):\n",
    "#     a=1\n",
    "    #@classmethod\n",
    "    #this @classmethod descriptor was killing it\n",
    "    #it was sending the class in \"self\" instead of the instance in \"self\"\n",
    "    #makes sense now\n",
    "    #I can perhaps use this to set orthogonality relations a little more generally\n",
    "    def _eval_innerproduct(self,bra,**hints):\n",
    "        #print(self.label,bra.label)        \n",
    "        if sq.Dagger(bra) == self:\n",
    "        #if self.label == bra.label:\n",
    "            return sp.Integer(1)\n",
    "        elif sq.Dagger(bra) in G[self]:\n",
    "            return sp.Integer(0)\n",
    "    \n",
    "    @classmethod\n",
    "    def set_on_rel(cls,givenG):\n",
    "        cls.G=givenG\n",
    "    \n",
    "    @classmethod\n",
    "    def dual_class(self):\n",
    "        return onBra\n",
    "\n",
    "    \n",
    "class onBra(sq.Bra,onStruct):\n",
    "#     a=2\n",
    "\n",
    "#     @classmethod\n",
    "#     def _eval_innerproduct(self,ket,**hints):\n",
    "#         if self.label == ket.label:\n",
    "#             return sp.Integer(1)\n",
    "#         else:\n",
    "#             return sp.Integer(0)    \n",
    "    @classmethod\n",
    "    def dual_class(self):\n",
    "        return onKet"
   ]
  },
  {
   "cell_type": "code",
   "execution_count": null,
   "metadata": {
    "hidden": true
   },
   "outputs": [],
   "source": [
    "#define the kets\n",
    "a=onKet(1)\n",
    "b=onKet(2)\n",
    "c=onKet(3)\n",
    "d=onKet(4)\n",
    "\n",
    "#define the orthogonality relation using a graph (edges mean orthogonal)\n",
    "G = nx.Graph()\n",
    "G.add_nodes_from([a,b,c,d])\n",
    "G.add_edges_from([[a,b],[b,c],[c,d],[d,a]])\n",
    "\n",
    "#Add this graph to the class\n",
    "onKet.set_on_rel(G)\n",
    "\n",
    "#test\n",
    "s1 = (a+b+c)/sp.sqrt(3)\n",
    "s2 = (b+c+d)/sp.sqrt(3)\n",
    "\n",
    "d = sq.Dagger(s1)*s2\n",
    "\n",
    "#simplify\n",
    "sq.qapply(d).doit()"
   ]
  },
  {
   "cell_type": "code",
   "execution_count": null,
   "metadata": {
    "hidden": true
   },
   "outputs": [],
   "source": [
    "#plot the graph for fun\n",
    "nx.draw(G, with_labels=True)"
   ]
  },
  {
   "cell_type": "code",
   "execution_count": null,
   "metadata": {
    "hidden": true
   },
   "outputs": [],
   "source": [
    "f=sq.Ket(\"f\")\n",
    "g=sq.Ket(\"g\")\n",
    "h=sq.TensorProduct(a,b)\n",
    "l=sq.TensorProduct(b,a)\n",
    "sq.qapply(sq.Dagger(h)*l).doit()"
   ]
  },
  {
   "cell_type": "markdown",
   "metadata": {
    "hidden": true
   },
   "source": [
    "### Playing with networks"
   ]
  },
  {
   "cell_type": "code",
   "execution_count": null,
   "metadata": {
    "hidden": true
   },
   "outputs": [],
   "source": [
    "G = nx.Graph()\n",
    "G.add_node(1)"
   ]
  },
  {
   "cell_type": "code",
   "execution_count": null,
   "metadata": {
    "hidden": true
   },
   "outputs": [],
   "source": [
    "G = nx.Graph()\n",
    "G.add_nodes_from([1,2,3,4,5])\n",
    "G.add_edges_from([[1,2],[2,3],[3,4],[4,5],[5,1]])"
   ]
  },
  {
   "cell_type": "code",
   "execution_count": null,
   "metadata": {
    "hidden": true
   },
   "outputs": [],
   "source": [
    "%matplotlib inline \n",
    "nx.draw(G, with_labels=True)"
   ]
  },
  {
   "cell_type": "code",
   "execution_count": null,
   "metadata": {
    "hidden": true
   },
   "outputs": [],
   "source": [
    "3 in G[1]"
   ]
  },
  {
   "cell_type": "markdown",
   "metadata": {},
   "source": [
    "# Ideal KCBS calculations"
   ]
  },
  {
   "cell_type": "markdown",
   "metadata": {
    "heading_collapsed": true
   },
   "source": [
    "## Working Version"
   ]
  },
  {
   "cell_type": "code",
   "execution_count": null,
   "metadata": {
    "code_folding": [
     40,
     51,
     78
    ],
    "hidden": true
   },
   "outputs": [],
   "source": [
    "class cls_iKCBS:    \n",
    "    \n",
    "    def __init__(s,n):\n",
    "        cls_iKCBS.n=n\n",
    "        #j in 0,1,2,3,4\n",
    "        s.ke = [bKet(j) for j in range(3)]    \n",
    "        s.br = [sq.Dagger(s.ke[j]) for j in range(3)]\n",
    "        s.Πs = []\n",
    "        \n",
    "        #evaluate the projectors for the ideal case\n",
    "        for j in range(n):\n",
    "            s.Πs.append(s.eval(j,n))\n",
    "        \n",
    "        #calculate the matrix representation\n",
    "        s.matΠs = [sq.represent(_) for _ in s.Πs]\n",
    "        \n",
    "        #the first two vectors are taken to be k'\n",
    "        s.kp = [s.eval(0,n,True),s.eval(1,n,True)]\n",
    "        \n",
    "        #the third is constructed as k0 x k1 (cross product) and then added to the list\n",
    "        s.kp.append(s.cross(s.kp))\n",
    "        \n",
    "        #evaluates the conjugate for each element in the list\n",
    "        s.bp=[sq.Dagger(ikp) for ikp in s.kp]                \n",
    "        \n",
    "        #the T prime operator\n",
    "        s.T = s.kp[0]*s.bp[2] + s.kp[1]*s.bp[0] + s.kp[2]*s.bp[1] \n",
    "        s.matT=sq.represent(s.T)\n",
    "        \n",
    "        #Now the abstract ones\n",
    "        \n",
    "        #creates n abstract projectors (basically just a bunch of non-commuting symbols)\n",
    "        s._Πs = sp.symbols('Π_0:%d'%n,commutative=False)\n",
    "        \n",
    "        #the following will find _Τ as a function of _Πs \n",
    "        s._T=s.eval_c() #NB: it computes the coefficients into s.c\n",
    "        \n",
    "        #Just trying\n",
    "        s.U=sq.TensorProduct(s._T,s.Πs[0])\n",
    "    \n",
    "    def cross(s,vecs):\n",
    "        ca=[sq.qapply(sq.Dagger(s.ke[i])*vecs[0]).doit() for i in range(3)]\n",
    "        cb=[sq.qapply(sq.Dagger(s.ke[i])*vecs[1]).doit() for i in range(3)]\n",
    "        \n",
    "        res = (ca[2-1]*cb[3-1] - ca[3-1]*cb[2-1])*s.ke[0] + \\\n",
    "             (ca[3-1]*cb[1-1]-ca[1-1]*cb[3-1])*s.ke[1] + \\\n",
    "             (ca[1-1]*cb[2-1] - ca[2-1]*cb[1-1])*s.ke[2]\n",
    "        \n",
    "        return res\n",
    "\n",
    "    #evaluates the matrices and vectors\n",
    "    def eval(s,j,n,ve=False):\n",
    "        N=sp.Integer(n)\n",
    "        J=sp.Integer(j)\n",
    "        #print(N,j)\n",
    "        one=sp.Integer(1)\n",
    "        #print(one)\n",
    "        α1=sp.cos((sp.pi)/N)/(one+sp.cos(sp.pi/N)) #verified\n",
    "        #a1=sp.cos(sp.pi/N)\n",
    "        #\n",
    "        #print(α1)\n",
    "        \n",
    "        α2=one-α1 #verified\n",
    "        α3=J * sp.pi * (N-one)/N #verified\n",
    "        \n",
    "        vec = sp.sqrt(α1)*s.ke[0] + sp.sqrt(α2)*sp.sin(α3)*s.ke[1] + sp.sqrt(α2)*sp.cos(α3)*s.ke[2]\n",
    "        \n",
    "        projector = vec*sq.Dagger(vec)\n",
    "           \n",
    "        #matrixprojector = sp.Matrix([0,0])\n",
    "        #return projector\n",
    "        \n",
    "        if ve==False:\n",
    "            return projector\n",
    "        else:\n",
    "            return vec\n",
    "\n",
    "    \n",
    "    def eval_c(s,varCount=None):\n",
    "        cls=s.__class__\n",
    "        if varCount==None:\n",
    "            varCount=cls_iKCBS.n*2\n",
    "        if varCount <= cls.n:\n",
    "            raise ValueError(\"number of variables should be at least n\")\n",
    "    \n",
    "        a=sp.symbols('a0:%d'%varCount)\n",
    "        #s.b=sp.symbols('b0:%d'%varCount)\n",
    "        b=[] #family of solutions\n",
    "        s.c=[] #particular solution with the free variables set to one\n",
    "        \n",
    "        #Setting up of constraints\n",
    "        #If the system is not able to find a solution, consider increasing\n",
    "        #the number of variables by taking different sets of products or products of three operators\n",
    "        TfΠ=a[0]*s.Πs[0]\n",
    "        _TfΠ=a[0]*s._Πs[0]\n",
    "        for i in range(1,cls.n):\n",
    "            TfΠ=TfΠ + a[i]*s.Πs[i]\n",
    "            _TfΠ=_TfΠ + a[i]*s._Πs[i]\n",
    "        for i in range(cls.n,varCount):\n",
    "            TfΠ=TfΠ + a[i]*s.Πs[i%cls.n]*s.Πs[(i+2)%cls.n]\n",
    "            _TfΠ=_TfΠ + a[i]*s._Πs[i%cls.n]*s._Πs[(i+2)%cls.n]\n",
    "            \n",
    "            \n",
    "        LHS=sq.represent(TfΠ)\n",
    "        \n",
    "        # LHS=a[0]*s.matΠs[0]\n",
    "        # for i in range(1,cls.n):\n",
    "        #     LHS=LHS+a[i]*s.matΠs[i]\n",
    "        # for i in range(cls.n,varCount):\n",
    "        #     LHS=LHS+a[i]*s.matΠs[i%cls.n]*s.matΠs[(i+2)%cls.n]\n",
    "            \n",
    "        RHS=s.matT\n",
    "        \n",
    "        soln=sp.solve(sp.N(LHS-RHS),a,dict=True)\n",
    "\n",
    "        '''\n",
    "            #soln=sp.solve([a[0]-1,a[1]-2,a[2]-3,a[3]-4,a[4]-5,a[5]-1,a[6]-1,a[7]-1,a[8]-1,a[9]-1],a,dict=True)\n",
    "\n",
    "            # sols = solve([t1 + t2 + t3, eq1, eq2], [t1, t2, t3], dict=True)\n",
    "            # sols[0][t1] # This is t1 in the first solution        \n",
    "        '''\n",
    "\n",
    "        #Dictionary to assign one/zero to free variables\n",
    "        dRem={}\n",
    "        \n",
    "        #IMPORTANT: \n",
    "        #In sympy, symbols/expressions are unmutable (you can't change them ever);\n",
    "        #You can save a substituted expression into a new expression (and use a symbol to denote it)\n",
    "        #To wit: when you substitute, a new expression is produced\n",
    "\n",
    "        for i in range(varCount):\n",
    "            #the variables which were evaluated to an expression, assign them to b[i]\n",
    "            try:\n",
    "                b.append(soln[0][a[i]])      \n",
    "            #if the variable was free, assign b[i] to be one\n",
    "            #and create a dictionary to substitute these free variables\n",
    "            except:\n",
    "                b.append(sp.Integer(1))\n",
    "                dRem[a[i]]=1\n",
    "        \n",
    "        #in the solution saved into b[i], substitute for the free variables using the dictionary\n",
    "        #save the result into the variable c\n",
    "        s.c = [_.subs(dRem) for _ in b]\n",
    "\n",
    "        #substitute the solution into the coefficients in Tfπ_p, the operator T as a sum of projectors (and its products)\n",
    "        dFin={}\n",
    "        for i in range(varCount):\n",
    "            dFin[a[i]]=s.c[i]                \n",
    "        \n",
    "        return _TfΠ.subs(dFin)\n",
    "    \n",
    "    \n",
    "    #This doesn't work as expected\n",
    "    def partial_trace(s,M):\n",
    "        \n",
    "        s.br_ = [ sq.TensorProduct(sq.IdentityOperator(),_) for _ in s.br]\n",
    "        s.ke_ = [ sq.TensorProduct(sq.IdentityOperator(),_) for _ in s.ke]\n",
    "        \n",
    "        res=0*s.br_[0]*M*s.ke_[0]        #to get the type right!\n",
    "        for i in range(3):\n",
    "            for j in range(3):\n",
    "                res=res+s.br_[i]*M*s.ke_[j]\n",
    "        return sq.qapply(res).doit()\n",
    "        "
   ]
  },
  {
   "cell_type": "code",
   "execution_count": null,
   "metadata": {
    "hidden": true
   },
   "outputs": [],
   "source": [
    "\n",
    "iKCBS=cls_iKCBS(5)\n",
    "\n",
    "#sp.init_printing()\n",
    "#sp.pprint(iKCBS.c[0])\n",
    "for i in range(10):\n",
    "    display(iKCBS.c[i])\n",
    "    \n",
    "\n",
    "display(sp.N(iKCBS.matΠs[1]*iKCBS.matΠs[3]))\n",
    "display(sp.N(sq.represent(iKCBS.T)))\n",
    "display(iKCBS._T)\n"
   ]
  },
  {
   "cell_type": "code",
   "execution_count": null,
   "metadata": {
    "hidden": true,
    "scrolled": false
   },
   "outputs": [],
   "source": [
    "display(iKCBS.U)\n",
    "\n",
    "#print(iKCBS.partial_trace(iKCBS.U))\n",
    "\n"
   ]
  },
  {
   "cell_type": "code",
   "execution_count": null,
   "metadata": {
    "hidden": true
   },
   "outputs": [],
   "source": [
    "Identity=sq.IdentityOperator()\n",
    "g=bKet(0)\n",
    "h=bKet(1)\n",
    "\n",
    "ρ_g=g*sq.Dagger(g)\n",
    "ρ_h=h*sq.Dagger(h)\n",
    "\n",
    "#sq.qapply(Identity*g); seems to work\n",
    "\n",
    "#display(sq.TensorProduct(ρ_g,ρ_h))\n",
    "print(\"g\")\n",
    "g_=sq.TensorProduct(Identity,g*sq.Dagger(g)); display(g_)\n",
    "print(\"h\")\n",
    "h_=sq.TensorProduct(Identity,h*sq.Dagger(h)); display(h_)\n",
    "\n",
    "print(\"gh\")\n",
    "display(sq.Dagger(g_)*h_)\n",
    "\n",
    "\n",
    "sq.qapply(sq.Dagger(g_)*h_).doit() #*ρ_g\n",
    "\n",
    "#sq.qapply(sq.Dagger(g)*h).doit()"
   ]
  },
  {
   "cell_type": "markdown",
   "metadata": {
    "hidden": true
   },
   "source": [
    "### Debugging the issue with substitutions"
   ]
  },
  {
   "cell_type": "code",
   "execution_count": null,
   "metadata": {
    "hidden": true
   },
   "outputs": [],
   "source": [
    "\n",
    "# iKCBS.b[1].subs({iKCBS.a[8]:0})\n",
    "\n",
    "# iKCBS.c\n",
    "# #b=sp.symbols('b0:%d'%10)\n",
    "# #b[0].subs(b[0],10)\n",
    "# # gla=sp.Symbol('x'); gla\n",
    "# # gla.subs(gla,10)\n",
    "\n",
    "# #iKCBS.a[8].subs(iKCBS.a[8],0)"
   ]
  },
  {
   "cell_type": "code",
   "execution_count": null,
   "metadata": {
    "hidden": true
   },
   "outputs": [],
   "source": [
    "ket1=bKet(0)\n",
    "ket2=bKet(1)\n",
    "kets=(ket1,ket2)\n",
    "bra=[sq.Dagger(iket) for iket in kets]; bra"
   ]
  },
  {
   "cell_type": "markdown",
   "metadata": {
    "hidden": true
   },
   "source": [
    "### Debugging the issue with _eval_args"
   ]
  },
  {
   "cell_type": "code",
   "execution_count": null,
   "metadata": {
    "hidden": true
   },
   "outputs": [],
   "source": [
    "class cls_iKCBS:    \n",
    "    \n",
    "    def __init__(s,n):\n",
    "        cls_iKCBS.n=n\n",
    "        #j in 0,1,2,3,4\n",
    "        s.ke = [bKet(j) for j in range(3)]    \n",
    "        s.br = [sq.Dagger(s.ke[j]) for j in range(3)]\n",
    "        s.πs = []\n",
    "        s.matπs = [] \n",
    "        #poor man's implementation\n",
    "        for j in range(5):\n",
    "            s.πs.append(s.proj(j,n))            \n",
    "            s.matπs.append(s.matRep(s.proj(j,n)))\n",
    "        s.opT = s.ke[0]*s.br[2] + s.ke[1]*s.br[0] + s.ke[2]*s.br[1]\n",
    "        s.matT=s.matRep(s.opT)\n",
    "\n",
    "    #this method is now obsolete    \n",
    "    def matRep(s,op):\n",
    "        n=3 #s.__class__.n\n",
    "        matop = sp.Matrix(np.zeros((n,n)))        \n",
    "        for i in range(n):\n",
    "            for j in range(n):\n",
    "                matop[i,j] = sq.qapply(sq.Dagger(s.ke[i])*op*s.ke[j]).doit() \n",
    "        return matop\n",
    "        \n",
    "    def proj(s,j,n):\n",
    "        N=sp.Integer(n)\n",
    "        J=sp.Integer(j)\n",
    "        #print(N,j)\n",
    "        one=sp.Integer(1)\n",
    "        #print(one)\n",
    "        α1=sp.cos((sp.pi)/N)/(one+sp.cos(sp.pi/N)) #verified\n",
    "        #a1=sp.cos(sp.pi/N)\n",
    "        #\n",
    "        #print(α1)\n",
    "        \n",
    "        α2=one-α1 #verified\n",
    "        α3=J * sp.pi * (N-one)/N #verified\n",
    "        \n",
    "        vec = sp.sqrt(α1)*s.ke[0] + sp.sqrt(α2)*sp.sin(α3)*s.ke[1] + sp.sqrt(α2)*sp.cos(α3)*s.ke[2]\n",
    "        \n",
    "        projector = vec*sq.Dagger(vec)\n",
    "           \n",
    "        #matrixprojector = sp.Matrix([0,0])\n",
    "        return projector\n",
    "    \n",
    "    \n",
    "    def find_coeff_matT(s):\n",
    "        cls=s.__class__\n",
    "        a=sp.symbols('a0:%d'%(cls.n*2))\n",
    "        LHS=a[0]*s.matπs[0]\n",
    "        for i in range(1,cls.n):\n",
    "            LHS=LHS+a[i]*s.matπs[i]\n",
    "        for i in range(cls.n,2*cls.n):\n",
    "            LHS=LHS+a[i]*s.matπs[i%cls.n]*s.matπs[(i+2)%cls.n]\n",
    "            \n",
    "        RHS=s.matT\n",
    "        return sp.solve(sp.N(LHS-RHS),a)\n",
    "        #return sp.solve(a[0]-a[2],a)\n",
    "        \n",
    "        #print(LHS)\n",
    "        #for i in range\n",
    "        \n",
    "\n",
    "    '''\n",
    "       def vec(self,j,n):    \n",
    "           N=sp.Integer(n)\n",
    "           J=sp.Integer(j)\n",
    "           #print(N,j)\n",
    "           one=sp.Integer(1)\n",
    "           #print(one)\n",
    "           α1=sp.cos((sp.pi)/N)/(one+sp.cos(sp.pi/N)) #verified\n",
    "           #a1=sp.cos(sp.pi/N)\n",
    "           #\n",
    "           #print(α1)\n",
    "        \n",
    "           α2=one-α1 #verified\n",
    "           α3=J * sp.pi * (N-one)/N #verified\n",
    "        \n",
    "           vec = sp.sqrt(α1)*self.k0 + sp.sqrt(α2)*sp.sin(α3)*self.k1 + sp.sqrt(α2)*sp.cos(α3)*self.k2\n",
    "        \n",
    "           #projector = vec*sq.Dagger(vec)\n",
    "           return vec\n",
    "    '''"
   ]
  },
  {
   "cell_type": "code",
   "execution_count": null,
   "metadata": {
    "hidden": true
   },
   "outputs": [],
   "source": [
    "\n",
    "# iKCBS=cls_iKCBS(5)\n",
    "# #to access the vectors \n",
    "\n",
    "# # #uncomment to test\n",
    "# # sq.qapply(sq.qapply(iKCBS.πs[0]*iKCBS.πs[1]))\n",
    "# # #iKCBS.πs[1]\n",
    "\n",
    "# # sp.N(iKCBS.matπs[2])\n",
    "\n",
    "# # iKCBS.find_coeff_matT()"
   ]
  },
  {
   "cell_type": "code",
   "execution_count": null,
   "metadata": {
    "hidden": true
   },
   "outputs": [],
   "source": [
    "# iKCBS.find_coeff_opT()"
   ]
  },
  {
   "cell_type": "markdown",
   "metadata": {
    "hidden": true
   },
   "source": [
    "### Debugging"
   ]
  },
  {
   "cell_type": "code",
   "execution_count": null,
   "metadata": {
    "hidden": true
   },
   "outputs": [],
   "source": [
    "sq.qapply(sq.Dagger(iKCBS.πs[0])*iKCBS.πs[1]);\n",
    "\n",
    "#sq.represent(sq.qapply(sq.Dagger(iKCBS.πs[0])*iKCBS.πs[1]),basis=iKCBS.ke)"
   ]
  },
  {
   "cell_type": "code",
   "execution_count": null,
   "metadata": {
    "code_folding": [
     29
    ],
    "hidden": true
   },
   "outputs": [],
   "source": [
    "#older version without lists\n",
    "class cls_iKCBS:\n",
    "    k0=bKet(0)    \n",
    "    k1=bKet(1)\n",
    "    k2=bKet(2)\n",
    "    \n",
    "    b0=sq.Dagger(k0)\n",
    "    b1=sq.Dagger(k1)\n",
    "    b2=sq.Dagger(k2)\n",
    "    \n",
    "    πs=[]\n",
    "    \n",
    "    def __init__(self,n):\n",
    "        #j in 0,1,2,3,4\n",
    "        for j in range(5):\n",
    "            self.πs.append(self.proj(j,n))\n",
    "    \n",
    "    def proj(self,j,n):\n",
    "        N=sp.Integer(n)\n",
    "        J=sp.Integer(j)\n",
    "        #print(N,j)\n",
    "        one=sp.Integer(1)\n",
    "        #print(one)\n",
    "        α1=sp.cos((sp.pi)/N)/(one+sp.cos(sp.pi/N)) #verified\n",
    "        #a1=sp.cos(sp.pi/N)\n",
    "        #\n",
    "        #print(α1)\n",
    "        \n",
    "        α2=one-α1 #verified\n",
    "        α3=J * sp.pi * (N-one)/N #verified\n",
    "        \n",
    "        vec = sp.sqrt(α1)*self.k0 + sp.sqrt(α2)*sp.sin(α3)*self.k1 + sp.sqrt(α2)*sp.cos(α3)*self.k2\n",
    "        \n",
    "        projector = vec*sq.Dagger(vec)\n",
    "        return projector\n",
    "    '''\n",
    "       def vec(self,j,n):    \n",
    "           N=sp.Integer(n)\n",
    "           J=sp.Integer(j)\n",
    "           #print(N,j)\n",
    "           one=sp.Integer(1)\n",
    "           #print(one)\n",
    "           α1=sp.cos((sp.pi)/N)/(one+sp.cos(sp.pi/N)) #verified\n",
    "           #a1=sp.cos(sp.pi/N)\n",
    "           #\n",
    "           #print(α1)\n",
    "        \n",
    "           α2=one-α1 #verified\n",
    "           α3=J * sp.pi * (N-one)/N #verified\n",
    "        \n",
    "           vec = sp.sqrt(α1)*self.k0 + sp.sqrt(α2)*sp.sin(α3)*self.k1 + sp.sqrt(α2)*sp.cos(α3)*self.k2\n",
    "        \n",
    "           #projector = vec*sq.Dagger(vec)\n",
    "           return vec\n",
    "    '''"
   ]
  },
  {
   "cell_type": "code",
   "execution_count": null,
   "metadata": {
    "hidden": true
   },
   "outputs": [],
   "source": [
    "# iKCBS=cls_iKCBS()\n",
    "# sq.qapply(iKCBS.proj(1,5)).doit();"
   ]
  },
  {
   "cell_type": "code",
   "execution_count": null,
   "metadata": {
    "hidden": true
   },
   "outputs": [],
   "source": [
    "# sp.simplify(sq.qapply(sq.Dagger(iKCBS.k0)*iKCBS.proj(1,5)*iKCBS.proj(2,5)*iKCBS.k0).doit())\n",
    "# #sp.N(sq.qapply(sq.Dagger(iKCBS.k0)*iKCBS.proj(1,5)*iKCBS.proj(2,5)*iKCBS.k0).doit())\n",
    "# #sq.qapply(iKCBS.proj(1,5)*iKCBS.proj(2,5)).doit()"
   ]
  },
  {
   "cell_type": "code",
   "execution_count": null,
   "metadata": {
    "hidden": true
   },
   "outputs": [],
   "source": [
    "(sq.Dagger(iKCBS.k0)*iKCBS.k0).doit()"
   ]
  },
  {
   "cell_type": "code",
   "execution_count": null,
   "metadata": {
    "hidden": true
   },
   "outputs": [],
   "source": [
    "sp.N(sq.qapply(sq.Dagger(iKCBS.vec(1,5))*iKCBS.vec(1,5)).doit(),5000)"
   ]
  },
  {
   "cell_type": "code",
   "execution_count": null,
   "metadata": {
    "hidden": true
   },
   "outputs": [],
   "source": [
    "sp.N(sp.simplify(sq.qapply(sq.Dagger(iKCBS.vec(4,5))*iKCBS.vec(3,5)).doit()))"
   ]
  },
  {
   "cell_type": "code",
   "execution_count": null,
   "metadata": {
    "hidden": true
   },
   "outputs": [],
   "source": [
    "sp.N(sq.qapply(sq.Dagger(iKCBS.πs[0])*iKCBS.πs[1]))"
   ]
  },
  {
   "cell_type": "markdown",
   "metadata": {
    "heading_collapsed": true
   },
   "source": [
    "## Translation Operator using $\\Pi$s\n",
    "\n",
    "See for the original implementation Self-testing_KCBS_fidelity_bounds"
   ]
  },
  {
   "cell_type": "code",
   "execution_count": null,
   "metadata": {
    "hidden": true
   },
   "outputs": [],
   "source": [
    "\n",
    "a=sp.symbols('a0:%d'%(cls_iKCBS.n*2))\n",
    "a[0]\n",
    "c=0\n",
    "c=c+a[0]; c\n"
   ]
  },
  {
   "cell_type": "code",
   "execution_count": null,
   "metadata": {
    "hidden": true
   },
   "outputs": [],
   "source": [
    "a=sp.Matrix(np.zeros((2,2)))\n",
    "a[1,1]=0;a\n"
   ]
  },
  {
   "cell_type": "code",
   "execution_count": null,
   "metadata": {
    "hidden": true
   },
   "outputs": [],
   "source": [
    "a=sqq.IntQubit(2);a\n",
    "\n",
    "b=sqq.IntQubit(1);\n",
    "sq.represent(b);\n",
    "sq.represent(a)"
   ]
  },
  {
   "cell_type": "markdown",
   "metadata": {},
   "source": [
    "## NPA like"
   ]
  },
  {
   "cell_type": "code",
   "execution_count": 2,
   "metadata": {},
   "outputs": [],
   "source": [
    "N=5\n",
    "\n",
    "#Ψ=[sp.symbols('Ψ')]\n",
    "I=[sp.Integer(1)]\n",
    "A=list(sp.symbols('A_0:%d'%N,noncommutative=True))\n",
    "# display(I)\n",
    "# display(A)"
   ]
  },
  {
   "cell_type": "code",
   "execution_count": 39,
   "metadata": {},
   "outputs": [
    {
     "data": {
      "text/latex": [
       "$$A_{0}^{2} + A_{1}^{2} + A_{2}^{2} + A_{3}^{2} + A_{4}^{2}$$"
      ],
      "text/plain": [
       "  2     2     2     2     2\n",
       "A₀  + A₁  + A₂  + A₃  + A₄ "
      ]
     },
     "metadata": {},
     "output_type": "display_data"
    }
   ],
   "source": [
    " objective = A[0]*A[0] + A[1]*A[1] +  A[2]*A[2] + A[3]*A[3] + A[4]*A[4]\n",
    "#objective = A[0]*lI + A[1]*lI +  A[2]*lI + A[3]*lI + A[4]*lI\n",
    "\n",
    "display(objective);"
   ]
  },
  {
   "cell_type": "code",
   "execution_count": 40,
   "metadata": {},
   "outputs": [],
   "source": [
    "\n",
    "\n",
    "L1=A #appends the lists\n",
    "#print(L1)\n",
    "\n",
    "L2=[]\n",
    "for let1 in L1:\n",
    "    for let2 in L1:\n",
    "        L2.append(let1*let2)\n",
    "\n",
    "#print(L2)\n",
    "\n",
    "L = I + L1 + L2\n",
    "\n",
    "#print(L)"
   ]
  },
  {
   "cell_type": "code",
   "execution_count": 41,
   "metadata": {},
   "outputs": [],
   "source": [
    "#symbol to index dictionary\n",
    "sTi={}\n",
    "\n",
    "for i in range(len(L)):\n",
    "    sTi[L[i]]=i\n",
    "\n",
    "#print(sTi)"
   ]
  },
  {
   "cell_type": "code",
   "execution_count": 42,
   "metadata": {},
   "outputs": [
    {
     "data": {
      "image/png": "[encoded data removed]",
      "text/plain": [
       "<Figure size 432x288 with 1 Axes>"
      ]
     },
     "metadata": {},
     "output_type": "display_data"
    }
   ],
   "source": [
    "G = nx.Graph()\n",
    "\n",
    "#node2 in G[node1] #yes if they are connected by an edge\n",
    "\n",
    "G = nx.Graph()\n",
    "G.add_nodes_from(L1)\n",
    "G.add_edges_from([[L1[i],L1[(i+1)%(N)]] for i in range(N)])\n",
    "\n",
    "%matplotlib inline \n",
    "nx.draw(G, with_labels=True)"
   ]
  },
  {
   "cell_type": "markdown",
   "metadata": {
    "heading_collapsed": true
   },
   "source": [
    "### Zero list (useless?)"
   ]
  },
  {
   "cell_type": "code",
   "execution_count": null,
   "metadata": {
    "hidden": true
   },
   "outputs": [],
   "source": [
    "zeroDict={}\n",
    "zeroList=[]\n",
    "for _ in L1:\n",
    "    for _2 in L1:\n",
    "        if _ in G[_2]: #share an edge\n",
    "            zeroDict[_*_2]=0\n",
    "            zeroList.append(_*_2)\n",
    "\n",
    "#print(zeroDict);"
   ]
  },
  {
   "cell_type": "markdown",
   "metadata": {
    "heading_collapsed": true
   },
   "source": [
    "### Creating the matrix of symbols (just for show; useless)"
   ]
  },
  {
   "cell_type": "code",
   "execution_count": null,
   "metadata": {
    "hidden": true
   },
   "outputs": [],
   "source": [
    "#creating the matrix\n",
    "\n",
    "matList=[]\n",
    "\n",
    "for _ in L:\n",
    "    matList.append([_*_2 for _2 in L])\n",
    "\n",
    "#print(matList)\n",
    "\n",
    "sp.Matrix(matList);"
   ]
  },
  {
   "cell_type": "markdown",
   "metadata": {},
   "source": [
    "### Sympy says hello to Cvxpy"
   ]
  },
  {
   "cell_type": "code",
   "execution_count": 45,
   "metadata": {},
   "outputs": [
    {
     "name": "stdout",
     "output_type": "stream",
     "text": [
      "1 A_0 0\n",
      "1 A_1 0\n",
      "1 A_2 0\n",
      "1 A_3 0\n",
      "1 A_4 0\n",
      "1 A_0**2 1.00000000000000\n",
      "1 A_0*A_1 0\n",
      "1 A_0*A_2 0\n",
      "1 A_0*A_3 0\n",
      "1 A_0*A_4 0\n",
      "1 A_0*A_1 0\n",
      "1 A_1**2 1.00000000000000\n",
      "1 A_1*A_2 0\n",
      "1 A_1*A_3 0\n",
      "1 A_1*A_4 0\n",
      "1 A_0*A_2 0\n",
      "1 A_1*A_2 0\n",
      "1 A_2**2 1.00000000000000\n",
      "1 A_2*A_3 0\n",
      "1 A_2*A_4 0\n",
      "1 A_0*A_3 0\n",
      "1 A_1*A_3 0\n",
      "1 A_2*A_3 0\n",
      "1 A_3**2 1.00000000000000\n",
      "1 A_3*A_4 0\n",
      "1 A_0*A_4 0\n",
      "1 A_1*A_4 0\n",
      "1 A_2*A_4 0\n",
      "1 A_3*A_4 0\n",
      "1 A_4**2 1.00000000000000\n",
      "A_0 1 0\n",
      "A_0 A_0 1.00000000000000\n",
      "A_0 A_1 0\n",
      "A_0 A_2 0\n",
      "A_0 A_3 0\n",
      "A_0 A_4 0\n",
      "A_0 A_0**2 0\n",
      "A_0 A_0*A_1 0\n",
      "A_0 A_0*A_2 0\n",
      "A_0 A_0*A_3 0\n",
      "A_0 A_0*A_4 0\n",
      "A_0 A_0*A_1 0\n",
      "A_0 A_1**2 0\n",
      "A_0 A_1*A_2 0\n",
      "A_0 A_1*A_3 0\n",
      "A_0 A_1*A_4 0\n",
      "A_0 A_0*A_2 0\n",
      "A_0 A_1*A_2 0\n",
      "A_0 A_2**2 0\n",
      "A_0 A_2*A_3 0\n",
      "A_0 A_2*A_4 0\n",
      "A_0 A_0*A_3 0\n",
      "A_0 A_1*A_3 0\n",
      "A_0 A_2*A_3 0\n",
      "A_0 A_3**2 0\n",
      "A_0 A_3*A_4 0\n",
      "A_0 A_0*A_4 0\n",
      "A_0 A_1*A_4 0\n",
      "A_0 A_2*A_4 0\n",
      "A_0 A_3*A_4 0\n",
      "A_0 A_4**2 0\n",
      "A_1 1 0\n",
      "A_1 A_0 0\n",
      "A_1 A_1 1.00000000000000\n",
      "A_1 A_2 0\n",
      "A_1 A_3 0\n",
      "A_1 A_4 0\n",
      "A_1 A_0**2 0\n",
      "A_1 A_0*A_1 0\n",
      "A_1 A_0*A_2 0\n",
      "A_1 A_0*A_3 0\n",
      "A_1 A_0*A_4 0\n",
      "A_1 A_0*A_1 0\n",
      "A_1 A_1**2 0\n",
      "A_1 A_1*A_2 0\n",
      "A_1 A_1*A_3 0\n",
      "A_1 A_1*A_4 0\n",
      "A_1 A_0*A_2 0\n",
      "A_1 A_1*A_2 0\n",
      "A_1 A_2**2 0\n",
      "A_1 A_2*A_3 0\n",
      "A_1 A_2*A_4 0\n",
      "A_1 A_0*A_3 0\n",
      "A_1 A_1*A_3 0\n",
      "A_1 A_2*A_3 0\n",
      "A_1 A_3**2 0\n",
      "A_1 A_3*A_4 0\n",
      "A_1 A_0*A_4 0\n",
      "A_1 A_1*A_4 0\n",
      "A_1 A_2*A_4 0\n",
      "A_1 A_3*A_4 0\n",
      "A_1 A_4**2 0\n",
      "A_2 1 0\n",
      "A_2 A_0 0\n",
      "A_2 A_1 0\n",
      "A_2 A_2 1.00000000000000\n",
      "A_2 A_3 0\n",
      "A_2 A_4 0\n",
      "A_2 A_0**2 0\n",
      "A_2 A_0*A_1 0\n",
      "A_2 A_0*A_2 0\n",
      "A_2 A_0*A_3 0\n",
      "A_2 A_0*A_4 0\n",
      "A_2 A_0*A_1 0\n",
      "A_2 A_1**2 0\n",
      "A_2 A_1*A_2 0\n",
      "A_2 A_1*A_3 0\n",
      "A_2 A_1*A_4 0\n",
      "A_2 A_0*A_2 0\n",
      "A_2 A_1*A_2 0\n",
      "A_2 A_2**2 0\n",
      "A_2 A_2*A_3 0\n",
      "A_2 A_2*A_4 0\n",
      "A_2 A_0*A_3 0\n",
      "A_2 A_1*A_3 0\n",
      "A_2 A_2*A_3 0\n",
      "A_2 A_3**2 0\n",
      "A_2 A_3*A_4 0\n",
      "A_2 A_0*A_4 0\n",
      "A_2 A_1*A_4 0\n",
      "A_2 A_2*A_4 0\n",
      "A_2 A_3*A_4 0\n",
      "A_2 A_4**2 0\n",
      "A_3 1 0\n",
      "A_3 A_0 0\n",
      "A_3 A_1 0\n",
      "A_3 A_2 0\n",
      "A_3 A_3 1.00000000000000\n",
      "A_3 A_4 0\n",
      "A_3 A_0**2 0\n",
      "A_3 A_0*A_1 0\n",
      "A_3 A_0*A_2 0\n",
      "A_3 A_0*A_3 0\n",
      "A_3 A_0*A_4 0\n",
      "A_3 A_0*A_1 0\n",
      "A_3 A_1**2 0\n",
      "A_3 A_1*A_2 0\n",
      "A_3 A_1*A_3 0\n",
      "A_3 A_1*A_4 0\n",
      "A_3 A_0*A_2 0\n",
      "A_3 A_1*A_2 0\n",
      "A_3 A_2**2 0\n",
      "A_3 A_2*A_3 0\n",
      "A_3 A_2*A_4 0\n",
      "A_3 A_0*A_3 0\n",
      "A_3 A_1*A_3 0\n",
      "A_3 A_2*A_3 0\n",
      "A_3 A_3**2 0\n",
      "A_3 A_3*A_4 0\n",
      "A_3 A_0*A_4 0\n",
      "A_3 A_1*A_4 0\n",
      "A_3 A_2*A_4 0\n",
      "A_3 A_3*A_4 0\n",
      "A_3 A_4**2 0\n",
      "A_4 1 0\n",
      "A_4 A_0 0\n",
      "A_4 A_1 0\n",
      "A_4 A_2 0\n",
      "A_4 A_3 0\n",
      "A_4 A_4 1.00000000000000\n",
      "A_4 A_0**2 0\n",
      "A_4 A_0*A_1 0\n",
      "A_4 A_0*A_2 0\n",
      "A_4 A_0*A_3 0\n",
      "A_4 A_0*A_4 0\n",
      "A_4 A_0*A_1 0\n",
      "A_4 A_1**2 0\n",
      "A_4 A_1*A_2 0\n",
      "A_4 A_1*A_3 0\n",
      "A_4 A_1*A_4 0\n",
      "A_4 A_0*A_2 0\n",
      "A_4 A_1*A_2 0\n",
      "A_4 A_2**2 0\n",
      "A_4 A_2*A_3 0\n",
      "A_4 A_2*A_4 0\n",
      "A_4 A_0*A_3 0\n",
      "A_4 A_1*A_3 0\n",
      "A_4 A_2*A_3 0\n",
      "A_4 A_3**2 0\n",
      "A_4 A_3*A_4 0\n",
      "A_4 A_0*A_4 0\n",
      "A_4 A_1*A_4 0\n",
      "A_4 A_2*A_4 0\n",
      "A_4 A_3*A_4 0\n",
      "A_4 A_4**2 0\n",
      "A_0**2 1 1.00000000000000\n",
      "A_0**2 A_0 0\n",
      "A_0**2 A_1 0\n",
      "A_0**2 A_2 0\n",
      "A_0**2 A_3 0\n",
      "A_0**2 A_4 0\n",
      "A_0**2 A_0**2 0\n",
      "A_0**2 A_0*A_1 0\n",
      "A_0**2 A_0*A_2 0\n",
      "A_0**2 A_0*A_3 0\n",
      "A_0**2 A_0*A_4 0\n",
      "A_0**2 A_0*A_1 0\n",
      "A_0**2 A_1**2 0\n",
      "A_0**2 A_1*A_2 0\n",
      "A_0**2 A_1*A_3 0\n",
      "A_0**2 A_1*A_4 0\n",
      "A_0**2 A_0*A_2 0\n",
      "A_0**2 A_1*A_2 0\n",
      "A_0**2 A_2**2 0\n",
      "A_0**2 A_2*A_3 0\n",
      "A_0**2 A_2*A_4 0\n",
      "A_0**2 A_0*A_3 0\n",
      "A_0**2 A_1*A_3 0\n",
      "A_0**2 A_2*A_3 0\n",
      "A_0**2 A_3**2 0\n",
      "A_0**2 A_3*A_4 0\n",
      "A_0**2 A_0*A_4 0\n",
      "A_0**2 A_1*A_4 0\n",
      "A_0**2 A_2*A_4 0\n",
      "A_0**2 A_3*A_4 0\n",
      "A_0**2 A_4**2 0\n",
      "A_0*A_1 1 0\n",
      "A_0*A_1 A_0 0\n",
      "A_0*A_1 A_1 0\n",
      "A_0*A_1 A_2 0\n",
      "A_0*A_1 A_3 0\n",
      "A_0*A_1 A_4 0\n",
      "A_0*A_1 A_0**2 0\n",
      "A_0*A_1 A_0*A_1 0\n",
      "A_0*A_1 A_0*A_2 0\n",
      "A_0*A_1 A_0*A_3 0\n",
      "A_0*A_1 A_0*A_4 0\n",
      "A_0*A_1 A_0*A_1 0\n",
      "A_0*A_1 A_1**2 0\n",
      "A_0*A_1 A_1*A_2 0\n",
      "A_0*A_1 A_1*A_3 0\n",
      "A_0*A_1 A_1*A_4 0\n",
      "A_0*A_1 A_0*A_2 0\n",
      "A_0*A_1 A_1*A_2 0\n",
      "A_0*A_1 A_2**2 0\n",
      "A_0*A_1 A_2*A_3 0\n",
      "A_0*A_1 A_2*A_4 0\n",
      "A_0*A_1 A_0*A_3 0\n",
      "A_0*A_1 A_1*A_3 0\n",
      "A_0*A_1 A_2*A_3 0\n",
      "A_0*A_1 A_3**2 0\n",
      "A_0*A_1 A_3*A_4 0\n",
      "A_0*A_1 A_0*A_4 0\n",
      "A_0*A_1 A_1*A_4 0\n",
      "A_0*A_1 A_2*A_4 0\n",
      "A_0*A_1 A_3*A_4 0\n",
      "A_0*A_1 A_4**2 0\n",
      "A_0*A_2 1 0\n",
      "A_0*A_2 A_0 0\n",
      "A_0*A_2 A_1 0\n",
      "A_0*A_2 A_2 0\n",
      "A_0*A_2 A_3 0\n",
      "A_0*A_2 A_4 0\n",
      "A_0*A_2 A_0**2 0\n",
      "A_0*A_2 A_0*A_1 0\n",
      "A_0*A_2 A_0*A_2 0\n",
      "A_0*A_2 A_0*A_3 0\n",
      "A_0*A_2 A_0*A_4 0\n",
      "A_0*A_2 A_0*A_1 0\n",
      "A_0*A_2 A_1**2 0\n",
      "A_0*A_2 A_1*A_2 0\n",
      "A_0*A_2 A_1*A_3 0\n",
      "A_0*A_2 A_1*A_4 0\n",
      "A_0*A_2 A_0*A_2 0\n",
      "A_0*A_2 A_1*A_2 0\n",
      "A_0*A_2 A_2**2 0\n",
      "A_0*A_2 A_2*A_3 0\n",
      "A_0*A_2 A_2*A_4 0\n",
      "A_0*A_2 A_0*A_3 0\n",
      "A_0*A_2 A_1*A_3 0\n",
      "A_0*A_2 A_2*A_3 0\n",
      "A_0*A_2 A_3**2 0\n",
      "A_0*A_2 A_3*A_4 0\n",
      "A_0*A_2 A_0*A_4 0\n",
      "A_0*A_2 A_1*A_4 0\n",
      "A_0*A_2 A_2*A_4 0\n",
      "A_0*A_2 A_3*A_4 0\n",
      "A_0*A_2 A_4**2 0\n",
      "A_0*A_3 1 0\n",
      "A_0*A_3 A_0 0\n",
      "A_0*A_3 A_1 0\n",
      "A_0*A_3 A_2 0\n",
      "A_0*A_3 A_3 0\n",
      "A_0*A_3 A_4 0\n",
      "A_0*A_3 A_0**2 0\n",
      "A_0*A_3 A_0*A_1 0\n",
      "A_0*A_3 A_0*A_2 0\n",
      "A_0*A_3 A_0*A_3 0\n",
      "A_0*A_3 A_0*A_4 0\n",
      "A_0*A_3 A_0*A_1 0\n",
      "A_0*A_3 A_1**2 0\n",
      "A_0*A_3 A_1*A_2 0\n",
      "A_0*A_3 A_1*A_3 0\n",
      "A_0*A_3 A_1*A_4 0\n",
      "A_0*A_3 A_0*A_2 0\n",
      "A_0*A_3 A_1*A_2 0\n",
      "A_0*A_3 A_2**2 0\n",
      "A_0*A_3 A_2*A_3 0\n",
      "A_0*A_3 A_2*A_4 0\n",
      "A_0*A_3 A_0*A_3 0\n",
      "A_0*A_3 A_1*A_3 0\n",
      "A_0*A_3 A_2*A_3 0\n",
      "A_0*A_3 A_3**2 0\n",
      "A_0*A_3 A_3*A_4 0\n",
      "A_0*A_3 A_0*A_4 0\n",
      "A_0*A_3 A_1*A_4 0\n",
      "A_0*A_3 A_2*A_4 0\n",
      "A_0*A_3 A_3*A_4 0\n",
      "A_0*A_3 A_4**2 0\n",
      "A_0*A_4 1 0\n",
      "A_0*A_4 A_0 0\n",
      "A_0*A_4 A_1 0\n",
      "A_0*A_4 A_2 0\n",
      "A_0*A_4 A_3 0\n",
      "A_0*A_4 A_4 0\n",
      "A_0*A_4 A_0**2 0\n",
      "A_0*A_4 A_0*A_1 0\n",
      "A_0*A_4 A_0*A_2 0\n",
      "A_0*A_4 A_0*A_3 0\n",
      "A_0*A_4 A_0*A_4 0\n",
      "A_0*A_4 A_0*A_1 0\n",
      "A_0*A_4 A_1**2 0\n",
      "A_0*A_4 A_1*A_2 0\n",
      "A_0*A_4 A_1*A_3 0\n",
      "A_0*A_4 A_1*A_4 0\n",
      "A_0*A_4 A_0*A_2 0\n",
      "A_0*A_4 A_1*A_2 0\n",
      "A_0*A_4 A_2**2 0\n",
      "A_0*A_4 A_2*A_3 0\n",
      "A_0*A_4 A_2*A_4 0\n",
      "A_0*A_4 A_0*A_3 0\n",
      "A_0*A_4 A_1*A_3 0\n",
      "A_0*A_4 A_2*A_3 0\n",
      "A_0*A_4 A_3**2 0\n",
      "A_0*A_4 A_3*A_4 0\n",
      "A_0*A_4 A_0*A_4 0\n",
      "A_0*A_4 A_1*A_4 0\n",
      "A_0*A_4 A_2*A_4 0\n",
      "A_0*A_4 A_3*A_4 0\n",
      "A_0*A_4 A_4**2 0\n",
      "A_0*A_1 1 0\n",
      "A_0*A_1 A_0 0\n",
      "A_0*A_1 A_1 0\n",
      "A_0*A_1 A_2 0\n",
      "A_0*A_1 A_3 0\n",
      "A_0*A_1 A_4 0\n",
      "A_0*A_1 A_0**2 0\n",
      "A_0*A_1 A_0*A_1 0\n",
      "A_0*A_1 A_0*A_2 0\n",
      "A_0*A_1 A_0*A_3 0\n",
      "A_0*A_1 A_0*A_4 0\n",
      "A_0*A_1 A_0*A_1 0\n",
      "A_0*A_1 A_1**2 0\n",
      "A_0*A_1 A_1*A_2 0\n",
      "A_0*A_1 A_1*A_3 0\n",
      "A_0*A_1 A_1*A_4 0\n",
      "A_0*A_1 A_0*A_2 0\n",
      "A_0*A_1 A_1*A_2 0\n",
      "A_0*A_1 A_2**2 0\n",
      "A_0*A_1 A_2*A_3 0\n",
      "A_0*A_1 A_2*A_4 0\n",
      "A_0*A_1 A_0*A_3 0\n",
      "A_0*A_1 A_1*A_3 0\n",
      "A_0*A_1 A_2*A_3 0\n",
      "A_0*A_1 A_3**2 0\n",
      "A_0*A_1 A_3*A_4 0\n",
      "A_0*A_1 A_0*A_4 0\n",
      "A_0*A_1 A_1*A_4 0\n",
      "A_0*A_1 A_2*A_4 0\n",
      "A_0*A_1 A_3*A_4 0\n",
      "A_0*A_1 A_4**2 0\n",
      "A_1**2 1 1.00000000000000\n",
      "A_1**2 A_0 0\n",
      "A_1**2 A_1 0\n",
      "A_1**2 A_2 0\n",
      "A_1**2 A_3 0\n",
      "A_1**2 A_4 0\n",
      "A_1**2 A_0**2 0\n",
      "A_1**2 A_0*A_1 0\n",
      "A_1**2 A_0*A_2 0\n",
      "A_1**2 A_0*A_3 0\n",
      "A_1**2 A_0*A_4 0\n",
      "A_1**2 A_0*A_1 0\n",
      "A_1**2 A_1**2 0\n",
      "A_1**2 A_1*A_2 0\n",
      "A_1**2 A_1*A_3 0\n",
      "A_1**2 A_1*A_4 0\n",
      "A_1**2 A_0*A_2 0\n",
      "A_1**2 A_1*A_2 0\n",
      "A_1**2 A_2**2 0\n",
      "A_1**2 A_2*A_3 0\n",
      "A_1**2 A_2*A_4 0\n",
      "A_1**2 A_0*A_3 0\n",
      "A_1**2 A_1*A_3 0\n",
      "A_1**2 A_2*A_3 0\n",
      "A_1**2 A_3**2 0\n",
      "A_1**2 A_3*A_4 0\n",
      "A_1**2 A_0*A_4 0\n",
      "A_1**2 A_1*A_4 0\n",
      "A_1**2 A_2*A_4 0\n",
      "A_1**2 A_3*A_4 0\n",
      "A_1**2 A_4**2 0\n",
      "A_1*A_2 1 0\n",
      "A_1*A_2 A_0 0\n",
      "A_1*A_2 A_1 0\n",
      "A_1*A_2 A_2 0\n",
      "A_1*A_2 A_3 0\n",
      "A_1*A_2 A_4 0\n",
      "A_1*A_2 A_0**2 0\n",
      "A_1*A_2 A_0*A_1 0\n",
      "A_1*A_2 A_0*A_2 0\n",
      "A_1*A_2 A_0*A_3 0\n",
      "A_1*A_2 A_0*A_4 0\n",
      "A_1*A_2 A_0*A_1 0\n",
      "A_1*A_2 A_1**2 0\n",
      "A_1*A_2 A_1*A_2 0\n",
      "A_1*A_2 A_1*A_3 0\n",
      "A_1*A_2 A_1*A_4 0\n",
      "A_1*A_2 A_0*A_2 0\n",
      "A_1*A_2 A_1*A_2 0\n",
      "A_1*A_2 A_2**2 0\n",
      "A_1*A_2 A_2*A_3 0\n",
      "A_1*A_2 A_2*A_4 0\n",
      "A_1*A_2 A_0*A_3 0\n",
      "A_1*A_2 A_1*A_3 0\n",
      "A_1*A_2 A_2*A_3 0\n",
      "A_1*A_2 A_3**2 0\n",
      "A_1*A_2 A_3*A_4 0\n",
      "A_1*A_2 A_0*A_4 0\n",
      "A_1*A_2 A_1*A_4 0\n",
      "A_1*A_2 A_2*A_4 0\n",
      "A_1*A_2 A_3*A_4 0\n",
      "A_1*A_2 A_4**2 0\n",
      "A_1*A_3 1 0\n",
      "A_1*A_3 A_0 0\n",
      "A_1*A_3 A_1 0\n",
      "A_1*A_3 A_2 0\n",
      "A_1*A_3 A_3 0\n",
      "A_1*A_3 A_4 0\n",
      "A_1*A_3 A_0**2 0\n",
      "A_1*A_3 A_0*A_1 0\n",
      "A_1*A_3 A_0*A_2 0\n",
      "A_1*A_3 A_0*A_3 0\n",
      "A_1*A_3 A_0*A_4 0\n",
      "A_1*A_3 A_0*A_1 0\n",
      "A_1*A_3 A_1**2 0\n",
      "A_1*A_3 A_1*A_2 0\n",
      "A_1*A_3 A_1*A_3 0\n",
      "A_1*A_3 A_1*A_4 0\n",
      "A_1*A_3 A_0*A_2 0\n",
      "A_1*A_3 A_1*A_2 0\n",
      "A_1*A_3 A_2**2 0\n",
      "A_1*A_3 A_2*A_3 0\n",
      "A_1*A_3 A_2*A_4 0\n",
      "A_1*A_3 A_0*A_3 0\n",
      "A_1*A_3 A_1*A_3 0\n",
      "A_1*A_3 A_2*A_3 0\n",
      "A_1*A_3 A_3**2 0\n",
      "A_1*A_3 A_3*A_4 0\n",
      "A_1*A_3 A_0*A_4 0\n",
      "A_1*A_3 A_1*A_4 0\n",
      "A_1*A_3 A_2*A_4 0\n",
      "A_1*A_3 A_3*A_4 0\n",
      "A_1*A_3 A_4**2 0\n",
      "A_1*A_4 1 0\n",
      "A_1*A_4 A_0 0\n",
      "A_1*A_4 A_1 0\n",
      "A_1*A_4 A_2 0\n",
      "A_1*A_4 A_3 0\n",
      "A_1*A_4 A_4 0\n",
      "A_1*A_4 A_0**2 0\n",
      "A_1*A_4 A_0*A_1 0\n",
      "A_1*A_4 A_0*A_2 0\n",
      "A_1*A_4 A_0*A_3 0\n",
      "A_1*A_4 A_0*A_4 0\n",
      "A_1*A_4 A_0*A_1 0\n",
      "A_1*A_4 A_1**2 0\n",
      "A_1*A_4 A_1*A_2 0\n",
      "A_1*A_4 A_1*A_3 0\n",
      "A_1*A_4 A_1*A_4 0\n",
      "A_1*A_4 A_0*A_2 0\n",
      "A_1*A_4 A_1*A_2 0\n",
      "A_1*A_4 A_2**2 0\n",
      "A_1*A_4 A_2*A_3 0\n",
      "A_1*A_4 A_2*A_4 0\n",
      "A_1*A_4 A_0*A_3 0\n",
      "A_1*A_4 A_1*A_3 0\n",
      "A_1*A_4 A_2*A_3 0\n",
      "A_1*A_4 A_3**2 0\n",
      "A_1*A_4 A_3*A_4 0\n",
      "A_1*A_4 A_0*A_4 0\n",
      "A_1*A_4 A_1*A_4 0\n",
      "A_1*A_4 A_2*A_4 0\n",
      "A_1*A_4 A_3*A_4 0\n",
      "A_1*A_4 A_4**2 0\n",
      "A_0*A_2 1 0\n",
      "A_0*A_2 A_0 0\n",
      "A_0*A_2 A_1 0\n",
      "A_0*A_2 A_2 0\n",
      "A_0*A_2 A_3 0\n",
      "A_0*A_2 A_4 0\n",
      "A_0*A_2 A_0**2 0\n",
      "A_0*A_2 A_0*A_1 0\n",
      "A_0*A_2 A_0*A_2 0\n",
      "A_0*A_2 A_0*A_3 0\n",
      "A_0*A_2 A_0*A_4 0\n",
      "A_0*A_2 A_0*A_1 0\n",
      "A_0*A_2 A_1**2 0\n",
      "A_0*A_2 A_1*A_2 0\n",
      "A_0*A_2 A_1*A_3 0\n",
      "A_0*A_2 A_1*A_4 0\n",
      "A_0*A_2 A_0*A_2 0\n",
      "A_0*A_2 A_1*A_2 0\n",
      "A_0*A_2 A_2**2 0\n",
      "A_0*A_2 A_2*A_3 0\n",
      "A_0*A_2 A_2*A_4 0\n",
      "A_0*A_2 A_0*A_3 0\n",
      "A_0*A_2 A_1*A_3 0\n",
      "A_0*A_2 A_2*A_3 0\n",
      "A_0*A_2 A_3**2 0\n",
      "A_0*A_2 A_3*A_4 0\n",
      "A_0*A_2 A_0*A_4 0\n",
      "A_0*A_2 A_1*A_4 0\n",
      "A_0*A_2 A_2*A_4 0\n",
      "A_0*A_2 A_3*A_4 0\n",
      "A_0*A_2 A_4**2 0\n",
      "A_1*A_2 1 0\n",
      "A_1*A_2 A_0 0\n",
      "A_1*A_2 A_1 0\n",
      "A_1*A_2 A_2 0\n",
      "A_1*A_2 A_3 0\n",
      "A_1*A_2 A_4 0\n",
      "A_1*A_2 A_0**2 0\n",
      "A_1*A_2 A_0*A_1 0\n",
      "A_1*A_2 A_0*A_2 0\n",
      "A_1*A_2 A_0*A_3 0\n",
      "A_1*A_2 A_0*A_4 0\n",
      "A_1*A_2 A_0*A_1 0\n",
      "A_1*A_2 A_1**2 0\n",
      "A_1*A_2 A_1*A_2 0\n",
      "A_1*A_2 A_1*A_3 0\n",
      "A_1*A_2 A_1*A_4 0\n",
      "A_1*A_2 A_0*A_2 0\n",
      "A_1*A_2 A_1*A_2 0\n",
      "A_1*A_2 A_2**2 0\n",
      "A_1*A_2 A_2*A_3 0\n",
      "A_1*A_2 A_2*A_4 0\n",
      "A_1*A_2 A_0*A_3 0\n",
      "A_1*A_2 A_1*A_3 0\n",
      "A_1*A_2 A_2*A_3 0\n",
      "A_1*A_2 A_3**2 0\n",
      "A_1*A_2 A_3*A_4 0\n",
      "A_1*A_2 A_0*A_4 0\n",
      "A_1*A_2 A_1*A_4 0\n",
      "A_1*A_2 A_2*A_4 0\n",
      "A_1*A_2 A_3*A_4 0\n",
      "A_1*A_2 A_4**2 0\n",
      "A_2**2 1 1.00000000000000\n",
      "A_2**2 A_0 0\n",
      "A_2**2 A_1 0\n",
      "A_2**2 A_2 0\n",
      "A_2**2 A_3 0\n",
      "A_2**2 A_4 0\n",
      "A_2**2 A_0**2 0\n",
      "A_2**2 A_0*A_1 0\n",
      "A_2**2 A_0*A_2 0\n",
      "A_2**2 A_0*A_3 0\n",
      "A_2**2 A_0*A_4 0\n",
      "A_2**2 A_0*A_1 0\n",
      "A_2**2 A_1**2 0\n",
      "A_2**2 A_1*A_2 0\n",
      "A_2**2 A_1*A_3 0\n",
      "A_2**2 A_1*A_4 0\n",
      "A_2**2 A_0*A_2 0\n",
      "A_2**2 A_1*A_2 0\n",
      "A_2**2 A_2**2 0\n",
      "A_2**2 A_2*A_3 0\n",
      "A_2**2 A_2*A_4 0\n",
      "A_2**2 A_0*A_3 0\n",
      "A_2**2 A_1*A_3 0\n",
      "A_2**2 A_2*A_3 0\n",
      "A_2**2 A_3**2 0\n",
      "A_2**2 A_3*A_4 0\n",
      "A_2**2 A_0*A_4 0\n",
      "A_2**2 A_1*A_4 0\n",
      "A_2**2 A_2*A_4 0\n",
      "A_2**2 A_3*A_4 0\n",
      "A_2**2 A_4**2 0\n",
      "A_2*A_3 1 0\n",
      "A_2*A_3 A_0 0\n",
      "A_2*A_3 A_1 0\n",
      "A_2*A_3 A_2 0\n",
      "A_2*A_3 A_3 0\n",
      "A_2*A_3 A_4 0\n",
      "A_2*A_3 A_0**2 0\n",
      "A_2*A_3 A_0*A_1 0\n",
      "A_2*A_3 A_0*A_2 0\n",
      "A_2*A_3 A_0*A_3 0\n",
      "A_2*A_3 A_0*A_4 0\n",
      "A_2*A_3 A_0*A_1 0\n",
      "A_2*A_3 A_1**2 0\n",
      "A_2*A_3 A_1*A_2 0\n",
      "A_2*A_3 A_1*A_3 0\n",
      "A_2*A_3 A_1*A_4 0\n",
      "A_2*A_3 A_0*A_2 0\n",
      "A_2*A_3 A_1*A_2 0\n",
      "A_2*A_3 A_2**2 0\n",
      "A_2*A_3 A_2*A_3 0\n"
     ]
    },
    {
     "name": "stdout",
     "output_type": "stream",
     "text": [
      "A_2*A_3 A_2*A_4 0\n",
      "A_2*A_3 A_0*A_3 0\n",
      "A_2*A_3 A_1*A_3 0\n",
      "A_2*A_3 A_2*A_3 0\n",
      "A_2*A_3 A_3**2 0\n",
      "A_2*A_3 A_3*A_4 0\n",
      "A_2*A_3 A_0*A_4 0\n",
      "A_2*A_3 A_1*A_4 0\n",
      "A_2*A_3 A_2*A_4 0\n",
      "A_2*A_3 A_3*A_4 0\n",
      "A_2*A_3 A_4**2 0\n",
      "A_2*A_4 1 0\n",
      "A_2*A_4 A_0 0\n",
      "A_2*A_4 A_1 0\n",
      "A_2*A_4 A_2 0\n",
      "A_2*A_4 A_3 0\n",
      "A_2*A_4 A_4 0\n",
      "A_2*A_4 A_0**2 0\n",
      "A_2*A_4 A_0*A_1 0\n",
      "A_2*A_4 A_0*A_2 0\n",
      "A_2*A_4 A_0*A_3 0\n",
      "A_2*A_4 A_0*A_4 0\n",
      "A_2*A_4 A_0*A_1 0\n",
      "A_2*A_4 A_1**2 0\n",
      "A_2*A_4 A_1*A_2 0\n",
      "A_2*A_4 A_1*A_3 0\n",
      "A_2*A_4 A_1*A_4 0\n",
      "A_2*A_4 A_0*A_2 0\n",
      "A_2*A_4 A_1*A_2 0\n",
      "A_2*A_4 A_2**2 0\n",
      "A_2*A_4 A_2*A_3 0\n",
      "A_2*A_4 A_2*A_4 0\n",
      "A_2*A_4 A_0*A_3 0\n",
      "A_2*A_4 A_1*A_3 0\n",
      "A_2*A_4 A_2*A_3 0\n",
      "A_2*A_4 A_3**2 0\n",
      "A_2*A_4 A_3*A_4 0\n",
      "A_2*A_4 A_0*A_4 0\n",
      "A_2*A_4 A_1*A_4 0\n",
      "A_2*A_4 A_2*A_4 0\n",
      "A_2*A_4 A_3*A_4 0\n",
      "A_2*A_4 A_4**2 0\n",
      "A_0*A_3 1 0\n",
      "A_0*A_3 A_0 0\n",
      "A_0*A_3 A_1 0\n",
      "A_0*A_3 A_2 0\n",
      "A_0*A_3 A_3 0\n",
      "A_0*A_3 A_4 0\n",
      "A_0*A_3 A_0**2 0\n",
      "A_0*A_3 A_0*A_1 0\n",
      "A_0*A_3 A_0*A_2 0\n",
      "A_0*A_3 A_0*A_3 0\n",
      "A_0*A_3 A_0*A_4 0\n",
      "A_0*A_3 A_0*A_1 0\n",
      "A_0*A_3 A_1**2 0\n",
      "A_0*A_3 A_1*A_2 0\n",
      "A_0*A_3 A_1*A_3 0\n",
      "A_0*A_3 A_1*A_4 0\n",
      "A_0*A_3 A_0*A_2 0\n",
      "A_0*A_3 A_1*A_2 0\n",
      "A_0*A_3 A_2**2 0\n",
      "A_0*A_3 A_2*A_3 0\n",
      "A_0*A_3 A_2*A_4 0\n",
      "A_0*A_3 A_0*A_3 0\n",
      "A_0*A_3 A_1*A_3 0\n",
      "A_0*A_3 A_2*A_3 0\n",
      "A_0*A_3 A_3**2 0\n",
      "A_0*A_3 A_3*A_4 0\n",
      "A_0*A_3 A_0*A_4 0\n",
      "A_0*A_3 A_1*A_4 0\n",
      "A_0*A_3 A_2*A_4 0\n",
      "A_0*A_3 A_3*A_4 0\n",
      "A_0*A_3 A_4**2 0\n",
      "A_1*A_3 1 0\n",
      "A_1*A_3 A_0 0\n",
      "A_1*A_3 A_1 0\n",
      "A_1*A_3 A_2 0\n",
      "A_1*A_3 A_3 0\n",
      "A_1*A_3 A_4 0\n",
      "A_1*A_3 A_0**2 0\n",
      "A_1*A_3 A_0*A_1 0\n",
      "A_1*A_3 A_0*A_2 0\n",
      "A_1*A_3 A_0*A_3 0\n",
      "A_1*A_3 A_0*A_4 0\n",
      "A_1*A_3 A_0*A_1 0\n",
      "A_1*A_3 A_1**2 0\n",
      "A_1*A_3 A_1*A_2 0\n",
      "A_1*A_3 A_1*A_3 0\n",
      "A_1*A_3 A_1*A_4 0\n",
      "A_1*A_3 A_0*A_2 0\n",
      "A_1*A_3 A_1*A_2 0\n",
      "A_1*A_3 A_2**2 0\n",
      "A_1*A_3 A_2*A_3 0\n",
      "A_1*A_3 A_2*A_4 0\n",
      "A_1*A_3 A_0*A_3 0\n",
      "A_1*A_3 A_1*A_3 0\n",
      "A_1*A_3 A_2*A_3 0\n",
      "A_1*A_3 A_3**2 0\n",
      "A_1*A_3 A_3*A_4 0\n",
      "A_1*A_3 A_0*A_4 0\n",
      "A_1*A_3 A_1*A_4 0\n",
      "A_1*A_3 A_2*A_4 0\n",
      "A_1*A_3 A_3*A_4 0\n",
      "A_1*A_3 A_4**2 0\n",
      "A_2*A_3 1 0\n",
      "A_2*A_3 A_0 0\n",
      "A_2*A_3 A_1 0\n",
      "A_2*A_3 A_2 0\n",
      "A_2*A_3 A_3 0\n",
      "A_2*A_3 A_4 0\n",
      "A_2*A_3 A_0**2 0\n",
      "A_2*A_3 A_0*A_1 0\n",
      "A_2*A_3 A_0*A_2 0\n",
      "A_2*A_3 A_0*A_3 0\n",
      "A_2*A_3 A_0*A_4 0\n",
      "A_2*A_3 A_0*A_1 0\n",
      "A_2*A_3 A_1**2 0\n",
      "A_2*A_3 A_1*A_2 0\n",
      "A_2*A_3 A_1*A_3 0\n",
      "A_2*A_3 A_1*A_4 0\n",
      "A_2*A_3 A_0*A_2 0\n",
      "A_2*A_3 A_1*A_2 0\n",
      "A_2*A_3 A_2**2 0\n",
      "A_2*A_3 A_2*A_3 0\n",
      "A_2*A_3 A_2*A_4 0\n",
      "A_2*A_3 A_0*A_3 0\n",
      "A_2*A_3 A_1*A_3 0\n",
      "A_2*A_3 A_2*A_3 0\n",
      "A_2*A_3 A_3**2 0\n",
      "A_2*A_3 A_3*A_4 0\n",
      "A_2*A_3 A_0*A_4 0\n",
      "A_2*A_3 A_1*A_4 0\n",
      "A_2*A_3 A_2*A_4 0\n",
      "A_2*A_3 A_3*A_4 0\n",
      "A_2*A_3 A_4**2 0\n",
      "A_3**2 1 1.00000000000000\n",
      "A_3**2 A_0 0\n",
      "A_3**2 A_1 0\n",
      "A_3**2 A_2 0\n",
      "A_3**2 A_3 0\n",
      "A_3**2 A_4 0\n",
      "A_3**2 A_0**2 0\n",
      "A_3**2 A_0*A_1 0\n",
      "A_3**2 A_0*A_2 0\n",
      "A_3**2 A_0*A_3 0\n",
      "A_3**2 A_0*A_4 0\n",
      "A_3**2 A_0*A_1 0\n",
      "A_3**2 A_1**2 0\n",
      "A_3**2 A_1*A_2 0\n",
      "A_3**2 A_1*A_3 0\n",
      "A_3**2 A_1*A_4 0\n",
      "A_3**2 A_0*A_2 0\n",
      "A_3**2 A_1*A_2 0\n",
      "A_3**2 A_2**2 0\n",
      "A_3**2 A_2*A_3 0\n",
      "A_3**2 A_2*A_4 0\n",
      "A_3**2 A_0*A_3 0\n",
      "A_3**2 A_1*A_3 0\n",
      "A_3**2 A_2*A_3 0\n",
      "A_3**2 A_3**2 0\n",
      "A_3**2 A_3*A_4 0\n",
      "A_3**2 A_0*A_4 0\n",
      "A_3**2 A_1*A_4 0\n",
      "A_3**2 A_2*A_4 0\n",
      "A_3**2 A_3*A_4 0\n",
      "A_3**2 A_4**2 0\n",
      "A_3*A_4 1 0\n",
      "A_3*A_4 A_0 0\n",
      "A_3*A_4 A_1 0\n",
      "A_3*A_4 A_2 0\n",
      "A_3*A_4 A_3 0\n",
      "A_3*A_4 A_4 0\n",
      "A_3*A_4 A_0**2 0\n",
      "A_3*A_4 A_0*A_1 0\n",
      "A_3*A_4 A_0*A_2 0\n",
      "A_3*A_4 A_0*A_3 0\n",
      "A_3*A_4 A_0*A_4 0\n",
      "A_3*A_4 A_0*A_1 0\n",
      "A_3*A_4 A_1**2 0\n",
      "A_3*A_4 A_1*A_2 0\n",
      "A_3*A_4 A_1*A_3 0\n",
      "A_3*A_4 A_1*A_4 0\n",
      "A_3*A_4 A_0*A_2 0\n",
      "A_3*A_4 A_1*A_2 0\n",
      "A_3*A_4 A_2**2 0\n",
      "A_3*A_4 A_2*A_3 0\n",
      "A_3*A_4 A_2*A_4 0\n",
      "A_3*A_4 A_0*A_3 0\n",
      "A_3*A_4 A_1*A_3 0\n",
      "A_3*A_4 A_2*A_3 0\n",
      "A_3*A_4 A_3**2 0\n",
      "A_3*A_4 A_3*A_4 0\n",
      "A_3*A_4 A_0*A_4 0\n",
      "A_3*A_4 A_1*A_4 0\n",
      "A_3*A_4 A_2*A_4 0\n",
      "A_3*A_4 A_3*A_4 0\n",
      "A_3*A_4 A_4**2 0\n",
      "A_0*A_4 1 0\n",
      "A_0*A_4 A_0 0\n",
      "A_0*A_4 A_1 0\n",
      "A_0*A_4 A_2 0\n",
      "A_0*A_4 A_3 0\n",
      "A_0*A_4 A_4 0\n",
      "A_0*A_4 A_0**2 0\n",
      "A_0*A_4 A_0*A_1 0\n",
      "A_0*A_4 A_0*A_2 0\n",
      "A_0*A_4 A_0*A_3 0\n",
      "A_0*A_4 A_0*A_4 0\n",
      "A_0*A_4 A_0*A_1 0\n",
      "A_0*A_4 A_1**2 0\n",
      "A_0*A_4 A_1*A_2 0\n",
      "A_0*A_4 A_1*A_3 0\n",
      "A_0*A_4 A_1*A_4 0\n",
      "A_0*A_4 A_0*A_2 0\n",
      "A_0*A_4 A_1*A_2 0\n",
      "A_0*A_4 A_2**2 0\n",
      "A_0*A_4 A_2*A_3 0\n",
      "A_0*A_4 A_2*A_4 0\n",
      "A_0*A_4 A_0*A_3 0\n",
      "A_0*A_4 A_1*A_3 0\n",
      "A_0*A_4 A_2*A_3 0\n",
      "A_0*A_4 A_3**2 0\n",
      "A_0*A_4 A_3*A_4 0\n",
      "A_0*A_4 A_0*A_4 0\n",
      "A_0*A_4 A_1*A_4 0\n",
      "A_0*A_4 A_2*A_4 0\n",
      "A_0*A_4 A_3*A_4 0\n",
      "A_0*A_4 A_4**2 0\n",
      "A_1*A_4 1 0\n",
      "A_1*A_4 A_0 0\n",
      "A_1*A_4 A_1 0\n",
      "A_1*A_4 A_2 0\n",
      "A_1*A_4 A_3 0\n",
      "A_1*A_4 A_4 0\n",
      "A_1*A_4 A_0**2 0\n",
      "A_1*A_4 A_0*A_1 0\n",
      "A_1*A_4 A_0*A_2 0\n",
      "A_1*A_4 A_0*A_3 0\n",
      "A_1*A_4 A_0*A_4 0\n",
      "A_1*A_4 A_0*A_1 0\n",
      "A_1*A_4 A_1**2 0\n",
      "A_1*A_4 A_1*A_2 0\n",
      "A_1*A_4 A_1*A_3 0\n",
      "A_1*A_4 A_1*A_4 0\n",
      "A_1*A_4 A_0*A_2 0\n",
      "A_1*A_4 A_1*A_2 0\n",
      "A_1*A_4 A_2**2 0\n",
      "A_1*A_4 A_2*A_3 0\n",
      "A_1*A_4 A_2*A_4 0\n",
      "A_1*A_4 A_0*A_3 0\n",
      "A_1*A_4 A_1*A_3 0\n",
      "A_1*A_4 A_2*A_3 0\n",
      "A_1*A_4 A_3**2 0\n",
      "A_1*A_4 A_3*A_4 0\n",
      "A_1*A_4 A_0*A_4 0\n",
      "A_1*A_4 A_1*A_4 0\n",
      "A_1*A_4 A_2*A_4 0\n",
      "A_1*A_4 A_3*A_4 0\n",
      "A_1*A_4 A_4**2 0\n",
      "A_2*A_4 1 0\n",
      "A_2*A_4 A_0 0\n",
      "A_2*A_4 A_1 0\n",
      "A_2*A_4 A_2 0\n",
      "A_2*A_4 A_3 0\n",
      "A_2*A_4 A_4 0\n",
      "A_2*A_4 A_0**2 0\n",
      "A_2*A_4 A_0*A_1 0\n",
      "A_2*A_4 A_0*A_2 0\n",
      "A_2*A_4 A_0*A_3 0\n",
      "A_2*A_4 A_0*A_4 0\n",
      "A_2*A_4 A_0*A_1 0\n",
      "A_2*A_4 A_1**2 0\n",
      "A_2*A_4 A_1*A_2 0\n",
      "A_2*A_4 A_1*A_3 0\n",
      "A_2*A_4 A_1*A_4 0\n",
      "A_2*A_4 A_0*A_2 0\n",
      "A_2*A_4 A_1*A_2 0\n",
      "A_2*A_4 A_2**2 0\n",
      "A_2*A_4 A_2*A_3 0\n",
      "A_2*A_4 A_2*A_4 0\n",
      "A_2*A_4 A_0*A_3 0\n",
      "A_2*A_4 A_1*A_3 0\n",
      "A_2*A_4 A_2*A_3 0\n",
      "A_2*A_4 A_3**2 0\n",
      "A_2*A_4 A_3*A_4 0\n",
      "A_2*A_4 A_0*A_4 0\n",
      "A_2*A_4 A_1*A_4 0\n",
      "A_2*A_4 A_2*A_4 0\n",
      "A_2*A_4 A_3*A_4 0\n",
      "A_2*A_4 A_4**2 0\n",
      "A_3*A_4 1 0\n",
      "A_3*A_4 A_0 0\n",
      "A_3*A_4 A_1 0\n",
      "A_3*A_4 A_2 0\n",
      "A_3*A_4 A_3 0\n",
      "A_3*A_4 A_4 0\n",
      "A_3*A_4 A_0**2 0\n",
      "A_3*A_4 A_0*A_1 0\n",
      "A_3*A_4 A_0*A_2 0\n",
      "A_3*A_4 A_0*A_3 0\n",
      "A_3*A_4 A_0*A_4 0\n",
      "A_3*A_4 A_0*A_1 0\n",
      "A_3*A_4 A_1**2 0\n",
      "A_3*A_4 A_1*A_2 0\n",
      "A_3*A_4 A_1*A_3 0\n",
      "A_3*A_4 A_1*A_4 0\n",
      "A_3*A_4 A_0*A_2 0\n",
      "A_3*A_4 A_1*A_2 0\n",
      "A_3*A_4 A_2**2 0\n",
      "A_3*A_4 A_2*A_3 0\n",
      "A_3*A_4 A_2*A_4 0\n",
      "A_3*A_4 A_0*A_3 0\n",
      "A_3*A_4 A_1*A_3 0\n",
      "A_3*A_4 A_2*A_3 0\n",
      "A_3*A_4 A_3**2 0\n",
      "A_3*A_4 A_3*A_4 0\n",
      "A_3*A_4 A_0*A_4 0\n",
      "A_3*A_4 A_1*A_4 0\n",
      "A_3*A_4 A_2*A_4 0\n",
      "A_3*A_4 A_3*A_4 0\n",
      "A_3*A_4 A_4**2 0\n",
      "A_4**2 1 1.00000000000000\n",
      "A_4**2 A_0 0\n",
      "A_4**2 A_1 0\n",
      "A_4**2 A_2 0\n",
      "A_4**2 A_3 0\n",
      "A_4**2 A_4 0\n",
      "A_4**2 A_0**2 0\n",
      "A_4**2 A_0*A_1 0\n",
      "A_4**2 A_0*A_2 0\n",
      "A_4**2 A_0*A_3 0\n",
      "A_4**2 A_0*A_4 0\n",
      "A_4**2 A_0*A_1 0\n",
      "A_4**2 A_1**2 0\n",
      "A_4**2 A_1*A_2 0\n",
      "A_4**2 A_1*A_3 0\n",
      "A_4**2 A_1*A_4 0\n",
      "A_4**2 A_0*A_2 0\n",
      "A_4**2 A_1*A_2 0\n",
      "A_4**2 A_2**2 0\n",
      "A_4**2 A_2*A_3 0\n",
      "A_4**2 A_2*A_4 0\n",
      "A_4**2 A_0*A_3 0\n",
      "A_4**2 A_1*A_3 0\n",
      "A_4**2 A_2*A_3 0\n",
      "A_4**2 A_3**2 0\n",
      "A_4**2 A_3*A_4 0\n",
      "A_4**2 A_0*A_4 0\n",
      "A_4**2 A_1*A_4 0\n",
      "A_4**2 A_2*A_4 0\n",
      "A_4**2 A_3*A_4 0\n",
      "A_4**2 A_4**2 0\n"
     ]
    },
    {
     "data": {
      "text/latex": [
       "$$inf$$"
      ],
      "text/plain": [
       "inf"
      ]
     },
     "execution_count": 45,
     "metadata": {},
     "output_type": "execute_result"
    }
   ],
   "source": [
    "#L is the alphabet, to wit: it is the list of letters\n",
    "#\n",
    "X = cp.Variable((len(L),len(L)),symmetric=True)\n",
    "\n",
    "lI = I[0]\n",
    "\n",
    "#>> is for matrix inequality\n",
    "constraints = [X >> 0,X[sTi[lI],sTi[lI]]==1]\n",
    "\n",
    "#objective\n",
    "#y = objective.subs({A[0]:X[sTi[A[0]]],A[1]:X[sTi[A[1]]]})\n",
    "#y = objective.subs({A[0]:sTi[A[0]],A[1]:sTi[A[1]]})\n",
    "\n",
    "\n",
    "# objective function evaluated (loop over product of all letters)\n",
    "y = 0\n",
    "# print(L)\n",
    "for l1 in L:\n",
    "    for l2 in L:\n",
    "        if l1 != lI or l2 != lI:\n",
    "            eX = X[sTi[l1]][sTi[l2]] #picks the corresponding element from the variable matrix of the SDP library\n",
    "\n",
    "            coeff = sp.N(objective.collect(l1*l2).coeff(l1*l2)) #evaluates the coff of l1*l2 in the objective\n",
    "            print(l1,l2,coeff)\n",
    "            y += coeff*eX\n",
    "\n",
    "        \n",
    "\n",
    "#Constraints from the graph (these come from single letters)        \n",
    "for l1 in L1:\n",
    "    for l2 in L1:\n",
    "        eX = X[sTi[l1]][sTi[l2]] #picks the corresponding element from the variable matrix of the SDP library\n",
    "        if l1 in G[l2]:\n",
    "            constraints += [eX == 0]\n",
    "        \n",
    "        #print(coeff,sTi[l1])\n",
    "        #display(l1)\n",
    "\n",
    "#constraints from the fact that Π^2=Π\n",
    "for l in L1:\n",
    "    constraints += [ X[sTi[lI]][sTi[l]] == X[sTi[l]][sTi[l]] ]\n",
    "    #constraints to match with experiment\n",
    "    \n",
    "# display(y)\n",
    "\n",
    "# display(objective.args[0])\n",
    "# display(objective.args[1])\n",
    "\n",
    "prob = cp.Problem(cp.Maximize(y),constraints)\n",
    "prob.solve()"
   ]
  },
  {
   "cell_type": "markdown",
   "metadata": {},
   "source": [
    "# Working"
   ]
  },
  {
   "cell_type": "markdown",
   "metadata": {
    "heading_collapsed": true
   },
   "source": [
    "## Inputs"
   ]
  },
  {
   "cell_type": "code",
   "execution_count": null,
   "metadata": {
    "hidden": true
   },
   "outputs": [],
   "source": []
  }
 ],
 "metadata": {
  "kernelspec": {
   "display_name": "Python 3",
   "language": "python",
   "name": "python3"
  },
  "language_info": {
   "codemirror_mode": {
    "name": "ipython",
    "version": 3
   },
   "file_extension": ".py",
   "mimetype": "text/x-python",
   "name": "python",
   "nbconvert_exporter": "python",
   "pygments_lexer": "ipython3",
   "version": "3.6.7"
  },
  "toc": {
   "base_numbering": 1,
   "nav_menu": {},
   "number_sections": true,
   "sideBar": true,
   "skip_h1_title": false,
   "title_cell": "Table of Contents",
   "title_sidebar": "Contents",
   "toc_cell": false,
   "toc_position": {
    "height": "711.818px",
    "left": "588px",
    "top": "469.284px",
    "width": "336.903px"
   },
   "toc_section_display": true,
   "toc_window_display": true
  }
 },
 "nbformat": 4,
 "nbformat_minor": 2
}
